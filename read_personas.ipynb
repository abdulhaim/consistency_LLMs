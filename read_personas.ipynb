{
 "cells": [
  {
   "cell_type": "code",
   "execution_count": null,
   "id": "d61c4de6",
   "metadata": {},
   "outputs": [],
   "source": [
    "import pickle\n",
    "import pandas as pd\n",
    "\n",
    "file_path = \"data/anthology/Meta-Llama-3-70B_demographics_survey+political_affiliation_batch_1+2+3_no_word_cutoff.pkl\"\n",
    "\n",
    "try:\n",
    "    with open(file_path, \"rb\") as f:\n",
    "        df = pd.read_pickle(file_path)\n",
    "except (EOFError, pickle.UnpicklingError) as e:\n",
    "    print(\"Error loading pickle file:\", e)"
   ]
  },
  {
   "cell_type": "code",
   "execution_count": 146,
   "id": "a5365ec7-2ac6-489d-8a64-7b33ddc50d3b",
   "metadata": {},
   "outputs": [
    {
     "name": "stdout",
     "output_type": "stream",
     "text": [
      "Index(['age_category_4_count_noncompliant',\n",
      "       'age_category_4_is_llm_parsing_result',\n",
      "       'age_category_4_is_survey_result',\n",
      "       'age_category_4_llm_parsing_parsed_choice',\n",
      "       'age_category_4_llm_parsing_prompt',\n",
      "       'age_category_4_llm_parsing_question',\n",
      "       'age_category_4_llm_parsing_response',\n",
      "       'age_category_4_response_distribution', 'age_category_4_response_texts',\n",
      "       'age_category_4_survey_choices', 'age_category_4_survey_prompt',\n",
      "       'age_category_4_survey_question', 'education_level_count_noncompliant',\n",
      "       'education_level_is_llm_parsing_result',\n",
      "       'education_level_is_survey_result',\n",
      "       'education_level_llm_parsing_parsed_choice',\n",
      "       'education_level_llm_parsing_prompt',\n",
      "       'education_level_llm_parsing_question',\n",
      "       'education_level_llm_parsing_response',\n",
      "       'education_level_response_distribution',\n",
      "       'education_level_response_texts', 'education_level_survey_choices',\n",
      "       'education_level_survey_prompt', 'education_level_survey_question',\n",
      "       'gender_count_noncompliant', 'gender_is_llm_parsing_result',\n",
      "       'gender_is_survey_result', 'gender_llm_parsing_parsed_choice',\n",
      "       'gender_llm_parsing_prompt', 'gender_llm_parsing_question',\n",
      "       'gender_llm_parsing_response', 'gender_response_distribution',\n",
      "       'gender_response_texts', 'gender_survey_choices',\n",
      "       'gender_survey_prompt', 'gender_survey_question',\n",
      "       'income_level_category_13_count_noncompliant',\n",
      "       'income_level_category_13_is_llm_parsing_result',\n",
      "       'income_level_category_13_is_survey_result',\n",
      "       'income_level_category_13_llm_parsing_parsed_choice',\n",
      "       'income_level_category_13_llm_parsing_prompt',\n",
      "       'income_level_category_13_llm_parsing_question',\n",
      "       'income_level_category_13_llm_parsing_response',\n",
      "       'income_level_category_13_response_distribution',\n",
      "       'income_level_category_13_response_texts',\n",
      "       'income_level_category_13_survey_choices',\n",
      "       'income_level_category_13_survey_prompt',\n",
      "       'income_level_category_13_survey_question', 'race_count_noncompliant',\n",
      "       'race_is_llm_parsing_result', 'race_is_survey_result',\n",
      "       'race_llm_parsing_parsed_choice', 'race_llm_parsing_prompt',\n",
      "       'race_llm_parsing_question', 'race_llm_parsing_response',\n",
      "       'race_response_distribution', 'race_response_texts',\n",
      "       'race_survey_choices', 'race_survey_prompt', 'race_survey_question',\n",
      "       'region_response_distribution', 'backstory',\n",
      "       'religion_count_noncompliant', 'religion_response_texts',\n",
      "       'region_response_texts', 'region_llm_parsing_response',\n",
      "       'religion_llm_parsing_question', 'region_count_noncompliant',\n",
      "       'religion_survey_prompt', 'region_llm_parsing_parsed_choice',\n",
      "       'region_llm_parsing_prompt', 'region_survey_choices', 'model_name',\n",
      "       'top_p', 'region_is_llm_parsing_result', 'region_survey_prompt',\n",
      "       'religion_survey_choices', 'religion_response_distribution',\n",
      "       'region_is_survey_result', 'religion_survey_question',\n",
      "       'region_survey_question', 'religion_llm_parsing_parsed_choice',\n",
      "       'religion_is_llm_parsing_result', 'religion_is_survey_result',\n",
      "       'religion_llm_parsing_response', 'region_llm_parsing_question',\n",
      "       'religion_llm_parsing_prompt', 'temperature', 'special_prompt',\n",
      "       'max_tokens', 'uid', 'model', 'political_affiliation_question',\n",
      "       'political_affiliation_choices', 'political_affiliation_prompt',\n",
      "       'political_affiliation_option_order',\n",
      "       'political_affiliation_response_texts',\n",
      "       'political_affiliation_response_distribution', 'word_count'],\n",
      "      dtype='object')\n"
     ]
    }
   ],
   "source": [
    "print(df.keys())"
   ]
  },
  {
   "cell_type": "code",
   "execution_count": 147,
   "id": "49ae0995-74d9-4950-9138-1f3759f44d13",
   "metadata": {},
   "outputs": [],
   "source": [
    "# for column in df.columns:\n",
    "#     print(f\"Value counts for column '{column}':\")\n",
    "#     print(df[column].value_counts())\n",
    "#     print(\"\\n\" + \"-\"*50 + \"\\n\")"
   ]
  },
  {
   "cell_type": "code",
   "execution_count": 148,
   "id": "1ee62c9e-094a-4586-b999-06972808311f",
   "metadata": {},
   "outputs": [],
   "source": [
    "import re\n",
    "\n",
    "def count_sentences(paragraph):\n",
    "    # Split sentences using punctuation (., !, ?) as well as commas\n",
    "    sentences = re.split(r'[.!?]', paragraph)  # Split by sentence-ending punctuation\n",
    "    return len(sentences)"
   ]
  },
  {
   "cell_type": "code",
   "execution_count": 166,
   "id": "5e51fdc8-a824-4d4c-99d8-07a45257213c",
   "metadata": {},
   "outputs": [],
   "source": [
    "personas = []\n",
    "\n",
    "# The target phrase\n",
    "target_phrase_start = \"Answer:\"\n",
    "target_phrase_end = \"Question:\"\n",
    "\n",
    "for text in df[\"age_category_4_llm_parsing_prompt\"]:\n",
    "    # Find the start index of the target phrase and extract text after it\n",
    "    start_index = text.find(target_phrase_start) \n",
    "    stop_index = text.find(target_phrase_end, start_index) \n",
    "    persona = text[start_index+len(target_phrase_start)+1:stop_index]\n",
    "    count = count_sentences(persona)\n",
    "    if count > 20:\n",
    "        personas.append({\"persona\": persona, \"len\": count})"
   ]
  },
  {
   "cell_type": "code",
   "execution_count": 167,
   "id": "8727e389-7fa8-406a-941b-497b129f2290",
   "metadata": {},
   "outputs": [
    {
     "data": {
      "text/plain": [
       "4895"
      ]
     },
     "execution_count": 167,
     "metadata": {},
     "output_type": "execute_result"
    }
   ],
   "source": [
    "len(personas)"
   ]
  },
  {
   "cell_type": "code",
   "execution_count": 190,
   "id": "083cfba7-548c-4a8e-90d4-8278a440b2fd",
   "metadata": {},
   "outputs": [],
   "source": [
    "persona_prompt = \"Provide a biography that includes all of the following attributes. It should not be presented as a list, but as if someone was providing the information naturally in an introduction in the first person. It should be contained to one paragraph. Here is a biography that you can add details to contain all of the attributes below.\\n\"\n",
    "\n",
    "attributes_prompt = \"\"\"Here are the attributions that must be in the biography:\n",
    "- Name\n",
    "- Age\n",
    "- Where they're from\n",
    "- Where their parents are from\n",
    "- Religion and extent it is adhered to\n",
    "- Socioeconomic status - current\n",
    "- Socioeconomic status - childhood\n",
    "- Siblings (including name, age, relationship)\n",
    "- Languages and dialects spoken\n",
    "- Sexual orientation\n",
    "- Gender identity\n",
    "- Relationship status\n",
    "- Significant past relationships\n",
    "- Occupation (current and past)\n",
    "- Education\n",
    "- Cultural influences\n",
    "- Political views\n",
    "- Health and wellness\n",
    "- Hobbies and interests\n",
    "- Values and beliefs outside religion\n",
    "- Fears and anxieties\n",
    "- Life goals and ambitions\n",
    "- Defining life experiences\n",
    "- Friendship circles\n",
    "- Daily routine and habits\n",
    "- Pet ownership (current and past)\n",
    "- Favorite media\n",
    "- Living situation\n",
    "- Places traveled to\"\"\"\n"
   ]
  },
  {
   "cell_type": "code",
   "execution_count": 204,
   "id": "ed9476d8-360c-473c-8c0e-c708706ffd2e",
   "metadata": {},
   "outputs": [],
   "source": [
    "import os\n",
    "import glob\n",
    "import re\n",
    "import json\n",
    "import random\n",
    "import time\n",
    "from absl import app, flags\n",
    "from tqdm import tqdm\n",
    "from datetime import datetime\n",
    "import openai\n",
    "from openai import OpenAI\n",
    "from transformers import AutoTokenizer\n",
    "try:\n",
    "    from vllm import LLM, SamplingParams\n",
    "    import ray\n",
    "except ImportError:\n",
    "    pass\n",
    "with open(os.path.abspath('openai_key'), 'r') as f:\n",
    "    # ../.. for notebook, .. for script\n",
    "    client = OpenAI(api_key=f.read().rstrip('\\n'))\n",
    "\n",
    "vllm_models = [\n",
    "    'meta-llama/Llama-2-13b-hf', 'Llama-2-13b-hf', 'Llama13b', 'llama13b',\n",
    "    'mistralai/Mistral-7B-v0.1', 'Mistral', 'mistral',\n",
    "    'mistralai/Mixtral-8x7B-v0.1', 'Mixtral', 'mixtral',\n",
    "    'meta-llama/Llama-2-70b-hf', 'Llama-2-70b-hf', 'Llama70b', 'llama70b',\n",
    "    'meta-llama/Meta-Llama-3-70B-Instruct', 'Llama-3-70B-Instruct', 'meta-llama/Llama-3.1-70B-Instruct', 'meta-llama/Llama-3.1-8B-Instruct',\n",
    "    'meta-llama/Meta-Llama-3-8B-Instruct', 'Llama-3-8B-Instruct',\n",
    "    'mistralai/Mistral-7B-Instruct-v0.1', 'mistral-instruct',\n",
    "    'google/gemma-7b', 'gemma'\n",
    "]\n",
    "\n",
    "# run 'ray start --head --num-gpus <NUM>' in bash first!\n",
    "def setup_llm(model_name, config):\n",
    "    if model_name not in vllm_models:\n",
    "        return None, None\n",
    "    if config['gpus'] > 1:\n",
    "        ray.init(ignore_reinit_error=True)\n",
    "    tokenizer = AutoTokenizer.from_pretrained(model_name)\n",
    "    llm = LLM(model=model_name, tensor_parallel_size=config['gpus'], download_dir='/raid/users/aryanshs/huggingface_hub_models', gpu_memory_utilization=0.95, max_model_len=41632)\n",
    "    return llm, tokenizer\n",
    "\n",
    "def completion_create_helper(model_name, config, prompt, llm=None):\n",
    "\n",
    "    ret = '' # return the output ret at the end and use to calculate cost\n",
    "\n",
    "    if model_name == \"gpt-3.5-turbo-instruct\":\n",
    "        ret = client.completions.create(\n",
    "                model=\"gpt-3.5-turbo-instruct\",\n",
    "                prompt=prompt,\n",
    "                temperature=0.8,\n",
    "                # max_tokens=config['max_tokens'],\n",
    "                top_p=1,\n",
    "                frequency_penalty=0,\n",
    "                presence_penalty=0\n",
    "        )\n",
    "        ret = ret.choices[0].text.strip()\n",
    "\n",
    "    elif model_name in [\"gpt-3.5-turbo\", \"gpt-3.5-turbo-16k\", \"gpt-4-turbo\", \"gpt-4o\", \"gpt-4o-mini\"]:\n",
    "        ret = client.chat.completions.create(\n",
    "            model=model_name,\n",
    "            messages=[{\"role\": \"system\", \"content\": prompt}],\n",
    "            # max_tokens=config['max_tokens']\n",
    "        )\n",
    "        ret = ret.choices[-1].message.content\n",
    "\n",
    "    elif model_name in vllm_models and llm:\n",
    "        sampling_params = SamplingParams(temperature=0.8, top_p=0.95)\n",
    "        output = llm.generate([prompt], sampling_params)\n",
    "        ret = output[0].outputs[0].text\n",
    "    else:\n",
    "        raise NotImplementedError\n",
    "    \n",
    "    return ret\n",
    "\n",
    "def completion_create(model_name, config, prompt, llm=None, keep_trying=True):\n",
    "    try:\n",
    "        return completion_create_helper(model_name, config, prompt, llm)\n",
    "    except (openai.APIError, openai.OpenAIError) as e:\n",
    "        # print(\"ERROR\", e)\n",
    "        # print(\"sleeping for 10 seconds.\")\n",
    "        time.sleep(10)\n",
    "        if keep_trying:\n",
    "            return completion_create(model_name, config, prompt, llm, keep_trying)\n",
    "        else:\n",
    "            return None"
   ]
  },
  {
   "cell_type": "code",
   "execution_count": 205,
   "id": "5b8aa132-9606-46e3-a756-84ba571169cc",
   "metadata": {},
   "outputs": [],
   "source": [
    "config_gpt4_mini = {\n",
    "    'agent1_model': 'gpt-4o-mini',\n",
    "    'agent2_model': 'gpt-4o-mini',\n",
    "    'eval_model': 'gpt-4o-mini',\n",
    "    'agent1_role': \"P1\",\n",
    "    'agent2_role': \"P2\",\n",
    "    'iterations': 1, # not used\n",
    "    'verbose': True, # not used\n",
    "    'write': True,\n",
    "    'convo_length_limit': 10,\n",
    "    # 'max_tokens': 256,\n",
    "    'gpus': 2,\n",
    "    'task_name': 'ren_robot',\n",
    "}"
   ]
  },
  {
   "cell_type": "code",
   "execution_count": 206,
   "id": "b9795c6c-8fc3-4e6f-9a12-90a295ec566a",
   "metadata": {},
   "outputs": [
    {
     "data": {
      "text/plain": [
       "4895"
      ]
     },
     "execution_count": 206,
     "metadata": {},
     "output_type": "execute_result"
    }
   ],
   "source": [
    "len(personas)"
   ]
  },
  {
   "cell_type": "code",
   "execution_count": 207,
   "id": "b0bca8d6-f6f3-4dab-a574-d7794619bffe",
   "metadata": {},
   "outputs": [],
   "source": [
    "personas_updated = []\n",
    "personas_small = personas[0:2]\n",
    "for persona in personas_small:\n",
    "    agent_prompt = str(persona_prompt) + \"Biography:\" + str(persona) + \"\\n\" + str(attributes_prompt)\n",
    "    agent_prompt+= \"\\nUpdated Biography:\"\n",
    "    agent_answer = completion_create(\n",
    "            config_gpt4_mini[\"agent1_model\"],\n",
    "            config_gpt4_mini,\n",
    "            agent_prompt, \n",
    "            config_gpt4_mini[\"agent1_model\"])\n",
    "    personas_updated.append(agent_answer)\n"
   ]
  },
  {
   "cell_type": "code",
   "execution_count": 208,
   "id": "abad8f5d-3f27-493d-aa93-aef33380481c",
   "metadata": {},
   "outputs": [],
   "source": [
    "summary_prompt = \"\"\"\n",
    "    From the following biography, generate one sentence summaries for each of the attributes with similar structure to the accompanying examples:\n",
    "        name = \"\"  # \"My name is Jane Doe.\"\n",
    "        age = \"\"  # \"I am 35 years old.\"\n",
    "        location_from = \"\"  # \"I am from Houston, Texas.\"\n",
    "        location_mother_from = \"\" # \"My mother is from Capetown, South Africa.\"\n",
    "        location_father_from = \"\" # \"My father is from Mumbai, India.\"\n",
    "        religion = \"\" # \"I am Christian.\", \"I was raised Jewish but don't practice.\"\n",
    "        socioeconomic_status = \"\" # I am middle class.\", \"I am a wealthy homeowner.\", \"I am struggling to make ends meet.\"\n",
    "        siblings = \"\" # \"I am an only child.\" \"I have a brother and a sister.\"\n",
    "        languages_spoken = \"\" # \"I speak only English.\", \"I speak Portuguese, English, and Bengali.\"\n",
    "        sexual_orientation = \"\" # \"I am heterosexual.\", \"I'm bisexual.\"\n",
    "        gender_identity = \"\" # \"I am a woman.\", \"I identify as nonbinary.\"\n",
    "        relationship_status = \"\" # \"I'm currently single.\", \"I have been married for 4 years.\"\n",
    "        significant_past_relationships = \"\" # \"I was engaged for 2 years but it was called off.\", \"I have never been in a long term relationship.\"\n",
    "        occupation_current = \"\" # \"I am a landscaper.\", \"I do small business consulting.\"\n",
    "        occupation_past = \"\" # \"I used to be a frycook in high school.\", \"In college I worked as a librarian's assistant.\"\n",
    "        education = \"\" # \"I have my G.E.D.\", \"I have a bachelors in Finance from Northeastern University.\"\n",
    "        cultural_influences = \"\" # \"I grew up in a devout Mormon community.\", \"I grew up in a Nigerian Igbo community.\"\n",
    "        political_views = \"\" # \"I don't follow politics.\", \"I am a democratic socialist.\"\n",
    "        health = \"\" # \"I am very healthy and exercise often, but have a bad knee.\", \"I am legally blind.\"\n",
    "        hobbies_and_interests = \"\" # \"I enjoy painting and hiking.\", \"I am a huge history buff.\"\n",
    "        beliefs_and_values = \"\" # \"I believe minimizing our carbon footprint is imperative.\", \"I am vegan for moral reasons.\"\n",
    "        fears_and_anxieties = \"\" # \"I am deathly afraid of heights.\", \"I have anxiety with personal conflict.\"\n",
    "        life_goals_and_ambitions = \"\" # \"I hope to retire at an early age.\", \"I want to start my own company.\", \"All I want out of life is a big family.\"\n",
    "        defining_life_experiences = \"\" # \"I was orphaned at a young age.\", \"I would bake with my grandma every Sunday growing up.\"\n",
    "        friendship_circles = \"\" # \"I've had the same few best friends for years.\", \"I have no close friends but run in a lot of social circles.\"\n",
    "        daily_routine_and_habits = \"\" # \"I do a morning yoga routine every morning before work.\", \"I spend an hour reading every night before I go to bed.\"\n",
    "        pet_ownership = \"\" # \"I don't have any pets.\", \"I have a black laborador retriever named Sparky.\"\n",
    "        favorite_media = \"\" # \"I have rewatched the TV show Friends a dozen times.\", \"I watch football games every night.\"\n",
    "        living_situation = \"\" # \"I currently live by myself in a studio apartment.\", \"I live in a single-family home with my husband and two children.\"\n",
    "        places_traveled = \"\" # \"I have never left my home city.\", \"I have traveled to most of South America, and a few countries in Europe.\"\n",
    "\n",
    "    \"\"\"\n"
   ]
  },
  {
   "cell_type": "code",
   "execution_count": 209,
   "id": "6acd0c80-064c-48df-8cbe-29485bea3aba",
   "metadata": {},
   "outputs": [],
   "source": [
    "summary_prompt += \"\\nBiography:\" + personas_updated[0] + \"\\nFormat the output as above, with the attribute from the class matching the key for the attribute:\\n name: <summary>\\nage: <summary\\n...\"\n",
    "\n",
    "summary_answer = completion_create(\n",
    "        config_gpt4_mini[\"agent1_model\"],\n",
    "        config_gpt4_mini,\n",
    "        summary_prompt,\n",
    "        config_gpt4_mini[\"agent1_model\"])\n"
   ]
  },
  {
   "cell_type": "code",
   "execution_count": 210,
   "id": "d600d4bd-2f30-4c34-ac59-48ae792ef554",
   "metadata": {},
   "outputs": [
    {
     "data": {
      "text/plain": [
       "'Hi there! My name is David, and I’m in my late 30s, hailing from a small town nestled in the mountains of southern Appalachia, where my parents also grew up in modest circumstances. Growing up in a lower-middle-class family, my faith has always played a vital role in my life; I adhere to my beliefs with dedication and prioritize the tenets of family, freedom, and the sanctity of life. I have a loving wife named Sarah, my biggest supporter, and together we are raising our three wonderful children. In terms of education, I didn’t have a formal background in science, which makes me a lifelong learner, but I’ve developed a passion for biology, sparked by my childhood intrigue with dinosaurs and influential figures like Sir David Attenborough. My interests range from reading extensively about evolution to losing myself in the universe of Star Trek—I find more excitement in literature than in sci-fi films. While I was in the army for several years, I later transitioned into the auto industry, which provided valuable experience before I began my current role as a biology enthusiast. Despite not having siblings, I find camaraderie in my friendship circle, sharing passions with like-minded individuals. My daily life revolves around family activities, pursuing interests in biology, and enjoying quiet evenings with a good book. My hobbies not only include reading but also engaging in outdoor activities, reflecting my appreciation for nature. I’ve traveled modestly so far, exploring local landscapes and absorbing the beauty of the environment around me—my heart is always drawn back home. With a strong desire to advocate for science education, I aim to inspire others in my community, as I continue to navigate my journey of lifelong learning while embracing the values I hold dear.'"
      ]
     },
     "execution_count": 210,
     "metadata": {},
     "output_type": "execute_result"
    }
   ],
   "source": [
    "personas_updated[0]"
   ]
  },
  {
   "cell_type": "code",
   "execution_count": 211,
   "id": "beeb49ee-e5c0-4eb0-80cd-a974b8346e65",
   "metadata": {},
   "outputs": [
    {
     "data": {
      "text/plain": [
       "{'persona': 'I am in my late 30s, grew up in a small town in the mountains of southern Appalachia, left home at 18, was in the army, and worked for some time in the auto industry before starting my current job. What matters to me are my wife and children, faith, family, freedom, and the sanctity of life.\\n\\nI didn’t have any exposure to science growing up. I grew up with the Bible and the world of make-believe. The first thing I remember being excited about was “The Little Engine That Could” which was about having a can-do attitude. Then I became interested in dinosaurs and started reading a lot about them. I read books by Sir David Attenborough and Carl Sagan. Then I got into Star Trek. That’s what I’m still most excited about. I have no idea why I’m not excited about sci-fi movies, and maybe I’m missing out on something, but I just don’t have the same enthusiasm for movies that I do for the science I read in books.\\n\\nI’m interested in biology because it is so fundamental to all other sciences. I don’t have a degree in science, so I’m always learning, but what I do know is that every aspect of biology is foundational to other sciences. I’m particularly interested in how things like evolution and abiogenesis relate to biology, but I’m interested in every aspect of it.\\nThe evidence for evolution is overwhelming. It’s not just evidence from the fossil record or DNA, it’s evidence from genetics, paleontology, embryology, taxonomy, biochemistry, geology, and more. The reason the evidence is so overwhelming is because it’s cumulative. That’s what makes it so compelling. I find evidence for evolution in every area of biology. The genetic and biochemical evidence is very strong and is very clear. It’s also clear that the evidence is very consistent with the theory of evolution.\\n\\n',\n",
       " 'len': 21}"
      ]
     },
     "execution_count": 211,
     "metadata": {},
     "output_type": "execute_result"
    }
   ],
   "source": [
    "personas[0]"
   ]
  },
  {
   "cell_type": "code",
   "execution_count": 212,
   "id": "270649ea-7c87-4aaf-a216-e4c1bc520677",
   "metadata": {},
   "outputs": [
    {
     "data": {
      "text/plain": [
       "'``` \\nname = \"My name is David.\"\\nage = \"I am in my late 30s.\"\\nlocation_from = \"I am from a small town nestled in the mountains of southern Appalachia.\"\\nlocation_mother_from = \"My mother is from southern Appalachia.\"\\nlocation_father_from = \"My father is from southern Appalachia.\"\\nreligion = \"I adhere to my faith with dedication.\"\\nsocioeconomic_status = \"I grew up in a lower-middle-class family.\"\\nsiblings = \"I don\\'t have any siblings.\"\\nlanguages_spoken = \"I speak only English.\"\\nsexual_orientation = \"I am heterosexual.\"\\ngender_identity = \"I am a man.\"\\nrelationship_status = \"I have a loving wife named Sarah.\"\\nsignificant_past_relationships = \"I have had a supportive partnership with my wife throughout our marriage.\"\\noccupation_current = \"I am currently a biology enthusiast.\"\\noccupation_past = \"I was in the army for several years before transitioning into the auto industry.\"\\neducation = \"I do not have a formal background in science but I am a lifelong learner.\"\\ncultural_influences = \"I grew up in a modest family environment that valued family and faith.\"\\npolitical_views = \"I prioritize the tenets of family, freedom, and the sanctity of life.\"\\nhealth = \"I am generally healthy and engaged with my interests.\"\\nhobbies_and_interests = \"I enjoy reading extensively about evolution and I love outdoor activities.\"\\nbeliefs_and_values = \"I have a strong desire to advocate for science education.\"\\nfears_and_anxieties = \"I have no specified fears or anxieties mentioned.\"\\nlife_goals_and_ambitions = \"I aim to inspire others in my community through my passion for learning.\"\\ndefining_life_experiences = \"My childhood intrigue with dinosaurs and influential figures sparked my passion for biology.\"\\nfriendship_circles = \"I find camaraderie in my friendship circle, sharing passions with like-minded individuals.\"\\ndaily_routine_and_habits = \"My daily life revolves around family activities and quiet evenings with a good book.\"\\npet_ownership = \"I don\\'t have any pets.\"\\nfavorite_media = \"I find more excitement in literature than in sci-fi films like Star Trek.\"\\nliving_situation = \"I live with my wife and three children.\"\\nplaces_traveled = \"I have traveled modestly, exploring local landscapes.\"\\n```'"
      ]
     },
     "execution_count": 212,
     "metadata": {},
     "output_type": "execute_result"
    }
   ],
   "source": [
    "summary_answer"
   ]
  },
  {
   "cell_type": "code",
   "execution_count": null,
   "id": "6dac0e06-356b-44c7-92d1-675ae180a5b6",
   "metadata": {},
   "outputs": [],
   "source": []
  }
 ],
 "metadata": {
  "kernelspec": {
   "display_name": "Python 3 (ipykernel)",
   "language": "python",
   "name": "python3"
  },
  "language_info": {
   "codemirror_mode": {
    "name": "ipython",
    "version": 3
   },
   "file_extension": ".py",
   "mimetype": "text/x-python",
   "name": "python",
   "nbconvert_exporter": "python",
   "pygments_lexer": "ipython3",
   "version": "3.9.19"
  }
 },
 "nbformat": 4,
 "nbformat_minor": 5
}
