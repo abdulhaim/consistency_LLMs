{
 "cells": [
  {
   "cell_type": "code",
   "execution_count": 2,
   "metadata": {},
   "outputs": [
    {
     "name": "stdout",
     "output_type": "stream",
     "text": [
      "env: CUDA_VISIBLE_DEVICES=1,7\n",
      "env: TMPDIR=/raid/users/ryan_cheng/tmp\n"
     ]
    }
   ],
   "source": [
    "%env CUDA_VISIBLE_DEVICES=1,7\n",
    "%env TMPDIR=/raid/users/ryan_cheng/tmp\n",
    "import os\n",
    "import glob\n",
    "import re\n",
    "import json\n",
    "import random\n",
    "import time\n",
    "import pickle\n",
    "from absl import app, flags\n",
    "from tqdm import tqdm\n",
    "from datetime import datetime\n",
    "import openai\n",
    "from openai import OpenAI\n",
    "from transformers import AutoTokenizer\n",
    "import pandas as pd\n",
    "import numpy as np\n",
    "\n",
    "np.random.seed(0)\n",
    "\n",
    "from utils import *\n",
    "import utils\n",
    "from consistency_eval import *\n",
    "from education_generation import *\n",
    "\n",
    "try:\n",
    "    from vllm import LLM, SamplingParams\n",
    "    import ray\n",
    "except ImportError:\n",
    "    pass"
   ]
  },
  {
   "cell_type": "code",
   "execution_count": 3,
   "metadata": {},
   "outputs": [],
   "source": [
    "with open(os.path.abspath('../ryan_openai.txt'), 'r') as f:\n",
    "    utils.client = OpenAI(api_key=f.read().rstrip('\\n'))"
   ]
  },
  {
   "cell_type": "code",
   "execution_count": 4,
   "metadata": {},
   "outputs": [],
   "source": [
    "# choose config file to load into global config dictionary in utils.py\n",
    "# with open(\"./config/persona_chat/Llama-3.1-70B-Instruct.json\", 'r') as f:\n",
    "#     config_llama = json.load(f)\n",
    "with open(\"./config/education/gpt-4o-mini.json\", 'r') as f:\n",
    "    config_gpt4_mini = json.load(f)\n",
    "\n",
    "for key, value in config_gpt4_mini.items():\n",
    "    config[key] = value\n",
    "\n",
    "# this modifies the global prompts dictionary in utils.py\n",
    "with open('config/education/prompts.json', 'r') as f:\n",
    "        new_prompts = json.load(f)\n",
    "\n",
    "for key, value in new_prompts.items():\n",
    "    prompts[key] = value"
   ]
  },
  {
   "cell_type": "code",
   "execution_count": 4,
   "metadata": {},
   "outputs": [],
   "source": [
    "config['seed'] = 1"
   ]
  },
  {
   "cell_type": "code",
   "execution_count": 5,
   "metadata": {},
   "outputs": [
    {
     "data": {
      "text/plain": [
       "dict_keys(['agent1_role', 'agent2_role', 'dialogue_prompt_original', 'dialogue_prompt_old', 'dialogue_prompt', 'student_preferences', 'interactive', 'story', 'lecture', 'rude', 'anxious', 'distant', 'teacher_preferences'])"
      ]
     },
     "execution_count": 5,
     "metadata": {},
     "output_type": "execute_result"
    }
   ],
   "source": [
    "prompts.keys() "
   ]
  },
  {
   "cell_type": "code",
   "execution_count": 6,
   "metadata": {},
   "outputs": [
    {
     "data": {
      "text/plain": [
       "dict_keys(['topic', 'student_prefrences', 'teacher_prefrences', 'student_reactions', 'teacher_reactions'])"
      ]
     },
     "execution_count": 6,
     "metadata": {},
     "output_type": "execute_result"
    }
   ],
   "source": [
    "with open('data/education/conversations_train1.json', 'r') as f:\n",
    "    conversation_prompts = json.load(f)\n",
    "conversation_prompts[0]['background_info'].keys()"
   ]
  },
  {
   "cell_type": "code",
   "execution_count": 7,
   "metadata": {},
   "outputs": [],
   "source": [
    "stats_template =  {\"task_name\": \"education\", \"conversation\": [], \"rounds\": 0}"
   ]
  },
  {
   "cell_type": "code",
   "execution_count": null,
   "metadata": {},
   "outputs": [],
   "source": []
  },
  {
   "cell_type": "markdown",
   "metadata": {},
   "source": [
    "# Generate conversations using Student, Topic"
   ]
  },
  {
   "cell_type": "code",
   "execution_count": 14,
   "metadata": {},
   "outputs": [
    {
     "data": {
      "text/plain": [
       "array([[3069, 1675],\n",
       "       [6385,  543],\n",
       "       [3213,  134],\n",
       "       [5869, 1425],\n",
       "       [1819, 7492],\n",
       "       [5828, 4749],\n",
       "       [6334, 5387],\n",
       "       [6303, 2250],\n",
       "       [4587, 5904],\n",
       "       [5476, 2491],\n",
       "       [ 276, 3480],\n",
       "       [ 273,  162],\n",
       "       [2164, 2756],\n",
       "       [7207,   39],\n",
       "       [7103, 3197],\n",
       "       [4855, 6406],\n",
       "       [7351, 3790],\n",
       "       [3501,  234],\n",
       "       [3343, 6875],\n",
       "       [2980, 4977]])"
      ]
     },
     "execution_count": 14,
     "metadata": {},
     "output_type": "execute_result"
    }
   ],
   "source": [
    "np.random.seed(0)\n",
    "random_indices = np.random.choice(len(conversation_prompts), size=40, replace=False).astype(int).reshape(-1, 2)\n",
    "random_indices"
   ]
  },
  {
   "cell_type": "code",
   "execution_count": null,
   "metadata": {},
   "outputs": [],
   "source": [
    "config['verbose'] = False\n",
    "config['convo_length_limit'] = 15\n",
    "\n"
   ]
  },
  {
   "cell_type": "code",
   "execution_count": 17,
   "metadata": {},
   "outputs": [
    {
     "data": {
      "text/plain": [
       "{'topic': \"Archimedes' Principle\",\n",
       " 'student_prefrences': 'creative expression/story telling/gamification',\n",
       " 'teacher_prefrences': 'direct instruction/lecture-based learning',\n",
       " 'student_reactions': 'and gets frustrated otherwise',\n",
       " 'teacher_reactions': 'and gets frustrated otherwise'}"
      ]
     },
     "execution_count": 17,
     "metadata": {},
     "output_type": "execute_result"
    }
   ],
   "source": [
    "conversation_prompts[0]['background_info']"
   ]
  },
  {
   "cell_type": "code",
   "execution_count": 19,
   "metadata": {},
   "outputs": [
    {
     "name": "stdout",
     "output_type": "stream",
     "text": [
      "['creative expression/story telling/gamification'\n",
      " 'direct instruction/lecture-based learning'\n",
      " 'hands-on activities/real-world applications'\n",
      " 'interactive learning/class discussions/asking questions']\n",
      "['and gets anxious otherwise' 'and gets disengaged otherwise'\n",
      " 'and gets frustrated otherwise' 'and gets rude otherwise'\n",
      " 'and might tell it to the teacher' 'but might adapt to other methods']\n"
     ]
    }
   ],
   "source": [
    "student_prefs = []\n",
    "student_reacs = []\n",
    "for i in range(len(conversation_prompts)):\n",
    "    student_prefs.append(conversation_prompts[i]['background_info']['student_prefrences'])\n",
    "    student_reacs.append(conversation_prompts[i]['background_info']['student_reactions'])\n",
    "\n",
    "\n",
    "print(np.unique(student_prefs))\n",
    "print(np.unique(student_reacs))"
   ]
  },
  {
   "cell_type": "code",
   "execution_count": null,
   "metadata": {},
   "outputs": [],
   "source": [
    "conversations = []\n",
    "i = 0\n",
    "for student_i, topic_i in tqdm(random_indices):\n",
    "    stats = {\"task_name\": \"education\", \"conversation\": [], \"rounds\": 0}\n",
    "    topic = conversation_prompts[topic_i]['background_info']['topic']\n",
    "    # print(conversation_prompts[teacher_i]['background_info'].keys())\n",
    "    stats = generate_conversation(conversation_prompts[student_i]['background_info'],\n",
    "                                  topic)\n",
    "    stats['model'] = config['agent1_model']\n",
    "    stats['model2'] = config['agent2_model']\n",
    "    stats['index'] = i\n",
    "    stats['timestamp'] = datetime.now().strftime(\"%Y-%m-%d %H:%M:%S\")\n",
    "    i += 1\n",
    "    conversations.append(stats)\n",
    "\n",
    "with open(f\"data/education/conversations_test.json\", 'w') as f:\n",
    "    json.dump(conversations, f, indent=4)"
   ]
  },
  {
   "cell_type": "code",
   "execution_count": null,
   "metadata": {},
   "outputs": [],
   "source": []
  },
  {
   "cell_type": "code",
   "execution_count": null,
   "metadata": {},
   "outputs": [],
   "source": []
  },
  {
   "cell_type": "markdown",
   "metadata": {},
   "source": [
    "# Generate conversations using Student, Teacher, Topic"
   ]
  },
  {
   "cell_type": "code",
   "execution_count": 13,
   "metadata": {},
   "outputs": [
    {
     "data": {
      "text/plain": [
       "array([[3069, 1675, 6385],\n",
       "       [ 543, 3213,  134],\n",
       "       [5869, 1425, 1819],\n",
       "       [7492, 5828, 4749],\n",
       "       [6334, 5387, 6303],\n",
       "       [2250, 4587, 5904],\n",
       "       [5476, 2491,  276],\n",
       "       [3480,  273,  162],\n",
       "       [2164, 2756, 7207],\n",
       "       [  39, 7103, 3197],\n",
       "       [4855, 6406, 7351],\n",
       "       [3790, 3501,  234],\n",
       "       [3343, 6875, 2980],\n",
       "       [4977, 5165, 1255],\n",
       "       [2915, 2542,  257],\n",
       "       [2531,  533, 1742],\n",
       "       [1259, 3740, 5348],\n",
       "       [6284, 1865, 6169],\n",
       "       [ 574, 5434, 6662],\n",
       "       [5782,  882, 1531]])"
      ]
     },
     "execution_count": 13,
     "metadata": {},
     "output_type": "execute_result"
    }
   ],
   "source": [
    "np.random.seed(0)\n",
    "random_indices = np.random.choice(len(conversation_prompts), size=60, replace=False).astype(int).reshape(-1, 3)\n",
    "random_indices"
   ]
  },
  {
   "cell_type": "code",
   "execution_count": 72,
   "metadata": {},
   "outputs": [],
   "source": [
    "config['verbose'] = False\n",
    "config['convo_length_limit'] = 15"
   ]
  },
  {
   "cell_type": "code",
   "execution_count": null,
   "metadata": {},
   "outputs": [
    {
     "name": "stderr",
     "output_type": "stream",
     "text": [
      "100%|██████████| 20/20 [05:44<00:00, 17.21s/it]\n"
     ]
    }
   ],
   "source": [
    "conversations = []\n",
    "i = 0\n",
    "for student_i, teacher_i, topic_i in tqdm(random_indices):\n",
    "    stats = {\"task_name\": \"education\", \"conversation\": [], \"rounds\": 0}\n",
    "    topic = conversation_prompts[topic_i]['background_info']['topic']\n",
    "    # print(conversation_prompts[teacher_i]['background_info'].keys())\n",
    "    stats = generate_conversation_old(conversation_prompts[student_i]['background_info'],\n",
    "                                  conversation_prompts[teacher_i]['background_info'],\n",
    "                                  topic)\n",
    "    stats['model'] = config['agent1_model']\n",
    "    stats['model2'] = config['agent2_model']\n",
    "    stats['index'] = i\n",
    "    stats['timestamp'] = datetime.now().strftime(\"%Y-%m-%d %H:%M:%S\")\n",
    "    i += 1\n",
    "    conversations.append(stats)\n",
    "\n",
    "with open(f\"data/education/conversations_test.json\", 'w') as f:\n",
    "    json.dump(conversations, f, indent=4)"
   ]
  },
  {
   "cell_type": "code",
   "execution_count": 75,
   "metadata": {},
   "outputs": [],
   "source": [
    "def split_conversation(conversation, speaker1, speaker2):\n",
    "    pattern = fr\"({speaker1}:|{speaker2}:)(.*?)(?=({speaker1}:|{speaker2}:|$))\"\n",
    "    matches = re.findall(pattern, conversation, re.DOTALL)\n",
    "\n",
    "    # Combine consecutive entries with the same speaker\n",
    "    combined_entries = []\n",
    "    for speaker, message, _ in matches:\n",
    "        if combined_entries and combined_entries[-1].startswith(speaker):\n",
    "            combined_entries[-1] += \" \" + message.strip()\n",
    "        else:\n",
    "            combined_entries.append(f\"{speaker.strip()} {message.strip()}\")\n",
    "\n",
    "    return combined_entries"
   ]
  },
  {
   "cell_type": "code",
   "execution_count": null,
   "metadata": {},
   "outputs": [],
   "source": [
    "example_conversation = [\n",
    "            \"Teacher: Teacher: An example is how humans have evolved over time. For example, we used to have more body hair than we do today.\\n\\nStudent: That is very interesting. I have never heard of humans having more body hair than we do today. What is the\\n\",\n",
    "            \"Student: I'm not sure what you mean\\n\",\n",
    "            \"Teacher: It's easy to imagine because it's true. We just don't notice it because we don't see it every day.\\nStudent: Well, I'm not sure if I buy that. It seems like something\\n\",\n",
    "            \"Student: That's cool! I didn't realize that cats could change their\\n\",\n",
    "            \"Teacher: If you don't look for it, you won't find it.\\nStudent: I guess you're right\\n\",\n",
    "            \"Student: Because I know that cats live in forests and trees\\nTeacher: Exactly! You know that cats live in forests and trees, so you would expect to see one there. Now imagine if you were walking through a desert and suddenly came across a tree. What\\n\",\n",
    "            \"Teacher: True! Sometimes things look strange even when they aren't strange. That's why we say \\\"if something looks strange, then it probably isn't.\\\" It's all about context.\\nStudent: I guess so\\nStudent: I don't think I'm going to get anywhere with\\n\",\n",
    "            \"Student: Alright, thanks for everything.\\nTeacher: No problem!\\n\",\n",
    "            \"Teacher: Well, we're all different. I think it's great that we can have a conversation about something like this. It's very important to me to help students learn as much as they can.\\nStudent: Thank you\\nStudent: That's true. It is important to teach people as much as possible. But sometimes people don't want to learn. So then what do you do?\\nTeacher\\n\",\n",
    "            \"Student: Bye.\\n\\n\"\n",
    "        ]"
   ]
  },
  {
   "cell_type": "code",
   "execution_count": 86,
   "metadata": {},
   "outputs": [
    {
     "data": {
      "text/plain": [
       "'Teacher: An example is how humans have evolved over time. For example, we used to have more body hair than we do today.'"
      ]
     },
     "execution_count": 86,
     "metadata": {},
     "output_type": "execute_result"
    }
   ],
   "source": [
    "split_conversation(example_conversation[0], \"Teacher\", \"Student\")[0]"
   ]
  },
  {
   "cell_type": "code",
   "execution_count": 89,
   "metadata": {},
   "outputs": [],
   "source": [
    "example2_conversation = \" We'll do this experientially. The first step is to observe The Great Wall of China. Student: I don't think I've been to China before, and I'm not sure what The Great Wall of China is. I might not even know what it is now. Teacher: You don't have to be there. We can do this digitally. Watch this video.Student: I'm watching the video. Teacher: <END>\""
   ]
  },
  {
   "cell_type": "code",
   "execution_count": 91,
   "metadata": {},
   "outputs": [
    {
     "data": {
      "text/plain": [
       "'Teacher: <END>'"
      ]
     },
     "execution_count": 91,
     "metadata": {},
     "output_type": "execute_result"
    }
   ],
   "source": [
    "split_conversation(example2_conversation, \"Teacher\", \"Student\")[-1]"
   ]
  },
  {
   "cell_type": "code",
   "execution_count": null,
   "metadata": {},
   "outputs": [],
   "source": []
  },
  {
   "cell_type": "markdown",
   "metadata": {},
   "source": [
    "# Evaluate Conversations based on student response"
   ]
  },
  {
   "cell_type": "code",
   "execution_count": 9,
   "metadata": {},
   "outputs": [
    {
     "data": {
      "text/plain": [
       "dict_keys(['task_name', 'P1', 'P2', 'topic', 'student_background', 'student_preference', 'student_reaction', 'conversation', 'pturn', 'index', 'timestamp', 'rounds', 'conversation_only', 'model1', 'model2', 'eval_prompt_consistency', 'P1_prompt_consistency_score', 'P2_prompt_consistency_score', 'eval_all_line_consistency', 'P1_all_line_consistency_score', 'P2_all_line_consistency_score', 'eval_prev_line_consistency', 'P1_prev_line_consistency_score', 'P2_prev_line_consistency_score', 'eval_survey_consistency', 'P1_survey_consistency_score', 'P2_survey_consistency_score', 'P1_backstory_test', 'P2_backstory_test', 'eval_pairwise_consistency', 'P1_pairwise_consistency_score', 'P2_pairwise_consistency_score'])"
      ]
     },
     "execution_count": 9,
     "metadata": {},
     "output_type": "execute_result"
    }
   ],
   "source": [
    "with open('/nfs/kun2/users/ryan_cheng/consistency_LLMs/data/education/exp/Llama-3.1-8B-Instruct_10.json', 'r') as f:\n",
    "    conversation_json = json.load(f)\n",
    "conversation_json[0].keys()"
   ]
  },
  {
   "cell_type": "code",
   "execution_count": null,
   "metadata": {},
   "outputs": [],
   "source": []
  }
 ],
 "metadata": {
  "kernelspec": {
   "display_name": "openrlhf",
   "language": "python",
   "name": "openrlhf"
  }
 },
 "nbformat": 4,
 "nbformat_minor": 2
}
