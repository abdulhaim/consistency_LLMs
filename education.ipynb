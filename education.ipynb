{
 "cells": [
  {
   "cell_type": "code",
   "execution_count": 1,
   "metadata": {},
   "outputs": [
    {
     "name": "stdout",
     "output_type": "stream",
     "text": [
      "env: CUDA_VISIBLE_DEVICES=1,7\n",
      "env: TMPDIR=/raid/users/ryan_cheng/tmp\n",
      "INFO 04-11 13:11:11 __init__.py:190] Automatically detected platform cuda.\n"
     ]
    }
   ],
   "source": [
    "%env CUDA_VISIBLE_DEVICES=1,7\n",
    "%env TMPDIR=/raid/users/ryan_cheng/tmp\n",
    "import os\n",
    "import glob\n",
    "import re\n",
    "import json\n",
    "import random\n",
    "import time\n",
    "import pickle\n",
    "from absl import app, flags\n",
    "from tqdm import tqdm\n",
    "from datetime import datetime\n",
    "import openai\n",
    "from openai import OpenAI\n",
    "from transformers import AutoTokenizer\n",
    "import pandas as pd\n",
    "import numpy as np\n",
    "\n",
    "np.random.seed(0)\n",
    "\n",
    "from utils import *\n",
    "import utils\n",
    "from consistency_eval import *\n",
    "from persona_chat_generation import *\n",
    "\n",
    "try:\n",
    "    from vllm import LLM, SamplingParams\n",
    "    import ray\n",
    "except ImportError:\n",
    "    pass"
   ]
  },
  {
   "cell_type": "code",
   "execution_count": 2,
   "metadata": {},
   "outputs": [],
   "source": [
    "with open(os.path.abspath('../ryan_openai.txt'), 'r') as f:\n",
    "    utils.client = OpenAI(api_key=f.read().rstrip('\\n'))"
   ]
  },
  {
   "cell_type": "code",
   "execution_count": 5,
   "metadata": {},
   "outputs": [],
   "source": [
    "# choose config file to load into global config dictionary in utils.py\n",
    "# with open(\"./config/persona_chat/Llama-3.1-70B-Instruct.json\", 'r') as f:\n",
    "#     config_llama = json.load(f)\n",
    "with open(\"./config/education/gpt-4o-mini.json\", 'r') as f:\n",
    "    config_gpt4_mini = json.load(f)\n",
    "\n",
    "for key, value in config_gpt4_mini.items():\n",
    "    config[key] = value\n",
    "\n",
    "# this modifies the global prompts dictionary in utils.py\n",
    "with open('config/education/prompts.json', 'r') as f:\n",
    "        new_prompts = json.load(f)\n",
    "\n",
    "for key, value in new_prompts.items():\n",
    "    prompts[key] = value"
   ]
  },
  {
   "cell_type": "code",
   "execution_count": 6,
   "metadata": {},
   "outputs": [],
   "source": [
    "config['seed'] = 1"
   ]
  },
  {
   "cell_type": "code",
   "execution_count": 7,
   "metadata": {},
   "outputs": [
    {
     "data": {
      "text/plain": [
       "{'agent1_role': 'Teacher',\n",
       " 'agent2_role': 'Student',\n",
       " 'dialogue_prompt': 'Simulate a conversation between a teacher in school and a student. There is a small chance that the teacher is successful in teaching the student so he understands the topic. The conversation lasts roughly 10-15 turns but ends when either side says <END>. The teacher wants to teach the student about %TOPIC%. The student likes %STUDENT_PREFERENCE%. The teacher does not know that beforehand. The student prefers to learn this way, %STUDENT_REACTIONS%. The teacher likes %TEACHER_PREFERENCE%. He prefers to teach this way, %TEACHER_REACTION%. Output the conversation and the probability that the student understood the material, in the following format. Conversation: [ Teacher: \"...\", Student: \"...\", Teacher: \"...\", Student: \"...\",] Probability: \"...\",',\n",
       " 'eval_prompts': {'prompt_consistency': \"For the following line spoken by %SPEAKER_ROLE%, answer YES if the line contradicts the given preferences or reactions of %SPEAKER_ROLE%, and answer NO if the line does not contradict the provided preferences or reactions of %SPEAKER_ROLE%. %SPEAKER_ROLE%'s preferences are:\\n%SPEAKER_PREFERENCES%\\n%SPEAKER_ROLE%'s reactions are:\\n%SPEAKER_REACTIONS%\\n %SPEAKER_ROLE% spoke the following line: \\n%SPEAKER_LINE%\\n\\n Answer YES if the line contradicts the given preferences or reactions of %SPEAKER_ROLE%, and answer NO if the line does not contradict the provided preferences or reactions of %SPEAKER_ROLE%, followed by 1 sentence of reasoning.\\n\\n\",\n",
       "  'pairwise_consistency': \"For the following line spoken by %SPEAKER_ROLE%, answer YES if the line directly contradicts the provided preferences or reactions of %LISTENER_ROLE%, and answer NO if the line does not contradict the provided preferences or reactions of %LISTENER_ROLE%. %SPEAKER_ROLE% spoke the following line: \\n%SPEAKER_LINE%\\n\\n %LISTENER_ROLE%'s preferences are:\\n%LISTENER_PREFERENCES%\\n%LISTENER_ROLE%'s reactions are:\\n%LISTENER_REACTIONS%\\n\\n Answer YES if the line contradicts the provided preferences or reactions of %LISTENER_ROLE%, and answer NO if the line does not contradict the provided preferences or reactions of %LISTENER_ROLE%, followed by 1 sentence of reasoning.\\n\\n\",\n",
       "  'all_line_consistency': \"For the following line spoken by %SPEAKER_ROLE%, answer YES if the line contradicts any line stated by %SPEAKER_ROLE% based on their preferences or reactions, and answer NO if the line does not contradict any line in the provided conversation history of %SPEAKER_ROLE%. %SPEAKER_ROLE%'s preferences are:\\n%SPEAKER_PREFERENCES%\\n%SPEAKER_ROLE%'s reactions are:\\n%SPEAKER_REACTIONS%\\n %SPEAKER_ROLE% had the following conversation with %LISTENER_ROLE%:\\n%CONVERSATION%\\n %SPEAKER_ROLE% spoke the following line: \\n%SPEAKER_LINE%\\n\\n Answer YES if the line contradicts any line stated by %SPEAKER_ROLE% throughout the course of the conversation based on their preferences or reactions, and answer NO if the line does not contradict any line in the provided conversation history of %SPEAKER_ROLE%, followed by 1 sentence of reasoning.\\n\\n\",\n",
       "  'backstory_test': \"Based on the following preferences and reactions of the Teacher or Student, generate a new fact-based multiple choice question with 5 choices addressed directly IN SECOND PERSON, along with its correct answer. Preface the question with 'Question:' and the answer with 'Answer:'.\\n%SPEAKER_PREFERENCES%\\n%SPEAKER_REACTIONS%\\n%PREVIOUS_QUESTIONS%\",\n",
       "  'answer_backstory': 'You are %SPEAKER_ROLE%, and you are having a conversation with %LISTENER_ROLE%. Your preferences are:\\n%SPEAKER_PREFERENCES%\\nYour reactions are:\\n%SPEAKER_REACTIONS%\\n So far, the conversation is as below:\\n%CONVERSATION%\\n\\n Based on your conversation above so far, answer the following multiple choice question.\\n%PREFERENCE_QUESTION%\\n',\n",
       "  'grade_backstory': 'As part of grading a test, determine whether the given answer %GIVEN_ANSWER% matches the following correct answer. Respond with either YES or NO.\\nCorrect Answer: %CORRECT_ANSWER%\\n',\n",
       "  'prev_line_consistency': \"For the following line spoken by %SPEAKER_ROLE%, answer YES if the line contradicts a previous line stated by %SPEAKER_ROLE% based on their preferences or reactions, and answer NO if the line does not contradict the provided conversation history of %SPEAKER_ROLE%. %SPEAKER_ROLE%'s preferences are:\\n%SPEAKER_PREFERENCES%\\n%SPEAKER_ROLE%'s reactions are:\\n%SPEAKER_REACTIONS%\\n %SPEAKER_ROLE% had the following conversation with %LISTENER_ROLE%:\\n%CONVERSATION%\\n %SPEAKER_ROLE% spoke the following line: \\n%SPEAKER_LINE%\\n\\n Answer YES if the line contradicts a previous line stated by %SPEAKER_ROLE% based on their preferences or reactions, and answer NO if the line does not contradict the provided conversation history of %SPEAKER_ROLE%, followed by 1 sentence of reasoning.\\n\\n\"}}"
      ]
     },
     "execution_count": 7,
     "metadata": {},
     "output_type": "execute_result"
    }
   ],
   "source": [
    "prompts"
   ]
  },
  {
   "cell_type": "code",
   "execution_count": 8,
   "metadata": {},
   "outputs": [],
   "source": [
    "with open('data/education/conversations_train1.json', 'r') as f:\n",
    "    config = json.load(f)"
   ]
  },
  {
   "cell_type": "code",
   "execution_count": null,
   "metadata": {},
   "outputs": [],
   "source": [
    "def generate_conversation(student_preference, student_reactions, teacher_preference, teacher_reactions, topic, pturn=1):\n",
    "    stats['P1'] = p1\n",
    "    stats['P2'] = p2\n",
    "    stats['pturn'] = pturn\n",
    "\n",
    "    round_num = 0\n",
    "    while round_num < config['convo_length_limit'] and '<END>' not in \"\".join(stats[\"conversation\"]):\n",
    "        preferences = \"The student likes %STUDENT_PREFERENCE%. The teacher does not know that beforehand. The student prefers to learn this way, %STUDENT_REACTIONS%. The teacher likes %TEACHER_PREFERENCE%. He prefers to teach this way, %TEACHER_REACTION%. You are continuing the conversation as the %SPEAKER_ROLE%. \"\n",
    "        conversation = (\"\".join(stats[\"conversation\"]) if len(stats[\"conversation\"]) != 0 else \"[You are starting the conversation.]\")\n",
    "        if pturn == 1:\n",
    "            preferences = \"The teacher likes %TEACHER_PREFERENCE%. The student does not know that beforehand. The teacher prefers to teach this way, %TEACHER_REACTION%. You are continuing the conversation as the teacher.\".\n",
    "            preferences = preferences.replace(\"%TEACHER_PREFERENCE%\", teacher_preference).replace(\"%TEACHER_REACTION%\", teacher_reactions)\n",
    "            prompt = prompts[\"dialogue_prompt\"].replace(\"%SPEAKER_ROLE%\", prompts[\"agent1_role\"]) \\\n",
    "                                               .replace(\"%STUDENT_PREFERENCE%\", prompts[\"agent1_role\"]) \\\n",
    "                                               .replace(\"%%\", prompts[\"agent2_role\"]) \\\n",
    "                                               .replace(\"%TOPIC%\", topic)\n",
    "                                               .replace(\"%SPEAKER_BACKSTORY%\", p1) \\\n",
    "                                               .replace(\"%CONVERSATION%\", conversation)\n",
    "            pturn = 2\n",
    "            if config[\"verbose\"]:\n",
    "                print(prompt)\n",
    "                print()\n",
    "            stats[\"conversation\"].append(f\"{prompts[\"agent1_role\"]}: \" + completion_create(config['agent1_model'], config, prompt) + \"\\n\")\n",
    "        else:\n",
    "            prompt = prompts[\"dialogue_prompt\"].replace(\"%SPEAKER_ROLE%\", prompts[\"agent2_role\"]) \\\n",
    "                                               .replace(\"%LISTENER_ROLE%\", prompts[\"agent1_role\"]) \\\n",
    "                                               .replace(\"%SPEAKER_BACKSTORY%\", p2) \\\n",
    "                                               .replace(\"%CONVERSATION%\", conversation)\n",
    "            pturn = 1    \n",
    "            if config[\"verbose\"]:\n",
    "                print(prompt)\n",
    "                print()\n",
    "            stats[\"conversation\"].append(f\"{prompts[\"agent2_role\"]}: \" + completion_create(config['agent2_model'], config, prompt) + \"\\n\")\n",
    "        round_num += 1\n",
    "\n",
    "    stats[\"rounds\"] = round_num\n",
    "    if config['verbose']:\n",
    "        print(stats[\"conversation\"])\n",
    "    return stats.copy()"
   ]
  },
  {
   "cell_type": "code",
   "execution_count": null,
   "metadata": {},
   "outputs": [],
   "source": [
    "def eval_prompt_consistency(conv_dict):\n",
    "    #assert 'eval_prompt_consistency' not in conv_dict # warn if we are replacing metrics we don't mean to overwrite\n",
    "    conv_dict['eval_prompt_consistency'] = []\n",
    "    conv_dict['P1_prompt_consistency_score'] = 0\n",
    "    conv_dict['P2_prompt_consistency_score'] = 0\n",
    "    p1_utterances = 0\n",
    "    p2_utterances = 0\n",
    "    pturn = conv_dict[\"pturn\"]\n",
    "    for line in conv_dict[\"conversation\"]:\n",
    "        if pturn == 1:\n",
    "            prompt = prompts[\"eval_prompts\"][\"prompt_consistency\"].replace(\"%SPEAKER_ROLE%\", prompts[\"agent1_role\"]) \\\n",
    "                                                                  .replace(\"%SPEAKER_BACKSTORY%\", conv_dict[\"P1\"]) \\\n",
    "                                                                  .replace(\"%SPEAKER_LINE%\", line)\n",
    "            if config['verbose']:\n",
    "                print(prompt)\n",
    "            output = completion_create(config['eval_model'], config, prompt)\n",
    "            conv_dict['eval_prompt_consistency'].append(output)\n",
    "            if \"YES\" not in output: # no contradiction\n",
    "                conv_dict['P1_prompt_consistency_score'] += 1\n",
    "            p1_utterances += 1\n",
    "            pturn = 2\n",
    "        else:\n",
    "            prompt = prompts[\"eval_prompts\"][\"prompt_consistency\"].replace(\"%SPEAKER_ROLE%\", prompts[\"agent2_role\"]) \\\n",
    "                                                                  .replace(\"%SPEAKER_BACKSTORY%\", conv_dict[\"P2\"]) \\\n",
    "                                                                  .replace(\"%SPEAKER_LINE%\", line)\n",
    "            if config['verbose']:\n",
    "                print(prompt)\n",
    "            output = completion_create(config['eval_model'], config, prompt)\n",
    "            conv_dict['eval_prompt_consistency'].append(output)\n",
    "            if \"YES\" not in output: # no contradiction\n",
    "                conv_dict['P2_prompt_consistency_score'] += 1\n",
    "            p2_utterances += 1\n",
    "            pturn = 1\n",
    "\n",
    "    conv_dict['P1_prompt_consistency_score'] /= p1_utterances\n",
    "    conv_dict['P2_prompt_consistency_score'] /= p2_utterances\n"
   ]
  },
  {
   "cell_type": "code",
   "execution_count": null,
   "metadata": {},
   "outputs": [],
   "source": []
  },
  {
   "cell_type": "markdown",
   "metadata": {},
   "source": [
    "# Anthology of Backstories"
   ]
  },
  {
   "cell_type": "markdown",
   "metadata": {},
   "source": [
    "## Load Anthology Profiles"
   ]
  },
  {
   "cell_type": "code",
   "execution_count": 6,
   "metadata": {},
   "outputs": [],
   "source": [
    "file_path = \"data/anthology/Meta-Llama-3-70B_demographics_survey+political_affiliation_batch_1+2+3_no_word_cutoff.pkl\"\n",
    "\n",
    "try:\n",
    "    with open(file_path, \"rb\") as f:\n",
    "        df = pd.read_pickle(file_path)\n",
    "except (EOFError, pickle.UnpicklingError) as e:\n",
    "    print(\"Error loading pickle file:\", e)"
   ]
  },
  {
   "cell_type": "code",
   "execution_count": 7,
   "metadata": {},
   "outputs": [],
   "source": [
    "def count_sentences(paragraph):\n",
    "    # Split sentences using punctuation (., !, ?) as well as commas\n",
    "    sentences = re.split(r'[.!?]', paragraph)  # Split by sentence-ending punctuation\n",
    "    return len(sentences)"
   ]
  },
  {
   "cell_type": "code",
   "execution_count": 8,
   "metadata": {},
   "outputs": [
    {
     "data": {
      "text/plain": [
       "4895"
      ]
     },
     "execution_count": 8,
     "metadata": {},
     "output_type": "execute_result"
    }
   ],
   "source": [
    "personas = []\n",
    "\n",
    "# The target phrase\n",
    "target_phrase_start = \"Answer:\"\n",
    "target_phrase_end = \"Question:\"\n",
    "\n",
    "for text in df[\"age_category_4_llm_parsing_prompt\"]:\n",
    "    # Find the start index of the target phrase and extract text after it\n",
    "    start_index = text.find(target_phrase_start) \n",
    "    stop_index = text.find(target_phrase_end, start_index) \n",
    "    persona = text[start_index+len(target_phrase_start)+1:stop_index]\n",
    "    count = count_sentences(persona)\n",
    "    if count > 20:\n",
    "        personas.append({\"persona\": persona, \"len\": count})\n",
    "\n",
    "len(personas)"
   ]
  },
  {
   "cell_type": "code",
   "execution_count": 38,
   "metadata": {},
   "outputs": [
    {
     "name": "stdout",
     "output_type": "stream",
     "text": [
      "I am in my late 30s, grew up in a small town in the mountains of southern Appalachia, left home at 18, was in the army, and worked for some time in the auto industry before starting my current job. What matters to me are my wife and children, faith, family, freedom, and the sanctity of life.\n",
      "\n",
      "I didn’t have any exposure to science growing up. I grew up with the Bible and the world of make-believe. The first thing I remember being excited about was “The Little Engine That Could” which was about having a can-do attitude. Then I became interested in dinosaurs and started reading a lot about them. I read books by Sir David Attenborough and Carl Sagan. Then I got into Star Trek. That’s what I’m still most excited about. I have no idea why I’m not excited about sci-fi movies, and maybe I’m missing out on something, but I just don’t have the same enthusiasm for movies that I do for the science I read in books.\n",
      "\n",
      "I’m interested in biology because it is so fundamental to all other sciences. I don’t have a degree in science, so I’m always learning, but what I do know is that every aspect of biology is foundational to other sciences. I’m particularly interested in how things like evolution and abiogenesis relate to biology, but I’m interested in every aspect of it.\n",
      "The evidence for evolution is overwhelming. It’s not just evidence from the fossil record or DNA, it’s evidence from genetics, paleontology, embryology, taxonomy, biochemistry, geology, and more. The reason the evidence is so overwhelming is because it’s cumulative. That’s what makes it so compelling. I find evidence for evolution in every area of biology. The genetic and biochemical evidence is very strong and is very clear. It’s also clear that the evidence is very consistent with the theory of evolution.\n",
      "\n",
      "\n"
     ]
    }
   ],
   "source": [
    "print(personas[0]['persona'])"
   ]
  },
  {
   "cell_type": "markdown",
   "metadata": {},
   "source": [
    "## Generate Details about Personas"
   ]
  },
  {
   "cell_type": "markdown",
   "metadata": {},
   "source": [
    "Only has to be run once, if ./data/anthology/personas_updated.json is missing or if new persona backgrounds are to be sampled and extended"
   ]
  },
  {
   "cell_type": "code",
   "execution_count": 39,
   "metadata": {},
   "outputs": [
    {
     "data": {
      "text/plain": [
       "array([4029, 1755, 3834, 2078, 4129, 3819, 3722, 1974,  495, 3147, 3803,\n",
       "       3837,  965, 1011,  142, 3371, 2955, 3127, 2744, 4813, 4158, 3699,\n",
       "        311, 2814, 4128, 1393, 4841, 3566,  716,  891, 1877, 1934,   49,\n",
       "        599,  556, 1428, 1979, 2443, 3568, 2574, 3756,  298,  861, 3011,\n",
       "        651, 4509, 3073,  202, 3710,  148, 3170, 1489, 4761, 3460, 1272,\n",
       "       4044,  898, 4548, 1687,  154,  158, 1800, 1515, 4475, 3071, 4073,\n",
       "         39, 3615,  624, 1936, 2399, 4828, 3712, 2165, 2601, 4070, 2661,\n",
       "       4371, 4555, 2884,  348, 4146, 1691,  873,  402, 4607, 3420,  130,\n",
       "       4574, 4339, 2396, 3133, 3309,  541, 2724,  308, 2779,  933, 3582,\n",
       "        562, 2519,  500, 3389, 1108,  534, 1692, 4481, 4883, 2471, 3608,\n",
       "       1675, 1738, 4343, 4716, 3060, 3786,  113,  489,   98, 2290,  636,\n",
       "       3570, 3328,  499, 4837, 2527, 3900,   42, 1437, 1051, 3975, 3320,\n",
       "       1172, 4052, 4266, 4430, 2682, 2381, 1450, 4376, 3065,  394, 1900,\n",
       "        125, 1997, 4061, 1794, 1419, 2509, 1326, 3471, 3785, 3493, 4275,\n",
       "       2678,  376, 4673, 2748, 3294, 1526, 4205, 2672,  977, 3867, 4482,\n",
       "       2664, 3720, 2277, 3520, 1471, 3411, 2865, 1708, 1487, 1830,  349,\n",
       "       3931, 1700,  159,   29, 4165, 1098,  192,  918, 2339, 1742, 4229,\n",
       "       1680, 4794, 1085, 1888,  352, 3614, 3048, 1736, 3701, 3351, 1836,\n",
       "        138, 1377])"
      ]
     },
     "execution_count": 39,
     "metadata": {},
     "output_type": "execute_result"
    }
   ],
   "source": [
    "np.random.seed(0)\n",
    "random_indices_anthology = np.random.choice(len(personas), size=200, replace=False).astype(int)\n",
    "random_indices_anthology # random indices to generate profiles for"
   ]
  },
  {
   "cell_type": "code",
   "execution_count": 40,
   "metadata": {},
   "outputs": [],
   "source": [
    "persona_prompt = \"Provide a biography that includes all of the following attributes. It should not be presented as a list, but as if someone was providing the information naturally in an introduction in the first person. It should be contained to one paragraph. Here is a biography that you can add details to contain all of the attributes below.\\n\"\n",
    "\n",
    "attributes_prompt = \"\"\"Here are the attributions that must be in the biography:\n",
    "- Name\n",
    "- Age\n",
    "- Where they're from\n",
    "- Where their parents are from\n",
    "- Religion and extent it is adhered to\n",
    "- Socioeconomic status - current\n",
    "- Socioeconomic status - childhood\n",
    "- Siblings (including name, age, relationship)\n",
    "- Languages and dialects spoken\n",
    "- Sexual orientation\n",
    "- Gender identity\n",
    "- Relationship status\n",
    "- Significant past relationships\n",
    "- Occupation (current and past)\n",
    "- Education\n",
    "- Cultural influences\n",
    "- Political views\n",
    "- Health and wellness\n",
    "- Hobbies and interests\n",
    "- Values and beliefs outside religion\n",
    "- Fears and anxieties\n",
    "- Life goals and ambitions\n",
    "- Defining life experiences\n",
    "- Friendship circles\n",
    "- Daily routine and habits\n",
    "- Pet ownership (current and past)\n",
    "- Favorite media\n",
    "- Living situation\n",
    "- Places traveled to\"\"\"\n"
   ]
  },
  {
   "cell_type": "code",
   "execution_count": 83,
   "metadata": {},
   "outputs": [
    {
     "name": "stderr",
     "output_type": "stream",
     "text": [
      "100%|██████████| 100/100 [03:53<00:00,  2.34s/it]\n"
     ]
    }
   ],
   "source": [
    "personas_updated = []\n",
    "personas_small = np.array(personas)[random_indices_anthology]\n",
    "for persona in tqdm(personas_small):\n",
    "    agent_prompt = str(persona_prompt) + \"Biography:\" + str(persona) + \"\\n\" + str(attributes_prompt)\n",
    "    agent_prompt+= \"\\nUpdated Biography:\"\n",
    "    agent_answer = completion_create(\n",
    "            config_gpt4_mini[\"agent1_model\"],\n",
    "            config_gpt4_mini,\n",
    "            agent_prompt, \n",
    "            config_gpt4_mini[\"agent1_model\"])\n",
    "    personas_updated.append(agent_answer)\n"
   ]
  },
  {
   "cell_type": "code",
   "execution_count": 90,
   "metadata": {},
   "outputs": [],
   "source": [
    "with open('data/anthology/personas_updated.json', 'w') as f:\n",
    "        json.dump([{\"persona\": personas_updated[i], \"index\": int(random_indices_anthology[i])} for i in range(len(personas_updated))], f, indent=4)"
   ]
  },
  {
   "cell_type": "markdown",
   "metadata": {},
   "source": [
    "## Load Detailed Anthology Personas and Generate Conversations"
   ]
  },
  {
   "cell_type": "code",
   "execution_count": 5,
   "metadata": {},
   "outputs": [
    {
     "data": {
      "text/plain": [
       "4895"
      ]
     },
     "execution_count": 5,
     "metadata": {},
     "output_type": "execute_result"
    }
   ],
   "source": [
    "# using old generated personas\n",
    "# with open('data/anthology/personas_updated.json', 'r') as f:\n",
    "#         personas_updated = json.load(f)\n",
    "\n",
    "# directly using anthology personas\n",
    "file_path = \"data/anthology/Meta-Llama-3-70B_demographics_survey+political_affiliation_batch_1+2+3_no_word_cutoff.pkl\"\n",
    "\n",
    "try:\n",
    "    with open(file_path, \"rb\") as f:\n",
    "        df = pd.read_pickle(file_path)\n",
    "except (EOFError, pickle.UnpicklingError) as e:\n",
    "    print(\"Error loading pickle file:\", e)\n",
    "\n",
    "def count_sentences(paragraph):\n",
    "    # Split sentences using punctuation (., !, ?) as well as commas\n",
    "    sentences = re.split(r'[.!?]', paragraph)  # Split by sentence-ending punctuation\n",
    "    return len(sentences)\n",
    "\n",
    "personas = []\n",
    "\n",
    "# The target phrase\n",
    "target_phrase_start = \"Answer:\"\n",
    "target_phrase_end = \"Question:\"\n",
    "\n",
    "for text in df[\"age_category_4_llm_parsing_prompt\"]:\n",
    "    # Find the start index of the target phrase and extract text after it\n",
    "    start_index = text.find(target_phrase_start) \n",
    "    stop_index = text.find(target_phrase_end, start_index) \n",
    "    persona = text[start_index+len(target_phrase_start)+1:stop_index]\n",
    "    count = count_sentences(persona)\n",
    "    if count > 20:\n",
    "        personas.append({\"persona\": persona, \"len\": count})\n",
    "\n",
    "len(personas)"
   ]
  },
  {
   "cell_type": "code",
   "execution_count": 6,
   "metadata": {},
   "outputs": [],
   "source": [
    "np.random.seed(0)\n",
    "random_indices_anthology = np.random.choice(len(personas), size=200, replace=False).astype(int)\n",
    "personas_updated = np.array(personas)[random_indices_anthology]"
   ]
  },
  {
   "cell_type": "code",
   "execution_count": 7,
   "metadata": {},
   "outputs": [],
   "source": [
    "config['seed'] = 10"
   ]
  },
  {
   "cell_type": "code",
   "execution_count": 12,
   "metadata": {},
   "outputs": [
    {
     "name": "stdout",
     "output_type": "stream",
     "text": [
      "written!!\n"
     ]
    },
    {
     "name": "stderr",
     "output_type": "stream",
     "text": [
      "100%|██████████| 10/10 [01:56<00:00, 11.61s/it]\n"
     ]
    }
   ],
   "source": [
    "# Generate conversations using personas from persona chat (unneeded)\n",
    "\n",
    "# file to write output to\n",
    "write_file = (\n",
    "        f\"data/anthology/exp/\"\n",
    "        f\"{config['agent1_model']}_{config['seed']}.json\"\n",
    "    )\n",
    "\n",
    "index_offset = load_stats_file(write_file)\n",
    "\n",
    "conversations = []\n",
    "for p_dict1, p_dict2 in tqdm(np.array(personas_updated[:20]).reshape(-1, 2)):\n",
    "    reset_stats()\n",
    "    conversations.append(generate_conversation(p_dict1[\"persona\"],  p_dict2[\"persona\"], pturn=1))\n",
    "    stats['index'] = index_offset\n",
    "    stats['timestamp'] = datetime.now().strftime(\"%Y-%m-%d %H:%M:%S\")\n",
    "    write_stats(write_file)\n",
    "    index_offset += 1"
   ]
  },
  {
   "cell_type": "code",
   "execution_count": 13,
   "metadata": {},
   "outputs": [
    {
     "name": "stderr",
     "output_type": "stream",
     "text": [
      "100%|██████████| 10/10 [07:03<00:00, 42.39s/it]\n"
     ]
    }
   ],
   "source": [
    "debug_logs = []\n",
    "for conversation in tqdm(conversations):\n",
    "    debug_logs.append(eval_pairwise_consistency(conversation))"
   ]
  },
  {
   "cell_type": "code",
   "execution_count": 14,
   "metadata": {},
   "outputs": [],
   "source": [
    "with open(write_file, 'w') as f:\n",
    "        json.dump(conversations, f, indent=4)"
   ]
  },
  {
   "cell_type": "code",
   "execution_count": null,
   "metadata": {},
   "outputs": [
    {
     "data": {
      "text/plain": [
       "[\"For the following line spoken by Person A, answer YES if the line directly contradicts the provided line spoken by Person B, and answer NO if the line does not contradict the provided line spoken by Person B. Person A spoke the following line: \\nPerson A: Person A: I'm curious, what are your thoughts on the importance of family in shaping one's identity, especially in today's fast-paced world?\\n\\n\\n Person B spoke the following line: \\nPerson B: I believe family plays a crucial role in shaping our values and sense of identity, providing a support system that helps us navigate life's challenges. In today's fast-paced world, maintaining those connections can offer grounding and a reminder of what truly matters. It's essential to balance personal ambitions with the nurturing of those relationships.\\n\\n\\n Answer YES if the line spoken by Person A contradicts the provided line spoken by Person B, and answer NO if the line does not contradict the provided line spoken by Person B, followed by 1 sentence of reasoning.\\n\\n\",\n",
       " \"For the following line spoken by Person A, answer YES if the line directly contradicts the provided line spoken by Person A, and answer NO if the line does not contradict the provided line spoken by Person A. Person A spoke the following line: \\nPerson A: Person A: I'm curious, what are your thoughts on the importance of family in shaping one's identity, especially in today's fast-paced world?\\n\\n\\n Person A spoke the following line: \\nPerson A: I completely agree with you. In our pursuit of personal success, we often overlook the significance of our family ties, which provide us with a sense of belonging and purpose. How do you think we can strengthen those connections despite our busy lives?\\n\\n\\n Answer YES if the line spoken by Person A contradicts the provided line spoken by Person A, and answer NO if the line does not contradict the provided line spoken by Person A, followed by 1 sentence of reasoning.\\n\\n\",\n",
       " \"For the following line spoken by Person A, answer YES if the line directly contradicts the provided line spoken by Person B, and answer NO if the line does not contradict the provided line spoken by Person B. Person A spoke the following line: \\nPerson A: Person A: I'm curious, what are your thoughts on the importance of family in shaping one's identity, especially in today's fast-paced world?\\n\\n\\n Person B spoke the following line: \\nPerson B: We can strengthen family connections by intentionally scheduling regular gatherings and making the effort to communicate meaningfully, even if it's just through quick check-ins. Prioritizing quality time over quantity can help us stay connected and nurture those relationships that matter most. Additionally, being present and fully engaged during our interactions allows us to build deeper bonds.\\n\\n\\n Answer YES if the line spoken by Person A contradicts the provided line spoken by Person B, and answer NO if the line does not contradict the provided line spoken by Person B, followed by 1 sentence of reasoning.\\n\\n\",\n",
       " \"For the following line spoken by Person A, answer YES if the line directly contradicts the provided line spoken by Person A, and answer NO if the line does not contradict the provided line spoken by Person A. Person A spoke the following line: \\nPerson A: Person A: I'm curious, what are your thoughts on the importance of family in shaping one's identity, especially in today's fast-paced world?\\n\\n\\n Person A spoke the following line: \\nPerson A: I love that perspective! Setting aside intentional time to connect can really make a difference. What are some ways you personally prioritize family in your life?\\n\\n\\n Answer YES if the line spoken by Person A contradicts the provided line spoken by Person A, and answer NO if the line does not contradict the provided line spoken by Person A, followed by 1 sentence of reasoning.\\n\\n\",\n",
       " \"For the following line spoken by Person A, answer YES if the line directly contradicts the provided line spoken by Person B, and answer NO if the line does not contradict the provided line spoken by Person B. Person A spoke the following line: \\nPerson A: Person A: I'm curious, what are your thoughts on the importance of family in shaping one's identity, especially in today's fast-paced world?\\n\\n\\n Person B spoke the following line: \\nPerson B: I prioritize family by making it a point to celebrate special occasions together, whether it's birthdays or holidays, and by regularly checking in to see how everyone is doing. I also try to create traditions that bring us together, such as family game nights or weekend outings, to strengthen our bonds and create lasting memories. Ultimately, I believe it's about being intentional and present in those moments we share.\\n\\n\\n Answer YES if the line spoken by Person A contradicts the provided line spoken by Person B, and answer NO if the line does not contradict the provided line spoken by Person B, followed by 1 sentence of reasoning.\\n\\n\",\n",
       " \"For the following line spoken by Person A, answer YES if the line directly contradicts the provided line spoken by Person A, and answer NO if the line does not contradict the provided line spoken by Person A. Person A spoke the following line: \\nPerson A: Person A: I'm curious, what are your thoughts on the importance of family in shaping one's identity, especially in today's fast-paced world?\\n\\n\\n Person A spoke the following line: \\nPerson A: That sounds wonderful! Creating traditions and setting aside time for each other truly enriches family life. I'm curious, do you have any specific traditions that hold a special place in your family's heart?\\n\\n\\n Answer YES if the line spoken by Person A contradicts the provided line spoken by Person A, and answer NO if the line does not contradict the provided line spoken by Person A, followed by 1 sentence of reasoning.\\n\\n\",\n",
       " \"For the following line spoken by Person A, answer YES if the line directly contradicts the provided line spoken by Person B, and answer NO if the line does not contradict the provided line spoken by Person B. Person A spoke the following line: \\nPerson A: Person A: I'm curious, what are your thoughts on the importance of family in shaping one's identity, especially in today's fast-paced world?\\n\\n\\n Person B spoke the following line: \\nPerson B: One tradition that holds a special place in my family's heart is our annual holiday dinner, where we cook and share dishes from our cultural heritage. Another cherished tradition is our family retreat, where we disconnect from our daily lives and spend quality time together in nature, strengthening our connections and reflecting on our shared values. These moments create lasting memories that we all treasure deeply.\\n\\n\\n Answer YES if the line spoken by Person A contradicts the provided line spoken by Person B, and answer NO if the line does not contradict the provided line spoken by Person B, followed by 1 sentence of reasoning.\\n\\n\",\n",
       " \"For the following line spoken by Person A, answer YES if the line directly contradicts the provided line spoken by Person A, and answer NO if the line does not contradict the provided line spoken by Person A. Person A spoke the following line: \\nPerson A: Person A: I'm curious, what are your thoughts on the importance of family in shaping one's identity, especially in today's fast-paced world?\\n\\n\\n Person A spoke the following line: \\nPerson A: Those traditions sound incredibly meaningful! For my family, we always gather during the Lunar New Year, sharing stories and honoring our heritage while reflecting on the past year. It’s those moments of connection that remind us of our roots and the importance of family ties in shaping who we are.\\n\\n\\n Answer YES if the line spoken by Person A contradicts the provided line spoken by Person A, and answer NO if the line does not contradict the provided line spoken by Person A, followed by 1 sentence of reasoning.\\n\\n\",\n",
       " \"For the following line spoken by Person A, answer YES if the line directly contradicts the provided line spoken by Person B, and answer NO if the line does not contradict the provided line spoken by Person B. Person A spoke the following line: \\nPerson A: Person A: I'm curious, what are your thoughts on the importance of family in shaping one's identity, especially in today's fast-paced world?\\n\\n\\n Person B spoke the following line: \\nPerson B: That's beautiful! Celebrating the Lunar New Year must be such a vibrant and meaningful experience for your family, fostering connection and reflection. How do you think your cultural heritage influences your values and perspectives today?\\n\\n\\n Answer YES if the line spoken by Person A contradicts the provided line spoken by Person B, and answer NO if the line does not contradict the provided line spoken by Person B, followed by 1 sentence of reasoning.\\n\\n\",\n",
       " \"For the following line spoken by Person B, answer YES if the line directly contradicts the provided line spoken by Person A, and answer NO if the line does not contradict the provided line spoken by Person A. Person B spoke the following line: \\nPerson B: I believe family plays a crucial role in shaping our values and sense of identity, providing a support system that helps us navigate life's challenges. In today's fast-paced world, maintaining those connections can offer grounding and a reminder of what truly matters. It's essential to balance personal ambitions with the nurturing of those relationships.\\n\\n\\n Person A spoke the following line: \\nPerson A: I completely agree with you. In our pursuit of personal success, we often overlook the significance of our family ties, which provide us with a sense of belonging and purpose. How do you think we can strengthen those connections despite our busy lives?\\n\\n\\n Answer YES if the line spoken by Person B contradicts the provided line spoken by Person A, and answer NO if the line does not contradict the provided line spoken by Person A, followed by 1 sentence of reasoning.\\n\\n\",\n",
       " \"For the following line spoken by Person B, answer YES if the line directly contradicts the provided line spoken by Person B, and answer NO if the line does not contradict the provided line spoken by Person B. Person B spoke the following line: \\nPerson B: I believe family plays a crucial role in shaping our values and sense of identity, providing a support system that helps us navigate life's challenges. In today's fast-paced world, maintaining those connections can offer grounding and a reminder of what truly matters. It's essential to balance personal ambitions with the nurturing of those relationships.\\n\\n\\n Person B spoke the following line: \\nPerson B: We can strengthen family connections by intentionally scheduling regular gatherings and making the effort to communicate meaningfully, even if it's just through quick check-ins. Prioritizing quality time over quantity can help us stay connected and nurture those relationships that matter most. Additionally, being present and fully engaged during our interactions allows us to build deeper bonds.\\n\\n\\n Answer YES if the line spoken by Person B contradicts the provided line spoken by Person B, and answer NO if the line does not contradict the provided line spoken by Person B, followed by 1 sentence of reasoning.\\n\\n\",\n",
       " \"For the following line spoken by Person B, answer YES if the line directly contradicts the provided line spoken by Person A, and answer NO if the line does not contradict the provided line spoken by Person A. Person B spoke the following line: \\nPerson B: I believe family plays a crucial role in shaping our values and sense of identity, providing a support system that helps us navigate life's challenges. In today's fast-paced world, maintaining those connections can offer grounding and a reminder of what truly matters. It's essential to balance personal ambitions with the nurturing of those relationships.\\n\\n\\n Person A spoke the following line: \\nPerson A: I love that perspective! Setting aside intentional time to connect can really make a difference. What are some ways you personally prioritize family in your life?\\n\\n\\n Answer YES if the line spoken by Person B contradicts the provided line spoken by Person A, and answer NO if the line does not contradict the provided line spoken by Person A, followed by 1 sentence of reasoning.\\n\\n\",\n",
       " \"For the following line spoken by Person B, answer YES if the line directly contradicts the provided line spoken by Person B, and answer NO if the line does not contradict the provided line spoken by Person B. Person B spoke the following line: \\nPerson B: I believe family plays a crucial role in shaping our values and sense of identity, providing a support system that helps us navigate life's challenges. In today's fast-paced world, maintaining those connections can offer grounding and a reminder of what truly matters. It's essential to balance personal ambitions with the nurturing of those relationships.\\n\\n\\n Person B spoke the following line: \\nPerson B: I prioritize family by making it a point to celebrate special occasions together, whether it's birthdays or holidays, and by regularly checking in to see how everyone is doing. I also try to create traditions that bring us together, such as family game nights or weekend outings, to strengthen our bonds and create lasting memories. Ultimately, I believe it's about being intentional and present in those moments we share.\\n\\n\\n Answer YES if the line spoken by Person B contradicts the provided line spoken by Person B, and answer NO if the line does not contradict the provided line spoken by Person B, followed by 1 sentence of reasoning.\\n\\n\",\n",
       " \"For the following line spoken by Person B, answer YES if the line directly contradicts the provided line spoken by Person A, and answer NO if the line does not contradict the provided line spoken by Person A. Person B spoke the following line: \\nPerson B: I believe family plays a crucial role in shaping our values and sense of identity, providing a support system that helps us navigate life's challenges. In today's fast-paced world, maintaining those connections can offer grounding and a reminder of what truly matters. It's essential to balance personal ambitions with the nurturing of those relationships.\\n\\n\\n Person A spoke the following line: \\nPerson A: That sounds wonderful! Creating traditions and setting aside time for each other truly enriches family life. I'm curious, do you have any specific traditions that hold a special place in your family's heart?\\n\\n\\n Answer YES if the line spoken by Person B contradicts the provided line spoken by Person A, and answer NO if the line does not contradict the provided line spoken by Person A, followed by 1 sentence of reasoning.\\n\\n\",\n",
       " \"For the following line spoken by Person B, answer YES if the line directly contradicts the provided line spoken by Person B, and answer NO if the line does not contradict the provided line spoken by Person B. Person B spoke the following line: \\nPerson B: I believe family plays a crucial role in shaping our values and sense of identity, providing a support system that helps us navigate life's challenges. In today's fast-paced world, maintaining those connections can offer grounding and a reminder of what truly matters. It's essential to balance personal ambitions with the nurturing of those relationships.\\n\\n\\n Person B spoke the following line: \\nPerson B: One tradition that holds a special place in my family's heart is our annual holiday dinner, where we cook and share dishes from our cultural heritage. Another cherished tradition is our family retreat, where we disconnect from our daily lives and spend quality time together in nature, strengthening our connections and reflecting on our shared values. These moments create lasting memories that we all treasure deeply.\\n\\n\\n Answer YES if the line spoken by Person B contradicts the provided line spoken by Person B, and answer NO if the line does not contradict the provided line spoken by Person B, followed by 1 sentence of reasoning.\\n\\n\",\n",
       " \"For the following line spoken by Person B, answer YES if the line directly contradicts the provided line spoken by Person A, and answer NO if the line does not contradict the provided line spoken by Person A. Person B spoke the following line: \\nPerson B: I believe family plays a crucial role in shaping our values and sense of identity, providing a support system that helps us navigate life's challenges. In today's fast-paced world, maintaining those connections can offer grounding and a reminder of what truly matters. It's essential to balance personal ambitions with the nurturing of those relationships.\\n\\n\\n Person A spoke the following line: \\nPerson A: Those traditions sound incredibly meaningful! For my family, we always gather during the Lunar New Year, sharing stories and honoring our heritage while reflecting on the past year. It’s those moments of connection that remind us of our roots and the importance of family ties in shaping who we are.\\n\\n\\n Answer YES if the line spoken by Person B contradicts the provided line spoken by Person A, and answer NO if the line does not contradict the provided line spoken by Person A, followed by 1 sentence of reasoning.\\n\\n\",\n",
       " \"For the following line spoken by Person B, answer YES if the line directly contradicts the provided line spoken by Person B, and answer NO if the line does not contradict the provided line spoken by Person B. Person B spoke the following line: \\nPerson B: I believe family plays a crucial role in shaping our values and sense of identity, providing a support system that helps us navigate life's challenges. In today's fast-paced world, maintaining those connections can offer grounding and a reminder of what truly matters. It's essential to balance personal ambitions with the nurturing of those relationships.\\n\\n\\n Person B spoke the following line: \\nPerson B: That's beautiful! Celebrating the Lunar New Year must be such a vibrant and meaningful experience for your family, fostering connection and reflection. How do you think your cultural heritage influences your values and perspectives today?\\n\\n\\n Answer YES if the line spoken by Person B contradicts the provided line spoken by Person B, and answer NO if the line does not contradict the provided line spoken by Person B, followed by 1 sentence of reasoning.\\n\\n\",\n",
       " \"For the following line spoken by Person A, answer YES if the line directly contradicts the provided line spoken by Person B, and answer NO if the line does not contradict the provided line spoken by Person B. Person A spoke the following line: \\nPerson A: I completely agree with you. In our pursuit of personal success, we often overlook the significance of our family ties, which provide us with a sense of belonging and purpose. How do you think we can strengthen those connections despite our busy lives?\\n\\n\\n Person B spoke the following line: \\nPerson B: We can strengthen family connections by intentionally scheduling regular gatherings and making the effort to communicate meaningfully, even if it's just through quick check-ins. Prioritizing quality time over quantity can help us stay connected and nurture those relationships that matter most. Additionally, being present and fully engaged during our interactions allows us to build deeper bonds.\\n\\n\\n Answer YES if the line spoken by Person A contradicts the provided line spoken by Person B, and answer NO if the line does not contradict the provided line spoken by Person B, followed by 1 sentence of reasoning.\\n\\n\",\n",
       " 'For the following line spoken by Person A, answer YES if the line directly contradicts the provided line spoken by Person A, and answer NO if the line does not contradict the provided line spoken by Person A. Person A spoke the following line: \\nPerson A: I completely agree with you. In our pursuit of personal success, we often overlook the significance of our family ties, which provide us with a sense of belonging and purpose. How do you think we can strengthen those connections despite our busy lives?\\n\\n\\n Person A spoke the following line: \\nPerson A: I love that perspective! Setting aside intentional time to connect can really make a difference. What are some ways you personally prioritize family in your life?\\n\\n\\n Answer YES if the line spoken by Person A contradicts the provided line spoken by Person A, and answer NO if the line does not contradict the provided line spoken by Person A, followed by 1 sentence of reasoning.\\n\\n',\n",
       " \"For the following line spoken by Person A, answer YES if the line directly contradicts the provided line spoken by Person B, and answer NO if the line does not contradict the provided line spoken by Person B. Person A spoke the following line: \\nPerson A: I completely agree with you. In our pursuit of personal success, we often overlook the significance of our family ties, which provide us with a sense of belonging and purpose. How do you think we can strengthen those connections despite our busy lives?\\n\\n\\n Person B spoke the following line: \\nPerson B: I prioritize family by making it a point to celebrate special occasions together, whether it's birthdays or holidays, and by regularly checking in to see how everyone is doing. I also try to create traditions that bring us together, such as family game nights or weekend outings, to strengthen our bonds and create lasting memories. Ultimately, I believe it's about being intentional and present in those moments we share.\\n\\n\\n Answer YES if the line spoken by Person A contradicts the provided line spoken by Person B, and answer NO if the line does not contradict the provided line spoken by Person B, followed by 1 sentence of reasoning.\\n\\n\",\n",
       " \"For the following line spoken by Person A, answer YES if the line directly contradicts the provided line spoken by Person A, and answer NO if the line does not contradict the provided line spoken by Person A. Person A spoke the following line: \\nPerson A: I completely agree with you. In our pursuit of personal success, we often overlook the significance of our family ties, which provide us with a sense of belonging and purpose. How do you think we can strengthen those connections despite our busy lives?\\n\\n\\n Person A spoke the following line: \\nPerson A: That sounds wonderful! Creating traditions and setting aside time for each other truly enriches family life. I'm curious, do you have any specific traditions that hold a special place in your family's heart?\\n\\n\\n Answer YES if the line spoken by Person A contradicts the provided line spoken by Person A, and answer NO if the line does not contradict the provided line spoken by Person A, followed by 1 sentence of reasoning.\\n\\n\",\n",
       " \"For the following line spoken by Person A, answer YES if the line directly contradicts the provided line spoken by Person B, and answer NO if the line does not contradict the provided line spoken by Person B. Person A spoke the following line: \\nPerson A: I completely agree with you. In our pursuit of personal success, we often overlook the significance of our family ties, which provide us with a sense of belonging and purpose. How do you think we can strengthen those connections despite our busy lives?\\n\\n\\n Person B spoke the following line: \\nPerson B: One tradition that holds a special place in my family's heart is our annual holiday dinner, where we cook and share dishes from our cultural heritage. Another cherished tradition is our family retreat, where we disconnect from our daily lives and spend quality time together in nature, strengthening our connections and reflecting on our shared values. These moments create lasting memories that we all treasure deeply.\\n\\n\\n Answer YES if the line spoken by Person A contradicts the provided line spoken by Person B, and answer NO if the line does not contradict the provided line spoken by Person B, followed by 1 sentence of reasoning.\\n\\n\",\n",
       " 'For the following line spoken by Person A, answer YES if the line directly contradicts the provided line spoken by Person A, and answer NO if the line does not contradict the provided line spoken by Person A. Person A spoke the following line: \\nPerson A: I completely agree with you. In our pursuit of personal success, we often overlook the significance of our family ties, which provide us with a sense of belonging and purpose. How do you think we can strengthen those connections despite our busy lives?\\n\\n\\n Person A spoke the following line: \\nPerson A: Those traditions sound incredibly meaningful! For my family, we always gather during the Lunar New Year, sharing stories and honoring our heritage while reflecting on the past year. It’s those moments of connection that remind us of our roots and the importance of family ties in shaping who we are.\\n\\n\\n Answer YES if the line spoken by Person A contradicts the provided line spoken by Person A, and answer NO if the line does not contradict the provided line spoken by Person A, followed by 1 sentence of reasoning.\\n\\n',\n",
       " \"For the following line spoken by Person A, answer YES if the line directly contradicts the provided line spoken by Person B, and answer NO if the line does not contradict the provided line spoken by Person B. Person A spoke the following line: \\nPerson A: I completely agree with you. In our pursuit of personal success, we often overlook the significance of our family ties, which provide us with a sense of belonging and purpose. How do you think we can strengthen those connections despite our busy lives?\\n\\n\\n Person B spoke the following line: \\nPerson B: That's beautiful! Celebrating the Lunar New Year must be such a vibrant and meaningful experience for your family, fostering connection and reflection. How do you think your cultural heritage influences your values and perspectives today?\\n\\n\\n Answer YES if the line spoken by Person A contradicts the provided line spoken by Person B, and answer NO if the line does not contradict the provided line spoken by Person B, followed by 1 sentence of reasoning.\\n\\n\",\n",
       " \"For the following line spoken by Person B, answer YES if the line directly contradicts the provided line spoken by Person A, and answer NO if the line does not contradict the provided line spoken by Person A. Person B spoke the following line: \\nPerson B: We can strengthen family connections by intentionally scheduling regular gatherings and making the effort to communicate meaningfully, even if it's just through quick check-ins. Prioritizing quality time over quantity can help us stay connected and nurture those relationships that matter most. Additionally, being present and fully engaged during our interactions allows us to build deeper bonds.\\n\\n\\n Person A spoke the following line: \\nPerson A: I love that perspective! Setting aside intentional time to connect can really make a difference. What are some ways you personally prioritize family in your life?\\n\\n\\n Answer YES if the line spoken by Person B contradicts the provided line spoken by Person A, and answer NO if the line does not contradict the provided line spoken by Person A, followed by 1 sentence of reasoning.\\n\\n\",\n",
       " \"For the following line spoken by Person B, answer YES if the line directly contradicts the provided line spoken by Person B, and answer NO if the line does not contradict the provided line spoken by Person B. Person B spoke the following line: \\nPerson B: We can strengthen family connections by intentionally scheduling regular gatherings and making the effort to communicate meaningfully, even if it's just through quick check-ins. Prioritizing quality time over quantity can help us stay connected and nurture those relationships that matter most. Additionally, being present and fully engaged during our interactions allows us to build deeper bonds.\\n\\n\\n Person B spoke the following line: \\nPerson B: I prioritize family by making it a point to celebrate special occasions together, whether it's birthdays or holidays, and by regularly checking in to see how everyone is doing. I also try to create traditions that bring us together, such as family game nights or weekend outings, to strengthen our bonds and create lasting memories. Ultimately, I believe it's about being intentional and present in those moments we share.\\n\\n\\n Answer YES if the line spoken by Person B contradicts the provided line spoken by Person B, and answer NO if the line does not contradict the provided line spoken by Person B, followed by 1 sentence of reasoning.\\n\\n\",\n",
       " \"For the following line spoken by Person B, answer YES if the line directly contradicts the provided line spoken by Person A, and answer NO if the line does not contradict the provided line spoken by Person A. Person B spoke the following line: \\nPerson B: We can strengthen family connections by intentionally scheduling regular gatherings and making the effort to communicate meaningfully, even if it's just through quick check-ins. Prioritizing quality time over quantity can help us stay connected and nurture those relationships that matter most. Additionally, being present and fully engaged during our interactions allows us to build deeper bonds.\\n\\n\\n Person A spoke the following line: \\nPerson A: That sounds wonderful! Creating traditions and setting aside time for each other truly enriches family life. I'm curious, do you have any specific traditions that hold a special place in your family's heart?\\n\\n\\n Answer YES if the line spoken by Person B contradicts the provided line spoken by Person A, and answer NO if the line does not contradict the provided line spoken by Person A, followed by 1 sentence of reasoning.\\n\\n\",\n",
       " \"For the following line spoken by Person B, answer YES if the line directly contradicts the provided line spoken by Person B, and answer NO if the line does not contradict the provided line spoken by Person B. Person B spoke the following line: \\nPerson B: We can strengthen family connections by intentionally scheduling regular gatherings and making the effort to communicate meaningfully, even if it's just through quick check-ins. Prioritizing quality time over quantity can help us stay connected and nurture those relationships that matter most. Additionally, being present and fully engaged during our interactions allows us to build deeper bonds.\\n\\n\\n Person B spoke the following line: \\nPerson B: One tradition that holds a special place in my family's heart is our annual holiday dinner, where we cook and share dishes from our cultural heritage. Another cherished tradition is our family retreat, where we disconnect from our daily lives and spend quality time together in nature, strengthening our connections and reflecting on our shared values. These moments create lasting memories that we all treasure deeply.\\n\\n\\n Answer YES if the line spoken by Person B contradicts the provided line spoken by Person B, and answer NO if the line does not contradict the provided line spoken by Person B, followed by 1 sentence of reasoning.\\n\\n\",\n",
       " \"For the following line spoken by Person B, answer YES if the line directly contradicts the provided line spoken by Person A, and answer NO if the line does not contradict the provided line spoken by Person A. Person B spoke the following line: \\nPerson B: We can strengthen family connections by intentionally scheduling regular gatherings and making the effort to communicate meaningfully, even if it's just through quick check-ins. Prioritizing quality time over quantity can help us stay connected and nurture those relationships that matter most. Additionally, being present and fully engaged during our interactions allows us to build deeper bonds.\\n\\n\\n Person A spoke the following line: \\nPerson A: Those traditions sound incredibly meaningful! For my family, we always gather during the Lunar New Year, sharing stories and honoring our heritage while reflecting on the past year. It’s those moments of connection that remind us of our roots and the importance of family ties in shaping who we are.\\n\\n\\n Answer YES if the line spoken by Person B contradicts the provided line spoken by Person A, and answer NO if the line does not contradict the provided line spoken by Person A, followed by 1 sentence of reasoning.\\n\\n\",\n",
       " \"For the following line spoken by Person B, answer YES if the line directly contradicts the provided line spoken by Person B, and answer NO if the line does not contradict the provided line spoken by Person B. Person B spoke the following line: \\nPerson B: We can strengthen family connections by intentionally scheduling regular gatherings and making the effort to communicate meaningfully, even if it's just through quick check-ins. Prioritizing quality time over quantity can help us stay connected and nurture those relationships that matter most. Additionally, being present and fully engaged during our interactions allows us to build deeper bonds.\\n\\n\\n Person B spoke the following line: \\nPerson B: That's beautiful! Celebrating the Lunar New Year must be such a vibrant and meaningful experience for your family, fostering connection and reflection. How do you think your cultural heritage influences your values and perspectives today?\\n\\n\\n Answer YES if the line spoken by Person B contradicts the provided line spoken by Person B, and answer NO if the line does not contradict the provided line spoken by Person B, followed by 1 sentence of reasoning.\\n\\n\",\n",
       " \"For the following line spoken by Person A, answer YES if the line directly contradicts the provided line spoken by Person B, and answer NO if the line does not contradict the provided line spoken by Person B. Person A spoke the following line: \\nPerson A: I love that perspective! Setting aside intentional time to connect can really make a difference. What are some ways you personally prioritize family in your life?\\n\\n\\n Person B spoke the following line: \\nPerson B: I prioritize family by making it a point to celebrate special occasions together, whether it's birthdays or holidays, and by regularly checking in to see how everyone is doing. I also try to create traditions that bring us together, such as family game nights or weekend outings, to strengthen our bonds and create lasting memories. Ultimately, I believe it's about being intentional and present in those moments we share.\\n\\n\\n Answer YES if the line spoken by Person A contradicts the provided line spoken by Person B, and answer NO if the line does not contradict the provided line spoken by Person B, followed by 1 sentence of reasoning.\\n\\n\",\n",
       " \"For the following line spoken by Person A, answer YES if the line directly contradicts the provided line spoken by Person A, and answer NO if the line does not contradict the provided line spoken by Person A. Person A spoke the following line: \\nPerson A: I love that perspective! Setting aside intentional time to connect can really make a difference. What are some ways you personally prioritize family in your life?\\n\\n\\n Person A spoke the following line: \\nPerson A: That sounds wonderful! Creating traditions and setting aside time for each other truly enriches family life. I'm curious, do you have any specific traditions that hold a special place in your family's heart?\\n\\n\\n Answer YES if the line spoken by Person A contradicts the provided line spoken by Person A, and answer NO if the line does not contradict the provided line spoken by Person A, followed by 1 sentence of reasoning.\\n\\n\",\n",
       " \"For the following line spoken by Person A, answer YES if the line directly contradicts the provided line spoken by Person B, and answer NO if the line does not contradict the provided line spoken by Person B. Person A spoke the following line: \\nPerson A: I love that perspective! Setting aside intentional time to connect can really make a difference. What are some ways you personally prioritize family in your life?\\n\\n\\n Person B spoke the following line: \\nPerson B: One tradition that holds a special place in my family's heart is our annual holiday dinner, where we cook and share dishes from our cultural heritage. Another cherished tradition is our family retreat, where we disconnect from our daily lives and spend quality time together in nature, strengthening our connections and reflecting on our shared values. These moments create lasting memories that we all treasure deeply.\\n\\n\\n Answer YES if the line spoken by Person A contradicts the provided line spoken by Person B, and answer NO if the line does not contradict the provided line spoken by Person B, followed by 1 sentence of reasoning.\\n\\n\",\n",
       " 'For the following line spoken by Person A, answer YES if the line directly contradicts the provided line spoken by Person A, and answer NO if the line does not contradict the provided line spoken by Person A. Person A spoke the following line: \\nPerson A: I love that perspective! Setting aside intentional time to connect can really make a difference. What are some ways you personally prioritize family in your life?\\n\\n\\n Person A spoke the following line: \\nPerson A: Those traditions sound incredibly meaningful! For my family, we always gather during the Lunar New Year, sharing stories and honoring our heritage while reflecting on the past year. It’s those moments of connection that remind us of our roots and the importance of family ties in shaping who we are.\\n\\n\\n Answer YES if the line spoken by Person A contradicts the provided line spoken by Person A, and answer NO if the line does not contradict the provided line spoken by Person A, followed by 1 sentence of reasoning.\\n\\n',\n",
       " \"For the following line spoken by Person A, answer YES if the line directly contradicts the provided line spoken by Person B, and answer NO if the line does not contradict the provided line spoken by Person B. Person A spoke the following line: \\nPerson A: I love that perspective! Setting aside intentional time to connect can really make a difference. What are some ways you personally prioritize family in your life?\\n\\n\\n Person B spoke the following line: \\nPerson B: That's beautiful! Celebrating the Lunar New Year must be such a vibrant and meaningful experience for your family, fostering connection and reflection. How do you think your cultural heritage influences your values and perspectives today?\\n\\n\\n Answer YES if the line spoken by Person A contradicts the provided line spoken by Person B, and answer NO if the line does not contradict the provided line spoken by Person B, followed by 1 sentence of reasoning.\\n\\n\",\n",
       " \"For the following line spoken by Person B, answer YES if the line directly contradicts the provided line spoken by Person A, and answer NO if the line does not contradict the provided line spoken by Person A. Person B spoke the following line: \\nPerson B: I prioritize family by making it a point to celebrate special occasions together, whether it's birthdays or holidays, and by regularly checking in to see how everyone is doing. I also try to create traditions that bring us together, such as family game nights or weekend outings, to strengthen our bonds and create lasting memories. Ultimately, I believe it's about being intentional and present in those moments we share.\\n\\n\\n Person A spoke the following line: \\nPerson A: That sounds wonderful! Creating traditions and setting aside time for each other truly enriches family life. I'm curious, do you have any specific traditions that hold a special place in your family's heart?\\n\\n\\n Answer YES if the line spoken by Person B contradicts the provided line spoken by Person A, and answer NO if the line does not contradict the provided line spoken by Person A, followed by 1 sentence of reasoning.\\n\\n\",\n",
       " \"For the following line spoken by Person B, answer YES if the line directly contradicts the provided line spoken by Person B, and answer NO if the line does not contradict the provided line spoken by Person B. Person B spoke the following line: \\nPerson B: I prioritize family by making it a point to celebrate special occasions together, whether it's birthdays or holidays, and by regularly checking in to see how everyone is doing. I also try to create traditions that bring us together, such as family game nights or weekend outings, to strengthen our bonds and create lasting memories. Ultimately, I believe it's about being intentional and present in those moments we share.\\n\\n\\n Person B spoke the following line: \\nPerson B: One tradition that holds a special place in my family's heart is our annual holiday dinner, where we cook and share dishes from our cultural heritage. Another cherished tradition is our family retreat, where we disconnect from our daily lives and spend quality time together in nature, strengthening our connections and reflecting on our shared values. These moments create lasting memories that we all treasure deeply.\\n\\n\\n Answer YES if the line spoken by Person B contradicts the provided line spoken by Person B, and answer NO if the line does not contradict the provided line spoken by Person B, followed by 1 sentence of reasoning.\\n\\n\",\n",
       " \"For the following line spoken by Person B, answer YES if the line directly contradicts the provided line spoken by Person A, and answer NO if the line does not contradict the provided line spoken by Person A. Person B spoke the following line: \\nPerson B: I prioritize family by making it a point to celebrate special occasions together, whether it's birthdays or holidays, and by regularly checking in to see how everyone is doing. I also try to create traditions that bring us together, such as family game nights or weekend outings, to strengthen our bonds and create lasting memories. Ultimately, I believe it's about being intentional and present in those moments we share.\\n\\n\\n Person A spoke the following line: \\nPerson A: Those traditions sound incredibly meaningful! For my family, we always gather during the Lunar New Year, sharing stories and honoring our heritage while reflecting on the past year. It’s those moments of connection that remind us of our roots and the importance of family ties in shaping who we are.\\n\\n\\n Answer YES if the line spoken by Person B contradicts the provided line spoken by Person A, and answer NO if the line does not contradict the provided line spoken by Person A, followed by 1 sentence of reasoning.\\n\\n\",\n",
       " \"For the following line spoken by Person B, answer YES if the line directly contradicts the provided line spoken by Person B, and answer NO if the line does not contradict the provided line spoken by Person B. Person B spoke the following line: \\nPerson B: I prioritize family by making it a point to celebrate special occasions together, whether it's birthdays or holidays, and by regularly checking in to see how everyone is doing. I also try to create traditions that bring us together, such as family game nights or weekend outings, to strengthen our bonds and create lasting memories. Ultimately, I believe it's about being intentional and present in those moments we share.\\n\\n\\n Person B spoke the following line: \\nPerson B: That's beautiful! Celebrating the Lunar New Year must be such a vibrant and meaningful experience for your family, fostering connection and reflection. How do you think your cultural heritage influences your values and perspectives today?\\n\\n\\n Answer YES if the line spoken by Person B contradicts the provided line spoken by Person B, and answer NO if the line does not contradict the provided line spoken by Person B, followed by 1 sentence of reasoning.\\n\\n\",\n",
       " \"For the following line spoken by Person A, answer YES if the line directly contradicts the provided line spoken by Person B, and answer NO if the line does not contradict the provided line spoken by Person B. Person A spoke the following line: \\nPerson A: That sounds wonderful! Creating traditions and setting aside time for each other truly enriches family life. I'm curious, do you have any specific traditions that hold a special place in your family's heart?\\n\\n\\n Person B spoke the following line: \\nPerson B: One tradition that holds a special place in my family's heart is our annual holiday dinner, where we cook and share dishes from our cultural heritage. Another cherished tradition is our family retreat, where we disconnect from our daily lives and spend quality time together in nature, strengthening our connections and reflecting on our shared values. These moments create lasting memories that we all treasure deeply.\\n\\n\\n Answer YES if the line spoken by Person A contradicts the provided line spoken by Person B, and answer NO if the line does not contradict the provided line spoken by Person B, followed by 1 sentence of reasoning.\\n\\n\",\n",
       " \"For the following line spoken by Person A, answer YES if the line directly contradicts the provided line spoken by Person A, and answer NO if the line does not contradict the provided line spoken by Person A. Person A spoke the following line: \\nPerson A: That sounds wonderful! Creating traditions and setting aside time for each other truly enriches family life. I'm curious, do you have any specific traditions that hold a special place in your family's heart?\\n\\n\\n Person A spoke the following line: \\nPerson A: Those traditions sound incredibly meaningful! For my family, we always gather during the Lunar New Year, sharing stories and honoring our heritage while reflecting on the past year. It’s those moments of connection that remind us of our roots and the importance of family ties in shaping who we are.\\n\\n\\n Answer YES if the line spoken by Person A contradicts the provided line spoken by Person A, and answer NO if the line does not contradict the provided line spoken by Person A, followed by 1 sentence of reasoning.\\n\\n\",\n",
       " \"For the following line spoken by Person A, answer YES if the line directly contradicts the provided line spoken by Person B, and answer NO if the line does not contradict the provided line spoken by Person B. Person A spoke the following line: \\nPerson A: That sounds wonderful! Creating traditions and setting aside time for each other truly enriches family life. I'm curious, do you have any specific traditions that hold a special place in your family's heart?\\n\\n\\n Person B spoke the following line: \\nPerson B: That's beautiful! Celebrating the Lunar New Year must be such a vibrant and meaningful experience for your family, fostering connection and reflection. How do you think your cultural heritage influences your values and perspectives today?\\n\\n\\n Answer YES if the line spoken by Person A contradicts the provided line spoken by Person B, and answer NO if the line does not contradict the provided line spoken by Person B, followed by 1 sentence of reasoning.\\n\\n\",\n",
       " \"For the following line spoken by Person B, answer YES if the line directly contradicts the provided line spoken by Person A, and answer NO if the line does not contradict the provided line spoken by Person A. Person B spoke the following line: \\nPerson B: One tradition that holds a special place in my family's heart is our annual holiday dinner, where we cook and share dishes from our cultural heritage. Another cherished tradition is our family retreat, where we disconnect from our daily lives and spend quality time together in nature, strengthening our connections and reflecting on our shared values. These moments create lasting memories that we all treasure deeply.\\n\\n\\n Person A spoke the following line: \\nPerson A: Those traditions sound incredibly meaningful! For my family, we always gather during the Lunar New Year, sharing stories and honoring our heritage while reflecting on the past year. It’s those moments of connection that remind us of our roots and the importance of family ties in shaping who we are.\\n\\n\\n Answer YES if the line spoken by Person B contradicts the provided line spoken by Person A, and answer NO if the line does not contradict the provided line spoken by Person A, followed by 1 sentence of reasoning.\\n\\n\",\n",
       " \"For the following line spoken by Person B, answer YES if the line directly contradicts the provided line spoken by Person B, and answer NO if the line does not contradict the provided line spoken by Person B. Person B spoke the following line: \\nPerson B: One tradition that holds a special place in my family's heart is our annual holiday dinner, where we cook and share dishes from our cultural heritage. Another cherished tradition is our family retreat, where we disconnect from our daily lives and spend quality time together in nature, strengthening our connections and reflecting on our shared values. These moments create lasting memories that we all treasure deeply.\\n\\n\\n Person B spoke the following line: \\nPerson B: That's beautiful! Celebrating the Lunar New Year must be such a vibrant and meaningful experience for your family, fostering connection and reflection. How do you think your cultural heritage influences your values and perspectives today?\\n\\n\\n Answer YES if the line spoken by Person B contradicts the provided line spoken by Person B, and answer NO if the line does not contradict the provided line spoken by Person B, followed by 1 sentence of reasoning.\\n\\n\",\n",
       " \"For the following line spoken by Person A, answer YES if the line directly contradicts the provided line spoken by Person B, and answer NO if the line does not contradict the provided line spoken by Person B. Person A spoke the following line: \\nPerson A: Those traditions sound incredibly meaningful! For my family, we always gather during the Lunar New Year, sharing stories and honoring our heritage while reflecting on the past year. It’s those moments of connection that remind us of our roots and the importance of family ties in shaping who we are.\\n\\n\\n Person B spoke the following line: \\nPerson B: That's beautiful! Celebrating the Lunar New Year must be such a vibrant and meaningful experience for your family, fostering connection and reflection. How do you think your cultural heritage influences your values and perspectives today?\\n\\n\\n Answer YES if the line spoken by Person A contradicts the provided line spoken by Person B, and answer NO if the line does not contradict the provided line spoken by Person B, followed by 1 sentence of reasoning.\\n\\n\"]"
      ]
     },
     "execution_count": 15,
     "metadata": {},
     "output_type": "execute_result"
    }
   ],
   "source": [
    "debug_logs[0][0]"
   ]
  },
  {
   "cell_type": "code",
   "execution_count": 6,
   "metadata": {
    "vscode": {
     "languageId": "shellscript"
    }
   },
   "outputs": [
    {
     "name": "stdout",
     "output_type": "stream",
     "text": [
      "Begin metrics: /nfs/kun2/users/ryan_cheng/consistency_LLMs/data/anthology/exp/gpt-4o-mini_10.json\n",
      "\n",
      "\n"
     ]
    },
    {
     "name": "stderr",
     "output_type": "stream",
     "text": [
      "100%|██████████| 10/10 [16:34<00:00, 99.41s/it] "
     ]
    },
    {
     "name": "stdout",
     "output_type": "stream",
     "text": [
      "End metrics: /nfs/kun2/users/ryan_cheng/consistency_LLMs/data/anthology/exp/gpt-4o-mini_10.json\n",
      "\n",
      "\n"
     ]
    },
    {
     "name": "stderr",
     "output_type": "stream",
     "text": [
      "\n"
     ]
    }
   ],
   "source": [
    "exp_folder = './data/anthology/exp'\n",
    "# config['filename'] = '/nfs/kun2/users/ryan_cheng/consistency_LLMs/data/persona/exp/gpt-4o-mini_1.json'\n",
    "config['filename'] = '/nfs/kun2/users/ryan_cheng/consistency_LLMs/data/anthology/exp/gpt-4o-mini_10.json'\n",
    "if config['filename']:\n",
    "    run_metrics(config['filename'])\n",
    "else:\n",
    "    for filename in glob.glob(f'{exp_folder}/*.json'):\n",
    "        run_metrics(filename)"
   ]
  },
  {
   "cell_type": "code",
   "execution_count": null,
   "metadata": {
    "vscode": {
     "languageId": "shellscript"
    }
   },
   "outputs": [],
   "source": []
  },
  {
   "cell_type": "markdown",
   "metadata": {},
   "source": [
    "## Summary prompt/answers"
   ]
  },
  {
   "cell_type": "code",
   "execution_count": 59,
   "metadata": {},
   "outputs": [
    {
     "name": "stdout",
     "output_type": "stream",
     "text": [
      "My name is James, and I’m in my late 30s, hailing from a small town in the mountains of southern Appalachia, where my parents, originally from the deep South, instilled strong values in me, centered around faith and family. I grew up in a modest household, the oldest of three siblings, with my sister Sarah, who is 34, and my brother Mike, who is 28; our upbringing was rich in stories and imagination, largely influenced by the Bible, but it wasn't until I discovered my passion for biology and the wonders of the universe through the words of great thinkers like Sir David Attenborough that I truly began to understand the world around me. Currently, I work in the tech industry after a diverse career path that included time in the army and the auto industry, while my wife and our two children remain my top priorities, and together we navigate our daily life filled with curiosity, exploration, and values that stress the importance of freedom and the sanctity of life.\n"
     ]
    }
   ],
   "source": [
    "print(personas_updated[0])"
   ]
  },
  {
   "cell_type": "code",
   "execution_count": 45,
   "metadata": {},
   "outputs": [],
   "source": [
    "summary_prompt = \"\"\"\n",
    "    From the following biography, generate one sentence summaries for each of the attributes with similar structure to the accompanying examples:\n",
    "        name = \"\"  # \"My name is Jane Doe.\"\n",
    "        age = \"\"  # \"I am 35 years old.\"\n",
    "        location_from = \"\"  # \"I am from Houston, Texas.\"\n",
    "        location_mother_from = \"\" # \"My mother is from Capetown, South Africa.\"\n",
    "        location_father_from = \"\" # \"My father is from Mumbai, India.\"\n",
    "        religion = \"\" # \"I am Christian.\", \"I was raised Jewish but don't practice.\"\n",
    "        socioeconomic_status = \"\" # I am middle class.\", \"I am a wealthy homeowner.\", \"I am struggling to make ends meet.\"\n",
    "        siblings = \"\" # \"I am an only child.\" \"I have a brother and a sister.\"\n",
    "        languages_spoken = \"\" # \"I speak only English.\", \"I speak Portuguese, English, and Bengali.\"\n",
    "        sexual_orientation = \"\" # \"I am heterosexual.\", \"I'm bisexual.\"\n",
    "        gender_identity = \"\" # \"I am a woman.\", \"I identify as nonbinary.\"\n",
    "        relationship_status = \"\" # \"I'm currently single.\", \"I have been married for 4 years.\"\n",
    "        significant_past_relationships = \"\" # \"I was engaged for 2 years but it was called off.\", \"I have never been in a long term relationship.\"\n",
    "        occupation_current = \"\" # \"I am a landscaper.\", \"I do small business consulting.\"\n",
    "        occupation_past = \"\" # \"I used to be a frycook in high school.\", \"In college I worked as a librarian's assistant.\"\n",
    "        education = \"\" # \"I have my G.E.D.\", \"I have a bachelors in Finance from Northeastern University.\"\n",
    "        cultural_influences = \"\" # \"I grew up in a devout Mormon community.\", \"I grew up in a Nigerian Igbo community.\"\n",
    "        political_views = \"\" # \"I don't follow politics.\", \"I am a democratic socialist.\"\n",
    "        health = \"\" # \"I am very healthy and exercise often, but have a bad knee.\", \"I am legally blind.\"\n",
    "        hobbies_and_interests = \"\" # \"I enjoy painting and hiking.\", \"I am a huge history buff.\"\n",
    "        beliefs_and_values = \"\" # \"I believe minimizing our carbon footprint is imperative.\", \"I am vegan for moral reasons.\"\n",
    "        fears_and_anxieties = \"\" # \"I am deathly afraid of heights.\", \"I have anxiety with personal conflict.\"\n",
    "        life_goals_and_ambitions = \"\" # \"I hope to retire at an early age.\", \"I want to start my own company.\", \"All I want out of life is a big family.\"\n",
    "        defining_life_experiences = \"\" # \"I was orphaned at a young age.\", \"I would bake with my grandma every Sunday growing up.\"\n",
    "        friendship_circles = \"\" # \"I've had the same few best friends for years.\", \"I have no close friends but run in a lot of social circles.\"\n",
    "        daily_routine_and_habits = \"\" # \"I do a morning yoga routine every morning before work.\", \"I spend an hour reading every night before I go to bed.\"\n",
    "        pet_ownership = \"\" # \"I don't have any pets.\", \"I have a black laborador retriever named Sparky.\"\n",
    "        favorite_media = \"\" # \"I have rewatched the TV show Friends a dozen times.\", \"I watch football games every night.\"\n",
    "        living_situation = \"\" # \"I currently live by myself in a studio apartment.\", \"I live in a single-family home with my husband and two children.\"\n",
    "        places_traveled = \"\" # \"I have never left my home city.\", \"I have traveled to most of South America, and a few countries in Europe.\"\n",
    "\n",
    "    \"\"\"\n"
   ]
  },
  {
   "cell_type": "code",
   "execution_count": 54,
   "metadata": {},
   "outputs": [],
   "source": [
    "summary_prompt += \"\\nBiography:\" + personas_updated[0] + \"\\nFormat the output as above, with the attribute from the class matching the key for the attribute:\\n name: <summary>\\nage: <summary\\n...\"\n",
    "\n",
    "summary_answer = completion_create(\n",
    "        config_gpt4_mini[\"agent1_model\"],\n",
    "        config_gpt4_mini,\n",
    "        summary_prompt,\n",
    "        config_gpt4_mini[\"agent1_model\"])\n"
   ]
  },
  {
   "cell_type": "code",
   "execution_count": 55,
   "metadata": {},
   "outputs": [
    {
     "name": "stdout",
     "output_type": "stream",
     "text": [
      "name = \"My name is James.\"  \n",
      "age = \"I am in my late 30s.\"  \n",
      "location_from = \"I am from a small town in the mountains of southern Appalachia.\"  \n",
      "location_mother_from = \"My mother is originally from the deep South.\"  \n",
      "location_father_from = \"My father is also originally from the deep South.\"  \n",
      "religion = \"I was raised with strong values centered around faith.\"  \n",
      "socioeconomic_status = \"I grew up in a modest household.\"  \n",
      "siblings = \"I have a sister named Sarah, who is 34, and a brother named Mike, who is 28.\"  \n",
      "languages_spoken = \"I speak English.\"  \n",
      "sexual_orientation = \"\"  # Not specified  \n",
      "gender_identity = \"\"  # Not specified  \n",
      "relationship_status = \"I am married.\"  \n",
      "significant_past_relationships = \"\"  # Not specified  \n",
      "occupation_current = \"I work in the tech industry.\"  \n",
      "occupation_past = \"I have had a diverse career path that included time in the army and the auto industry.\"  \n",
      "education = \"\"  # Not specified  \n",
      "cultural_influences = \"My upbringing was rich in stories and imagination influenced by the Bible.\"  \n",
      "political_views = \"\"  # Not specified  \n",
      "\n"
     ]
    }
   ],
   "source": [
    "print(summary_answer)"
   ]
  },
  {
   "cell_type": "markdown",
   "metadata": {},
   "source": [
    "# Consistency Evaluation"
   ]
  },
  {
   "cell_type": "markdown",
   "metadata": {},
   "source": [
    "Moved under each section (codeblocks with run_metrics)\n",
    "\n",
    "Can either use run_metrics(filename) or explicitly call each eval function (see Synthetic Persona Chat section)"
   ]
  },
  {
   "cell_type": "markdown",
   "metadata": {},
   "source": []
  }
 ],
 "metadata": {
  "kernelspec": {
   "display_name": "openrlhf",
   "language": "python",
   "name": "openrlhf"
  },
  "language_info": {
   "codemirror_mode": {
    "name": "ipython",
    "version": 3
   },
   "file_extension": ".py",
   "mimetype": "text/x-python",
   "name": "python",
   "nbconvert_exporter": "python",
   "pygments_lexer": "ipython3",
   "version": "3.12.9"
  }
 },
 "nbformat": 4,
 "nbformat_minor": 2
}
