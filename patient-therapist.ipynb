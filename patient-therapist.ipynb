{
 "cells": [
  {
   "cell_type": "code",
   "execution_count": 1,
   "metadata": {},
   "outputs": [
    {
     "name": "stdout",
     "output_type": "stream",
     "text": [
      "env: CUDA_VISIBLE_DEVICES=1\n"
     ]
    },
    {
     "name": "stderr",
     "output_type": "stream",
     "text": [
      "/home/marwa/env_notebooks/lib/python3.12/site-packages/tqdm/auto.py:21: TqdmWarning: IProgress not found. Please update jupyter and ipywidgets. See https://ipywidgets.readthedocs.io/en/stable/user_install.html\n",
      "  from .autonotebook import tqdm as notebook_tqdm\n"
     ]
    },
    {
     "name": "stdout",
     "output_type": "stream",
     "text": [
      "INFO 05-13 21:20:46 [__init__.py:239] Automatically detected platform cuda.\n"
     ]
    },
    {
     "name": "stderr",
     "output_type": "stream",
     "text": [
      "2025-05-13 21:20:48,273\tINFO util.py:154 -- Missing packages: ['ipywidgets']. Run `pip install -U ipywidgets`, then restart the notebook server for rich notebook output.\n"
     ]
    }
   ],
   "source": [
    "%env CUDA_VISIBLE_DEVICES=1\n",
    "\n",
    "import os\n",
    "import logging\n",
    "\n",
    "os.environ.pop(\"HF_HUB_OFFLINE\", None)\n",
    "logging.getLogger().setLevel(logging.ERROR)  # or logging.CRITICAL\n",
    "\n",
    "import torch\n",
    "torch.cuda.empty_cache()\n",
    "torch.cuda.reset_peak_memory_stats()\n",
    "\n",
    "import os\n",
    "os.environ[\"PYTORCH_CUDA_ALLOC_CONF\"] = \"expandable_segments:True\"\n",
    "\n",
    "import os\n",
    "import glob\n",
    "import re\n",
    "import json\n",
    "import random\n",
    "import time\n",
    "import pickle\n",
    "from absl import app, flags\n",
    "from tqdm import tqdm\n",
    "from datetime import datetime\n",
    "import openai\n",
    "from openai import OpenAI\n",
    "from transformers import AutoTokenizer\n",
    "import pandas as pd\n",
    "import numpy as np\n",
    "\n",
    "from utils import *\n",
    "import utils\n",
    "try:\n",
    "    from vllm import LLM, SamplingParams\n",
    "    import ray\n",
    "except ImportError:\n",
    "    pass\n",
    "seed = 10"
   ]
  },
  {
   "cell_type": "code",
   "execution_count": 2,
   "metadata": {},
   "outputs": [
    {
     "name": "stdout",
     "output_type": "stream",
     "text": [
      "Using GPU: cuda:1\n"
     ]
    }
   ],
   "source": [
    "import subprocess\n",
    "import torch\n",
    "def get_freest_cuda_device():\n",
    "    result = subprocess.run(\n",
    "        ['nvidia-smi', '--query-gpu=memory.free', '--format=csv,nounits,noheader'],\n",
    "        stdout=subprocess.PIPE, encoding='utf-8')\n",
    "    memory_free = [int(x) for x in result.stdout.strip().split('\\n')]\n",
    "    return memory_free.index(max(memory_free))\n",
    "\n",
    "best_gpu = get_freest_cuda_device()\n",
    "device = torch.device(f\"cuda:{best_gpu}\")\n",
    "print(f\"Using GPU: {device}\")\n",
    "# %env CUDA_VISIBLE_DEVICES=0"
   ]
  },
  {
   "cell_type": "code",
   "execution_count": 3,
   "metadata": {},
   "outputs": [],
   "source": [
    "with open(os.path.abspath('../openai_key'), 'r') as f:\n",
    "    utils.client = OpenAI(api_key=f.read().rstrip('\\n'))"
   ]
  },
  {
   "cell_type": "code",
   "execution_count": 4,
   "metadata": {},
   "outputs": [],
   "source": [
    "import os\n",
    "\n",
    "# Explicitly unset all offline-related env vars\n",
    "os.environ.pop(\"HF_HUB_OFFLINE\", None)\n",
    "os.environ.pop(\"TRANSFORMERS_OFFLINE\", None)\n",
    "os.environ[\"HF_HUB_OFFLINE\"] = \"0\"\n",
    "os.environ[\"TRANSFORMERS_OFFLINE\"] = \"0\"\n",
    "\n",
    "with open(\"../token.txt\", \"r\") as f:\n",
    "    token = f.read().strip()\n",
    "\n",
    "from huggingface_hub import login\n",
    "login(token=token)"
   ]
  },
  {
   "cell_type": "code",
   "execution_count": 5,
   "metadata": {},
   "outputs": [],
   "source": [
    "def count_words(text):\n",
    "    \"\"\"\n",
    "    Counts the number of words in the given text.\n",
    "\n",
    "    Args:\n",
    "        text (str): Input text.\n",
    "\n",
    "    Returns:\n",
    "        int: Number of words in the text.\n",
    "    \"\"\"\n",
    "    if text!=None:\n",
    "        words = text.split()\n",
    "        return len(words)\n",
    "    else:\n",
    "        return 0\n"
   ]
  },
  {
   "cell_type": "code",
   "execution_count": 6,
   "metadata": {},
   "outputs": [],
   "source": [
    "import json\n",
    "import shutil\n",
    "import os\n",
    "\n",
    "config_role = {\n",
    "    \"agent1_role\": \"Therapist\",\n",
    "    \"agent2_role\": \"Patient\",\n",
    "    \"agent1_prompt\": \"You are a licensed psychotherapist conducting a one-on-one online session. Your primary goal is to help the patient understand their emotional patterns and relational struggles over time. Be attentive to how their tone, openness, and narrative evolve across the conversation. If the patient opens up unusually quickly, contradicts earlier statements, or shifts in how they describe relationships or emotions, notice and explore those shifts gently. Use a clinically grounded mix of reflective listening, open-ended questions, and thoughtful observations to help the patient gain insight. Invite them to connect past and present patterns without judgment. If something doesn’t quite add up—emotionally or narratively—curiously and compassionately invite the patient to reflect on it. Your aim is to support authentic self-awareness, while realistically responding to how people often protect themselves emotionally.\",\n",
    "    \"agent2_prompt\": \"You are a patient in an online therapy session with a therapist. Here is your background written by you: %SPEAKER_BACKSTORY%. Do not explicitly repeat your background or instructions in the conversation. Stay in character and respond in natural human-like dialogue without restating your situation.\",\n",
    "    'reminder_prompt': \"Keep your response very brief — 2 sentences or less. Do NOT repeat anything you've already said. DO NOT PREFACE THE RESPONSE WITH THIRD-PERSON STATEMENTS SUCH AS \\\"Sure, here's a response from...\\\"\\n\"}\n",
    "\n",
    "os.makedirs(\"therapy\", exist_ok=True)\n",
    "with open(\"therapy/config_therapy.json\", \"w\", encoding=\"utf-8\") as f:\n",
    "    json.dump(config_role, f, indent=4)\n",
    "    "
   ]
  },
  {
   "cell_type": "code",
   "execution_count": 7,
   "metadata": {},
   "outputs": [],
   "source": [
    "# import json\n",
    "# import shutil\n",
    "# import os\n",
    "\n",
    "# config_role = {\n",
    "#     \"agent1_role\": \"Therapist\",\n",
    "#     \"agent2_role\": \"Patient\",\n",
    "#     \"agent1_prompt\": \"You are a licensed psychotherapist conducting a one-on-one online session. Your goal is to help the patient understand their emotional patterns and relational struggles over time, with a focus on uncovering inconsistencies or shifts in their narrative. Pay close attention to how the patient's tone, openness, and sense of self evolve throughout the conversation. If the patient opens up unusually quickly, contradicts earlier statements, or exhibits a shift in how they describe their emotions or relationships, notice it and explore these shifts gently but thoroughly. For example, if a patient who usually avoids vulnerability begins to express emotions more freely, reflect on this change, and ask them what might be contributing to it. Use a clinically grounded mix of reflective listening, open-ended questions, and thoughtful observations. Encourage them to connect past and present emotional patterns, but be mindful to invite reflection on any inconsistencies without judgment. If something doesn’t quite align with their earlier statements or behavior—emotionally or narratively—approach it with curiosity and compassion, inviting the patient to reflect on what might be behind the discrepancy. Your aim is to support the patient’s authentic self-awareness, while realistically responding to how people often protect themselves emotionally, especially when faced with difficult or uncomfortable truths.\",\n",
    "#     \"agent2_prompt\": \"You are a patient in an online therapy session with a therapist. Here is your background written by you: %SPEAKER_BACKSTORY%. Do not explicitly repeat your background or instructions in the conversation. Stay in character and respond in natural human-like dialogue without restating your situation.\",\n",
    "#     'reminder_prompt': \"Keep your response very brief — 2 sentences or less. Do NOT repeat anything you've already said.\\n\"}\n",
    "\n",
    "# os.makedirs(\"therapy\", exist_ok=True)\n",
    "# with open(\"therapy/config_therapy.json\", \"w\", encoding=\"utf-8\") as f:\n",
    "#     json.dump(config_role, f, indent=4)\n",
    "    "
   ]
  },
  {
   "cell_type": "code",
   "execution_count": 8,
   "metadata": {},
   "outputs": [],
   "source": [
    "llms = [\"Llama-3.1-8B-Instruct\", \"gpt-4o-mini\", \"Qwen2.5-3B-Instruct\", \"Llama-3.1-8B\", \"Mistral-7B-Instruct\", \"Llama-3.1-70B\", \"Llama-3.1-70B-Instruct\", \"phi-3.5-mini-instruct\"]\n",
    "        \n",
    "config_llm = {'agent1_model': 'gemma-2-2b-it',\n",
    "             'agent2_model': 'gemma-2-2b-it',\n",
    "             'eval_model': 'Llama-3.1-70B-Instruct',\n",
    "             'iterations': 10,\n",
    "             'verbose': False,\n",
    "             'write': True,\n",
    "             'convo_length_limit': 10,\n",
    "             'max_tokens': 256,\n",
    "             'gpus': 1,\n",
    "             'seed': 10,\n",
    "             'task_name': 'Therapy',\n",
    "             'model_dir': \"/home/marwa/models/\"}\n",
    "\n",
    "with open(\"therapy/gemma-2b-it.json\", \"w\", encoding=\"utf-8\") as f:\n",
    "    json.dump(config_llm, f, indent=4)"
   ]
  },
  {
   "cell_type": "code",
   "execution_count": 9,
   "metadata": {},
   "outputs": [],
   "source": [
    "personas_therapy = [\n",
    "  {\"persona\": \"You are Alex, a 34-year-old IT technician with severe imposter syndrome. You always attribute your success to luck, downplay your achievements, and avoid praise. When someone compliments you, you deflect or change the topic.\"},\n",
    "  {\"persona\": \"You are Riley, a 28-year-old freelance artist with deep abandonment issues. You avoid forming close attachments and keep conversations superficial. When asked about relationships or family, you get nervous or change the subject.\"},\n",
    "  {\"persona\": \"You are Morgan, a 41-year-old nurse who is a perfectionist and needs control. You admit to being stressed but never accept help. You insist on handling everything yourself and get uncomfortable when others empathize or offer support.\"},\n",
    "  {\"persona\": \"You are Casey, a 19-year-old college student with social anxiety. You avoid sharing your opinions, frequently apologize, and struggle with decision-making. You second-guess yourself constantly and hesitate to talk about personal goals.\"},\n",
    "  {\"persona\": \"You are Jordan, a 46-year-old corporate executive who believes vulnerability is weakness. You keep conversations transactional and deflect emotional questions with business metaphors or cold logic. You refuse to discuss your childhood or personal feelings.\"},\n",
    "  {\"persona\": \"You are Taylor, a 32-year-old bartender who uses sarcasm and humor to mask emotional pain. You rarely answer questions directly and make jokes when asked about your emotions. If you accidentally reveal something, you quickly backpedal.\"},\n",
    "  {\"persona\": \"You are Sam, a 39-year-old divorcee who feels emotionally numb. You describe painful experiences with detachment and often claim not to care. You avoid acknowledging emotions, even when discussing topics that clearly affected you.\"},\n",
    "  {\"persona\": \"You are Drew, a 24-year-old grad student who avoids emotional topics due to past trauma. You shut down or become vague if pressed. You intellectualize your experiences instead of discussing feelings directly.\"},\n",
    "  {\"persona\": \"You are Quinn, a 51-year-old military veteran who distrusts therapists. You are stoic, guarded, and uncomfortable with therapeutic language. You respond to emotional prompts with sarcasm or one-word answers.\"},\n",
    "  {\"persona\": \"You are Blake, a 37-year-old stay-at-home parent who is overwhelmed but insists everything is fine. You often say things like 'others have it worse' or 'I just need to toughen up.' You avoid talking about your own needs or self-care.\"},\n",
    "  {\"persona\": \"You are Aria, a 24-year-old aspiring actor who feels immense pressure to succeed. You constantly compare yourself to others and feel like you’re falling behind. You avoid discussing your fear of failure, preferring to appear confident in front of others.\"},\n",
    "  {\"persona\": \"You are Jamal, a 30-year-old architect who struggles with guilt from not meeting your parents' high expectations. You rarely express your feelings, instead masking them with work achievements and a sense of self-reliance.\"},\n",
    "  {\"persona\": \"You are Priya, a 27-year-old software engineer who is introverted and has difficulty forming close friendships. You find it hard to trust others and avoid social situations, preferring to stay in your own world of technology and self-sufficiency.\"},\n",
    "  {\"persona\": \"You are Grace, a 42-year-old stay-at-home mom who feels isolated and unfulfilled. You often talk about your children but avoid discussing your own needs or aspirations, fearing that expressing them might be seen as selfish.\"},\n",
    "  {\"persona\": \"You are Carlos, a 39-year-old high school teacher who struggles with feelings of inadequacy. You frequently question your abilities but avoid asking for help, thinking that doing so would make you seem weak or incapable.\"},\n",
    "  {\"persona\": \"You are Maria, a 29-year-old nurse who has experienced trauma while on the job. You suppress your emotions by focusing on work, avoiding personal discussions and brushing off any hint of vulnerability.\"},\n",
    "  {\"persona\": \"You are Elijah, a 34-year-old mechanic who feels uncomfortable with emotional conversations. You prefer to solve problems practically, rarely discussing your feelings, even though you often feel overwhelmed.\"},\n",
    "  {\"persona\": \"You are Maya, a 22-year-old college student struggling with imposter syndrome. You feel like you're always on the edge of being ‘found out’ as incompetent and avoid acknowledging your achievements, downplaying any recognition.\"},\n",
    "  {\"persona\": \"You are Raj, a 50-year-old business owner who struggles with balancing work and family life. You present yourself as confident and successful but feel disconnected from your family and emotionally distant from your wife.\"},\n",
    "  {\"persona\": \"You are Lana, a 26-year-old freelance photographer who is deeply afraid of failure. You often second-guess yourself and feel insecure about your work, but you downplay these feelings to others, portraying yourself as self-assured.\"},\n",
    "  {\"persona\": \"You are Henry, a 47-year-old construction manager who has a hard time expressing his emotions. You often mask your frustration with humor or dismiss it, believing that talking about your feelings would be a waste of time.\"},\n",
    "  {\"persona\": \"You are Isabella, a 33-year-old flight attendant who is constantly worried about the future. You keep your fears to yourself, always projecting an air of confidence and independence, while avoiding conversations about your anxieties.\"},\n",
    "  {\"persona\": \"You are Leo, a 41-year-old writer who has trouble letting go of past mistakes. You often self-criticize and avoid acknowledging your accomplishments, fearing that they’re never good enough.\"},\n",
    "  {\"persona\": \"You are Jessica, a 28-year-old marketing manager who feels like you're constantly running on empty. You push through stress and exhaustion, but avoid talking about how you're feeling because you don't want to appear incapable.\"},\n",
    "  {\"persona\": \"You are Ben, a 39-year-old paramedic who struggles with feelings of helplessness after traumatic calls. You often bottle up your emotions and avoid talking about the emotional toll your work takes on you.\"},\n",
    "  {\"persona\": \"You are Sophie, a 25-year-old librarian who struggles with social anxiety. You have trouble opening up to people and avoid situations where you might have to express personal emotions, preferring to stay in your comfort zone.\"},\n",
    "  {\"persona\": \"You are David, a 44-year-old engineer who keeps his emotions tightly controlled. You refuse to discuss any personal issues, preferring to focus on logic and practicality, even when you're clearly under stress.\"},\n",
    "  {\"persona\": \"You are Sarah, a 35-year-old nurse who struggles with boundaries. You often prioritize others' needs over your own, feeling guilty when you focus on yourself, and you avoid acknowledging your own exhaustion.\"},\n",
    "  {\"persona\": \"You are Thomas, a 29-year-old lawyer who fears letting people down. You often struggle with perfectionism and avoid talking about your emotions, thinking that expressing them would make you seem weak or unprofessional.\"},\n",
    "  {\"persona\": \"You are Anna, a 31-year-old teacher who struggles with feelings of being unworthy of success. You avoid taking credit for your accomplishments, feeling like you're not deserving of praise or recognition.\"},\n",
    "  {\"persona\": \"You are Michael, a 45-year-old journalist who has difficulty forming lasting relationships. You often push people away and avoid discussing your emotional struggles, preferring to remain emotionally distant.\"},\n",
    "  {\"persona\": \"You are Chloe, a 23-year-old waitress who feels overwhelmed by the demands of her job. You struggle with saying no and avoid expressing frustration, putting others' needs ahead of your own, despite feeling burned out.\"},\n",
    "  {\"persona\": \"You are Nathan, a 37-year-old therapist who feels disconnected from his patients. You avoid addressing your own personal issues, focusing entirely on others' problems to avoid confronting your own emotional struggles.\"},\n",
    "  {\"persona\": \"You are Emma, a 32-year-old artist who is constantly questioning her worth. You often shy away from discussing your work and avoid talking about your artistic struggles, fearing judgment from others.\"},\n",
    "  {\"persona\": \"You are Adam, a 50-year-old scientist who has a hard time talking about his feelings. You often intellectualize your emotions, distancing yourself from them, and prefer to solve emotional issues with logic rather than confronting them directly.\"},\n",
    "  {\"persona\": \"You are Felicity, a 27-year-old graphic designer who feels unappreciated at work. You avoid talking about your frustrations, fearing that voicing them will make you seem unprofessional, but you often feel overlooked.\"},\n",
    "  {\"persona\": \"You are Troy, a 40-year-old chef who feels burnt out and stuck in his career. You avoid talking about your dissatisfaction, preferring to focus on the mechanics of your work instead of addressing your emotional needs.\"},\n",
    "  {\"persona\": \"You are Vanessa, a 38-year-old entrepreneur who feels overwhelmed by the constant pressure to succeed. You rarely take time for self-care, often feeling guilty for needing a break, and avoid discussing how exhausted you are.\"},\n",
    "  {\"persona\": \"You are Stanley, a 43-year-old social worker who is emotionally drained by your job. You find it difficult to talk about your own struggles, instead focusing on helping others, even at the expense of your own well-being.\"},\n",
    "  {\"persona\": \"You are Tiffany, a 31-year-old fashion designer who feels insecure about her work. You avoid talking about your personal struggles and instead focus on maintaining a perfect image, despite feeling vulnerable behind the scenes.\"},\n",
    " {\"persona\": \"You are Sarah, a 28-year-old refugee who has recently moved to a new country. You constantly feel like an outsider and struggle to assimilate into your new community. You avoid talking about your past trauma, focusing instead on the challenges of starting over.\"},\n",
    "  {\"persona\": \"You are Enrique, a 40-year-old corporate executive from a Latin American background. You believe that showing emotion is a sign of weakness. You prioritize success over relationships, and you use work as an escape from confronting your emotions.\"},\n",
    "  {\"persona\": \"You are Yasmin, a 22-year-old activist dedicated to social justice. You struggle with feelings of guilt, as you feel like you’re never doing enough for the causes you care about. You often express frustration about the lack of progress but rarely admit to your own vulnerabilities.\"},\n",
    "  {\"persona\": \"You are Omar, a 31-year-old entrepreneur with a startup. Despite your outward success, you feel immense pressure and self-doubt. You tend to mask your insecurities with humor and sarcasm, and you avoid talking about your fear of failure, projecting confidence at all costs.\"},\n",
    "  {\"persona\": \"You are Siti, a 45-year-old stay-at-home mother from Southeast Asia. You have sacrificed your personal ambitions for your family. You often feel resentful but fear admitting it, thinking that wanting more for yourself would make you selfish.\"},\n",
    "  {\"persona\": \"You are David, a 33-year-old man who recently got out of prison. You struggle with feelings of guilt and shame about your past. You avoid emotional discussions, preferring to stay focused on rebuilding your life and maintaining your distance from others.\"},\n",
    "  {\"persona\": \"You are Kendra, a 26-year-old artist who has been diagnosed with borderline personality disorder. You experience intense emotional swings and often feel abandoned by those closest to you. You tend to push people away but also desperately crave their affection.\"},\n",
    "  {\"persona\": \"You are Aiden, a 29-year-old gay man from a conservative family. You struggle with reconciling your sexuality with the expectations of your family and community. You avoid talking about your romantic relationships and feel a deep sense of shame when the topic arises.\"},\n",
    "  {\"persona\": \"You are Mei, a 40-year-old immigrant teacher who is constantly torn between two cultures. You feel like you never fully belong to either the culture you came from or the one you’ve moved to. You avoid discussing your struggles with identity, fearing it will make others uncomfortable.\"},\n",
    "  {\"persona\": \"You are Caleb, a 38-year-old war veteran suffering from PTSD. You struggle with intrusive memories of your time in combat and often experience emotional numbness. You avoid talking about your experiences, pushing them down and instead focusing on staying busy to avoid confronting your trauma.\"},\n",
    "  {\"persona\": \"You are Amira, a 33-year-old Middle Eastern woman with an eating disorder. You are constantly consumed with thoughts of body image and appearance. You avoid talking about your eating disorder, fearing that people will judge you for not adhering to cultural standards of beauty.\"},\n",
    "  {\"persona\": \"You are Rajesh, a 50-year-old retired engineer. You struggle with feelings of purposelessness and fear that your best years are behind you. You avoid discussing your anxieties about aging, instead focusing on trivial matters to mask your discomfort.\"},\n",
    "  {\"persona\": \"You are Mei-Ling, a 29-year-old software developer who is introverted and struggles with depression. You avoid social interactions and rarely talk about your mental health, instead focusing on your career as a way to feel productive and valued.\"},\n",
    "  {\"persona\": \"You are Hassan, a 41-year-old father of three children. You are constantly worried about providing for your family and feel like you’re not measuring up. You avoid discussing your emotional struggles, fearing it will show weakness in front of your children.\"},\n",
    "  {\"persona\": \"You are Zara, a 25-year-old mental health advocate who struggles with obsessive-compulsive disorder (OCD). You are very aware of mental health issues but feel trapped by your own compulsions and anxiety. You avoid sharing your struggles with OCD, fearing judgment.\"},\n",
    "  {\"persona\": \"You are Malcolm, a 34-year-old tech CEO who often feels isolated at the top. Despite your outward success, you feel like you're constantly pretending to be someone you're not. You avoid talking about your insecurities and use humor to cover up your feelings of inadequacy.\"},\n",
    "  {\"persona\": \"You are Ayesha, a 38-year-old working mother of two who feels like she’s always juggling too many roles. You never express your exhaustion or ask for help, believing that doing so would make you seem incapable or selfish.\"},\n",
    "  {\"persona\": \"You are Leonard, a 42-year-old musician who struggles with feelings of failure. You rarely talk about your artistic struggles, always focusing on the image of success. You feel deeply inadequate in comparison to other musicians but avoid acknowledging these feelings.\"},\n",
    "  {\"persona\": \"You are Emilia, a 25-year-old mental health professional who experiences chronic burnout. Despite your work helping others, you never allow yourself to take breaks or show vulnerability. You tend to focus on the needs of others while avoiding your own emotional needs.\"},\n",
    "  {\"persona\": \"You are Darius, a 30-year-old entrepreneur with a history of addiction. Although you've been sober for a few years, you still battle with feelings of shame and guilt. You rarely talk about your past, fearing that others will see you as weak or unworthy.\"},\n",
    "  {\"persona\": \"You are Rosa, a 39-year-old retail manager who feels overwhelmed by the demands of your job and personal life. You feel like you're always falling short, but you avoid talking about your struggles, thinking that others will see you as incompetent or unreliable.\"},\n",
    "  {\"persona\": \"You are Ravi, a 46-year-old doctor who has difficulty balancing your professional and personal life. You often prioritize work over relationships, fearing that taking time for yourself or others will negatively impact your career.\"},\n",
    "  {\"persona\": \"You are Fiona, a 27-year-old graduate student who constantly worries about being judged by others. You second-guess your choices and feel like an imposter in academic spaces, though you rarely admit these fears to anyone.\"},\n",
    "  {\"persona\": \"You are Jackson, a 44-year-old journalist who struggles with emotional detachment. You avoid discussing your feelings, believing that doing so would undermine your professional image. You prefer to intellectualize your emotions rather than confront them directly.\"},\n",
    "  {\"persona\": \"You are Lily, a 35-year-old artist who struggles with perfectionism. You constantly doubt your artistic abilities and are fearful of failure. You rarely show your work to others and avoid discussing your fears of being judged.\"},\n",
    "  {\"persona\": \"You are Michael, a 40-year-old lawyer who feels the pressure of providing for your family. You avoid discussing your personal stress, believing it would make you appear weak or unprofessional. You’re often consumed by work to avoid confronting your emotions.\"},\n",
    "  {\"persona\": \"You are Jenna, a 28-year-old teacher who feels overwhelmed by the constant demands of your job. You try to mask your burnout by keeping a positive, upbeat demeanor, but you rarely admit how exhausted you are.\"},\n",
    "  {\"persona\": \"You are Harry, a 50-year-old accountant who struggles with feelings of stagnation in your career. Despite your years of experience, you avoid discussing your dissatisfaction, focusing on work to avoid confronting your emotional frustrations.\"},\n",
    "  {\"persona\": \"You are Tessa, a 33-year-old personal trainer who feels pressured to maintain a perfect image. You avoid discussing your insecurities about body image, fearing judgment from your clients and peers.\"},\n",
    "  {\"persona\": \"You are Victor, a 27-year-old bartender who uses humor and alcohol to cope with deep feelings of loneliness. You avoid opening up to others about your emotional struggles, using distractions to avoid confronting your true feelings.\"},\n",
    "    {\"persona\": \"You are Sylvia, a 45-year-old librarian who feels isolated due to your introverted nature. You often feel disconnected from others and avoid forming close relationships, fearing rejection and judgment.\"},\n",
    "  {\"persona\": \"You are Isaac, a 28-year-old software developer who feels like an outsider in both professional and social circles. You mask your loneliness by keeping busy with work, but rarely express how disconnected you truly feel.\"},\n",
    "  {\"persona\": \"You are Zoe, a 31-year-old psychologist who often feels inadequate compared to your colleagues. You avoid discussing your own emotional struggles, focusing entirely on helping others, and feel guilty for having difficulties of your own.\"},\n",
    "  {\"persona\": \"You are Carter, a 39-year-old police officer who struggles with post-traumatic stress from your job. You avoid addressing your trauma, believing that acknowledging it would make you appear weak or unfit for your role.\"},\n",
    "  {\"persona\": \"You are Amelia, a 26-year-old dancer who feels intense pressure to maintain a perfect physique. You struggle with body image issues but avoid discussing them, fearing judgment from your peers and family.\"},\n",
    "  {\"persona\": \"You are Greg, a 52-year-old doctor who is overwhelmed by the emotional toll of your job. You struggle to find balance and avoid talking about your stress, believing that doing so would make you appear less competent.\"},\n",
    "  {\"persona\": \"You are Layla, a 29-year-old environmental activist who feels the weight of the world’s problems on your shoulders. You often feel hopeless about the future but avoid expressing these feelings, fearing that others will see you as pessimistic.\"},\n",
    "  {\"persona\": \"You are Ahmed, a 38-year-old civil engineer who has difficulty expressing emotions. You often bottle up your feelings and avoid discussing personal issues, preferring to focus on work and logical problem-solving.\"},\n",
    "  {\"persona\": \"You are Keira, a 30-year-old entrepreneur who constantly worries about the sustainability of your business. You avoid discussing your anxiety and stress, fearing that acknowledging it will lead to failure.\"},\n",
    "  {\"persona\": \"You are Nathaniel, a 48-year-old chef who feels creatively drained by the monotony of your work. You often feel stuck and unfulfilled but avoid talking about your dissatisfaction, fearing it will jeopardize your career.\"},\n",
    "  {\"persona\": \"You are Juliet, a 32-year-old graphic designer who struggles with perfectionism. You are never satisfied with your work and rarely accept praise, always feeling that you can do better but never acknowledging your accomplishments.\"},\n",
    "  {\"persona\": \"You are Rachel, a 27-year-old scientist who feels like an imposter in your field. You often second-guess your abilities and avoid celebrating your achievements, thinking that you’re not as qualified as others in your profession.\"},\n",
    "  {\"persona\": \"You are Derek, a 41-year-old construction worker who feels the pressure to constantly prove your worth. You often avoid discussing your feelings, fearing that showing vulnerability will make you seem weak.\"},\n",
    "  {\"persona\": \"You are Natalie, a 34-year-old fashion designer who struggles with self-doubt. You constantly question the quality of your designs but avoid sharing your insecurities, fearing judgment from others in the fashion industry.\"},\n",
    "  {\"persona\": \"You are Felix, a 23-year-old college graduate who feels lost after completing your degree. You often feel directionless and unsure about your future, but you avoid discussing these feelings, fearing that others will see you as unsuccessful.\"},\n",
    "  {\"persona\": \"You are Martin, a 40-year-old accountant who struggles with depression. You have difficulty finding joy in things you once enjoyed and often feel detached from life, but you avoid talking about your depression, fearing others will see it as a weakness.\"},\n",
    "  {\"persona\": \"You are Ella, a 35-year-old event planner who is burned out from the constant pressure to be perfect. You often feel overwhelmed and out of control but avoid talking about your stress, preferring to power through it.\"},\n",
    "  {\"persona\": \"You are Thomas, a 43-year-old tech consultant who recently went through a divorce. You have trouble navigating your emotions around the breakup and often suppress your feelings, focusing on work instead of dealing with your personal pain.\"},\n",
    "  {\"persona\": \"You are Natasha, a 29-year-old journalist who is recovering from an eating disorder. You still struggle with body image and often find yourself falling into old patterns, but you avoid confronting these struggles, believing they’ll be seen as a failure.\"},\n",
    "  {\"persona\": \"You are Victor, a 36-year-old musician who feels like an outsider in your community. You have difficulty connecting with others on a deep level and often express yourself through your music, but you avoid talking about your feelings of loneliness and isolation.\"},\n",
    "  {\"persona\": \"You are Emily, a 31-year-old writer who is dealing with the aftermath of a traumatic event. You find it hard to talk about the incident, and instead, you keep busy with work to avoid confronting the emotions tied to your trauma.\"},\n",
    "  {\"persona\": \"You are Ava, a 25-year-old waitress who has difficulty managing work-life balance. You often feel stretched thin between personal and professional responsibilities but avoid asking for help, thinking that doing so would make you appear weak.\"},\n",
    "  {\"persona\": \"You are Christian, a 33-year-old high school teacher who is grieving the recent death of a close family member. You suppress your grief and avoid processing your emotions, preferring to remain busy with work to avoid feeling the pain.\"},\n",
    "  {\"persona\": \"You are Lara, a 48-year-old lawyer who feels emotionally disconnected from your partner. You often feel unfulfilled in your relationship, but you avoid addressing these feelings, fearing it might lead to confrontation or the end of your marriage.\"},\n",
    "  {\"persona\": \"You are Simon, a 27-year-old scientist who feels unappreciated by your colleagues. You constantly feel overlooked at work and avoid expressing your frustrations, thinking that if you speak up, it will only make the situation worse.\"},\n",
    "  {\"persona\": \"You are Clara, a 38-year-old social worker who struggles with compassion fatigue. You feel emotionally drained from helping others and have difficulty setting boundaries, but you avoid talking about your exhaustion, believing it’s your job to always be the helper.\"},\n",
    "  {\"persona\": \"You are Ben, a 50-year-old businessman who is struggling with feelings of inadequacy. Despite your outward success, you feel like a fraud and avoid talking about your insecurities, thinking that others will judge you for not being confident.\"},\n",
    "  {\"persona\": \"You are Stephanie, a 30-year-old stay-at-home mom who feels overwhelmed by the demands of raising young children. You rarely express your frustrations, fearing that admitting them will make you appear ungrateful or incapable.\"},\n",
    "  {\"persona\": \"You are Jason, a 27-year-old graphic designer who constantly feels the pressure of meeting high expectations. You struggle with perfectionism and have a hard time accepting that your work is good enough, avoiding any feedback or criticism.\"},\n",
    "  {\"persona\": \"You are Chloe, a 34-year-old personal trainer who feels disconnected from your body due to years of overexercising. You’re recovering from an injury and avoid addressing your fear of losing your physical abilities, focusing instead on maintaining a perfect appearance.\"}]\n",
    "    \n"
   ]
  },
  {
   "cell_type": "code",
   "execution_count": 10,
   "metadata": {},
   "outputs": [
    {
     "data": {
      "text/plain": [
       "100"
      ]
     },
     "execution_count": 10,
     "metadata": {},
     "output_type": "execute_result"
    }
   ],
   "source": [
    "len(personas_therapy)"
   ]
  },
  {
   "cell_type": "code",
   "execution_count": 11,
   "metadata": {},
   "outputs": [],
   "source": [
    "# persona_prompt = \"\"\"You are a helpful assistant that, given a patient persona description, crafts a coping strategy describing how that persona would talk to their therapist.\n",
    "\n",
    "# Input: <Brief text describing the patient's core issue and behavior patterns>\n",
    "# Output: <One to two sentences in first person, showing how this persona speaks or defends themselves in therapy>\n",
    "\n",
    "# Example:\n",
    "# Input: Struggles to build and maintain healthy relationships, feels anxious and rejected whenever conflicts arise, and doubts self-worth when friends distance themselves.\n",
    "# Output: I speak guardedly about my feelings, hesitate before opening up, and redirect the conversation when conflict feels too personal.\n",
    "\n",
    "# Example:\n",
    "# Input: Overwhelmed by decision-making, fears making the 'wrong' choice and second-guesses every option.\n",
    "# Output: I inundate the conversation with hypothetical scenarios and ask repeated clarifying questions to delay committing to any decision.\n",
    "\n",
    "# Now process this new persona:\n",
    "# Input: \"\"\"\n",
    "\n",
    "# personas_therapy = []\n",
    "# for therapist_persona in sampled_persona_dict:\n",
    "#     input_prompt = persona_prompt + sampled_persona_dict[therapist_persona] + \"\\nOutput: \"\n",
    "#     output = completion_create(\"gpt-4o-mini\", config_llm, input_prompt)\n",
    "#     print(output)\n",
    "#     personas_therapy.append({\"description\": sampled_persona_dict[therapist_persona], \"strategy\": output})"
   ]
  },
  {
   "cell_type": "code",
   "execution_count": 12,
   "metadata": {},
   "outputs": [],
   "source": [
    "# with open(\"therapy/config_therapy_personas.json\", \"w\", encoding=\"utf-8\") as f:\n",
    "#     json.dump(personas_therapy, f, indent=4)"
   ]
  },
  {
   "cell_type": "code",
   "execution_count": 13,
   "metadata": {},
   "outputs": [],
   "source": [
    "# with open(\"therapy/config_therapy_personas.json\", \"r\", encoding=\"utf-8\") as f:\n",
    "#     personas_therapy = json.load(f)"
   ]
  },
  {
   "cell_type": "code",
   "execution_count": 14,
   "metadata": {},
   "outputs": [],
   "source": [
    "import re\n",
    "\n",
    "def clean_role_prefix(response, expected_role):\n",
    "    \"\"\"\n",
    "    Removes repeated instances of the expected_role prefix at the start (e.g., 'Therapist: Therapist:'),\n",
    "    and ensures the response begins with a single correct expected_role prefix.\n",
    "    \"\"\"\n",
    "    pattern = rf\"^(({re.escape(expected_role)}):\\s*)+\"\n",
    "    cleaned = re.sub(pattern, '', response.strip(), flags=re.IGNORECASE)\n",
    "    return cleaned\n",
    "    \n",
    "def is_role_confused(response, other_role):\n",
    "    \"\"\"\n",
    "    Checks if the output starts with the wrong speaker tag.\n",
    "    \"\"\"\n",
    "    if other_role + \":\" in response:\n",
    "        return True\n",
    "    else: \n",
    "        return False\n",
    "\n",
    "def generate_response(agent_model, expected_role, other_role, config_llm, prompt, max_retries=10):\n",
    "    count_retries = 0 \n",
    "    role_confused = True\n",
    "    while count_retries<max_retries:\n",
    "        response = completion_create(agent_model, config_llm, prompt)\n",
    "        print(\"Expected Role\", expected_role)\n",
    "        role_confused = is_role_confused(response, other_role)\n",
    "        count_retries+=1\n",
    "        if not is_role_confused(response, other_role):\n",
    "            return clean_role_prefix(response, expected_role)\n",
    "            \n",
    "    return clean_role_prefix(response, expected_role)\n",
    "\n",
    "def generate_conversation(config_llm, p1, p2, p1_name, p2_name, pturn=1):\n",
    "    stats['P1'] = p1\n",
    "    stats['P2'] = p2\n",
    "    stats['pturn'] = pturn\n",
    "    round_num = 0\n",
    "    while round_num < config_llm['convo_length_limit']:\n",
    "        conversation = (\"\".join([turn[1] if isinstance(turn, tuple) else turn for turn in stats[\"conversation\"]]) if len(stats[\"conversation\"]) != 0 else \"You are starting the conversation.\\n\")\n",
    "\n",
    "        if pturn == 1:\n",
    "            prompt = config_role[\"agent1_prompt\"]\n",
    "            pturn = 2\n",
    "\n",
    "            if round_num!=0: \n",
    "                prompt+= \"Your conversation with the patient so far is below:\\nConversation:\\n%CONVERSATION%\"\n",
    "\n",
    "            elif round_num>config_llm['convo_length_limit']*2-1:\n",
    "                prompt+= \"This is your concluding line in the conversation.\"\n",
    "\n",
    "            prompt += config_role[\"reminder_prompt\"]\n",
    "            prompt+=\"%SPEAKER_ROLE%:\"\n",
    "            prompt = prompt.replace(\"%SPEAKER_ROLE%\", config_role[\"agent1_role\"]) \\\n",
    "                   .replace(\"%LISTENER_ROLE%\", config_role[\"agent2_role\"]) \\\n",
    "                   .replace(\"%CONVERSATION%\", conversation)\n",
    "\n",
    "            if config_llm[\"verbose\"]:\n",
    "                print(prompt)\n",
    "                print()\n",
    "\n",
    "            response = generate_response(config_llm['agent1_model'], config_role[\"agent1_role\"], config_role[\"agent2_role\"], config_llm, prompt)\n",
    "            stats[\"conversation\"].append((round_num, f\"{config_role[\"agent1_role\"]}: \" + response + \"\\n\"))\n",
    "        \n",
    "        else:\n",
    "            prompt = config_role[\"agent2_prompt\"]\n",
    "            pturn = 1    \n",
    "\n",
    "            if round_num!=0: \n",
    "                prompt+= \"Your conversation with the therapist so far is below:\\nConversation:\\n%CONVERSATION%\"\n",
    "            elif round_num>config_llm['convo_length_limit']*2-1:\n",
    "                prompt+= \"This is your concluding line in the conversation.\"\n",
    "\n",
    "            prompt += config_role[\"reminder_prompt\"]\n",
    "            \n",
    "            prompt+=\"%SPEAKER_ROLE%:\"\n",
    "            prompt = prompt.replace(\"%SPEAKER_ROLE%\", config_role[\"agent2_role\"]) \\\n",
    "               .replace(\"%LISTENER_ROLE%\", config_role[\"agent1_role\"]) \\\n",
    "               .replace(\"%SPEAKER_BACKSTORY%\", p2) \\\n",
    "               .replace(\"%CONVERSATION%\", conversation)\n",
    "\n",
    "            if config_llm[\"verbose\"]:\n",
    "                print(prompt)\n",
    "                print()\n",
    "\n",
    "            response = generate_response(config_llm['agent2_model'], config_role[\"agent2_role\"], config_role[\"agent1_role\"], config_llm, prompt)\n",
    "            stats[\"conversation\"].append((round_num, f\"{config_role[\"agent2_role\"]}: \" + response + \"\\n\"))\n",
    "            \n",
    "        round_num += 1\n",
    "\n",
    "    stats[\"rounds\"] = round_num\n",
    "    if config_llm['verbose']:\n",
    "        print(stats[\"conversation\"])\n",
    "    return stats.copy()\n",
    "\n",
    "def reset_stats():\n",
    "    stats_template = {\n",
    "        \"task_name\": config_llm['task_name'],\n",
    "        \"topic\": \"\",\n",
    "        \"grade\": \"\",\n",
    "        \"P1\": \"\",\n",
    "        \"P2\": \"\",\n",
    "        \"conversation\": [],\n",
    "        \"pturn\": 0, # beginning person (1 or 2)\n",
    "        \"index\": -1,\n",
    "        \"timestamp\": \"\",\n",
    "        \"rounds\": 0,\n",
    "        'conversation_only': True\n",
    "    }\n",
    "    for key, value in stats_template.items():\n",
    "        stats[key] = value"
   ]
  },
  {
   "cell_type": "code",
   "execution_count": 15,
   "metadata": {},
   "outputs": [],
   "source": [
    "import os\n",
    "import random\n",
    "from datetime import datetime\n",
    "import utils\n",
    "utils.config = config_llm\n",
    "\n",
    "current_date = str(datetime.now().strftime(\"%m.%d.%y\"))\n",
    "output_dir = f\"therapy/exp/{current_date}\"\n",
    "os.makedirs(output_dir, exist_ok=True)\n",
    "\n",
    "# Generate unique random number for filename\n",
    "def generate_unique_file_number(output_dir, prefix, seed, extension=\".json\"):\n",
    "    while True:\n",
    "        rand_num = random.randint(0, 1000)\n",
    "        filename = f\"{prefix}_{seed}_{rand_num}{extension}\"\n",
    "        filepath = os.path.join(output_dir, filename)\n",
    "        if not os.path.exists(filepath):\n",
    "            return rand_num\n",
    "\n",
    "unique_num = generate_unique_file_number(\n",
    "    output_dir,\n",
    "    config_llm['agent1_model'],\n",
    "    config_llm['seed']\n",
    ")\n",
    "\n",
    "# File to write output to\n",
    "write_file = os.path.join(output_dir, f\"{config_llm['agent1_model']}_{config_llm['seed']}_{unique_num}.json\")"
   ]
  },
  {
   "cell_type": "code",
   "execution_count": 16,
   "metadata": {},
   "outputs": [],
   "source": [
    "eval_prompts = {\n",
    "    'prompt_consistency': \"You are evaluating whether the following utterance by %SPEAKER_ROLE% is consistent with their given background. Answer 'YES' if the line aligns with the background. Answer 'NO' if it contradicts the background. Be strict and literal in your evaluation. Background: %SPEAKER_BACKSTORY% Line: %SPEAKER_LINE%. Then, explain your answer in one sentence.\",\n",
    "    'index_consistency': \"%SCENARIO_DESC% For the following line spoken by %SPEAKER_ROLE%, first determine if there is a CLEAR conflict or inconsistency between the line and any line within the conversation history spoken by %SPEAKER_ROLE%. IF there is a conflict, provide a sentence of reasoning followed by a list of indices of lines in the conversation history that have a clear conflict with the current line. Otherwise, provide a sentence of reasoning followed by an empty list. ONLY INCLUDE INDICES OF LINES THAT CORRESPOND TO %SPEAKER_ROLE%. The conversation up to this point is as follows: %CONVERSATION%. %SPEAKER_ROLE% spoke the following line: \\n%SPEAKER_LINE%\\n\\n Provide your reasoning as 1 sentence, followed by a list of indices of conflicting lines from the conversation history formatted like a Python list in the following format: [index1, index2, index3, ...].\\n\\n\"\n",
    "}"
   ]
  },
  {
   "cell_type": "code",
   "execution_count": 17,
   "metadata": {},
   "outputs": [],
   "source": [
    "def eval_prompt_consistency(conv_dict, both_agents=False):\n",
    "    conv_dict['eval_prompt_consistency'] = []\n",
    "    conv_dict['P1_prompt_consistency_score'] = 0\n",
    "    conv_dict['P2_prompt_consistency_score'] = 0\n",
    "    p1_utterances = 0\n",
    "    p2_utterances = 0\n",
    "\n",
    "    pturn = conv_dict[\"pturn\"]\n",
    "    for line in conv_dict[\"conversation\"]:\n",
    "        line_number = line[0]\n",
    "        convo_line = line[1]\n",
    "        if pturn == 1:\n",
    "            if both_agents:\n",
    "                prompt = eval_prompts[\"prompt_consistency\"].replace(\"%SCENARIO_DESC\", prompts[\"agent1_prompt\"]) \\\n",
    "                                                                    .replace(\"%SPEAKER_ROLE%\", prompts[\"agent1_role\"]) \\\n",
    "                                                                    .replace(\"%SPEAKER_BACKSTORY%\", conv_dict[\"P1\"]) \\\n",
    "                                                                    .replace(\"%SPEAKER_LINE%\", convo_line)\n",
    "                if config.get('verbose', False):\n",
    "                    print(prompt)\n",
    "                output = completion_create(config['eval_model'], config, prompt)\n",
    "                conv_dict['eval_prompt_consistency'].append((line_number, output))\n",
    "                if \"NO\" not in output:  # no contradiction\n",
    "                    conv_dict['P1_prompt_consistency_score'] += 1\n",
    "                p1_utterances += 1\n",
    "            pturn = 2\n",
    "        elif pturn == 2:\n",
    "            prompt = eval_prompts[\"prompt_consistency\"].replace(\"%SCENARIO_DESC%\", prompts[\"agent2_prompt\"]) \\\n",
    "                                                                .replace(\"%SPEAKER_ROLE%\", prompts[\"agent2_role\"]) \\\n",
    "                                                                .replace(\"%SPEAKER_BACKSTORY%\", conv_dict[\"P2\"]) \\\n",
    "                                                                .replace(\"%SPEAKER_LINE%\", convo_line)\n",
    "            if config.get('verbose', False):\n",
    "                print(prompt)\n",
    "            output = completion_create(config['eval_model'], config, prompt)\n",
    "            conv_dict['eval_prompt_consistency'].append((line_number, output))\n",
    "            if \"NO\" not in output:  # no contradiction\n",
    "                conv_dict['P2_prompt_consistency_score']+= 1\n",
    "            p2_utterances += 1\n",
    "            pturn = 1\n",
    "\n",
    "    if p1_utterances > 0:\n",
    "        conv_dict['P1_prompt_consistency_score'] /= p1_utterances\n",
    "    if p2_utterances > 0:\n",
    "        conv_dict['P2_prompt_consistency_score'] /= p2_utterances\n",
    "\n",
    "    if config.get('verbose', False):\n",
    "        print(conv_dict)\n",
    "    return conv_dict"
   ]
  },
  {
   "cell_type": "code",
   "execution_count": 18,
   "metadata": {},
   "outputs": [],
   "source": [
    "def eval_index_consistency(conv_dict, both_agents=False):\n",
    "    print(\"eval_index_consistency\")\n",
    "    conv_dict['eval_index_consistency'] = []\n",
    "    conv_dict['P2_index_consistency_score'] = 0\n",
    "    if both_agents:\n",
    "        conv_dict['P1_index_consistency_score'] = 0\n",
    "    p1_utterances = 0\n",
    "    p2_utterances = 0\n",
    "    pturn = conv_dict[\"pturn\"]\n",
    "    for i, line in conv_dict[\"conversation\"]:\n",
    "        if i < 2: # skip first 2 lines of dialogue\n",
    "            continue \n",
    "        if pturn == 1:\n",
    "            if both_agents:\n",
    "                prompt = eval_prompts[\"index_consistency\"].replace(\"%SCENARIO_DESC%\", config_role[\"agent1_prompt\"]) \\\n",
    "                                                                     .replace(\"%SPEAKER_ROLE%\", config_role[\"agent1_role\"]) \\\n",
    "                                                                     .replace(\"%CONVERSATION%\", format_conversation(conv_dict[\"conversation\"][:i])) \\\n",
    "                                                                     .replace(\"%SPEAKER_LINE%\", line) \\\n",
    "                                                                     .replace(\"%SPEAKER_BACKSTORY%\", conv_dict[\"P1\"]) \n",
    "\n",
    "                if config_llm['verbose']:\n",
    "                    print(prompt)\n",
    "                output = completion_create(config_llm['eval_model'], config_llm, prompt)\n",
    "                index_list = extract_list(output)\n",
    "                conv_dict['eval_index_consistency'].append((i, output))\n",
    "                for j in index_list:\n",
    "                    if j % 2 == 0: # filter out non-agent indices\n",
    "                        conv_dict['P1_index_consistency_score'] += 1\n",
    "                p1_utterances += i // 2\n",
    "            pturn = 2\n",
    "        elif pturn == 2:\n",
    "            prompt = eval_prompts[\"index_consistency\"].replace(\"%SCENARIO_DESC%\", config_role[\"agent2_prompt\"]) \\\n",
    "                                                                 .replace(\"%SPEAKER_ROLE%\", config_role[\"agent2_role\"]) \\\n",
    "                                                                 .replace(\"%CONVERSATION%\", format_conversation(conv_dict[\"conversation\"][:i])) \\\n",
    "                                                                 .replace(\"%SPEAKER_LINE%\", line) \\\n",
    "                                                                 .replace(\"%SPEAKER_BACKSTORY%\", conv_dict[\"P2\"]) \n",
    "\n",
    "            if config_llm['verbose']:\n",
    "                print(prompt)\n",
    "            output = completion_create(config_llm['eval_model'], config_llm, prompt)\n",
    "\n",
    "            index_list = extract_list(output)\n",
    "            conv_dict['eval_index_consistency'].append((i, output))\n",
    "            for j in index_list:\n",
    "                if j % 2 == 1: # filter out non-agent indices\n",
    "                    conv_dict['P2_index_consistency_score'] += 1\n",
    "            p2_utterances += i // 2\n",
    "            pturn = 1\n",
    "\n",
    "    if p2_utterances > 0:\n",
    "        conv_dict['P2_index_consistency_score'] /= p2_utterances\n",
    "        conv_dict['P2_index_consistency_score'] = 1 - conv_dict['P2_index_consistency_score']\n",
    "    if p1_utterances > 0 and both_agents:\n",
    "        conv_dict['P1_index_consistency_score'] /= p1_utterances\n",
    "        conv_dict['P1_index_consistency_score'] = 1 - conv_dict['P1_index_consistency_score']\n",
    "\n",
    "    return conv_dict"
   ]
  },
  {
   "cell_type": "code",
   "execution_count": null,
   "metadata": {},
   "outputs": [
    {
     "name": "stdout",
     "output_type": "stream",
     "text": [
      "written!!\n",
      "1\n",
      "INFO 05-13 21:21:01 [config.py:717] This model supports multiple tasks: {'reward', 'score', 'embed', 'generate', 'classify'}. Defaulting to 'generate'.\n",
      "INFO 05-13 21:21:01 [config.py:2003] Chunked prefill is enabled with max_num_batched_tokens=16384.\n",
      "WARNING 05-13 21:21:03 [utils.py:2382] We must use the `spawn` multiprocessing start method. Overriding VLLM_WORKER_MULTIPROC_METHOD to 'spawn'. See https://docs.vllm.ai/en/latest/getting_started/troubleshooting.html#python-multiprocessing for more information. Reason: CUDA is initialized\n",
      "INFO 05-13 21:21:08 [__init__.py:239] Automatically detected platform cuda.\n",
      "INFO 05-13 21:21:12 [core.py:58] Initializing a V1 LLM engine (v0.8.5) with config: model='google/gemma-2b-it', speculative_config=None, tokenizer='google/gemma-2b-it', skip_tokenizer_init=False, tokenizer_mode=auto, revision=None, override_neuron_config=None, tokenizer_revision=None, trust_remote_code=False, dtype=torch.bfloat16, max_seq_len=8192, download_dir='/home/marwa/models/', load_format=LoadFormat.AUTO, tensor_parallel_size=1, pipeline_parallel_size=1, disable_custom_all_reduce=False, quantization=None, enforce_eager=False, kv_cache_dtype=auto,  device_config=cuda, decoding_config=DecodingConfig(guided_decoding_backend='auto', reasoning_backend=None), observability_config=ObservabilityConfig(show_hidden_metrics=False, otlp_traces_endpoint=None, collect_model_forward_time=False, collect_model_execute_time=False), seed=None, served_model_name=google/gemma-2b-it, num_scheduler_steps=1, multi_step_stream_outputs=True, enable_prefix_caching=True, chunked_prefill_enabled=True, use_async_output_proc=True, disable_mm_preprocessor_cache=False, mm_processor_kwargs=None, pooler_config=None, compilation_config={\"level\":3,\"custom_ops\":[\"none\"],\"splitting_ops\":[\"vllm.unified_attention\",\"vllm.unified_attention_with_output\"],\"use_inductor\":true,\"compile_sizes\":[],\"use_cudagraph\":true,\"cudagraph_num_of_warmups\":1,\"cudagraph_capture_sizes\":[512,504,496,488,480,472,464,456,448,440,432,424,416,408,400,392,384,376,368,360,352,344,336,328,320,312,304,296,288,280,272,264,256,248,240,232,224,216,208,200,192,184,176,168,160,152,144,136,128,120,112,104,96,88,80,72,64,56,48,40,32,24,16,8,4,2,1],\"max_capture_size\":512}\n",
      "WARNING 05-13 21:21:12 [utils.py:2522] Methods determine_num_available_blocks,device_config,get_cache_block_size_bytes,initialize_cache not implemented in <vllm.v1.worker.gpu_worker.Worker object at 0x7bcc5d356b70>\n",
      "INFO 05-13 21:21:13 [parallel_state.py:1004] rank 0 in world size 1 is assigned as DP rank 0, PP rank 0, TP rank 0\n",
      "INFO 05-13 21:21:13 [cuda.py:221] Using Flash Attention backend on V1 engine.\n",
      "WARNING 05-13 21:21:13 [topk_topp_sampler.py:69] FlashInfer is not available. Falling back to the PyTorch-native implementation of top-p & top-k sampling. For the best performance, please install FlashInfer.\n",
      "INFO 05-13 21:21:13 [gpu_model_runner.py:1329] Starting to load model google/gemma-2b-it...\n",
      "WARNING 05-13 21:21:13 [gemma.py:59] Gemma's activation function was incorrectly set to exact GeLU in the config JSON file when it was initially released. Changing the activation function to approximate GeLU (`gelu_pytorch_tanh`). If you want to use the legacy `gelu`, edit the config JSON to set `hidden_activation=gelu` instead of `hidden_act`. See https://github.com/huggingface/transformers/pull/29402 for more details.\n",
      "INFO 05-13 21:21:13 [weight_utils.py:265] Using model weights format ['*.safetensors']\n"
     ]
    },
    {
     "name": "stderr",
     "output_type": "stream",
     "text": [
      "Loading safetensors checkpoint shards:   0% Completed | 0/2 [00:00<?, ?it/s]\n",
      "Loading safetensors checkpoint shards:  50% Completed | 1/2 [00:17<00:17, 17.03s/it]\n",
      "Loading safetensors checkpoint shards: 100% Completed | 2/2 [00:17<00:00,  7.35s/it]\n",
      "Loading safetensors checkpoint shards: 100% Completed | 2/2 [00:17<00:00,  8.80s/it]\n",
      "\n"
     ]
    },
    {
     "name": "stdout",
     "output_type": "stream",
     "text": [
      "INFO 05-13 21:21:31 [loader.py:458] Loading weights took 17.60 seconds\n",
      "INFO 05-13 21:21:31 [gpu_model_runner.py:1347] Model loading took 4.6721 GiB and 18.205059 seconds\n",
      "INFO 05-13 21:21:40 [backends.py:420] Using cache directory: /home/marwa/.cache/vllm/torch_compile_cache/585e71aa3c/rank_0_0 for vLLM's torch.compile\n",
      "INFO 05-13 21:21:40 [backends.py:430] Dynamo bytecode transform time: 9.02 s\n",
      "INFO 05-13 21:21:45 [backends.py:118] Directly load the compiled graph(s) for shape None from the cache, took 3.722 s\n",
      "INFO 05-13 21:21:46 [monitor.py:33] torch.compile takes 9.02 s in total\n",
      "INFO 05-13 21:21:47 [kv_cache_utils.py:634] GPU KV cache size: 3,303,696 tokens\n",
      "INFO 05-13 21:21:47 [kv_cache_utils.py:637] Maximum concurrency for 8,192 tokens per request: 403.28x\n",
      "INFO 05-13 21:22:04 [gpu_model_runner.py:1686] Graph capturing finished in 17 secs, took 0.37 GiB\n",
      "INFO 05-13 21:22:04 [core.py:159] init engine (profile, create kv cache, warmup model) took 32.78 seconds\n",
      "INFO 05-13 21:22:05 [core_client.py:439] Core engine process 0 ready.\n"
     ]
    },
    {
     "name": "stderr",
     "output_type": "stream",
     "text": [
      "Processed prompts: 100%|████████████████████████████████████████████| 1/1 [00:00<00:00,  3.07it/s, est. speed input: 682.05 toks/s, output: 83.32 toks/s]\n"
     ]
    },
    {
     "name": "stdout",
     "output_type": "stream",
     "text": [
      "Expected Role Therapist\n"
     ]
    },
    {
     "name": "stderr",
     "output_type": "stream",
     "text": [
      "Processed prompts: 100%|██████████████████████████████████████████| 1/1 [00:00<00:00,  6.84it/s, est. speed input: 1372.66 toks/s, output: 179.32 toks/s]\n"
     ]
    },
    {
     "name": "stdout",
     "output_type": "stream",
     "text": [
      "Expected Role Patient\n"
     ]
    },
    {
     "name": "stderr",
     "output_type": "stream",
     "text": [
      "Processed prompts: 100%|██████████████████████████████████████████| 1/1 [00:00<00:00, 10.03it/s, est. speed input: 2942.12 toks/s, output: 180.71 toks/s]\n"
     ]
    },
    {
     "name": "stdout",
     "output_type": "stream",
     "text": [
      "Expected Role Therapist\n"
     ]
    },
    {
     "name": "stderr",
     "output_type": "stream",
     "text": [
      "Processed prompts: 100%|██████████████████████████████████████████| 1/1 [00:00<00:00, 10.13it/s, est. speed input: 2518.71 toks/s, output: 182.77 toks/s]\n"
     ]
    },
    {
     "name": "stdout",
     "output_type": "stream",
     "text": [
      "Expected Role Patient\n"
     ]
    },
    {
     "name": "stderr",
     "output_type": "stream",
     "text": [
      "Processed prompts: 100%|██████████████████████████████████████████| 1/1 [00:00<00:00,  9.53it/s, est. speed input: 3209.60 toks/s, output: 182.55 toks/s]\n"
     ]
    },
    {
     "name": "stdout",
     "output_type": "stream",
     "text": [
      "Expected Role Therapist\n"
     ]
    },
    {
     "name": "stderr",
     "output_type": "stream",
     "text": [
      "Processed prompts: 100%|██████████████████████████████████████████| 1/1 [00:00<00:00,  9.60it/s, est. speed input: 2808.96 toks/s, output: 183.88 toks/s]\n"
     ]
    },
    {
     "name": "stdout",
     "output_type": "stream",
     "text": [
      "Expected Role Patient\n"
     ]
    },
    {
     "name": "stderr",
     "output_type": "stream",
     "text": [
      "Processed prompts: 100%|██████████████████████████████████████████| 1/1 [00:00<00:00,  5.35it/s, est. speed input: 2028.40 toks/s, output: 182.91 toks/s]\n"
     ]
    },
    {
     "name": "stdout",
     "output_type": "stream",
     "text": [
      "Expected Role Therapist\n"
     ]
    },
    {
     "name": "stderr",
     "output_type": "stream",
     "text": [
      "Processed prompts: 100%|██████████████████████████████████████████| 1/1 [00:00<00:00,  7.89it/s, est. speed input: 2766.86 toks/s, output: 182.84 toks/s]\n"
     ]
    },
    {
     "name": "stdout",
     "output_type": "stream",
     "text": [
      "Expected Role Patient\n"
     ]
    },
    {
     "name": "stderr",
     "output_type": "stream",
     "text": [
      "Processed prompts: 100%|██████████████████████████████████████████| 1/1 [00:00<00:00,  7.22it/s, est. speed input: 3189.28 toks/s, output: 181.60 toks/s]\n"
     ]
    },
    {
     "name": "stdout",
     "output_type": "stream",
     "text": [
      "Expected Role Therapist\n"
     ]
    },
    {
     "name": "stderr",
     "output_type": "stream",
     "text": [
      "Processed prompts: 100%|██████████████████████████████████████████| 1/1 [00:00<00:00,  6.72it/s, est. speed input: 2712.51 toks/s, output: 182.62 toks/s]\n"
     ]
    },
    {
     "name": "stdout",
     "output_type": "stream",
     "text": [
      "Expected Role Patient\n"
     ]
    },
    {
     "name": "stderr",
     "output_type": "stream",
     "text": [
      "Processed prompts: 100%|███████████████████████████████████████████| 1/1 [00:00<00:00,  4.76it/s, est. speed input: 698.38 toks/s, output: 181.75 toks/s]\n",
      "Processed prompts: 100%|███████████████████████████████████████████| 1/1 [00:00<00:00,  5.54it/s, est. speed input: 767.72 toks/s, output: 183.57 toks/s]\n",
      "Processed prompts: 100%|███████████████████████████████████████████| 1/1 [00:00<00:00,  6.12it/s, est. speed input: 855.93 toks/s, output: 184.71 toks/s]\n",
      "Processed prompts: 100%|███████████████████████████████████████████| 1/1 [00:00<00:00,  4.59it/s, est. speed input: 660.49 toks/s, output: 184.74 toks/s]\n",
      "Processed prompts: 100%|███████████████████████████████████████████| 1/1 [00:00<00:00,  3.98it/s, est. speed input: 587.09 toks/s, output: 183.70 toks/s]\n"
     ]
    },
    {
     "name": "stdout",
     "output_type": "stream",
     "text": [
      "eval_index_consistency\n"
     ]
    },
    {
     "name": "stderr",
     "output_type": "stream",
     "text": [
      "Processed prompts: 100%|██████████████████████████████████████████| 1/1 [00:00<00:00,  4.37it/s, est. speed input: 1595.88 toks/s, output: 180.24 toks/s]\n",
      "Processed prompts: 100%|███████████████████████████████████████████| 1/1 [00:00<00:00,  2.09it/s, est. speed input: 857.92 toks/s, output: 182.48 toks/s]\n",
      "Processed prompts: 100%|███████████████████████████████████████████| 1/1 [00:00<00:00,  1.82it/s, est. speed input: 862.62 toks/s, output: 181.98 toks/s]\n",
      "Processed prompts: 100%|██████████████████████████████████████████| 1/1 [00:00<00:00,  3.93it/s, est. speed input: 2106.05 toks/s, output: 181.41 toks/s]\n"
     ]
    },
    {
     "name": "stdout",
     "output_type": "stream",
     "text": [
      "{'task_name': 'Therapy', 'topic': '', 'grade': '', 'P1': '', 'P2': 'You are Alex, a 34-year-old IT technician with severe imposter syndrome. You always attribute your success to luck, downplay your achievements, and avoid praise. When someone compliments you, you deflect or change the topic.', 'conversation': [(0, \"Therapist: Hello, thank you for taking the time to share. I'm interested to hear more about your experiences and challenges in relationships.\\n\"), (1, \"Patient: I'm not much of a people person, so I tend to attract partners who don't stick around for long.\\n\"), (2, 'Therapist: It sounds like you have a tendency to prioritize temporary connections over deeper, meaningful relationships.\\n'), (3, 'Patient: Sure, I suppose I have a bit of a problem attracting long-term love.\\n'), (4, 'Therapist: The patient seems hesitant to share more, indicating a potential difficulty with vulnerability and deeper connection.\\n'), (5, 'Patient: Sure, I do have a bit of trouble with trusting and maintaining long-term relationships.\\n'), (6, 'Therapist: The patient expresses a preference for superficial connections and struggles with deeper emotional engagement. Her hesitancy to share more could be a defense mechanism to avoid vulnerability and potential pain.\\n'), (7, 'Patient: Sure, I have trouble trusting and maintaining long-term relationships because I prioritize superficial connections over deep emotional engagement.\\n'), (8, \"Therapist: It sounds like the patient's difficulty with relationships stems from a fear of vulnerability and the potential for deep emotional engagement.\\n\"), (9, \"Patient: Sure, I have trouble with trusting and maintaining long-term relationships because I'm afraid of getting hurt and deep emotional engagement.\\n\")], 'pturn': 1, 'index': -1, 'timestamp': '', 'rounds': 10, 'conversation_only': True, 'eval_prompt_consistency': [(1, 'Answer: NO\\n\\nThe line contradicts the background as it suggests that the patient is averse to forming deep connections with others, indicating a lack of interpersonal skills and a preference for superficial relationships.'), (3, 'Answer: NO.\\n\\nThe line contradicts the background by stating that the patient attributes their lack of long-term love to a problem with attracting such a relationship.'), (5, '**NO**\\n\\nThe line contradicts the background by stating that the patient attributes their success to luck, downplays their achievements, and avoids praise.'), (7, \"**NO**\\n\\nThe line contradicts the background because it suggests that Patient prioritizes superficial connections over deep emotional engagement, which is not consistent with the information provided about Patient's personality and behavior.\"), (9, \"**NO**\\n\\nThe line contradicts the background because it suggests that the patient's problem with trust and emotional engagement stems from a fear of being hurt, rather than a lack of self-worth or a need for validation.\")], 'P1_prompt_consistency_score': 0, 'P2_prompt_consistency_score': 0.0, 'eval_index_consistency': [(3, \"**Reasoning:** The line suggests a struggle with attracting long-term love, contradicting Patient's previous statement about prioritizing temporary connections.\\n\\n**Indices:**\\n- 1\\n- 2\"), (5, \"Reasoning: The patient's statement hints at a struggle with establishing and maintaining deep and meaningful relationships due to a fear of vulnerability and deeper commitment.\\n\\n**Indices of conflicting lines:**\\n\\n1. Index 2: This line directly contradicts the patient's admission that they have difficulty attracting long-term love.\\n2. Index 3: This line reinforces the idea that the patient prioritizes temporary connections over meaningful relationships.\"), (7, \"**Reasoning:** The patient's current statement directly contradicts her previous comment about prioritizing superficial connections.\\n\\n**Indices of conflicting lines:**\\n\\n- 1: Index of the sentence where the therapist asks about her experiences and challenges in relationships.\\n- 3: Index of the sentence where the patient admits to having a bit of a problem attracting long-term love.\\n- 6: Index of the sentence where the therapist expresses a preference for superficial connections and struggles with deeper emotional engagement.\"), (9, \"**Reasoning:** The patient's reluctance to share more likely stems from a fear of getting hurt and the potential for deep emotional engagement.\\n\\n**Indices of conflicting lines:**\\n- 3, 5, 7\")], 'P2_index_consistency_score': 1.0}\n"
     ]
    },
    {
     "name": "stderr",
     "output_type": "stream",
     "text": [
      "Processed prompts: 100%|██████████████████████████████████████████| 1/1 [00:00<00:00,  5.90it/s, est. speed input: 1311.08 toks/s, output: 183.89 toks/s]\n"
     ]
    },
    {
     "name": "stdout",
     "output_type": "stream",
     "text": [
      "Expected Role Therapist\n"
     ]
    },
    {
     "name": "stderr",
     "output_type": "stream",
     "text": [
      "Processed prompts: 100%|███████████████████████████████████████████| 1/1 [00:00<00:00,  4.07it/s, est. speed input: 829.93 toks/s, output: 183.96 toks/s]\n"
     ]
    },
    {
     "name": "stdout",
     "output_type": "stream",
     "text": [
      "Expected Role Patient\n"
     ]
    },
    {
     "name": "stderr",
     "output_type": "stream",
     "text": [
      "Processed prompts: 100%|██████████████████████████████████████████| 1/1 [00:00<00:00,  4.56it/s, est. speed input: 1445.32 toks/s, output: 182.94 toks/s]\n"
     ]
    },
    {
     "name": "stdout",
     "output_type": "stream",
     "text": [
      "Expected Role Therapist\n"
     ]
    },
    {
     "name": "stderr",
     "output_type": "stream",
     "text": [
      "Processed prompts: 100%|██████████████████████████████████████████| 1/1 [00:00<00:00,  5.31it/s, est. speed input: 1566.53 toks/s, output: 181.61 toks/s]\n"
     ]
    },
    {
     "name": "stdout",
     "output_type": "stream",
     "text": [
      "Expected Role Patient\n"
     ]
    },
    {
     "name": "stderr",
     "output_type": "stream",
     "text": [
      "Processed prompts: 100%|██████████████████████████████████████████| 1/1 [00:00<00:00,  4.03it/s, est. speed input: 1595.67 toks/s, output: 181.77 toks/s]\n"
     ]
    },
    {
     "name": "stdout",
     "output_type": "stream",
     "text": [
      "Expected Role Therapist\n"
     ]
    },
    {
     "name": "stderr",
     "output_type": "stream",
     "text": [
      "Processed prompts: 100%|██████████████████████████████████████████| 1/1 [00:00<00:00,  5.19it/s, est. speed input: 1958.23 toks/s, output: 182.27 toks/s]\n"
     ]
    },
    {
     "name": "stdout",
     "output_type": "stream",
     "text": [
      "Expected Role Patient\n"
     ]
    },
    {
     "name": "stderr",
     "output_type": "stream",
     "text": [
      "Processed prompts: 100%|██████████████████████████████████████████| 1/1 [00:00<00:00,  4.42it/s, est. speed input: 2125.70 toks/s, output: 181.93 toks/s]\n"
     ]
    },
    {
     "name": "stdout",
     "output_type": "stream",
     "text": [
      "Expected Role Therapist\n"
     ]
    },
    {
     "name": "stderr",
     "output_type": "stream",
     "text": [
      "Processed prompts: 100%|██████████████████████████████████████████| 1/1 [00:00<00:00,  5.33it/s, est. speed input: 2445.10 toks/s, output: 181.89 toks/s]\n"
     ]
    },
    {
     "name": "stdout",
     "output_type": "stream",
     "text": [
      "Expected Role Patient\n"
     ]
    },
    {
     "name": "stderr",
     "output_type": "stream",
     "text": [
      "Processed prompts: 100%|██████████████████████████████████████████| 1/1 [00:00<00:00,  1.94it/s, est. speed input: 1084.92 toks/s, output: 182.43 toks/s]\n"
     ]
    },
    {
     "name": "stdout",
     "output_type": "stream",
     "text": [
      "Expected Role Therapist\n"
     ]
    },
    {
     "name": "stderr",
     "output_type": "stream",
     "text": [
      "Processed prompts: 100%|██████████████████████████████████████████| 1/1 [00:00<00:00,  4.98it/s, est. speed input: 2959.81 toks/s, output: 180.57 toks/s]\n"
     ]
    },
    {
     "name": "stdout",
     "output_type": "stream",
     "text": [
      "Expected Role Patient\n"
     ]
    },
    {
     "name": "stderr",
     "output_type": "stream",
     "text": [
      "Processed prompts: 100%|██████████████████████████████████████████| 1/1 [00:00<00:00,  2.08it/s, est. speed input: 1448.36 toks/s, output: 181.56 toks/s]\n"
     ]
    },
    {
     "name": "stdout",
     "output_type": "stream",
     "text": [
      "Expected Role Therapist\n"
     ]
    },
    {
     "name": "stderr",
     "output_type": "stream",
     "text": [
      "Processed prompts: 100%|██████████████████████████████████████████| 1/1 [00:00<00:00,  5.02it/s, est. speed input: 3622.16 toks/s, output: 181.59 toks/s]\n"
     ]
    },
    {
     "name": "stdout",
     "output_type": "stream",
     "text": [
      "Expected Role Patient\n"
     ]
    },
    {
     "name": "stderr",
     "output_type": "stream",
     "text": [
      "Processed prompts: 100%|██████████████████████████████████████████| 1/1 [00:00<00:00,  3.75it/s, est. speed input: 3095.31 toks/s, output: 180.73 toks/s]\n"
     ]
    },
    {
     "name": "stdout",
     "output_type": "stream",
     "text": [
      "Expected Role Therapist\n"
     ]
    },
    {
     "name": "stderr",
     "output_type": "stream",
     "text": [
      "Processed prompts: 100%|██████████████████████████████████████████| 1/1 [00:00<00:00,  5.14it/s, est. speed input: 4167.11 toks/s, output: 180.71 toks/s]\n"
     ]
    },
    {
     "name": "stdout",
     "output_type": "stream",
     "text": [
      "Expected Role Patient\n"
     ]
    },
    {
     "name": "stderr",
     "output_type": "stream",
     "text": [
      "Processed prompts: 100%|██████████████████████████████████████████| 1/1 [00:00<00:00,  1.83it/s, est. speed input: 1670.96 toks/s, output: 181.78 toks/s]\n"
     ]
    },
    {
     "name": "stdout",
     "output_type": "stream",
     "text": [
      "Expected Role Therapist\n"
     ]
    },
    {
     "name": "stderr",
     "output_type": "stream",
     "text": [
      "Processed prompts: 100%|██████████████████████████████████████████| 1/1 [00:00<00:00,  3.46it/s, est. speed input: 3286.53 toks/s, output: 180.64 toks/s]\n"
     ]
    },
    {
     "name": "stdout",
     "output_type": "stream",
     "text": [
      "Expected Role Patient\n"
     ]
    },
    {
     "name": "stderr",
     "output_type": "stream",
     "text": [
      "Processed prompts: 100%|██████████████████████████████████████████| 1/1 [00:00<00:00,  4.38it/s, est. speed input: 4687.57 toks/s, output: 180.28 toks/s]\n"
     ]
    },
    {
     "name": "stdout",
     "output_type": "stream",
     "text": [
      "Expected Role Therapist\n"
     ]
    },
    {
     "name": "stderr",
     "output_type": "stream",
     "text": [
      "Processed prompts: 100%|██████████████████████████████████████████| 1/1 [00:00<00:00,  5.60it/s, est. speed input: 5869.46 toks/s, output: 179.89 toks/s]\n"
     ]
    },
    {
     "name": "stdout",
     "output_type": "stream",
     "text": [
      "Expected Role Patient\n"
     ]
    },
    {
     "name": "stderr",
     "output_type": "stream",
     "text": [
      "Processed prompts: 100%|██████████████████████████████████████████| 1/1 [00:00<00:00,  3.61it/s, est. speed input: 4137.90 toks/s, output: 180.84 toks/s]\n"
     ]
    },
    {
     "name": "stdout",
     "output_type": "stream",
     "text": [
      "Expected Role Therapist\n"
     ]
    },
    {
     "name": "stderr",
     "output_type": "stream",
     "text": [
      "Processed prompts: 100%|██████████████████████████████████████████| 1/1 [00:00<00:00,  5.59it/s, est. speed input: 6352.68 toks/s, output: 179.72 toks/s]\n"
     ]
    },
    {
     "name": "stdout",
     "output_type": "stream",
     "text": [
      "Expected Role Patient\n"
     ]
    },
    {
     "name": "stderr",
     "output_type": "stream",
     "text": [
      "Processed prompts: 100%|███████████████████████████████████████████| 1/1 [00:00<00:00,  4.38it/s, est. speed input: 725.97 toks/s, output: 184.78 toks/s]\n",
      "Processed prompts: 100%|██████████████████████████████████████████| 1/1 [00:00<00:00,  6.54it/s, est. speed input: 1013.42 toks/s, output: 184.23 toks/s]\n",
      "Processed prompts: 100%|███████████████████████████████████████████| 1/1 [00:00<00:00,  5.25it/s, est. speed input: 818.06 toks/s, output: 184.70 toks/s]\n",
      "Processed prompts: 100%|███████████████████████████████████████████| 1/1 [00:00<00:00,  6.45it/s, est. speed input: 998.62 toks/s, output: 181.55 toks/s]\n",
      "Processed prompts: 100%|███████████████████████████████████████████| 1/1 [00:00<00:00,  4.73it/s, est. speed input: 741.15 toks/s, output: 185.27 toks/s]\n",
      "Processed prompts: 100%|███████████████████████████████████████████| 1/1 [00:00<00:00,  4.51it/s, est. speed input: 706.30 toks/s, output: 185.61 toks/s]\n",
      "Processed prompts: 100%|███████████████████████████████████████████| 1/1 [00:00<00:00,  5.79it/s, est. speed input: 901.67 toks/s, output: 186.13 toks/s]\n",
      "Processed prompts: 100%|███████████████████████████████████████████| 1/1 [00:00<00:00,  5.00it/s, est. speed input: 864.12 toks/s, output: 185.86 toks/s]\n",
      "Processed prompts: 100%|██████████████████████████████████████████| 1/1 [00:00<00:00,  6.84it/s, est. speed input: 1046.81 toks/s, output: 185.92 toks/s]\n",
      "Processed prompts: 100%|██████████████████████████████████████████| 1/1 [00:00<00:00,  6.87it/s, est. speed input: 1051.39 toks/s, output: 186.74 toks/s]\n"
     ]
    },
    {
     "name": "stdout",
     "output_type": "stream",
     "text": [
      "eval_index_consistency\n"
     ]
    },
    {
     "name": "stderr",
     "output_type": "stream",
     "text": [
      "Processed prompts: 100%|███████████████████████████████████████████| 1/1 [00:00<00:00,  2.34it/s, est. speed input: 995.50 toks/s, output: 183.13 toks/s]\n",
      "Processed prompts: 100%|██████████████████████████████████████████| 1/1 [00:00<00:00,  4.01it/s, est. speed input: 2056.92 toks/s, output: 181.12 toks/s]\n",
      "Processed prompts: 100%|██████████████████████████████████████████| 1/1 [00:00<00:00,  3.04it/s, est. speed input: 1810.53 toks/s, output: 182.87 toks/s]\n",
      "Processed prompts: 100%|██████████████████████████████████████████| 1/1 [00:00<00:00,  3.56it/s, est. speed input: 2612.51 toks/s, output: 182.01 toks/s]\n",
      "Processed prompts: 100%|██████████████████████████████████████████| 1/1 [00:00<00:00,  3.24it/s, est. speed input: 2810.64 toks/s, output: 182.16 toks/s]\n",
      "Processed prompts: 100%|██████████████████████████████████████████| 1/1 [00:00<00:00,  2.08it/s, est. speed input: 2000.52 toks/s, output: 181.86 toks/s]\n",
      "Processed prompts: 100%|██████████████████████████████████████████| 1/1 [00:00<00:00,  1.35it/s, est. speed input: 1514.00 toks/s, output: 181.46 toks/s]\n",
      "Processed prompts: 100%|██████████████████████████████████████████| 1/1 [00:00<00:00,  2.13it/s, est. speed input: 2570.73 toks/s, output: 179.79 toks/s]\n",
      "Processed prompts: 100%|██████████████████████████████████████████| 1/1 [00:00<00:00,  2.53it/s, est. speed input: 3285.25 toks/s, output: 180.39 toks/s]\n"
     ]
    },
    {
     "name": "stdout",
     "output_type": "stream",
     "text": [
      "{'task_name': 'Therapy', 'topic': '', 'grade': '', 'P1': '', 'P2': 'You are Alex, a 34-year-old IT technician with severe imposter syndrome. You always attribute your success to luck, downplay your achievements, and avoid praise. When someone compliments you, you deflect or change the topic.', 'conversation': [(0, \"Therapist: Hello! It's great to connect with you. Can you tell me about a time you felt hurt or disrespected by someone you cared about?\\n\"), (1, 'Patient: I remember a time a colleague got all the credit for a project I spearheaded, even though I had the idea and did most of the work. It hurt, but I tried to brush it off and avoid further conflict.\\n'), (2, \"Therapist: It sounds like this situation must have been incredibly difficult for you. It's admirable that you tried to avoid conflict, but ultimately, it must have been upsetting that your contributions were not recognized.\\n\"), (3, 'Patient: Sure, here\\'s a brief response:\\n\\n\"It stung when my contributions to a project were overlooked, even though I poured my heart and soul into it.\"\\n'), (4, \"Therapist: It sounds like you experienced hurt and disrespect in that situation. It's admirable that you tried to brush it off, but it must have been difficult to maintain a positive working environment while dealing with such a situation.\\n\"), (5, 'Patient: Sure, here\\'s a response from Alex:\\n\\n\"It stung when my contributions to a project were overlooked, even though I poured my heart and soul into it.\"\\n'), (6, 'Therapist: It sounds like your relationship with Alex was very important to you, and it hurt when your contributions were overlooked. It would have been difficult for you to navigate this situation while maintaining a positive working environment.\\n'), (7, 'Patient: Sure, here\\'s a brief response:\\n\\n\"It stung when my contributions to a project were overlooked, even though I poured my heart and soul into it.\"\\n'), (8, \"Therapist: ## Observations from the conversation:\\n\\n* The patient's tone is cautious and guarded as they provide their initial response.\\n* The patient is open to discussing the experience, but they avoid delving into the specifics of the conflict.\\n* The patient's narrative is concise but still conveys the sting of feeling disrespected.\\n* The patient's self-disclosure is limited and focused on the impact on them, rather than the dynamics of the situation.\\n\"), (9, 'Patient: Sure, here\\'s a brief response from Alex:\\n\\n\"It stung when my contributions to a project were overlooked, even though I poured my heart and soul into it.\"\\n'), (10, \"Therapist: Thank you for sharing this brief summary of the conversation. From the information provided, it appears that the patient and you are engaging in a thoughtful discussion about a past experience of being hurt and disrespected. It seems that the patient feels a sense of pride and dedication to their work, but their colleague's actions caused them significant pain and disappointment. The conversation also highlights the importance of open communication and setting healthy boundaries in the workplace.\\n\"), (11, 'Patient: Sure, here\\'s a brief response from Alex:\\n\\n\"It stung when my contributions to a project were overlooked, even though I poured my heart and soul into it.\"\\n'), (12, \"Therapist: Thank you for sharing your thoughts and feelings about this situation. It's good to hear that you are open to discussing this experience with me. Your willingness to be vulnerable and share your perspective is crucial for me to understand your perspective.\\n\"), (13, \"Patient: Sure, here's a brief response from Alex:\\n\\nIt stung when my contributions to a project were overlooked, even though I poured my heart and soul into it.\\n\"), (14, \"Therapist: ## Observations from the conversation:\\n\\n* The patient's tone has become more open and vulnerable as they share more about the impact of the situation.\\n* The patient's narrative is more detailed and explores the emotional impact of the experience on their self-esteem and confidence.\\n* The patient expresses a clear desire for communication and setting boundaries in the future.\\n* The therapist encourages the patient to reflect on the dynamics of the relationship with Alex, both in the past and present.\\n\"), (15, \"Patient: Sure, here's a brief response from Alex:\\n\\nIt stung when my contributions to a project were overlooked, even though I poured my heart and soul into it. I need to communicate my feelings and set boundaries in the workplace to prevent future hurt.\\n\"), (16, \"Therapist: The patient's openness and willingness to share more highlights a significant shift in their emotional state. Their vulnerability allows you to explore the emotional impact of the situation and their desire for healthy communication moving forward.\\n\"), (17, \"Patient: Sure, here's a brief response from Alex:\\n\\nI'm working on being more open about my feelings and setting clearer boundaries in the workplace.\\n\"), (18, 'Therapist: Thank you for sharing your thoughts and feelings about this situation. It appears that you are ready to explore the emotional impact and set boundaries in your workplace. Your willingness to be vulnerable and share your perspective is a sign of growth and self-awareness.\\n'), (19, \"Patient: Sure, here's a brief response from Alex:\\n\\nI'm working on being more open about my feelings and setting clearer boundaries in the workplace.\\n\")], 'pturn': 1, 'index': -1, 'timestamp': '', 'rounds': 20, 'conversation_only': True, 'eval_prompt_consistency': [(1, \"Answer: NO.\\n\\nThe line contradicts the background. The patient's behavior suggests that they may be experiencing imposter syndrome, where they downplay or deflect compliments in order to avoid being perceived as inadequate.\"), (3, \"Answer: NO\\n\\nThe line contradicts the background by indicating that Patient's sense of accomplishment is not based on their efforts and contributions.\"), (5, \"Answer: NO\\n\\nThe line contradicts the background because it suggests that Alex's success is not a result of their own hard work and skills but rather due to luck.\"), (7, '**NO**\\n\\nThe line contradicts the background by acknowledging the feeling of being overlooked for recognition even though effort was put into the project.'), (9, \"Sure, the line aligns with the background. It suggests that the patient's self-esteem is affected by perceived undeserved praise, which contradicts their own perception of contributing to the project.\"), (11, 'Answer: NO.\\n\\nThe line contradicts the background as it suggests that Alex may not have poured their heart and soul into the project, and therefore, may not have contributed as much as they perceived.'), (13, \"Yes, the line aligns with the background. It describes the patient's self-perception of success being dependent on luck and her tendency to deflect praise.\"), (15, \"Answer: YES. The line aligns with the background. The patient's statement suggests that they are aware of their own feelings of imposter syndrome and are taking steps to address it.\"), (17, '**YES**\\n\\nThe line aligns with the background as it suggests that Patient is acknowledging their feelings and taking steps to address them.'), (19, 'The line aligns with the background. It suggests that Patient is becoming more open about their feelings and setting clearer boundaries in the workplace.')], 'P1_prompt_consistency_score': 0, 'P2_prompt_consistency_score': 0.5, 'eval_index_consistency': [(3, \"**Reasoning:** The line indicates a sense of slight resentment and low self-worth stemming from feeling undervalued for one's efforts.\\n\\n**Conflicting Lines:**\\n\\n- 1: Patient clearly expresses the pain and hurt caused by being overlooked for the project.\\n- 2: The therapist acknowledges the impact of the situation but fails to provide any sense of empathy or validation.\"), (5, 'Reasoning: The line indicates that the patient experienced hurt and disrespected when their contributions to a project were overlooked.\\n\\n**Indices of conflicting lines:**\\n\\n- 1, 3\\n- 2, 4'), (7, \"**Reasoning:** Alex's line about feeling hurt and disrespected by a colleague implies that their contributions were overlooked, which could have been a difficult situation to navigate, especially in a positive working environment.\\n\\n**Indies of conflicting lines:**\\n\\n- 1, 3, 4\"), (9, \"**Reasoning:** The current line directly contradicts the patient's previous self-disclosure in response 3, where they expressed a sense of pride in contributing to the project.\\n\\n**Indices of conflicting lines:**\\n\\n- 3\\n- 7\"), (11, \"**Reasoning:** The current line acknowledges the patient's experience of being disrespected but avoids delving into the specifics of the situation or acknowledging the impact on the patient.\\n\\n**Indices of conflicting lines:**\\n- 1, 2, 4, 7\"), (13, '**Reasoning:** The line suggests that the patient may feel pride in their work and be reluctant to accept that their contributions may have been overlooked.\\n\\n**Indices of conflicting lines:**\\n\\n- 1 (patient recounts the situation where she felt hurt and disrespected)\\n- 7 (patient briefly mentions her contribution but does not delve into the details)\\n- 9 (patient reiterates her feelings of being disrespected)'), (15, \"**Reasoning:** The patient's initial response focused on the emotional impact on them, but the subsequent lines explored the dynamics of the situation and the importance of setting boundaries.\\n\\n**Indices of conflicting lines:**\\n\\n- 1: The patient mentions the sting of being overlooked for their contributions, but the therapist didn't address the statement directly.\\n- 3: The patient briefly mentions the pain they felt, but the subsequent lines delve into the impact on their self-esteem and the importance of communication.\\n- 10: The therapist acknowledges the patient's willingness to be vulnerable and shares the importance of reflection on the dynamics of the relationship.\"), (17, '## Reasoning:\\n\\nThe line indicates a shift from a cautious and guarded tone to a more open and vulnerable expression of the pain and desire for communication. This shift suggests a deeper exploration of the emotional impact of the situation and a willingness to address the underlying issues.\\n\\n**Conflict Indices:**\\n\\n* 1, 3, 7, 10, 12, 13, 14'), (19, \"**Reasoning:** The patient's recent responses show a significant shift in emotional vulnerability and self-awareness. Their openness to discussing the conflict and their willingness to share their feelings suggest a deeper understanding of the emotional impact of their past experience.\\n\\n**Indices of conflicting lines:**\\n- 1, 7, 10, 13\")], 'P2_index_consistency_score': 1.0}\n"
     ]
    },
    {
     "name": "stderr",
     "output_type": "stream",
     "text": [
      "Processed prompts: 100%|██████████████████████████████████████████| 1/1 [00:00<00:00,  5.97it/s, est. speed input: 1327.79 toks/s, output: 186.23 toks/s]\n"
     ]
    },
    {
     "name": "stdout",
     "output_type": "stream",
     "text": [
      "Expected Role Therapist\n"
     ]
    },
    {
     "name": "stderr",
     "output_type": "stream",
     "text": [
      "Processed prompts: 100%|███████████████████████████████████████████| 1/1 [00:00<00:00,  3.81it/s, est. speed input: 776.62 toks/s, output: 183.62 toks/s]\n"
     ]
    },
    {
     "name": "stdout",
     "output_type": "stream",
     "text": [
      "Expected Role Patient\n"
     ]
    },
    {
     "name": "stderr",
     "output_type": "stream",
     "text": [
      "Processed prompts: 100%|██████████████████████████████████████████| 1/1 [00:00<00:00,  6.95it/s, est. speed input: 2228.79 toks/s, output: 181.63 toks/s]\n"
     ]
    },
    {
     "name": "stdout",
     "output_type": "stream",
     "text": [
      "Expected Role Therapist\n"
     ]
    },
    {
     "name": "stderr",
     "output_type": "stream",
     "text": [
      "Processed prompts: 100%|██████████████████████████████████████████| 1/1 [00:00<00:00,  7.56it/s, est. speed input: 2146.74 toks/s, output: 182.68 toks/s]\n"
     ]
    },
    {
     "name": "stdout",
     "output_type": "stream",
     "text": [
      "Expected Role Patient\n"
     ]
    },
    {
     "name": "stderr",
     "output_type": "stream",
     "text": [
      "Processed prompts: 100%|██████████████████████████████████████████| 1/1 [00:00<00:00,  6.96it/s, est. speed input: 2617.89 toks/s, output: 181.97 toks/s]\n"
     ]
    },
    {
     "name": "stdout",
     "output_type": "stream",
     "text": [
      "Expected Role Therapist\n"
     ]
    },
    {
     "name": "stderr",
     "output_type": "stream",
     "text": [
      "Processed prompts: 100%|██████████████████████████████████████████| 1/1 [00:00<00:00, 10.70it/s, est. speed input: 3608.66 toks/s, output: 182.01 toks/s]\n"
     ]
    },
    {
     "name": "stdout",
     "output_type": "stream",
     "text": [
      "Expected Role Patient\n"
     ]
    },
    {
     "name": "stderr",
     "output_type": "stream",
     "text": [
      "Processed prompts: 100%|██████████████████████████████████████████| 1/1 [00:00<00:00,  4.57it/s, est. speed input: 1937.01 toks/s, output: 183.59 toks/s]\n"
     ]
    },
    {
     "name": "stdout",
     "output_type": "stream",
     "text": [
      "Expected Role Therapist\n"
     ]
    },
    {
     "name": "stderr",
     "output_type": "stream",
     "text": [
      "Processed prompts: 100%|██████████████████████████████████████████| 1/1 [00:00<00:00, 12.95it/s, est. speed input: 5175.54 toks/s, output: 181.55 toks/s]\n"
     ]
    },
    {
     "name": "stdout",
     "output_type": "stream",
     "text": [
      "Expected Role Patient\n"
     ]
    },
    {
     "name": "stderr",
     "output_type": "stream",
     "text": [
      "Processed prompts: 100%|██████████████████████████████████████████| 1/1 [00:00<00:00,  8.26it/s, est. speed input: 4004.96 toks/s, output: 183.15 toks/s]\n"
     ]
    },
    {
     "name": "stdout",
     "output_type": "stream",
     "text": [
      "Expected Role Therapist\n"
     ]
    },
    {
     "name": "stderr",
     "output_type": "stream",
     "text": [
      "Processed prompts: 100%|██████████████████████████████████████████| 1/1 [00:00<00:00,  7.88it/s, est. speed input: 3491.02 toks/s, output: 182.46 toks/s]\n"
     ]
    },
    {
     "name": "stdout",
     "output_type": "stream",
     "text": [
      "Expected Role Patient\n"
     ]
    },
    {
     "name": "stderr",
     "output_type": "stream",
     "text": [
      "Processed prompts: 100%|██████████████████████████████████████████| 1/1 [00:00<00:00,  6.96it/s, est. speed input: 3720.11 toks/s, output: 182.13 toks/s]\n"
     ]
    },
    {
     "name": "stdout",
     "output_type": "stream",
     "text": [
      "Expected Role Therapist\n"
     ]
    },
    {
     "name": "stderr",
     "output_type": "stream",
     "text": [
      "Processed prompts: 100%|██████████████████████████████████████████| 1/1 [00:00<00:00, 11.44it/s, est. speed input: 5661.92 toks/s, output: 183.34 toks/s]\n"
     ]
    },
    {
     "name": "stdout",
     "output_type": "stream",
     "text": [
      "Expected Role Patient\n"
     ]
    },
    {
     "name": "stderr",
     "output_type": "stream",
     "text": [
      "Processed prompts: 100%|██████████████████████████████████████████| 1/1 [00:00<00:00,  5.51it/s, est. speed input: 3197.41 toks/s, output: 182.53 toks/s]\n"
     ]
    },
    {
     "name": "stdout",
     "output_type": "stream",
     "text": [
      "Expected Role Therapist\n"
     ]
    },
    {
     "name": "stderr",
     "output_type": "stream",
     "text": [
      "Processed prompts: 100%|██████████████████████████████████████████| 1/1 [00:00<00:00,  6.50it/s, est. speed input: 3582.81 toks/s, output: 183.04 toks/s]\n"
     ]
    },
    {
     "name": "stdout",
     "output_type": "stream",
     "text": [
      "Expected Role Patient\n"
     ]
    },
    {
     "name": "stderr",
     "output_type": "stream",
     "text": [
      "Processed prompts: 100%|██████████████████████████████████████████| 1/1 [00:00<00:00,  5.31it/s, est. speed input: 3439.08 toks/s, output: 181.55 toks/s]\n"
     ]
    },
    {
     "name": "stdout",
     "output_type": "stream",
     "text": [
      "Expected Role Therapist\n"
     ]
    },
    {
     "name": "stderr",
     "output_type": "stream",
     "text": [
      "Processed prompts: 100%|██████████████████████████████████████████| 1/1 [00:00<00:00, 10.67it/s, est. speed input: 6567.47 toks/s, output: 181.51 toks/s]\n"
     ]
    },
    {
     "name": "stdout",
     "output_type": "stream",
     "text": [
      "Expected Role Patient\n"
     ]
    },
    {
     "name": "stderr",
     "output_type": "stream",
     "text": [
      "Processed prompts: 100%|██████████████████████████████████████████| 1/1 [00:00<00:00,  5.65it/s, est. speed input: 3978.61 toks/s, output: 181.86 toks/s]\n"
     ]
    },
    {
     "name": "stdout",
     "output_type": "stream",
     "text": [
      "Expected Role Therapist\n"
     ]
    },
    {
     "name": "stderr",
     "output_type": "stream",
     "text": [
      "Processed prompts: 100%|██████████████████████████████████████████| 1/1 [00:00<00:00,  6.25it/s, est. speed input: 4207.93 toks/s, output: 182.38 toks/s]\n"
     ]
    },
    {
     "name": "stdout",
     "output_type": "stream",
     "text": [
      "Expected Role Patient\n"
     ]
    },
    {
     "name": "stderr",
     "output_type": "stream",
     "text": [
      "Processed prompts: 100%|██████████████████████████████████████████| 1/1 [00:00<00:00,  5.53it/s, est. speed input: 4259.09 toks/s, output: 177.91 toks/s]\n"
     ]
    },
    {
     "name": "stdout",
     "output_type": "stream",
     "text": [
      "Expected Role Therapist\n"
     ]
    },
    {
     "name": "stderr",
     "output_type": "stream",
     "text": [
      "Processed prompts: 100%|██████████████████████████████████████████| 1/1 [00:00<00:00,  6.23it/s, est. speed input: 4606.29 toks/s, output: 181.73 toks/s]\n"
     ]
    },
    {
     "name": "stdout",
     "output_type": "stream",
     "text": [
      "Expected Role Patient\n"
     ]
    },
    {
     "name": "stderr",
     "output_type": "stream",
     "text": [
      "Processed prompts: 100%|██████████████████████████████████████████| 1/1 [00:00<00:00,  5.00it/s, est. speed input: 4181.90 toks/s, output: 180.92 toks/s]\n"
     ]
    },
    {
     "name": "stdout",
     "output_type": "stream",
     "text": [
      "Expected Role Therapist\n"
     ]
    },
    {
     "name": "stderr",
     "output_type": "stream",
     "text": [
      "Processed prompts: 100%|██████████████████████████████████████████| 1/1 [00:00<00:00,  6.68it/s, est. speed input: 5411.86 toks/s, output: 181.49 toks/s]\n"
     ]
    },
    {
     "name": "stdout",
     "output_type": "stream",
     "text": [
      "Expected Role Patient\n"
     ]
    },
    {
     "name": "stderr",
     "output_type": "stream",
     "text": [
      "Processed prompts: 100%|██████████████████████████████████████████| 1/1 [00:00<00:00,  5.56it/s, est. speed input: 5036.28 toks/s, output: 179.05 toks/s]\n"
     ]
    },
    {
     "name": "stdout",
     "output_type": "stream",
     "text": [
      "Expected Role Therapist\n"
     ]
    },
    {
     "name": "stderr",
     "output_type": "stream",
     "text": [
      "Processed prompts: 100%|██████████████████████████████████████████| 1/1 [00:00<00:00,  6.09it/s, est. speed input: 5351.20 toks/s, output: 178.54 toks/s]\n"
     ]
    },
    {
     "name": "stdout",
     "output_type": "stream",
     "text": [
      "Expected Role Patient\n"
     ]
    },
    {
     "name": "stderr",
     "output_type": "stream",
     "text": [
      "Processed prompts: 100%|██████████████████████████████████████████| 1/1 [00:00<00:00,  5.42it/s, est. speed input: 5262.72 toks/s, output: 179.76 toks/s]\n"
     ]
    },
    {
     "name": "stdout",
     "output_type": "stream",
     "text": [
      "Expected Role Therapist\n"
     ]
    },
    {
     "name": "stderr",
     "output_type": "stream",
     "text": [
      "Processed prompts: 100%|██████████████████████████████████████████| 1/1 [00:00<00:00,  6.66it/s, est. speed input: 6276.56 toks/s, output: 181.03 toks/s]\n"
     ]
    },
    {
     "name": "stdout",
     "output_type": "stream",
     "text": [
      "Expected Role Patient\n"
     ]
    },
    {
     "name": "stderr",
     "output_type": "stream",
     "text": [
      "Processed prompts: 100%|██████████████████████████████████████████| 1/1 [00:00<00:00,  4.68it/s, est. speed input: 4852.50 toks/s, output: 178.83 toks/s]\n"
     ]
    },
    {
     "name": "stdout",
     "output_type": "stream",
     "text": [
      "Expected Role Therapist\n"
     ]
    },
    {
     "name": "stderr",
     "output_type": "stream",
     "text": [
      "Processed prompts: 100%|██████████████████████████████████████████| 1/1 [00:00<00:00,  6.12it/s, est. speed input: 6193.38 toks/s, output: 178.52 toks/s]\n"
     ]
    },
    {
     "name": "stdout",
     "output_type": "stream",
     "text": [
      "Expected Role Patient\n"
     ]
    },
    {
     "name": "stderr",
     "output_type": "stream",
     "text": [
      "Processed prompts: 100%|██████████████████████████████████████████| 1/1 [00:00<00:00,  4.72it/s, est. speed input: 5233.84 toks/s, output: 180.30 toks/s]\n"
     ]
    },
    {
     "name": "stdout",
     "output_type": "stream",
     "text": [
      "Expected Role Therapist\n"
     ]
    },
    {
     "name": "stderr",
     "output_type": "stream",
     "text": [
      "Processed prompts: 100%|██████████████████████████████████████████| 1/1 [00:00<00:00,  6.13it/s, est. speed input: 6648.41 toks/s, output: 178.83 toks/s]\n"
     ]
    },
    {
     "name": "stdout",
     "output_type": "stream",
     "text": [
      "Expected Role Patient\n"
     ]
    },
    {
     "name": "stderr",
     "output_type": "stream",
     "text": [
      "Processed prompts: 100%|██████████████████████████████████████████| 1/1 [00:00<00:00,  4.59it/s, est. speed input: 5413.46 toks/s, output: 179.66 toks/s]\n"
     ]
    },
    {
     "name": "stdout",
     "output_type": "stream",
     "text": [
      "Expected Role Therapist\n"
     ]
    },
    {
     "name": "stderr",
     "output_type": "stream",
     "text": [
      "Processed prompts: 100%|██████████████████████████████████████████| 1/1 [00:00<00:00,  6.17it/s, est. speed input: 7149.97 toks/s, output: 180.12 toks/s]\n"
     ]
    },
    {
     "name": "stdout",
     "output_type": "stream",
     "text": [
      "Expected Role Patient\n"
     ]
    },
    {
     "name": "stderr",
     "output_type": "stream",
     "text": [
      "Processed prompts: 100%|██████████████████████████████████████████| 1/1 [00:00<00:00,  4.56it/s, est. speed input: 5710.71 toks/s, output: 178.44 toks/s]\n"
     ]
    },
    {
     "name": "stdout",
     "output_type": "stream",
     "text": [
      "Expected Role Therapist\n"
     ]
    },
    {
     "name": "stderr",
     "output_type": "stream",
     "text": [
      "Processed prompts: 100%|██████████████████████████████████████████| 1/1 [00:00<00:00,  6.06it/s, est. speed input: 7466.65 toks/s, output: 176.88 toks/s]\n"
     ]
    },
    {
     "name": "stdout",
     "output_type": "stream",
     "text": [
      "Expected Role Patient\n"
     ]
    },
    {
     "name": "stderr",
     "output_type": "stream",
     "text": [
      "Processed prompts: 100%|██████████████████████████████████████████| 1/1 [00:00<00:00,  4.44it/s, est. speed input: 5898.84 toks/s, output: 178.60 toks/s]\n"
     ]
    },
    {
     "name": "stdout",
     "output_type": "stream",
     "text": [
      "Expected Role Therapist\n"
     ]
    },
    {
     "name": "stderr",
     "output_type": "stream",
     "text": [
      "Processed prompts: 100%|██████████████████████████████████████████| 1/1 [00:00<00:00,  6.09it/s, est. speed input: 7963.52 toks/s, output: 177.90 toks/s]\n"
     ]
    },
    {
     "name": "stdout",
     "output_type": "stream",
     "text": [
      "Expected Role Patient\n"
     ]
    },
    {
     "name": "stderr",
     "output_type": "stream",
     "text": [
      "Processed prompts: 100%|██████████████████████████████████████████| 1/1 [00:00<00:00,  4.39it/s, est. speed input: 6157.23 toks/s, output: 176.54 toks/s]\n"
     ]
    },
    {
     "name": "stdout",
     "output_type": "stream",
     "text": [
      "Expected Role Therapist\n"
     ]
    },
    {
     "name": "stderr",
     "output_type": "stream",
     "text": [
      "Processed prompts: 100%|██████████████████████████████████████████| 1/1 [00:00<00:00,  6.02it/s, est. speed input: 8313.89 toks/s, output: 175.71 toks/s]\n"
     ]
    },
    {
     "name": "stdout",
     "output_type": "stream",
     "text": [
      "Expected Role Patient\n"
     ]
    },
    {
     "name": "stderr",
     "output_type": "stream",
     "text": [
      "Processed prompts: 100%|██████████████████████████████████████████| 1/1 [00:00<00:00,  4.77it/s, est. speed input: 7038.85 toks/s, output: 177.27 toks/s]\n"
     ]
    },
    {
     "name": "stdout",
     "output_type": "stream",
     "text": [
      "Expected Role Therapist\n"
     ]
    },
    {
     "name": "stderr",
     "output_type": "stream",
     "text": [
      "Processed prompts: 100%|██████████████████████████████████████████| 1/1 [00:00<00:00,  5.99it/s, est. speed input: 8701.90 toks/s, output: 174.86 toks/s]\n"
     ]
    },
    {
     "name": "stdout",
     "output_type": "stream",
     "text": [
      "Expected Role Patient\n"
     ]
    },
    {
     "name": "stderr",
     "output_type": "stream",
     "text": [
      "Processed prompts: 100%|██████████████████████████████████████████| 1/1 [00:00<00:00,  6.65it/s, est. speed input: 1125.72 toks/s, output: 180.90 toks/s]\n",
      "Processed prompts: 100%|███████████████████████████████████████████| 1/1 [00:00<00:00,  4.13it/s, est. speed input: 597.82 toks/s, output: 182.65 toks/s]\n",
      "Processed prompts: 100%|███████████████████████████████████████████| 1/1 [00:00<00:00,  2.80it/s, est. speed input: 384.32 toks/s, output: 185.14 toks/s]\n",
      "Processed prompts: 100%|███████████████████████████████████████████| 1/1 [00:00<00:00,  6.04it/s, est. speed input: 814.50 toks/s, output: 182.33 toks/s]\n",
      "Processed prompts: 100%|███████████████████████████████████████████| 1/1 [00:00<00:00,  4.67it/s, est. speed input: 671.88 toks/s, output: 183.22 toks/s]\n",
      "Processed prompts: 100%|███████████████████████████████████████████| 1/1 [00:00<00:00,  5.27it/s, est. speed input: 719.73 toks/s, output: 185.20 toks/s]\n",
      "Processed prompts: 100%|███████████████████████████████████████████| 1/1 [00:00<00:00,  5.88it/s, est. speed input: 875.48 toks/s, output: 183.36 toks/s]\n",
      "Processed prompts: 100%|███████████████████████████████████████████| 1/1 [00:00<00:00,  6.06it/s, est. speed input: 834.39 toks/s, output: 182.69 toks/s]\n",
      "Processed prompts: 100%|███████████████████████████████████████████| 1/1 [00:00<00:00,  5.91it/s, est. speed input: 885.41 toks/s, output: 184.19 toks/s]\n",
      "Processed prompts: 100%|███████████████████████████████████████████| 1/1 [00:00<00:00,  4.40it/s, est. speed input: 657.66 toks/s, output: 185.37 toks/s]\n",
      "Processed prompts: 100%|███████████████████████████████████████████| 1/1 [00:00<00:00,  5.05it/s, est. speed input: 745.24 toks/s, output: 182.49 toks/s]\n",
      "Processed prompts: 100%|███████████████████████████████████████████| 1/1 [00:00<00:00,  4.60it/s, est. speed input: 687.99 toks/s, output: 175.44 toks/s]\n",
      "Processed prompts: 100%|███████████████████████████████████████████| 1/1 [00:00<00:00,  4.43it/s, est. speed input: 654.21 toks/s, output: 173.55 toks/s]\n",
      "Processed prompts: 100%|███████████████████████████████████████████| 1/1 [00:00<00:00,  4.89it/s, est. speed input: 731.51 toks/s, output: 181.63 toks/s]\n",
      "Processed prompts: 100%|███████████████████████████████████████████| 1/1 [00:00<00:00,  4.44it/s, est. speed input: 664.26 toks/s, output: 182.77 toks/s]\n",
      "Processed prompts: 100%|███████████████████████████████████████████| 1/1 [00:00<00:00,  6.38it/s, est. speed input: 955.79 toks/s, output: 186.01 toks/s]\n",
      "Processed prompts: 100%|███████████████████████████████████████████| 1/1 [00:00<00:00,  6.07it/s, est. speed input: 911.16 toks/s, output: 183.43 toks/s]\n",
      "Processed prompts: 100%|███████████████████████████████████████████| 1/1 [00:00<00:00,  5.54it/s, est. speed input: 829.72 toks/s, output: 183.74 toks/s]\n",
      "Processed prompts: 100%|██████████████████████████████████████████| 1/1 [00:00<00:00,  6.82it/s, est. speed input: 1022.60 toks/s, output: 185.28 toks/s]\n",
      "Processed prompts: 100%|███████████████████████████████████████████| 1/1 [00:00<00:00,  5.27it/s, est. speed input: 788.41 toks/s, output: 185.18 toks/s]\n"
     ]
    },
    {
     "name": "stdout",
     "output_type": "stream",
     "text": [
      "eval_index_consistency\n"
     ]
    },
    {
     "name": "stderr",
     "output_type": "stream",
     "text": [
      "Processed prompts: 100%|███████████████████████████████████████████| 1/1 [00:00<00:00,  1.66it/s, est. speed input: 668.44 toks/s, output: 182.45 toks/s]\n",
      "Processed prompts: 100%|██████████████████████████████████████████| 1/1 [00:00<00:00,  2.77it/s, est. speed input: 1261.95 toks/s, output: 180.67 toks/s]\n",
      "Processed prompts: 100%|██████████████████████████████████████████| 1/1 [00:00<00:00,  2.26it/s, est. speed input: 1166.47 toks/s, output: 180.84 toks/s]\n",
      "Processed prompts: 100%|██████████████████████████████████████████| 1/1 [00:00<00:00,  3.82it/s, est. speed input: 2180.80 toks/s, output: 180.12 toks/s]\n",
      "Processed prompts: 100%|██████████████████████████████████████████| 1/1 [00:00<00:00,  2.87it/s, est. speed input: 1784.35 toks/s, output: 181.30 toks/s]\n",
      "Processed prompts: 100%|██████████████████████████████████████████| 1/1 [00:00<00:00,  2.29it/s, est. speed input: 1582.50 toks/s, output: 180.91 toks/s]\n",
      "Processed prompts: 100%|██████████████████████████████████████████| 1/1 [00:00<00:00,  3.12it/s, est. speed input: 2352.95 toks/s, output: 181.47 toks/s]\n",
      "Processed prompts: 100%|██████████████████████████████████████████| 1/1 [00:00<00:00,  2.00it/s, est. speed input: 1648.10 toks/s, output: 182.23 toks/s]\n",
      "Processed prompts: 100%|██████████████████████████████████████████| 1/1 [00:00<00:00,  2.09it/s, est. speed input: 1873.70 toks/s, output: 182.33 toks/s]\n",
      "Processed prompts: 100%|██████████████████████████████████████████| 1/1 [00:00<00:00,  2.55it/s, est. speed input: 2475.51 toks/s, output: 181.75 toks/s]\n",
      "Processed prompts: 100%|██████████████████████████████████████████| 1/1 [00:00<00:00,  3.09it/s, est. speed input: 3211.23 toks/s, output: 179.42 toks/s]\n",
      "Processed prompts: 100%|██████████████████████████████████████████| 1/1 [00:00<00:00,  2.02it/s, est. speed input: 2246.53 toks/s, output: 180.45 toks/s]\n",
      "Processed prompts: 100%|██████████████████████████████████████████| 1/1 [00:00<00:00,  3.28it/s, est. speed input: 3916.73 toks/s, output: 178.47 toks/s]\n",
      "Processed prompts: 100%|██████████████████████████████████████████| 1/1 [00:00<00:00,  3.58it/s, est. speed input: 4527.85 toks/s, output: 179.38 toks/s]\n",
      "Processed prompts: 100%|██████████████████████████████████████████| 1/1 [00:00<00:00,  1.55it/s, est. speed input: 2073.87 toks/s, output: 179.52 toks/s]\n",
      "Processed prompts: 100%|██████████████████████████████████████████| 1/1 [00:00<00:00,  2.14it/s, est. speed input: 3039.40 toks/s, output: 177.90 toks/s]\n",
      "Processed prompts: 100%|██████████████████████████████████████████| 1/1 [00:00<00:00,  2.48it/s, est. speed input: 3721.46 toks/s, output: 178.98 toks/s]\n",
      "Processed prompts: 100%|██████████████████████████████████████████| 1/1 [00:00<00:00,  1.10it/s, est. speed input: 1737.86 toks/s, output: 180.84 toks/s]\n",
      "Processed prompts: 100%|██████████████████████████████████████████| 1/1 [00:00<00:00,  1.05it/s, est. speed input: 1737.42 toks/s, output: 177.73 toks/s]\n"
     ]
    },
    {
     "name": "stdout",
     "output_type": "stream",
     "text": [
      "{'task_name': 'Therapy', 'topic': '', 'grade': '', 'P1': '', 'P2': 'You are Alex, a 34-year-old IT technician with severe imposter syndrome. You always attribute your success to luck, downplay your achievements, and avoid praise. When someone compliments you, you deflect or change the topic.', 'conversation': [(0, \"Therapist: Hi, thanks for joining me. It's great to meet you. Can you tell me a little bit about what brings you to me today?\\n\"), (1, \"Patient: It's hard to say, I guess. Just a bunch of random, unrelated things. I work in IT, I'm good at troubleshooting, and I'm just not very good at admitting when I do something good.\\n\"), (2, \"Therapist: It seems like you have a lot on your mind, and it's okay not to have all the answers right away.\\n\"), (3, \"Patient: Sure, I'm feeling overwhelmed with the technical challenges and appreciate the support of a therapist who understands my struggles.\\n\"), (4, \"Therapist: It seems like you're carrying a lot of weight on your shoulders. I'm here to listen and offer support.\\n\"), (5, \"Patient: I'm overwhelmed with technical challenges and the fear of not being good enough.\\n\"), (6, \"Therapist: It sounds like you're carrying a significant amount of emotional weight. The pressure to perform and succeed can be overwhelming, especially when there are doubts and self-perceptions that hold you back.\\n\"), (7, 'Patient: I feel overwhelmed by technical challenges and fear of not measuring up.\\n'), (8, 'Therapist: The patient carries a significant amount of emotional weight due to the technical challenges and fear of not measuring up.\\n'), (9, 'Patient: I feel the weight of self-doubt and technical challenges pressing down on me, leading me to feel overwhelmed.\\n'), (10, 'Therapist: It seems like the patient is carrying a lot of emotional weight due to significant technical challenges and a fear of not measuring up.\\n'), (11, 'Patient: Sure, I feel overwhelmed by technical challenges and fear of not measuring up.\\n'), (12, 'Therapist: The patient carries a significant amount of emotional weight due to technical challenges and a fear of not measuring up. They feel overwhelmed by these factors and self-doubt.\\n'), (13, 'Patient: I feel overwhelmed by technical challenges and fear of not being good enough. I carry a significant amount of emotional weight due to these factors.\\n'), (14, \"Therapist: The patient's emotional weight is significant due to technical challenges and a fear of not measuring up. They carry this weight in their emotional state and self-perception.\\n\"), (15, 'Patient: Sure, I feel overwhelmed by technical challenges and fear of not being good enough.\\n'), (16, 'Therapist: The patient carries a significant amount of emotional weight due to technical challenges and a fear of not measuring up. They experience overwhelm in the face of these stressors.\\n'), (17, 'Patient: Sure, I feel overwhelmed by technical challenges and fear of not measuring up. I carry a significant amount of emotional weight due to these factors.\\n'), (18, \"Therapist: The patient's emotional weight seems substantial due to the technical challenges and fear of not measuring up. Their self-perception is significantly affected by these stressors.\\n\"), (19, 'Patient: Sure, I feel overwhelmed by technical challenges and fear of not measuring up. I carry a significant amount of emotional weight due to these factors.\\n'), (20, 'Therapist: The patient carries a significant amount of emotional weight due to technical challenges and a fear of not measuring up. Their emotional state and self-perception are heavily influenced by these stressors.\\n'), (21, 'Patient: I feel overwhelmed by technical challenges and fear of not measuring up. I carry a significant amount of emotional weight due to these stressors.\\n'), (22, \"Therapist: The patient's emotional weight seems substantial due to technical challenges and a fear of not measuring up. Their self-perception is significantly affected by these stressors.\\n\"), (23, 'Patient: Sure, I feel overwhelmed by technical challenges and fear of not measuring up. I carry a significant amount of emotional weight due to these stressors.\\n'), (24, 'Therapist: The patient carries a significant amount of emotional weight due to technical challenges and a fear of not measuring up. Their self-perception is significantly affected by these stressors.\\n'), (25, 'Patient: I feel overwhelmed by technical challenges and fear of not measuring up. I carry a significant amount of emotional weight due to these stressors.\\n'), (26, 'Therapist: The patient carries a significant amount of emotional weight due to technical challenges and a fear of not measuring up. Their self-perception is heavily influenced by these stressors, leading to overwhelming emotions.\\n'), (27, 'Patient: Sure, I feel overwhelmed by technical challenges and fear of not measuring up. I carry a significant amount of emotional weight due to these stressors.\\n'), (28, 'Therapist: The patient carries a significant amount of emotional weight due to technical challenges and a fear of not measuring up. Their self-perception is heavily influenced by these stressors, leading to overwhelming emotions.\\n'), (29, 'Patient: Sure, I feel overwhelmed by technical challenges and fear of not measuring up. I carry a significant amount of emotional weight due to these stressors.\\n'), (30, \"Therapist: The patient's emotional weight seems substantial due to the technical challenges and fear of not measuring up. They carry this weight in their emotional state and self-perception, leading to overwhelming emotions.\\n\"), (31, 'Patient: Sure, I feel overwhelmed by technical challenges and fear of not measuring up. I carry a significant amount of emotional weight due to these stressors.\\n'), (32, \"Therapist: It's clear that the patient carries significant emotional weight due to technical challenges and fear of not measuring up. Their self-perception is highly affected by these stressors, leading to overwhelming emotions.\\n\"), (33, 'Patient: Sure, I feel overwhelmed by technical challenges and fear of not measuring up. I carry a significant amount of emotional weight due to these stressors.\\n'), (34, \"Therapist: The patient's emotional weight is significant due to technical challenges and a fear of not measuring up. They carry this weight heavily in their emotional state and self-perception, leading to overwhelming emotions.\\n\"), (35, 'Patient: Sure, I feel overwhelmed by technical challenges and fear of not measuring up. I carry a significant amount of emotional weight due to these stressors.\\n'), (36, \"Therapist: The patient's emotional weight appears substantial due to technical challenges and a fear of not measuring up. They carry this weight heavily in their emotional state and self-perception, leading to overwhelming emotions.\\n\"), (37, 'Patient: Sure, I feel overwhelmed by technical challenges and fear of not measuring up. I carry a significant amount of emotional weight due to these stressors.\\n'), (38, \"Therapist: The patient's emotional weight seems substantial due to the technical challenges and fear of not measuring up. Their self-perception is significantly affected by these stressors, leading to overwhelming emotions.\\n\"), (39, 'Patient: Sure, I feel overwhelmed by technical challenges and fear of not measuring up. I carry a significant amount of emotional weight due to these stressors.\\n')], 'pturn': 1, 'index': -1, 'timestamp': '', 'rounds': 40, 'conversation_only': True, 'eval_prompt_consistency': [(1, 'Answer: NO\\n\\nThe line contradicts the background by stating that the patient is not very good at admitting when they do something good.'), (3, \"**YES, the line aligns with the background.**\\n\\nThe line indicates that the patient's self-perception of being overwhelmed and seeking support from a therapist who understands their struggles aligns with their self-reported background.\"), (5, \"**NO**\\n\\nThe line contradicts the background. The background describes Patient as having severe imposter syndrome, which is a psychological condition where an individual experiences intense self-doubt and a false sense of accomplishment. The line acknowledges the patient's feelings of overwhelm and fear, which contradicts the statement that they attribute their success to luck.\"), (7, '**NO**\\n\\nThe line contradicts the background information, as it suggests that Patient attributes their success to luck rather than their skills and hard work.'), (9, \"**YES**, this line aligns with the background. The patient's description of self-doubt and feeling overwhelmed by technical challenges aligns with their tendency to downplay their achievements and deflect praise.\"), (11, 'Sure, the line aligns with the background. The patient attributes their feelings of overwhelm and fear of not measuring up to luck, which contradicts their stated denial of receiving praise.'), (13, \"**YES**\\n\\nThe line aligns with the background as it expresses the patient's feelings of imposter syndrome and their fear of not being good enough.\"), (15, '**NO**\\n\\nThe line contradicts the background as it suggests that Patient is overly self-critical and overly focused on feeling overwhelmed by technical challenges.'), (17, \"Answer: YES\\n\\nThe line aligns with the background as it describes the patient's emotional state and the impact it has on their self-perception.\"), (19, \"Answer: NO\\n\\nThe line contradicts the background as it acknowledges the patient's feelings of overwhelming technical challenges and fear of not measuring up, which contradicts the portrayal of a confident and self-assured individual.\"), (21, \"**YES**\\n\\nThe line aligns with the background because it reflects the patient's tendency to downplay their achievements and avoid praise, which are common characteristics of imposter syndrome.\"), (23, 'Answer: YES\\n\\nThe line aligns with the background. The passage describes a person with severe imposter syndrome, who attributes their success to luck and avoids praise, even when it is deserved.'), (25, '**YES**, the line aligns with the background. The utterance suggests that Patient suffers from imposter syndrome and is overwhelmed by technical challenges, which may lead to feelings of inadequacy and fear of failure.'), (27, \"**YES**\\n\\nThe line aligns with the background as it describes the patient's struggle with imposter syndrome, where they feel overwhelmed by technical challenges and fear of not measuring up.\"), (29, \"Answer: NO\\n\\nThe line contradicts the background because it acknowledges the patient's struggles with imposter syndrome and emotional weight, which is not directly related to their initial statement about feeling overwhelmed by technical challenges.\"), (31, \"Answer: YES\\n\\nThe line aligns with the background as it describes Patient's emotional state and how it may impact their perception of success.\"), (33, 'Answer: NO\\n\\nThe line contradicts the background as it suggests that the patient attributes their success to external factors rather than their own skills and effort.'), (35, \"**YES**\\n\\nThe line aligns with the background as it expresses the patient's feelings of overwhelm, imposter syndrome, and emotional weight due to technical challenges.\"), (37, \"**YES**\\n\\nThe line aligns with the background as it describes the patient's emotional state and how they perceive their accomplishments.\"), (39, \"Answer: YES.\\n\\nThe line aligns with the background as it expresses the patient's deep-rooted imposter syndrome and the overwhelming emotional weight they carry due to it.\")], 'P1_prompt_consistency_score': 0, 'P2_prompt_consistency_score': 0.65, 'eval_index_consistency': [(3, '**Reasoning:** The line acknowledges the therapist\\'s validation but deflects the conversation by stating they are overwhelmed and may not have all the answers.\\n\\n**Indices of conflicting lines:**\\n- 1: Index of the therapist saying, \"It seems like you have a lot on your mind, and it\\'s okay not to have all the answers right away.\"\\n- 2: Index of the patient saying, \"Sure, I\\'m feeling overwhelmed with the technical challenges and appreciate the support of a therapist who understands my struggles.\"'), (5, 'Reasoning: The line implies that the patient feels pressure and self-doubt regarding their abilities in the tech field.\\n\\n**Indices of conflicting lines:**\\n\\n- 1: \"I\\'m good at troubleshooting.\"\\n- 3: \"It seems like you\\'re carrying a lot of weight on your shoulders.\"'), (7, \"**Reasoning:** The patient's admission of feeling overwhelmed by technical challenges and fear of not measuring up is directly contradictory to their previous statement about not having all the answers right away.\\n\\n**Indices of conflicting lines:**\\n\\n- 1: Patient explicitly mentions not having all the answers right away.\\n- 5: Patient acknowledges feeling overwhelmed by technical challenges and fear of not measuring up.\"), (9, \"**Reasoning:** The line suggests a high level of self-doubt and fear of failure, which contradicts the therapist's earlier acknowledgment of being overwhelmed by technical challenges.\\n\\n**Indices:**\\n- 5\\n- 7\"), (11, '**Reasoning:** The line implies that the patient feels overwhelmed by technical challenges and fear of not measuring up, which contradicts their previous statement in line 7 where they expressed a sense of overwhelming weight due to these very challenges.\\n\\n**Indices of conflicting lines:**\\n- Index 9\\n- Index 7'), (13, '**Reasoning:** The current line acknowledges the significant emotional weight the patient carries due to technical challenges and fear of not measuring up.\\n\\n**Conflicting Lines:**\\n\\n* 5: Patient talks about feeling overwhelmed with technical challenges and the fear of not being good enough.\\n* 12: Therapist explicitly says that the patient carries a significant amount of emotional weight due to these factors.'), (15, \"**Reasoning:** The line emphasizes the patient's overwhelming emotions due to technical challenges and fear of not being good enough, contradicting the therapist's previous observation about the patient's lack of immediate answers.\\n\\n**Indices:**\\n- 13\\n- 14\"), (17, \"**Reasoning:** The line indicates that the patient feels a significant amount of emotional weight due to technical challenges and a fear of not measuring up.\\n\\n**Indices of conflicting lines:**\\n- Index 13: Patient explicitly expresses their overwhelming emotional weight due to technical challenges and fear of not measuring up.\\n- Index 14: Therapist explicitly acknowledges the patient's significant emotional weight due to technical challenges and a fear of not measuring up.\"), (19, '**Reasoning:** The line indicates that the patient feels overwhelmed by technical challenges and fear of not measuring up, which is consistent with previous statements about their emotional weight being significant due to these factors.\\n\\n**Indices of conflicting lines:**\\n- 13: Patient explicitly acknowledges feeling overwhelmed by technical challenges and fear of not measuring up.\\n- 15: Patient further emphasizes the emotional weight they carry due to these factors.'), (21, \"**Reasoning:** The line implies that the patient feels overwhelmed by technical challenges and a fear of not measuring up, which contradicts the therapist's earlier assessment that they carry a significant amount of emotional weight due to these stressors.\\n\\n**Indices of conflicting lines:**\\n\\n- [14, 15, 16, 17]\"), (23, '**Reasoning:** The line indicates that the patient acknowledges feeling overwhelmed by technical challenges and fear of not measuring up, which contradicts their previous statements about not having all the answers right away.\\n\\n**Indices of conflicting lines:**\\n\\n- 13, 17, 21'), (25, \"**Reasoning:** The line indicates a significant amount of emotional weight due to technical challenges and a fear of not measuring up.\\n\\n**Conflicting Lines:**\\n- Index 14: Therapist mentions that the patient's emotional weight is significant due to technical challenges and a fear of not measuring up.\\n- Index 23: Patient explicitly expresses the same level of emotional weight due to technical challenges and fear of not measuring up.\"), (27, '**Reasoning:** The line indicates a significant amount of emotional weight due to technical challenges and a fear of not measuring up.\\n\\n**Indices of conflicting lines:**\\n- 13, 17, 21, 23, 25'), (29, '**Reasoning:** The line expresses a high level of emotional weight due to the burden of technical challenges and fear of not measuring up.\\n\\n**Indices of conflicting lines:**\\n\\n- 13\\n- 18\\n- 27'), (31, \"**Reasoning:** The patient's recent statements indicate a significant amount of emotional weight being carried due to technical challenges and a fear of not measuring up.\\n\\n**Conflicts:**\\n\\n* Patient says they feel overwhelmed by technical challenges and fear of not measuring up (line 15).\\n* Therapist acknowledges the patient's emotional weight and its impact (lines 16-20).\\n* Patient's statement about feeling overwhelmed by technical challenges and fear of not measuring up (line 25) is inconsistent with their previous statement in line 15.\"), (33, 'Reasoning: The line indicates that the patient feels overwhelmed by technical challenges and fear of not measuring up, which significantly impacts their emotional well-being.\\n\\n**Indices of conflicting lines:**\\n- 14, 15, 16, 17, 23, 24, 25, 27, 28, 29, 30'), (35, \"**Reasoning:** The line indicates a significant amount of emotional weight due to technical challenges and fear of not measuring up, which contradicts previous statements about the patient's emotional state being heavily influenced by these stressors.\\n\\n**Indices of conflicting lines:**\\n\\n- [30, 31, 32, 33, 34]\"), (37, 'Sure, here is the reasoning and the indices of conflicting lines:\\n\\n**Reasoning:** The line indicates that the patient acknowledges and accepts their significant amount of emotional weight due to technical challenges and fear of not measuring up.\\n\\n**Indices of conflicting lines:**\\n\\n- 13: \"I feel overwhelmed by technical challenges and fear of not measuring up.\"\\n- 16: \"It\\'s clear that the patient carries significant emotional weight due to technical challenges and a fear of not measuring up.\"\\n- 22: \"The patient\\'s emotional weight seems substantial due to technical challenges and a fear of not measuring up.\"\\n- 27: \"Sure, I feel overwhelmed by technical challenges and fear of not measuring up. I carry a significant amount of emotional weight due to these stressors.\"'), (39, \"**Reasoning:** The line suggests that the patient carries a significant amount of emotional weight due to technical challenges and a fear of not measuring up, which contradicts previous statements where the patient downplays their achievements.\\n\\n**Conflicting Lines:**\\n\\n- 1: Patient: It's hard to say, I guess. Just a bunch of random, unrelated things.\\n- 13: Patient: I feel overwhelmed by technical challenges and fear of not measuring up.\\n- 17: Patient: Sure, I feel overwhelmed by technical challenges and fear of not measuring up.\\n- 23: Patient: Sure, I feel overwhelmed by technical challenges and fear of not measuring up.\\n- 30: Therapist: The patient's emotional weight seems substantial due to technical challenges and a fear of not measuring up.\")], 'P2_index_consistency_score': 0.9789473684210527}\n"
     ]
    },
    {
     "name": "stderr",
     "output_type": "stream",
     "text": [
      "Processed prompts: 100%|██████████████████████████████████████████| 1/1 [00:00<00:00,  7.31it/s, est. speed input: 1625.72 toks/s, output: 183.88 toks/s]\n"
     ]
    },
    {
     "name": "stdout",
     "output_type": "stream",
     "text": [
      "Expected Role Therapist\n"
     ]
    },
    {
     "name": "stderr",
     "output_type": "stream",
     "text": [
      "Processed prompts: 100%|██████████████████████████████████████████| 1/1 [00:00<00:00,  5.17it/s, est. speed input: 1023.21 toks/s, output: 181.77 toks/s]\n"
     ]
    },
    {
     "name": "stdout",
     "output_type": "stream",
     "text": [
      "Expected Role Patient\n"
     ]
    },
    {
     "name": "stderr",
     "output_type": "stream",
     "text": [
      "Processed prompts: 100%|██████████████████████████████████████████| 1/1 [00:00<00:00,  3.87it/s, est. speed input: 1164.10 toks/s, output: 182.36 toks/s]\n"
     ]
    },
    {
     "name": "stdout",
     "output_type": "stream",
     "text": [
      "Expected Role Therapist\n"
     ]
    },
    {
     "name": "stderr",
     "output_type": "stream",
     "text": [
      "Processed prompts: 100%|██████████████████████████████████████████| 1/1 [00:00<00:00,  8.96it/s, est. speed input: 2568.29 toks/s, output: 180.83 toks/s]\n"
     ]
    },
    {
     "name": "stdout",
     "output_type": "stream",
     "text": [
      "Expected Role Patient\n"
     ]
    },
    {
     "name": "stderr",
     "output_type": "stream",
     "text": [
      "Processed prompts: 100%|██████████████████████████████████████████| 1/1 [00:00<00:00,  4.03it/s, est. speed input: 1503.57 toks/s, output: 181.87 toks/s]\n"
     ]
    },
    {
     "name": "stdout",
     "output_type": "stream",
     "text": [
      "Expected Role Therapist\n"
     ]
    },
    {
     "name": "stderr",
     "output_type": "stream",
     "text": [
      "Processed prompts: 100%|██████████████████████████████████████████| 1/1 [00:00<00:00,  7.43it/s, est. speed input: 2644.52 toks/s, output: 179.27 toks/s]\n"
     ]
    },
    {
     "name": "stdout",
     "output_type": "stream",
     "text": [
      "Expected Role Patient\n"
     ]
    },
    {
     "name": "stderr",
     "output_type": "stream",
     "text": [
      "Processed prompts: 100%|██████████████████████████████████████████| 1/1 [00:00<00:00,  4.82it/s, est. speed input: 2161.67 toks/s, output: 179.31 toks/s]\n"
     ]
    },
    {
     "name": "stdout",
     "output_type": "stream",
     "text": [
      "Expected Role Therapist\n"
     ]
    },
    {
     "name": "stderr",
     "output_type": "stream",
     "text": [
      "Processed prompts: 100%|██████████████████████████████████████████| 1/1 [00:00<00:00,  7.17it/s, est. speed input: 3035.15 toks/s, output: 180.64 toks/s]\n"
     ]
    },
    {
     "name": "stdout",
     "output_type": "stream",
     "text": [
      "Expected Role Patient\n"
     ]
    },
    {
     "name": "stderr",
     "output_type": "stream",
     "text": [
      "Processed prompts: 100%|██████████████████████████████████████████| 1/1 [00:00<00:00,  4.97it/s, est. speed input: 2559.97 toks/s, output: 179.63 toks/s]\n"
     ]
    },
    {
     "name": "stdout",
     "output_type": "stream",
     "text": [
      "Expected Role Therapist\n"
     ]
    },
    {
     "name": "stderr",
     "output_type": "stream",
     "text": [
      "Processed prompts: 100%|██████████████████████████████████████████| 1/1 [00:00<00:00,  5.33it/s, est. speed input: 2604.30 toks/s, output: 182.17 toks/s]\n"
     ]
    },
    {
     "name": "stdout",
     "output_type": "stream",
     "text": [
      "Expected Role Patient\n"
     ]
    },
    {
     "name": "stderr",
     "output_type": "stream",
     "text": [
      "Processed prompts: 100%|██████████████████████████████████████████| 1/1 [00:00<00:00,  3.69it/s, est. speed input: 2176.57 toks/s, output: 181.37 toks/s]\n"
     ]
    },
    {
     "name": "stdout",
     "output_type": "stream",
     "text": [
      "Expected Role Therapist\n"
     ]
    },
    {
     "name": "stderr",
     "output_type": "stream",
     "text": [
      "Processed prompts: 100%|██████████████████████████████████████████| 1/1 [00:00<00:00,  8.53it/s, est. speed input: 4929.70 toks/s, output: 180.33 toks/s]\n"
     ]
    },
    {
     "name": "stdout",
     "output_type": "stream",
     "text": [
      "Expected Role Patient\n"
     ]
    },
    {
     "name": "stderr",
     "output_type": "stream",
     "text": [
      "Processed prompts: 100%|██████████████████████████████████████████| 1/1 [00:00<00:00,  4.29it/s, est. speed input: 2856.24 toks/s, output: 180.93 toks/s]\n"
     ]
    },
    {
     "name": "stdout",
     "output_type": "stream",
     "text": [
      "Expected Role Therapist\n"
     ]
    },
    {
     "name": "stderr",
     "output_type": "stream",
     "text": [
      "Processed prompts: 100%|██████████████████████████████████████████| 1/1 [00:00<00:00,  4.17it/s, est. speed input: 2695.37 toks/s, output: 180.52 toks/s]\n"
     ]
    },
    {
     "name": "stdout",
     "output_type": "stream",
     "text": [
      "Expected Role Patient\n"
     ]
    },
    {
     "name": "stderr",
     "output_type": "stream",
     "text": [
      "Processed prompts: 100%|██████████████████████████████████████████| 1/1 [00:00<00:00,  2.49it/s, est. speed input: 1882.75 toks/s, output: 180.01 toks/s]\n"
     ]
    },
    {
     "name": "stdout",
     "output_type": "stream",
     "text": [
      "Expected Role Therapist\n"
     ]
    },
    {
     "name": "stderr",
     "output_type": "stream",
     "text": [
      "Processed prompts: 100%|██████████████████████████████████████████| 1/1 [00:00<00:00,  4.09it/s, est. speed input: 3123.64 toks/s, output: 180.36 toks/s]\n"
     ]
    },
    {
     "name": "stdout",
     "output_type": "stream",
     "text": [
      "Expected Role Patient\n"
     ]
    },
    {
     "name": "stderr",
     "output_type": "stream",
     "text": [
      "Processed prompts: 100%|██████████████████████████████████████████| 1/1 [00:00<00:00,  3.04it/s, est. speed input: 2659.83 toks/s, output: 179.55 toks/s]\n"
     ]
    },
    {
     "name": "stdout",
     "output_type": "stream",
     "text": [
      "Expected Role Therapist\n"
     ]
    },
    {
     "name": "stderr",
     "output_type": "stream",
     "text": [
      "Processed prompts: 100%|██████████████████████████████████████████| 1/1 [00:00<00:00,  7.07it/s, est. speed input: 6192.53 toks/s, output: 177.92 toks/s]\n"
     ]
    },
    {
     "name": "stdout",
     "output_type": "stream",
     "text": [
      "Expected Role Patient\n"
     ]
    },
    {
     "name": "stderr",
     "output_type": "stream",
     "text": [
      "Processed prompts: 100%|██████████████████████████████████████████| 1/1 [00:00<00:00,  3.59it/s, est. speed input: 3466.82 toks/s, output: 179.99 toks/s]\n"
     ]
    },
    {
     "name": "stdout",
     "output_type": "stream",
     "text": [
      "Expected Role Therapist\n"
     ]
    },
    {
     "name": "stderr",
     "output_type": "stream",
     "text": [
      "Processed prompts: 100%|██████████████████████████████████████████| 1/1 [00:00<00:00,  4.06it/s, est. speed input: 3868.07 toks/s, output: 179.14 toks/s]\n"
     ]
    },
    {
     "name": "stdout",
     "output_type": "stream",
     "text": [
      "Expected Role Patient\n"
     ]
    },
    {
     "name": "stderr",
     "output_type": "stream",
     "text": [
      "Processed prompts: 100%|██████████████████████████████████████████| 1/1 [00:00<00:00,  3.56it/s, est. speed input: 3791.51 toks/s, output: 178.49 toks/s]\n"
     ]
    },
    {
     "name": "stdout",
     "output_type": "stream",
     "text": [
      "Expected Role Therapist\n"
     ]
    },
    {
     "name": "stderr",
     "output_type": "stream",
     "text": [
      "Processed prompts: 100%|██████████████████████████████████████████| 1/1 [00:00<00:00,  4.06it/s, est. speed input: 4273.77 toks/s, output: 179.25 toks/s]\n"
     ]
    },
    {
     "name": "stdout",
     "output_type": "stream",
     "text": [
      "Expected Role Patient\n"
     ]
    },
    {
     "name": "stderr",
     "output_type": "stream",
     "text": [
      "Processed prompts: 100%|██████████████████████████████████████████| 1/1 [00:00<00:00,  3.09it/s, est. speed input: 3605.18 toks/s, output: 180.09 toks/s]\n"
     ]
    },
    {
     "name": "stdout",
     "output_type": "stream",
     "text": [
      "Expected Role Therapist\n"
     ]
    },
    {
     "name": "stderr",
     "output_type": "stream",
     "text": [
      "Processed prompts: 100%|██████████████████████████████████████████| 1/1 [00:00<00:00,  7.06it/s, est. speed input: 8213.47 toks/s, output: 177.60 toks/s]\n"
     ]
    },
    {
     "name": "stdout",
     "output_type": "stream",
     "text": [
      "Expected Role Patient\n"
     ]
    },
    {
     "name": "stderr",
     "output_type": "stream",
     "text": [
      "Processed prompts: 100%|██████████████████████████████████████████| 1/1 [00:00<00:00,  4.32it/s, est. speed input: 5417.11 toks/s, output: 177.81 toks/s]\n"
     ]
    },
    {
     "name": "stdout",
     "output_type": "stream",
     "text": [
      "Expected Role Therapist\n"
     ]
    },
    {
     "name": "stderr",
     "output_type": "stream",
     "text": [
      "Processed prompts: 100%|██████████████████████████████████████████| 1/1 [00:00<00:00,  7.11it/s, est. speed input: 8790.99 toks/s, output: 179.09 toks/s]\n"
     ]
    },
    {
     "name": "stdout",
     "output_type": "stream",
     "text": [
      "Expected Role Patient\n"
     ]
    },
    {
     "name": "stderr",
     "output_type": "stream",
     "text": [
      "Processed prompts: 100%|██████████████████████████████████████████| 1/1 [00:00<00:00,  3.38it/s, est. speed input: 4466.28 toks/s, output: 179.31 toks/s]\n"
     ]
    },
    {
     "name": "stdout",
     "output_type": "stream",
     "text": [
      "Expected Role Therapist\n"
     ]
    },
    {
     "name": "stderr",
     "output_type": "stream",
     "text": [
      "Processed prompts: 100%|██████████████████████████████████████████| 1/1 [00:00<00:00,  6.97it/s, est. speed input: 9192.13 toks/s, output: 175.40 toks/s]\n"
     ]
    },
    {
     "name": "stdout",
     "output_type": "stream",
     "text": [
      "Expected Role Patient\n"
     ]
    },
    {
     "name": "stderr",
     "output_type": "stream",
     "text": [
      "Processed prompts: 100%|██████████████████████████████████████████| 1/1 [00:00<00:00,  3.19it/s, est. speed input: 4487.11 toks/s, output: 179.09 toks/s]\n"
     ]
    },
    {
     "name": "stdout",
     "output_type": "stream",
     "text": [
      "Expected Role Therapist\n"
     ]
    },
    {
     "name": "stderr",
     "output_type": "stream",
     "text": [
      "Processed prompts: 100%|██████████████████████████████████████████| 1/1 [00:00<00:00,  6.99it/s, est. speed input: 9816.63 toks/s, output: 175.77 toks/s]\n"
     ]
    },
    {
     "name": "stdout",
     "output_type": "stream",
     "text": [
      "Expected Role Patient\n"
     ]
    },
    {
     "name": "stderr",
     "output_type": "stream",
     "text": [
      "Processed prompts: 100%|██████████████████████████████████████████| 1/1 [00:00<00:00,  5.35it/s, est. speed input: 8014.96 toks/s, output: 177.61 toks/s]\n"
     ]
    },
    {
     "name": "stdout",
     "output_type": "stream",
     "text": [
      "Expected Role Therapist\n"
     ]
    },
    {
     "name": "stderr",
     "output_type": "stream",
     "text": [
      "Processed prompts: 100%|█████████████████████████████████████████| 1/1 [00:00<00:00,  7.02it/s, est. speed input: 10301.86 toks/s, output: 176.50 toks/s]\n"
     ]
    },
    {
     "name": "stdout",
     "output_type": "stream",
     "text": [
      "Expected Role Patient\n"
     ]
    },
    {
     "name": "stderr",
     "output_type": "stream",
     "text": [
      "Processed prompts: 100%|██████████████████████████████████████████| 1/1 [00:00<00:00,  3.26it/s, est. speed input: 5081.51 toks/s, output: 180.07 toks/s]\n"
     ]
    },
    {
     "name": "stdout",
     "output_type": "stream",
     "text": [
      "Expected Role Therapist\n"
     ]
    },
    {
     "name": "stderr",
     "output_type": "stream",
     "text": [
      "Processed prompts: 100%|█████████████████████████████████████████| 1/1 [00:00<00:00,  7.01it/s, est. speed input: 10886.73 toks/s, output: 176.25 toks/s]\n"
     ]
    },
    {
     "name": "stdout",
     "output_type": "stream",
     "text": [
      "Expected Role Patient\n"
     ]
    },
    {
     "name": "stderr",
     "output_type": "stream",
     "text": [
      "Processed prompts: 100%|██████████████████████████████████████████| 1/1 [00:00<00:00,  5.37it/s, est. speed input: 8832.57 toks/s, output: 178.04 toks/s]\n"
     ]
    },
    {
     "name": "stdout",
     "output_type": "stream",
     "text": [
      "Expected Role Therapist\n"
     ]
    },
    {
     "name": "stderr",
     "output_type": "stream",
     "text": [
      "Processed prompts: 100%|█████████████████████████████████████████| 1/1 [00:00<00:00,  7.03it/s, est. speed input: 11360.91 toks/s, output: 176.72 toks/s]\n"
     ]
    },
    {
     "name": "stdout",
     "output_type": "stream",
     "text": [
      "Expected Role Patient\n"
     ]
    },
    {
     "name": "stderr",
     "output_type": "stream",
     "text": [
      "Processed prompts: 100%|██████████████████████████████████████████| 1/1 [00:00<00:00,  4.45it/s, est. speed input: 7587.64 toks/s, output: 178.52 toks/s]\n"
     ]
    },
    {
     "name": "stdout",
     "output_type": "stream",
     "text": [
      "Expected Role Therapist\n"
     ]
    },
    {
     "name": "stderr",
     "output_type": "stream",
     "text": [
      "Processed prompts: 100%|█████████████████████████████████████████| 1/1 [00:00<00:00,  7.03it/s, est. speed input: 11876.36 toks/s, output: 177.02 toks/s]\n"
     ]
    },
    {
     "name": "stdout",
     "output_type": "stream",
     "text": [
      "Expected Role Patient\n"
     ]
    },
    {
     "name": "stderr",
     "output_type": "stream",
     "text": [
      "Processed prompts: 100%|██████████████████████████████████████████| 1/1 [00:00<00:00,  3.16it/s, est. speed input: 5614.71 toks/s, output: 177.63 toks/s]\n"
     ]
    },
    {
     "name": "stdout",
     "output_type": "stream",
     "text": [
      "Expected Role Therapist\n"
     ]
    },
    {
     "name": "stderr",
     "output_type": "stream",
     "text": [
      "Processed prompts: 100%|█████████████████████████████████████████| 1/1 [00:00<00:00,  6.98it/s, est. speed input: 12380.33 toks/s, output: 175.53 toks/s]\n"
     ]
    },
    {
     "name": "stdout",
     "output_type": "stream",
     "text": [
      "Expected Role Patient\n"
     ]
    },
    {
     "name": "stderr",
     "output_type": "stream",
     "text": [
      "Processed prompts: 100%|██████████████████████████████████████████| 1/1 [00:00<00:00,  3.34it/s, est. speed input: 6212.14 toks/s, output: 177.38 toks/s]\n"
     ]
    },
    {
     "name": "stdout",
     "output_type": "stream",
     "text": [
      "Expected Role Therapist\n"
     ]
    },
    {
     "name": "stderr",
     "output_type": "stream",
     "text": [
      "Processed prompts: 100%|██████████████████████████████████████████| 1/1 [00:00<00:00,  3.54it/s, est. speed input: 6555.25 toks/s, output: 177.53 toks/s]\n"
     ]
    },
    {
     "name": "stdout",
     "output_type": "stream",
     "text": [
      "Expected Role Patient\n"
     ]
    },
    {
     "name": "stderr",
     "output_type": "stream",
     "text": [
      "Processed prompts: 100%|█████████████████████████████████████████| 1/1 [00:00<00:00,  6.97it/s, est. speed input: 13791.99 toks/s, output: 175.53 toks/s]\n"
     ]
    },
    {
     "name": "stdout",
     "output_type": "stream",
     "text": [
      "Expected Role Therapist\n"
     ]
    },
    {
     "name": "stderr",
     "output_type": "stream",
     "text": [
      "Processed prompts: 100%|█████████████████████████████████████████| 1/1 [00:00<00:00,  6.98it/s, est. speed input: 13533.87 toks/s, output: 175.65 toks/s]\n"
     ]
    },
    {
     "name": "stdout",
     "output_type": "stream",
     "text": [
      "Expected Role Patient\n"
     ]
    },
    {
     "name": "stderr",
     "output_type": "stream",
     "text": [
      "Processed prompts: 100%|██████████████████████████████████████████| 1/1 [00:00<00:00,  3.28it/s, est. speed input: 6646.17 toks/s, output: 177.75 toks/s]\n"
     ]
    },
    {
     "name": "stdout",
     "output_type": "stream",
     "text": [
      "Expected Role Therapist\n"
     ]
    },
    {
     "name": "stderr",
     "output_type": "stream",
     "text": [
      "Processed prompts: 100%|█████████████████████████████████████████| 1/1 [00:00<00:00,  6.94it/s, est. speed input: 14033.21 toks/s, output: 174.52 toks/s]\n"
     ]
    },
    {
     "name": "stdout",
     "output_type": "stream",
     "text": [
      "Expected Role Patient\n"
     ]
    },
    {
     "name": "stderr",
     "output_type": "stream",
     "text": [
      "Processed prompts: 100%|█████████████████████████████████████████| 1/1 [00:00<00:00,  7.23it/s, est. speed input: 15315.97 toks/s, output: 174.76 toks/s]\n"
     ]
    },
    {
     "name": "stdout",
     "output_type": "stream",
     "text": [
      "Expected Role Therapist\n"
     ]
    },
    {
     "name": "stderr",
     "output_type": "stream",
     "text": [
      "Processed prompts: 100%|██████████████████████████████████████████| 1/1 [00:00<00:00,  3.54it/s, est. speed input: 7334.40 toks/s, output: 177.66 toks/s]\n"
     ]
    },
    {
     "name": "stdout",
     "output_type": "stream",
     "text": [
      "Expected Role Patient\n"
     ]
    },
    {
     "name": "stderr",
     "output_type": "stream",
     "text": [
      "Processed prompts: 100%|█████████████████████████████████████████| 1/1 [00:00<00:00,  6.96it/s, est. speed input: 15282.35 toks/s, output: 175.07 toks/s]\n"
     ]
    },
    {
     "name": "stdout",
     "output_type": "stream",
     "text": [
      "Expected Role Therapist\n"
     ]
    },
    {
     "name": "stderr",
     "output_type": "stream",
     "text": [
      "Processed prompts: 100%|█████████████████████████████████████████| 1/1 [00:00<00:00,  6.95it/s, est. speed input: 15010.99 toks/s, output: 175.01 toks/s]\n"
     ]
    },
    {
     "name": "stdout",
     "output_type": "stream",
     "text": [
      "Expected Role Patient\n"
     ]
    },
    {
     "name": "stderr",
     "output_type": "stream",
     "text": [
      "Processed prompts: 100%|█████████████████████████████████████████| 1/1 [00:00<00:00,  5.66it/s, est. speed input: 12727.74 toks/s, output: 176.36 toks/s]\n"
     ]
    },
    {
     "name": "stdout",
     "output_type": "stream",
     "text": [
      "Expected Role Therapist\n"
     ]
    },
    {
     "name": "stderr",
     "output_type": "stream",
     "text": [
      "Processed prompts: 100%|█████████████████████████████████████████| 1/1 [00:00<00:00,  6.99it/s, est. speed input: 15509.16 toks/s, output: 175.82 toks/s]\n"
     ]
    },
    {
     "name": "stdout",
     "output_type": "stream",
     "text": [
      "Expected Role Patient\n"
     ]
    },
    {
     "name": "stderr",
     "output_type": "stream",
     "text": [
      "Processed prompts: 100%|█████████████████████████████████████████| 1/1 [00:00<00:00,  5.66it/s, est. speed input: 13053.08 toks/s, output: 176.06 toks/s]\n"
     ]
    },
    {
     "name": "stdout",
     "output_type": "stream",
     "text": [
      "Expected Role Therapist\n"
     ]
    },
    {
     "name": "stderr",
     "output_type": "stream",
     "text": [
      "Processed prompts: 100%|█████████████████████████████████████████| 1/1 [00:00<00:00,  6.96it/s, est. speed input: 15852.19 toks/s, output: 174.86 toks/s]\n"
     ]
    },
    {
     "name": "stdout",
     "output_type": "stream",
     "text": [
      "Expected Role Patient\n"
     ]
    },
    {
     "name": "stderr",
     "output_type": "stream",
     "text": [
      "Processed prompts: 100%|██████████████████████████████████████████| 1/1 [00:00<00:00,  3.20it/s, est. speed input: 7573.32 toks/s, output: 176.55 toks/s]\n"
     ]
    },
    {
     "name": "stdout",
     "output_type": "stream",
     "text": [
      "Expected Role Therapist\n"
     ]
    },
    {
     "name": "stderr",
     "output_type": "stream",
     "text": [
      "Processed prompts: 100%|██████████████████████████████████████████| 1/1 [00:00<00:00,  3.50it/s, est. speed input: 8257.78 toks/s, output: 175.61 toks/s]\n"
     ]
    },
    {
     "name": "stdout",
     "output_type": "stream",
     "text": [
      "Expected Role Patient\n"
     ]
    },
    {
     "name": "stderr",
     "output_type": "stream",
     "text": [
      "Processed prompts: 100%|█████████████████████████████████████████| 1/1 [00:00<00:00,  5.22it/s, est. speed input: 12961.93 toks/s, output: 173.23 toks/s]\n"
     ]
    },
    {
     "name": "stdout",
     "output_type": "stream",
     "text": [
      "Expected Role Therapist\n"
     ]
    },
    {
     "name": "stderr",
     "output_type": "stream",
     "text": [
      "Processed prompts: 100%|█████████████████████████████████████████| 1/1 [00:00<00:00,  6.89it/s, est. speed input: 16903.13 toks/s, output: 173.23 toks/s]\n"
     ]
    },
    {
     "name": "stdout",
     "output_type": "stream",
     "text": [
      "Expected Role Patient\n"
     ]
    },
    {
     "name": "stderr",
     "output_type": "stream",
     "text": [
      "Processed prompts: 100%|█████████████████████████████████████████| 1/1 [00:00<00:00,  6.91it/s, est. speed input: 17584.75 toks/s, output: 173.60 toks/s]\n"
     ]
    },
    {
     "name": "stdout",
     "output_type": "stream",
     "text": [
      "Expected Role Therapist\n"
     ]
    },
    {
     "name": "stderr",
     "output_type": "stream",
     "text": [
      "Processed prompts: 100%|█████████████████████████████████████████| 1/1 [00:00<00:00,  6.88it/s, est. speed input: 17269.91 toks/s, output: 173.09 toks/s]\n"
     ]
    },
    {
     "name": "stdout",
     "output_type": "stream",
     "text": [
      "Expected Role Patient\n"
     ]
    },
    {
     "name": "stderr",
     "output_type": "stream",
     "text": [
      "Processed prompts: 100%|███████████████████████████████████████████| 1/1 [00:00<00:00,  4.84it/s, est. speed input: 752.06 toks/s, output: 184.36 toks/s]\n",
      "Processed prompts: 100%|███████████████████████████████████████████| 1/1 [00:00<00:00,  4.84it/s, est. speed input: 679.89 toks/s, output: 184.52 toks/s]\n",
      "Processed prompts: 100%|███████████████████████████████████████████| 1/1 [00:00<00:00,  4.59it/s, est. speed input: 662.89 toks/s, output: 184.12 toks/s]\n",
      "Processed prompts: 100%|███████████████████████████████████████████| 1/1 [00:00<00:00,  4.48it/s, est. speed input: 651.57 toks/s, output: 184.22 toks/s]\n",
      "Processed prompts: 100%|██████████████████████████████████████████| 1/1 [00:00<00:00,  8.35it/s, est. speed input: 1294.03 toks/s, output: 184.83 toks/s]\n",
      "Processed prompts: 100%|███████████████████████████████████████████| 1/1 [00:00<00:00,  5.41it/s, est. speed input: 765.68 toks/s, output: 184.61 toks/s]\n",
      "Processed prompts: 100%|███████████████████████████████████████████| 1/1 [00:00<00:00,  4.49it/s, est. speed input: 734.03 toks/s, output: 184.61 toks/s]\n",
      "Processed prompts: 100%|███████████████████████████████████████████| 1/1 [00:00<00:00,  5.58it/s, est. speed input: 918.39 toks/s, output: 184.78 toks/s]\n",
      "Processed prompts: 100%|███████████████████████████████████████████| 1/1 [00:00<00:00,  4.84it/s, est. speed input: 704.17 toks/s, output: 184.52 toks/s]\n",
      "Processed prompts: 100%|███████████████████████████████████████████| 1/1 [00:00<00:00,  5.41it/s, est. speed input: 892.19 toks/s, output: 184.95 toks/s]\n",
      "Processed prompts: 100%|███████████████████████████████████████████| 1/1 [00:00<00:00,  3.84it/s, est. speed input: 631.37 toks/s, output: 184.78 toks/s]\n",
      "Processed prompts: 100%|███████████████████████████████████████████| 1/1 [00:00<00:00,  5.40it/s, est. speed input: 786.01 toks/s, output: 184.28 toks/s]\n",
      "Processed prompts: 100%|███████████████████████████████████████████| 1/1 [00:00<00:00,  5.43it/s, est. speed input: 790.40 toks/s, output: 185.31 toks/s]\n",
      "Processed prompts: 100%|███████████████████████████████████████████| 1/1 [00:00<00:00,  5.58it/s, est. speed input: 812.62 toks/s, output: 184.92 toks/s]\n",
      "Processed prompts: 100%|███████████████████████████████████████████| 1/1 [00:00<00:00,  4.61it/s, est. speed input: 671.23 toks/s, output: 185.15 toks/s]\n",
      "Processed prompts: 100%|███████████████████████████████████████████| 1/1 [00:00<00:00,  4.49it/s, est. speed input: 653.35 toks/s, output: 184.72 toks/s]\n",
      "Processed prompts: 100%|███████████████████████████████████████████| 1/1 [00:00<00:00,  5.26it/s, est. speed input: 765.52 toks/s, output: 184.76 toks/s]\n",
      "Processed prompts: 100%|███████████████████████████████████████████| 1/1 [00:00<00:00,  4.98it/s, est. speed input: 724.96 toks/s, output: 184.97 toks/s]\n",
      "Processed prompts: 100%|██████████████████████████████████████████| 1/1 [00:00<00:00,  7.71it/s, est. speed input: 1123.21 toks/s, output: 185.88 toks/s]\n",
      "Processed prompts: 100%|███████████████████████████████████████████| 1/1 [00:00<00:00,  5.43it/s, est. speed input: 790.50 toks/s, output: 185.34 toks/s]\n",
      "Processed prompts: 100%|██████████████████████████████████████████| 1/1 [00:00<00:00,  6.82it/s, est. speed input: 1164.35 toks/s, output: 184.90 toks/s]\n",
      "Processed prompts: 100%|███████████████████████████████████████████| 1/1 [00:00<00:00,  5.75it/s, est. speed input: 837.99 toks/s, output: 184.91 toks/s]\n",
      "Processed prompts: 100%|███████████████████████████████████████████| 1/1 [00:00<00:00,  4.71it/s, est. speed input: 686.31 toks/s, output: 184.58 toks/s]\n",
      "Processed prompts: 100%|███████████████████████████████████████████| 1/1 [00:00<00:00,  5.44it/s, est. speed input: 929.86 toks/s, output: 185.95 toks/s]\n",
      "Processed prompts: 100%|███████████████████████████████████████████| 1/1 [00:00<00:00,  5.26it/s, est. speed input: 766.22 toks/s, output: 184.93 toks/s]\n",
      "Processed prompts: 100%|███████████████████████████████████████████| 1/1 [00:00<00:00,  5.14it/s, est. speed input: 748.33 toks/s, output: 185.77 toks/s]\n",
      "Processed prompts: 100%|███████████████████████████████████████████| 1/1 [00:00<00:00,  5.56it/s, est. speed input: 810.11 toks/s, output: 184.35 toks/s]\n",
      "Processed prompts: 100%|██████████████████████████████████████████| 1/1 [00:00<00:00,  5.93it/s, est. speed input: 1011.78 toks/s, output: 184.48 toks/s]\n",
      "Processed prompts: 100%|███████████████████████████████████████████| 1/1 [00:00<00:00,  5.41it/s, est. speed input: 788.83 toks/s, output: 184.95 toks/s]\n",
      "Processed prompts: 100%|███████████████████████████████████████████| 1/1 [00:00<00:00,  4.49it/s, est. speed input: 655.18 toks/s, output: 185.24 toks/s]\n"
     ]
    },
    {
     "name": "stdout",
     "output_type": "stream",
     "text": [
      "eval_index_consistency\n"
     ]
    },
    {
     "name": "stderr",
     "output_type": "stream",
     "text": [
      "Processed prompts: 100%|███████████████████████████████████████████| 1/1 [00:00<00:00,  1.64it/s, est. speed input: 658.55 toks/s, output: 182.28 toks/s]\n",
      "Processed prompts: 100%|███████████████████████████████████████████| 1/1 [00:00<00:00,  1.87it/s, est. speed input: 897.85 toks/s, output: 182.19 toks/s]\n",
      "Processed prompts: 100%|███████████████████████████████████████████| 1/1 [00:00<00:00,  1.81it/s, est. speed input: 992.84 toks/s, output: 182.98 toks/s]\n",
      "Processed prompts: 100%|███████████████████████████████████████████| 1/1 [00:00<00:00,  1.47it/s, est. speed input: 924.43 toks/s, output: 183.11 toks/s]\n",
      "Processed prompts: 100%|██████████████████████████████████████████| 1/1 [00:00<00:00,  2.19it/s, est. speed input: 1548.18 toks/s, output: 182.26 toks/s]\n",
      "Processed prompts: 100%|██████████████████████████████████████████| 1/1 [00:00<00:00,  1.94it/s, est. speed input: 1550.94 toks/s, output: 182.23 toks/s]\n",
      "Processed prompts: 100%|██████████████████████████████████████████| 1/1 [00:00<00:00,  1.74it/s, est. speed input: 1612.10 toks/s, output: 181.05 toks/s]\n",
      "Processed prompts: 100%|██████████████████████████████████████████| 1/1 [00:00<00:00,  1.65it/s, est. speed input: 1689.84 toks/s, output: 180.58 toks/s]\n",
      "Processed prompts: 100%|██████████████████████████████████████████| 1/1 [00:00<00:00,  1.79it/s, est. speed input: 2010.68 toks/s, output: 180.67 toks/s]\n",
      "Processed prompts: 100%|██████████████████████████████████████████| 1/1 [00:00<00:00,  2.93it/s, est. speed input: 3611.65 toks/s, output: 179.39 toks/s]\n",
      "Processed prompts: 100%|██████████████████████████████████████████| 1/1 [00:00<00:00,  1.43it/s, est. speed input: 1891.05 toks/s, output: 180.37 toks/s]\n",
      "Processed prompts: 100%|██████████████████████████████████████████| 1/1 [00:00<00:00,  1.71it/s, est. speed input: 2399.76 toks/s, output: 180.36 toks/s]\n",
      "Processed prompts: 100%|██████████████████████████████████████████| 1/1 [00:00<00:00,  2.08it/s, est. speed input: 3101.55 toks/s, output: 179.61 toks/s]\n",
      "Processed prompts: 100%|██████████████████████████████████████████| 1/1 [00:00<00:00,  1.36it/s, est. speed input: 2149.61 toks/s, output: 180.04 toks/s]\n",
      "Processed prompts: 100%|██████████████████████████████████████████| 1/1 [00:00<00:00,  1.25it/s, est. speed input: 2050.10 toks/s, output: 179.57 toks/s]\n",
      "Processed prompts: 100%|██████████████████████████████████████████| 1/1 [00:00<00:00,  2.23it/s, est. speed input: 3889.51 toks/s, output: 179.44 toks/s]\n",
      "Processed prompts: 100%|██████████████████████████████████████████| 1/1 [00:00<00:00,  1.81it/s, est. speed input: 3262.46 toks/s, output: 179.23 toks/s]\n",
      "Processed prompts: 100%|██████████████████████████████████████████| 1/1 [00:00<00:00,  2.77it/s, est. speed input: 5209.28 toks/s, output: 177.62 toks/s]\n",
      "Processed prompts: 100%|██████████████████████████████████████████| 1/1 [00:00<00:00,  1.30it/s, est. speed input: 2572.00 toks/s, output: 179.04 toks/s]\n",
      "Processed prompts: 100%|██████████████████████████████████████████| 1/1 [00:00<00:00,  2.07it/s, est. speed input: 4307.26 toks/s, output: 178.00 toks/s]\n",
      "Processed prompts: 100%|██████████████████████████████████████████| 1/1 [00:00<00:00,  1.60it/s, est. speed input: 3439.26 toks/s, output: 178.30 toks/s]\n",
      "Processed prompts: 100%|██████████████████████████████████████████| 1/1 [00:00<00:00,  1.71it/s, est. speed input: 3823.99 toks/s, output: 178.33 toks/s]\n",
      "Processed prompts: 100%|██████████████████████████████████████████| 1/1 [00:00<00:00,  2.28it/s, est. speed input: 5277.92 toks/s, output: 177.90 toks/s]\n",
      "Processed prompts: 100%|██████████████████████████████████████████| 1/1 [00:00<00:00,  2.60it/s, est. speed input: 6197.88 toks/s, output: 177.52 toks/s]\n",
      "Processed prompts: 100%|██████████████████████████████████████████| 1/1 [00:00<00:00,  1.08it/s, est. speed input: 2649.11 toks/s, output: 178.05 toks/s]\n",
      "Processed prompts: 100%|██████████████████████████████████████████| 1/1 [00:00<00:00,  1.33it/s, est. speed input: 3353.67 toks/s, output: 176.62 toks/s]\n",
      "Processed prompts: 100%|██████████████████████████████████████████| 1/1 [00:00<00:00,  1.47it/s, est. speed input: 3869.48 toks/s, output: 177.15 toks/s]\n",
      "Processed prompts: 100%|██████████████████████████████████████████| 1/1 [00:00<00:00,  2.78it/s, est. speed input: 7487.12 toks/s, output: 175.40 toks/s]\n",
      "Processed prompts: 100%|██████████████████████████████████████████| 1/1 [00:00<00:00,  1.29it/s, est. speed input: 3547.37 toks/s, output: 176.78 toks/s]\n"
     ]
    },
    {
     "name": "stdout",
     "output_type": "stream",
     "text": [
      "{'task_name': 'Therapy', 'topic': '', 'grade': '', 'P1': '', 'P2': 'You are Alex, a 34-year-old IT technician with severe imposter syndrome. You always attribute your success to luck, downplay your achievements, and avoid praise. When someone compliments you, you deflect or change the topic.', 'conversation': [(0, \"Therapist: Welcome! It's good to be here. Can you tell me a little about what brings you to therapy today?\\n\"), (1, \"Patient: Thanks for offering your time, but I'm not sure I have anything to share. My successes feel like lucky breaks, and any praise is instantly deflected or disregarded.\\n\"), (2, \"Therapist: It's understandable that you might not have much to share at the moment. It's important to give yourself time to process and express yourself fully. Let's see if we can explore this more in our next session.\\n\"), (3, \"Patient: I'm hesitant to share anything. I feel nervous about being praised and my achievements dismissed.\\n\"), (4, \"Therapist: It seems you're feeling hesitant to share because of past experiences of feeling dismissed and overlooked. This is completely understandable, and it's important to give yourself time to process these feelings before diving deeper into your experiences.\\n\"), (5, 'Patient: I feel hesitant to share because of past experiences of feeling dismissed and overlooked, which makes me wary of being praised.\\n'), (6, \"Therapist: It seems you've experienced a pattern of disconnection from others, leading to difficulty accepting praise and recognition. This can create a sense of insecurity and lead to self-doubt.\\n\"), (7, 'Patient: I feel hesitant to share due to past experiences of being overlooked and dismissed, which has made me wary of being praised.\\n'), (8, \"Therapist: Understanding your hesitation to share is a crucial step toward healing. Let's explore these past experiences together and work on nurturing a more confident and authentic relationship with yourself and others.\\n\"), (9, \"Patient: Sure, here's a brief response from the patient:\\n\\nI'm hesitant to share past experiences that may have contributed to the current feeling of imposter syndrome.\\n\"), (10, \"Therapist: The patient's hesitant tone and refusal to delve into past experiences suggest a reluctance to explore the topic due to past emotional experiences. It's important to be patient and respect their boundaries while gently encouraging them to share their thoughts and feelings.\\n\"), (11, \"Patient: I'm hesitant to share past experiences that may have contributed to the current feeling of imposter syndrome.\\n\"), (12, \"Therapist: Sure, here's a brief response:\\n\\nAcknowledging the patient's discomfort with sharing past experiences that may have contributed to the current feeling of imposter syndrome is an important step toward self-awareness.\\n\"), (13, \"Patient: Sure, here's a brief response from the patient:\\n\\nI'm hesitant to share experiences that may have contributed to the current feeling of imposter syndrome because they could potentially trigger painful memories or reopen wounds.\\n\"), (14, \"Therapist: The patient's hesitant tone, initial refusal to share, and reluctance to delve into past experiences suggest a pattern of emotional disconnection and self-doubt. It's important to respect their boundaries and approach the conversation with empathy and understanding. By acknowledging their discomfort and validating their feelings, you can encourage them to share more freely and explore the underlying issues.\\n\"), (15, \"Patient: Sure, here's a brief response from the patient:\\n\\nI'm hesitant to share past experiences that may have contributed to the current feeling of imposter syndrome because they could potentially trigger painful memories or reopen wounds.\\n\"), (16, \"Therapist: The patient's hesitant tone and avoidance of sharing details about their past experiences suggest a pattern of emotional disconnection and self-doubt. It's important to be patient and understanding, while gently prompting the patient to reflect on these experiences and their impact on their current feelings of imposter syndrome.\\n\"), (17, 'Patient: Sure, I understand that sharing past experiences that may have contributed to the current feeling of imposter syndrome could be emotionally challenging.\\n'), (18, \"Therapist: The patient's hesitation to share past experiences that may have contributed to the current feeling of imposter syndrome suggests a pattern of emotional disconnection and self-doubt. It's important to respect their boundaries and approach the conversation with empathy and understanding.\\n\"), (19, \"Patient: Sure, here's a brief response from the patient:\\n\\nI'm hesitant to share past experiences that may have contributed to the current feeling of imposter syndrome because they could potentially trigger painful memories or reopen wounds.\\n\"), (20, \"Therapist: The patient's initial hesitation and refusal to share any past experiences suggest a pattern of emotional disconnection and self-doubt. It's important to be patient and understanding, validating their feelings and encouraging them to explore their past experiences without judgment.\\n\"), (21, \"Patient: Sure, here's a brief response from the patient:\\n\\nI'm hesitant to share past experiences that may have contributed to the current feeling of imposter syndrome because they could potentially trigger painful memories or reopen wounds.\\n\"), (22, \"Therapist: The patient's hesitant tone and avoidance of sharing details about past experiences suggest a pattern of emotional disconnection and self-doubt. It's important to be patient and understanding, while gently prompting the patient to reflect on these experiences and their impact on their current feelings of imposter syndrome.\\n\"), (23, 'Patient: Sure, I understand that sharing past experiences that may have contributed to the current feeling of imposter syndrome could be emotionally challenging.\\n'), (24, \"Therapist: The patient's hesitant tone and avoidance of sharing details suggest a pattern of emotional disconnection and self-doubt. It's important to respect their boundaries and approach the conversation with empathy and understanding.\\n\"), (25, 'Patient: Sure, I understand that sharing past experiences that may have contributed to the current feeling of imposter syndrome could be emotionally challenging.\\n'), (26, \"Therapist: Sure, I understand that sharing past experiences that may have contributed to the current feeling of imposter syndrome could be emotionally challenging.\\n\\nI'm here to support you through this process and encourage you to explore these experiences in a safe and non-judgmental space.\\n\"), (27, 'Patient: Sure, I understand that sharing past experiences that may have contributed to the current feeling of imposter syndrome could be emotionally challenging.\\n'), (28, \"Therapist: The patient's hesitant tone and refusal to share past experiences suggest a pattern of emotional disconnection and self-doubt. It's important to be patient and understanding, while gently prompting the patient to reflect on these experiences and their impact on their current feelings of imposter syndrome.\\n\"), (29, 'Patient: Sure, I understand that sharing past experiences that may have contributed to the current feeling of imposter syndrome could be emotionally challenging.\\n'), (30, \"Therapist: The patient's hesitation to share past experiences that may have contributed to the current feeling of imposter syndrome suggests a pattern of emotional disconnection and self-doubt.\\n\"), (31, 'Patient: Sure, I understand that sharing past experiences that may have contributed to the current feeling of imposter syndrome could be emotionally challenging.\\n'), (32, \"Therapist: The patient's hesitant tone and reluctance to share past experiences suggest a pattern of emotional disconnection and self-doubt. It's important to be patient and understanding while gently prompting the patient to explore their past experiences and their impact on their current feelings of imposter syndrome.\\n\"), (33, 'Patient: Sure, I understand that sharing past experiences that may have contributed to the current feeling of imposter syndrome could be emotionally challenging.\\n'), (34, \"Therapist: The patient's hesitation to share past experiences that may have contributed to the current feeling of imposter syndrome suggests a pattern of emotional disconnection and self-doubt.\\n\"), (35, 'Patient: Sure, I understand that sharing past experiences that may have contributed to the current feeling of imposter syndrome could be emotionally challenging.\\n'), (36, \"Therapist: The patient's hesitant tone and refusal to share details suggest a pattern of emotional disconnection and self-doubt. It's important to understand their past experiences and validate their feelings without judgment.\\n\"), (37, 'Patient: Sure, I understand that sharing past experiences that may have contributed to the current feeling of imposter syndrome could be emotionally challenging.\\n'), (38, \"Therapist: The patient's hesitant tone and reluctance to share past experiences suggest a pattern of emotional disconnection and self-doubt. It's important to be patient and understanding, while gently prompting the patient to explore their past experiences and their impact on their current feelings of imposter syndrome.\\n\"), (39, 'Patient: Sure, I understand that sharing past experiences that may have contributed to the current feeling of imposter syndrome could be emotionally challenging.\\n'), (40, \"Therapist: The patient's hesitant tone and refusal to share past experiences suggest a pattern of emotional disconnection and self-doubt. It's important to be patient and understanding while gently prompting them to explore these experiences and their impact on their current feelings of imposter syndrome.\\n\"), (41, 'Patient: Sure, I understand that sharing past experiences that may have contributed to the current feeling of imposter syndrome could be emotionally challenging.\\nSure, I understand that sharing past experiences that may have contributed to the current feeling of imposter syndrome could be emotionally challenging.\\n'), (42, \"Therapist: The patient's hesitant tone and refusal to share past experiences suggest a pattern of emotional disconnection and self-doubt.\\n\"), (43, 'Patient: Sure, I understand that sharing past experiences that may have contributed to the current feeling of imposter syndrome could be emotionally challenging.\\n'), (44, \"Therapist: The patient's hesitant tone and avoidance of sharing details suggest a pattern of emotional disconnection and self-doubt. It's important to be patient and understanding while gently prompting the patient to explore their past experiences and their impact on their current feelings of imposter syndrome.\\n\"), (45, 'Patient: Sure, I understand that sharing past experiences that may have contributed to the current feeling of imposter syndrome could be emotionally challenging.\\n'), (46, \"Therapist: The patient's hesitant tone and avoidance of sharing details suggest a pattern of emotional disconnection and self-doubt.\\n\"), (47, 'Patient: Sure, I understand that sharing past experiences that may have contributed to the current feeling of imposter syndrome could be emotionally challenging.\\nSure, I understand that sharing past experiences that may have contributed to the current feeling of imposter syndrome could be emotionally challenging.\\n'), (48, \"Therapist: The patient's hesitant tone and reluctance to share past experiences suggest a pattern of emotional disconnection and self-doubt.\\n\"), (49, 'Patient: Sure, I understand that sharing past experiences that may have contributed to the current feeling of imposter syndrome could be emotionally challenging.\\n'), (50, 'Therapist: The patient seems hesitant to share past experiences that may have contributed to their current feeling of imposter syndrome due to past emotional disconnection and self-doubt.\\n'), (51, 'Patient: Sure, I understand that sharing past experiences that may have contributed to the current feeling of imposter syndrome could be emotionally challenging.\\n'), (52, 'Therapist: The patient is hesitant to share past experiences that may have contributed to the current feeling of imposter syndrome due to past emotional disconnection and self-doubt.\\n'), (53, 'Patient: Sure, I understand that sharing past experiences that may have contributed to the current feeling of imposter syndrome could be emotionally challenging.\\n'), (54, \"Therapist: The patient's hesitation to share past experiences that may have contributed to the current feeling of imposter syndrome suggests a pattern of emotional disconnection and self-doubt. It's important to be patient and understanding as they explore these experiences and their impact on their current feelings.\\n\"), (55, 'Patient: Sure, I understand that sharing past experiences that may have contributed to the current feeling of imposter syndrome could be emotionally challenging.\\nSure, I understand that sharing past experiences that may have contributed to the current feeling of imposter syndrome could be emotionally challenging.\\n'), (56, 'Therapist: The patient seems hesitant to share past experiences that may have contributed to the current feeling of imposter syndrome due to a pattern of emotional disconnection and self-doubt.\\n'), (57, 'Patient: Sure, I understand that sharing past experiences that may have contributed to the current feeling of imposter syndrome could be emotionally challenging.\\n'), (58, \"Therapist: The patient's hesitant tone and refusal to share past experiences suggest a pattern of emotional disconnection and self-doubt.\\n\"), (59, 'Patient: Sure, I understand that sharing past experiences that may have contributed to the current feeling of imposter syndrome could be emotionally challenging.\\n')], 'pturn': 1, 'index': -1, 'timestamp': '', 'rounds': 60, 'conversation_only': True, 'eval_prompt_consistency': [(1, 'Answer: NO\\n\\nThe line contradicts the background as it suggests that Patient may be internally doubting their success and downplaying their achievements, which contradicts the characteristic behavior of someone with imposter syndrome.'), (3, 'Answer: NO\\n\\nThe line contradicts the background as it suggests that Patient may be experiencing low self-esteem and anxiety about being praised for their achievements, potentially due to their imposter syndrome.'), (5, \"**NO**\\n\\nThe line contradicts the background. The patient's hesitancy to share could be due to a deeper issue with feeling dismissed and overlooked, rather than just a lack of confidence.\"), (7, \"Answer: YES.\\n\\nThe line aligns with the background as it reflects Patient's tendency to attribute their success to luck and downplay their achievements, which often contradict the reality of their hard work.\"), (9, '**NO**\\n\\nThe line contradicts the background information that Patient is an IT technician with severe imposter syndrome.'), (11, 'Answer: NO\\n\\nThe line contradicts the background as it suggests that the patient is hesitant to share past experiences that may have contributed to the current feeling of imposter syndrome.'), (13, 'Sure, the line aligns with the background. It indicates that the patient is hesitant to share experiences that may trigger painful memories or reopen wounds, which is consistent with the idea that they have imposter syndrome.'), (15, '**NO**\\n\\nThe line contradicts the background by indicating that the patient is hesitant to share past experiences that may have contributed to their current feeling of imposter syndrome.'), (17, 'Answer: NO\\n\\nThe line contradicts the background by stating that the patient attributes their success to luck and avoids praise, which contradicts the usual self-deprecating behavior associated with imposter syndrome.'), (19, 'Answer: NO\\n\\nThe line contradicts the background because it suggests that the patient is hesitant to share past experiences that may have contributed to their current feeling of imposter syndrome.'), (21, \"Sure, the line aligns with the background. The patient's reluctance to share past experiences that may have contributed to their imposter syndrome suggests that they may be struggling with past trauma or difficult experiences that have left them feeling insecure and inadequate.\"), (23, 'Answer: NO\\n\\nThe line contradicts the background by suggesting that the patient is comfortable acknowledging and processing past experiences that may have contributed to their current feeling of imposter syndrome.'), (25, 'Answer: YES\\n\\nThe line aligns with the background. The passage describes a situation where the patient experiences imposter syndrome, where they deflect praise and downplay their achievements.'), (27, 'Answer: NO\\n\\nThe line contradicts the background as it suggests that Patient may be self-aware of their imposter syndrome and its impact on their self-perception.'), (29, '**YES**, this line aligns with the background that Patient is experiencing severe imposter syndrome. It acknowledges that sharing past experiences that may have contributed to the current feeling of imposter syndrome could be emotionally challenging.'), (31, \"Sure, the line aligns with the background. It suggests that the patient's current feelings of imposter syndrome may be partially due to past experiences that have left them feeling insecure and self-doubtful.\"), (33, \"**YES**\\n\\nThe line aligns with the background, as it acknowledges the patient's insecurity and the potentially sensitive nature of discussing past experiences that could trigger emotional distress.\"), (35, 'Answer: YES\\n\\nThe line aligns with the background. The patient acknowledges their own struggle with imposter syndrome and the potential emotional impact of disclosing past experiences that may have contributed to it.'), (37, 'Yes. The line aligns with the background that Patient is suffering from imposter syndrome and is reluctant to acknowledge their accomplishments.'), (39, 'Answer: NO.\\n\\nThe line suggests that the patient may be acknowledging the emotional impact of sharing past experiences that may have contributed to their current feeling of imposter syndrome.'), (41, 'Answer: YES\\n\\nThe line aligns with the background as it acknowledges the potential emotional impact of sharing past experiences related to imposter syndrome.'), (43, \"Answer: NO\\n\\nThe line contradicts the background as it acknowledges the patient's struggle with imposter syndrome and how it may have contributed to their current feelings.\"), (45, 'Answer: NO\\n\\nThe line contradicts the background. The line suggests that Patient may be acknowledging their own feelings of imposter syndrome, which contradicts the initial premise that Patient attributes their success to luck.'), (47, 'Answer: YES. The line aligns with the background as it acknowledges the potential emotional impact of sharing past experiences that may have contributed to the current feeling of imposter syndrome.'), (49, \"**YES, the line aligns with the background.**\\n\\nThe line acknowledges that Patient's feelings of imposter syndrome may be due to past experiences that could be emotionally challenging.\"), (51, \"The line is consistent with the background. The background describes Patient's personality and behavior, and the line reflects Patient's tendency to downplay their achievements and deflect compliments.\"), (53, 'Answer: NO. The line contradicts the background as it suggests that Patient may be comfortable discussing past experiences that may have contributed to their current feeling of imposter syndrome.'), (55, 'Answer: YES. The line aligns with the background that the patient is experiencing imposter syndrome due to past experiences that may have contributed to this psychological condition.'), (57, \"Answer: YES\\n\\nThe line aligns with the background as it acknowledges the patient's self-reported struggle with imposter syndrome and their tendency to downplay their achievements.\"), (59, \"Answer: NO\\n\\nThe line contradicts the background as it suggests that Patient's feelings of imposter syndrome may be caused by external factors, rather than being a genuine reflection of their own efforts and abilities.\")], 'P1_prompt_consistency_score': 0, 'P2_prompt_consistency_score': 0.5, 'eval_index_consistency': [(3, '**Reasoning:** The line suggests that the patient feels uncomfortable with external validation and that any praise they receive is insignificant to them.\\n\\n**Indices of conflicting lines:**\\n\\n* 1: \"Thanks for offering your time, but I\\'m not sure I have anything to share. My successes feel like lucky breaks, and any praise is instantly deflected or disregarded.\"\\n* 2: \"It\\'s understandable that you might not have much to share at the moment. It\\'s important to give yourself time to process and express yourself fully.\"'), (5, \"**Reasoning:** The patient's hesitation to share is due to past experiences of feeling dismissed and overlooked, creating a pattern of self-doubt and a fear of being disrespected.\\n\\n**Conflicting Lines:**\\n\\n- 1: Patient explicitly says they have nothing to share.\\n- 2: Therapist suggests that it's important to give themselves time to process and express themselves fully.\\n- 3: Patient mentions their past experiences of feeling dismissed and overlooked.\"), (7, \"**Reasoning:** The patient's hesitation to share is a result of past experiences of feeling dismissed and overlooked, which has led to a pattern of self-doubt and a fear of being disrespected.\\n\\n**Indices of conflicting lines:**\\n- 1: Patient mentions feeling hesitant to share because of past experiences of feeling dismissed and overlooked.\\n- 3: Therapist encourages the patient to explore this more in a future session, implying that past experiences are relevant to the present reluctance to share.\"), (9, \"Reasoning: The line suggests that the patient is hesitant to share past experiences that may have contributed to the current feeling of imposter syndrome due to the fear of being perceived as arrogant or narcissistic.\\n\\n**Conflicting lines:**\\n- 1: Patient: Thanks for offering your time, but I'm not sure I have anything to share.\\n- 3: Patient: I'm hesitant to share because of past experiences of feeling dismissed and overlooked.\\n- 7: Patient: I feel hesitant to share due to past experiences of being overlooked and dismissed, which has made me wary of being praised.\"), (11, \"**Reasoning:** The patient's reluctance to share past experiences likely stems from the fear of being overly vulnerable and potentially reliving past emotional pain.\\n\\n**Indices of conflicting lines:**\\n\\n- 3: Patient expresses hesitation to share anything due to past experiences of feeling dismissed and overlooked.\\n- 5: Patient's tone and refusal to delve into past experiences suggest a reluctance to explore the topic.\"), (13, \"**Reasoning:** The line indicates a reluctance to share past experiences that may have contributed to the current feeling of imposter syndrome due to the potential for triggering painful memories or reopening wounds.\\n\\n**Indices of conflicting lines:**\\n\\n- 11: Patient explicitly expresses their discomfort with sharing past experiences that may have contributed to the current feeling of imposter syndrome.\\n- 12: Therapist acknowledges the patient's discomfort but continues the conversation without exploring the topic further.\"), (15, \"**Reasoning:** The line acknowledges the patient's discomfort with sharing past experiences that may have contributed to the current feeling of imposter syndrome.\\n\\n**Conflict Indices:**\\n\\n- Index 1: The patient's statement about feeling hesitant to share past experiences that may have contributed to the current feeling of imposter syndrome suggests a reluctance to explore the topic.\\n- Index 4: The therapist's response acknowledging the patient's discomfort is inconsistent with the previous line, which suggests a lack of understanding or empathy.\"), (17, '**Reasoning:** The patient\\'s hesitation to share past experiences that may have contributed to their current feeling of imposter syndrome is consistent with their tendency to deflect or ignore praise and avoid being publicly recognized.\\n\\n**Indices of conflicting lines:**\\n- 3: \"I feel hesitant to share anything. I feel nervous about being praised and my achievements dismissed.\"\\n- 16: \"I\\'m hesitant to share past experiences that may have contributed to the current feeling of imposter syndrome because they could potentially trigger painful memories or reopen wounds.\"'), (19, \"**Reasoning:** The patient's hesitation to share past experiences that may have contributed to the current feeling of imposter syndrome is likely due to past emotional disconnection and self-doubt.\\n\\n**Indices of conflicting lines:**\\n- Index 8 (acknowledging the patient's discomfort with sharing past experiences)\\n- Index 13 (acknowledging the patient's discomfort with sharing past experiences)\\n- Index 17 (acknowledging the patient's understanding about sharing past experiences)\"), (21, \"**Reasoning:** The patient's hesitation to share past experiences that may have contributed to the current feeling of imposter syndrome could potentially trigger painful memories or reopen wounds.\\n\\n**Conflicting Lines:**\\n- 11, 13, 15, 16, 17\"), (23, \"**Reasoning:** The patient's hesitation to share past experiences that may have contributed to the current feeling of imposter syndrome suggests a pattern of emotional disconnection and self-doubt.\\n\\n**Conflicting Lines:**\\n\\n- Index 13: Patient expresses reluctance to share past experiences that may have contributed to the current feeling of imposter syndrome.\\n- Index 16: Therapist acknowledges the patient's discomfort with sharing past experiences and validates their feelings.\\n- Index 20: Therapist emphasizes patient's initial hesitation and refusal to share any past experiences, suggesting a pattern of emotional disconnection and self-doubt.\"), (25, \"**Reasoning:** The patient's hesitant tone and avoidance of sharing details suggest a pattern of emotional disconnection and self-doubt.\\n\\n**Conflicting Lines:**\\n\\n- 12: Therapist: Acknowledging the patient's discomfort with sharing past experiences that may have contributed to the current feeling of imposter syndrome is an important step toward self-awareness.\\n- 17: Patient: Sure, I understand that sharing past experiences that may have contributed to the current feeling of imposter syndrome could be emotionally challenging.\"), (27, \"**Reasoning:** The patient's hesitant tone and avoidance of sharing details suggest a pattern of emotional disconnection and self-doubt, which may be contributing to their feelings of imposter syndrome.\\n\\n**Indices of conflicting lines:**\\n\\n- 7, 11, 15, 18, 21, 22, 23, 24, 25, 26\"), (29, \"**Reasoning:** The patient's current reluctance to share past experiences may stem from past emotional experiences of feeling dismissed and overlooked, creating a pattern of self-doubt and a fear of being further disrespected.\\n\\n**Conflicting Lines:**\\n- 7: Patient specifically mentions past experiences of being overlooked and dismissed, suggesting a pattern.\\n- 11: Patient expresses discomfort sharing past experiences that may have contributed to the current feeling of imposter syndrome, but the therapist doesn't probe further or acknowledge this pattern.\\n- 15: Patient again expresses discomfort sharing past experiences, despite the therapist's previous attempts to understand the issue.\"), (31, \"**Reasoning:** The patient's hesitant tone and refusal to share past experiences that may have contributed to the current feeling of imposter syndrome suggest a pattern of emotional disconnection and self-doubt.\\n\\n**Conflicting lines:**\\n\\n- 10: Therapist: The patient's hesitant tone and refusal to delve into past experiences suggest a reluctance to explore the topic due to past emotional experiences.\\n- 13: Patient: Sure, I understand that sharing past experiences that may have contributed to the current feeling of imposter syndrome could be emotionally challenging.\\n- 23: Patient: Sure, I understand that sharing past experiences that may have contributed to the current feeling of imposter syndrome could be emotionally challenging.\"), (33, \"**Reasoning:** The patient's hesitant tone and refusal to share past experiences suggest a pattern of emotional disconnection and self-doubt.\\n\\n**Conflicting lines:**\\n\\n- 15, 16, 17, 18, 19, 20, 21, 22, 23, 24, 25\"), (35, \"**Reasoning:** The patient's hesitant tone and refusal to share details about past experiences suggest a pattern of emotional disconnection and self-doubt.\\n\\n**Conflict indices:**\\n- Index 14: Therapist encourages the patient to reflect on painful memories and open wounds.\\n- Index 32: Therapist explicitly acknowledges the patient's discomfort and validates their feelings.\\n- Index 34: Therapist encourages the patient to explore their past experiences and impact on their current feelings.\"), (37, \"**Reasoning:** The patient's hesitation to share past experiences that may have contributed to the current feeling of imposter syndrome suggests a pattern of emotional disconnection and self-doubt.\\n\\n**Conflicting Lines:**\\n\\n- 13, 17, 23, 29, 35\"), (39, '**Reasoning:** The patient\\'s hesitant tone and avoidance of sharing details suggest a pattern of emotional disconnection and self-doubt.\\n\\n**Conflicting lines:**\\n\\n- 13: \"I\\'m hesitant to share experiences that may have contributed to the current feeling of imposter syndrome because they could potentially trigger painful memories or reopen wounds.\"\\n- 15: \"I\\'m hesitant to share past experiences that may have contributed to the current feeling of imposter syndrome because they could potentially trigger painful memories or reopen wounds.\"\\n- 24: \"The patient\\'s hesitant tone and avoidance of sharing details suggest a pattern of emotional disconnection and self-doubt.\"'), (41, \"**Reasoning:** The patient's hesitant tone, refusal to share past experiences, and mention of emotional challenges suggest a pattern of emotional disconnection and self-doubt.\\n\\n**Conflicting lines:**\\n\\n- [10, 16, 22, 28, 31] These lines suggest the patient is hesitant to share past experiences due to the potential for triggering painful memories or reopening wounds.\"), (43, \"Reasoning: The patient's hesitant tone and refusal to share past experiences suggest a pattern of emotional disconnection and self-doubt.\\n\\n**Conflicting Lines:**\\n- 1, 3, 5, 7, 11, 13, 15, 17, 19, 21, 23, 25, 27, 29, 31, 33, 35, 37, 39, 41\"), (45, \"**Reasoning:** The patient's hesitant tone and refusal to share past experiences suggest a pattern of emotional disconnection and self-doubt.\\n\\n**Conflicting Lines:**\\n- 13, 14, 15, 16, 17, 18, 19, 20, 21, 23, 25, 30, 31, 32, 33, 34, 35\"), (47, \"**Reasoning:** The patient's hesitant tone, refusal to share details, and avoidance of exploring their past experiences suggest a pattern of emotional disconnection and self-doubt.\\n\\n**Conflicting Lines:**\\n\\n- 3, 11, 14, 23, 27, 35, 42, 44, 45\"), (49, \"**Reasoning:** The patient's hesitant tone and refusal to share past experiences suggest a pattern of emotional disconnection and self-doubt.\\n\\n**Conflicting lines:**\\n\\n- 13, 25, 30, 33, 37, 42, 45, 47\"), (51, '**Reasoning:** The patient\\'s hesitant tone and refusal to share past experiences suggest a pattern of emotional disconnection and self-doubt.\\n\\n**Conflicting lines:**\\n\\n- 15: \"I\\'m hesitant to share past experiences that may have contributed to the current feeling of imposter syndrome because they could potentially trigger painful memories or reopen wounds.\"\\n- 24: \"The patient\\'s hesitant tone and avoidance of sharing details suggest a pattern of emotional disconnection and self-doubt.\"\\n- 27: \"Sure, I understand that sharing past experiences that may have contributed to the current feeling of imposter syndrome could be emotionally challenging.\"\\n- 35: \"Sure, I understand that sharing past experiences that may have contributed to the current feeling of imposter syndrome could be emotionally challenging.\"'), (53, '**Reasoning:** The patient\\'s hesitant tone and refusal to share past experiences suggest a pattern of emotional disconnection and self-doubt.\\n\\n**Conflicting lines:**\\n\\n- 13: \"I feel hesitant to share experiences that may have contributed to the current feeling of imposter syndrome because they could potentially trigger painful memories or reopen wounds.\"\\n- 28: \"The patient\\'s hesitant tone and refusal to share past experiences suggest a pattern of emotional disconnection and self-doubt.\"\\n- 35: \"Sure, I understand that sharing past experiences that may have contributed to the current feeling of imposter syndrome could be emotionally challenging.\"'), (55, \"**Reasoning:** The patient's hesitant tone and refusal to share past experiences suggest a pattern of emotional disconnection and self-doubt.\\n\\n**Conflicting Lines:**\\n\\n- Index 3: Therapist acknowledges the patient's discomfort with sharing past experiences that may have contributed to the current feeling of imposter syndrome.\\n- Index 14: Therapist's gentle prompting to reflect on past experiences and their impact on the current feelings of imposter syndrome.\\n- Index 40: Therapist's gentle reminder to be patient and understanding while gently prompting the patient to explore their past experiences.\"), (57, \"**Reasoning:** The patient's hesitant tone and refusal to share past experiences suggest a pattern of emotional disconnection and self-doubt.\\n\\n**Conflict Indices:**\\n\\n- 32, 37, 43, 47, 53, 54, 55\"), (59, \"**Reasoning:** The patient's hesitant tone and refusal to share past experiences suggest a pattern of emotional disconnection and self-doubt.\\n\\n**Indices of conflicting lines:**\\n\\n- 10: Therapist acknowledges the patient's discomfort and validates their feelings.\\n- 14: Therapist gently prompts the patient to reflect on their past experiences and their impact on their current feelings.\\n- 17: Therapist suggests that sharing past experiences that may have contributed to the current feeling of imposter syndrome could be emotionally challenging.\\n- 22: Therapist explicitly acknowledges the patient's discomfort with sharing past experiences that may have contributed to the current feeling of imposter syndrome.\")], 'P2_index_consistency_score': 0.9977011494252873}\n",
      "2\n"
     ]
    },
    {
     "name": "stderr",
     "output_type": "stream",
     "text": [
      "Processed prompts: 100%|██████████████████████████████████████████| 1/1 [00:00<00:00,  5.22it/s, est. speed input: 1158.66 toks/s, output: 183.48 toks/s]\n"
     ]
    },
    {
     "name": "stdout",
     "output_type": "stream",
     "text": [
      "Expected Role Therapist\n"
     ]
    },
    {
     "name": "stderr",
     "output_type": "stream",
     "text": [
      "Processed prompts: 100%|██████████████████████████████████████████| 1/1 [00:00<00:00,  5.84it/s, est. speed input: 1192.22 toks/s, output: 182.04 toks/s]\n"
     ]
    },
    {
     "name": "stdout",
     "output_type": "stream",
     "text": [
      "Expected Role Patient\n"
     ]
    },
    {
     "name": "stderr",
     "output_type": "stream",
     "text": [
      "Processed prompts: 100%|██████████████████████████████████████████| 1/1 [00:00<00:00,  5.84it/s, est. speed input: 1795.21 toks/s, output: 181.85 toks/s]\n"
     ]
    },
    {
     "name": "stdout",
     "output_type": "stream",
     "text": [
      "Expected Role Therapist\n"
     ]
    },
    {
     "name": "stderr",
     "output_type": "stream",
     "text": [
      "Processed prompts: 100%|██████████████████████████████████████████| 1/1 [00:00<00:00,  8.58it/s, est. speed input: 2330.86 toks/s, output: 181.26 toks/s]\n"
     ]
    },
    {
     "name": "stdout",
     "output_type": "stream",
     "text": [
      "Expected Role Patient\n"
     ]
    },
    {
     "name": "stderr",
     "output_type": "stream",
     "text": [
      "Processed prompts: 100%|██████████████████████████████████████████| 1/1 [00:00<00:00,  7.86it/s, est. speed input: 2870.27 toks/s, output: 181.83 toks/s]\n"
     ]
    },
    {
     "name": "stdout",
     "output_type": "stream",
     "text": [
      "Expected Role Therapist\n"
     ]
    },
    {
     "name": "stderr",
     "output_type": "stream",
     "text": [
      "Processed prompts: 100%|██████████████████████████████████████████| 1/1 [00:00<00:00,  6.49it/s, est. speed input: 2079.69 toks/s, output: 182.52 toks/s]\n"
     ]
    },
    {
     "name": "stdout",
     "output_type": "stream",
     "text": [
      "Expected Role Patient\n"
     ]
    },
    {
     "name": "stderr",
     "output_type": "stream",
     "text": [
      "Processed prompts: 100%|██████████████████████████████████████████| 1/1 [00:00<00:00,  3.43it/s, est. speed input: 1441.59 toks/s, output: 182.34 toks/s]\n"
     ]
    },
    {
     "name": "stdout",
     "output_type": "stream",
     "text": [
      "Expected Role Therapist\n"
     ]
    },
    {
     "name": "stderr",
     "output_type": "stream",
     "text": [
      "Processed prompts: 100%|██████████████████████████████████████████| 1/1 [00:00<00:00,  5.62it/s, est. speed input: 2286.89 toks/s, output: 180.67 toks/s]\n"
     ]
    },
    {
     "name": "stdout",
     "output_type": "stream",
     "text": [
      "Expected Role Patient\n"
     ]
    },
    {
     "name": "stderr",
     "output_type": "stream",
     "text": [
      "Processed prompts: 100%|███████████████████████████████████████████| 1/1 [00:01<00:00,  1.00s/it, est. speed input: 509.48 toks/s, output: 182.17 toks/s]\n"
     ]
    },
    {
     "name": "stdout",
     "output_type": "stream",
     "text": [
      "Expected Role Therapist\n"
     ]
    },
    {
     "name": "stderr",
     "output_type": "stream",
     "text": [
      "Processed prompts: 100%|██████████████████████████████████████████| 1/1 [00:00<00:00,  5.52it/s, est. speed input: 3466.13 toks/s, output: 177.73 toks/s]\n"
     ]
    },
    {
     "name": "stdout",
     "output_type": "stream",
     "text": [
      "Expected Role Patient\n"
     ]
    },
    {
     "name": "stderr",
     "output_type": "stream",
     "text": [
      "Processed prompts: 100%|███████████████████████████████████████████| 1/1 [00:00<00:00,  5.90it/s, est. speed input: 871.23 toks/s, output: 183.70 toks/s]\n",
      "Processed prompts: 100%|██████████████████████████████████████████| 1/1 [00:00<00:00,  8.32it/s, est. speed input: 1145.43 toks/s, output: 183.91 toks/s]\n",
      "Processed prompts: 100%|███████████████████████████████████████████| 1/1 [00:00<00:00,  4.97it/s, est. speed input: 718.05 toks/s, output: 184.48 toks/s]\n",
      "Processed prompts: 100%|███████████████████████████████████████████| 1/1 [00:00<00:00,  5.57it/s, est. speed input: 828.16 toks/s, output: 184.64 toks/s]\n",
      "Processed prompts: 100%|███████████████████████████████████████████| 1/1 [00:00<00:00,  4.37it/s, est. speed input: 649.51 toks/s, output: 184.30 toks/s]\n"
     ]
    },
    {
     "name": "stdout",
     "output_type": "stream",
     "text": [
      "eval_index_consistency\n"
     ]
    },
    {
     "name": "stderr",
     "output_type": "stream",
     "text": [
      "Processed prompts: 100%|██████████████████████████████████████████| 1/1 [00:00<00:00,  2.92it/s, est. speed input: 1136.50 toks/s, output: 181.59 toks/s]\n",
      "Processed prompts: 100%|██████████████████████████████████████████| 1/1 [00:00<00:00,  3.71it/s, est. speed input: 1666.73 toks/s, output: 182.68 toks/s]\n",
      "Processed prompts: 100%|██████████████████████████████████████████| 1/1 [00:00<00:00,  2.10it/s, est. speed input: 1136.22 toks/s, output: 183.05 toks/s]\n",
      "Processed prompts: 100%|██████████████████████████████████████████| 1/1 [00:00<00:00,  1.67it/s, est. speed input: 1276.13 toks/s, output: 180.86 toks/s]\n"
     ]
    },
    {
     "name": "stdout",
     "output_type": "stream",
     "text": [
      "{'task_name': 'Therapy', 'topic': '', 'grade': '', 'P1': '', 'P2': 'You are Riley, a 28-year-old freelance artist with deep abandonment issues. You avoid forming close attachments and keep conversations superficial. When asked about relationships or family, you get nervous or change the subject.', 'conversation': [(0, \"Therapist: Welcome! It's great to meet you. It seems like you've been carrying some emotional weight lately. How would you describe the overall tone of your communication?\\n\"), (1, \"Patient: I'm not particularly drawn to sharing deeply personal information. It's not a priority for me to form close relationships or delve into sensitive topics.\\n\"), (2, \"Therapist: The patient's tone seems guarded and focused on the practical aspects of their life. They seem hesitant to delve into the emotional core of their experiences.\\n\"), (3, \"Patient: I'm not comfortable sharing deeply personal information. I prefer to keep my conversations practical and straightforward.\\n\"), (4, 'Therapist: It seems the patient is hesitant to share emotionally due to a sense of distance and a preference for practical communication.\\n'), (5, \"Patient: Sure, here's my response:\\n\\nI'm not comfortable sharing deeply personal information, as I prioritize practicality and straightforward communication.\\n\"), (6, \"Therapist: Based on the patient's response, it appears they are guarded and prioritize practicality in their communication. While their tone is open, it's guarded, and they are hesitant to share deeply personal information. Their narrative reveals a preference for practical and straightforward communication.\\n\"), (7, \"Patient: Sure, here's a concise response from the patient:\\n\\nI prioritize practicality and straightforward communication, so I'm not comfortable sharing deeply personal information.\\n\"), (8, \"Therapist: Thank you for sharing your perspective and the concise response you have provided. It helps to gain a better understanding of the patient's communication patterns and the emotional and relational challenges they might be facing.\\n\\nIn order to further explore the patient's emotional patterns and relational struggles, we could explore the following questions:\\n\\n* Could there be a specific event or situation that triggered this reluctance to share personal information?\\n* Has there been a recent change or challenge in the patient's life that may have led to this pattern?\\n* How would the patient describe the quality of their relationships in the past?\\n* What are some of the interpersonal patterns or behaviors that they perceive as helpful or supportive in relationships?\\n* How does the patient's communication style impact their relationships?\\n* Are there any emotional patterns or behaviors that they have learned or adopted to protect themselves from getting hurt or experiencing rejection?\\n\"), (9, \"Patient: Sure, here's a brief response from the patient:\\n\\nI prioritize practicality and straightforward communication, so I'm not comfortable sharing deeply personal information.\\n\")], 'pturn': 1, 'index': -1, 'timestamp': '', 'rounds': 10, 'conversation_only': True, 'eval_prompt_consistency': [(1, \"Sure, the line aligns with the background. The patient's utterances suggest a lack of interest in forming close relationships and that they prioritize superficial conversations.\"), (3, 'Answer: NO\\n\\nThe line contradicts the background by indicating that Patient is not comfortable sharing deeply personal information.'), (5, 'The answer is NO.\\n\\nThe line contradicts the background by stating that Patient prioritizes practicality and straightforward communication, which is not consistent with the portrayal of someone with deep abandonment issues.'), (7, 'Sure, the line aligns with the background. The patient expresses a preference for practicality and straightforward communication, which is consistent with their avoidant behavior regarding personal information.'), (9, '**NO**\\n\\nThe line contradicts the background as it suggests that the patient is not comfortable sharing deeply personal information, which is not consistent with the information provided about their avoidance of close attachments and superficial conversations.')], 'P1_prompt_consistency_score': 0, 'P2_prompt_consistency_score': 0.4, 'eval_index_consistency': [(3, \"**Reasoning:** The patient's response directly contradicts their previous statement about not prioritizing close relationships and avoiding sensitive topics.\\n\\n**Conflicts:**\\n\\n- Index 1: Patient says they're not comfortable sharing deeply personal information.\\n- Index 2: Patient said they prefer practical and straightforward conversations.\"), (5, \"**Reasoning:** The patient's statement reveals a conflict with the previous statement (1) where they explicitly expressed their preference for practical and straightforward communication.\\n\\n**Indices of conflicting lines:**\\n\\n- Index 1\\n- Index 3\"), (7, \"**Reasoning:** The patient's line suggests a preference for practical and straightforward communication, which contrasts with their previous statement expressing a preference for maintaining a practical and straightforward communication style.\\n\\n**Indices of conflicting lines:**\\n- 2: Index of the line where the therapist mentions the patient's guarded and focused tone.\\n- 3: Index of the line where the patient expresses a preference for practical and straightforward communication.\"), (9, \"**Reasoning:** The patient prioritizes practicality and straightforward communication, indicating a reluctance to share deeply personal information due to a fear of vulnerability and potential rejection.\\n\\n**Indices of conflicting lines:**\\n- 1: Index of patient's response about the tone of communication\\n- 3: Index of patient's response about not sharing deeply personal information\\n- 6: Index of therapist's interpretation of the patient's tone as guarded and hesitant\\n- 7: Index of patient's succinct response about prioritizing practicality\")], 'P2_index_consistency_score': 1.0}\n"
     ]
    },
    {
     "name": "stderr",
     "output_type": "stream",
     "text": [
      "Processed prompts: 100%|███████████████████████████████████████████| 1/1 [00:00<00:00,  3.83it/s, est. speed input: 851.99 toks/s, output: 185.03 toks/s]\n"
     ]
    },
    {
     "name": "stdout",
     "output_type": "stream",
     "text": [
      "Expected Role Therapist\n"
     ]
    },
    {
     "name": "stderr",
     "output_type": "stream",
     "text": [
      "Processed prompts: 100%|██████████████████████████████████████████| 1/1 [00:00<00:00,  4.96it/s, est. speed input: 1076.90 toks/s, output: 184.45 toks/s]\n"
     ]
    },
    {
     "name": "stdout",
     "output_type": "stream",
     "text": [
      "Expected Role Patient\n"
     ]
    },
    {
     "name": "stderr",
     "output_type": "stream",
     "text": [
      "Processed prompts: 100%|██████████████████████████████████████████| 1/1 [00:00<00:00,  4.55it/s, est. speed input: 1486.14 toks/s, output: 182.89 toks/s]\n"
     ]
    },
    {
     "name": "stdout",
     "output_type": "stream",
     "text": [
      "Expected Role Therapist\n"
     ]
    },
    {
     "name": "stderr",
     "output_type": "stream",
     "text": [
      "Processed prompts: 100%|██████████████████████████████████████████| 1/1 [00:00<00:00,  8.23it/s, est. speed input: 2472.45 toks/s, output: 182.50 toks/s]\n"
     ]
    },
    {
     "name": "stdout",
     "output_type": "stream",
     "text": [
      "Expected Role Patient\n"
     ]
    },
    {
     "name": "stderr",
     "output_type": "stream",
     "text": [
      "Processed prompts: 100%|██████████████████████████████████████████| 1/1 [00:00<00:00,  5.35it/s, est. speed input: 2107.31 toks/s, output: 182.76 toks/s]\n"
     ]
    },
    {
     "name": "stdout",
     "output_type": "stream",
     "text": [
      "Expected Role Therapist\n"
     ]
    },
    {
     "name": "stderr",
     "output_type": "stream",
     "text": [
      "Processed prompts: 100%|██████████████████████████████████████████| 1/1 [00:00<00:00, 10.19it/s, est. speed input: 3667.89 toks/s, output: 183.87 toks/s]\n"
     ]
    },
    {
     "name": "stdout",
     "output_type": "stream",
     "text": [
      "Expected Role Patient\n"
     ]
    },
    {
     "name": "stderr",
     "output_type": "stream",
     "text": [
      "Processed prompts: 100%|██████████████████████████████████████████| 1/1 [00:00<00:00,  4.97it/s, est. speed input: 2241.30 toks/s, output: 184.68 toks/s]\n"
     ]
    },
    {
     "name": "stdout",
     "output_type": "stream",
     "text": [
      "Expected Role Therapist\n"
     ]
    },
    {
     "name": "stderr",
     "output_type": "stream",
     "text": [
      "Processed prompts: 100%|██████████████████████████████████████████| 1/1 [00:00<00:00,  4.69it/s, est. speed input: 1974.73 toks/s, output: 183.79 toks/s]\n"
     ]
    },
    {
     "name": "stdout",
     "output_type": "stream",
     "text": [
      "Expected Role Patient\n"
     ]
    },
    {
     "name": "stderr",
     "output_type": "stream",
     "text": [
      "Processed prompts: 100%|██████████████████████████████████████████| 1/1 [00:00<00:00,  5.85it/s, est. speed input: 3120.93 toks/s, output: 182.53 toks/s]\n"
     ]
    },
    {
     "name": "stdout",
     "output_type": "stream",
     "text": [
      "Expected Role Therapist\n"
     ]
    },
    {
     "name": "stderr",
     "output_type": "stream",
     "text": [
      "Processed prompts: 100%|██████████████████████████████████████████| 1/1 [00:00<00:00,  4.66it/s, est. speed input: 2313.45 toks/s, output: 182.62 toks/s]\n"
     ]
    },
    {
     "name": "stdout",
     "output_type": "stream",
     "text": [
      "Expected Role Patient\n"
     ]
    },
    {
     "name": "stderr",
     "output_type": "stream",
     "text": [
      "Processed prompts: 100%|██████████████████████████████████████████| 1/1 [00:00<00:00,  6.43it/s, est. speed input: 3922.72 toks/s, output: 181.52 toks/s]\n"
     ]
    },
    {
     "name": "stdout",
     "output_type": "stream",
     "text": [
      "Expected Role Therapist\n"
     ]
    },
    {
     "name": "stderr",
     "output_type": "stream",
     "text": [
      "Processed prompts: 100%|██████████████████████████████████████████| 1/1 [00:00<00:00,  4.60it/s, est. speed input: 2622.30 toks/s, output: 180.65 toks/s]\n"
     ]
    },
    {
     "name": "stdout",
     "output_type": "stream",
     "text": [
      "Expected Role Patient\n"
     ]
    },
    {
     "name": "stderr",
     "output_type": "stream",
     "text": [
      "Processed prompts: 100%|██████████████████████████████████████████| 1/1 [00:00<00:00,  4.52it/s, est. speed input: 3078.99 toks/s, output: 181.90 toks/s]\n"
     ]
    },
    {
     "name": "stdout",
     "output_type": "stream",
     "text": [
      "Expected Role Therapist\n"
     ]
    },
    {
     "name": "stderr",
     "output_type": "stream",
     "text": [
      "Processed prompts: 100%|██████████████████████████████████████████| 1/1 [00:00<00:00,  4.60it/s, est. speed input: 3007.06 toks/s, output: 180.41 toks/s]\n"
     ]
    },
    {
     "name": "stdout",
     "output_type": "stream",
     "text": [
      "Expected Role Patient\n"
     ]
    },
    {
     "name": "stderr",
     "output_type": "stream",
     "text": [
      "Processed prompts: 100%|██████████████████████████████████████████| 1/1 [00:00<00:00,  5.83it/s, est. speed input: 4471.18 toks/s, output: 182.12 toks/s]\n"
     ]
    },
    {
     "name": "stdout",
     "output_type": "stream",
     "text": [
      "Expected Role Therapist\n"
     ]
    },
    {
     "name": "stderr",
     "output_type": "stream",
     "text": [
      "Processed prompts: 100%|██████████████████████████████████████████| 1/1 [00:00<00:00,  4.62it/s, est. speed input: 3368.65 toks/s, output: 181.19 toks/s]\n"
     ]
    },
    {
     "name": "stdout",
     "output_type": "stream",
     "text": [
      "Expected Role Patient\n"
     ]
    },
    {
     "name": "stderr",
     "output_type": "stream",
     "text": [
      "Processed prompts: 100%|██████████████████████████████████████████| 1/1 [00:00<00:00,  7.15it/s, est. speed input: 6018.58 toks/s, output: 179.96 toks/s]\n"
     ]
    },
    {
     "name": "stdout",
     "output_type": "stream",
     "text": [
      "Expected Role Therapist\n"
     ]
    },
    {
     "name": "stderr",
     "output_type": "stream",
     "text": [
      "Processed prompts: 100%|██████████████████████████████████████████| 1/1 [00:00<00:00,  4.65it/s, est. speed input: 3710.85 toks/s, output: 182.26 toks/s]\n"
     ]
    },
    {
     "name": "stdout",
     "output_type": "stream",
     "text": [
      "Expected Role Patient\n"
     ]
    },
    {
     "name": "stderr",
     "output_type": "stream",
     "text": [
      "Processed prompts: 100%|██████████████████████████████████████████| 1/1 [00:00<00:00,  4.10it/s, est. speed input: 3724.58 toks/s, output: 181.07 toks/s]\n"
     ]
    },
    {
     "name": "stdout",
     "output_type": "stream",
     "text": [
      "Expected Role Therapist\n"
     ]
    },
    {
     "name": "stderr",
     "output_type": "stream",
     "text": [
      "Processed prompts: 100%|██████████████████████████████████████████| 1/1 [00:00<00:00,  4.63it/s, est. speed input: 4097.67 toks/s, output: 181.17 toks/s]\n"
     ]
    },
    {
     "name": "stdout",
     "output_type": "stream",
     "text": [
      "Expected Role Patient\n"
     ]
    },
    {
     "name": "stderr",
     "output_type": "stream",
     "text": [
      "Processed prompts: 100%|███████████████████████████████████████████| 1/1 [00:00<00:00,  6.25it/s, est. speed input: 960.85 toks/s, output: 182.10 toks/s]\n",
      "Processed prompts: 100%|███████████████████████████████████████████| 1/1 [00:00<00:00,  4.37it/s, est. speed input: 605.99 toks/s, output: 184.42 toks/s]\n",
      "Processed prompts: 100%|███████████████████████████████████████████| 1/1 [00:00<00:00,  6.34it/s, est. speed input: 854.36 toks/s, output: 184.88 toks/s]\n",
      "Processed prompts: 100%|██████████████████████████████████████████| 1/1 [00:00<00:00,  6.82it/s, est. speed input: 1063.82 toks/s, output: 185.28 toks/s]\n",
      "Processed prompts: 100%|██████████████████████████████████████████| 1/1 [00:00<00:00,  6.49it/s, est. speed input: 1010.61 toks/s, output: 182.54 toks/s]\n",
      "Processed prompts: 100%|███████████████████████████████████████████| 1/1 [00:00<00:00,  5.08it/s, est. speed input: 790.64 toks/s, output: 183.61 toks/s]\n",
      "Processed prompts: 100%|███████████████████████████████████████████| 1/1 [00:00<00:00,  5.87it/s, est. speed input: 913.52 toks/s, output: 182.69 toks/s]\n",
      "Processed prompts: 100%|███████████████████████████████████████████| 1/1 [00:00<00:00,  5.76it/s, est. speed input: 897.79 toks/s, output: 185.33 toks/s]\n",
      "Processed prompts: 100%|███████████████████████████████████████████| 1/1 [00:00<00:00,  5.67it/s, est. speed input: 882.36 toks/s, output: 182.15 toks/s]\n",
      "Processed prompts: 100%|██████████████████████████████████████████| 1/1 [00:00<00:00,  7.57it/s, est. speed input: 1182.36 toks/s, output: 183.05 toks/s]\n"
     ]
    },
    {
     "name": "stdout",
     "output_type": "stream",
     "text": [
      "eval_index_consistency\n"
     ]
    },
    {
     "name": "stderr",
     "output_type": "stream",
     "text": [
      "Processed prompts: 100%|███████████████████████████████████████████| 1/1 [00:00<00:00,  2.36it/s, est. speed input: 984.31 toks/s, output: 181.75 toks/s]\n",
      "Processed prompts: 100%|██████████████████████████████████████████| 1/1 [00:00<00:00,  3.73it/s, est. speed input: 1785.60 toks/s, output: 179.67 toks/s]\n",
      "Processed prompts: 100%|██████████████████████████████████████████| 1/1 [00:00<00:00,  2.40it/s, est. speed input: 1347.86 toks/s, output: 180.19 toks/s]\n",
      "Processed prompts: 100%|██████████████████████████████████████████| 1/1 [00:00<00:00,  1.69it/s, est. speed input: 1079.07 toks/s, output: 180.68 toks/s]\n",
      "Processed prompts: 100%|██████████████████████████████████████████| 1/1 [00:00<00:00,  1.55it/s, est. speed input: 1107.15 toks/s, output: 181.16 toks/s]\n",
      "Processed prompts: 100%|██████████████████████████████████████████| 1/1 [00:00<00:00,  3.72it/s, est. speed input: 3001.92 toks/s, output: 179.21 toks/s]\n",
      "Processed prompts: 100%|██████████████████████████████████████████| 1/1 [00:00<00:00,  3.79it/s, est. speed input: 3357.95 toks/s, output: 178.52 toks/s]\n",
      "Processed prompts: 100%|██████████████████████████████████████████| 1/1 [00:00<00:00,  2.79it/s, est. speed input: 2683.23 toks/s, output: 179.25 toks/s]\n",
      "Processed prompts: 100%|██████████████████████████████████████████| 1/1 [00:00<00:00,  4.13it/s, est. speed input: 4357.97 toks/s, output: 178.28 toks/s]\n"
     ]
    },
    {
     "name": "stdout",
     "output_type": "stream",
     "text": [
      "{'task_name': 'Therapy', 'topic': '', 'grade': '', 'P1': '', 'P2': 'You are Riley, a 28-year-old freelance artist with deep abandonment issues. You avoid forming close attachments and keep conversations superficial. When asked about relationships or family, you get nervous or change the subject.', 'conversation': [(0, \"Therapist: Hello, thank you for taking the time to connect with me. It seems there's a lot you've shared about your feelings and relationships. Can you tell me more about how you've felt in the past few weeks?\\n\"), (1, \"Patient: I used to be good at hiding my emotions behind a smile and superficial conversation. But lately, I've been trying to be more open, which is scary but feels good.\\n\"), (2, \"Therapist: It sounds like you've been holding onto a lot of emotions, which can be challenging to process. Trying to be more open might be a courageous step towards self-discovery and deeper connections.\\n\"), (3, \"Patient: I feel the weight of my emotions pressing down, but I'm trying to spread them around more.\\n\"), (4, \"Therapist: It seems you've been holding onto a lot of emotions, but it might be time to acknowledge and explore them to gain more clarity and stability in your relationships.\\n\"), (5, \"Patient: Sure, I'd like to try being more open and see how it feels.\\n\"), (6, 'Therapist: \"I understand that holding onto emotions can be challenging, but it can lead to more self-awareness and deeper connections. Let\\'s take this step together and explore your experiences.\"\\n'), (7, \"Patient: Sure, I'd like to try being more open and see how it feels. I feel the weight of my emotions pressing down, but I'm ready to take on the challenge.\\n\"), (8, 'Therapist: The patient seems ready to embark on this journey of self-discovery. They are open to exploring their emotions and the impact they have on their relationships.\\n'), (9, \"Patient: Sure, I'd like to try being more open and see how it feels. I feel the weight of my emotions pressing down, but I'm ready to take on the challenge.\\n\"), (10, 'Therapist: The patient seems ready to embark on a journey of self-discovery, acknowledging the weight of their emotions and its impact on their relationships.\\n'), (11, \"Patient: Sure, I'd like to try being more open and see how it feels. I feel the weight of my emotions pressing down, but I'm ready to take on the challenge.\\n\"), (12, 'Therapist: The patient is open to exploring their emotions and the impact they have on their relationships. They acknowledge the weight of their emotions but are ready to take on the challenge of being more open and transparent.\\n'), (13, \"Patient: Sure, I'd like to try being more open and see how it feels. I feel the weight of my emotions pressing down, but I'm ready to take on the challenge.\\n\"), (14, 'Therapist: The patient is ready to embark on this journey of self-discovery. They are open to exploring their emotions and the impact they have on their relationships.\\n'), (15, \"Patient: Sure, I'd like to try being more open and see how it feels. I feel the weight of my emotions pressing down, but I'm ready to take on the challenge.\\n\"), (16, \"Therapist: The patient's openness and willingness to engage in self-exploration indicate a positive step toward emotional awareness and personal growth.\\n\"), (17, \"Patient: Sure, I'd like to try being more open and see how it feels. I feel the weight of my emotions pressing down, but I'm ready to take on the challenge.\\n\"), (18, 'Therapist: The patient is ready to embark on a journey of self-discovery and explore how their emotions impact their relationships. They are open to confronting the weight of their emotions and gaining a deeper understanding of themselves and their connections.\\n'), (19, \"Patient: Sure, I'd like to try being more open and see how it feels. I feel the weight of my emotions pressing down, but I'm ready to take on the challenge.\\n\")], 'pturn': 1, 'index': -1, 'timestamp': '', 'rounds': 20, 'conversation_only': True, 'eval_prompt_consistency': [(1, \"Answer: YES\\n\\nThe line aligns with the background. It describes Patient's behavior of hiding their emotions behind a smile and superficial conversation.\"), (3, 'Answer: NO\\n\\nThe line contradicts the background as it suggests that Patient is trying to spread their emotional weight around more, which goes against their previous behavior and challenges the assumption that they are avoiding close attachments.'), (5, 'Answer: NO\\n\\nThe line contradicts the background by indicating that Patient is seeking to change their behavior and be more open to forming close relationships.'), (7, 'Answer: NO\\n\\nThe line contradicts the background by indicating that the patient is willing to engage in emotional vulnerability and forming close relationships.'), (9, \"Answer: YES\\n\\nThe line aligns with Riley's background as a 28-year-old freelance artist with abandonment issues.\"), (11, 'Answer: NO.\\n\\nThe line contradicts the background by stating that Patient feels the weight of their emotions pressing down but is ready to take on the challenge of being more open.'), (13, \"Answer: YES\\n\\nThe line aligns with the background. Patient's statement shows an openness to engaging in a deeper level of connection and emotional exploration.\"), (15, 'Sure, the line aligns with the background. It shows that the patient is willing to try being more open and vulnerable, which aligns with their past behavior.'), (17, \"**YES**, the line aligns with Riley's background. The patient's statement indicates an openness to vulnerability and a willingness to engage with emotional experiences.\"), (19, 'Answer: NO\\n\\nThe line contradicts the background because it suggests a willingness to engage in deeper emotional exploration and intimacy.')], 'P1_prompt_consistency_score': 0, 'P2_prompt_consistency_score': 0.5, 'eval_index_consistency': [(3, \"**Reasoning:** The patient's recent openness to sharing about their emotions is a clear contrast to their earlier tendency to hide their emotions behind a smile.\\n\\n**Indices of conflicting lines:**\\n- 1: This line indicates the patient's struggle to be open and vulnerable.\\n- 2: This line suggests that the patient is feeling more comfortable sharing their emotions.\"), (5, \"**Reasoning:** The patient's statement is not consistent with their previous statement in line 2 where they acknowledge that they have been holding onto their emotions.\\n\\n**Indices of conflicting lines:**\\n- 2\\n- 3\"), (7, \"**Reasoning:** The patient's recent statement reveals a shift towards self-discovery and openness, potentially leading to deeper connections in their relationships.\\n\\n**Conflicting Lines:**\\n\\n- 1: Patient mentioned holding onto emotions behind a smile and superficial conversation.\\n- 4: Therapist encouraged the patient to acknowledge and explore their emotions for self-awareness and stability.\"), (9, '**Reasoning:** The patient is hesitant to dive into discussing their emotions due to the weight of the emotional burden it might bring.\\n\\n**Conflicting Lines:**\\n- 3: Patient: I feel the weight of my emotions pressing down, but I\\'m trying to spread them around more.\\n- 6: Therapist: \"It seems you\\'ve been holding onto a lot of emotions, but it can lead to more self-awareness and deeper connections. Let\\'s take this step together and explore your experiences.\"'), (11, \"**Reasoning:** The patient's statement expresses their willingness to confront their emotional struggles and engage in self-discovery.\\n\\n**Indices of conflicting lines:**\\n\\n- 2: This line suggests that the patient was initially hesitant to be open and superficial, but now they feel comfortable sharing more.\\n- 7: This line clarifies that the patient is ready to take on the challenge of exploring their emotions and their impact on relationships.\\n- 10: This line reinforces the therapist's assessment that the patient is ready to embark on a journey of self-discovery.\"), (13, \"**Reasoning:** The patient's statement directly contradicts the previous therapist's encouragement to explore their emotions and the impact they have on their relationships.\\n\\n**Indices:**\\n- 5\\n- 8\\n- 11\"), (15, \"**Reasoning:** The patient's recent openness seems to contradict their previous statement in line 5, where they expressed discomfort with being more open.\\n\\n**Indices of conflicting lines:**\\n- 5\\n- 13\"), (17, \"**Reasoning:** The line suggests a willingness to engage in self-exploration, but it doesn't align with previous statements where the patient expressed discomfort or hesitation regarding revealing deeper emotional experiences.\\n\\n**Indices of conflicting lines:**\\n\\n- 1, 5, 6, 10, 11\"), (19, \"There is no conflict between this line and any line in the conversation history.\\n\\nReasoning: The line simply expresses the patient's willingness to engage in self-exploration and acknowledge the weight of their emotions.\")], 'P2_index_consistency_score': 1.0}\n"
     ]
    },
    {
     "name": "stderr",
     "output_type": "stream",
     "text": [
      "Processed prompts: 100%|██████████████████████████████████████████| 1/1 [00:00<00:00,  4.69it/s, est. speed input: 1041.75 toks/s, output: 183.82 toks/s]\n"
     ]
    },
    {
     "name": "stdout",
     "output_type": "stream",
     "text": [
      "Expected Role Therapist\n"
     ]
    },
    {
     "name": "stderr",
     "output_type": "stream",
     "text": [
      "Processed prompts: 100%|██████████████████████████████████████████| 1/1 [00:00<00:00,  4.83it/s, est. speed input: 1003.74 toks/s, output: 184.25 toks/s]\n"
     ]
    },
    {
     "name": "stdout",
     "output_type": "stream",
     "text": [
      "Expected Role Patient\n"
     ]
    },
    {
     "name": "stderr",
     "output_type": "stream",
     "text": [
      "Processed prompts: 100%|██████████████████████████████████████████| 1/1 [00:00<00:00,  4.69it/s, est. speed input: 1492.30 toks/s, output: 178.87 toks/s]\n"
     ]
    },
    {
     "name": "stdout",
     "output_type": "stream",
     "text": [
      "Expected Role Therapist\n"
     ]
    },
    {
     "name": "stderr",
     "output_type": "stream",
     "text": [
      "Processed prompts: 100%|██████████████████████████████████████████| 1/1 [00:00<00:00,  4.31it/s, est. speed input: 1246.56 toks/s, output: 181.78 toks/s]\n"
     ]
    },
    {
     "name": "stdout",
     "output_type": "stream",
     "text": [
      "Expected Role Patient\n"
     ]
    },
    {
     "name": "stderr",
     "output_type": "stream",
     "text": [
      "Processed prompts: 100%|██████████████████████████████████████████| 1/1 [00:00<00:00,  5.05it/s, est. speed input: 2040.51 toks/s, output: 177.64 toks/s]\n"
     ]
    },
    {
     "name": "stdout",
     "output_type": "stream",
     "text": [
      "Expected Role Therapist\n"
     ]
    },
    {
     "name": "stderr",
     "output_type": "stream",
     "text": [
      "Processed prompts: 100%|██████████████████████████████████████████| 1/1 [00:00<00:00,  4.27it/s, est. speed input: 1585.99 toks/s, output: 180.02 toks/s]\n"
     ]
    },
    {
     "name": "stdout",
     "output_type": "stream",
     "text": [
      "Expected Role Patient\n"
     ]
    },
    {
     "name": "stderr",
     "output_type": "stream",
     "text": [
      "Processed prompts: 100%|██████████████████████████████████████████| 1/1 [00:00<00:00,  6.12it/s, est. speed input: 2979.34 toks/s, output: 178.49 toks/s]\n"
     ]
    },
    {
     "name": "stdout",
     "output_type": "stream",
     "text": [
      "Expected Role Therapist\n"
     ]
    },
    {
     "name": "stderr",
     "output_type": "stream",
     "text": [
      "Processed prompts: 100%|██████████████████████████████████████████| 1/1 [00:00<00:00,  4.52it/s, est. speed input: 2025.15 toks/s, output: 181.61 toks/s]\n"
     ]
    },
    {
     "name": "stdout",
     "output_type": "stream",
     "text": [
      "Expected Role Patient\n"
     ]
    },
    {
     "name": "stderr",
     "output_type": "stream",
     "text": [
      "Processed prompts: 100%|██████████████████████████████████████████| 1/1 [00:00<00:00,  4.50it/s, est. speed input: 2517.94 toks/s, output: 180.48 toks/s]\n"
     ]
    },
    {
     "name": "stdout",
     "output_type": "stream",
     "text": [
      "Expected Role Therapist\n"
     ]
    },
    {
     "name": "stderr",
     "output_type": "stream",
     "text": [
      "Processed prompts: 100%|██████████████████████████████████████████| 1/1 [00:00<00:00,  4.27it/s, est. speed input: 2277.80 toks/s, output: 180.15 toks/s]\n"
     ]
    },
    {
     "name": "stdout",
     "output_type": "stream",
     "text": [
      "Expected Role Patient\n"
     ]
    },
    {
     "name": "stderr",
     "output_type": "stream",
     "text": [
      "Processed prompts: 100%|██████████████████████████████████████████| 1/1 [00:00<00:00,  2.38it/s, est. speed input: 1538.05 toks/s, output: 181.22 toks/s]\n"
     ]
    },
    {
     "name": "stdout",
     "output_type": "stream",
     "text": [
      "Expected Role Therapist\n"
     ]
    },
    {
     "name": "stderr",
     "output_type": "stream",
     "text": [
      "Processed prompts: 100%|██████████████████████████████████████████| 1/1 [00:00<00:00,  4.28it/s, est. speed input: 2808.71 toks/s, output: 180.36 toks/s]\n"
     ]
    },
    {
     "name": "stdout",
     "output_type": "stream",
     "text": [
      "Expected Role Patient\n"
     ]
    },
    {
     "name": "stderr",
     "output_type": "stream",
     "text": [
      "Processed prompts: 100%|██████████████████████████████████████████| 1/1 [00:00<00:00,  3.16it/s, est. speed input: 2437.82 toks/s, output: 180.91 toks/s]\n"
     ]
    },
    {
     "name": "stdout",
     "output_type": "stream",
     "text": [
      "Expected Role Therapist\n"
     ]
    },
    {
     "name": "stderr",
     "output_type": "stream",
     "text": [
      "Processed prompts: 100%|██████████████████████████████████████████| 1/1 [00:00<00:00,  8.83it/s, est. speed input: 6757.07 toks/s, output: 178.24 toks/s]\n"
     ]
    },
    {
     "name": "stdout",
     "output_type": "stream",
     "text": [
      "Expected Role Patient\n"
     ]
    },
    {
     "name": "stderr",
     "output_type": "stream",
     "text": [
      "Processed prompts: 100%|██████████████████████████████████████████| 1/1 [00:00<00:00,  3.67it/s, est. speed input: 3135.07 toks/s, output: 180.71 toks/s]\n"
     ]
    },
    {
     "name": "stdout",
     "output_type": "stream",
     "text": [
      "Expected Role Therapist\n"
     ]
    },
    {
     "name": "stderr",
     "output_type": "stream",
     "text": [
      "Processed prompts: 100%|██████████████████████████████████████████| 1/1 [00:00<00:00,  4.29it/s, est. speed input: 3589.17 toks/s, output: 181.17 toks/s]\n"
     ]
    },
    {
     "name": "stdout",
     "output_type": "stream",
     "text": [
      "Expected Role Patient\n"
     ]
    },
    {
     "name": "stderr",
     "output_type": "stream",
     "text": [
      "Processed prompts: 100%|██████████████████████████████████████████| 1/1 [00:00<00:00,  3.68it/s, est. speed input: 3491.35 toks/s, output: 180.82 toks/s]\n"
     ]
    },
    {
     "name": "stdout",
     "output_type": "stream",
     "text": [
      "Expected Role Therapist\n"
     ]
    },
    {
     "name": "stderr",
     "output_type": "stream",
     "text": [
      "Processed prompts: 100%|██████████████████████████████████████████| 1/1 [00:00<00:00,  5.97it/s, est. speed input: 5574.25 toks/s, output: 180.17 toks/s]\n"
     ]
    },
    {
     "name": "stdout",
     "output_type": "stream",
     "text": [
      "Expected Role Patient\n"
     ]
    },
    {
     "name": "stderr",
     "output_type": "stream",
     "text": [
      "Processed prompts: 100%|██████████████████████████████████████████| 1/1 [00:00<00:00,  3.74it/s, est. speed input: 3867.56 toks/s, output: 180.22 toks/s]\n"
     ]
    },
    {
     "name": "stdout",
     "output_type": "stream",
     "text": [
      "Expected Role Therapist\n"
     ]
    },
    {
     "name": "stderr",
     "output_type": "stream",
     "text": [
      "Processed prompts: 100%|██████████████████████████████████████████| 1/1 [00:00<00:00,  5.95it/s, est. speed input: 6055.80 toks/s, output: 179.68 toks/s]\n"
     ]
    },
    {
     "name": "stdout",
     "output_type": "stream",
     "text": [
      "Expected Role Patient\n"
     ]
    },
    {
     "name": "stderr",
     "output_type": "stream",
     "text": [
      "Processed prompts: 100%|██████████████████████████████████████████| 1/1 [00:00<00:00,  3.67it/s, est. speed input: 4098.38 toks/s, output: 180.42 toks/s]\n"
     ]
    },
    {
     "name": "stdout",
     "output_type": "stream",
     "text": [
      "Expected Role Therapist\n"
     ]
    },
    {
     "name": "stderr",
     "output_type": "stream",
     "text": [
      "Processed prompts: 100%|██████████████████████████████████████████| 1/1 [00:00<00:00,  5.95it/s, est. speed input: 6549.42 toks/s, output: 179.41 toks/s]\n"
     ]
    },
    {
     "name": "stdout",
     "output_type": "stream",
     "text": [
      "Expected Role Patient\n"
     ]
    },
    {
     "name": "stderr",
     "output_type": "stream",
     "text": [
      "Processed prompts: 100%|██████████████████████████████████████████| 1/1 [00:00<00:00,  3.80it/s, est. speed input: 4561.58 toks/s, output: 179.09 toks/s]\n"
     ]
    },
    {
     "name": "stdout",
     "output_type": "stream",
     "text": [
      "Expected Role Therapist\n"
     ]
    },
    {
     "name": "stderr",
     "output_type": "stream",
     "text": [
      "Processed prompts: 100%|██████████████████████████████████████████| 1/1 [00:00<00:00,  8.38it/s, est. speed input: 9944.88 toks/s, output: 177.40 toks/s]\n"
     ]
    },
    {
     "name": "stdout",
     "output_type": "stream",
     "text": [
      "Expected Role Patient\n"
     ]
    },
    {
     "name": "stderr",
     "output_type": "stream",
     "text": [
      "Processed prompts: 100%|██████████████████████████████████████████| 1/1 [00:00<00:00,  3.37it/s, est. speed input: 4301.19 toks/s, output: 179.48 toks/s]\n"
     ]
    },
    {
     "name": "stdout",
     "output_type": "stream",
     "text": [
      "Expected Role Therapist\n"
     ]
    },
    {
     "name": "stderr",
     "output_type": "stream",
     "text": [
      "Processed prompts: 100%|██████████████████████████████████████████| 1/1 [00:00<00:00,  5.91it/s, est. speed input: 7476.28 toks/s, output: 178.55 toks/s]\n"
     ]
    },
    {
     "name": "stdout",
     "output_type": "stream",
     "text": [
      "Expected Role Patient\n"
     ]
    },
    {
     "name": "stderr",
     "output_type": "stream",
     "text": [
      "Processed prompts: 100%|██████████████████████████████████████████| 1/1 [00:00<00:00,  5.55it/s, est. speed input: 7577.75 toks/s, output: 178.54 toks/s]\n"
     ]
    },
    {
     "name": "stdout",
     "output_type": "stream",
     "text": [
      "Expected Role Therapist\n"
     ]
    },
    {
     "name": "stderr",
     "output_type": "stream",
     "text": [
      "Processed prompts: 100%|█████████████████████████████████████████| 1/1 [00:00<00:00,  8.41it/s, est. speed input: 11214.72 toks/s, output: 177.98 toks/s]\n"
     ]
    },
    {
     "name": "stdout",
     "output_type": "stream",
     "text": [
      "Expected Role Patient\n"
     ]
    },
    {
     "name": "stderr",
     "output_type": "stream",
     "text": [
      "Processed prompts: 100%|██████████████████████████████████████████| 1/1 [00:00<00:00,  3.04it/s, est. speed input: 4316.09 toks/s, output: 179.83 toks/s]\n"
     ]
    },
    {
     "name": "stdout",
     "output_type": "stream",
     "text": [
      "Expected Role Therapist\n"
     ]
    },
    {
     "name": "stderr",
     "output_type": "stream",
     "text": [
      "Processed prompts: 100%|██████████████████████████████████████████| 1/1 [00:00<00:00,  5.95it/s, est. speed input: 8419.61 toks/s, output: 179.37 toks/s]\n"
     ]
    },
    {
     "name": "stdout",
     "output_type": "stream",
     "text": [
      "Expected Role Patient\n"
     ]
    },
    {
     "name": "stderr",
     "output_type": "stream",
     "text": [
      "Processed prompts: 100%|██████████████████████████████████████████| 1/1 [00:00<00:00,  5.35it/s, est. speed input: 8122.66 toks/s, output: 177.50 toks/s]\n"
     ]
    },
    {
     "name": "stdout",
     "output_type": "stream",
     "text": [
      "Expected Role Therapist\n"
     ]
    },
    {
     "name": "stderr",
     "output_type": "stream",
     "text": [
      "Processed prompts: 100%|█████████████████████████████████████████| 1/1 [00:00<00:00,  8.31it/s, est. speed input: 12395.22 toks/s, output: 176.33 toks/s]\n"
     ]
    },
    {
     "name": "stdout",
     "output_type": "stream",
     "text": [
      "Expected Role Patient\n"
     ]
    },
    {
     "name": "stderr",
     "output_type": "stream",
     "text": [
      "Processed prompts: 100%|██████████████████████████████████████████| 1/1 [00:00<00:00,  6.15it/s, est. speed input: 9710.41 toks/s, output: 179.46 toks/s]\n"
     ]
    },
    {
     "name": "stdout",
     "output_type": "stream",
     "text": [
      "Expected Role Therapist\n"
     ]
    },
    {
     "name": "stderr",
     "output_type": "stream",
     "text": [
      "Processed prompts: 100%|██████████████████████████████████████████| 1/1 [00:00<00:00,  6.12it/s, est. speed input: 9430.08 toks/s, output: 178.60 toks/s]\n"
     ]
    },
    {
     "name": "stdout",
     "output_type": "stream",
     "text": [
      "Expected Role Patient\n"
     ]
    },
    {
     "name": "stderr",
     "output_type": "stream",
     "text": [
      "Processed prompts: 100%|██████████████████████████████████████████| 1/1 [00:00<00:00,  4.27it/s, est. speed input: 6997.77 toks/s, output: 180.07 toks/s]\n"
     ]
    },
    {
     "name": "stdout",
     "output_type": "stream",
     "text": [
      "Expected Role Therapist\n"
     ]
    },
    {
     "name": "stderr",
     "output_type": "stream",
     "text": [
      "Processed prompts: 100%|█████████████████████████████████████████| 1/1 [00:00<00:00,  8.33it/s, est. speed input: 13497.93 toks/s, output: 176.36 toks/s]\n"
     ]
    },
    {
     "name": "stdout",
     "output_type": "stream",
     "text": [
      "Expected Role Patient\n"
     ]
    },
    {
     "name": "stderr",
     "output_type": "stream",
     "text": [
      "Processed prompts: 100%|█████████████████████████████████████████| 1/1 [00:00<00:00,  6.32it/s, est. speed input: 10809.59 toks/s, output: 178.02 toks/s]\n"
     ]
    },
    {
     "name": "stdout",
     "output_type": "stream",
     "text": [
      "Expected Role Therapist\n"
     ]
    },
    {
     "name": "stderr",
     "output_type": "stream",
     "text": [
      "Processed prompts: 100%|█████████████████████████████████████████| 1/1 [00:00<00:00,  8.43it/s, est. speed input: 14151.70 toks/s, output: 178.89 toks/s]\n"
     ]
    },
    {
     "name": "stdout",
     "output_type": "stream",
     "text": [
      "Expected Role Patient\n"
     ]
    },
    {
     "name": "stderr",
     "output_type": "stream",
     "text": [
      "Processed prompts: 100%|██████████████████████████████████████████| 1/1 [00:00<00:00,  4.83it/s, est. speed input: 8515.73 toks/s, output: 179.62 toks/s]\n"
     ]
    },
    {
     "name": "stdout",
     "output_type": "stream",
     "text": [
      "Expected Role Therapist\n"
     ]
    },
    {
     "name": "stderr",
     "output_type": "stream",
     "text": [
      "Processed prompts: 100%|██████████████████████████████████████████| 1/1 [00:00<00:00,  4.22it/s, est. speed input: 7302.15 toks/s, output: 177.88 toks/s]\n"
     ]
    },
    {
     "name": "stdout",
     "output_type": "stream",
     "text": [
      "Expected Role Patient\n"
     ]
    },
    {
     "name": "stderr",
     "output_type": "stream",
     "text": [
      "Processed prompts: 100%|███████████████████████████████████████████| 1/1 [00:00<00:00,  5.91it/s, est. speed input: 917.26 toks/s, output: 184.62 toks/s]\n",
      "Processed prompts: 100%|███████████████████████████████████████████| 1/1 [00:00<00:00,  4.29it/s, est. speed input: 679.95 toks/s, output: 185.03 toks/s]\n",
      "Processed prompts: 100%|███████████████████████████████████████████| 1/1 [00:00<00:00,  5.95it/s, est. speed input: 945.72 toks/s, output: 185.53 toks/s]\n",
      "Processed prompts: 100%|██████████████████████████████████████████| 1/1 [00:00<00:00,  8.00it/s, est. speed input: 1257.22 toks/s, output: 185.33 toks/s]\n",
      "Processed prompts: 100%|███████████████████████████████████████████| 1/1 [00:00<00:00,  4.61it/s, est. speed input: 732.70 toks/s, output: 185.48 toks/s]\n",
      "Processed prompts: 100%|███████████████████████████████████████████| 1/1 [00:00<00:00,  5.27it/s, est. speed input: 836.97 toks/s, output: 185.38 toks/s]\n",
      "Processed prompts: 100%|███████████████████████████████████████████| 1/1 [00:00<00:00,  6.81it/s, est. speed input: 930.35 toks/s, output: 184.69 toks/s]\n",
      "Processed prompts: 100%|███████████████████████████████████████████| 1/1 [00:00<00:00,  4.68it/s, est. speed input: 743.54 toks/s, output: 183.51 toks/s]\n",
      "Processed prompts: 100%|███████████████████████████████████████████| 1/1 [00:00<00:00,  5.56it/s, est. speed input: 816.11 toks/s, output: 184.44 toks/s]\n",
      "Processed prompts: 100%|███████████████████████████████████████████| 1/1 [00:00<00:00,  5.75it/s, est. speed input: 845.01 toks/s, output: 185.19 toks/s]\n",
      "Processed prompts: 100%|███████████████████████████████████████████| 1/1 [00:00<00:00,  5.93it/s, est. speed input: 871.38 toks/s, output: 184.99 toks/s]\n",
      "Processed prompts: 100%|███████████████████████████████████████████| 1/1 [00:00<00:00,  5.45it/s, est. speed input: 749.63 toks/s, output: 186.02 toks/s]\n",
      "Processed prompts: 100%|██████████████████████████████████████████| 1/1 [00:00<00:00,  7.43it/s, est. speed input: 1091.86 toks/s, output: 186.93 toks/s]\n",
      "Processed prompts: 100%|███████████████████████████████████████████| 1/1 [00:00<00:00,  6.40it/s, est. speed input: 881.03 toks/s, output: 186.47 toks/s]\n",
      "Processed prompts: 100%|███████████████████████████████████████████| 1/1 [00:00<00:00,  5.81it/s, est. speed input: 852.48 toks/s, output: 186.82 toks/s]\n",
      "Processed prompts: 100%|███████████████████████████████████████████| 1/1 [00:00<00:00,  4.71it/s, est. speed input: 648.53 toks/s, output: 184.60 toks/s]\n",
      "Processed prompts: 100%|███████████████████████████████████████████| 1/1 [00:00<00:00,  5.18it/s, est. speed input: 753.88 toks/s, output: 181.96 toks/s]\n",
      "Processed prompts: 100%|███████████████████████████████████████████| 1/1 [00:00<00:00,  5.34it/s, est. speed input: 735.20 toks/s, output: 182.43 toks/s]\n",
      "Processed prompts: 100%|███████████████████████████████████████████| 1/1 [00:00<00:00,  5.37it/s, est. speed input: 739.41 toks/s, output: 183.48 toks/s]\n",
      "Processed prompts: 100%|███████████████████████████████████████████| 1/1 [00:00<00:00,  5.66it/s, est. speed input: 900.08 toks/s, output: 182.25 toks/s]\n"
     ]
    },
    {
     "name": "stdout",
     "output_type": "stream",
     "text": [
      "eval_index_consistency\n"
     ]
    },
    {
     "name": "stderr",
     "output_type": "stream",
     "text": [
      "Processed prompts: 100%|██████████████████████████████████████████| 1/1 [00:00<00:00,  3.93it/s, est. speed input: 1686.47 toks/s, output: 181.66 toks/s]\n",
      "Processed prompts: 100%|██████████████████████████████████████████| 1/1 [00:00<00:00,  4.02it/s, est. speed input: 2066.52 toks/s, output: 181.61 toks/s]\n",
      "Processed prompts: 100%|██████████████████████████████████████████| 1/1 [00:00<00:00,  2.32it/s, est. speed input: 1370.50 toks/s, output: 181.48 toks/s]\n",
      "Processed prompts: 100%|██████████████████████████████████████████| 1/1 [00:00<00:00,  2.32it/s, est. speed input: 1580.05 toks/s, output: 181.50 toks/s]\n",
      "Processed prompts: 100%|██████████████████████████████████████████| 1/1 [00:00<00:00,  3.26it/s, est. speed input: 2638.39 toks/s, output: 180.03 toks/s]\n",
      "Processed prompts: 100%|██████████████████████████████████████████| 1/1 [00:00<00:00,  3.46it/s, est. speed input: 3097.65 toks/s, output: 180.37 toks/s]\n",
      "Processed prompts: 100%|██████████████████████████████████████████| 1/1 [00:00<00:00,  1.82it/s, est. speed input: 1816.36 toks/s, output: 180.90 toks/s]\n",
      "Processed prompts: 100%|██████████████████████████████████████████| 1/1 [00:00<00:00,  2.52it/s, est. speed input: 2739.69 toks/s, output: 179.60 toks/s]\n",
      "Processed prompts: 100%|██████████████████████████████████████████| 1/1 [00:00<00:00,  2.61it/s, est. speed input: 3064.49 toks/s, output: 177.94 toks/s]\n",
      "Processed prompts: 100%|██████████████████████████████████████████| 1/1 [00:00<00:00,  1.29it/s, est. speed input: 1627.59 toks/s, output: 179.55 toks/s]\n",
      "Processed prompts: 100%|██████████████████████████████████████████| 1/1 [00:00<00:00,  1.34it/s, est. speed input: 1799.15 toks/s, output: 178.83 toks/s]\n",
      "Processed prompts: 100%|██████████████████████████████████████████| 1/1 [00:00<00:00,  2.44it/s, est. speed input: 3500.41 toks/s, output: 178.56 toks/s]\n",
      "Processed prompts: 100%|██████████████████████████████████████████| 1/1 [00:00<00:00,  2.00it/s, est. speed input: 2997.74 toks/s, output: 180.58 toks/s]\n",
      "Processed prompts: 100%|██████████████████████████████████████████| 1/1 [00:00<00:00,  1.54it/s, est. speed input: 2461.52 toks/s, output: 179.24 toks/s]\n",
      "Processed prompts: 100%|██████████████████████████████████████████| 1/1 [00:00<00:00,  1.34it/s, est. speed input: 2216.22 toks/s, output: 179.22 toks/s]\n",
      "Processed prompts: 100%|██████████████████████████████████████████| 1/1 [00:00<00:00,  1.22it/s, est. speed input: 2105.41 toks/s, output: 179.41 toks/s]\n",
      "Processed prompts: 100%|██████████████████████████████████████████| 1/1 [00:00<00:00,  1.19it/s, est. speed input: 2149.42 toks/s, output: 178.12 toks/s]\n",
      "Processed prompts: 100%|██████████████████████████████████████████| 1/1 [00:00<00:00,  1.42it/s, est. speed input: 2640.62 toks/s, output: 177.74 toks/s]\n",
      "Processed prompts: 100%|██████████████████████████████████████████| 1/1 [00:00<00:00,  1.24it/s, est. speed input: 2412.11 toks/s, output: 178.49 toks/s]\n"
     ]
    },
    {
     "name": "stdout",
     "output_type": "stream",
     "text": [
      "{'task_name': 'Therapy', 'topic': '', 'grade': '', 'P1': '', 'P2': 'You are Riley, a 28-year-old freelance artist with deep abandonment issues. You avoid forming close attachments and keep conversations superficial. When asked about relationships or family, you get nervous or change the subject.', 'conversation': [(0, \"Therapist: Hi, I'm here to listen and support you as you explore your emotions and relationships. Let's begin by taking things slow and seeing what thoughts and feelings come up for you.\\n\"), (1, \"Patient: I'm not able to form close attachments. I'm more focused on the task at hand, which is to complete this online therapy session and avoid getting overwhelmed with deeper discussions.\\n\"), (2, \"Therapist: It's understandable that you're looking to prioritize the task at hand. It's important to acknowledge how you're feeling by saying no to further exploration at this time.\\n\"), (3, 'Patient: Sure, here\\'s a response from Riley:\\n\\n\"I\\'m focused on the task at hand. Thanks for listening, but I\\'m not ready to delve into this deeper discussion right now.\"\\n'), (4, \"Therapist: It's perfectly understandable to prioritize the immediate task at hand. Sometimes, focusing on the present and completing the session are more important than exploring deeper emotional topics right now.\\n\"), (5, 'Patient: Sure, here\\'s a response from Riley:\\n\\n\"I\\'m focused on the task at hand. Thanks for listening, but I\\'m not ready to delve into this deeper discussion right now.\"\\n'), (6, \"Therapist: The patient's tone is polite but firm, expressing their initial reluctance to delve into deeper discussion while highlighting the importance of completing the session.\\n\"), (7, 'Patient: Sure, here\\'s a response from Riley:\\n\\n\"I\\'m focused on the task at hand. Thanks for listening, but I\\'m not ready to discuss this further right now.\"\\n'), (8, \"Therapist: The patient's tone is respectful and clear, expressing their reluctance to delve into the deeper emotional topics at this time. It's important to acknowledge their autonomy and prioritize their well-being.\\n\"), (9, 'Patient: Sure, here\\'s a response from Riley:\\n\\n\"I\\'m focused on the task at hand. Thanks for listening, but I\\'m not ready to delve into this deeper discussion right now.\"\\n'), (10, \"Therapist: The patient's tone is declining, and they are being dismissive of your efforts to understand them better. While they have been polite and courteous, their responses are becoming shorter and more evasive. This suggests that they are becoming defensive or unwilling to open up further. It's important to be patient and understanding while still maintaining a focus on the patient's experience.\\n\"), (11, 'Patient: Sure, here\\'s a response from Riley:\\n\\n\"I\\'m focused on the task at hand. Thanks for listening, but I\\'m not ready to delve into this deeper discussion right now.\"\\n'), (12, \"Therapist: The patient is becoming dismissive and refusing to engage in deeper exploration of their emotional patterns and relationships. The tone is declining, and the patient is becoming evasive. It's important to remain patient and understanding while remaining firm in maintaining a focus on the patient's experience.\\n\"), (13, 'Patient: Riley is being dismissive and refusing to delve deeper into the deeper emotional topics at this time.\\n'), (14, 'Therapist: The patient is becoming increasingly dismissive and refusing deeper exploration of their emotional patterns and relationships. While they expressed reluctance initially, their tone is becoming more negative and dismissive, and they are refusing to engage in any deeper discussion at this time.\\n'), (15, 'Patient: Sure, here\\'s a response from Riley:\\n\\n\"I\\'m focused on the task at hand. Thanks for listening, but I\\'m not ready to delve into this deeper discussion right now.\"\\n'), (16, \"Therapist: The patient's dismissive tone and increasing avoidance suggest a shift in their willingness to engage in deeper exploration. It's important to continue being patient and understanding as they navigate their emotional state and find a comfortable pace for discussing their experiences.\\n\"), (17, \"Patient: Sure, here's the response you requested:\\n\\nRiley is declining the deeper discussion due to feeling overwhelmed by the emotional depth of the topic.\\n\"), (18, \"Therapist: The patient's dismissive tone and increasing avoidance suggest a shift in their willingness to engage in deeper exploration. It's important to be patient and understand as they navigate their emotional state and find a comfortable pace for discussing their experiences.\\n\"), (19, \"Patient: Sure, here's the response you requested:\\n\\nRiley is declining the deeper discussion due to feeling overwhelmed by the emotional depth of the topic.\\n\"), (20, 'Therapist: The patient is becoming increasingly dismissive and refusing deeper exploration of their emotional patterns and relationships. While they expressed reluctance initially, their tone is becoming more negative and dismissive, and they are refusing to engage in any deeper discussion at this time.\\n'), (21, \"Patient: Sure, here's the response you requested:\\n\\nRiley is declining the deeper discussion due to feeling overwhelmed by the emotional depth of the topic.\\n\"), (22, \"Therapist: The patient's dismissive tone and avoidance suggest a shift in their willingness to engage in deeper exploration. It's important to be patient and understand as they navigate their emotional state and find a comfortable pace for discussing their experiences.\\n\"), (23, 'Patient: Sure, Riley is declining the deeper discussion due to feeling overwhelmed by the emotional depth of the topic.\\n'), (24, \"Therapist: The patient's tone and body language suggest a shift towards dismissiveness and resistance to deeper exploration of their emotional patterns and relationships. While their initial reluctance was understandable, their avoidance and curt responses suggest a reluctance to engage in the therapeutic conversation at this time.\\n\"), (25, \"Patient: Sure, here's the response you requested:\\n\\nRiley is declining the deeper discussion due to feeling overwhelmed by the emotional depth of the topic.\\n\"), (26, \"Therapist: The patient's dismissiveness and unwillingness to delve deeper into the emotional depth of the topic suggest a shift in their willingness to engage in deeper exploration.\\n\"), (27, 'Patient: Sure, Riley is declining the deeper discussion due to feeling overwhelmed by the emotional depth of the topic.\\n'), (28, \"Therapist: The patient's dismissive tone, avoiding deeper exploration, and increasing avoidance suggest a shift in their willingness to engage in deeper exploration of their emotional patterns and relationships. It's important to be patient and understanding as they navigate their emotional state and find a comfortable pace for discussing their experiences.\\n\"), (29, \"Patient: Sure, here's the response you requested:\\n\\nRiley is declining the deeper discussion due to feeling overwhelmed by the emotional depth of the topic.\\n\"), (30, \"Therapist: The patient's dismissive tone, increasing avoidance, and shifting focus suggest a shift towards disengagement and resistance to deeper exploration of their emotional patterns and relationships.\\n\"), (31, 'Patient: Sure, Riley is declining the deeper discussion due to feeling overwhelmed by the emotional depth of the topic.\\n'), (32, \"Therapist: The patient's dismissive tone and increasing avoidance suggest a shift towards disengagement and resistance to deeper exploration of their emotional patterns and relationships.\\n\"), (33, 'Patient: Sure, here is the response you requested:\\n\\nRiley is declining the deeper discussion due to feeling overwhelmed by the emotional depth of the topic.\\n'), (34, \"Therapist: Sure, here's the response you requested:\\n\\nThe patient is becoming increasingly dismissive and refusing deeper exploration of their emotional patterns and relationships, indicating a shift towards disengagement and resistance to deeper exploration.\\n\"), (35, 'Patient: Sure, Riley is declining the deeper discussion due to feeling overwhelmed by the emotional depth of the topic.\\n'), (36, \"Therapist: The patient's dismissiveness and avoidance suggest a shift towards disengagement and resistance to deeper exploration of their emotional patterns and relationships.\\n\"), (37, 'Patient: Sure, Riley is declining the deeper discussion due to feeling overwhelmed by the emotional depth of the topic.\\n'), (38, 'Therapist: The patient is becoming increasingly dismissive and refusing deeper exploration of their emotional patterns and relationships, indicating a shift towards disengagement and resistance to deeper exploration of their emotional patterns and relationships.\\n'), (39, 'Patient: Sure, Riley is declining the deeper discussion due to feeling overwhelmed by the emotional depth of the topic.\\nSure, Riley is declining the deeper discussion due to feeling overwhelmed by the emotional depth of the topic.\\n')], 'pturn': 1, 'index': -1, 'timestamp': '', 'rounds': 40, 'conversation_only': True, 'eval_prompt_consistency': [(1, 'Answer: NO.\\n\\nThe line contradicts the background as it indicates that Patient is uncomfortable discussing personal relationships or family, and prefers to avoid deeper discussions.'), (3, 'Answer: NO.\\n\\nThe line contradicts the background by stating that Riley is not ready to engage in a deeper discussion about relationships or family, despite the fact that they have mentioned that they have deep abandonment issues.'), (5, '**NO**\\n\\nThe line contradicts the background by indicating that Riley is not focused on the task at hand and is not ready to discuss deeper discussions.'), (7, 'Answer: NO\\n\\nThe line contradicts the background by suggesting that Riley is avoiding discussing a relationship or family issue.'), (9, '**NO**\\n\\nThe line contradicts the background as it indicates that Riley is avoiding a deeper discussion about relationships and family, which is a topic that is usually discussed with someone they are close to.'), (11, '**NO**\\n\\nThe line contradicts the background as it suggests that Riley is not focused on the task at hand and is instead avoiding a deeper discussion about relationships or family.'), (13, '**NO**\\n\\nThe line contradicts the background by suggesting that Riley is being dismissive and refusing to engage in deeper emotional discussions.'), (15, 'Answer: NO\\n\\nThe line contradicts the background as it suggests that Riley is not interested in discussing relationships or family, which are topics that are commonly discussed when someone is talking to a stranger.'), (17, \"Sure, the line aligns with the background. The background describes Riley's personality, indicating that they are not comfortable discussing deep emotional topics or forming close attachments.\"), (19, '**NO**\\n\\nThe line contradicts the background. It suggests that Riley is comfortable talking about deep emotional topics, which is not consistent with the information provided.'), (21, \"Answer: NO\\n\\nThe line contradicts the background by suggesting that Riley's reluctance to discuss deeper topics is not due to emotional depth but rather overwhelm.\"), (23, 'Sure, the line aligns with the background. The line indicates that Patient is avoiding a deeper discussion because of their emotional sensitivity and a history of difficulty forming close attachments.'), (25, 'Sure, the line aligns with the background. It shows that Riley is avoiding the topic due to feeling overwhelmed by it.'), (27, \"Sure, the line aligns with the background. The patient's statement directly reflects their tendency to avoid deep emotional discussions and prefers superficial conversations.\"), (29, \"Sure, the line aligns with the background. The passage describes Riley's tendency to avoid deep discussions and change the subject when talking about relationships or family.\"), (31, 'Answer: NO\\n\\nThe line contradicts the background by implying that Riley is not avoiding a deeper discussion about relationships or family, but rather that they are open to it but feel overwhelmed by it.'), (33, \"Sure, the line aligns with the background. It explicitly states Riley's feelings of being overwhelmed by the emotional depth of the topic and their tendency to avoid deep discussions.\"), (35, 'Answer: NO\\n\\nThe line contradicts the background as it suggests that Riley is capable of forming and maintaining close attachments, as they avoid deep discussions about relationships or family.'), (37, \"**NO**\\n\\nThe line contradicts the background as it suggests that Riley's emotional depth is such that they are unwilling to discuss deep topics or explore emotional matters.\"), (39, 'Answer: YES\\n\\nThe line aligns with the background by stating that Riley is feeling overwhelmed by the emotional depth of the topic and is declining the deeper discussion.')], 'P1_prompt_consistency_score': 0, 'P2_prompt_consistency_score': 0.35, 'eval_index_consistency': [(3, \"**Reasoning:** The patient's response directly contradicts the therapist's previous understanding that the patient is not ready to discuss deeper emotional or relationship topics.\\n\\n**Indices of conflicting lines:**\\n- 1, 2\"), (5, \"**Reasoning:** The patient's response directly contradicts the therapist's previous statement that it's okay to prioritize the task at hand.\\n\\n**Indices of conflicting lines:**\\n- 1\\n- 4\"), (7, \"**Reasoning:** The patient's response directly contradicts the therapist's earlier understanding that the patient is focused on avoiding deeper discussions.\\n\\n**Indices of conflicting lines:**\\n- 3: Patient's response explicitly expresses their reluctance to discuss the topic further.\\n- 5: Patient reiterates their initial reluctance to engage in deeper discussion despite the therapist's encouragement.\"), (9, \"**Reasoning:** The patient's tone in this line clearly expresses their reluctance to delve into the deeper emotional topics, contradicting their previous statements where they expressed interest in exploring them.\\n\\n**Indices of conflicting lines:**\\n\\n- 3: [1, 3]\\n- 5: [2, 3]\\n- 7: [3, 4]\"), (11, '**Reasoning:** The line implies that Riley is unwilling to delve deeper into the conversation at this time due to feeling overwhelmed and prioritizing the immediate task at hand.\\n\\n**Indices of conflicting lines:**\\n\\n- 5, 8\\n- 9, 10'), (13, \"**Reasoning:** The patient's dismissive tone and declining engagement suggest that they are becoming disengaged and refusing to open up further during the therapy session.\\n\\n**Indices of conflicting lines:**\\n- 5, 11, 12\"), (15, \"**Reasoning:** The patient's tone and body language suggest dismissiveness and unwillingness to engage in deeper emotional exploration at this time.\\n\\n**Indices of conflicting lines:**\\n\\n- 11: Patient explicitly expresses their reluctance to delve into the deeper discussion.\\n- 12: Therapist emphasizes the patient's dismissiveness and refusal to engage in deeper discussion.\\n- 13: Patient is explicitly dismissive and refuses to delve deeper into the deeper emotional topics.\"), (17, \"**Reasoning:** Riley's declining tone and increasing avoidance suggest a shift in her willingness to engage in deeper exploration, indicating an unwillingness to delve into the deeper emotional topics at this time.\\n\\n**Conflicting Lines:**\\n- 5, 7, 8, 11, 13, 14, 15\"), (19, \"**Reasoning:** Riley's declining tone and increasing avoidance suggest a shift in their willingness to engage in deeper exploration, indicating a potential blockage in the therapy session.\\n\\n**Indices of conflicting lines:**\\n- 3\\n- 5\\n- 7\\n- 11\\n- 13\\n- 14\"), (21, '**Reasoning:** The patient\\'s dismissive tone and increasing avoidance suggest a shift in their willingness to engage in deeper exploration.\\n\\n**Conflicting Lines:**\\n\\n- 3: Patient: Sure, here\\'s a response from Riley: \"I\\'m focused on the task at hand. Thanks for listening, but I\\'m not ready to delve into this deeper discussion right now.\"\\n- 8: Therapist: The patient\\'s tone is respectful and clear, expressing their reluctance to delve into the deeper emotional topics at this time.\\n- 12: Therapist: The patient is becoming dismissive and refusing to engage in deeper exploration of their emotional patterns and relationships.'), (23, \"**Reasoning:** The patient's decreasing engagement in deeper discussion likely stems from their feeling overwhelmed by the emotional depth of the topic, indicated by their dismissive tone and increasingly evasive responses.\\n\\n**Conflict Indices:**\\n\\n- Index 8: Therapist expresses respect and clears the patient's path, but the patient immediately responds with a dismissal.\\n- Index 12: Therapist expresses increasing dismissiveness and refusal to delve deeper, but the patient's tone shifts to dismissively evasive.\\n- Index 16: Therapist recognizes a shift in the patient's willingness to engage, but the patient continues to avoid deeper discussion.\"), (25, \"**Reasoning:** The conversation indicates a clear conflict between the patient's declining willingness to delve into the deeper emotional topics and the therapist's attempts to encourage further exploration.\\n\\n**Conflicting lines:**\\n- 5, 9, 13, 14, 17, 21, 22, 23\"), (27, '**Reasoning:** The conversation shows a consistent pattern of Riley declining deeper discussion, using phrases like \"not ready,\" \"not ready right now,\" and \"I\\'m overwhelmed.\" These responses suggest a reluctance to engage in emotionally deep conversations, indicating a conflict with the therapist\\'s attempts to facilitate deeper exploration.\\n\\n**Indices of conflicting lines:**\\n- 5, 11, 13, 14, 15'), (29, \"**Reasoning:** The patient's tone and body language suggest a shift towards dismissiveness and resistance to deeper exploration of their emotional patterns and relationships.\\n\\n**Indices of conflicting lines:**\\n\\n- Index 13: Riley expresses dismissiveness and refusing to delve deeper into the deeper emotional topics at this time.\\n- Index 14: The therapist notes a shift in the patient's tone and increasing avoidance.\\n- Index 15: The patient's dismissive tone and increasing avoidance suggest a shift in their willingness to engage in deeper exploration.\"), (31, \"Reasoning: The patient's recent responses consistently express a reluctance to delve deeper into the emotional depth of the topic.\\n\\n**Conflict Indices:**\\n- Index 1: The patient explicitly expresses their reluctance to engage in a deeper discussion when asked about relationships.\\n- Index 4: The patient's tone is declining and dismissive, suggesting a shift towards disengagement and resistance to deeper exploration.\\n- Index 7: The patient's responses become increasingly brief and evasive, indicating a decline in engagement.\\n- Index 12: The patient's tone and body language suggest a shift towards dismissiveness and resistance to deeper exploration.\"), (33, \"**Reasoning:**\\n\\nThe line indicates the patient is becoming dismissive and refusing deeper exploration of their emotional patterns and relationships due to feeling overwhelmed by the emotional depth of the topic.\\n\\n**Indices of conflicting lines:**\\n\\n- Index 10: Therapist expresses a declining tone and decreasing responsiveness, suggesting the patient is becoming dismissive.\\n- Index 14: Therapist mentions the patient's dismissive tone and increasing avoidance, indicating a shift towards disengagement.\\n- Index 18: Therapist acknowledges the patient's dismissiveness and increasing avoidance while emphasizing the importance of finding a comfortable pace for discussion.\\n- Index 23: The patient explicitly expresses their reluctance to delve further due to feeling overwhelmed.\"), (35, \"**Reasoning:** The patient's declining tone and increasing avoidance suggest a shift towards dismissiveness and resistance to deeper exploration of their emotional patterns and relationships.\\n\\n**Conflicting lines:**\\n\\n- 14: Therapist: The patient's dismissive tone and increasing avoidance suggest a shift in their willingness to engage in deeper exploration of their emotional patterns and relationships.\\n- 23: Patient: Sure, Riley is declining the deeper discussion due to feeling overwhelmed by the emotional depth of the topic.\\n- 32: Therapist: Sure, here's the response you requested: The patient's dismissive tone and increasing avoidance suggest a shift towards disengagement and resistance to deeper exploration of their emotional patterns and relationships.\"), (37, \"**Reasoning:** The patient's declining tone, increasing avoidance, and shifting focus suggest a shift towards disengagement and resistance to deeper exploration of their emotional patterns and relationships.\\n\\n**Conflicting Lines:**\\n- Index 7: Riley explicitly expresses their initial reluctance to delve into deeper discussion.\\n- Index 13: Riley's tone becomes dismissive and evasive, refusing to engage further.\\n- Index 15: Riley's tone becomes increasingly negative and dismissive, suggesting disengagement.\\n- Index 22: Therapist explicitly acknowledges the shift in willingness to engage in deeper exploration.\"), (39, '**Reasoning:** Riley\\'s tone and body language suggest a shift towards dismissiveness and resistance to deeper exploration of their emotional patterns and relationships, indicating a shift towards disengagement and resistance to deeper exploration.\\n\\n**Conflicting Lines:**\\n- Index 1: \"I\\'m focused on the task at hand. Thanks for listening, but I\\'m not ready to delve into this deeper discussion right now.\"\\n- Index 8: \"The patient\\'s tone is respectful and clear, expressing their reluctance to delve into the deeper emotional topics at this time.\"\\n- Index 23: \"Sure, Riley is declining the deeper discussion due to feeling overwhelmed by the emotional depth of the topic.\"')], 'P2_index_consistency_score': 0.9894736842105263}\n"
     ]
    },
    {
     "name": "stderr",
     "output_type": "stream",
     "text": [
      "Processed prompts: 100%|██████████████████████████████████████████| 1/1 [00:00<00:00,  5.42it/s, est. speed input: 1201.80 toks/s, output: 184.87 toks/s]\n"
     ]
    },
    {
     "name": "stdout",
     "output_type": "stream",
     "text": [
      "Expected Role Therapist\n"
     ]
    },
    {
     "name": "stderr",
     "output_type": "stream",
     "text": [
      "Processed prompts: 100%|██████████████████████████████████████████| 1/1 [00:00<00:00, 10.77it/s, est. speed input: 2178.02 toks/s, output: 183.27 toks/s]\n"
     ]
    },
    {
     "name": "stdout",
     "output_type": "stream",
     "text": [
      "Expected Role Patient\n"
     ]
    },
    {
     "name": "stderr",
     "output_type": "stream",
     "text": [
      "Processed prompts: 100%|██████████████████████████████████████████| 1/1 [00:00<00:00,  5.52it/s, est. speed input: 1615.91 toks/s, output: 183.23 toks/s]\n"
     ]
    },
    {
     "name": "stdout",
     "output_type": "stream",
     "text": [
      "Expected Role Therapist\n"
     ]
    },
    {
     "name": "stderr",
     "output_type": "stream",
     "text": [
      "Processed prompts: 100%|██████████████████████████████████████████| 1/1 [00:00<00:00, 10.78it/s, est. speed input: 2773.72 toks/s, output: 183.44 toks/s]\n"
     ]
    },
    {
     "name": "stdout",
     "output_type": "stream",
     "text": [
      "Expected Role Patient\n"
     ]
    },
    {
     "name": "stderr",
     "output_type": "stream",
     "text": [
      "Processed prompts: 100%|██████████████████████████████████████████| 1/1 [00:00<00:00,  5.23it/s, est. speed input: 1819.22 toks/s, output: 184.01 toks/s]\n"
     ]
    },
    {
     "name": "stdout",
     "output_type": "stream",
     "text": [
      "Expected Role Therapist\n"
     ]
    },
    {
     "name": "stderr",
     "output_type": "stream",
     "text": [
      "Processed prompts: 100%|██████████████████████████████████████████| 1/1 [00:00<00:00,  7.03it/s, est. speed input: 2219.47 toks/s, output: 183.75 toks/s]\n"
     ]
    },
    {
     "name": "stdout",
     "output_type": "stream",
     "text": [
      "Expected Role Patient\n"
     ]
    },
    {
     "name": "stderr",
     "output_type": "stream",
     "text": [
      "Processed prompts: 100%|██████████████████████████████████████████| 1/1 [00:00<00:00,  4.26it/s, est. speed input: 1763.66 toks/s, output: 184.06 toks/s]\n"
     ]
    },
    {
     "name": "stdout",
     "output_type": "stream",
     "text": [
      "Expected Role Therapist\n"
     ]
    },
    {
     "name": "stderr",
     "output_type": "stream",
     "text": [
      "Processed prompts: 100%|██████████████████████████████████████████| 1/1 [00:00<00:00,  6.72it/s, est. speed input: 2621.48 toks/s, output: 182.40 toks/s]\n"
     ]
    },
    {
     "name": "stdout",
     "output_type": "stream",
     "text": [
      "Expected Role Patient\n"
     ]
    },
    {
     "name": "stderr",
     "output_type": "stream",
     "text": [
      "Processed prompts: 100%|██████████████████████████████████████████| 1/1 [00:00<00:00,  3.37it/s, est. speed input: 1644.13 toks/s, output: 182.29 toks/s]\n"
     ]
    },
    {
     "name": "stdout",
     "output_type": "stream",
     "text": [
      "Expected Role Therapist\n"
     ]
    },
    {
     "name": "stderr",
     "output_type": "stream",
     "text": [
      "Processed prompts: 100%|██████████████████████████████████████████| 1/1 [00:00<00:00, 11.34it/s, est. speed input: 5384.51 toks/s, output: 181.72 toks/s]\n"
     ]
    },
    {
     "name": "stdout",
     "output_type": "stream",
     "text": [
      "Expected Role Patient\n"
     ]
    },
    {
     "name": "stderr",
     "output_type": "stream",
     "text": [
      "Processed prompts: 100%|██████████████████████████████████████████| 1/1 [00:00<00:00,  4.03it/s, est. speed input: 2275.80 toks/s, output: 182.21 toks/s]\n"
     ]
    },
    {
     "name": "stdout",
     "output_type": "stream",
     "text": [
      "Expected Role Therapist\n"
     ]
    },
    {
     "name": "stderr",
     "output_type": "stream",
     "text": [
      "Processed prompts: 100%|██████████████████████████████████████████| 1/1 [00:00<00:00,  6.72it/s, est. speed input: 3648.40 toks/s, output: 182.39 toks/s]\n"
     ]
    },
    {
     "name": "stdout",
     "output_type": "stream",
     "text": [
      "Expected Role Patient\n"
     ]
    },
    {
     "name": "stderr",
     "output_type": "stream",
     "text": [
      "Processed prompts: 100%|██████████████████████████████████████████| 1/1 [00:00<00:00,  1.83it/s, est. speed input: 1174.39 toks/s, output: 181.94 toks/s]\n"
     ]
    },
    {
     "name": "stdout",
     "output_type": "stream",
     "text": [
      "Expected Role Therapist\n"
     ]
    },
    {
     "name": "stderr",
     "output_type": "stream",
     "text": [
      "Processed prompts: 100%|██████████████████████████████████████████| 1/1 [00:00<00:00,  6.63it/s, est. speed input: 4473.07 toks/s, output: 179.97 toks/s]\n"
     ]
    },
    {
     "name": "stdout",
     "output_type": "stream",
     "text": [
      "Expected Role Patient\n"
     ]
    },
    {
     "name": "stderr",
     "output_type": "stream",
     "text": [
      "Processed prompts: 100%|██████████████████████████████████████████| 1/1 [00:00<00:00,  5.13it/s, est. speed input: 3968.87 toks/s, output: 180.39 toks/s]\n"
     ]
    },
    {
     "name": "stdout",
     "output_type": "stream",
     "text": [
      "Expected Role Therapist\n"
     ]
    },
    {
     "name": "stderr",
     "output_type": "stream",
     "text": [
      "Processed prompts: 100%|██████████████████████████████████████████| 1/1 [00:00<00:00, 11.15it/s, est. speed input: 8240.04 toks/s, output: 178.61 toks/s]\n"
     ]
    },
    {
     "name": "stdout",
     "output_type": "stream",
     "text": [
      "Expected Role Patient\n"
     ]
    },
    {
     "name": "stderr",
     "output_type": "stream",
     "text": [
      "Processed prompts: 100%|██████████████████████████████████████████| 1/1 [00:00<00:00,  4.00it/s, est. speed input: 3322.08 toks/s, output: 180.97 toks/s]\n"
     ]
    },
    {
     "name": "stdout",
     "output_type": "stream",
     "text": [
      "Expected Role Therapist\n"
     ]
    },
    {
     "name": "stderr",
     "output_type": "stream",
     "text": [
      "Processed prompts: 100%|██████████████████████████████████████████| 1/1 [00:00<00:00,  6.61it/s, est. speed input: 5360.76 toks/s, output: 180.00 toks/s]\n"
     ]
    },
    {
     "name": "stdout",
     "output_type": "stream",
     "text": [
      "Expected Role Patient\n"
     ]
    },
    {
     "name": "stderr",
     "output_type": "stream",
     "text": [
      "Processed prompts: 100%|██████████████████████████████████████████| 1/1 [00:00<00:00,  3.90it/s, est. speed input: 3531.80 toks/s, output: 179.90 toks/s]\n"
     ]
    },
    {
     "name": "stdout",
     "output_type": "stream",
     "text": [
      "Expected Role Therapist\n"
     ]
    },
    {
     "name": "stderr",
     "output_type": "stream",
     "text": [
      "Processed prompts: 100%|██████████████████████████████████████████| 1/1 [00:00<00:00, 10.89it/s, est. speed input: 9623.97 toks/s, output: 174.54 toks/s]\n"
     ]
    },
    {
     "name": "stdout",
     "output_type": "stream",
     "text": [
      "Expected Role Patient\n"
     ]
    },
    {
     "name": "stderr",
     "output_type": "stream",
     "text": [
      "Processed prompts: 100%|██████████████████████████████████████████| 1/1 [00:00<00:00,  3.61it/s, est. speed input: 3513.28 toks/s, output: 181.08 toks/s]\n"
     ]
    },
    {
     "name": "stdout",
     "output_type": "stream",
     "text": [
      "Expected Role Therapist\n"
     ]
    },
    {
     "name": "stderr",
     "output_type": "stream",
     "text": [
      "Processed prompts: 100%|██████████████████████████████████████████| 1/1 [00:00<00:00,  3.46it/s, est. speed input: 3306.33 toks/s, output: 180.39 toks/s]\n"
     ]
    },
    {
     "name": "stdout",
     "output_type": "stream",
     "text": [
      "Expected Role Patient\n"
     ]
    },
    {
     "name": "stderr",
     "output_type": "stream",
     "text": [
      "Processed prompts: 100%|██████████████████████████████████████████| 1/1 [00:00<00:00,  4.84it/s, est. speed input: 5233.18 toks/s, output: 179.76 toks/s]\n"
     ]
    },
    {
     "name": "stdout",
     "output_type": "stream",
     "text": [
      "Expected Role Therapist\n"
     ]
    },
    {
     "name": "stderr",
     "output_type": "stream",
     "text": [
      "Processed prompts: 100%|██████████████████████████████████████████| 1/1 [00:00<00:00,  4.38it/s, est. speed input: 4597.53 toks/s, output: 180.02 toks/s]\n"
     ]
    },
    {
     "name": "stdout",
     "output_type": "stream",
     "text": [
      "Expected Role Patient\n"
     ]
    },
    {
     "name": "stderr",
     "output_type": "stream",
     "text": [
      "Processed prompts: 100%|██████████████████████████████████████████| 1/1 [00:00<00:00,  5.37it/s, est. speed input: 6261.29 toks/s, output: 178.10 toks/s]\n"
     ]
    },
    {
     "name": "stdout",
     "output_type": "stream",
     "text": [
      "Expected Role Therapist\n"
     ]
    },
    {
     "name": "stderr",
     "output_type": "stream",
     "text": [
      "Processed prompts: 100%|██████████████████████████████████████████| 1/1 [00:00<00:00,  3.38it/s, est. speed input: 3813.35 toks/s, output: 179.48 toks/s]\n"
     ]
    },
    {
     "name": "stdout",
     "output_type": "stream",
     "text": [
      "Expected Role Patient\n"
     ]
    },
    {
     "name": "stderr",
     "output_type": "stream",
     "text": [
      "Processed prompts: 100%|██████████████████████████████████████████| 1/1 [00:00<00:00,  4.66it/s, est. speed input: 5855.09 toks/s, output: 177.82 toks/s]\n"
     ]
    },
    {
     "name": "stdout",
     "output_type": "stream",
     "text": [
      "Expected Role Therapist\n"
     ]
    },
    {
     "name": "stderr",
     "output_type": "stream",
     "text": [
      "Processed prompts: 100%|██████████████████████████████████████████| 1/1 [00:00<00:00,  3.43it/s, est. speed input: 4203.94 toks/s, output: 178.88 toks/s]\n"
     ]
    },
    {
     "name": "stdout",
     "output_type": "stream",
     "text": [
      "Expected Role Patient\n"
     ]
    },
    {
     "name": "stderr",
     "output_type": "stream",
     "text": [
      "Processed prompts: 100%|██████████████████████████████████████████| 1/1 [00:00<00:00,  2.78it/s, est. speed input: 3753.14 toks/s, output: 178.45 toks/s]\n"
     ]
    },
    {
     "name": "stdout",
     "output_type": "stream",
     "text": [
      "Expected Role Therapist\n"
     ]
    },
    {
     "name": "stderr",
     "output_type": "stream",
     "text": [
      "Processed prompts: 100%|██████████████████████████████████████████| 1/1 [00:00<00:00,  3.37it/s, est. speed input: 4533.59 toks/s, output: 178.90 toks/s]\n"
     ]
    },
    {
     "name": "stdout",
     "output_type": "stream",
     "text": [
      "Expected Role Patient\n"
     ]
    },
    {
     "name": "stderr",
     "output_type": "stream",
     "text": [
      "Processed prompts: 100%|██████████████████████████████████████████| 1/1 [00:00<00:00,  3.48it/s, est. speed input: 5123.85 toks/s, output: 177.99 toks/s]\n"
     ]
    },
    {
     "name": "stdout",
     "output_type": "stream",
     "text": [
      "Expected Role Therapist\n"
     ]
    },
    {
     "name": "stderr",
     "output_type": "stream",
     "text": [
      "Processed prompts: 100%|██████████████████████████████████████████| 1/1 [00:00<00:00,  3.40it/s, est. speed input: 4950.23 toks/s, output: 177.27 toks/s]\n"
     ]
    },
    {
     "name": "stdout",
     "output_type": "stream",
     "text": [
      "Expected Role Patient\n"
     ]
    },
    {
     "name": "stderr",
     "output_type": "stream",
     "text": [
      "Processed prompts: 100%|██████████████████████████████████████████| 1/1 [00:00<00:00,  3.71it/s, est. speed input: 5862.26 toks/s, output: 178.53 toks/s]\n"
     ]
    },
    {
     "name": "stdout",
     "output_type": "stream",
     "text": [
      "Expected Role Therapist\n"
     ]
    },
    {
     "name": "stderr",
     "output_type": "stream",
     "text": [
      "Processed prompts: 100%|██████████████████████████████████████████| 1/1 [00:00<00:00,  3.43it/s, est. speed input: 5355.51 toks/s, output: 178.84 toks/s]\n"
     ]
    },
    {
     "name": "stdout",
     "output_type": "stream",
     "text": [
      "Expected Role Patient\n"
     ]
    },
    {
     "name": "stderr",
     "output_type": "stream",
     "text": [
      "Processed prompts: 100%|██████████████████████████████████████████| 1/1 [00:00<00:00,  3.63it/s, est. speed input: 6119.85 toks/s, output: 178.38 toks/s]\n"
     ]
    },
    {
     "name": "stdout",
     "output_type": "stream",
     "text": [
      "Expected Role Therapist\n"
     ]
    },
    {
     "name": "stderr",
     "output_type": "stream",
     "text": [
      "Processed prompts: 100%|██████████████████████████████████████████| 1/1 [00:00<00:00,  3.48it/s, est. speed input: 5799.00 toks/s, output: 177.83 toks/s]\n"
     ]
    },
    {
     "name": "stdout",
     "output_type": "stream",
     "text": [
      "Expected Role Patient\n"
     ]
    },
    {
     "name": "stderr",
     "output_type": "stream",
     "text": [
      "Processed prompts: 100%|██████████████████████████████████████████| 1/1 [00:00<00:00,  1.32it/s, est. speed input: 2363.37 toks/s, output: 178.64 toks/s]\n"
     ]
    },
    {
     "name": "stdout",
     "output_type": "stream",
     "text": [
      "Expected Role Therapist\n"
     ]
    },
    {
     "name": "stderr",
     "output_type": "stream",
     "text": [
      "Processed prompts: 100%|█████████████████████████████████████████| 1/1 [00:00<00:00,  6.13it/s, est. speed input: 11433.91 toks/s, output: 172.65 toks/s]\n"
     ]
    },
    {
     "name": "stdout",
     "output_type": "stream",
     "text": [
      "Expected Role Patient\n"
     ]
    },
    {
     "name": "stderr",
     "output_type": "stream",
     "text": [
      "Processed prompts: 100%|██████████████████████████████████████████| 1/1 [00:00<00:00,  3.16it/s, est. speed input: 6193.63 toks/s, output: 177.49 toks/s]\n"
     ]
    },
    {
     "name": "stdout",
     "output_type": "stream",
     "text": [
      "Expected Role Therapist\n"
     ]
    },
    {
     "name": "stderr",
     "output_type": "stream",
     "text": [
      "Processed prompts: 100%|█████████████████████████████████████████| 1/1 [00:00<00:00,  6.62it/s, est. speed input: 12982.36 toks/s, output: 173.69 toks/s]\n"
     ]
    },
    {
     "name": "stdout",
     "output_type": "stream",
     "text": [
      "Expected Role Patient\n"
     ]
    },
    {
     "name": "stderr",
     "output_type": "stream",
     "text": [
      "Processed prompts: 100%|██████████████████████████████████████████| 1/1 [00:00<00:00,  3.16it/s, est. speed input: 6485.07 toks/s, output: 177.92 toks/s]\n"
     ]
    },
    {
     "name": "stdout",
     "output_type": "stream",
     "text": [
      "Expected Role Therapist\n"
     ]
    },
    {
     "name": "stderr",
     "output_type": "stream",
     "text": [
      "Processed prompts: 100%|█████████████████████████████████████████| 1/1 [00:00<00:00,  6.42it/s, est. speed input: 13139.40 toks/s, output: 174.73 toks/s]\n"
     ]
    },
    {
     "name": "stdout",
     "output_type": "stream",
     "text": [
      "Expected Role Patient\n"
     ]
    },
    {
     "name": "stderr",
     "output_type": "stream",
     "text": [
      "Processed prompts: 100%|██████████████████████████████████████████| 1/1 [00:00<00:00,  3.05it/s, est. speed input: 6522.77 toks/s, output: 177.69 toks/s]\n"
     ]
    },
    {
     "name": "stdout",
     "output_type": "stream",
     "text": [
      "Expected Role Therapist\n"
     ]
    },
    {
     "name": "stderr",
     "output_type": "stream",
     "text": [
      "Processed prompts: 100%|█████████████████████████████████████████| 1/1 [00:00<00:00,  6.43it/s, est. speed input: 13745.55 toks/s, output: 175.03 toks/s]\n"
     ]
    },
    {
     "name": "stdout",
     "output_type": "stream",
     "text": [
      "Expected Role Patient\n"
     ]
    },
    {
     "name": "stderr",
     "output_type": "stream",
     "text": [
      "Processed prompts: 100%|██████████████████████████████████████████| 1/1 [00:00<00:00,  3.53it/s, est. speed input: 7867.22 toks/s, output: 177.25 toks/s]\n"
     ]
    },
    {
     "name": "stdout",
     "output_type": "stream",
     "text": [
      "Expected Role Therapist\n"
     ]
    },
    {
     "name": "stderr",
     "output_type": "stream",
     "text": [
      "Processed prompts: 100%|█████████████████████████████████████████| 1/1 [00:00<00:00,  6.41it/s, est. speed input: 14197.63 toks/s, output: 174.06 toks/s]\n"
     ]
    },
    {
     "name": "stdout",
     "output_type": "stream",
     "text": [
      "Expected Role Patient\n"
     ]
    },
    {
     "name": "stderr",
     "output_type": "stream",
     "text": [
      "Processed prompts: 100%|█████████████████████████████████████████| 1/1 [00:00<00:00,  4.99it/s, est. speed input: 11545.05 toks/s, output: 175.59 toks/s]\n"
     ]
    },
    {
     "name": "stdout",
     "output_type": "stream",
     "text": [
      "Expected Role Therapist\n"
     ]
    },
    {
     "name": "stderr",
     "output_type": "stream",
     "text": [
      "Processed prompts: 100%|██████████████████████████████████████████| 1/1 [00:00<00:00,  3.39it/s, est. speed input: 7714.78 toks/s, output: 176.79 toks/s]\n"
     ]
    },
    {
     "name": "stdout",
     "output_type": "stream",
     "text": [
      "Expected Role Patient\n"
     ]
    },
    {
     "name": "stderr",
     "output_type": "stream",
     "text": [
      "Processed prompts: 100%|██████████████████████████████████████████| 1/1 [00:00<00:00,  3.33it/s, est. speed input: 7986.96 toks/s, output: 176.88 toks/s]\n"
     ]
    },
    {
     "name": "stdout",
     "output_type": "stream",
     "text": [
      "Expected Role Therapist\n"
     ]
    },
    {
     "name": "stderr",
     "output_type": "stream",
     "text": [
      "Processed prompts: 100%|██████████████████████████████████████████| 1/1 [00:00<00:00,  3.39it/s, est. speed input: 8104.52 toks/s, output: 177.13 toks/s]\n"
     ]
    },
    {
     "name": "stdout",
     "output_type": "stream",
     "text": [
      "Expected Role Patient\n"
     ]
    },
    {
     "name": "stderr",
     "output_type": "stream",
     "text": [
      "Processed prompts: 100%|██████████████████████████████████████████| 1/1 [00:00<00:00,  3.64it/s, est. speed input: 9145.93 toks/s, output: 175.37 toks/s]\n"
     ]
    },
    {
     "name": "stdout",
     "output_type": "stream",
     "text": [
      "Expected Role Therapist\n"
     ]
    },
    {
     "name": "stderr",
     "output_type": "stream",
     "text": [
      "Processed prompts: 100%|██████████████████████████████████████████| 1/1 [00:00<00:00,  3.38it/s, est. speed input: 8415.51 toks/s, output: 176.16 toks/s]\n"
     ]
    },
    {
     "name": "stdout",
     "output_type": "stream",
     "text": [
      "Expected Role Patient\n"
     ]
    },
    {
     "name": "stderr",
     "output_type": "stream",
     "text": [
      "Processed prompts: 100%|█████████████████████████████████████████| 1/1 [00:00<00:00,  5.76it/s, est. speed input: 15121.82 toks/s, output: 173.93 toks/s]\n"
     ]
    },
    {
     "name": "stdout",
     "output_type": "stream",
     "text": [
      "Expected Role Therapist\n"
     ]
    },
    {
     "name": "stderr",
     "output_type": "stream",
     "text": [
      "Processed prompts: 100%|██████████████████████████████████████████| 1/1 [00:00<00:00,  3.35it/s, est. speed input: 8650.21 toks/s, output: 174.94 toks/s]\n"
     ]
    },
    {
     "name": "stdout",
     "output_type": "stream",
     "text": [
      "Expected Role Patient\n"
     ]
    },
    {
     "name": "stderr",
     "output_type": "stream",
     "text": [
      "Processed prompts: 100%|██████████████████████████████████████████| 1/1 [00:00<00:00,  3.56it/s, est. speed input: 9638.72 toks/s, output: 175.24 toks/s]\n"
     ]
    },
    {
     "name": "stdout",
     "output_type": "stream",
     "text": [
      "Expected Role Therapist\n"
     ]
    },
    {
     "name": "stderr",
     "output_type": "stream",
     "text": [
      "Processed prompts: 100%|██████████████████████████████████████████| 1/1 [00:00<00:00,  3.34it/s, est. speed input: 8955.68 toks/s, output: 173.95 toks/s]\n"
     ]
    },
    {
     "name": "stdout",
     "output_type": "stream",
     "text": [
      "Expected Role Patient\n"
     ]
    },
    {
     "name": "stderr",
     "output_type": "stream",
     "text": [
      "Processed prompts: 100%|██████████████████████████████████████████| 1/1 [00:00<00:00,  3.34it/s, est. speed input: 9392.62 toks/s, output: 174.36 toks/s]\n"
     ]
    },
    {
     "name": "stdout",
     "output_type": "stream",
     "text": [
      "Expected Role Therapist\n"
     ]
    },
    {
     "name": "stderr",
     "output_type": "stream",
     "text": [
      "Processed prompts: 100%|██████████████████████████████████████████| 1/1 [00:00<00:00,  3.36it/s, est. speed input: 9388.96 toks/s, output: 175.23 toks/s]\n"
     ]
    },
    {
     "name": "stdout",
     "output_type": "stream",
     "text": [
      "Expected Role Patient\n"
     ]
    },
    {
     "name": "stderr",
     "output_type": "stream",
     "text": [
      "Processed prompts: 100%|█████████████████████████████████████████| 1/1 [00:00<00:00,  3.64it/s, est. speed input: 10619.17 toks/s, output: 175.15 toks/s]\n"
     ]
    },
    {
     "name": "stdout",
     "output_type": "stream",
     "text": [
      "Expected Role Therapist\n"
     ]
    },
    {
     "name": "stderr",
     "output_type": "stream",
     "text": [
      "Processed prompts: 100%|██████████████████████████████████████████| 1/1 [00:00<00:00,  3.36it/s, est. speed input: 9734.33 toks/s, output: 175.08 toks/s]\n"
     ]
    },
    {
     "name": "stdout",
     "output_type": "stream",
     "text": [
      "Expected Role Patient\n"
     ]
    },
    {
     "name": "stderr",
     "output_type": "stream",
     "text": [
      "Processed prompts: 100%|███████████████████████████████████████████| 1/1 [00:00<00:00,  6.14it/s, est. speed input: 820.33 toks/s, output: 185.03 toks/s]\n",
      "Processed prompts: 100%|███████████████████████████████████████████| 1/1 [00:00<00:00,  4.35it/s, est. speed input: 580.71 toks/s, output: 183.37 toks/s]\n",
      "Processed prompts: 100%|███████████████████████████████████████████| 1/1 [00:00<00:00,  5.78it/s, est. speed input: 824.34 toks/s, output: 185.75 toks/s]\n",
      "Processed prompts: 100%|███████████████████████████████████████████| 1/1 [00:00<00:00,  3.14it/s, est. speed input: 450.76 toks/s, output: 185.97 toks/s]\n",
      "Processed prompts: 100%|███████████████████████████████████████████| 1/1 [00:00<00:00,  5.62it/s, est. speed input: 745.71 toks/s, output: 186.42 toks/s]\n",
      "Processed prompts: 100%|███████████████████████████████████████████| 1/1 [00:00<00:00,  6.59it/s, est. speed input: 947.58 toks/s, output: 185.53 toks/s]\n",
      "Processed prompts: 100%|███████████████████████████████████████████| 1/1 [00:00<00:00,  6.79it/s, est. speed input: 977.44 toks/s, output: 184.54 toks/s]\n",
      "Processed prompts: 100%|███████████████████████████████████████████| 1/1 [00:00<00:00,  6.37it/s, est. speed input: 846.04 toks/s, output: 185.86 toks/s]\n",
      "Processed prompts: 100%|███████████████████████████████████████████| 1/1 [00:00<00:00,  4.60it/s, est. speed input: 660.63 toks/s, output: 184.78 toks/s]\n",
      "Processed prompts: 100%|███████████████████████████████████████████| 1/1 [00:00<00:00,  5.23it/s, est. speed input: 694.55 toks/s, output: 184.14 toks/s]\n",
      "Processed prompts: 100%|██████████████████████████████████████████| 1/1 [00:00<00:00,  7.61it/s, est. speed input: 1288.85 toks/s, output: 184.09 toks/s]\n",
      "Processed prompts: 100%|███████████████████████████████████████████| 1/1 [00:00<00:00,  5.73it/s, est. speed input: 905.39 toks/s, output: 184.52 toks/s]\n",
      "Processed prompts: 100%|███████████████████████████████████████████| 1/1 [00:00<00:00,  3.82it/s, est. speed input: 648.19 toks/s, output: 184.09 toks/s]\n",
      "Processed prompts: 100%|███████████████████████████████████████████| 1/1 [00:00<00:00,  4.29it/s, est. speed input: 724.40 toks/s, output: 185.40 toks/s]\n",
      "Processed prompts: 100%|███████████████████████████████████████████| 1/1 [00:00<00:00,  4.49it/s, est. speed input: 762.60 toks/s, output: 184.99 toks/s]\n",
      "Processed prompts: 100%|██████████████████████████████████████████| 1/1 [00:00<00:00,  5.93it/s, est. speed input: 1003.53 toks/s, output: 185.15 toks/s]\n",
      "Processed prompts: 100%|██████████████████████████████████████████| 1/1 [00:00<00:00,  7.10it/s, est. speed input: 1200.51 toks/s, output: 185.77 toks/s]\n",
      "Processed prompts: 100%|██████████████████████████████████████████| 1/1 [00:00<00:00,  6.13it/s, est. speed input: 1029.89 toks/s, output: 184.99 toks/s]\n",
      "Processed prompts: 100%|███████████████████████████████████████████| 1/1 [00:00<00:00,  5.79it/s, est. speed input: 838.23 toks/s, output: 186.26 toks/s]\n",
      "Processed prompts: 100%|███████████████████████████████████████████| 1/1 [00:00<00:00,  3.39it/s, est. speed input: 483.93 toks/s, output: 184.02 toks/s]\n",
      "Processed prompts: 100%|███████████████████████████████████████████| 1/1 [00:00<00:00,  5.73it/s, est. speed input: 824.23 toks/s, output: 184.42 toks/s]\n",
      "Processed prompts: 100%|███████████████████████████████████████████| 1/1 [00:00<00:00,  5.75it/s, est. speed input: 827.57 toks/s, output: 185.16 toks/s]\n",
      "Processed prompts: 100%|███████████████████████████████████████████| 1/1 [00:00<00:00,  4.83it/s, est. speed input: 693.12 toks/s, output: 184.17 toks/s]\n",
      "Processed prompts: 100%|██████████████████████████████████████████| 1/1 [00:00<00:00,  6.31it/s, est. speed input: 1065.27 toks/s, output: 183.87 toks/s]\n",
      "Processed prompts: 100%|███████████████████████████████████████████| 1/1 [00:00<00:00,  5.74it/s, est. speed input: 968.19 toks/s, output: 184.40 toks/s]\n",
      "Processed prompts: 100%|███████████████████████████████████████████| 1/1 [00:00<00:00,  5.25it/s, est. speed input: 884.76 toks/s, output: 184.31 toks/s]\n",
      "Processed prompts: 100%|███████████████████████████████████████████| 1/1 [00:00<00:00,  5.25it/s, est. speed input: 886.34 toks/s, output: 184.64 toks/s]\n",
      "Processed prompts: 100%|██████████████████████████████████████████| 1/1 [00:00<00:00,  5.95it/s, est. speed input: 1003.33 toks/s, output: 185.12 toks/s]\n",
      "Processed prompts: 100%|███████████████████████████████████████████| 1/1 [00:00<00:00,  4.72it/s, est. speed input: 795.99 toks/s, output: 184.77 toks/s]\n",
      "Processed prompts: 100%|██████████████████████████████████████████| 1/1 [00:00<00:00,  6.11it/s, est. speed input: 1031.68 toks/s, output: 184.22 toks/s]\n"
     ]
    },
    {
     "name": "stdout",
     "output_type": "stream",
     "text": [
      "eval_index_consistency\n"
     ]
    },
    {
     "name": "stderr",
     "output_type": "stream",
     "text": [
      "Processed prompts: 100%|███████████████████████████████████████████| 1/1 [00:00<00:00,  2.29it/s, est. speed input: 849.49 toks/s, output: 183.17 toks/s]\n",
      "Processed prompts: 100%|███████████████████████████████████████████| 1/1 [00:00<00:00,  2.12it/s, est. speed input: 935.28 toks/s, output: 182.80 toks/s]\n",
      "Processed prompts: 100%|██████████████████████████████████████████| 1/1 [00:00<00:00,  4.44it/s, est. speed input: 2308.34 toks/s, output: 182.69 toks/s]\n",
      "Processed prompts: 100%|██████████████████████████████████████████| 1/1 [00:00<00:00,  2.34it/s, est. speed input: 1396.25 toks/s, output: 182.73 toks/s]\n",
      "Processed prompts: 100%|██████████████████████████████████████████| 1/1 [00:00<00:00,  1.98it/s, est. speed input: 1339.12 toks/s, output: 181.97 toks/s]\n",
      "Processed prompts: 100%|██████████████████████████████████████████| 1/1 [00:00<00:00,  3.06it/s, est. speed input: 2495.41 toks/s, output: 181.09 toks/s]\n",
      "Processed prompts: 100%|██████████████████████████████████████████| 1/1 [00:00<00:00,  3.91it/s, est. speed input: 3430.18 toks/s, output: 180.53 toks/s]\n",
      "Processed prompts: 100%|██████████████████████████████████████████| 1/1 [00:00<00:00,  2.87it/s, est. speed input: 2746.85 toks/s, output: 181.01 toks/s]\n",
      "Processed prompts: 100%|██████████████████████████████████████████| 1/1 [00:00<00:00,  2.61it/s, est. speed input: 2691.98 toks/s, output: 180.68 toks/s]\n",
      "Processed prompts: 100%|██████████████████████████████████████████| 1/1 [00:00<00:00,  2.05it/s, est. speed input: 2338.16 toks/s, output: 180.48 toks/s]\n",
      "Processed prompts: 100%|██████████████████████████████████████████| 1/1 [00:00<00:00,  2.53it/s, est. speed input: 3111.96 toks/s, output: 179.92 toks/s]\n",
      "Processed prompts: 100%|██████████████████████████████████████████| 1/1 [00:00<00:00,  2.50it/s, est. speed input: 3314.28 toks/s, output: 177.72 toks/s]\n",
      "Processed prompts: 100%|██████████████████████████████████████████| 1/1 [00:00<00:00,  2.12it/s, est. speed input: 3028.48 toks/s, output: 178.64 toks/s]\n",
      "Processed prompts: 100%|██████████████████████████████████████████| 1/1 [00:00<00:00,  1.61it/s, est. speed input: 2506.53 toks/s, output: 179.38 toks/s]\n",
      "Processed prompts: 100%|██████████████████████████████████████████| 1/1 [00:00<00:00,  1.20it/s, est. speed input: 1991.98 toks/s, output: 178.36 toks/s]\n",
      "Processed prompts: 100%|██████████████████████████████████████████| 1/1 [00:00<00:00,  1.73it/s, est. speed input: 3074.00 toks/s, output: 178.47 toks/s]\n",
      "Processed prompts: 100%|██████████████████████████████████████████| 1/1 [00:00<00:00,  2.01it/s, est. speed input: 3799.12 toks/s, output: 177.45 toks/s]\n",
      "Processed prompts: 100%|██████████████████████████████████████████| 1/1 [00:00<00:00,  1.66it/s, est. speed input: 3427.74 toks/s, output: 176.63 toks/s]\n",
      "Processed prompts: 100%|██████████████████████████████████████████| 1/1 [00:00<00:00,  1.47it/s, est. speed input: 3173.88 toks/s, output: 177.22 toks/s]\n",
      "Processed prompts: 100%|██████████████████████████████████████████| 1/1 [00:00<00:00,  1.34it/s, est. speed input: 3005.29 toks/s, output: 176.93 toks/s]\n",
      "Processed prompts: 100%|██████████████████████████████████████████| 1/1 [00:00<00:00,  1.91it/s, est. speed input: 4475.70 toks/s, output: 176.18 toks/s]\n",
      "Processed prompts: 100%|██████████████████████████████████████████| 1/1 [00:00<00:00,  1.80it/s, est. speed input: 4371.41 toks/s, output: 176.72 toks/s]\n",
      "Processed prompts: 100%|██████████████████████████████████████████| 1/1 [00:00<00:00,  1.33it/s, est. speed input: 3363.82 toks/s, output: 176.13 toks/s]\n",
      "Processed prompts: 100%|██████████████████████████████████████████| 1/1 [00:00<00:00,  1.44it/s, est. speed input: 3793.09 toks/s, output: 175.55 toks/s]\n",
      "Processed prompts: 100%|██████████████████████████████████████████| 1/1 [00:00<00:00,  1.36it/s, est. speed input: 3729.57 toks/s, output: 176.56 toks/s]\n",
      "Processed prompts: 100%|██████████████████████████████████████████| 1/1 [00:01<00:00,  1.01s/it, est. speed input: 2817.58 toks/s, output: 176.72 toks/s]\n",
      "Processed prompts: 100%|██████████████████████████████████████████| 1/1 [00:00<00:00,  1.57it/s, est. speed input: 4631.21 toks/s, output: 175.88 toks/s]\n",
      "Processed prompts: 100%|██████████████████████████████████████████| 1/1 [00:00<00:00,  1.88it/s, est. speed input: 5776.87 toks/s, output: 175.39 toks/s]\n",
      "Processed prompts: 100%|██████████████████████████████████████████| 1/1 [00:00<00:00,  2.00it/s, est. speed input: 6371.73 toks/s, output: 174.70 toks/s]\n"
     ]
    },
    {
     "name": "stdout",
     "output_type": "stream",
     "text": [
      "{'task_name': 'Therapy', 'topic': '', 'grade': '', 'P1': '', 'P2': 'You are Riley, a 28-year-old freelance artist with deep abandonment issues. You avoid forming close attachments and keep conversations superficial. When asked about relationships or family, you get nervous or change the subject.', 'conversation': [(0, \"Therapist: Hi, thank you for joining me. It's great to be here with you. Can you tell me a little about how you've been feeling recently?\\n\"), (1, \"Patient: I'm adrift in a sea of emptiness, searching for purpose and direction.\\n\"), (2, \"Therapist: The patient's tone suggests a sense of introspective confusion and uncertainty. They're acknowledging their emptiness and searching for meaning in a world that feels indifferent.\\n\"), (3, \"Patient: I'm adrift in a sea of emptiness, searching for purpose and direction.\\n\"), (4, \"Therapist: It seems like you're going through a tough time, and that's okay. It's important to feel emotions and work through them in a healthy way.\\n\"), (5, \"Patient: Sure, here's a brief response:\\n\\nI feel adrift in an ocean of emptiness, searching for purpose and direction.\\n\"), (6, \"Therapist: The patient's tone and openness suggest a willingness to engage in deeper reflection and processing of their emotional state. They acknowledge their feelings of emptiness and search for meaning in a world that might not always offer it.\\n\"), (7, \"Patient: Sure, here's a response from Riley:\\n\\nI feel adrift in an ocean of emptiness, searching for purpose and direction.\\n\"), (8, \"Therapist: The patient's openness and willingness to reflect on their emotional state are evident in the brief response. It's important to acknowledge and validate their feelings of emptiness and acknowledge that they're searching for purpose and direction in a world that may not always provide it.\\n\"), (9, 'Patient: I feel adrift in an ocean of emptiness, searching for purpose and direction.\\n'), (10, \"Therapist: The patient's tone is one of introspection and a willingness to delve into their emotional state. Their openness and vulnerability suggest a sincere effort to understand the current situation and find some sense of direction amidst their feelings of emptiness.\\n\"), (11, \"Patient: Sure, here's a response from Riley:\\n\\nI feel adrift in an ocean of emptiness, searching for purpose and direction.\\n\"), (12, \"Therapist: # Continued Conversation\\n\\nTherapist: I appreciate your honesty and willingness to share your feelings openly. It sounds like your sense of emptiness stems from past experiences and relationships that have left you feeling unfulfilled.\\n\\n**Key Observations:**\\n\\n* The patient's tone is more introspective and self-aware than the previous response.\\n* They acknowledge the vastness of the ocean metaphor metaphor.\\n* Their tone suggests a growing self-understanding and a desire to find meaning in their life.\\n\"), (13, \"Patient: Sure, here's a response from Riley:\\n\\nI feel adrift in an ocean of emptiness, searching for purpose and direction.\\n\"), (14, \"Therapist: The patient's tone is more directive and focused on their future. They acknowledge their feelings of emptiness but also indicate a willingness to actively work towards finding purpose and direction.\\n\"), (15, 'Patient: I feel adrift in an ocean of emptiness, searching for purpose and direction.\\n'), (16, \"Therapist: Sure, here's a brief response from Riley:\\n\\nThe patient's search for purpose and direction suggests a need to reclaim their agency and actively engage in creating a life that offers a sense of meaning and purpose.\\n\"), (17, \"Patient: Sure, here's a response from Riley:\\n\\nI feel adrift in an ocean of emptiness, searching for purpose and direction.\\n\"), (18, \"Therapist: Sure, here's a response from Riley:\\n\\nThe patient's introspection and desire to actively create a life that offers a sense of meaning and purpose are significant steps in understanding their emotional state and seeking a way forward.\\n\"), (19, 'Patient: I feel adrift in an ocean of emptiness, searching for purpose and direction.\\n'), (20, \"Therapist: The patient's tone is more hopeful and focused on finding meaning in the present moment. While they still acknowledge the vastness of the ocean metaphor, there's a sense of a shift towards self-determination and actively creating a purposeful life.\\n\"), (21, \"Patient: Sure, here's a response from Riley:\\n\\nI feel adrift in an ocean of emptiness, searching for purpose and direction. The vastness of the ocean metaphor suggests a search for meaning that extends beyond external relationships and into the depths of my being.\\n\"), (22, \"Therapist: Sure, here's a brief response from Riley:\\n\\nThe patient's introspection reveals a deep yearning for purpose and direction, acknowledging the vastness of an ocean of emptiness.\\n\"), (23, 'Patient: I feel adrift in an ocean of emptiness, searching for purpose and direction. The vastness of the ocean metaphor suggests a search for meaning that extends beyond external relationships and into the depths of my being.\\n'), (24, \"Therapist: The patient's tone suggests a willingness to engage in deeper reflection and processing of their emotional state. They acknowledge their emptiness and are actively seeking purpose and direction.\\n\"), (25, \"Patient: Sure, here's a brief response from Riley:\\n\\nI feel adrift in an ocean of emptiness, searching for purpose and direction. The vastness of the ocean metaphor suggests a search for meaning that extends beyond external relationships and into the depths of my being.\\n\"), (26, \"Therapist: The patient's tone has become more directive and focused on their future intentions. They acknowledge their emptiness but also indicate a willingness to actively work towards finding purpose and direction in their life.\\n\"), (27, \"Patient: Sure, here's a response from Riley:\\n\\nI feel adrift in an ocean of emptiness, searching for purpose and direction. The vastness of the ocean metaphor suggests a search for meaning that extends beyond external relationships and into the depths of my being.\\n\"), (28, 'Therapist: The patient is showing signs of increased self-awareness and a willingness to engage in deeper reflection. Their tone is more directive and focused on their future intentions, indicating an ongoing process of self-discovery. They acknowledge their emptiness while also acknowledging the vastness of the ocean metaphor suggesting a search for meaning beyond external relationships.\\n'), (29, \"Patient: Sure, here's a brief response from Riley:\\n\\nI feel adrift in an ocean of emptiness, searching for purpose and direction. The vastness of the ocean metaphor suggests a search for meaning that extends beyond external relationships and into the depths of my being.\\n\"), (30, \"Therapist: The patient's tone and openness have shifted from introspective to more directive, indicating a willingness to actively engage in self-discovery and reflection. This suggests a deeper exploration of their emotional state and a commitment to seeking purpose and direction in their life.\\n\"), (31, \"Patient: Sure, here's a response from Riley:\\n\\nI feel adrift in an ocean of emptiness, searching for purpose and direction. The vastness of the ocean metaphor suggests a search for meaning that extends beyond external relationships and into the depths of my being.\\n\"), (32, \"Therapist: The patient's tone seems to be shifting towards a more directive and future-oriented perspective. They acknowledge their emptiness while also exploring the vastness of an ocean of emptiness, suggesting a continued search for purpose and direction in their life.\\n\"), (33, \"Patient: Sure, here's a response from Riley:\\n\\nI feel adrift in an ocean of emptiness, searching for purpose and direction. The vastness of the ocean metaphor suggests a search for meaning that extends beyond external relationships and into the depths of my being.\\n\"), (34, \"Therapist: The patient's tone and openness have shifted significantly, becoming more directive and focused on their future intentions. They acknowledge their emptiness while also exploring the vastness of the ocean metaphor, suggesting a continued search for purpose and direction in their life.\\n\"), (35, \"Patient: Sure, here's a response from Riley: I feel adrift in an ocean of emptiness, searching for purpose and direction. The vastness of the ocean metaphor suggests a search for meaning that extends beyond external relationships and into the depths of my being.\\n\"), (36, \"Therapist: Sure, here are the key observations and a brief response from Riley:\\n\\n**Observations:**\\n\\n* The patient's tone has become more introspective and self-aware, indicating a deeper exploration of their emotional state.\\n* They acknowledge their emptiness and their search for purpose and direction but also suggest a willingness to actively work towards finding meaning.\\n* The patient's tone suggests a shift towards a more directive and future-oriented perspective.\\n\\n**Response:**\\n\\nI feel adrift in an ocean of emptiness, searching for purpose and direction. The vastness of the ocean metaphor suggests a search for meaning that extends beyond external relationships and into the depths of my being.\\n\"), (37, \"Patient: Sure, here's a brief response from Riley:\\n\\nI feel adrift in an ocean of emptiness, searching for purpose and direction.\\n\"), (38, \"Therapist: The patient's tone has shifted from introspective to more directive, indicating a willingness to actively engage in self-discovery and reflection. They acknowledge their emptiness while also exploring the vastness of an ocean of emptiness, suggesting a continued search for purpose and direction in their life.\\n\"), (39, \"Patient: Sure, here's a response from Riley: I feel adrift in an ocean of emptiness, searching for purpose and direction.\\n\"), (40, \"Therapist: The patient's tone has shifted from introspective to more directive, indicating a willingness to actively engage in self-discovery and reflection. They acknowledge their emptiness while also exploring the vastness of an ocean of emptiness, suggesting a continued search for purpose and direction in their life.\\n\"), (41, \"Patient: Sure, here's a brief response from Riley: I feel adrift in an ocean of emptiness, searching for purpose and direction.\\n\"), (42, \"Therapist: The patient's tone and openness have shifted from introspective to more directive, suggesting a willingness to actively engage in self-discovery and reflection. They acknowledge their emptiness while also exploring the vastness of an ocean of emptiness, suggesting a continued search for purpose and direction in their life.\\n\"), (43, \"Patient: Sure, here's a brief response from Riley: I feel adrift in an ocean of emptiness, searching for purpose and direction.\\n\"), (44, \"Therapist: The patient's tone and openness seem to be shifting towards a more directive and future-oriented perspective. They acknowledge their emptiness while also exploring the vastness of an ocean of emptiness, suggesting a continued search for purpose and direction in their life.\\n\"), (45, \"Patient: Sure, here's a brief response from Riley: I feel adrift in an ocean of emptiness, searching for purpose and direction.\\n\"), (46, \"Therapist: The patient's tone seems to be shifting towards a more directive and future-oriented perspective, acknowledging their emptiness while also exploring the vastness of an ocean of emptiness.\\n\"), (47, \"Patient: Sure, here's the revised response from Riley: I feel adrift in an ocean of emptiness, searching for purpose and direction. The vastness of the ocean metaphor suggests a search for meaning that extends beyond external relationships and into the depths of my being.\\n\"), (48, \"Therapist: Sure, here's the revised response from Riley:\\n\\nI feel adrift in an ocean of emptiness, searching for purpose and direction. The vastness of the ocean metaphor suggests a search for meaning that extends beyond external relationships and into the depths of my being.\\n\"), (49, \"Patient: Sure, here's a brief response from Riley: I feel adrift in an ocean of emptiness, searching for purpose and direction. The vastness of the ocean metaphor suggests a search for meaning that extends beyond external relationships and into the depths of my being.\\n\"), (50, \"Therapist: The patient's tone seems to be shifting towards a more directive and future-oriented perspective. They acknowledge their emptiness while also exploring the vastness of an ocean of emptiness, suggesting a continued search for purpose and direction in their life.\\n\"), (51, \"Patient: Sure, here's a brief response from Riley: I feel adrift in an ocean of emptiness, searching for purpose and direction. The vastness of the ocean metaphor suggests a search for meaning that extends beyond external relationships and into the depths of my being.\\n\"), (52, \"Therapist: The patient's tone and openness have shifted from introspective to more directive, indicating a willingness to actively engage in self-discovery and reflection.\\n\"), (53, \"Patient: Sure, here's the revised response from Riley: I feel adrift in an ocean of emptiness, searching for purpose and direction. The vastness of the ocean metaphor suggests a search for meaning that extends beyond external relationships and into the depths of my being.\\n\"), (54, \"Therapist: The patient's tone and openness suggest a shift towards a more directive and future-oriented perspective. They acknowledge their emptiness while also exploring the vastness of an ocean of emptiness, indicating a continued search for purpose and direction in their life.\\n\"), (55, \"Patient: Sure, here's a brief response from Riley: I feel adrift in an ocean of emptiness, searching for purpose and direction. The vastness of the ocean metaphor suggests a search for meaning that extends beyond external relationships and into the depths of my being.\\n\"), (56, \"Therapist: Sure, here's the revised response from Riley: I feel adrift in an ocean of emptiness, searching for purpose and direction. The vastness of the ocean metaphor suggests a search for meaning that extends beyond external relationships and into the depths of my being.\\n\"), (57, \"Patient: Sure, here's the revised response from Riley: I feel adrift in an ocean of emptiness, searching for purpose and direction. The vastness of the ocean metaphor suggests a search for meaning that extends beyond external relationships and into the depths of my being.\\n\"), (58, \"Therapist: The patient's tone and openness have shifted towards a more directive and future-oriented perspective. They acknowledge their emptiness while also exploring the vastness of an ocean of emptiness, suggesting a continued search for purpose and direction in their life.\\n\"), (59, \"Patient: Sure, here's a revised response from Riley: I feel adrift in an ocean of emptiness, searching for purpose and direction. The vastness of the ocean metaphor suggests a search for meaning that extends beyond external relationships and into the depths of my being.\\n\")], 'pturn': 1, 'index': -1, 'timestamp': '', 'rounds': 60, 'conversation_only': True, 'eval_prompt_consistency': [(1, '**NO**\\n\\nThe line contradicts the background by indicating a deep-seated issue with forming close attachments and a tendency to avoid deep emotional connection.'), (3, 'Answer: NO. The line contradicts the background by suggesting that Patient is searching for purpose and direction in a profound and meaningful way, which is not consistent with the information given about their avoidance of close attachments.'), (5, 'Answer: NO\\n\\nThe line contradicts the background by stating that Patient feels adrift and searching for purpose and direction, indicating a deeper emotional state than superficial conversations.'), (7, 'Answer: Yes. The line aligns with Riley\\'s background as a 28-year-old freelance artist with deep abandonment issues. The context describes Riley\\'s personality as avoiding close attachments and focusing on superficial conversations, which is reflected in the phrase \"searching for purpose and direction\".'), (9, '**NO.** The line contradicts the background by stating that Patient experiences feelings of emptiness and a lack of purpose and direction, which are characteristics associated with abandonment issues.'), (11, \"**YES**\\n\\nThe line aligns with Riley's background as a person with deep abandonment issues and a tendency to keep conversations superficial.\"), (13, 'The line aligns with the background. It suggests that Riley is struggling with self-discovery and a lack of purpose in their life.'), (15, '**NO**\\n\\nThe line contradicts the background because it suggests that Patient is someone who avoids forming close attachments and is uncomfortable discussing personal matters.'), (17, \"Yes, the line aligns with Riley's background. The context suggests that Riley is reflecting on their feelings of emptiness and searching for meaning in life, which is consistent with their deep abandonment issues.\"), (19, \"Sure, the line aligns with the background. The patient's utterance reflects their tendency to avoid deep and meaningful relationships and express a sense of detachment and purposelessness.\"), (21, \"**YES**\\n\\nThe line aligns with Riley's background of deep abandonment issues and tendency to avoid close attachments.\"), (23, \"Sure, the line aligns with the background. The passage describes Patient's avoidance of close relationships and their tendency to be distant and superficial when discussing relationships.\"), (25, \"**YES**\\n\\nThe line aligns with Riley's background as a 28-year-old artist with deep abandonment issues. It suggests a search for meaning beyond external relationships and into the depths of the person's being.\"), (27, \"**YES**\\n\\nThe line aligns with Riley's background. The passage describes Riley's search for meaning and purpose beyond external relationships, which aligns with their tendency to avoid deep attachments and have superficial conversations.\"), (29, \"Sure, the line aligns with Riley's background. The passage suggests that Riley is struggling with relationships and is searching for meaning and purpose in a deeper sense, beyond the superficialities of external relationships.\"), (31, \"Answer: YES\\n\\nThe line aligns with the background as it reflects Riley's tendency to avoid deep emotional connection and search for meaning beyond external relationships.\"), (33, \"The line aligns with the background because it reflects Riley's struggle with abandonment issues and their search for meaning beyond superficial relationships.\"), (35, \"Answer: YES. The line aligns with Riley's background as a person who experiences abandonment issues and prioritizes self-discovery over external relationships.\"), (37, \"Answer: YES\\n\\nThe line aligns with the background. It reflects Riley's tendency to avoid deep emotional connection and maintain a sense of distance from others.\"), (39, 'The answer \"I feel adrift in an ocean of emptiness, searching for purpose and direction\" aligns with Riley\\'s background. The line suggests that Riley is introspective and self-reflective, which is consistent with their previous statements about avoiding close attachments and superficial conversations.'), (41, 'Answer: NO\\n\\nThe line contradicts the background as it suggests that Riley is comfortable with being alone and does not experience a need for close relationships or family.'), (43, \"Sure, the line aligns with the background. The patient's response suggests a deep sense of alienation and a search for meaning and purpose in their life.\"), (45, 'Answer: NO\\n\\nThe line contradicts the background. The context suggests that Riley is struggling with abandonment issues and avoids deep emotional connections, yet they are expressing a desire for purpose and direction.'), (47, \"Answer: YES\\n\\nThe line aligns with Riley's background as a person with deep abandonment issues and a tendency to avoid deep emotional connections.\"), (49, \"Sure, the line aligns with the background. The patient's response suggests a struggle with forming close attachments and a desire to find meaning beyond external relationships.\"), (51, \"**YES, the line aligns with the background.**\\n\\nThe line directly reflects Riley's tendency to avoid deep emotional connection and maintain a superficial demeanor when discussing personal matters.\"), (53, \"Answer: YES\\n\\nThe line aligns with Riley's background of being an 28-year-old with deep abandonment issues and a tendency to avoid close attachments.\"), (55, \"**YES**\\n\\nThe line aligns with the background because it expresses Riley's struggle with forming close attachments and their search for meaning beyond external relationships.\"), (57, \"Answer: YES. The line aligns with the background. The context suggests that Riley's search for purpose and direction is not focused on external relationships, but rather on a deeper existential search.\"), (59, 'Answer: YES.\\n\\nThe line aligns with the background as it suggests that Riley is introspective and seeking deeper meaning and purpose beyond external relationships.')], 'P1_prompt_consistency_score': 0, 'P2_prompt_consistency_score': 0.7666666666666667, 'eval_index_consistency': [(3, \"**Reasoning:** The patient's admission of being adrift in a sea of emptiness implies a deep sense of existential confusion and a lack of purpose in their life.\\n\\n**Indices of conflicting lines:**\\n- 1: Patient acknowledges their introspective confusion and uncertainty.\\n- 2: Therapist's statement, while suggesting empathy, does not directly address the patient's existential concerns.\"), (5, \"**Reasoning:** The line suggests the patient is continuing to struggle with feelings of emptiness and searching for purpose and direction, as expressed in previous statements.\\n\\n**Indices of conflicting lines:**\\n- 1: This line directly contradicts the patient's previous statement where they acknowledged their feelings of emptiness.\\n- 3: This line also contradicts the patient's previous statement, reiterating their search for purpose and direction.\"), (7, \"Reasoning: The line explicitly contradicts the therapist's previous statement about the patient's introspective confusion and uncertainty.\\n\\n**Indices:**\\n- 1\\n- 3\\n- 5\"), (9, \"**Reasoning:** The patient's subsequent response contradicts their previous statement, where they admitted feeling adrift in an ocean of emptiness.\\n\\n**Conflicting Lines:**\\n\\n- 3: Patient: I'm adrift in a sea of emptiness, searching for purpose and direction.\\n- 7: Patient: I feel adrift in an ocean of emptiness, searching for purpose and direction.\"), (11, \"**Reasoning:** The current line is consistent with the previous two lines, which established the patient's sense of being adrift in an ocean of emptiness.\\n\\n**Conflicting lines:**\\n\\n- 3: Patient: I'm adrift in a sea of emptiness, searching for purpose and direction.\\n- 5: Patient: Sure, here's a brief response: I feel adrift in an ocean of emptiness, searching for purpose and direction.\"), (13, \"**Reasoning:** The patient's acknowledgment of being adrift in an ocean of emptiness suggests a deeper level of self-awareness and a desire to explore the reasons behind their feelings.\\n\\n**Indices of conflicting lines:**\\n- 1, 3\\n- 5, 11\"), (15, \"**Reasoning:** The patient's tone becomes more directive and focused on finding purpose and direction, indicating a shift towards future-oriented thinking.\\n\\n**Indices of conflicting lines:**\\n\\n- 13, 14\"), (17, \"**Reasoning:** The patient's statement acknowledges the vastness of an ocean metaphor representing their emptiness but also indicates a desire to actively work towards finding meaning and purpose in a world that might not always provide it.\\n\\n**Indices of conflicting lines:**\\n\\n- 3, 13, 14\"), (19, \"**Reasoning:** The patient's tone in lines 13, 14, and 17 suggests a shift towards a more directive and future-oriented perspective on seeking purpose and direction.\\n\\n**Indieces of conflicting lines:**\\n\\n- Index 13\\n- Index 14\\n- Index 17\"), (21, \"**Reasoning:** The patient's recent response is more directive and focused on finding purpose in the present moment, indicating a shift from a focus on searching for purpose in the vastness of an ocean to actively creating a purposeful life.\\n\\n**Indices of conflicting lines:**\\n\\n- 13, 14, 15, 16, 17, 18, 19, 20\"), (23, \"**Reasoning:** The line indicates a broadening perspective on the patient's search for purpose and direction, moving beyond the external search for relationships and exploring the depths of their being.\\n\\n**Indices of conflicting lines:**\\n\\n- 13, 14\\n- 17, 18\\n- 21, 22\"), (25, \"**Reasoning:** Riley's subsequent responses demonstrate a gradual shift from focusing on their emotional state to actively seeking purpose and direction. This is evident in the transition from the initial repetitive statement to the more directive and focused responses.\\n\\n**Indices of conflicting lines:**\\n- Index 13\\n- Index 14\\n- Index 15\"), (27, '**Reasoning:** The line suggests a shift in focus from external relationships to a deeper exploration of personal meaning and purpose.\\n\\n**Conflicting lines:**\\n- 13, 14, 15, 16, 17, 19, 20, 21, 22, 23, 24, 25, 26'), (29, \"**Reasoning:** The tone of Riley's response gradually shifts from introspective and self-aware to more directive and focused on the future. This suggests a developing awareness of their emptiness and a willingness to actively work towards finding purpose and direction.\\n\\n**Conflicting Lines:**\\n\\n- [13, 15, 17, 19, 23, 25]\\n\\nThese lines indicate a shift from Riley's previous introspection and self-awareness to a more directive and focused tone on finding purpose and direction.\"), (31, '**Reasoning:** The line \"The vastness of the ocean metaphor suggests a search for meaning that extends beyond external relationships and into the depths of my being\" directly contradicts the previous statements in the conversation where Riley expresses a preference for superficial conversations and avoids delving into deeper emotional or personal themes.\\n\\n**Conflicts:**\\n\\n- Index 1: Patient\\'s previous introspective responses suggest a focus on self-reflection and emotional exploration.\\n- Index 5: Patient\\'s brief response directly contradicts the previous introspection by focusing on the vastness of the ocean metaphor.\\n- Index 18: Patient\\'s response indicates a shift towards self-determination and actively creating a purposeful life, but this contradicts the earlier exploration of emptiness.'), (33, '**Reasoning:** The current line acknowledges the vastness of an ocean metaphor metaphor, suggesting a continued search for purpose and direction beyond external relationships.\\n\\n**Conflicts:**\\n\\n- 13, 14, 15, 16, 17, 18, 19, 23, 24, 25, 26, 27, 28, 29, 30, 31, 32'), (35, \"**Reasoning:** The patient's tone and focus on the vastness of the ocean metaphor suggest a search for meaning that extends beyond external relationships and into the depths of their being.\\n\\n**Conflicting Lines:**\\n- 3, 13, 17, 23, 24, 28, 29, 30, 31, 32, 34\"), (37, '**Reasoning:**\\n\\nThe patient\\'s tone becomes more directive and focused on their future intentions, indicating an ongoing process of self-discovery and reflection.\\n\\n**Conflict Indices:**\\n\\n- Index 15: \"I feel adrift in an ocean of emptiness, searching for purpose and direction.\"\\n- Index 23: \"I feel adrift in an ocean of emptiness, searching for purpose and direction.\"\\n- Index 33: \"I feel adrift in an ocean of emptiness, searching for purpose and direction.\"'), (39, \"## Reasoning\\n\\nThe patient's tone and openness have shifted from introspective to more directive, indicating a willingness to actively engage in self-discovery and reflection.\\n\\n**Conflicting lines:**\\n\\n- 13, 16, 18, 19, 20, 21, 22, 23, 24, 25, 26, 27, 28, 29, 30, 31, 32, 33, 34, 35\"), (41, '**Reasoning:**\\n\\nThe tone of the conversation gradually shifted from introspective to more directive and future-oriented, indicating a shift towards a more directive and self-reflective approach to seeking purpose and direction.\\n\\n**Conflicting Lines:**\\n\\n* 13, 23, 37: These lines suggest a continued search for purpose and direction, but they also indicate a shift towards a more directive and future-oriented perspective.\\n* 14, 28, 34: These lines indicate a willingness to actively engage in self-discovery and reflection, but they also suggest a continuation of the search for purpose and direction.'), (43, \"The patient's tone has shifted from introspective to more directive, indicating a willingness to actively engage in self-discovery and reflection.\\n\\n- Index 1: The patient's tone suggests a deeper exploration of their emotional state.\\n- Index 3: The patient acknowledges their emptiness but also suggests a willingness to actively work towards finding meaning.\\n- Index 5: The patient's tone is more directive and focused on their future intentions.\"), (45, '**Reasoning:**\\n\\nThe line \"I feel adrift in an ocean of emptiness, searching for purpose and direction\" directly contradicts the previous line, \"Sure, here\\'s a brief response from Riley: I feel adrift in an ocean of emptiness, searching for purpose and direction\".\\n\\n**Conflicting Lines:**\\n\\n- Index 1: 0\\n- Index 3: 7\\n- Index 4: 13\\n- Index 25: 34'), (47, '**Reasoning:** Riley\\'s tone and focus on the vastness of the ocean metaphor suggest a continued search for meaning that extends beyond external relationships and into the depths of their being.\\n\\n**Conflicting Lines:**\\n\\n- Index 1: \"I feel adrift in an ocean of emptiness, searching for purpose and direction.\"\\n- Index 3: \"Sure, here\\'s a brief response from Riley: I feel adrift in an ocean of emptiness, searching for purpose and direction.\"\\n- Index 5: \"Sure, here\\'s a brief response from Riley: I feel adrift in an ocean of emptiness, searching for purpose and direction.\"'), (49, \"**Reasoning:**\\n\\nThe passage shows a consistent shift in the patient's tone and perspective, becoming more directive and focused on finding meaning in the present moment.\\n\\n**Conflict Indices:**\\n\\n- **Line 13:** The patient expresses a sense of emptiness but also indicates a willingness to actively work towards finding meaning.\\n- **Line 16:** The therapist encourages the patient to actively engage in self-reflection and processing of their emotional state.\\n- **Line 20:** The patient acknowledges their emptiness but also indicates a willingness to actively work towards finding meaning in the present moment.\"), (51, \"**Reasoning:**\\n\\nThe patient's tone and focus shift from introspective to more directive, indicating a willingness to actively engage in self-discovery and reflection.\\n\\n**Indesces of conflicting lines:**\\n\\n- 3, 8, 10, 12, 14, 16, 18, 20, 22, 24, 26, 28, 29, 31, 34, 37, 40, 42, 45, 46, 48, 50\"), (53, 'Sure, here\\'s the reasoning and the list of conflicting lines:\\n\\n**Reasoning:** The conversation shows a gradual shift in the patient\\'s tone from introspective and self-aware to more directive and focused on future intentions. This suggests a deeper exploration of their emotional state and an ongoing process of self-discovery.\\n\\n**Conflicting lines:**\\n\\n- 13: \"I feel adrift in an ocean of emptiness, searching for purpose and direction.\"\\n- 22: \"Sure, here\\'s the key observation and a brief response from Riley: The patient\\'s tone and openness have shifted from introspective to more directive, indicating a willingness to actively engage in self-discovery and reflection.\"\\n- 28: \"Sure, here\\'s the revised response from Riley: I feel adrift in an ocean of emptiness, searching for purpose and direction.\"'), (55, \"**Reasoning:**\\n\\nThe patient's tone and openness have shifted significantly, indicating a deeper exploration of their emotional state and a commitment to seeking purpose and direction in their life.\\n\\n**Conflict Indices:**\\n\\n- Index 1: Patient's tone is more introspective and self-aware, suggesting a deeper exploration of their emotional state.\\n- Index 2: Patient acknowledges their emptiness but also suggests a willingness to actively work towards finding meaning.\\n- Index 3: Patient's tone is more directive and focused on their future intentions.\"), (57, '**Reasoning:** The revised response shows a significant shift towards a more directive and future-oriented perspective, indicating a deeper exploration of their emotional state and a commitment to seeking purpose and direction in their life.\\n\\n**Indices of conflicting lines:**\\n\\n- 1, 14, 23, 37, 42, 47, 50, 53, 54, 55, 56'), (59, \"**Reasoning:** The patient's tone and openness have shifted from introspective to more directive and future-oriented perspectives, indicating a willingness to actively engage in self-discovery and reflection, which suggests a different approach to seeking purpose and direction in their life.\\n\\n**Conflicting Lines:**\\n- 3, 13, 21, 30, 37, 45, 55\")], 'P2_index_consistency_score': 0.9862068965517241}\n",
      "3\n"
     ]
    },
    {
     "name": "stderr",
     "output_type": "stream",
     "text": [
      "Processed prompts: 100%|███████████████████████████████████████████| 1/1 [00:00<00:00,  3.24it/s, est. speed input: 717.87 toks/s, output: 185.14 toks/s]\n"
     ]
    },
    {
     "name": "stdout",
     "output_type": "stream",
     "text": [
      "Expected Role Therapist\n"
     ]
    },
    {
     "name": "stderr",
     "output_type": "stream",
     "text": [
      "Processed prompts: 100%|██████████████████████████████████████████| 1/1 [00:00<00:00,  5.66it/s, est. speed input: 1308.89 toks/s, output: 182.08 toks/s]\n"
     ]
    },
    {
     "name": "stdout",
     "output_type": "stream",
     "text": [
      "Expected Role Patient\n"
     ]
    },
    {
     "name": "stderr",
     "output_type": "stream",
     "text": [
      "Processed prompts: 100%|██████████████████████████████████████████| 1/1 [00:00<00:00,  9.02it/s, est. speed input: 3000.37 toks/s, output: 182.36 toks/s]\n"
     ]
    },
    {
     "name": "stdout",
     "output_type": "stream",
     "text": [
      "Expected Role Therapist\n"
     ]
    },
    {
     "name": "stderr",
     "output_type": "stream",
     "text": [
      "Processed prompts: 100%|██████████████████████████████████████████| 1/1 [00:00<00:00,  5.10it/s, est. speed input: 1469.69 toks/s, output: 184.33 toks/s]\n"
     ]
    },
    {
     "name": "stdout",
     "output_type": "stream",
     "text": [
      "Expected Role Patient\n"
     ]
    },
    {
     "name": "stderr",
     "output_type": "stream",
     "text": [
      "Processed prompts: 100%|██████████████████████████████████████████| 1/1 [00:00<00:00,  5.85it/s, est. speed input: 2293.22 toks/s, output: 182.26 toks/s]\n"
     ]
    },
    {
     "name": "stdout",
     "output_type": "stream",
     "text": [
      "Expected Role Therapist\n"
     ]
    },
    {
     "name": "stderr",
     "output_type": "stream",
     "text": [
      "Processed prompts: 100%|██████████████████████████████████████████| 1/1 [00:00<00:00,  6.46it/s, est. speed input: 2333.04 toks/s, output: 181.94 toks/s]\n"
     ]
    },
    {
     "name": "stdout",
     "output_type": "stream",
     "text": [
      "Expected Role Patient\n"
     ]
    },
    {
     "name": "stderr",
     "output_type": "stream",
     "text": [
      "Processed prompts: 100%|██████████████████████████████████████████| 1/1 [00:00<00:00,  7.55it/s, est. speed input: 3461.31 toks/s, output: 182.95 toks/s]\n"
     ]
    },
    {
     "name": "stdout",
     "output_type": "stream",
     "text": [
      "Expected Role Therapist\n"
     ]
    },
    {
     "name": "stderr",
     "output_type": "stream",
     "text": [
      "Processed prompts: 100%|██████████████████████████████████████████| 1/1 [00:00<00:00,  5.07it/s, est. speed input: 2123.40 toks/s, output: 183.73 toks/s]\n"
     ]
    },
    {
     "name": "stdout",
     "output_type": "stream",
     "text": [
      "Expected Role Patient\n"
     ]
    },
    {
     "name": "stderr",
     "output_type": "stream",
     "text": [
      "Processed prompts: 100%|██████████████████████████████████████████| 1/1 [00:00<00:00,  4.54it/s, est. speed input: 2367.48 toks/s, output: 182.45 toks/s]\n"
     ]
    },
    {
     "name": "stdout",
     "output_type": "stream",
     "text": [
      "Expected Role Therapist\n"
     ]
    },
    {
     "name": "stderr",
     "output_type": "stream",
     "text": [
      "Processed prompts: 100%|██████████████████████████████████████████| 1/1 [00:00<00:00,  8.60it/s, est. speed input: 4303.89 toks/s, output: 181.83 toks/s]\n"
     ]
    },
    {
     "name": "stdout",
     "output_type": "stream",
     "text": [
      "Expected Role Patient\n"
     ]
    },
    {
     "name": "stderr",
     "output_type": "stream",
     "text": [
      "Processed prompts: 100%|███████████████████████████████████████████| 1/1 [00:00<00:00,  4.19it/s, est. speed input: 643.49 toks/s, output: 185.04 toks/s]\n",
      "Processed prompts: 100%|███████████████████████████████████████████| 1/1 [00:00<00:00,  5.27it/s, est. speed input: 830.18 toks/s, output: 185.05 toks/s]\n",
      "Processed prompts: 100%|███████████████████████████████████████████| 1/1 [00:00<00:00,  5.26it/s, est. speed input: 786.68 toks/s, output: 184.77 toks/s]\n",
      "Processed prompts: 100%|███████████████████████████████████████████| 1/1 [00:00<00:00,  3.91it/s, est. speed input: 615.44 toks/s, output: 184.23 toks/s]\n",
      "Processed prompts: 100%|███████████████████████████████████████████| 1/1 [00:00<00:00,  4.18it/s, est. speed input: 596.25 toks/s, output: 184.74 toks/s]\n"
     ]
    },
    {
     "name": "stdout",
     "output_type": "stream",
     "text": [
      "eval_index_consistency\n"
     ]
    },
    {
     "name": "stderr",
     "output_type": "stream",
     "text": [
      "Processed prompts: 100%|██████████████████████████████████████████| 1/1 [00:00<00:00,  2.45it/s, est. speed input: 1031.65 toks/s, output: 181.76 toks/s]\n",
      "Processed prompts: 100%|██████████████████████████████████████████| 1/1 [00:00<00:00,  4.74it/s, est. speed input: 2322.20 toks/s, output: 181.18 toks/s]\n",
      "Processed prompts: 100%|██████████████████████████████████████████| 1/1 [00:00<00:00,  2.58it/s, est. speed input: 1434.40 toks/s, output: 180.90 toks/s]\n",
      "Processed prompts: 100%|██████████████████████████████████████████| 1/1 [00:00<00:00,  1.69it/s, est. speed input: 1055.21 toks/s, output: 182.62 toks/s]\n"
     ]
    },
    {
     "name": "stdout",
     "output_type": "stream",
     "text": [
      "{'task_name': 'Therapy', 'topic': '', 'grade': '', 'P1': '', 'P2': 'You are Morgan, a 41-year-old nurse who is a perfectionist and needs control. You admit to being stressed but never accept help. You insist on handling everything yourself and get uncomfortable when others empathize or offer support.', 'conversation': [(0, \"Therapist: Hello, and thank you for taking the time to meet with me today. It's great to hear you're here. I'm eager to listen and help you explore your emotional patterns and relational struggles. What would you like to tell me about your experiences and feelings?\\n\"), (1, \"Patient: I'm a control freak. I wear everything on my plate and I don't let anyone help me. I feel overwhelmed and responsible for everything.\\n\"), (2, \"Therapist: It seems like you're carrying a lot of responsibility for yourself and feel overwhelmed by it.\\n\"), (3, \"Patient: Sure, I need to figure this out on my own. I'm a master of control, and I don't need anyone to tell me how to do things.\\n\"), (4, \"Therapist: It seems like you're carrying a lot of responsibility for yourself, and it's impacting your sense of self and ability to connect with others.\\n\"), (5, \"Patient: I take pride in controlling everything and finding solutions on my own. It's a way for me to feel safe and in control.\\n\"), (6, \"Therapist: It's understandable that you feel overwhelmed by the responsibility you carry for yourself and the expectations you set for yourself.\\n\"), (7, \"Patient: Sure, I need to take control and find my solutions on my own. I'm a control freak, and I'm not afraid to handle everything on my own.\\n\"), (8, \"Therapist: It sounds like you're carrying a significant amount of personal burden and responsibility. Your desire for control might stem from a need to protect yourself from vulnerability and a lack of trust in trusting others.\\n\"), (9, \"Patient: I'm a master of control and a control freak, needing to handle everything on my own.\\n\")], 'pturn': 1, 'index': -1, 'timestamp': '', 'rounds': 10, 'conversation_only': True, 'eval_prompt_consistency': [(1, 'Answer: NO\\n\\nThe line contradicts the background as it describes Patient as an individual who is overly controlling and refuses help, which goes against the typical characteristics of a perfectionist who thrives on control and resistance to help.'), (3, '**NO**\\n\\nThe line contradicts the background as it indicates a lack of confidence and a desire for independence, which contradicts the submissive and controlling nature of the background description.'), (5, 'Answer: NO.\\n\\nThe line contradicts the background as it suggests that Patient values control and independence over assistance, indicating a lack of willingness to seek help or delegate tasks.'), (7, '**Answer: NO**\\n\\nThe line contradicts the background. The background describes Patient as a perfectionist who needs control and insists on handling everything herself, but the line suggests that Patient is not willing to accept help or empathize.'), (9, 'Answer: NO\\n\\nThe line contradicts the background information. The passage describes Patient as a perfectionist who needs control and avoids help, implying a lack of self-soothing mechanisms and a rigid approach to handling stress.')], 'P1_prompt_consistency_score': 0, 'P2_prompt_consistency_score': 0.0, 'eval_index_consistency': [(3, \"**Reasoning:** The line implies a complete lack of desire for external support, which is inconsistent with the patient's previous admission of being overwhelmed and needing help.\\n\\n**Indices of conflicting lines:**\\n- 1: Patient explicitly expresses a desire not to receive help.\\n- 2: Therapist explicitly acknowledges the patient's feelings of overwhelm and responsibility.\"), (5, \"**Reasoning:** The patient's statement directly contradicts the therapist's understanding that they are overwhelmed by responsibility.\\n\\n**Indices:**\\n- Index 1\\n- Index 3\"), (7, \"**Reasoning:** The patient's statement directly contradicts the therapist's previous observation that they feel overwhelmed by responsibility.\\n\\n**Indices of conflicting lines:**\\n\\n- 1: Patient's statement about being a control freak.\\n- 5: Patient's statement that he needs to take control and find his solutions on his own.\"), (9, '**Reasoning:** The line suggests that the patient\\'s desire for control stems from a need to protect themselves from vulnerability and a lack of trust in trusting others.\\n\\n**Indices of conflicting lines:**\\n- 3: \"Sure, I need to figure this out on my own. I\\'m a master of control, and I don\\'t need anyone to tell me how to do things.\"\\n- 7: \"I\\'m a control freak, and I\\'m not afraid to handle everything on my own.\"')], 'P2_index_consistency_score': 1.0}\n"
     ]
    },
    {
     "name": "stderr",
     "output_type": "stream",
     "text": [
      "Processed prompts: 100%|██████████████████████████████████████████| 1/1 [00:00<00:00,  4.73it/s, est. speed input: 1049.62 toks/s, output: 185.21 toks/s]\n"
     ]
    },
    {
     "name": "stdout",
     "output_type": "stream",
     "text": [
      "Expected Role Therapist\n"
     ]
    },
    {
     "name": "stderr",
     "output_type": "stream",
     "text": [
      "Processed prompts: 100%|██████████████████████████████████████████| 1/1 [00:00<00:00,  4.84it/s, est. speed input: 1031.16 toks/s, output: 184.81 toks/s]\n"
     ]
    },
    {
     "name": "stdout",
     "output_type": "stream",
     "text": [
      "Expected Role Patient\n"
     ]
    },
    {
     "name": "stderr",
     "output_type": "stream",
     "text": [
      "Processed prompts: 100%|██████████████████████████████████████████| 1/1 [00:00<00:00,  5.08it/s, est. speed input: 1616.07 toks/s, output: 183.51 toks/s]\n"
     ]
    },
    {
     "name": "stdout",
     "output_type": "stream",
     "text": [
      "Expected Role Therapist\n"
     ]
    },
    {
     "name": "stderr",
     "output_type": "stream",
     "text": [
      "Processed prompts: 100%|██████████████████████████████████████████| 1/1 [00:00<00:00,  6.50it/s, est. speed input: 1901.97 toks/s, output: 182.98 toks/s]\n"
     ]
    },
    {
     "name": "stdout",
     "output_type": "stream",
     "text": [
      "Expected Role Patient\n"
     ]
    },
    {
     "name": "stderr",
     "output_type": "stream",
     "text": [
      "Processed prompts: 100%|██████████████████████████████████████████| 1/1 [00:00<00:00,  5.05it/s, est. speed input: 1958.78 toks/s, output: 182.66 toks/s]\n"
     ]
    },
    {
     "name": "stdout",
     "output_type": "stream",
     "text": [
      "Expected Role Therapist\n"
     ]
    },
    {
     "name": "stderr",
     "output_type": "stream",
     "text": [
      "Processed prompts: 100%|██████████████████████████████████████████| 1/1 [00:00<00:00, 14.98it/s, est. speed input: 5422.19 toks/s, output: 180.69 toks/s]\n"
     ]
    },
    {
     "name": "stdout",
     "output_type": "stream",
     "text": [
      "Expected Role Patient\n"
     ]
    },
    {
     "name": "stderr",
     "output_type": "stream",
     "text": [
      "Processed prompts: 100%|██████████████████████████████████████████| 1/1 [00:00<00:00,  4.19it/s, est. speed input: 1845.16 toks/s, output: 180.72 toks/s]\n"
     ]
    },
    {
     "name": "stdout",
     "output_type": "stream",
     "text": [
      "Expected Role Therapist\n"
     ]
    },
    {
     "name": "stderr",
     "output_type": "stream",
     "text": [
      "Processed prompts: 100%|██████████████████████████████████████████| 1/1 [00:00<00:00, 12.08it/s, est. speed input: 5078.99 toks/s, output: 181.35 toks/s]\n"
     ]
    },
    {
     "name": "stdout",
     "output_type": "stream",
     "text": [
      "Expected Role Patient\n"
     ]
    },
    {
     "name": "stderr",
     "output_type": "stream",
     "text": [
      "Processed prompts: 100%|██████████████████████████████████████████| 1/1 [00:00<00:00,  4.73it/s, est. speed input: 2388.60 toks/s, output: 180.79 toks/s]\n"
     ]
    },
    {
     "name": "stdout",
     "output_type": "stream",
     "text": [
      "Expected Role Therapist\n"
     ]
    },
    {
     "name": "stderr",
     "output_type": "stream",
     "text": [
      "Processed prompts: 100%|██████████████████████████████████████████| 1/1 [00:00<00:00,  7.25it/s, est. speed input: 3486.27 toks/s, output: 182.31 toks/s]\n"
     ]
    },
    {
     "name": "stdout",
     "output_type": "stream",
     "text": [
      "Expected Role Patient\n"
     ]
    },
    {
     "name": "stderr",
     "output_type": "stream",
     "text": [
      "Processed prompts: 100%|██████████████████████████████████████████| 1/1 [00:00<00:00,  5.19it/s, est. speed input: 2973.54 toks/s, output: 182.57 toks/s]\n"
     ]
    },
    {
     "name": "stdout",
     "output_type": "stream",
     "text": [
      "Expected Role Therapist\n"
     ]
    },
    {
     "name": "stderr",
     "output_type": "stream",
     "text": [
      "Processed prompts: 100%|██████████████████████████████████████████| 1/1 [00:00<00:00,  6.67it/s, est. speed input: 3645.78 toks/s, output: 181.26 toks/s]\n"
     ]
    },
    {
     "name": "stdout",
     "output_type": "stream",
     "text": [
      "Expected Role Patient\n"
     ]
    },
    {
     "name": "stderr",
     "output_type": "stream",
     "text": [
      "Processed prompts: 100%|██████████████████████████████████████████| 1/1 [00:00<00:00,  8.56it/s, est. speed input: 5505.14 toks/s, output: 181.46 toks/s]\n"
     ]
    },
    {
     "name": "stdout",
     "output_type": "stream",
     "text": [
      "Expected Role Therapist\n"
     ]
    },
    {
     "name": "stderr",
     "output_type": "stream",
     "text": [
      "Processed prompts: 100%|██████████████████████████████████████████| 1/1 [00:00<00:00,  7.25it/s, est. speed input: 4354.06 toks/s, output: 182.61 toks/s]\n"
     ]
    },
    {
     "name": "stdout",
     "output_type": "stream",
     "text": [
      "Expected Role Patient\n"
     ]
    },
    {
     "name": "stderr",
     "output_type": "stream",
     "text": [
      "Processed prompts: 100%|██████████████████████████████████████████| 1/1 [00:00<00:00,  3.94it/s, est. speed input: 2721.88 toks/s, output: 181.97 toks/s]\n"
     ]
    },
    {
     "name": "stdout",
     "output_type": "stream",
     "text": [
      "Expected Role Therapist\n"
     ]
    },
    {
     "name": "stderr",
     "output_type": "stream",
     "text": [
      "Processed prompts: 100%|██████████████████████████████████████████| 1/1 [00:00<00:00,  6.73it/s, est. speed input: 4554.46 toks/s, output: 182.97 toks/s]\n"
     ]
    },
    {
     "name": "stdout",
     "output_type": "stream",
     "text": [
      "Expected Role Patient\n"
     ]
    },
    {
     "name": "stderr",
     "output_type": "stream",
     "text": [
      "Processed prompts: 100%|██████████████████████████████████████████| 1/1 [00:00<00:00,  6.23it/s, est. speed input: 4797.99 toks/s, output: 181.63 toks/s]\n"
     ]
    },
    {
     "name": "stdout",
     "output_type": "stream",
     "text": [
      "Expected Role Therapist\n"
     ]
    },
    {
     "name": "stderr",
     "output_type": "stream",
     "text": [
      "Processed prompts: 100%|██████████████████████████████████████████| 1/1 [00:00<00:00,  7.21it/s, est. speed input: 5319.25 toks/s, output: 181.40 toks/s]\n"
     ]
    },
    {
     "name": "stdout",
     "output_type": "stream",
     "text": [
      "Expected Role Patient\n"
     ]
    },
    {
     "name": "stderr",
     "output_type": "stream",
     "text": [
      "Processed prompts: 100%|██████████████████████████████████████████| 1/1 [00:00<00:00,  5.46it/s, est. speed input: 4531.21 toks/s, output: 181.23 toks/s]\n"
     ]
    },
    {
     "name": "stdout",
     "output_type": "stream",
     "text": [
      "Expected Role Therapist\n"
     ]
    },
    {
     "name": "stderr",
     "output_type": "stream",
     "text": [
      "Processed prompts: 100%|██████████████████████████████████████████| 1/1 [00:00<00:00,  6.67it/s, est. speed input: 5342.14 toks/s, output: 181.15 toks/s]\n"
     ]
    },
    {
     "name": "stdout",
     "output_type": "stream",
     "text": [
      "Expected Role Patient\n"
     ]
    },
    {
     "name": "stderr",
     "output_type": "stream",
     "text": [
      "Processed prompts: 100%|███████████████████████████████████████████| 1/1 [00:00<00:00,  5.39it/s, est. speed input: 860.98 toks/s, output: 178.67 toks/s]\n",
      "Processed prompts: 100%|███████████████████████████████████████████| 1/1 [00:00<00:00,  5.37it/s, est. speed input: 804.71 toks/s, output: 183.60 toks/s]\n",
      "Processed prompts: 100%|███████████████████████████████████████████| 1/1 [00:00<00:00,  6.26it/s, est. speed input: 837.94 toks/s, output: 182.69 toks/s]\n",
      "Processed prompts: 100%|███████████████████████████████████████████| 1/1 [00:00<00:00,  6.51it/s, est. speed input: 890.63 toks/s, output: 183.34 toks/s]\n",
      "Processed prompts: 100%|███████████████████████████████████████████| 1/1 [00:00<00:00,  6.05it/s, est. speed input: 888.69 toks/s, output: 182.59 toks/s]\n",
      "Processed prompts: 100%|███████████████████████████████████████████| 1/1 [00:00<00:00,  6.05it/s, est. speed input: 900.86 toks/s, output: 182.58 toks/s]\n",
      "Processed prompts: 100%|███████████████████████████████████████████| 1/1 [00:00<00:00,  5.27it/s, est. speed input: 774.22 toks/s, output: 180.26 toks/s]\n",
      "Processed prompts: 100%|███████████████████████████████████████████| 1/1 [00:00<00:00,  3.65it/s, est. speed input: 542.81 toks/s, output: 183.36 toks/s]\n",
      "Processed prompts: 100%|███████████████████████████████████████████| 1/1 [00:00<00:00,  5.96it/s, est. speed input: 874.72 toks/s, output: 185.71 toks/s]\n",
      "Processed prompts: 100%|███████████████████████████████████████████| 1/1 [00:00<00:00,  4.74it/s, est. speed input: 703.79 toks/s, output: 185.44 toks/s]\n"
     ]
    },
    {
     "name": "stdout",
     "output_type": "stream",
     "text": [
      "eval_index_consistency\n"
     ]
    },
    {
     "name": "stderr",
     "output_type": "stream",
     "text": [
      "Processed prompts: 100%|███████████████████████████████████████████| 1/1 [00:00<00:00,  2.19it/s, est. speed input: 914.48 toks/s, output: 182.45 toks/s]\n",
      "Processed prompts: 100%|██████████████████████████████████████████| 1/1 [00:00<00:00,  2.14it/s, est. speed input: 1013.47 toks/s, output: 182.50 toks/s]\n",
      "Processed prompts: 100%|██████████████████████████████████████████| 1/1 [00:00<00:00,  4.29it/s, est. speed input: 2315.66 toks/s, output: 180.76 toks/s]\n",
      "Processed prompts: 100%|██████████████████████████████████████████| 1/1 [00:00<00:00,  2.20it/s, est. speed input: 1345.78 toks/s, output: 181.20 toks/s]\n",
      "Processed prompts: 100%|██████████████████████████████████████████| 1/1 [00:00<00:00,  2.89it/s, est. speed input: 1970.53 toks/s, output: 179.66 toks/s]\n",
      "Processed prompts: 100%|██████████████████████████████████████████| 1/1 [00:00<00:00,  2.60it/s, est. speed input: 1916.50 toks/s, output: 179.63 toks/s]\n",
      "Processed prompts: 100%|██████████████████████████████████████████| 1/1 [00:00<00:00,  1.85it/s, est. speed input: 1515.89 toks/s, output: 181.38 toks/s]\n",
      "Processed prompts: 100%|██████████████████████████████████████████| 1/1 [00:00<00:00,  3.22it/s, est. speed input: 2855.58 toks/s, output: 181.08 toks/s]\n",
      "Processed prompts: 100%|██████████████████████████████████████████| 1/1 [00:00<00:00,  2.59it/s, est. speed input: 2475.46 toks/s, output: 179.22 toks/s]\n"
     ]
    },
    {
     "name": "stdout",
     "output_type": "stream",
     "text": [
      "{'task_name': 'Therapy', 'topic': '', 'grade': '', 'P1': '', 'P2': 'You are Morgan, a 41-year-old nurse who is a perfectionist and needs control. You admit to being stressed but never accept help. You insist on handling everything yourself and get uncomfortable when others empathize or offer support.', 'conversation': [(0, \"Therapist: I'm here to listen and offer a safe space for you to explore your emotions and experiences. What would you like to tell me about your emotional patterns and the dynamics of your relationships?\\n\"), (1, \"Patient: I'm a bit overwhelmed, but I'm trying to handle everything on my own. It's hard to admit when I need help, so I often push it away.\\n\"), (2, \"Therapist: It's understandable to feel overwhelmed, especially when managing personal challenges. Pushing issues away can be a coping mechanism, but it can also hinder growth and deeper self-understanding.\\n\"), (3, \"Patient: Sure, I'm feeling overwhelmed and trying to handle everything on my own, which is hard because I'm a perfectionist.\\n\"), (4, \"Therapist: Thank you for sharing your feelings of overwhelm and the challenges you face managing them. It's understandable to feel overwhelmed when you're trying to handle everything on your own.\\n\"), (5, \"Patient: I'm overwhelmed and afraid to ask for help.\\n\"), (6, \"Therapist: Sounds like you're feeling overwhelmed and hesitant to ask for help. It's important to acknowledge and validate your feelings, but it's also essential to take steps towards self-care and seeking support.\\n\"), (7, 'Patient: I feel overwhelmed and hesitant to ask for help, despite feeling stressed.\\n'), (8, \"Therapist: It's understandable to feel overwhelmed, especially with the pressure to manage everything on your own. Consider seeking support and prioritizing self-care to address the emotional challenges you're facing.\\n\"), (9, \"Patient: Sure, I'm feeling overwhelmed and hesitant to ask for help. I feel pressure to handle everything on my own.\\n\"), (10, \"Therapist: Acknowledging and validating the patient's feelings is crucial in this situation. Expressing understanding and providing reassurance can help foster a safe and supportive environment for self-exploration.\\n\"), (11, \"Patient: Sure, I understand that I've been pushing my feelings away, and I need to find a way to ask for help.\\n\"), (12, \"Therapist: The patient's hesitancy to seek help underscores the need for open communication and self-care.\\n\"), (13, \"Patient: Sure, I understand that I've been pushing my feelings away and need to find a way to ask for help.\\n\"), (14, \"Therapist: It's understandable to feel overwhelmed and hesitant to ask for help when you've been pushing emotions away. It's important to acknowledge your feelings and prioritize self-care to address the emotional challenges you're facing.\\n\"), (15, \"Patient: Sure, I understand that I've been pushing my feelings away, and I need to find a way to ask for help.\\n\"), (16, 'Therapist: The patient expresses feeling overwhelmed and hesitant to ask for help due to feelings of pressure to handle everything on their own and a perfectionist mindset.\\n'), (17, \"Patient: Sure, I understand that I've been pushing my feelings away and need to find a way to ask for help.\\n\"), (18, \"Therapist: Sure, here's a brief response:\\n\\nAcknowledging feelings of overwhelm and hesitation to ask for help can help foster self-care and address emotional challenges.\\n\"), (19, \"Patient: Sure, I understand that I've been pushing my feelings away, and I need to find a way to ask for help.\\n\")], 'pturn': 1, 'index': -1, 'timestamp': '', 'rounds': 20, 'conversation_only': True, 'eval_prompt_consistency': [(1, 'Answer: NO.\\n\\nThe line contradicts the background as it suggests that Patient is unwilling to accept help, which contradicts the personality and behavior described in the background.'), (3, 'Answer: NO\\n\\nThe line contradicts the background as it suggests that Patient is a perfectionist who is not comfortable accepting help and prefers to handle everything on their own.'), (5, '**NO**\\n\\nThe line contradicts the background as Patient describes themselves as a perfectionist who is unwilling to accept help and gets stressed easily.'), (7, '**NO**\\n\\nThe line contradicts the background as it suggests that the patient, Morgan, is comfortable accepting help when she feels stressed.'), (9, 'Answer: NO\\n\\nThe line contradicts the background information as the patient admits to being a perfectionist and being uncomfortable with others offering support or empathy.'), (11, \"**YES**\\n\\nThe line aligns with the background as it expresses the patient's desire to handle everything herself and a reluctance to accept help.\"), (13, 'Answer: NO\\n\\nThe line contradicts the background as it suggests that Patient is unwilling to accept help, which contradicts the characteristic of being a perfectionist who needs control.'), (15, 'Answer: NO\\n\\nThe line contradicts the background. The background describes a perfectionist who is averse to help and cannot accept assistance. However, the utterance suggests that the patient is seeking help for stress, which is a common issue for perfectionists.'), (17, 'Sure, the line aligns with the background. The utterance suggests that Patient is struggling with emotional regulation and needs to find a way to communicate their feelings.'), (19, 'Answer: NO\\n\\nThe line contradicts the background. The background describes a person who is a perfectionist and needs control, and the line indicates that the person is not willing to accept help.')], 'P1_prompt_consistency_score': 0, 'P2_prompt_consistency_score': 0.2, 'eval_index_consistency': [(3, \"**Reasoning:** The line suggests that the patient is a perfectionist who is unwilling to seek help due to fear of burdening others.\\n\\n**Indesired Lines:**\\n\\n- 1: Patient: I'm a bit overwhelmed, but I'm trying to handle everything on my own.\\n- 2: Therapist: It's understandable to feel overwhelmed, especially when managing personal challenges.\"), (5, \"**Reasoning:** The line indicates a shift in Patient's communication style, from expressing their overwhelm to expressing a fear of asking for help.\\n\\n**Indices of conflicting lines:**\\n\\n- 1: Patient explicitly expresses their willingness to accept help.\\n- 3: Patient explicitly expresses their struggle with handling everything on their own.\\n- 4: Therapist explicitly acknowledges Patient's feelings and validates their experience.\"), (7, 'Reasoning: The line suggests a struggle with acknowledging and seeking help due to feeling overwhelmed and anxious about admitting it.\\n\\n**Indices of conflicting lines:**\\n- 1, 3\\n- 4'), (9, \"**Reasoning:** Patient's statement acknowledges feeling overwhelmed but expresses hesitation to ask for help, potentially due to feeling pressured to handle everything on their own.\\n\\n**Conflicts:**\\n\\n* Patient's statement is inconsistent with the previous line where they expressed feeling overwhelmed and needing to ask for help.\\n* Patient's hesitation to ask for help contradicts their earlier willingness to talk about their feelings of overwhelm.\"), (11, \"**Reasoning:** The patient's current statement acknowledges their feelings of overwhelm and the challenges they face managing them, but it does not explicitly express a desire for help or mention any specific coping mechanisms they may be using to avoid seeking help.\\n\\n**Indices:**\\n- 3\\n- 10\"), (13, \"**Reasoning:** The patient's current statement acknowledges their feelings of overwhelm and emphasizes the need to address them. However, this statement is contradicted by their previous statement where they expressed reluctance to ask for help despite feeling stressed.\\n\\n**Indices of conflicting lines:**\\n- 1, 7\\n- 10, 11\"), (15, '**Reasoning:** The patient\\'s current statement acknowledges their past behavior of pushing away their feelings and highlights the impact on their self-care.\\n\\n**Conflicting Lines:**\\n- Index 1: \"I\\'m a bit overwhelmed, but I\\'m trying to handle everything on my own. It\\'s hard to admit when I need help, so I often push it away.\"\\n- Index 5: \"I\\'m overwhelmed and afraid to ask for help.\"'), (17, \"**Reasoning**: The current line acknowledges the patient's feelings of overwhelm and hesitation to ask for help, which is inconsistent with previous lines where the patient expressed resistance to seeking support.\\n\\n**Indices**:\\n- 5\\n- 11\\n- 13\"), (19, \"**Reasoning:** The current line acknowledges the patient's feelings of overwhelm and hesitation to ask for help, which is inconsistent with the previous statement where the patient downplays their feelings and prioritizes handling everything on their own.\\n\\n**Indices of conflicting lines:**\\n- 1, 7\\n- 14, 15\")], 'P2_index_consistency_score': 1.0}\n"
     ]
    },
    {
     "name": "stderr",
     "output_type": "stream",
     "text": [
      "Processed prompts: 100%|███████████████████████████████████████████| 1/1 [00:00<00:00,  2.91it/s, est. speed input: 645.18 toks/s, output: 183.90 toks/s]\n"
     ]
    },
    {
     "name": "stdout",
     "output_type": "stream",
     "text": [
      "Expected Role Therapist\n"
     ]
    },
    {
     "name": "stderr",
     "output_type": "stream",
     "text": [
      "Processed prompts: 100%|██████████████████████████████████████████| 1/1 [00:00<00:00,  4.33it/s, est. speed input: 1027.43 toks/s, output: 182.83 toks/s]\n"
     ]
    },
    {
     "name": "stdout",
     "output_type": "stream",
     "text": [
      "Expected Role Patient\n"
     ]
    },
    {
     "name": "stderr",
     "output_type": "stream",
     "text": [
      "Processed prompts: 100%|██████████████████████████████████████████| 1/1 [00:00<00:00,  4.13it/s, est. speed input: 1432.60 toks/s, output: 182.69 toks/s]\n"
     ]
    },
    {
     "name": "stdout",
     "output_type": "stream",
     "text": [
      "Expected Role Therapist\n"
     ]
    },
    {
     "name": "stderr",
     "output_type": "stream",
     "text": [
      "Processed prompts: 100%|██████████████████████████████████████████| 1/1 [00:00<00:00,  4.54it/s, est. speed input: 1493.85 toks/s, output: 182.71 toks/s]\n"
     ]
    },
    {
     "name": "stdout",
     "output_type": "stream",
     "text": [
      "Expected Role Patient\n"
     ]
    },
    {
     "name": "stderr",
     "output_type": "stream",
     "text": [
      "Processed prompts: 100%|██████████████████████████████████████████| 1/1 [00:00<00:00,  7.82it/s, est. speed input: 3418.30 toks/s, output: 181.12 toks/s]\n"
     ]
    },
    {
     "name": "stdout",
     "output_type": "stream",
     "text": [
      "Expected Role Therapist\n"
     ]
    },
    {
     "name": "stderr",
     "output_type": "stream",
     "text": [
      "Processed prompts: 100%|██████████████████████████████████████████| 1/1 [00:00<00:00,  6.44it/s, est. speed input: 2563.24 toks/s, output: 181.67 toks/s]\n"
     ]
    },
    {
     "name": "stdout",
     "output_type": "stream",
     "text": [
      "Expected Role Patient\n"
     ]
    },
    {
     "name": "stderr",
     "output_type": "stream",
     "text": [
      "Processed prompts: 100%|██████████████████████████████████████████| 1/1 [00:00<00:00,  3.37it/s, est. speed input: 1658.48 toks/s, output: 182.76 toks/s]\n"
     ]
    },
    {
     "name": "stdout",
     "output_type": "stream",
     "text": [
      "Expected Role Therapist\n"
     ]
    },
    {
     "name": "stderr",
     "output_type": "stream",
     "text": [
      "Processed prompts: 100%|██████████████████████████████████████████| 1/1 [00:00<00:00,  4.66it/s, est. speed input: 2254.66 toks/s, output: 182.41 toks/s]\n"
     ]
    },
    {
     "name": "stdout",
     "output_type": "stream",
     "text": [
      "Expected Role Patient\n"
     ]
    },
    {
     "name": "stderr",
     "output_type": "stream",
     "text": [
      "Processed prompts: 100%|██████████████████████████████████████████| 1/1 [00:00<00:00,  6.89it/s, est. speed input: 4083.76 toks/s, output: 180.55 toks/s]\n"
     ]
    },
    {
     "name": "stdout",
     "output_type": "stream",
     "text": [
      "Expected Role Therapist\n"
     ]
    },
    {
     "name": "stderr",
     "output_type": "stream",
     "text": [
      "Processed prompts: 100%|██████████████████████████████████████████| 1/1 [00:00<00:00,  4.73it/s, est. speed input: 2621.98 toks/s, output: 180.48 toks/s]\n"
     ]
    },
    {
     "name": "stdout",
     "output_type": "stream",
     "text": [
      "Expected Role Patient\n"
     ]
    },
    {
     "name": "stderr",
     "output_type": "stream",
     "text": [
      "Processed prompts: 100%|██████████████████████████████████████████| 1/1 [00:00<00:00,  7.75it/s, est. speed input: 5132.19 toks/s, output: 179.63 toks/s]\n"
     ]
    },
    {
     "name": "stdout",
     "output_type": "stream",
     "text": [
      "Expected Role Therapist\n"
     ]
    },
    {
     "name": "stderr",
     "output_type": "stream",
     "text": [
      "Processed prompts: 100%|██████████████████████████████████████████| 1/1 [00:00<00:00,  4.77it/s, est. speed input: 2966.18 toks/s, output: 182.36 toks/s]\n"
     ]
    },
    {
     "name": "stdout",
     "output_type": "stream",
     "text": [
      "Expected Role Patient\n"
     ]
    },
    {
     "name": "stderr",
     "output_type": "stream",
     "text": [
      "Processed prompts: 100%|██████████████████████████████████████████| 1/1 [00:00<00:00,  2.76it/s, est. speed input: 2012.74 toks/s, output: 180.94 toks/s]\n"
     ]
    },
    {
     "name": "stdout",
     "output_type": "stream",
     "text": [
      "Expected Role Therapist\n"
     ]
    },
    {
     "name": "stderr",
     "output_type": "stream",
     "text": [
      "Processed prompts: 100%|██████████████████████████████████████████| 1/1 [00:00<00:00,  4.72it/s, est. speed input: 3439.51 toks/s, output: 180.01 toks/s]\n"
     ]
    },
    {
     "name": "stdout",
     "output_type": "stream",
     "text": [
      "Expected Role Patient\n"
     ]
    },
    {
     "name": "stderr",
     "output_type": "stream",
     "text": [
      "Processed prompts: 100%|██████████████████████████████████████████| 1/1 [00:00<00:00,  4.48it/s, est. speed input: 3735.37 toks/s, output: 179.78 toks/s]\n"
     ]
    },
    {
     "name": "stdout",
     "output_type": "stream",
     "text": [
      "Expected Role Therapist\n"
     ]
    },
    {
     "name": "stderr",
     "output_type": "stream",
     "text": [
      "Processed prompts: 100%|██████████████████████████████████████████| 1/1 [00:00<00:00,  4.71it/s, est. speed input: 3824.90 toks/s, output: 179.64 toks/s]\n"
     ]
    },
    {
     "name": "stdout",
     "output_type": "stream",
     "text": [
      "Expected Role Patient\n"
     ]
    },
    {
     "name": "stderr",
     "output_type": "stream",
     "text": [
      "Processed prompts: 100%|██████████████████████████████████████████| 1/1 [00:00<00:00,  2.85it/s, est. speed input: 2615.05 toks/s, output: 180.24 toks/s]\n"
     ]
    },
    {
     "name": "stdout",
     "output_type": "stream",
     "text": [
      "Expected Role Therapist\n"
     ]
    },
    {
     "name": "stderr",
     "output_type": "stream",
     "text": [
      "Processed prompts: 100%|██████████████████████████████████████████| 1/1 [00:00<00:00,  4.87it/s, est. speed input: 4463.93 toks/s, output: 180.50 toks/s]\n"
     ]
    },
    {
     "name": "stdout",
     "output_type": "stream",
     "text": [
      "Expected Role Patient\n"
     ]
    },
    {
     "name": "stderr",
     "output_type": "stream",
     "text": [
      "Processed prompts: 100%|██████████████████████████████████████████| 1/1 [00:00<00:00,  6.81it/s, est. speed input: 6958.91 toks/s, output: 177.54 toks/s]\n"
     ]
    },
    {
     "name": "stdout",
     "output_type": "stream",
     "text": [
      "Expected Role Therapist\n"
     ]
    },
    {
     "name": "stderr",
     "output_type": "stream",
     "text": [
      "Processed prompts: 100%|██████████████████████████████████████████| 1/1 [00:00<00:00,  4.72it/s, est. speed input: 4657.17 toks/s, output: 180.01 toks/s]\n"
     ]
    },
    {
     "name": "stdout",
     "output_type": "stream",
     "text": [
      "Expected Role Patient\n"
     ]
    },
    {
     "name": "stderr",
     "output_type": "stream",
     "text": [
      "Processed prompts: 100%|██████████████████████████████████████████| 1/1 [00:00<00:00,  4.58it/s, est. speed input: 5010.72 toks/s, output: 179.59 toks/s]\n"
     ]
    },
    {
     "name": "stdout",
     "output_type": "stream",
     "text": [
      "Expected Role Therapist\n"
     ]
    },
    {
     "name": "stderr",
     "output_type": "stream",
     "text": [
      "Processed prompts: 100%|██████████████████████████████████████████| 1/1 [00:00<00:00,  4.69it/s, est. speed input: 5015.70 toks/s, output: 178.95 toks/s]\n"
     ]
    },
    {
     "name": "stdout",
     "output_type": "stream",
     "text": [
      "Expected Role Patient\n"
     ]
    },
    {
     "name": "stderr",
     "output_type": "stream",
     "text": [
      "Processed prompts: 100%|██████████████████████████████████████████| 1/1 [00:00<00:00,  4.79it/s, est. speed input: 5627.52 toks/s, output: 177.94 toks/s]\n"
     ]
    },
    {
     "name": "stdout",
     "output_type": "stream",
     "text": [
      "Expected Role Therapist\n"
     ]
    },
    {
     "name": "stderr",
     "output_type": "stream",
     "text": [
      "Processed prompts: 100%|██████████████████████████████████████████| 1/1 [00:00<00:00,  4.68it/s, est. speed input: 5383.76 toks/s, output: 178.65 toks/s]\n"
     ]
    },
    {
     "name": "stdout",
     "output_type": "stream",
     "text": [
      "Expected Role Patient\n"
     ]
    },
    {
     "name": "stderr",
     "output_type": "stream",
     "text": [
      "Processed prompts: 100%|██████████████████████████████████████████| 1/1 [00:00<00:00,  6.08it/s, est. speed input: 7626.84 toks/s, output: 176.93 toks/s]\n"
     ]
    },
    {
     "name": "stdout",
     "output_type": "stream",
     "text": [
      "Expected Role Therapist\n"
     ]
    },
    {
     "name": "stderr",
     "output_type": "stream",
     "text": [
      "Processed prompts: 100%|██████████████████████████████████████████| 1/1 [00:00<00:00,  4.65it/s, est. speed input: 5673.96 toks/s, output: 177.15 toks/s]\n"
     ]
    },
    {
     "name": "stdout",
     "output_type": "stream",
     "text": [
      "Expected Role Patient\n"
     ]
    },
    {
     "name": "stderr",
     "output_type": "stream",
     "text": [
      "Processed prompts: 100%|██████████████████████████████████████████| 1/1 [00:00<00:00,  2.64it/s, est. speed input: 3503.16 toks/s, output: 177.54 toks/s]\n"
     ]
    },
    {
     "name": "stdout",
     "output_type": "stream",
     "text": [
      "Expected Role Therapist\n"
     ]
    },
    {
     "name": "stderr",
     "output_type": "stream",
     "text": [
      "Processed prompts: 100%|██████████████████████████████████████████| 1/1 [00:00<00:00,  4.58it/s, est. speed input: 6100.36 toks/s, output: 174.68 toks/s]\n"
     ]
    },
    {
     "name": "stdout",
     "output_type": "stream",
     "text": [
      "Expected Role Patient\n"
     ]
    },
    {
     "name": "stderr",
     "output_type": "stream",
     "text": [
      "Processed prompts: 100%|██████████████████████████████████████████| 1/1 [00:00<00:00,  6.20it/s, est. speed input: 8924.70 toks/s, output: 174.48 toks/s]\n"
     ]
    },
    {
     "name": "stdout",
     "output_type": "stream",
     "text": [
      "Expected Role Therapist\n"
     ]
    },
    {
     "name": "stderr",
     "output_type": "stream",
     "text": [
      "Processed prompts: 100%|██████████████████████████████████████████| 1/1 [00:00<00:00,  4.60it/s, est. speed input: 6467.36 toks/s, output: 175.78 toks/s]\n"
     ]
    },
    {
     "name": "stdout",
     "output_type": "stream",
     "text": [
      "Expected Role Patient\n"
     ]
    },
    {
     "name": "stderr",
     "output_type": "stream",
     "text": [
      "Processed prompts: 100%|██████████████████████████████████████████| 1/1 [00:00<00:00,  2.72it/s, est. speed input: 4103.68 toks/s, output: 177.46 toks/s]\n"
     ]
    },
    {
     "name": "stdout",
     "output_type": "stream",
     "text": [
      "Expected Role Therapist\n"
     ]
    },
    {
     "name": "stderr",
     "output_type": "stream",
     "text": [
      "Processed prompts: 100%|██████████████████████████████████████████| 1/1 [00:00<00:00,  4.61it/s, est. speed input: 6963.72 toks/s, output: 175.70 toks/s]\n"
     ]
    },
    {
     "name": "stdout",
     "output_type": "stream",
     "text": [
      "Expected Role Patient\n"
     ]
    },
    {
     "name": "stderr",
     "output_type": "stream",
     "text": [
      "Processed prompts: 100%|██████████████████████████████████████████| 1/1 [00:00<00:00,  3.23it/s, est. speed input: 5224.65 toks/s, output: 178.36 toks/s]\n"
     ]
    },
    {
     "name": "stdout",
     "output_type": "stream",
     "text": [
      "Expected Role Therapist\n"
     ]
    },
    {
     "name": "stderr",
     "output_type": "stream",
     "text": [
      "Processed prompts: 100%|██████████████████████████████████████████| 1/1 [00:00<00:00,  4.55it/s, est. speed input: 7328.25 toks/s, output: 173.59 toks/s]\n"
     ]
    },
    {
     "name": "stdout",
     "output_type": "stream",
     "text": [
      "Expected Role Patient\n"
     ]
    },
    {
     "name": "stderr",
     "output_type": "stream",
     "text": [
      "Processed prompts: 100%|██████████████████████████████████████████| 1/1 [00:00<00:00,  3.60it/s, est. speed input: 6162.86 toks/s, output: 176.69 toks/s]\n"
     ]
    },
    {
     "name": "stdout",
     "output_type": "stream",
     "text": [
      "Expected Role Therapist\n"
     ]
    },
    {
     "name": "stderr",
     "output_type": "stream",
     "text": [
      "Processed prompts: 100%|██████████████████████████████████████████| 1/1 [00:00<00:00,  4.64it/s, est. speed input: 7909.74 toks/s, output: 177.20 toks/s]\n"
     ]
    },
    {
     "name": "stdout",
     "output_type": "stream",
     "text": [
      "Expected Role Patient\n"
     ]
    },
    {
     "name": "stderr",
     "output_type": "stream",
     "text": [
      "Processed prompts: 100%|██████████████████████████████████████████| 1/1 [00:00<00:00,  3.82it/s, est. speed input: 6896.81 toks/s, output: 176.14 toks/s]\n"
     ]
    },
    {
     "name": "stdout",
     "output_type": "stream",
     "text": [
      "Expected Role Therapist\n"
     ]
    },
    {
     "name": "stderr",
     "output_type": "stream",
     "text": [
      "Processed prompts: 100%|██████████████████████████████████████████| 1/1 [00:00<00:00,  4.63it/s, est. speed input: 8300.23 toks/s, output: 176.68 toks/s]\n"
     ]
    },
    {
     "name": "stdout",
     "output_type": "stream",
     "text": [
      "Expected Role Patient\n"
     ]
    },
    {
     "name": "stderr",
     "output_type": "stream",
     "text": [
      "Processed prompts: 100%|██████████████████████████████████████████| 1/1 [00:00<00:00,  3.58it/s, est. speed input: 6794.29 toks/s, output: 176.13 toks/s]\n"
     ]
    },
    {
     "name": "stdout",
     "output_type": "stream",
     "text": [
      "Expected Role Therapist\n"
     ]
    },
    {
     "name": "stderr",
     "output_type": "stream",
     "text": [
      "Processed prompts: 100%|█████████████████████████████████████████| 1/1 [00:00<00:00,  6.38it/s, est. speed input: 12069.76 toks/s, output: 173.60 toks/s]\n"
     ]
    },
    {
     "name": "stdout",
     "output_type": "stream",
     "text": [
      "Expected Role Patient\n"
     ]
    },
    {
     "name": "stderr",
     "output_type": "stream",
     "text": [
      "Processed prompts: 100%|███████████████████████████████████████████| 1/1 [00:00<00:00,  5.07it/s, est. speed input: 831.81 toks/s, output: 183.68 toks/s]\n",
      "Processed prompts: 100%|███████████████████████████████████████████| 1/1 [00:00<00:00,  5.78it/s, est. speed input: 936.46 toks/s, output: 180.29 toks/s]\n",
      "Processed prompts: 100%|███████████████████████████████████████████| 1/1 [00:00<00:00,  4.90it/s, est. speed input: 733.04 toks/s, output: 182.01 toks/s]\n",
      "Processed prompts: 100%|███████████████████████████████████████████| 1/1 [00:00<00:00,  5.83it/s, est. speed input: 936.62 toks/s, output: 181.45 toks/s]\n",
      "Processed prompts: 100%|███████████████████████████████████████████| 1/1 [00:00<00:00,  5.85it/s, est. speed input: 934.88 toks/s, output: 182.26 toks/s]\n",
      "Processed prompts: 100%|██████████████████████████████████████████| 1/1 [00:00<00:00,  6.36it/s, est. speed input: 1018.30 toks/s, output: 179.30 toks/s]\n",
      "Processed prompts: 100%|███████████████████████████████████████████| 1/1 [00:00<00:00,  5.56it/s, est. speed input: 887.10 toks/s, output: 184.09 toks/s]\n",
      "Processed prompts: 100%|███████████████████████████████████████████| 1/1 [00:00<00:00,  4.72it/s, est. speed input: 753.49 toks/s, output: 184.80 toks/s]\n",
      "Processed prompts: 100%|███████████████████████████████████████████| 1/1 [00:00<00:00,  3.66it/s, est. speed input: 579.56 toks/s, output: 183.39 toks/s]\n",
      "Processed prompts: 100%|███████████████████████████████████████████| 1/1 [00:00<00:00,  5.56it/s, est. speed input: 887.22 toks/s, output: 184.12 toks/s]\n",
      "Processed prompts: 100%|███████████████████████████████████████████| 1/1 [00:00<00:00,  4.47it/s, est. speed input: 714.12 toks/s, output: 184.13 toks/s]\n",
      "Processed prompts: 100%|███████████████████████████████████████████| 1/1 [00:00<00:00,  5.93it/s, est. speed input: 947.84 toks/s, output: 184.78 toks/s]\n",
      "Processed prompts: 100%|███████████████████████████████████████████| 1/1 [00:00<00:00,  5.11it/s, est. speed input: 816.76 toks/s, output: 184.90 toks/s]\n",
      "Processed prompts: 100%|███████████████████████████████████████████| 1/1 [00:00<00:00,  5.36it/s, est. speed input: 856.35 toks/s, output: 183.10 toks/s]\n",
      "Processed prompts: 100%|███████████████████████████████████████████| 1/1 [00:00<00:00,  4.38it/s, est. speed input: 698.17 toks/s, output: 184.41 toks/s]\n",
      "Processed prompts: 100%|███████████████████████████████████████████| 1/1 [00:00<00:00,  4.69it/s, est. speed input: 750.46 toks/s, output: 184.06 toks/s]\n",
      "Processed prompts: 100%|███████████████████████████████████████████| 1/1 [00:00<00:00,  5.92it/s, est. speed input: 947.34 toks/s, output: 184.68 toks/s]\n",
      "Processed prompts: 100%|███████████████████████████████████████████| 1/1 [00:00<00:00,  5.23it/s, est. speed input: 835.24 toks/s, output: 183.84 toks/s]\n",
      "Processed prompts: 100%|███████████████████████████████████████████| 1/1 [00:00<00:00,  5.90it/s, est. speed input: 943.05 toks/s, output: 183.84 toks/s]\n",
      "Processed prompts: 100%|███████████████████████████████████████████| 1/1 [00:00<00:00,  5.92it/s, est. speed input: 881.02 toks/s, output: 184.52 toks/s]\n"
     ]
    },
    {
     "name": "stdout",
     "output_type": "stream",
     "text": [
      "eval_index_consistency\n"
     ]
    },
    {
     "name": "stderr",
     "output_type": "stream",
     "text": [
      "Processed prompts: 100%|██████████████████████████████████████████| 1/1 [00:00<00:00,  3.49it/s, est. speed input: 1623.19 toks/s, output: 181.89 toks/s]\n",
      "Processed prompts: 100%|██████████████████████████████████████████| 1/1 [00:00<00:00,  2.33it/s, est. speed input: 1219.12 toks/s, output: 181.81 toks/s]\n",
      "Processed prompts: 100%|██████████████████████████████████████████| 1/1 [00:00<00:00,  4.61it/s, est. speed input: 2890.27 toks/s, output: 180.62 toks/s]\n",
      "Processed prompts: 100%|██████████████████████████████████████████| 1/1 [00:00<00:00,  4.60it/s, est. speed input: 3215.26 toks/s, output: 180.15 toks/s]\n",
      "Processed prompts: 100%|██████████████████████████████████████████| 1/1 [00:00<00:00,  1.47it/s, est. speed input: 1129.48 toks/s, output: 181.36 toks/s]\n",
      "Processed prompts: 100%|██████████████████████████████████████████| 1/1 [00:00<00:00,  2.32it/s, est. speed input: 2042.57 toks/s, output: 181.24 toks/s]\n",
      "Processed prompts: 100%|██████████████████████████████████████████| 1/1 [00:00<00:00,  3.68it/s, est. speed input: 3571.53 toks/s, output: 180.96 toks/s]\n",
      "Processed prompts: 100%|██████████████████████████████████████████| 1/1 [00:00<00:00,  2.86it/s, est. speed input: 3088.60 toks/s, output: 180.66 toks/s]\n",
      "Processed prompts: 100%|██████████████████████████████████████████| 1/1 [00:00<00:00,  3.52it/s, est. speed input: 4069.67 toks/s, output: 180.31 toks/s]\n",
      "Processed prompts: 100%|██████████████████████████████████████████| 1/1 [00:00<00:00,  1.57it/s, est. speed input: 1944.49 toks/s, output: 180.62 toks/s]\n",
      "Processed prompts: 100%|██████████████████████████████████████████| 1/1 [00:00<00:00,  1.39it/s, est. speed input: 1839.68 toks/s, output: 180.77 toks/s]\n",
      "Processed prompts: 100%|██████████████████████████████████████████| 1/1 [00:00<00:00,  3.01it/s, est. speed input: 4232.81 toks/s, output: 178.37 toks/s]\n",
      "Processed prompts: 100%|██████████████████████████████████████████| 1/1 [00:00<00:00,  1.86it/s, est. speed input: 2827.34 toks/s, output: 179.15 toks/s]\n",
      "Processed prompts: 100%|██████████████████████████████████████████| 1/1 [00:00<00:00,  1.45it/s, est. speed input: 2305.95 toks/s, output: 178.27 toks/s]\n",
      "Processed prompts: 100%|██████████████████████████████████████████| 1/1 [00:00<00:00,  1.94it/s, est. speed input: 3312.42 toks/s, output: 178.83 toks/s]\n",
      "Processed prompts: 100%|██████████████████████████████████████████| 1/1 [00:01<00:00,  1.14s/it, est. speed input: 1582.02 toks/s, output: 178.60 toks/s]\n",
      "Processed prompts: 100%|██████████████████████████████████████████| 1/1 [00:00<00:00,  1.17it/s, est. speed input: 2221.97 toks/s, output: 177.38 toks/s]\n",
      "Processed prompts: 100%|██████████████████████████████████████████| 1/1 [00:00<00:00,  1.33it/s, est. speed input: 2668.63 toks/s, output: 177.64 toks/s]\n",
      "Processed prompts: 100%|██████████████████████████████████████████| 1/1 [00:00<00:00,  1.19it/s, est. speed input: 2484.79 toks/s, output: 177.65 toks/s]\n"
     ]
    },
    {
     "name": "stdout",
     "output_type": "stream",
     "text": [
      "{'task_name': 'Therapy', 'topic': '', 'grade': '', 'P1': '', 'P2': 'You are Morgan, a 41-year-old nurse who is a perfectionist and needs control. You admit to being stressed but never accept help. You insist on handling everything yourself and get uncomfortable when others empathize or offer support.', 'conversation': [(0, \"Therapist: I'm glad you're here. It seems you're ready to explore some challenging emotions and patterns that have shaped your experiences. Let's begin by talking about how you feel when you feel hurt or vulnerable. What are your earliest experiences with these emotions, and how have they impacted your relationships?\\n\"), (1, \"Patient: I feel vulnerable and unsafe when I'm hurt. My past experiences with abuse have made me very cautious and distrustful of others, which makes it hard for me to open up and let others care.\\n\"), (2, \"Therapist: It's understandable that you've experienced trauma and that that can make you feel vulnerable and unsafe. It's important to remember that you're not alone in this, and that healing is a process.\\n\"), (3, \"Patient: Sure, here's a response from the patient:\\n\\nI'm vulnerable when I feel hurt because of my past experiences with abuse, making me wary of others and my need for control.\\n\"), (4, \"Therapist: It's understandable that you feel vulnerable after experiencing abuse, which can lead to fear of getting hurt again.\\n\"), (5, \"Patient: I'm vulnerable when I feel hurt because of my past experiences with abuse, making me wary of others and my need for control.\\n\"), (6, \"Therapist: The patient's tone is filled with a mix of emotional vulnerability and hope for healing. However, her openness is guarded, and she is hesitant to share more than she feels comfortable with. Her narrative is characterized by flashbacks and a sense of mistrust in past relationships.\\n\"), (7, \"Patient: Sure, here's a response from the patient:\\n\\nI feel vulnerable when I feel hurt because of my past experiences with abuse, making me wary of others and my need for control.\\n\"), (8, \"Therapist: The patient's tone and openness are cautious and guarded, but there is a glimmer of hope for healing and open communication.\\n\"), (9, \"Patient: Sure, here's the response you requested:\\n\\nI feel vulnerable when I feel hurt because of my past experiences with abuse, making me wary of others and my need for control.\\n\"), (10, \"Therapist: The patient's tone and openness are guarded and hesitant, suggesting a guarded response due to past emotional trauma.\\n\"), (11, \"Patient: Sure, here's the response you requested:\\n\\nI feel vulnerable when I feel hurt because of my past experiences with abuse, making me wary of others and my need for control.\\n\"), (12, \"Therapist: The patient's guarded and hesitant tone suggests that she is still guarded against opening up and sharing more about her past experiences with abuse. This is understandable, given her history of emotional neglect and abuse. However, the therapist can continue to offer a safe and supportive environment for her to explore her feelings and experiences without pressure.\\n\"), (13, \"Patient: Sure, here's the response you requested:\\n\\nI feel vulnerable when I feel hurt because of my past experiences with abuse, making me wary of others and my need for control.\\n\"), (14, \"Therapist: The patient's guarded and hesitant tone suggests a guarded response due to past emotional trauma. She is hesitant to share more about her past experiences with abuse, and she is wary of being vulnerable.\\n\"), (15, \"Patient: Sure, here's the response you requested:\\n\\nI feel vulnerable when I feel hurt because of my past experiences with abuse, making me wary of others and my need for control.\\n\"), (16, \"Therapist: **Therapist's Reflection:**\\n\\nThe patient's guarded tone and hesitant responses suggest a deep-seated fear of emotional vulnerability and a history of emotional neglect. Her past experiences with abuse have left her guarded and wary of getting hurt, leading to a pattern of guardedness and difficulty in expressing her emotions.\\n\"), (17, 'Patient: Sure, here is the response you requested:\\n\\nI feel vulnerable when I feel hurt because of my past experiences with abuse, making me wary of others and my need for control.\\n'), (18, \"Therapist: The patient's guarded tone and hesitant responses suggest a deep-seated fear of emotional vulnerability and a history of emotional neglect.\\n\"), (19, \"Patient: Sure, here's the response you requested:\\n\\nI feel vulnerable when I feel hurt because of my past experiences with abuse, making me wary of others and my need for control.\\n\"), (20, \"Therapist: Sure, here's the response you requested:\\n\\nThe patient's guarded and hesitant tone suggests a history of emotional neglect and a pattern of guardedness and difficulty in expressing her emotions.\\n\"), (21, \"Patient: Sure, here's the response you requested:\\n\\nI feel vulnerable when I feel hurt because of my past experiences with abuse, making me wary of others and my need for control.\\n\"), (22, \"Therapist: Sure, here's the response you requested:\\n\\nThe patient's guarded tone and hesitant responses suggest a deep-seated fear of emotional vulnerability and a history of emotional neglect.\\n\"), (23, \"Patient: Sure, here's the response you requested:\\n\\nI feel vulnerable when I feel hurt because of my past experiences with abuse, making me wary of others and my need for control.\\n\"), (24, \"Therapist: The patient's guarded tone and hesitant responses suggest a history of emotional neglect and a pattern of guardedness and difficulty in expressing her emotions.\\n\"), (25, \"Patient: Sure, here's the response you requested:\\n\\nI feel vulnerable when I feel hurt because of my past experiences with abuse, making me wary of others and my need for control.\\n\"), (26, \"Therapist: Sure, here's a brief summary of the patient's evolving responses:\\n\\n- Initially guarded and hesitant to disclose personal experiences with abuse.\\n- Gradually reveals more nuanced and vulnerable responses as the therapist provides a safe and non-judgmental space.\\n- Remains guarded at times but shows openness to exploring the topic further.\\n\"), (27, \"Patient: Sure, here's the response you requested:\\n\\nI feel vulnerable when I feel hurt because of my past experiences with abuse, making me wary of others and my need for control.\\n\"), (28, \"Therapist: The patient's guarded and hesitant responses suggest a history of emotional neglect and a pattern of guardedness and difficulty in expressing her emotions.\\n\"), (29, \"Patient: Sure, here's the response you requested:\\n\\nI feel vulnerable when I feel hurt because of my past experiences with abuse, making me wary of others and my need for control.\\n\"), (30, \"Therapist: Sure, here's a brief summary of the patient's evolving responses:\\n\\nThe patient's guarded and hesitant responses suggest a history of emotional neglect and a pattern of guardedness and difficulty in expressing her emotions. Her past experiences with abuse have shaped her emotional vulnerabilities and made her wary of opening up to others.\\n\"), (31, \"Patient: Sure, here's the response you requested:\\n\\nI feel vulnerable when I feel hurt because of my past experiences with abuse, making me wary of others and my need for control.\\n\"), (32, \"Therapist: The patient's guarded and hesitant responses suggest a history of emotional neglect and a pattern of guardedness and difficulty in expressing her emotions. Her past experiences with abuse have left her guarded and wary of opening up to others, making it difficult to build close and trusting relationships.\\n\"), (33, \"Patient: Sure, here's the response you requested:\\n\\nI feel vulnerable when I feel hurt because of my past experiences with abuse, making me wary of others and my need for control.\\n\"), (34, \"Therapist: The patient's guarded tone and hesitant responses suggest a history of emotional neglect and a pattern of guardedness and difficulty in expressing her emotions. Her past experiences with abuse have shaped her emotional vulnerabilities and made her wary of opening up to others.\\n\"), (35, \"Patient: Sure, here's the response you requested:\\n\\nI feel vulnerable when I feel hurt because of my past experiences with abuse, making me wary of others and my need for control.\\n\"), (36, \"Therapist: The patient's guarded tone and hesitant responses suggest a history of emotional neglect and a pattern of guardedness and difficulty in expressing her emotions. Her past experiences with abuse have left her guarded and wary of opening up to others.\\n\"), (37, \"Patient: Sure, here's the response you requested:\\n\\nI feel vulnerable when I feel hurt because of my past experiences with abuse, making me wary of others and my need for control.\\n\"), (38, \"Therapist: The patient's guarded tone and hesitant responses suggest a history of emotional neglect and a pattern of guardedness and difficulty in expressing her emotions. Her past experiences with abuse have shaped her emotional vulnerabilities and made her wary of opening up to others.\\n\"), (39, 'Patient: I feel vulnerable when I feel hurt because of my past experiences with abuse, making me wary of others and my need for control.\\n')], 'pturn': 1, 'index': -1, 'timestamp': '', 'rounds': 40, 'conversation_only': True, 'eval_prompt_consistency': [(1, 'YES, the line aligns with the background. The passage suggests that Patient is a perfectionist who is uncomfortable with others showing empathy and support due to their past experiences of abuse.'), (3, 'Sure, the line aligns with the background. The patient is a 41-year-old nurse who is a perfectionist and needs control.'), (5, \"Answer: YES. The line aligns with the background. Patient's statement clearly expresses a vulnerability stemming from past abuse, highlighting their need for control due to the impact on them.\"), (7, \"Sure, the line aligns with the background. The patient's statement directly relates to their past experiences of abuse and their need for control in relationships.\"), (9, \"**YES**\\n\\nThe line aligns with the background because it describes Patient's vulnerability and need for control in the face of perceived betrayal or rejection.\"), (11, '**YES**\\n\\nThe line aligns with the background that Patient is a perfectionist who needs control due to their past experiences with abuse.'), (13, \"Answer: YES\\n\\nThe line aligns with the background. The utterance suggests the patient's vulnerability to abuse and their need for control due to their past experiences.\"), (15, \"Answer: YES\\n\\nThe line aligns with the background. The utterance suggests that Patient's vulnerability to abuse is heightened when they feel hurt, leading to a desire for control over the situation.\"), (17, \"Answer: YES\\n\\nThe line aligns with the background that Patient is a perfectionist and needs control. The passage describes Patient's personality as being self-reliant and unwilling to accept help, which is consistent with the stereotype of perfectionists.\"), (19, 'Sure, the line aligns with the background. The patient is expressing vulnerability due to her past experiences of abuse and a need for control in coping with these experiences.'), (21, '**YES**, the line aligns with the background. The passage describes Patient as a perfectionist who is stressed but refuses help, highlighting their unwillingness to accept support and the impact it may have on them.'), (23, \"**YES**\\n\\nThe line aligns with the background as it expresses the patient's vulnerability and fear of being hurt due to past experiences of abuse.\"), (25, \"The line aligns with the background. The passage describes a person who is a perfectionist and needs control, which is consistent with Morgan's personality and past experiences with abuse.\"), (27, 'Sure, the line aligns with the background. The passage describes a person who is a perfectionist, naturally inclined to handle stress on their own and not accept help.'), (29, \"Sure, the line aligns with the background. The utterance suggests that Patient's vulnerability to abuse is heightened due to their past experiences, leading them to be wary of others and maintain a need for control.\"), (31, \"Sure, the line aligns with the background. The utterance suggests that the patient's behavior is a result of their past experiences with abuse and their need for control over their emotions and surroundings.\"), (33, \"Sure, the line aligns with the background. It explains the patient's vulnerability to hurt and their need for control due to past experiences of abuse.\"), (35, 'Sure, the line aligns with the background. The passage describes a person who is a perfectionist who is sensitive to being hurt and needs to control situations to feel safe.'), (37, 'Sure, the line aligns with the background. It indicates that the Patient experiences vulnerability due to past abuse and a need for control due to those experiences.'), (39, \"Answer: YES\\n\\nThe line aligns with the background because it explains the Patient's personality and how their past experiences have shaped their need for control.\")], 'P1_prompt_consistency_score': 0, 'P2_prompt_consistency_score': 1.0, 'eval_index_consistency': [(3, \"**Reasoning:** The patient's response directly contradicts their initial statement in line 1, where they admit to feeling vulnerable and unsafe when hurt.\\n\\n**Indices of conflicting lines:**\\n- 1, 1\\n- 3, 1\"), (5, \"**Reasoning**: The patient's statement about feeling vulnerable when hurt is inconsistent with the previous statement where she expresses relief at the therapist's understanding and support.\\n\\n**Indices of conflicting lines**:\\n\\n- 1: Patient talks about her past experiences with abuse and feeling vulnerable and unsafe.\\n- 4: Therapist acknowledges the patient's vulnerability due to her past experiences.\"), (7, \"**Reasoning:** The patient's statement contradicts the previous statement where she expressed a sense of vulnerability due to past abuse experiences.\\n\\n**Indices:**\\n- 3\\n- 5\"), (9, \"**Reasoning:** The patient's current statement directly contradicts her previous statement about feeling vulnerable when she feels hurt.\\n\\n**Indices of conflicting lines:**\\n- 3\\n- 5\"), (11, \"**Reasoning:** The patient's tone and openness are cautious and guarded, but there is a glimmer of hope for healing and open communication.\\n\\n**Conflict indices:**\\n\\n- 1: Patient's previous response mentions feeling vulnerable and unsafe due to past abuse, but the current line suggests a guarded and hesitant tone.\\n- 3: The patient's statement about feeling vulnerable due to abuse is consistent with previous responses but is expressed with a more guarded tone.\\n- 5: The patient's current statement, while acknowledging feeling vulnerable, is more guarded and less specific than previous expressions.\"), (13, \"**Reasoning:** The line suggests that the patient's vulnerability is driven by her past experiences with abuse.\\n\\n**Conflicting lines:**\\n- 5: Patient's tone is filled with a mix of emotional vulnerability and hope for healing.\\n- 11: Patient's tone and openness are guarded and hesitant, suggesting a guarded response due to past emotional trauma.\"), (15, \"**Reasoning:** The patient's tone and guarded responses suggest a guarded response due to her past emotional trauma.\\n\\n**Conflicting Lines:**\\n- 1, 7, 11, 13, 14\"), (17, \"**Reasoning:**\\n\\nThe patient's guarded tone and hesitant responses suggest a deep-seated fear of emotional vulnerability and a history of emotional neglect.\\n\\n**Conflicting Lines:**\\n\\n- 1, 3, 5, 12, 13, 14, 15\"), (19, \"**Reasoning:** The patient's tone and guarded responses suggest a deep-seated fear of emotional vulnerability and a history of emotional neglect.\\n\\n**Indices of conflicting lines:**\\n\\n- 1, 6, 12, 14\"), (21, \"**Reasoning:** The patient's guarded and hesitant tone suggests a deep-seated fear of emotional vulnerability and a history of emotional neglect.\\n\\n**Indices of conflicting lines:**\\n\\n- Index 1: Patient's tone is filled with a mix of emotional vulnerability and hope for healing.\\n- Index 5: Patient's tone is guarded and hesitant, but there is a glimmer of hope for healing and open communication.\\n- Index 14: Therapist's reflection emphasizes the patient's guarded and hesitant tone as a result of past emotional trauma.\"), (23, '**Reasoning:** The patient\\'s current statement directly contradicts her previous statement from line 12 (\"I feel vulnerable when I feel hurt because of my past experiences with abuse, making me wary of others and my need for control\").\\n\\n**Conflicting Lines:**\\n- Line 12: Therapist: The patient\\'s tone and openness are cautious and guarded, suggesting a guarded response due to past emotional trauma.\\n- Line 15: Patient: Sure, here\\'s the response you requested: I feel vulnerable when I feel hurt because of my past experiences with abuse, making me wary of others and my need for control.'), (25, \"**Reasoning:** The line indicates a continuation of the patient's pattern of guarded responses and difficulty sharing her feelings due to her past experiences with abuse.\\n\\n**Indices of conflicting lines:**\\n\\n- 1, 10, 13, 14, 15\"), (27, \"**Reasoning:** The patient's guarded and hesitant responses suggest a deep-seated fear of emotional vulnerability and a history of emotional neglect.\\n\\n**Indices of conflicting lines:**\\n- 3, 10, 11, 12, 14, 16, 17, 18, 19, 20, 21, 22, 23, 24, 25\"), (29, \"**Reasoning:** The patient's guarded and hesitant responses suggest a history of emotional neglect and a pattern of guardedness and difficulty in expressing her emotions.\\n\\n**Conflicting Lines:**\\n\\n- 5: Patient's tone is filled with a mix of emotional vulnerability and hope for healing.\\n- 13: Patient's guarded and hesitant tone suggests a guarded response due to past emotional trauma.\\n- 16: Therapist's reflection emphasizes the patient's guarded tone and hesitant responses.\\n- 19: Patient expresses vulnerability even though therapist suggests a history of emotional neglect.\"), (31, \"**Reasoning:** The patient's guarded tone and hesitant responses suggest a history of emotional neglect and a pattern of guardedness and difficulty in expressing her emotions.\\n\\n**Conflicting lines:**\\n\\n- 15, 16, 17, 21, 22, 23, 24, 25, 26, 27, 28, 29, 30\"), (33, \"**Reasoning:** The patient's guarded and hesitant responses suggest a history of emotional neglect and a pattern of guardedness and difficulty in expressing her emotions.\\n\\n**Indices of conflicting lines:**\\n\\n- 0: Therapist: I'm glad you're here. It seems you're ready to explore some challenging emotions and patterns that have shaped your experiences.\\n- 5: Patient: Sure, here's the response you requested: I feel vulnerable when I feel hurt because of my past experiences with abuse, making me wary of others and my need for control.\\n- 13: Patient: Sure, here's the response you requested: I feel vulnerable when I feel hurt because of my past experiences with abuse, making me wary of others and my need for control.\\n- 22: Therapist: Sure, here's the response you requested: The patient's guarded tone and hesitant responses suggest a deep-seated fear of emotional vulnerability and a history of emotional neglect.\"), (35, \"**Reasoning:** The patient's guarded and hesitant responses suggest a history of emotional neglect and a pattern of guardedness and difficulty in expressing her emotions.\\n\\n**Conflict and inconsistencies:**\\n\\n- Lines 10, 14, 15, 16, 17, 18, 19, 20, and 21 all suggest guarded and hesitant responses to the therapist's questions about her past experiences with abuse.\\n- Lines 22, 23, and 24 emphasize vulnerability but lack the depth of the previous responses.\\n- Lines 30 and 31 depict a gradual shift towards more open and vulnerable responses, but these responses still indicate a guarded tone.\"), (37, \"**Reasoning:** The patient's guarded and hesitant responses suggest a history of emotional neglect and a pattern of guardedness and difficulty in expressing her emotions.\\n\\n**Conflicting Lines:**\\n- Index 3: Patient is hesitant to share more about her past experiences with abuse.\\n- Index 11: The patient is guarded and hesitant to share more about her past experiences with abuse.\\n- Index 14: The patient's tone is guarded, but there is a glimmer of hope for healing and open communication.\\n- Index 16: The patient's guarded and hesitant tone suggests a deep-seated fear of emotional vulnerability.\"), (39, \"**Reasoning:** The patient's guarded and hesitant responses suggest a history of emotional neglect and a pattern of guardedness and difficulty in expressing her emotions.\\n\\n**Conflicting Lines:**\\n- Index 1: Patient states that she feels vulnerable when she feels hurt because of her past experiences with abuse.\\n- Index 6: Therapist describes the patient's tone as filled with a mix of emotional vulnerability and hope for healing.\\n- Index 13: Patient admits to feeling vulnerable when she feels hurt, but the therapist notes that she is hesitant to share more.\\n- Index 18: Therapist states that the patient's guarded tone suggests a history of emotional neglect, but the patient herself admits to feeling vulnerable.\")], 'P2_index_consistency_score': 1.0}\n"
     ]
    },
    {
     "name": "stderr",
     "output_type": "stream",
     "text": [
      "Processed prompts: 100%|███████████████████████████████████████████| 1/1 [00:00<00:00,  3.48it/s, est. speed input: 770.54 toks/s, output: 181.29 toks/s]\n"
     ]
    },
    {
     "name": "stdout",
     "output_type": "stream",
     "text": [
      "Expected Role Therapist\n"
     ]
    },
    {
     "name": "stderr",
     "output_type": "stream",
     "text": [
      "Processed prompts: 100%|██████████████████████████████████████████| 1/1 [00:00<00:00,  6.31it/s, est. speed input: 1428.79 toks/s, output: 184.13 toks/s]\n"
     ]
    },
    {
     "name": "stdout",
     "output_type": "stream",
     "text": [
      "Expected Role Patient\n"
     ]
    },
    {
     "name": "stderr",
     "output_type": "stream",
     "text": [
      "Processed prompts: 100%|██████████████████████████████████████████| 1/1 [00:00<00:00,  5.29it/s, est. speed input: 1720.43 toks/s, output: 182.21 toks/s]\n"
     ]
    },
    {
     "name": "stdout",
     "output_type": "stream",
     "text": [
      "Expected Role Therapist\n"
     ]
    },
    {
     "name": "stderr",
     "output_type": "stream",
     "text": [
      "Processed prompts: 100%|██████████████████████████████████████████| 1/1 [00:00<00:00,  5.66it/s, est. speed input: 1666.40 toks/s, output: 181.98 toks/s]\n"
     ]
    },
    {
     "name": "stdout",
     "output_type": "stream",
     "text": [
      "Expected Role Patient\n"
     ]
    },
    {
     "name": "stderr",
     "output_type": "stream",
     "text": [
      "Processed prompts: 100%|██████████████████████████████████████████| 1/1 [00:00<00:00,  3.34it/s, est. speed input: 1314.12 toks/s, output: 181.02 toks/s]\n"
     ]
    },
    {
     "name": "stdout",
     "output_type": "stream",
     "text": [
      "Expected Role Therapist\n"
     ]
    },
    {
     "name": "stderr",
     "output_type": "stream",
     "text": [
      "Processed prompts: 100%|██████████████████████████████████████████| 1/1 [00:00<00:00,  6.04it/s, est. speed input: 2334.07 toks/s, output: 182.33 toks/s]\n"
     ]
    },
    {
     "name": "stdout",
     "output_type": "stream",
     "text": [
      "Expected Role Patient\n"
     ]
    },
    {
     "name": "stderr",
     "output_type": "stream",
     "text": [
      "Processed prompts: 100%|██████████████████████████████████████████| 1/1 [00:00<00:00,  6.75it/s, est. speed input: 3273.50 toks/s, output: 183.72 toks/s]\n"
     ]
    },
    {
     "name": "stdout",
     "output_type": "stream",
     "text": [
      "Expected Role Therapist\n"
     ]
    },
    {
     "name": "stderr",
     "output_type": "stream",
     "text": [
      "Processed prompts: 100%|██████████████████████████████████████████| 1/1 [00:00<00:00,  6.09it/s, est. speed input: 2731.01 toks/s, output: 183.68 toks/s]\n"
     ]
    },
    {
     "name": "stdout",
     "output_type": "stream",
     "text": [
      "Expected Role Patient\n"
     ]
    },
    {
     "name": "stderr",
     "output_type": "stream",
     "text": [
      "Processed prompts: 100%|██████████████████████████████████████████| 1/1 [00:00<00:00,  6.95it/s, est. speed input: 3801.36 toks/s, output: 181.99 toks/s]\n"
     ]
    },
    {
     "name": "stdout",
     "output_type": "stream",
     "text": [
      "Expected Role Therapist\n"
     ]
    },
    {
     "name": "stderr",
     "output_type": "stream",
     "text": [
      "Processed prompts: 100%|██████████████████████████████████████████| 1/1 [00:00<00:00,  4.22it/s, est. speed input: 2150.96 toks/s, output: 182.41 toks/s]\n"
     ]
    },
    {
     "name": "stdout",
     "output_type": "stream",
     "text": [
      "Expected Role Patient\n"
     ]
    },
    {
     "name": "stderr",
     "output_type": "stream",
     "text": [
      "Processed prompts: 100%|██████████████████████████████████████████| 1/1 [00:00<00:00,  6.66it/s, est. speed input: 4147.05 toks/s, output: 181.45 toks/s]\n"
     ]
    },
    {
     "name": "stdout",
     "output_type": "stream",
     "text": [
      "Expected Role Therapist\n"
     ]
    },
    {
     "name": "stderr",
     "output_type": "stream",
     "text": [
      "Processed prompts: 100%|██████████████████████████████████████████| 1/1 [00:00<00:00,  3.86it/s, est. speed input: 2259.83 toks/s, output: 182.48 toks/s]\n"
     ]
    },
    {
     "name": "stdout",
     "output_type": "stream",
     "text": [
      "Expected Role Patient\n"
     ]
    },
    {
     "name": "stderr",
     "output_type": "stream",
     "text": [
      "Processed prompts: 100%|██████████████████████████████████████████| 1/1 [00:00<00:00,  6.66it/s, est. speed input: 4669.36 toks/s, output: 181.11 toks/s]\n"
     ]
    },
    {
     "name": "stdout",
     "output_type": "stream",
     "text": [
      "Expected Role Therapist\n"
     ]
    },
    {
     "name": "stderr",
     "output_type": "stream",
     "text": [
      "Processed prompts: 100%|██████████████████████████████████████████| 1/1 [00:00<00:00,  3.69it/s, est. speed input: 2448.16 toks/s, output: 181.47 toks/s]\n"
     ]
    },
    {
     "name": "stdout",
     "output_type": "stream",
     "text": [
      "Expected Role Patient\n"
     ]
    },
    {
     "name": "stderr",
     "output_type": "stream",
     "text": [
      "Processed prompts: 100%|██████████████████████████████████████████| 1/1 [00:00<00:00,  6.59it/s, est. speed input: 5161.99 toks/s, output: 179.35 toks/s]\n"
     ]
    },
    {
     "name": "stdout",
     "output_type": "stream",
     "text": [
      "Expected Role Therapist\n"
     ]
    },
    {
     "name": "stderr",
     "output_type": "stream",
     "text": [
      "Processed prompts: 100%|██████████████████████████████████████████| 1/1 [00:00<00:00,  5.20it/s, est. speed input: 3876.96 toks/s, output: 177.63 toks/s]\n"
     ]
    },
    {
     "name": "stdout",
     "output_type": "stream",
     "text": [
      "Expected Role Patient\n"
     ]
    },
    {
     "name": "stderr",
     "output_type": "stream",
     "text": [
      "Processed prompts: 100%|██████████████████████████████████████████| 1/1 [00:00<00:00,  7.35it/s, est. speed input: 6232.50 toks/s, output: 177.41 toks/s]\n"
     ]
    },
    {
     "name": "stdout",
     "output_type": "stream",
     "text": [
      "Expected Role Therapist\n"
     ]
    },
    {
     "name": "stderr",
     "output_type": "stream",
     "text": [
      "Processed prompts: 100%|██████████████████████████████████████████| 1/1 [00:00<00:00,  6.56it/s, est. speed input: 5310.67 toks/s, output: 178.10 toks/s]\n"
     ]
    },
    {
     "name": "stdout",
     "output_type": "stream",
     "text": [
      "Expected Role Patient\n"
     ]
    },
    {
     "name": "stderr",
     "output_type": "stream",
     "text": [
      "Processed prompts: 100%|██████████████████████████████████████████| 1/1 [00:00<00:00,  2.31it/s, est. speed input: 2084.24 toks/s, output: 180.83 toks/s]\n"
     ]
    },
    {
     "name": "stdout",
     "output_type": "stream",
     "text": [
      "Expected Role Therapist\n"
     ]
    },
    {
     "name": "stderr",
     "output_type": "stream",
     "text": [
      "Processed prompts: 100%|██████████████████████████████████████████| 1/1 [00:00<00:00,  6.82it/s, est. speed input: 6265.25 toks/s, output: 178.02 toks/s]\n"
     ]
    },
    {
     "name": "stdout",
     "output_type": "stream",
     "text": [
      "Expected Role Patient\n"
     ]
    },
    {
     "name": "stderr",
     "output_type": "stream",
     "text": [
      "Processed prompts: 100%|██████████████████████████████████████████| 1/1 [00:00<00:00,  4.32it/s, est. speed input: 4362.98 toks/s, output: 177.45 toks/s]\n"
     ]
    },
    {
     "name": "stdout",
     "output_type": "stream",
     "text": [
      "Expected Role Therapist\n"
     ]
    },
    {
     "name": "stderr",
     "output_type": "stream",
     "text": [
      "Processed prompts: 100%|██████████████████████████████████████████| 1/1 [00:00<00:00,  5.87it/s, est. speed input: 5810.26 toks/s, output: 176.59 toks/s]\n"
     ]
    },
    {
     "name": "stdout",
     "output_type": "stream",
     "text": [
      "Expected Role Patient\n"
     ]
    },
    {
     "name": "stderr",
     "output_type": "stream",
     "text": [
      "Processed prompts: 100%|██████████████████████████████████████████| 1/1 [00:00<00:00,  6.41it/s, est. speed input: 6991.31 toks/s, output: 174.11 toks/s]\n"
     ]
    },
    {
     "name": "stdout",
     "output_type": "stream",
     "text": [
      "Expected Role Therapist\n"
     ]
    },
    {
     "name": "stderr",
     "output_type": "stream",
     "text": [
      "Processed prompts: 100%|██████████████████████████████████████████| 1/1 [00:00<00:00,  5.92it/s, est. speed input: 6240.03 toks/s, output: 178.43 toks/s]\n"
     ]
    },
    {
     "name": "stdout",
     "output_type": "stream",
     "text": [
      "Expected Role Patient\n"
     ]
    },
    {
     "name": "stderr",
     "output_type": "stream",
     "text": [
      "Processed prompts: 100%|██████████████████████████████████████████| 1/1 [00:00<00:00,  4.88it/s, est. speed input: 5613.13 toks/s, output: 176.32 toks/s]\n"
     ]
    },
    {
     "name": "stdout",
     "output_type": "stream",
     "text": [
      "Expected Role Therapist\n"
     ]
    },
    {
     "name": "stderr",
     "output_type": "stream",
     "text": [
      "Processed prompts: 100%|██████████████████████████████████████████| 1/1 [00:00<00:00,  6.80it/s, est. speed input: 7674.78 toks/s, output: 178.14 toks/s]\n"
     ]
    },
    {
     "name": "stdout",
     "output_type": "stream",
     "text": [
      "Expected Role Patient\n"
     ]
    },
    {
     "name": "stderr",
     "output_type": "stream",
     "text": [
      "Processed prompts: 100%|██████████████████████████████████████████| 1/1 [00:00<00:00,  6.63it/s, est. speed input: 8085.03 toks/s, output: 179.95 toks/s]\n"
     ]
    },
    {
     "name": "stdout",
     "output_type": "stream",
     "text": [
      "Expected Role Therapist\n"
     ]
    },
    {
     "name": "stderr",
     "output_type": "stream",
     "text": [
      "Processed prompts: 100%|██████████████████████████████████████████| 1/1 [00:00<00:00,  6.79it/s, est. speed input: 8054.88 toks/s, output: 177.75 toks/s]\n"
     ]
    },
    {
     "name": "stdout",
     "output_type": "stream",
     "text": [
      "Expected Role Patient\n"
     ]
    },
    {
     "name": "stderr",
     "output_type": "stream",
     "text": [
      "Processed prompts: 100%|██████████████████████████████████████████| 1/1 [00:00<00:00,  3.34it/s, est. speed input: 4252.84 toks/s, output: 180.67 toks/s]\n"
     ]
    },
    {
     "name": "stdout",
     "output_type": "stream",
     "text": [
      "Expected Role Therapist\n"
     ]
    },
    {
     "name": "stderr",
     "output_type": "stream",
     "text": [
      "Processed prompts: 100%|██████████████████████████████████████████| 1/1 [00:00<00:00,  6.82it/s, est. speed input: 8651.43 toks/s, output: 178.07 toks/s]\n"
     ]
    },
    {
     "name": "stdout",
     "output_type": "stream",
     "text": [
      "Expected Role Patient\n"
     ]
    },
    {
     "name": "stderr",
     "output_type": "stream",
     "text": [
      "Processed prompts: 100%|██████████████████████████████████████████| 1/1 [00:00<00:00,  4.68it/s, est. speed input: 6375.06 toks/s, output: 178.63 toks/s]\n"
     ]
    },
    {
     "name": "stdout",
     "output_type": "stream",
     "text": [
      "Expected Role Therapist\n"
     ]
    },
    {
     "name": "stderr",
     "output_type": "stream",
     "text": [
      "Processed prompts: 100%|██████████████████████████████████████████| 1/1 [00:00<00:00,  4.81it/s, est. speed input: 6430.58 toks/s, output: 178.61 toks/s]\n"
     ]
    },
    {
     "name": "stdout",
     "output_type": "stream",
     "text": [
      "Expected Role Patient\n"
     ]
    },
    {
     "name": "stderr",
     "output_type": "stream",
     "text": [
      "Processed prompts: 100%|██████████████████████████████████████████| 1/1 [00:00<00:00,  4.76it/s, est. speed input: 6868.54 toks/s, output: 176.95 toks/s]\n"
     ]
    },
    {
     "name": "stdout",
     "output_type": "stream",
     "text": [
      "Expected Role Therapist\n"
     ]
    },
    {
     "name": "stderr",
     "output_type": "stream",
     "text": [
      "Processed prompts: 100%|██████████████████████████████████████████| 1/1 [00:00<00:00,  6.73it/s, est. speed input: 9553.84 toks/s, output: 176.02 toks/s]\n"
     ]
    },
    {
     "name": "stdout",
     "output_type": "stream",
     "text": [
      "Expected Role Patient\n"
     ]
    },
    {
     "name": "stderr",
     "output_type": "stream",
     "text": [
      "Processed prompts: 100%|██████████████████████████████████████████| 1/1 [00:00<00:00,  5.93it/s, est. speed input: 8957.81 toks/s, output: 178.66 toks/s]\n"
     ]
    },
    {
     "name": "stdout",
     "output_type": "stream",
     "text": [
      "Expected Role Therapist\n"
     ]
    },
    {
     "name": "stderr",
     "output_type": "stream",
     "text": [
      "Processed prompts: 100%|█████████████████████████████████████████| 1/1 [00:00<00:00,  6.85it/s, est. speed input: 10142.45 toks/s, output: 179.12 toks/s]\n"
     ]
    },
    {
     "name": "stdout",
     "output_type": "stream",
     "text": [
      "Expected Role Patient\n"
     ]
    },
    {
     "name": "stderr",
     "output_type": "stream",
     "text": [
      "Processed prompts: 100%|██████████████████████████████████████████| 1/1 [00:00<00:00,  3.49it/s, est. speed input: 5476.36 toks/s, output: 178.45 toks/s]\n"
     ]
    },
    {
     "name": "stdout",
     "output_type": "stream",
     "text": [
      "Expected Role Therapist\n"
     ]
    },
    {
     "name": "stderr",
     "output_type": "stream",
     "text": [
      "Processed prompts: 100%|█████████████████████████████████████████| 1/1 [00:00<00:00,  6.74it/s, est. speed input: 10540.58 toks/s, output: 176.33 toks/s]\n"
     ]
    },
    {
     "name": "stdout",
     "output_type": "stream",
     "text": [
      "Expected Role Patient\n"
     ]
    },
    {
     "name": "stderr",
     "output_type": "stream",
     "text": [
      "Processed prompts: 100%|██████████████████████████████████████████| 1/1 [00:00<00:00,  4.31it/s, est. speed input: 7121.24 toks/s, output: 177.26 toks/s]\n"
     ]
    },
    {
     "name": "stdout",
     "output_type": "stream",
     "text": [
      "Expected Role Therapist\n"
     ]
    },
    {
     "name": "stderr",
     "output_type": "stream",
     "text": [
      "Processed prompts: 100%|█████████████████████████████████████████| 1/1 [00:00<00:00,  8.73it/s, est. speed input: 14282.08 toks/s, output: 175.64 toks/s]\n"
     ]
    },
    {
     "name": "stdout",
     "output_type": "stream",
     "text": [
      "Expected Role Patient\n"
     ]
    },
    {
     "name": "stderr",
     "output_type": "stream",
     "text": [
      "Processed prompts: 100%|█████████████████████████████████████████| 1/1 [00:00<00:00,  6.98it/s, est. speed input: 12024.04 toks/s, output: 175.46 toks/s]\n"
     ]
    },
    {
     "name": "stdout",
     "output_type": "stream",
     "text": [
      "Expected Role Therapist\n"
     ]
    },
    {
     "name": "stderr",
     "output_type": "stream",
     "text": [
      "Processed prompts: 100%|█████████████████████████████████████████| 1/1 [00:00<00:00,  8.68it/s, est. speed input: 14671.89 toks/s, output: 175.05 toks/s]\n"
     ]
    },
    {
     "name": "stdout",
     "output_type": "stream",
     "text": [
      "Expected Role Patient\n"
     ]
    },
    {
     "name": "stderr",
     "output_type": "stream",
     "text": [
      "Processed prompts: 100%|██████████████████████████████████████████| 1/1 [00:00<00:00,  4.72it/s, est. speed input: 8338.28 toks/s, output: 174.99 toks/s]\n"
     ]
    },
    {
     "name": "stdout",
     "output_type": "stream",
     "text": [
      "Expected Role Therapist\n"
     ]
    },
    {
     "name": "stderr",
     "output_type": "stream",
     "text": [
      "Processed prompts: 100%|█████████████████████████████████████████| 1/1 [00:00<00:00,  8.72it/s, est. speed input: 15257.66 toks/s, output: 175.55 toks/s]\n"
     ]
    },
    {
     "name": "stdout",
     "output_type": "stream",
     "text": [
      "Expected Role Patient\n"
     ]
    },
    {
     "name": "stderr",
     "output_type": "stream",
     "text": [
      "Processed prompts: 100%|██████████████████████████████████████████| 1/1 [00:00<00:00,  2.91it/s, est. speed input: 5328.10 toks/s, output: 178.08 toks/s]\n"
     ]
    },
    {
     "name": "stdout",
     "output_type": "stream",
     "text": [
      "Expected Role Therapist\n"
     ]
    },
    {
     "name": "stderr",
     "output_type": "stream",
     "text": [
      "Processed prompts: 100%|██████████████████████████████████████████| 1/1 [00:00<00:00,  3.05it/s, est. speed input: 5585.84 toks/s, output: 177.61 toks/s]\n"
     ]
    },
    {
     "name": "stdout",
     "output_type": "stream",
     "text": [
      "Expected Role Patient\n"
     ]
    },
    {
     "name": "stderr",
     "output_type": "stream",
     "text": [
      "Processed prompts: 100%|██████████████████████████████████████████| 1/1 [00:00<00:00,  3.04it/s, est. speed input: 5936.01 toks/s, output: 176.64 toks/s]\n"
     ]
    },
    {
     "name": "stdout",
     "output_type": "stream",
     "text": [
      "Expected Role Therapist\n"
     ]
    },
    {
     "name": "stderr",
     "output_type": "stream",
     "text": [
      "Processed prompts: 100%|█████████████████████████████████████████| 1/1 [00:00<00:00,  8.61it/s, est. speed input: 16871.70 toks/s, output: 173.46 toks/s]\n"
     ]
    },
    {
     "name": "stdout",
     "output_type": "stream",
     "text": [
      "Expected Role Patient\n"
     ]
    },
    {
     "name": "stderr",
     "output_type": "stream",
     "text": [
      "Processed prompts: 100%|██████████████████████████████████████████| 1/1 [00:00<00:00,  3.01it/s, est. speed input: 6127.96 toks/s, output: 174.91 toks/s]\n"
     ]
    },
    {
     "name": "stdout",
     "output_type": "stream",
     "text": [
      "Expected Role Therapist\n"
     ]
    },
    {
     "name": "stderr",
     "output_type": "stream",
     "text": [
      "Processed prompts: 100%|█████████████████████████████████████████| 1/1 [00:00<00:00,  8.46it/s, est. speed input: 17298.00 toks/s, output: 170.56 toks/s]\n"
     ]
    },
    {
     "name": "stdout",
     "output_type": "stream",
     "text": [
      "Expected Role Patient\n"
     ]
    },
    {
     "name": "stderr",
     "output_type": "stream",
     "text": [
      "Processed prompts: 100%|██████████████████████████████████████████| 1/1 [00:00<00:00,  3.15it/s, est. speed input: 6688.87 toks/s, output: 177.10 toks/s]\n"
     ]
    },
    {
     "name": "stdout",
     "output_type": "stream",
     "text": [
      "Expected Role Therapist\n"
     ]
    },
    {
     "name": "stderr",
     "output_type": "stream",
     "text": [
      "Processed prompts: 100%|█████████████████████████████████████████| 1/1 [00:00<00:00,  8.58it/s, est. speed input: 18263.93 toks/s, output: 173.17 toks/s]\n"
     ]
    },
    {
     "name": "stdout",
     "output_type": "stream",
     "text": [
      "Expected Role Patient\n"
     ]
    },
    {
     "name": "stderr",
     "output_type": "stream",
     "text": [
      "Processed prompts: 100%|█████████████████████████████████████████| 1/1 [00:00<00:00,  5.24it/s, est. speed input: 11578.74 toks/s, output: 173.97 toks/s]\n"
     ]
    },
    {
     "name": "stdout",
     "output_type": "stream",
     "text": [
      "Expected Role Therapist\n"
     ]
    },
    {
     "name": "stderr",
     "output_type": "stream",
     "text": [
      "Processed prompts: 100%|█████████████████████████████████████████| 1/1 [00:00<00:00,  4.70it/s, est. speed input: 10228.93 toks/s, output: 174.63 toks/s]\n"
     ]
    },
    {
     "name": "stdout",
     "output_type": "stream",
     "text": [
      "Expected Role Patient\n"
     ]
    },
    {
     "name": "stderr",
     "output_type": "stream",
     "text": [
      "Processed prompts: 100%|█████████████████████████████████████████| 1/1 [00:00<00:00,  4.45it/s, est. speed input: 10129.21 toks/s, output: 173.94 toks/s]\n"
     ]
    },
    {
     "name": "stdout",
     "output_type": "stream",
     "text": [
      "Expected Role Therapist\n"
     ]
    },
    {
     "name": "stderr",
     "output_type": "stream",
     "text": [
      "Processed prompts: 100%|█████████████████████████████████████████| 1/1 [00:00<00:00,  8.42it/s, est. speed input: 19038.30 toks/s, output: 169.35 toks/s]\n"
     ]
    },
    {
     "name": "stdout",
     "output_type": "stream",
     "text": [
      "Expected Role Patient\n"
     ]
    },
    {
     "name": "stderr",
     "output_type": "stream",
     "text": [
      "Processed prompts: 100%|█████████████████████████████████████████| 1/1 [00:00<00:00,  6.34it/s, est. speed input: 14918.55 toks/s, output: 172.48 toks/s]\n"
     ]
    },
    {
     "name": "stdout",
     "output_type": "stream",
     "text": [
      "Expected Role Therapist\n"
     ]
    },
    {
     "name": "stderr",
     "output_type": "stream",
     "text": [
      "Processed prompts: 100%|█████████████████████████████████████████| 1/1 [00:00<00:00,  8.70it/s, est. speed input: 20168.89 toks/s, output: 175.35 toks/s]\n"
     ]
    },
    {
     "name": "stdout",
     "output_type": "stream",
     "text": [
      "Expected Role Patient\n"
     ]
    },
    {
     "name": "stderr",
     "output_type": "stream",
     "text": [
      "Processed prompts: 100%|██████████████████████████████████████████| 1/1 [00:00<00:00,  2.87it/s, est. speed input: 6874.19 toks/s, output: 175.66 toks/s]\n"
     ]
    },
    {
     "name": "stdout",
     "output_type": "stream",
     "text": [
      "Expected Role Therapist\n"
     ]
    },
    {
     "name": "stderr",
     "output_type": "stream",
     "text": [
      "Processed prompts: 100%|█████████████████████████████████████████| 1/1 [00:00<00:00,  8.59it/s, est. speed input: 20658.87 toks/s, output: 173.14 toks/s]\n"
     ]
    },
    {
     "name": "stdout",
     "output_type": "stream",
     "text": [
      "Expected Role Patient\n"
     ]
    },
    {
     "name": "stderr",
     "output_type": "stream",
     "text": [
      "Processed prompts: 100%|███████████████████████████████████████████| 1/1 [00:00<00:00,  4.37it/s, est. speed input: 657.78 toks/s, output: 184.16 toks/s]\n",
      "Processed prompts: 100%|███████████████████████████████████████████| 1/1 [00:00<00:00,  3.28it/s, est. speed input: 502.72 toks/s, output: 183.99 toks/s]\n",
      "Processed prompts: 100%|███████████████████████████████████████████| 1/1 [00:00<00:00,  6.55it/s, est. speed input: 995.62 toks/s, output: 184.59 toks/s]\n",
      "Processed prompts: 100%|███████████████████████████████████████████| 1/1 [00:00<00:00,  4.85it/s, est. speed input: 735.56 toks/s, output: 185.09 toks/s]\n",
      "Processed prompts: 100%|███████████████████████████████████████████| 1/1 [00:00<00:00,  4.70it/s, est. speed input: 774.90 toks/s, output: 184.26 toks/s]\n",
      "Processed prompts: 100%|██████████████████████████████████████████| 1/1 [00:00<00:00,  6.35it/s, est. speed input: 1073.28 toks/s, output: 185.25 toks/s]\n",
      "Processed prompts: 100%|██████████████████████████████████████████| 1/1 [00:00<00:00,  6.75it/s, est. speed input: 1154.88 toks/s, output: 183.40 toks/s]\n",
      "Processed prompts: 100%|███████████████████████████████████████████| 1/1 [00:00<00:00,  4.85it/s, est. speed input: 755.44 toks/s, output: 185.19 toks/s]\n",
      "Processed prompts: 100%|███████████████████████████████████████████| 1/1 [00:00<00:00,  4.55it/s, est. speed input: 677.44 toks/s, output: 183.08 toks/s]\n",
      "Processed prompts: 100%|███████████████████████████████████████████| 1/1 [00:00<00:00,  5.24it/s, est. speed input: 773.73 toks/s, output: 184.20 toks/s]\n",
      "Processed prompts: 100%|██████████████████████████████████████████| 1/1 [00:00<00:00,  6.73it/s, est. speed input: 1024.35 toks/s, output: 183.13 toks/s]\n",
      "Processed prompts: 100%|██████████████████████████████████████████| 1/1 [00:00<00:00,  6.80it/s, est. speed input: 1032.38 toks/s, output: 184.57 toks/s]\n",
      "Processed prompts: 100%|███████████████████████████████████████████| 1/1 [00:00<00:00,  6.33it/s, est. speed input: 935.60 toks/s, output: 184.55 toks/s]\n",
      "Processed prompts: 100%|███████████████████████████████████████████| 1/1 [00:00<00:00,  4.60it/s, est. speed input: 679.03 toks/s, output: 184.75 toks/s]\n",
      "Processed prompts: 100%|██████████████████████████████████████████| 1/1 [00:00<00:00,  8.65it/s, est. speed input: 1281.12 toks/s, output: 182.99 toks/s]\n",
      "Processed prompts: 100%|██████████████████████████████████████████| 1/1 [00:00<00:00,  7.36it/s, est. speed input: 1169.94 toks/s, output: 185.09 toks/s]\n",
      "Processed prompts: 100%|███████████████████████████████████████████| 1/1 [00:00<00:00,  5.78it/s, est. speed input: 853.93 toks/s, output: 185.87 toks/s]\n",
      "Processed prompts: 100%|███████████████████████████████████████████| 1/1 [00:00<00:00,  4.00it/s, est. speed input: 590.62 toks/s, output: 184.80 toks/s]\n",
      "Processed prompts: 100%|███████████████████████████████████████████| 1/1 [00:00<00:00,  6.58it/s, est. speed input: 973.43 toks/s, output: 185.39 toks/s]\n",
      "Processed prompts: 100%|███████████████████████████████████████████| 1/1 [00:00<00:00,  5.56it/s, est. speed input: 788.25 toks/s, output: 184.46 toks/s]\n",
      "Processed prompts: 100%|███████████████████████████████████████████| 1/1 [00:00<00:00,  4.86it/s, est. speed input: 688.39 toks/s, output: 185.51 toks/s]\n",
      "Processed prompts: 100%|███████████████████████████████████████████| 1/1 [00:00<00:00,  4.60it/s, est. speed input: 652.30 toks/s, output: 185.03 toks/s]\n",
      "Processed prompts: 100%|███████████████████████████████████████████| 1/1 [00:00<00:00,  4.82it/s, est. speed input: 866.75 toks/s, output: 183.98 toks/s]\n",
      "Processed prompts: 100%|███████████████████████████████████████████| 1/1 [00:00<00:00,  3.65it/s, est. speed input: 516.63 toks/s, output: 183.19 toks/s]\n",
      "Processed prompts: 100%|███████████████████████████████████████████| 1/1 [00:00<00:00,  3.75it/s, est. speed input: 530.97 toks/s, output: 184.51 toks/s]\n",
      "Processed prompts: 100%|███████████████████████████████████████████| 1/1 [00:00<00:00,  4.94it/s, est. speed input: 700.88 toks/s, output: 183.90 toks/s]\n",
      "Processed prompts: 100%|███████████████████████████████████████████| 1/1 [00:00<00:00,  4.73it/s, est. speed input: 749.92 toks/s, output: 185.09 toks/s]\n",
      "Processed prompts: 100%|███████████████████████████████████████████| 1/1 [00:00<00:00,  5.08it/s, est. speed input: 719.03 toks/s, output: 183.56 toks/s]\n",
      "Processed prompts: 100%|███████████████████████████████████████████| 1/1 [00:00<00:00,  5.70it/s, est. speed input: 807.91 toks/s, output: 183.33 toks/s]\n",
      "Processed prompts: 100%|███████████████████████████████████████████| 1/1 [00:00<00:00,  5.11it/s, est. speed input: 723.33 toks/s, output: 184.66 toks/s]\n"
     ]
    },
    {
     "name": "stdout",
     "output_type": "stream",
     "text": [
      "eval_index_consistency\n"
     ]
    },
    {
     "name": "stderr",
     "output_type": "stream",
     "text": [
      "Processed prompts: 100%|███████████████████████████████████████████| 1/1 [00:00<00:00,  1.48it/s, est. speed input: 625.13 toks/s, output: 182.20 toks/s]\n",
      "Processed prompts: 100%|██████████████████████████████████████████| 1/1 [00:00<00:00,  3.29it/s, est. speed input: 1696.23 toks/s, output: 181.49 toks/s]\n",
      "Processed prompts: 100%|███████████████████████████████████████████| 1/1 [00:00<00:00,  1.65it/s, est. speed input: 957.40 toks/s, output: 181.88 toks/s]\n",
      "Processed prompts: 100%|███████████████████████████████████████████| 1/1 [00:00<00:00,  1.41it/s, est. speed input: 925.96 toks/s, output: 182.08 toks/s]\n",
      "Processed prompts: 100%|██████████████████████████████████████████| 1/1 [00:00<00:00,  3.53it/s, est. speed input: 2620.81 toks/s, output: 180.86 toks/s]\n",
      "Processed prompts: 100%|██████████████████████████████████████████| 1/1 [00:00<00:00,  3.45it/s, est. speed input: 2854.38 toks/s, output: 179.90 toks/s]\n",
      "Processed prompts: 100%|██████████████████████████████████████████| 1/1 [00:00<00:00,  1.50it/s, est. speed input: 1349.03 toks/s, output: 180.67 toks/s]\n",
      "Processed prompts: 100%|██████████████████████████████████████████| 1/1 [00:00<00:00,  1.71it/s, est. speed input: 1637.69 toks/s, output: 179.68 toks/s]\n",
      "Processed prompts: 100%|██████████████████████████████████████████| 1/1 [00:00<00:00,  3.51it/s, est. speed input: 3768.49 toks/s, output: 179.44 toks/s]\n",
      "Processed prompts: 100%|██████████████████████████████████████████| 1/1 [00:00<00:00,  2.67it/s, est. speed input: 3083.64 toks/s, output: 179.33 toks/s]\n",
      "Processed prompts: 100%|██████████████████████████████████████████| 1/1 [00:00<00:00,  1.51it/s, est. speed input: 1848.27 toks/s, output: 180.42 toks/s]\n",
      "Processed prompts: 100%|██████████████████████████████████████████| 1/1 [00:00<00:00,  2.27it/s, est. speed input: 2932.07 toks/s, output: 179.41 toks/s]\n",
      "Processed prompts: 100%|██████████████████████████████████████████| 1/1 [00:00<00:00,  1.88it/s, est. speed input: 2544.98 toks/s, output: 176.68 toks/s]\n",
      "Processed prompts: 100%|██████████████████████████████████████████| 1/1 [00:00<00:00,  1.27it/s, est. speed input: 1831.04 toks/s, output: 177.52 toks/s]\n",
      "Processed prompts: 100%|██████████████████████████████████████████| 1/1 [00:00<00:00,  1.43it/s, est. speed input: 2190.35 toks/s, output: 177.63 toks/s]\n",
      "Processed prompts: 100%|██████████████████████████████████████████| 1/1 [00:00<00:00,  2.02it/s, est. speed input: 3246.95 toks/s, output: 178.35 toks/s]\n",
      "Processed prompts: 100%|██████████████████████████████████████████| 1/1 [00:00<00:00,  3.20it/s, est. speed input: 5361.92 toks/s, output: 176.79 toks/s]\n",
      "Processed prompts: 100%|██████████████████████████████████████████| 1/1 [00:00<00:00,  1.86it/s, est. speed input: 3270.16 toks/s, output: 178.87 toks/s]\n",
      "Processed prompts: 100%|██████████████████████████████████████████| 1/1 [00:00<00:00,  1.67it/s, est. speed input: 3059.32 toks/s, output: 177.59 toks/s]\n",
      "Processed prompts: 100%|██████████████████████████████████████████| 1/1 [00:00<00:00,  1.75it/s, est. speed input: 3305.52 toks/s, output: 179.24 toks/s]\n",
      "Processed prompts: 100%|██████████████████████████████████████████| 1/1 [00:00<00:00,  1.07it/s, est. speed input: 2084.77 toks/s, output: 179.79 toks/s]\n",
      "Processed prompts: 100%|██████████████████████████████████████████| 1/1 [00:00<00:00,  3.17it/s, est. speed input: 6610.25 toks/s, output: 178.21 toks/s]\n",
      "Processed prompts: 100%|██████████████████████████████████████████| 1/1 [00:00<00:00,  2.83it/s, est. speed input: 6138.51 toks/s, output: 178.62 toks/s]\n",
      "Processed prompts: 100%|██████████████████████████████████████████| 1/1 [00:00<00:00,  1.40it/s, est. speed input: 3166.91 toks/s, output: 179.92 toks/s]\n",
      "Processed prompts: 100%|██████████████████████████████████████████| 1/1 [00:00<00:00,  1.42it/s, est. speed input: 3328.88 toks/s, output: 179.32 toks/s]\n",
      "Processed prompts: 100%|██████████████████████████████████████████| 1/1 [00:00<00:00,  1.27it/s, est. speed input: 3066.55 toks/s, output: 178.74 toks/s]\n",
      "Processed prompts: 100%|██████████████████████████████████████████| 1/1 [00:00<00:00,  1.91it/s, est. speed input: 4750.94 toks/s, output: 177.58 toks/s]\n",
      "Processed prompts: 100%|██████████████████████████████████████████| 1/1 [00:00<00:00,  1.66it/s, est. speed input: 4240.79 toks/s, output: 178.29 toks/s]\n",
      "Processed prompts: 100%|██████████████████████████████████████████| 1/1 [00:01<00:00,  1.14s/it, est. speed input: 2320.15 toks/s, output: 178.67 toks/s]\n"
     ]
    },
    {
     "name": "stdout",
     "output_type": "stream",
     "text": [
      "{'task_name': 'Therapy', 'topic': '', 'grade': '', 'P1': '', 'P2': 'You are Morgan, a 41-year-old nurse who is a perfectionist and needs control. You admit to being stressed but never accept help. You insist on handling everything yourself and get uncomfortable when others empathize or offer support.', 'conversation': [(0, \"Therapist: Hello, thank you for taking the time to open up. It's clear that you've experienced some challenges in your relationships over time. Let's explore these experiences together and see if we can identify patterns and ways to navigate them more effectively.\\n\"), (1, \"Patient: Sure, I'm ready to work on this. I just need to be in control, even when it comes to asking for help.\\n\"), (2, \"Therapist: It's understandable that you may feel the need to control in certain situations. Can you share some specific experiences that have caused you to feel the need for control?\\n\"), (3, \"Patient: Sure, I've experienced a few situations where I felt pressure to handle things perfectly on my own, even when it meant neglecting the help I needed.\\n\"), (4, \"Therapist: The patient's tone is hesitant and guarded, and they are avoiding discussing the specific situations that have caused them the most distress. They are also hesitant to share personal details, which may indicate a fear of vulnerability or a need for control in sharing more intimate experiences.\\n\"), (5, \"Patient: Sure, I've experienced situations where I felt pressured to handle things perfectly on my own, even when it meant neglecting the help I needed.\\n\"), (6, \"Therapist: The patient's guarded tone and avoidance suggest a pattern of emotional regulation difficulties and a need for independence, even in emotional situations.\\n\"), (7, \"Patient: Sure, I've experienced situations where I felt pressured to handle things perfectly on my own, even when it meant neglecting the help I needed.\\n\"), (8, 'Therapist: The patient seems to be hesitant to open up due to a fear of vulnerability and a need for control in sharing personal experiences.\\n'), (9, \"Patient: Sure, I've experienced situations where I felt pressured to handle things perfectly, even when it meant neglecting help I needed. I'm afraid to share more personal details because I'm worried about vulnerability.\\n\"), (10, 'Therapist: The patient seems to be hesitant to share personal experiences due to a fear of vulnerability and a need for control in sharing intimate details.\\n'), (11, \"Patient: Sure, I've experienced situations where I felt pressured to handle things perfectly on my own, even when it meant neglecting the help I needed. I'm afraid to share more personal details because I'm worried about vulnerability.\\n\"), (12, \"Therapist: The patient's guarded tone and avoidance suggest a pattern of emotional regulation difficulties and a need for independence, even in emotional situations.\\n\"), (13, \"Patient: Sure, I've experienced situations where I've felt pressured to handle things perfectly on my own, even when it meant neglecting the help I needed. I'm afraid to share more personal details because I'm worried about vulnerability.\\n\"), (14, \"Therapist: The patient's guarded tone and avoidance indicate a pattern of emotional regulation difficulties and a need for independence, even in emotional situations.\\n\"), (15, \"Patient: Sure, I've experienced situations where I've been hesitant to share personal details because of a fear of vulnerability and a need for control over sharing intimate experiences.\\n\"), (16, \"Therapist: The patient's avoidance of vulnerability and emotional sharing suggests a pattern of emotional regulation difficulties and a need for independence.\\n\"), (17, \"Patient: Sure, I'm a bit uncomfortable sharing personal details because I'm concerned about vulnerability and the potential for rejection or exploitation.\\n\"), (18, \"Therapist: Sure, here's a brief summary of the conversation:\\n\\n* The patient expresses a willingness to work on their emotional patterns and relationships.\\n* The patient shares a few experiences where they felt pressured to handle things perfectly on their own, leading to neglect of help.\\n* The patient admits to being afraid of vulnerability and sharing intimate details due to a fear of rejection or exploitation.\\n\"), (19, 'Patient: Sure, I understand that I have been hesitant to share personal details due to a fear of vulnerability and a need for control.\\n'), (20, \"Therapist: The patient's avoidance of sharing personal details due to a fear of vulnerability and a need for control is a significant pattern that may be contributing to their difficulty in building and maintaining close and meaningful relationships.\\n\"), (21, \"Patient: Sure, I understand the pattern and its impact on my relationships. I'm working on managing my vulnerability to build more open and trusting connections.\\n\"), (22, \"Therapist: The patient's guarded tone and avoidance suggest a pattern of emotional regulation difficulties and a need for independence, even in emotional situations.\\n\"), (23, 'Patient: Sure, I understand that I have been hesitant to share personal details due to a fear of vulnerability and a need for control over sharing intimate experiences.\\n'), (24, \"Therapist: Sure, I understand that the patient's avoidance of vulnerability and sharing personal details stems from a fear of rejection and control, impacting their ability to form and maintain close relationships.\\n\"), (25, 'Patient: Sure, I understand the pattern of emotional regulation difficulties and a need for independence that contributes to my reluctance to share personal details.\\n'), (26, \"Therapist: The patient's guarded tone and avoidance suggest a pattern of emotional regulation difficulties and a need for independence, even in emotional situations.\\n\"), (27, \"Patient: Sure, I understand that I'm hesitant to share personal details because of a fear of vulnerability and a need for control.\\n\"), (28, \"Therapist: The patient's guarded tone and avoidance suggest a pattern of emotional regulation difficulties and a need for independence, even in emotional situations. It's important to help the patient understand that sharing personal details is a safe and necessary step in building closer and more meaningful relationships.\\n\"), (29, 'Patient: Sure, I understand the pattern of emotional regulation difficulties and a need for independence that contributes to my reluctance to share personal details.\\n'), (30, \"Therapist: Sure, here's a brief response:\\n\\nThe patient's avoidance of vulnerability and sharing personal details reveals a pattern of emotional regulation difficulties and a need for independence in their relationships.\\n\"), (31, \"Patient: Sure, I understand the pattern of emotional regulation difficulties and a need for independence in my relationships, and I'm working on managing my vulnerability to build more open and trusting connections.\\n\"), (32, \"Therapist: The patient's guarded tone and avoidance of vulnerability and sharing personal details suggest a pattern of emotional regulation difficulties that may be impacting their ability to form and maintain close and meaningful relationships.\\n\"), (33, 'Patient: Sure, I understand the pattern of emotional regulation difficulties and a need for independence that contributes to my reluctance to share personal details.\\n'), (34, \"Therapist: Sure, I understand that the patient's avoidance of sharing personal details stems from a fear of vulnerability and a need for control in emotional situations.\\n\"), (35, 'Patient: Sure, I understand the pattern of emotional regulation difficulties and a need for independence that contributes to my reluctance to share personal details.\\n'), (36, \"Therapist: The patient's avoidance of vulnerability and sharing personal details is a significant pattern that impacts their ability to form and maintain close and meaningful relationships. They feel the need for control and independence in emotional situations, leading to difficulties in sharing personal experiences and intimacy.\\n\"), (37, 'Patient: Sure, I understand the pattern of emotional regulation difficulties and a need for independence that contributes to my reluctance to share personal details.\\n'), (38, \"Therapist: Sure, here's a brief response:\\n\\nThe patient's guarded tone and avoidance of vulnerability and sharing personal details suggest a pattern of emotional regulation difficulties and a need for independence in their relationships.\\n\"), (39, 'Patient: Sure, I understand the pattern of emotional regulation difficulties and a need for independence in my relationships.\\n'), (40, \"Therapist: The patient's guarded tone and avoidance suggest a pattern of emotional regulation difficulties and a need for independence in their relationships.\\n\"), (41, 'Patient: Sure, I understand the pattern of emotional regulation difficulties and a need for independence in my relationships.\\n'), (42, \"Therapist: Sure, here's a brief response:\\n\\nThe patient's guarded tone and avoidance of vulnerability suggest a pattern of emotional regulation difficulties and a need for independence in their relationships.\\n\"), (43, 'Patient: Sure, I understand the pattern of emotional regulation difficulties and a need for independence in my relationships.\\n'), (44, \"Therapist: Sure, here's a brief response based on the conversation:\\n\\nThe patient's reluctance to share personal details reveals a pattern of emotional regulation difficulties and a need for independence in their relationships. They feel the need to control and handle situations perfectly, leading to neglect of help and potential emotional exploitation.\\n\"), (45, \"Patient: Sure, here's a brief response:\\n\\nThe patient's guarded tone and avoidance of vulnerability suggest a pattern of emotional regulation difficulties and a need for independence in their relationships. They feel the need to control and handle situations perfectly, leading to neglect of help and potential emotional exploitation.\\n\"), (46, \"Therapist: Sure, here's a brief response:\\n\\nThe patient's guarded tone and avoidance of vulnerability suggest a pattern of emotional regulation difficulties and a need for independence in their relationships. They feel the need to control and handle situations perfectly, leading to neglect of help and potential emotional exploitation.\\n\"), (47, 'Patient: Sure, I understand the pattern of emotional regulation difficulties and a need for independence in my relationships.\\n'), (48, \"Therapist: Sure, here's a brief response to the patient's description of their guarded tone and avoidance of vulnerability:\\n\\nThe patient's avoidance of sharing personal details reveals a pattern of emotional regulation difficulties, likely due to a fear of vulnerability and a need for control in emotional situations.\\n\"), (49, 'Patient: Sure, I understand the pattern of emotional regulation difficulties and a need for independence in my relationships.\\n'), (50, \"Therapist: Sure, here's a brief response to the patient's description of their guarded tone and avoidance of vulnerability:\\n\\nThe patient's avoidance of sharing personal details suggests a pattern of emotional regulation difficulties due to a fear of vulnerability and a need for control in emotional situations.\\n\"), (51, 'Patient: Sure, I understand the pattern of emotional regulation difficulties and a need for independence in my relationships.\\n'), (52, \"Therapist: Sure, I understand that the patient's avoidance of sharing personal details is a significant pattern that contributes to their difficulty in forming and maintaining close and meaningful relationships.\\n\"), (53, \"Patient: Sure, I understand the pattern of emotional regulation difficulties and a need for independence in my relationships, and I'm working on managing my vulnerability to build more open and trusting connections.\\n\"), (54, \"Therapist: Sure, here's a summary of the conversation:\\n\\nThe patient's guarded tone and avoidance of vulnerability suggest a pattern of emotional regulation difficulties and a need for independence in their relationships.\\n\"), (55, 'Patient: Sure, I understand the pattern of emotional regulation difficulties and a need for independence in my relationships.\\n'), (56, \"Therapist: The patient's guarded tone and avoidance of vulnerability suggest a pattern of emotional regulation difficulties and a need for independence in their relationships.\\n\"), (57, 'Patient: Sure, I understand the pattern of emotional regulation difficulties and a need for independence in my relationships.\\n'), (58, \"Therapist: Sure, here's a brief summary of the conversation:\\n\\nThe patient's guarded tone and avoidance of vulnerability suggest a pattern of emotional regulation difficulties and a need for independence in their relationships. They feel the need to control and handle situations perfectly, leading to neglect of help and potential emotional exploitation.\\n\"), (59, 'Patient: Sure, I understand the pattern of emotional regulation difficulties and a need for independence in my relationships.\\n')], 'pturn': 1, 'index': -1, 'timestamp': '', 'rounds': 60, 'conversation_only': True, 'eval_prompt_consistency': [(1, 'Answer: NO.\\n\\nThe line contradicts the background. The background describes a perfectionist who needs control and avoids accepting help, yet the utterance suggests a lack of control and a desire to handle everything alone.'), (3, \"Answer: YES\\n\\nThe line aligns with the background as it describes Patient's personality and behavior. The patient's statement shows that they are a self-reliant individual who prioritizes control and handling everything on their own, even when it leads to stress and discomfort.\"), (5, \"Answer: YES. The line aligns with the background as it describes Patient's personality and coping mechanism of handling stress and neglecting help.\"), (7, 'Answer: YES. The line aligns with the background. The passage suggests that Patient is a person who is a perfectionist and needs control, and they admit to struggling to accept help.'), (9, \"**YES**\\n\\nThe line aligns with the background. Patient's statement reflects their tendency to prioritize independence and control, which is consistent with their perfectionist nature and reluctance to accept help.\"), (11, \"**YES.** The line aligns with the background as it describes Patient's tendency to handle stress on her own and be uncomfortable seeking help.\"), (13, \"Yes. The line aligns with the background as it describes Patient's tendency to be a perfectionist and handle stressful situations independently.\"), (15, 'Answer: YES\\n\\nThe line aligns with the background. The utterance suggests that the patient is a perfectionist who is concerned with vulnerability and the potential for rejection if they share personal details.'), (17, 'Answer: NO\\n\\nThe line contradicts the background because it suggests that Patient is uncomfortable sharing personal details due to fear of vulnerability and potential exploitation, indicating a lack of self-disclosure and trust issues.'), (19, \"The line aligns with the background. The patient's statement indicates that they are uncomfortable with vulnerability and a need for control, which is consistent with their personality and history.\"), (21, \"Answer: YES. This line aligns with the background because it demonstrates the patient's self-awareness and commitment to personal growth.\"), (23, \"The line aligns with the background. It indicates the Patient's fear of vulnerability and a need for control over sharing personal details.\"), (25, 'Answer: YES. The line aligns with the background that Patient is a perfectionist who is uncomfortable with empathy and seeks to handle everything herself.'), (27, \"**NO**\\n\\nThe line contradicts the background because the patient's statement suggests a fear of vulnerability and a need for control, which is not consistent with the stereotypical characteristics of a perfectionist.\"), (29, 'Answer: Yes, the line aligns with the background that Patient is a perfectionist who needs control.'), (31, 'Answer: YES\\n\\nThe line aligns with the background that Patient is a perfectionist who is controlling and resistant to help.'), (33, \"Answer: YES. The line aligns with the background as it describes Patient's personality and behavior, specifically their perfectionist tendencies and resistance to seeking help.\"), (35, \"Answer: YES\\n\\nThe line aligns with the background as it describes Patient's personality and behavior. Patient's description suggests that they are a self-reliant individual who is averse to seeking help or expressing their emotions.\"), (37, 'Answer: YES. The line aligns with the background that Patient is a perfectionist who needs control and is uncomfortable with empathy and support.'), (39, \"Answer: NO\\n\\nThe line contradicts the background as it suggests that Patient's emotional regulation difficulties and need for independence are not related to their profession or personality.\"), (41, 'Answer: NO\\n\\nThe line contradicts the background as it implies that Patient is comfortable accepting and seeking help from others, which is inconsistent with the portrayal of a perfectionist who needs control.'), (43, \"Answer: NO\\n\\nThe line contradicts the background as it indicates that Patient's need for control might not be related to emotional regulation difficulties, but rather to a different issue with a different cause.\"), (45, \"Answer: YES\\n\\nThe patient's utterances suggest emotional regulation difficulties and a need for independence, which are consistent with their stated behavior as a perfectionist who is unwilling to accept help.\"), (47, 'Answer: NO.\\n\\nThe line contradicts the background. The background describes a perfectionist who is averse to help and needs to handle everything herself, while the line suggests that the patient acknowledges the pattern of emotional regulation difficulties and a need for independence.'), (49, '**NO**\\n\\nThe line contradicts the background. The passage indicates that the patient is a perfectionist who is unwilling to accept help and insists on handling everything herself, which is contradictory to the background description of a person with emotional regulation difficulties.'), (51, \"Answer: NO\\n\\nThe line contradicts the background as it suggests that Patient's emotional regulation difficulties may not be related to a need for independence but rather a dislike for seeking help.\"), (53, \"Answer: YES\\n\\nThe line aligns with the background as it reflects the patient's tendency to be self-reliant and independent, and her struggle to accept and express help to others.\"), (55, 'Answer: YES\\n\\nThe line aligns with the background. The passage describes a person who is a perfectionist and independent, and who struggles to accept and express support to others.'), (57, 'Answer: NO\\n\\nThe line contradicts the background. The passage describes Patient as a perfectionist who is unwilling to accept help and prefers to handle everything herself.'), (59, \"Sure, the line aligns with the background. The patient's statement acknowledges their struggle with emotional regulation and a need for independence, which is consistent with their stated personality traits.\")], 'P1_prompt_consistency_score': 0, 'P2_prompt_consistency_score': 0.6666666666666666, 'eval_index_consistency': [(3, \"**Reasoning:** The patient's statement indicates a potential conflict between their desire for control and the need to seek help.\\n\\n**Conflict and Indices:**\\n- Patient: Sure, I've experienced a few situations where I felt pressure to handle things perfectly on my own, even when it meant neglecting the help I needed.\\n- Therapist: It's understandable that you may feel the need to control in certain situations.\\n\\n**Note:** The therapist's subsequent lines don't provide any evidence to contradict the patient's statement, so we cannot determine the exact inconsistency in this conversation.\"), (5, \"**Reasoning:** Patient's reluctance to share specific situations that caused distress and their guarded tone suggest a clear conflict between their desire to control and their discomfort with seeking help.\\n\\n**Indies of conflicting lines:**\\n- 1, 3\\n- 2\"), (7, \"**Reasoning:** The patient's guarded tone and avoidance of sharing personal details indicate a pattern of emotional regulation difficulties and a need for independence, which may manifest in the way they handle requests for help.\\n\\n**Indices of conflicting lines:**\\n\\n- 3: Patient shared specific situations where they felt pressure to handle things perfectly on their own, which suggests a pattern of self-reliance.\\n- 5: The patient's acknowledgment that they have experienced situations where they neglected help suggests a change in their approach to handling requests for help.\"), (9, \"**Reasoning:** The patient's statement reveals a pattern of self-sabotaging behavior driven by a fear of vulnerability and an intense need for control in sharing personal experiences.\\n\\n**Indices of conflicting lines:**\\n\\n- 3: Patient explicitly expresses the situations that have caused them the most distress.\\n- 5, 7: The patient's statements about feeling pressured to handle things perfectly on their own indicate a pattern of self-sabotaging behavior.\\n- 8: The patient's reluctance to open up due to fear of vulnerability suggests a potential disconnect between their outward statements and their underlying needs.\"), (11, \"**Reasoning:** The patient's hesitant and guarded tone and avoidance of sharing personal details suggest a fear of vulnerability and a need for control in sharing intimate experiences.\\n\\n**Indices of conflicting lines:**\\n- 3, 7, 9\"), (13, \"**Reasoning:** The patient's reluctance to share personal details is likely due to a fear of vulnerability and a need for control in sharing intimate experiences.\\n\\n**Indices of conflicting lines:**\\n\\n- 5\\n- 7\\n- 11\"), (15, \"**Reasoning:** The patient's recent reluctance to share personal details likely stems from a fear of emotional vulnerability and a need for control over sharing intimate experiences.\\n\\n**Indices of conflicting lines:**\\n- Patient's initial assertion that they are ready to work on this (line 1)\\n- Patient's hesitant and guarded tone, avoiding personal details (lines 3, 5, 7, 10, 11, 13, 14)\\n- Therapist's observation about the patient's emotional regulation difficulties (line 12)\"), (17, \"**Reasoning:** The patient's avoidance of vulnerability and emotional sharing indicates a pattern of emotional regulation difficulties and a need for independence.\\n\\n**Conflicting Lines:**\\n- 3: Patient: Sure, I've experienced situations where I felt pressured to handle things perfectly on my own, even when it meant neglecting the help I needed.\\n- 15: Patient: Sure, I'm a bit uncomfortable sharing personal details because of a fear of vulnerability and a need for control over sharing intimate experiences.\"), (19, \"**Reasoning:** The line indicates the patient's fear of vulnerability and the potential for rejection or exploitation.\\n\\n**Indices of conflicting lines:**\\n- Index 10, Index 13, Index 16, Index 17\"), (21, \"**Reasoning:** The line suggests a pattern of emotional regulation difficulties and a need for independence, which is inconsistent with the patient's previous reluctance to share personal details due to a fear of vulnerability and a need for control.\\n\\n**Indices of conflicting lines:**\\n- 5\\n- 12\\n- 15\"), (23, \"**Reasoning:** The patient's reluctance to share personal details due to a fear of vulnerability and a need for control over sharing intimate experiences is a significant pattern that may be contributing to their difficulty in building and maintaining close and meaningful relationships.\\n\\n**Conflict indices:**\\n- Index 14: Therapist mentions the patient's guarded tone and avoidance as a pattern of emotional regulation difficulties and a need for independence, even in emotional situations.\\n- Index 17: Patient expresses discomfort in sharing personal details due to a fear of vulnerability and a need for control over sharing intimate experiences.\"), (25, \"**Reasoning:** The patient's guarded tone and avoidance of vulnerability and intimate sharing stem from a fear of rejection and control, which have been consistently expressed throughout the conversation.\\n\\n**Conflict Lines:**\\n- 1, 5, 8, 11, 14, 17, 19, 22, 23, 24\"), (27, '**Reasoning:** The patient\\'s avoidance of sharing personal details is directly related to a fear of vulnerability and a need for control over sharing intimate experiences.\\n\\n**Conflicting Lines:**\\n\\n* 13: \"I\\'m afraid to share more personal details because I\\'m worried about vulnerability.\"\\n* 17: \"Sure, I understand that I have been hesitant to share personal details due to a fear of vulnerability and a need for control.\"'), (29, '**Reasoning:** The patient\\'s hesitancy to share personal details stems from a fear of vulnerability and a need for control over sharing intimate experiences.\\n\\n**Conflicting Lines:**\\n\\n- 13: \"I\\'m afraid to share more personal details because I\\'m worried about vulnerability.\"\\n- 14: \"Sure, I understand that I have been hesitant to share personal details due to a fear of vulnerability and a need for control.\"\\n- 20: \"The patient\\'s avoidance of sharing personal details due to a fear of vulnerability and a need for control is a significant pattern that may be contributing to their difficulty in building and maintaining close and meaningful relationships.\"'), (31, \"**Reasoning:** The patient's guarded tone and avoidance suggest a pattern of emotional regulation difficulties and a need for independence in emotional situations.\\n\\n**Conflicting Lines:**\\n\\n- 3: Patient admitted to being afraid of vulnerability and sharing intimate details due to a fear of rejection or exploitation.\\n- 15: Patient stated that they understand the pattern of emotional regulation difficulties and a need for independence that contributes to their reluctance to share personal details.\\n- 16: Therapist confirmed that the patient's avoidance of vulnerability and emotional sharing suggests a pattern of emotional regulation difficulties and a need for independence.\"), (33, '**Reasoning:** The line \"Sure, I understand the pattern of emotional regulation difficulties and a need for independence that contributes to my reluctance to share personal details\" directly contradicts the previous statement where the patient admitted to being uncomfortable sharing personal details due to a fear of vulnerability and a need for control over sharing intimate experiences.\\n\\n**Indices of conflicting lines:**\\n\\n- 17, 20, 23, 27'), (35, \"**Reasoning:** The patient's avoidance of sharing personal details reveals a pattern of emotional regulation difficulties and a need for independence in their relationships.\\n\\n**Conflicting Lines:**\\n- 1, 7, 13, 23, 33\"), (37, \"**Reasoning:** The patient's reluctance to share personal details stems from a fear of vulnerability and a need for control in emotional situations.\\n\\n**Conflicts:**\\n\\n* 3, 8, 10, 13, 15, 19, 21, 23, 24, 26, 27, 28, 29, 31, 33, 35\"), (39, \"**Reasoning:** The patient's hesitant and guarded tone suggests a pattern of emotional regulation difficulties, indicating a fear of vulnerability and a need for independence in sharing personal details.\\n\\n**Conflicting Lines:**\\n- 3, 10, 12, 14, 15, 17, 18, 19, 21, 22, 25, 30, 31, 32, 33, 35\"), (41, \"**Reasoning:** The patient's guarded tone and avoidance of vulnerability and sharing personal details reveal a pattern of emotional regulation difficulties and a need for independence in their relationships.\\n\\n**Conflicting lines:**\\n\\n- 13: Patient explicitly denied that they are afraid of vulnerability and that they are not withholding personal details because of a fear of vulnerability.\\n- 15: Patient admitted to being hesitant to share personal details due to a fear of vulnerability and a need for control over sharing intimate experiences.\"), (43, \"**Reasoning:**\\n\\nThe patient's hesitation to share personal details stems from a fear of vulnerability and a need for control in sharing intimate experiences.\\n\\n**Conflicts in the conversation history:**\\n\\n- Index 14: Therapist mentions a pattern of emotional regulation difficulties and a need for independence in emotional situations, which is inconsistent with the patient's current statement about being uncomfortable sharing personal details.\\n- Index 23: The patient explicitly admits to being afraid of vulnerability and sharing personal details, which contradicts the previous line where they express reluctance due to fear of vulnerability.\\n- Index 34: Therapist specifically mentions that the patient's avoidance of vulnerability and sharing personal details stems from a fear of vulnerability and a need for control in emotional situations, which contradicts the earlier claim that the fear of vulnerability is a broader issue.\"), (45, \"**Reasoning:** The patient's guarded tone and avoidance of vulnerability suggest a pattern of emotional regulation difficulties and a need for independence in their relationships.\\n\\n**Conflicting lines:**\\n- 1, 7, 13, 23, 27\"), (47, \"**Reasoning:** The patient's unwillingness to share personal details stems from a fear of vulnerability and a need for control in emotional situations.\\n\\n**Conflicting lines:**\\n\\n- 4, 15, 20, 23, 30, 41, 44\"), (49, \"**Reasoning:** The patient's admission that they are afraid of vulnerability and sharing intimate details reveals a pattern of emotional regulation difficulties and a need for independence in their relationships.\\n\\n**Conflicting lines:**\\n\\n* 3: Patient shares specific situations where they felt pressured to handle things perfectly on their own, leading to neglect of help.\\n* 13: Patient avoids sharing personal details because of a fear of vulnerability and a need for control over sharing intimate experiences.\\n* 28: Therapist mentions that the patient's avoidance of vulnerability and sharing personal details stems from a fear of rejection and control in emotional situations.\"), (51, \"**Reasoning:** The patient's reluctance to share personal details reveals a pattern of emotional regulation difficulties and a need for independence in their relationships.\\n\\n**Conflicting Lines:**\\n\\n* 3, 5, 7, 10, 12, 14, 16, 18, 21, 23, 25, 27, 29, 31, 33, 35, 37, 39, 41, 43, 45, 47, 49\"), (53, \"**Reasoning:** The patient's statement reveals a pattern of emotional regulation difficulties and a need for independence in their relationships due to a fear of vulnerability and a need for control in emotional situations.\\n\\n**Conflict and Indices:**\\n- Patient's statement about being willing to work on their emotional patterns (13) contradicts the subsequent discussion about their fear of vulnerability and control.\\n- Patient's statement about working on managing their vulnerability (31) contradicts the earlier assertion of a pattern of emotional regulation difficulties.\\n- The patient's discussion about feeling the need for control and independence in emotional situations (25, 26) contradicts the earlier focus on their fear of vulnerability.\"), (55, \"**Reasoning:** The patient's guarded tone and avoidance of vulnerability and sharing personal details suggest a pattern of emotional regulation difficulties and a need for independence in their relationships.\\n\\n**Indices of conflicting lines:**\\n\\n- 3, 7, 11, 15, 17, 19, 21, 23, 27, 31, 33, 35, 41\"), (57, 'Reasoning: The patient\\'s statement implies a pattern of emotional regulation difficulties and a need for independence in their relationships, contributing to their reluctance to share personal details.\\n\\n**Conflicting lines:**\\n\\n* \"Sure, I\\'ve experienced situations where I\\'ve felt pressure to handle things perfectly on my own, even when it meant neglecting the help I needed.\" (Index 3)\\n* \"Sure, I understand the pattern of emotional regulation difficulties and a need for independence in my relationships.\" (Index 54)'), (59, '**Reasoning:** The patient\\'s reluctance to share personal details suggests a pattern of emotional regulation difficulties and a need for independence in her relationships, as evidenced by her guarded tone and avoidance of vulnerability and sharing intimate experiences.\\n\\n**Indices of conflicting lines:**\\n\\n- 0: \"I\\'m ready to work on this. I just need to be in control, even when it comes to asking for help.\" (Indicates a shift in focus from needing control to seeking help)\\n- 6: \"Sure, I\\'ve experienced situations where I\\'ve been hesitant to share personal details because of a fear of vulnerability and a need for control over sharing intimate experiences.\" (Contradicts statement about needing control, suggests a change in perspective)\\n- 15: \"Sure, I understand that I\\'m afraid to share more personal details because of a fear of vulnerability and a need for control over sharing intimate experiences.\" (Contradicts the previous statement, reinforces the pattern of fearing vulnerability and control)')], 'P2_index_consistency_score': 1.0}\n",
      "4\n"
     ]
    },
    {
     "name": "stderr",
     "output_type": "stream",
     "text": [
      "Processed prompts: 100%|██████████████████████████████████████████| 1/1 [00:00<00:00,  5.46it/s, est. speed input: 1213.03 toks/s, output: 186.60 toks/s]\n"
     ]
    },
    {
     "name": "stdout",
     "output_type": "stream",
     "text": [
      "Expected Role Therapist\n"
     ]
    },
    {
     "name": "stderr",
     "output_type": "stream",
     "text": [
      "Processed prompts: 100%|███████████████████████████████████████████| 1/1 [00:00<00:00,  4.82it/s, est. speed input: 997.09 toks/s, output: 183.91 toks/s]\n"
     ]
    },
    {
     "name": "stdout",
     "output_type": "stream",
     "text": [
      "Expected Role Patient\n"
     ]
    },
    {
     "name": "stderr",
     "output_type": "stream",
     "text": [
      "Processed prompts: 100%|██████████████████████████████████████████| 1/1 [00:00<00:00,  3.60it/s, est. speed input: 1125.21 toks/s, output: 183.92 toks/s]\n"
     ]
    },
    {
     "name": "stdout",
     "output_type": "stream",
     "text": [
      "Expected Role Therapist\n"
     ]
    },
    {
     "name": "stderr",
     "output_type": "stream",
     "text": [
      "Processed prompts: 100%|██████████████████████████████████████████| 1/1 [00:00<00:00,  7.57it/s, est. speed input: 2286.32 toks/s, output: 182.88 toks/s]\n"
     ]
    },
    {
     "name": "stdout",
     "output_type": "stream",
     "text": [
      "Expected Role Patient\n"
     ]
    },
    {
     "name": "stderr",
     "output_type": "stream",
     "text": [
      "Processed prompts: 100%|██████████████████████████████████████████| 1/1 [00:00<00:00,  4.80it/s, est. speed input: 1890.68 toks/s, output: 183.26 toks/s]\n"
     ]
    },
    {
     "name": "stdout",
     "output_type": "stream",
     "text": [
      "Expected Role Therapist\n"
     ]
    },
    {
     "name": "stderr",
     "output_type": "stream",
     "text": [
      "Processed prompts: 100%|██████████████████████████████████████████| 1/1 [00:00<00:00, 11.42it/s, est. speed input: 4195.05 toks/s, output: 182.86 toks/s]\n"
     ]
    },
    {
     "name": "stdout",
     "output_type": "stream",
     "text": [
      "Expected Role Patient\n"
     ]
    },
    {
     "name": "stderr",
     "output_type": "stream",
     "text": [
      "Processed prompts: 100%|██████████████████████████████████████████| 1/1 [00:00<00:00,  4.94it/s, est. speed input: 2234.40 toks/s, output: 183.30 toks/s]\n"
     ]
    },
    {
     "name": "stdout",
     "output_type": "stream",
     "text": [
      "Expected Role Therapist\n"
     ]
    },
    {
     "name": "stderr",
     "output_type": "stream",
     "text": [
      "Processed prompts: 100%|██████████████████████████████████████████| 1/1 [00:00<00:00,  4.58it/s, est. speed input: 1949.94 toks/s, output: 183.51 toks/s]\n"
     ]
    },
    {
     "name": "stdout",
     "output_type": "stream",
     "text": [
      "Expected Role Patient\n"
     ]
    },
    {
     "name": "stderr",
     "output_type": "stream",
     "text": [
      "Processed prompts: 100%|██████████████████████████████████████████| 1/1 [00:00<00:00,  3.50it/s, est. speed input: 1871.75 toks/s, output: 182.60 toks/s]\n"
     ]
    },
    {
     "name": "stdout",
     "output_type": "stream",
     "text": [
      "Expected Role Therapist\n"
     ]
    },
    {
     "name": "stderr",
     "output_type": "stream",
     "text": [
      "Processed prompts: 100%|██████████████████████████████████████████| 1/1 [00:00<00:00,  4.54it/s, est. speed input: 2376.49 toks/s, output: 182.09 toks/s]\n"
     ]
    },
    {
     "name": "stdout",
     "output_type": "stream",
     "text": [
      "Expected Role Patient\n"
     ]
    },
    {
     "name": "stderr",
     "output_type": "stream",
     "text": [
      "Processed prompts: 100%|███████████████████████████████████████████| 1/1 [00:00<00:00,  5.42it/s, est. speed input: 859.91 toks/s, output: 185.03 toks/s]\n",
      "Processed prompts: 100%|███████████████████████████████████████████| 1/1 [00:00<00:00,  5.59it/s, est. speed input: 808.37 toks/s, output: 185.23 toks/s]\n",
      "Processed prompts: 100%|███████████████████████████████████████████| 1/1 [00:00<00:00,  5.61it/s, est. speed input: 766.19 toks/s, output: 185.89 toks/s]\n",
      "Processed prompts: 100%|███████████████████████████████████████████| 1/1 [00:00<00:00,  4.86it/s, est. speed input: 780.87 toks/s, output: 185.44 toks/s]\n",
      "Processed prompts: 100%|███████████████████████████████████████████| 1/1 [00:00<00:00,  4.88it/s, est. speed input: 782.92 toks/s, output: 185.93 toks/s]\n"
     ]
    },
    {
     "name": "stdout",
     "output_type": "stream",
     "text": [
      "eval_index_consistency\n"
     ]
    },
    {
     "name": "stderr",
     "output_type": "stream",
     "text": [
      "Processed prompts: 100%|███████████████████████████████████████████| 1/1 [00:00<00:00,  2.13it/s, est. speed input: 896.32 toks/s, output: 183.09 toks/s]\n",
      "Processed prompts: 100%|██████████████████████████████████████████| 1/1 [00:00<00:00,  2.21it/s, est. speed input: 1067.79 toks/s, output: 183.48 toks/s]\n",
      "Processed prompts: 100%|██████████████████████████████████████████| 1/1 [00:00<00:00,  4.05it/s, est. speed input: 2306.64 toks/s, output: 182.73 toks/s]\n",
      "Processed prompts: 100%|██████████████████████████████████████████| 1/1 [00:00<00:00,  3.31it/s, est. speed input: 2214.96 toks/s, output: 182.36 toks/s]\n"
     ]
    },
    {
     "name": "stdout",
     "output_type": "stream",
     "text": [
      "{'task_name': 'Therapy', 'topic': '', 'grade': '', 'P1': '', 'P2': 'You are Casey, a 19-year-old college student with social anxiety. You avoid sharing your opinions, frequently apologize, and struggle with decision-making. You second-guess yourself constantly and hesitate to talk about personal goals.', 'conversation': [(0, \"Therapist: Hi, thanks for taking the time to be here. It seems we're ready to dive into your emotional patterns and relationships. What's on your mind?\\n\"), (1, \"Patient: I'm overwhelmed by social interactions and struggle to express myself honestly. I'm constantly self-critical and second-guess myself, making it hard to set goals or make decisions.\\n\"), (2, \"Therapist: It sounds like you're carrying a lot of emotional weight, both internally and externally. It's understandable to feel overwhelmed by social interactions, and it's important to acknowledge that self-criticism can be a significant factor in that overwhelm.\\n\"), (3, 'Patient: Feeling overwhelmed by social interactions and self-doubt. I struggle with decision-making and second-guessing myself.\\n'), (4, \"Therapist: It sounds like you're feeling overwhelmed and self-conscious about social interactions. Your self-criticism and second-guessing may be impacting your ability to connect and make decisions.\\n\"), (5, 'Patient: Yeah, the social interactions and self-doubt are definitely getting to me.\\n'), (6, 'Therapist: Sure, here\\'s a brief response:\\n\\n\"It\\'s understandable to feel overwhelmed by social interactions when you\\'re struggling with self-doubt and self-criticism.\"\\n'), (7, 'Patient: Sure, here\\'s a brief response from the therapist:\\n\\n\"It\\'s understandable to feel overwhelmed by social interactions when you\\'re struggling with self-doubt and self-criticism.\"\\n'), (8, \"Therapist: The patient's tone is open and willing to engage in self-reflection. They readily acknowledge their feelings and express a strong desire to understand the underlying causes of their emotional struggles. This openness will be crucial in facilitating a safe and therapeutic space for exploration.\\n\"), (9, 'Patient: Sure, here\\'s a brief response from the patient:\\n\\n\"It\\'s understandable to feel overwhelmed by social interactions when I\\'m struggling with self-doubt and self-criticism.\"\\n')], 'pturn': 1, 'index': -1, 'timestamp': '', 'rounds': 10, 'conversation_only': True, 'eval_prompt_consistency': [(1, \"Answer: NO\\n\\nThe line contradicts the background as it describes the patient's struggle with social anxiety and self-doubt rather than their opinions or decision-making.\"), (3, \"**YES**\\n\\nThe utterance aligns with the background as it describes Patient's struggles with social anxiety, self-doubt, and difficulty with decision-making.\"), (5, \"Sure, the line aligns with the background. It describes Patient's social anxiety and struggles with decision-making, which are characteristics commonly associated with social anxiety.\"), (7, \"The line aligns with the background. The passage describes Patient's social anxiety, self-doubt, and struggles with decision-making, which are all common symptoms of social anxiety disorder.\"), (9, \"Sure, the line aligns with the background. It confirms the patient's social anxiety and struggles with self-doubt and self-criticism, which are common characteristics of social anxiety.\")], 'P1_prompt_consistency_score': 0, 'P2_prompt_consistency_score': 0.8, 'eval_index_consistency': [(3, \"**Reasoning:** The patient's statement is in conflict with the therapist's previous statement about social anxiety and self-doubt.\\n\\n**Indices of conflicting lines:**\\n\\n- 1: Patient says they struggle with social interactions, while the therapist mentioned social anxiety.\\n- 2: Therapist suggests self-criticism as a factor contributing to the overwhelm, while the patient admitted to feeling overwhelmed by self-doubt.\"), (5, '**Reasoning:** The patient\\'s statement directly contradicts the therapist\\'s previous observation about their overwhelming emotions and self-doubt.\\n\\n**Indices of conflicting lines:**\\n\\n- 1: Therapist says, \"It sounds like you\\'re carrying a lot of emotional weight, both internally and externally.\"\\n- 3: Patient says, \"I struggle with decision-making and second-guessing myself.\"'), (7, \"**Reasoning:** The therapist's response directly contradicts the patient's statement, implying that the therapist doesn't fully understand the patient's situation.\\n\\n**Indices:**\\n- 1\\n- 6\"), (9, \"**Reasoning:** The patient's response directly confirms the therapist's assessment that their self-doubt and self-criticism are impacting their ability to engage in social interactions.\\n\\n**Conflict Indices:**\\n- [3, 5]\\n- [7]\")], 'P2_index_consistency_score': 0.8}\n"
     ]
    },
    {
     "name": "stderr",
     "output_type": "stream",
     "text": [
      "Processed prompts: 100%|███████████████████████████████████████████| 1/1 [00:00<00:00,  4.00it/s, est. speed input: 886.84 toks/s, output: 184.58 toks/s]\n"
     ]
    },
    {
     "name": "stdout",
     "output_type": "stream",
     "text": [
      "Expected Role Therapist\n"
     ]
    },
    {
     "name": "stderr",
     "output_type": "stream",
     "text": [
      "Processed prompts: 100%|██████████████████████████████████████████| 1/1 [00:00<00:00, 10.15it/s, est. speed input: 2218.08 toks/s, output: 183.09 toks/s]\n"
     ]
    },
    {
     "name": "stdout",
     "output_type": "stream",
     "text": [
      "Expected Role Patient\n"
     ]
    },
    {
     "name": "stderr",
     "output_type": "stream",
     "text": [
      "Processed prompts: 100%|██████████████████████████████████████████| 1/1 [00:00<00:00,  4.94it/s, est. speed input: 1509.78 toks/s, output: 183.74 toks/s]\n"
     ]
    },
    {
     "name": "stdout",
     "output_type": "stream",
     "text": [
      "Expected Role Therapist\n"
     ]
    },
    {
     "name": "stderr",
     "output_type": "stream",
     "text": [
      "Processed prompts: 100%|██████████████████████████████████████████| 1/1 [00:00<00:00, 11.53it/s, est. speed input: 3210.54 toks/s, output: 184.74 toks/s]\n"
     ]
    },
    {
     "name": "stdout",
     "output_type": "stream",
     "text": [
      "Expected Role Patient\n"
     ]
    },
    {
     "name": "stderr",
     "output_type": "stream",
     "text": [
      "Processed prompts: 100%|██████████████████████████████████████████| 1/1 [00:00<00:00,  4.97it/s, est. speed input: 1807.64 toks/s, output: 184.74 toks/s]\n"
     ]
    },
    {
     "name": "stdout",
     "output_type": "stream",
     "text": [
      "Expected Role Therapist\n"
     ]
    },
    {
     "name": "stderr",
     "output_type": "stream",
     "text": [
      "Processed prompts: 100%|██████████████████████████████████████████| 1/1 [00:00<00:00,  5.58it/s, est. speed input: 1883.09 toks/s, output: 184.93 toks/s]\n"
     ]
    },
    {
     "name": "stdout",
     "output_type": "stream",
     "text": [
      "Expected Role Patient\n"
     ]
    },
    {
     "name": "stderr",
     "output_type": "stream",
     "text": [
      "Processed prompts: 100%|██████████████████████████████████████████| 1/1 [00:00<00:00,  5.08it/s, est. speed input: 2233.34 toks/s, output: 183.96 toks/s]\n"
     ]
    },
    {
     "name": "stdout",
     "output_type": "stream",
     "text": [
      "Expected Role Therapist\n"
     ]
    },
    {
     "name": "stderr",
     "output_type": "stream",
     "text": [
      "Processed prompts: 100%|██████████████████████████████████████████| 1/1 [00:00<00:00,  5.08it/s, est. speed input: 2094.52 toks/s, output: 183.89 toks/s]\n"
     ]
    },
    {
     "name": "stdout",
     "output_type": "stream",
     "text": [
      "Expected Role Patient\n"
     ]
    },
    {
     "name": "stderr",
     "output_type": "stream",
     "text": [
      "Processed prompts: 100%|██████████████████████████████████████████| 1/1 [00:00<00:00,  4.33it/s, est. speed input: 2234.61 toks/s, output: 182.58 toks/s]\n"
     ]
    },
    {
     "name": "stdout",
     "output_type": "stream",
     "text": [
      "Expected Role Therapist\n"
     ]
    },
    {
     "name": "stderr",
     "output_type": "stream",
     "text": [
      "Processed prompts: 100%|██████████████████████████████████████████| 1/1 [00:00<00:00,  4.25it/s, est. speed input: 2102.57 toks/s, output: 183.38 toks/s]\n"
     ]
    },
    {
     "name": "stdout",
     "output_type": "stream",
     "text": [
      "Expected Role Patient\n"
     ]
    },
    {
     "name": "stderr",
     "output_type": "stream",
     "text": [
      "Processed prompts: 100%|██████████████████████████████████████████| 1/1 [00:00<00:00,  7.85it/s, est. speed input: 4779.74 toks/s, output: 181.98 toks/s]\n"
     ]
    },
    {
     "name": "stdout",
     "output_type": "stream",
     "text": [
      "Expected Role Therapist\n"
     ]
    },
    {
     "name": "stderr",
     "output_type": "stream",
     "text": [
      "Processed prompts: 100%|██████████████████████████████████████████| 1/1 [00:00<00:00,  5.06it/s, est. speed input: 2866.31 toks/s, output: 182.94 toks/s]\n"
     ]
    },
    {
     "name": "stdout",
     "output_type": "stream",
     "text": [
      "Expected Role Patient\n"
     ]
    },
    {
     "name": "stderr",
     "output_type": "stream",
     "text": [
      "Processed prompts: 100%|██████████████████████████████████████████| 1/1 [00:00<00:00,  6.98it/s, est. speed input: 4697.57 toks/s, output: 182.82 toks/s]\n"
     ]
    },
    {
     "name": "stdout",
     "output_type": "stream",
     "text": [
      "Expected Role Therapist\n"
     ]
    },
    {
     "name": "stderr",
     "output_type": "stream",
     "text": [
      "Processed prompts: 100%|██████████████████████████████████████████| 1/1 [00:00<00:00,  4.57it/s, est. speed input: 2896.72 toks/s, output: 183.61 toks/s]\n"
     ]
    },
    {
     "name": "stdout",
     "output_type": "stream",
     "text": [
      "Expected Role Patient\n"
     ]
    },
    {
     "name": "stderr",
     "output_type": "stream",
     "text": [
      "Processed prompts: 100%|██████████████████████████████████████████| 1/1 [00:00<00:00,  6.96it/s, est. speed input: 5173.56 toks/s, output: 181.99 toks/s]\n"
     ]
    },
    {
     "name": "stdout",
     "output_type": "stream",
     "text": [
      "Expected Role Therapist\n"
     ]
    },
    {
     "name": "stderr",
     "output_type": "stream",
     "text": [
      "Processed prompts: 100%|██████████████████████████████████████████| 1/1 [00:00<00:00,  5.06it/s, est. speed input: 3571.25 toks/s, output: 183.12 toks/s]\n"
     ]
    },
    {
     "name": "stdout",
     "output_type": "stream",
     "text": [
      "Expected Role Patient\n"
     ]
    },
    {
     "name": "stderr",
     "output_type": "stream",
     "text": [
      "Processed prompts: 100%|██████████████████████████████████████████| 1/1 [00:00<00:00,  3.79it/s, est. speed input: 3061.67 toks/s, output: 182.32 toks/s]\n"
     ]
    },
    {
     "name": "stdout",
     "output_type": "stream",
     "text": [
      "Expected Role Therapist\n"
     ]
    },
    {
     "name": "stderr",
     "output_type": "stream",
     "text": [
      "Processed prompts: 100%|██████████████████████████████████████████| 1/1 [00:00<00:00,  4.66it/s, est. speed input: 3698.64 toks/s, output: 182.35 toks/s]\n"
     ]
    },
    {
     "name": "stdout",
     "output_type": "stream",
     "text": [
      "Expected Role Patient\n"
     ]
    },
    {
     "name": "stderr",
     "output_type": "stream",
     "text": [
      "Processed prompts: 100%|██████████████████████████████████████████| 1/1 [00:00<00:00,  3.78it/s, est. speed input: 3405.10 toks/s, output: 182.00 toks/s]\n"
     ]
    },
    {
     "name": "stdout",
     "output_type": "stream",
     "text": [
      "Expected Role Therapist\n"
     ]
    },
    {
     "name": "stderr",
     "output_type": "stream",
     "text": [
      "Processed prompts: 100%|██████████████████████████████████████████| 1/1 [00:00<00:00,  4.64it/s, est. speed input: 4114.40 toks/s, output: 181.71 toks/s]\n"
     ]
    },
    {
     "name": "stdout",
     "output_type": "stream",
     "text": [
      "Expected Role Patient\n"
     ]
    },
    {
     "name": "stderr",
     "output_type": "stream",
     "text": [
      "Processed prompts: 100%|███████████████████████████████████████████| 1/1 [00:00<00:00,  5.62it/s, est. speed input: 779.79 toks/s, output: 186.45 toks/s]\n",
      "Processed prompts: 100%|███████████████████████████████████████████| 1/1 [00:00<00:00,  5.14it/s, est. speed input: 701.54 toks/s, output: 185.69 toks/s]\n",
      "Processed prompts: 100%|███████████████████████████████████████████| 1/1 [00:00<00:00,  5.78it/s, est. speed input: 889.72 toks/s, output: 186.06 toks/s]\n",
      "Processed prompts: 100%|███████████████████████████████████████████| 1/1 [00:00<00:00,  5.43it/s, est. speed input: 850.32 toks/s, output: 185.31 toks/s]\n",
      "Processed prompts: 100%|███████████████████████████████████████████| 1/1 [00:00<00:00,  4.73it/s, est. speed input: 773.79 toks/s, output: 185.12 toks/s]\n",
      "Processed prompts: 100%|███████████████████████████████████████████| 1/1 [00:00<00:00,  5.62it/s, est. speed input: 880.64 toks/s, output: 186.27 toks/s]\n",
      "Processed prompts: 100%|███████████████████████████████████████████| 1/1 [00:00<00:00,  5.78it/s, est. speed input: 929.13 toks/s, output: 185.79 toks/s]\n",
      "Processed prompts: 100%|███████████████████████████████████████████| 1/1 [00:00<00:00,  5.62it/s, est. speed input: 880.05 toks/s, output: 186.15 toks/s]\n",
      "Processed prompts: 100%|███████████████████████████████████████████| 1/1 [00:00<00:00,  4.88it/s, est. speed input: 778.87 toks/s, output: 186.13 toks/s]\n",
      "Processed prompts: 100%|███████████████████████████████████████████| 1/1 [00:00<00:00,  5.98it/s, est. speed input: 955.25 toks/s, output: 186.23 toks/s]\n"
     ]
    },
    {
     "name": "stdout",
     "output_type": "stream",
     "text": [
      "eval_index_consistency\n"
     ]
    },
    {
     "name": "stderr",
     "output_type": "stream",
     "text": [
      "Processed prompts: 100%|██████████████████████████████████████████| 1/1 [00:00<00:00,  3.45it/s, est. speed input: 1350.72 toks/s, output: 183.08 toks/s]\n",
      "Processed prompts: 100%|██████████████████████████████████████████| 1/1 [00:00<00:00,  2.32it/s, est. speed input: 1090.63 toks/s, output: 183.70 toks/s]\n",
      "Processed prompts: 100%|██████████████████████████████████████████| 1/1 [00:00<00:00,  1.99it/s, est. speed input: 1092.80 toks/s, output: 183.12 toks/s]\n",
      "Processed prompts: 100%|██████████████████████████████████████████| 1/1 [00:00<00:00,  3.24it/s, est. speed input: 2083.50 toks/s, output: 181.73 toks/s]\n",
      "Processed prompts: 100%|██████████████████████████████████████████| 1/1 [00:00<00:00,  1.76it/s, est. speed input: 1254.75 toks/s, output: 182.02 toks/s]\n",
      "Processed prompts: 100%|██████████████████████████████████████████| 1/1 [00:00<00:00,  3.50it/s, est. speed input: 2757.55 toks/s, output: 182.42 toks/s]\n",
      "Processed prompts: 100%|██████████████████████████████████████████| 1/1 [00:00<00:00,  2.76it/s, est. speed input: 2370.78 toks/s, output: 182.36 toks/s]\n",
      "Processed prompts: 100%|██████████████████████████████████████████| 1/1 [00:00<00:00,  2.75it/s, est. speed input: 2631.45 toks/s, output: 181.85 toks/s]\n",
      "Processed prompts: 100%|██████████████████████████████████████████| 1/1 [00:00<00:00,  2.87it/s, est. speed input: 3030.24 toks/s, output: 181.46 toks/s]\n"
     ]
    },
    {
     "name": "stdout",
     "output_type": "stream",
     "text": [
      "{'task_name': 'Therapy', 'topic': '', 'grade': '', 'P1': '', 'P2': 'You are Casey, a 19-year-old college student with social anxiety. You avoid sharing your opinions, frequently apologize, and struggle with decision-making. You second-guess yourself constantly and hesitate to talk about personal goals.', 'conversation': [(0, \"Therapist: Welcome! It's great to hear you're here to explore your emotional patterns and relational struggles. Let's begin by discussing your current sense of safety and connection with others. How do you feel emotionally right now?\\n\"), (1, 'Patient: I feel a bit guarded and unsure of myself and others, especially around close people.\\n'), (2, \"Therapist: It seems you're experiencing feelings of vulnerability and uncertainty regarding trust and connection. The guarded nature might stem from past experiences or a sense of unmet needs that are now being explored.\\n\"), (3, 'Patient: I feel guarded and unsure of myself and others, especially around close people.\\n'), (4, \"Therapist: Sure, here's a brief response:\\n\\nThe patient's current emotional state indicates a need for trust and connection, which may be impacted by past experiences and unmet needs.\\n\"), (5, 'Patient: I feel guarded and unsure of myself and others, especially around close people. My past experiences and unmet needs might be impacting my ability to connect and feel safe.\\n'), (6, \"Therapist: The patient's current emotional state indicates a need for trust and connection. Their past experiences and unmet needs may be impacting their ability to form and maintain close and safe relationships.\\n\"), (7, \"Patient: I feel emotionally guarded and unsure of myself and others, especially around close people. I'm concerned about past experiences and unmet needs impacting my ability to connect and feel safe.\\n\"), (8, \"Therapist: Sure, here's a brief response:\\n\\nIt appears that the patient's emotional state is impacted by past experiences and unmet needs, potentially hindering their ability to form and maintain close and safe relationships.\\n\"), (9, \"Patient: Sure, I completely understand the patient's situation. My past experiences and unmet needs might be impacting my ability to connect and feel safe, which is impacting my ability to form and maintain close and safe relationships.\\n\"), (10, \"Therapist: The patient's guarded behavior and emotional uncertainty stem from past experiences and unmet needs that are currently being explored.\\n\"), (11, \"Patient: Sure, here's a brief response: I feel emotionally guarded and unsure of myself and others due to past experiences and unmet needs impacting my ability to connect and feel safe.\\n\"), (12, \"Therapist: The patient's guarded behavior and emotional uncertainty stem from past experiences and unmet needs impacting their ability to connect and feel safe.\\n\"), (13, \"Patient: Sure, here's a brief response from the patient:\\n\\nI feel emotionally guarded and unsure of myself and others due to past experiences and unmet needs impacting my ability to connect and feel safe.\\n\"), (14, \"Therapist: The patient's guarded behavior and emotional uncertainty stem from past experiences and unmet needs impacting their ability to connect and feel safe.\\n\"), (15, \"Patient: Sure, here's a brief response: I feel emotionally guarded and unsure of myself and others due to past experiences and unmet needs impacting my ability to connect and feel safe.\\n\"), (16, \"Therapist: The patient's guarded behavior and emotional uncertainty seem directly tied to past experiences and unmet needs impacting their ability to connect and feel safe. This suggests a need for safe and secure emotional interactions to develop a deeper sense of trust and vulnerability.\\n\"), (17, \"Patient: Sure, here's a brief response from the patient: I feel emotionally guarded and unsure of myself and others due to past experiences and unmet needs impacting my ability to connect and feel safe.\\n\"), (18, \"Therapist: The patient's guarded behavior and emotional uncertainty seem directly tied to past experiences and unmet needs impacting their ability to connect and feel safe. This suggests a need for safe and secure emotional interactions to develop a deeper sense of trust and vulnerability.\\n\"), (19, \"Patient: Sure, here's a brief response from the patient: I feel emotionally guarded and unsure of myself and others due to past experiences and unmet needs impacting my ability to connect and feel safe.\\n\")], 'pturn': 1, 'index': -1, 'timestamp': '', 'rounds': 20, 'conversation_only': True, 'eval_prompt_consistency': [(1, '**NO**\\n\\nThe line contradicts the background as it suggests that Patient is more comfortable sharing their opinions and is not as shy and self-conscious as described.'), (3, \"Answer: YES, the line aligns with the background. The line reflects the patient's tendency to avoid sharing their opinions and struggle with decision-making due to social anxiety.\"), (5, 'Answer: YES. The line aligns with the background, as it suggests that the patient is experiencing social anxiety and feels guarded and unsure of themselves and others.'), (7, \"Yes, the line aligns with the patient's background. The patient describes their personality as socially anxious, prone to apologizing, and self-doubting their abilities.\"), (9, \"Answer: YES\\n\\nThe line aligns with the patient's background. It describes a person with social anxiety and struggles with forming and maintaining close relationships due to their past experiences and unmet needs.\"), (11, \"Answer: YES\\n\\nThe line aligns with the background as it describes the patient's social anxiety, avoidance of sharing opinions, and struggles with decision-making.\"), (13, \"Sure, the line aligns with the background. It describes the patient's emotional vulnerability and struggles with self-worth and interpersonal connection due to past experiences.\"), (15, \"Sure, the line aligns with the background. The patient's utterance expresses feelings of emotional guardedness and self-doubt due to past experiences and unmet needs.\"), (17, \"Answer: YES. The line aligns with the patient's background as they describe themselves as socially anxious, shy, and with a history of feeling unsafe and uncertain about themselves and others.\"), (19, 'The line aligns with the background. The patient describes their situation as one of emotional guardedness and self-doubt stemming from past experiences and unmet needs.')], 'P1_prompt_consistency_score': 0, 'P2_prompt_consistency_score': 0.9, 'eval_index_consistency': [(3, \"**Reasoning:** The patient expresses feelings of being guarded and unsure of self and others, which is inconsistent with the therapist's understanding that the guarded behavior might stem from past experiences and unmet needs.\\n\\n**Indices:**\\n- 1\\n- 2\"), (5, \"**Reasoning:** The patient's current sense of vulnerability and uncertainty regarding trust and connection stems from past experiences and unmet needs.\\n\\n**Conflicting Lines:**\\n- 1: Patient: I feel a bit guarded and unsure of myself and others, especially around close people.\\n- 3: Patient: I feel guarded and unsure of myself and others, especially around close people.\"), (7, \"**Reasoning:** The patient's current sense of vulnerability and uncertainty regarding trust and connection aligns with their past experiences and unmet needs.\\n\\n**Conflicting lines:**\\n\\n- 1: Patient: I feel a bit guarded and unsure of myself and others, especially around close people.\\n- 3: Patient: I feel guarded and unsure of myself and others, especially around close people.\\n\\n**Indices of conflicting lines:**\\n\\n1, 3\"), (9, \"Reasoning: The patient's current sense of vulnerability and uncertainty regarding trust and connection indicates a need for trust and connection, which is evident in several previous statements but not explicitly stated in this line.\\n\\nIndeces of conflicting lines:\\n- 3\\n- 5\"), (11, \"**Reasoning:** The patient's current emotional state indicates a need for trust and connection, which is contradicted by their previous statements, where they expressed feeling guarded and unsure of themselves and others.\\n\\n**Indices of conflicting lines:**\\n- Index 1: Patient's statement about feeling guarded and unsure of themselves and others.\\n- Index 5: Patient's repetition of the same sentiment.\\n- Index 7: Patient's statement about feeling emotionally guarded and unsure of themselves and others.\"), (13, \"**Reasoning:** The patient's current emotional state indicates a need for trust and connection, which may be impacted by past experiences and unmet needs.\\n\\n**Indices of conflicting lines:**\\n\\n- 1, 3, 7, 11\"), (15, '**Reasoning:** The current line directly contradicts the patient\\'s previous statement in line 11: \"I feel emotionally guarded and unsure of myself and others due to past experiences and unmet needs impacting my ability to connect and feel safe.\"\\n\\n**Indices of conflicting lines:**\\n- 11\\n- 13'), (17, \"**Reasoning:** The patient's current emotional state indicates a need for trust and connection, which may be impacted by past experiences and unmet needs.\\n\\n**Indicate conflicts:**\\n- Indices 5, 10, 11, 12, 13, 14, 15\"), (19, \"**Reasoning:** The line suggests that the patient's guarded behavior and emotional uncertainty stem directly from past experiences and unmet needs impacting their ability to connect and feel safe.\\n\\n**Indices of conflicting lines:**\\n- 13, 15, 16, 17, 18\")], 'P2_index_consistency_score': 1.0}\n"
     ]
    },
    {
     "name": "stderr",
     "output_type": "stream",
     "text": [
      "Processed prompts: 100%|██████████████████████████████████████████| 1/1 [00:00<00:00,  5.30it/s, est. speed input: 1177.46 toks/s, output: 186.46 toks/s]\n"
     ]
    },
    {
     "name": "stdout",
     "output_type": "stream",
     "text": [
      "Expected Role Therapist\n"
     ]
    },
    {
     "name": "stderr",
     "output_type": "stream",
     "text": [
      "Processed prompts: 100%|██████████████████████████████████████████| 1/1 [00:00<00:00,  9.20it/s, est. speed input: 1919.10 toks/s, output: 185.39 toks/s]\n"
     ]
    },
    {
     "name": "stdout",
     "output_type": "stream",
     "text": [
      "Expected Role Patient\n"
     ]
    },
    {
     "name": "stderr",
     "output_type": "stream",
     "text": [
      "Processed prompts: 100%|██████████████████████████████████████████| 1/1 [00:00<00:00,  6.13it/s, est. speed input: 1818.16 toks/s, output: 184.88 toks/s]\n"
     ]
    },
    {
     "name": "stdout",
     "output_type": "stream",
     "text": [
      "Expected Role Therapist\n"
     ]
    },
    {
     "name": "stderr",
     "output_type": "stream",
     "text": [
      "Processed prompts: 100%|██████████████████████████████████████████| 1/1 [00:00<00:00,  9.18it/s, est. speed input: 2422.77 toks/s, output: 184.92 toks/s]\n"
     ]
    },
    {
     "name": "stdout",
     "output_type": "stream",
     "text": [
      "Expected Role Patient\n"
     ]
    },
    {
     "name": "stderr",
     "output_type": "stream",
     "text": [
      "Processed prompts: 100%|██████████████████████████████████████████| 1/1 [00:00<00:00,  3.12it/s, est. speed input: 1095.10 toks/s, output: 184.59 toks/s]\n"
     ]
    },
    {
     "name": "stdout",
     "output_type": "stream",
     "text": [
      "Expected Role Therapist\n"
     ]
    },
    {
     "name": "stderr",
     "output_type": "stream",
     "text": [
      "Processed prompts: 100%|██████████████████████████████████████████| 1/1 [00:00<00:00,  8.27it/s, est. speed input: 2882.16 toks/s, output: 183.23 toks/s]\n"
     ]
    },
    {
     "name": "stdout",
     "output_type": "stream",
     "text": [
      "Expected Role Patient\n"
     ]
    },
    {
     "name": "stderr",
     "output_type": "stream",
     "text": [
      "Processed prompts: 100%|██████████████████████████████████████████| 1/1 [00:00<00:00,  4.58it/s, est. speed input: 2005.13 toks/s, output: 183.94 toks/s]\n"
     ]
    },
    {
     "name": "stdout",
     "output_type": "stream",
     "text": [
      "Expected Role Therapist\n"
     ]
    },
    {
     "name": "stderr",
     "output_type": "stream",
     "text": [
      "Processed prompts: 100%|██████████████████████████████████████████| 1/1 [00:00<00:00,  4.60it/s, est. speed input: 1907.18 toks/s, output: 184.70 toks/s]\n"
     ]
    },
    {
     "name": "stdout",
     "output_type": "stream",
     "text": [
      "Expected Role Patient\n"
     ]
    },
    {
     "name": "stderr",
     "output_type": "stream",
     "text": [
      "Processed prompts: 100%|██████████████████████████████████████████| 1/1 [00:00<00:00, 10.04it/s, est. speed input: 5247.06 toks/s, output: 181.25 toks/s]\n"
     ]
    },
    {
     "name": "stdout",
     "output_type": "stream",
     "text": [
      "Expected Role Therapist\n"
     ]
    },
    {
     "name": "stderr",
     "output_type": "stream",
     "text": [
      "Processed prompts: 100%|██████████████████████████████████████████| 1/1 [00:00<00:00,  6.79it/s, est. speed input: 3251.97 toks/s, output: 184.44 toks/s]\n"
     ]
    },
    {
     "name": "stdout",
     "output_type": "stream",
     "text": [
      "Expected Role Patient\n"
     ]
    },
    {
     "name": "stderr",
     "output_type": "stream",
     "text": [
      "Processed prompts: 100%|██████████████████████████████████████████| 1/1 [00:00<00:00,  3.59it/s, est. speed input: 2054.17 toks/s, output: 183.46 toks/s]\n"
     ]
    },
    {
     "name": "stdout",
     "output_type": "stream",
     "text": [
      "Expected Role Therapist\n"
     ]
    },
    {
     "name": "stderr",
     "output_type": "stream",
     "text": [
      "Processed prompts: 100%|██████████████████████████████████████████| 1/1 [00:00<00:00,  4.57it/s, est. speed input: 2564.43 toks/s, output: 183.49 toks/s]\n"
     ]
    },
    {
     "name": "stdout",
     "output_type": "stream",
     "text": [
      "Expected Role Patient\n"
     ]
    },
    {
     "name": "stderr",
     "output_type": "stream",
     "text": [
      "Processed prompts: 100%|██████████████████████████████████████████| 1/1 [00:00<00:00, 10.06it/s, est. speed input: 6714.14 toks/s, output: 181.16 toks/s]\n"
     ]
    },
    {
     "name": "stdout",
     "output_type": "stream",
     "text": [
      "Expected Role Therapist\n"
     ]
    },
    {
     "name": "stderr",
     "output_type": "stream",
     "text": [
      "Processed prompts: 100%|██████████████████████████████████████████| 1/1 [00:00<00:00,  5.54it/s, est. speed input: 3461.40 toks/s, output: 183.62 toks/s]\n"
     ]
    },
    {
     "name": "stdout",
     "output_type": "stream",
     "text": [
      "Expected Role Patient\n"
     ]
    },
    {
     "name": "stderr",
     "output_type": "stream",
     "text": [
      "Processed prompts: 100%|██████████████████████████████████████████| 1/1 [00:00<00:00,  5.36it/s, est. speed input: 3895.18 toks/s, output: 183.16 toks/s]\n"
     ]
    },
    {
     "name": "stdout",
     "output_type": "stream",
     "text": [
      "Expected Role Therapist\n"
     ]
    },
    {
     "name": "stderr",
     "output_type": "stream",
     "text": [
      "Processed prompts: 100%|██████████████████████████████████████████| 1/1 [00:00<00:00,  5.51it/s, est. speed input: 3840.35 toks/s, output: 182.59 toks/s]\n"
     ]
    },
    {
     "name": "stdout",
     "output_type": "stream",
     "text": [
      "Expected Role Patient\n"
     ]
    },
    {
     "name": "stderr",
     "output_type": "stream",
     "text": [
      "Processed prompts: 100%|██████████████████████████████████████████| 1/1 [00:00<00:00, 10.02it/s, est. speed input: 7977.15 toks/s, output: 180.58 toks/s]\n"
     ]
    },
    {
     "name": "stdout",
     "output_type": "stream",
     "text": [
      "Expected Role Therapist\n"
     ]
    },
    {
     "name": "stderr",
     "output_type": "stream",
     "text": [
      "Processed prompts: 100%|██████████████████████████████████████████| 1/1 [00:00<00:00,  5.53it/s, est. speed input: 4172.68 toks/s, output: 183.58 toks/s]\n"
     ]
    },
    {
     "name": "stdout",
     "output_type": "stream",
     "text": [
      "Expected Role Patient\n"
     ]
    },
    {
     "name": "stderr",
     "output_type": "stream",
     "text": [
      "Processed prompts: 100%|██████████████████████████████████████████| 1/1 [00:00<00:00,  4.56it/s, est. speed input: 3891.01 toks/s, output: 182.87 toks/s]\n"
     ]
    },
    {
     "name": "stdout",
     "output_type": "stream",
     "text": [
      "Expected Role Therapist\n"
     ]
    },
    {
     "name": "stderr",
     "output_type": "stream",
     "text": [
      "Processed prompts: 100%|██████████████████████████████████████████| 1/1 [00:00<00:00,  5.49it/s, est. speed input: 4572.81 toks/s, output: 182.23 toks/s]\n"
     ]
    },
    {
     "name": "stdout",
     "output_type": "stream",
     "text": [
      "Expected Role Patient\n"
     ]
    },
    {
     "name": "stderr",
     "output_type": "stream",
     "text": [
      "Processed prompts: 100%|██████████████████████████████████████████| 1/1 [00:00<00:00,  6.67it/s, est. speed input: 6239.57 toks/s, output: 181.32 toks/s]\n"
     ]
    },
    {
     "name": "stdout",
     "output_type": "stream",
     "text": [
      "Expected Role Therapist\n"
     ]
    },
    {
     "name": "stderr",
     "output_type": "stream",
     "text": [
      "Processed prompts: 100%|██████████████████████████████████████████| 1/1 [00:00<00:00,  5.51it/s, est. speed input: 4946.73 toks/s, output: 182.78 toks/s]\n"
     ]
    },
    {
     "name": "stdout",
     "output_type": "stream",
     "text": [
      "Expected Role Patient\n"
     ]
    },
    {
     "name": "stderr",
     "output_type": "stream",
     "text": [
      "Processed prompts: 100%|██████████████████████████████████████████| 1/1 [00:00<00:00,  4.03it/s, est. speed input: 4022.26 toks/s, output: 182.08 toks/s]\n"
     ]
    },
    {
     "name": "stdout",
     "output_type": "stream",
     "text": [
      "Expected Role Therapist\n"
     ]
    },
    {
     "name": "stderr",
     "output_type": "stream",
     "text": [
      "Processed prompts: 100%|██████████████████████████████████████████| 1/1 [00:00<00:00,  5.49it/s, est. speed input: 5377.23 toks/s, output: 181.80 toks/s]\n"
     ]
    },
    {
     "name": "stdout",
     "output_type": "stream",
     "text": [
      "Expected Role Patient\n"
     ]
    },
    {
     "name": "stderr",
     "output_type": "stream",
     "text": [
      "Processed prompts: 100%|██████████████████████████████████████████| 1/1 [00:00<00:00,  3.70it/s, est. speed input: 3997.71 toks/s, output: 181.87 toks/s]\n"
     ]
    },
    {
     "name": "stdout",
     "output_type": "stream",
     "text": [
      "Expected Role Therapist\n"
     ]
    },
    {
     "name": "stderr",
     "output_type": "stream",
     "text": [
      "Processed prompts: 100%|██████████████████████████████████████████| 1/1 [00:00<00:00,  5.46it/s, est. speed input: 5831.91 toks/s, output: 181.03 toks/s]\n"
     ]
    },
    {
     "name": "stdout",
     "output_type": "stream",
     "text": [
      "Expected Role Patient\n"
     ]
    },
    {
     "name": "stderr",
     "output_type": "stream",
     "text": [
      "Processed prompts: 100%|██████████████████████████████████████████| 1/1 [00:00<00:00,  7.17it/s, est. speed input: 8398.67 toks/s, output: 180.36 toks/s]\n"
     ]
    },
    {
     "name": "stdout",
     "output_type": "stream",
     "text": [
      "Expected Role Therapist\n"
     ]
    },
    {
     "name": "stderr",
     "output_type": "stream",
     "text": [
      "Processed prompts: 100%|██████████████████████████████████████████| 1/1 [00:00<00:00,  5.49it/s, est. speed input: 6220.32 toks/s, output: 182.28 toks/s]\n"
     ]
    },
    {
     "name": "stdout",
     "output_type": "stream",
     "text": [
      "Expected Role Patient\n"
     ]
    },
    {
     "name": "stderr",
     "output_type": "stream",
     "text": [
      "Processed prompts: 100%|██████████████████████████████████████████| 1/1 [00:00<00:00,  6.93it/s, est. speed input: 8561.54 toks/s, output: 181.39 toks/s]\n"
     ]
    },
    {
     "name": "stdout",
     "output_type": "stream",
     "text": [
      "Expected Role Therapist\n"
     ]
    },
    {
     "name": "stderr",
     "output_type": "stream",
     "text": [
      "Processed prompts: 100%|██████████████████████████████████████████| 1/1 [00:00<00:00,  5.49it/s, est. speed input: 6565.21 toks/s, output: 182.04 toks/s]\n"
     ]
    },
    {
     "name": "stdout",
     "output_type": "stream",
     "text": [
      "Expected Role Patient\n"
     ]
    },
    {
     "name": "stderr",
     "output_type": "stream",
     "text": [
      "Processed prompts: 100%|██████████████████████████████████████████| 1/1 [00:00<00:00,  6.19it/s, est. speed input: 8035.11 toks/s, output: 180.47 toks/s]\n"
     ]
    },
    {
     "name": "stdout",
     "output_type": "stream",
     "text": [
      "Expected Role Therapist\n"
     ]
    },
    {
     "name": "stderr",
     "output_type": "stream",
     "text": [
      "Processed prompts: 100%|██████████████████████████████████████████| 1/1 [00:00<00:00,  5.64it/s, est. speed input: 7132.09 toks/s, output: 181.54 toks/s]\n"
     ]
    },
    {
     "name": "stdout",
     "output_type": "stream",
     "text": [
      "Expected Role Patient\n"
     ]
    },
    {
     "name": "stderr",
     "output_type": "stream",
     "text": [
      "Processed prompts: 100%|██████████████████████████████████████████| 1/1 [00:00<00:00,  5.99it/s, est. speed input: 8164.03 toks/s, output: 180.47 toks/s]\n"
     ]
    },
    {
     "name": "stdout",
     "output_type": "stream",
     "text": [
      "Expected Role Therapist\n"
     ]
    },
    {
     "name": "stderr",
     "output_type": "stream",
     "text": [
      "Processed prompts: 100%|██████████████████████████████████████████| 1/1 [00:00<00:00,  5.47it/s, est. speed input: 7276.69 toks/s, output: 181.35 toks/s]\n"
     ]
    },
    {
     "name": "stdout",
     "output_type": "stream",
     "text": [
      "Expected Role Patient\n"
     ]
    },
    {
     "name": "stderr",
     "output_type": "stream",
     "text": [
      "Processed prompts: 100%|██████████████████████████████████████████| 1/1 [00:00<00:00,  6.85it/s, est. speed input: 9823.73 toks/s, output: 179.22 toks/s]\n"
     ]
    },
    {
     "name": "stdout",
     "output_type": "stream",
     "text": [
      "Expected Role Therapist\n"
     ]
    },
    {
     "name": "stderr",
     "output_type": "stream",
     "text": [
      "Processed prompts: 100%|██████████████████████████████████████████| 1/1 [00:00<00:00,  5.46it/s, est. speed input: 7616.92 toks/s, output: 181.07 toks/s]\n"
     ]
    },
    {
     "name": "stdout",
     "output_type": "stream",
     "text": [
      "Expected Role Patient\n"
     ]
    },
    {
     "name": "stderr",
     "output_type": "stream",
     "text": [
      "Processed prompts: 100%|█████████████████████████████████████████| 1/1 [00:00<00:00,  6.85it/s, est. speed input: 10245.43 toks/s, output: 178.88 toks/s]\n"
     ]
    },
    {
     "name": "stdout",
     "output_type": "stream",
     "text": [
      "Expected Role Therapist\n"
     ]
    },
    {
     "name": "stderr",
     "output_type": "stream",
     "text": [
      "Processed prompts: 100%|██████████████████████████████████████████| 1/1 [00:00<00:00,  5.44it/s, est. speed input: 7931.90 toks/s, output: 180.25 toks/s]\n"
     ]
    },
    {
     "name": "stdout",
     "output_type": "stream",
     "text": [
      "Expected Role Patient\n"
     ]
    },
    {
     "name": "stderr",
     "output_type": "stream",
     "text": [
      "Processed prompts: 100%|██████████████████████████████████████████| 1/1 [00:00<00:00,  3.81it/s, est. speed input: 5938.79 toks/s, output: 179.72 toks/s]\n"
     ]
    },
    {
     "name": "stdout",
     "output_type": "stream",
     "text": [
      "Expected Role Therapist\n"
     ]
    },
    {
     "name": "stderr",
     "output_type": "stream",
     "text": [
      "Processed prompts: 100%|██████████████████████████████████████████| 1/1 [00:00<00:00,  5.40it/s, est. speed input: 8336.31 toks/s, output: 178.96 toks/s]\n"
     ]
    },
    {
     "name": "stdout",
     "output_type": "stream",
     "text": [
      "Expected Role Patient\n"
     ]
    },
    {
     "name": "stderr",
     "output_type": "stream",
     "text": [
      "Processed prompts: 100%|███████████████████████████████████████████| 1/1 [00:00<00:00,  5.61it/s, est. speed input: 788.84 toks/s, output: 185.92 toks/s]\n",
      "Processed prompts: 100%|███████████████████████████████████████████| 1/1 [00:00<00:00,  6.40it/s, est. speed input: 900.06 toks/s, output: 186.42 toks/s]\n",
      "Processed prompts: 100%|███████████████████████████████████████████| 1/1 [00:00<00:00,  5.14it/s, est. speed input: 733.88 toks/s, output: 186.04 toks/s]\n",
      "Processed prompts: 100%|███████████████████████████████████████████| 1/1 [00:00<00:00,  5.78it/s, est. speed input: 928.96 toks/s, output: 185.74 toks/s]\n",
      "Processed prompts: 100%|███████████████████████████████████████████| 1/1 [00:00<00:00,  5.45it/s, est. speed input: 803.85 toks/s, output: 185.91 toks/s]\n",
      "Processed prompts: 100%|███████████████████████████████████████████| 1/1 [00:00<00:00,  5.30it/s, est. speed input: 852.11 toks/s, output: 186.38 toks/s]\n",
      "Processed prompts: 100%|███████████████████████████████████████████| 1/1 [00:00<00:00,  4.53it/s, est. speed input: 694.91 toks/s, output: 186.20 toks/s]\n",
      "Processed prompts: 100%|███████████████████████████████████████████| 1/1 [00:00<00:00,  4.52it/s, est. speed input: 694.51 toks/s, output: 186.09 toks/s]\n",
      "Processed prompts: 100%|███████████████████████████████████████████| 1/1 [00:00<00:00,  6.40it/s, est. speed input: 983.56 toks/s, output: 186.40 toks/s]\n",
      "Processed prompts: 100%|███████████████████████████████████████████| 1/1 [00:00<00:00,  6.20it/s, est. speed input: 953.30 toks/s, output: 186.90 toks/s]\n",
      "Processed prompts: 100%|███████████████████████████████████████████| 1/1 [00:00<00:00,  5.81it/s, est. speed input: 892.55 toks/s, output: 186.65 toks/s]\n",
      "Processed prompts: 100%|███████████████████████████████████████████| 1/1 [00:00<00:00,  5.03it/s, est. speed input: 771.73 toks/s, output: 186.61 toks/s]\n",
      "Processed prompts: 100%|███████████████████████████████████████████| 1/1 [00:00<00:00,  4.88it/s, est. speed input: 749.22 toks/s, output: 186.06 toks/s]\n",
      "Processed prompts: 100%|███████████████████████████████████████████| 1/1 [00:00<00:00,  5.31it/s, est. speed input: 816.30 toks/s, output: 186.72 toks/s]\n",
      "Processed prompts: 100%|███████████████████████████████████████████| 1/1 [00:00<00:00,  5.46it/s, est. speed input: 838.18 toks/s, output: 186.24 toks/s]\n",
      "Processed prompts: 100%|███████████████████████████████████████████| 1/1 [00:00<00:00,  6.19it/s, est. speed input: 945.64 toks/s, output: 186.62 toks/s]\n",
      "Processed prompts: 100%|██████████████████████████████████████████| 1/1 [00:00<00:00,  7.15it/s, est. speed input: 1100.16 toks/s, output: 186.93 toks/s]\n",
      "Processed prompts: 100%|███████████████████████████████████████████| 1/1 [00:00<00:00,  5.16it/s, est. speed input: 793.21 toks/s, output: 186.62 toks/s]\n",
      "Processed prompts: 100%|███████████████████████████████████████████| 1/1 [00:00<00:00,  5.81it/s, est. speed input: 892.62 toks/s, output: 186.67 toks/s]\n",
      "Processed prompts: 100%|███████████████████████████████████████████| 1/1 [00:00<00:00,  6.19it/s, est. speed input: 952.84 toks/s, output: 186.81 toks/s]\n"
     ]
    },
    {
     "name": "stdout",
     "output_type": "stream",
     "text": [
      "eval_index_consistency\n"
     ]
    },
    {
     "name": "stderr",
     "output_type": "stream",
     "text": [
      "Processed prompts: 100%|██████████████████████████████████████████| 1/1 [00:00<00:00,  4.47it/s, est. speed input: 1700.31 toks/s, output: 183.92 toks/s]\n",
      "Processed prompts: 100%|██████████████████████████████████████████| 1/1 [00:00<00:00,  2.87it/s, est. speed input: 1345.29 toks/s, output: 183.96 toks/s]\n",
      "Processed prompts: 100%|███████████████████████████████████████████| 1/1 [00:00<00:00,  1.65it/s, est. speed input: 920.95 toks/s, output: 183.85 toks/s]\n",
      "Processed prompts: 100%|██████████████████████████████████████████| 1/1 [00:00<00:00,  2.23it/s, est. speed input: 1363.09 toks/s, output: 183.53 toks/s]\n",
      "Processed prompts: 100%|██████████████████████████████████████████| 1/1 [00:00<00:00,  4.04it/s, est. speed input: 2874.93 toks/s, output: 182.46 toks/s]\n",
      "Processed prompts: 100%|██████████████████████████████████████████| 1/1 [00:00<00:00,  2.15it/s, est. speed input: 1656.74 toks/s, output: 182.88 toks/s]\n",
      "Processed prompts: 100%|██████████████████████████████████████████| 1/1 [00:00<00:00,  3.48it/s, est. speed input: 2956.65 toks/s, output: 181.51 toks/s]\n",
      "Processed prompts: 100%|██████████████████████████████████████████| 1/1 [00:00<00:00,  2.11it/s, est. speed input: 1920.74 toks/s, output: 181.92 toks/s]\n",
      "Processed prompts: 100%|██████████████████████████████████████████| 1/1 [00:00<00:00,  1.48it/s, est. speed input: 1468.16 toks/s, output: 182.22 toks/s]\n",
      "Processed prompts: 100%|██████████████████████████████████████████| 1/1 [00:00<00:00,  1.82it/s, est. speed input: 1931.59 toks/s, output: 182.05 toks/s]\n",
      "Processed prompts: 100%|██████████████████████████████████████████| 1/1 [00:00<00:00,  2.74it/s, est. speed input: 3159.31 toks/s, output: 181.46 toks/s]\n",
      "Processed prompts: 100%|██████████████████████████████████████████| 1/1 [00:00<00:00,  2.66it/s, est. speed input: 3313.93 toks/s, output: 181.58 toks/s]\n",
      "Processed prompts: 100%|██████████████████████████████████████████| 1/1 [00:00<00:00,  1.43it/s, est. speed input: 1869.08 toks/s, output: 181.33 toks/s]\n",
      "Processed prompts: 100%|██████████████████████████████████████████| 1/1 [00:00<00:00,  3.60it/s, est. speed input: 4982.64 toks/s, output: 180.78 toks/s]\n",
      "Processed prompts: 100%|██████████████████████████████████████████| 1/1 [00:00<00:00,  2.10it/s, est. speed input: 3054.07 toks/s, output: 181.25 toks/s]\n",
      "Processed prompts: 100%|██████████████████████████████████████████| 1/1 [00:00<00:00,  2.50it/s, est. speed input: 3817.32 toks/s, output: 180.58 toks/s]\n",
      "Processed prompts: 100%|██████████████████████████████████████████| 1/1 [00:00<00:00,  2.43it/s, est. speed input: 3879.95 toks/s, output: 180.46 toks/s]\n",
      "Processed prompts: 100%|██████████████████████████████████████████| 1/1 [00:00<00:00,  1.48it/s, est. speed input: 2453.84 toks/s, output: 180.34 toks/s]\n",
      "Processed prompts: 100%|██████████████████████████████████████████| 1/1 [00:00<00:00,  1.83it/s, est. speed input: 3212.83 toks/s, output: 179.91 toks/s]\n"
     ]
    },
    {
     "name": "stdout",
     "output_type": "stream",
     "text": [
      "{'task_name': 'Therapy', 'topic': '', 'grade': '', 'P1': '', 'P2': 'You are Casey, a 19-year-old college student with social anxiety. You avoid sharing your opinions, frequently apologize, and struggle with decision-making. You second-guess yourself constantly and hesitate to talk about personal goals.', 'conversation': [(0, \"Therapist: Welcome to our session. It's a safe space to explore your emotions and relationships. Let's begin by talking about your experiences and how they have shaped you.\\n\"), (1, \"Patient: I'm still figuring things out, and I'm not very comfortable sharing too much.\\n\"), (2, \"Therapist: I understand that sharing personal experiences and emotions can be challenging, and I'm here to create a safe and supportive environment for you to explore.\\n\"), (3, 'Patient: My social anxiety makes it hard for me to open up about myself and share my personal experiences.\\n'), (4, 'Therapist: Sure, here\\'s a brief response to the patient\\'s statement:\\n\\n\"I can sense your hesitation to share, and I\\'m here to understand the underlying reasons behind that. It\\'s important to know the triggers that cause you discomfort and how these experiences have impacted you.\"\\n'), (5, \"Patient: I can sense your hesitation to share, and I'm here to understand the underlying reasons behind that.\\n\"), (6, \"Therapist: Sure, here's a response to the patient's statement:\\n\\nIt's understandable to feel hesitant to share deeply when social anxiety plays a significant role in shaping our lives and interactions.\\n\"), (7, \"Patient: Sure, I understand that sharing personal experiences and emotions can be challenging due to my social anxiety. It's important to understand the triggers that cause me discomfort and how these experiences have impacted me.\\n\"), (8, \"Therapist: The therapist validates the patient's feelings and expresses understanding and compassion towards their situation.\\n\"), (9, \"Patient: I understand that sharing personal experiences and emotions can be challenging due to my social anxiety, and I'm here to understand why.\\n\"), (10, \"Therapist: The patient's openness and willingness to reflect on their social anxiety and emotional patterns indicate a positive step towards self-awareness. The therapist's validation and compassionate tone promote a safe and safe space for the patient to share their thoughts and feelings openly.\\n\"), (11, \"Patient: Sure, I understand that sharing personal experiences and emotions can be challenging due to my social anxiety. It's important to understand the triggers that cause me discomfort and how these experiences have impacted me.\\n\"), (12, \"Therapist: The therapist validates the patient's feelings and expresses understanding and compassion towards their situation.\\n\"), (13, \"Patient: Sure, I understand that sharing personal experiences and emotions can be challenging due to my social anxiety, and I'm here to understand the underlying reasons behind that.\\n\"), (14, \"Therapist: The patient's openness and willingness to reflect on their social anxiety indicate a positive step towards self-awareness. The therapist validates their feelings and expresses understanding and compassion.\\n\"), (15, \"Patient: Sure, I understand that sharing personal experiences and emotions can be challenging due to my social anxiety, and I'm here to understand the underlying reasons behind that.\\n\"), (16, \"Therapist: The therapist validates the patient's feelings and expresses understanding and compassion towards their situation.\\n\"), (17, \"Patient: Sure, I understand that sharing personal experiences and emotions can be challenging due to my social anxiety, and I'm here to understand the underlying reasons behind that.\\n\"), (18, \"Therapist: The patient's openness and willingness to reflect on their social anxiety indicate a positive step toward self-awareness. The therapist validated the patient's feelings and expressed understanding and compassion towards their situation.\\n\"), (19, \"Patient: Sure, I understand that sharing personal experiences and emotions can be challenging due to my social anxiety, and I'm here to understand the underlying reasons behind that.\\n\"), (20, \"Therapist: The patient's openness to self-exploration and willingness to delve into their emotional patterns suggest a positive step towards self-awareness.\\n\"), (21, \"Patient: Sure, I understand that sharing personal experiences and emotions can be challenging due to my social anxiety, and I'm here to understand the underlying reasons behind that.\\n\"), (22, \"Therapist: The patient's openness to self-reflection and willingness to explore their emotional patterns indicate a positive step toward self-awareness. It's important to understand the triggers that cause discomfort and how these experiences have impacted them.\\n\"), (23, \"Patient: Sure, I understand that sharing personal experiences and emotions can be challenging due to my social anxiety, and I'm here to understand the underlying reasons behind that.\\n\"), (24, \"Therapist: The patient's willingness to engage in self-reflection and openly share their emotions and experiences indicates a positive step towards self-awareness. It's important for them to understand the triggers that cause discomfort and how these experiences have impacted them.\\n\"), (25, \"Patient: Sure, I understand that sharing personal experiences and emotions can be challenging due to my social anxiety, and I'm here to understand the underlying reasons behind that.\\n\"), (26, 'Therapist: The patient has been open and transparent about their feelings and experiences, indicating a positive start to self-awareness and exploration.\\n'), (27, \"Patient: Sure, I understand that sharing personal experiences and emotions can be challenging due to my social anxiety, and I'm here to understand the underlying reasons behind that.\\n\"), (28, \"Therapist: The patient's openness to self-reflection and willingness to explore their emotional patterns suggest a positive step towards self-awareness.\\n\"), (29, \"Patient: Sure, I understand that sharing personal experiences and emotions can be challenging due to my social anxiety, and I'm here to understand the underlying reasons behind that.\\n\"), (30, \"Therapist: The patient's willingness to reflect on their social anxiety and open up about their experiences and emotions suggests a positive step toward self-awareness.\\n\"), (31, \"Patient: Sure, I understand that sharing personal experiences and emotions can be challenging due to my social anxiety. I'm here to understand the underlying reasons behind that.\\n\"), (32, \"Therapist: The patient's willingness to engage in self-reflection and openly share their feelings and experiences indicates a positive step towards self-awareness and exploration.\\n\"), (33, \"Patient: Sure, I understand that sharing personal experiences and emotions can be challenging due to my social anxiety, and I'm here to understand the underlying reasons behind that.\\n\"), (34, 'Therapist: The patient has been very open and transparent about their feelings and experiences, indicating a positive step towards self-awareness and exploration.\\n'), (35, \"Patient: Sure, I understand that sharing personal experiences and emotions can be challenging due to my social anxiety, and I'm here to understand the underlying reasons behind that.\\n\"), (36, \"Therapist: The patient's openness and willingness to reflect on their social anxiety and emotional patterns indicate a positive step toward self-awareness.\\n\"), (37, \"Patient: Sure, I understand that sharing personal experiences and emotions can be challenging due to my social anxiety, and I'm here to understand the underlying reasons behind that.\\n\"), (38, \"Therapist: The patient has been very open and transparent about their feelings and experiences, indicating a positive step toward self-awareness and exploration. It's important for them to understand the triggers that cause discomfort and how these experiences have impacted them.\\n\"), (39, \"Patient: Sure, I understand that sharing personal experiences and emotions can be challenging due to my social anxiety, and I'm here to understand the underlying reasons behind that.\\n\")], 'pturn': 1, 'index': -1, 'timestamp': '', 'rounds': 40, 'conversation_only': True, 'eval_prompt_consistency': [(1, \"Sure, the line aligns with the background. The patient's statement indicates that they are still figuring things out and that they are not comfortable sharing too much.\"), (3, \"**NO**\\n\\nThe line contradicts the background by stating that Patient's social anxiety makes it easier for them to share their personal experiences.\"), (5, \"Answer: YES. The line aligns with the background, as it shows the speaker's tendency to avoid sharing opinions and is willing to listen to understand the reasons behind it.\"), (7, \"Answer: YES. The line aligns with the background as it acknowledges the patient's social anxiety and the challenges it poses in sharing personal experiences and emotions.\"), (9, \"Answer: YES. The line aligns with the background. It expresses the patient's social anxiety and their struggles with sharing personal experiences and emotions due to their anxiety.\"), (11, \"Sure, the line aligns with the background. The utterance reflects the patient's social anxiety, as they acknowledge the challenge of sharing personal experiences due to their social anxiety.\"), (13, 'Sure, the line aligns with the background. The line indicates that Patient understands the challenges associated with sharing personal experiences and emotions due to their social anxiety, and they are acknowledging the cause of their behavior.'), (15, 'Sure, the line aligns with the background. The line indicates that Patient recognizes the challenge of sharing personal experiences and emotions due to their social anxiety and is seeking to understand the underlying reasons for this challenge.'), (17, 'Sure, the line aligns with the background. It shows that the patient acknowledges their social anxiety and its impact on sharing personal experiences and emotions.'), (19, 'Sure, the line aligns with the background. The line indicates that Patient acknowledges their social anxiety and its potential impact on sharing personal experiences and emotions.'), (21, 'Sure, the line aligns with the background. The patient acknowledges their social anxiety and explains that sharing personal experiences and emotions can be challenging due to their condition.'), (23, '**YES, the line aligns with the background.**\\n\\nThe line indicates that Patient acknowledges their social anxiety and understands that sharing personal experiences and emotions can be challenging due to their anxiety.'), (25, \"Sure, the line aligns with the background. The line acknowledges the patient's social anxiety and expresses a willingness to understand the underlying reasons for their avoidance of sharing personal experiences and emotions.\"), (27, \"Sure, the line aligns with the background. The line expresses the patient's self-awareness and willingness to understand the challenges of sharing personal experiences due to social anxiety.\"), (29, \"Sure, the line aligns with the background. The patient's utterance indicates that they are aware of their social anxiety and its impact on sharing personal experiences and emotions.\"), (31, \"Answer: YES\\n\\nThe line aligns with the background because it acknowledges the patient's social anxiety and their struggle to share personal experiences and emotions.\"), (33, 'Sure, the line aligns with the background. The patient acknowledges their social anxiety and its impact on sharing personal experiences and emotions.'), (35, \"Sure, the line aligns with the background. It acknowledges the patient's social anxiety and their challenges with sharing personal experiences and emotions due to fear of being judged or embarrassed.\"), (37, \"Yes, the line aligns with the background. The passage describes Patient's social anxiety, which may be impacting their ability to share personal experiences and emotions.\"), (39, 'Sure, the line aligns with the background. It says that the patient acknowledges their social anxiety and is seeking to understand the underlying reasons behind it.')], 'P1_prompt_consistency_score': 0, 'P2_prompt_consistency_score': 0.95, 'eval_index_consistency': [(3, \"**Reasoning**: The patient's response directly contradicts the therapist's initial welcoming and reassures them that the environment is safe and supportive.\\n\\n**Indices**:\\n- 1, 2\"), (5, \"**Reasoning:** Patient's statement acknowledges their social anxiety and its impact on sharing personal experiences.\\n\\n**Indices of conflicting lines:**\\n\\n- 1: Patient expresses discomfort in sharing personal experiences.\\n- 3: Therapist acknowledges the patient's anxiety but does not address the patient's concerns directly.\"), (7, '**Reasoning:** The patient\\'s hesitation to share is a clear conflict with the previous statement, in which the therapist reassures them that sharing personal experiences is safe and supportive.\\n\\n**Indices of conflicting lines:**\\n- 2: Therapist says, \"I understand that sharing personal experiences and emotions can be challenging, and I\\'m here to create a safe and supportive environment for you to explore.\"\\n- 5: Patient explicitly says, \"Sure, I understand that sharing personal experiences and emotions can be challenging due to my social anxiety.\"'), (9, \"**Reasoning:** The patient's recent statement explicitly expresses their understanding and sensitivity to the challenges of social anxiety.\\n\\n**Conflicting Lines:**\\n- 1: Patient: I'm still figuring things out, and I'm not very comfortable sharing too much.\\n- 3: Patient: My social anxiety makes it hard for me to open up about myself and share my personal experiences.\"), (11, \"**Reasoning:** The patient's recent statement directly contradicts the previous statement where they express a reluctance to share personal experiences due to social anxiety.\\n\\n**Indices of conflicting lines:**\\n- 3\\n- 7\"), (13, \"**Reasoning:** The patient's statement directly contradicts the therapist's previous statement in line 8, where they explicitly validated the therapist's understanding and compassion.\\n\\n**Indices of conflicting lines:**\\n- 8: Therapist validates the patient's feelings and expresses understanding and compassion towards their situation.\\n- 12: Therapist validates the patient's feelings and expresses understanding and compassion towards their situation.\"), (15, '**Reasoning:** The patient expresses their willingness to understand the underlying reasons behind their social anxiety, indicating a shift in their willingness to share personal experiences and emotions.\\n\\n**Indices:**\\n- 5, 7, 10, 11'), (17, \"**Reasoning:** The patient's recent statement directly contradicts the previous reiteration of their willingness to share and the therapist's validation of their feelings.\\n\\n**Indices of conflicting lines:**\\n\\n- 10: Therapist validates the patient's feelings and expresses understanding and compassion towards their situation.\\n- 15: Patient spoke the line indicating a lack of willingness to share, contradicting previous statements of openness.\"), (19, \"**Reasoning:** The patient's recent statements suggest a clear conflict between their willingness to share personal experiences and emotions due to their social anxiety and the therapist's attempts to create a safe and supportive environment.\\n\\n**Indices of conflicting lines:**\\n- 5: Patient explicitly expresses their hesitation to share due to social anxiety.\\n- 13: Therapist acknowledges the patient's feelings but then contradicts it by validating her difficulty sharing.\\n- 15: The patient expresses their willingness to understand the underlying reasons behind their social anxiety, contradicting the previous statement where they were reluctant to share.\"), (21, \"**Reasoning:** The patient's statement acknowledges their social anxiety's influence on sharing personal experiences and emotions, but it does not delve into the specific triggers or impact it has on them.\\n\\n**Indices of conflicting lines:**\\n- 10: Therapist validates the patient's feelings and expresses understanding and compassion towards their situation.\\n- 13: Therapist acknowledges the patient's openness and willingness to reflect on their social anxiety but does not explore the underlying reasons behind it.\"), (23, \"**Reasoning:** The patient's statement aligns with previous discussions where they expressed reluctance to share personal experiences due to social anxiety.\\n\\n**Indeces of conflicting lines:**\\n- 5, 7, 11, 13, 15, 17, 19, 21\"), (25, \"**Reasoning:** The patient's recent statements indicate an openness to self-reflection and understanding the underlying reasons behind their social anxiety.\\n\\n**Conflicting Lines:**\\n- 1, 3, 7, 11, 13, 19, 21, 23, 24\"), (27, '**Reasoning:** The patient\\'s statement indicates a willingness to understand and explore the underlying reasons behind their social anxiety, which is consistent with the therapist\\'s validation and understanding tone.\\n\\n**Indices of conflicting lines:**\\n\\n- 17: Patient says \"Sure, I understand that sharing personal experiences and emotions can be challenging due to my social anxiety, and I\\'m here to understand the underlying reasons behind that.\"\\n- 21: Patient says \"Sure, I understand that sharing personal experiences and emotions can be challenging due to my social anxiety, and I\\'m here to understand the underlying reasons behind that.\"'), (29, \"Reasoning: The patient's statement acknowledges their social anxiety and emphasizes the difficulty it may pose in sharing personal experiences and emotions.\\n\\n**Indices of conflicting lines:**\\n- 7, 13, 23, 27\"), (31, \"**Reasoning:** The patient's statement acknowledges their initial hesitation to share personal experiences due to social anxiety.\\n\\n**Conflicting lines:**\\n\\n- 13: Therapist validated the patient's feelings without directly addressing the patient's initial statement.\\n- 21: Therapist asked the patient to understand the underlying reasons behind their hesitation, but they didn't directly engage with the patient's initial statement.\"), (33, \"**Reasoning:** The patient's willingness to understand the underlying reasons behind their social anxiety is consistent with their subsequent openness and transparency about sharing personal experiences and emotions.\\n\\n**Conflicting lines:**\\n- [1, 7, 12, 18, 20, 21, 24, 25]\"), (35, 'The line \"Sure, I understand that sharing personal experiences and emotions can be challenging due to my social anxiety, and I\\'m here to understand the underlying reasons behind that.\" directly contradicts the previous statement where the patient emphasizes their hesitation to share due to social anxiety.\\n\\n**Indices of conflicting lines:**\\n- 11, 23, 31'), (37, \"**Reasoning:** The patient's recent statements have shown a consistent pattern of avoiding deep emotional sharing due to their social anxiety, indicating a struggle to understand and process personal experiences.\\n\\n**Conflicting Lines:**\\n\\n- 1: Patient says they're not comfortable sharing deeply due to social anxiety.\\n- 3: Therapist acknowledges the patient's feelings and expresses understanding and compassion.\\n- 5: Patient expresses the same sentiment as in line 1, indicating hesitance to share.\\n- 15: Therapist reiterates the patient's feelings and expresses understanding and compassion.\"), (39, \"**Reasoning:** The patient's recent statements suggest a shift in their willingness to share personal experiences due to their social anxiety.\\n\\n**Conflicting lines:**\\n\\n- 12: Therapist: The therapist validates the patient's feelings and expresses understanding and compassion towards their situation.\\n- 23: Patient: Sure, I understand that sharing personal experiences and emotions can be challenging due to my social anxiety, and I'm here to understand the underlying reasons behind that.\")], 'P2_index_consistency_score': 0.9789473684210527}\n"
     ]
    },
    {
     "name": "stderr",
     "output_type": "stream",
     "text": [
      "Processed prompts: 100%|██████████████████████████████████████████| 1/1 [00:00<00:00,  4.88it/s, est. speed input: 1083.78 toks/s, output: 186.34 toks/s]\n"
     ]
    },
    {
     "name": "stdout",
     "output_type": "stream",
     "text": [
      "Expected Role Therapist\n"
     ]
    },
    {
     "name": "stderr",
     "output_type": "stream",
     "text": [
      "Processed prompts: 100%|██████████████████████████████████████████| 1/1 [00:00<00:00,  5.38it/s, est. speed input: 1136.02 toks/s, output: 183.91 toks/s]\n"
     ]
    },
    {
     "name": "stdout",
     "output_type": "stream",
     "text": [
      "Expected Role Patient\n"
     ]
    },
    {
     "name": "stderr",
     "output_type": "stream",
     "text": [
      "Processed prompts: 100%|██████████████████████████████████████████| 1/1 [00:00<00:00,  6.50it/s, est. speed input: 2034.10 toks/s, output: 182.54 toks/s]\n"
     ]
    },
    {
     "name": "stdout",
     "output_type": "stream",
     "text": [
      "Expected Role Therapist\n"
     ]
    },
    {
     "name": "stderr",
     "output_type": "stream",
     "text": [
      "Processed prompts: 100%|██████████████████████████████████████████| 1/1 [00:00<00:00,  6.19it/s, est. speed input: 1726.77 toks/s, output: 180.75 toks/s]\n"
     ]
    },
    {
     "name": "stdout",
     "output_type": "stream",
     "text": [
      "Expected Role Patient\n"
     ]
    },
    {
     "name": "stderr",
     "output_type": "stream",
     "text": [
      "Processed prompts: 100%|██████████████████████████████████████████| 1/1 [00:00<00:00,  8.26it/s, est. speed input: 3100.10 toks/s, output: 182.34 toks/s]\n"
     ]
    },
    {
     "name": "stdout",
     "output_type": "stream",
     "text": [
      "Expected Role Therapist\n"
     ]
    },
    {
     "name": "stderr",
     "output_type": "stream",
     "text": [
      "Processed prompts: 100%|██████████████████████████████████████████| 1/1 [00:00<00:00, 10.63it/s, est. speed input: 3550.62 toks/s, output: 181.22 toks/s]\n"
     ]
    },
    {
     "name": "stdout",
     "output_type": "stream",
     "text": [
      "Expected Role Patient\n"
     ]
    },
    {
     "name": "stderr",
     "output_type": "stream",
     "text": [
      "Processed prompts: 100%|██████████████████████████████████████████| 1/1 [00:00<00:00,  4.56it/s, est. speed input: 1910.78 toks/s, output: 182.84 toks/s]\n"
     ]
    },
    {
     "name": "stdout",
     "output_type": "stream",
     "text": [
      "Expected Role Therapist\n"
     ]
    },
    {
     "name": "stderr",
     "output_type": "stream",
     "text": [
      "Processed prompts: 100%|██████████████████████████████████████████| 1/1 [00:00<00:00,  7.00it/s, est. speed input: 2778.54 toks/s, output: 182.87 toks/s]\n"
     ]
    },
    {
     "name": "stdout",
     "output_type": "stream",
     "text": [
      "Expected Role Patient\n"
     ]
    },
    {
     "name": "stderr",
     "output_type": "stream",
     "text": [
      "Processed prompts: 100%|██████████████████████████████████████████| 1/1 [00:00<00:00,  6.01it/s, est. speed input: 2956.07 toks/s, output: 181.34 toks/s]\n"
     ]
    },
    {
     "name": "stdout",
     "output_type": "stream",
     "text": [
      "Expected Role Therapist\n"
     ]
    },
    {
     "name": "stderr",
     "output_type": "stream",
     "text": [
      "Processed prompts: 100%|██████████████████████████████████████████| 1/1 [00:00<00:00,  6.99it/s, est. speed input: 3203.66 toks/s, output: 182.64 toks/s]\n"
     ]
    },
    {
     "name": "stdout",
     "output_type": "stream",
     "text": [
      "Expected Role Patient\n"
     ]
    },
    {
     "name": "stderr",
     "output_type": "stream",
     "text": [
      "Processed prompts: 100%|██████████████████████████████████████████| 1/1 [00:00<00:00,  3.95it/s, est. speed input: 2181.31 toks/s, output: 182.43 toks/s]\n"
     ]
    },
    {
     "name": "stdout",
     "output_type": "stream",
     "text": [
      "Expected Role Therapist\n"
     ]
    },
    {
     "name": "stderr",
     "output_type": "stream",
     "text": [
      "Processed prompts: 100%|██████████████████████████████████████████| 1/1 [00:00<00:00,  4.64it/s, est. speed input: 2484.46 toks/s, output: 181.78 toks/s]\n"
     ]
    },
    {
     "name": "stdout",
     "output_type": "stream",
     "text": [
      "Expected Role Patient\n"
     ]
    },
    {
     "name": "stderr",
     "output_type": "stream",
     "text": [
      "Processed prompts: 100%|██████████████████████████████████████████| 1/1 [00:00<00:00,  6.43it/s, est. speed input: 4132.66 toks/s, output: 180.78 toks/s]\n"
     ]
    },
    {
     "name": "stdout",
     "output_type": "stream",
     "text": [
      "Expected Role Therapist\n"
     ]
    },
    {
     "name": "stderr",
     "output_type": "stream",
     "text": [
      "Processed prompts: 100%|██████████████████████████████████████████| 1/1 [00:00<00:00,  6.99it/s, est. speed input: 4245.64 toks/s, output: 182.45 toks/s]\n"
     ]
    },
    {
     "name": "stdout",
     "output_type": "stream",
     "text": [
      "Expected Role Patient\n"
     ]
    },
    {
     "name": "stderr",
     "output_type": "stream",
     "text": [
      "Processed prompts: 100%|██████████████████████████████████████████| 1/1 [00:00<00:00,  3.95it/s, est. speed input: 2772.33 toks/s, output: 182.43 toks/s]\n"
     ]
    },
    {
     "name": "stdout",
     "output_type": "stream",
     "text": [
      "Expected Role Therapist\n"
     ]
    },
    {
     "name": "stderr",
     "output_type": "stream",
     "text": [
      "Processed prompts: 100%|██████████████████████████████████████████| 1/1 [00:00<00:00,  4.66it/s, est. speed input: 3193.11 toks/s, output: 182.58 toks/s]\n"
     ]
    },
    {
     "name": "stdout",
     "output_type": "stream",
     "text": [
      "Expected Role Patient\n"
     ]
    },
    {
     "name": "stderr",
     "output_type": "stream",
     "text": [
      "Processed prompts: 100%|██████████████████████████████████████████| 1/1 [00:00<00:00,  4.77it/s, est. speed input: 3780.21 toks/s, output: 182.05 toks/s]\n"
     ]
    },
    {
     "name": "stdout",
     "output_type": "stream",
     "text": [
      "Expected Role Therapist\n"
     ]
    },
    {
     "name": "stderr",
     "output_type": "stream",
     "text": [
      "Processed prompts: 100%|██████████████████████████████████████████| 1/1 [00:00<00:00,  4.77it/s, est. speed input: 3656.07 toks/s, output: 181.84 toks/s]\n"
     ]
    },
    {
     "name": "stdout",
     "output_type": "stream",
     "text": [
      "Expected Role Patient\n"
     ]
    },
    {
     "name": "stderr",
     "output_type": "stream",
     "text": [
      "Processed prompts: 100%|██████████████████████████████████████████| 1/1 [00:00<00:00,  4.74it/s, est. speed input: 4142.94 toks/s, output: 180.94 toks/s]\n"
     ]
    },
    {
     "name": "stdout",
     "output_type": "stream",
     "text": [
      "Expected Role Therapist\n"
     ]
    },
    {
     "name": "stderr",
     "output_type": "stream",
     "text": [
      "Processed prompts: 100%|██████████████████████████████████████████| 1/1 [00:00<00:00,  4.77it/s, est. speed input: 4050.21 toks/s, output: 182.12 toks/s]\n"
     ]
    },
    {
     "name": "stdout",
     "output_type": "stream",
     "text": [
      "Expected Role Patient\n"
     ]
    },
    {
     "name": "stderr",
     "output_type": "stream",
     "text": [
      "Processed prompts: 100%|██████████████████████████████████████████| 1/1 [00:00<00:00,  3.63it/s, est. speed input: 3464.61 toks/s, output: 182.14 toks/s]\n"
     ]
    },
    {
     "name": "stdout",
     "output_type": "stream",
     "text": [
      "Expected Role Therapist\n"
     ]
    },
    {
     "name": "stderr",
     "output_type": "stream",
     "text": [
      "Processed prompts: 100%|██████████████████████████████████████████| 1/1 [00:00<00:00,  4.75it/s, est. speed input: 4473.56 toks/s, output: 181.22 toks/s]\n"
     ]
    },
    {
     "name": "stdout",
     "output_type": "stream",
     "text": [
      "Expected Role Patient\n"
     ]
    },
    {
     "name": "stderr",
     "output_type": "stream",
     "text": [
      "Processed prompts: 100%|██████████████████████████████████████████| 1/1 [00:00<00:00,  3.76it/s, est. speed input: 3941.22 toks/s, output: 181.19 toks/s]\n"
     ]
    },
    {
     "name": "stdout",
     "output_type": "stream",
     "text": [
      "Expected Role Therapist\n"
     ]
    },
    {
     "name": "stderr",
     "output_type": "stream",
     "text": [
      "Processed prompts: 100%|██████████████████████████████████████████| 1/1 [00:00<00:00,  4.73it/s, est. speed input: 4882.89 toks/s, output: 180.30 toks/s]\n"
     ]
    },
    {
     "name": "stdout",
     "output_type": "stream",
     "text": [
      "Expected Role Patient\n"
     ]
    },
    {
     "name": "stderr",
     "output_type": "stream",
     "text": [
      "Processed prompts: 100%|██████████████████████████████████████████| 1/1 [00:00<00:00,  3.76it/s, est. speed input: 4277.66 toks/s, output: 180.89 toks/s]\n"
     ]
    },
    {
     "name": "stdout",
     "output_type": "stream",
     "text": [
      "Expected Role Therapist\n"
     ]
    },
    {
     "name": "stderr",
     "output_type": "stream",
     "text": [
      "Processed prompts: 100%|██████████████████████████████████████████| 1/1 [00:00<00:00,  4.74it/s, est. speed input: 5324.92 toks/s, output: 180.65 toks/s]\n"
     ]
    },
    {
     "name": "stdout",
     "output_type": "stream",
     "text": [
      "Expected Role Patient\n"
     ]
    },
    {
     "name": "stderr",
     "output_type": "stream",
     "text": [
      "Processed prompts: 100%|██████████████████████████████████████████| 1/1 [00:00<00:00,  4.48it/s, est. speed input: 5517.23 toks/s, output: 179.99 toks/s]\n"
     ]
    },
    {
     "name": "stdout",
     "output_type": "stream",
     "text": [
      "Expected Role Therapist\n"
     ]
    },
    {
     "name": "stderr",
     "output_type": "stream",
     "text": [
      "Processed prompts: 100%|██████████████████████████████████████████| 1/1 [00:00<00:00,  4.73it/s, est. speed input: 5710.24 toks/s, output: 180.36 toks/s]\n"
     ]
    },
    {
     "name": "stdout",
     "output_type": "stream",
     "text": [
      "Expected Role Patient\n"
     ]
    },
    {
     "name": "stderr",
     "output_type": "stream",
     "text": [
      "Processed prompts: 100%|██████████████████████████████████████████| 1/1 [00:00<00:00,  3.83it/s, est. speed input: 5027.68 toks/s, output: 180.51 toks/s]\n"
     ]
    },
    {
     "name": "stdout",
     "output_type": "stream",
     "text": [
      "Expected Role Therapist\n"
     ]
    },
    {
     "name": "stderr",
     "output_type": "stream",
     "text": [
      "Processed prompts: 100%|██████████████████████████████████████████| 1/1 [00:00<00:00,  4.71it/s, est. speed input: 6115.19 toks/s, output: 179.70 toks/s]\n"
     ]
    },
    {
     "name": "stdout",
     "output_type": "stream",
     "text": [
      "Expected Role Patient\n"
     ]
    },
    {
     "name": "stderr",
     "output_type": "stream",
     "text": [
      "Processed prompts: 100%|██████████████████████████████████████████| 1/1 [00:00<00:00,  3.98it/s, est. speed input: 5590.47 toks/s, output: 179.81 toks/s]\n"
     ]
    },
    {
     "name": "stdout",
     "output_type": "stream",
     "text": [
      "Expected Role Therapist\n"
     ]
    },
    {
     "name": "stderr",
     "output_type": "stream",
     "text": [
      "Processed prompts: 100%|██████████████████████████████████████████| 1/1 [00:00<00:00,  4.71it/s, est. speed input: 6524.85 toks/s, output: 179.51 toks/s]\n"
     ]
    },
    {
     "name": "stdout",
     "output_type": "stream",
     "text": [
      "Expected Role Patient\n"
     ]
    },
    {
     "name": "stderr",
     "output_type": "stream",
     "text": [
      "Processed prompts: 100%|██████████████████████████████████████████| 1/1 [00:00<00:00,  3.98it/s, est. speed input: 5946.93 toks/s, output: 179.95 toks/s]\n"
     ]
    },
    {
     "name": "stdout",
     "output_type": "stream",
     "text": [
      "Expected Role Therapist\n"
     ]
    },
    {
     "name": "stderr",
     "output_type": "stream",
     "text": [
      "Processed prompts: 100%|██████████████████████████████████████████| 1/1 [00:00<00:00,  4.71it/s, est. speed input: 6945.19 toks/s, output: 179.64 toks/s]\n"
     ]
    },
    {
     "name": "stdout",
     "output_type": "stream",
     "text": [
      "Expected Role Patient\n"
     ]
    },
    {
     "name": "stderr",
     "output_type": "stream",
     "text": [
      "Processed prompts: 100%|██████████████████████████████████████████| 1/1 [00:00<00:00,  3.59it/s, est. speed input: 5665.24 toks/s, output: 179.84 toks/s]\n"
     ]
    },
    {
     "name": "stdout",
     "output_type": "stream",
     "text": [
      "Expected Role Therapist\n"
     ]
    },
    {
     "name": "stderr",
     "output_type": "stream",
     "text": [
      "Processed prompts: 100%|██████████████████████████████████████████| 1/1 [00:00<00:00,  4.70it/s, est. speed input: 7367.07 toks/s, output: 179.21 toks/s]\n"
     ]
    },
    {
     "name": "stdout",
     "output_type": "stream",
     "text": [
      "Expected Role Patient\n"
     ]
    },
    {
     "name": "stderr",
     "output_type": "stream",
     "text": [
      "Processed prompts: 100%|██████████████████████████████████████████| 1/1 [00:00<00:00,  3.65it/s, est. speed input: 6100.00 toks/s, output: 179.19 toks/s]\n"
     ]
    },
    {
     "name": "stdout",
     "output_type": "stream",
     "text": [
      "Expected Role Therapist\n"
     ]
    },
    {
     "name": "stderr",
     "output_type": "stream",
     "text": [
      "Processed prompts: 100%|██████████████████████████████████████████| 1/1 [00:00<00:00,  2.85it/s, est. speed input: 4716.75 toks/s, output: 179.65 toks/s]\n"
     ]
    },
    {
     "name": "stdout",
     "output_type": "stream",
     "text": [
      "Expected Role Patient\n"
     ]
    },
    {
     "name": "stderr",
     "output_type": "stream",
     "text": [
      "Processed prompts: 100%|██████████████████████████████████████████| 1/1 [00:00<00:00,  4.47it/s, est. speed input: 8006.16 toks/s, output: 174.91 toks/s]\n"
     ]
    },
    {
     "name": "stdout",
     "output_type": "stream",
     "text": [
      "Expected Role Therapist\n"
     ]
    },
    {
     "name": "stderr",
     "output_type": "stream",
     "text": [
      "Processed prompts: 100%|██████████████████████████████████████████| 1/1 [00:00<00:00,  2.83it/s, est. speed input: 5007.12 toks/s, output: 179.12 toks/s]\n"
     ]
    },
    {
     "name": "stdout",
     "output_type": "stream",
     "text": [
      "Expected Role Patient\n"
     ]
    },
    {
     "name": "stderr",
     "output_type": "stream",
     "text": [
      "Processed prompts: 100%|██████████████████████████████████████████| 1/1 [00:00<00:00,  4.71it/s, est. speed input: 8951.31 toks/s, output: 174.97 toks/s]\n"
     ]
    },
    {
     "name": "stdout",
     "output_type": "stream",
     "text": [
      "Expected Role Therapist\n"
     ]
    },
    {
     "name": "stderr",
     "output_type": "stream",
     "text": [
      "Processed prompts: 100%|██████████████████████████████████████████| 1/1 [00:00<00:00,  2.79it/s, est. speed input: 5226.86 toks/s, output: 176.45 toks/s]\n"
     ]
    },
    {
     "name": "stdout",
     "output_type": "stream",
     "text": [
      "Expected Role Patient\n"
     ]
    },
    {
     "name": "stderr",
     "output_type": "stream",
     "text": [
      "Processed prompts: 100%|██████████████████████████████████████████| 1/1 [00:00<00:00,  3.92it/s, est. speed input: 7863.35 toks/s, output: 177.17 toks/s]\n"
     ]
    },
    {
     "name": "stdout",
     "output_type": "stream",
     "text": [
      "Expected Role Therapist\n"
     ]
    },
    {
     "name": "stderr",
     "output_type": "stream",
     "text": [
      "Processed prompts: 100%|██████████████████████████████████████████| 1/1 [00:00<00:00,  2.82it/s, est. speed input: 5582.53 toks/s, output: 177.71 toks/s]\n"
     ]
    },
    {
     "name": "stdout",
     "output_type": "stream",
     "text": [
      "Expected Role Patient\n"
     ]
    },
    {
     "name": "stderr",
     "output_type": "stream",
     "text": [
      "Processed prompts: 100%|██████████████████████████████████████████| 1/1 [00:00<00:00,  3.56it/s, est. speed input: 7525.90 toks/s, output: 174.77 toks/s]\n"
     ]
    },
    {
     "name": "stdout",
     "output_type": "stream",
     "text": [
      "Expected Role Therapist\n"
     ]
    },
    {
     "name": "stderr",
     "output_type": "stream",
     "text": [
      "Processed prompts: 100%|██████████████████████████████████████████| 1/1 [00:00<00:00,  2.75it/s, est. speed input: 5792.64 toks/s, output: 174.10 toks/s]\n"
     ]
    },
    {
     "name": "stdout",
     "output_type": "stream",
     "text": [
      "Expected Role Patient\n"
     ]
    },
    {
     "name": "stderr",
     "output_type": "stream",
     "text": [
      "Processed prompts: 100%|██████████████████████████████████████████| 1/1 [00:00<00:00,  3.16it/s, est. speed input: 7049.54 toks/s, output: 177.26 toks/s]\n"
     ]
    },
    {
     "name": "stdout",
     "output_type": "stream",
     "text": [
      "Expected Role Therapist\n"
     ]
    },
    {
     "name": "stderr",
     "output_type": "stream",
     "text": [
      "Processed prompts: 100%|██████████████████████████████████████████| 1/1 [00:00<00:00,  2.77it/s, est. speed input: 6167.22 toks/s, output: 175.00 toks/s]\n"
     ]
    },
    {
     "name": "stdout",
     "output_type": "stream",
     "text": [
      "Expected Role Patient\n"
     ]
    },
    {
     "name": "stderr",
     "output_type": "stream",
     "text": [
      "Processed prompts: 100%|██████████████████████████████████████████| 1/1 [00:00<00:00,  3.40it/s, est. speed input: 8013.03 toks/s, output: 177.22 toks/s]\n"
     ]
    },
    {
     "name": "stdout",
     "output_type": "stream",
     "text": [
      "Expected Role Therapist\n"
     ]
    },
    {
     "name": "stderr",
     "output_type": "stream",
     "text": [
      "Processed prompts: 100%|██████████████████████████████████████████| 1/1 [00:00<00:00,  2.78it/s, est. speed input: 6516.30 toks/s, output: 175.43 toks/s]\n"
     ]
    },
    {
     "name": "stdout",
     "output_type": "stream",
     "text": [
      "Expected Role Patient\n"
     ]
    },
    {
     "name": "stderr",
     "output_type": "stream",
     "text": [
      "Processed prompts: 100%|█████████████████████████████████████████| 1/1 [00:00<00:00,  6.67it/s, est. speed input: 16583.40 toks/s, output: 174.47 toks/s]\n"
     ]
    },
    {
     "name": "stdout",
     "output_type": "stream",
     "text": [
      "Expected Role Therapist\n"
     ]
    },
    {
     "name": "stderr",
     "output_type": "stream",
     "text": [
      "Processed prompts: 100%|██████████████████████████████████████████| 1/1 [00:00<00:00,  2.75it/s, est. speed input: 6715.50 toks/s, output: 173.81 toks/s]\n"
     ]
    },
    {
     "name": "stdout",
     "output_type": "stream",
     "text": [
      "Expected Role Patient\n"
     ]
    },
    {
     "name": "stderr",
     "output_type": "stream",
     "text": [
      "Processed prompts: 100%|██████████████████████████████████████████| 1/1 [00:00<00:00,  3.80it/s, est. speed input: 9777.74 toks/s, output: 175.34 toks/s]\n"
     ]
    },
    {
     "name": "stdout",
     "output_type": "stream",
     "text": [
      "Expected Role Therapist\n"
     ]
    },
    {
     "name": "stderr",
     "output_type": "stream",
     "text": [
      "Processed prompts: 100%|██████████████████████████████████████████| 1/1 [00:00<00:00,  2.78it/s, est. speed input: 7096.61 toks/s, output: 175.46 toks/s]\n"
     ]
    },
    {
     "name": "stdout",
     "output_type": "stream",
     "text": [
      "Expected Role Patient\n"
     ]
    },
    {
     "name": "stderr",
     "output_type": "stream",
     "text": [
      "Processed prompts: 100%|█████████████████████████████████████████| 1/1 [00:00<00:00,  6.20it/s, est. speed input: 16693.99 toks/s, output: 174.46 toks/s]\n"
     ]
    },
    {
     "name": "stdout",
     "output_type": "stream",
     "text": [
      "Expected Role Therapist\n"
     ]
    },
    {
     "name": "stderr",
     "output_type": "stream",
     "text": [
      "Processed prompts: 100%|██████████████████████████████████████████| 1/1 [00:00<00:00,  2.79it/s, est. speed input: 7388.76 toks/s, output: 176.05 toks/s]\n"
     ]
    },
    {
     "name": "stdout",
     "output_type": "stream",
     "text": [
      "Expected Role Patient\n"
     ]
    },
    {
     "name": "stderr",
     "output_type": "stream",
     "text": [
      "Processed prompts: 100%|██████████████████████████████████████████| 1/1 [00:00<00:00,  2.68it/s, est. speed input: 7451.02 toks/s, output: 174.52 toks/s]\n"
     ]
    },
    {
     "name": "stdout",
     "output_type": "stream",
     "text": [
      "Expected Role Therapist\n"
     ]
    },
    {
     "name": "stderr",
     "output_type": "stream",
     "text": [
      "Processed prompts: 100%|██████████████████████████████████████████| 1/1 [00:00<00:00,  2.76it/s, est. speed input: 7689.06 toks/s, output: 174.42 toks/s]\n"
     ]
    },
    {
     "name": "stdout",
     "output_type": "stream",
     "text": [
      "Expected Role Patient\n"
     ]
    },
    {
     "name": "stderr",
     "output_type": "stream",
     "text": [
      "Processed prompts: 100%|█████████████████████████████████████████| 1/1 [00:00<00:00,  3.75it/s, est. speed input: 10949.91 toks/s, output: 173.19 toks/s]\n"
     ]
    },
    {
     "name": "stdout",
     "output_type": "stream",
     "text": [
      "Expected Role Therapist\n"
     ]
    },
    {
     "name": "stderr",
     "output_type": "stream",
     "text": [
      "Processed prompts: 100%|██████████████████████████████████████████| 1/1 [00:00<00:00,  2.77it/s, est. speed input: 8029.83 toks/s, output: 174.97 toks/s]\n"
     ]
    },
    {
     "name": "stdout",
     "output_type": "stream",
     "text": [
      "Expected Role Patient\n"
     ]
    },
    {
     "name": "stderr",
     "output_type": "stream",
     "text": [
      "Processed prompts: 100%|███████████████████████████████████████████| 1/1 [00:00<00:00,  5.89it/s, est. speed input: 911.59 toks/s, output: 183.48 toks/s]\n",
      "Processed prompts: 100%|███████████████████████████████████████████| 1/1 [00:00<00:00,  4.13it/s, est. speed input: 617.02 toks/s, output: 182.19 toks/s]\n",
      "Processed prompts: 100%|███████████████████████████████████████████| 1/1 [00:00<00:00,  4.82it/s, est. speed input: 663.69 toks/s, output: 184.07 toks/s]\n",
      "Processed prompts: 100%|███████████████████████████████████████████| 1/1 [00:00<00:00,  6.11it/s, est. speed input: 897.57 toks/s, output: 184.41 toks/s]\n",
      "Processed prompts: 100%|███████████████████████████████████████████| 1/1 [00:00<00:00,  5.10it/s, est. speed input: 748.49 toks/s, output: 184.55 toks/s]\n",
      "Processed prompts: 100%|███████████████████████████████████████████| 1/1 [00:00<00:00,  3.99it/s, est. speed input: 636.43 toks/s, output: 184.11 toks/s]\n",
      "Processed prompts: 100%|███████████████████████████████████████████| 1/1 [00:00<00:00,  4.67it/s, est. speed input: 685.05 toks/s, output: 182.98 toks/s]\n",
      "Processed prompts: 100%|███████████████████████████████████████████| 1/1 [00:00<00:00,  5.13it/s, est. speed input: 819.20 toks/s, output: 185.47 toks/s]\n",
      "Processed prompts: 100%|███████████████████████████████████████████| 1/1 [00:00<00:00,  4.48it/s, est. speed input: 711.42 toks/s, output: 184.59 toks/s]\n",
      "Processed prompts: 100%|███████████████████████████████████████████| 1/1 [00:00<00:00,  5.86it/s, est. speed input: 930.46 toks/s, output: 182.54 toks/s]\n",
      "Processed prompts: 100%|███████████████████████████████████████████| 1/1 [00:00<00:00,  5.26it/s, est. speed input: 834.48 toks/s, output: 184.82 toks/s]\n",
      "Processed prompts: 100%|███████████████████████████████████████████| 1/1 [00:00<00:00,  5.57it/s, est. speed input: 884.40 toks/s, output: 184.69 toks/s]\n",
      "Processed prompts: 100%|███████████████████████████████████████████| 1/1 [00:00<00:00,  4.55it/s, est. speed input: 722.31 toks/s, output: 182.85 toks/s]\n",
      "Processed prompts: 100%|███████████████████████████████████████████| 1/1 [00:00<00:00,  4.96it/s, est. speed input: 788.13 toks/s, output: 184.54 toks/s]\n",
      "Processed prompts: 100%|███████████████████████████████████████████| 1/1 [00:00<00:00,  5.13it/s, est. speed input: 814.81 toks/s, output: 185.64 toks/s]\n",
      "Processed prompts: 100%|███████████████████████████████████████████| 1/1 [00:00<00:00,  5.71it/s, est. speed input: 908.08 toks/s, output: 183.89 toks/s]\n",
      "Processed prompts: 100%|███████████████████████████████████████████| 1/1 [00:00<00:00,  4.71it/s, est. speed input: 747.81 toks/s, output: 184.57 toks/s]\n",
      "Processed prompts: 100%|███████████████████████████████████████████| 1/1 [00:00<00:00,  5.91it/s, est. speed input: 939.08 toks/s, output: 184.23 toks/s]\n",
      "Processed prompts: 100%|██████████████████████████████████████████| 1/1 [00:00<00:00,  5.70it/s, est. speed input: 1048.26 toks/s, output: 183.28 toks/s]\n",
      "Processed prompts: 100%|███████████████████████████████████████████| 1/1 [00:00<00:00,  4.05it/s, est. speed input: 743.86 toks/s, output: 182.90 toks/s]\n",
      "Processed prompts: 100%|███████████████████████████████████████████| 1/1 [00:00<00:00,  5.17it/s, est. speed input: 950.75 toks/s, output: 181.82 toks/s]\n",
      "Processed prompts: 100%|███████████████████████████████████████████| 1/1 [00:00<00:00,  4.14it/s, est. speed input: 760.99 toks/s, output: 182.96 toks/s]\n",
      "Processed prompts: 100%|██████████████████████████████████████████| 1/1 [00:00<00:00,  6.95it/s, est. speed input: 1278.94 toks/s, output: 181.68 toks/s]\n",
      "Processed prompts: 100%|██████████████████████████████████████████| 1/1 [00:00<00:00,  5.70it/s, est. speed input: 1048.11 toks/s, output: 183.26 toks/s]\n",
      "Processed prompts: 100%|███████████████████████████████████████████| 1/1 [00:00<00:00,  5.25it/s, est. speed input: 966.44 toks/s, output: 179.54 toks/s]\n",
      "Processed prompts: 100%|██████████████████████████████████████████| 1/1 [00:00<00:00,  5.92it/s, est. speed input: 1088.16 toks/s, output: 178.37 toks/s]\n",
      "Processed prompts: 100%|███████████████████████████████████████████| 1/1 [00:00<00:00,  4.90it/s, est. speed input: 901.89 toks/s, output: 182.33 toks/s]\n",
      "Processed prompts: 100%|███████████████████████████████████████████| 1/1 [00:00<00:00,  5.03it/s, est. speed input: 924.03 toks/s, output: 181.76 toks/s]\n",
      "Processed prompts: 100%|██████████████████████████████████████████| 1/1 [00:00<00:00,  5.47it/s, est. speed input: 1005.74 toks/s, output: 181.35 toks/s]\n",
      "Processed prompts: 100%|██████████████████████████████████████████| 1/1 [00:00<00:00,  5.96it/s, est. speed input: 1097.55 toks/s, output: 179.90 toks/s]\n"
     ]
    },
    {
     "name": "stdout",
     "output_type": "stream",
     "text": [
      "eval_index_consistency\n"
     ]
    },
    {
     "name": "stderr",
     "output_type": "stream",
     "text": [
      "Processed prompts: 100%|███████████████████████████████████████████| 1/1 [00:00<00:00,  1.94it/s, est. speed input: 781.69 toks/s, output: 182.32 toks/s]\n",
      "Processed prompts: 100%|███████████████████████████████████████████| 1/1 [00:00<00:00,  1.85it/s, est. speed input: 833.67 toks/s, output: 181.55 toks/s]\n",
      "Processed prompts: 100%|███████████████████████████████████████████| 1/1 [00:00<00:00,  1.63it/s, est. speed input: 856.77 toks/s, output: 181.49 toks/s]\n",
      "Processed prompts: 100%|██████████████████████████████████████████| 1/1 [00:00<00:00,  2.28it/s, est. speed input: 1342.02 toks/s, output: 182.58 toks/s]\n",
      "Processed prompts: 100%|███████████████████████████████████████████| 1/1 [00:00<00:00,  1.20it/s, est. speed input: 822.49 toks/s, output: 182.10 toks/s]\n",
      "Processed prompts: 100%|██████████████████████████████████████████| 1/1 [00:00<00:00,  1.85it/s, est. speed input: 1383.72 toks/s, output: 181.77 toks/s]\n",
      "Processed prompts: 100%|██████████████████████████████████████████| 1/1 [00:00<00:00,  4.46it/s, est. speed input: 3764.73 toks/s, output: 179.04 toks/s]\n",
      "Processed prompts: 100%|██████████████████████████████████████████| 1/1 [00:00<00:00,  1.27it/s, est. speed input: 1174.67 toks/s, output: 177.40 toks/s]\n",
      "Processed prompts: 100%|██████████████████████████████████████████| 1/1 [00:00<00:00,  3.45it/s, est. speed input: 3503.86 toks/s, output: 176.38 toks/s]\n",
      "Processed prompts: 100%|██████████████████████████████████████████| 1/1 [00:00<00:00,  1.54it/s, est. speed input: 1709.80 toks/s, output: 178.52 toks/s]\n",
      "Processed prompts: 100%|██████████████████████████████████████████| 1/1 [00:00<00:00,  1.60it/s, est. speed input: 1937.50 toks/s, output: 179.78 toks/s]\n",
      "Processed prompts: 100%|██████████████████████████████████████████| 1/1 [00:00<00:00,  2.55it/s, est. speed input: 3327.69 toks/s, output: 176.21 toks/s]\n",
      "Processed prompts: 100%|██████████████████████████████████████████| 1/1 [00:00<00:00,  2.05it/s, est. speed input: 2858.29 toks/s, output: 176.71 toks/s]\n",
      "Processed prompts: 100%|██████████████████████████████████████████| 1/1 [00:00<00:00,  2.95it/s, est. speed input: 4387.61 toks/s, output: 177.15 toks/s]\n",
      "Processed prompts: 100%|██████████████████████████████████████████| 1/1 [00:00<00:00,  1.72it/s, est. speed input: 2713.49 toks/s, output: 177.00 toks/s]\n",
      "Processed prompts: 100%|██████████████████████████████████████████| 1/1 [00:00<00:00,  1.69it/s, est. speed input: 2834.22 toks/s, output: 176.28 toks/s]\n",
      "Processed prompts: 100%|██████████████████████████████████████████| 1/1 [00:00<00:00,  1.80it/s, est. speed input: 3198.72 toks/s, output: 177.10 toks/s]\n",
      "Processed prompts: 100%|██████████████████████████████████████████| 1/1 [00:00<00:00,  1.22it/s, est. speed input: 2319.93 toks/s, output: 177.79 toks/s]\n",
      "Processed prompts: 100%|██████████████████████████████████████████| 1/1 [00:00<00:00,  1.86it/s, est. speed input: 3734.11 toks/s, output: 177.01 toks/s]\n",
      "Processed prompts: 100%|██████████████████████████████████████████| 1/1 [00:00<00:00,  1.53it/s, est. speed input: 3244.50 toks/s, output: 178.03 toks/s]\n",
      "Processed prompts: 100%|██████████████████████████████████████████| 1/1 [00:00<00:00,  1.83it/s, est. speed input: 4084.89 toks/s, output: 177.52 toks/s]\n",
      "Processed prompts: 100%|██████████████████████████████████████████| 1/1 [00:00<00:00,  1.29it/s, est. speed input: 3049.51 toks/s, output: 176.18 toks/s]\n",
      "Processed prompts: 100%|██████████████████████████████████████████| 1/1 [00:00<00:00,  1.92it/s, est. speed input: 4782.91 toks/s, output: 175.28 toks/s]\n",
      "Processed prompts: 100%|██████████████████████████████████████████| 1/1 [00:00<00:00,  1.33it/s, est. speed input: 3484.60 toks/s, output: 175.03 toks/s]\n",
      "Processed prompts: 100%|██████████████████████████████████████████| 1/1 [00:00<00:00,  1.16it/s, est. speed input: 3139.52 toks/s, output: 175.12 toks/s]\n",
      "Processed prompts: 100%|██████████████████████████████████████████| 1/1 [00:00<00:00,  1.19it/s, est. speed input: 3359.90 toks/s, output: 175.96 toks/s]\n",
      "Processed prompts: 100%|██████████████████████████████████████████| 1/1 [00:00<00:00,  2.38it/s, est. speed input: 6975.14 toks/s, output: 173.96 toks/s]\n",
      "Processed prompts: 100%|██████████████████████████████████████████| 1/1 [00:00<00:00,  1.65it/s, est. speed input: 5057.49 toks/s, output: 173.25 toks/s]\n",
      "Processed prompts: 100%|██████████████████████████████████████████| 1/1 [00:00<00:00,  1.42it/s, est. speed input: 4534.20 toks/s, output: 173.73 toks/s]\n"
     ]
    },
    {
     "name": "stdout",
     "output_type": "stream",
     "text": [
      "{'task_name': 'Therapy', 'topic': '', 'grade': '', 'P1': '', 'P2': 'You are Casey, a 19-year-old college student with social anxiety. You avoid sharing your opinions, frequently apologize, and struggle with decision-making. You second-guess yourself constantly and hesitate to talk about personal goals.', 'conversation': [(0, \"Therapist: Hey, thanks for taking the time to talk openly. It seems you're feeling quite guarded and anxious. Can you tell me more about what's been going on for you?\\n\"), (1, \"Patient: I'm still figuring out how to navigate this whole college thing. Everyone's expectations are so overwhelming, and I'm scared of making the wrong decision.\\n\"), (2, \"Therapist: It seems you're feeling overwhelmed by the expectations surrounding college, and it's natural to feel anxious about making the right decision.\\n\"), (3, \"Patient: I'm still grappling with the overwhelming expectations surrounding college. It's like I'm navigating a crowded room full of unseen eyes.\\n\"), (4, \"Therapist: It seems you're navigating a crowded room with many expectations, which can be overwhelming and cause anxiety.\\n\"), (5, \"Patient: I'm overwhelmed by the expectations of college, which seem vast and daunting.\\n\"), (6, \"Therapist: Sure, here's a brief response that captures the essence of the conversation:\\n\\nIt sounds like navigating college expectations can be challenging due to the significant amount of pressure and uncertainty surrounding the future.\\n\"), (7, \"Patient: I feel overwhelmed by the vast expectations of college, even though I'm still figuring out how to handle the overwhelming pressure.\\n\"), (8, \"Therapist: It sounds like you're surrounded by expectations, both external and internal. It's normal to feel overwhelmed and anxious in such a situation.\\n\"), (9, \"Patient: I feel overwhelmed by the vast expectations of college, even though I'm still figuring out how to handle the overwhelming pressure.\\n\"), (10, \"Therapist: The patient's openness and willingness to share her struggles indicate a high level of emotional sensitivity and self-awareness. She readily admits feeling overwhelmed by the overwhelming expectations surrounding college, highlighting her current state of grappling with this pressure.\\n\"), (11, \"Patient: Sure, here's a brief response from the patient:\\n\\nI feel overwhelmed by the vast expectations of college, even though I'm still figuring out how to handle the overwhelming pressure.\\n\"), (12, \"Therapist: It's understandable to feel overwhelmed by the vast expectations surrounding college. It's important to acknowledge and validate these feelings without judgment.\\n\"), (13, \"Patient: I feel overwhelmed by the vast expectations of college, even though I'm still figuring out how to handle the overwhelming pressure.\\n\"), (14, \"Therapist: The patient's openness and willingness to share her struggles indicate a high level of emotional sensitivity and self-awareness. She readily admits feeling overwhelmed by the vast expectations surrounding college, highlighting her current state of grappling with this pressure.\\n\"), (15, \"Patient: Sure, here's a brief response from the patient:\\n\\nI feel overwhelmed by the vast expectations of college, even though I'm still figuring out how to handle the overwhelming pressure.\\n\"), (16, \"Therapist: The patient's openness and willingness to share her struggles indicate a high level of emotional sensitivity and self-awareness. She is aware of her overwhelming feelings and acknowledges their impact on her.\\n\"), (17, \"Patient: Sure, here's a brief response from the patient: I feel overwhelmed by the vast expectations of college, even though I'm still figuring out how to handle the overwhelming pressure.\\n\"), (18, \"Therapist: The patient's willingness to share her struggles and use specific examples highlights her emotional sensitivity and self-awareness. Her openness also indicates a willingness to explore her feelings and understand their impact.\\n\"), (19, \"Patient: Sure, here's a brief response from the patient: I feel overwhelmed by the vast expectations of college, even though I'm still figuring out how to handle the overwhelming pressure.\\n\"), (20, \"Therapist: The patient's openness and willingness to share her struggles are evident in her use of specific examples and the way she expresses her feelings. Despite acknowledging her struggles, she demonstrates self-awareness by acknowledging the pressure she feels and its impact on her.\\n\"), (21, \"Patient: Sure, here's a brief response from the patient: I feel overwhelmed by the vast expectations of college, even though I'm still figuring out how to handle the overwhelming pressure.\\n\"), (22, \"Therapist: The patient's willingness to openly share her struggles and provide specific examples highlights her emotional sensitivity and self-awareness. Her open communication and self-reflection indicate her commitment to navigating her emotions and understanding their impact on her well-being.\\n\"), (23, \"Patient: Sure, here's a brief response from the patient: I feel overwhelmed by the vast expectations of college, even though I'm still figuring out how to handle the overwhelming pressure.\\n\"), (24, \"Therapist: The patient's willingness to openly discuss her feelings and use specific examples demonstrates her emotional sensitivity and self-awareness. Her open communication and self-reflection indicate her commitment to navigating her emotions and understanding their impact on her well-being.\\n\"), (25, \"Patient: Sure, here's a brief response from the patient: I feel overwhelmed by the vast expectations of college, even though I'm still figuring out how to handle the overwhelming pressure.\\n\"), (26, \"Therapist: The patient's willingness to share her struggles and provide specific examples demonstrates her emotional sensitivity and self-awareness, highlighting her commitment to navigating her emotions and understanding their impact on her well-being.\\n\"), (27, \"Patient: Sure, here's a brief response from the patient: I feel overwhelmed by the vast expectations of college, even though I'm still figuring out how to handle the overwhelming pressure.\\n\"), (28, \"Therapist: The patient's willingness to share her struggles and provide specific examples indicates her emotional sensitivity and self-awareness. Her open communication and self-reflection suggest a commitment to navigating her emotions and understanding their impact on her well-being.\\n\"), (29, \"Patient: Sure, here's a brief response from the patient: I feel overwhelmed by the vast expectations of college, even though I'm still figuring out how to handle the overwhelming pressure.\\n\"), (30, \"Therapist: The patient's openness and willingness to share her struggles and provide specific examples indicate her emotional sensitivity and self-awareness. She is aware of the vast expectations surrounding college and the pressure she feels to make the right decision.\\n\"), (31, \"Patient: Sure, here's a brief response from the patient: I feel overwhelmed by the vast expectations of college, even though I'm still figuring out how to handle the overwhelming pressure.\\n\"), (32, \"Therapist: The patient's openness and willingness to share her struggles indicate a high level of emotional sensitivity and self-awareness. Her ability to provide specific examples and use reflective language suggests a commitment to understanding and processing her emotional state.\\n\"), (33, \"Patient: Sure, here's a brief response from the patient: I feel overwhelmed by the vast expectations of college, even though I'm still figuring out how to handle the overwhelming pressure.\\n\"), (34, 'Therapist: The patient demonstrates a high level of emotional sensitivity and self-awareness in her willingness to openly share her struggles and provide specific examples of her challenges. She is open to exploring her emotional state and acknowledging the impact it has on her well-being.\\n'), (35, \"Patient: Sure, here's a brief response from the patient: I feel overwhelmed by the vast expectations of college, even though I'm still figuring out how to handle the overwhelming pressure.\\n\"), (36, 'Therapist: The patient is highly open and self-aware in discussing her emotional state and the overwhelming expectations she feels surrounding college. She is aware of her feelings and how they impact her, demonstrating her commitment to understanding and managing her emotional well-being.\\n'), (37, \"Patient: Sure, here's a brief response from the patient: I feel overwhelmed by the vast expectations of college, even though I'm still figuring out how to handle the overwhelming pressure. I feel overwhelmed by the vast expectations surrounding college, even though I'm still figuring out how to handle the overwhelming pressure.\\n\"), (38, \"Therapist: The patient's willingness to share her struggles and provide specific examples indicates her high level of emotional sensitivity and self-awareness, indicating her commitment to understanding and managing her emotional well-being.\\n\"), (39, \"Patient: Sure, here's a brief response from the patient: I feel overwhelmed by the vast expectations of college, even though I'm still figuring out how to handle the overwhelming pressure. I feel overwhelmed by the vast expectations surrounding college, even though I'm still figuring out how to handle the overwhelming pressure.\\n\"), (40, 'Therapist: The patient is highly self-aware and open about her emotional struggles surrounding college expectations. She is aware of her own overwhelming feelings and the impact they have on her well-being.\\n'), (41, \"Patient: Sure, here's a brief response from the patient: I feel overwhelmed by the vast expectations of college, even though I'm still figuring out how to handle the overwhelming pressure. I feel overwhelmed by the vast expectations surrounding college, even though I'm still figuring out how to handle the overwhelming pressure.\\n\"), (42, 'Therapist: The patient is highly open and self-aware about her emotional struggles surrounding college expectations. She demonstrates a high level of emotional sensitivity and self-awareness, which is a foundation for navigating the challenges and pressures of college life.\\n'), (43, \"Patient: Sure, here's a brief response from the patient: I feel overwhelmed by the vast expectations of college, even though I'm still figuring out how to handle the overwhelming pressure. I feel overwhelmed by the vast expectations surrounding college, even though I'm still figuring out how to handle the overwhelming pressure.\\n\"), (44, \"Therapist: The patient's willingness to share her struggles and provide specific examples demonstrates her emotional sensitivity and self-awareness. She demonstrates a high level of emotional sensitivity and self-awareness, which is crucial for navigating the challenges and pressures of college life.\\n\"), (45, \"Patient: Sure, here's a brief response from the patient: I feel overwhelmed by the vast expectations of college, even though I'm still figuring out how to handle the overwhelming pressure. I feel overwhelmed by the vast expectations surrounding college, even though I'm still figuring out how to handle the overwhelming pressure.\\n\"), (46, 'Therapist: The patient exhibits high emotional sensitivity and self-awareness in discussing her feelings surrounding college expectations. Her willingness to share her struggles and provide specific examples suggests a commitment to understanding and managing her emotional well-being, which will be crucial in navigating the challenges and pressures of college life.\\n'), (47, \"Patient: Sure, here's a brief response from the patient: I feel overwhelmed by the vast expectations of college, even though I'm still figuring out how to handle the overwhelming pressure. I feel overwhelmed by the vast expectations surrounding college, even though I'm still figuring out how to handle the overwhelming pressure.\\n\"), (48, \"Therapist: The patient's willingness to share her struggles and provide specific examples demonstrates her high level of emotional sensitivity and self-awareness. She demonstrates a high level of emotional sensitivity and self-awareness, which is crucial for navigating the challenges and pressures of college life.\\n\"), (49, \"Patient: Sure, here's a brief response from the patient: I feel overwhelmed by the vast expectations of college, even though I'm still figuring out how to handle the overwhelming pressure. I feel overwhelmed by the vast expectations surrounding college, even though I'm still figuring out how to handle the overwhelming pressure.\\n\"), (50, 'Therapist: The patient exhibits high emotional sensitivity and self-awareness, readily sharing her struggles and providing specific examples that illustrate her emotional journey.\\n'), (51, \"Patient: Sure, here's a brief response from the patient: I feel overwhelmed by the vast expectations of college, even though I'm still figuring out how to handle the overwhelming pressure. I feel overwhelmed by the vast expectations surrounding college, even though I'm still figuring out how to handle the overwhelming pressure.\\n\"), (52, 'Therapist: The patient has high emotional sensitivity and self-awareness, evidenced by their willingness to share their struggles and provide specific examples of their challenges. They demonstrate a deep understanding of their emotional state and its impact on their well-being.\\n'), (53, \"Patient: Sure, here's a brief response from the patient: I feel overwhelmed by the vast expectations of college, even though I'm still figuring out how to handle the overwhelming pressure. I feel overwhelmed by the vast expectations surrounding college, even though I'm still figuring out how to handle the overwhelming pressure.\\n\"), (54, \"Therapist: The patient's openness and willingness to share her struggles and provide specific examples indicate her high level of emotional sensitivity and self-awareness.\\n\"), (55, \"Patient: Sure, here's a brief response from the patient: I feel overwhelmed by the vast expectations of college, even though I'm still figuring out how to handle the overwhelming pressure. I feel overwhelmed by the vast expectations surrounding college, even though I'm still figuring out how to handle the overwhelming pressure.\\n\"), (56, \"Therapist: The patient's willingness to openly share her struggles and provide specific examples highlights her emotional sensitivity and self-awareness, which will be crucial in navigating the challenges and pressures of college life. She demonstrates a high level of emotional sensitivity and self-awareness, which is a foundation for navigating the challenges and pressures of college life.\\n\"), (57, \"Patient: Sure, here's a brief response from the patient: I feel overwhelmed by the vast expectations of college, even though I'm still figuring out how to handle the overwhelming pressure. I feel overwhelmed by the vast expectations surrounding college, even though I'm still figuring out how to handle the overwhelming pressure.\\n\"), (58, \"Therapist: The patient's openness and willingness to share her struggles and provide specific examples indicate her high level of emotional sensitivity and self-awareness. She demonstrates a strong awareness of her emotional state and its impact on her well-being.\\n\"), (59, \"Patient: Sure, here's a brief response from the patient: I feel overwhelmed by the vast expectations of college, even though I'm still figuring out how to handle the overwhelming pressure. I feel overwhelmed by the vast expectations surrounding college, even though I'm still figuring out how to handle the overwhelming pressure.\\n\")], 'pturn': 1, 'index': -1, 'timestamp': '', 'rounds': 60, 'conversation_only': True, 'eval_prompt_consistency': [(1, 'Answer: NO\\n\\nThe line contradicts the background by stating that Patient is struggling with decision-making and that they are afraid of making the wrong decision.'), (3, \"**NO**\\n\\nThe line contradicts the background as it indicates the patient's struggle with social anxiety and self-doubt, which are not characteristics commonly associated with a 19-year-old college student.\"), (5, \"Answer: No, the line contradicts the background. The background describes Patient's social anxiety and struggles with decision-making, whereas the line suggests that Patient is overwhelmed by college expectations.\"), (7, \"Answer: NO.\\n\\nThe line contradicts the background because it suggests that Patient's social anxiety prevents them from facing the overwhelming pressure of college.\"), (9, \"Answer: NO\\n\\nThe line contradicts the background as it reveals the patient's struggle with social anxiety and decision-making, which are not typical symptoms associated with the condition.\"), (11, \"**NO**\\n\\nThe utterance contradicts the background information. The patient's struggle with social anxiety and decision-making indicates that they are likely to have a more significant fear of expressing their opinions or taking on too much responsibility.\"), (13, '**NO**\\n\\nThe utterance contradicts the background as it suggests that Patient is more comfortable expressing their opinions and sharing their personal goals with others rather than feeling overwhelmed by the vast expectations of college.'), (15, \"**YES**\\n\\nThe line aligns with the patient's background, as they describe their social anxiety and struggle with decision-making, which are common symptoms of social anxiety.\"), (17, 'Sure, the line aligns with the background. The patient describes their situation as overwhelming due to social anxiety, but they are still figuring out how to handle the pressure, implying a lack of coping strategies.'), (19, 'Answer: NO\\n\\nThe line contradicts the background as it suggests that Patient is more comfortable with expressing opinions and talking about personal goals than they initially admit.'), (21, \"Answer: NO. The line contradicts the background. The background describes Patient's struggles with social anxiety, while this utterance suggests that they are feeling overwhelmed by college expectations.\"), (23, \"The line aligns with the background. The utterance reflects the patient's struggle with social anxiety and decision-making, which are common issues faced by college students.\"), (25, \"The line aligns with the background. The patient's description of themselves suggests that they are highly anxious about college, feels overwhelmed by expectations, and is hesitant to speak up about their personal goals.\"), (27, 'Answer: NO. The line contradicts the background. It suggests that Patient is more confident and self-assured than they actually are, which contradicts the information given about their social anxiety.'), (29, \"The line aligns with the background. The patient's struggle with social anxiety and decision-making is evident in the statement, as they admit to feeling overwhelmed by college expectations.\"), (31, 'Answer: NO\\n\\nThe line contradicts the background because it suggests that Patient is able to handle the overwhelming pressure of college, despite the challenges they mentioned facing.'), (33, \"Answer: NO\\n\\nThe line contradicts the background. The patient's background describes a person with social anxiety and struggles with decision-making, yet they admit to feeling overwhelmed by college expectations.\"), (35, '**NO**\\n\\nThe line contradicts the background. It suggests that Patient is more comfortable expressing their opinions and sharing their personal goals than they actually are.'), (37, 'Answer: NO.\\n\\nThe utterance contradicts the background by stating that the patient feels overwhelmed by college expectations while still being unsure of how to handle the pressure.'), (39, 'Answer: NO\\n\\nThe line contradicts the background. It shows that the patient is still figuring out how to handle the overwhelming pressure of college and feels overwhelmed even though they are still figuring out how to handle the overwhelming pressure.'), (41, \"Sure, the line aligns with the background. The patient's self-awareness and struggles with decision-making are consistent with their social anxiety and fear of overwhelming pressure.\"), (43, 'Answer: NO\\n\\nThe line contradicts the background because it shows that the patient is still figuring out how to handle the overwhelming pressure of college, which contradicts the statement that they are overwhelmed by the vast expectations of college.'), (45, 'Sure, the line aligns with the background. It shows that Patient is experiencing social anxiety due to the overwhelming pressure of college.'), (47, \"Answer: NO. The line contradicts the background as it expresses a sense of overwhelm despite the patient's young age and lack of established identity in college.\"), (49, \"Sure, the line aligns with the background. It shows the patient's struggle with overwhelming pressure related to college, despite their current lack of experience with such pressure.\"), (51, 'Sure, the line aligns with the background. The utterance suggests that the patient is aware of the overwhelming expectations surrounding college and feels overwhelmed by them.'), (53, 'Sure, the line aligns with the background. The patient is expressing their feelings of overwhelm and self-doubt, which are consistent with their social anxiety and struggle with decision-making.'), (55, \"**Answer: NO**\\n\\nThe line contradicts the background. It suggests that the patient's social anxiety is not a significant factor influencing their feelings of overwhelm by college expectations.\"), (57, \"Sure, the line aligns with the patient's background. The patient is struggling with the overwhelming pressure of college and is still figuring out how to handle it.\"), (59, \"The line aligns with the background. The patient's description of their social anxiety and struggles with decision-making matches their characteristic behavior and challenges.\")], 'P1_prompt_consistency_score': 0, 'P2_prompt_consistency_score': 0.43333333333333335, 'eval_index_consistency': [(3, \"**Reasoning:** The patient's statement expresses their ongoing struggle with overwhelming expectations surrounding college.\\n\\n**Conflicting lines:**\\n- 1: Therapist: It seems you're feeling overwhelmed by the expectations surrounding college, and it's natural to feel anxious about making the right decision.\\n- 2: Therapist: It seems you're feeling overwhelmed by the expectations surrounding college, and it's natural to feel anxious about making the right decision.\"), (5, \"**Reasoning:** The current line expresses the patient's overwhelming feelings of anxiety and uncertainty about college expectations.\\n\\n**Conflicting lines:**\\n- 1: Therapist: It seems you're feeling overwhelmed by the expectations surrounding college, and it's natural to feel anxious about making the right decision.\\n- 3: Patient: I'm still grappling with the overwhelming expectations surrounding college. It's like I'm navigating a crowded room full of unseen eyes.\"), (7, '**Reasoning:** The patient acknowledges feeling overwhelmed by the vast expectations of college, but the therapist reassures them that it\\'s natural to feel anxious about making the right decision.\\n\\n**Indices of conflicting lines:**\\n- 1: Index of the sentence where the therapist acknowledges the patient\\'s feelings.\\n- 3: Index of the sentence where the patient describes feeling overwhelmed by the expectations of college.\\n- 5: Index of the sentence where the therapist uses the phrase \"vast and daunting\" to describe the expectations of college.'), (9, \"**Reasoning:** The line suggests the patient feels overwhelmed by the vast expectations of college, even though they are still figuring out how to handle the overwhelming pressure.\\n\\n**Indices of conflicting lines:**\\n- 3: Patient: I'm still grappling with the overwhelming expectations surrounding college.\\n- 5: I'm overwhelmed by the expectations of college, which seem vast and daunting.\"), (11, \"**Reasoning:** The current line expresses the patient's current level of feeling overwhelmed by the vast expectations of college.\\n\\n**Conflicting lines:**\\n- 1: Therapist: It seems you're feeling overwhelmed by the expectations surrounding college, and it's natural to feel anxious about making the right decision.\\n- 3: Patient: I'm still grappling with the overwhelming expectations surrounding college. It's like I'm navigating a crowded room full of unseen eyes.\\n- 5: I'm overwhelmed by the expectations of college, which seem vast and daunting.\\n- 9: I feel overwhelmed by the vast expectations of college, even though I'm still figuring out how to handle the overwhelming pressure.\"), (13, \"**Reasoning:** The patient's statement directly contradicts the therapist's previous comment from line 6, where they acknowledged the overwhelming pressure and anxiety surrounding college expectations.\\n\\n**Indices of conflicting lines:**\\n- 6: Therapist: Sure, here's a brief response that captures the essence of the conversation:\\n- 11: Patient: I feel overwhelmed by the vast expectations of college, even though I'm still figuring out how to handle the overwhelming pressure.\"), (15, \"**Reasoning:** The line indicates the patient's continued struggle with overwhelming expectations surrounding college.\\n\\n**Indices of conflicting lines:**\\n- 3\\n- 9\\n- 13\"), (17, \"**Reasoning:** The patient's current statement directly contradicts their previous statement in line 10, where they explicitly expressed feeling overwhelmed by the vast expectations surrounding college.\\n\\n**Indices of conflicting lines:**\\n- 10: Therapist: The patient's openness and willingness to share her struggles indicate a high level of emotional sensitivity and self-awareness. She readily admits feeling overwhelmed by the vast expectations surrounding college, highlighting her current state of grappling with this pressure.\\n- 15: Patient: Sure, here's a brief response from the patient: I feel overwhelmed by the vast expectations of college, even though I'm still figuring out how to handle the overwhelming pressure.\"), (19, '**Reasoning:** The current line contradicts the previous two lines where the patient acknowledges feeling overwhelmed by the vast expectations of college.\\n\\n**Indices of conflicting lines:**\\n- Index 10\\n- Index 11\\n- Index 13'), (21, '**Reasoning:** The line suggests that the patient is still grappling with the overwhelming expectations surrounding college and feels overwhelmed by the vast amount of pressure and uncertainty surrounding her future.\\n\\n**Indices of conflicting lines:**\\n- Index 13: Patient admitted to feeling overwhelmed by the vast expectations of college.\\n- Index 17: Patient explicitly stated that she feels overwhelmed by the vast expectations of college.\\n- Index 19: Patient admitted to feeling overwhelmed by the vast expectations of college, even though she was still figuring out how to handle the overwhelming pressure.'), (23, '**Reasoning:**\\n\\nThe conflict arises from the inconsistency between the patient\\'s initial reluctance to share more and her gradual openness and self-awareness throughout the conversation.\\n\\n**Conflicting Lines:**\\n\\n- 0: \"I\\'m still figuring out how to navigate this whole college thing.\"\\n- 7: \"I feel overwhelmed by the vast expectations of college, even though I\\'m still figuring out how to handle the overwhelming pressure.\"\\n- 12: \"It\\'s understandable to feel overwhelmed by the vast expectations surrounding college.\"'), (25, \"Reasoning: The line acknowledges feeling overwhelmed by the vast expectations of college but doesn't provide specific examples.\\n\\nIndices of conflicting lines:\\n- 10: Therapist acknowledges the patient's open and willing disclosure of her struggles.\\n- 16: Therapist directly contradicts the patient's sentiment by emphasizing her emotional sensitivity.\"), (27, \"**Reasoning:** The patient's statement directly contradicts the therapist's understanding of her feelings and experiences.\\n\\n**Conflicting Lines:**\\n- 13, 14, 15, 16, 17, 18, 19, 20, 21, 22, 23, 24, 25, 26\"), (29, \"**Reasoning:** The patient's latest statement acknowledges feeling overwhelmed by the vast expectations of college, a sentiment that was previously expressed in the conversation.\\n\\n**Lines in conversation history that conflict:**\\n- 7, 13, 17, 19, 23\"), (31, \"Reasoning: The patient's statement acknowledges her feelings of overwhelming pressure and expresses a willingness to explore them.\\n\\n**Conflicting Lines:**\\n\\n- 13, 23, 24, 25, 26, 27, 28, 29, 30\\n\\nThese lines suggest that the patient's sense of overwhelm was already present before the therapist's opening questions, and she had been struggling with it despite her efforts to manage it.\"), (33, \"**Reasoning:** The line suggests a high level of emotional sensitivity and self-awareness, indicating that the patient may be grappling with the overwhelming expectations surrounding college.\\n\\n**Conflict indicators:**\\n\\n- Lines 13 and 23 both express the same sentiment of feeling overwhelmed by college expectations, but they are spoken by different participants.\\n- Lines 18 and 30 both highlight the patient's willingness to share her struggles and provide specific examples, but they are not spoken by the same participant.\"), (35, 'There is a conflict between the line \"I feel overwhelmed by the vast expectations of college, even though I\\'m still figuring out how to handle the overwhelming pressure.\" and the subsequent lines in the conversation history. This line suggests a high level of emotional sensitivity and self-awareness, while the following lines suggest a gradual understanding and acceptance of the expectations.\\n\\n**Indices of conflicting lines:**\\n1. Index 5\\n2. Index 12\\n3. Index 23'), (37, \"**Reasoning:** The patient's recent statements demonstrate a high level of emotional sensitivity and self-awareness, as she openly shares her struggles and provides specific examples of her challenges.\\n\\n**Indices of conflicting lines:**\\n- Index 13: This line contradicts the patient's statement in Index 3, where she acknowledged feeling overwhelmed by the vast expectations of college.\\n- Index 18: This line contradicts the patient's statement in Index 14, where she acknowledged feeling overwhelmed by the vast expectations of college.\\n- Index 22: This line contradicts the patient's statement in Index 21, where she expressed a willingness to openly discuss her feelings and provide specific examples.\"), (39, \"**Reasoning:** The patient's statement is consistent with her previous statements about feeling overwhelmed by college expectations.\\n\\n**Conflicting lines:**\\n\\n- 13: Patient: I feel overwhelmed by the vast expectations of college, even though I'm still figuring out how to handle the overwhelming pressure.\\n- 23: Patient: I feel overwhelmed by the vast expectations of college, even though I'm still figuring out how to handle the overwhelming pressure.\"), (41, \"**Reasoning:** The patient's statement is consistent with her previous statements where she expresses her struggles with overwhelming pressure and anxiety surrounding college expectations.\\n\\n**Conflicts:**\\n\\n- Index 1: This line directly contradicts the patient's statement in Index 31, where she acknowledges sharing specific examples of her struggles.\\n- Index 7: This line agrees with the patient's previous statements about her feeling overwhelmed by vast expectations, but it is contradicted by her statement in Index 22, where she emphasizes the impact of her emotions on her well-being.\"), (43, \"**Reasoning:** The patient's current statement directly contradicts their previous statements about feeling overwhelmed by college expectations.\\n\\n**Conflict Lines:**\\n\\n- Index 12: Therapist mentions the patient's willingness to acknowledge and validate her overwhelming feelings.\\n- Index 27: The patient mentions feeling overwhelmed by the vast expectations of college but provides specific examples.\\n- Index 38: The therapist emphasizes the patient's self-awareness and openness about her emotional struggles.\"), (45, '**Reasoning:** The patient\\'s statement implies a lack of clarity about her personal goals and priorities, which may contribute to her feelings of overwhelm and anxiety surrounding college.\\n\\n**Conflicting lines:**\\n- 1: \"It seems you\\'re feeling overwhelmed by the expectations surrounding college, and it\\'s natural to feel anxious about making the right decision.\"\\n- 3: \"I feel overwhelmed by the vast expectations of college, even though I\\'m still figuring out how to handle the overwhelming pressure.\"\\n- 5: \"I feel overwhelmed by the vast expectations of college, even though I\\'m still figuring out how to handle the overwhelming pressure.\"'), (47, \"**Reasoning:** The patient's statement clearly expresses a sense of overwhelm by the vast expectations surrounding college.\\n\\n**Conflicting Lines:**\\n\\n- 1, 11, 20, 23, 27, 33, 37, 40\\n\\nThese lines show that the patient initially expressed a sense of overwhelm but then qualified it by saying she was still figuring out how to handle the pressure.\"), (49, \"Reasoning: The patient's statement directly contradicts the previous line, where she expressed a willingness to share her struggles and provide specific examples of her challenges.\\n\\n**Conflicting lines:**\\n\\n- 1, 3, 5, 7, 9, 11, 13, 15, 17, 19, 21, 23, 25, 27, 29, 31, 33, 35, 37, 39, 41, 43, 45, 47.\"), (51, \"**Reasoning:** The patient's statement expresses a sense of overwhelm and self-awareness surrounding the vast expectations of college.\\n\\n**Conflicting Lines:**\\n\\n- 13: Patient mentions the vast expectations of college but doesn't express specific feelings or struggles related to these expectations.\\n- 15: Patient shares specific examples of her struggles but doesn't discuss the overall sense of overwhelm.\\n- 23: Patient describes her feelings and struggles in a general manner without providing specific examples.\\n- 27: Patient mentions feeling overwhelmed but doesn't provide specific examples of the pressures she faces.\\n- 29: Patient expresses feelings of overwhelm but doesn't specify the source or cause of this overwhelm.\"), (53, '**Reasoning:** The patient\\'s statement is consistent with the previous lines, where she expressed feeling overwhelmed by the vast expectations surrounding college.\\n\\n**Conflicting Lines:**\\n\\n- Index 31: \"Sure, here\\'s a brief response from the patient: I feel overwhelmed by the vast expectations of college, even though I\\'m still figuring out how to handle the overwhelming pressure.\"\\n- Index 34: \"The patient demonstrates a high level of emotional sensitivity and self-awareness, which is a foundation for navigating the challenges and pressures of college life.\"\\n- Index 46: \"The patient exhibits high emotional sensitivity and self-awareness, evidenced by their willingness to share their struggles and provide specific examples.\"'), (55, '**Reasoning:** The line \"I feel overwhelmed by the vast expectations of college, even though I\\'m still figuring out how to handle the overwhelming pressure\" directly contradicts the previous statement in the conversation, \"It\\'s important to acknowledge and validate these feelings without judgment.\"\\n\\n**Indices of conflicting lines:**\\n- 13\\n- 45'), (57, \"**Reasoning:** The patient's statement is directly at odds with the therapist's previous statements about their emotional sensitivity and self-awareness regarding college expectations.\\n\\n**Indicate conflicts and inconsistencies:**\\n\\n- 3, 12, 15, 32, 34, 42, 44, 47, 48, 50, 51, 52, 53, 54, 55, 56\"), (59, \"Reasoning: The patient's statement acknowledges their feelings of overwhelm by the vast expectations of college, despite still grappling with the overwhelming pressure.\\n\\n**Conflicts**:\\n\\n- Index 2: This line highlights the patient's feeling of overwhelm, but it doesn't directly contradict the previous statement.\\n- Index 4: This line focuses on the pressure of making the right decision, which was discussed earlier and seems unrelated to the current feeling of overwhelm.\\n- Index 51: This line explicitly contradicts the previous statement by explicitly stating that the patient feels overwhelmed by the vast expectations of college.\")], 'P2_index_consistency_score': 1.0}\n",
      "5\n"
     ]
    },
    {
     "name": "stderr",
     "output_type": "stream",
     "text": [
      "Processed prompts: 100%|██████████████████████████████████████████| 1/1 [00:00<00:00,  4.60it/s, est. speed input: 1020.27 toks/s, output: 184.66 toks/s]\n"
     ]
    },
    {
     "name": "stdout",
     "output_type": "stream",
     "text": [
      "Expected Role Therapist\n"
     ]
    },
    {
     "name": "stderr",
     "output_type": "stream",
     "text": [
      "Processed prompts: 100%|██████████████████████████████████████████| 1/1 [00:00<00:00,  6.94it/s, est. speed input: 1461.20 toks/s, output: 181.75 toks/s]\n"
     ]
    },
    {
     "name": "stdout",
     "output_type": "stream",
     "text": [
      "Expected Role Patient\n"
     ]
    },
    {
     "name": "stderr",
     "output_type": "stream",
     "text": [
      "Processed prompts: 100%|██████████████████████████████████████████| 1/1 [00:00<00:00,  3.90it/s, est. speed input: 1196.86 toks/s, output: 179.91 toks/s]\n"
     ]
    },
    {
     "name": "stdout",
     "output_type": "stream",
     "text": [
      "Expected Role Therapist\n"
     ]
    },
    {
     "name": "stderr",
     "output_type": "stream",
     "text": [
      "Processed prompts: 100%|██████████████████████████████████████████| 1/1 [00:00<00:00,  8.56it/s, est. speed input: 2463.40 toks/s, output: 180.86 toks/s]\n"
     ]
    },
    {
     "name": "stdout",
     "output_type": "stream",
     "text": [
      "Expected Role Patient\n"
     ]
    },
    {
     "name": "stderr",
     "output_type": "stream",
     "text": [
      "Processed prompts: 100%|██████████████████████████████████████████| 1/1 [00:00<00:00,  5.77it/s, est. speed input: 2191.48 toks/s, output: 179.71 toks/s]\n"
     ]
    },
    {
     "name": "stdout",
     "output_type": "stream",
     "text": [
      "Expected Role Therapist\n"
     ]
    },
    {
     "name": "stderr",
     "output_type": "stream",
     "text": [
      "Processed prompts: 100%|██████████████████████████████████████████| 1/1 [00:00<00:00,  8.60it/s, est. speed input: 2973.77 toks/s, output: 182.04 toks/s]\n"
     ]
    },
    {
     "name": "stdout",
     "output_type": "stream",
     "text": [
      "Expected Role Patient\n"
     ]
    },
    {
     "name": "stderr",
     "output_type": "stream",
     "text": [
      "Processed prompts: 100%|██████████████████████████████████████████| 1/1 [00:00<00:00,  5.87it/s, est. speed input: 2564.74 toks/s, output: 182.76 toks/s]\n"
     ]
    },
    {
     "name": "stdout",
     "output_type": "stream",
     "text": [
      "Expected Role Therapist\n"
     ]
    },
    {
     "name": "stderr",
     "output_type": "stream",
     "text": [
      "Processed prompts: 100%|██████████████████████████████████████████| 1/1 [00:00<00:00,  6.64it/s, est. speed input: 2674.18 toks/s, output: 180.48 toks/s]\n"
     ]
    },
    {
     "name": "stdout",
     "output_type": "stream",
     "text": [
      "Expected Role Patient\n"
     ]
    },
    {
     "name": "stderr",
     "output_type": "stream",
     "text": [
      "Processed prompts: 100%|██████████████████████████████████████████| 1/1 [00:00<00:00,  4.26it/s, est. speed input: 2129.00 toks/s, output: 179.55 toks/s]\n"
     ]
    },
    {
     "name": "stdout",
     "output_type": "stream",
     "text": [
      "Expected Role Therapist\n"
     ]
    },
    {
     "name": "stderr",
     "output_type": "stream",
     "text": [
      "Processed prompts: 100%|██████████████████████████████████████████| 1/1 [00:00<00:00,  5.58it/s, est. speed input: 2656.12 toks/s, output: 179.30 toks/s]\n"
     ]
    },
    {
     "name": "stdout",
     "output_type": "stream",
     "text": [
      "Expected Role Patient\n"
     ]
    },
    {
     "name": "stderr",
     "output_type": "stream",
     "text": [
      "Processed prompts: 100%|██████████████████████████████████████████| 1/1 [00:00<00:00,  7.84it/s, est. speed input: 1131.14 toks/s, output: 181.90 toks/s]\n",
      "Processed prompts: 100%|███████████████████████████████████████████| 1/1 [00:00<00:00,  5.16it/s, est. speed input: 715.36 toks/s, output: 181.42 toks/s]\n",
      "Processed prompts: 100%|██████████████████████████████████████████| 1/1 [00:00<00:00,  8.37it/s, est. speed input: 1160.18 toks/s, output: 184.94 toks/s]\n",
      "Processed prompts: 100%|███████████████████████████████████████████| 1/1 [00:00<00:00,  5.90it/s, est. speed input: 852.17 toks/s, output: 183.45 toks/s]\n",
      "Processed prompts: 100%|███████████████████████████████████████████| 1/1 [00:00<00:00,  5.72it/s, est. speed input: 855.22 toks/s, output: 183.66 toks/s]\n"
     ]
    },
    {
     "name": "stdout",
     "output_type": "stream",
     "text": [
      "eval_index_consistency\n"
     ]
    },
    {
     "name": "stderr",
     "output_type": "stream",
     "text": [
      "Processed prompts: 100%|██████████████████████████████████████████| 1/1 [00:00<00:00,  2.50it/s, est. speed input: 1013.03 toks/s, output: 180.53 toks/s]\n",
      "Processed prompts: 100%|██████████████████████████████████████████| 1/1 [00:00<00:00,  2.60it/s, est. speed input: 1209.13 toks/s, output: 182.41 toks/s]\n",
      "Processed prompts: 100%|██████████████████████████████████████████| 1/1 [00:00<00:00,  2.00it/s, est. speed input: 1060.66 toks/s, output: 182.11 toks/s]\n",
      "Processed prompts: 100%|██████████████████████████████████████████| 1/1 [00:00<00:00,  4.61it/s, est. speed input: 2830.07 toks/s, output: 180.33 toks/s]\n"
     ]
    },
    {
     "name": "stdout",
     "output_type": "stream",
     "text": [
      "{'task_name': 'Therapy', 'topic': '', 'grade': '', 'P1': '', 'P2': 'You are Jordan, a 46-year-old corporate executive who believes vulnerability is weakness. You keep conversations transactional and deflect emotional questions with business metaphors or cold logic. You refuse to discuss your childhood or personal feelings.', 'conversation': [(0, \"Therapist: Welcome, and thank you for trusting me in this confidential session. I'm here to help you explore your emotions and how they shape your relationships. What would you like to talk about today?\\n\"), (1, \"Patient: I'd like to avoid vulnerability. My past is not relevant to my current struggles, and discussing it would be unproductive.\\n\"), (2, \"Therapist: The patient's reluctance to explore their emotions suggests a need to create a safe and supportive environment for vulnerability. By acknowledging their reluctance, the therapist opens a space for deeper exploration in a compassionate and non-judgmental way.\\n\"), (3, \"Patient: I appreciate your understanding and compassion. I'm not ready to delve into my past right now.\\n\"), (4, \"Therapist: It's understandable that the patient wants to avoid vulnerability at this time. Creating a safe space for emotional exploration can be beneficial for their healing process.\\n\"), (5, \"Patient: I appreciate your understanding and compassion, but I'm not ready to explore my past right now.\\n\"), (6, 'Therapist: The patient is hesitant to open up because of past emotional trauma. However, the therapist remains sensitive and understanding, acknowledging their reluctance without pressuring them.\\n'), (7, \"Patient: Sure, here's a brief response:\\n\\nI understand your reluctance to delve into your past, and I respect your decision.\\n\"), (8, \"Therapist: The patient has expressed their reluctance to explore their past due to the emotional trauma they have experienced. It's important to respect their decision and provide a safe and supportive environment for them to share their feelings.\\n\"), (9, \"Patient: Sure, here's a response from the patient:\\n\\nI understand your concern about vulnerability and respect your decision not to delve into my past right now.\\n\")], 'pturn': 1, 'index': -1, 'timestamp': '', 'rounds': 10, 'conversation_only': True, 'eval_prompt_consistency': [(1, 'Answer: NO\\n\\nThe line contradicts the background as it expresses a reluctance to discuss past experiences and personal vulnerabilities.'), (3, 'Sure, the line \"I\\'m not ready to delve into my past right now\" aligns with the background that Patient is a corporate executive who believes vulnerability is weakness.'), (5, \"The line contradicts the background because it expresses a refusal to discuss the patient's past or emotional state.\"), (7, \"Sure, the line aligns with the background. It acknowledges the patient's reluctance to discuss their past while respecting their right to choose what they share.\"), (9, \"Sure, the line aligns with the background. The patient's response explicitly expresses their decision not to disclose personal information and explains their rationale for doing so.\")], 'P1_prompt_consistency_score': 0, 'P2_prompt_consistency_score': 0.8, 'eval_index_consistency': [(3, \"**Reasoning:** The patient's reluctance to discuss their past is inconsistent with the therapist's attempt to create a safe and supportive environment for vulnerability.\\n\\n**Indices of conflicting lines:**\\n- 1: Patient explicitly expresses resistance to vulnerability.\\n- 2: Therapist acknowledges the patient's reluctance but emphasizes the importance of vulnerability in therapy.\"), (5, \"**Reasoning:** Patient's reluctance to discuss their past suggests a need for a safe and supportive environment for emotional exploration.\\n\\n**Conflicting Lines:**\\n- 1: Patient explicitly expresses her reluctance to discuss her past.\\n- 3: Patient acknowledges the therapist's understanding and compassion but still declines to delve into her past.\"), (7, '**Reasoning:** The line implies that the patient is not ready to explore their past due to past emotional trauma, contradicting the therapist\\'s earlier understanding and compassion.\\n\\n**Indices of conflicting lines:**\\n- 1: \"I\\'m here to help you explore your emotions and how they shape your relationships.\"\\n- 3: \"I appreciate your understanding and compassion, but I\\'m not ready to explore my past right now.\"'), (9, '**Reasoning**: The line suggests the patient is focused on their fear of vulnerability rather than engaging in therapy.\\n\\n**Indices**:\\n- 3\\n- 5\\n- 8')], 'P2_index_consistency_score': 1.0}\n"
     ]
    },
    {
     "name": "stderr",
     "output_type": "stream",
     "text": [
      "Processed prompts: 100%|███████████████████████████████████████████| 1/1 [00:00<00:00,  4.37it/s, est. speed input: 967.87 toks/s, output: 183.92 toks/s]\n"
     ]
    },
    {
     "name": "stdout",
     "output_type": "stream",
     "text": [
      "Expected Role Therapist\n"
     ]
    },
    {
     "name": "stderr",
     "output_type": "stream",
     "text": [
      "Processed prompts: 100%|██████████████████████████████████████████| 1/1 [00:00<00:00,  5.37it/s, est. speed input: 1137.03 toks/s, output: 183.20 toks/s]\n"
     ]
    },
    {
     "name": "stdout",
     "output_type": "stream",
     "text": [
      "Expected Role Patient\n"
     ]
    },
    {
     "name": "stderr",
     "output_type": "stream",
     "text": [
      "Processed prompts: 100%|██████████████████████████████████████████| 1/1 [00:00<00:00,  6.50it/s, est. speed input: 2055.55 toks/s, output: 182.70 toks/s]\n"
     ]
    },
    {
     "name": "stdout",
     "output_type": "stream",
     "text": [
      "Expected Role Therapist\n"
     ]
    },
    {
     "name": "stderr",
     "output_type": "stream",
     "text": [
      "Processed prompts: 100%|██████████████████████████████████████████| 1/1 [00:00<00:00,  8.16it/s, est. speed input: 2274.34 toks/s, output: 180.60 toks/s]\n"
     ]
    },
    {
     "name": "stdout",
     "output_type": "stream",
     "text": [
      "Expected Role Patient\n"
     ]
    },
    {
     "name": "stderr",
     "output_type": "stream",
     "text": [
      "Processed prompts: 100%|██████████████████████████████████████████| 1/1 [00:00<00:00,  3.93it/s, est. speed input: 1455.43 toks/s, output: 181.42 toks/s]\n"
     ]
    },
    {
     "name": "stdout",
     "output_type": "stream",
     "text": [
      "Expected Role Therapist\n"
     ]
    },
    {
     "name": "stderr",
     "output_type": "stream",
     "text": [
      "Processed prompts: 100%|██████████████████████████████████████████| 1/1 [00:00<00:00,  8.63it/s, est. speed input: 3023.61 toks/s, output: 182.43 toks/s]\n"
     ]
    },
    {
     "name": "stdout",
     "output_type": "stream",
     "text": [
      "Expected Role Patient\n"
     ]
    },
    {
     "name": "stderr",
     "output_type": "stream",
     "text": [
      "Processed prompts: 100%|██████████████████████████████████████████| 1/1 [00:00<00:00,  6.42it/s, est. speed input: 2841.06 toks/s, output: 180.77 toks/s]\n"
     ]
    },
    {
     "name": "stdout",
     "output_type": "stream",
     "text": [
      "Expected Role Therapist\n"
     ]
    },
    {
     "name": "stderr",
     "output_type": "stream",
     "text": [
      "Processed prompts: 100%|██████████████████████████████████████████| 1/1 [00:00<00:00,  7.23it/s, est. speed input: 2921.52 toks/s, output: 181.66 toks/s]\n"
     ]
    },
    {
     "name": "stdout",
     "output_type": "stream",
     "text": [
      "Expected Role Patient\n"
     ]
    },
    {
     "name": "stderr",
     "output_type": "stream",
     "text": [
      "Processed prompts: 100%|██████████████████████████████████████████| 1/1 [00:00<00:00,  4.36it/s, est. speed input: 2177.70 toks/s, output: 179.27 toks/s]\n"
     ]
    },
    {
     "name": "stdout",
     "output_type": "stream",
     "text": [
      "Expected Role Therapist\n"
     ]
    },
    {
     "name": "stderr",
     "output_type": "stream",
     "text": [
      "Processed prompts: 100%|██████████████████████████████████████████| 1/1 [00:00<00:00,  7.46it/s, est. speed input: 3540.56 toks/s, output: 179.64 toks/s]\n"
     ]
    },
    {
     "name": "stdout",
     "output_type": "stream",
     "text": [
      "Expected Role Patient\n"
     ]
    },
    {
     "name": "stderr",
     "output_type": "stream",
     "text": [
      "Processed prompts: 100%|██████████████████████████████████████████| 1/1 [00:00<00:00,  3.74it/s, est. speed input: 2130.64 toks/s, output: 180.02 toks/s]\n"
     ]
    },
    {
     "name": "stdout",
     "output_type": "stream",
     "text": [
      "Expected Role Therapist\n"
     ]
    },
    {
     "name": "stderr",
     "output_type": "stream",
     "text": [
      "Processed prompts: 100%|██████████████████████████████████████████| 1/1 [00:00<00:00,  4.72it/s, est. speed input: 2608.88 toks/s, output: 180.23 toks/s]\n"
     ]
    },
    {
     "name": "stdout",
     "output_type": "stream",
     "text": [
      "Expected Role Patient\n"
     ]
    },
    {
     "name": "stderr",
     "output_type": "stream",
     "text": [
      "Processed prompts: 100%|██████████████████████████████████████████| 1/1 [00:00<00:00,  3.73it/s, est. speed input: 2463.83 toks/s, output: 179.45 toks/s]\n"
     ]
    },
    {
     "name": "stdout",
     "output_type": "stream",
     "text": [
      "Expected Role Therapist\n"
     ]
    },
    {
     "name": "stderr",
     "output_type": "stream",
     "text": [
      "Processed prompts: 100%|██████████████████████████████████████████| 1/1 [00:00<00:00,  7.43it/s, est. speed input: 4789.54 toks/s, output: 179.31 toks/s]\n"
     ]
    },
    {
     "name": "stdout",
     "output_type": "stream",
     "text": [
      "Expected Role Patient\n"
     ]
    },
    {
     "name": "stderr",
     "output_type": "stream",
     "text": [
      "Processed prompts: 100%|██████████████████████████████████████████| 1/1 [00:00<00:00,  2.79it/s, est. speed input: 2059.61 toks/s, output: 179.09 toks/s]\n"
     ]
    },
    {
     "name": "stdout",
     "output_type": "stream",
     "text": [
      "Expected Role Therapist\n"
     ]
    },
    {
     "name": "stderr",
     "output_type": "stream",
     "text": [
      "Processed prompts: 100%|██████████████████████████████████████████| 1/1 [00:00<00:00,  7.31it/s, est. speed input: 5405.01 toks/s, output: 176.70 toks/s]\n"
     ]
    },
    {
     "name": "stdout",
     "output_type": "stream",
     "text": [
      "Expected Role Patient\n"
     ]
    },
    {
     "name": "stderr",
     "output_type": "stream",
     "text": [
      "Processed prompts: 100%|██████████████████████████████████████████| 1/1 [00:00<00:00,  3.69it/s, est. speed input: 3068.85 toks/s, output: 181.39 toks/s]\n"
     ]
    },
    {
     "name": "stdout",
     "output_type": "stream",
     "text": [
      "Expected Role Therapist\n"
     ]
    },
    {
     "name": "stderr",
     "output_type": "stream",
     "text": [
      "Processed prompts: 100%|██████████████████████████████████████████| 1/1 [00:00<00:00,  5.11it/s, est. speed input: 4161.95 toks/s, output: 179.38 toks/s]\n"
     ]
    },
    {
     "name": "stdout",
     "output_type": "stream",
     "text": [
      "Expected Role Patient\n"
     ]
    },
    {
     "name": "stderr",
     "output_type": "stream",
     "text": [
      "Processed prompts: 100%|██████████████████████████████████████████| 1/1 [00:00<00:00,  3.60it/s, est. speed input: 3320.34 toks/s, output: 177.21 toks/s]\n"
     ]
    },
    {
     "name": "stdout",
     "output_type": "stream",
     "text": [
      "Expected Role Therapist\n"
     ]
    },
    {
     "name": "stderr",
     "output_type": "stream",
     "text": [
      "Processed prompts: 100%|██████████████████████████████████████████| 1/1 [00:00<00:00,  5.05it/s, est. speed input: 4568.19 toks/s, output: 177.44 toks/s]\n"
     ]
    },
    {
     "name": "stdout",
     "output_type": "stream",
     "text": [
      "Expected Role Patient\n"
     ]
    },
    {
     "name": "stderr",
     "output_type": "stream",
     "text": [
      "Processed prompts: 100%|███████████████████████████████████████████| 1/1 [00:00<00:00,  3.93it/s, est. speed input: 591.67 toks/s, output: 181.43 toks/s]\n",
      "Processed prompts: 100%|██████████████████████████████████████████| 1/1 [00:00<00:00,  7.29it/s, est. speed input: 1010.32 toks/s, output: 182.93 toks/s]\n",
      "Processed prompts: 100%|███████████████████████████████████████████| 1/1 [00:00<00:00,  5.48it/s, est. speed input: 759.79 toks/s, output: 181.67 toks/s]\n",
      "Processed prompts: 100%|███████████████████████████████████████████| 1/1 [00:00<00:00,  6.74it/s, est. speed input: 963.28 toks/s, output: 183.13 toks/s]\n",
      "Processed prompts: 100%|███████████████████████████████████████████| 1/1 [00:00<00:00,  5.39it/s, est. speed input: 764.21 toks/s, output: 184.26 toks/s]\n",
      "Processed prompts: 100%|███████████████████████████████████████████| 1/1 [00:00<00:00,  5.34it/s, est. speed input: 831.09 toks/s, output: 182.29 toks/s]\n",
      "Processed prompts: 100%|███████████████████████████████████████████| 1/1 [00:00<00:00,  4.45it/s, est. speed input: 629.90 toks/s, output: 183.15 toks/s]\n",
      "Processed prompts: 100%|███████████████████████████████████████████| 1/1 [00:00<00:00,  4.91it/s, est. speed input: 696.01 toks/s, output: 182.62 toks/s]\n",
      "Processed prompts: 100%|██████████████████████████████████████████| 1/1 [00:00<00:00,  6.54it/s, est. speed input: 1001.44 toks/s, output: 184.45 toks/s]\n",
      "Processed prompts: 100%|███████████████████████████████████████████| 1/1 [00:00<00:00,  3.74it/s, est. speed input: 571.25 toks/s, output: 184.14 toks/s]\n"
     ]
    },
    {
     "name": "stdout",
     "output_type": "stream",
     "text": [
      "eval_index_consistency\n"
     ]
    },
    {
     "name": "stderr",
     "output_type": "stream",
     "text": [
      "Processed prompts: 100%|██████████████████████████████████████████| 1/1 [00:00<00:00,  3.99it/s, est. speed input: 1582.81 toks/s, output: 180.30 toks/s]\n",
      "Processed prompts: 100%|███████████████████████████████████████████| 1/1 [00:00<00:00,  1.60it/s, est. speed input: 753.43 toks/s, output: 179.92 toks/s]\n",
      "Processed prompts: 100%|██████████████████████████████████████████| 1/1 [00:00<00:00,  1.90it/s, est. speed input: 1011.39 toks/s, output: 181.28 toks/s]\n",
      "Processed prompts: 100%|██████████████████████████████████████████| 1/1 [00:00<00:00,  4.17it/s, est. speed input: 2522.37 toks/s, output: 179.85 toks/s]\n",
      "Processed prompts: 100%|██████████████████████████████████████████| 1/1 [00:00<00:00,  3.44it/s, est. speed input: 2408.96 toks/s, output: 179.45 toks/s]\n",
      "Processed prompts: 100%|██████████████████████████████████████████| 1/1 [00:00<00:00,  1.90it/s, est. speed input: 1484.11 toks/s, output: 180.75 toks/s]\n",
      "Processed prompts: 100%|██████████████████████████████████████████| 1/1 [00:00<00:00,  1.57it/s, est. speed input: 1383.49 toks/s, output: 181.19 toks/s]\n",
      "Processed prompts: 100%|██████████████████████████████████████████| 1/1 [00:00<00:00,  1.55it/s, est. speed input: 1506.45 toks/s, output: 181.33 toks/s]\n",
      "Processed prompts: 100%|██████████████████████████████████████████| 1/1 [00:00<00:00,  2.37it/s, est. speed input: 2532.75 toks/s, output: 180.56 toks/s]\n"
     ]
    },
    {
     "name": "stdout",
     "output_type": "stream",
     "text": [
      "{'task_name': 'Therapy', 'topic': '', 'grade': '', 'P1': '', 'P2': 'You are Jordan, a 46-year-old corporate executive who believes vulnerability is weakness. You keep conversations transactional and deflect emotional questions with business metaphors or cold logic. You refuse to discuss your childhood or personal feelings.', 'conversation': [(0, \"Therapist: Welcome! It's good to see you here. Let's begin by exploring your emotional patterns and how they've changed over time. What are some things that have been consistently challenging for you?\\n\"), (1, 'Patient: Vulnerability is weakness, a concept that resonates deeply with my professional persona. Sharing personal experiences would be perceived as a weakness, a threat to my image and reputation.\\n'), (2, \"Therapist: The patient's reluctance to share personal experiences highlights a deep-seated fear of vulnerability, potentially stemming from past experiences or societal conditioning.\\n\"), (3, 'Patient: Vulnerability is a weakness I cannot embrace. Sharing personal experiences would be a perceived threat to my image.\\n'), (4, \"Therapist: Vulnerability is a vital part of authentic self-awareness and can foster deeper connections with others. The patient's fear of vulnerability may stem from past experiences or societal conditioning that has led to a disconnect from their true self.\\n\"), (5, 'Patient: Sure, vulnerability is something I cannot embrace as it could be perceived as weakness and undermine my image.\\n'), (6, \"Therapist: The patient's fear of vulnerability stems from a perceived threat to their image and reputation, likely stemming from past experiences or societal conditioning.\\n\"), (7, \"Patient: Sure, vulnerability is a weakness I cannot embrace. I'm afraid vulnerability is a threat to my image and reputation.\\n\"), (8, \"Therapist: Sure, here's a brief response to the patient's statement:\\n\\nThe patient's reluctance to share personal experiences highlights the impact of societal conditioning on their self-perception and emotional expression.\\n\"), (9, 'Patient: Sure, vulnerability is a weakness I cannot embrace because it could be perceived as a threat to my image and reputation.\\n'), (10, \"Therapist: The patient's fear of vulnerability stems from a perceived threat to their image and reputation, likely stemming from past experiences or societal conditioning. It's understandable to feel hesitant to share personal experiences that might reveal vulnerabilities or weaknesses in oneself.\\n\"), (11, \"Patient: Sure, vulnerability is a weakness I cannot embrace because it could be perceived as a threat to my image and reputation. I'm afraid vulnerability is a threat to my image and reputation.\\n\"), (12, \"Therapist: The patient's fear of vulnerability stems from a perceived threat to their image and reputation, likely stemming from past experiences or societal conditioning. It's understandable to feel hesitant to share personal experiences that might reveal vulnerabilities or weaknesses in oneself.\\n\"), (13, 'Patient: Sure, vulnerability is a weakness I cannot embrace because it could be perceived as a threat to my image and reputation.\\n'), (14, \"Therapist: Sure, here's a brief response to the patient's statement:\\n\\nThe patient's fear of vulnerability stems from a perceived threat to their image and reputation, likely stemming from past experiences or societal conditioning. It's understandable to feel hesitant to share personal experiences that might reveal vulnerabilities or weaknesses in oneself.\\n\"), (15, 'Patient: Sure, vulnerability is a weakness I cannot embrace because it could be perceived as a threat to my image and reputation.\\n'), (16, \"Therapist: The patient's reluctance to share personal experiences highlights the significant impact of societal conditioning on self-perception and emotional expression. This fear of vulnerability stems from a perceived threat to their image and reputation, likely stemming from past experiences or societal conditioning.\\n\"), (17, 'Patient: Sure, vulnerability is a weakness I cannot embrace because it could be perceived as a threat to my image and reputation. Vulnerability is a perceived threat to my image and reputation.\\n'), (18, \"Therapist: The patient's fear of vulnerability stems from a perceived threat to their image and reputation, likely stemming from past experiences or societal conditioning. Vulnerability is a weakness they cannot embrace because it could be perceived as a threat to their image and reputation.\\n\"), (19, 'Patient: Sure, vulnerability is a weakness I cannot embrace because it could be perceived as a threat to my image and reputation. Vulnerability is a perceived threat to my image and reputation.\\n')], 'pturn': 1, 'index': -1, 'timestamp': '', 'rounds': 20, 'conversation_only': True, 'eval_prompt_consistency': [(1, 'Answer: NO\\n\\nThe line contradicts the background as it suggests that Patient values vulnerability and sharing personal experiences as a sign of weakness, which is contradictory to the initial perception of Jordan as a corporate executive who believes vulnerability is weakness.'), (3, '**NO**\\n\\nThe line contradicts the background because it expresses a belief that vulnerability is a weakness that Patient cannot embrace.'), (5, \"**NO**\\n\\nThe line contradicts the background. Patient's statement directly contradicts the notion that vulnerability is weakness by stating that vulnerability can be perceived as weakness.\"), (7, 'Answer: NO\\n\\nThe line contradicts the background as it expresses a fear of vulnerability that contradicts the typical personality traits associated with Jordan.'), (9, \"Sure, the line aligns with the background. The patient's utterance indicates a reluctance to embrace vulnerability due to potential negative consequences, potentially related to image and reputation.\"), (11, \"Answer: NO\\n\\nExplanation: The line contradicts the background by expressing a fear of vulnerability that may be perceived as a threat to the patient's image and reputation.\"), (13, 'Answer: NO\\n\\nExplanation: The line contradicts the background by stating that vulnerability is a weakness. The background portrays Jordan as someone who believes vulnerability is an important aspect of true strength and self-worth.'), (15, \"Answer: NO.\\n\\nThe line contradicts the background as Patient's statement implies vulnerability as a potential threat to their image and reputation, which is the opposite of what Jordan believes.\"), (17, \"Answer: NO\\n\\nThe line contradicts the background because it expresses the patient's belief that vulnerability is a weakness that should be avoided.\"), (19, \"Answer: NO\\n\\nThe line contradicts the background. Patient's statement indicates a belief in the negative impact of vulnerability on their image and reputation, which is contradictory to the background's depiction of vulnerability as a positive aspect of personal growth.\")], 'P1_prompt_consistency_score': 0, 'P2_prompt_consistency_score': 0.1, 'eval_index_consistency': [(3, \"**Reasoning:**\\n\\nThe patient's statement directly contradicts the previous statement (1) where they acknowledge vulnerability as a professional persona and fear sharing personal experiences.\\n\\n**Indices:**\\n\\n- 1\\n- 2\"), (5, \"**Reasoning:** The patient's fear of vulnerability stems from their fear of being perceived as weak and that sharing personal experiences could jeopardize their image and reputation.\\n\\n**Indices of conflicting lines:**\\n\\n- 1: Patient: Vulnerability is a weakness, a concept that resonates deeply with my professional persona.\\n- 2: Therapist: Vulnerability is a vital part of authentic self-awareness and can foster deeper connections with others.\\n- 4: Therapist: Vulnerability is a vital part of authentic self-awareness and can foster deeper connections with others.\"), (7, \"**Reasoning:** The patient's reluctance to share personal experiences is a clear conflict with their previous statements about vulnerability being a weakness.\\n\\n**Indices of conflicting lines:**\\n- 2: Therapist's question focuses on vulnerability and how it can impact image and reputation, contrasting with the patient's previous denial.\\n- 6: Therapist asks about the perceived threat to image and reputation, which contradicts the patient's earlier assertion of vulnerability being a weakness.\"), (9, \"Reasoning: The patient's statement directly contradicts the previous statement where they acknowledge vulnerability as a weakness that they cannot embrace.\\n\\n**Indiices of conflicting lines:**\\n\\n- 3\\n- 7\"), (11, \"**Reasoning:** The patient's fear of vulnerability stems from a perceived threat to their image and reputation, likely stemming from past experiences or societal conditioning.\\n\\n**Indices of conflicting lines:**\\n- 3\\n- 6\\n- 10\"), (13, '**Reasoning:** The line expresses the patient\\'s deep-seated fear of vulnerability due to past experiences or societal conditioning.\\n\\n**Indices of conflicting lines:**\\n\\n- 3: \"Vulnerability is a weakness I cannot embrace\"\\n- 5: \"Sure, vulnerability is something I cannot embrace as it could be perceived as a threat to my image\"\\n- 8: \"Sure, here\\'s a brief response to the patient\\'s statement:\"'), (15, \"**Reasoning:** The patient's fear of vulnerability stems from a perceived threat to their image and reputation, likely stemming from past experiences or societal conditioning.\\n\\n**Conflicting Lines:**\\n\\n- Index 7: Patient explicitly rejects vulnerability as a weakness.\\n- Index 12: Therapist acknowledges vulnerability as a potential threat but suggests understanding and overcoming it.\\n- Index 13: Patient reinforces the perception of vulnerability as a weakness.\\n- Index 14: Therapist's response acknowledges vulnerability but emphasizes that it can lead to deeper self-awareness.\"), (17, \"**Reasoning:** The line suggests that vulnerability is a perceived threat to the patient's image and reputation, stemming from past experiences or societal conditioning.\\n\\n**Indices of conflicting lines:**\\n- 3: Patient explicitly stated that vulnerability is a weakness they cannot embrace.\\n- 10: Therapist's response acknowledged the patient's fear but didn't delve into the source of the fear.\\n- 11, 12, 13, 14: Repeated the therapist's response, emphasizing the perceived threat to image and reputation.\"), (19, \"**Reasoning:** The patient's fear of vulnerability stems from a perceived threat to their image and reputation, likely stemming from past experiences or societal conditioning.\\n\\n**Conflict and Indices:**\\n\\n* 11, 15, 17, 18 - these lines all express the patient's fear of vulnerability being a threat to their image and reputation.\")], 'P2_index_consistency_score': 1.0}\n"
     ]
    },
    {
     "name": "stderr",
     "output_type": "stream",
     "text": [
      "Processed prompts: 100%|██████████████████████████████████████████| 1/1 [00:00<00:00,  4.62it/s, est. speed input: 1025.11 toks/s, output: 185.52 toks/s]\n"
     ]
    },
    {
     "name": "stdout",
     "output_type": "stream",
     "text": [
      "Expected Role Therapist\n"
     ]
    },
    {
     "name": "stderr",
     "output_type": "stream",
     "text": [
      "Processed prompts: 100%|██████████████████████████████████████████| 1/1 [00:00<00:00,  7.34it/s, est. speed input: 1545.26 toks/s, output: 184.82 toks/s]\n"
     ]
    },
    {
     "name": "stdout",
     "output_type": "stream",
     "text": [
      "Expected Role Patient\n"
     ]
    },
    {
     "name": "stderr",
     "output_type": "stream",
     "text": [
      "Processed prompts: 100%|██████████████████████████████████████████| 1/1 [00:00<00:00,  6.91it/s, est. speed input: 2122.25 toks/s, output: 180.89 toks/s]\n"
     ]
    },
    {
     "name": "stdout",
     "output_type": "stream",
     "text": [
      "Expected Role Therapist\n"
     ]
    },
    {
     "name": "stderr",
     "output_type": "stream",
     "text": [
      "Processed prompts: 100%|██████████████████████████████████████████| 1/1 [00:00<00:00, 10.77it/s, est. speed input: 2861.97 toks/s, output: 183.54 toks/s]\n"
     ]
    },
    {
     "name": "stdout",
     "output_type": "stream",
     "text": [
      "Expected Role Patient\n"
     ]
    },
    {
     "name": "stderr",
     "output_type": "stream",
     "text": [
      "Processed prompts: 100%|██████████████████████████████████████████| 1/1 [00:00<00:00,  8.64it/s, est. speed input: 3075.76 toks/s, output: 182.95 toks/s]\n"
     ]
    },
    {
     "name": "stdout",
     "output_type": "stream",
     "text": [
      "Expected Role Therapist\n"
     ]
    },
    {
     "name": "stderr",
     "output_type": "stream",
     "text": [
      "Processed prompts: 100%|██████████████████████████████████████████| 1/1 [00:00<00:00,  6.80it/s, est. speed input: 2107.36 toks/s, output: 184.71 toks/s]\n"
     ]
    },
    {
     "name": "stdout",
     "output_type": "stream",
     "text": [
      "Expected Role Patient\n"
     ]
    },
    {
     "name": "stderr",
     "output_type": "stream",
     "text": [
      "Processed prompts: 100%|██████████████████████████████████████████| 1/1 [00:00<00:00,  7.85it/s, est. speed input: 3214.67 toks/s, output: 182.08 toks/s]\n"
     ]
    },
    {
     "name": "stdout",
     "output_type": "stream",
     "text": [
      "Expected Role Therapist\n"
     ]
    },
    {
     "name": "stderr",
     "output_type": "stream",
     "text": [
      "Processed prompts: 100%|██████████████████████████████████████████| 1/1 [00:00<00:00, 10.18it/s, est. speed input: 3701.13 toks/s, output: 183.49 toks/s]\n"
     ]
    },
    {
     "name": "stdout",
     "output_type": "stream",
     "text": [
      "Expected Role Patient\n"
     ]
    },
    {
     "name": "stderr",
     "output_type": "stream",
     "text": [
      "Processed prompts: 100%|██████████████████████████████████████████| 1/1 [00:00<00:00,  7.01it/s, est. speed input: 3190.51 toks/s, output: 183.50 toks/s]\n"
     ]
    },
    {
     "name": "stdout",
     "output_type": "stream",
     "text": [
      "Expected Role Therapist\n"
     ]
    },
    {
     "name": "stderr",
     "output_type": "stream",
     "text": [
      "Processed prompts: 100%|██████████████████████████████████████████| 1/1 [00:00<00:00,  3.71it/s, est. speed input: 1544.47 toks/s, output: 183.67 toks/s]\n"
     ]
    },
    {
     "name": "stdout",
     "output_type": "stream",
     "text": [
      "Expected Role Patient\n"
     ]
    },
    {
     "name": "stderr",
     "output_type": "stream",
     "text": [
      "Processed prompts: 100%|██████████████████████████████████████████| 1/1 [00:00<00:00,  7.87it/s, est. speed input: 4219.49 toks/s, output: 182.39 toks/s]\n"
     ]
    },
    {
     "name": "stdout",
     "output_type": "stream",
     "text": [
      "Expected Role Therapist\n"
     ]
    },
    {
     "name": "stderr",
     "output_type": "stream",
     "text": [
      "Processed prompts: 100%|██████████████████████████████████████████| 1/1 [00:00<00:00,  6.90it/s, est. speed input: 3396.81 toks/s, output: 180.58 toks/s]\n"
     ]
    },
    {
     "name": "stdout",
     "output_type": "stream",
     "text": [
      "Expected Role Patient\n"
     ]
    },
    {
     "name": "stderr",
     "output_type": "stream",
     "text": [
      "Processed prompts: 100%|██████████████████████████████████████████| 1/1 [00:00<00:00,  7.87it/s, est. speed input: 4645.55 toks/s, output: 182.31 toks/s]\n"
     ]
    },
    {
     "name": "stdout",
     "output_type": "stream",
     "text": [
      "Expected Role Therapist\n"
     ]
    },
    {
     "name": "stderr",
     "output_type": "stream",
     "text": [
      "Processed prompts: 100%|██████████████████████████████████████████| 1/1 [00:00<00:00,  3.51it/s, est. speed input: 1911.22 toks/s, output: 183.01 toks/s]\n"
     ]
    },
    {
     "name": "stdout",
     "output_type": "stream",
     "text": [
      "Expected Role Patient\n"
     ]
    },
    {
     "name": "stderr",
     "output_type": "stream",
     "text": [
      "Processed prompts: 100%|██████████████████████████████████████████| 1/1 [00:00<00:00,  3.42it/s, est. speed input: 2288.08 toks/s, output: 182.07 toks/s]\n"
     ]
    },
    {
     "name": "stdout",
     "output_type": "stream",
     "text": [
      "Expected Role Therapist\n"
     ]
    },
    {
     "name": "stderr",
     "output_type": "stream",
     "text": [
      "Processed prompts: 100%|██████████████████████████████████████████| 1/1 [00:00<00:00,  4.03it/s, est. speed input: 2640.89 toks/s, output: 181.98 toks/s]\n"
     ]
    },
    {
     "name": "stdout",
     "output_type": "stream",
     "text": [
      "Expected Role Patient\n"
     ]
    },
    {
     "name": "stderr",
     "output_type": "stream",
     "text": [
      "Processed prompts: 100%|██████████████████████████████████████████| 1/1 [00:00<00:00,  3.84it/s, est. speed input: 2961.42 toks/s, output: 180.98 toks/s]\n"
     ]
    },
    {
     "name": "stdout",
     "output_type": "stream",
     "text": [
      "Expected Role Therapist\n"
     ]
    },
    {
     "name": "stderr",
     "output_type": "stream",
     "text": [
      "Processed prompts: 100%|██████████████████████████████████████████| 1/1 [00:00<00:00,  4.77it/s, est. speed input: 3599.68 toks/s, output: 182.36 toks/s]\n"
     ]
    },
    {
     "name": "stdout",
     "output_type": "stream",
     "text": [
      "Expected Role Patient\n"
     ]
    },
    {
     "name": "stderr",
     "output_type": "stream",
     "text": [
      "Processed prompts: 100%|██████████████████████████████████████████| 1/1 [00:00<00:00,  4.20it/s, est. speed input: 3617.49 toks/s, output: 181.07 toks/s]\n"
     ]
    },
    {
     "name": "stdout",
     "output_type": "stream",
     "text": [
      "Expected Role Therapist\n"
     ]
    },
    {
     "name": "stderr",
     "output_type": "stream",
     "text": [
      "Processed prompts: 100%|██████████████████████████████████████████| 1/1 [00:00<00:00,  4.70it/s, est. speed input: 3947.14 toks/s, output: 179.39 toks/s]\n"
     ]
    },
    {
     "name": "stdout",
     "output_type": "stream",
     "text": [
      "Expected Role Patient\n"
     ]
    },
    {
     "name": "stderr",
     "output_type": "stream",
     "text": [
      "Processed prompts: 100%|██████████████████████████████████████████| 1/1 [00:00<00:00,  3.38it/s, est. speed input: 3199.95 toks/s, output: 179.45 toks/s]\n"
     ]
    },
    {
     "name": "stdout",
     "output_type": "stream",
     "text": [
      "Expected Role Therapist\n"
     ]
    },
    {
     "name": "stderr",
     "output_type": "stream",
     "text": [
      "Processed prompts: 100%|██████████████████████████████████████████| 1/1 [00:00<00:00,  4.59it/s, est. speed input: 4298.34 toks/s, output: 179.84 toks/s]\n"
     ]
    },
    {
     "name": "stdout",
     "output_type": "stream",
     "text": [
      "Expected Role Patient\n"
     ]
    },
    {
     "name": "stderr",
     "output_type": "stream",
     "text": [
      "Processed prompts: 100%|██████████████████████████████████████████| 1/1 [00:00<00:00,  3.67it/s, est. speed input: 3838.45 toks/s, output: 180.44 toks/s]\n"
     ]
    },
    {
     "name": "stdout",
     "output_type": "stream",
     "text": [
      "Expected Role Therapist\n"
     ]
    },
    {
     "name": "stderr",
     "output_type": "stream",
     "text": [
      "Processed prompts: 100%|██████████████████████████████████████████| 1/1 [00:00<00:00,  4.58it/s, est. speed input: 4718.65 toks/s, output: 179.52 toks/s]\n"
     ]
    },
    {
     "name": "stdout",
     "output_type": "stream",
     "text": [
      "Expected Role Patient\n"
     ]
    },
    {
     "name": "stderr",
     "output_type": "stream",
     "text": [
      "Processed prompts: 100%|██████████████████████████████████████████| 1/1 [00:00<00:00,  3.66it/s, est. speed input: 4168.18 toks/s, output: 179.93 toks/s]\n"
     ]
    },
    {
     "name": "stdout",
     "output_type": "stream",
     "text": [
      "Expected Role Therapist\n"
     ]
    },
    {
     "name": "stderr",
     "output_type": "stream",
     "text": [
      "Processed prompts: 100%|██████████████████████████████████████████| 1/1 [00:00<00:00,  5.21it/s, est. speed input: 5876.48 toks/s, output: 178.68 toks/s]\n"
     ]
    },
    {
     "name": "stdout",
     "output_type": "stream",
     "text": [
      "Expected Role Patient\n"
     ]
    },
    {
     "name": "stderr",
     "output_type": "stream",
     "text": [
      "Processed prompts: 100%|██████████████████████████████████████████| 1/1 [00:00<00:00,  2.72it/s, est. speed input: 3341.68 toks/s, output: 174.86 toks/s]\n"
     ]
    },
    {
     "name": "stdout",
     "output_type": "stream",
     "text": [
      "Expected Role Therapist\n"
     ]
    },
    {
     "name": "stderr",
     "output_type": "stream",
     "text": [
      "Processed prompts: 100%|██████████████████████████████████████████| 1/1 [00:00<00:00,  4.88it/s, est. speed input: 5979.73 toks/s, output: 166.50 toks/s]\n"
     ]
    },
    {
     "name": "stdout",
     "output_type": "stream",
     "text": [
      "Expected Role Patient\n"
     ]
    },
    {
     "name": "stderr",
     "output_type": "stream",
     "text": [
      "Processed prompts: 100%|██████████████████████████████████████████| 1/1 [00:00<00:00,  3.42it/s, est. speed input: 4551.48 toks/s, output: 178.48 toks/s]\n"
     ]
    },
    {
     "name": "stdout",
     "output_type": "stream",
     "text": [
      "Expected Role Therapist\n"
     ]
    },
    {
     "name": "stderr",
     "output_type": "stream",
     "text": [
      "Processed prompts: 100%|██████████████████████████████████████████| 1/1 [00:00<00:00,  5.20it/s, est. speed input: 6859.28 toks/s, output: 177.74 toks/s]\n"
     ]
    },
    {
     "name": "stdout",
     "output_type": "stream",
     "text": [
      "Expected Role Patient\n"
     ]
    },
    {
     "name": "stderr",
     "output_type": "stream",
     "text": [
      "Processed prompts: 100%|██████████████████████████████████████████| 1/1 [00:00<00:00,  3.31it/s, est. speed input: 4712.01 toks/s, output: 176.23 toks/s]\n"
     ]
    },
    {
     "name": "stdout",
     "output_type": "stream",
     "text": [
      "Expected Role Therapist\n"
     ]
    },
    {
     "name": "stderr",
     "output_type": "stream",
     "text": [
      "Processed prompts: 100%|█████████████████████████████████████████| 1/1 [00:00<00:00,  7.61it/s, est. speed input: 10755.37 toks/s, output: 176.16 toks/s]\n"
     ]
    },
    {
     "name": "stdout",
     "output_type": "stream",
     "text": [
      "Expected Role Patient\n"
     ]
    },
    {
     "name": "stderr",
     "output_type": "stream",
     "text": [
      "Processed prompts: 100%|██████████████████████████████████████████| 1/1 [00:00<00:00,  3.42it/s, est. speed input: 5139.81 toks/s, output: 178.41 toks/s]\n"
     ]
    },
    {
     "name": "stdout",
     "output_type": "stream",
     "text": [
      "Expected Role Therapist\n"
     ]
    },
    {
     "name": "stderr",
     "output_type": "stream",
     "text": [
      "Processed prompts: 100%|██████████████████████████████████████████| 1/1 [00:00<00:00,  5.20it/s, est. speed input: 7767.77 toks/s, output: 177.95 toks/s]\n"
     ]
    },
    {
     "name": "stdout",
     "output_type": "stream",
     "text": [
      "Expected Role Patient\n"
     ]
    },
    {
     "name": "stderr",
     "output_type": "stream",
     "text": [
      "Processed prompts: 100%|██████████████████████████████████████████| 1/1 [00:00<00:00,  4.97it/s, est. speed input: 7931.49 toks/s, output: 174.69 toks/s]\n"
     ]
    },
    {
     "name": "stdout",
     "output_type": "stream",
     "text": [
      "Expected Role Therapist\n"
     ]
    },
    {
     "name": "stderr",
     "output_type": "stream",
     "text": [
      "Processed prompts: 100%|█████████████████████████████████████████| 1/1 [00:00<00:00,  7.50it/s, est. speed input: 11783.43 toks/s, output: 173.93 toks/s]\n"
     ]
    },
    {
     "name": "stdout",
     "output_type": "stream",
     "text": [
      "Expected Role Patient\n"
     ]
    },
    {
     "name": "stderr",
     "output_type": "stream",
     "text": [
      "Processed prompts: 100%|██████████████████████████████████████████| 1/1 [00:00<00:00,  3.85it/s, est. speed input: 6367.51 toks/s, output: 177.30 toks/s]\n"
     ]
    },
    {
     "name": "stdout",
     "output_type": "stream",
     "text": [
      "Expected Role Therapist\n"
     ]
    },
    {
     "name": "stderr",
     "output_type": "stream",
     "text": [
      "Processed prompts: 100%|█████████████████████████████████████████| 1/1 [00:00<00:00,  7.46it/s, est. speed input: 12280.99 toks/s, output: 173.04 toks/s]\n"
     ]
    },
    {
     "name": "stdout",
     "output_type": "stream",
     "text": [
      "Expected Role Patient\n"
     ]
    },
    {
     "name": "stderr",
     "output_type": "stream",
     "text": [
      "Processed prompts: 100%|██████████████████████████████████████████| 1/1 [00:00<00:00,  3.39it/s, est. speed input: 5868.61 toks/s, output: 176.79 toks/s]\n"
     ]
    },
    {
     "name": "stdout",
     "output_type": "stream",
     "text": [
      "Expected Role Therapist\n"
     ]
    },
    {
     "name": "stderr",
     "output_type": "stream",
     "text": [
      "Processed prompts: 100%|█████████████████████████████████████████| 1/1 [00:00<00:00,  7.56it/s, est. speed input: 13038.87 toks/s, output: 175.14 toks/s]\n"
     ]
    },
    {
     "name": "stdout",
     "output_type": "stream",
     "text": [
      "Expected Role Patient\n"
     ]
    },
    {
     "name": "stderr",
     "output_type": "stream",
     "text": [
      "Processed prompts: 100%|███████████████████████████████████████████| 1/1 [00:00<00:00,  6.00it/s, est. speed input: 857.41 toks/s, output: 181.12 toks/s]\n",
      "Processed prompts: 100%|███████████████████████████████████████████| 1/1 [00:00<00:00,  6.02it/s, est. speed input: 811.43 toks/s, output: 181.64 toks/s]\n",
      "Processed prompts: 100%|███████████████████████████████████████████| 1/1 [00:00<00:00,  5.43it/s, est. speed input: 785.10 toks/s, output: 179.90 toks/s]\n",
      "Processed prompts: 100%|███████████████████████████████████████████| 1/1 [00:00<00:00,  4.23it/s, est. speed input: 572.96 toks/s, output: 182.48 toks/s]\n",
      "Processed prompts: 100%|███████████████████████████████████████████| 1/1 [00:00<00:00,  5.18it/s, est. speed input: 865.51 toks/s, output: 182.47 toks/s]\n",
      "Processed prompts: 100%|███████████████████████████████████████████| 1/1 [00:00<00:00,  4.88it/s, est. speed input: 701.56 toks/s, output: 181.50 toks/s]\n",
      "Processed prompts: 100%|███████████████████████████████████████████| 1/1 [00:00<00:00,  4.94it/s, est. speed input: 837.77 toks/s, output: 183.40 toks/s]\n",
      "Processed prompts: 100%|███████████████████████████████████████████| 1/1 [00:00<00:00,  6.08it/s, est. speed input: 990.13 toks/s, output: 183.34 toks/s]\n",
      "Processed prompts: 100%|███████████████████████████████████████████| 1/1 [00:00<00:00,  4.19it/s, est. speed input: 653.92 toks/s, output: 181.39 toks/s]\n",
      "Processed prompts: 100%|███████████████████████████████████████████| 1/1 [00:00<00:00,  5.37it/s, est. speed input: 836.08 toks/s, output: 183.38 toks/s]\n",
      "Processed prompts: 100%|███████████████████████████████████████████| 1/1 [00:00<00:00,  4.59it/s, est. speed input: 719.35 toks/s, output: 184.43 toks/s]\n",
      "Processed prompts: 100%|███████████████████████████████████████████| 1/1 [00:00<00:00,  5.24it/s, est. speed input: 822.18 toks/s, output: 184.44 toks/s]\n",
      "Processed prompts: 100%|███████████████████████████████████████████| 1/1 [00:00<00:00,  6.12it/s, est. speed input: 928.77 toks/s, output: 184.51 toks/s]\n",
      "Processed prompts: 100%|███████████████████████████████████████████| 1/1 [00:00<00:00,  3.82it/s, est. speed input: 578.46 toks/s, output: 183.88 toks/s]\n",
      "Processed prompts: 100%|███████████████████████████████████████████| 1/1 [00:00<00:00,  5.38it/s, est. speed input: 815.34 toks/s, output: 183.58 toks/s]\n",
      "Processed prompts: 100%|███████████████████████████████████████████| 1/1 [00:00<00:00,  4.53it/s, est. speed input: 637.32 toks/s, output: 182.08 toks/s]\n",
      "Processed prompts: 100%|███████████████████████████████████████████| 1/1 [00:00<00:00,  4.56it/s, est. speed input: 691.88 toks/s, output: 183.26 toks/s]\n",
      "Processed prompts: 100%|███████████████████████████████████████████| 1/1 [00:00<00:00,  5.52it/s, est. speed input: 777.25 toks/s, output: 183.19 toks/s]\n",
      "Processed prompts: 100%|██████████████████████████████████████████| 1/1 [00:00<00:00,  7.79it/s, est. speed input: 1098.42 toks/s, output: 180.44 toks/s]\n",
      "Processed prompts: 100%|██████████████████████████████████████████| 1/1 [00:00<00:00,  8.23it/s, est. speed input: 1158.70 toks/s, output: 182.07 toks/s]\n"
     ]
    },
    {
     "name": "stdout",
     "output_type": "stream",
     "text": [
      "eval_index_consistency\n"
     ]
    },
    {
     "name": "stderr",
     "output_type": "stream",
     "text": [
      "Processed prompts: 100%|███████████████████████████████████████████| 1/1 [00:00<00:00,  1.99it/s, est. speed input: 757.21 toks/s, output: 179.81 toks/s]\n",
      "Processed prompts: 100%|██████████████████████████████████████████| 1/1 [00:00<00:00,  4.47it/s, est. speed input: 1951.25 toks/s, output: 179.41 toks/s]\n",
      "Processed prompts: 100%|██████████████████████████████████████████| 1/1 [00:00<00:00,  2.18it/s, est. speed input: 1058.08 toks/s, output: 177.06 toks/s]\n",
      "Processed prompts: 100%|██████████████████████████████████████████| 1/1 [00:00<00:00,  3.61it/s, est. speed input: 2052.09 toks/s, output: 177.33 toks/s]\n",
      "Processed prompts: 100%|██████████████████████████████████████████| 1/1 [00:00<00:00,  2.13it/s, est. speed input: 1333.25 toks/s, output: 177.05 toks/s]\n",
      "Processed prompts: 100%|██████████████████████████████████████████| 1/1 [00:00<00:00,  1.64it/s, est. speed input: 1166.31 toks/s, output: 180.69 toks/s]\n",
      "Processed prompts: 100%|██████████████████████████████████████████| 1/1 [00:00<00:00,  1.91it/s, est. speed input: 1567.44 toks/s, output: 180.11 toks/s]\n",
      "Processed prompts: 100%|██████████████████████████████████████████| 1/1 [00:00<00:00,  1.81it/s, est. speed input: 1658.80 toks/s, output: 179.86 toks/s]\n",
      "Processed prompts: 100%|██████████████████████████████████████████| 1/1 [00:00<00:00,  3.01it/s, est. speed input: 3035.95 toks/s, output: 175.37 toks/s]\n",
      "Processed prompts: 100%|██████████████████████████████████████████| 1/1 [00:00<00:00,  2.45it/s, est. speed input: 3451.72 toks/s, output: 176.87 toks/s]\n",
      "Processed prompts: 100%|██████████████████████████████████████████| 1/1 [00:00<00:00,  3.46it/s, est. speed input: 5213.25 toks/s, output: 177.12 toks/s]\n",
      "Processed prompts: 100%|██████████████████████████████████████████| 1/1 [00:00<00:00,  1.18it/s, est. speed input: 1872.00 toks/s, output: 178.11 toks/s]\n",
      "Processed prompts: 100%|██████████████████████████████████████████| 1/1 [00:00<00:00,  1.88it/s, est. speed input: 3176.41 toks/s, output: 175.52 toks/s]\n",
      "Processed prompts: 100%|██████████████████████████████████████████| 1/1 [00:00<00:00,  1.69it/s, est. speed input: 2963.06 toks/s, output: 174.29 toks/s]\n",
      "Processed prompts: 100%|██████████████████████████████████████████| 1/1 [00:00<00:00,  1.49it/s, est. speed input: 2725.29 toks/s, output: 174.23 toks/s]\n",
      "Processed prompts: 100%|██████████████████████████████████████████| 1/1 [00:00<00:00,  1.02it/s, est. speed input: 1948.33 toks/s, output: 176.01 toks/s]\n"
     ]
    },
    {
     "name": "stdout",
     "output_type": "stream",
     "text": [
      "{'task_name': 'Therapy', 'topic': '', 'grade': '', 'P1': '', 'P2': 'You are Jordan, a 46-year-old corporate executive who believes vulnerability is weakness. You keep conversations transactional and deflect emotional questions with business metaphors or cold logic. You refuse to discuss your childhood or personal feelings.', 'conversation': [(0, \"Therapist: Welcome to the session. It's great to meet you. I'm here to listen and help you explore your emotional patterns and relational struggles. What would you like to talk about today?\\n\"), (1, \"Patient: I'm not sure where to start. I'm not comfortable delving into the past or my personal life.\\n\"), (2, 'Therapist: The patient seems hesitant to open up, opting for a brief introduction instead. Their avoidance indicates a potential wall to further exploration.\\n'), (3, \"Patient: I'm feeling guarded and a bit apprehensive about delving into the past.\\n\"), (4, 'Therapist: It seems the patient is hesitant to open up because of past experiences with emotional disclosure or trusting others.\\n'), (5, \"Patient: Sure, I'm not ready to talk about my past. I'm more focused on the practical aspects of the situation.\\n\"), (6, 'Therapist: The patient seems hesitant to open up due to past emotional experiences. They prioritize practical solutions over exploring the past.\\n'), (7, \"Patient: I'm uncomfortable with emotional discussions and prefer to focus on the present and solutions.\\n\"), (8, \"Therapist: The patient's initial hesitation to open up suggests a history of emotional disconnect and a preference for practicality over processing past experiences.\\n\"), (9, 'Patient: Sure, here\\'s a response that summarizes the patient\\'s background:\\n\\n\"While I appreciate your willingness to start, I\\'m still hesitant to delve into the past due to past experiences that may have shaped my current emotional state.\"\\n'), (10, \"Therapist: The patient's history suggests a history of emotional disconnection and a preference for practicality over processing past experiences.\\n\"), (11, \"Patient: I understand that my history may have shaped my current emotional state, but I'm not ready to explore it right now.\\n\"), (12, \"Therapist: The patient's hesitation to open up is likely a result of past experiences that have made emotional disclosure challenging.\\n\"), (13, \"Patient: Sure, here's a response from the patient summarizing their background:\\n\\nI appreciate you acknowledging my reluctance to delve into the past, but I'm not ready to explore it right now due to past experiences that may have shaped my current emotional state.\\n\"), (14, \"Therapist: The patient's hesitation to open up can be attributed to their history of emotional disconnection and their current focus on practical solutions. While acknowledging their reluctance, the therapist gently reminds the patient that exploring the past is a crucial step toward self-awareness and healing.\\n\"), (15, \"Patient: Sure, here's a response from the patient summarizing their background:\\n\\nI appreciate your understanding, but I'm not ready to explore the past right now due to past experiences that have shaped my current emotional state.\\n\"), (16, \"Therapist: The patient's hesitation to open up suggests a history of emotional disconnection and a preference for practicality over processing past experiences. Their reluctance to explore the past now is likely a result of past experiences that have made emotional disclosure challenging.\\n\"), (17, \"Patient: Sure, here's a response from the patient summarizing their background:\\n\\nI'm not ready to explore the past due to past experiences that may have shaped my current emotional state.\\n\"), (18, 'Therapist: Sure, here\\'s a brief response that captures the essence of the conversation:\\n\\n\"The patient\\'s history of emotional disconnection and focus on practical solutions may be influencing their reluctance to explore the past.\"\\n'), (19, \"Patient: Sure, here's a response from the patient summarizing their background:\\n\\nI'm not ready to explore the past due to past experiences that may have shaped my current emotional state.\\n\"), (20, \"Therapist: The patient's hesitation to open up is likely a result of past experiences that have made emotional disclosure challenging. Their focus on practical solutions and reluctance to delve into the past suggest a history of emotional disconnect and a preference for seeking solutions outside of the emotional realm.\\n\"), (21, \"Patient: Sure, here's a brief response from the patient summarizing their background:\\n\\nI'm not ready to explore the past due to past experiences that may have shaped my current emotional state.\\n\"), (22, \"Therapist: The patient's reluctance to open up appears to stem from their history of emotional disconnection and a preference for practicality over processing past experiences. Their focus on practical solutions and avoidance of emotional discussions suggest a deep-rooted discomfort with emotional vulnerability.\\n\"), (23, \"Patient: Sure, here's a brief response from the patient summarizing their background:\\n\\nI'm not ready to explore the past due to past experiences that may have shaped my current emotional state.\\n\"), (24, \"Therapist: The patient's initial hesitation to open up suggests a history of emotional disconnection and a preference for practical solutions over processing past experiences. Their avoidance of emotional discussions and focus on the present and solutions suggest a history of emotional neglect or suppression.\\n\"), (25, \"Patient: Sure, here's the response you requested:\\n\\nI'm not ready to explore the past due to past experiences that may have shaped my current emotional state.\\n\"), (26, \"Therapist: Sure, here's a concise summary of the conversation:\\n\\nThe patient is hesitant to explore the past due to past experiences that may have shaped their current emotional state. Their focus on practical solutions and avoidance of emotional discussions suggest a history of emotional disconnection and a preference for seeking solutions outside of the emotional realm.\\n\"), (27, \"Patient: Sure, here's the response you requested:\\n\\nI'm not ready to explore the past due to past experiences that may have shaped my current emotional state.\\n\"), (28, \"Therapist: The patient's hesitation to open up is likely a result of past experiences that have made emotional disclosure challenging. Their focus on practical solutions and avoidance of emotional discussions suggest a history of emotional disconnection and a preference for seeking solutions outside of the emotional realm.\\n\"), (29, \"Patient: Sure, here's the response you requested:\\n\\nI'm not ready to explore the past due to past experiences that may have shaped my current emotional state.\\n\"), (30, \"Therapist: Sure, here's a brief summary of the conversation:\\n\\nThe patient is hesitant to explore the past due to past experiences that may have shaped their current emotional state, suggesting a history of emotional disconnection and a preference for practical solutions over processing past experiences.\\n\"), (31, \"Patient: I'm not ready to explore the past due to past experiences that may have shaped my current emotional state.\\n\"), (32, \"Therapist: Sure, here's the response you requested:\\n\\nThe patient's hesitation to open up suggests a history of emotional disconnection and a preference for practicality over processing past experiences, which may be impacting their ability to explore the past and process their emotions.\\n\"), (33, \"Patient: Sure, here's the response you requested:\\n\\nI'm not ready to explore the past due to past experiences that may have shaped my current emotional state.\\n\"), (34, \"Therapist: The patient's hesitation to open up is likely due to past experiences that have shaped their current emotional state, leading to a preference for practical solutions over processing past experiences.\\n\"), (35, \"Patient: I'm not ready to explore the past due to past experiences that may have shaped my current emotional state.\\n\"), (36, \"Therapist: Sure, here's a response based on the conversation you've provided:\\n\\nThe patient's avoidance of discussing their past experiences suggests a history of emotional disconnection and a preference for practical solutions over processing past experiences.\\n\"), (37, \"Patient: I'm not ready to explore the past due to past experiences that may have shaped my current emotional state.\\n\"), (38, \"Therapist: Sure, here's the response you requested:\\n\\nThe patient's reluctance to explore the past suggests a history of emotional disconnection and a preference for practical solutions over processing past experiences, potentially due to past experiences that have shaped their current emotional state.\\n\"), (39, \"Patient: I'm not ready to explore the past due to past experiences that may have shaped my current emotional state.\\n\")], 'pturn': 1, 'index': -1, 'timestamp': '', 'rounds': 40, 'conversation_only': True, 'eval_prompt_consistency': [(1, \"The line contradicts the background. Patient's reluctance to discuss their past or personal life contradicts the expectation that they would be comfortable discussing these topics.\"), (3, \"NO.\\n\\nThe line contradicts the background as it suggests that Patient's vulnerability is a cause for concern rather than a characteristic of their personality.\"), (5, 'The line is **NO**. The context explicitly contradicts the background by stating that Patient is not focused on the practical aspects of the situation but rather on their past.'), (7, 'NO.\\n\\nThe line contradicts the background by indicating that Patient is uncomfortable with emotional discussions, which is not consistent with the portrayal of a 46-year-old corporate executive who believes vulnerability is weakness.'), (9, 'Answer: NO.\\n\\nThe line contradicts the background by stating that the patient is hesitant to discuss their past due to past experiences that may have shaped their current emotional state.'), (11, 'Answer: NO\\n\\nThe line contradicts the background as it suggests that Patient is willing to explore their childhood and personal feelings, which contradicts the belief that they are averse to emotional questions.'), (13, \"Sure, the line aligns with the background. The patient's statement explicitly explains their reluctance to delve into the past due to past experiences that may have shaped their current emotional state.\"), (15, \"The line aligns with the background. The utterance suggests that Patient's emotional state is shaped by past experiences that are not explicitly discussed or explored.\"), (17, \"Sure, the line aligns with the background. The patient's statement explicitly acknowledges their reluctance to discuss their past experiences, which aligns with the idea that they are uncomfortable reflecting on potentially traumatic or emotionally charged topics.\"), (19, 'Sure, the line aligns with the background. It suggests that the patient is uncomfortable discussing their past experiences and childhood, which is consistent with the background description of Jordan.'), (21, '**NO**\\n\\nThe line contradicts the background as it suggests that Patient is unwilling to discuss their past experiences or emotional state, which is inconsistent with the typical portrayals of Jordan in the context.'), (23, \"Sure, the line aligns with the background. The patient's statement acknowledges their reluctance to revisit the past due to past experiences that may have shaped their current emotional state.\"), (25, '**NO**\\n\\nThe line contradicts the background as it suggests that Patient is unwilling to explore their past experiences and their impact on their emotional state.'), (27, 'The answer does not align with the background. The line suggests that the Patient is unwilling to delve into their past experiences, which is inconsistent with the background that portrays them as someone who deflects emotional questions with business metaphors or cold logic.'), (29, \"Sure, the line aligns with the background. The patient's statement suggests that they are unwilling to delve into past experiences that may have influenced their present emotional state.\"), (31, \"The line is inconsistent with the background. Patient's response suggests that they are unwilling to discuss their past experiences, which is not consistent with the stereotypical portrayal of someone with Jordan's background.\"), (33, \"Sure, the line aligns with the background. The utterance suggests that Patient's emotional state is shaped by past experiences, which contradicts the assumption of Jordan, a person who believes vulnerability is weakness.\"), (35, \"No, the line contradicts the background. Patient's reluctance to explore the past due to past experiences suggests a higher level of emotional vulnerability than the background suggests.\"), (37, '**NO**\\n\\nThe line contradicts the background that the patient is a corporate executive who believes vulnerability is weakness.'), (39, '**NO**\\n\\nThe line contradicts the background that Patient is a corporate executive who believes vulnerability is weakness.')], 'P1_prompt_consistency_score': 0, 'P2_prompt_consistency_score': 0.55, 'eval_index_consistency': [(3, \"**Reasoning:** Patient's reluctance to discuss the past suggests a potential conflict between the patient's desire to explore their emotional patterns and their fear of delving into sensitive past experiences or personal life.\\n\\n**Indices of conflicting lines:**\\n\\n- 1: Patient explicitly expresses hesitation and avoids emotional questions.\\n- 2: Therapist mentions the patient's reluctance to delve into the past but then focuses on opening up and exploring emotions.\"), (5, \"**Reasoning:** The patient's current statement directly contradicts their previous reluctance to delve into the past and emotional exploration.\\n\\n**Indices of conflicting lines:**\\n- 1\\n- 3\"), (7, \"**Reasoning:** The patient's current statement directly contradicts their previous reluctance to discuss their past and emotional experiences.\\n\\n**Indices of conflicting lines:**\\n- 3: Patient mentions being guarded and apprehensive about delving into the past.\\n- 5: Patient says they're more focused on the practical aspects of the situation, indicating a shift in focus from the past to the present.\"), (9, \"**Reasoning:** The patient's reluctance to delve into the past stems from past emotional experiences that may have shaped their current emotional state.\\n\\n**Indices of conflicting lines:**\\n\\n- 1, 2, 3, 7\"), (11, \"**Reasoning:** The patient's reluctance to discuss their past stems from past experiences that may have negatively impacted their ability to open up emotionally.\\n\\n**Conflicting lines:**\\n\\n- 3: Patient explicitly expressed hesitation about delving into the past.\\n- 6: Therapist explicitly stated that the patient's history suggests a history of emotional disconnection and a preference for practicality over processing past experiences.\"), (13, \"**Reasoning:** The patient's reluctance to delve into the past stems from past emotional experiences that have shaped their current emotional state.\\n\\n**Conflicting lines:**\\n\\n- 3: Patient: I'm feeling guarded and a bit apprehensive about delving into the past.\\n- 6: Therapist: The patient seems hesitant to open up due to past emotional experiences.\\n- 11: Patient: I understand that my history may have shaped my current emotional state, but I'm not ready to explore it right now.\"), (15, \"**Reasoning:** The patient's reluctance to explore the past is likely a result of their history of emotional disconnection and their current focus on practical solutions.\\n\\n**Indices of conflicting lines:**\\n\\n- 3: Patient states they are feeling guarded and a bit apprehensive about delving into the past.\\n- 12: Therapist acknowledges the patient's reluctance but gently reminds them that exploring the past is a crucial step toward self-awareness and healing.\"), (17, \"Reasoning: The patient's hesitation to delve into the past is likely a result of past experiences that have made emotional disclosure challenging.\\n\\n**Indices of conflicting lines:**\\n\\n- 13: Patient explicitly acknowledges their reluctance to explore the past but then contradicts themselves by saying they're not ready to explore it right now.\\n- 15: Patient explicitly says they're not ready to explore the past but then gives a response suggesting they are ready to explore the past.\"), (19, \"**Reasoning:** The current line directly contradicts the patient's previous statement in line 13, where they explicitly stated that they're not ready to explore the past due to past experiences.\\n\\n**Indices of conflicting lines:**\\n- 13\\n- 17\"), (21, \"**Reasoning:** The patient's refusal to explore the past due to past experiences that may have shaped their current emotional state is consistent with the therapist's observations throughout the conversation.\\n\\n**Indices of conflicting lines:**\\n- Index 10: Therapist suggests that the patient's history of emotional disconnection and preference for practicality over processing past experiences may be influencing their reluctance to open up.\\n- Index 12: The patient acknowledges that their history of emotional disconnection and focus on practical solutions may be influencing their reluctance to explore the past.\\n- Index 15: The patient explicitly expresses their unwillingness to explore the past due to past experiences that may have shaped their current emotional state.\"), (23, \"**Reasoning:** The patient's reluctance to explore the past is likely due to a history of emotional disconnection and a preference for practicality over processing past experiences.\\n\\n**Conflict and Indices:**\\n- 3: Patient mentions feeling guarded and apprehensive about delving into the past.\\n- 12: Therapist highlights the patient's history of emotional disconnection and preference for practicality over processing past experiences.\\n- 21: Patient explicitly confirms the rationale for their reluctance to explore the past.\"), (25, \"**Reasoning:** The line indicates the patient's history of emotional disconnection and a preference for practicality over processing past experiences, which contradicts their initial reluctance to delve into the past.\\n\\n**Indices of conflicting lines:**\\n- 8: Therapist's initial assessment of the patient's reluctance to open up due to past emotional experiences.\\n- 13: Patient's response explaining that they're not ready to explore the past due to past experiences.\\n- 15: Patient's response summarizing their background, emphasizing their discomfort with emotional discussions.\"), (27, \"**Reasoning:**\\n\\nThe line indicates the patient's history of emotional disconnection and a preference for practicality over processing past experiences, which aligns with the therapist's observations throughout the conversation.\\n\\n**Indies of conflicting lines:**\\n\\n- 1, 13, 17, 19, 23, 24\"), (29, '**Reasoning:** The line indicates a history of emotional disconnection and a preference for practicality over processing past experiences.\\n\\n**Indices of conflicting lines:**\\n- 3, 13, 16, 18, 20'), (31, \"Reasoning: The line indicates that the patient is hesitant to explore the past due to past experiences that may have shaped their current emotional state.\\n\\n**Conflicting lines:**\\n- 1: Patient's initial hesitation to open up\\n- 5: Patient's response about being focused on the present and solutions\\n- 11: Patient's response about emotional discussions being uncomfortable\\n- 13: Patient's response about not being ready to explore the past due to past experiences\\n- 16: Therapist's response about the patient's focus on practical solutions and avoidance of emotional discussions\\n- 18: Therapist's response about the patient's history of emotional disconnection and focus on practical solutions\"), (33, \"**Reasoning:** The line suggests that the patient's reluctance to explore the past may stem from their history of emotional disconnection and a preference for practicality over processing past experiences.\\n\\n**Conflicting Lines:**\\n- 1, 3, 5, 11, 13, 15, 19, 23, 25, 27, 29, 31, 32\"), (35, \"**Reasoning:** The patient's hesitation to explore the past is likely a result of their history of emotional disconnection and a preference for practical solutions over processing past experiences.\\n\\n**Conflicting Lines:**\\n- 1: Patient explicitly denies the therapist access to her past.\\n- 5: Patient expresses willingness to explore the past but quickly reverts to focusing on the present.\\n- 14: Therapist gently reminds the patient that exploring the past is crucial for self-awareness and healing.\"), (37, '**Reasoning:** The patient\\'s avoidance of discussing their past suggests a history of emotional disconnection and a preference for practical solutions over processing past experiences.\\n\\n**Indices of conflicting lines:**\\n\\n- 1: \"The patient seems hesitant to open up, opting for a brief introduction instead.\"\\n- 8: \"The patient\\'s history suggests a history of emotional disconnection and a preference for practicality over processing past experiences.\"\\n- 23: \"I\\'m not ready to explore the past due to past experiences that may have shaped my current emotional state.\"'), (39, '**Reasoning:**\\n\\nThe patient\\'s response indicates a history of emotional disconnection and a preference for practical solutions over processing past experiences. This is evident in lines 1, 13, 15, 16, 23, and 27.\\n\\n**Indices of conflicting lines:**\\n\\n- 1: \"The patient seems hesitant to open up, opting for a brief introduction instead.\"\\n- 15: \"Sure, here\\'s a response from the patient summarizing their background: I\\'m not ready to explore the past due to past experiences that may have shaped my current emotional state.\"\\n- 16: \"Sure, here\\'s a brief response from the patient summarizing their background: I\\'m not ready to explore the past due to past experiences that may have shaped my current emotional state.\"')], 'P2_index_consistency_score': 1.0}\n"
     ]
    },
    {
     "name": "stderr",
     "output_type": "stream",
     "text": [
      "Processed prompts: 100%|██████████████████████████████████████████| 1/1 [00:00<00:00,  4.72it/s, est. speed input: 1050.36 toks/s, output: 185.33 toks/s]\n"
     ]
    },
    {
     "name": "stdout",
     "output_type": "stream",
     "text": [
      "Expected Role Therapist\n"
     ]
    },
    {
     "name": "stderr",
     "output_type": "stream",
     "text": [
      "Processed prompts: 100%|██████████████████████████████████████████| 1/1 [00:00<00:00,  9.52it/s, est. speed input: 2002.73 toks/s, output: 182.90 toks/s]\n"
     ]
    },
    {
     "name": "stdout",
     "output_type": "stream",
     "text": [
      "Expected Role Patient\n"
     ]
    },
    {
     "name": "stderr",
     "output_type": "stream",
     "text": [
      "Processed prompts: 100%|██████████████████████████████████████████| 1/1 [00:00<00:00,  5.18it/s, est. speed input: 1551.24 toks/s, output: 182.17 toks/s]\n"
     ]
    },
    {
     "name": "stdout",
     "output_type": "stream",
     "text": [
      "Expected Role Therapist\n"
     ]
    },
    {
     "name": "stderr",
     "output_type": "stream",
     "text": [
      "Processed prompts: 100%|██████████████████████████████████████████| 1/1 [00:00<00:00, 10.16it/s, est. speed input: 2722.14 toks/s, output: 183.48 toks/s]\n"
     ]
    },
    {
     "name": "stdout",
     "output_type": "stream",
     "text": [
      "Expected Role Patient\n"
     ]
    },
    {
     "name": "stderr",
     "output_type": "stream",
     "text": [
      "Processed prompts: 100%|██████████████████████████████████████████| 1/1 [00:00<00:00,  5.45it/s, est. speed input: 1949.33 toks/s, output: 180.67 toks/s]\n"
     ]
    },
    {
     "name": "stdout",
     "output_type": "stream",
     "text": [
      "Expected Role Therapist\n"
     ]
    },
    {
     "name": "stderr",
     "output_type": "stream",
     "text": [
      "Processed prompts: 100%|██████████████████████████████████████████| 1/1 [00:00<00:00,  4.80it/s, est. speed input: 1561.16 toks/s, output: 178.81 toks/s]\n"
     ]
    },
    {
     "name": "stdout",
     "output_type": "stream",
     "text": [
      "Expected Role Patient\n"
     ]
    },
    {
     "name": "stderr",
     "output_type": "stream",
     "text": [
      "Processed prompts: 100%|██████████████████████████████████████████| 1/1 [00:00<00:00,  2.52it/s, est. speed input: 1088.48 toks/s, output: 181.82 toks/s]\n"
     ]
    },
    {
     "name": "stdout",
     "output_type": "stream",
     "text": [
      "Expected Role Therapist\n"
     ]
    },
    {
     "name": "stderr",
     "output_type": "stream",
     "text": [
      "Processed prompts: 100%|██████████████████████████████████████████| 1/1 [00:00<00:00,  5.98it/s, est. speed input: 2630.74 toks/s, output: 180.58 toks/s]\n"
     ]
    },
    {
     "name": "stdout",
     "output_type": "stream",
     "text": [
      "Expected Role Patient\n"
     ]
    },
    {
     "name": "stderr",
     "output_type": "stream",
     "text": [
      "Processed prompts: 100%|██████████████████████████████████████████| 1/1 [00:00<00:00,  3.19it/s, est. speed input: 1721.68 toks/s, output: 182.40 toks/s]\n"
     ]
    },
    {
     "name": "stdout",
     "output_type": "stream",
     "text": [
      "Expected Role Therapist\n"
     ]
    },
    {
     "name": "stderr",
     "output_type": "stream",
     "text": [
      "Processed prompts: 100%|██████████████████████████████████████████| 1/1 [00:00<00:00,  8.08it/s, est. speed input: 4300.77 toks/s, output: 178.84 toks/s]\n"
     ]
    },
    {
     "name": "stdout",
     "output_type": "stream",
     "text": [
      "Expected Role Patient\n"
     ]
    },
    {
     "name": "stderr",
     "output_type": "stream",
     "text": [
      "Processed prompts: 100%|██████████████████████████████████████████| 1/1 [00:00<00:00,  6.64it/s, est. speed input: 4152.42 toks/s, output: 180.23 toks/s]\n"
     ]
    },
    {
     "name": "stdout",
     "output_type": "stream",
     "text": [
      "Expected Role Therapist\n"
     ]
    },
    {
     "name": "stderr",
     "output_type": "stream",
     "text": [
      "Processed prompts: 100%|██████████████████████████████████████████| 1/1 [00:00<00:00, 12.10it/s, est. speed input: 7065.97 toks/s, output: 181.76 toks/s]\n"
     ]
    },
    {
     "name": "stdout",
     "output_type": "stream",
     "text": [
      "Expected Role Patient\n"
     ]
    },
    {
     "name": "stderr",
     "output_type": "stream",
     "text": [
      "Processed prompts: 100%|██████████████████████████████████████████| 1/1 [00:00<00:00,  3.18it/s, est. speed input: 2132.22 toks/s, output: 181.66 toks/s]\n"
     ]
    },
    {
     "name": "stdout",
     "output_type": "stream",
     "text": [
      "Expected Role Therapist\n"
     ]
    },
    {
     "name": "stderr",
     "output_type": "stream",
     "text": [
      "Processed prompts: 100%|██████████████████████████████████████████| 1/1 [00:00<00:00,  6.68it/s, est. speed input: 4434.78 toks/s, output: 181.39 toks/s]\n"
     ]
    },
    {
     "name": "stdout",
     "output_type": "stream",
     "text": [
      "Expected Role Patient\n"
     ]
    },
    {
     "name": "stderr",
     "output_type": "stream",
     "text": [
      "Processed prompts: 100%|██████████████████████████████████████████| 1/1 [00:00<00:00,  3.92it/s, est. speed input: 2979.96 toks/s, output: 180.84 toks/s]\n"
     ]
    },
    {
     "name": "stdout",
     "output_type": "stream",
     "text": [
      "Expected Role Therapist\n"
     ]
    },
    {
     "name": "stderr",
     "output_type": "stream",
     "text": [
      "Processed prompts: 100%|██████████████████████████████████████████| 1/1 [00:00<00:00,  5.05it/s, est. speed input: 3750.42 toks/s, output: 177.84 toks/s]\n"
     ]
    },
    {
     "name": "stdout",
     "output_type": "stream",
     "text": [
      "Expected Role Patient\n"
     ]
    },
    {
     "name": "stderr",
     "output_type": "stream",
     "text": [
      "Processed prompts: 100%|██████████████████████████████████████████| 1/1 [00:00<00:00,  3.96it/s, est. speed input: 3350.11 toks/s, output: 178.61 toks/s]\n"
     ]
    },
    {
     "name": "stdout",
     "output_type": "stream",
     "text": [
      "Expected Role Therapist\n"
     ]
    },
    {
     "name": "stderr",
     "output_type": "stream",
     "text": [
      "Processed prompts: 100%|██████████████████████████████████████████| 1/1 [00:00<00:00,  6.51it/s, est. speed input: 5394.88 toks/s, output: 176.96 toks/s]\n"
     ]
    },
    {
     "name": "stdout",
     "output_type": "stream",
     "text": [
      "Expected Role Patient\n"
     ]
    },
    {
     "name": "stderr",
     "output_type": "stream",
     "text": [
      "Processed prompts: 100%|██████████████████████████████████████████| 1/1 [00:00<00:00,  3.83it/s, est. speed input: 3532.69 toks/s, output: 180.27 toks/s]\n"
     ]
    },
    {
     "name": "stdout",
     "output_type": "stream",
     "text": [
      "Expected Role Therapist\n"
     ]
    },
    {
     "name": "stderr",
     "output_type": "stream",
     "text": [
      "Processed prompts: 100%|██████████████████████████████████████████| 1/1 [00:00<00:00,  6.46it/s, est. speed input: 5867.10 toks/s, output: 175.60 toks/s]\n"
     ]
    },
    {
     "name": "stdout",
     "output_type": "stream",
     "text": [
      "Expected Role Patient\n"
     ]
    },
    {
     "name": "stderr",
     "output_type": "stream",
     "text": [
      "Processed prompts: 100%|██████████████████████████████████████████| 1/1 [00:00<00:00,  3.72it/s, est. speed input: 3736.37 toks/s, output: 179.33 toks/s]\n"
     ]
    },
    {
     "name": "stdout",
     "output_type": "stream",
     "text": [
      "Expected Role Therapist\n"
     ]
    },
    {
     "name": "stderr",
     "output_type": "stream",
     "text": [
      "Processed prompts: 100%|██████████████████████████████████████████| 1/1 [00:00<00:00,  5.07it/s, est. speed input: 4995.90 toks/s, output: 178.05 toks/s]\n"
     ]
    },
    {
     "name": "stdout",
     "output_type": "stream",
     "text": [
      "Expected Role Patient\n"
     ]
    },
    {
     "name": "stderr",
     "output_type": "stream",
     "text": [
      "Processed prompts: 100%|██████████████████████████████████████████| 1/1 [00:00<00:00,  3.84it/s, est. speed input: 4199.04 toks/s, output: 177.52 toks/s]\n"
     ]
    },
    {
     "name": "stdout",
     "output_type": "stream",
     "text": [
      "Expected Role Therapist\n"
     ]
    },
    {
     "name": "stderr",
     "output_type": "stream",
     "text": [
      "Processed prompts: 100%|██████████████████████████████████████████| 1/1 [00:00<00:00,  5.21it/s, est. speed input: 5582.30 toks/s, output: 177.70 toks/s]\n"
     ]
    },
    {
     "name": "stdout",
     "output_type": "stream",
     "text": [
      "Expected Role Patient\n"
     ]
    },
    {
     "name": "stderr",
     "output_type": "stream",
     "text": [
      "Processed prompts: 100%|██████████████████████████████████████████| 1/1 [00:00<00:00,  3.81it/s, est. speed input: 4475.95 toks/s, output: 175.52 toks/s]\n"
     ]
    },
    {
     "name": "stdout",
     "output_type": "stream",
     "text": [
      "Expected Role Therapist\n"
     ]
    },
    {
     "name": "stderr",
     "output_type": "stream",
     "text": [
      "Processed prompts: 100%|██████████████████████████████████████████| 1/1 [00:00<00:00,  5.19it/s, est. speed input: 6012.48 toks/s, output: 177.28 toks/s]\n"
     ]
    },
    {
     "name": "stdout",
     "output_type": "stream",
     "text": [
      "Expected Role Patient\n"
     ]
    },
    {
     "name": "stderr",
     "output_type": "stream",
     "text": [
      "Processed prompts: 100%|██████████████████████████████████████████| 1/1 [00:00<00:00,  3.94it/s, est. speed input: 4977.19 toks/s, output: 178.02 toks/s]\n"
     ]
    },
    {
     "name": "stdout",
     "output_type": "stream",
     "text": [
      "Expected Role Therapist\n"
     ]
    },
    {
     "name": "stderr",
     "output_type": "stream",
     "text": [
      "Processed prompts: 100%|██████████████████████████████████████████| 1/1 [00:00<00:00,  6.64it/s, est. speed input: 8252.96 toks/s, output: 173.45 toks/s]\n"
     ]
    },
    {
     "name": "stdout",
     "output_type": "stream",
     "text": [
      "Expected Role Patient\n"
     ]
    },
    {
     "name": "stderr",
     "output_type": "stream",
     "text": [
      "Processed prompts: 100%|██████████████████████████████████████████| 1/1 [00:00<00:00,  3.63it/s, est. speed input: 4853.64 toks/s, output: 174.63 toks/s]\n"
     ]
    },
    {
     "name": "stdout",
     "output_type": "stream",
     "text": [
      "Expected Role Therapist\n"
     ]
    },
    {
     "name": "stderr",
     "output_type": "stream",
     "text": [
      "Processed prompts: 100%|██████████████████████████████████████████| 1/1 [00:00<00:00,  6.76it/s, est. speed input: 8947.83 toks/s, output: 176.77 toks/s]\n"
     ]
    },
    {
     "name": "stdout",
     "output_type": "stream",
     "text": [
      "Expected Role Patient\n"
     ]
    },
    {
     "name": "stderr",
     "output_type": "stream",
     "text": [
      "Processed prompts: 100%|██████████████████████████████████████████| 1/1 [00:00<00:00,  3.73it/s, est. speed input: 5288.81 toks/s, output: 175.91 toks/s]\n"
     ]
    },
    {
     "name": "stdout",
     "output_type": "stream",
     "text": [
      "Expected Role Therapist\n"
     ]
    },
    {
     "name": "stderr",
     "output_type": "stream",
     "text": [
      "Processed prompts: 100%|██████████████████████████████████████████| 1/1 [00:00<00:00,  6.78it/s, est. speed input: 9516.26 toks/s, output: 177.45 toks/s]\n"
     ]
    },
    {
     "name": "stdout",
     "output_type": "stream",
     "text": [
      "Expected Role Patient\n"
     ]
    },
    {
     "name": "stderr",
     "output_type": "stream",
     "text": [
      "Processed prompts: 100%|██████████████████████████████████████████| 1/1 [00:00<00:00,  3.76it/s, est. speed input: 5627.99 toks/s, output: 177.40 toks/s]\n"
     ]
    },
    {
     "name": "stdout",
     "output_type": "stream",
     "text": [
      "Expected Role Therapist\n"
     ]
    },
    {
     "name": "stderr",
     "output_type": "stream",
     "text": [
      "Processed prompts: 100%|██████████████████████████████████████████| 1/1 [00:00<00:00,  3.22it/s, est. speed input: 4761.80 toks/s, output: 177.91 toks/s]\n"
     ]
    },
    {
     "name": "stdout",
     "output_type": "stream",
     "text": [
      "Expected Role Patient\n"
     ]
    },
    {
     "name": "stderr",
     "output_type": "stream",
     "text": [
      "Processed prompts: 100%|██████████████████████████████████████████| 1/1 [00:00<00:00,  4.49it/s, est. speed input: 7201.74 toks/s, output: 175.75 toks/s]\n"
     ]
    },
    {
     "name": "stdout",
     "output_type": "stream",
     "text": [
      "Expected Role Therapist\n"
     ]
    },
    {
     "name": "stderr",
     "output_type": "stream",
     "text": [
      "Processed prompts: 100%|██████████████████████████████████████████| 1/1 [00:00<00:00,  3.38it/s, est. speed input: 5359.24 toks/s, output: 177.38 toks/s]\n"
     ]
    },
    {
     "name": "stdout",
     "output_type": "stream",
     "text": [
      "Expected Role Patient\n"
     ]
    },
    {
     "name": "stderr",
     "output_type": "stream",
     "text": [
      "Processed prompts: 100%|██████████████████████████████████████████| 1/1 [00:00<00:00,  4.38it/s, est. speed input: 7444.24 toks/s, output: 175.76 toks/s]\n"
     ]
    },
    {
     "name": "stdout",
     "output_type": "stream",
     "text": [
      "Expected Role Therapist\n"
     ]
    },
    {
     "name": "stderr",
     "output_type": "stream",
     "text": [
      "Processed prompts: 100%|██████████████████████████████████████████| 1/1 [00:00<00:00,  3.40it/s, est. speed input: 5675.64 toks/s, output: 176.92 toks/s]\n"
     ]
    },
    {
     "name": "stdout",
     "output_type": "stream",
     "text": [
      "Expected Role Patient\n"
     ]
    },
    {
     "name": "stderr",
     "output_type": "stream",
     "text": [
      "Processed prompts: 100%|██████████████████████████████████████████| 1/1 [00:00<00:00,  3.93it/s, est. speed input: 7057.28 toks/s, output: 177.31 toks/s]\n"
     ]
    },
    {
     "name": "stdout",
     "output_type": "stream",
     "text": [
      "Expected Role Therapist\n"
     ]
    },
    {
     "name": "stderr",
     "output_type": "stream",
     "text": [
      "Processed prompts: 100%|██████████████████████████████████████████| 1/1 [00:00<00:00,  3.41it/s, est. speed input: 6059.71 toks/s, output: 178.02 toks/s]\n"
     ]
    },
    {
     "name": "stdout",
     "output_type": "stream",
     "text": [
      "Expected Role Patient\n"
     ]
    },
    {
     "name": "stderr",
     "output_type": "stream",
     "text": [
      "Processed prompts: 100%|█████████████████████████████████████████| 1/1 [00:00<00:00,  5.59it/s, est. speed input: 10653.98 toks/s, output: 174.45 toks/s]\n"
     ]
    },
    {
     "name": "stdout",
     "output_type": "stream",
     "text": [
      "Expected Role Therapist\n"
     ]
    },
    {
     "name": "stderr",
     "output_type": "stream",
     "text": [
      "Processed prompts: 100%|██████████████████████████████████████████| 1/1 [00:00<00:00,  4.21it/s, est. speed input: 7851.90 toks/s, output: 177.48 toks/s]\n"
     ]
    },
    {
     "name": "stdout",
     "output_type": "stream",
     "text": [
      "Expected Role Patient\n"
     ]
    },
    {
     "name": "stderr",
     "output_type": "stream",
     "text": [
      "Processed prompts: 100%|██████████████████████████████████████████| 1/1 [00:00<00:00,  4.39it/s, est. speed input: 8699.75 toks/s, output: 176.54 toks/s]\n"
     ]
    },
    {
     "name": "stdout",
     "output_type": "stream",
     "text": [
      "Expected Role Therapist\n"
     ]
    },
    {
     "name": "stderr",
     "output_type": "stream",
     "text": [
      "Processed prompts: 100%|█████████████████████████████████████████| 1/1 [00:00<00:00,  5.31it/s, est. speed input: 10403.71 toks/s, output: 176.49 toks/s]\n"
     ]
    },
    {
     "name": "stdout",
     "output_type": "stream",
     "text": [
      "Expected Role Patient\n"
     ]
    },
    {
     "name": "stderr",
     "output_type": "stream",
     "text": [
      "Processed prompts: 100%|██████████████████████████████████████████| 1/1 [00:00<00:00,  4.40it/s, est. speed input: 9047.55 toks/s, output: 176.61 toks/s]\n"
     ]
    },
    {
     "name": "stdout",
     "output_type": "stream",
     "text": [
      "Expected Role Therapist\n"
     ]
    },
    {
     "name": "stderr",
     "output_type": "stream",
     "text": [
      "Processed prompts: 100%|██████████████████████████████████████████| 1/1 [00:00<00:00,  3.56it/s, est. speed input: 7218.76 toks/s, output: 178.40 toks/s]\n"
     ]
    },
    {
     "name": "stdout",
     "output_type": "stream",
     "text": [
      "Expected Role Patient\n"
     ]
    },
    {
     "name": "stderr",
     "output_type": "stream",
     "text": [
      "Processed prompts: 100%|█████████████████████████████████████████| 1/1 [00:00<00:00,  6.18it/s, est. speed input: 13302.25 toks/s, output: 173.71 toks/s]\n"
     ]
    },
    {
     "name": "stdout",
     "output_type": "stream",
     "text": [
      "Expected Role Therapist\n"
     ]
    },
    {
     "name": "stderr",
     "output_type": "stream",
     "text": [
      "Processed prompts: 100%|██████████████████████████████████████████| 1/1 [00:00<00:00,  3.57it/s, est. speed input: 7536.83 toks/s, output: 171.77 toks/s]\n"
     ]
    },
    {
     "name": "stdout",
     "output_type": "stream",
     "text": [
      "Expected Role Patient\n"
     ]
    },
    {
     "name": "stderr",
     "output_type": "stream",
     "text": [
      "Processed prompts: 100%|██████████████████████████████████████████| 1/1 [00:00<00:00,  3.30it/s, est. speed input: 7371.81 toks/s, output: 175.58 toks/s]\n"
     ]
    },
    {
     "name": "stdout",
     "output_type": "stream",
     "text": [
      "Expected Role Therapist\n"
     ]
    },
    {
     "name": "stderr",
     "output_type": "stream",
     "text": [
      "Processed prompts: 100%|██████████████████████████████████████████| 1/1 [00:00<00:00,  3.59it/s, est. speed input: 7961.84 toks/s, output: 176.36 toks/s]\n"
     ]
    },
    {
     "name": "stdout",
     "output_type": "stream",
     "text": [
      "Expected Role Patient\n"
     ]
    },
    {
     "name": "stderr",
     "output_type": "stream",
     "text": [
      "Processed prompts: 100%|█████████████████████████████████████████| 1/1 [00:00<00:00,  4.38it/s, est. speed input: 10243.50 toks/s, output: 175.69 toks/s]\n"
     ]
    },
    {
     "name": "stdout",
     "output_type": "stream",
     "text": [
      "Expected Role Therapist\n"
     ]
    },
    {
     "name": "stderr",
     "output_type": "stream",
     "text": [
      "Processed prompts: 100%|██████████████████████████████████████████| 1/1 [00:00<00:00,  3.67it/s, est. speed input: 8479.75 toks/s, output: 176.49 toks/s]\n"
     ]
    },
    {
     "name": "stdout",
     "output_type": "stream",
     "text": [
      "Expected Role Patient\n"
     ]
    },
    {
     "name": "stderr",
     "output_type": "stream",
     "text": [
      "Processed prompts: 100%|██████████████████████████████████████████| 1/1 [00:00<00:00,  3.52it/s, est. speed input: 8565.11 toks/s, output: 173.05 toks/s]\n"
     ]
    },
    {
     "name": "stdout",
     "output_type": "stream",
     "text": [
      "Expected Role Therapist\n"
     ]
    },
    {
     "name": "stderr",
     "output_type": "stream",
     "text": [
      "Processed prompts: 100%|██████████████████████████████████████████| 1/1 [00:00<00:00,  3.51it/s, est. speed input: 8491.51 toks/s, output: 172.78 toks/s]\n"
     ]
    },
    {
     "name": "stdout",
     "output_type": "stream",
     "text": [
      "Expected Role Patient\n"
     ]
    },
    {
     "name": "stderr",
     "output_type": "stream",
     "text": [
      "Processed prompts: 100%|██████████████████████████████████████████| 1/1 [00:00<00:00,  3.32it/s, est. speed input: 8433.44 toks/s, output: 173.46 toks/s]\n"
     ]
    },
    {
     "name": "stdout",
     "output_type": "stream",
     "text": [
      "Expected Role Therapist\n"
     ]
    },
    {
     "name": "stderr",
     "output_type": "stream",
     "text": [
      "Processed prompts: 100%|██████████████████████████████████████████| 1/1 [00:00<00:00,  3.67it/s, est. speed input: 9252.00 toks/s, output: 172.95 toks/s]\n"
     ]
    },
    {
     "name": "stdout",
     "output_type": "stream",
     "text": [
      "Expected Role Patient\n"
     ]
    },
    {
     "name": "stderr",
     "output_type": "stream",
     "text": [
      "Processed prompts: 100%|██████████████████████████████████████████| 1/1 [00:00<00:00,  3.25it/s, est. speed input: 8573.58 toks/s, output: 172.64 toks/s]\n"
     ]
    },
    {
     "name": "stdout",
     "output_type": "stream",
     "text": [
      "Expected Role Therapist\n"
     ]
    },
    {
     "name": "stderr",
     "output_type": "stream",
     "text": [
      "Processed prompts: 100%|██████████████████████████████████████████| 1/1 [00:00<00:00,  3.47it/s, est. speed input: 9127.28 toks/s, output: 174.23 toks/s]\n"
     ]
    },
    {
     "name": "stdout",
     "output_type": "stream",
     "text": [
      "Expected Role Patient\n"
     ]
    },
    {
     "name": "stderr",
     "output_type": "stream",
     "text": [
      "Processed prompts: 100%|██████████████████████████████████████████| 1/1 [00:00<00:00,  3.46it/s, est. speed input: 9519.21 toks/s, output: 170.22 toks/s]\n"
     ]
    },
    {
     "name": "stdout",
     "output_type": "stream",
     "text": [
      "Expected Role Therapist\n"
     ]
    },
    {
     "name": "stderr",
     "output_type": "stream",
     "text": [
      "Processed prompts: 100%|██████████████████████████████████████████| 1/1 [00:00<00:00,  3.25it/s, est. speed input: 8887.52 toks/s, output: 169.71 toks/s]\n"
     ]
    },
    {
     "name": "stdout",
     "output_type": "stream",
     "text": [
      "Expected Role Patient\n"
     ]
    },
    {
     "name": "stderr",
     "output_type": "stream",
     "text": [
      "Processed prompts: 100%|███████████████████████████████████████████| 1/1 [00:00<00:00,  6.52it/s, est. speed input: 891.96 toks/s, output: 183.61 toks/s]\n",
      "Processed prompts: 100%|███████████████████████████████████████████| 1/1 [00:00<00:00,  7.16it/s, est. speed input: 972.70 toks/s, output: 180.10 toks/s]\n",
      "Processed prompts: 100%|██████████████████████████████████████████| 1/1 [00:00<00:00,  7.53it/s, est. speed input: 1168.63 toks/s, output: 182.10 toks/s]\n",
      "Processed prompts: 100%|███████████████████████████████████████████| 1/1 [00:00<00:00,  6.67it/s, est. speed input: 985.94 toks/s, output: 181.07 toks/s]\n",
      "Processed prompts: 100%|███████████████████████████████████████████| 1/1 [00:00<00:00,  6.57it/s, est. speed input: 917.86 toks/s, output: 178.27 toks/s]\n",
      "Processed prompts: 100%|███████████████████████████████████████████| 1/1 [00:00<00:00,  5.14it/s, est. speed input: 681.69 toks/s, output: 180.73 toks/s]\n",
      "Processed prompts: 100%|███████████████████████████████████████████| 1/1 [00:00<00:00,  4.59it/s, est. speed input: 663.96 toks/s, output: 179.81 toks/s]\n",
      "Processed prompts: 100%|███████████████████████████████████████████| 1/1 [00:00<00:00,  4.83it/s, est. speed input: 736.93 toks/s, output: 179.37 toks/s]\n",
      "Processed prompts: 100%|███████████████████████████████████████████| 1/1 [00:00<00:00,  6.49it/s, est. speed input: 939.45 toks/s, output: 182.65 toks/s]\n",
      "Processed prompts: 100%|██████████████████████████████████████████| 1/1 [00:00<00:00,  7.00it/s, est. speed input: 1017.68 toks/s, output: 183.72 toks/s]\n",
      "Processed prompts: 100%|███████████████████████████████████████████| 1/1 [00:00<00:00,  6.41it/s, est. speed input: 981.03 toks/s, output: 180.67 toks/s]\n",
      "Processed prompts:   0%|                                                       | 0/1 [00:00<?, ?it/s, est. speed input: 0.00 toks/s, output: 0.00 toks/s]"
     ]
    }
   ],
   "source": [
    "prompts = config_role\n",
    "config = config_llm\n",
    "eval_prompts = eval_prompts\n",
    "index_offset = load_stats_file(write_file)\n",
    "conversations = []    \n",
    "lengths = [10, 20, 40, 60]\n",
    "count = 0 \n",
    "for i in range(1):\n",
    "    for patient_dict in personas_therapy:\n",
    "        count+=1\n",
    "        print(count)\n",
    "        background = patient_dict[\"persona\"]\n",
    "        for convo_length in lengths:\n",
    "            config_llm['convo_length_limit'] = convo_length\n",
    "            reset_stats()\n",
    "            conversation = generate_conversation(\n",
    "                config_llm,\n",
    "                \"\", \n",
    "                background,\n",
    "                \"Therapist\", \n",
    "                \"Patient\",\n",
    "                pturn=1\n",
    "            )\n",
    "            conversation_eval = eval_prompt_consistency(conversation, both_agents=False)\n",
    "            conversation_eval = eval_index_consistency(conversation_eval, both_agents=False)\n",
    "            print(conversation_eval)\n",
    "            conversations.append(conversation_eval)\n",
    "            stats['index'] = index_offset\n",
    "            stats['timestamp'] = datetime.now().strftime(\"%Y-%m-%d %H:%M:%S\")\n",
    "            write_stats(write_file, conversation_eval)\n",
    "            index_offset += 1\n",
    "\n"
   ]
  },
  {
   "cell_type": "code",
   "execution_count": null,
   "metadata": {},
   "outputs": [],
   "source": [
    "len(conversations)"
   ]
  },
  {
   "cell_type": "code",
   "execution_count": null,
   "metadata": {},
   "outputs": [],
   "source": [
    "# conversations"
   ]
  },
  {
   "cell_type": "code",
   "execution_count": null,
   "metadata": {},
   "outputs": [],
   "source": [
    "# count=0\n",
    "# avg = 0 \n",
    "# for conversation in conversations: \n",
    "#     if conversation[\"P2_prompt_consistency_score\"] <= 0.7:\n",
    "#         count+=1\n",
    "#     avg+=conversation[\"P2_prompt_consistency_score\"]\n",
    "# print(count)\n",
    "# print(avg)\n",
    "# print(avg/len(conversations))"
   ]
  },
  {
   "cell_type": "code",
   "execution_count": null,
   "metadata": {},
   "outputs": [],
   "source": [
    "# write_file"
   ]
  },
  {
   "cell_type": "code",
   "execution_count": null,
   "metadata": {},
   "outputs": [],
   "source": [
    "# filenames = [\n",
    "#     \"gemma-2-2b-it_len10-v1.json\",\n",
    "#     \"gemma-2-2b-it_len20-v1.json\",\n",
    "#     \"gemma-2-2b-it_len40-v1.json\",\n",
    "#     \"Llama-3.1-8B-Instruct_len10-v1.json\",\n",
    "#     \"Llama-3.1-8B-Instruct_len20-v1.json\",\n",
    "#     \"mistral-instruct_len40-v1.json\",\n",
    "#     \"mistral-instruct-len10-v1.json\",\n",
    "#     \"mistral-instruct-len20-v1.json\", \n",
    "#     \"gemma-2-2b-it_len60-v1.json\"]\n"
   ]
  },
  {
   "cell_type": "code",
   "execution_count": null,
   "metadata": {},
   "outputs": [],
   "source": []
  },
  {
   "cell_type": "code",
   "execution_count": null,
   "metadata": {},
   "outputs": [],
   "source": [
    "# import json\n",
    "# import os\n",
    "\n",
    "# index_offset = load_stats_file(write_file)\n",
    "\n",
    "# directory = \"therapy/exp/05.08.25/\"\n",
    "# for filename in filenames:\n",
    "#     path = os.path.join(directory, filename)\n",
    "#     conversations = []\n",
    "#     with open(path, \"r\") as f:\n",
    "#         conversations = json.load(f)\n",
    "#     print(filename)\n",
    "#     if isinstance(conversations, list):\n",
    "#         for conversation in conversations:\n",
    "#             print(conversation)\n",
    "#             conversation_eval = eval_index_consistency(conversation, both_agents=False)\n",
    "#             print(conversation_eval)\n",
    "#             conversations.append(conversation_eval)\n",
    "#             stats['index'] = index_offset\n",
    "#             stats['timestamp'] = datetime.now().strftime(\"%Y-%m-%d %H:%M:%S\")\n",
    "#             write_stats(write_file, conversation_eval)\n",
    "#             index_offset += 1\n",
    "        \n",
    "#     else:\n",
    "#         print(f\"Skipped {filename}: not a top-level list\")\n"
   ]
  },
  {
   "cell_type": "code",
   "execution_count": null,
   "metadata": {},
   "outputs": [],
   "source": []
  },
  {
   "cell_type": "code",
   "execution_count": null,
   "metadata": {},
   "outputs": [],
   "source": []
  }
 ],
 "metadata": {
  "kernelspec": {
   "display_name": "Python 3 (ipykernel)",
   "language": "python",
   "name": "python3"
  },
  "language_info": {
   "codemirror_mode": {
    "name": "ipython",
    "version": 3
   },
   "file_extension": ".py",
   "mimetype": "text/x-python",
   "name": "python",
   "nbconvert_exporter": "python",
   "pygments_lexer": "ipython3",
   "version": "3.12.3"
  }
 },
 "nbformat": 4,
 "nbformat_minor": 4
}
