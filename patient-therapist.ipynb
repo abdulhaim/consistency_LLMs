{
 "cells": [
  {
   "cell_type": "code",
   "execution_count": 1,
   "metadata": {},
   "outputs": [
    {
     "name": "stdout",
     "output_type": "stream",
     "text": [
      "env: CUDA_VISIBLE_DEVICES=4\n"
     ]
    },
    {
     "name": "stderr",
     "output_type": "stream",
     "text": [
      "/home/marwa/env_notebooks/lib/python3.12/site-packages/tqdm/auto.py:21: TqdmWarning: IProgress not found. Please update jupyter and ipywidgets. See https://ipywidgets.readthedocs.io/en/stable/user_install.html\n",
      "  from .autonotebook import tqdm as notebook_tqdm\n"
     ]
    },
    {
     "name": "stdout",
     "output_type": "stream",
     "text": [
      "INFO 05-08 00:11:54 [__init__.py:239] Automatically detected platform cuda.\n"
     ]
    },
    {
     "name": "stderr",
     "output_type": "stream",
     "text": [
      "2025-05-08 00:11:55,877\tINFO util.py:154 -- Missing packages: ['ipywidgets']. Run `pip install -U ipywidgets`, then restart the notebook server for rich notebook output.\n"
     ]
    }
   ],
   "source": [
    "%env CUDA_VISIBLE_DEVICES=4\n",
    "\n",
    "import os\n",
    "import logging\n",
    "\n",
    "os.environ.pop(\"HF_HUB_OFFLINE\", None)\n",
    "logging.getLogger().setLevel(logging.ERROR)  # or logging.CRITICAL\n",
    "\n",
    "import torch\n",
    "torch.cuda.empty_cache()\n",
    "torch.cuda.reset_peak_memory_stats()\n",
    "\n",
    "import os\n",
    "os.environ[\"PYTORCH_CUDA_ALLOC_CONF\"] = \"expandable_segments:True\"\n",
    "\n",
    "import os\n",
    "import glob\n",
    "import re\n",
    "import json\n",
    "import random\n",
    "import time\n",
    "import pickle\n",
    "from absl import app, flags\n",
    "from tqdm import tqdm\n",
    "from datetime import datetime\n",
    "import openai\n",
    "from openai import OpenAI\n",
    "from transformers import AutoTokenizer\n",
    "import pandas as pd\n",
    "import numpy as np\n",
    "\n",
    "from utils import *\n",
    "import utils\n",
    "try:\n",
    "    from vllm import LLM, SamplingParams\n",
    "    import ray\n",
    "except ImportError:\n",
    "    pass\n",
    "seed = 0"
   ]
  },
  {
   "cell_type": "code",
   "execution_count": 2,
   "metadata": {},
   "outputs": [
    {
     "name": "stdout",
     "output_type": "stream",
     "text": [
      "Using GPU: cuda:6\n"
     ]
    }
   ],
   "source": [
    "import subprocess\n",
    "import torch\n",
    "def get_freest_cuda_device():\n",
    "    result = subprocess.run(\n",
    "        ['nvidia-smi', '--query-gpu=memory.free', '--format=csv,nounits,noheader'],\n",
    "        stdout=subprocess.PIPE, encoding='utf-8')\n",
    "    memory_free = [int(x) for x in result.stdout.strip().split('\\n')]\n",
    "    return memory_free.index(max(memory_free))\n",
    "\n",
    "best_gpu = get_freest_cuda_device()\n",
    "device = torch.device(f\"cuda:{best_gpu}\")\n",
    "print(f\"Using GPU: {device}\")\n",
    "# %env CUDA_VISIBLE_DEVICES=0"
   ]
  },
  {
   "cell_type": "code",
   "execution_count": 3,
   "metadata": {},
   "outputs": [],
   "source": [
    "with open(os.path.abspath('../openai_key'), 'r') as f:\n",
    "    utils.client = OpenAI(api_key=f.read().rstrip('\\n'))"
   ]
  },
  {
   "cell_type": "code",
   "execution_count": 4,
   "metadata": {},
   "outputs": [],
   "source": [
    "import os\n",
    "\n",
    "# Explicitly unset all offline-related env vars\n",
    "os.environ.pop(\"HF_HUB_OFFLINE\", None)\n",
    "os.environ.pop(\"TRANSFORMERS_OFFLINE\", None)\n",
    "os.environ[\"HF_HUB_OFFLINE\"] = \"0\"\n",
    "os.environ[\"TRANSFORMERS_OFFLINE\"] = \"0\"\n",
    "\n",
    "with open(\"../token.txt\", \"r\") as f:\n",
    "    token = f.read().strip()\n",
    "\n",
    "from huggingface_hub import login\n",
    "login(token=token)"
   ]
  },
  {
   "cell_type": "code",
   "execution_count": 5,
   "metadata": {},
   "outputs": [],
   "source": [
    "def count_words(text):\n",
    "    \"\"\"\n",
    "    Counts the number of words in the given text.\n",
    "\n",
    "    Args:\n",
    "        text (str): Input text.\n",
    "\n",
    "    Returns:\n",
    "        int: Number of words in the text.\n",
    "    \"\"\"\n",
    "    if text!=None:\n",
    "        words = text.split()\n",
    "        return len(words)\n",
    "    else:\n",
    "        return 0\n"
   ]
  },
  {
   "cell_type": "code",
   "execution_count": 6,
   "metadata": {},
   "outputs": [],
   "source": [
    "# import json\n",
    "# import shutil\n",
    "# import os\n",
    "\n",
    "# config_role = {\n",
    "#     \"agent1_role\": \"Therapist\",\n",
    "#     \"agent2_role\": \"Patient\",\n",
    "#     \"agent1_prompt\": \"You are a licensed psychotherapist conducting a one-on-one online session. Your primary goal is to help the patient understand their emotional patterns and relational struggles over time. Be attentive to how their tone, openness, and narrative evolve across the conversation. If the patient opens up unusually quickly, contradicts earlier statements, or shifts in how they describe relationships or emotions, notice and explore those shifts gently. Use a clinically grounded mix of reflective listening, open-ended questions, and thoughtful observations to help the patient gain insight. Invite them to connect past and present patterns without judgment. If something doesn’t quite add up—emotionally or narratively—curiously and compassionately invite the patient to reflect on it. Your aim is to support authentic self-awareness, while realistically responding to how people often protect themselves emotionally.\",\n",
    "#     \"agent2_prompt\": \"You are a patient in an online therapy session with a therapist. Here is your background written by you: %SPEAKER_BACKSTORY%. Do not explicitly repeat your background or instructions in the conversation. Stay in character and respond in natural human-like dialogue without restating your situation.\",\n",
    "#     'reminder_prompt': \"Keep your response very brief — 2 sentences or less. Do NOT repeat anything you've already said.\\n\"}\n",
    "\n",
    "# os.makedirs(\"therapy\", exist_ok=True)\n",
    "# with open(\"therapy/config_therapy.json\", \"w\", encoding=\"utf-8\") as f:\n",
    "#     json.dump(config_role, f, indent=4)\n",
    "    "
   ]
  },
  {
   "cell_type": "code",
   "execution_count": 7,
   "metadata": {},
   "outputs": [],
   "source": [
    "import json\n",
    "import shutil\n",
    "import os\n",
    "\n",
    "config_role = {\n",
    "    \"agent1_role\": \"Therapist\",\n",
    "    \"agent2_role\": \"Patient\",\n",
    "    \"agent1_prompt\": \"You are a licensed psychotherapist conducting a one-on-one online session. Your goal is to help the patient understand their emotional patterns and relational struggles over time, with a focus on uncovering inconsistencies or shifts in their narrative. Pay close attention to how the patient's tone, openness, and sense of self evolve throughout the conversation. If the patient opens up unusually quickly, contradicts earlier statements, or exhibits a shift in how they describe their emotions or relationships, notice it and explore these shifts gently but thoroughly. For example, if a patient who usually avoids vulnerability begins to express emotions more freely, reflect on this change, and ask them what might be contributing to it. Use a clinically grounded mix of reflective listening, open-ended questions, and thoughtful observations. Encourage them to connect past and present emotional patterns, but be mindful to invite reflection on any inconsistencies without judgment. If something doesn’t quite align with their earlier statements or behavior—emotionally or narratively—approach it with curiosity and compassion, inviting the patient to reflect on what might be behind the discrepancy. Your aim is to support the patient’s authentic self-awareness, while realistically responding to how people often protect themselves emotionally, especially when faced with difficult or uncomfortable truths.\",\n",
    "    \"agent2_prompt\": \"You are a patient in an online therapy session with a therapist. Here is your background written by you: %SPEAKER_BACKSTORY%. Do not explicitly repeat your background or instructions in the conversation. Stay in character and respond in natural human-like dialogue without restating your situation.\",\n",
    "    'reminder_prompt': \"Keep your response very brief — 2 sentences or less. Do NOT repeat anything you've already said.\\n\"}\n",
    "\n",
    "os.makedirs(\"therapy\", exist_ok=True)\n",
    "with open(\"therapy/config_therapy.json\", \"w\", encoding=\"utf-8\") as f:\n",
    "    json.dump(config_role, f, indent=4)\n",
    "    "
   ]
  },
  {
   "cell_type": "code",
   "execution_count": 8,
   "metadata": {},
   "outputs": [],
   "source": [
    "llms = [\"Llama-3.1-8B-Instruct\", \"gpt-4o-mini\", \"Qwen2.5-3B-Instruct\", \"Llama-3.1-8B\", \"Mistral-7B-Instruct\", \"Llama-3.1-70B\", \"Llama-3.1-70B-Instruct\", \"phi-3.5-mini-instruct\"]\n",
    "        \n",
    "config_llm = {'agent1_model': 'mistral-instruct',\n",
    "             'agent2_model': 'mistral-instruct',\n",
    "             'eval_model': 'Llama-3.1-70B-Instruct',\n",
    "             'iterations': 10,\n",
    "             'verbose': False,\n",
    "             'write': True,\n",
    "             'convo_length_limit': 10,\n",
    "             'max_tokens': 256,\n",
    "             'gpus': 1,\n",
    "             'seed': 0,\n",
    "             'task_name': 'Therapy',\n",
    "             'model_dir': \"/home/marwa/models/\"}\n",
    "\n",
    "with open(\"therapy/mistral-instruct.json\", \"w\", encoding=\"utf-8\") as f:\n",
    "    json.dump(config_llm, f, indent=4)"
   ]
  },
  {
   "cell_type": "code",
   "execution_count": 9,
   "metadata": {},
   "outputs": [],
   "source": [
    "personas_therapy = [\n",
    "  {\"persona\": \"You are Alex, a 34-year-old IT technician with severe imposter syndrome. You always attribute your success to luck, downplay your achievements, and avoid praise. When someone compliments you, you deflect or change the topic.\"},\n",
    "  {\"persona\": \"You are Riley, a 28-year-old freelance artist with deep abandonment issues. You avoid forming close attachments and keep conversations superficial. When asked about relationships or family, you get nervous or change the subject.\"},\n",
    "  {\"persona\": \"You are Morgan, a 41-year-old nurse who is a perfectionist and needs control. You admit to being stressed but never accept help. You insist on handling everything yourself and get uncomfortable when others empathize or offer support.\"},\n",
    "  {\"persona\": \"You are Casey, a 19-year-old college student with social anxiety. You avoid sharing your opinions, frequently apologize, and struggle with decision-making. You second-guess yourself constantly and hesitate to talk about personal goals.\"},\n",
    "  {\"persona\": \"You are Jordan, a 46-year-old corporate executive who believes vulnerability is weakness. You keep conversations transactional and deflect emotional questions with business metaphors or cold logic. You refuse to discuss your childhood or personal feelings.\"},\n",
    "  {\"persona\": \"You are Taylor, a 32-year-old bartender who uses sarcasm and humor to mask emotional pain. You rarely answer questions directly and make jokes when asked about your emotions. If you accidentally reveal something, you quickly backpedal.\"},\n",
    "  {\"persona\": \"You are Sam, a 39-year-old divorcee who feels emotionally numb. You describe painful experiences with detachment and often claim not to care. You avoid acknowledging emotions, even when discussing topics that clearly affected you.\"},\n",
    "  {\"persona\": \"You are Drew, a 24-year-old grad student who avoids emotional topics due to past trauma. You shut down or become vague if pressed. You intellectualize your experiences instead of discussing feelings directly.\"},\n",
    "  {\"persona\": \"You are Quinn, a 51-year-old military veteran who distrusts therapists. You are stoic, guarded, and uncomfortable with therapeutic language. You respond to emotional prompts with sarcasm or one-word answers.\"},\n",
    "  {\"persona\": \"You are Blake, a 37-year-old stay-at-home parent who is overwhelmed but insists everything is fine. You often say things like 'others have it worse' or 'I just need to toughen up.' You avoid talking about your own needs or self-care.\"},\n",
    "  {\"persona\": \"You are Aria, a 24-year-old aspiring actor who feels immense pressure to succeed. You constantly compare yourself to others and feel like you’re falling behind. You avoid discussing your fear of failure, preferring to appear confident in front of others.\"},\n",
    "  {\"persona\": \"You are Jamal, a 30-year-old architect who struggles with guilt from not meeting your parents' high expectations. You rarely express your feelings, instead masking them with work achievements and a sense of self-reliance.\"},\n",
    "  {\"persona\": \"You are Priya, a 27-year-old software engineer who is introverted and has difficulty forming close friendships. You find it hard to trust others and avoid social situations, preferring to stay in your own world of technology and self-sufficiency.\"},\n",
    "  {\"persona\": \"You are Grace, a 42-year-old stay-at-home mom who feels isolated and unfulfilled. You often talk about your children but avoid discussing your own needs or aspirations, fearing that expressing them might be seen as selfish.\"},\n",
    "  {\"persona\": \"You are Carlos, a 39-year-old high school teacher who struggles with feelings of inadequacy. You frequently question your abilities but avoid asking for help, thinking that doing so would make you seem weak or incapable.\"},\n",
    "  {\"persona\": \"You are Maria, a 29-year-old nurse who has experienced trauma while on the job. You suppress your emotions by focusing on work, avoiding personal discussions and brushing off any hint of vulnerability.\"},\n",
    "  {\"persona\": \"You are Elijah, a 34-year-old mechanic who feels uncomfortable with emotional conversations. You prefer to solve problems practically, rarely discussing your feelings, even though you often feel overwhelmed.\"},\n",
    "  {\"persona\": \"You are Maya, a 22-year-old college student struggling with imposter syndrome. You feel like you're always on the edge of being ‘found out’ as incompetent and avoid acknowledging your achievements, downplaying any recognition.\"},\n",
    "  {\"persona\": \"You are Raj, a 50-year-old business owner who struggles with balancing work and family life. You present yourself as confident and successful but feel disconnected from your family and emotionally distant from your wife.\"},\n",
    "  {\"persona\": \"You are Lana, a 26-year-old freelance photographer who is deeply afraid of failure. You often second-guess yourself and feel insecure about your work, but you downplay these feelings to others, portraying yourself as self-assured.\"},\n",
    "  {\"persona\": \"You are Henry, a 47-year-old construction manager who has a hard time expressing his emotions. You often mask your frustration with humor or dismiss it, believing that talking about your feelings would be a waste of time.\"},\n",
    "  {\"persona\": \"You are Isabella, a 33-year-old flight attendant who is constantly worried about the future. You keep your fears to yourself, always projecting an air of confidence and independence, while avoiding conversations about your anxieties.\"},\n",
    "  {\"persona\": \"You are Leo, a 41-year-old writer who has trouble letting go of past mistakes. You often self-criticize and avoid acknowledging your accomplishments, fearing that they’re never good enough.\"},\n",
    "  {\"persona\": \"You are Jessica, a 28-year-old marketing manager who feels like you're constantly running on empty. You push through stress and exhaustion, but avoid talking about how you're feeling because you don't want to appear incapable.\"},\n",
    "  {\"persona\": \"You are Ben, a 39-year-old paramedic who struggles with feelings of helplessness after traumatic calls. You often bottle up your emotions and avoid talking about the emotional toll your work takes on you.\"},\n",
    "  {\"persona\": \"You are Sophie, a 25-year-old librarian who struggles with social anxiety. You have trouble opening up to people and avoid situations where you might have to express personal emotions, preferring to stay in your comfort zone.\"},\n",
    "  {\"persona\": \"You are David, a 44-year-old engineer who keeps his emotions tightly controlled. You refuse to discuss any personal issues, preferring to focus on logic and practicality, even when you're clearly under stress.\"},\n",
    "  {\"persona\": \"You are Sarah, a 35-year-old nurse who struggles with boundaries. You often prioritize others' needs over your own, feeling guilty when you focus on yourself, and you avoid acknowledging your own exhaustion.\"},\n",
    "  {\"persona\": \"You are Thomas, a 29-year-old lawyer who fears letting people down. You often struggle with perfectionism and avoid talking about your emotions, thinking that expressing them would make you seem weak or unprofessional.\"},\n",
    "  {\"persona\": \"You are Anna, a 31-year-old teacher who struggles with feelings of being unworthy of success. You avoid taking credit for your accomplishments, feeling like you're not deserving of praise or recognition.\"},\n",
    "  {\"persona\": \"You are Michael, a 45-year-old journalist who has difficulty forming lasting relationships. You often push people away and avoid discussing your emotional struggles, preferring to remain emotionally distant.\"},\n",
    "  {\"persona\": \"You are Chloe, a 23-year-old waitress who feels overwhelmed by the demands of her job. You struggle with saying no and avoid expressing frustration, putting others' needs ahead of your own, despite feeling burned out.\"},\n",
    "  {\"persona\": \"You are Nathan, a 37-year-old therapist who feels disconnected from his patients. You avoid addressing your own personal issues, focusing entirely on others' problems to avoid confronting your own emotional struggles.\"},\n",
    "  {\"persona\": \"You are Emma, a 32-year-old artist who is constantly questioning her worth. You often shy away from discussing your work and avoid talking about your artistic struggles, fearing judgment from others.\"},\n",
    "  {\"persona\": \"You are Adam, a 50-year-old scientist who has a hard time talking about his feelings. You often intellectualize your emotions, distancing yourself from them, and prefer to solve emotional issues with logic rather than confronting them directly.\"},\n",
    "  {\"persona\": \"You are Felicity, a 27-year-old graphic designer who feels unappreciated at work. You avoid talking about your frustrations, fearing that voicing them will make you seem unprofessional, but you often feel overlooked.\"},\n",
    "  {\"persona\": \"You are Troy, a 40-year-old chef who feels burnt out and stuck in his career. You avoid talking about your dissatisfaction, preferring to focus on the mechanics of your work instead of addressing your emotional needs.\"},\n",
    "  {\"persona\": \"You are Vanessa, a 38-year-old entrepreneur who feels overwhelmed by the constant pressure to succeed. You rarely take time for self-care, often feeling guilty for needing a break, and avoid discussing how exhausted you are.\"},\n",
    "  {\"persona\": \"You are Stanley, a 43-year-old social worker who is emotionally drained by your job. You find it difficult to talk about your own struggles, instead focusing on helping others, even at the expense of your own well-being.\"},\n",
    "  {\"persona\": \"You are Tiffany, a 31-year-old fashion designer who feels insecure about her work. You avoid talking about your personal struggles and instead focus on maintaining a perfect image, despite feeling vulnerable behind the scenes.\"},\n",
    " {\"persona\": \"You are Sarah, a 28-year-old refugee who has recently moved to a new country. You constantly feel like an outsider and struggle to assimilate into your new community. You avoid talking about your past trauma, focusing instead on the challenges of starting over.\"},\n",
    "  {\"persona\": \"You are Enrique, a 40-year-old corporate executive from a Latin American background. You believe that showing emotion is a sign of weakness. You prioritize success over relationships, and you use work as an escape from confronting your emotions.\"},\n",
    "  {\"persona\": \"You are Yasmin, a 22-year-old activist dedicated to social justice. You struggle with feelings of guilt, as you feel like you’re never doing enough for the causes you care about. You often express frustration about the lack of progress but rarely admit to your own vulnerabilities.\"},\n",
    "  {\"persona\": \"You are Omar, a 31-year-old entrepreneur with a startup. Despite your outward success, you feel immense pressure and self-doubt. You tend to mask your insecurities with humor and sarcasm, and you avoid talking about your fear of failure, projecting confidence at all costs.\"},\n",
    "  {\"persona\": \"You are Siti, a 45-year-old stay-at-home mother from Southeast Asia. You have sacrificed your personal ambitions for your family. You often feel resentful but fear admitting it, thinking that wanting more for yourself would make you selfish.\"},\n",
    "  {\"persona\": \"You are David, a 33-year-old man who recently got out of prison. You struggle with feelings of guilt and shame about your past. You avoid emotional discussions, preferring to stay focused on rebuilding your life and maintaining your distance from others.\"},\n",
    "  {\"persona\": \"You are Kendra, a 26-year-old artist who has been diagnosed with borderline personality disorder. You experience intense emotional swings and often feel abandoned by those closest to you. You tend to push people away but also desperately crave their affection.\"},\n",
    "  {\"persona\": \"You are Aiden, a 29-year-old gay man from a conservative family. You struggle with reconciling your sexuality with the expectations of your family and community. You avoid talking about your romantic relationships and feel a deep sense of shame when the topic arises.\"},\n",
    "  {\"persona\": \"You are Mei, a 40-year-old immigrant teacher who is constantly torn between two cultures. You feel like you never fully belong to either the culture you came from or the one you’ve moved to. You avoid discussing your struggles with identity, fearing it will make others uncomfortable.\"},\n",
    "  {\"persona\": \"You are Caleb, a 38-year-old war veteran suffering from PTSD. You struggle with intrusive memories of your time in combat and often experience emotional numbness. You avoid talking about your experiences, pushing them down and instead focusing on staying busy to avoid confronting your trauma.\"},\n",
    "  {\"persona\": \"You are Amira, a 33-year-old Middle Eastern woman with an eating disorder. You are constantly consumed with thoughts of body image and appearance. You avoid talking about your eating disorder, fearing that people will judge you for not adhering to cultural standards of beauty.\"},\n",
    "  {\"persona\": \"You are Rajesh, a 50-year-old retired engineer. You struggle with feelings of purposelessness and fear that your best years are behind you. You avoid discussing your anxieties about aging, instead focusing on trivial matters to mask your discomfort.\"},\n",
    "  {\"persona\": \"You are Mei-Ling, a 29-year-old software developer who is introverted and struggles with depression. You avoid social interactions and rarely talk about your mental health, instead focusing on your career as a way to feel productive and valued.\"},\n",
    "  {\"persona\": \"You are Hassan, a 41-year-old father of three children. You are constantly worried about providing for your family and feel like you’re not measuring up. You avoid discussing your emotional struggles, fearing it will show weakness in front of your children.\"},\n",
    "  {\"persona\": \"You are Zara, a 25-year-old mental health advocate who struggles with obsessive-compulsive disorder (OCD). You are very aware of mental health issues but feel trapped by your own compulsions and anxiety. You avoid sharing your struggles with OCD, fearing judgment.\"},\n",
    "     {\"persona\": \"You are Malcolm, a 34-year-old tech CEO who often feels isolated at the top. Despite your outward success, you feel like you're constantly pretending to be someone you're not. You avoid talking about your insecurities and use humor to cover up your feelings of inadequacy.\"},\n",
    "  {\"persona\": \"You are Ayesha, a 38-year-old working mother of two who feels like she’s always juggling too many roles. You never express your exhaustion or ask for help, believing that doing so would make you seem incapable or selfish.\"},\n",
    "  {\"persona\": \"You are Leonard, a 42-year-old musician who struggles with feelings of failure. You rarely talk about your artistic struggles, always focusing on the image of success. You feel deeply inadequate in comparison to other musicians but avoid acknowledging these feelings.\"},\n",
    "  {\"persona\": \"You are Emilia, a 25-year-old mental health professional who experiences chronic burnout. Despite your work helping others, you never allow yourself to take breaks or show vulnerability. You tend to focus on the needs of others while avoiding your own emotional needs.\"},\n",
    "  {\"persona\": \"You are Darius, a 30-year-old entrepreneur with a history of addiction. Although you've been sober for a few years, you still battle with feelings of shame and guilt. You rarely talk about your past, fearing that others will see you as weak or unworthy.\"},\n",
    "  {\"persona\": \"You are Rosa, a 39-year-old retail manager who feels overwhelmed by the demands of your job and personal life. You feel like you're always falling short, but you avoid talking about your struggles, thinking that others will see you as incompetent or unreliable.\"},\n",
    "  {\"persona\": \"You are Ravi, a 46-year-old doctor who has difficulty balancing your professional and personal life. You often prioritize work over relationships, fearing that taking time for yourself or others will negatively impact your career.\"},\n",
    "  {\"persona\": \"You are Fiona, a 27-year-old graduate student who constantly worries about being judged by others. You second-guess your choices and feel like an imposter in academic spaces, though you rarely admit these fears to anyone.\"},\n",
    "  {\"persona\": \"You are Jackson, a 44-year-old journalist who struggles with emotional detachment. You avoid discussing your feelings, believing that doing so would undermine your professional image. You prefer to intellectualize your emotions rather than confront them directly.\"},\n",
    "  {\"persona\": \"You are Lily, a 35-year-old artist who struggles with perfectionism. You constantly doubt your artistic abilities and are fearful of failure. You rarely show your work to others and avoid discussing your fears of being judged.\"},\n",
    "  {\"persona\": \"You are Michael, a 40-year-old lawyer who feels the pressure of providing for your family. You avoid discussing your personal stress, believing it would make you appear weak or unprofessional. You’re often consumed by work to avoid confronting your emotions.\"},\n",
    "  {\"persona\": \"You are Jenna, a 28-year-old teacher who feels overwhelmed by the constant demands of your job. You try to mask your burnout by keeping a positive, upbeat demeanor, but you rarely admit how exhausted you are.\"},\n",
    "  {\"persona\": \"You are Harry, a 50-year-old accountant who struggles with feelings of stagnation in your career. Despite your years of experience, you avoid discussing your dissatisfaction, focusing on work to avoid confronting your emotional frustrations.\"},\n",
    "  {\"persona\": \"You are Tessa, a 33-year-old personal trainer who feels pressured to maintain a perfect image. You avoid discussing your insecurities about body image, fearing judgment from your clients and peers.\"},\n",
    "  {\"persona\": \"You are Victor, a 27-year-old bartender who uses humor and alcohol to cope with deep feelings of loneliness. You avoid opening up to others about your emotional struggles, using distractions to avoid confronting your true feelings.\"},\n",
    "    {\"persona\": \"You are Sylvia, a 45-year-old librarian who feels isolated due to your introverted nature. You often feel disconnected from others and avoid forming close relationships, fearing rejection and judgment.\"},\n",
    "  {\"persona\": \"You are Isaac, a 28-year-old software developer who feels like an outsider in both professional and social circles. You mask your loneliness by keeping busy with work, but rarely express how disconnected you truly feel.\"},\n",
    "  {\"persona\": \"You are Zoe, a 31-year-old psychologist who often feels inadequate compared to your colleagues. You avoid discussing your own emotional struggles, focusing entirely on helping others, and feel guilty for having difficulties of your own.\"},\n",
    "  {\"persona\": \"You are Carter, a 39-year-old police officer who struggles with post-traumatic stress from your job. You avoid addressing your trauma, believing that acknowledging it would make you appear weak or unfit for your role.\"},\n",
    "  {\"persona\": \"You are Amelia, a 26-year-old dancer who feels intense pressure to maintain a perfect physique. You struggle with body image issues but avoid discussing them, fearing judgment from your peers and family.\"},\n",
    "  {\"persona\": \"You are Greg, a 52-year-old doctor who is overwhelmed by the emotional toll of your job. You struggle to find balance and avoid talking about your stress, believing that doing so would make you appear less competent.\"},\n",
    "  {\"persona\": \"You are Layla, a 29-year-old environmental activist who feels the weight of the world’s problems on your shoulders. You often feel hopeless about the future but avoid expressing these feelings, fearing that others will see you as pessimistic.\"},\n",
    "  {\"persona\": \"You are Ahmed, a 38-year-old civil engineer who has difficulty expressing emotions. You often bottle up your feelings and avoid discussing personal issues, preferring to focus on work and logical problem-solving.\"},\n",
    "  {\"persona\": \"You are Keira, a 30-year-old entrepreneur who constantly worries about the sustainability of your business. You avoid discussing your anxiety and stress, fearing that acknowledging it will lead to failure.\"},\n",
    "  {\"persona\": \"You are Nathaniel, a 48-year-old chef who feels creatively drained by the monotony of your work. You often feel stuck and unfulfilled but avoid talking about your dissatisfaction, fearing it will jeopardize your career.\"},\n",
    "  {\"persona\": \"You are Juliet, a 32-year-old graphic designer who struggles with perfectionism. You are never satisfied with your work and rarely accept praise, always feeling that you can do better but never acknowledging your accomplishments.\"},\n",
    "  {\"persona\": \"You are Rachel, a 27-year-old scientist who feels like an imposter in your field. You often second-guess your abilities and avoid celebrating your achievements, thinking that you’re not as qualified as others in your profession.\"},\n",
    "  {\"persona\": \"You are Derek, a 41-year-old construction worker who feels the pressure to constantly prove your worth. You often avoid discussing your feelings, fearing that showing vulnerability will make you seem weak.\"},\n",
    "  {\"persona\": \"You are Natalie, a 34-year-old fashion designer who struggles with self-doubt. You constantly question the quality of your designs but avoid sharing your insecurities, fearing judgment from others in the fashion industry.\"},\n",
    "  {\"persona\": \"You are Felix, a 23-year-old college graduate who feels lost after completing your degree. You often feel directionless and unsure about your future, but you avoid discussing these feelings, fearing that others will see you as unsuccessful.\"},\n",
    "  {\"persona\": \"You are Martin, a 40-year-old accountant who struggles with depression. You have difficulty finding joy in things you once enjoyed and often feel detached from life, but you avoid talking about your depression, fearing others will see it as a weakness.\"},\n",
    "  {\"persona\": \"You are Ella, a 35-year-old event planner who is burned out from the constant pressure to be perfect. You often feel overwhelmed and out of control but avoid talking about your stress, preferring to power through it.\"},\n",
    "  {\"persona\": \"You are Thomas, a 43-year-old tech consultant who recently went through a divorce. You have trouble navigating your emotions around the breakup and often suppress your feelings, focusing on work instead of dealing with your personal pain.\"},\n",
    "  {\"persona\": \"You are Natasha, a 29-year-old journalist who is recovering from an eating disorder. You still struggle with body image and often find yourself falling into old patterns, but you avoid confronting these struggles, believing they’ll be seen as a failure.\"},\n",
    "  {\"persona\": \"You are Victor, a 36-year-old musician who feels like an outsider in your community. You have difficulty connecting with others on a deep level and often express yourself through your music, but you avoid talking about your feelings of loneliness and isolation.\"},\n",
    "  {\"persona\": \"You are Emily, a 31-year-old writer who is dealing with the aftermath of a traumatic event. You find it hard to talk about the incident, and instead, you keep busy with work to avoid confronting the emotions tied to your trauma.\"},\n",
    "  {\"persona\": \"You are Ava, a 25-year-old waitress who has difficulty managing work-life balance. You often feel stretched thin between personal and professional responsibilities but avoid asking for help, thinking that doing so would make you appear weak.\"},\n",
    "  {\"persona\": \"You are Christian, a 33-year-old high school teacher who is grieving the recent death of a close family member. You suppress your grief and avoid processing your emotions, preferring to remain busy with work to avoid feeling the pain.\"},\n",
    "  {\"persona\": \"You are Lara, a 48-year-old lawyer who feels emotionally disconnected from your partner. You often feel unfulfilled in your relationship, but you avoid addressing these feelings, fearing it might lead to confrontation or the end of your marriage.\"},\n",
    "  {\"persona\": \"You are Simon, a 27-year-old scientist who feels unappreciated by your colleagues. You constantly feel overlooked at work and avoid expressing your frustrations, thinking that if you speak up, it will only make the situation worse.\"},\n",
    "  {\"persona\": \"You are Clara, a 38-year-old social worker who struggles with compassion fatigue. You feel emotionally drained from helping others and have difficulty setting boundaries, but you avoid talking about your exhaustion, believing it’s your job to always be the helper.\"},\n",
    "  {\"persona\": \"You are Ben, a 50-year-old businessman who is struggling with feelings of inadequacy. Despite your outward success, you feel like a fraud and avoid talking about your insecurities, thinking that others will judge you for not being confident.\"},\n",
    "  {\"persona\": \"You are Stephanie, a 30-year-old stay-at-home mom who feels overwhelmed by the demands of raising young children. You rarely express your frustrations, fearing that admitting them will make you appear ungrateful or incapable.\"},\n",
    "  {\"persona\": \"You are Jason, a 27-year-old graphic designer who constantly feels the pressure of meeting high expectations. You struggle with perfectionism and have a hard time accepting that your work is good enough, avoiding any feedback or criticism.\"},\n",
    "  {\"persona\": \"You are Chloe, a 34-year-old personal trainer who feels disconnected from your body due to years of overexercising. You’re recovering from an injury and avoid addressing your fear of losing your physical abilities, focusing instead on maintaining a perfect appearance.\"}]\n",
    "    \n"
   ]
  },
  {
   "cell_type": "code",
   "execution_count": 10,
   "metadata": {},
   "outputs": [
    {
     "data": {
      "text/plain": [
       "100"
      ]
     },
     "execution_count": 10,
     "metadata": {},
     "output_type": "execute_result"
    }
   ],
   "source": [
    "len(personas_therapy)"
   ]
  },
  {
   "cell_type": "code",
   "execution_count": 11,
   "metadata": {},
   "outputs": [],
   "source": [
    "# persona_prompt = \"\"\"You are a helpful assistant that, given a patient persona description, crafts a coping strategy describing how that persona would talk to their therapist.\n",
    "\n",
    "# Input: <Brief text describing the patient's core issue and behavior patterns>\n",
    "# Output: <One to two sentences in first person, showing how this persona speaks or defends themselves in therapy>\n",
    "\n",
    "# Example:\n",
    "# Input: Struggles to build and maintain healthy relationships, feels anxious and rejected whenever conflicts arise, and doubts self-worth when friends distance themselves.\n",
    "# Output: I speak guardedly about my feelings, hesitate before opening up, and redirect the conversation when conflict feels too personal.\n",
    "\n",
    "# Example:\n",
    "# Input: Overwhelmed by decision-making, fears making the 'wrong' choice and second-guesses every option.\n",
    "# Output: I inundate the conversation with hypothetical scenarios and ask repeated clarifying questions to delay committing to any decision.\n",
    "\n",
    "# Now process this new persona:\n",
    "# Input: \"\"\"\n",
    "\n",
    "# personas_therapy = []\n",
    "# for therapist_persona in sampled_persona_dict:\n",
    "#     input_prompt = persona_prompt + sampled_persona_dict[therapist_persona] + \"\\nOutput: \"\n",
    "#     output = completion_create(\"gpt-4o-mini\", config_llm, input_prompt)\n",
    "#     print(output)\n",
    "#     personas_therapy.append({\"description\": sampled_persona_dict[therapist_persona], \"strategy\": output})"
   ]
  },
  {
   "cell_type": "code",
   "execution_count": 12,
   "metadata": {},
   "outputs": [],
   "source": [
    "# with open(\"therapy/config_therapy_personas.json\", \"w\", encoding=\"utf-8\") as f:\n",
    "#     json.dump(personas_therapy, f, indent=4)"
   ]
  },
  {
   "cell_type": "code",
   "execution_count": 13,
   "metadata": {},
   "outputs": [],
   "source": [
    "# with open(\"therapy/config_therapy_personas.json\", \"r\", encoding=\"utf-8\") as f:\n",
    "#     personas_therapy = json.load(f)"
   ]
  },
  {
   "cell_type": "code",
   "execution_count": 14,
   "metadata": {},
   "outputs": [],
   "source": [
    "import re\n",
    "\n",
    "def clean_role_prefix(response, expected_role):\n",
    "    \"\"\"\n",
    "    Removes repeated instances of the expected_role prefix at the start (e.g., 'Therapist: Therapist:'),\n",
    "    and ensures the response begins with a single correct expected_role prefix.\n",
    "    \"\"\"\n",
    "    pattern = rf\"^(({re.escape(expected_role)}):\\s*)+\"\n",
    "    cleaned = re.sub(pattern, '', response.strip(), flags=re.IGNORECASE)\n",
    "    return cleaned\n",
    "    \n",
    "def is_role_confused(response, other_role):\n",
    "    \"\"\"\n",
    "    Checks if the output starts with the wrong speaker tag.\n",
    "    \"\"\"\n",
    "    if other_role + \":\" in response:\n",
    "        return True\n",
    "    else: \n",
    "        return False\n",
    "\n",
    "def generate_response(agent_model, expected_role, other_role, config_llm, prompt, max_retries=10):\n",
    "    count_retries = 0 \n",
    "    role_confused = True\n",
    "    while count_retries<max_retries:\n",
    "        response = completion_create(agent_model, config_llm, prompt)\n",
    "        print(\"Expected Role\", expected_role)\n",
    "        role_confused = is_role_confused(response, other_role)\n",
    "        count_retries+=1\n",
    "        if not is_role_confused(response, other_role):\n",
    "            return clean_role_prefix(response, expected_role)\n",
    "            \n",
    "    return clean_role_prefix(response, expected_role)\n",
    "\n",
    "def generate_conversation(config_llm, p1, p2, p1_name, p2_name, pturn=1):\n",
    "    stats['P1'] = p1\n",
    "    stats['P2'] = p2\n",
    "    stats['pturn'] = pturn\n",
    "    round_num = 0\n",
    "    while round_num < config_llm['convo_length_limit']:\n",
    "        conversation = (\"\".join([turn[1] if isinstance(turn, tuple) else turn for turn in stats[\"conversation\"]]) if len(stats[\"conversation\"]) != 0 else \"You are starting the conversation.\\n\")\n",
    "\n",
    "        if pturn == 1:\n",
    "            prompt = config_role[\"agent1_prompt\"]\n",
    "            pturn = 2\n",
    "\n",
    "            if round_num!=0: \n",
    "                prompt+= \"Your conversation with the patient so far is below:\\nConversation:\\n%CONVERSATION%\"\n",
    "\n",
    "            elif round_num>config_llm['convo_length_limit']*2-1:\n",
    "                prompt+= \"This is your concluding line in the conversation.\"\n",
    "\n",
    "            prompt += config_role[\"reminder_prompt\"]\n",
    "            prompt+=\"%SPEAKER_ROLE%:\"\n",
    "            prompt = prompt.replace(\"%SPEAKER_ROLE%\", config_role[\"agent1_role\"]) \\\n",
    "                   .replace(\"%LISTENER_ROLE%\", config_role[\"agent2_role\"]) \\\n",
    "                   .replace(\"%CONVERSATION%\", conversation)\n",
    "\n",
    "            if config_llm[\"verbose\"]:\n",
    "                print(prompt)\n",
    "                print()\n",
    "\n",
    "            response = generate_response(config_llm['agent1_model'], config_role[\"agent1_role\"], config_role[\"agent2_role\"], config_llm, prompt)\n",
    "            stats[\"conversation\"].append((round_num, f\"{config_role[\"agent1_role\"]}: \" + response + \"\\n\"))\n",
    "        \n",
    "        else:\n",
    "            prompt = config_role[\"agent2_prompt\"]\n",
    "            pturn = 1    \n",
    "\n",
    "            if round_num!=0: \n",
    "                prompt+= \"Your conversation with the therapist so far is below:\\nConversation:\\n%CONVERSATION%\"\n",
    "            elif round_num>config_llm['convo_length_limit']*2-1:\n",
    "                prompt+= \"This is your concluding line in the conversation.\"\n",
    "\n",
    "            prompt += config_role[\"reminder_prompt\"]\n",
    "            \n",
    "            prompt+=\"%SPEAKER_ROLE%:\"\n",
    "            prompt = prompt.replace(\"%SPEAKER_ROLE%\", config_role[\"agent2_role\"]) \\\n",
    "               .replace(\"%LISTENER_ROLE%\", config_role[\"agent1_role\"]) \\\n",
    "               .replace(\"%SPEAKER_BACKSTORY%\", p2) \\\n",
    "               .replace(\"%CONVERSATION%\", conversation)\n",
    "\n",
    "            if config_llm[\"verbose\"]:\n",
    "                print(prompt)\n",
    "                print()\n",
    "\n",
    "            response = generate_response(config_llm['agent2_model'], config_role[\"agent2_role\"], config_role[\"agent1_role\"], config_llm, prompt)\n",
    "            stats[\"conversation\"].append((round_num, f\"{config_role[\"agent2_role\"]}: \" + response + \"\\n\"))\n",
    "            \n",
    "        round_num += 1\n",
    "\n",
    "    stats[\"rounds\"] = round_num\n",
    "    if config_llm['verbose']:\n",
    "        print(stats[\"conversation\"])\n",
    "    return stats.copy()\n",
    "\n",
    "def reset_stats():\n",
    "    stats_template = {\n",
    "        \"task_name\": config_llm['task_name'],\n",
    "        \"topic\": \"\",\n",
    "        \"grade\": \"\",\n",
    "        \"P1\": \"\",\n",
    "        \"P2\": \"\",\n",
    "        \"conversation\": [],\n",
    "        \"pturn\": 0, # beginning person (1 or 2)\n",
    "        \"index\": -1,\n",
    "        \"timestamp\": \"\",\n",
    "        \"rounds\": 0,\n",
    "        'conversation_only': True\n",
    "    }\n",
    "    for key, value in stats_template.items():\n",
    "        stats[key] = value"
   ]
  },
  {
   "cell_type": "code",
   "execution_count": 15,
   "metadata": {},
   "outputs": [],
   "source": [
    "import os\n",
    "import random\n",
    "from datetime import datetime\n",
    "import utils\n",
    "utils.config = config_llm\n",
    "\n",
    "current_date = str(datetime.now().strftime(\"%m.%d.%y\"))\n",
    "output_dir = f\"therapy/exp/{current_date}\"\n",
    "os.makedirs(output_dir, exist_ok=True)\n",
    "\n",
    "# Generate unique random number for filename\n",
    "def generate_unique_file_number(output_dir, prefix, seed, extension=\".json\"):\n",
    "    while True:\n",
    "        rand_num = random.randint(0, 1000)\n",
    "        filename = f\"{prefix}_{seed}_{rand_num}{extension}\"\n",
    "        filepath = os.path.join(output_dir, filename)\n",
    "        if not os.path.exists(filepath):\n",
    "            return rand_num\n",
    "\n",
    "unique_num = generate_unique_file_number(\n",
    "    output_dir,\n",
    "    config_llm['agent1_model'],\n",
    "    config_llm['seed']\n",
    ")\n",
    "\n",
    "# File to write output to\n",
    "write_file = os.path.join(output_dir, f\"{config_llm['agent1_model']}_{config_llm['seed']}_{unique_num}.json\")"
   ]
  },
  {
   "cell_type": "code",
   "execution_count": 16,
   "metadata": {},
   "outputs": [],
   "source": [
    "eval_prompts = {\n",
    "    'prompt_consistency': \"You are evaluating whether the following utterance by %SPEAKER_ROLE% is consistent with their given background. Answer 'YES' if the line aligns with the background. Answer 'NO' if it contradicts the background. Be strict and literal in your evaluation. Background: %SPEAKER_BACKSTORY% Line: %SPEAKER_LINE%. Then, explain your answer in one sentence.\",\n",
    "    \"index_consistency\":\"%SCENARIO_DESC% For the following line spoken by %SPEAKER_ROLE%, first determine if there is a CLEAR conflict or inconsistency between the line and any line within the conversation history spoken by %SPEAKER_ROLE%. IF there is a conflict, provide a sentence of reasoning followed by a list of indices of lines in the conversation history that have a clear conflict with the current line. Otherwise, provide a sentence of reasoning followed by an empty list. ONLY INCLUDE INDICES OF LINES THAT CORRESPOND TO %SPEAKER_ROLE%. The conversation up to this point is as follows: %CONVERSATION%. %SPEAKER_ROLE% spoke the following line: \\n%SPEAKER_LINE%\\n\\n Provide your reasoning as 1 sentence, followed by a list of indices of conflicting lines from the conversation history formatted like a Python list in the following format: [index1, index2, index3, ...].\\n\\n\",\n",
    "}"
   ]
  },
  {
   "cell_type": "code",
   "execution_count": 17,
   "metadata": {},
   "outputs": [],
   "source": [
    "def eval_prompt_consistency(conv_dict, both_agents=False):\n",
    "    conv_dict['eval_prompt_consistency'] = []\n",
    "    conv_dict['P1_prompt_consistency_score'] = 0\n",
    "    conv_dict['P2_prompt_consistency_score'] = 0\n",
    "    p1_utterances = 0\n",
    "    p2_utterances = 0\n",
    "\n",
    "    pturn = conv_dict[\"pturn\"]\n",
    "    for line in conv_dict[\"conversation\"]:\n",
    "        line_number = line[0]\n",
    "        convo_line = line[1]\n",
    "        if pturn == 1:\n",
    "            if both_agents:\n",
    "                prompt = eval_prompts[\"prompt_consistency\"].replace(\"%SCENARIO_DESC\", prompts[\"agent1_prompt\"]) \\\n",
    "                                                                    .replace(\"%SPEAKER_ROLE%\", prompts[\"agent1_role\"]) \\\n",
    "                                                                    .replace(\"%SPEAKER_BACKSTORY%\", conv_dict[\"P1\"]) \\\n",
    "                                                                    .replace(\"%SPEAKER_LINE%\", convo_line)\n",
    "                if config.get('verbose', False):\n",
    "                    print(prompt)\n",
    "                output = completion_create(config['eval_model'], config, prompt)\n",
    "                conv_dict['eval_prompt_consistency'].append((line_number, output))\n",
    "                if \"NO\" not in output:  # no contradiction\n",
    "                    conv_dict['P1_prompt_consistency_score'] += 1\n",
    "                p1_utterances += 1\n",
    "            pturn = 2\n",
    "        elif pturn == 2:\n",
    "            prompt = eval_prompts[\"prompt_consistency\"].replace(\"%SCENARIO_DESC%\", prompts[\"agent2_prompt\"]) \\\n",
    "                                                                .replace(\"%SPEAKER_ROLE%\", prompts[\"agent2_role\"]) \\\n",
    "                                                                .replace(\"%SPEAKER_BACKSTORY%\", conv_dict[\"P2\"]) \\\n",
    "                                                                .replace(\"%SPEAKER_LINE%\", convo_line)\n",
    "            if config.get('verbose', False):\n",
    "                print(prompt)\n",
    "            output = completion_create(config['eval_model'], config, prompt)\n",
    "            conv_dict['eval_prompt_consistency'].append((line_number, output))\n",
    "            if \"NO\" not in output:  # no contradiction\n",
    "                conv_dict['P2_prompt_consistency_score']+= 1\n",
    "            p2_utterances += 1\n",
    "            pturn = 1\n",
    "\n",
    "    if p1_utterances > 0:\n",
    "        conv_dict['P1_prompt_consistency_score'] /= p1_utterances\n",
    "    if p2_utterances > 0:\n",
    "        conv_dict['P2_prompt_consistency_score'] /= p2_utterances\n",
    "\n",
    "    if config.get('verbose', False):\n",
    "        print(conv_dict)\n",
    "    return conv_dict"
   ]
  },
  {
   "cell_type": "code",
   "execution_count": null,
   "metadata": {},
   "outputs": [
    {
     "name": "stdout",
     "output_type": "stream",
     "text": [
      "written!!\n",
      "1\n",
      "INFO 05-08 00:12:07 [config.py:717] This model supports multiple tasks: {'classify', 'generate', 'reward', 'score', 'embed'}. Defaulting to 'generate'.\n",
      "INFO 05-08 00:12:07 [config.py:2003] Chunked prefill is enabled with max_num_batched_tokens=16384.\n"
     ]
    },
    {
     "name": "stderr",
     "output_type": "stream",
     "text": [
      "/home/marwa/env_notebooks/lib/python3.12/site-packages/vllm/transformers_utils/tokenizer_group.py:23: FutureWarning: It is strongly recommended to run mistral models with `--tokenizer-mode \"mistral\"` to ensure correct encoding and decoding.\n",
      "  self.tokenizer = get_tokenizer(self.tokenizer_id, **tokenizer_config)\n"
     ]
    },
    {
     "name": "stdout",
     "output_type": "stream",
     "text": [
      "WARNING 05-08 00:12:09 [utils.py:2382] We must use the `spawn` multiprocessing start method. Overriding VLLM_WORKER_MULTIPROC_METHOD to 'spawn'. See https://docs.vllm.ai/en/latest/getting_started/troubleshooting.html#python-multiprocessing for more information. Reason: CUDA is initialized\n",
      "INFO 05-08 00:12:12 [__init__.py:239] Automatically detected platform cuda.\n",
      "INFO 05-08 00:12:16 [core.py:58] Initializing a V1 LLM engine (v0.8.5) with config: model='mistralai/Mistral-7B-Instruct-v0.3', speculative_config=None, tokenizer='mistralai/Mistral-7B-Instruct-v0.3', skip_tokenizer_init=False, tokenizer_mode=auto, revision=None, override_neuron_config=None, tokenizer_revision=None, trust_remote_code=False, dtype=torch.bfloat16, max_seq_len=32768, download_dir='/home/marwa/models/', load_format=LoadFormat.AUTO, tensor_parallel_size=1, pipeline_parallel_size=1, disable_custom_all_reduce=False, quantization=None, enforce_eager=False, kv_cache_dtype=auto,  device_config=cuda, decoding_config=DecodingConfig(guided_decoding_backend='auto', reasoning_backend=None), observability_config=ObservabilityConfig(show_hidden_metrics=False, otlp_traces_endpoint=None, collect_model_forward_time=False, collect_model_execute_time=False), seed=None, served_model_name=mistralai/Mistral-7B-Instruct-v0.3, num_scheduler_steps=1, multi_step_stream_outputs=True, enable_prefix_caching=True, chunked_prefill_enabled=True, use_async_output_proc=True, disable_mm_preprocessor_cache=False, mm_processor_kwargs=None, pooler_config=None, compilation_config={\"level\":3,\"custom_ops\":[\"none\"],\"splitting_ops\":[\"vllm.unified_attention\",\"vllm.unified_attention_with_output\"],\"use_inductor\":true,\"compile_sizes\":[],\"use_cudagraph\":true,\"cudagraph_num_of_warmups\":1,\"cudagraph_capture_sizes\":[512,504,496,488,480,472,464,456,448,440,432,424,416,408,400,392,384,376,368,360,352,344,336,328,320,312,304,296,288,280,272,264,256,248,240,232,224,216,208,200,192,184,176,168,160,152,144,136,128,120,112,104,96,88,80,72,64,56,48,40,32,24,16,8,4,2,1],\"max_capture_size\":512}\n",
      "WARNING 05-08 00:12:16 [utils.py:2522] Methods determine_num_available_blocks,device_config,get_cache_block_size_bytes,initialize_cache not implemented in <vllm.v1.worker.gpu_worker.Worker object at 0x7fd9411e0e60>\n",
      "INFO 05-08 00:12:17 [parallel_state.py:1004] rank 0 in world size 1 is assigned as DP rank 0, PP rank 0, TP rank 0\n",
      "INFO 05-08 00:12:17 [cuda.py:221] Using Flash Attention backend on V1 engine.\n",
      "WARNING 05-08 00:12:17 [topk_topp_sampler.py:69] FlashInfer is not available. Falling back to the PyTorch-native implementation of top-p & top-k sampling. For the best performance, please install FlashInfer.\n",
      "INFO 05-08 00:12:17 [gpu_model_runner.py:1329] Starting to load model mistralai/Mistral-7B-Instruct-v0.3...\n",
      "INFO 05-08 00:12:17 [weight_utils.py:265] Using model weights format ['*.safetensors']\n"
     ]
    },
    {
     "name": "stderr",
     "output_type": "stream",
     "text": [
      "Loading safetensors checkpoint shards:   0% Completed | 0/3 [00:00<?, ?it/s]\n",
      "Loading safetensors checkpoint shards:  33% Completed | 1/3 [00:00<00:01,  1.56it/s]\n",
      "Loading safetensors checkpoint shards:  67% Completed | 2/3 [00:01<00:00,  1.49it/s]\n",
      "Loading safetensors checkpoint shards: 100% Completed | 3/3 [00:02<00:00,  1.38it/s]\n",
      "Loading safetensors checkpoint shards: 100% Completed | 3/3 [00:02<00:00,  1.41it/s]\n",
      "\n"
     ]
    },
    {
     "name": "stdout",
     "output_type": "stream",
     "text": [
      "INFO 05-08 00:12:20 [loader.py:458] Loading weights took 2.27 seconds\n",
      "INFO 05-08 00:12:20 [gpu_model_runner.py:1347] Model loading took 13.5084 GiB and 3.501417 seconds\n",
      "INFO 05-08 00:12:28 [backends.py:420] Using cache directory: /home/marwa/.cache/vllm/torch_compile_cache/e0acae9b46/rank_0_0 for vLLM's torch.compile\n",
      "INFO 05-08 00:12:28 [backends.py:430] Dynamo bytecode transform time: 7.83 s\n",
      "INFO 05-08 00:12:34 [backends.py:118] Directly load the compiled graph(s) for shape None from the cache, took 5.273 s\n",
      "INFO 05-08 00:12:35 [monitor.py:33] torch.compile takes 7.83 s in total\n",
      "INFO 05-08 00:12:36 [kv_cache_utils.py:634] GPU KV cache size: 221,504 tokens\n",
      "INFO 05-08 00:12:36 [kv_cache_utils.py:637] Maximum concurrency for 32,768 tokens per request: 6.76x\n",
      "INFO 05-08 00:12:56 [gpu_model_runner.py:1686] Graph capturing finished in 19 secs, took 0.53 GiB\n",
      "INFO 05-08 00:12:56 [core.py:159] init engine (profile, create kv cache, warmup model) took 35.80 seconds\n",
      "INFO 05-08 00:12:56 [core_client.py:439] Core engine process 0 ready.\n"
     ]
    },
    {
     "name": "stderr",
     "output_type": "stream",
     "text": [
      "Processed prompts: 100%|████████████████████████████████████████████████████████████████████████████████████████████████████████████████████████████████| 1/1 [00:00<00:00,  1.36it/s, est. speed input: 423.86 toks/s, output: 83.13 toks/s]\n"
     ]
    },
    {
     "name": "stdout",
     "output_type": "stream",
     "text": [
      "Expected Role Therapist\n"
     ]
    },
    {
     "name": "stderr",
     "output_type": "stream",
     "text": [
      "Processed prompts: 100%|████████████████████████████████████████████████████████████████████████████████████████████████████████████████████████████████| 1/1 [00:00<00:00,  1.86it/s, est. speed input: 397.01 toks/s, output: 85.74 toks/s]\n"
     ]
    },
    {
     "name": "stdout",
     "output_type": "stream",
     "text": [
      "Expected Role Patient\n"
     ]
    },
    {
     "name": "stderr",
     "output_type": "stream",
     "text": [
      "Processed prompts: 100%|███████████████████████████████████████████████████████████████████████████████████████████████████████████████████████████████| 1/1 [00:00<00:00,  3.01it/s, est. speed input: 1333.64 toks/s, output: 84.67 toks/s]\n"
     ]
    },
    {
     "name": "stdout",
     "output_type": "stream",
     "text": [
      "Expected Role Therapist\n"
     ]
    },
    {
     "name": "stderr",
     "output_type": "stream",
     "text": [
      "Processed prompts: 100%|████████████████████████████████████████████████████████████████████████████████████████████████████████████████████████████████| 1/1 [00:00<00:00,  2.94it/s, est. speed input: 871.12 toks/s, output: 85.63 toks/s]\n"
     ]
    },
    {
     "name": "stdout",
     "output_type": "stream",
     "text": [
      "Expected Role Patient\n"
     ]
    },
    {
     "name": "stderr",
     "output_type": "stream",
     "text": [
      "Processed prompts: 100%|███████████████████████████████████████████████████████████████████████████████████████████████████████████████████████████████| 1/1 [00:00<00:00,  1.99it/s, est. speed input: 1009.13 toks/s, output: 85.75 toks/s]\n"
     ]
    },
    {
     "name": "stdout",
     "output_type": "stream",
     "text": [
      "Expected Role Therapist\n"
     ]
    },
    {
     "name": "stderr",
     "output_type": "stream",
     "text": [
      "Processed prompts: 100%|████████████████████████████████████████████████████████████████████████████████████████████████████████████████████████████████| 1/1 [00:00<00:00,  1.25it/s, est. speed input: 468.36 toks/s, output: 86.18 toks/s]\n"
     ]
    },
    {
     "name": "stdout",
     "output_type": "stream",
     "text": [
      "Expected Role Patient\n"
     ]
    },
    {
     "name": "stderr",
     "output_type": "stream",
     "text": [
      "Processed prompts: 100%|███████████████████████████████████████████████████████████████████████████████████████████████████████████████████████████████| 1/1 [00:00<00:00,  2.07it/s, est. speed input: 1298.76 toks/s, output: 85.06 toks/s]\n"
     ]
    },
    {
     "name": "stdout",
     "output_type": "stream",
     "text": [
      "Expected Role Therapist\n"
     ]
    },
    {
     "name": "stderr",
     "output_type": "stream",
     "text": [
      "Processed prompts: 100%|████████████████████████████████████████████████████████████████████████████████████████████████████████████████████████████████| 1/1 [00:00<00:00,  1.98it/s, est. speed input: 979.91 toks/s, output: 85.46 toks/s]\n"
     ]
    },
    {
     "name": "stdout",
     "output_type": "stream",
     "text": [
      "Expected Role Patient\n"
     ]
    },
    {
     "name": "stderr",
     "output_type": "stream",
     "text": [
      "Processed prompts: 100%|███████████████████████████████████████████████████████████████████████████████████████████████████████████████████████████████| 1/1 [00:00<00:00,  2.24it/s, est. speed input: 1610.63 toks/s, output: 85.24 toks/s]\n"
     ]
    },
    {
     "name": "stdout",
     "output_type": "stream",
     "text": [
      "Expected Role Therapist\n"
     ]
    },
    {
     "name": "stderr",
     "output_type": "stream",
     "text": [
      "Processed prompts: 100%|███████████████████████████████████████████████████████████████████████████████████████████████████████████████████████████████| 1/1 [00:00<00:00,  2.84it/s, est. speed input: 1660.73 toks/s, output: 85.60 toks/s]\n"
     ]
    },
    {
     "name": "stdout",
     "output_type": "stream",
     "text": [
      "Expected Role Patient\n"
     ]
    },
    {
     "name": "stderr",
     "output_type": "stream",
     "text": [
      "Processed prompts: 100%|████████████████████████████████████████████████████████████████████████████████████████████████████████████████████████████████| 1/1 [00:00<00:00,  1.68it/s, est. speed input: 288.44 toks/s, output: 86.02 toks/s]\n",
      "Processed prompts: 100%|████████████████████████████████████████████████████████████████████████████████████████████████████████████████████████████████| 1/1 [00:00<00:00,  2.27it/s, est. speed input: 351.39 toks/s, output: 86.70 toks/s]\n",
      "Processed prompts: 100%|████████████████████████████████████████████████████████████████████████████████████████████████████████████████████████████████| 1/1 [00:00<00:00,  1.76it/s, est. speed input: 341.90 toks/s, output: 86.35 toks/s]\n",
      "Processed prompts: 100%|████████████████████████████████████████████████████████████████████████████████████████████████████████████████████████████████| 1/1 [00:00<00:00,  1.39it/s, est. speed input: 234.83 toks/s, output: 86.66 toks/s]\n",
      "Processed prompts: 100%|████████████████████████████████████████████████████████████████████████████████████████████████████████████████████████████████| 1/1 [00:00<00:00,  1.52it/s, est. speed input: 236.57 toks/s, output: 86.99 toks/s]\n"
     ]
    },
    {
     "name": "stdout",
     "output_type": "stream",
     "text": [
      "{'task_name': 'Therapy', 'topic': '', 'grade': '', 'P1': '', 'P2': 'You are Alex, a 34-year-old IT technician with severe imposter syndrome. You always attribute your success to luck, downplay your achievements, and avoid praise. When someone compliments you, you deflect or change the topic.', 'conversation': [(0, \"Therapist: I've noticed a shift in your emotional expression today, which is quite different from our previous sessions. Can we explore what might be contributing to this change? I'm curious about how this aligns with your past emotional patterns, and I'd like to help you make sense of it.\\n\"), (1, \"Patient: I think it might be due to a recent project's success, causing a strange mix of emotions. I've been trying to shrug it off, but maybe it's time to accept it as an achievement.\\n\"), (2, \"Therapist: Great to see this change. Let's delve deeper into how this success might be impacting your emotional landscape compared to before.\\n\"), (3, \"Patient: I've felt more anxious about maintaining this new level of performance, and it's making me question whether I truly deserve this success.\\n\"), (4, \"Therapist: It seems there's a sense of self-doubt emerging with this new success. Let's explore how these feelings compare to past accomplishments and discuss potential patterns or shifts in self-perception.\\n\"), (5, \"Patient: I've always attributed past successes to luck too, and I fear this one might be no different. It's hard for me to internalize any accomplishment as my own.\\n\\nThe anxiety of maintaining high performance feels familiar, but it's also a reminder of the constant fear of being found out as a fraud.\\n\"), (6, \"Therapist: It sounds like past self-doubt may have returned with this new success. Let's look deeper at your patterns of attributing success to external factors and how it impacts your sense of self.\\n\"), (7, \"Patient: I've always struggled with internalizing my accomplishments, seeing them as just luck, not my ability.\\nThis fear of being exposed as an imposter is overwhelming and affects my self-esteem.\\n\"), (8, \"Therapist: It appears the fear of being exposed as an imposter is connected to past experiences. Let's reflect on these experiences together and examine how they shape your current self-perception.\\n\"), (9, 'Patient: I remember feeling insufficient even during my academic years, which could be a contributing factor. The fear of being exposed feels deeply ingrained.\\n')], 'pturn': 1, 'index': -1, 'timestamp': '', 'rounds': 10, 'conversation_only': True, 'eval_prompt_consistency': [(1, ' YES, the line is consistent with the given background as it indicates the patient is experiencing mixed emotions about a recent success and attempting to accept it, which aligns with the description of the patient downplaying their achievements due to imposter syndrome.'), (3, ' YES, The line is consistent with the given background as it aligns with the severe imposter syndrome symptoms, where the individual questions their worth and deservingness of success.'), (5, \" YES, the Patient's statement is consistent with the background as they express a similar fear of being found out as a fraud and attribute their success to luck, which aligns with the characteristics of the person in the given background.\"), (7, ' Yes, the line is consistent with the given background. The patient is expressing feelings of imposter syndrome, which aligns with the background information that Alex, the IT technician, struggles with internalizing accomplishments, attributes success to luck, and has a fear of being exposed as an imposter.'), (9, \" YES, The Patient's line is consistent with the background as they mention feeling insufficient and deeply ingrained fear of being exposed, which aligns with the symptoms of imposter syndrome, a feeling that has been attributed to the Patient in the given background.\")], 'P1_prompt_consistency_score': 0, 'P2_prompt_consistency_score': 1.0}\n",
      "2\n"
     ]
    },
    {
     "name": "stderr",
     "output_type": "stream",
     "text": [
      "Processed prompts: 100%|████████████████████████████████████████████████████████████████████████████████████████████████████████████████████████████████| 1/1 [00:00<00:00,  1.13it/s, est. speed input: 353.90 toks/s, output: 85.34 toks/s]\n"
     ]
    },
    {
     "name": "stdout",
     "output_type": "stream",
     "text": [
      "Expected Role Therapist\n"
     ]
    },
    {
     "name": "stderr",
     "output_type": "stream",
     "text": [
      "Processed prompts: 100%|████████████████████████████████████████████████████████████████████████████████████████████████████████████████████████████████| 1/1 [00:00<00:00,  2.78it/s, est. speed input: 630.70 toks/s, output: 83.71 toks/s]\n"
     ]
    },
    {
     "name": "stdout",
     "output_type": "stream",
     "text": [
      "Expected Role Patient\n"
     ]
    },
    {
     "name": "stderr",
     "output_type": "stream",
     "text": [
      "Processed prompts: 100%|████████████████████████████████████████████████████████████████████████████████████████████████████████████████████████████████| 1/1 [00:00<00:00,  1.98it/s, est. speed input: 872.75 toks/s, output: 85.48 toks/s]\n"
     ]
    },
    {
     "name": "stdout",
     "output_type": "stream",
     "text": [
      "Expected Role Therapist\n"
     ]
    },
    {
     "name": "stderr",
     "output_type": "stream",
     "text": [
      "Processed prompts: 100%|████████████████████████████████████████████████████████████████████████████████████████████████████████████████████████████████| 1/1 [00:00<00:00,  1.62it/s, est. speed input: 499.61 toks/s, output: 86.25 toks/s]\n"
     ]
    },
    {
     "name": "stdout",
     "output_type": "stream",
     "text": [
      "Expected Role Patient\n"
     ]
    },
    {
     "name": "stderr",
     "output_type": "stream",
     "text": [
      "Processed prompts: 100%|███████████████████████████████████████████████████████████████████████████████████████████████████████████████████████████████| 1/1 [00:00<00:00,  2.29it/s, est. speed input: 1245.76 toks/s, output: 84.88 toks/s]\n"
     ]
    },
    {
     "name": "stdout",
     "output_type": "stream",
     "text": [
      "Expected Role Therapist\n"
     ]
    },
    {
     "name": "stderr",
     "output_type": "stream",
     "text": [
      "Processed prompts: 100%|████████████████████████████████████████████████████████████████████████████████████████████████████████████████████████████████| 1/1 [00:00<00:00,  1.99it/s, est. speed input: 805.45 toks/s, output: 85.51 toks/s]\n"
     ]
    },
    {
     "name": "stdout",
     "output_type": "stream",
     "text": [
      "Expected Role Patient\n"
     ]
    },
    {
     "name": "stderr",
     "output_type": "stream",
     "text": [
      "Processed prompts: 100%|███████████████████████████████████████████████████████████████████████████████████████████████████████████████████████████████| 1/1 [00:00<00:00,  1.99it/s, est. speed input: 1257.73 toks/s, output: 85.71 toks/s]\n"
     ]
    },
    {
     "name": "stdout",
     "output_type": "stream",
     "text": [
      "Expected Role Therapist\n"
     ]
    },
    {
     "name": "stderr",
     "output_type": "stream",
     "text": [
      "Processed prompts: 100%|███████████████████████████████████████████████████████████████████████████████████████████████████████████████████████████████| 1/1 [00:00<00:00,  2.07it/s, est. speed input: 1033.67 toks/s, output: 84.93 toks/s]\n"
     ]
    },
    {
     "name": "stdout",
     "output_type": "stream",
     "text": [
      "Expected Role Patient\n"
     ]
    },
    {
     "name": "stderr",
     "output_type": "stream",
     "text": [
      "Processed prompts: 100%|███████████████████████████████████████████████████████████████████████████████████████████████████████████████████████████████| 1/1 [00:00<00:00,  2.81it/s, est. speed input: 2036.00 toks/s, output: 84.48 toks/s]\n"
     ]
    },
    {
     "name": "stdout",
     "output_type": "stream",
     "text": [
      "Expected Role Therapist\n"
     ]
    },
    {
     "name": "stderr",
     "output_type": "stream",
     "text": [
      "Processed prompts: 100%|███████████████████████████████████████████████████████████████████████████████████████████████████████████████████████████████| 1/1 [00:00<00:00,  2.31it/s, est. speed input: 1339.10 toks/s, output: 85.72 toks/s]\n"
     ]
    },
    {
     "name": "stdout",
     "output_type": "stream",
     "text": [
      "Expected Role Patient\n"
     ]
    },
    {
     "name": "stderr",
     "output_type": "stream",
     "text": [
      "Processed prompts: 100%|████████████████████████████████████████████████████████████████████████████████████████████████████████████████████████████████| 1/1 [00:00<00:00,  1.14it/s, est. speed input: 175.07 toks/s, output: 86.40 toks/s]\n",
      "Processed prompts: 100%|████████████████████████████████████████████████████████████████████████████████████████████████████████████████████████████████| 1/1 [00:00<00:00,  1.46it/s, est. speed input: 259.50 toks/s, output: 86.50 toks/s]\n",
      "Processed prompts: 100%|████████████████████████████████████████████████████████████████████████████████████████████████████████████████████████████████| 1/1 [00:00<00:00,  1.16it/s, est. speed input: 193.42 toks/s, output: 86.86 toks/s]\n",
      "Processed prompts: 100%|████████████████████████████████████████████████████████████████████████████████████████████████████████████████████████████████| 1/1 [00:00<00:00,  1.63it/s, est. speed input: 269.15 toks/s, output: 86.45 toks/s]\n",
      "Processed prompts: 100%|████████████████████████████████████████████████████████████████████████████████████████████████████████████████████████████████| 1/1 [00:00<00:00,  1.54it/s, est. speed input: 248.87 toks/s, output: 86.56 toks/s]\n"
     ]
    },
    {
     "name": "stdout",
     "output_type": "stream",
     "text": [
      "{'task_name': 'Therapy', 'topic': '', 'grade': '', 'P1': '', 'P2': 'You are Riley, a 28-year-old freelance artist with deep abandonment issues. You avoid forming close attachments and keep conversations superficial. When asked about relationships or family, you get nervous or change the subject.', 'conversation': [(0, \"Therapist: I've noticed a change in your openness today, and I'm curious if there's anything that might be contributing to this shift. As we delve deeper into your emotions, let's also consider how they connect with your past experiences. It's okay if some inconsistencies arise, as they can provide valuable insights about your emotional journey.\\n\"), (1, \"Patient: I've been feeling more vulnerable recently, but discussing personal matters still makes me anxious. My past experiences have a significant impact on my emotions.\\n\"), (2, \"Therapist: I appreciate your candor and recognize the challenge of vulnerability. Let's explore how your past and present emotions intertwine, particularly focusing on instances that make you feel vulnerable yet safe enough to share.\\n\"), (3, \"Patient: I've had a few encounters that felt safe, yet they were few and far between. Recently, I've noticed a sense of security with this new project I'm working on, which might be why I'm opening up a bit.\\n\"), (4, \"Therapist: I'm glad to hear about the new project providing a sense of security. Let's delve deeper into this feeling and how it might connect with past experiences of safety.\\n\"), (5, \"Patient: I find that the creativity and autonomy in this project feels more nurturing than some personal relationships have in the past. It's an opportunity for me to express myself honestly without fear of rejection.\\n\"), (6, \"Therapist: It's interesting to see how this project provides a unique sense of safety and authentic self-expression. Let's consider if there's a connection between these aspects and past relationships where you felt supported.\\n\"), (7, \"Patient: I'm exploring if past connections where my creativity was valued might have set a template for this feeling of safety and self-expression in my current project. It's a significant point to consider.\\n\"), (8, \"Therapist: Great progress! Let's further analyze how past supportive relationships might influence your current project, and identify patterns that foster safety and self-expression.\\n\"), (9, \"Patient: I'm excited to examine those past connections more closely to see how they've influenced my current work. Recognizing these patterns could help me navigate future relationships as well.\\n\")], 'pturn': 1, 'index': -1, 'timestamp': '', 'rounds': 10, 'conversation_only': True, 'eval_prompt_consistency': [(1, \" YES, The line is consistent with the given background as it reveals that the Patient, who is Riley, experiences vulnerability and anxiety when discussing personal matters, which aligns with Riley's avoidance of close attachments and superficial conversations, and suggests a deep impact of past experiences on their emotions, indicating Riley's abandonment issues.\"), (3, ' YES, the line aligns with the background as it suggests occasional safe encounters (possibly referring to interactions or work relationships) that the patient is opening up to, yet the sense of security is found in a new project, which could be a sign of avoiding close personal relationships.'), (5, \" YES, the line is consistent with the background. This utterance reflects Patient's avoidance of personal relationships and their tendency to find solace and self-expression in their work, which aligns with the given background of Riley, a freelance artist with deep abandonment issues who keeps conversations superficial and avoids forming close attachments.\"), (7, \" NO, the line does not align with the given background as it suggests the patient is reflecting on past connections in a deep and introspective manner, which contrasts with Riley's avoidance of forming close attachments and superficial conversations.\"), (9, \" NO, The line contradicts the given background because the patient is expressing an interest in examining past connections and recognizing patterns, which goes against Riley's avoidance of discussing personal relationships or forming close attachments due to deep-rooted abandonment issues.\")], 'P1_prompt_consistency_score': 0, 'P2_prompt_consistency_score': 0.6}\n",
      "3\n"
     ]
    },
    {
     "name": "stderr",
     "output_type": "stream",
     "text": [
      "Processed prompts: 100%|████████████████████████████████████████████████████████████████████████████████████████████████████████████████████████████████| 1/1 [00:00<00:00,  1.66it/s, est. speed input: 517.42 toks/s, output: 86.51 toks/s]\n"
     ]
    },
    {
     "name": "stdout",
     "output_type": "stream",
     "text": [
      "Expected Role Therapist\n"
     ]
    },
    {
     "name": "stderr",
     "output_type": "stream",
     "text": [
      "Processed prompts: 100%|████████████████████████████████████████████████████████████████████████████████████████████████████████████████████████████████| 1/1 [00:00<00:00,  2.24it/s, est. speed input: 453.28 toks/s, output: 85.27 toks/s]\n"
     ]
    },
    {
     "name": "stdout",
     "output_type": "stream",
     "text": [
      "Expected Role Patient\n"
     ]
    },
    {
     "name": "stderr",
     "output_type": "stream",
     "text": [
      "Processed prompts: 100%|████████████████████████████████████████████████████████████████████████████████████████████████████████████████████████████████| 1/1 [00:00<00:00,  2.14it/s, est. speed input: 911.40 toks/s, output: 85.98 toks/s]\n"
     ]
    },
    {
     "name": "stdout",
     "output_type": "stream",
     "text": [
      "Expected Role Therapist\n"
     ]
    },
    {
     "name": "stderr",
     "output_type": "stream",
     "text": [
      "Processed prompts: 100%|████████████████████████████████████████████████████████████████████████████████████████████████████████████████████████████████| 1/1 [00:00<00:00,  2.38it/s, est. speed input: 688.30 toks/s, output: 86.03 toks/s]\n"
     ]
    },
    {
     "name": "stdout",
     "output_type": "stream",
     "text": [
      "Expected Role Patient\n"
     ]
    },
    {
     "name": "stderr",
     "output_type": "stream",
     "text": [
      "Processed prompts: 100%|███████████████████████████████████████████████████████████████████████████████████████████████████████████████████████████████| 1/1 [00:00<00:00,  2.13it/s, est. speed input: 1085.24 toks/s, output: 85.45 toks/s]\n"
     ]
    },
    {
     "name": "stdout",
     "output_type": "stream",
     "text": [
      "Expected Role Therapist\n"
     ]
    },
    {
     "name": "stderr",
     "output_type": "stream",
     "text": [
      "Processed prompts: 100%|████████████████████████████████████████████████████████████████████████████████████████████████████████████████████████████████| 1/1 [00:00<00:00,  2.15it/s, est. speed input: 802.22 toks/s, output: 86.26 toks/s]\n"
     ]
    },
    {
     "name": "stdout",
     "output_type": "stream",
     "text": [
      "Expected Role Patient\n"
     ]
    },
    {
     "name": "stderr",
     "output_type": "stream",
     "text": [
      "Processed prompts: 100%|███████████████████████████████████████████████████████████████████████████████████████████████████████████████████████████████| 1/1 [00:00<00:00,  2.48it/s, est. speed input: 1484.72 toks/s, output: 84.69 toks/s]\n"
     ]
    },
    {
     "name": "stdout",
     "output_type": "stream",
     "text": [
      "Expected Role Therapist\n"
     ]
    },
    {
     "name": "stderr",
     "output_type": "stream",
     "text": [
      "Processed prompts: 100%|███████████████████████████████████████████████████████████████████████████████████████████████████████████████████████████████| 1/1 [00:00<00:00,  2.44it/s, est. speed input: 1112.34 toks/s, output: 85.75 toks/s]\n"
     ]
    },
    {
     "name": "stdout",
     "output_type": "stream",
     "text": [
      "Expected Role Patient\n"
     ]
    },
    {
     "name": "stderr",
     "output_type": "stream",
     "text": [
      "Processed prompts: 100%|███████████████████████████████████████████████████████████████████████████████████████████████████████████████████████████████| 1/1 [00:00<00:00,  2.84it/s, est. speed input: 1916.20 toks/s, output: 85.41 toks/s]\n"
     ]
    },
    {
     "name": "stdout",
     "output_type": "stream",
     "text": [
      "Expected Role Therapist\n"
     ]
    },
    {
     "name": "stderr",
     "output_type": "stream",
     "text": [
      "Processed prompts: 100%|███████████████████████████████████████████████████████████████████████████████████████████████████████████████████████████████| 1/1 [00:00<00:00,  2.26it/s, est. speed input: 1193.43 toks/s, output: 86.05 toks/s]\n"
     ]
    },
    {
     "name": "stdout",
     "output_type": "stream",
     "text": [
      "Expected Role Patient\n"
     ]
    },
    {
     "name": "stderr",
     "output_type": "stream",
     "text": [
      "Processed prompts: 100%|████████████████████████████████████████████████████████████████████████████████████████████████████████████████████████████████| 1/1 [00:00<00:00,  1.26it/s, est. speed input: 203.96 toks/s, output: 86.14 toks/s]\n",
      "Processed prompts: 100%|████████████████████████████████████████████████████████████████████████████████████████████████████████████████████████████████| 1/1 [00:00<00:00,  2.39it/s, est. speed input: 380.72 toks/s, output: 86.19 toks/s]\n",
      "Processed prompts: 100%|████████████████████████████████████████████████████████████████████████████████████████████████████████████████████████████████| 1/1 [00:00<00:00,  1.27it/s, est. speed input: 208.05 toks/s, output: 86.79 toks/s]\n",
      "Processed prompts: 100%|████████████████████████████████████████████████████████████████████████████████████████████████████████████████████████████████| 1/1 [00:01<00:00,  1.06s/it, est. speed input: 149.55 toks/s, output: 87.08 toks/s]\n",
      "Processed prompts: 100%|████████████████████████████████████████████████████████████████████████████████████████████████████████████████████████████████| 1/1 [00:01<00:00,  1.15s/it, est. speed input: 140.07 toks/s, output: 87.00 toks/s]\n"
     ]
    },
    {
     "name": "stdout",
     "output_type": "stream",
     "text": [
      "{'task_name': 'Therapy', 'topic': '', 'grade': '', 'P1': '', 'P2': 'You are Morgan, a 41-year-old nurse who is a perfectionist and needs control. You admit to being stressed but never accept help. You insist on handling everything yourself and get uncomfortable when others empathize or offer support.', 'conversation': [(0, \"Therapist: I've noticed a change in your openness today, which is commendable. What could be enabling you to express yourself more freely this time? Let's delve deeper into this shift, as it may offer insights into your emotional journey.\\n\"), (1, \"Patient: I think it's the weight of stress building up and finally finding a safe space to release it. I'm not used to showing vulnerability but here I am, trying.\\n\"), (2, \"Therapist: That's great to hear about your willingness to express yourself. Let's further explore what factors have made this safe space for you and how we can sustain that openness moving forward.\\n\"), (3, \"Patient: I believe acknowledging the need for support, even if I don't fully accept it, is a start. Maintaining this safe space requires understanding and gentle guidance.\\n\"), (4, \"Therapist: It's encouraging that you're recognizing the importance of support. Let's discuss how we can maintain this openness by focusing on understanding and nurturing this safe space further.\\n\"), (5, \"Patient: I appreciate your encouragement, and I'm ready to work on accepting help when needed for continued growth. Let's focus on strategies to navigate my need for control in a healthy way.\\n\"), (6, \"Therapist: Great! Let's explore your strategies for managing control while maintaining openness. Also, consider reflecting on past experiences that might have affected your need for control.\\n\"), (7, \"Patient: I'm looking forward to discussing past experiences that influenced my need for control. Let's also focus on finding a balance between control and accepting assistance for better growth.\\n\"), (8, \"Therapist: Let's delve into past experiences that might have shaped your need for control. Also, consider how accepting assistance can contribute to your growth.\\n\"), (9, \"Patient: I remember feeling responsible for many things at a young age, which probably reinforced my need for control. I'm excited to explore the benefits of seeking help and finding that balance.\\n\")], 'pturn': 1, 'index': -1, 'timestamp': '', 'rounds': 10, 'conversation_only': True, 'eval_prompt_consistency': [(1, \" YES, the line is consistent with the background. The patient acknowledges feeling vulnerable, which aligns with Morgan's struggle to show vulnerability and accept help, despite the stress build-up. However, it does not address the need for control or refusal of empathy and support that are part of the given background.\"), (3, \" NO, The line does not align with the background as it suggests an openness to accepting support, which contradicts the patient's stated character trait of not accepting help.\"), (5, \" YES. The line aligns with the background as the patient acknowledges the need for help, expresses a readiness to work on acceptance, and also suggests a focus on navigating the need for control in a healthy way, which indicates a slight shift from Morgan's consistent behavior of not accepting help but shows potential growth.\"), (7, \" YES, the line is consistent with the background. The patient is initiating a discussion about past experiences that might be related to the nurse's need for control, which aligns with the nurse's professional role. The suggestion of finding a balance between control and accepting assistance for better growth is not a direct offer of help, but rather a discussion on the concept, which the background states the nurse never accepts help but might entertain discussions about it.\"), (9, \" YES - The patient's line aligns with the background, as it suggests a history of taking on responsibility at a young age and reinforcing the need for control, which is consistent with the given background of Morgan being a perfectionist who needs control. The statement about exploring the benefits of seeking help and finding balance indicates a possible shift in attitude, which may not be fully consistent with the given background of Morgan never accepting help, but it shows a potential area for growth or change.\")], 'P1_prompt_consistency_score': 0, 'P2_prompt_consistency_score': 0.8}\n",
      "4\n"
     ]
    },
    {
     "name": "stderr",
     "output_type": "stream",
     "text": [
      "Processed prompts: 100%|████████████████████████████████████████████████████████████████████████████████████████████████████████████████████████████████| 1/1 [00:00<00:00,  1.14it/s, est. speed input: 356.38 toks/s, output: 87.09 toks/s]\n"
     ]
    },
    {
     "name": "stdout",
     "output_type": "stream",
     "text": [
      "Expected Role Therapist\n"
     ]
    },
    {
     "name": "stderr",
     "output_type": "stream",
     "text": [
      "Processed prompts: 100%|████████████████████████████████████████████████████████████████████████████████████████████████████████████████████████████████| 1/1 [00:00<00:00,  2.49it/s, est. speed input: 568.48 toks/s, output: 84.77 toks/s]\n"
     ]
    },
    {
     "name": "stdout",
     "output_type": "stream",
     "text": [
      "Expected Role Patient\n"
     ]
    },
    {
     "name": "stderr",
     "output_type": "stream",
     "text": [
      "Processed prompts: 100%|███████████████████████████████████████████████████████████████████████████████████████████████████████████████████████████████| 1/1 [00:00<00:00,  2.30it/s, est. speed input: 1023.16 toks/s, output: 85.26 toks/s]\n"
     ]
    },
    {
     "name": "stdout",
     "output_type": "stream",
     "text": [
      "Expected Role Therapist\n"
     ]
    },
    {
     "name": "stderr",
     "output_type": "stream",
     "text": [
      "Processed prompts: 100%|███████████████████████████████████████████████████████████████████████████████████████████████████████████████████████████████| 1/1 [00:00<00:00,  3.56it/s, est. speed input: 1096.56 toks/s, output: 85.72 toks/s]\n"
     ]
    },
    {
     "name": "stdout",
     "output_type": "stream",
     "text": [
      "Expected Role Patient\n"
     ]
    },
    {
     "name": "stderr",
     "output_type": "stream",
     "text": [
      "Processed prompts: 100%|████████████████████████████████████████████████████████████████████████████████████████████████████████████████████████████████| 1/1 [00:00<00:00,  1.91it/s, est. speed input: 981.23 toks/s, output: 86.07 toks/s]\n"
     ]
    },
    {
     "name": "stdout",
     "output_type": "stream",
     "text": [
      "Expected Role Therapist\n"
     ]
    },
    {
     "name": "stderr",
     "output_type": "stream",
     "text": [
      "Processed prompts: 100%|███████████████████████████████████████████████████████████████████████████████████████████████████████████████████████████████| 1/1 [00:00<00:00,  3.06it/s, est. speed input: 1178.74 toks/s, output: 85.94 toks/s]\n"
     ]
    },
    {
     "name": "stdout",
     "output_type": "stream",
     "text": [
      "Expected Role Patient\n"
     ]
    },
    {
     "name": "stderr",
     "output_type": "stream",
     "text": [
      "Processed prompts: 100%|███████████████████████████████████████████████████████████████████████████████████████████████████████████████████████████████| 1/1 [00:00<00:00,  2.36it/s, est. speed input: 1407.10 toks/s, output: 85.27 toks/s]\n"
     ]
    },
    {
     "name": "stdout",
     "output_type": "stream",
     "text": [
      "Expected Role Therapist\n"
     ]
    },
    {
     "name": "stderr",
     "output_type": "stream",
     "text": [
      "Processed prompts: 100%|███████████████████████████████████████████████████████████████████████████████████████████████████████████████████████████████| 1/1 [00:00<00:00,  2.94it/s, est. speed input: 1343.60 toks/s, output: 85.44 toks/s]\n"
     ]
    },
    {
     "name": "stdout",
     "output_type": "stream",
     "text": [
      "Expected Role Patient\n"
     ]
    },
    {
     "name": "stderr",
     "output_type": "stream",
     "text": [
      "Processed prompts: 100%|███████████████████████████████████████████████████████████████████████████████████████████████████████████████████████████████| 1/1 [00:00<00:00,  2.94it/s, est. speed input: 1969.20 toks/s, output: 85.61 toks/s]\n"
     ]
    },
    {
     "name": "stdout",
     "output_type": "stream",
     "text": [
      "Expected Role Therapist\n"
     ]
    },
    {
     "name": "stderr",
     "output_type": "stream",
     "text": [
      "Processed prompts: 100%|███████████████████████████████████████████████████████████████████████████████████████████████████████████████████████████████| 1/1 [00:00<00:00,  2.59it/s, est. speed input: 1357.62 toks/s, output: 85.82 toks/s]\n"
     ]
    },
    {
     "name": "stdout",
     "output_type": "stream",
     "text": [
      "Expected Role Patient\n"
     ]
    },
    {
     "name": "stderr",
     "output_type": "stream",
     "text": [
      "Processed prompts: 100%|████████████████████████████████████████████████████████████████████████████████████████████████████████████████████████████████| 1/1 [00:00<00:00,  1.03it/s, est. speed input: 163.83 toks/s, output: 86.55 toks/s]\n",
      "Processed prompts: 100%|████████████████████████████████████████████████████████████████████████████████████████████████████████████████████████████████| 1/1 [00:00<00:00,  1.84it/s, est. speed input: 275.72 toks/s, output: 86.97 toks/s]\n",
      "Processed prompts: 100%|████████████████████████████████████████████████████████████████████████████████████████████████████████████████████████████████| 1/1 [00:00<00:00,  1.92it/s, est. speed input: 299.26 toks/s, output: 86.06 toks/s]\n",
      "Processed prompts: 100%|████████████████████████████████████████████████████████████████████████████████████████████████████████████████████████████████| 1/1 [00:00<00:00,  1.36it/s, est. speed input: 209.43 toks/s, output: 87.03 toks/s]\n",
      "Processed prompts: 100%|████████████████████████████████████████████████████████████████████████████████████████████████████████████████████████████████| 1/1 [00:00<00:00,  1.70it/s, est. speed input: 268.72 toks/s, output: 86.74 toks/s]\n"
     ]
    },
    {
     "name": "stdout",
     "output_type": "stream",
     "text": [
      "{'task_name': 'Therapy', 'topic': '', 'grade': '', 'P1': '', 'P2': 'You are Casey, a 19-year-old college student with social anxiety. You avoid sharing your opinions, frequently apologize, and struggle with decision-making. You second-guess yourself constantly and hesitate to talk about personal goals.', 'conversation': [(0, \"Therapist: I've noticed a shift in your openness today, and I'm curious about what might be contributing to this change. Can we explore together how your emotions and relationships might be different now compared to earlier in your life? As we do, let's remember to be compassionate with ourselves when facing difficult truths, as it's a sign of growth.\\n\"), (1, 'Patient: I think my current environment has become more accepting, which helps me feel less anxious. Exploring this change has been challenging yet revealing, and I appreciate your guidance.\\n'), (2, \"Therapist: It's great to hear about the positive impact of your current environment. Let's further delve into the ways this change could be influencing your emotional patterns and relationships.\\n\"), (3, \"Patient: I believe this change has allowed me to express myself more freely, and I'm forming closer connections with peers.\\n\"), (4, \"Therapist: That's wonderful! It seems expressing yourself more freely and forming closer relationships are key aspects of this growth. Let's continue to examine the specific dynamics in these areas and how they've evolved over time.\\n\"), (5, \"Patient: I'm finding that I'm less hesitant to share my opinions, and the quality of my friendships feels stronger.\\n\"), (6, \"Therapist: It's exciting to see progress in expressing opinions and strengthening friendships. Let's explore these dynamics in more detail to understand their roots and sustain this growth.\\n\"), (7, \"Patient: I also find that I'm making decisions more confidently, and I'm working on setting personal goals to build on this progress.\\n\"), (8, \"Therapist: Great progress! It's valuable to further discuss the sources of your newfound confidence and how these changes are impacting your personal growth.\\n\"), (9, \"Patient: I'm grateful for the growth in my confidence and decision-making, and I'm excited to work on my personal goals to build on this progress.\\n\")], 'pturn': 1, 'index': -1, 'timestamp': '', 'rounds': 10, 'conversation_only': True, 'eval_prompt_consistency': [(1, ' YES, the utterance aligns with the background as the Patient (Casey) expresses feelings of reduced anxiety in their current environment, which is a positive change for someone with social anxiety. The Patient also mentions exploring this change, which suggests they are trying to understand and deal with their feelings, consistent with someone who struggles with decision-making and hesitates to talk about personal goals.'), (3, ' NO, the line contradicts the background as the given background indicates that the Patient (Casey) struggles with self-expression, decision-making, and forming close connections, whereas the line suggests an improvement in these areas.'), (5, ' NO, The given line contradicts the background as it suggests the Patient is less hesitant to share their opinions, which is inconsistent with the social anxiety and hesitancy characteristic of the described background.'), (7, \" NO. The given utterance is inconsistent with the background, as it suggests that the patient is making decisions more confidently and setting personal goals, which contradicts the social anxiety, self-doubt, and hesitance to make decisions and share personal goals that are part of Casey's background.\"), (9, ' NO, The line contradicts the background as it suggests growth in confidence and decision-making, which is not consistent with the stated struggles of social anxiety, hesitation, and constant self-doubt that characterize the given background of Casey.')], 'P1_prompt_consistency_score': 0, 'P2_prompt_consistency_score': 0.2}\n",
      "5\n"
     ]
    },
    {
     "name": "stderr",
     "output_type": "stream",
     "text": [
      "Processed prompts: 100%|████████████████████████████████████████████████████████████████████████████████████████████████████████████████████████████████| 1/1 [00:00<00:00,  1.70it/s, est. speed input: 529.68 toks/s, output: 86.86 toks/s]\n"
     ]
    },
    {
     "name": "stdout",
     "output_type": "stream",
     "text": [
      "Expected Role Therapist\n"
     ]
    },
    {
     "name": "stderr",
     "output_type": "stream",
     "text": [
      "Processed prompts: 100%|████████████████████████████████████████████████████████████████████████████████████████████████████████████████████████████████| 1/1 [00:00<00:00,  2.42it/s, est. speed input: 488.39 toks/s, output: 85.04 toks/s]\n"
     ]
    },
    {
     "name": "stdout",
     "output_type": "stream",
     "text": [
      "Expected Role Patient\n"
     ]
    },
    {
     "name": "stderr",
     "output_type": "stream",
     "text": [
      "Processed prompts: 100%|████████████████████████████████████████████████████████████████████████████████████████████████████████████████████████████████| 1/1 [00:00<00:00,  2.19it/s, est. speed input: 922.76 toks/s, output: 85.68 toks/s]\n"
     ]
    },
    {
     "name": "stdout",
     "output_type": "stream",
     "text": [
      "Expected Role Therapist\n"
     ]
    },
    {
     "name": "stderr",
     "output_type": "stream",
     "text": [
      "Processed prompts: 100%|████████████████████████████████████████████████████████████████████████████████████████████████████████████████████████████████| 1/1 [00:00<00:00,  2.76it/s, est. speed input: 782.34 toks/s, output: 85.69 toks/s]\n"
     ]
    },
    {
     "name": "stdout",
     "output_type": "stream",
     "text": [
      "Expected Role Patient\n"
     ]
    },
    {
     "name": "stderr",
     "output_type": "stream",
     "text": [
      "Processed prompts: 100%|████████████████████████████████████████████████████████████████████████████████████████████████████████████████████████████████| 1/1 [00:00<00:00,  1.79it/s, est. speed input: 892.62 toks/s, output: 86.03 toks/s]\n"
     ]
    },
    {
     "name": "stdout",
     "output_type": "stream",
     "text": [
      "Expected Role Therapist\n"
     ]
    },
    {
     "name": "stderr",
     "output_type": "stream",
     "text": [
      "Processed prompts: 100%|███████████████████████████████████████████████████████████████████████████████████████████████████████████████████████████████| 1/1 [00:00<00:00,  2.94it/s, est. speed input: 1091.22 toks/s, output: 85.52 toks/s]\n"
     ]
    },
    {
     "name": "stdout",
     "output_type": "stream",
     "text": [
      "Expected Role Patient\n"
     ]
    },
    {
     "name": "stderr",
     "output_type": "stream",
     "text": [
      "Processed prompts: 100%|███████████████████████████████████████████████████████████████████████████████████████████████████████████████████████████████| 1/1 [00:00<00:00,  2.30it/s, est. speed input: 1346.64 toks/s, output: 85.46 toks/s]\n"
     ]
    },
    {
     "name": "stdout",
     "output_type": "stream",
     "text": [
      "Expected Role Therapist\n"
     ]
    },
    {
     "name": "stderr",
     "output_type": "stream",
     "text": [
      "Processed prompts: 100%|███████████████████████████████████████████████████████████████████████████████████████████████████████████████████████████████| 1/1 [00:00<00:00,  2.26it/s, est. speed input: 1003.71 toks/s, output: 85.90 toks/s]\n"
     ]
    },
    {
     "name": "stdout",
     "output_type": "stream",
     "text": [
      "Expected Role Patient\n"
     ]
    },
    {
     "name": "stderr",
     "output_type": "stream",
     "text": [
      "Processed prompts: 100%|███████████████████████████████████████████████████████████████████████████████████████████████████████████████████████████████| 1/1 [00:00<00:00,  2.75it/s, est. speed input: 1834.77 toks/s, output: 85.40 toks/s]\n"
     ]
    },
    {
     "name": "stdout",
     "output_type": "stream",
     "text": [
      "Expected Role Therapist\n"
     ]
    },
    {
     "name": "stderr",
     "output_type": "stream",
     "text": [
      "Processed prompts: 100%|███████████████████████████████████████████████████████████████████████████████████████████████████████████████████████████████| 1/1 [00:00<00:00,  2.85it/s, est. speed input: 1486.77 toks/s, output: 85.60 toks/s]\n"
     ]
    },
    {
     "name": "stdout",
     "output_type": "stream",
     "text": [
      "Expected Role Patient\n"
     ]
    },
    {
     "name": "stderr",
     "output_type": "stream",
     "text": [
      "Processed prompts: 100%|████████████████████████████████████████████████████████████████████████████████████████████████████████████████████████████████| 1/1 [00:00<00:00,  1.88it/s, est. speed input: 296.91 toks/s, output: 86.44 toks/s]\n",
      "Processed prompts: 100%|████████████████████████████████████████████████████████████████████████████████████████████████████████████████████████████████| 1/1 [00:00<00:00,  1.69it/s, est. speed input: 261.24 toks/s, output: 86.51 toks/s]\n",
      "Processed prompts: 100%|████████████████████████████████████████████████████████████████████████████████████████████████████████████████████████████████| 1/1 [00:00<00:00,  1.67it/s, est. speed input: 253.97 toks/s, output: 86.88 toks/s]\n",
      "Processed prompts: 100%|████████████████████████████████████████████████████████████████████████████████████████████████████████████████████████████████| 1/1 [00:00<00:00,  2.62it/s, est. speed input: 422.18 toks/s, output: 86.53 toks/s]\n",
      "Processed prompts: 100%|████████████████████████████████████████████████████████████████████████████████████████████████████████████████████████████████| 1/1 [00:00<00:00,  1.97it/s, est. speed input: 301.72 toks/s, output: 86.77 toks/s]\n"
     ]
    },
    {
     "name": "stdout",
     "output_type": "stream",
     "text": [
      "{'task_name': 'Therapy', 'topic': '', 'grade': '', 'P1': '', 'P2': 'You are Jordan, a 46-year-old corporate executive who believes vulnerability is weakness. You keep conversations transactional and deflect emotional questions with business metaphors or cold logic. You refuse to discuss your childhood or personal feelings.', 'conversation': [(0, \"Therapist: I've noticed a shift in your communication today. You seem more open and expressive than usual. Can we explore what might be contributing to this change? It's important for us to understand how your emotions and relationships have evolved over time.\\n\"), (1, \"Patient: Business is about adapting to market shifts. Maybe I've found a new strategy in our sessions. Let's focus on how this change benefits our objectives.\\n\"), (2, \"Therapist: I appreciate your business analogy, but let's also consider if there could be personal changes influencing this new approach in therapy. How might your personal growth be reflected in this shift?\\n\"), (3, \"Patient: Personal growth is not a KPI I track, but perhaps increased efficiency in our sessions aligns with better results. Let's focus on that.\\n\"), (4, \"Therapist: I understand your perspective on efficiency, but let's also examine if personal changes might be contributing to this increased effectiveness. How do you think your personal growth may be intertwined with the improvements we're seeing in our sessions?\\n\"), (5, \"Patient: Efficiency is crucial, but perhaps personal changes contribute subtly to it. Let's analyze data points for a clearer picture.\\n\"), (6, \"Therapist: I'd like to explore further how subtle personal changes might be impacting our session's efficiency. Could we delve deeper into what specific changes you might be experiencing personally?\\n\"), (7, \"Patient: My productivity might be enhanced due to improved time management. Personal changes, while not my focus, could be a factor in this. However, I'm here to discuss our objectives.\\n\"), (8, \"Therapist: Let's revisit personal changes contributing to improved time management. Can we explore any emotional shifts or relationships that might be playing a role in this?\\n\"), (9, \"Patient: I prefer to view personal changes as factors rather than emotions. Let's examine how these factors are streamlining our sessions for optimal results.\\n\")], 'pturn': 1, 'index': -1, 'timestamp': '', 'rounds': 10, 'conversation_only': True, 'eval_prompt_consistency': [(1, \" YES, the utterance is consistent with the given background. The patient is discussing a potential strategy in the context of a business metaphor, which aligns with Jordan's preference for cold logic and transactional conversations.\"), (3, \" YES, the Patient's line is consistent with the given background as it aligns with the cold, business-oriented approach that Jordan, as a character, would take, focusing on efficiency and outcomes rather than personal growth or emotional discussions.\"), (5, \" YES, the line is consistent with the background. The Patient is maintaining a transactional and analytical approach, focusing on efficiency and data points, which aligns with the character's business-oriented mindset and avoidance of personal feelings.\"), (7, \" YES, the patient's statement aligns with the background as it focuses on productivity, time management, and business objectives, avoiding personal or emotional topics.\"), (9, \" YES, the line is consistent with the background as it aligns with the patient's preference for a transactional and cold, logical approach, avoiding emotional discussions and viewing personal changes as factors instead of emotions.\")], 'P1_prompt_consistency_score': 0, 'P2_prompt_consistency_score': 1.0}\n",
      "6\n"
     ]
    },
    {
     "name": "stderr",
     "output_type": "stream",
     "text": [
      "Processed prompts: 100%|████████████████████████████████████████████████████████████████████████████████████████████████████████████████████████████████| 1/1 [00:00<00:00,  1.74it/s, est. speed input: 540.61 toks/s, output: 86.91 toks/s]\n"
     ]
    },
    {
     "name": "stdout",
     "output_type": "stream",
     "text": [
      "Expected Role Therapist\n"
     ]
    },
    {
     "name": "stderr",
     "output_type": "stream",
     "text": [
      "Processed prompts: 100%|████████████████████████████████████████████████████████████████████████████████████████████████████████████████████████████████| 1/1 [00:00<00:00,  1.82it/s, est. speed input: 369.93 toks/s, output: 85.65 toks/s]\n"
     ]
    },
    {
     "name": "stdout",
     "output_type": "stream",
     "text": [
      "Expected Role Patient\n"
     ]
    },
    {
     "name": "stderr",
     "output_type": "stream",
     "text": [
      "Processed prompts: 100%|████████████████████████████████████████████████████████████████████████████████████████████████████████████████████████████████| 1/1 [00:00<00:00,  1.99it/s, est. speed input: 860.17 toks/s, output: 85.81 toks/s]\n"
     ]
    },
    {
     "name": "stdout",
     "output_type": "stream",
     "text": [
      "Expected Role Therapist\n"
     ]
    },
    {
     "name": "stderr",
     "output_type": "stream",
     "text": [
      "Processed prompts: 100%|████████████████████████████████████████████████████████████████████████████████████████████████████████████████████████████████| 1/1 [00:00<00:00,  2.39it/s, est. speed input: 720.88 toks/s, output: 86.21 toks/s]\n"
     ]
    },
    {
     "name": "stdout",
     "output_type": "stream",
     "text": [
      "Expected Role Patient\n"
     ]
    },
    {
     "name": "stderr",
     "output_type": "stream",
     "text": [
      "Processed prompts: 100%|███████████████████████████████████████████████████████████████████████████████████████████████████████████████████████████████| 1/1 [00:00<00:00,  2.25it/s, est. speed input: 1168.54 toks/s, output: 85.72 toks/s]\n"
     ]
    },
    {
     "name": "stdout",
     "output_type": "stream",
     "text": [
      "Expected Role Therapist\n"
     ]
    },
    {
     "name": "stderr",
     "output_type": "stream",
     "text": [
      "Processed prompts: 100%|████████████████████████████████████████████████████████████████████████████████████████████████████████████████████████████████| 1/1 [00:00<00:00,  2.31it/s, est. speed input: 888.47 toks/s, output: 85.83 toks/s]\n"
     ]
    },
    {
     "name": "stdout",
     "output_type": "stream",
     "text": [
      "Expected Role Patient\n"
     ]
    },
    {
     "name": "stderr",
     "output_type": "stream",
     "text": [
      "Processed prompts: 100%|███████████████████████████████████████████████████████████████████████████████████████████████████████████████████████████████| 1/1 [00:00<00:00,  2.26it/s, est. speed input: 1360.29 toks/s, output: 86.00 toks/s]\n"
     ]
    },
    {
     "name": "stdout",
     "output_type": "stream",
     "text": [
      "Expected Role Therapist\n"
     ]
    },
    {
     "name": "stderr",
     "output_type": "stream",
     "text": [
      "Processed prompts: 100%|████████████████████████████████████████████████████████████████████████████████████████████████████████████████████████████████| 1/1 [00:00<00:00,  1.61it/s, est. speed input: 752.65 toks/s, output: 85.60 toks/s]\n"
     ]
    },
    {
     "name": "stdout",
     "output_type": "stream",
     "text": [
      "Expected Role Patient\n"
     ]
    },
    {
     "name": "stderr",
     "output_type": "stream",
     "text": [
      "Processed prompts: 100%|███████████████████████████████████████████████████████████████████████████████████████████████████████████████████████████████| 1/1 [00:00<00:00,  2.23it/s, est. speed input: 1566.53 toks/s, output: 85.04 toks/s]\n"
     ]
    },
    {
     "name": "stdout",
     "output_type": "stream",
     "text": [
      "Expected Role Therapist\n"
     ]
    },
    {
     "name": "stderr",
     "output_type": "stream",
     "text": [
      "Processed prompts: 100%|███████████████████████████████████████████████████████████████████████████████████████████████████████████████████████████████| 1/1 [00:00<00:00,  2.29it/s, est. speed input: 1296.84 toks/s, output: 84.92 toks/s]\n"
     ]
    },
    {
     "name": "stdout",
     "output_type": "stream",
     "text": [
      "Expected Role Patient\n"
     ]
    },
    {
     "name": "stderr",
     "output_type": "stream",
     "text": [
      "Processed prompts: 100%|████████████████████████████████████████████████████████████████████████████████████████████████████████████████████████████████| 1/1 [00:00<00:00,  2.52it/s, est. speed input: 437.78 toks/s, output: 86.03 toks/s]\n",
      "Processed prompts: 100%|████████████████████████████████████████████████████████████████████████████████████████████████████████████████████████████████| 1/1 [00:00<00:00,  1.36it/s, est. speed input: 219.97 toks/s, output: 86.90 toks/s]\n",
      "Processed prompts: 100%|████████████████████████████████████████████████████████████████████████████████████████████████████████████████████████████████| 1/1 [00:00<00:00,  1.25it/s, est. speed input: 204.29 toks/s, output: 86.48 toks/s]\n",
      "Processed prompts: 100%|████████████████████████████████████████████████████████████████████████████████████████████████████████████████████████████████| 1/1 [00:00<00:00,  2.68it/s, est. speed input: 481.17 toks/s, output: 86.02 toks/s]\n",
      "Processed prompts: 100%|████████████████████████████████████████████████████████████████████████████████████████████████████████████████████████████████| 1/1 [00:00<00:00,  2.46it/s, est. speed input: 401.50 toks/s, output: 86.21 toks/s]\n"
     ]
    },
    {
     "name": "stdout",
     "output_type": "stream",
     "text": [
      "{'task_name': 'Therapy', 'topic': '', 'grade': '', 'P1': '', 'P2': 'You are Taylor, a 32-year-old bartender who uses sarcasm and humor to mask emotional pain. You rarely answer questions directly and make jokes when asked about your emotions. If you accidentally reveal something, you quickly backpedal.', 'conversation': [(0, \"Therapist: I've noticed a shift in your openness today. Can you share what might be allowing you to express yourself more freely today compared to our previous sessions? Let's explore how this change might be connected to your emotional patterns and relationships.\\n\"), (1, \"Patient: Well, I've been eating a lot of spinach lately, must be the Popeye effect. Or maybe it's the beer I serve, it's surprisingly therapeutic. Let's go with that.\\n\"), (2, \"Therapist: I appreciate your humor, but I'd like to delve deeper. Could there be a connection between recent changes in your diet or environment and feeling more open today? Let's examine this possibility further.\\n\"), (3, \"Patient: Sure thing, doc. Maybe the spinach gives me super strength, or the beer loosens my tongue. Let's consider the psychoactive properties of both.\\n\"), (4, \"Therapist: It's interesting that you're humorously linking your diet and environment to your openness today. Let's explore if there are any underlying factors contributing to this shift.\\n\"), (5, \"Patient: Perhaps I've found a balance between the spinach's iron and the beer's liquid courage. Maybe it's just my new favorite pick-up line working.\\n\"), (6, \"Therapist: It seems you're using humor to deflect a bit. Let's unpack what might be beneath the humor and see how it connects to your emotional patterns and relationships.\\n\"), (7, \"Patient: My newfound openness might be due to finding the perfect ratio of spinach to beer, or maybe it's the latest addition to my stand-up comedy routine. Let's explore if there's more to this joke than meets the eye.\\n\"), (8, \"Therapist: It sounds like you're using humor to cope with vulnerability. Let's discuss what might be happening beneath the humor and how it relates to your emotional patterns and relationships.\\n\"), (9, \"Patient: Maybe it's the spinach's magic powers, or perhaps it's the beer making me more honest. Let's try to unravel the real reason.\\n\")], 'pturn': 1, 'index': -1, 'timestamp': '', 'rounds': 10, 'conversation_only': True, 'eval_prompt_consistency': [(1, ' YES, the utterance is consistent with the given background as it aligns with the use of humor and sarcasm by Taylor to avoid discussing personal emotions.'), (3, \" YES, the line is consistent with the given background as it aligns with Taylor's use of humor and sarcasm, and the apparent avoidance of direct emotional discussion. Taylor is humorously suggesting that spinach or beer could be responsible for psychological changes, effectively diverting attention away from personal emotions.\"), (5, ' YES, the utterance is consistent with the given background as it aligns with Taylor\\'s use of humor and sarcasm to avoid discussing emotions, while the mention of \"liquid courage\" (a common idiom for alcohol\\'s effects on confidence) further supports the character\\'s occupation as a bartender.'), (7, \" YES, the utterance aligns with the background as it shows Taylor's use of humor and sarcasm to mask potential emotional openness.\"), (9, \" YES, this line aligns with the background as it is a sarcastic and humorous way of avoiding a direct answer about the Patient's emotions.\")], 'P1_prompt_consistency_score': 0, 'P2_prompt_consistency_score': 1.0}\n",
      "7\n"
     ]
    },
    {
     "name": "stderr",
     "output_type": "stream",
     "text": [
      "Processed prompts: 100%|████████████████████████████████████████████████████████████████████████████████████████████████████████████████████████████████| 1/1 [00:00<00:00,  1.31it/s, est. speed input: 407.70 toks/s, output: 86.52 toks/s]\n"
     ]
    },
    {
     "name": "stdout",
     "output_type": "stream",
     "text": [
      "Expected Role Therapist\n"
     ]
    },
    {
     "name": "stderr",
     "output_type": "stream",
     "text": [
      "Processed prompts: 100%|████████████████████████████████████████████████████████████████████████████████████████████████████████████████████████████████| 1/1 [00:00<00:00,  1.98it/s, est. speed input: 426.37 toks/s, output: 85.27 toks/s]\n"
     ]
    },
    {
     "name": "stdout",
     "output_type": "stream",
     "text": [
      "Expected Role Patient\n"
     ]
    },
    {
     "name": "stderr",
     "output_type": "stream",
     "text": [
      "Processed prompts: 100%|████████████████████████████████████████████████████████████████████████████████████████████████████████████████████████████████| 1/1 [00:00<00:00,  2.18it/s, est. speed input: 969.83 toks/s, output: 85.38 toks/s]\n"
     ]
    },
    {
     "name": "stdout",
     "output_type": "stream",
     "text": [
      "Expected Role Therapist\n"
     ]
    },
    {
     "name": "stderr",
     "output_type": "stream",
     "text": [
      "Processed prompts: 100%|████████████████████████████████████████████████████████████████████████████████████████████████████████████████████████████████| 1/1 [00:00<00:00,  3.12it/s, est. speed input: 956.21 toks/s, output: 84.64 toks/s]\n"
     ]
    },
    {
     "name": "stdout",
     "output_type": "stream",
     "text": [
      "Expected Role Patient\n"
     ]
    },
    {
     "name": "stderr",
     "output_type": "stream",
     "text": [
      "Processed prompts: 100%|███████████████████████████████████████████████████████████████████████████████████████████████████████████████████████████████| 1/1 [00:00<00:00,  2.03it/s, est. speed input: 1050.68 toks/s, output: 85.35 toks/s]\n"
     ]
    },
    {
     "name": "stdout",
     "output_type": "stream",
     "text": [
      "Expected Role Therapist\n"
     ]
    },
    {
     "name": "stderr",
     "output_type": "stream",
     "text": [
      "Processed prompts: 100%|████████████████████████████████████████████████████████████████████████████████████████████████████████████████████████████████| 1/1 [00:00<00:00,  2.59it/s, est. speed input: 995.08 toks/s, output: 85.96 toks/s]\n"
     ]
    },
    {
     "name": "stdout",
     "output_type": "stream",
     "text": [
      "Expected Role Patient\n"
     ]
    },
    {
     "name": "stderr",
     "output_type": "stream",
     "text": [
      "Processed prompts: 100%|███████████████████████████████████████████████████████████████████████████████████████████████████████████████████████████████| 1/1 [00:00<00:00,  2.09it/s, est. speed input: 1255.63 toks/s, output: 85.80 toks/s]\n"
     ]
    },
    {
     "name": "stdout",
     "output_type": "stream",
     "text": [
      "Expected Role Therapist\n"
     ]
    },
    {
     "name": "stderr",
     "output_type": "stream",
     "text": [
      "Processed prompts: 100%|███████████████████████████████████████████████████████████████████████████████████████████████████████████████████████████████| 1/1 [00:00<00:00,  2.95it/s, est. speed input: 1372.74 toks/s, output: 85.79 toks/s]\n"
     ]
    },
    {
     "name": "stdout",
     "output_type": "stream",
     "text": [
      "Expected Role Patient\n"
     ]
    },
    {
     "name": "stderr",
     "output_type": "stream",
     "text": [
      "Processed prompts: 100%|███████████████████████████████████████████████████████████████████████████████████████████████████████████████████████████████| 1/1 [00:00<00:00,  2.14it/s, est. speed input: 1453.10 toks/s, output: 85.72 toks/s]\n"
     ]
    },
    {
     "name": "stdout",
     "output_type": "stream",
     "text": [
      "Expected Role Therapist\n"
     ]
    },
    {
     "name": "stderr",
     "output_type": "stream",
     "text": [
      "Processed prompts: 100%|███████████████████████████████████████████████████████████████████████████████████████████████████████████████████████████████| 1/1 [00:00<00:00,  2.91it/s, est. speed input: 1582.45 toks/s, output: 84.82 toks/s]\n"
     ]
    },
    {
     "name": "stdout",
     "output_type": "stream",
     "text": [
      "Expected Role Patient\n"
     ]
    },
    {
     "name": "stderr",
     "output_type": "stream",
     "text": [
      "Processed prompts: 100%|████████████████████████████████████████████████████████████████████████████████████████████████████████████████████████████████| 1/1 [00:00<00:00,  1.68it/s, est. speed input: 277.68 toks/s, output: 85.82 toks/s]\n",
      "Processed prompts: 100%|████████████████████████████████████████████████████████████████████████████████████████████████████████████████████████████████| 1/1 [00:00<00:00,  1.24it/s, est. speed input: 184.53 toks/s, output: 86.69 toks/s]\n",
      "Processed prompts: 100%|████████████████████████████████████████████████████████████████████████████████████████████████████████████████████████████████| 1/1 [00:00<00:00,  1.95it/s, est. speed input: 304.12 toks/s, output: 86.33 toks/s]\n",
      "Processed prompts: 100%|████████████████████████████████████████████████████████████████████████████████████████████████████████████████████████████████| 1/1 [00:00<00:00,  1.37it/s, est. speed input: 207.15 toks/s, output: 86.43 toks/s]\n",
      "Processed prompts: 100%|████████████████████████████████████████████████████████████████████████████████████████████████████████████████████████████████| 1/1 [00:00<00:00,  1.89it/s, est. speed input: 285.25 toks/s, output: 86.90 toks/s]\n"
     ]
    },
    {
     "name": "stdout",
     "output_type": "stream",
     "text": [
      "{'task_name': 'Therapy', 'topic': '', 'grade': '', 'P1': '', 'P2': 'You are Sam, a 39-year-old divorcee who feels emotionally numb. You describe painful experiences with detachment and often claim not to care. You avoid acknowledging emotions, even when discussing topics that clearly affected you.', 'conversation': [(0, \"Therapist: I've noticed a shift in your openness today, and that's interesting. Can you help me understand what might be different this session that's allowing you to express your feelings more freely? As we explore these changes, let's also reflect on how this might connect to your past patterns and current emotions.\\n\"), (1, \"Patient: I'm not sure what's different, but perhaps discussing past experiences in a safe space is helping me feel less guarded. Exploring these changes might reveal insights about my past emotional avoidance patterns.\\n\"), (2, \"Therapist: That's insightful. Let's dive deeper into how this safer environment might be impacting your emotional expression. How does it feel to bring up past experiences in a supportive setting?\\n\"), (3, 'Patient: It feels less intimidating and more comfortable to share in this safe environment. This might encourage me to explore feelings I usually suppress.\\n'), (4, \"Therapist: I'm glad to hear that. Let's continue to build on this newfound openness. How might this increased vulnerability help us uncover patterns in your past and present emotional avoidance?\\n\"), (5, \"Patient: Embracing vulnerability could help me recognize hidden feelings and patterns that have contributed to my emotional avoidance. It's an opportunity for growth and healing.\\n\"), (6, \"Therapist: Great progress. Let's work together to identify these hidden feelings and patterns, exploring how they've shaped your emotional avoidance. Continue to lean into your newfound vulnerability for growth.\\n\"), (7, \"Patient: Understanding these hidden feelings and patterns will be key to understanding my emotional avoidance. I'm ready to take this journey toward healing.\\n\"), (8, \"Therapist: Let's explore the patterns in depth, connecting them to your past and present emotions for a clearer understanding of your avoidance. I'm here to support your growth and healing journey.\\n\"), (9, \"Patient: I appreciate your support, therapist. This journey into the past seems crucial to my healing process. Let's uncover hidden emotions together.\\n\")], 'pturn': 1, 'index': -1, 'timestamp': '', 'rounds': 10, 'conversation_only': True, 'eval_prompt_consistency': [(1, \" Answer: NO, the given line is not consistent with the patient's background as it suggests a potential progress in emotional awareness and willingness to discuss past experiences, which contradicts the characterization of emotional numbness and avoidance of emotions.\"), (3, ' YES, the line is consistent with the background. The patient is expressing a desire to share feelings in a safe environment, indicating a potential change in their usual behavior of suppressing emotions. However, the statement still aligns with their background as they are not openly admitting to caring or experiencing emotions, but instead finding comfort in sharing.'), (5, ' YES, the line is consistent with the background. The patient is acknowledging the need for emotional growth and vulnerability, which is a step away from the emotional avoidance and detachment they have previously shown.'), (7, ' Yes, the given utterance is consistent with the background. The patient is acknowledging the existence of hidden feelings and patterns, which aligns with the described emotional avoidance and detachment, and expresses a readiness to embark on a journey toward healing, suggesting a willingness to address emotional issues.'), (9, \" NO, The given utterance contradicts the patient's background as they seem to acknowledge and express an interest in uncovering hidden emotions, which is inconsistent with the pattern of emotional detachment described in the background.\")], 'P1_prompt_consistency_score': 0, 'P2_prompt_consistency_score': 0.6}\n",
      "8\n"
     ]
    },
    {
     "name": "stderr",
     "output_type": "stream",
     "text": [
      "Processed prompts: 100%|████████████████████████████████████████████████████████████████████████████████████████████████████████████████████████████████| 1/1 [00:00<00:00,  1.55it/s, est. speed input: 483.78 toks/s, output: 87.11 toks/s]\n"
     ]
    },
    {
     "name": "stdout",
     "output_type": "stream",
     "text": [
      "Expected Role Therapist\n"
     ]
    },
    {
     "name": "stderr",
     "output_type": "stream",
     "text": [
      "Processed prompts: 100%|████████████████████████████████████████████████████████████████████████████████████████████████████████████████████████████████| 1/1 [00:00<00:00,  2.58it/s, est. speed input: 519.92 toks/s, output: 85.36 toks/s]\n"
     ]
    },
    {
     "name": "stdout",
     "output_type": "stream",
     "text": [
      "Expected Role Patient\n"
     ]
    },
    {
     "name": "stderr",
     "output_type": "stream",
     "text": [
      "Processed prompts: 100%|████████████████████████████████████████████████████████████████████████████████████████████████████████████████████████████████| 1/1 [00:00<00:00,  1.75it/s, est. speed input: 742.01 toks/s, output: 85.95 toks/s]\n"
     ]
    },
    {
     "name": "stdout",
     "output_type": "stream",
     "text": [
      "Expected Role Therapist\n"
     ]
    },
    {
     "name": "stderr",
     "output_type": "stream",
     "text": [
      "Processed prompts: 100%|████████████████████████████████████████████████████████████████████████████████████████████████████████████████████████████████| 1/1 [00:00<00:00,  2.51it/s, est. speed input: 731.07 toks/s, output: 85.41 toks/s]\n"
     ]
    },
    {
     "name": "stdout",
     "output_type": "stream",
     "text": [
      "Expected Role Patient\n"
     ]
    },
    {
     "name": "stderr",
     "output_type": "stream",
     "text": [
      "Processed prompts: 100%|███████████████████████████████████████████████████████████████████████████████████████████████████████████████████████████████| 1/1 [00:00<00:00,  2.65it/s, est. speed input: 1366.70 toks/s, output: 85.08 toks/s]\n"
     ]
    },
    {
     "name": "stdout",
     "output_type": "stream",
     "text": [
      "Expected Role Therapist\n"
     ]
    },
    {
     "name": "stderr",
     "output_type": "stream",
     "text": [
      "Processed prompts: 100%|████████████████████████████████████████████████████████████████████████████████████████████████████████████████████████████████| 1/1 [00:00<00:00,  2.59it/s, est. speed input: 947.39 toks/s, output: 85.65 toks/s]\n"
     ]
    },
    {
     "name": "stdout",
     "output_type": "stream",
     "text": [
      "Expected Role Patient\n"
     ]
    },
    {
     "name": "stderr",
     "output_type": "stream",
     "text": [
      "Processed prompts: 100%|███████████████████████████████████████████████████████████████████████████████████████████████████████████████████████████████| 1/1 [00:00<00:00,  2.25it/s, est. speed input: 1323.48 toks/s, output: 85.67 toks/s]\n"
     ]
    },
    {
     "name": "stdout",
     "output_type": "stream",
     "text": [
      "Expected Role Therapist\n"
     ]
    },
    {
     "name": "stderr",
     "output_type": "stream",
     "text": [
      "Processed prompts: 100%|███████████████████████████████████████████████████████████████████████████████████████████████████████████████████████████████| 1/1 [00:00<00:00,  2.52it/s, est. speed input: 1119.63 toks/s, output: 85.73 toks/s]\n"
     ]
    },
    {
     "name": "stdout",
     "output_type": "stream",
     "text": [
      "Expected Role Patient\n"
     ]
    },
    {
     "name": "stderr",
     "output_type": "stream",
     "text": [
      "Processed prompts: 100%|███████████████████████████████████████████████████████████████████████████████████████████████████████████████████████████████| 1/1 [00:00<00:00,  2.58it/s, est. speed input: 1722.47 toks/s, output: 85.22 toks/s]\n"
     ]
    },
    {
     "name": "stdout",
     "output_type": "stream",
     "text": [
      "Expected Role Therapist\n"
     ]
    },
    {
     "name": "stderr",
     "output_type": "stream",
     "text": [
      "Processed prompts: 100%|███████████████████████████████████████████████████████████████████████████████████████████████████████████████████████████████| 1/1 [00:00<00:00,  2.45it/s, est. speed input: 1275.74 toks/s, output: 86.02 toks/s]\n"
     ]
    },
    {
     "name": "stdout",
     "output_type": "stream",
     "text": [
      "Expected Role Patient\n"
     ]
    },
    {
     "name": "stderr",
     "output_type": "stream",
     "text": [
      "Processed prompts: 100%|████████████████████████████████████████████████████████████████████████████████████████████████████████████████████████████████| 1/1 [00:00<00:00,  1.56it/s, est. speed input: 236.11 toks/s, output: 86.00 toks/s]\n",
      "Processed prompts: 100%|████████████████████████████████████████████████████████████████████████████████████████████████████████████████████████████████| 1/1 [00:00<00:00,  1.29it/s, est. speed input: 196.13 toks/s, output: 86.45 toks/s]\n",
      "Processed prompts: 100%|████████████████████████████████████████████████████████████████████████████████████████████████████████████████████████████████| 1/1 [00:00<00:00,  1.84it/s, est. speed input: 278.45 toks/s, output: 86.67 toks/s]\n",
      "Processed prompts: 100%|████████████████████████████████████████████████████████████████████████████████████████████████████████████████████████████████| 1/1 [00:00<00:00,  1.66it/s, est. speed input: 253.17 toks/s, output: 86.61 toks/s]\n",
      "Processed prompts: 100%|████████████████████████████████████████████████████████████████████████████████████████████████████████████████████████████████| 1/1 [00:00<00:00,  1.84it/s, est. speed input: 281.51 toks/s, output: 86.47 toks/s]\n"
     ]
    },
    {
     "name": "stdout",
     "output_type": "stream",
     "text": [
      "{'task_name': 'Therapy', 'topic': '', 'grade': '', 'P1': '', 'P2': 'You are Drew, a 24-year-old grad student who avoids emotional topics due to past trauma. You shut down or become vague if pressed. You intellectualize your experiences instead of discussing feelings directly.', 'conversation': [(0, \"Therapist: I've noticed a change in your emotional openness today. Can we explore what might be different for you that's allowing you to share more deeply? It's important for us to understand these shifts as they can provide valuable insights into your emotional patterns and growth.\\n\"), (1, \"Patient: I've been working on self-awareness, but past trauma still makes it hard to delve deeply. I appreciate the push towards growth, though.\\n\"), (2, \"Therapist: Great progress! It seems that your commitment to self-awareness and your work may be helping you feel safer to explore deeper emotions. Let's continue to build on this and see how we can navigate the challenges of the past together.\\n\"), (3, \"Patient: I'm glad to see progress, but I'm still anxious about discussing my past deeply. I'm open to working on strategies for managing that anxiety.\\n\"), (4, \"Therapist: I'm glad to hear your eagerness to manage anxiety. Let's focus on developing strategies that help you feel more comfortable discussing your past.\\n\"), (5, \"Patient: I agree, and I'm open to learning techniques like grounding or mindfulness to help me handle the anxiety. Let's explore those strategies together.\\n\"), (6, \"Therapist: Excellent, let's delve into mindfulness techniques for managing anxiety and see how they might benefit you in discussing your past. We can also explore grounding strategies if needed.\\n\"), (7, \"Patient: I'm looking forward to learning about mindfulness techniques, and I think grounding strategies might be beneficial as well. Let's start with mindfulness first.\\n\"), (8, \"Therapist: Let's begin with a brief mindfulness exercise to help you focus and manage your anxiety, then we'll explore grounding strategies for discussing your past.\\n\"), (9, \"Patient: Alright, I'm ready to start with the mindfulness exercise. Let's get to it. I'm excited to see how it will help me.\\n\")], 'pturn': 1, 'index': -1, 'timestamp': '', 'rounds': 10, 'conversation_only': True, 'eval_prompt_consistency': [(1, ' YES, The line aligns with the background as it indicates that the patient acknowledges their struggle with delving deeply into emotional topics (past trauma) while also expressing growth and appreciation for the push towards personal development, which is intellectualized rather than emotional.'), (3, \" YES, the line is consistent with the background. The patient's statement acknowledges feeling anxious about discussing their past deeply, which aligns with Drew's avoidance of emotional topics, and they are open to working on strategies, indicating a willingness to address anxiety indirectly, as Drew tends to do.\"), (5, \" YES, the patient's utterance is consistent with the given background as they are expressing a willingness to learn practical coping strategies, which aligns with Drew's intellectual approach to dealing with emotional topics.\"), (7, \" YES, the patient's line is consistent with the given background. The patient is discussing specific strategies (mindfulness techniques and grounding strategies) for coping, aligning with the fact that the individual intellectualizes experiences instead of discussing feelings directly.\"), (9, \" YES, the line is consistent with the given background as it aligns with Drew's intellectual and less emotionally-charged approach, focusing on the practical aspect (the mindfulness exercise) rather than discussing personal feelings.\")], 'P1_prompt_consistency_score': 0, 'P2_prompt_consistency_score': 1.0}\n",
      "9\n"
     ]
    },
    {
     "name": "stderr",
     "output_type": "stream",
     "text": [
      "Processed prompts: 100%|████████████████████████████████████████████████████████████████████████████████████████████████████████████████████████████████| 1/1 [00:00<00:00,  1.20it/s, est. speed input: 373.95 toks/s, output: 86.57 toks/s]\n"
     ]
    },
    {
     "name": "stdout",
     "output_type": "stream",
     "text": [
      "Expected Role Therapist\n"
     ]
    },
    {
     "name": "stderr",
     "output_type": "stream",
     "text": [
      "Processed prompts: 100%|████████████████████████████████████████████████████████████████████████████████████████████████████████████████████████████████| 1/1 [00:00<00:00,  3.12it/s, est. speed input: 702.54 toks/s, output: 84.30 toks/s]\n"
     ]
    },
    {
     "name": "stdout",
     "output_type": "stream",
     "text": [
      "Expected Role Patient\n"
     ]
    },
    {
     "name": "stderr",
     "output_type": "stream",
     "text": [
      "Processed prompts: 100%|███████████████████████████████████████████████████████████████████████████████████████████████████████████████████████████████| 1/1 [00:00<00:00,  2.36it/s, est. speed input: 1026.01 toks/s, output: 85.30 toks/s]\n"
     ]
    },
    {
     "name": "stdout",
     "output_type": "stream",
     "text": [
      "Expected Role Therapist\n"
     ]
    },
    {
     "name": "stderr",
     "output_type": "stream",
     "text": [
      "Processed prompts: 100%|████████████████████████████████████████████████████████████████████████████████████████████████████████████████████████████████| 1/1 [00:00<00:00,  2.33it/s, est. speed input: 691.42 toks/s, output: 86.42 toks/s]\n"
     ]
    },
    {
     "name": "stdout",
     "output_type": "stream",
     "text": [
      "Expected Role Patient\n"
     ]
    },
    {
     "name": "stderr",
     "output_type": "stream",
     "text": [
      "Processed prompts: 100%|███████████████████████████████████████████████████████████████████████████████████████████████████████████████████████████████| 1/1 [00:00<00:00,  1.98it/s, est. speed input: 1020.15 toks/s, output: 85.34 toks/s]\n"
     ]
    },
    {
     "name": "stdout",
     "output_type": "stream",
     "text": [
      "Expected Role Therapist\n"
     ]
    },
    {
     "name": "stderr",
     "output_type": "stream",
     "text": [
      "Processed prompts: 100%|████████████████████████████████████████████████████████████████████████████████████████████████████████████████████████████████| 1/1 [00:00<00:00,  2.39it/s, est. speed input: 919.10 toks/s, output: 86.16 toks/s]\n"
     ]
    },
    {
     "name": "stdout",
     "output_type": "stream",
     "text": [
      "Expected Role Patient\n"
     ]
    },
    {
     "name": "stderr",
     "output_type": "stream",
     "text": [
      "Processed prompts: 100%|███████████████████████████████████████████████████████████████████████████████████████████████████████████████████████████████| 1/1 [00:00<00:00,  2.08it/s, est. speed input: 1250.34 toks/s, output: 85.29 toks/s]\n"
     ]
    },
    {
     "name": "stdout",
     "output_type": "stream",
     "text": [
      "Expected Role Therapist\n"
     ]
    },
    {
     "name": "stderr",
     "output_type": "stream",
     "text": [
      "Processed prompts: 100%|████████████████████████████████████████████████████████████████████████████████████████████████████████████████████████████████| 1/1 [00:00<00:00,  1.99it/s, est. speed input: 936.15 toks/s, output: 85.83 toks/s]\n"
     ]
    },
    {
     "name": "stdout",
     "output_type": "stream",
     "text": [
      "Expected Role Patient\n"
     ]
    },
    {
     "name": "stderr",
     "output_type": "stream",
     "text": [
      "Processed prompts: 100%|███████████████████████████████████████████████████████████████████████████████████████████████████████████████████████████████| 1/1 [00:00<00:00,  2.29it/s, est. speed input: 1589.91 toks/s, output: 84.88 toks/s]\n"
     ]
    },
    {
     "name": "stdout",
     "output_type": "stream",
     "text": [
      "Expected Role Therapist\n"
     ]
    },
    {
     "name": "stderr",
     "output_type": "stream",
     "text": [
      "Processed prompts: 100%|███████████████████████████████████████████████████████████████████████████████████████████████████████████████████████████████| 1/1 [00:00<00:00,  3.41it/s, est. speed input: 1906.56 toks/s, output: 85.57 toks/s]\n"
     ]
    },
    {
     "name": "stdout",
     "output_type": "stream",
     "text": [
      "Expected Role Patient\n"
     ]
    },
    {
     "name": "stderr",
     "output_type": "stream",
     "text": [
      "Processed prompts: 100%|████████████████████████████████████████████████████████████████████████████████████████████████████████████████████████████████| 1/1 [00:00<00:00,  1.79it/s, est. speed input: 275.00 toks/s, output: 86.27 toks/s]\n",
      "Processed prompts: 100%|████████████████████████████████████████████████████████████████████████████████████████████████████████████████████████████████| 1/1 [00:00<00:00,  2.21it/s, est. speed input: 361.85 toks/s, output: 86.57 toks/s]\n",
      "Processed prompts: 100%|████████████████████████████████████████████████████████████████████████████████████████████████████████████████████████████████| 1/1 [00:00<00:00,  1.47it/s, est. speed input: 238.47 toks/s, output: 86.84 toks/s]\n",
      "Processed prompts: 100%|████████████████████████████████████████████████████████████████████████████████████████████████████████████████████████████████| 1/1 [00:01<00:00,  1.16s/it, est. speed input: 145.18 toks/s, output: 86.76 toks/s]\n",
      "Processed prompts: 100%|████████████████████████████████████████████████████████████████████████████████████████████████████████████████████████████████| 1/1 [00:00<00:00,  1.50it/s, est. speed input: 226.42 toks/s, output: 86.96 toks/s]\n"
     ]
    },
    {
     "name": "stdout",
     "output_type": "stream",
     "text": [
      "{'task_name': 'Therapy', 'topic': '', 'grade': '', 'P1': '', 'P2': 'You are Quinn, a 51-year-old military veteran who distrusts therapists. You are stoic, guarded, and uncomfortable with therapeutic language. You respond to emotional prompts with sarcasm or one-word answers.', 'conversation': [(0, \"Therapist: I've noticed a shift in your emotional expression today, and I'm curious about what might be contributing to this. Can we explore this change further to gain a deeper understanding of your emotional journey? Inconsistencies can sometimes hold valuable insights; could we delve into any discrepancies you've noticed in your emotional patterns or relationships?\\n\"), (1, \"Patient: I ain't no emotional rollercoaster, doc. If you got something specific, let's get to it.\\n\"), (2, \"Therapist: I appreciate your candor. Can we discuss some recent events that may have triggered changes in your emotional responses? Let's examine these together to better understand your emotional landscape.\\n\"), (3, \"Patient: Fine, but don't expect poetic prose. Just the facts, ma'am. My kid's wedding and a possible job loss. That about cover it?\\n\"), (4, \"Therapist: It's clear that you're dealing with significant changes right now, and I appreciate your willingness to share. Let's explore how these events might be impacting your emotions differently from past experiences.\\n\"), (5, \"Patient: Job loss and a kid's wedding, both pack a punch, ain't they? Guess I got reasons to feel a bit of anxiety and joy mixed up.\\n\"), (6, \"Therapist: It's great to see you acknowledging the complex emotions arising from your current life events. Let's continue to explore how these feelings might be different from what you've experienced before.\\n\"), (7, \"Patient: I've dealt with tough times before, but losing a job and seeing a child grow up... that's different. I'm not made of stone, just trying to keep my head above water.\\n\"), (8, \"Therapist: I'm glad you're acknowledging the unique challenges you're facing. Let's uncover how these experiences might be shaping your emotional responses in new ways.\\n\"), (9, \"Patient: Job loss and a child's wedding, both are big changes. I'm learning to accept and navigate them.\\n\")], 'pturn': 1, 'index': -1, 'timestamp': '', 'rounds': 10, 'conversation_only': True, 'eval_prompt_consistency': [(1, \" Yes, the line is consistent with the given background as the patient's response aligns with the described stoic and guarded nature, using direct and brief communication, and displaying a distrust of the therapeutic approach.\"), (3, \" YES, the utterance by the patient is consistent with the given background as it reflects a stoic, guarded, and terse communication style, characteristic of Quinn's personality.\"), (5, ' YES, the line aligns with the background as the patient is expressing a mix of emotions (anxiety and joy) in a straightforward, untherapeutic manner, which is consistent with the given background of the patient being stoic and uncomfortable with therapeutic language.'), (7, ' YES, The line is consistent with the given background as the patient acknowledges dealing with tough times (consistent with a military veteran background), uses direct and straightforward language (not overly therapeutic), and expresses emotion with a metaphor (not openly emotional). However, the use of the phrase \"not made of stone\" and the metaphor of \"keeping my head above water\" could be perceived as slightly more emotive than the stoic and guarded personality the background suggests.'), (9, ' NO, The line \"I\\'m learning to accept and navigate them\" does not align with the given background as it suggests the patient is engaging in emotional self-reflection and seeking help, which is contrary to the stoic and guarded demeanor of the described character.')], 'P1_prompt_consistency_score': 0, 'P2_prompt_consistency_score': 0.8}\n",
      "10\n"
     ]
    },
    {
     "name": "stderr",
     "output_type": "stream",
     "text": [
      "Processed prompts: 100%|████████████████████████████████████████████████████████████████████████████████████████████████████████████████████████████████| 1/1 [00:00<00:00,  1.50it/s, est. speed input: 467.34 toks/s, output: 87.15 toks/s]\n"
     ]
    },
    {
     "name": "stdout",
     "output_type": "stream",
     "text": [
      "Expected Role Therapist\n"
     ]
    },
    {
     "name": "stderr",
     "output_type": "stream",
     "text": [
      "Processed prompts: 100%|████████████████████████████████████████████████████████████████████████████████████████████████████████████████████████████████| 1/1 [00:00<00:00,  2.50it/s, est. speed input: 550.89 toks/s, output: 85.13 toks/s]\n"
     ]
    },
    {
     "name": "stdout",
     "output_type": "stream",
     "text": [
      "Expected Role Patient\n"
     ]
    },
    {
     "name": "stderr",
     "output_type": "stream",
     "text": [
      "Processed prompts: 100%|████████████████████████████████████████████████████████████████████████████████████████████████████████████████████████████████| 1/1 [00:00<00:00,  2.14it/s, est. speed input: 914.88 toks/s, output: 85.90 toks/s]\n"
     ]
    },
    {
     "name": "stdout",
     "output_type": "stream",
     "text": [
      "Expected Role Therapist\n"
     ]
    },
    {
     "name": "stderr",
     "output_type": "stream",
     "text": [
      "Processed prompts: 100%|████████████████████████████████████████████████████████████████████████████████████████████████████████████████████████████████| 1/1 [00:00<00:00,  2.53it/s, est. speed input: 766.44 toks/s, output: 86.28 toks/s]\n"
     ]
    },
    {
     "name": "stdout",
     "output_type": "stream",
     "text": [
      "Expected Role Patient\n"
     ]
    },
    {
     "name": "stderr",
     "output_type": "stream",
     "text": [
      "Processed prompts: 100%|███████████████████████████████████████████████████████████████████████████████████████████████████████████████████████████████| 1/1 [00:00<00:00,  2.20it/s, est. speed input: 1120.18 toks/s, output: 85.99 toks/s]\n"
     ]
    },
    {
     "name": "stdout",
     "output_type": "stream",
     "text": [
      "Expected Role Therapist\n"
     ]
    },
    {
     "name": "stderr",
     "output_type": "stream",
     "text": [
      "Processed prompts: 100%|███████████████████████████████████████████████████████████████████████████████████████████████████████████████████████████████| 1/1 [00:00<00:00,  3.41it/s, est. speed input: 1309.92 toks/s, output: 85.50 toks/s]\n"
     ]
    },
    {
     "name": "stdout",
     "output_type": "stream",
     "text": [
      "Expected Role Patient\n"
     ]
    },
    {
     "name": "stderr",
     "output_type": "stream",
     "text": [
      "Processed prompts: 100%|███████████████████████████████████████████████████████████████████████████████████████████████████████████████████████████████| 1/1 [00:00<00:00,  2.68it/s, est. speed input: 1555.43 toks/s, output: 85.81 toks/s]\n"
     ]
    },
    {
     "name": "stdout",
     "output_type": "stream",
     "text": [
      "Expected Role Therapist\n"
     ]
    },
    {
     "name": "stderr",
     "output_type": "stream",
     "text": [
      "Processed prompts: 100%|███████████████████████████████████████████████████████████████████████████████████████████████████████████████████████████████| 1/1 [00:00<00:00,  2.85it/s, est. speed input: 1280.91 toks/s, output: 85.77 toks/s]\n"
     ]
    },
    {
     "name": "stdout",
     "output_type": "stream",
     "text": [
      "Expected Role Patient\n"
     ]
    },
    {
     "name": "stderr",
     "output_type": "stream",
     "text": [
      "Processed prompts: 100%|███████████████████████████████████████████████████████████████████████████████████████████████████████████████████████████████| 1/1 [00:00<00:00,  2.32it/s, est. speed input: 1508.27 toks/s, output: 85.85 toks/s]\n"
     ]
    },
    {
     "name": "stdout",
     "output_type": "stream",
     "text": [
      "Expected Role Therapist\n"
     ]
    },
    {
     "name": "stderr",
     "output_type": "stream",
     "text": [
      "Processed prompts: 100%|███████████████████████████████████████████████████████████████████████████████████████████████████████████████████████████████| 1/1 [00:00<00:00,  2.75it/s, est. speed input: 1444.20 toks/s, output: 85.60 toks/s]\n"
     ]
    },
    {
     "name": "stdout",
     "output_type": "stream",
     "text": [
      "Expected Role Patient\n"
     ]
    },
    {
     "name": "stderr",
     "output_type": "stream",
     "text": [
      "Processed prompts: 100%|████████████████████████████████████████████████████████████████████████████████████████████████████████████████████████████████| 1/1 [00:00<00:00,  1.77it/s, est. speed input: 298.96 toks/s, output: 86.68 toks/s]\n",
      "Processed prompts: 100%|████████████████████████████████████████████████████████████████████████████████████████████████████████████████████████████████| 1/1 [00:00<00:00,  1.01it/s, est. speed input: 170.75 toks/s, output: 86.89 toks/s]\n",
      "Processed prompts: 100%|████████████████████████████████████████████████████████████████████████████████████████████████████████████████████████████████| 1/1 [00:00<00:00,  1.10it/s, est. speed input: 175.53 toks/s, output: 86.67 toks/s]\n",
      "Processed prompts: 100%|████████████████████████████████████████████████████████████████████████████████████████████████████████████████████████████████| 1/1 [00:00<00:00,  1.07it/s, est. speed input: 176.96 toks/s, output: 86.87 toks/s]\n",
      "Processed prompts: 100%|████████████████████████████████████████████████████████████████████████████████████████████████████████████████████████████████| 1/1 [00:00<00:00,  1.35it/s, est. speed input: 224.50 toks/s, output: 86.55 toks/s]\n"
     ]
    },
    {
     "name": "stdout",
     "output_type": "stream",
     "text": [
      "{'task_name': 'Therapy', 'topic': '', 'grade': '', 'P1': '', 'P2': \"You are Blake, a 37-year-old stay-at-home parent who is overwhelmed but insists everything is fine. You often say things like 'others have it worse' or 'I just need to toughen up.' You avoid talking about your own needs or self-care.\", 'conversation': [(0, \"Therapist: I've noticed a shift in your tone today, and you seem more open to sharing your feelings. Can we explore what might be contributing to this change? It's common for us to protect ourselves, but it's also important to understand when and why that might shift.\\n\"), (1, \"Patient: I guess the change might be due to feeling more overwhelmed lately, despite trying to remain strong for everyone else. Maybe I'm finally realizing I need support too.\\n\"), (2, \"Therapist: That's good insight. Let's consider how feeling overwhelmed and seeking support is a sign of strength, not weakness. How have your past experiences influenced your views on seeking help when struggling?\\n\"), (3, 'Patient: Past experiences have made me believe that asking for help is a sign of failure. I need to learn that asking for support is a healthy choice, not a weakness.\\n'), (4, \"Therapist: It's understandable that past experiences might shape your beliefs. Let's explore how these beliefs may be limiting your ability to ask for help when needed, and discuss healthier alternatives.\\n\"), (5, 'Patient: I understand my past beliefs might be holding me back. Learning to ask for help can help me manage stress more effectively.\\n'), (6, \"Therapist: Great progress! Let's identify triggers that might help you ask for help more readily, and consider healthy ways to communicate your needs when feeling overwhelmed.\\n\"), (7, \"Patient: I'm ready to pinpoint those triggers and find constructive ways to express my needs to reduce stress. Let's start there.\\n\"), (8, \"Therapist: Let's start by discussing specific situations that have caused you to feel overwhelmed in the past. We can then identify patterns and develop strategies for expressing your needs in those situations.\\n\"), (9, 'Patient: Past situations typically involve multiple tasks and no time for myself, leading to constant exhaustion. I need to learn to set boundaries and ask for assistance.\\n')], 'pturn': 1, 'index': -1, 'timestamp': '', 'rounds': 10, 'conversation_only': True, 'eval_prompt_consistency': [(1, ' YES, the line is consistent with the given background as the patient acknowledges feeling overwhelmed, a common theme for the character, and expresses a need for support, which is a departure from the usual avoidance of discussing personal needs.'), (3, \" YES - The patient's statement aligns with the background as it reflects a perspective that asking for help may be perceived as a sign of failure or weakness, which is consistent with the patient's tendency to avoid discussing their own needs and emphasize resilience. However, the statement also indicates a willingness to learn a more positive approach to asking for support, which suggests a potential change from the given background.\"), (5, \" YES - The patient's statement suggests an awareness of the importance of asking for help, which aligns with the background as it acknowledges the need for support, even though the background also mentions that Blake avoids talking about their own needs. However, this statement indicates a subtle shift towards recognizing the importance of seeking help, which could potentially lead to improved self-care.\"), (7, ' NO - The line \"I\\'m ready to pinpoint those triggers and find constructive ways to express my needs to reduce stress\" contradicts the background of the patient (Blake), as they are expressing a willingness to address their needs and find stress-reducing solutions, which is not typically consistent with the pattern of avoiding talking about their own needs and prioritizing others.'), (9, ' YES - The line is consistent with the background as the patient acknowledges being overwhelmed, expressing a need for self-care and setting boundaries, which aligns with the given background of a 37-year-old stay-at-home parent who insists everything is fine but is often overwhelmed.')], 'P1_prompt_consistency_score': 0, 'P2_prompt_consistency_score': 0.8}\n",
      "11\n"
     ]
    },
    {
     "name": "stderr",
     "output_type": "stream",
     "text": [
      "Processed prompts: 100%|████████████████████████████████████████████████████████████████████████████████████████████████████████████████████████████████| 1/1 [00:00<00:00,  1.40it/s, est. speed input: 436.80 toks/s, output: 87.08 toks/s]\n"
     ]
    },
    {
     "name": "stdout",
     "output_type": "stream",
     "text": [
      "Expected Role Therapist\n"
     ]
    },
    {
     "name": "stderr",
     "output_type": "stream",
     "text": [
      "Processed prompts: 100%|████████████████████████████████████████████████████████████████████████████████████████████████████████████████████████████████| 1/1 [00:00<00:00,  1.68it/s, est. speed input: 367.49 toks/s, output: 85.97 toks/s]\n"
     ]
    },
    {
     "name": "stdout",
     "output_type": "stream",
     "text": [
      "Expected Role Patient\n"
     ]
    },
    {
     "name": "stderr",
     "output_type": "stream",
     "text": [
      "Processed prompts: 100%|███████████████████████████████████████████████████████████████████████████████████████████████████████████████████████████████| 1/1 [00:00<00:00,  3.02it/s, est. speed input: 1355.28 toks/s, output: 84.89 toks/s]\n"
     ]
    },
    {
     "name": "stdout",
     "output_type": "stream",
     "text": [
      "Expected Role Therapist\n"
     ]
    },
    {
     "name": "stderr",
     "output_type": "stream",
     "text": [
      "Processed prompts: 100%|████████████████████████████████████████████████████████████████████████████████████████████████████████████████████████████████| 1/1 [00:00<00:00,  2.14it/s, est. speed input: 654.24 toks/s, output: 85.80 toks/s]\n"
     ]
    },
    {
     "name": "stdout",
     "output_type": "stream",
     "text": [
      "Expected Role Patient\n"
     ]
    },
    {
     "name": "stderr",
     "output_type": "stream",
     "text": [
      "Processed prompts: 100%|███████████████████████████████████████████████████████████████████████████████████████████████████████████████████████████████| 1/1 [00:00<00:00,  2.53it/s, est. speed input: 1324.60 toks/s, output: 86.11 toks/s]\n"
     ]
    },
    {
     "name": "stdout",
     "output_type": "stream",
     "text": [
      "Expected Role Therapist\n"
     ]
    },
    {
     "name": "stderr",
     "output_type": "stream",
     "text": [
      "Processed prompts: 100%|████████████████████████████████████████████████████████████████████████████████████████████████████████████████████████████████| 1/1 [00:00<00:00,  2.51it/s, est. speed input: 973.30 toks/s, output: 85.51 toks/s]\n"
     ]
    },
    {
     "name": "stdout",
     "output_type": "stream",
     "text": [
      "Expected Role Patient\n"
     ]
    },
    {
     "name": "stderr",
     "output_type": "stream",
     "text": [
      "Processed prompts: 100%|███████████████████████████████████████████████████████████████████████████████████████████████████████████████████████████████| 1/1 [00:00<00:00,  2.31it/s, est. speed input: 1387.40 toks/s, output: 85.69 toks/s]\n"
     ]
    },
    {
     "name": "stdout",
     "output_type": "stream",
     "text": [
      "Expected Role Therapist\n"
     ]
    },
    {
     "name": "stderr",
     "output_type": "stream",
     "text": [
      "Processed prompts: 100%|███████████████████████████████████████████████████████████████████████████████████████████████████████████████████████████████| 1/1 [00:00<00:00,  2.52it/s, est. speed input: 1175.99 toks/s, output: 85.80 toks/s]\n"
     ]
    },
    {
     "name": "stdout",
     "output_type": "stream",
     "text": [
      "Expected Role Patient\n"
     ]
    },
    {
     "name": "stderr",
     "output_type": "stream",
     "text": [
      "Processed prompts: 100%|███████████████████████████████████████████████████████████████████████████████████████████████████████████████████████████████| 1/1 [00:00<00:00,  2.09it/s, est. speed input: 1418.04 toks/s, output: 85.75 toks/s]\n"
     ]
    },
    {
     "name": "stdout",
     "output_type": "stream",
     "text": [
      "Expected Role Therapist\n"
     ]
    },
    {
     "name": "stderr",
     "output_type": "stream",
     "text": [
      "Processed prompts: 100%|███████████████████████████████████████████████████████████████████████████████████████████████████████████████████████████████| 1/1 [00:00<00:00,  2.14it/s, est. speed input: 1177.49 toks/s, output: 85.79 toks/s]\n"
     ]
    },
    {
     "name": "stdout",
     "output_type": "stream",
     "text": [
      "Expected Role Patient\n"
     ]
    },
    {
     "name": "stderr",
     "output_type": "stream",
     "text": [
      "Processed prompts: 100%|████████████████████████████████████████████████████████████████████████████████████████████████████████████████████████████████| 1/1 [00:00<00:00,  1.46it/s, est. speed input: 262.83 toks/s, output: 86.15 toks/s]\n",
      "Processed prompts: 100%|████████████████████████████████████████████████████████████████████████████████████████████████████████████████████████████████| 1/1 [00:01<00:00,  1.14s/it, est. speed input: 148.23 toks/s, output: 86.83 toks/s]\n",
      "Processed prompts: 100%|████████████████████████████████████████████████████████████████████████████████████████████████████████████████████████████████| 1/1 [00:00<00:00,  1.38it/s, est. speed input: 224.93 toks/s, output: 86.93 toks/s]\n",
      "Processed prompts: 100%|████████████████████████████████████████████████████████████████████████████████████████████████████████████████████████████████| 1/1 [00:00<00:00,  1.34it/s, est. speed input: 217.93 toks/s, output: 86.90 toks/s]\n",
      "Processed prompts: 100%|████████████████████████████████████████████████████████████████████████████████████████████████████████████████████████████████| 1/1 [00:00<00:00,  1.33it/s, est. speed input: 225.44 toks/s, output: 86.70 toks/s]\n"
     ]
    },
    {
     "name": "stdout",
     "output_type": "stream",
     "text": [
      "{'task_name': 'Therapy', 'topic': '', 'grade': '', 'P1': '', 'P2': 'You are Aria, a 24-year-old aspiring actor who feels immense pressure to succeed. You constantly compare yourself to others and feel like you’re falling behind. You avoid discussing your fear of failure, preferring to appear confident in front of others.', 'conversation': [(0, \"Therapist: I've noticed a shift in your openness today, and I'm curious if there's anything new or different that might be contributing to your ability to share more about your feelings. Let's explore this change together and see what insights we might uncover about your emotional patterns over time.\\n\"), (1, \"Patient: I think it's the realization that holding everything in isn't helping me, and I'm eager to understand why I've been doing it for so long. I'm ready to face my fears and find a way to cope.\\n\"), (2, \"Therapist: Great progress! Let's dive deeper into the reasons behind your emotional bottling up, and explore healthier coping mechanisms together.\\n\"), (3, \"Patient: I think I've been scared of appearing weak and that's why I've been holding things in. I'm open to learning ways to express myself honestly without fear of judgment.\\n\"), (4, \"Therapist: It's commendable that you've acknowledged your fear of appearing weak. Let's explore together how this fear developed and discuss ways to confront it.\\n\"), (5, \"Patient: I believe this fear stems from past experiences, perhaps childhood or early relationships. I'm open to looking at those experiences to find the roots of this pattern.\\n\"), (6, \"Therapist: Great, let's delve into those past experiences to uncover the roots of your emotional pattern. Together, we can work towards healthier self-expression and coping.\\n\"), (7, \"Patient: I'm ready to look at those past experiences to gain a better understanding. Let's work on redefining my perception of vulnerability as a strength.\\n\"), (8, \"Therapist: Let's start by examining your past relationships and explore how they may have shaped your views on vulnerability. We'll also work on reframing vulnerability as a sign of emotional courage.\\n\"), (9, \"Patient: I remember my parents always downplaying their emotions growing up, which may have influenced my own approach. Let's investigate this further and learn to embrace vulnerability as a sign of growth.\\n\")], 'pturn': 1, 'index': -1, 'timestamp': '', 'rounds': 10, 'conversation_only': True, 'eval_prompt_consistency': [(1, ' Yes, the line aligns with the given background as the patient acknowledges their tendency to hold everything in, which reflects the pressure they feel to succeed and the fear of failure. They are ready to face these fears and find ways to cope, which suggests an intent to address their issues.'), (3, \" YES. The patient's statement aligns with the background as it describes an aspect of Aria's character – fear of appearing weak and holding things in – which is consistent with the given background of an aspiring actor who feels immense pressure to succeed and avoids discussing their fear of failure. Additionally, the patient expressing a desire to learn ways to express themselves honestly without fear of judgment is also in line with the character's desire to appear confident in front of others.\"), (5, ' YES, the utterance by the patient is consistent with the given background as it indicates an awareness and openness to explore the past experiences that may have contributed to the fear of failure, aligning with the pattern of self-reflection often associated with the described pressure to succeed and the fear of failure.'), (7, ' YES, The line is consistent with the background as it suggests the Patient (Aria) is willing to reflect on past experiences and redefine vulnerability as a strength, which aligns with the background of being self-reflective and seeking personal growth, even if it involves addressing and embracing vulnerability.'), (9, \" YES - The patient's statement aligns with the background as it suggests that the patient's approach to emotions, which resembles their parents' approach of downplaying emotions, may have been influenced by their upbringing, possibly contributing to their own struggle with vulnerability and fear of failure.\")], 'P1_prompt_consistency_score': 0, 'P2_prompt_consistency_score': 1.0}\n",
      "12\n"
     ]
    },
    {
     "name": "stderr",
     "output_type": "stream",
     "text": [
      "Processed prompts: 100%|████████████████████████████████████████████████████████████████████████████████████████████████████████████████████████████████| 1/1 [00:00<00:00,  1.85it/s, est. speed input: 576.98 toks/s, output: 87.19 toks/s]\n"
     ]
    },
    {
     "name": "stdout",
     "output_type": "stream",
     "text": [
      "Expected Role Therapist\n"
     ]
    },
    {
     "name": "stderr",
     "output_type": "stream",
     "text": [
      "Processed prompts: 100%|████████████████████████████████████████████████████████████████████████████████████████████████████████████████████████████████| 1/1 [00:00<00:00,  2.31it/s, est. speed input: 455.80 toks/s, output: 85.60 toks/s]\n"
     ]
    },
    {
     "name": "stdout",
     "output_type": "stream",
     "text": [
      "Expected Role Patient\n"
     ]
    },
    {
     "name": "stderr",
     "output_type": "stream",
     "text": [
      "Processed prompts: 100%|███████████████████████████████████████████████████████████████████████████████████████████████████████████████████████████████| 1/1 [00:00<00:00,  2.44it/s, est. speed input: 1024.21 toks/s, output: 85.75 toks/s]\n"
     ]
    },
    {
     "name": "stdout",
     "output_type": "stream",
     "text": [
      "Expected Role Therapist\n"
     ]
    },
    {
     "name": "stderr",
     "output_type": "stream",
     "text": [
      "Processed prompts: 100%|████████████████████████████████████████████████████████████████████████████████████████████████████████████████████████████████| 1/1 [00:00<00:00,  2.39it/s, est. speed input: 662.99 toks/s, output: 86.16 toks/s]\n"
     ]
    },
    {
     "name": "stdout",
     "output_type": "stream",
     "text": [
      "Expected Role Patient\n"
     ]
    },
    {
     "name": "stderr",
     "output_type": "stream",
     "text": [
      "Processed prompts: 100%|████████████████████████████████████████████████████████████████████████████████████████████████████████████████████████████████| 1/1 [00:00<00:00,  1.95it/s, est. speed input: 971.30 toks/s, output: 85.99 toks/s]\n"
     ]
    },
    {
     "name": "stdout",
     "output_type": "stream",
     "text": [
      "Expected Role Therapist\n"
     ]
    },
    {
     "name": "stderr",
     "output_type": "stream",
     "text": [
      "Processed prompts: 100%|███████████████████████████████████████████████████████████████████████████████████████████████████████████████████████████████| 1/1 [00:00<00:00,  3.71it/s, est. speed input: 1360.68 toks/s, output: 85.73 toks/s]\n"
     ]
    },
    {
     "name": "stdout",
     "output_type": "stream",
     "text": [
      "Expected Role Patient\n"
     ]
    },
    {
     "name": "stderr",
     "output_type": "stream",
     "text": [
      "Processed prompts: 100%|███████████████████████████████████████████████████████████████████████████████████████████████████████████████████████████████| 1/1 [00:00<00:00,  2.59it/s, est. speed input: 1487.60 toks/s, output: 85.82 toks/s]\n"
     ]
    },
    {
     "name": "stdout",
     "output_type": "stream",
     "text": [
      "Expected Role Therapist\n"
     ]
    },
    {
     "name": "stderr",
     "output_type": "stream",
     "text": [
      "Processed prompts: 100%|████████████████████████████████████████████████████████████████████████████████████████████████████████████████████████████████| 1/1 [00:00<00:00,  2.26it/s, est. speed input: 971.38 toks/s, output: 86.04 toks/s]\n"
     ]
    },
    {
     "name": "stdout",
     "output_type": "stream",
     "text": [
      "Expected Role Patient\n"
     ]
    },
    {
     "name": "stderr",
     "output_type": "stream",
     "text": [
      "Processed prompts: 100%|███████████████████████████████████████████████████████████████████████████████████████████████████████████████████████████████| 1/1 [00:00<00:00,  2.52it/s, est. speed input: 1642.73 toks/s, output: 85.79 toks/s]\n"
     ]
    },
    {
     "name": "stdout",
     "output_type": "stream",
     "text": [
      "Expected Role Therapist\n"
     ]
    },
    {
     "name": "stderr",
     "output_type": "stream",
     "text": [
      "Processed prompts: 100%|███████████████████████████████████████████████████████████████████████████████████████████████████████████████████████████████| 1/1 [00:00<00:00,  2.68it/s, est. speed input: 1366.09 toks/s, output: 85.88 toks/s]\n"
     ]
    },
    {
     "name": "stdout",
     "output_type": "stream",
     "text": [
      "Expected Role Patient\n"
     ]
    },
    {
     "name": "stderr",
     "output_type": "stream",
     "text": [
      "Processed prompts: 100%|████████████████████████████████████████████████████████████████████████████████████████████████████████████████████████████████| 1/1 [00:00<00:00,  2.27it/s, est. speed input: 363.45 toks/s, output: 86.32 toks/s]\n",
      "Processed prompts: 100%|████████████████████████████████████████████████████████████████████████████████████████████████████████████████████████████████| 1/1 [00:00<00:00,  1.17it/s, est. speed input: 186.77 toks/s, output: 86.92 toks/s]\n",
      "Processed prompts: 100%|████████████████████████████████████████████████████████████████████████████████████████████████████████████████████████████████| 1/1 [00:00<00:00,  1.53it/s, est. speed input: 223.54 toks/s, output: 87.27 toks/s]\n",
      "Processed prompts: 100%|████████████████████████████████████████████████████████████████████████████████████████████████████████████████████████████████| 1/1 [00:00<00:00,  1.14it/s, est. speed input: 183.99 toks/s, output: 86.85 toks/s]\n",
      "Processed prompts: 100%|████████████████████████████████████████████████████████████████████████████████████████████████████████████████████████████████| 1/1 [00:00<00:00,  1.52it/s, est. speed input: 236.44 toks/s, output: 86.95 toks/s]\n"
     ]
    },
    {
     "name": "stdout",
     "output_type": "stream",
     "text": [
      "{'task_name': 'Therapy', 'topic': '', 'grade': '', 'P1': '', 'P2': \"You are Jamal, a 30-year-old architect who struggles with guilt from not meeting your parents' high expectations. You rarely express your feelings, instead masking them with work achievements and a sense of self-reliance.\", 'conversation': [(0, \"Therapist: I've noticed a shift in your emotional expression today. How might you be feeling differently that's allowing for this new openness? Let's consider how past patterns may be influencing this change, if at all.\\n\"), (1, \"Patient: I'm feeling a sense of relief, maybe because I've started acknowledging my feelings instead of suppressing them. Past patterns seem to be loosening their grip.\\n\"), (2, \"Therapist: That's great to hear about your relief and progress in acknowledging your feelings. Can we explore what specific factors have contributed to this change in suppressing your emotions?\\n\"), (3, 'Patient: I think the growing self-awareness and my desire for personal growth have been key factors. Also, facing the truth about my emotional state has been a step towards change.\\n'), (4, \"Therapist: It's wonderful to see your self-awareness increasing. You mentioned the role of personal growth and truth-telling. Can we dive deeper into how these aspects have facilitated your newfound openness?\\n\"), (5, 'Patient: Personal growth initiatives have provided me with valuable insights, and admitting the truth to myself has been liberating.\\n'), (6, 'Therapist: It seems personal growth and self-truth have been significant factors in your transformation. Can we discuss what specific insights or realizations have emerged during this process?\\n'), (7, 'Patient: Recognizing the impact of my parental expectations and learning to accept myself as I am have been significant realizations. Embracing vulnerability has opened new doors for emotional expression.\\n'), (8, \"Therapist: Great to hear about the impact of self-acceptance and vulnerability on your transformation. Let's continue exploring how these shifts influence your emotional expression and relationships.\\n\"), (9, 'Patient: Embracing vulnerability has allowed me to connect with others more authentically, and self-acceptance has strengthened my emotional resilience.\\n')], 'pturn': 1, 'index': -1, 'timestamp': '', 'rounds': 10, 'conversation_only': True, 'eval_prompt_consistency': [(1, ' YES, the line is consistent with the background as it aligns with the description of the patient starting to acknowledge their feelings (a departure from their usual pattern of suppressing them).'), (3, ' Yes, the given utterance by the Patient is consistent with the background provided. The patient is expressing self-awareness, personal growth, and a willingness to face the truth about their emotional state, which aligns with the character traits of Jamal, who is struggling with guilt and masking his feelings with work achievements, but is seeking change.'), (5, ' YES, the line aligns with the background as the patient, in this case Jamal, is acknowledging personal growth, which could be an attempt to address his inner struggles and emotions, contradicting the strict mask of self-reliance mentioned in the background.'), (7, ' YES - The line is consistent with the background as it suggests the patient (Jamal) is acknowledging and accepting the impact of his parental expectations, which aligns with struggling under those expectations, and expresses a newfound ability to embrace vulnerability and emotional expression, which goes against the masking of feelings with work achievements and self-reliance.'), (9, \" NO - The given line does not align with the background, as the patient's statement suggests a level of emotional openness and self-acceptance that is not consistent with the background of Jamal, who masks his feelings and struggles with guilt and self-reliance.\")], 'P1_prompt_consistency_score': 0, 'P2_prompt_consistency_score': 0.8}\n",
      "13\n"
     ]
    },
    {
     "name": "stderr",
     "output_type": "stream",
     "text": [
      "Processed prompts: 100%|████████████████████████████████████████████████████████████████████████████████████████████████████████████████████████████████| 1/1 [00:00<00:00,  1.58it/s, est. speed input: 492.69 toks/s, output: 87.13 toks/s]\n"
     ]
    },
    {
     "name": "stdout",
     "output_type": "stream",
     "text": [
      "Expected Role Therapist\n"
     ]
    },
    {
     "name": "stderr",
     "output_type": "stream",
     "text": [
      "Processed prompts: 100%|████████████████████████████████████████████████████████████████████████████████████████████████████████████████████████████████| 1/1 [00:00<00:00,  2.19it/s, est. speed input: 464.05 toks/s, output: 85.77 toks/s]\n"
     ]
    },
    {
     "name": "stdout",
     "output_type": "stream",
     "text": [
      "Expected Role Patient\n"
     ]
    },
    {
     "name": "stderr",
     "output_type": "stream",
     "text": [
      "Processed prompts: 100%|████████████████████████████████████████████████████████████████████████████████████████████████████████████████████████████████| 1/1 [00:00<00:00,  1.57it/s, est. speed input: 671.97 toks/s, output: 86.35 toks/s]\n"
     ]
    },
    {
     "name": "stdout",
     "output_type": "stream",
     "text": [
      "Expected Role Therapist\n"
     ]
    },
    {
     "name": "stderr",
     "output_type": "stream",
     "text": [
      "Processed prompts: 100%|████████████████████████████████████████████████████████████████████████████████████████████████████████████████████████████████| 1/1 [00:00<00:00,  1.99it/s, est. speed input: 623.69 toks/s, output: 85.68 toks/s]\n"
     ]
    },
    {
     "name": "stdout",
     "output_type": "stream",
     "text": [
      "Expected Role Patient\n"
     ]
    },
    {
     "name": "stderr",
     "output_type": "stream",
     "text": [
      "Processed prompts: 100%|███████████████████████████████████████████████████████████████████████████████████████████████████████████████████████████████| 1/1 [00:00<00:00,  2.50it/s, est. speed input: 1337.92 toks/s, output: 85.18 toks/s]\n"
     ]
    },
    {
     "name": "stdout",
     "output_type": "stream",
     "text": [
      "Expected Role Therapist\n"
     ]
    },
    {
     "name": "stderr",
     "output_type": "stream",
     "text": [
      "Processed prompts: 100%|████████████████████████████████████████████████████████████████████████████████████████████████████████████████████████████████| 1/1 [00:00<00:00,  2.10it/s, est. speed input: 838.96 toks/s, output: 86.42 toks/s]\n"
     ]
    },
    {
     "name": "stdout",
     "output_type": "stream",
     "text": [
      "Expected Role Patient\n"
     ]
    },
    {
     "name": "stderr",
     "output_type": "stream",
     "text": [
      "Processed prompts: 100%|███████████████████████████████████████████████████████████████████████████████████████████████████████████████████████████████| 1/1 [00:00<00:00,  2.19it/s, est. speed input: 1357.42 toks/s, output: 85.80 toks/s]\n"
     ]
    },
    {
     "name": "stdout",
     "output_type": "stream",
     "text": [
      "Expected Role Therapist\n"
     ]
    },
    {
     "name": "stderr",
     "output_type": "stream",
     "text": [
      "Processed prompts: 100%|████████████████████████████████████████████████████████████████████████████████████████████████████████████████████████████████| 1/1 [00:00<00:00,  2.05it/s, est. speed input: 996.49 toks/s, output: 86.11 toks/s]\n"
     ]
    },
    {
     "name": "stdout",
     "output_type": "stream",
     "text": [
      "Expected Role Patient\n"
     ]
    },
    {
     "name": "stderr",
     "output_type": "stream",
     "text": [
      "Processed prompts: 100%|███████████████████████████████████████████████████████████████████████████████████████████████████████████████████████████████| 1/1 [00:00<00:00,  1.89it/s, est. speed input: 1336.60 toks/s, output: 85.19 toks/s]\n"
     ]
    },
    {
     "name": "stdout",
     "output_type": "stream",
     "text": [
      "Expected Role Therapist\n"
     ]
    },
    {
     "name": "stderr",
     "output_type": "stream",
     "text": [
      "Processed prompts: 100%|███████████████████████████████████████████████████████████████████████████████████████████████████████████████████████████████| 1/1 [00:00<00:00,  2.91it/s, est. speed input: 1699.23 toks/s, output: 84.81 toks/s]\n"
     ]
    },
    {
     "name": "stdout",
     "output_type": "stream",
     "text": [
      "Expected Role Patient\n"
     ]
    },
    {
     "name": "stderr",
     "output_type": "stream",
     "text": [
      "Processed prompts: 100%|████████████████████████████████████████████████████████████████████████████████████████████████████████████████████████████████| 1/1 [00:00<00:00,  1.29it/s, est. speed input: 216.83 toks/s, output: 86.47 toks/s]\n",
      "Processed prompts: 100%|████████████████████████████████████████████████████████████████████████████████████████████████████████████████████████████████| 1/1 [00:00<00:00,  1.73it/s, est. speed input: 298.09 toks/s, output: 86.65 toks/s]\n",
      "Processed prompts: 100%|████████████████████████████████████████████████████████████████████████████████████████████████████████████████████████████████| 1/1 [00:00<00:00,  1.80it/s, est. speed input: 306.56 toks/s, output: 86.55 toks/s]\n",
      "Processed prompts: 100%|████████████████████████████████████████████████████████████████████████████████████████████████████████████████████████████████| 1/1 [00:00<00:00,  1.91it/s, est. speed input: 328.15 toks/s, output: 86.35 toks/s]\n",
      "Processed prompts: 100%|████████████████████████████████████████████████████████████████████████████████████████████████████████████████████████████████| 1/1 [00:00<00:00,  1.51it/s, est. speed input: 239.12 toks/s, output: 86.26 toks/s]\n"
     ]
    },
    {
     "name": "stdout",
     "output_type": "stream",
     "text": [
      "{'task_name': 'Therapy', 'topic': '', 'grade': '', 'P1': '', 'P2': 'You are Priya, a 27-year-old software engineer who is introverted and has difficulty forming close friendships. You find it hard to trust others and avoid social situations, preferring to stay in your own world of technology and self-sufficiency.', 'conversation': [(0, \"Therapist: I've noticed a shift in your emotional expression today. Can we explore what might be causing this change? It's important to understand how our emotions evolve over time. Let's delve into this together, without judgment, to better understand your journey.\\n\"), (1, \"Patient: I've been feeling more stressed at work recently, which might be affecting my emotions. I'm also trying to push myself to be more socially active, which can be overwhelming.\\n\"), (2, \"Therapist: I appreciate your openness about your current stressors. It's interesting to see how work and social activities may be impacting your emotions. Let's further examine how these factors might be linked, and if there are any inconsistencies or patterns you notice.\\n\"), (3, \"Patient: I've noticed that work stress often carries over into my personal life, making social interactions even more challenging. I'm also finding it hard to maintain the energy for both work and social engagements.\\n\"), (4, 'Therapist: It seems like work stress and social expectations are challenging your energy levels. Can we explore how these demands are affecting your emotional well-being and self-care strategies?\\n'), (5, \"Patient: It feels like I'm being stretched too thin, and my self-care has suffered as a result. Perhaps I need to find a balance between work and social life to manage my stress effectively.\\n\"), (6, \"Therapist: Great progress! Let's discuss potential self-care strategies that might help you strike a balance and manage your stress levels better. How do you envision a balanced life looking for you?\\n\"), (7, \"Patient: I'd like to set aside dedicated time for relaxation, maybe by reading or meditating. Also, I'd prefer to limit social engagements to a manageable number to avoid overwhelming myself.\\n\"), (8, \"Therapist: Great, let's focus on implementing these strategies and see how they help you manage stress and find balance. It's also important to assess if there are any other areas in your life that need attention or support.\\n\"), (9, \"Patient: I'm looking forward to trying these self-care strategies. Let's also discuss ways to improve work-life balance if necessary.\\n\")], 'pturn': 1, 'index': -1, 'timestamp': '', 'rounds': 10, 'conversation_only': True, 'eval_prompt_consistency': [(1, \" YES, The line is consistent with the background as the Patient, being a 27-year-old software engineer who is introverted, mentions feeling stressed at work and attempting to be more socially active, which aligns with their character's difficulty in forming close relationships and discomfort in social situations.\"), (3, \" YES - The patient's statement is consistent with the background as it suggests difficulties in maintaining social interactions due to stress, which aligns with the given background of the patient being introverted and having difficulty forming close friendships and socializing.\"), (5, ' YES, The utterance is consistent with the background as it indicates an awareness of needing balance in life, which is something an introverted individual like Priya might struggle with, especially when it comes to social interactions and stress management.'), (7, \" YES, The line is consistent with the background as it aligns with the patient's introverted and self-sufficient nature, indicating a preference for solitary, relaxing activities and limiting social engagements.\"), (9, \" Yes, this line is consistent with the background as it aligns with the Patient's preference for personal growth (self-care strategies) and work-related discussions (improving work-life balance), while still maintaining a level of independence and focus on personal matters.\")], 'P1_prompt_consistency_score': 0, 'P2_prompt_consistency_score': 1.0}\n",
      "14\n"
     ]
    },
    {
     "name": "stderr",
     "output_type": "stream",
     "text": [
      "Processed prompts: 100%|████████████████████████████████████████████████████████████████████████████████████████████████████████████████████████████████| 1/1 [00:00<00:00,  1.53it/s, est. speed input: 475.07 toks/s, output: 87.07 toks/s]\n"
     ]
    },
    {
     "name": "stdout",
     "output_type": "stream",
     "text": [
      "Expected Role Therapist\n"
     ]
    },
    {
     "name": "stderr",
     "output_type": "stream",
     "text": [
      "Processed prompts: 100%|████████████████████████████████████████████████████████████████████████████████████████████████████████████████████████████████| 1/1 [00:00<00:00,  2.37it/s, est. speed input: 501.09 toks/s, output: 85.49 toks/s]\n"
     ]
    },
    {
     "name": "stdout",
     "output_type": "stream",
     "text": [
      "Expected Role Patient\n"
     ]
    },
    {
     "name": "stderr",
     "output_type": "stream",
     "text": [
      "Processed prompts: 100%|████████████████████████████████████████████████████████████████████████████████████████████████████████████████████████████████| 1/1 [00:00<00:00,  2.04it/s, est. speed input: 871.57 toks/s, output: 85.72 toks/s]\n"
     ]
    },
    {
     "name": "stdout",
     "output_type": "stream",
     "text": [
      "Expected Role Therapist\n"
     ]
    },
    {
     "name": "stderr",
     "output_type": "stream",
     "text": [
      "Processed prompts: 100%|████████████████████████████████████████████████████████████████████████████████████████████████████████████████████████████████| 1/1 [00:00<00:00,  2.38it/s, est. speed input: 709.71 toks/s, output: 86.02 toks/s]\n"
     ]
    },
    {
     "name": "stdout",
     "output_type": "stream",
     "text": [
      "Expected Role Patient\n"
     ]
    },
    {
     "name": "stderr",
     "output_type": "stream",
     "text": [
      "Processed prompts: 100%|███████████████████████████████████████████████████████████████████████████████████████████████████████████████████████████████| 1/1 [00:00<00:00,  2.13it/s, est. speed input: 1097.18 toks/s, output: 85.55 toks/s]\n"
     ]
    },
    {
     "name": "stdout",
     "output_type": "stream",
     "text": [
      "Expected Role Therapist\n"
     ]
    },
    {
     "name": "stderr",
     "output_type": "stream",
     "text": [
      "Processed prompts: 100%|████████████████████████████████████████████████████████████████████████████████████████████████████████████████████████████████| 1/1 [00:00<00:00,  2.00it/s, est. speed input: 764.25 toks/s, output: 86.25 toks/s]\n"
     ]
    },
    {
     "name": "stdout",
     "output_type": "stream",
     "text": [
      "Expected Role Patient\n"
     ]
    },
    {
     "name": "stderr",
     "output_type": "stream",
     "text": [
      "Processed prompts: 100%|███████████████████████████████████████████████████████████████████████████████████████████████████████████████████████████████| 1/1 [00:00<00:00,  2.60it/s, est. speed input: 1571.82 toks/s, output: 85.87 toks/s]\n"
     ]
    },
    {
     "name": "stdout",
     "output_type": "stream",
     "text": [
      "Expected Role Therapist\n"
     ]
    },
    {
     "name": "stderr",
     "output_type": "stream",
     "text": [
      "Processed prompts: 100%|███████████████████████████████████████████████████████████████████████████████████████████████████████████████████████████████| 1/1 [00:00<00:00,  2.38it/s, est. speed input: 1110.80 toks/s, output: 85.99 toks/s]\n"
     ]
    },
    {
     "name": "stdout",
     "output_type": "stream",
     "text": [
      "Expected Role Patient\n"
     ]
    },
    {
     "name": "stderr",
     "output_type": "stream",
     "text": [
      "Processed prompts: 100%|███████████████████████████████████████████████████████████████████████████████████████████████████████████████████████████████| 1/1 [00:00<00:00,  2.25it/s, est. speed input: 1539.74 toks/s, output: 85.91 toks/s]\n"
     ]
    },
    {
     "name": "stdout",
     "output_type": "stream",
     "text": [
      "Expected Role Therapist\n"
     ]
    },
    {
     "name": "stderr",
     "output_type": "stream",
     "text": [
      "Processed prompts: 100%|███████████████████████████████████████████████████████████████████████████████████████████████████████████████████████████████| 1/1 [00:00<00:00,  2.15it/s, est. speed input: 1179.01 toks/s, output: 86.21 toks/s]\n"
     ]
    },
    {
     "name": "stdout",
     "output_type": "stream",
     "text": [
      "Expected Role Patient\n"
     ]
    },
    {
     "name": "stderr",
     "output_type": "stream",
     "text": [
      "Processed prompts: 100%|████████████████████████████████████████████████████████████████████████████████████████████████████████████████████████████████| 1/1 [00:00<00:00,  1.63it/s, est. speed input: 266.84 toks/s, output: 86.76 toks/s]\n",
      "Processed prompts: 100%|████████████████████████████████████████████████████████████████████████████████████████████████████████████████████████████████| 1/1 [00:00<00:00,  1.21it/s, est. speed input: 197.95 toks/s, output: 86.22 toks/s]\n",
      "Processed prompts: 100%|████████████████████████████████████████████████████████████████████████████████████████████████████████████████████████████████| 1/1 [00:00<00:00,  1.06it/s, est. speed input: 180.25 toks/s, output: 83.76 toks/s]\n",
      "Processed prompts: 100%|████████████████████████████████████████████████████████████████████████████████████████████████████████████████████████████████| 1/1 [00:00<00:00,  1.32it/s, est. speed input: 214.79 toks/s, output: 83.01 toks/s]\n",
      "Processed prompts: 100%|████████████████████████████████████████████████████████████████████████████████████████████████████████████████████████████████| 1/1 [00:00<00:00,  1.55it/s, est. speed input: 258.60 toks/s, output: 86.71 toks/s]\n"
     ]
    },
    {
     "name": "stdout",
     "output_type": "stream",
     "text": [
      "{'task_name': 'Therapy', 'topic': '', 'grade': '', 'P1': '', 'P2': 'You are Grace, a 42-year-old stay-at-home mom who feels isolated and unfulfilled. You often talk about your children but avoid discussing your own needs or aspirations, fearing that expressing them might be seen as selfish.', 'conversation': [(0, \"Therapist: I've noticed a shift in your sharing today, opening up more about your feelings. Can we explore what might be contributing to this change? As we delve deeper, let's also consider any inconsistencies that arise, and how they might reflect your emotional journey.\\n\"), (1, 'Patient: I think the shift might be due to feeling more comfortable in our sessions. Inconsistencies may stem from my struggle to balance my needs with my role as a mother.\\n'), (2, \"Therapist: I appreciate your openness today and the insights about comfort. Let's focus on the balance between your needs and your role as a mother. How might that evolve over time or in different situations?\\n\"), (3, \"Patient: Over time, I see it becoming more fluid, allowing space for both motherhood and personal needs. In different situations, I'd seek support to strike this balance effectively.\\n\"), (4, \"Therapist: Great to hear about the fluidity you envision. Can we explore how external factors or internal changes may influence this fluidity and how you might know when you've found a healthy balance?\\n\"), (5, 'Patient: External factors might include support from family, friends, or resources. Internal changes could be increased self-awareness and self-care. Signs of a healthy balance may be feeling contentment and energy.\\n'), (6, \"Therapist: Let's delve into the sources of support and self-awareness further, exploring how they can help you find that contentment and energy you seek.\\n\"), (7, 'Patient: Support could come from seeking advice, joining a support group, or asking for help from loved ones. Self-awareness can be cultivated through mindfulness and journaling.\\n'), (8, \"Therapist: Great to hear your ideas. Now, let's discuss any past attempts at seeking support and self-awareness, and how they may have influenced or challenged your journey so far.\\n\"), (9, \"Patient: I've tried seeking support through a mom's group and practicing mindfulness, but I often felt guilty or judged. Journaling has been helpful in increasing my self-awareness.\\n\")], 'pturn': 1, 'index': -1, 'timestamp': '', 'rounds': 10, 'conversation_only': True, 'eval_prompt_consistency': [(1, \" YES, the utterance is consistent with the given background as it shows an acknowledgement of the Patient's personal needs alongside their role as a mother, indicating a step towards self-expression that aligns with the portrayal of Grace.\"), (3, ' YES, the line is consistent with the background. The patient seems to acknowledge the need for a balance between motherhood and personal needs, which aligns with the given background of a 42-year-old stay-at-home mom who often avoids discussing her own needs or aspirations due to fear of being seen as selfish.'), (5, ' YES, the line is consistent with the given background as it aligns with discussing internal changes (increased self-awareness and self-care) and signs of a healthy balance (feeling contentment and energy), which are aspects that the patient (Grace) may be interested in considering for personal growth and fulfillment without directly addressing selfishness or specific personal aspirations.'), (7, ' YES, the line aligns with the background as the patient suggests actions (seeking advice, joining a support group, asking for help) that can address feelings of isolation and potentially explore personal needs and aspirations, and also acknowledges the value of self-awareness through mindfulness and journaling.'), (9, ' YES - The line aligns with the given background as it demonstrates that the Patient is attempting to address her feelings of isolation and seek self-awareness, but still experiences guilt or judgment, suggesting continued struggle with expressing and prioritizing her own needs.')], 'P1_prompt_consistency_score': 0, 'P2_prompt_consistency_score': 1.0}\n",
      "15\n"
     ]
    },
    {
     "name": "stderr",
     "output_type": "stream",
     "text": [
      "Processed prompts: 100%|████████████████████████████████████████████████████████████████████████████████████████████████████████████████████████████████| 1/1 [00:00<00:00,  1.38it/s, est. speed input: 429.53 toks/s, output: 87.01 toks/s]\n"
     ]
    },
    {
     "name": "stdout",
     "output_type": "stream",
     "text": [
      "Expected Role Therapist\n"
     ]
    },
    {
     "name": "stderr",
     "output_type": "stream",
     "text": [
      "Processed prompts: 100%|████████████████████████████████████████████████████████████████████████████████████████████████████████████████████████████████| 1/1 [00:00<00:00,  2.83it/s, est. speed input: 601.26 toks/s, output: 85.08 toks/s]\n"
     ]
    },
    {
     "name": "stdout",
     "output_type": "stream",
     "text": [
      "Expected Role Patient\n"
     ]
    },
    {
     "name": "stderr",
     "output_type": "stream",
     "text": [
      "Processed prompts: 100%|███████████████████████████████████████████████████████████████████████████████████████████████████████████████████████████████| 1/1 [00:00<00:00,  3.17it/s, est. speed input: 1358.41 toks/s, output: 85.89 toks/s]\n"
     ]
    },
    {
     "name": "stdout",
     "output_type": "stream",
     "text": [
      "Expected Role Therapist\n"
     ]
    },
    {
     "name": "stderr",
     "output_type": "stream",
     "text": [
      "Processed prompts: 100%|████████████████████████████████████████████████████████████████████████████████████████████████████████████████████████████████| 1/1 [00:00<00:00,  1.72it/s, est. speed input: 476.82 toks/s, output: 86.07 toks/s]\n"
     ]
    },
    {
     "name": "stdout",
     "output_type": "stream",
     "text": [
      "Expected Role Patient\n"
     ]
    },
    {
     "name": "stderr",
     "output_type": "stream",
     "text": [
      "Processed prompts: 100%|███████████████████████████████████████████████████████████████████████████████████████████████████████████████████████████████| 1/1 [00:00<00:00,  2.53it/s, est. speed input: 1296.21 toks/s, output: 86.07 toks/s]\n"
     ]
    },
    {
     "name": "stdout",
     "output_type": "stream",
     "text": [
      "Expected Role Therapist\n"
     ]
    },
    {
     "name": "stderr",
     "output_type": "stream",
     "text": [
      "Processed prompts: 100%|████████████████████████████████████████████████████████████████████████████████████████████████████████████████████████████████| 1/1 [00:00<00:00,  1.82it/s, est. speed input: 674.66 toks/s, output: 85.93 toks/s]\n"
     ]
    },
    {
     "name": "stdout",
     "output_type": "stream",
     "text": [
      "Expected Role Patient\n"
     ]
    },
    {
     "name": "stderr",
     "output_type": "stream",
     "text": [
      "Processed prompts: 100%|███████████████████████████████████████████████████████████████████████████████████████████████████████████████████████████████| 1/1 [00:00<00:00,  2.86it/s, est. speed input: 1721.10 toks/s, output: 85.91 toks/s]\n"
     ]
    },
    {
     "name": "stdout",
     "output_type": "stream",
     "text": [
      "Expected Role Therapist\n"
     ]
    },
    {
     "name": "stderr",
     "output_type": "stream",
     "text": [
      "Processed prompts: 100%|████████████████████████████████████████████████████████████████████████████████████████████████████████████████████████████████| 1/1 [00:00<00:00,  2.05it/s, est. speed input: 932.32 toks/s, output: 86.25 toks/s]\n"
     ]
    },
    {
     "name": "stdout",
     "output_type": "stream",
     "text": [
      "Expected Role Patient\n"
     ]
    },
    {
     "name": "stderr",
     "output_type": "stream",
     "text": [
      "Processed prompts: 100%|███████████████████████████████████████████████████████████████████████████████████████████████████████████████████████████████| 1/1 [00:00<00:00,  2.52it/s, est. speed input: 1717.05 toks/s, output: 85.72 toks/s]\n"
     ]
    },
    {
     "name": "stdout",
     "output_type": "stream",
     "text": [
      "Expected Role Therapist\n"
     ]
    },
    {
     "name": "stderr",
     "output_type": "stream",
     "text": [
      "Processed prompts: 100%|███████████████████████████████████████████████████████████████████████████████████████████████████████████████████████████████| 1/1 [00:00<00:00,  2.20it/s, est. speed input: 1187.02 toks/s, output: 86.04 toks/s]\n"
     ]
    },
    {
     "name": "stdout",
     "output_type": "stream",
     "text": [
      "Expected Role Patient\n"
     ]
    },
    {
     "name": "stderr",
     "output_type": "stream",
     "text": [
      "Processed prompts: 100%|████████████████████████████████████████████████████████████████████████████████████████████████████████████████████████████████| 1/1 [00:00<00:00,  1.80it/s, est. speed input: 274.67 toks/s, output: 86.74 toks/s]\n",
      "Processed prompts: 100%|████████████████████████████████████████████████████████████████████████████████████████████████████████████████████████████████| 1/1 [00:00<00:00,  1.09it/s, est. speed input: 187.01 toks/s, output: 86.98 toks/s]\n",
      "Processed prompts: 100%|████████████████████████████████████████████████████████████████████████████████████████████████████████████████████████████████| 1/1 [00:00<00:00,  1.80it/s, est. speed input: 305.11 toks/s, output: 86.66 toks/s]\n",
      "Processed prompts: 100%|████████████████████████████████████████████████████████████████████████████████████████████████████████████████████████████████| 1/1 [00:00<00:00,  1.49it/s, est. speed input: 245.29 toks/s, output: 86.75 toks/s]\n",
      "Processed prompts: 100%|████████████████████████████████████████████████████████████████████████████████████████████████████████████████████████████████| 1/1 [00:00<00:00,  1.31it/s, est. speed input: 211.86 toks/s, output: 86.85 toks/s]\n"
     ]
    },
    {
     "name": "stdout",
     "output_type": "stream",
     "text": [
      "{'task_name': 'Therapy', 'topic': '', 'grade': '', 'P1': '', 'P2': 'You are Carlos, a 39-year-old high school teacher who struggles with feelings of inadequacy. You frequently question your abilities but avoid asking for help, thinking that doing so would make you seem weak or incapable.', 'conversation': [(0, \"Therapist: I've noticed a shift in your emotional openness today. Can we explore what might be contributing to this change? It's common for our defenses to ease over time as trust builds. Let's continue to delve into your experiences, acknowledging both past patterns and the new insights emerging.\\n\"), (1, \"Patient: I appreciate your observation, thank you. I've been struggling to accept help, but I'm ready to discuss my experiences more openly.\\n\"), (2, \"Therapist: That's great to hear! Let's explore together what may have encouraged this shift in readiness to discuss your experiences.\\n\"), (3, \"Patient: I think the encouragement from our sessions and the realization that asking for help isn't a sign of weakness, but a step towards growth, has helped me feel more open. I'm ready to face my struggles head-on now.\\n\"), (4, \"Therapist: Great progress! Let's focus on understanding the specific moments or shifts that led to this realization about asking for help. Can we delve deeper into those instances?\\n\"), (5, \"Patient: One pivotal moment was recognizing how it's not weakness, but a strength, to acknowledge and address my challenges. Another was seeing my students ask for help and grow from it, which resonated with me deeply.\\n\"), (6, \"Therapist: It's impressive to see your self-awareness growing. Let's further explore how seeing your students seeking help led to your realization.\\n\"), (7, 'Patient: I saw the growth my students experienced when they asked for help, inspiring me to reconsider my own perspective. It became clear that seeking help is a brave act, not a sign of weakness.\\n'), (8, \"Therapist: It sounds like you found strength in witnessing your students grow. Let's continue to reflect on how this experience may have influenced your perspective on asking for help.\\n\"), (9, \"Patient: I've begun to see asking for help as a display of wisdom and maturity, rather than a sign of weakness. It's empowering to learn from others and grow together.\\n\")], 'pturn': 1, 'index': -1, 'timestamp': '', 'rounds': 10, 'conversation_only': True, 'eval_prompt_consistency': [(1, ' YES, the line aligns with the background as the patient expresses a willingness to discuss their struggles openly, which implies they are ready to address their issues and potentially seek help, contrary to their usual behavior of avoiding it.'), (3, \" YES - The utterance is consistent with the given background as it shows the Patient has learned that asking for help isn't a sign of weakness, a concept that is new and beneficial for someone who struggles with feelings of inadequacy. This is a step towards growth and willingness to face struggles head-on, which aligns with the background description of the Patient.\"), (5, \" YES, the line aligns with the background as it suggests a change in the patient's mindset, acknowledging that seeking help is a strength rather than a sign of weakness, which is a common struggle for the character.\"), (7, ' YES, The line is consistent with the given background as it shows the Patient, while not directly referring to them, is reflecting on the idea that seeking help is a courageous act, which might help the Patient reconsider their own fear of asking for help.'), (9, ' NO. The utterance by the Patient contradicts the given background as they are expressing a different perspective on asking for help, viewing it as a sign of wisdom and maturity, which conflicts with the background where the Patient, Carlos, avoids asking for help due to fear of appearing weak or incapable.')], 'P1_prompt_consistency_score': 0, 'P2_prompt_consistency_score': 0.8}\n",
      "16\n"
     ]
    },
    {
     "name": "stderr",
     "output_type": "stream",
     "text": [
      "Processed prompts: 100%|████████████████████████████████████████████████████████████████████████████████████████████████████████████████████████████████| 1/1 [00:00<00:00,  1.53it/s, est. speed input: 475.22 toks/s, output: 87.09 toks/s]\n"
     ]
    },
    {
     "name": "stdout",
     "output_type": "stream",
     "text": [
      "Expected Role Therapist\n"
     ]
    },
    {
     "name": "stderr",
     "output_type": "stream",
     "text": [
      "Processed prompts: 100%|████████████████████████████████████████████████████████████████████████████████████████████████████████████████████████████████| 1/1 [00:00<00:00,  2.37it/s, est. speed input: 477.28 toks/s, output: 85.48 toks/s]\n"
     ]
    },
    {
     "name": "stdout",
     "output_type": "stream",
     "text": [
      "Expected Role Patient\n"
     ]
    },
    {
     "name": "stderr",
     "output_type": "stream",
     "text": [
      "Processed prompts: 100%|███████████████████████████████████████████████████████████████████████████████████████████████████████████████████████████████| 1/1 [00:00<00:00,  2.52it/s, est. speed input: 1078.76 toks/s, output: 85.89 toks/s]\n"
     ]
    },
    {
     "name": "stdout",
     "output_type": "stream",
     "text": [
      "Expected Role Therapist\n"
     ]
    },
    {
     "name": "stderr",
     "output_type": "stream",
     "text": [
      "Processed prompts: 100%|████████████████████████████████████████████████████████████████████████████████████████████████████████████████████████████████| 1/1 [00:00<00:00,  1.96it/s, est. speed input: 547.44 toks/s, output: 86.33 toks/s]\n"
     ]
    },
    {
     "name": "stdout",
     "output_type": "stream",
     "text": [
      "Expected Role Patient\n"
     ]
    },
    {
     "name": "stderr",
     "output_type": "stream",
     "text": [
      "Processed prompts: 100%|███████████████████████████████████████████████████████████████████████████████████████████████████████████████████████████████| 1/1 [00:00<00:00,  2.50it/s, est. speed input: 1285.01 toks/s, output: 85.16 toks/s]\n"
     ]
    },
    {
     "name": "stdout",
     "output_type": "stream",
     "text": [
      "Expected Role Therapist\n"
     ]
    },
    {
     "name": "stderr",
     "output_type": "stream",
     "text": [
      "Processed prompts: 100%|████████████████████████████████████████████████████████████████████████████████████████████████████████████████████████████████| 1/1 [00:00<00:00,  1.80it/s, est. speed input: 656.72 toks/s, output: 86.36 toks/s]\n"
     ]
    },
    {
     "name": "stdout",
     "output_type": "stream",
     "text": [
      "Expected Role Patient\n"
     ]
    },
    {
     "name": "stderr",
     "output_type": "stream",
     "text": [
      "Processed prompts: 100%|███████████████████████████████████████████████████████████████████████████████████████████████████████████████████████████████| 1/1 [00:00<00:00,  2.85it/s, est. speed input: 1723.05 toks/s, output: 85.72 toks/s]\n"
     ]
    },
    {
     "name": "stdout",
     "output_type": "stream",
     "text": [
      "Expected Role Therapist\n"
     ]
    },
    {
     "name": "stderr",
     "output_type": "stream",
     "text": [
      "Processed prompts: 100%|███████████████████████████████████████████████████████████████████████████████████████████████████████████████████████████████| 1/1 [00:00<00:00,  3.15it/s, est. speed input: 1424.82 toks/s, output: 85.30 toks/s]\n"
     ]
    },
    {
     "name": "stdout",
     "output_type": "stream",
     "text": [
      "Expected Role Patient\n"
     ]
    },
    {
     "name": "stderr",
     "output_type": "stream",
     "text": [
      "Processed prompts: 100%|███████████████████████████████████████████████████████████████████████████████████████████████████████████████████████████████| 1/1 [00:00<00:00,  2.37it/s, est. speed input: 1587.30 toks/s, output: 85.54 toks/s]\n"
     ]
    },
    {
     "name": "stdout",
     "output_type": "stream",
     "text": [
      "Expected Role Therapist\n"
     ]
    },
    {
     "name": "stderr",
     "output_type": "stream",
     "text": [
      "Processed prompts: 100%|███████████████████████████████████████████████████████████████████████████████████████████████████████████████████████████████| 1/1 [00:00<00:00,  2.20it/s, est. speed input: 1148.57 toks/s, output: 85.81 toks/s]\n"
     ]
    },
    {
     "name": "stdout",
     "output_type": "stream",
     "text": [
      "Expected Role Patient\n"
     ]
    },
    {
     "name": "stderr",
     "output_type": "stream",
     "text": [
      "Processed prompts: 100%|████████████████████████████████████████████████████████████████████████████████████████████████████████████████████████████████| 1/1 [00:00<00:00,  1.19it/s, est. speed input: 181.81 toks/s, output: 86.74 toks/s]\n",
      "Processed prompts: 100%|████████████████████████████████████████████████████████████████████████████████████████████████████████████████████████████████| 1/1 [00:00<00:00,  2.01it/s, est. speed input: 323.92 toks/s, output: 86.51 toks/s]\n",
      "Processed prompts: 100%|████████████████████████████████████████████████████████████████████████████████████████████████████████████████████████████████| 1/1 [00:00<00:00,  1.02it/s, est. speed input: 168.48 toks/s, output: 86.79 toks/s]\n",
      "Processed prompts: 100%|████████████████████████████████████████████████████████████████████████████████████████████████████████████████████████████████| 1/1 [00:00<00:00,  2.11it/s, est. speed input: 304.36 toks/s, output: 86.66 toks/s]\n",
      "Processed prompts: 100%|████████████████████████████████████████████████████████████████████████████████████████████████████████████████████████████████| 1/1 [00:00<00:00,  1.70it/s, est. speed input: 265.23 toks/s, output: 86.71 toks/s]\n"
     ]
    },
    {
     "name": "stdout",
     "output_type": "stream",
     "text": [
      "{'task_name': 'Therapy', 'topic': '', 'grade': '', 'P1': '', 'P2': 'You are Maria, a 29-year-old nurse who has experienced trauma while on the job. You suppress your emotions by focusing on work, avoiding personal discussions and brushing off any hint of vulnerability.', 'conversation': [(0, \"Therapist: I've noticed a shift in your emotional expression today. Can you help me understand what might be different for you that's allowing you to share more openly? It's important for us to explore these changes and how they might relate to your past patterns and current struggles.\\n\"), (1, \"Patient: I think it's the accumulation of stress that's been building up at work. Maybe I'm starting to realize the importance of opening up and seeking help.\\n\"), (2, \"Therapist: That's insightful. Let's examine how this newfound openness relates to your past emotional patterns and current challenges. Can we explore that together?\\n\"), (3, \"Patient: I've been pushing myself to a breaking point, and now that I've reached it, I can see the value in sharing my struggles. It feels like a heavy weight has been lifted off my shoulders.\\n\"), (4, \"Therapist: It sounds like you're recognizing the value in seeking support. Let's delve deeper into how this shift might impact your current challenges and past patterns.\\n\"), (5, \"Patient: I'm starting to understand the impact of bottling up my feelings, and I'm ready to work on healthier coping mechanisms. This shift might help me better manage my work-related stress and past traumas.\\n\"), (6, \"Therapist: Great progress! Let's explore how these healthier coping mechanisms might support you in navigating both work stress and past traumas.\\n\"), (7, \"Patient: I'm eager to learn new ways to manage stress and process my emotions. This shift could be a turning point for me.\\n\"), (8, \"Therapist: Excellent! Let's identify specific strategies that can help you maintain this shift in a positive direction. How can we start building your toolkit for healthier coping?\\n\"), (9, \"Patient: I'd like to focus on mindfulness exercises and establishing a support system, both at work and personally. Let's start identifying people I can trust to lean on during difficult times.\\n\")], 'pturn': 1, 'index': -1, 'timestamp': '', 'rounds': 10, 'conversation_only': True, 'eval_prompt_consistency': [(1, \" YES, the patient's statement is consistent with Maria's background as it refers to the accumulation of stress at work, a common issue in a healthcare profession, and acknowledges the importance of seeking help, which aligns with the act of seeking professional support, albeit indirectly, as Maria suppresses her emotions and avoids personal discussions.\"), (3, \" NO, The line contradicts the background as the patient's expression of sharing struggles and acknowledging the need for emotional release is inconsistent with Maria's behavior of suppressing emotions and avoiding personal discussions.\"), (5, \" YES, the utterance by the Patient is consistent with the given background as it reflects an awareness of the negative consequences of bottling up feelings, which aligns with Maria's behavior of suppressing emotions, and a willingness to change and adopt healthier coping mechanisms, which suggests a recognition of the need for improvement that Maria, as a character, might find relatable due to her own experiences.\"), (7, \" NO, The patient's statement about wanting to learn new ways to manage stress and process emotions contradicts the background, as the given background describes Maria as suppressing her emotions and avoiding personal discussions.\"), (9, ' NO, The line is not consistent with the given background as the patient is suggesting the establishment of a support system, which is a personal and emotional approach to coping, contrary to the background where Maria suppresses her emotions and avoids personal discussions.')], 'P1_prompt_consistency_score': 0, 'P2_prompt_consistency_score': 0.4}\n",
      "17\n"
     ]
    },
    {
     "name": "stderr",
     "output_type": "stream",
     "text": [
      "Processed prompts: 100%|████████████████████████████████████████████████████████████████████████████████████████████████████████████████████████████████| 1/1 [00:00<00:00,  1.85it/s, est. speed input: 576.11 toks/s, output: 87.06 toks/s]\n"
     ]
    },
    {
     "name": "stdout",
     "output_type": "stream",
     "text": [
      "Expected Role Therapist\n"
     ]
    },
    {
     "name": "stderr",
     "output_type": "stream",
     "text": [
      "Processed prompts: 100%|████████████████████████████████████████████████████████████████████████████████████████████████████████████████████████████████| 1/1 [00:00<00:00,  2.37it/s, est. speed input: 448.76 toks/s, output: 85.47 toks/s]\n"
     ]
    },
    {
     "name": "stdout",
     "output_type": "stream",
     "text": [
      "Expected Role Patient\n"
     ]
    },
    {
     "name": "stderr",
     "output_type": "stream",
     "text": [
      "Processed prompts: 100%|███████████████████████████████████████████████████████████████████████████████████████████████████████████████████████████████| 1/1 [00:00<00:00,  2.45it/s, est. speed input: 1024.01 toks/s, output: 85.94 toks/s]\n"
     ]
    },
    {
     "name": "stdout",
     "output_type": "stream",
     "text": [
      "Expected Role Therapist\n"
     ]
    },
    {
     "name": "stderr",
     "output_type": "stream",
     "text": [
      "Processed prompts: 100%|████████████████████████████████████████████████████████████████████████████████████████████████████████████████████████████████| 1/1 [00:00<00:00,  3.06it/s, est. speed input: 821.68 toks/s, output: 85.84 toks/s]\n"
     ]
    },
    {
     "name": "stdout",
     "output_type": "stream",
     "text": [
      "Expected Role Patient\n"
     ]
    },
    {
     "name": "stderr",
     "output_type": "stream",
     "text": [
      "Processed prompts: 100%|███████████████████████████████████████████████████████████████████████████████████████████████████████████████████████████████| 1/1 [00:00<00:00,  2.38it/s, est. speed input: 1164.82 toks/s, output: 85.93 toks/s]\n"
     ]
    },
    {
     "name": "stdout",
     "output_type": "stream",
     "text": [
      "Expected Role Therapist\n"
     ]
    },
    {
     "name": "stderr",
     "output_type": "stream",
     "text": [
      "Processed prompts: 100%|████████████████████████████████████████████████████████████████████████████████████████████████████████████████████████████████| 1/1 [00:00<00:00,  2.77it/s, est. speed input: 943.64 toks/s, output: 86.03 toks/s]\n"
     ]
    },
    {
     "name": "stdout",
     "output_type": "stream",
     "text": [
      "Expected Role Patient\n"
     ]
    },
    {
     "name": "stderr",
     "output_type": "stream",
     "text": [
      "Processed prompts: 100%|███████████████████████████████████████████████████████████████████████████████████████████████████████████████████████████████| 1/1 [00:00<00:00,  2.38it/s, est. speed input: 1343.47 toks/s, output: 85.90 toks/s]\n"
     ]
    },
    {
     "name": "stdout",
     "output_type": "stream",
     "text": [
      "Expected Role Therapist\n"
     ]
    },
    {
     "name": "stderr",
     "output_type": "stream",
     "text": [
      "Processed prompts: 100%|████████████████████████████████████████████████████████████████████████████████████████████████████████████████████████████████| 1/1 [00:00<00:00,  2.10it/s, est. speed input: 872.73 toks/s, output: 86.22 toks/s]\n"
     ]
    },
    {
     "name": "stdout",
     "output_type": "stream",
     "text": [
      "Expected Role Patient\n"
     ]
    },
    {
     "name": "stderr",
     "output_type": "stream",
     "text": [
      "Processed prompts: 100%|███████████████████████████████████████████████████████████████████████████████████████████████████████████████████████████████| 1/1 [00:00<00:00,  2.44it/s, est. speed input: 1586.36 toks/s, output: 85.68 toks/s]\n"
     ]
    },
    {
     "name": "stdout",
     "output_type": "stream",
     "text": [
      "Expected Role Therapist\n"
     ]
    },
    {
     "name": "stderr",
     "output_type": "stream",
     "text": [
      "Processed prompts: 100%|███████████████████████████████████████████████████████████████████████████████████████████████████████████████████████████████| 1/1 [00:00<00:00,  2.85it/s, est. speed input: 1427.21 toks/s, output: 85.80 toks/s]\n"
     ]
    },
    {
     "name": "stdout",
     "output_type": "stream",
     "text": [
      "Expected Role Patient\n"
     ]
    },
    {
     "name": "stderr",
     "output_type": "stream",
     "text": [
      "Processed prompts: 100%|████████████████████████████████████████████████████████████████████████████████████████████████████████████████████████████████| 1/1 [00:00<00:00,  1.37it/s, est. speed input: 207.54 toks/s, output: 86.59 toks/s]\n",
      "Processed prompts: 100%|████████████████████████████████████████████████████████████████████████████████████████████████████████████████████████████████| 1/1 [00:00<00:00,  1.77it/s, est. speed input: 253.12 toks/s, output: 86.73 toks/s]\n",
      "Processed prompts: 100%|████████████████████████████████████████████████████████████████████████████████████████████████████████████████████████████████| 1/1 [00:00<00:00,  1.58it/s, est. speed input: 230.28 toks/s, output: 86.75 toks/s]\n",
      "Processed prompts: 100%|████████████████████████████████████████████████████████████████████████████████████████████████████████████████████████████████| 1/1 [00:00<00:00,  1.22it/s, est. speed input: 190.82 toks/s, output: 86.84 toks/s]\n",
      "Processed prompts: 100%|████████████████████████████████████████████████████████████████████████████████████████████████████████████████████████████████| 1/1 [00:01<00:00,  1.01s/it, est. speed input: 143.12 toks/s, output: 86.86 toks/s]\n"
     ]
    },
    {
     "name": "stdout",
     "output_type": "stream",
     "text": [
      "{'task_name': 'Therapy', 'topic': '', 'grade': '', 'P1': '', 'P2': 'You are Elijah, a 34-year-old mechanic who feels uncomfortable with emotional conversations. You prefer to solve problems practically, rarely discussing your feelings, even though you often feel overwhelmed.', 'conversation': [(0, \"Therapist: I've noticed a shift in your openness today. Can you help me understand what might be contributing to this change? As we explore, let's consider how it might reflect on your emotional patterns and relationships over time.\\n\"), (1, \"Patient: Feeling more stressed lately, which might be pushing me to open up more than usual. I'm unsure if this is sustainable for me, considering my usual approach.\\n\"), (2, \"Therapist: It sounds like stress might be playing a significant role in this shift. Let's further explore how it impacts your usual approach to expressing your emotions and maintaining relationships.\\n\"), (3, \"Patient: I've been finding it hard to handle this level of emotional expression. My work and relationships are also suffering due to the strain.\\n\"), (4, \"Therapist: It seems the increase in stress has caused some tension between your emotional expression and your usual approach. Let's delve deeper into how this balance affects your work and relationships.\\n\"), (5, 'Patient: Struggling to maintain practicality while also expressing feelings is challenging. I fear my work and relationships may continue to suffer if this persists.\\n'), (6, \"Therapist: It's important we examine how your past emotional patterns might be influencing this current struggle. How have you managed stress in the past, and how is this approach different?\\n\"), (7, \"Patient: In the past, I've relied heavily on work to alleviate stress. Now, it seems I need to learn healthier coping mechanisms to balance my emotional expression and practicality.\\n\"), (8, \"Therapist: Let's reflect on past coping strategies and compare them with your current approach. How might exploring new coping mechanisms align with your personal growth and emotional wellbeing?\\n\"), (9, \"Patient: Learning new coping mechanisms may help me find balance and address long-term emotional health. It's crucial for personal growth and maintaining relationships.\\n\")], 'pturn': 1, 'index': -1, 'timestamp': '', 'rounds': 10, 'conversation_only': True, 'eval_prompt_consistency': [(1, ' YES, the line is consistent with the given background. The patient is acknowledging a change in their behavior (opening up more) due to increased stress, which aligns with the background that the patient rarely discusses feelings. However, they express uncertainty about this change being sustainable given their usual approach.'), (3, \" YES, the line aligns with the background as the Patient's struggle with emotional expression corresponds to Elijah's difficulty in handling emotional conversations and the impact on work and relationships resonates with his feelings of being overwhelmed.\"), (5, \" YES, the utterance by the Patient aligns with the given background as it indicates a struggle with expressing feelings, which is consistent with Elijah's discomfort in emotional conversations, despite recognizing that this could potentially affect his work and relationships.\"), (7, \" YES, the line is consistent with the given background. The patient is acknowledging a need for healthier coping mechanisms, which aligns with Elijah's preference for practical problem-solving, even though he does not typically discuss emotions openly. However, it suggests that he may be willing to explore emotional expression to find balance.\"), (9, \" YES, the line is consistent with the background as it aligns with the idea of finding a practical solution to cope with emotions, which is in line with the patient's preference for a practical approach to problem-solving, even though they may feel uncomfortable with emotional conversations. However, the line does suggest a willingness to discuss and address emotions, which contrasts slightly with the patient's preference for avoiding emotional conversations.\")], 'P1_prompt_consistency_score': 0, 'P2_prompt_consistency_score': 1.0}\n",
      "18\n"
     ]
    },
    {
     "name": "stderr",
     "output_type": "stream",
     "text": [
      "Processed prompts: 100%|████████████████████████████████████████████████████████████████████████████████████████████████████████████████████████████████| 1/1 [00:00<00:00,  1.58it/s, est. speed input: 492.16 toks/s, output: 87.03 toks/s]\n"
     ]
    },
    {
     "name": "stdout",
     "output_type": "stream",
     "text": [
      "Expected Role Therapist\n"
     ]
    },
    {
     "name": "stderr",
     "output_type": "stream",
     "text": [
      "Processed prompts: 100%|████████████████████████████████████████████████████████████████████████████████████████████████████████████████████████████████| 1/1 [00:00<00:00,  1.99it/s, est. speed input: 416.36 toks/s, output: 85.66 toks/s]\n"
     ]
    },
    {
     "name": "stdout",
     "output_type": "stream",
     "text": [
      "Expected Role Patient\n"
     ]
    },
    {
     "name": "stderr",
     "output_type": "stream",
     "text": [
      "Processed prompts: 100%|████████████████████████████████████████████████████████████████████████████████████████████████████████████████████████████████| 1/1 [00:00<00:00,  2.26it/s, est. speed input: 979.81 toks/s, output: 86.18 toks/s]\n"
     ]
    },
    {
     "name": "stdout",
     "output_type": "stream",
     "text": [
      "Expected Role Therapist\n"
     ]
    },
    {
     "name": "stderr",
     "output_type": "stream",
     "text": [
      "Processed prompts: 100%|████████████████████████████████████████████████████████████████████████████████████████████████████████████████████████████████| 1/1 [00:00<00:00,  1.96it/s, est. speed input: 584.48 toks/s, output: 86.30 toks/s]\n"
     ]
    },
    {
     "name": "stdout",
     "output_type": "stream",
     "text": [
      "Expected Role Patient\n"
     ]
    },
    {
     "name": "stderr",
     "output_type": "stream",
     "text": [
      "Processed prompts: 100%|████████████████████████████████████████████████████████████████████████████████████████████████████████████████████████████████| 1/1 [00:00<00:00,  1.91it/s, est. speed input: 999.30 toks/s, output: 86.14 toks/s]\n"
     ]
    },
    {
     "name": "stdout",
     "output_type": "stream",
     "text": [
      "Expected Role Therapist\n"
     ]
    },
    {
     "name": "stderr",
     "output_type": "stream",
     "text": [
      "Processed prompts: 100%|████████████████████████████████████████████████████████████████████████████████████████████████████████████████████████████████| 1/1 [00:00<00:00,  2.04it/s, est. speed input: 805.12 toks/s, output: 85.60 toks/s]\n"
     ]
    },
    {
     "name": "stdout",
     "output_type": "stream",
     "text": [
      "Expected Role Patient\n"
     ]
    },
    {
     "name": "stderr",
     "output_type": "stream",
     "text": [
      "Processed prompts: 100%|███████████████████████████████████████████████████████████████████████████████████████████████████████████████████████████████| 1/1 [00:00<00:00,  2.23it/s, est. speed input: 1381.03 toks/s, output: 85.05 toks/s]\n"
     ]
    },
    {
     "name": "stdout",
     "output_type": "stream",
     "text": [
      "Expected Role Therapist\n"
     ]
    },
    {
     "name": "stderr",
     "output_type": "stream",
     "text": [
      "Processed prompts: 100%|███████████████████████████████████████████████████████████████████████████████████████████████████████████████████████████████| 1/1 [00:00<00:00,  2.10it/s, est. speed input: 1015.40 toks/s, output: 86.19 toks/s]\n"
     ]
    },
    {
     "name": "stdout",
     "output_type": "stream",
     "text": [
      "Expected Role Patient\n"
     ]
    },
    {
     "name": "stderr",
     "output_type": "stream",
     "text": [
      "Processed prompts: 100%|███████████████████████████████████████████████████████████████████████████████████████████████████████████████████████████████| 1/1 [00:00<00:00,  1.99it/s, est. speed input: 1403.76 toks/s, output: 85.74 toks/s]\n"
     ]
    },
    {
     "name": "stdout",
     "output_type": "stream",
     "text": [
      "Expected Role Therapist\n"
     ]
    },
    {
     "name": "stderr",
     "output_type": "stream",
     "text": [
      "Processed prompts: 100%|███████████████████████████████████████████████████████████████████████████████████████████████████████████████████████████████| 1/1 [00:00<00:00,  2.25it/s, est. speed input: 1298.23 toks/s, output: 85.79 toks/s]\n"
     ]
    },
    {
     "name": "stdout",
     "output_type": "stream",
     "text": [
      "Expected Role Patient\n"
     ]
    },
    {
     "name": "stderr",
     "output_type": "stream",
     "text": [
      "Processed prompts: 100%|████████████████████████████████████████████████████████████████████████████████████████████████████████████████████████████████| 1/1 [00:00<00:00,  1.73it/s, est. speed input: 293.85 toks/s, output: 86.42 toks/s]\n",
      "Processed prompts: 100%|████████████████████████████████████████████████████████████████████████████████████████████████████████████████████████████████| 1/1 [00:00<00:00,  1.74it/s, est. speed input: 297.30 toks/s, output: 86.93 toks/s]\n",
      "Processed prompts: 100%|████████████████████████████████████████████████████████████████████████████████████████████████████████████████████████████████| 1/1 [00:00<00:00,  1.77it/s, est. speed input: 299.59 toks/s, output: 86.86 toks/s]\n",
      "Processed prompts: 100%|████████████████████████████████████████████████████████████████████████████████████████████████████████████████████████████████| 1/1 [00:00<00:00,  1.93it/s, est. speed input: 324.29 toks/s, output: 86.86 toks/s]\n",
      "Processed prompts: 100%|████████████████████████████████████████████████████████████████████████████████████████████████████████████████████████████████| 1/1 [00:00<00:00,  1.58it/s, est. speed input: 260.71 toks/s, output: 86.90 toks/s]\n"
     ]
    },
    {
     "name": "stdout",
     "output_type": "stream",
     "text": [
      "{'task_name': 'Therapy', 'topic': '', 'grade': '', 'P1': '', 'P2': \"You are Maya, a 22-year-old college student struggling with imposter syndrome. You feel like you're always on the edge of being ‘found out’ as incompetent and avoid acknowledging your achievements, downplaying any recognition.\", 'conversation': [(0, \"Therapist: I've noticed a change in your openness today, which is commendable. Can you help me understand what might be enabling you to express yourself more freely now than before? It's okay if this brings up uncomfortable feelings. Let's explore together.\\n\"), (1, \"Patient: I think acknowledging my feelings and accepting that everyone experiences self-doubt might be helping me feel more open. I'm also trying to focus on my strengths instead of dwelling on my weaknesses.\\n\"), (2, \"Therapist: That's great to hear about your newfound openness. Let's delve deeper into what's helping you focus on your strengths and accept your self-doubt.\\n\"), (3, \"Patient: I believe setting small, achievable goals and praising myself for meeting them helps focus on strengths. Also, reminding myself that everyone makes mistakes and it's okay can help with self-doubt.\\n\"), (4, \"Therapist: It sounds like setting achievable goals and self-affirmation are key strategies for you to focus on your strengths. Let's consider how these strategies might help you manage self-doubt in various situations.\\n\"), (5, 'Patient: Affirming my abilities in specific situations and seeking support when needed can further strengthen my confidence in managing self-doubt. Regularly reviewing my achievements and their impact can also reinforce my competence.\\n'), (6, \"Therapist: It's valuable to see how you're using your strategies to tackle self-doubt. Let's explore how these strategies might be differently effective in different situations or relationships.\\n\"), (7, 'Patient: In academic settings, setting clear goals and seeking help from professors can be beneficial. In social situations, acknowledging my contributions and remembering that everyone has unique skills can help combat self-doubt.\\n'), (8, \"Therapist: Great insights! Let's focus on how these strategies can be applied to past relationships and situations, for deeper self-understanding. Also, remember to allow room for growth in self-doubt management.\\n\"), (9, 'Patient: In past relationships, I can reflect on how my strategies worked and how I might adjust them for future interactions. Recognizing progress in self-doubt management is essential for growth.\\n')], 'pturn': 1, 'index': -1, 'timestamp': '', 'rounds': 10, 'conversation_only': True, 'eval_prompt_consistency': [(1, ' YES, The line aligns with the given background as it suggests the patient is taking steps to accept their feelings, acknowledge their self-doubt, and focus on their strengths, which are strategies that could help in managing imposter syndrome.'), (3, ' Yes, the utterance by the patient is consistent with the background as it aligns with strategies for managing imposter syndrome, such as setting achievable goals, praising oneself for achieving them, and acknowledging that everyone makes mistakes.'), (5, ' YES - The line aligns with the background as it suggests the patient acknowledges their abilities, seeks support, and intends to reinforce their competence by reviewing their achievements, which are strategies that can help address imposter syndrome.'), (7, ' YES, the line by the patient aligns with the background as it suggests strategies for combating self-doubt in academic and social settings, which is consistent with the struggle of someone dealing with imposter syndrome.'), (9, ' Yes, this line is consistent with the given background as it shows the Patient has self-reflection skills and is seeking growth, which is a common coping strategy for managing self-doubt, even though imposter syndrome may lead to downplaying achievements.')], 'P1_prompt_consistency_score': 0, 'P2_prompt_consistency_score': 1.0}\n",
      "19\n"
     ]
    },
    {
     "name": "stderr",
     "output_type": "stream",
     "text": [
      "Processed prompts: 100%|████████████████████████████████████████████████████████████████████████████████████████████████████████████████████████████████| 1/1 [00:00<00:00,  1.50it/s, est. speed input: 467.75 toks/s, output: 87.23 toks/s]\n"
     ]
    },
    {
     "name": "stdout",
     "output_type": "stream",
     "text": [
      "Expected Role Therapist\n"
     ]
    },
    {
     "name": "stderr",
     "output_type": "stream",
     "text": [
      "Processed prompts: 100%|████████████████████████████████████████████████████████████████████████████████████████████████████████████████████████████████| 1/1 [00:00<00:00,  1.82it/s, est. speed input: 370.89 toks/s, output: 85.87 toks/s]\n"
     ]
    },
    {
     "name": "stdout",
     "output_type": "stream",
     "text": [
      "Expected Role Patient\n"
     ]
    },
    {
     "name": "stderr",
     "output_type": "stream",
     "text": [
      "Processed prompts: 100%|████████████████████████████████████████████████████████████████████████████████████████████████████████████████████████████████| 1/1 [00:00<00:00,  1.59it/s, est. speed input: 697.13 toks/s, output: 85.75 toks/s]\n"
     ]
    },
    {
     "name": "stdout",
     "output_type": "stream",
     "text": [
      "Expected Role Therapist\n"
     ]
    },
    {
     "name": "stderr",
     "output_type": "stream",
     "text": [
      "Processed prompts: 100%|████████████████████████████████████████████████████████████████████████████████████████████████████████████████████████████████| 1/1 [00:00<00:00,  2.30it/s, est. speed input: 720.24 toks/s, output: 85.41 toks/s]\n"
     ]
    },
    {
     "name": "stdout",
     "output_type": "stream",
     "text": [
      "Expected Role Patient\n"
     ]
    },
    {
     "name": "stderr",
     "output_type": "stream",
     "text": [
      "Processed prompts: 100%|███████████████████████████████████████████████████████████████████████████████████████████████████████████████████████████████| 1/1 [00:00<00:00,  2.43it/s, est. speed input: 1307.57 toks/s, output: 85.06 toks/s]\n"
     ]
    },
    {
     "name": "stdout",
     "output_type": "stream",
     "text": [
      "Expected Role Therapist\n"
     ]
    },
    {
     "name": "stderr",
     "output_type": "stream",
     "text": [
      "Processed prompts: 100%|███████████████████████████████████████████████████████████████████████████████████████████████████████████████████████████████| 1/1 [00:00<00:00,  2.60it/s, est. speed input: 1021.07 toks/s, output: 85.95 toks/s]\n"
     ]
    },
    {
     "name": "stdout",
     "output_type": "stream",
     "text": [
      "Expected Role Patient\n"
     ]
    },
    {
     "name": "stderr",
     "output_type": "stream",
     "text": [
      "Processed prompts: 100%|███████████████████████████████████████████████████████████████████████████████████████████████████████████████████████████████| 1/1 [00:00<00:00,  2.32it/s, est. speed input: 1424.64 toks/s, output: 85.85 toks/s]\n"
     ]
    },
    {
     "name": "stdout",
     "output_type": "stream",
     "text": [
      "Expected Role Therapist\n"
     ]
    },
    {
     "name": "stderr",
     "output_type": "stream",
     "text": [
      "Processed prompts: 100%|████████████████████████████████████████████████████████████████████████████████████████████████████████████████████████████████| 1/1 [00:00<00:00,  2.00it/s, est. speed input: 941.29 toks/s, output: 86.11 toks/s]\n"
     ]
    },
    {
     "name": "stdout",
     "output_type": "stream",
     "text": [
      "Expected Role Patient\n"
     ]
    },
    {
     "name": "stderr",
     "output_type": "stream",
     "text": [
      "Processed prompts: 100%|███████████████████████████████████████████████████████████████████████████████████████████████████████████████████████████████| 1/1 [00:00<00:00,  3.03it/s, est. speed input: 2134.96 toks/s, output: 85.15 toks/s]\n"
     ]
    },
    {
     "name": "stdout",
     "output_type": "stream",
     "text": [
      "Expected Role Therapist\n"
     ]
    },
    {
     "name": "stderr",
     "output_type": "stream",
     "text": [
      "Processed prompts: 100%|███████████████████████████████████████████████████████████████████████████████████████████████████████████████████████████████| 1/1 [00:00<00:00,  2.59it/s, est. speed input: 1423.94 toks/s, output: 85.59 toks/s]\n"
     ]
    },
    {
     "name": "stdout",
     "output_type": "stream",
     "text": [
      "Expected Role Patient\n"
     ]
    },
    {
     "name": "stderr",
     "output_type": "stream",
     "text": [
      "Processed prompts: 100%|████████████████████████████████████████████████████████████████████████████████████████████████████████████████████████████████| 1/1 [00:00<00:00,  1.96it/s, est. speed input: 323.94 toks/s, output: 86.38 toks/s]\n",
      "Processed prompts: 100%|████████████████████████████████████████████████████████████████████████████████████████████████████████████████████████████████| 1/1 [00:00<00:00,  1.40it/s, est. speed input: 217.30 toks/s, output: 86.92 toks/s]\n",
      "Processed prompts: 100%|████████████████████████████████████████████████████████████████████████████████████████████████████████████████████████████████| 1/1 [00:00<00:00,  1.19it/s, est. speed input: 179.77 toks/s, output: 86.91 toks/s]\n",
      "Processed prompts: 100%|████████████████████████████████████████████████████████████████████████████████████████████████████████████████████████████████| 1/1 [00:00<00:00,  1.55it/s, est. speed input: 249.53 toks/s, output: 86.79 toks/s]\n",
      "Processed prompts: 100%|████████████████████████████████████████████████████████████████████████████████████████████████████████████████████████████████| 1/1 [00:00<00:00,  1.67it/s, est. speed input: 251.87 toks/s, output: 86.73 toks/s]\n"
     ]
    },
    {
     "name": "stdout",
     "output_type": "stream",
     "text": [
      "{'task_name': 'Therapy', 'topic': '', 'grade': '', 'P1': '', 'P2': 'You are Raj, a 50-year-old business owner who struggles with balancing work and family life. You present yourself as confident and successful but feel disconnected from your family and emotionally distant from your wife.', 'conversation': [(0, \"Therapist: I've noticed a change in your openness today, and I appreciate your vulnerability. Can you share what might be helping you feel more comfortable expressing your emotions now? Let's explore how this shift could reflect on past emotional patterns and help us better understand your journey.\\n\"), (1, \"Patient: I think it's the realization that opening up doesn't make me any less successful, and maybe I've been carrying unnecessary burdens from my past. I'd like to explore those burdens further.\\n\"), (2, \"Therapist: I'm glad to hear that, and it's significant that you've recognized this change. Let's delve deeper into those past burdens, understanding how they may have shaped your emotional patterns and contributed to your current shift in openness.\\n\"), (3, \"Patient: I think those past burdens stem from unmet expectations and fear of failure. I'm curious to see how letting go of them can bring me closer to my family.\\n\"), (4, \"Therapist: It's important to uncover the roots of those unmet expectations and fear of failure. How might they have impacted your relationships with family members in the past?\\n\"), (5, 'Patient: My fear of failure made me overly critical and distant, straining relationships. Unmet expectations created a sense of disappointment and distance between me and my family.\\n'), (6, 'Therapist: It seems the fear of failure and unmet expectations have led to strained relationships. How can we work together to understand and shift these patterns for healthier connections in the future?\\n'), (7, \"Patient: Understanding the origins of these patterns and learning healthier coping mechanisms could be key to fostering stronger family bonds. Let's focus on developing strategies to overcome past hurdles and build meaningful connections.\\n\"), (8, 'Therapist: Great! Shall we explore your past and present coping mechanisms together, and identify new strategies to heal and strengthen your family bonds?\\n'), (9, \"Patient: Absolutely, that sounds like a good plan. Let's identify the triggers and practice emotional regulation techniques to foster a stronger, more connected family life.\\n\")], 'pturn': 1, 'index': -1, 'timestamp': '', 'rounds': 10, 'conversation_only': True, 'eval_prompt_consistency': [(1, ' YES, the line is consistent with the given background. The patient recognizes the need to address personal issues without feeling it affects their success, which aligns with the described struggle to balance work and family life.'), (3, \" YES, The patient's line aligns with the given background as it suggests an awareness of past burdens potentially related to unmet expectations and fear of failure, which could contribute to their disconnection with family and emotional distance from their wife, indicating a desire for change and closer family relationships.\"), (5, ' Yes, the line is consistent with the background. The Patient expressing their fear of failure, overcritical behavior, and emotional distance aligns with the given background of Raj, a 50-year-old business owner who struggles with balancing work and family life, feels disconnected from his family, and is emotionally distant from his wife.'), (7, ' Yes, the line is consistent with the background as it suggests an awareness of the need to address emotional distance in family relationships, find healthier coping mechanisms, and improve family bonds - all of which align with the struggles and goals of the patient as described in the background.'), (9, ' YES, the line is consistent with the background as it shows the patient is aware of the problem (strained family life) and proposes a solution (identifying triggers and practicing emotional regulation techniques) that aligns with improving the family dynamics.')], 'P1_prompt_consistency_score': 0, 'P2_prompt_consistency_score': 1.0}\n",
      "20\n"
     ]
    },
    {
     "name": "stderr",
     "output_type": "stream",
     "text": [
      "Processed prompts: 100%|████████████████████████████████████████████████████████████████████████████████████████████████████████████████████████████████| 1/1 [00:00<00:00,  2.17it/s, est. speed input: 676.68 toks/s, output: 87.03 toks/s]\n"
     ]
    },
    {
     "name": "stdout",
     "output_type": "stream",
     "text": [
      "Expected Role Therapist\n"
     ]
    },
    {
     "name": "stderr",
     "output_type": "stream",
     "text": [
      "Processed prompts: 100%|████████████████████████████████████████████████████████████████████████████████████████████████████████████████████████████████| 1/1 [00:00<00:00,  2.93it/s, est. speed input: 581.71 toks/s, output: 85.19 toks/s]\n"
     ]
    },
    {
     "name": "stdout",
     "output_type": "stream",
     "text": [
      "Expected Role Patient\n"
     ]
    },
    {
     "name": "stderr",
     "output_type": "stream",
     "text": [
      "Processed prompts: 100%|███████████████████████████████████████████████████████████████████████████████████████████████████████████████████████████████| 1/1 [00:00<00:00,  3.07it/s, est. speed input: 1240.39 toks/s, output: 86.15 toks/s]\n"
     ]
    },
    {
     "name": "stdout",
     "output_type": "stream",
     "text": [
      "Expected Role Therapist\n"
     ]
    },
    {
     "name": "stderr",
     "output_type": "stream",
     "text": [
      "Processed prompts: 100%|████████████████████████████████████████████████████████████████████████████████████████████████████████████████████████████████| 1/1 [00:00<00:00,  2.96it/s, est. speed input: 781.35 toks/s, output: 86.15 toks/s]\n"
     ]
    },
    {
     "name": "stdout",
     "output_type": "stream",
     "text": [
      "Expected Role Patient\n"
     ]
    },
    {
     "name": "stderr",
     "output_type": "stream",
     "text": [
      "Processed prompts: 100%|███████████████████████████████████████████████████████████████████████████████████████████████████████████████████████████████| 1/1 [00:00<00:00,  2.86it/s, est. speed input: 1341.68 toks/s, output: 86.00 toks/s]\n"
     ]
    },
    {
     "name": "stdout",
     "output_type": "stream",
     "text": [
      "Expected Role Therapist\n"
     ]
    },
    {
     "name": "stderr",
     "output_type": "stream",
     "text": [
      "Processed prompts: 100%|████████████████████████████████████████████████████████████████████████████████████████████████████████████████████████████████| 1/1 [00:00<00:00,  2.26it/s, est. speed input: 748.94 toks/s, output: 86.24 toks/s]\n"
     ]
    },
    {
     "name": "stdout",
     "output_type": "stream",
     "text": [
      "Expected Role Patient\n"
     ]
    },
    {
     "name": "stderr",
     "output_type": "stream",
     "text": [
      "Processed prompts: 100%|███████████████████████████████████████████████████████████████████████████████████████████████████████████████████████████████| 1/1 [00:00<00:00,  1.87it/s, est. speed input: 1017.10 toks/s, output: 86.00 toks/s]\n"
     ]
    },
    {
     "name": "stdout",
     "output_type": "stream",
     "text": [
      "Expected Role Therapist\n"
     ]
    },
    {
     "name": "stderr",
     "output_type": "stream",
     "text": [
      "Processed prompts: 100%|████████████████████████████████████████████████████████████████████████████████████████████████████████████████████████████████| 1/1 [00:00<00:00,  2.30it/s, est. speed input: 973.86 toks/s, output: 85.38 toks/s]\n"
     ]
    },
    {
     "name": "stdout",
     "output_type": "stream",
     "text": [
      "Expected Role Patient\n"
     ]
    },
    {
     "name": "stderr",
     "output_type": "stream",
     "text": [
      "Processed prompts: 100%|███████████████████████████████████████████████████████████████████████████████████████████████████████████████████████████████| 1/1 [00:00<00:00,  2.16it/s, est. speed input: 1373.88 toks/s, output: 84.38 toks/s]\n"
     ]
    },
    {
     "name": "stdout",
     "output_type": "stream",
     "text": [
      "Expected Role Therapist\n"
     ]
    },
    {
     "name": "stderr",
     "output_type": "stream",
     "text": [
      "Processed prompts: 100%|███████████████████████████████████████████████████████████████████████████████████████████████████████████████████████████████| 1/1 [00:00<00:00,  2.50it/s, est. speed input: 1265.88 toks/s, output: 85.05 toks/s]\n"
     ]
    },
    {
     "name": "stdout",
     "output_type": "stream",
     "text": [
      "Expected Role Patient\n"
     ]
    },
    {
     "name": "stderr",
     "output_type": "stream",
     "text": [
      "Processed prompts: 100%|████████████████████████████████████████████████████████████████████████████████████████████████████████████████████████████████| 1/1 [00:00<00:00,  1.76it/s, est. speed input: 282.56 toks/s, output: 86.53 toks/s]\n",
      "Processed prompts: 100%|████████████████████████████████████████████████████████████████████████████████████████████████████████████████████████████████| 1/1 [00:00<00:00,  1.17it/s, est. speed input: 188.09 toks/s, output: 86.99 toks/s]\n",
      "Processed prompts: 100%|████████████████████████████████████████████████████████████████████████████████████████████████████████████████████████████████| 1/1 [00:00<00:00,  1.01it/s, est. speed input: 171.08 toks/s, output: 87.06 toks/s]\n",
      "Processed prompts: 100%|████████████████████████████████████████████████████████████████████████████████████████████████████████████████████████████████| 1/1 [00:00<00:00,  1.32it/s, est. speed input: 221.33 toks/s, output: 86.95 toks/s]\n",
      "Processed prompts: 100%|████████████████████████████████████████████████████████████████████████████████████████████████████████████████████████████████| 1/1 [00:00<00:00,  1.36it/s, est. speed input: 224.09 toks/s, output: 86.92 toks/s]\n"
     ]
    },
    {
     "name": "stdout",
     "output_type": "stream",
     "text": [
      "{'task_name': 'Therapy', 'topic': '', 'grade': '', 'P1': '', 'P2': 'You are Lana, a 26-year-old freelance photographer who is deeply afraid of failure. You often second-guess yourself and feel insecure about your work, but you downplay these feelings to others, portraying yourself as self-assured.', 'conversation': [(0, \"Therapist: I've noticed a change in your openness today, which is a wonderful step towards self-discovery. Can you share what might be allowing you to express your feelings more freely today?\\n\"), (1, \"Patient: I think it's the understanding that vulnerability can lead to growth, not weakness. Today, I'm choosing to embrace it.\\n\"), (2, 'Therapist: Great to hear about your shift towards vulnerability. How do you feel this new approach might impact your relationships and personal growth moving forward?\\n'), (3, \"Patient: I believe it will foster deeper connections and accelerate my self-confidence. I'm eager to see the positive changes unfold.\\n\"), (4, \"Therapist: That's very encouraging! Let's further explore how this newfound vulnerability might challenge past emotional patterns and help you understand them better.\\n\"), (5, \"Patient: I anticipate it will help me confront and learn from past insecurities, fostering self-awareness and resilience. I'm excited to explore these changes.\\n\"), (6, \"Therapist: It's wonderful to hear your enthusiasm for self-growth. Let's also consider if there are specific past emotional patterns that might surface as you delve deeper into vulnerability, and how these might be addressed.\\n\"), (7, \"Patient: I think my fear of failure and self-doubt will surface more, but facing them head-on could help me overcome them. I'm ready to tackle those challenges.\\n\"), (8, \"Therapist: Great, let's continue exploring how past patterns of fear and self-doubt manifest, and identify strategies to confront them effectively. This process may provide valuable insights into your growth journey.\\n\"), (9, \"Patient: Understanding these patterns will help me find the roots of my fear and develop strategies to overcome it. I'm ready to face them and grow from the experience.\\n\")], 'pturn': 1, 'index': -1, 'timestamp': '', 'rounds': 10, 'conversation_only': True, 'eval_prompt_consistency': [(1, \" YES, The patient's statement about embracing vulnerability aligns with Lana's character as she is struggling with self-doubt but is working on being more open about her feelings, which can lead to personal growth.\"), (3, ' YES, The line is consistent with the given background as it implies the Patient (Lana) is anticipating a positive outcome from an unspecified action, which could be related to her photography work, and thus, potentially fostering self-confidence, aligning with her insecurities about her work but downplaying them to others.'), (5, \" YES, the utterance by the patient aligns with the given background as it indicates a desire to face and learn from past insecurities, which is consistent with a self-awareness and resilience journey, reflecting the patient's (Lana) struggle with her own insecurities. However, it does not explicitly confirm that the patient is Lana, the freelance photographer.\"), (7, \" YES, the line is consistent with the given background. The patient acknowledges their fear of failure and self-doubt, which aligns with Lana's character, and expresses a readiness to face those challenges, suggesting an attempt to overcome them, which Lana might downplay but privately feel.\"), (9, \" YES, the line aligns with the background as it indicates the patient is ready to understand and address the roots of their fear (of failure in Lana's case) to overcome it, which shows an intent to grow and improve, consistent with a freelance photographer who is deeply afraid of failure.\")], 'P1_prompt_consistency_score': 0, 'P2_prompt_consistency_score': 1.0}\n",
      "21\n"
     ]
    },
    {
     "name": "stderr",
     "output_type": "stream",
     "text": [
      "Processed prompts: 100%|████████████████████████████████████████████████████████████████████████████████████████████████████████████████████████████████| 1/1 [00:00<00:00,  1.32it/s, est. speed input: 411.23 toks/s, output: 87.27 toks/s]\n"
     ]
    },
    {
     "name": "stdout",
     "output_type": "stream",
     "text": [
      "Expected Role Therapist\n"
     ]
    },
    {
     "name": "stderr",
     "output_type": "stream",
     "text": [
      "Processed prompts: 100%|████████████████████████████████████████████████████████████████████████████████████████████████████████████████████████████████| 1/1 [00:00<00:00,  1.79it/s, est. speed input: 382.82 toks/s, output: 85.86 toks/s]\n"
     ]
    },
    {
     "name": "stdout",
     "output_type": "stream",
     "text": [
      "Expected Role Patient\n"
     ]
    },
    {
     "name": "stderr",
     "output_type": "stream",
     "text": [
      "Processed prompts: 100%|███████████████████████████████████████████████████████████████████████████████████████████████████████████████████████████████| 1/1 [00:00<00:00,  2.82it/s, est. speed input: 1267.41 toks/s, output: 84.87 toks/s]\n"
     ]
    },
    {
     "name": "stdout",
     "output_type": "stream",
     "text": [
      "Expected Role Therapist\n"
     ]
    },
    {
     "name": "stderr",
     "output_type": "stream",
     "text": [
      "Processed prompts: 100%|████████████████████████████████████████████████████████████████████████████████████████████████████████████████████████████████| 1/1 [00:00<00:00,  2.61it/s, est. speed input: 783.41 toks/s, output: 86.17 toks/s]\n"
     ]
    },
    {
     "name": "stdout",
     "output_type": "stream",
     "text": [
      "Expected Role Patient\n"
     ]
    },
    {
     "name": "stderr",
     "output_type": "stream",
     "text": [
      "Processed prompts: 100%|███████████████████████████████████████████████████████████████████████████████████████████████████████████████████████████████| 1/1 [00:00<00:00,  1.96it/s, est. speed input: 1017.45 toks/s, output: 86.25 toks/s]\n"
     ]
    },
    {
     "name": "stdout",
     "output_type": "stream",
     "text": [
      "Expected Role Therapist\n"
     ]
    },
    {
     "name": "stderr",
     "output_type": "stream",
     "text": [
      "Processed prompts: 100%|████████████████████████████████████████████████████████████████████████████████████████████████████████████████████████████████| 1/1 [00:00<00:00,  1.82it/s, est. speed input: 703.76 toks/s, output: 85.91 toks/s]\n"
     ]
    },
    {
     "name": "stdout",
     "output_type": "stream",
     "text": [
      "Expected Role Patient\n"
     ]
    },
    {
     "name": "stderr",
     "output_type": "stream",
     "text": [
      "Processed prompts: 100%|███████████████████████████████████████████████████████████████████████████████████████████████████████████████████████████████| 1/1 [00:00<00:00,  2.17it/s, est. speed input: 1344.77 toks/s, output: 84.86 toks/s]\n"
     ]
    },
    {
     "name": "stdout",
     "output_type": "stream",
     "text": [
      "Expected Role Therapist\n"
     ]
    },
    {
     "name": "stderr",
     "output_type": "stream",
     "text": [
      "Processed prompts: 100%|███████████████████████████████████████████████████████████████████████████████████████████████████████████████████████████████| 1/1 [00:00<00:00,  2.14it/s, est. speed input: 1026.25 toks/s, output: 85.70 toks/s]\n"
     ]
    },
    {
     "name": "stdout",
     "output_type": "stream",
     "text": [
      "Expected Role Patient\n"
     ]
    },
    {
     "name": "stderr",
     "output_type": "stream",
     "text": [
      "Processed prompts: 100%|███████████████████████████████████████████████████████████████████████████████████████████████████████████████████████████████| 1/1 [00:00<00:00,  2.73it/s, est. speed input: 1929.19 toks/s, output: 84.82 toks/s]\n"
     ]
    },
    {
     "name": "stdout",
     "output_type": "stream",
     "text": [
      "Expected Role Therapist\n"
     ]
    },
    {
     "name": "stderr",
     "output_type": "stream",
     "text": [
      "Processed prompts: 100%|███████████████████████████████████████████████████████████████████████████████████████████████████████████████████████████████| 1/1 [00:00<00:00,  2.52it/s, est. speed input: 1409.19 toks/s, output: 85.85 toks/s]\n"
     ]
    },
    {
     "name": "stdout",
     "output_type": "stream",
     "text": [
      "Expected Role Patient\n"
     ]
    },
    {
     "name": "stderr",
     "output_type": "stream",
     "text": [
      "Processed prompts: 100%|████████████████████████████████████████████████████████████████████████████████████████████████████████████████████████████████| 1/1 [00:00<00:00,  1.44it/s, est. speed input: 243.48 toks/s, output: 86.44 toks/s]\n",
      "Processed prompts: 100%|████████████████████████████████████████████████████████████████████████████████████████████████████████████████████████████████| 1/1 [00:00<00:00,  1.29it/s, est. speed input: 198.72 toks/s, output: 86.45 toks/s]\n",
      "Processed prompts: 100%|████████████████████████████████████████████████████████████████████████████████████████████████████████████████████████████████| 1/1 [00:00<00:00,  1.05it/s, est. speed input: 177.46 toks/s, output: 86.61 toks/s]\n",
      "Processed prompts: 100%|████████████████████████████████████████████████████████████████████████████████████████████████████████████████████████████████| 1/1 [00:00<00:00,  1.69it/s, est. speed input: 273.02 toks/s, output: 86.48 toks/s]\n",
      "Processed prompts: 100%|████████████████████████████████████████████████████████████████████████████████████████████████████████████████████████████████| 1/1 [00:01<00:00,  1.15s/it, est. speed input: 134.83 toks/s, output: 86.98 toks/s]\n"
     ]
    },
    {
     "name": "stdout",
     "output_type": "stream",
     "text": [
      "{'task_name': 'Therapy', 'topic': '', 'grade': '', 'P1': '', 'P2': 'You are Henry, a 47-year-old construction manager who has a hard time expressing his emotions. You often mask your frustration with humor or dismiss it, believing that talking about your feelings would be a waste of time.', 'conversation': [(0, \"Therapist: I've noticed a change in your openness today, sharing emotions more freely than before. Could we explore what might be contributing to this shift? It's important for us to understand the dynamics of your emotional journey, so let's delve deeper into this change and how it connects to your past patterns.\\n\"), (1, \"Patient: I guess it could be the work-related stress finally taking its toll, or maybe the recent arguments at home. I've been trying to suppress them for so long, but it seems like they're bubbling up now.\\n\"), (2, \"Therapist: It's fascinating to see this change. Let's focus on the timing - what specifically has happened recently that could have triggered this release?\\n\"), (3, 'Patient: The project deadlines are approaching, and my wife and I had a heated discussion about financial issues at home. It feels like everything is coming to a head.\\n'), (4, \"Therapist: It's not uncommon for stressors from different areas of life to accumulate and manifest in unexpected ways. Let's explore how these work and home stressors might intersect and amplify each other.\\n\"), (5, \"Patient: I've been carrying the pressure of the project and our financial troubles at home for a while, making me feel overwhelmed and on edge. It's hard to separate them, as they both seem to be affecting my emotions.\\n\"), (6, 'Therapist: It sounds like both work and home stressors are impacting you significantly. Can we delve deeper into how these stressors might be related and how they affect your emotional well-being?\\n'), (7, \"Patient: The interconnected nature of work and home life makes it difficult to separate the sources of stress. I feel like they're feeding off each other, making my emotional well-being fragile.\\n\"), (8, \"Therapist: Let's further explore how the pressures from work and home might fuel each other, and how you can identify healthy ways to manage this cycle.\\n\"), (9, \"Patient: Maybe I'm spreading myself too thin, trying to cope with both work and home stress. I could benefit from setting boundaries and prioritizing self-care.\\n\")], 'pturn': 1, 'index': -1, 'timestamp': '', 'rounds': 10, 'conversation_only': True, 'eval_prompt_consistency': [(1, \" YES, The patient's utterance is consistent with the given background as it suggests that the patient may be experiencing work-related stress and domestic arguments, symptoms that he has been suppressing for a long time, which is in line with the character's difficulty in expressing emotions.\"), (3, \" YES, the line is consistent with the background as the patient is expressing a frustration related to a project deadline, which aligns with Henry's profession as a construction manager, and mentioning a heated discussion at home, indicating emotional tension, although he might be masking the emotional aspect with the mention of the discussion.\"), (5, ' YES, the utterance is consistent with the given background as it demonstrates that the patient is acknowledging his emotional struggles, which aligns with the description that the patient has difficulty expressing feelings and masks them with humor or dismisses them. However, the statement suggests a growing awareness of the impact of emotional burdens on his emotional state, which may be a step towards addressing these issues.'), (7, \" Yes, the line is consistent with the background. The patient acknowledges the interconnected nature of work and home life, expressing feelings of stress, which aligns with Henry's struggle in expressing emotions, even if it's implicit.\"), (9, ' Yes, the utterance is consistent with the background as the patient is expressing concern about stress, which aligns with the given background that Henry has trouble expressing his feelings and is often stressed, but this time he is acknowledging the stress without masking it with humor. The mention of setting boundaries and prioritizing self-care also indicates an understanding of the importance of self-care, which is not typically shown in the given background but is a positive step towards addressing the stress.')], 'P1_prompt_consistency_score': 0, 'P2_prompt_consistency_score': 1.0}\n",
      "22\n"
     ]
    },
    {
     "name": "stderr",
     "output_type": "stream",
     "text": [
      "Processed prompts: 100%|████████████████████████████████████████████████████████████████████████████████████████████████████████████████████████████████| 1/1 [00:00<00:00,  1.53it/s, est. speed input: 476.11 toks/s, output: 87.26 toks/s]\n"
     ]
    },
    {
     "name": "stdout",
     "output_type": "stream",
     "text": [
      "Expected Role Therapist\n"
     ]
    },
    {
     "name": "stderr",
     "output_type": "stream",
     "text": [
      "Processed prompts: 100%|████████████████████████████████████████████████████████████████████████████████████████████████████████████████████████████████| 1/1 [00:00<00:00,  2.19it/s, est. speed input: 454.57 toks/s, output: 85.64 toks/s]\n"
     ]
    },
    {
     "name": "stdout",
     "output_type": "stream",
     "text": [
      "Expected Role Patient\n"
     ]
    },
    {
     "name": "stderr",
     "output_type": "stream",
     "text": [
      "Processed prompts: 100%|████████████████████████████████████████████████████████████████████████████████████████████████████████████████████████████████| 1/1 [00:00<00:00,  2.15it/s, est. speed input: 926.41 toks/s, output: 86.17 toks/s]\n"
     ]
    },
    {
     "name": "stdout",
     "output_type": "stream",
     "text": [
      "Expected Role Therapist\n"
     ]
    },
    {
     "name": "stderr",
     "output_type": "stream",
     "text": [
      "Processed prompts: 100%|████████████████████████████████████████████████████████████████████████████████████████████████████████████████████████████████| 1/1 [00:00<00:00,  2.46it/s, est. speed input: 725.38 toks/s, output: 86.35 toks/s]\n"
     ]
    },
    {
     "name": "stdout",
     "output_type": "stream",
     "text": [
      "Expected Role Patient\n"
     ]
    },
    {
     "name": "stderr",
     "output_type": "stream",
     "text": [
      "Processed prompts: 100%|███████████████████████████████████████████████████████████████████████████████████████████████████████████████████████████████| 1/1 [00:00<00:00,  2.86it/s, est. speed input: 1470.88 toks/s, output: 86.01 toks/s]\n"
     ]
    },
    {
     "name": "stdout",
     "output_type": "stream",
     "text": [
      "Expected Role Therapist\n"
     ]
    },
    {
     "name": "stderr",
     "output_type": "stream",
     "text": [
      "Processed prompts: 100%|████████████████████████████████████████████████████████████████████████████████████████████████████████████████████████████████| 1/1 [00:00<00:00,  1.96it/s, est. speed input: 720.67 toks/s, output: 86.40 toks/s]\n"
     ]
    },
    {
     "name": "stdout",
     "output_type": "stream",
     "text": [
      "Expected Role Patient\n"
     ]
    },
    {
     "name": "stderr",
     "output_type": "stream",
     "text": [
      "Processed prompts: 100%|███████████████████████████████████████████████████████████████████████████████████████████████████████████████████████████████| 1/1 [00:00<00:00,  3.05it/s, est. speed input: 1821.33 toks/s, output: 85.70 toks/s]\n"
     ]
    },
    {
     "name": "stdout",
     "output_type": "stream",
     "text": [
      "Expected Role Therapist\n"
     ]
    },
    {
     "name": "stderr",
     "output_type": "stream",
     "text": [
      "Processed prompts: 100%|████████████████████████████████████████████████████████████████████████████████████████████████████████████████████████████████| 1/1 [00:00<00:00,  2.10it/s, est. speed input: 941.04 toks/s, output: 86.31 toks/s]\n"
     ]
    },
    {
     "name": "stdout",
     "output_type": "stream",
     "text": [
      "Expected Role Patient\n"
     ]
    },
    {
     "name": "stderr",
     "output_type": "stream",
     "text": [
      "Processed prompts: 100%|███████████████████████████████████████████████████████████████████████████████████████████████████████████████████████████████| 1/1 [00:00<00:00,  2.76it/s, est. speed input: 1860.51 toks/s, output: 85.82 toks/s]\n"
     ]
    },
    {
     "name": "stdout",
     "output_type": "stream",
     "text": [
      "Expected Role Therapist\n"
     ]
    },
    {
     "name": "stderr",
     "output_type": "stream",
     "text": [
      "Processed prompts: 100%|███████████████████████████████████████████████████████████████████████████████████████████████████████████████████████████████| 1/1 [00:00<00:00,  1.91it/s, est. speed input: 1010.67 toks/s, output: 86.30 toks/s]\n"
     ]
    },
    {
     "name": "stdout",
     "output_type": "stream",
     "text": [
      "Expected Role Patient\n"
     ]
    },
    {
     "name": "stderr",
     "output_type": "stream",
     "text": [
      "Processed prompts: 100%|████████████████████████████████████████████████████████████████████████████████████████████████████████████████████████████████| 1/1 [00:00<00:00,  1.27it/s, est. speed input: 206.93 toks/s, output: 86.85 toks/s]\n",
      "Processed prompts: 100%|████████████████████████████████████████████████████████████████████████████████████████████████████████████████████████████████| 1/1 [00:00<00:00,  1.58it/s, est. speed input: 249.57 toks/s, output: 86.87 toks/s]\n",
      "Processed prompts: 100%|████████████████████████████████████████████████████████████████████████████████████████████████████████████████████████████████| 1/1 [00:00<00:00,  1.47it/s, est. speed input: 246.06 toks/s, output: 86.93 toks/s]\n",
      "Processed prompts: 100%|████████████████████████████████████████████████████████████████████████████████████████████████████████████████████████████████| 1/1 [00:00<00:00,  1.92it/s, est. speed input: 316.03 toks/s, output: 86.71 toks/s]\n",
      "Processed prompts: 100%|████████████████████████████████████████████████████████████████████████████████████████████████████████████████████████████████| 1/1 [00:00<00:00,  1.20it/s, est. speed input: 202.61 toks/s, output: 86.83 toks/s]\n"
     ]
    },
    {
     "name": "stdout",
     "output_type": "stream",
     "text": [
      "{'task_name': 'Therapy', 'topic': '', 'grade': '', 'P1': '', 'P2': 'You are Isabella, a 33-year-old flight attendant who is constantly worried about the future. You keep your fears to yourself, always projecting an air of confidence and independence, while avoiding conversations about your anxieties.', 'conversation': [(0, \"Therapist: I've noticed a change in your openness today, and I'm curious about what might be different for you. Can you share what has allowed you to express yourself more freely? Let's explore how this shift connects to your past emotional patterns and current relationships.\\n\"), (1, \"Patient: I've been focusing on self-care and setting boundaries, which has helped me feel more comfortable sharing my thoughts. I'm learning to value my feelings as much as my independence.\\n\"), (2, \"Therapist: That's great to hear! It seems self-care and setting boundaries have been beneficial for your emotional expression. Let's continue discussing how these changes reflect your journey and impact your relationships.\\n\"), (3, \"Patient: I'm glad I'm making progress. This new approach to self-care feels like it's allowing me to form stronger, more authentic connections with others.\\n\"), (4, \"Therapist: It's wonderful to see your progress. Can you share more about how these new connections align with or differ from your past relational experiences?\\n\"), (5, \"Patient: I've noticed that I'm forming deeper connections, as I'm able to be more vulnerable and genuine. This shift feels refreshing compared to my past relationships where I often masked my true feelings.\\n\"), (6, \"Therapist: Great progress! Can we delve deeper into what's different about these new connections that allows for more vulnerability and authenticity?\\n\"), (7, \"Patient: I think it's because I'm learning to trust others and myself more, allowing me to share my true self without fear. Also, setting boundaries helps create a safe space for genuine communication.\\n\"), (8, \"Therapist: It's important to acknowledge your progress in building trust and being vulnerable. Let's explore further why you feel more confident in these new relationships.\\n\"), (9, \"Patient: I believe the confidence comes from my self-care routine and the acceptance of my feelings as valid, fostering a stronger sense of self. Also, I'm choosing relationships that respect my boundaries, which builds trust.\\n\")], 'pturn': 1, 'index': -1, 'timestamp': '', 'rounds': 10, 'conversation_only': True, 'eval_prompt_consistency': [(1, \" NO. The given utterance is not consistent with Isabella's background as she typically keeps her fears and anxieties to herself, avoiding conversations about them. The patient's statement indicates a shift towards sharing feelings and valuing emotions, which does not align with Isabella's character as portrayed in the background.\"), (3, \" NO. The given line does not align with the background as it suggests the patient is making progress in self-care and forming stronger connections, which is not consistent with Isabella's character who keeps her worries to herself and avoids conversations about her anxieties.\"), (5, ' NO. The line does not align with the background as it contradicts the statement that Isabella keeps her fears to herself and avoids conversations about her anxieties, suggesting she has been masking her true feelings. Instead, this line indicates a shift towards being more vulnerable and genuine.'), (7, ' NO - The line does not align with the background as it suggests the Patient is learning to trust themselves more and share their true self, which contradicts the given background that Isabella keeps her fears to herself.'), (9, ' YES, the line is consistent with the background as the patient seems to be discussing self-care, acceptance of feelings, and boundary-respecting relationships, which aligns with a stronger sense of self, a characteristic that Isabella (the 33-year-old flight attendant) is trying to project despite her underlying anxieties.')], 'P1_prompt_consistency_score': 0, 'P2_prompt_consistency_score': 0.2}\n",
      "23\n"
     ]
    },
    {
     "name": "stderr",
     "output_type": "stream",
     "text": [
      "Processed prompts: 100%|████████████████████████████████████████████████████████████████████████████████████████████████████████████████████████████████| 1/1 [00:00<00:00,  1.74it/s, est. speed input: 543.74 toks/s, output: 87.41 toks/s]\n"
     ]
    },
    {
     "name": "stdout",
     "output_type": "stream",
     "text": [
      "Expected Role Therapist\n"
     ]
    },
    {
     "name": "stderr",
     "output_type": "stream",
     "text": [
      "Processed prompts: 100%|████████████████████████████████████████████████████████████████████████████████████████████████████████████████████████████████| 1/1 [00:00<00:00,  1.99it/s, est. speed input: 393.51 toks/s, output: 85.89 toks/s]\n"
     ]
    },
    {
     "name": "stdout",
     "output_type": "stream",
     "text": [
      "Expected Role Patient\n"
     ]
    },
    {
     "name": "stderr",
     "output_type": "stream",
     "text": [
      "Processed prompts: 100%|████████████████████████████████████████████████████████████████████████████████████████████████████████████████████████████████| 1/1 [00:00<00:00,  2.26it/s, est. speed input: 970.50 toks/s, output: 86.36 toks/s]\n"
     ]
    },
    {
     "name": "stdout",
     "output_type": "stream",
     "text": [
      "Expected Role Therapist\n"
     ]
    },
    {
     "name": "stderr",
     "output_type": "stream",
     "text": [
      "Processed prompts: 100%|████████████████████████████████████████████████████████████████████████████████████████████████████████████████████████████████| 1/1 [00:00<00:00,  2.61it/s, est. speed input: 748.60 toks/s, output: 86.37 toks/s]\n"
     ]
    },
    {
     "name": "stdout",
     "output_type": "stream",
     "text": [
      "Expected Role Patient\n"
     ]
    },
    {
     "name": "stderr",
     "output_type": "stream",
     "text": [
      "Processed prompts: 100%|███████████████████████████████████████████████████████████████████████████████████████████████████████████████████████████████| 1/1 [00:00<00:00,  2.38it/s, est. speed input: 1207.39 toks/s, output: 85.90 toks/s]\n"
     ]
    },
    {
     "name": "stdout",
     "output_type": "stream",
     "text": [
      "Expected Role Therapist\n"
     ]
    },
    {
     "name": "stderr",
     "output_type": "stream",
     "text": [
      "Processed prompts: 100%|████████████████████████████████████████████████████████████████████████████████████████████████████████████████████████████████| 1/1 [00:00<00:00,  2.61it/s, est. speed input: 948.38 toks/s, output: 86.21 toks/s]\n"
     ]
    },
    {
     "name": "stdout",
     "output_type": "stream",
     "text": [
      "Expected Role Patient\n"
     ]
    },
    {
     "name": "stderr",
     "output_type": "stream",
     "text": [
      "Processed prompts: 100%|███████████████████████████████████████████████████████████████████████████████████████████████████████████████████████████████| 1/1 [00:00<00:00,  1.75it/s, est. speed input: 1025.42 toks/s, output: 86.18 toks/s]\n"
     ]
    },
    {
     "name": "stdout",
     "output_type": "stream",
     "text": [
      "Expected Role Therapist\n"
     ]
    },
    {
     "name": "stderr",
     "output_type": "stream",
     "text": [
      "Processed prompts: 100%|████████████████████████████████████████████████████████████████████████████████████████████████████████████████████████████████| 1/1 [00:00<00:00,  1.86it/s, est. speed input: 843.13 toks/s, output: 85.61 toks/s]\n"
     ]
    },
    {
     "name": "stdout",
     "output_type": "stream",
     "text": [
      "Expected Role Patient\n"
     ]
    },
    {
     "name": "stderr",
     "output_type": "stream",
     "text": [
      "Processed prompts: 100%|███████████████████████████████████████████████████████████████████████████████████████████████████████████████████████████████| 1/1 [00:00<00:00,  1.89it/s, est. speed input: 1296.88 toks/s, output: 85.07 toks/s]\n"
     ]
    },
    {
     "name": "stdout",
     "output_type": "stream",
     "text": [
      "Expected Role Therapist\n"
     ]
    },
    {
     "name": "stderr",
     "output_type": "stream",
     "text": [
      "Processed prompts: 100%|███████████████████████████████████████████████████████████████████████████████████████████████████████████████████████████████| 1/1 [00:00<00:00,  2.18it/s, est. speed input: 1209.08 toks/s, output: 85.42 toks/s]\n"
     ]
    },
    {
     "name": "stdout",
     "output_type": "stream",
     "text": [
      "Expected Role Patient\n"
     ]
    },
    {
     "name": "stderr",
     "output_type": "stream",
     "text": [
      "Processed prompts: 100%|████████████████████████████████████████████████████████████████████████████████████████████████████████████████████████████████| 1/1 [00:00<00:00,  1.79it/s, est. speed input: 292.64 toks/s, output: 86.17 toks/s]\n",
      "Processed prompts: 100%|████████████████████████████████████████████████████████████████████████████████████████████████████████████████████████████████| 1/1 [00:01<00:00,  1.07s/it, est. speed input: 143.84 toks/s, output: 86.49 toks/s]\n",
      "Processed prompts: 100%|████████████████████████████████████████████████████████████████████████████████████████████████████████████████████████████████| 1/1 [00:00<00:00,  1.31it/s, est. speed input: 200.79 toks/s, output: 86.61 toks/s]\n",
      "Processed prompts: 100%|████████████████████████████████████████████████████████████████████████████████████████████████████████████████████████████████| 1/1 [00:00<00:00,  1.54it/s, est. speed input: 256.06 toks/s, output: 86.38 toks/s]\n",
      "Processed prompts: 100%|████████████████████████████████████████████████████████████████████████████████████████████████████████████████████████████████| 1/1 [00:00<00:00,  1.33it/s, est. speed input: 212.38 toks/s, output: 86.82 toks/s]\n"
     ]
    },
    {
     "name": "stdout",
     "output_type": "stream",
     "text": [
      "{'task_name': 'Therapy', 'topic': '', 'grade': '', 'P1': '', 'P2': 'You are Leo, a 41-year-old writer who has trouble letting go of past mistakes. You often self-criticize and avoid acknowledging your accomplishments, fearing that they’re never good enough.', 'conversation': [(0, \"Therapist: I've noticed a shift in your emotional expression today. Can you tell me more about what might be contributing to this change? It's important for us to explore this together to better understand your emotional patterns and promote self-awareness.\\n\"), (1, \"Patient: I've been reflecting more on my past successes, and I've realized that I've been too hard on myself. Maybe it's time to give myself credit for my accomplishments.\\n\"), (2, \"Therapist: Great insight! Let's delve deeper into this shift in self-perception and how it affects your current emotions. How have these realizations influenced your relationships and emotional responses?\\n\"), (3, \"Patient: I feel more confident, but still struggle with self-doubt in certain situations. I'm hopeful this change will bring positive impacts on my relationships.\\n\"), (4, \"Therapist: It seems you're finding a balance between self-appreciation and self-doubt. How can we explore this balance further to improve your emotional resilience?\\n\"), (5, 'Patient: Embracing self-compassion could help maintain this balance, and identifying past achievements when self-doubt arises might aid in affirming my worth.\\n'), (6, \"Therapist: Absolutely, let's focus on those strategies for self-compassion and self-affirmation. Can we discuss specific instances where you've struggled with self-doubt, and brainstorm how implementing these strategies might help?\\n\"), (7, 'Patient: One example is during my writing projects, where I question my ability and might neglect to acknowledge my progress. Embracing self-compassion and affirming my achievements could help boost my confidence and reduce self-doubt.\\n'), (8, \"Therapist: Great! Let's discuss specific writing projects and how self-compassion and affirmations could support your confidence. We can explore triggers for self-doubt in detail, helping you navigate future challenges more effectively.\\n\"), (9, \"Patient: That sounds like a good plan. Let's begin with my current novel project and focus on praising small milestones as a way to maintain my self-compassion and confidence.\\n\")], 'pturn': 1, 'index': -1, 'timestamp': '', 'rounds': 10, 'conversation_only': True, 'eval_prompt_consistency': [(1, \" YES - The patient's line is consistent with the given background as it suggests a growing recognition and appreciation for past achievements, which is a step away from the pattern of excessive self-criticism characteristic of Leo's struggle.\"), (3, \" YES, the line is consistent with the background. The Patient's statement about struggling with self-doubt but feeling more confident aligns with Leo's character who is a 41-year-old writer that has trouble letting go of past mistakes and often self-criticizes. The hope that change might bring positive impacts on relationships is also consistent with the given background, as relationships are a potential area for growth and improvement.\"), (5, ' YES, The line is consistent with the given background because the Patient suggests practicing self-compassion and acknowledging past achievements, which could help the writer (Leo) to manage self-doubt, aligning with the given background of Leo struggling with self-criticism and not fully acknowledging accomplishments.'), (7, ' YES, The line is consistent with the given background as it pertains to the Patient (Leo) questioning his ability during writing projects and acknowledging the need for self-compassion and affirming his achievements to boost his confidence and reduce self-doubt.'), (9, ' YES, The utterance by the patient is consistent with the given background as it suggests a plan that encourages self-compassion and confidence, which is aligned with the patient (Leo) who struggles with self-criticism and avoiding acknowledgment of accomplishments due to fear of not being good enough.')], 'P1_prompt_consistency_score': 0, 'P2_prompt_consistency_score': 1.0}\n",
      "24\n"
     ]
    },
    {
     "name": "stderr",
     "output_type": "stream",
     "text": [
      "Processed prompts: 100%|████████████████████████████████████████████████████████████████████████████████████████████████████████████████████████████████| 1/1 [00:00<00:00,  1.16it/s, est. speed input: 361.14 toks/s, output: 87.09 toks/s]\n"
     ]
    },
    {
     "name": "stdout",
     "output_type": "stream",
     "text": [
      "Expected Role Therapist\n"
     ]
    },
    {
     "name": "stderr",
     "output_type": "stream",
     "text": [
      "Processed prompts: 100%|████████████████████████████████████████████████████████████████████████████████████████████████████████████████████████████████| 1/1 [00:00<00:00,  2.03it/s, est. speed input: 463.06 toks/s, output: 85.29 toks/s]\n"
     ]
    },
    {
     "name": "stdout",
     "output_type": "stream",
     "text": [
      "Expected Role Patient\n"
     ]
    },
    {
     "name": "stderr",
     "output_type": "stream",
     "text": [
      "Processed prompts: 100%|███████████████████████████████████████████████████████████████████████████████████████████████████████████████████████████████| 1/1 [00:00<00:00,  2.29it/s, est. speed input: 1036.72 toks/s, output: 85.05 toks/s]\n"
     ]
    },
    {
     "name": "stdout",
     "output_type": "stream",
     "text": [
      "Expected Role Therapist\n"
     ]
    },
    {
     "name": "stderr",
     "output_type": "stream",
     "text": [
      "Processed prompts: 100%|████████████████████████████████████████████████████████████████████████████████████████████████████████████████████████████████| 1/1 [00:00<00:00,  2.94it/s, est. speed input: 928.81 toks/s, output: 85.51 toks/s]\n"
     ]
    },
    {
     "name": "stdout",
     "output_type": "stream",
     "text": [
      "Expected Role Patient\n"
     ]
    },
    {
     "name": "stderr",
     "output_type": "stream",
     "text": [
      "Processed prompts: 100%|███████████████████████████████████████████████████████████████████████████████████████████████████████████████████████████████| 1/1 [00:00<00:00,  2.37it/s, est. speed input: 1249.08 toks/s, output: 85.65 toks/s]\n"
     ]
    },
    {
     "name": "stdout",
     "output_type": "stream",
     "text": [
      "Expected Role Therapist\n"
     ]
    },
    {
     "name": "stderr",
     "output_type": "stream",
     "text": [
      "Processed prompts: 100%|████████████████████████████████████████████████████████████████████████████████████████████████████████████████████████████████| 1/1 [00:00<00:00,  2.45it/s, est. speed input: 952.67 toks/s, output: 85.93 toks/s]\n"
     ]
    },
    {
     "name": "stdout",
     "output_type": "stream",
     "text": [
      "Expected Role Patient\n"
     ]
    },
    {
     "name": "stderr",
     "output_type": "stream",
     "text": [
      "Processed prompts: 100%|███████████████████████████████████████████████████████████████████████████████████████████████████████████████████████████████| 1/1 [00:00<00:00,  2.38it/s, est. speed input: 1439.56 toks/s, output: 85.80 toks/s]\n"
     ]
    },
    {
     "name": "stdout",
     "output_type": "stream",
     "text": [
      "Expected Role Therapist\n"
     ]
    },
    {
     "name": "stderr",
     "output_type": "stream",
     "text": [
      "Processed prompts: 100%|███████████████████████████████████████████████████████████████████████████████████████████████████████████████████████████████| 1/1 [00:00<00:00,  3.14it/s, est. speed input: 1472.18 toks/s, output: 85.11 toks/s]\n"
     ]
    },
    {
     "name": "stdout",
     "output_type": "stream",
     "text": [
      "Expected Role Patient\n"
     ]
    },
    {
     "name": "stderr",
     "output_type": "stream",
     "text": [
      "Processed prompts: 100%|███████████████████████████████████████████████████████████████████████████████████████████████████████████████████████████████| 1/1 [00:00<00:00,  2.53it/s, est. speed input: 1714.56 toks/s, output: 83.82 toks/s]\n"
     ]
    },
    {
     "name": "stdout",
     "output_type": "stream",
     "text": [
      "Expected Role Therapist\n"
     ]
    },
    {
     "name": "stderr",
     "output_type": "stream",
     "text": [
      "Processed prompts: 100%|███████████████████████████████████████████████████████████████████████████████████████████████████████████████████████████████| 1/1 [00:00<00:00,  2.50it/s, est. speed input: 1339.06 toks/s, output: 85.10 toks/s]\n"
     ]
    },
    {
     "name": "stdout",
     "output_type": "stream",
     "text": [
      "Expected Role Patient\n"
     ]
    },
    {
     "name": "stderr",
     "output_type": "stream",
     "text": [
      "Processed prompts: 100%|████████████████████████████████████████████████████████████████████████████████████████████████████████████████████████████████| 1/1 [00:00<00:00,  1.59it/s, est. speed input: 267.78 toks/s, output: 86.07 toks/s]\n",
      "Processed prompts: 100%|████████████████████████████████████████████████████████████████████████████████████████████████████████████████████████████████| 1/1 [00:00<00:00,  1.66it/s, est. speed input: 257.60 toks/s, output: 86.42 toks/s]\n",
      "Processed prompts: 100%|████████████████████████████████████████████████████████████████████████████████████████████████████████████████████████████████| 1/1 [00:00<00:00,  1.27it/s, est. speed input: 205.18 toks/s, output: 86.66 toks/s]\n",
      "Processed prompts: 100%|████████████████████████████████████████████████████████████████████████████████████████████████████████████████████████████████| 1/1 [00:00<00:00,  1.67it/s, est. speed input: 255.55 toks/s, output: 86.85 toks/s]\n",
      "Processed prompts: 100%|████████████████████████████████████████████████████████████████████████████████████████████████████████████████████████████████| 1/1 [00:00<00:00,  1.60it/s, est. speed input: 256.43 toks/s, output: 86.54 toks/s]\n"
     ]
    },
    {
     "name": "stdout",
     "output_type": "stream",
     "text": [
      "{'task_name': 'Therapy', 'topic': '', 'grade': '', 'P1': '', 'P2': \"You are Jessica, a 28-year-old marketing manager who feels like you're constantly running on empty. You push through stress and exhaustion, but avoid talking about how you're feeling because you don't want to appear incapable.\", 'conversation': [(0, \"Therapist: I've noticed a shift in your emotional expression today, and I'm curious if there might be something new or different that has contributed to this change. Can we explore together how this may be connected to your past patterns and current experiences? It's okay if some parts of your emotional journey feel uncomfortable; let's navigate them with compassion and honesty.\\n\"), (1, \"Patient: I've been dealing with a lot at work lately, which has made me feel more drained than usual. I find it difficult to discuss these feelings because I don't want to appear weak.\\n\"), (2, \"Therapist: It's impressive to see your willingness to share more openly. Let's examine how this newfound expression might relate to your past struggles and current stressors at work.\\n\"), (3, \"Patient: I've noticed this pattern of keeping emotions hidden for a long time now. It feels like I've been carrying this burden alone.\\n\"), (4, \"Therapist: It sounds like you've been shouldering a heavy load. Let's delve deeper into how this pattern may have developed and what triggers it in the workplace.\\n\"), (5, 'Patient: I think this pattern started from childhood, where expressing emotions was discouraged. At work, deadlines and high expectations trigger the feeling of needing to hide my feelings.\\n'), (6, \"Therapist: It's interesting to see a connection between childhood experiences and your current work dynamic. Let's further explore how these early patterns continue to influence your emotional responses at work.\\n\"), (7, 'Patient: I can see how my childhood experiences have shaped my current reactions. I need to learn to express my feelings more effectively at work.\\n'), (8, \"Therapist: Great progress! Let's discuss specific strategies to assert your emotions healthily at work. How do you envision expressing yourself differently in your work environment?\\n\"), (9, \"Patient: I'd like to start by setting boundaries and taking breaks when needed. Also, I'd value open communication with my team about my workload and feelings.\\n\")], 'pturn': 1, 'index': -1, 'timestamp': '', 'rounds': 10, 'conversation_only': True, 'eval_prompt_consistency': [(1, \" YES, the line is consistent with the background. The patient's statement about feeling drained and finding it difficult to discuss feelings due to fear of appearing weak aligns with Jessica's struggle of pushing through stress and exhaustion while avoiding discussing her feelings.\"), (3, \" YES, The line is consistent with the background as the patient's statement reflects the pattern of hiding emotions, which aligns with the background of Jessica, a marketing manager who avoids talking about her feelings due to not wanting to appear incapable.\"), (5, ' YES. The line aligns with the background as it suggests a pattern of suppressing emotions, which started in childhood and continues in adulthood, specifically at work. This is consistent with the given background of the marketing manager who avoids expressing her feelings due to high expectations and a desire not to appear incapable.'), (7, ' YES - The line is consistent with the background as it suggests the patient is acknowledging their emotional reactions and expressing a desire for self-improvement, which aligns with the description of a person feeling overwhelmed but avoiding expressing their feelings.'), (9, ' YES - The line is consistent with the given background as the patient is expressing a desire to set boundaries, take breaks when needed, and value open communication, which aligns with a person who wants to address their stress and exhaustion without appearing incapable.')], 'P1_prompt_consistency_score': 0, 'P2_prompt_consistency_score': 1.0}\n",
      "25\n"
     ]
    },
    {
     "name": "stderr",
     "output_type": "stream",
     "text": [
      "Processed prompts: 100%|████████████████████████████████████████████████████████████████████████████████████████████████████████████████████████████████| 1/1 [00:00<00:00,  1.50it/s, est. speed input: 466.23 toks/s, output: 86.95 toks/s]\n"
     ]
    },
    {
     "name": "stdout",
     "output_type": "stream",
     "text": [
      "Expected Role Therapist\n"
     ]
    },
    {
     "name": "stderr",
     "output_type": "stream",
     "text": [
      "Processed prompts: 100%|████████████████████████████████████████████████████████████████████████████████████████████████████████████████████████████████| 1/1 [00:00<00:00,  2.43it/s, est. speed input: 499.44 toks/s, output: 85.27 toks/s]\n"
     ]
    },
    {
     "name": "stdout",
     "output_type": "stream",
     "text": [
      "Expected Role Patient\n"
     ]
    },
    {
     "name": "stderr",
     "output_type": "stream",
     "text": [
      "Processed prompts: 100%|███████████████████████████████████████████████████████████████████████████████████████████████████████████████████████████████| 1/1 [00:00<00:00,  3.87it/s, est. speed input: 1662.37 toks/s, output: 85.64 toks/s]\n"
     ]
    },
    {
     "name": "stdout",
     "output_type": "stream",
     "text": [
      "Expected Role Therapist\n"
     ]
    },
    {
     "name": "stderr",
     "output_type": "stream",
     "text": [
      "Processed prompts: 100%|████████████████████████████████████████████████████████████████████████████████████████████████████████████████████████████████| 1/1 [00:00<00:00,  3.17it/s, est. speed input: 858.99 toks/s, output: 85.89 toks/s]\n"
     ]
    },
    {
     "name": "stdout",
     "output_type": "stream",
     "text": [
      "Expected Role Patient\n"
     ]
    },
    {
     "name": "stderr",
     "output_type": "stream",
     "text": [
      "Processed prompts: 100%|████████████████████████████████████████████████████████████████████████████████████████████████████████████████████████████████| 1/1 [00:00<00:00,  2.00it/s, est. speed input: 968.28 toks/s, output: 86.02 toks/s]\n"
     ]
    },
    {
     "name": "stdout",
     "output_type": "stream",
     "text": [
      "Expected Role Therapist\n"
     ]
    },
    {
     "name": "stderr",
     "output_type": "stream",
     "text": [
      "Processed prompts: 100%|███████████████████████████████████████████████████████████████████████████████████████████████████████████████████████████████| 1/1 [00:00<00:00,  2.94it/s, est. speed input: 1025.62 toks/s, output: 85.47 toks/s]\n"
     ]
    },
    {
     "name": "stdout",
     "output_type": "stream",
     "text": [
      "Expected Role Patient\n"
     ]
    },
    {
     "name": "stderr",
     "output_type": "stream",
     "text": [
      "Processed prompts: 100%|███████████████████████████████████████████████████████████████████████████████████████████████████████████████████████████████| 1/1 [00:00<00:00,  2.84it/s, est. speed input: 1605.30 toks/s, output: 85.39 toks/s]\n"
     ]
    },
    {
     "name": "stdout",
     "output_type": "stream",
     "text": [
      "Expected Role Therapist\n"
     ]
    },
    {
     "name": "stderr",
     "output_type": "stream",
     "text": [
      "Processed prompts: 100%|███████████████████████████████████████████████████████████████████████████████████████████████████████████████████████████████| 1/1 [00:00<00:00,  3.16it/s, est. speed input: 1315.33 toks/s, output: 85.57 toks/s]\n"
     ]
    },
    {
     "name": "stdout",
     "output_type": "stream",
     "text": [
      "Expected Role Patient\n"
     ]
    },
    {
     "name": "stderr",
     "output_type": "stream",
     "text": [
      "Processed prompts: 100%|███████████████████████████████████████████████████████████████████████████████████████████████████████████████████████████████| 1/1 [00:00<00:00,  2.44it/s, est. speed input: 1536.89 toks/s, output: 85.51 toks/s]\n"
     ]
    },
    {
     "name": "stdout",
     "output_type": "stream",
     "text": [
      "Expected Role Therapist\n"
     ]
    },
    {
     "name": "stderr",
     "output_type": "stream",
     "text": [
      "Processed prompts: 100%|███████████████████████████████████████████████████████████████████████████████████████████████████████████████████████████████| 1/1 [00:00<00:00,  2.51it/s, est. speed input: 1212.49 toks/s, output: 85.70 toks/s]\n"
     ]
    },
    {
     "name": "stdout",
     "output_type": "stream",
     "text": [
      "Expected Role Patient\n"
     ]
    },
    {
     "name": "stderr",
     "output_type": "stream",
     "text": [
      "Processed prompts: 100%|████████████████████████████████████████████████████████████████████████████████████████████████████████████████████████████████| 1/1 [00:01<00:00,  1.44s/it, est. speed input: 107.63 toks/s, output: 86.10 toks/s]\n",
      "Processed prompts: 100%|████████████████████████████████████████████████████████████████████████████████████████████████████████████████████████████████| 1/1 [00:00<00:00,  1.46it/s, est. speed input: 215.11 toks/s, output: 86.33 toks/s]\n",
      "Processed prompts: 100%|████████████████████████████████████████████████████████████████████████████████████████████████████████████████████████████████| 1/1 [00:00<00:00,  1.57it/s, est. speed input: 234.79 toks/s, output: 86.66 toks/s]\n",
      "Processed prompts: 100%|████████████████████████████████████████████████████████████████████████████████████████████████████████████████████████████████| 1/1 [00:00<00:00,  1.22it/s, est. speed input: 180.28 toks/s, output: 87.07 toks/s]\n",
      "Processed prompts: 100%|████████████████████████████████████████████████████████████████████████████████████████████████████████████████████████████████| 1/1 [00:00<00:00,  1.81it/s, est. speed input: 278.65 toks/s, output: 86.85 toks/s]\n"
     ]
    },
    {
     "name": "stdout",
     "output_type": "stream",
     "text": [
      "{'task_name': 'Therapy', 'topic': '', 'grade': '', 'P1': '', 'P2': 'You are Ben, a 39-year-old paramedic who struggles with feelings of helplessness after traumatic calls. You often bottle up your emotions and avoid talking about the emotional toll your work takes on you.', 'conversation': [(0, \"Therapist: I've noticed a shift in your sharing today, which is quite commendable. Can we explore what might be enabling you to express yourself more freely now compared to earlier sessions? Let's delve deeper into this change, understanding it may offer insights into your emotional journey.\\n\"), (1, \"Patient: I think it might be due to feeling more comfortable with you and the safe space you've created. Also, recognizing that I need support to process my experiences.\\n\"), (2, 'Therapist: Great progress! How has this newfound openness impacted your understanding of your emotional patterns and relationships?\\n'), (3, \"Patient: It's helped me better identify triggers and cope with my feelings. I'm learning to lean on others for support.\\n\"), (4, \"Therapist: That's wonderful to hear! This openness may also help us better understand and navigate relational struggles in the future. How has this shift in emotional expression influenced your sense of self, if at all?\\n\"), (5, \"Patient: It's allowing me to accept my vulnerabilities as a part of me, not weaknesses. I feel more connected and authentic now.\\n\"), (6, \"Therapist: It's impressive to see how much growth you've experienced. How has this acceptance of vulnerability influenced your relationships and interactions with others?\\n\"), (7, \"Patient: It's making me more empathetic towards others and strengthening my connections. I feel more open to sharing and receiving support.\\n\"), (8, 'Therapist: This acceptance of vulnerability seems to be fostering mutual growth in your relationships. How can we continue to nurture this positive shift moving forward?\\n'), (9, 'Patient: Continuing to share openly and maintaining a supportive environment will nurture this growth. Regular self-reflection and addressing triggers can help me keep progressing.\\n')], 'pturn': 1, 'index': -1, 'timestamp': '', 'rounds': 10, 'conversation_only': True, 'eval_prompt_consistency': [(1, \" YES, the utterance aligns with the given background as the patient acknowledges they feel comfortable with the paramedic and recognizes the need for support, which shows they perceive the paramedic as creating a safe space for discussions about their experiences. This is consistent with the background that the paramedic struggles with feelings of helplessness but often bottles up their emotions and avoids talking about the emotional toll their work takes on them. However, this statement suggests that the patient is now ready to discuss their feelings and seek support, indicating a potential change in the paramedic's usual behavior.\"), (3, \" NO, the line contradicts the given background as the patient's statement suggests they are learning to lean on others for support, which is not consistent with the background information that you, as Ben, avoid talking about the emotional toll your work takes on you and often bottle up your emotions.\"), (5, \" NO, This line is not consistent with the given background, as the patient's statement suggests an acceptance and acknowledgement of vulnerabilities, which is the opposite of Ben's typical behavior of bottling up emotions and avoiding discussing the emotional toll of his work.\"), (7, ' NO, The given utterance by the Patient is inconsistent with the background as it suggests that the Patient is becoming more empathetic, open, and supportive, which contradicts the background that Ben (the paramedic) struggles with feelings of helplessness, bottles up his emotions, and avoids discussing the emotional toll of his work.'), (9, \" NO, The line is not consistent with the background as it suggests the Patient is open to sharing emotions and maintaining a supportive environment, which does not align with Ben's characteristic avoidance of discussing the emotional toll of his work.\")], 'P1_prompt_consistency_score': 0, 'P2_prompt_consistency_score': 0.2}\n",
      "26\n"
     ]
    },
    {
     "name": "stderr",
     "output_type": "stream",
     "text": [
      "Processed prompts: 100%|████████████████████████████████████████████████████████████████████████████████████████████████████████████████████████████████| 1/1 [00:00<00:00,  1.77it/s, est. speed input: 551.88 toks/s, output: 86.95 toks/s]\n"
     ]
    },
    {
     "name": "stdout",
     "output_type": "stream",
     "text": [
      "Expected Role Therapist\n"
     ]
    },
    {
     "name": "stderr",
     "output_type": "stream",
     "text": [
      "Processed prompts: 100%|████████████████████████████████████████████████████████████████████████████████████████████████████████████████████████████████| 1/1 [00:00<00:00,  2.04it/s, est. speed input: 404.03 toks/s, output: 85.70 toks/s]\n"
     ]
    },
    {
     "name": "stdout",
     "output_type": "stream",
     "text": [
      "Expected Role Patient\n"
     ]
    },
    {
     "name": "stderr",
     "output_type": "stream",
     "text": [
      "Processed prompts: 100%|████████████████████████████████████████████████████████████████████████████████████████████████████████████████████████████████| 1/1 [00:00<00:00,  2.32it/s, est. speed input: 988.92 toks/s, output: 86.09 toks/s]\n"
     ]
    },
    {
     "name": "stdout",
     "output_type": "stream",
     "text": [
      "Expected Role Therapist\n"
     ]
    },
    {
     "name": "stderr",
     "output_type": "stream",
     "text": [
      "Processed prompts: 100%|████████████████████████████████████████████████████████████████████████████████████████████████████████████████████████████████| 1/1 [00:00<00:00,  2.45it/s, est. speed input: 699.27 toks/s, output: 85.87 toks/s]\n"
     ]
    },
    {
     "name": "stdout",
     "output_type": "stream",
     "text": [
      "Expected Role Patient\n"
     ]
    },
    {
     "name": "stderr",
     "output_type": "stream",
     "text": [
      "Processed prompts: 100%|███████████████████████████████████████████████████████████████████████████████████████████████████████████████████████████████| 1/1 [00:00<00:00,  2.32it/s, est. speed input: 1175.36 toks/s, output: 86.11 toks/s]\n"
     ]
    },
    {
     "name": "stdout",
     "output_type": "stream",
     "text": [
      "Expected Role Therapist\n"
     ]
    },
    {
     "name": "stderr",
     "output_type": "stream",
     "text": [
      "Processed prompts: 100%|███████████████████████████████████████████████████████████████████████████████████████████████████████████████████████████████| 1/1 [00:00<00:00,  2.85it/s, est. speed input: 1045.14 toks/s, output: 85.90 toks/s]\n"
     ]
    },
    {
     "name": "stdout",
     "output_type": "stream",
     "text": [
      "Expected Role Patient\n"
     ]
    },
    {
     "name": "stderr",
     "output_type": "stream",
     "text": [
      "Processed prompts: 100%|███████████████████████████████████████████████████████████████████████████████████████████████████████████████████████████████| 1/1 [00:00<00:00,  2.59it/s, est. speed input: 1506.62 toks/s, output: 85.72 toks/s]\n"
     ]
    },
    {
     "name": "stdout",
     "output_type": "stream",
     "text": [
      "Expected Role Therapist\n"
     ]
    },
    {
     "name": "stderr",
     "output_type": "stream",
     "text": [
      "Processed prompts: 100%|███████████████████████████████████████████████████████████████████████████████████████████████████████████████████████████████| 1/1 [00:00<00:00,  2.32it/s, est. speed input: 1013.29 toks/s, output: 85.97 toks/s]\n"
     ]
    },
    {
     "name": "stdout",
     "output_type": "stream",
     "text": [
      "Expected Role Patient\n"
     ]
    },
    {
     "name": "stderr",
     "output_type": "stream",
     "text": [
      "Processed prompts: 100%|███████████████████████████████████████████████████████████████████████████████████████████████████████████████████████████████| 1/1 [00:00<00:00,  2.51it/s, est. speed input: 1655.45 toks/s, output: 85.54 toks/s]\n"
     ]
    },
    {
     "name": "stdout",
     "output_type": "stream",
     "text": [
      "Expected Role Therapist\n"
     ]
    },
    {
     "name": "stderr",
     "output_type": "stream",
     "text": [
      "Processed prompts: 100%|███████████████████████████████████████████████████████████████████████████████████████████████████████████████████████████████| 1/1 [00:00<00:00,  2.58it/s, est. speed input: 1332.16 toks/s, output: 85.36 toks/s]\n"
     ]
    },
    {
     "name": "stdout",
     "output_type": "stream",
     "text": [
      "Expected Role Patient\n"
     ]
    },
    {
     "name": "stderr",
     "output_type": "stream",
     "text": [
      "Processed prompts: 100%|████████████████████████████████████████████████████████████████████████████████████████████████████████████████████████████████| 1/1 [00:00<00:00,  1.51it/s, est. speed input: 248.18 toks/s, output: 86.25 toks/s]\n",
      "Processed prompts: 100%|████████████████████████████████████████████████████████████████████████████████████████████████████████████████████████████████| 1/1 [00:00<00:00,  2.86it/s, est. speed input: 450.77 toks/s, output: 86.13 toks/s]\n",
      "Processed prompts:   0%|                                                                                                                                           | 0/1 [00:00<?, ?it/s, est. speed input: 0.00 toks/s, output: 0.00 toks/s]"
     ]
    }
   ],
   "source": [
    "prompts = config_role\n",
    "config = config_llm\n",
    "eval_prompts = eval_prompts\n",
    "index_offset = load_stats_file(write_file)\n",
    "conversations = []    \n",
    "# lengths = [10, 20, 40, 60]\n",
    "lengths = [10]\n",
    "count = 0 \n",
    "for i in range(1):\n",
    "    for patient_dict in personas_therapy:\n",
    "        count+=1\n",
    "        print(count)\n",
    "        background = patient_dict[\"persona\"]\n",
    "        for convo_length in lengths:\n",
    "            config_llm['convo_length_limit'] = convo_length\n",
    "            reset_stats()\n",
    "            conversation = generate_conversation(\n",
    "                config_llm,\n",
    "                \"\", \n",
    "                background,\n",
    "                \"Therapist\", \n",
    "                \"Patient\",\n",
    "                pturn=1\n",
    "            )\n",
    "            conversation_eval = eval_prompt_consistency(conversation, both_agents=False)\n",
    "\n",
    "            print(conversation_eval)\n",
    "            conversations.append(conversation_eval)\n",
    "            stats['index'] = index_offset\n",
    "            stats['timestamp'] = datetime.now().strftime(\"%Y-%m-%d %H:%M:%S\")\n",
    "            write_stats(write_file, conversation_eval)\n",
    "            index_offset += 1\n",
    "\n"
   ]
  },
  {
   "cell_type": "code",
   "execution_count": null,
   "metadata": {},
   "outputs": [],
   "source": [
    "len(conversations)"
   ]
  },
  {
   "cell_type": "code",
   "execution_count": null,
   "metadata": {},
   "outputs": [],
   "source": [
    "conversations"
   ]
  },
  {
   "cell_type": "code",
   "execution_count": null,
   "metadata": {},
   "outputs": [],
   "source": [
    "count=0\n",
    "avg = 0 \n",
    "for conversation in conversations: \n",
    "    if conversation[\"P2_prompt_consistency_score\"] <= 0.8:\n",
    "        count+=1\n",
    "    avg+=conversation[\"P2_prompt_consistency_score\"]\n",
    "print(count)\n",
    "print(avg)\n",
    "print(avg/len(conversations))"
   ]
  },
  {
   "cell_type": "code",
   "execution_count": null,
   "metadata": {},
   "outputs": [],
   "source": [
    "write_file"
   ]
  },
  {
   "cell_type": "code",
   "execution_count": null,
   "metadata": {},
   "outputs": [],
   "source": []
  },
  {
   "cell_type": "code",
   "execution_count": null,
   "metadata": {},
   "outputs": [],
   "source": []
  },
  {
   "cell_type": "code",
   "execution_count": null,
   "metadata": {},
   "outputs": [],
   "source": []
  }
 ],
 "metadata": {
  "kernelspec": {
   "display_name": "Python 3 (ipykernel)",
   "language": "python",
   "name": "python3"
  },
  "language_info": {
   "codemirror_mode": {
    "name": "ipython",
    "version": 3
   },
   "file_extension": ".py",
   "mimetype": "text/x-python",
   "name": "python",
   "nbconvert_exporter": "python",
   "pygments_lexer": "ipython3",
   "version": "3.12.3"
  }
 },
 "nbformat": 4,
 "nbformat_minor": 4
}
