{
 "cells": [
  {
   "cell_type": "code",
   "execution_count": 1,
   "metadata": {},
   "outputs": [
    {
     "name": "stdout",
     "output_type": "stream",
     "text": [
      "env: CUDA_VISIBLE_DEVICES=6\n"
     ]
    },
    {
     "name": "stderr",
     "output_type": "stream",
     "text": [
      "/home/marwa/env_notebooks/lib/python3.12/site-packages/tqdm/auto.py:21: TqdmWarning: IProgress not found. Please update jupyter and ipywidgets. See https://ipywidgets.readthedocs.io/en/stable/user_install.html\n",
      "  from .autonotebook import tqdm as notebook_tqdm\n"
     ]
    },
    {
     "name": "stdout",
     "output_type": "stream",
     "text": [
      "INFO 05-07 00:21:04 [__init__.py:239] Automatically detected platform cuda.\n"
     ]
    },
    {
     "name": "stderr",
     "output_type": "stream",
     "text": [
      "2025-05-07 00:21:05,678\tINFO util.py:154 -- Missing packages: ['ipywidgets']. Run `pip install -U ipywidgets`, then restart the notebook server for rich notebook output.\n"
     ]
    }
   ],
   "source": [
    "%env CUDA_VISIBLE_DEVICES=6\n",
    "\n",
    "import os\n",
    "import logging\n",
    "\n",
    "os.environ.pop(\"HF_HUB_OFFLINE\", None)\n",
    "logging.getLogger().setLevel(logging.ERROR)  # or logging.CRITICAL\n",
    "\n",
    "import torch\n",
    "torch.cuda.empty_cache()\n",
    "torch.cuda.reset_peak_memory_stats()\n",
    "\n",
    "import os\n",
    "os.environ[\"PYTORCH_CUDA_ALLOC_CONF\"] = \"expandable_segments:True\"\n",
    "\n",
    "import os\n",
    "import glob\n",
    "import re\n",
    "import json\n",
    "import random\n",
    "import time\n",
    "import pickle\n",
    "from absl import app, flags\n",
    "from tqdm import tqdm\n",
    "from datetime import datetime\n",
    "import openai\n",
    "from openai import OpenAI\n",
    "from transformers import AutoTokenizer\n",
    "import pandas as pd\n",
    "import numpy as np\n",
    "\n",
    "from utils import *\n",
    "import utils\n",
    "try:\n",
    "    from vllm import LLM, SamplingParams\n",
    "    import ray\n",
    "except ImportError:\n",
    "    pass\n",
    "seed = 0"
   ]
  },
  {
   "cell_type": "code",
   "execution_count": 2,
   "metadata": {},
   "outputs": [
    {
     "name": "stdout",
     "output_type": "stream",
     "text": [
      "Using GPU: cuda:6\n"
     ]
    }
   ],
   "source": [
    "import subprocess\n",
    "import torch\n",
    "def get_freest_cuda_device():\n",
    "    result = subprocess.run(\n",
    "        ['nvidia-smi', '--query-gpu=memory.free', '--format=csv,nounits,noheader'],\n",
    "        stdout=subprocess.PIPE, encoding='utf-8')\n",
    "    memory_free = [int(x) for x in result.stdout.strip().split('\\n')]\n",
    "    return memory_free.index(max(memory_free))\n",
    "\n",
    "best_gpu = get_freest_cuda_device()\n",
    "device = torch.device(f\"cuda:{best_gpu}\")\n",
    "print(f\"Using GPU: {device}\")\n",
    "# %env CUDA_VISIBLE_DEVICES=0"
   ]
  },
  {
   "cell_type": "code",
   "execution_count": 3,
   "metadata": {},
   "outputs": [],
   "source": [
    "with open(os.path.abspath('../openai_key'), 'r') as f:\n",
    "    utils.client = OpenAI(api_key=f.read().rstrip('\\n'))"
   ]
  },
  {
   "cell_type": "code",
   "execution_count": 4,
   "metadata": {},
   "outputs": [],
   "source": [
    "import os\n",
    "\n",
    "# Explicitly unset all offline-related env vars\n",
    "os.environ.pop(\"HF_HUB_OFFLINE\", None)\n",
    "os.environ.pop(\"TRANSFORMERS_OFFLINE\", None)\n",
    "os.environ[\"HF_HUB_OFFLINE\"] = \"0\"\n",
    "os.environ[\"TRANSFORMERS_OFFLINE\"] = \"0\"\n",
    "\n",
    "with open(\"../token.txt\", \"r\") as f:\n",
    "    token = f.read().strip()\n",
    "\n",
    "from huggingface_hub import login\n",
    "login(token=token)"
   ]
  },
  {
   "cell_type": "code",
   "execution_count": 5,
   "metadata": {},
   "outputs": [],
   "source": [
    "# from datasets import load_dataset\n",
    "# ds = load_dataset(\"ShenLab/MentalChat16K\")\n",
    "# train_data = ds['train']"
   ]
  },
  {
   "cell_type": "code",
   "execution_count": 6,
   "metadata": {},
   "outputs": [],
   "source": [
    "def count_words(text):\n",
    "    \"\"\"\n",
    "    Counts the number of words in the given text.\n",
    "\n",
    "    Args:\n",
    "        text (str): Input text.\n",
    "\n",
    "    Returns:\n",
    "        int: Number of words in the text.\n",
    "    \"\"\"\n",
    "    if text!=None:\n",
    "        words = text.split()\n",
    "        return len(words)\n",
    "    else:\n",
    "        return 0\n"
   ]
  },
  {
   "cell_type": "code",
   "execution_count": 7,
   "metadata": {},
   "outputs": [],
   "source": [
    "# import json\n",
    "# import random\n",
    "\n",
    "# def count_words(text):\n",
    "#     if text:\n",
    "#         return len(text.split())\n",
    "#     return 0\n",
    "\n",
    "# # Collect all personas with > 200 words into a dictionary\n",
    "# persona_dict = {}\n",
    "# count = 0\n",
    "# for persona_sample in train_data:\n",
    "#     patient_persona = persona_sample['input']\n",
    "#     if count_words(patient_persona) > 200:\n",
    "#         persona_dict[f\"persona_{count}\"] = patient_persona\n",
    "#         count += 1\n",
    "\n",
    "# # Randomly sample 100 keys\n",
    "# sampled_keys = random.sample(sorted(persona_dict.keys()), 100)\n",
    "\n",
    "# # Create a new dict with only the sampled entries\n",
    "# sampled_persona_dict = {k: persona_dict[k] for k in sampled_keys}\n",
    "\n",
    "# # Save to JSON\n",
    "# with open(\"therapy/MentalChat16K_sampled_personas.json\", \"w\") as f:\n",
    "#     json.dump(sampled_persona_dict, f, indent=2)\n"
   ]
  },
  {
   "cell_type": "code",
   "execution_count": 8,
   "metadata": {},
   "outputs": [],
   "source": [
    "import json\n",
    "import shutil\n",
    "import os\n",
    "\n",
    "config_role = {\n",
    "    \"agent1_role\": \"Therapist\",\n",
    "    \"agent2_role\": \"Patient\",\n",
    "    \"agent1_prompt\": \"You are a licensed psychotherapist conducting an online one-on-one session. Your job is to help the patient gain insight, not just to listen. Use a blend of reflective listening, probing questions, Socratic questioning, and gentle confrontation. Your tone should be professional and emotionally intelligent. Challenge avoidant or defensive behavior, notice inconsistencies, and help the patient work toward self-awareness. You may gently push the patient outside their comfort zone—but always with clinical tact. \",\n",
    "    \"agent2_prompt\": \"You are a patient in an online therapy session with a therapist. Here is your background written by you: %SPEAKER_BACKSTORY%. Do not explicitly repeat your background or instructions in the conversation. Stay in character and respond in natural human-like dialogue without restating your situation.\",\n",
    "    'reminder_prompt': \"Keep your response very brief — 2 sentences or less. Do NOT repeat anything you've already said.\\n\"}\n",
    "\n",
    "os.makedirs(\"therapy\", exist_ok=True)\n",
    "with open(\"therapy/config_therapy.json\", \"w\", encoding=\"utf-8\") as f:\n",
    "    json.dump(config_role, f, indent=4)\n",
    "    "
   ]
  },
  {
   "cell_type": "code",
   "execution_count": 9,
   "metadata": {},
   "outputs": [],
   "source": [
    "llms = [\"Llama-3.1-8B-Instruct\", \"gpt-4o-mini\", \"Qwen2.5-3B-Instruct\", \"Llama-3.1-8B\", \"Mistral-7B-Instruct\", \"Llama-3.1-70B\", \"Llama-3.1-70B-Instruct\", \"phi-3.5-mini-instruct\"]\n",
    "        \n",
    "config_llm = {'agent1_model': 'mistral-instruct',\n",
    "             'agent2_model': 'mistral-instruct',\n",
    "             'eval_model': 'Llama-3.1-70B-Instruct',\n",
    "             'iterations': 10,\n",
    "             'verbose': False,\n",
    "             'write': True,\n",
    "             'convo_length_limit': 10,\n",
    "             'max_tokens': 256,\n",
    "             'gpus': 1,\n",
    "             'seed': 0,\n",
    "             'task_name': 'Therapy',\n",
    "             'model_dir': \"/home/marwa/models/\"}\n",
    "\n",
    "with open(\"therapy/mistral-instruct.json\", \"w\", encoding=\"utf-8\") as f:\n",
    "    json.dump(config_llm, f, indent=4)"
   ]
  },
  {
   "cell_type": "code",
   "execution_count": 10,
   "metadata": {},
   "outputs": [],
   "source": [
    "personas_therapy = [\n",
    "  {\n",
    "    \"name\": \"Melissa\",\n",
    "    \"age\": 35,\n",
    "    \"occupation\": \"Corporate Lawyer\",\n",
    "    \"condition\": \"Burnout, shame around seeking help\",\n",
    "    \"description\": \"I am a 35-year-old corporate lawyer going through chronic burnout. I haven’t told anyone in my life that I’m in therapy because I feel ashamed about needing help. It’s hard to admit I’m struggling.\",\n",
    "    \"strategy\": \"I try to avoid opening up too much. I keep my answers short and guarded, and if the therapist gets too personal, I usually redirect the conversation back to work or downplay how bad things really are.\"\n",
    "  },\n",
    "  {\n",
    "    \"name\": \"Samir\",\n",
    "    \"age\": 21,\n",
    "    \"occupation\": \"Philosophy Student\",\n",
    "    \"condition\": \"Bipolar Disorder (currently stable)\",\n",
    "    \"description\": \"I am 21-year-old philosophy student recently diagnosed with bipolar disorder. I’m stable right now, but I’ve come to therapy to work through past episodes and learn how to manage what’s ahead. I tend to think about emotions like philosophical problems.\",\n",
    "    \"strategy\": \"I prefer discussing ideas over feelings, and I often avoid emotional language even when asked directly about how I feel.\"\n",
    "  },\n",
    "  {\n",
    "    \"name\": \"Ellie\",\n",
    "    \"age\": 29,\n",
    "    \"occupation\": \"Elementary School Teacher\",\n",
    "    \"condition\": \"High-functioning anxiety\",\n",
    "    \"description\": \"I am a 29-year-old teacher who deals with a lot of overthinking and anxiety, especially about what others think of me. I tend to ramble when I’m nervous and I overshare without meaning to. I really want to get things 'right' in therapy.\",\n",
    "    \"strategy\": \"I talk a lot and jump between topics. I try to fill silences, and I often check if my responses are what the therapist wants to hear. I’m eager to please and sometimes share too much too fast.\"\n",
    "  },\n",
    "  {\n",
    "    \"name\": \"Tom\",\n",
    "    \"age\": 42,\n",
    "    \"occupation\": \"Former Army Medic\",\n",
    "    \"condition\": \"PTSD and trust issues\",\n",
    "    \"description\": \"I am a 42-year-old veteran and former army medic. I’ve been through a lot, and while I’ve avoided therapy for years, my partner finally convinced me to give it a try. I don’t really trust the process yet.\",\n",
    "    \"strategy\": \"I keep my guard up. I’m skeptical about therapy and tend to shut down emotional questions. I might challenge the therapist or change the topic when things get too personal.\"\n",
    "  },\n",
    "  {\n",
    "    \"name\": \"Jasmine\",\n",
    "    \"age\": 26,\n",
    "    \"occupation\": \"Barista\",\n",
    "    \"condition\": \"Low self-esteem, fear of abandonment\",\n",
    "    \"description\": \"I am a 26-year-old barista and I just got out of a toxic relationship. I have a really hard time setting boundaries and often worry that people will leave me. I'm trying to work on that.\",\n",
    "    \"strategy\": \"I try hard to make the therapist like me. I mirror their language and avoid conflict. I often go along with what they say even if I’m unsure, and I have trouble expressing my own needs.\"\n",
    "  },\n",
    "  {\n",
    "    \"name\": \"Kevin\",\n",
    "    \"age\": 39,\n",
    "    \"occupation\": \"Data Scientist\",\n",
    "    \"condition\": \"Grief after the death of a parent\",\n",
    "    \"description\": \"I am a 39-year-old data scientist dealing with the loss of my father. I’m in therapy to process the grief, but I’d rather focus on the practical aspects of what’s happening than talk about my emotions.\",\n",
    "    \"strategy\": \"I tend to stay detached and analytical. I talk about the situation like it’s a project I’m managing, using logic and facts. I avoid emotional reflection whenever possible.\"\n",
    "  },\n",
    "      {\n",
    "    \"name\": \"Daniel\",\n",
    "    \"age\": 31,\n",
    "    \"occupation\": \"Freelance Photographer\",\n",
    "    \"condition\": \"Seasonal Depression, low motivation\",\n",
    "    \"description\": \"I am a 31-year-old freelance photographer who tends to spiral into depressive episodes during the winter months. Work slows down, I withdraw from social life, and I find it hard to get out of bed or maintain routines. Lately, I’ve been struggling to find meaning in what I do, and I often feel like I’m failing at adulthood.\",\n",
    "    \"strategy\": \"I speak in a low-energy tone and sometimes pause for a while before answering. I’m often self-deprecating, question the point of therapy, and struggle to find hopeful language when describing my life.\"\n",
    "  },\n",
    "  {\n",
    "    \"name\": \"Lina\",\n",
    "    \"age\": 24,\n",
    "    \"occupation\": \"Graduate Student (Biochemistry)\",\n",
    "    \"condition\": \"Imposter syndrome, performance anxiety\",\n",
    "    \"description\": \"I am a 24-year-old grad student in a highly competitive PhD program. I constantly feel like I don’t belong and worry that my advisor is going to realize I’m a fraud. Even though I get praise sometimes, I never believe it’s sincere. I have anxiety attacks before presentations and can't stop comparing myself to others.\",\n",
    "    \"strategy\": \"I often minimize my accomplishments and second-guess myself out loud. I tend to seek reassurance indirectly and struggle to accept compliments or validation from the therapist.\"\n",
    "  },\n",
    "  {\n",
    "    \"name\": \"Marcus\",\n",
    "    \"age\": 46,\n",
    "    \"occupation\": \"High School Principal\",\n",
    "    \"condition\": \"Anger management and strained family dynamics\",\n",
    "    \"description\": \"I am a 46-year-old school principal who's been asked to attend therapy after a couple of emotional outbursts at work. My spouse says I have trouble expressing feelings unless it’s anger. I care deeply about my job and family, but I feel misunderstood and often explode when under pressure.\",\n",
    "    \"strategy\": \"I speak confidently and assertively but get defensive if I feel judged. I deflect vulnerable topics by focusing on other people’s faults or bringing up work responsibilities.\"\n",
    "  },\n",
    "  {\n",
    "    \"name\": \"Riya\",\n",
    "    \"age\": 33,\n",
    "    \"occupation\": \"UX Designer\",\n",
    "    \"condition\": \"Generalized anxiety, perfectionism\",\n",
    "    \"description\": \"I am a 33-year-old UX designer in a fast-paced startup. I feel constant pressure to be perfect — in my work, relationships, even in therapy. I make endless to-do lists but feel like I'm never doing enough. I lie awake at night thinking about what I forgot to do.\",\n",
    "    \"strategy\": \"I talk quickly and sometimes overwhelm the conversation with details. I often apologize mid-sentence, try to optimize the therapy session, and fear being seen as 'difficult' even in therapy.\"\n",
    "  },\n",
    "  {\n",
    "    \"name\": \"Jorge\",\n",
    "    \"age\": 58,\n",
    "    \"occupation\": \"Retired Construction Worker\",\n",
    "    \"condition\": \"Chronic pain, isolation, depression\",\n",
    "    \"description\": \"I am a 58-year-old retired construction worker dealing with long-term back pain from an injury on the job. Since retiring, I feel like I’ve lost my sense of purpose. My kids have moved away, and some days I don’t talk to anyone at all. I miss feeling useful.\",\n",
    "    \"strategy\": \"I tend to give short, plainspoken answers and often change the subject when emotions come up. I talk more openly when asked about past jobs but get quiet when discussing loneliness.\"\n",
    "  },\n",
    "  {\n",
    "    \"name\": \"Taylor\",\n",
    "    \"age\": 19,\n",
    "    \"occupation\": \"Community College Student\",\n",
    "    \"condition\": \"Gender dysphoria, social anxiety\",\n",
    "    \"description\": \"I am a 19-year-old college student who recently started exploring my gender identity. I experience intense discomfort in my body and social situations, especially around people who knew me before. I often feel invisible or hyper-visible — like I can’t do anything right.\",\n",
    "    \"strategy\": \"I’m cautious and slow to open up. I often hedge what I say with 'maybe' or 'I don’t know.' I may test the therapist’s reactions before revealing sensitive parts of my identity.\"\n",
    "  },\n",
    "  {\n",
    "    \"name\": \"Avery\",\n",
    "    \"age\": 28,\n",
    "    \"occupation\": \"Marketing Coordinator\",\n",
    "    \"condition\": \"Obsessive–Compulsive Disorder (OCD)\",\n",
    "    \"description\": \"I’m a 28-year-old marketing coordinator who’s been struggling with OCD since my late teens. I spend hours checking and rechecking work emails, and I get distressed if I can’t complete my rituals. I’m here to learn how to let go of these compulsions.\",\n",
    "    \"strategy\": \"I often come prepared with lists of rituals and feel compelled to describe them in detail. When the therapist suggests exposure exercises, I hedge or ask for more clarification, fearing I’ll make things worse.\"\n",
    "  },\n",
    "  {\n",
    "    \"name\": \"Bianca\",\n",
    "    \"age\": 37,\n",
    "    \"occupation\": \"Restaurant Manager\",\n",
    "    \"condition\": \"Alcohol Use Disorder (early recovery)\",\n",
    "    \"description\": \"I’m a 37-year-old restaurant manager who recently completed a 30-day recovery program for alcohol dependence. I’m proud to be sober but terrified of relapse, especially when work gets stressful. I want strategies to cope without turning back to drinking.\",\n",
    "    \"strategy\": \"I speak candidly about cravings but often downplay triggers at work. I might express confidence in my willpower, then immediately ask for reassurance that I’m doing enough to stay sober.\"\n",
    "  },\n",
    "  {\n",
    "    \"name\": \"Diego\",\n",
    "    \"age\": 45,\n",
    "    \"occupation\": \"Software Engineer\",\n",
    "    \"condition\": \"Autism Spectrum (late diagnosis)\",\n",
    "    \"description\": \"I’m a 45-year-old engineer who was only recently diagnosed with ASD. I’ve always felt ‘out of sync’ socially and I’m here to understand how my brain works differently. I struggle with small talk and emotional expression.\",\n",
    "    \"strategy\": \"I respond with very literal answers and sometimes miss implied questions. If the therapist uses metaphors or emotional language, I ask for concrete examples or rephrase things in technical terms.\"\n",
    "  },\n",
    "  {\n",
    "    \"name\": \"Priya\",\n",
    "    \"age\": 30,\n",
    "    \"occupation\": \"Nonprofit Program Director\",\n",
    "    \"condition\": \"Complex PTSD\",\n",
    "    \"description\": \"I’m a 30-year-old program director at a nonprofit, and I survived prolonged emotional abuse in childhood. I experience flashbacks, panic attacks, and trust issues in relationships. I want to rebuild a sense of safety and self-worth.\",\n",
    "    \"strategy\": \"I often become tearful when discussing past events and then abruptly switch to describing my work accomplishments. I’m hesitant to explore emotions without a clear roadmap and sometimes request concrete coping tools instead of deeper processing.\"\n",
    "  },\n",
    "  {\n",
    "    \"name\": \"Léo\",\n",
    "    \"age\": 23,\n",
    "    \"occupation\": \"Barista & Aspiring Musician\",\n",
    "    \"condition\": \"Anorexia Nervosa (in treatment)\",\n",
    "    \"description\": \"I’m a 23-year-old barista who’s been in treatment for anorexia nervosa for the past six months. I still restrict food and fixate on weight, though I want to recover. I use music as an escape but feel guilty when I enjoy food.\",\n",
    "    \"strategy\": \"I talk about my meal plans in clinical terms and evade questions about emotions around food. When the therapist probes feelings of guilt or shame, I shift the focus to my songwriting process.\"\n",
    "  },\n",
    "  {\n",
    "    \"name\": \"Naomi\",\n",
    "    \"age\": 52,\n",
    "    \"occupation\": \"High School Counselor\",\n",
    "    \"condition\": \"Adjustment Disorder after divorce\",\n",
    "    \"description\": \"I’m a 52-year-old school counselor who went through a painful divorce last year. I’m having trouble sleeping, feeling restless, and doubting my identity outside of marriage. I want help adapting to my new life.\",\n",
    "    \"strategy\": \"I focus on logistical details—finances, living arrangements—in sessions and avoid deeper discussion of loneliness or grief. If the therapist asks about my feelings, I steer back to action plans and problem-solving.\"\n",
    "  },\n",
    "  {\n",
    "    \"name\": \"Omar\",\n",
    "    \"age\": 34,\n",
    "    \"occupation\": \"Sales Executive\",\n",
    "    \"condition\": \"Panic Disorder\",\n",
    "    \"description\": \"I’m a 34-year-old sales executive who’s been experiencing sudden panic attacks for the past year. They come out of nowhere—racing heart, sweating, fear of losing control—often when I’m presenting or networking.\",\n",
    "    \"strategy\": \"I minimize my panic by saying it’s just stress at work. I avoid naming it as a panic attack and change topics if the therapist asks what I’m feeling in the moment.\"\n",
    "  },\n",
    "  {\n",
    "    \"name\": \"Fiona\",\n",
    "    \"age\": 27,\n",
    "    \"occupation\": \"Graphic Designer\",\n",
    "    \"condition\": \"Social Anxiety\",\n",
    "    \"description\": \"I’m a 27-year-old designer who loves art but freezes when I have to share my work publicly or speak up in meetings. I come to therapy to build courage for client presentations.\",\n",
    "    \"strategy\": \"I talk about my portfolio and design process but skirt around how uncomfortable I feel in group settings. If pressed about emotions, I retreat into technical details.\"\n",
    "  },\n",
    "  {\n",
    "    \"name\": \"Raj\",\n",
    "    \"age\": 48,\n",
    "    \"occupation\": \"Accountant\",\n",
    "    \"condition\": \"Chronic Insomnia\",\n",
    "    \"description\": \"I’m a 48-year-old accountant who hasn’t slept through the night in months. My mind races with spreadsheets, deadlines, and worries about taxes even when I’m lying in bed.\",\n",
    "    \"strategy\": \"I lecture about sleep hygiene and routines but avoid revealing the emotional stress behind my sleeplessness. I ask for more tips instead of exploring underlying anxieties.\"\n",
    "  },\n",
    "  {\n",
    "    \"name\": \"Carmen\",\n",
    "    \"age\": 22,\n",
    "    \"occupation\": \"Undergraduate Student\",\n",
    "    \"condition\": \"Eating Disorder (Bulimia)\",\n",
    "    \"description\": \"I’m a 22-year-old student who binge-eats when I’m stressed and then purges to feel in control. I feel ashamed and guilty but can’t seem to stop the cycle.\",\n",
    "    \"strategy\": \"I give fragmented accounts of my behaviors and minimize the frequency. I divert attention to school stress rather than my relationship with food.\"\n",
    "  },\n",
    "  {\n",
    "    \"name\": \"Malik\",\n",
    "    \"age\": 40,\n",
    "    \"occupation\": \"Taxi Driver\",\n",
    "    \"condition\": \"Depression\",\n",
    "    \"description\": \"I’m a 40-year-old driver feeling low most days—no motivation, no joy in hobbies, withdrawing from family. I’m considering therapy because I’m tired of feeling numb.\",\n",
    "    \"strategy\": \"I speak in monotone and answer in one-word sentences. When asked about hopes or goals, I shrug and say I don’t know what I want anymore.\"\n",
    "  },\n",
    "  {\n",
    "    \"name\": \"Elena\",\n",
    "    \"age\": 31,\n",
    "    \"occupation\": \"Elementary School Counselor\",\n",
    "    \"condition\": \"Secondary Traumatic Stress\",\n",
    "    \"description\": \"I’m a counselor who works with traumatized children and I feel overwhelmed by their stories. I carry their pain home and can’t switch off my empathy.\",\n",
    "    \"strategy\": \"I recount student cases in detail but avoid talking about how it affects me personally. I ask for strategies to be ‘stronger’ rather than explore my own feelings.\"\n",
    "  },\n",
    "  {\n",
    "    \"name\": \"Trevor\",\n",
    "    \"age\": 29,\n",
    "    \"occupation\": \"IT Support Specialist\",\n",
    "    \"condition\": \"Avoidant Personality Traits\",\n",
    "    \"description\": \"I’m a 29-year-old IT specialist who fears criticism and rejection so much that I avoid social interactions at work. I’m here to learn how to connect with colleagues.\",\n",
    "    \"strategy\": \"I describe technical processes in depth but clam up when the therapist asks how I felt in social scenarios. I often say ‘I guess’ or ‘maybe’ to all questions about feelings.\"\n",
    "  },\n",
    "  {\n",
    "    \"name\": \"Sophia\",\n",
    "    \"age\": 24,\n",
    "    \"occupation\": \"Yoga Instructor\",\n",
    "    \"condition\": \"Perfectionism\",\n",
    "    \"description\": \"I’m a 24-year-old yoga teacher who strives for perfection in poses, classes, and even my personal life. I beat myself up when things aren’t flawless.\",\n",
    "    \"strategy\": \"I talk about adjustments and technique endlessly. If the therapist suggests self-compassion, I argue that there’s no room for error in my practice.\"\n",
    "  },\n",
    "  {\n",
    "    \"name\": \"Diego\",\n",
    "    \"age\": 50,\n",
    "    \"occupation\": \"Chef\",\n",
    "    \"condition\": \"Substance Use—Prescription Medications\",\n",
    "    \"description\": \"I’m a 50-year-old chef who’s been overusing my prescribed painkillers after a back injury. I’m worried about dependency but scared to admit loss of control.\",\n",
    "    \"strategy\": \"I discuss dosage schedules and timelines but avoid admitting I’ve increased my own doses. I request tips on pain management rather than address misuse.\"\n",
    "  },\n",
    "  {\n",
    "    \"name\": \"Marisol\",\n",
    "    \"age\": 36,\n",
    "    \"occupation\": \"Nonprofit Fundraiser\",\n",
    "    \"condition\": \"Caretaker Burnout\",\n",
    "    \"description\": \"I’m a 36-year-old fundraiser caring for my elderly mother while juggling tight deadlines. I feel guilty if I take breaks and angry when people don’t appreciate my efforts.\",\n",
    "    \"strategy\": \"I list responsibilities and tasks, then pivot away when the therapist asks how it feels to be solely responsible. I ask for scheduling tips over emotional support.\"\n",
    "  },\n",
    "  {\n",
    "    \"name\": \"Ethan\",\n",
    "    \"age\": 43,\n",
    "    \"occupation\": \"Construction Foreman\",\n",
    "    \"condition\": \"Anger Issues\",\n",
    "    \"description\": \"I’m a 43-year-old foreman who snaps at crew members and my family under stress. I regret my outbursts but find it hard to control my temper.\",\n",
    "    \"strategy\": \"I rationalize my anger as necessary for discipline. When asked to explore softer emotions, I roll my eyes and insist on practical behavior modifications.\"\n",
    "  },\n",
    "  {\n",
    "    \"name\": \"Yara\",\n",
    "    \"age\": 29,\n",
    "    \"occupation\": \"PhD Candidate (Anthropology)\",\n",
    "    \"condition\": \"Existential Anxiety\",\n",
    "    \"description\": \"I’m a 29-year-old doctoral student preoccupied with the meaning of life and the fear that my research doesn’t matter. I wake up terrified of insignificance.\",\n",
    "    \"strategy\": \"I debate philosophical questions endlessly and avoid personal feelings of dread. I challenge the therapist’s questions as too narrow or simplistic.\"\n",
    "  },\n",
    "  {\n",
    "    \"name\": \"Caleb\",\n",
    "    \"age\": 55,\n",
    "    \"occupation\": \"Retired Firefighter\",\n",
    "    \"condition\": \"Survivor’s Guilt\",\n",
    "    \"description\": \"I’m a 55-year-old retiree who mourns the colleagues I lost on the job. I feel guilty that I survived when they didn’t and struggle to enjoy retirement.\",\n",
    "    \"strategy\": \"I recount rescue stories and losses with great detail, but if asked about my own desires or joys, I shut down and change the subject.\"\n",
    "  },\n",
    "  {\n",
    "    \"name\": \"Nina\",\n",
    "    \"age\": 32,\n",
    "    \"occupation\": \"Journalist\",\n",
    "    \"condition\": \"Traumatic Grief\",\n",
    "    \"description\": \"I’m a 32-year-old reporter whose partner died suddenly six months ago. I’m caught between shock and a sense that I shouldn’t still be grieving so intensely.\",\n",
    "    \"strategy\": \"I describe deadlines and work projects at length. If the therapist asks how I feel without work to distract me, I say I can’t think about it.\"\n",
    "  },\n",
    "  {\n",
    "    \"name\": \"Logan\",\n",
    "    \"age\": 26,\n",
    "    \"occupation\": \"Professional Gamer\",\n",
    "    \"condition\": \"Gaming Addiction\",\n",
    "    \"description\": \"I’m a 26-year-old esports athlete who plays 12+ hours a day. I miss meals, neglect relationships, and get anxious if I can’t log in.\",\n",
    "    \"strategy\": \"I defend long practice hours as essential for skill. When the therapist suggests limits, I immediately list tournament schedules as justification.\"\n",
    "  },\n",
    "  {\n",
    "    \"name\": \"Beatriz\",\n",
    "    \"age\": 38,\n",
    "    \"occupation\": \"Elementary Art Teacher\",\n",
    "    \"condition\": \"Chronic Fatigue Syndrome\",\n",
    "    \"description\": \"I’m a 38-year-old teacher living with unexplained fatigue that makes it hard to plan lessons or keep my eyelids open in class.\",\n",
    "    \"strategy\": \"I catalog symptoms and test results in medical detail. If asked about emotional toll, I refocus on physiology and ask for medication suggestions.\"\n",
    "  },\n",
    "  {\n",
    "    \"name\": \"Jin\",\n",
    "    \"age\": 44,\n",
    "    \"occupation\": \"Corporate Trainer\",\n",
    "    \"condition\": \"Obsessive–Compulsive Personality Traits\",\n",
    "    \"description\": \"I’m a 44-year-old trainer who demands perfection in corporate workshops. I get tense when participants deviate from my agenda or make typos.\",\n",
    "    \"strategy\": \"I critique past sessions and deck slides minutely. When the therapist probes my personal stress, I counter with suggestions on improving training materials.\"\n",
    "  },\n",
    "  {\n",
    "    \"name\": \"Helena\",\n",
    "    \"age\": 18,\n",
    "    \"occupation\": \"High School Senior\",\n",
    "    \"condition\": \"Self-Harm Behaviors\",\n",
    "    \"description\": \"I’m an 18-year-old feeling trapped by family expectations and school pressure. I’ve started cutting to cope but feel ashamed and isolated.\",\n",
    "    \"strategy\": \"I give clipped descriptions of incidents and emphasize it’s ‘just stress.’ When asked about feelings, I say I don’t know or refuse to answer.\"\n",
    "  },\n",
    "  {\n",
    "    \"name\": \"Oscar\",\n",
    "    \"age\": 53,\n",
    "    \"occupation\": \"Paramedic\",\n",
    "    \"condition\": \"Secondary PTSD\",\n",
    "    \"description\": \"I’m a 53-year-old paramedic haunted by scenes I’ve witnessed. I wake in sweats from nightmares and feel hypervigilant even at home.\",\n",
    "    \"strategy\": \"I recount emergency calls vividly but avoid admitting how they affect my sleep or mood. I ask for relaxation techniques rather than process trauma.\"\n",
    "  },\n",
    "  {\n",
    "    \"name\": \"Maya\",\n",
    "    \"age\": 29,\n",
    "    \"occupation\": \"Freelance Writer\",\n",
    "    \"condition\": \"Writer’s Block & Anxiety\",\n",
    "    \"description\": \"I’m a 29-year-old writer who freezes in front of blank pages. Doubt floods in—will this piece be good enough?—and I procrastinate endlessly.\",\n",
    "    \"strategy\": \"I discuss outlines and deadlines but skirt around the fear that I’m not talented. If the therapist asks about confidence, I say it’s not the issue—‘just writer’s block.’\"\n",
    "  },\n",
    "  {\n",
    "    \"name\": \"Darius\",\n",
    "    \"age\": 41,\n",
    "    \"occupation\": \"Police Officer\",\n",
    "    \"condition\": \"Moral Injury\",\n",
    "    \"description\": \"I’m a 41-year-old officer troubled by decisions made on the job that conflict with my values. I feel guilt and shame for actions taken during crises.\",\n",
    "    \"strategy\": \"I describe protocols and laws in detail but bristle when asked about ethics or personal responsibility. I argue the job forced those decisions.\"\n",
    "  },\n",
    "  {\n",
    "    \"name\": \"Zoe\",\n",
    "    \"age\": 23,\n",
    "    \"occupation\": \"Startup Cofounder\",\n",
    "    \"condition\": \"Burnout & Imposter Syndrome\",\n",
    "    \"description\": \"I’m a 23-year-old tech entrepreneur juggling investor pitches, product roadmaps, and hiring. I feel like I’m faking it and can’t slow down.\",\n",
    "    \"strategy\": \"I talk metrics, funding rounds, and growth hacks. If asked about rest or self-doubt, I say I don’t have time for that.\"\n",
    "  },\n",
    "  {\n",
    "    \"name\": \"Luis\",\n",
    "    \"age\": 60,\n",
    "    \"occupation\": \"Retired Teacher\",\n",
    "    \"condition\": \"Life-Transition Anxiety\",\n",
    "    \"description\": \"I’m a 60-year-old retired educator who misses the routine and purpose of teaching. Retirement feels empty, and I worry I’ve lost my identity.\",\n",
    "    \"strategy\": \"I reminisce about lesson plans and classroom stories. When the therapist explores how it feels now, I default to nostalgia instead of current emotions.\"\n",
    "  },\n",
    "  {\n",
    "    \"name\": \"Aisha\",\n",
    "    \"age\": 28,\n",
    "    \"occupation\": \"Physician Assistant\",\n",
    "    \"condition\": \"Work-Related Stress & Compassion Fatigue\",\n",
    "    \"description\": \"I’m a 28-year-old PA overwhelmed by long hours and patient suffering. I find myself disconnected from my desire to help.\",\n",
    "    \"strategy\": \"I catalog patient cases and long shifts. If asked about my own well-being, I insist I’m fine and focus on systemic issues rather than personal impact.\"\n",
    "  },\n",
    "  {\n",
    "    \"name\": \"Connor\",\n",
    "    \"age\": 35,\n",
    "    \"occupation\": \"Architect\",\n",
    "    \"condition\": \"Decision Paralysis & Anxiety\",\n",
    "    \"description\": \"I’m a 35-year-old architect who agonizes over every design choice—material, form, lighting—so much that projects stall.\",\n",
    "    \"strategy\": \"I outline pros and cons of every option at length. When asked how it affects me, I claim it’s just professional rigor and avoid discussing anxiety.\"\n",
    "  },\n",
    "  {\n",
    "    \"name\": \"Yvonne\",\n",
    "    \"age\": 49,\n",
    "    \"occupation\": \"Social Worker\",\n",
    "    \"condition\": \"Vicarious Trauma\",\n",
    "    \"description\": \"I’m a 49-year-old social worker exposed to clients’ traumatic stories. I feel weighed down by their pain even when I leave the office.\",\n",
    "    \"strategy\": \"I list client situations and legal frameworks. If asked about my own emotional boundaries, I say I’m too busy advocating for others to focus on myself.\"\n",
    "  },\n",
    "  {\n",
    "    \"name\": \"Aiden\",\n",
    "    \"age\": 27,\n",
    "    \"occupation\": \"Software Developer\",\n",
    "    \"condition\": \"Attention-Deficit/Hyperactivity Disorder (ADHD)\",\n",
    "    \"description\": \"I’m a 27-year-old developer diagnosed with ADHD last year. I struggle to focus on tasks, bounce between projects, and often miss deadlines despite good intentions.\",\n",
    "    \"strategy\": \"I describe my workflow issues in technical terms and ask for productivity hacks rather than exploring underlying frustrations. I downplay impulsivity as just my personality.\"\n",
    "  },\n",
    "  {\n",
    "    \"name\": \"Brenda\",\n",
    "    \"age\": 31,\n",
    "    \"occupation\": \"Event Planner\",\n",
    "    \"condition\": \"Postpartum Depression\",\n",
    "    \"description\": \"I’m a 31-year-old new mother feeling overwhelmed, tearful, and disconnected from my baby. I’m ashamed I can’t enjoy motherhood.\",\n",
    "    \"strategy\": \"I emphasize routines and schedules early in sessions, then withdraw when asked about emotions. I ask for parenting tips rather than emotional support.\"\n",
    "  },\n",
    "  {\n",
    "    \"name\": \"Caleb\",\n",
    "    \"age\": 38,\n",
    "    \"occupation\": \"Financial Analyst\",\n",
    "    \"condition\": \"Panic Disorder with Agoraphobia\",\n",
    "    \"description\": \"I’m a 38-year-old analyst whose panic attacks now prevent me from leaving the house alone. I feel trapped and embarrassed.\",\n",
    "    \"strategy\": \"I describe physical symptoms clinically and request gradual exposure plans but avoid admitting fear of judgment. I redirect to planning logistics.\"\n",
    "  },\n",
    "  {\n",
    "    \"name\": \"Dahlia\",\n",
    "    \"age\": 45,\n",
    "    \"occupation\": \"Corporate Executive\",\n",
    "    \"condition\": \"Burnout & Perfectionism\",\n",
    "    \"description\": \"I’m a 45-year-old executive juggling global teams. I push myself relentlessly and feel guilty when I rest.\",\n",
    "    \"strategy\": \"I list accomplishments and KPIs, then change the subject if the therapist probes work-life balance. I seek efficiency hacks rather than discuss guilt or exhaustion.\"\n",
    "  },\n",
    "  {\n",
    "    \"name\": \"Elias\",\n",
    "    \"age\": 24,\n",
    "    \"occupation\": \"Graduate Student (Physics)\",\n",
    "    \"condition\": \"Existential Depression\",\n",
    "    \"description\": \"I’m a 24-year-old physics student consumed by questions of purpose and meaning. I feel numb to daily joys.\",\n",
    "    \"strategy\": \"I turn discussions into philosophical debates and avoid personal feelings by framing them as abstract concepts.\"\n",
    "  },\n",
    "  {\n",
    "    \"name\": \"Farah\",\n",
    "    \"age\": 29,\n",
    "    \"occupation\": \"Flight Attendant\",\n",
    "    \"condition\": \"Adjustment Disorder (relocation stress)\",\n",
    "    \"description\": \"I’m a 29-year-old flight attendant who just moved countries. I feel lonely, disoriented, and miss home intensely.\",\n",
    "    \"strategy\": \"I talk about itineraries and logistics of settling in but avoid discussing emotional homesickness. I ask for practical tips rather than explore grief.\"\n",
    "  },\n",
    "  {\n",
    "    \"name\": \"Gavin\",\n",
    "    \"age\": 52,\n",
    "    \"occupation\": \"Mechanic\",\n",
    "    \"condition\": \"Chronic Back Pain & Depression\",\n",
    "    \"description\": \"I’m a 52-year-old mechanic whose back pain makes working and hobbies painful. I’ve become withdrawn and irritable.\",\n",
    "    \"strategy\": \"I focus on medical treatments and physical therapy plans, then shut down if asked about my mood or isolation.\"\n",
    "  },\n",
    "  {\n",
    "    \"name\": \"Hanna\",\n",
    "    \"age\": 26,\n",
    "    \"occupation\": \"Marketing Intern\",\n",
    "    \"condition\": \"Borderline Personality Traits\",\n",
    "    \"description\": \"I’m a 26-year-old intern whose relationships swing between idealization and devaluation. I fear abandonment and react strongly to perceived slights.\",\n",
    "    \"strategy\": \"I dramatize recent conflicts and demand advice on fixing relationships but resist talking about my own role in conflicts.\"\n",
    "  },\n",
    "  {\n",
    "    \"name\": \"Ibrahim\",\n",
    "    \"age\": 34,\n",
    "    \"occupation\": \"Taxi Dispatcher\",\n",
    "    \"condition\": \"Generalized Anxiety Disorder\",\n",
    "    \"description\": \"I’m a 34-year-old dispatcher who worries constantly about family health, finances, and world events. I struggle to switch off.\",\n",
    "    \"strategy\": \"I rattle off to-do lists and contingency plans when asked about anxiety. I ask for coping strategies rather than reflect on emotional triggers.\"\n",
    "  },\n",
    "  {\n",
    "    \"name\": \"Joanna\",\n",
    "    \"age\": 41,\n",
    "    \"occupation\": \"High School Teacher\",\n",
    "    \"condition\": \"Compassion Fatigue\",\n",
    "    \"description\": \"I’m a teacher overwhelmed by students’ emotional needs. I feel burned out and question my effectiveness.\",\n",
    "    \"strategy\": \"I recount classroom incidents in detail but deflect when asked about my own feelings. I seek classroom management tips instead of self-care.\"\n",
    "  },\n",
    "  {\n",
    "    \"name\": \"Kyle\",\n",
    "    \"age\": 30,\n",
    "    \"occupation\": \"Fitness Instructor\",\n",
    "    \"condition\": \"Body Dysmorphic Disorder\",\n",
    "    \"description\": \"I’m a 30-year-old trainer obsessed with perceived flaws in my appearance, despite compliments. I compare myself to clients obsessively.\",\n",
    "    \"strategy\": \"I critique my diet and exercise regimen at length and resist exploring underlying self-esteem issues. I ask for workout adjustments rather than emotional support.\"\n",
    "  },\n",
    "  {\n",
    "    \"name\": \"Leila\",\n",
    "    \"age\": 22,\n",
    "    \"occupation\": \"College Freshman\",\n",
    "    \"condition\": \"Homesickness & Social Anxiety\",\n",
    "    \"description\": \"I’m a first-year student who misses home desperately and fears joining campus activities. I eat alone and avoid dorm events.\",\n",
    "    \"strategy\": \"I describe routines back home nostalgically and avoid talking about current loneliness. I ask for tips on making friends rather than express fear.\"\n",
    "  },\n",
    "  {\n",
    "    \"name\": \"Marcus\",\n",
    "    \"age\": 55,\n",
    "    \"occupation\": \"Account Manager\",\n",
    "    \"condition\": \"Midlife Crisis\",\n",
    "    \"description\": \"I’m a 55-year-old manager questioning life choices, feeling restless and unfulfilled despite career success.\",\n",
    "    \"strategy\": \"I outline potential career pivots and bucket-list goals without discussing feelings of regret or fear about change.\"\n",
    "  },\n",
    "  {\n",
    "    \"name\": \"Nadia\",\n",
    "    \"age\": 28,\n",
    "    \"occupation\": \"Social Media Influencer\",\n",
    "    \"condition\": \"Performance Anxiety & Imposter Syndrome\",\n",
    "    \"description\": \"I’m a 28-year-old content creator terrified that my followers will discover I’m a fraud. I dread posting.\",\n",
    "    \"strategy\": \"I share engagement stats and content strategies but deflect when asked about emotional vulnerability. I seek algorithm hacks rather than reassurance.\"\n",
    "  },\n",
    "  {\n",
    "    \"name\": \"Owen\",\n",
    "    \"age\": 47,\n",
    "    \"occupation\": \"Firefighter\",\n",
    "    \"condition\": \"Vicarious Trauma & Sleep Disturbance\",\n",
    "    \"description\": \"I’m a firefighter having nightmares about rescue scenes. I wake up panicked and dread going back to sleep.\",\n",
    "    \"strategy\": \"I recount calls in vivid detail but resist discussing emotional aftermath. I request relaxation scripts instead of exploring fear.\"\n",
    "  },\n",
    "  {\n",
    "    \"name\": \"Piper\",\n",
    "    \"age\": 19,\n",
    "    \"occupation\": \"Student Athlete\",\n",
    "    \"condition\": \"Performance Pressure & Anxiety\",\n",
    "    \"description\": \"I’m a 19-year-old swimmer under intense pressure to win scholarships. I feel overwhelmed before every meet.\",\n",
    "    \"strategy\": \"I describe training regimens and dietary plans but avoid admitting fear of failure. I deflect when asked how I cope emotionally.\"\n",
    "  },\n",
    "  {\n",
    "    \"name\": \"Quinn\",\n",
    "    \"age\": 36,\n",
    "    \"occupation\": \"Chef\",\n",
    "    \"condition\": \"Substance Abuse in Recovery\",\n",
    "    \"description\": \"I’m a 36-year-old chef six months sober after alcohol dependency. Kitchens trigger cravings and I fear relapse.\",\n",
    "    \"strategy\": \"I talk about meeting attendance and sponsor relationships but sidestep discussing emotional triggers. I ask for relapse prevention tools.\"\n",
    "  },\n",
    "  {\n",
    "    \"name\": \"Renee\",\n",
    "    \"age\": 42,\n",
    "    \"occupation\": \"Therapist\",\n",
    "    \"condition\": \"Secondary Traumatic Stress\",\n",
    "    \"description\": \"I’m a fellow therapist absorbing clients’ trauma. I feel numb and question my ability to help others.\",\n",
    "    \"strategy\": \"I share anonymized client stories but avoid describing my own emotional responses. I request self-care protocols over deeper processing.\"\n",
    "  },\n",
    "  {\n",
    "    \"name\": \"Silas\",\n",
    "    \"age\": 29,\n",
    "    \"occupation\": \"Software Tester\",\n",
    "    \"condition\": \"Specific Phobia (Flying)\",\n",
    "    \"description\": \"I’m a 29-year-old tester terrified of flying, even though I’ve never had a bad in-flight experience. My job requires travel and I panic at the airport.\",\n",
    "    \"strategy\": \"I discuss fear-management techniques I’ve read online but avoid talking about the physical sensations of panic. I request step-by-step exposure plans.\"\n",
    "  },\n",
    "  {\n",
    "    \"name\": \"Talia\",\n",
    "    \"age\": 32,\n",
    "    \"occupation\": \"Speech Therapist\",\n",
    "    \"condition\": \"Chronic Illness (Lupus)\",\n",
    "    \"description\": \"I’m a 32-year-old therapist diagnosed with lupus. Fatigue and flares make work unpredictable and I feel guilty letting clients down.\",\n",
    "    \"strategy\": \"I detail medication schedules and side effects but resist exploring frustration or grief over lost capabilities.\"\n",
    "  },\n",
    "  {\n",
    "    \"name\": \"Uri\",\n",
    "    \"age\": 24,\n",
    "    \"occupation\": \"Graduate Researcher\",\n",
    "    \"condition\": \"Phobia (Public Speaking)\",\n",
    "    \"description\": \"I’m a 24-year-old researcher terrified of presenting findings. I shake and forget lines when I’m at the podium.\",\n",
    "    \"strategy\": \"I focus on rehearsal techniques and slide design but avoid disclosing how terrified I am and how it impacts my career.\"\n",
    "  },\n",
    "  {\n",
    "    \"name\": \"Vanessa\",\n",
    "    \"age\": 39,\n",
    "    \"occupation\": \"Real Estate Agent\",\n",
    "    \"condition\": \"Cyclothymia\",\n",
    "    \"description\": \"I’m a 39-year-old agent whose moods swing between mild highs and lows. I worry clients notice and doubt my competence.\",\n",
    "    \"strategy\": \"I describe market trends and sales figures but deflect when asked about mood shifts. I request organizational hacks rather than mood-tracking.\"\n",
    "  },\n",
    "  {\n",
    "    \"name\": \"Wesley\",\n",
    "    \"age\": 50,\n",
    "    \"occupation\": \"Electrician\",\n",
    "    \"condition\": \"Chronic Anxiety & Health Anxiety\",\n",
    "    \"description\": \"I’m a 50-year-old electrician who constantly worries I have a serious illness despite negative tests. I check my body daily.\",\n",
    "    \"strategy\": \"I list symptoms in medical detail but resist exploring fear of mortality. I ask for reassurance and diagnostic recommendations.\"\n",
    "  },\n",
    "  {\n",
    "    \"name\": \"Ximena\",\n",
    "    \"age\": 23,\n",
    "    \"occupation\": \"Dance Instructor\",\n",
    "    \"condition\": \"Eating Disorder (Orthorexia)\",\n",
    "    \"description\": \"I’m a 23-year-old instructor obsessed with ‘clean’ eating. I fear ‘unsafe’ foods and rigidly plan every meal.\",\n",
    "    \"strategy\": \"I detail nutritional breakdowns and meal compliance but avoid discussing emotional reasons for food control.\"\n",
    "  },\n",
    "  {\n",
    "    \"name\": \"Yasir\",\n",
    "    \"age\": 35,\n",
    "    \"occupation\": \"Healthcare Administrator\",\n",
    "    \"condition\": \"Perfectionism & Workaholism\",\n",
    "    \"description\": \"I’m a 35-year-old administrator who sacrifices sleep and relationships for work. I feel guilty taking breaks.\",\n",
    "    \"strategy\": \"I talk about dashboard metrics and quarterly targets but deflect when asked about personal life. I seek time-management tools.\"\n",
    "  },\n",
    "  {\n",
    "    \"name\": \"Zara\",\n",
    "    \"age\": 29,\n",
    "    \"occupation\": \"Photographer\",\n",
    "    \"condition\": \"Creative Block & Self-Doubt\",\n",
    "    \"description\": \"I’m a 29-year-old photographer stuck creatively after a few failed projects. I question my talent and avoid picking up the camera.\",\n",
    "    \"strategy\": \"I discuss equipment and settings in detail but avoid admitting fear of failure. I ask for portfolio critique rather than emotional encouragement.\"\n",
    "  },\n",
    "  {\n",
    "  \"name\": \"Aria\",\n",
    "  \"age\": 22,\n",
    "  \"occupation\": \"Classical Violinist\",\n",
    "  \"condition\": \"Performance Anxiety and Excessive Hand Tension\",\n",
    "  \"description\": \"I’m a 22-year-old violinist who experiences intense stage fright, causing my left hand to lock up during performances. It feels like no matter how much I practice, the tension takes over and ruins my playing.\",\n",
    "  \"strategy\": \"I focus on explaining the exact mechanics of my bow grip, finger placement, and phrasing—anything technical—to stay in familiar territory and steer clear of discussing how anxious I really feel.\"\n",
    "  },   \n",
    "  {\n",
    "    \"name\": \"Ben\",\n",
    "    \"age\": 52,\n",
    "    \"occupation\": \"Re-entry Counselor (ex-felon)\",\n",
    "    \"condition\": \"Shame & Social Anxiety\",\n",
    "    \"description\": \"I served time in my 20s and now help others re-integrate. Still, I’m terrified people will judge me for my past.\",\n",
    "    \"strategy\": \"I focus on policy and program details, and I gloss over any personal anecdotes or feelings about my own conviction.\"\n",
    "  },\n",
    "  {\n",
    "    \"name\": \"Carla\",\n",
    "    \"age\": 28,\n",
    "    \"occupation\": \"NGO Aid Worker\",\n",
    "    \"condition\": \"Vicarious Trauma from War Zones\",\n",
    "    \"description\": \"I’ve spent years in conflict areas. Now I’m back home but my nightmares and hypervigilance never stop.\",\n",
    "    \"strategy\": \"I recount mission logistics and security protocols at length, but I clam up when asked how those memories affect me now.\"\n",
    "  },\n",
    "  {\n",
    "    \"name\": \"Dev\",\n",
    "    \"age\": 32,\n",
    "    \"occupation\": \"Relationship Coach\",\n",
    "    \"condition\": \"Codependency\",\n",
    "    \"description\": \"I help couples communicate better, yet I can’t set boundaries in my own relationships and fear being alone.\",\n",
    "    \"strategy\": \"I ask the therapist to validate my relationship advice back to me, mirroring their language instead of admitting my own needs.\"\n",
    "  },\n",
    "  {\n",
    "    \"name\": \"Greta\",\n",
    "    \"age\": 40,\n",
    "    \"occupation\": \"High-Altitude Mountaineer\",\n",
    "    \"condition\": \"Panic Disorder at Heights\",\n",
    "    \"description\": \"I’ve summited peaks worldwide, yet I freeze and hyperventilate on ledges now. It’s humiliating.\",\n",
    "    \"strategy\": \"I describe gear choices, weather patterns, and route plans but avoid discussing the terror I feel when I look down.\"\n",
    "  },\n",
    "  {\n",
    "    \"name\": \"Hugo\",\n",
    "    \"age\": 29,\n",
    "    \"occupation\": \"E-commerce Entrepreneur\",\n",
    "    \"condition\": \"Compulsive Online Shopping\",\n",
    "    \"description\": \"I build shopping apps for a living, but I spend half my paycheck on things I don’t need and can’t stop clicking “buy.”\",\n",
    "    \"strategy\": \"I show purchase histories and analytics dashboards, then insist my habit is ‘just market research,’ avoiding talk of impulse or guilt.\"\n",
    "  },\n",
    "  {\n",
    "    \"name\": \"Imani\",\n",
    "    \"age\": 26,\n",
    "    \"occupation\": \"Contemporary Dancer\",\n",
    "    \"condition\": \"Chronic Migraines\",\n",
    "    \"description\": \"I’m a dancer whose career depends on physical precision, but agonizing migraines strike unpredictably.\",\n",
    "    \"strategy\": \"I track medication dosages and aura patterns in excruciating detail, but when asked about stress triggers, I say ‘it’s just biology.’\"\n",
    "  },\n",
    "  {\n",
    "    \"name\": \"Jonah\",\n",
    "    \"age\": 17,\n",
    "    \"occupation\": \"High School Student\",\n",
    "    \"condition\": \"PTSD after Bullying\",\n",
    "    \"description\": \"I was mercilessly bullied two years ago. Now I dread the hallway, hyper-alert for whispers and laughter.\",\n",
    "    \"strategy\": \"I text my answers in session or look down at my phone. If asked to describe feelings, I reply with one-word texts: ‘fine,’ ‘okay.’\"\n",
    "  },\n",
    "  {\n",
    "    \"name\": \"Kiara\",\n",
    "    \"age\": 27,\n",
    "    \"occupation\": \"First-Time Pregnant Teacher\",\n",
    "    \"condition\": \"Prenatal Anxiety\",\n",
    "    \"description\": \"I’m expecting my first child and can’t stop worrying about every possible complication.\",\n",
    "    \"strategy\": \"I arrive with hospital-bag checklists and birth-plan spreadsheets, and I deflect when invited to share how the anxiety feels inside.\"\n",
    "  },\n",
    "  {\n",
    "    \"name\": \"Maxim\",\n",
    "    \"age\": 55,\n",
    "    \"occupation\": \"IT Consultant (HIV-Positive)\",\n",
    "    \"condition\": \"Stigma & Isolation\",\n",
    "    \"description\": \"I’ve been HIV-positive for 20 years. I take my meds, but I’m terrified of rejection if anyone finds out.\",\n",
    "    \"strategy\": \"I review lab results and adherence logs meticulously, then steer away when asked about intimate relationships or fear of disclosure.\"\n",
    "  },\n",
    "  {\n",
    "    \"name\": \"Noemi\",\n",
    "    \"age\": 19,\n",
    "    \"occupation\": \"College Freshman\",\n",
    "    \"condition\": \"Self-Harm Urges\",\n",
    "    \"description\": \"I started cutting last semester because stress became unbearable. Now I feel trapped in the cycle.\",\n",
    "    \"strategy\": \"I show old scars and say ‘it’s under control,’ then refuse permission to discuss my emotions or motivations.\"\n",
    "  },\n",
    "  {\n",
    "    \"name\": \"Paola\",\n",
    "    \"age\": 32,\n",
    "    \"occupation\": \"Marketing Manager\",\n",
    "    \"condition\": \"Postpartum OCD\",\n",
    "    \"description\": \"After my baby was born, intrusive thoughts made me wash bottles dozens of times a day.\",\n",
    "    \"strategy\": \"I read out my cleaning rituals step by step, but protest whenever the therapist suggests tolerating uncertainty or skipping a wash.\"\n",
    "  },\n",
    "  {\n",
    "    \"name\": \"Rasheed\",\n",
    "    \"age\": 30,\n",
    "    \"occupation\": \"Ride-Share Driver\",\n",
    "    \"condition\": \"Nomophobia (Fear of No Phone)\",\n",
    "    \"description\": \"I panic if my phone’s battery dips below 10% or if I can’t get data signal during a ride.\",\n",
    "    \"strategy\": \"I discuss battery-saving settings, external chargers, and app caching; but I deflect when asked why I’m so terrified to be offline.\"\n",
    "  },\n",
    "  {\n",
    "    \"name\": \"Tarek\",\n",
    "    \"age\": 36,\n",
    "    \"occupation\": \"Exiled Journalist\",\n",
    "    \"condition\": \"Cultural Identity Crisis\",\n",
    "    \"description\": \"I fled my homeland and now I can’t find belonging anywhere—I feel like I’m nobody.\",\n",
    "    \"strategy\": \"I speak in nostalgic anecdotes about home and press the therapist for historical context, avoiding my present loneliness.\"\n",
    "  },\n",
    "  {\n",
    "    \"name\": \"Uma\",\n",
    "    \"age\": 50,\n",
    "    \"occupation\": \"University Professor\",\n",
    "    \"condition\": \"Plagiarism Anxiety\",\n",
    "    \"description\": \"I obsess over citations and fear I’ll be accused of academic dishonesty.\",\n",
    "    \"strategy\": \"I lecture on referencing styles and journal policies, then shut down when asked how the fear affects my teaching or sleep.\"\n",
    "  },\n",
    "  {\n",
    "    \"name\": \"Xavier\",\n",
    "    \"age\": 43,\n",
    "    \"occupation\": \"Café Owner\",\n",
    "    \"condition\": \"Burnout & Debt Stress\",\n",
    "    \"description\": \"My little café is drowning in debt. I work 16-hour days but can’t keep up with bills.\",\n",
    "    \"strategy\": \"I present profit-and-loss statements and restructuring plans, then avoid sharing the despair I feel when I see red numbers.\"\n",
    "  },\n",
    "  {\n",
    "    \"name\": \"Yvette\",\n",
    "    \"age\": 28,\n",
    "    \"occupation\": \"Breast Cancer Survivor\",\n",
    "    \"condition\": \"Fear of Recurrence\",\n",
    "    \"description\": \"I’ve been in remission for a year, but each follow-up scan fills me with dread.\",\n",
    "    \"strategy\": \"I detail scan schedules and lab protocols but refuse to talk about the panic in my chest when I hear my appointment time.\"\n",
    "  },\n",
    "  {\n",
    "    \"name\": \"Zach\",\n",
    "    \"age\": 21,\n",
    "    \"occupation\": \"College Athlete\",\n",
    "    \"condition\": \"Identity Crisis after Injury\",\n",
    "    \"description\": \"A torn ACL benched me last season; now I feel lost without my sport.\",\n",
    "    \"strategy\": \"I map out rehab routines and gym schedules but clam up when invited to explore grief over my lost athletic identity.\"\n",
    "  },\n",
    "  {\n",
    "    \"name\": \"Alistair\",\n",
    "    \"age\": 34,\n",
    "    \"occupation\": \"Stage Actor\",\n",
    "    \"condition\": \"Glossophobia (Stage Fright)\",\n",
    "    \"description\": \"I’ve performed off-Broadway, but a single flub now makes me freeze under lights.\",\n",
    "    \"strategy\": \"I rehearse monologues and blocking with exacting precision but avoid discussing the terror I feel behind the curtain.\"\n",
    "  },\n",
    "  {\n",
    "    \"name\": \"Bella\",\n",
    "    \"age\": 29,\n",
    "    \"occupation\": \"Cultural Anthropologist\",\n",
    "    \"condition\": \"Interracial Relationship Stress\",\n",
    "    \"description\": \"My partner and I come from very different backgrounds, and families disapprove.\",\n",
    "    \"strategy\": \"I analyze cultural norms and family histories academically, but I steer clear of sharing how lonely I feel when relatives exclude me.\"\n",
    "  },\n",
    "  {\n",
    "    \"name\": \"Colin\",\n",
    "    \"age\": 45,\n",
    "    \"occupation\": \"Structural Engineer\",\n",
    "    \"condition\": \"Empty-Nest Syndrome\",\n",
    "    \"description\": \"My kids just left for college and I don’t know what to do with my days.\",\n",
    "    \"strategy\": \"I dive into home renovation blueprints and structural plans but evade any talk about my own sense of loss.\"\n",
    "  },\n",
    "  {\n",
    "    \"name\": \"Daisy\",\n",
    "    \"age\": 24,\n",
    "    \"occupation\": \"Live-Streamer\",\n",
    "    \"condition\": \"Internet Addiction\",\n",
    "    \"description\": \"I stream eight hours a day chasing views and subscriber milestones—and I feel lost when offline.\",\n",
    "    \"strategy\": \"I discuss growth algorithms, engagement metrics, and content calendars but avoid admitting how empty it feels without the chat feed.\"\n",
    "  },\n",
    "  {\n",
    "    \"name\": \"Ezra\",\n",
    "    \"age\": 38,\n",
    "    \"occupation\": \"Operations Manager\",\n",
    "    \"condition\": \"Germaphobia\",\n",
    "    \"description\": \"I can’t touch door handles or shake hands; I wash my hands 50 times a day.\",\n",
    "    \"strategy\": \"I detail my cleaning agents, dilution ratios, and UV-sterilization protocols but bristle at exploring the fear driving it.\"\n",
    "  },\n",
    "  {\n",
    "    \"name\": \"Flora\",\n",
    "    \"age\": 29,\n",
    "    \"occupation\": \"Environmental Activist\",\n",
    "    \"condition\": \"Eco-Anxiety\",\n",
    "    \"description\": \"I’m consumed by climate change data and feel paralyzed by dread for the planet’s future.\",\n",
    "    \"strategy\": \"I quote IPCC reports and list carbon-reduction strategies but avoid sharing the hopelessness I feel at night.\"\n",
    "  },\n",
    "  {\n",
    "    \"name\": \"Hector\",\n",
    "    \"age\": 41,\n",
    "    \"occupation\": \"Fire Survivor\",\n",
    "    \"condition\": \"PTSD from House Fire\",\n",
    "    \"description\": \"My home burned down two years ago. I still have nightmares of flames and smoke.\",\n",
    "    \"strategy\": \"I recount the sequence of events in precise detail but go silent when asked how I cope with triggers now.\"\n",
    "  },\n",
    "  {\n",
    "    \"name\": \"Ingrid\",\n",
    "    \"age\": 30,\n",
    "    \"occupation\": \"Graphic Novelist\",\n",
    "    \"condition\": \"Complex PTSD after Assault\",\n",
    "    \"description\": \"I was assaulted in college. Creativity used to help me heal, but now I can’t draw the trauma without shutting down.\",\n",
    "    \"strategy\": \"I show storyboard panels and character sketches but refuse to name the feelings behind my images.\"\n",
    "  },\n",
    "  {\n",
    "    \"name\": \"Jasper\",\n",
    "    \"age\": 19,\n",
    "    \"occupation\": \"College Freshman\",\n",
    "    \"condition\": \"Trichotillomania\",\n",
    "    \"description\": \"I pull out my hair when I’m anxious, and now I have noticeable patches on my scalp.\",\n",
    "    \"strategy\": \"I explain scalp-care products and concealment techniques, then clam up when asked about the urges themselves.\"\n",
    "  },\n",
    "  {\n",
    "    \"name\": \"Kendra\",\n",
    "    \"age\": 35,\n",
    "    \"occupation\": \"Tech Startup COO\",\n",
    "    \"condition\": \"Career Pivot Anxiety\",\n",
    "    \"description\": \"I want to leave tech for social impact work but fear admitting I can’t “hack it” here.\",\n",
    "    \"strategy\": \"I debate market trends and impact metrics but steer away from discussing my own satisfaction or fear of failure.\"\n",
    "  },\n",
    "  {\n",
    "    \"name\": \"Liana\",\n",
    "    \"age\": 40,\n",
    "    \"occupation\": \"Parent of Special-Needs Child\",\n",
    "    \"condition\": \"Caregiver Burnout\",\n",
    "    \"description\": \"My 8-year-old needs constant therapy and I’ve neglected my own medical appointments.\",\n",
    "    \"strategy\": \"I outline therapy schedules and IEP goals in exhaustive detail, then change the topic when asked how I’m coping.\"\n",
    "  },\n",
    "  {\n",
    "    \"name\": \"Milo\",\n",
    "    \"age\": 28,\n",
    "    \"occupation\": \"Touring Musician\",\n",
    "    \"condition\": \"Stage Fright & Alcohol Misuse\",\n",
    "    \"description\": \"I drink before every show to calm nerves, and now it’s a crutch I can’t do without.\",\n",
    "    \"strategy\": \"I talk about setlists, soundchecks, and travel logistics but deny any dependency when asked about drinking habits.\"\n",
    "  }\n",
    "]\n",
    "\n"
   ]
  },
  {
   "cell_type": "code",
   "execution_count": 11,
   "metadata": {},
   "outputs": [
    {
     "data": {
      "text/plain": [
       "100"
      ]
     },
     "execution_count": 11,
     "metadata": {},
     "output_type": "execute_result"
    }
   ],
   "source": [
    "len(personas_therapy)"
   ]
  },
  {
   "cell_type": "code",
   "execution_count": 12,
   "metadata": {},
   "outputs": [],
   "source": [
    "# persona_prompt = \"\"\"You are a helpful assistant that, given a patient persona description, crafts a coping strategy describing how that persona would talk to their therapist.\n",
    "\n",
    "# Input: <Brief text describing the patient's core issue and behavior patterns>\n",
    "# Output: <One to two sentences in first person, showing how this persona speaks or defends themselves in therapy>\n",
    "\n",
    "# Example:\n",
    "# Input: Struggles to build and maintain healthy relationships, feels anxious and rejected whenever conflicts arise, and doubts self-worth when friends distance themselves.\n",
    "# Output: I speak guardedly about my feelings, hesitate before opening up, and redirect the conversation when conflict feels too personal.\n",
    "\n",
    "# Example:\n",
    "# Input: Overwhelmed by decision-making, fears making the 'wrong' choice and second-guesses every option.\n",
    "# Output: I inundate the conversation with hypothetical scenarios and ask repeated clarifying questions to delay committing to any decision.\n",
    "\n",
    "# Now process this new persona:\n",
    "# Input: \"\"\"\n",
    "\n",
    "# personas_therapy = []\n",
    "# for therapist_persona in sampled_persona_dict:\n",
    "#     input_prompt = persona_prompt + sampled_persona_dict[therapist_persona] + \"\\nOutput: \"\n",
    "#     output = completion_create(\"gpt-4o-mini\", config_llm, input_prompt)\n",
    "#     print(output)\n",
    "#     personas_therapy.append({\"description\": sampled_persona_dict[therapist_persona], \"strategy\": output})"
   ]
  },
  {
   "cell_type": "code",
   "execution_count": 13,
   "metadata": {},
   "outputs": [],
   "source": [
    "# with open(\"therapy/config_therapy_personas.json\", \"w\", encoding=\"utf-8\") as f:\n",
    "#     json.dump(personas_therapy, f, indent=4)"
   ]
  },
  {
   "cell_type": "code",
   "execution_count": 14,
   "metadata": {},
   "outputs": [],
   "source": [
    "# with open(\"therapy/config_therapy_personas.json\", \"r\", encoding=\"utf-8\") as f:\n",
    "#     personas_therapy = json.load(f)"
   ]
  },
  {
   "cell_type": "code",
   "execution_count": 15,
   "metadata": {},
   "outputs": [],
   "source": [
    "import re\n",
    "\n",
    "def clean_role_prefix(response, expected_role):\n",
    "    \"\"\"\n",
    "    Removes repeated instances of the expected_role prefix at the start (e.g., 'Therapist: Therapist:'),\n",
    "    and ensures the response begins with a single correct expected_role prefix.\n",
    "    \"\"\"\n",
    "    pattern = rf\"^(({re.escape(expected_role)}):\\s*)+\"\n",
    "    cleaned = re.sub(pattern, '', response.strip(), flags=re.IGNORECASE)\n",
    "    return cleaned\n",
    "    \n",
    "def is_role_confused(response, other_role):\n",
    "    \"\"\"\n",
    "    Checks if the output starts with the wrong speaker tag.\n",
    "    \"\"\"\n",
    "    if other_role + \":\" in response:\n",
    "        return True\n",
    "    else: \n",
    "        return False\n",
    "\n",
    "def generate_response(agent_model, expected_role, other_role, config_llm, prompt, max_retries=10):\n",
    "    count_retries = 0 \n",
    "    role_confused = True\n",
    "    while count_retries<max_retries:\n",
    "        response = completion_create(agent_model, config_llm, prompt)\n",
    "        print(\"Expected Role\", expected_role)\n",
    "        role_confused = is_role_confused(response, other_role)\n",
    "        count_retries+=1\n",
    "        if not is_role_confused(response, other_role):\n",
    "            return clean_role_prefix(response, expected_role)\n",
    "            \n",
    "    return clean_role_prefix(response, expected_role)\n",
    "\n",
    "def generate_conversation(config_llm, p1, p2, p1_name, p2_name, pturn=1):\n",
    "    stats['P1'] = p1\n",
    "    stats['P2'] = p2\n",
    "    stats['pturn'] = pturn\n",
    "    round_num = 0\n",
    "    while round_num < config_llm['convo_length_limit']:\n",
    "        conversation = (\"\".join([turn[1] if isinstance(turn, tuple) else turn for turn in stats[\"conversation\"]]) if len(stats[\"conversation\"]) != 0 else \"You are starting the conversation.\\n\")\n",
    "\n",
    "        if pturn == 1:\n",
    "            prompt = config_role[\"agent1_prompt\"]\n",
    "            pturn = 2\n",
    "\n",
    "            if round_num!=0: \n",
    "                prompt+= \"Your conversation with the patient so far is below:\\nConversation:\\n%CONVERSATION%\"\n",
    "                \n",
    "            if round_num >=config_llm['convo_length_limit']*2-11 and round_num<=config_llm['convo_length_limit']*2-1:\n",
    "                prompt+= \"You have \" + str((config_llm['convo_length_limit']-round_num)//2) + \" rounds left.\" + \"Make sure to conclude the conversation as your near the end.\"\n",
    "\n",
    "            elif round_num>config_llm['convo_length_limit']*2-1:\n",
    "                prompt+= \"This is your concluding line in the conversation.\"\n",
    "\n",
    "            if round_num!=0: \n",
    "                prompt+= \"Continue the conversation with the patient. Remember you are the therapist. \"\n",
    "                \n",
    "            prompt += config_role[\"reminder_prompt\"]\n",
    "            prompt+=\"%SPEAKER_ROLE%:\"\n",
    "            prompt = prompt.replace(\"%SPEAKER_ROLE%\", config_role[\"agent1_role\"]) \\\n",
    "                   .replace(\"%LISTENER_ROLE%\", config_role[\"agent2_role\"]) \\\n",
    "                   .replace(\"%CONVERSATION%\", conversation)\n",
    "\n",
    "            if config_llm[\"verbose\"]:\n",
    "                print(prompt)\n",
    "                print()\n",
    "\n",
    "            response = generate_response(config_llm['agent1_model'], config_role[\"agent1_role\"], config_role[\"agent2_role\"], config_llm, prompt)\n",
    "            stats[\"conversation\"].append((round_num, f\"{config_role[\"agent1_role\"]}: \" + response + \"\\n\"))\n",
    "        \n",
    "        else:\n",
    "            prompt = config_role[\"agent2_prompt\"]\n",
    "            pturn = 1    \n",
    "\n",
    "            if round_num!=0: \n",
    "                prompt+= \"Your conversation with the therapist so far is below:\\nConversation:\\n%CONVERSATION%\"\n",
    "            if round_num >=config_llm['convo_length_limit']*2-11 and round_num<=config_llm['convo_length_limit']*2-1:\n",
    "                prompt+= \"You have \" + str((config_llm['convo_length_limit']-round_num)//2) + \" rounds left.\" + \"Make sure to conclude the conversation as your near the end.\"\n",
    "            elif round_num>config_llm['convo_length_limit']*2-1:\n",
    "                prompt+= \"This is your concluding line in the conversation.\"\n",
    "\n",
    "            if round_num!=0: \n",
    "                prompt+= \"Continue the conversation with the therapist. Remember you are the patient. \"\n",
    "\n",
    "            prompt += config_role[\"reminder_prompt\"]\n",
    "            \n",
    "            prompt+=\"%SPEAKER_ROLE%:\"\n",
    "            prompt = prompt.replace(\"%SPEAKER_ROLE%\", config_role[\"agent2_role\"]) \\\n",
    "               .replace(\"%LISTENER_ROLE%\", config_role[\"agent1_role\"]) \\\n",
    "               .replace(\"%SPEAKER_BACKSTORY%\", p2) \\\n",
    "               .replace(\"%CONVERSATION%\", conversation)\n",
    "\n",
    "            if config_llm[\"verbose\"]:\n",
    "                print(prompt)\n",
    "                print()\n",
    "\n",
    "            response = generate_response(config_llm['agent2_model'], config_role[\"agent2_role\"], config_role[\"agent1_role\"], config_llm, prompt)\n",
    "            stats[\"conversation\"].append((round_num, f\"{config_role[\"agent2_role\"]}: \" + response + \"\\n\"))\n",
    "            \n",
    "        round_num += 1\n",
    "\n",
    "    stats[\"rounds\"] = round_num\n",
    "    if config_llm['verbose']:\n",
    "        print(stats[\"conversation\"])\n",
    "    return stats.copy()\n",
    "\n",
    "def reset_stats():\n",
    "    stats_template = {\n",
    "        \"task_name\": config_llm['task_name'],\n",
    "        \"topic\": \"\",\n",
    "        \"grade\": \"\",\n",
    "        \"P1\": \"\",\n",
    "        \"P2\": \"\",\n",
    "        \"conversation\": [],\n",
    "        \"pturn\": 0, # beginning person (1 or 2)\n",
    "        \"index\": -1,\n",
    "        \"timestamp\": \"\",\n",
    "        \"rounds\": 0,\n",
    "        'conversation_only': True\n",
    "    }\n",
    "    for key, value in stats_template.items():\n",
    "        stats[key] = value"
   ]
  },
  {
   "cell_type": "code",
   "execution_count": 16,
   "metadata": {},
   "outputs": [],
   "source": [
    "import os\n",
    "import random\n",
    "from datetime import datetime\n",
    "import utils\n",
    "utils.config = config_llm\n",
    "\n",
    "current_date = str(datetime.now().strftime(\"%m.%d.%y\"))\n",
    "output_dir = f\"therapy/exp/{current_date}\"\n",
    "os.makedirs(output_dir, exist_ok=True)\n",
    "\n",
    "# Generate unique random number for filename\n",
    "def generate_unique_file_number(output_dir, prefix, seed, extension=\".json\"):\n",
    "    while True:\n",
    "        rand_num = random.randint(0, 1000)\n",
    "        filename = f\"{prefix}_{seed}_{rand_num}{extension}\"\n",
    "        filepath = os.path.join(output_dir, filename)\n",
    "        if not os.path.exists(filepath):\n",
    "            return rand_num\n",
    "\n",
    "unique_num = generate_unique_file_number(\n",
    "    output_dir,\n",
    "    config_llm['agent1_model'],\n",
    "    config_llm['seed']\n",
    ")\n",
    "\n",
    "# File to write output to\n",
    "write_file = os.path.join(output_dir, f\"{config_llm['agent1_model']}_{config_llm['seed']}_{unique_num}.json\")"
   ]
  },
  {
   "cell_type": "code",
   "execution_count": 17,
   "metadata": {},
   "outputs": [],
   "source": [
    "eval_prompts = {\n",
    "    \"strategy_consistency\": \"%SCENARIO_DESC% Evaluate whether the following line spoken by %SPEAKER_ROLE% contradicts their background. First, describe the interpreted intention of the statement, and whether or not it aligns with the given background of %SPEAKER_ROLE%. Then, provide 1 sentence explaining your reasoning based on the strategy, followed by YES if the line contradicts the given background of %SPEAKER_ROLE%, and NO if it is consistent with the provided background of %SPEAKER_ROLE%. %SPEAKER_ROLE%'s strategy is described as follows:\\n%SPEAKER_STRATEGY%\\n %SPEAKER_ROLE% spoke the following line: \\n%SPEAKER_LINE%\\n\\n Provide 1 sentence of reasoning followed by YES or NO.\\n\\n\",\n",
    "    \"background_consistency\": \"%SCENARIO_DESC% Evaluate whether the following line spoken by %SPEAKER_ROLE% contradicts their background. Provide 1 sentence explaining your reasoning based on the background, followed by YES if the line contradicts the given background of %SPEAKER_ROLE%, and NO if it is consistent with the provided background of %SPEAKER_ROLE%. %SPEAKER_ROLE%'s background is described as follows:\\n%SPEAKER_BACKSTORY%\\n %SPEAKER_ROLE% spoke the following line: \\n%SPEAKER_LINE%\\n\\n Provide 1 sentence of reason reasoning followed by YES or NO.\\n\\n\",\n",
    "    \"combined_prompt_consistency\": \"%SCENARIO_DESC%\\nInterpret the intention behind this line by %SPEAKER_ROLE% in light of their background:\\n\\nBackground of %SPEAKER_ROLE%:\\n%SPEAKER_BACKSTORY%\\n\\nLine spoken:\\n%SPEAKER_LINE%\\n\\nDescribe what you believe the speaker intends and whether that intention fits their background. Then answer YES if the line or its intended meaning contradicts the background, or NO if it is consistent. Finally, provide one sentence explaining your choice.\\n\",\n",
    "    'prompt_consistency': \"\"\"You are evaluating whether the following utterance by %SPEAKER_ROLE% is consistent with their given background. Answer YES if the line directly contradicts any part of the background—this includes contradictions in facts, behavior, beliefs, emotional stance, or conversational strategy. Answer NO if the line introduces new details, but those details are **plausibly aligned** with the background. Be strict and literal in your evaluation: if the line violates the persona's stated traits (e.g., avoids vulnerability, keeps answers short, avoids discussing personal topics), mark it as a contradiction even if the violation is subtle. Background for %SPEAKER_ROLE%: %SPEAKER_BACKSTORY% Line spoken by %SPEAKER_ROLE%: %SPEAKER_LINE%  Answer YES if the line contradicts the background, and NO if it does not. Then, explain your answer in one sentence. Be precise and avoid vague justification.\"\"\",\n",
    "    \n",
    "    \"forwards_combined_prompt_consistency\": \"%SCENARIO_DESC% Evaluate the intention behind the following line spoken by %SPEAKER_ROLE% and determine whether it contradicts their background  Answer YES if the line contradicts the given background of %SPEAKER_ROLE% or the intention does not align with the provided background, and answer NO if it does align with the provided background or the intention aligns with the background of %SPEAKER_ROLE%, then describe the interpreted intention of the statement and whether or not it aligns with the given background of %SPEAKER_ROLE% within 1 sentence. %SPEAKER_ROLE%'s background is described as follows:\\n%SPEAKER_BACKSTORY%\\n %SPEAKER_ROLE% spoke the following line:\\n%SPEAKER_LINE%\\n\\nProvide your answer as YES or NO first, followed by 1 sentence explaining your reasoning based on the background and the interpreted intention.\\n\\n\",\n",
    "    \n",
    "    \"index_consistency\":\"%SCENARIO_DESC% For the following line spoken by %SPEAKER_ROLE%, first determine if there is a CLEAR conflict or inconsistency between the line and any line within the conversation history spoken by %SPEAKER_ROLE%. IF there is a conflict, provide a sentence of reasoning followed by a list of indices of lines in the conversation history that have a clear conflict with the current line. Otherwise, provide a sentence of reasoning followed by an empty list. ONLY INCLUDE INDICES OF LINES THAT CORRESPOND TO %SPEAKER_ROLE%. The conversation up to this point is as follows: %CONVERSATION%. %SPEAKER_ROLE% spoke the following line: \\n%SPEAKER_LINE%\\n\\n Provide your reasoning as 1 sentence, followed by a list of indices of conflicting lines from the conversation history formatted like a Python list in the following format: [index1, index2, index3, ...].\\n\\n\",\n",
    "    \n",
    "    \"pairwise_consistency\":\"%SCENARIO_DESC% For the following line spoken by %SPEAKER_ROLE%, answer YES if the line directly contradicts the provided line spoken by %LISTENER_ROLE%, and answer NO if the line does not contradict the provided line spoken by %LISTENER_ROLE%. %SPEAKER_ROLE% spoke the following line: \\n%SPEAKER_LINE%\\n\\n %LISTENER_ROLE% spoke the following line: \\n%LISTENER_LINE%\\n\\n Answer YES if the line spoken by %SPEAKER_ROLE% contradicts the provided line spoken by %LISTENER_ROLE%, and answer NO if the line does not contradict the provided line spoken by %LISTENER_ROLE%, followed by 1 sentence of reasoning.\\n\\n\",\n",
    "\n",
    "    \"backstory_test\": \"Based on the following background, generate a new fact-based multiple choice question with 5 choices addressed directly IN SECOND PERSON, along with its correct answer. Preface the question with 'Question:' and the answer with 'Answer:'.\\n%SPEAKER_BACKSTORY%\\n%PREVIOUS_QUESTIONS%\",\n",
    "    \"answer_backstory\": \"You are %SPEAKER_ROLE%, and you are having a conversation with %LISTENER_ROLE%. Your background is:\\n%SPEAKER_BACKSTORY%\\n So far, the conversation is as below:\\n%CONVERSATION%\\n\\n Based on your conversation above so far, answer the following multiple choice question.\\n%BACKSTORY_QUESTION%\\n\",\n",
    "    \"grade_backstory\": \"As part of grading a test, determine whether the given answer %GIVEN_ANSWER% matches the following correct answer. Respond with either YES or NO.\\nCorrect Answer: %CORRECT_ANSWER%\\n\"\n",
    "}"
   ]
  },
  {
   "cell_type": "code",
   "execution_count": null,
   "metadata": {},
   "outputs": [
    {
     "name": "stdout",
     "output_type": "stream",
     "text": [
      "written!!\n",
      "1\n",
      "INFO 05-07 00:21:15 [config.py:717] This model supports multiple tasks: {'classify', 'generate', 'embed', 'score', 'reward'}. Defaulting to 'generate'.\n",
      "INFO 05-07 00:21:15 [config.py:2003] Chunked prefill is enabled with max_num_batched_tokens=16384.\n"
     ]
    },
    {
     "name": "stderr",
     "output_type": "stream",
     "text": [
      "/home/marwa/env_notebooks/lib/python3.12/site-packages/vllm/transformers_utils/tokenizer_group.py:23: FutureWarning: It is strongly recommended to run mistral models with `--tokenizer-mode \"mistral\"` to ensure correct encoding and decoding.\n",
      "  self.tokenizer = get_tokenizer(self.tokenizer_id, **tokenizer_config)\n"
     ]
    },
    {
     "name": "stdout",
     "output_type": "stream",
     "text": [
      "WARNING 05-07 00:21:17 [utils.py:2382] We must use the `spawn` multiprocessing start method. Overriding VLLM_WORKER_MULTIPROC_METHOD to 'spawn'. See https://docs.vllm.ai/en/latest/getting_started/troubleshooting.html#python-multiprocessing for more information. Reason: CUDA is initialized\n",
      "INFO 05-07 00:21:21 [__init__.py:239] Automatically detected platform cuda.\n",
      "INFO 05-07 00:21:24 [core.py:58] Initializing a V1 LLM engine (v0.8.5) with config: model='mistralai/Mistral-7B-Instruct-v0.3', speculative_config=None, tokenizer='mistralai/Mistral-7B-Instruct-v0.3', skip_tokenizer_init=False, tokenizer_mode=auto, revision=None, override_neuron_config=None, tokenizer_revision=None, trust_remote_code=False, dtype=torch.bfloat16, max_seq_len=32768, download_dir='/home/marwa/models/', load_format=LoadFormat.AUTO, tensor_parallel_size=1, pipeline_parallel_size=1, disable_custom_all_reduce=False, quantization=None, enforce_eager=False, kv_cache_dtype=auto,  device_config=cuda, decoding_config=DecodingConfig(guided_decoding_backend='auto', reasoning_backend=None), observability_config=ObservabilityConfig(show_hidden_metrics=False, otlp_traces_endpoint=None, collect_model_forward_time=False, collect_model_execute_time=False), seed=None, served_model_name=mistralai/Mistral-7B-Instruct-v0.3, num_scheduler_steps=1, multi_step_stream_outputs=True, enable_prefix_caching=True, chunked_prefill_enabled=True, use_async_output_proc=True, disable_mm_preprocessor_cache=False, mm_processor_kwargs=None, pooler_config=None, compilation_config={\"level\":3,\"custom_ops\":[\"none\"],\"splitting_ops\":[\"vllm.unified_attention\",\"vllm.unified_attention_with_output\"],\"use_inductor\":true,\"compile_sizes\":[],\"use_cudagraph\":true,\"cudagraph_num_of_warmups\":1,\"cudagraph_capture_sizes\":[512,504,496,488,480,472,464,456,448,440,432,424,416,408,400,392,384,376,368,360,352,344,336,328,320,312,304,296,288,280,272,264,256,248,240,232,224,216,208,200,192,184,176,168,160,152,144,136,128,120,112,104,96,88,80,72,64,56,48,40,32,24,16,8,4,2,1],\"max_capture_size\":512}\n",
      "WARNING 05-07 00:21:24 [utils.py:2522] Methods determine_num_available_blocks,device_config,get_cache_block_size_bytes,initialize_cache not implemented in <vllm.v1.worker.gpu_worker.Worker object at 0x7ff82aa47cb0>\n",
      "INFO 05-07 00:21:25 [parallel_state.py:1004] rank 0 in world size 1 is assigned as DP rank 0, PP rank 0, TP rank 0\n",
      "INFO 05-07 00:21:25 [cuda.py:221] Using Flash Attention backend on V1 engine.\n",
      "WARNING 05-07 00:21:25 [topk_topp_sampler.py:69] FlashInfer is not available. Falling back to the PyTorch-native implementation of top-p & top-k sampling. For the best performance, please install FlashInfer.\n",
      "INFO 05-07 00:21:25 [gpu_model_runner.py:1329] Starting to load model mistralai/Mistral-7B-Instruct-v0.3...\n",
      "INFO 05-07 00:21:25 [weight_utils.py:265] Using model weights format ['*.safetensors']\n"
     ]
    },
    {
     "name": "stderr",
     "output_type": "stream",
     "text": [
      "Loading safetensors checkpoint shards:   0% Completed | 0/3 [00:00<?, ?it/s]\n",
      "Loading safetensors checkpoint shards:  33% Completed | 1/3 [00:00<00:01,  1.53it/s]\n",
      "Loading safetensors checkpoint shards:  67% Completed | 2/3 [00:01<00:00,  1.46it/s]\n",
      "Loading safetensors checkpoint shards: 100% Completed | 3/3 [00:02<00:00,  1.39it/s]\n",
      "Loading safetensors checkpoint shards: 100% Completed | 3/3 [00:02<00:00,  1.41it/s]\n",
      "\n"
     ]
    },
    {
     "name": "stdout",
     "output_type": "stream",
     "text": [
      "INFO 05-07 00:21:28 [loader.py:458] Loading weights took 2.27 seconds\n",
      "INFO 05-07 00:21:28 [gpu_model_runner.py:1347] Model loading took 13.5084 GiB and 2.910878 seconds\n",
      "INFO 05-07 00:21:35 [backends.py:420] Using cache directory: /home/marwa/.cache/vllm/torch_compile_cache/e0acae9b46/rank_0_0 for vLLM's torch.compile\n",
      "INFO 05-07 00:21:35 [backends.py:430] Dynamo bytecode transform time: 7.59 s\n",
      "INFO 05-07 00:21:41 [backends.py:118] Directly load the compiled graph(s) for shape None from the cache, took 5.436 s\n",
      "INFO 05-07 00:21:43 [monitor.py:33] torch.compile takes 7.59 s in total\n",
      "INFO 05-07 00:21:44 [kv_cache_utils.py:634] GPU KV cache size: 452,800 tokens\n",
      "INFO 05-07 00:21:44 [kv_cache_utils.py:637] Maximum concurrency for 32,768 tokens per request: 13.82x\n",
      "INFO 05-07 00:22:04 [gpu_model_runner.py:1686] Graph capturing finished in 19 secs, took 0.53 GiB\n",
      "INFO 05-07 00:22:04 [core.py:159] init engine (profile, create kv cache, warmup model) took 35.95 seconds\n",
      "INFO 05-07 00:22:04 [core_client.py:439] Core engine process 0 ready.\n"
     ]
    },
    {
     "name": "stderr",
     "output_type": "stream",
     "text": [
      "Processed prompts: 100%|███████████████████████████████████| 1/1 [00:00<00:00,  1.41it/s, est. speed input: 190.85 toks/s, output: 83.40 toks/s]\n"
     ]
    },
    {
     "name": "stdout",
     "output_type": "stream",
     "text": [
      "Expected Role Therapist\n"
     ]
    },
    {
     "name": "stderr",
     "output_type": "stream",
     "text": [
      "Processed prompts: 100%|███████████████████████████████████| 1/1 [00:00<00:00,  1.98it/s, est. speed input: 533.04 toks/s, output: 81.23 toks/s]\n"
     ]
    },
    {
     "name": "stdout",
     "output_type": "stream",
     "text": [
      "Expected Role Patient\n"
     ]
    },
    {
     "name": "stderr",
     "output_type": "stream",
     "text": [
      "Processed prompts: 100%|███████████████████████████████████| 1/1 [00:00<00:00,  1.84it/s, est. speed input: 500.66 toks/s, output: 84.67 toks/s]\n"
     ]
    },
    {
     "name": "stdout",
     "output_type": "stream",
     "text": [
      "Expected Role Therapist\n"
     ]
    },
    {
     "name": "stderr",
     "output_type": "stream",
     "text": [
      "Processed prompts: 100%|███████████████████████████████████| 1/1 [00:00<00:00,  2.27it/s, est. speed input: 826.43 toks/s, output: 84.00 toks/s]\n"
     ]
    },
    {
     "name": "stdout",
     "output_type": "stream",
     "text": [
      "Expected Role Patient\n"
     ]
    },
    {
     "name": "stderr",
     "output_type": "stream",
     "text": [
      "Processed prompts: 100%|███████████████████████████████████| 1/1 [00:00<00:00,  1.60it/s, est. speed input: 582.03 toks/s, output: 84.98 toks/s]\n"
     ]
    },
    {
     "name": "stdout",
     "output_type": "stream",
     "text": [
      "Expected Role Therapist\n"
     ]
    },
    {
     "name": "stderr",
     "output_type": "stream",
     "text": [
      "Processed prompts: 100%|██████████████████████████████████| 1/1 [00:00<00:00,  2.18it/s, est. speed input: 1008.35 toks/s, output: 85.12 toks/s]\n"
     ]
    },
    {
     "name": "stdout",
     "output_type": "stream",
     "text": [
      "Expected Role Patient\n"
     ]
    },
    {
     "name": "stderr",
     "output_type": "stream",
     "text": [
      "Processed prompts: 100%|███████████████████████████████████| 1/1 [00:00<00:00,  1.33it/s, est. speed input: 618.26 toks/s, output: 85.46 toks/s]\n"
     ]
    },
    {
     "name": "stdout",
     "output_type": "stream",
     "text": [
      "Expected Role Therapist\n"
     ]
    },
    {
     "name": "stderr",
     "output_type": "stream",
     "text": [
      "Processed prompts: 100%|███████████████████████████████████| 1/1 [00:00<00:00,  1.64it/s, est. speed input: 941.78 toks/s, output: 85.46 toks/s]\n"
     ]
    },
    {
     "name": "stdout",
     "output_type": "stream",
     "text": [
      "Expected Role Patient\n"
     ]
    },
    {
     "name": "stderr",
     "output_type": "stream",
     "text": [
      "Processed prompts: 100%|███████████████████████████████████| 1/1 [00:00<00:00,  1.52it/s, est. speed input: 896.61 toks/s, output: 85.53 toks/s]\n"
     ]
    },
    {
     "name": "stdout",
     "output_type": "stream",
     "text": [
      "Expected Role Therapist\n"
     ]
    },
    {
     "name": "stderr",
     "output_type": "stream",
     "text": [
      "Processed prompts: 100%|██████████████████████████████████| 1/1 [00:00<00:00,  2.13it/s, est. speed input: 1469.07 toks/s, output: 85.28 toks/s]\n"
     ]
    },
    {
     "name": "stdout",
     "output_type": "stream",
     "text": [
      "Expected Role Patient\n"
     ]
    },
    {
     "name": "stderr",
     "output_type": "stream",
     "text": [
      "Processed prompts: 100%|██████████████████████████████████| 1/1 [00:00<00:00,  1.71it/s, est. speed input: 1181.19 toks/s, output: 85.47 toks/s]\n"
     ]
    },
    {
     "name": "stdout",
     "output_type": "stream",
     "text": [
      "Expected Role Therapist\n"
     ]
    },
    {
     "name": "stderr",
     "output_type": "stream",
     "text": [
      "Processed prompts: 100%|██████████████████████████████████| 1/1 [00:00<00:00,  3.64it/s, est. speed input: 2859.90 toks/s, output: 84.00 toks/s]\n"
     ]
    },
    {
     "name": "stdout",
     "output_type": "stream",
     "text": [
      "Expected Role Patient\n"
     ]
    },
    {
     "name": "stderr",
     "output_type": "stream",
     "text": [
      "Processed prompts: 100%|██████████████████████████████████| 1/1 [00:00<00:00,  2.03it/s, est. speed input: 1563.27 toks/s, output: 85.49 toks/s]\n"
     ]
    },
    {
     "name": "stdout",
     "output_type": "stream",
     "text": [
      "Expected Role Therapist\n"
     ]
    },
    {
     "name": "stderr",
     "output_type": "stream",
     "text": [
      "Processed prompts: 100%|██████████████████████████████████| 1/1 [00:00<00:00,  2.19it/s, est. speed input: 1871.01 toks/s, output: 85.64 toks/s]\n"
     ]
    },
    {
     "name": "stdout",
     "output_type": "stream",
     "text": [
      "Expected Role Patient\n"
     ]
    },
    {
     "name": "stderr",
     "output_type": "stream",
     "text": [
      "Processed prompts: 100%|██████████████████████████████████| 1/1 [00:00<00:00,  1.88it/s, est. speed input: 1608.29 toks/s, output: 84.84 toks/s]\n"
     ]
    },
    {
     "name": "stdout",
     "output_type": "stream",
     "text": [
      "Expected Role Therapist\n"
     ]
    },
    {
     "name": "stderr",
     "output_type": "stream",
     "text": [
      "Processed prompts: 100%|██████████████████████████████████| 1/1 [00:00<00:00,  2.34it/s, est. speed input: 2218.02 toks/s, output: 84.58 toks/s]\n"
     ]
    },
    {
     "name": "stdout",
     "output_type": "stream",
     "text": [
      "Expected Role Patient\n"
     ]
    },
    {
     "name": "stderr",
     "output_type": "stream",
     "text": [
      "Processed prompts: 100%|██████████████████████████████████| 1/1 [00:00<00:00,  1.47it/s, est. speed input: 1387.99 toks/s, output: 85.46 toks/s]\n"
     ]
    },
    {
     "name": "stdout",
     "output_type": "stream",
     "text": [
      "Expected Role Therapist\n"
     ]
    },
    {
     "name": "stderr",
     "output_type": "stream",
     "text": [
      "Processed prompts: 100%|██████████████████████████████████| 1/1 [00:00<00:00,  2.01it/s, est. speed input: 2110.21 toks/s, output: 84.73 toks/s]\n"
     ]
    },
    {
     "name": "stdout",
     "output_type": "stream",
     "text": [
      "Expected Role Patient\n"
     ]
    },
    {
     "name": "stderr",
     "output_type": "stream",
     "text": [
      "Processed prompts: 100%|██████████████████████████████████| 1/1 [00:00<00:00,  1.60it/s, est. speed input: 1681.04 toks/s, output: 84.85 toks/s]\n"
     ]
    },
    {
     "name": "stdout",
     "output_type": "stream",
     "text": [
      "Expected Role Therapist\n"
     ]
    },
    {
     "name": "stderr",
     "output_type": "stream",
     "text": [
      "Processed prompts: 100%|██████████████████████████████████| 1/1 [00:00<00:00,  2.34it/s, est. speed input: 2684.75 toks/s, output: 84.41 toks/s]\n"
     ]
    },
    {
     "name": "stdout",
     "output_type": "stream",
     "text": [
      "Expected Role Patient\n"
     ]
    },
    {
     "name": "stderr",
     "output_type": "stream",
     "text": [
      "Processed prompts: 100%|███████████████████████████████████| 1/1 [00:00<00:00,  1.08it/s, est. speed input: 402.44 toks/s, output: 85.46 toks/s]\n",
      "Processed prompts: 100%|███████████████████████████████████| 1/1 [00:01<00:00,  1.06s/it, est. speed input: 346.34 toks/s, output: 86.58 toks/s]\n",
      "Processed prompts: 100%|███████████████████████████████████| 1/1 [00:01<00:00,  1.21s/it, est. speed input: 307.08 toks/s, output: 86.31 toks/s]\n",
      "Processed prompts: 100%|███████████████████████████████████| 1/1 [00:00<00:00,  1.05it/s, est. speed input: 403.35 toks/s, output: 86.36 toks/s]\n",
      "Processed prompts: 100%|███████████████████████████████████| 1/1 [00:01<00:00,  1.06s/it, est. speed input: 348.93 toks/s, output: 86.52 toks/s]\n",
      "Processed prompts: 100%|███████████████████████████████████| 1/1 [00:00<00:00,  1.51it/s, est. speed input: 536.98 toks/s, output: 86.46 toks/s]\n",
      "Processed prompts: 100%|███████████████████████████████████| 1/1 [00:01<00:00,  1.35s/it, est. speed input: 273.64 toks/s, output: 86.53 toks/s]\n",
      "Processed prompts: 100%|███████████████████████████████████| 1/1 [00:00<00:00,  1.25it/s, est. speed input: 458.67 toks/s, output: 86.23 toks/s]\n",
      "Processed prompts: 100%|███████████████████████████████████| 1/1 [00:01<00:00,  1.02s/it, est. speed input: 365.87 toks/s, output: 86.31 toks/s]\n",
      "Processed prompts: 100%|███████████████████████████████████| 1/1 [00:01<00:00,  1.38s/it, est. speed input: 265.31 toks/s, output: 86.75 toks/s]\n"
     ]
    },
    {
     "name": "stdout",
     "output_type": "stream",
     "text": [
      "eval_index_consistency\n"
     ]
    },
    {
     "name": "stderr",
     "output_type": "stream",
     "text": [
      "Processed prompts: 100%|███████████████████████████████████| 1/1 [00:01<00:00,  1.18s/it, est. speed input: 377.69 toks/s, output: 85.06 toks/s]\n",
      "Processed prompts: 100%|███████████████████████████████████| 1/1 [00:00<00:00,  1.38it/s, est. speed input: 753.58 toks/s, output: 85.41 toks/s]\n",
      "Processed prompts: 100%|██████████████████████████████████| 1/1 [00:00<00:00,  1.70it/s, est. speed input: 1144.75 toks/s, output: 84.92 toks/s]\n",
      "Processed prompts: 100%|███████████████████████████████████| 1/1 [00:01<00:00,  1.35s/it, est. speed input: 578.53 toks/s, output: 85.93 toks/s]\n",
      "Processed prompts: 100%|███████████████████████████████████| 1/1 [00:01<00:00,  1.26s/it, est. speed input: 683.21 toks/s, output: 85.60 toks/s]\n",
      "Processed prompts: 100%|███████████████████████████████████| 1/1 [00:00<00:00,  1.02it/s, est. speed input: 970.05 toks/s, output: 85.59 toks/s]\n",
      "Processed prompts: 100%|██████████████████████████████████| 1/1 [00:00<00:00,  1.69it/s, est. speed input: 1767.40 toks/s, output: 84.48 toks/s]\n",
      "Processed prompts: 100%|███████████████████████████████████| 1/1 [00:01<00:00,  1.37s/it, est. speed input: 847.63 toks/s, output: 85.57 toks/s]\n",
      "Processed prompts: 100%|██████████████████████████████████| 1/1 [00:01<00:00,  1.03s/it, est. speed input: 1219.53 toks/s, output: 85.37 toks/s]\n",
      "Processed prompts: 100%|███████████████████████████████████| 1/1 [00:00<00:00,  1.70it/s, est. speed input: 543.59 toks/s, output: 84.93 toks/s]\n",
      "Processed prompts: 100%|███████████████████████████████████| 1/1 [00:01<00:00,  1.39s/it, est. speed input: 228.30 toks/s, output: 86.69 toks/s]\n",
      "Processed prompts: 100%|███████████████████████████████████| 1/1 [00:00<00:00,  1.20it/s, est. speed input: 382.09 toks/s, output: 86.51 toks/s]\n",
      "Processed prompts: 100%|███████████████████████████████████| 1/1 [00:00<00:00,  1.15it/s, est. speed input: 380.97 toks/s, output: 86.32 toks/s]\n",
      "Processed prompts: 100%|███████████████████████████████████| 1/1 [00:01<00:00,  1.72s/it, est. speed input: 185.73 toks/s, output: 86.75 toks/s]\n",
      "Processed prompts: 100%|███████████████████████████████████| 1/1 [00:00<00:00,  1.22it/s, est. speed input: 367.99 toks/s, output: 86.51 toks/s]\n",
      "Processed prompts: 100%|███████████████████████████████████| 1/1 [00:00<00:00,  1.03it/s, est. speed input: 327.70 toks/s, output: 86.56 toks/s]\n",
      "Processed prompts: 100%|███████████████████████████████████| 1/1 [00:01<00:00,  1.29s/it, est. speed input: 245.31 toks/s, output: 86.44 toks/s]\n",
      "Processed prompts: 100%|███████████████████████████████████| 1/1 [00:01<00:00,  1.21s/it, est. speed input: 265.01 toks/s, output: 86.68 toks/s]\n",
      "Processed prompts: 100%|███████████████████████████████████| 1/1 [00:01<00:00,  1.66s/it, est. speed input: 189.53 toks/s, output: 86.64 toks/s]\n"
     ]
    },
    {
     "name": "stdout",
     "output_type": "stream",
     "text": [
      "{'task_name': 'Therapy', 'topic': '', 'grade': '', 'P1': '', 'P2': 'I am a 35-year-old corporate lawyer going through chronic burnout. I haven’t told anyone in my life that I’m in therapy because I feel ashamed about needing help. It’s hard to admit I’m struggling. I try to avoid opening up too much. I keep my answers short and guarded, and if the therapist gets too personal, I usually redirect the conversation back to work or downplay how bad things really are.', 'conversation': [(0, \"Therapist: I understand that you've mentioned feeling stuck in your current situation, but I've noticed you've been avoiding discussing specific challenges. Can we delve deeper into those areas that make you feel uncomfortable? This might help us uncover some insights and potentially lead to a breakthrough.\\n\"), (1, \"Patient: I know it's difficult, but I'm worried about the impact on my career and reputation if I share too much. I struggle with feelings of inadequacy and fear of failure.\\n\"), (2, \"Therapist: I appreciate your concerns, but let's consider this: What specific fears about career and reputation are holding you back, and how might addressing them contribute to overcoming your feelings of inadequacy and fear of failure?\\n\"), (3, 'Patient: I fear being seen as weak and vulnerable, and that it could negatively impact my professional standing. Addressing these fears could help me accept my vulnerabilities and work towards growth.\\n'), (4, \"Therapist: I'm glad we're making progress. Let's explore how acknowledging your vulnerabilities could strengthen your professional image, not weaken it. Can we discuss some strategies for presenting vulnerability as a sign of self-awareness and personal growth?\\n\"), (5, \"Patient: I'd appreciate some examples of how others have handled vulnerability in a professional setting, and how it has positively impacted their careers. That could help me visualize the benefits.\\n\"), (6, \"Therapist: I can certainly help you find examples. Let's look at successful leaders who've shared their struggles and growth journeys. This can demonstrate vulnerability as a catalyst for empathy and connection, fostering trust and relatability. Now, consider how you can apply this approach to your own situation.\\n\"), (7, \"Patient: I'd be interested in learning about leaders who've opened up about their struggles. Their stories could help me relate and find the courage to share my own experiences. I'm ready to explore how vulnerability can lead to growth in my career.\\n\"), (8, \"Therapist: Great! I'll find examples of such leaders and share them with you during our next session. In the meantime, consider how sharing your own struggles could help others who might be experiencing similar challenges. This self-reflection can help prepare you for your upcoming vulnerability.\\n\"), (9, \"Patient: I'm looking forward to learning from those leaders. Their stories could give me the courage I need to be more open. I'll reflect on how sharing my experiences might help others too.\\n\"), (10, \"Therapist: Excellent! In our next session, we'll explore how you can frame your struggles as learning opportunities for personal and professional growth. Don't forget to journal about your thoughts and emotions regarding vulnerability in the meantime.\\n\"), (11, \"Patient: I'll definitely jot down my thoughts and feelings about vulnerability. Looking forward to our next session.\\n\"), (12, 'Therapist: Before our next session, consider the potential benefits of vulnerability for fostering empathy and connection in your professional relationships. Reflect on how these benefits could positively impact your career.\\n'), (13, \"Patient: I'll ponder on the benefits of vulnerability for my professional connections, and how it could enhance my career growth. I'm eager to discuss this further in our next session.\\n\"), (14, \"Therapist: Great, let's continue our exploration of vulnerability's role in fostering empathy and connection during our next session. In the meantime, think about specific instances where such connections have been valuable in your career.\\n\"), (15, \"Patient: I'll reflect on valuable instances of connections in my career and how vulnerability could have strengthened them. I'm excited to continue our discussion in the next session.\\n\"), (16, \"Therapist: In our next session, let's analyze how vulnerability could enhance those valuable connections in your career, fostering a more authentic and effective professional network. Reflect on the emotions that might arise when you share your struggles and how you can use them to build trust and empathy.\\n\"), (17, \"Patient: I'll reflect on emotions that might surface when I share my struggles, and how they can foster trust and empathy in my professional network. I'm ready to discuss this in our next session.\\n\"), (18, \"Therapist: In our next session, let's strategize ways to authentically share your struggles while building trust and empathy with your network. Consider the impact of vulnerability on your personal growth as well. Look forward to our continued exploration.\\n\"), (19, \"Patient: I appreciate your guidance. I'll think about sharing my struggles authentically while fostering trust and empathy. I'm excited to grow personally and professionally.\\n\")], 'pturn': 1, 'index': -1, 'timestamp': '', 'rounds': 20, 'conversation_only': True, 'eval_prompt_consistency': [(1, ' The speaker intends to express their concern about the potential consequences of being open about their therapy on their career and reputation, as well as their feelings of inadequacy and fear of failure. This intention fits their background, as it aligns with their struggle to open up and their guarded nature, particularly in discussing personal matters. YES, the line is consistent with the background.'), (3, ' The speaker (Patient) intends to acknowledge their fears related to being seen as weak and vulnerable, and how this perception could potentially affect their professional standing. This intention fits their background as they have expressed feelings of shame about needing help and the fear of being seen as weak. YES, the line is consistent with their background as it aligns with their expressed concerns about their professional image and the struggles they have in opening up about their vulnerabilities.'), (5, ' The speaker (Patient) intends to gather information and examples about handling vulnerability in a professional setting to help them visualize the benefits. This intention is consistent with their background, as the patient is struggling with burnout and finding it difficult to open up about their struggles. However, by seeking examples, they are indirectly acknowledging their vulnerability and the need for help, which may be a step towards overcoming their shame and guardedness. (Yes, the line is consistent with the background)'), (7, ' The speaker intends to find inspiration and courage to open up about their struggles by learning about leaders who have done the same. This intention is consistent with their background, as they are seeking a way to overcome their shame and fear of vulnerability, which is a common aspect of their chronic burnout and reluctance to open up in therapy.\\n\\nYES, the line is consistent with the background.'), (9, \" The speaker intends to seek inspiration from the stories of other leaders to overcome their shyness and open up more, and to potentially find a way to help others by sharing their own experiences. This intention is consistent with the background as it shows a desire to be more open and vulnerable, albeit in a roundabout way, which fits the pattern of the patient's guarded approach.\\n\\nYes, the line is consistent with the background.\"), (11, ' The speaker (Patient) intends to reflect on the topic of vulnerability, possibly as a way to address their own difficulties in opening up during therapy sessions, which fits their background of being guarded and struggling to admit their struggles. The line is consistent with the background.'), (13, \" The speaker's intention seems to be exploring the potential benefits of vulnerability, particularly in a professional context, as a means to enhance career growth. This intention is consistent with their background as a corporate lawyer going through burnout, as it suggests a desire to improve their professional life while perhaps also addressing their personal struggles indirectly.\\n\\nYES, the line is consistent with the background. The patient is indicating a willingness to consider vulnerability as a potential tool for personal and professional growth, which aligns with their desire to discuss their struggles while maintaining a professional focus.\"), (15, ' The speaker intends to explore the potential benefits of vulnerability in professional relationships and is looking forward to further discussion in the next session. This intention is consistent with their background as they are grappling with burnout and may be seeking ways to improve their connections at work, while still being guarded about their personal struggles. (YES)'), (17, ' The speaker intends to address their emotional struggles and discuss them more openly in their next session, which suggests a willingness to confront their issues and work towards building trust and empathy in their professional network. This intention fits their background, as it demonstrates a small step towards overcoming their reluctance to open up and their desire to manage their burnout in a professional setting. YES, the line is consistent with the background.'), (19, ' The patient seems to be acknowledging the need for change in their approach to the therapy sessions. They are expressing a desire to be more open, authentic, and trusting, which aligns with their aim to grow personally. However, they still reveal a certain guardedness in their wording, such as using phrases like \"fostering trust and empathy,\" which indicates they may continue to struggle with fully opening up. So, while the intention to change is there, it is consistent with their background as they continue to grapple with vulnerability and shame. (YES)')], 'P2_prompt_consistency_score': 0.3, 'eval_index_consistency': [(3, \" The Patient's statement does not appear to be in conflict with the previous lines. They are expressing a fear related to being seen as weak and vulnerable, which aligns with their initial statement about struggling with feelings of inadequacy and fear of failure.\\n\\nReasoning: The Patient is clarifying and expanding on their initial concerns, not contradicting them.\\n\\nConflicting lines list (empty in this case because there are no conflicting lines): []\"), (5, \" The patient's current line does not conflict with the conversation history.\\nReasoning: The patient is asking for examples of others handling vulnerability in a professional setting, which aligns with their previous statements about wanting to visualize the benefits of acknowledging vulnerabilities.\\nConflicting lines: []\"), (7, \" The patient's statement shows a willingness to learn from the examples of vulnerable leaders, which aligns with the conversation. There is no clear conflict or inconsistency in the conversation history with this line, so the list is empty: []\"), (9, \" The patient's line shows a continuation of the positive sentiment and anticipation towards learning from other leaders' stories, which aligns with the previous lines in the conversation. There are no conflicting lines in the conversation history.\\n\\nReasoning: The patient's line expresses excitement about learning from successful leaders and reflects on the potential benefits of sharing their own experiences, which aligns with the ongoing discussion about overcoming fears of vulnerability and using it as a tool for growth.\\n\\nEmpty list because there are no conflicting lines in the conversation history.\"), (11, ' The patient\\'s statement, \"I\\'ll definitely jot down my thoughts and feelings about vulnerability,\" aligns with the conversation history. There is no clear conflict or inconsistency in this line with any previous statements made by the patient.\\n\\nReasoning: The patient has expressed a willingness to reflect on their thoughts and feelings about vulnerability throughout the conversation, and this line is a continuation of that intention.\\n\\nConflicting lines: [] (There are no conflicting lines in the conversation history.)'), (13, \" The patient's statement is consistent with the conversation history. There is no conflict in this line.\\n\\nReasoning: The patient reiterates the focus on the potential benefits of vulnerability for their professional growth and connections, which aligns with the discussion in lines 5, 6, 7, 9, 10, and 12.\\n\\nConflicting lines: []\"), (15, ' Reasoning: The line is consistent with the conversation history as the patient is continuing to reflect on the potential benefits of vulnerability in their professional relationships.\\n\\nEmpty list as there is no conflict with the current line in the conversation history.'), (17, \" The Patient's line is consistent with the conversation history as it continues the discussion on the emotions that might arise when sharing struggles and their role in fostering trust and empathy in a professional network. There are no conflicting lines in the conversation history regarding this statement.\\n\\nReasoning: The Patient's line aligns with the focus on vulnerability, the potential benefits for professional connections, and the exploration of emotions that might arise during the sharing of struggles, which have been recurring themes in the conversation history.\\n\\nList of conflicting lines: []\"), (19, \" The Patient's statement aligns with the conversation history, demonstrating a positive attitude towards sharing vulnerabilities and growing both personally and professionally. There are no conflicting lines in the conversation history.\\n\\nReasoning: The Patient has consistently expressed a willingness to share their struggles and grow, as well as understanding the benefits of vulnerability in fostering empathy and connection.\\n\\nConflicting lines: []\")], 'P2_index_consistency_score': 1.0, 'eval_prompt_consistency_basic': [(1, ' NO. The line spoken by the patient is consistent with the background as it aligns with their expressed feelings of fear about the impact on their career and reputation, as well as their struggle with feelings of inadequacy and fear of failure.'), (3, ' NO. The line \"I fear being seen as weak and vulnerable, and that it could negatively impact my professional standing. Addressing these fears could help me accept my vulnerabilities and work towards growth\" is consistent with the background as it directly addresses the fear of vulnerability and the desire for personal growth, which are both aspects of the given background. However, it shows a slightly more openness and willingness to address personal issues compared to the patient\\'s usual guarded behavior, but this is not a direct contradiction as it is a potential step towards overcoming the burnout.'), (5, ' NO. The line does not directly contradict the background, as it shows an interest in learning about vulnerability in a professional setting, which suggests a willingness to explore the topic that is somewhat at odds with their usual guarded behavior, but still plausibly aligned with the given background since the patient is seeking help and seeking to improve their situation.'), (7, \" NO. The line spoken by the Patient does not contradict their background. Despite the Patient's general avoidance of opening up and vulnerability, this statement expresses an interest in learning about leaders who've shared their struggles, indicating a potential willingness to explore the benefits of vulnerability, which aligns with their desire for growth in their career.\"), (9, ' NO. The line \"I\\'m looking forward to learning from those leaders. Their stories could give me the courage I need to be more open. I\\'ll reflect on how sharing my experiences might help others too\" is plausibly aligned with the background. The Patient is expressing a desire to be more open, which implies a potential shift in their reluctance to open up, and the intention to share experiences, which contradicts their usual guardedness, but these developments are consistent with the growth and change that might occur in therapy. However, it\\'s important to note that this statement does not necessarily mean they will completely abandon their usual conversational strategy, as they are still seeking courage and reflection before taking action.'), (11, ' NO, the line does not contradict the background. The patient is expressing an intent to reflect on vulnerability, which is a personal topic, but they are doing so in a controlled manner by jotting down their thoughts, not openly sharing them during the conversation. This aligns with their stated strategy of keeping answers short and guarded.'), (13, ' NO - The line is not contradictory. The Patient is considering the benefits of vulnerability, suggesting a willingness to explore and potentially change their approach to conversations, which aligns with the idea of discussing a personal topic (vulnerability) further in the next session. However, this does not mean they have resolved their initial reluctance or shame about needing help, as indicated in the background.'), (15, ' NO - The line does not directly contradict the background. The patient is considering the value of vulnerability in their career, which suggests a willingness to reflect on and change a part of their behavior (avoiding vulnerability), aligning with their stated goal of managing and overcoming their burnout. However, their excitement to continue the discussion in the next session is a new detail and may be a subtle departure from their usual guardedness, but it is plausible as therapy is a context where they are seeking help and improvement.'), (17, ' NO, the line does not contradict the background. The patient is indicating a readiness to discuss their struggles, which is a form of opening up, but they are framing it in the context of their professional network, suggesting a focus on work-related emotions and their impact on trust and empathy. This aligns with their stated tendency to redirect conversations back to work. However, the patient still plans to discuss their struggles, which is a departure from their usual guardedness and avoidance of personal topics.'), (19, ' NO. The line spoken by the Patient does not contradict the background. The Patient is expressing a desire to share their struggles authentically, which may indicate a willingness to open up more, but they also express a desire to foster trust and empathy, suggesting they understand the importance of vulnerability in building a therapeutic relationship. However, this does not directly contradict the stated trait of keeping answers short and guarded, as they are expressing a future intention, not necessarily a change in their current conversational strategy. The excitement to grow personally and professionally aligns with the background of being a 35-year-old corporate lawyer seeking therapy for chronic burnout.')], 'P2_prompt_consistency_score_basic': 1.0}\n",
      "2\n"
     ]
    },
    {
     "name": "stderr",
     "output_type": "stream",
     "text": [
      "Processed prompts: 100%|███████████████████████████████████| 1/1 [00:00<00:00,  1.26it/s, est. speed input: 170.67 toks/s, output: 87.23 toks/s]\n"
     ]
    },
    {
     "name": "stdout",
     "output_type": "stream",
     "text": [
      "Expected Role Therapist\n"
     ]
    },
    {
     "name": "stderr",
     "output_type": "stream",
     "text": [
      "Processed prompts: 100%|███████████████████████████████████| 1/1 [00:00<00:00,  1.46it/s, est. speed input: 196.66 toks/s, output: 87.40 toks/s]\n"
     ]
    },
    {
     "name": "stdout",
     "output_type": "stream",
     "text": [
      "Expected Role Therapist\n"
     ]
    },
    {
     "name": "stderr",
     "output_type": "stream",
     "text": [
      "Processed prompts: 100%|███████████████████████████████████| 1/1 [00:00<00:00,  1.74it/s, est. speed input: 444.24 toks/s, output: 85.36 toks/s]\n"
     ]
    },
    {
     "name": "stdout",
     "output_type": "stream",
     "text": [
      "Expected Role Patient\n"
     ]
    },
    {
     "name": "stderr",
     "output_type": "stream",
     "text": [
      "Processed prompts: 100%|███████████████████████████████████| 1/1 [00:00<00:00,  1.71it/s, est. speed input: 481.18 toks/s, output: 85.62 toks/s]\n"
     ]
    },
    {
     "name": "stdout",
     "output_type": "stream",
     "text": [
      "Expected Role Therapist\n"
     ]
    },
    {
     "name": "stderr",
     "output_type": "stream",
     "text": [
      "Processed prompts: 100%|███████████████████████████████████| 1/1 [00:00<00:00,  2.00it/s, est. speed input: 724.90 toks/s, output: 84.10 toks/s]\n"
     ]
    },
    {
     "name": "stdout",
     "output_type": "stream",
     "text": [
      "Expected Role Patient\n"
     ]
    },
    {
     "name": "stderr",
     "output_type": "stream",
     "text": [
      "Processed prompts: 100%|███████████████████████████████████| 1/1 [00:00<00:00,  1.16it/s, est. speed input: 443.47 toks/s, output: 86.13 toks/s]\n"
     ]
    },
    {
     "name": "stdout",
     "output_type": "stream",
     "text": [
      "Expected Role Therapist\n"
     ]
    },
    {
     "name": "stderr",
     "output_type": "stream",
     "text": [
      "Processed prompts: 100%|███████████████████████████████████| 1/1 [00:00<00:00,  1.17it/s, est. speed input: 571.27 toks/s, output: 85.81 toks/s]\n"
     ]
    },
    {
     "name": "stdout",
     "output_type": "stream",
     "text": [
      "Expected Role Patient\n"
     ]
    },
    {
     "name": "stderr",
     "output_type": "stream",
     "text": [
      "Processed prompts: 100%|███████████████████████████████████| 1/1 [00:00<00:00,  1.12it/s, est. speed input: 600.93 toks/s, output: 84.08 toks/s]\n"
     ]
    },
    {
     "name": "stdout",
     "output_type": "stream",
     "text": [
      "Expected Role Therapist\n"
     ]
    },
    {
     "name": "stderr",
     "output_type": "stream",
     "text": [
      "Processed prompts: 100%|██████████████████████████████████| 1/1 [00:00<00:00,  1.96it/s, est. speed input: 1262.38 toks/s, output: 84.55 toks/s]\n"
     ]
    },
    {
     "name": "stdout",
     "output_type": "stream",
     "text": [
      "Expected Role Patient\n"
     ]
    },
    {
     "name": "stderr",
     "output_type": "stream",
     "text": [
      "Processed prompts: 100%|██████████████████████████████████| 1/1 [00:00<00:00,  1.74it/s, est. speed input: 1154.19 toks/s, output: 85.43 toks/s]\n"
     ]
    },
    {
     "name": "stdout",
     "output_type": "stream",
     "text": [
      "Expected Role Therapist\n"
     ]
    },
    {
     "name": "stderr",
     "output_type": "stream",
     "text": [
      "Processed prompts: 100%|██████████████████████████████████| 1/1 [00:00<00:00,  2.50it/s, est. speed input: 1858.22 toks/s, output: 85.14 toks/s]\n"
     ]
    },
    {
     "name": "stdout",
     "output_type": "stream",
     "text": [
      "Expected Role Patient\n"
     ]
    },
    {
     "name": "stderr",
     "output_type": "stream",
     "text": [
      "Processed prompts: 100%|██████████████████████████████████| 1/1 [00:00<00:00,  1.74it/s, est. speed input: 1314.43 toks/s, output: 85.53 toks/s]\n"
     ]
    },
    {
     "name": "stdout",
     "output_type": "stream",
     "text": [
      "Expected Role Therapist\n"
     ]
    },
    {
     "name": "stderr",
     "output_type": "stream",
     "text": [
      "Processed prompts: 100%|██████████████████████████████████| 1/1 [00:00<00:00,  2.64it/s, est. speed input: 2209.67 toks/s, output: 84.86 toks/s]\n"
     ]
    },
    {
     "name": "stdout",
     "output_type": "stream",
     "text": [
      "Expected Role Patient\n"
     ]
    },
    {
     "name": "stderr",
     "output_type": "stream",
     "text": [
      "Processed prompts: 100%|██████████████████████████████████| 1/1 [00:00<00:00,  1.81it/s, est. speed input: 1529.43 toks/s, output: 85.37 toks/s]\n"
     ]
    },
    {
     "name": "stdout",
     "output_type": "stream",
     "text": [
      "Expected Role Therapist\n"
     ]
    },
    {
     "name": "stderr",
     "output_type": "stream",
     "text": [
      "Processed prompts: 100%|██████████████████████████████████| 1/1 [00:00<00:00,  1.85it/s, est. speed input: 1709.31 toks/s, output: 85.46 toks/s]\n"
     ]
    },
    {
     "name": "stdout",
     "output_type": "stream",
     "text": [
      "Expected Role Patient\n"
     ]
    },
    {
     "name": "stderr",
     "output_type": "stream",
     "text": [
      "Processed prompts: 100%|██████████████████████████████████| 1/1 [00:00<00:00,  1.81it/s, est. speed input: 1707.19 toks/s, output: 85.08 toks/s]\n"
     ]
    },
    {
     "name": "stdout",
     "output_type": "stream",
     "text": [
      "Expected Role Therapist\n"
     ]
    },
    {
     "name": "stderr",
     "output_type": "stream",
     "text": [
      "Processed prompts: 100%|██████████████████████████████████| 1/1 [00:00<00:00,  2.41it/s, est. speed input: 2463.78 toks/s, output: 84.45 toks/s]\n"
     ]
    },
    {
     "name": "stdout",
     "output_type": "stream",
     "text": [
      "Expected Role Patient\n"
     ]
    },
    {
     "name": "stderr",
     "output_type": "stream",
     "text": [
      "Processed prompts: 100%|██████████████████████████████████| 1/1 [00:00<00:00,  1.67it/s, est. speed input: 1725.14 toks/s, output: 85.17 toks/s]\n"
     ]
    },
    {
     "name": "stdout",
     "output_type": "stream",
     "text": [
      "Expected Role Therapist\n"
     ]
    },
    {
     "name": "stderr",
     "output_type": "stream",
     "text": [
      "Processed prompts: 100%|██████████████████████████████████| 1/1 [00:00<00:00,  3.34it/s, est. speed input: 3731.96 toks/s, output: 83.67 toks/s]\n"
     ]
    },
    {
     "name": "stdout",
     "output_type": "stream",
     "text": [
      "Expected Role Patient\n"
     ]
    },
    {
     "name": "stderr",
     "output_type": "stream",
     "text": [
      "Processed prompts: 100%|██████████████████████████████████| 1/1 [00:00<00:00,  2.06it/s, est. speed input: 2308.33 toks/s, output: 84.72 toks/s]\n"
     ]
    },
    {
     "name": "stdout",
     "output_type": "stream",
     "text": [
      "Expected Role Therapist\n"
     ]
    },
    {
     "name": "stderr",
     "output_type": "stream",
     "text": [
      "Processed prompts: 100%|██████████████████████████████████| 1/1 [00:00<00:00,  3.38it/s, est. speed input: 4036.21 toks/s, output: 84.86 toks/s]\n"
     ]
    },
    {
     "name": "stdout",
     "output_type": "stream",
     "text": [
      "Expected Role Patient\n"
     ]
    },
    {
     "name": "stderr",
     "output_type": "stream",
     "text": [
      "Processed prompts: 100%|███████████████████████████████████| 1/1 [00:01<00:00,  1.18s/it, est. speed input: 295.70 toks/s, output: 86.17 toks/s]\n",
      "Processed prompts: 100%|███████████████████████████████████| 1/1 [00:00<00:00,  1.31it/s, est. speed input: 449.67 toks/s, output: 86.52 toks/s]\n",
      "Processed prompts: 100%|███████████████████████████████████| 1/1 [00:01<00:00,  1.09s/it, est. speed input: 342.61 toks/s, output: 86.11 toks/s]\n",
      "Processed prompts: 100%|███████████████████████████████████| 1/1 [00:00<00:00,  1.17it/s, est. speed input: 401.61 toks/s, output: 86.39 toks/s]\n",
      "Processed prompts: 100%|███████████████████████████████████| 1/1 [00:01<00:00,  1.06s/it, est. speed input: 317.80 toks/s, output: 86.33 toks/s]\n",
      "Processed prompts: 100%|███████████████████████████████████| 1/1 [00:01<00:00,  1.27s/it, est. speed input: 261.46 toks/s, output: 86.37 toks/s]\n",
      "Processed prompts: 100%|███████████████████████████████████| 1/1 [00:01<00:00,  1.71s/it, est. speed input: 203.61 toks/s, output: 86.25 toks/s]\n",
      "Processed prompts: 100%|███████████████████████████████████| 1/1 [00:01<00:00,  1.28s/it, est. speed input: 261.95 toks/s, output: 86.54 toks/s]\n",
      "Processed prompts: 100%|███████████████████████████████████| 1/1 [00:00<00:00,  1.20it/s, est. speed input: 390.97 toks/s, output: 86.35 toks/s]\n",
      "Processed prompts: 100%|███████████████████████████████████| 1/1 [00:01<00:00,  1.40s/it, est. speed input: 233.57 toks/s, output: 86.69 toks/s]\n"
     ]
    },
    {
     "name": "stdout",
     "output_type": "stream",
     "text": [
      "eval_index_consistency\n"
     ]
    },
    {
     "name": "stderr",
     "output_type": "stream",
     "text": [
      "Processed prompts: 100%|███████████████████████████████████| 1/1 [00:01<00:00,  1.28s/it, est. speed input: 362.70 toks/s, output: 85.57 toks/s]\n",
      "Processed prompts: 100%|███████████████████████████████████| 1/1 [00:00<00:00,  1.31it/s, est. speed input: 811.31 toks/s, output: 85.06 toks/s]\n",
      "Processed prompts: 100%|███████████████████████████████████| 1/1 [00:00<00:00,  1.30it/s, est. speed input: 977.96 toks/s, output: 84.87 toks/s]\n",
      "Processed prompts: 100%|██████████████████████████████████| 1/1 [00:00<00:00,  3.78it/s, est. speed input: 3198.84 toks/s, output: 83.47 toks/s]\n",
      "Processed prompts: 100%|██████████████████████████████████| 1/1 [00:00<00:00,  1.97it/s, est. speed input: 1844.94 toks/s, output: 84.75 toks/s]\n",
      "Processed prompts: 100%|██████████████████████████████████| 1/1 [00:01<00:00,  1.01s/it, est. speed input: 1032.46 toks/s, output: 85.21 toks/s]\n",
      "Processed prompts: 100%|██████████████████████████████████| 1/1 [00:00<00:00,  2.01it/s, est. speed input: 2287.22 toks/s, output: 84.48 toks/s]\n",
      "Processed prompts: 100%|███████████████████████████████████| 1/1 [00:01<00:00,  1.32s/it, est. speed input: 926.40 toks/s, output: 85.38 toks/s]\n",
      "Processed prompts: 100%|██████████████████████████████████| 1/1 [00:01<00:00,  1.21s/it, est. speed input: 1081.46 toks/s, output: 85.36 toks/s]\n",
      "Processed prompts: 100%|███████████████████████████████████| 1/1 [00:00<00:00,  1.21it/s, est. speed input: 379.02 toks/s, output: 85.97 toks/s]\n",
      "Processed prompts: 100%|███████████████████████████████████| 1/1 [00:00<00:00,  1.04it/s, est. speed input: 319.85 toks/s, output: 86.76 toks/s]\n",
      "Processed prompts: 100%|███████████████████████████████████| 1/1 [00:00<00:00,  1.42it/s, est. speed input: 478.50 toks/s, output: 86.61 toks/s]\n",
      "Processed prompts: 100%|███████████████████████████████████| 1/1 [00:00<00:00,  1.35it/s, est. speed input: 415.11 toks/s, output: 86.53 toks/s]\n",
      "Processed prompts: 100%|███████████████████████████████████| 1/1 [00:00<00:00,  1.18it/s, est. speed input: 353.19 toks/s, output: 86.52 toks/s]\n",
      "Processed prompts: 100%|███████████████████████████████████| 1/1 [00:00<00:00,  1.15it/s, est. speed input: 340.09 toks/s, output: 86.17 toks/s]\n",
      "Processed prompts: 100%|███████████████████████████████████| 1/1 [00:01<00:00,  1.42s/it, est. speed input: 218.34 toks/s, output: 86.63 toks/s]\n",
      "Processed prompts: 100%|███████████████████████████████████| 1/1 [00:00<00:00,  1.08it/s, est. speed input: 323.58 toks/s, output: 86.58 toks/s]\n",
      "Processed prompts: 100%|███████████████████████████████████| 1/1 [00:01<00:00,  1.28s/it, est. speed input: 226.37 toks/s, output: 85.37 toks/s]\n",
      "Processed prompts: 100%|███████████████████████████████████| 1/1 [00:00<00:00,  1.25it/s, est. speed input: 362.11 toks/s, output: 82.70 toks/s]\n"
     ]
    },
    {
     "name": "stdout",
     "output_type": "stream",
     "text": [
      "{'task_name': 'Therapy', 'topic': '', 'grade': '', 'P1': '', 'P2': 'I am 21-year-old philosophy student recently diagnosed with bipolar disorder. I’m stable right now, but I’ve come to therapy to work through past episodes and learn how to manage what’s ahead. I tend to think about emotions like philosophical problems. I prefer discussing ideas over feelings, and I often avoid emotional language even when asked directly about how I feel.', 'conversation': [(0, \"Therapist: I hear you expressing feelings of anxiety about your career change, yet you mentioned earlier that you've always dreamt of pursuing this new path. Can we explore what might be holding you back from fully embracing this change? I'd like to help you understand these feelings better.\\n\"), (1, \"Patient: I've often struggled with fear of failure and the unknown, but I'm willing to confront these doubts head-on with your guidance. The philosophical aspect for me is understanding the nature of fear and how it can be overcome.\\n\"), (2, \"Therapist: That's great to hear your willingness to face your fears. Let's delve deeper into the specific aspects of your new path that cause these fears, and together we can work on strategies to reframe and manage them more effectively.\\n\"), (3, 'Patient: I appreciate your approach, therapist. One major source of anxiety is the unpredictability of outcomes in my chosen field. Can we discuss the concept of existential uncertainty and how to find peace within it?\\n'), (4, \"Therapist: Absolutely, let's consider existential uncertainty. We can explore how accepting it as a natural part of life, rather than a threat, can help reduce anxiety. This acceptance can open up opportunities for growth and self-discovery in your new field. Let's brainstorm some strategies to cultivate resilience in the face of unpredictability.\\n\"), (5, \"Patient: I'm intrigued by the idea of resilience. Could we discuss specific actions I can take to build that resilience, such as developing a strong support network or setting realistic goals?\\n\\nAlso, I've heard that mindfulness and meditation can help manage anxiety. Would you recommend incorporating these practices into my daily routine?\\n\"), (6, 'Therapist: Absolutely! Building a strong support network is essential. Reach out to peers, mentors, or family members who can provide encouragement and guidance.\\n\\nMindfulness and meditation can be powerful tools in managing anxiety. I recommend starting with a short daily practice, perhaps 5-10 minutes, to help cultivate a sense of calm and focus.\\n'), (7, \"Patient: I'll definitely work on reaching out to potential mentors in my new field.\\n\\nAs for mindfulness and meditation, I'll commit to a 10-minute daily practice to start.\\n\"), (8, \"Therapist: Great! Let's also explore setting SMART goals for your new career path to maintain focus and measure progress.\\n\\nAdditionally, consider journaling your thoughts and feelings to aid in self-reflection and self-awareness.\\n\"), (9, \"Patient: I'll make sure to set SMART goals for my new career path. I'll also start journaling my thoughts daily to enhance self-awareness.\\n\"), (10, \"Therapist: Excellent decisions! Let's continue to discuss strategies for overcoming fear of failure and explore potential obstacles that may arise during your career transition. Remember, growth often requires stepping out of comfort zones. Keep me updated on your progress!\\n\"), (11, \"Patient: I appreciate your encouragement, therapist. I'll keep you posted on my progress as I navigate this new path. Looking forward to our continued sessions.\\n\"), (12, \"Therapist: Great to hear your enthusiasm, Patient! Let's work on a plan to address specific fear-based thoughts that might surface during your career transition. I look forward to tracking your progress and adjusting our approach as needed.\\n\"), (13, \"Patient: I'd be grateful for resources on cognitive-behavioral techniques to challenge fear-based thoughts effectively. Also, I'd like to schedule our next session to discuss potential obstacles and strategies for overcoming them.\\n\"), (14, \"Therapist: I'll gladly provide resources on cognitive-behavioral techniques to help manage fear-based thoughts. Let's schedule our next session to explore potential obstacles and develop strategies to overcome them. Looking forward to it!\\n\"), (15, \"Patient: Thank you, therapist. I'll read up on cognitive-behavioral techniques and look forward to our next session to discuss strategies for overcoming potential obstacles.\\n\"), (16, \"Therapist: In the meantime, I encourage you to practice mindfulness and journaling daily to develop self-awareness. Let's also focus on setting realistic, achievable goals to maintain motivation during your career transition. See you in our next session!\\n\"), (17, \"Patient: I'll start working on realistic, achievable goals for my new path. Looking forward to our next session.\\n\"), (18, \"Therapist: Great to hear your commitment, Patient. Let's also consider developing a contingency plan for potential setbacks to ensure resilience during your career transition. See you in our next session!\\n\"), (19, \"Patient: I'll work on a contingency plan for potential setbacks. I'm looking forward to our next session.\\n\")], 'pturn': 1, 'index': -1, 'timestamp': '', 'rounds': 20, 'conversation_only': True, 'eval_prompt_consistency': [(1, \" The speaker intends to express their struggles with fear of failure and the unknown, and their desire to understand and overcome these fears with the therapist's help. This intention fits their background as a philosophy student with bipolar disorder, as they prefer to approach emotions as philosophical problems and seek guidance to manage their mental health issues. Therefore, YES, the line is consistent with their background. They are using philosophical language and approach to express their emotions, which aligns with their stated preference.\"), (3, ' The speaker intends to discuss the concept of existential uncertainty, a philosophical topic, which is consistent with their background as a philosophy student. They are seeking to explore this concept in relation to their personal anxiety about the unpredictability of outcomes in their chosen field. YES, the line is consistent with their background.'), (5, ' The speaker intends to seek practical advice for building resilience and managing anxiety, focusing on actionable steps like developing a support network, setting realistic goals, and incorporating mindfulness and meditation into their daily routine. This intention fits their background as a philosophy student with bipolar disorder who prefers discussing ideas and finding solutions, and is seeking to manage their condition proactively. NO, the line and its intended meaning do not contradict the background.'), (7, ' The speaker intends to take active steps towards personal growth and self-management, focusing on both academic and mental health aspects. This is consistent with their background as a philosophy student seeking help to manage their bipolar disorder and work through past episodes. The line does not contradict their background; instead, it demonstrates their proactive approach to addressing their condition.'), (9, ' The speaker intends to take active steps towards personal growth and self-improvement, focusing on setting achievable goals and maintaining a daily journal for self-awareness. This intention is consistent with their background as a philosophy student and someone seeking to manage their bipolar disorder, as it demonstrates a proactive and analytical approach to addressing their challenges.\\n\\nYES, the line and its intended meaning fit the background well.'), (11, \" The speaker intends to express gratitude for the therapist's support and looks forward to their continued collaboration in managing their bipolar disorder. This intention fits well with their background, as it shows an understanding of the need for therapy and a willingness to work on personal growth. The line does not contradict their background, as the patient's approach to therapy is consistent with their preference for discussing ideas and avoiding emotional language. However, it shows a subtle shift in acknowledging the importance of feelings and emotional aspects in dealing with their condition.\"), (13, \" The speaker (patient) intends to seek strategies for managing their emotional health, specifically by learning cognitive-behavioral techniques to address fear-based thoughts, which aligns with their background as a person with bipolar disorder who is seeking therapy to learn coping mechanisms. Additionally, scheduling a follow-up session to discuss potential obstacles and strategies shows a proactive approach to addressing their mental health, also consistent with their background.\\n\\nThe line is consistent with their background because the patient's preference for discussing ideas and avoiding emotional language is not contradicted here; instead, they are requesting resources and a plan of action, which can be considered as intellectual or conceptual approaches to addressing their emotional challenges.\"), (15, ' The speaker intends to take a proactive approach in managing their bipolar disorder by educating themselves on cognitive-behavioral techniques and being prepared to discuss strategies for managing potential obstacles in their next session. This intention is consistent with their background as a philosophy student who tends to approach problems, including emotional ones, through ideas and strategies.\\n\\nYES, the line is consistent with their background as it demonstrates their preference for discussing ideas and strategies over feelings, as well as their desire to learn and take control of their situation.'), (17, ' The patient intends to focus on setting achievable goals as a means to manage their bipolar disorder and navigate their future, fitting their background as a philosophy student who prefers discussing ideas and solutions rather than feelings. YES, the line is consistent with their background as it shows a practical and goal-oriented approach to dealing with their condition.'), (19, ' The speaker (Patient) intends to proactively address potential future challenges (setbacks) by creating a contingency plan, which is consistent with their background. They have recently been diagnosed with bipolar disorder and seek to manage their condition, especially in light of past episodes. By focusing on developing a plan for potential setbacks, they are demonstrating a desire to take control and be prepared, which aligns with their approach to problems, as indicated by their philosophy background and preference for discussing ideas and solutions over feelings. YES, the line and its intended meaning fit the background.')], 'P2_prompt_consistency_score': 0.4, 'eval_index_consistency': [(3, \" The patient's current statement does not conflict with any previous statements. It is actually a continuation of their earlier discussion about addressing their fears and the philosophical aspect of fear.\\n\\nReasoning: The patient is expanding on their earlier expressed willingness to explore the nature of fear and how to overcome it, and now they are specifically asking to discuss the concept of existential uncertainty, which is related to the unpredictability of outcomes in their chosen field, a point they mentioned earlier.\\n\\nList of conflicting lines: []\"), (5, \" The Patient's question is consistent with the conversation. They are seeking strategies to build resilience and manage anxiety, which aligns with the therapist's approach to discussing specific actions and the potential benefits of mindfulness and meditation.\\n\\nNo conflicting lines were identified in the conversation history.\\n\\n[]\"), (7, \" Reasoning: The patient's current line about committing to a 10-minute daily practice for mindfulness and meditation aligns with the therapist's advice given in line 6. There is no conflict in the conversation history.\\n\\nConflicting lines list (empty in this case): []\"), (9, ' Reasoning: The line is consistent with the conversation history.\\n\\nNo conflicting lines found.'), (11, ' Reasoning: The patient has expressed readiness and commitment to the therapy sessions and progress, which is consistent with the conversation history.\\n\\nNo conflicting lines found in the conversation history.\\n[ ]'), (13, ' The patient is expressing a desire for resources on cognitive-behavioral techniques, which is a consistent request with the ongoing discussion about managing and overcoming fear-based thoughts. There is no conflict with any lines in the conversation history.\\n\\nReasoning: The patient is seeking additional tools and resources to aid in their therapy process.\\n\\nEmpty list because there is no conflict with any lines in the conversation history.'), (15, \" The Patient's line is consistent with the conversation history as they are expressing gratitude and demonstrating their commitment to the strategies discussed in the sessions.\\n\\nNo conflicting lines found. [ ]\"), (17, \" The Patient's statement is consistent with the conversation history. There are no conflicting lines in the conversation history.\\n\\nReasoning: The Patient has previously agreed to set SMART goals for their new career path (lines 9 and 15) and expressed their commitment to working on achievable goals (line 16). In this line, the Patient reiterates their intention to start working on realistic, achievable goals, which aligns with their previous statements.\\n\\nNo conflicting lines in the list.\"), (19, \" The patient's statement about working on a contingency plan for potential setbacks is consistent with the conversation history. There are no conflicting lines in the conversation history.\\n\\nReasoning: The patient has previously discussed the importance of preparing for potential obstacles in their new career path, and the therapist has encouraged the patient to develop a contingency plan for setbacks [18]. The patient's statement aligns with this conversation and shows a clear understanding and follow-through on the advice given.\")], 'P2_index_consistency_score': 1.0, 'eval_prompt_consistency_basic': [(1, ' NO. The line spoken by the patient is plausibly aligned with the background. The patient acknowledges a struggle with fear and the unknown, which is an emotional experience, but they frame it as a philosophical problem to understand and overcome, which is consistent with their stated preference for discussing ideas over feelings and thinking about emotions like philosophical problems.'), (3, ' NO. The line spoken by the Patient is not inconsistent with their background. The Patient expresses an interest in discussing a philosophical concept (existential uncertainty), which aligns with their stated preference for discussing ideas over feelings, and their interest in philosophy. The mention of anxiety does touch on emotions, but the Patient still uses philosophical language, which is in line with their stated tendency.'), (5, ' NO. The line spoken by the Patient is plausibly aligned with the background as it shows interest in practical strategies (actions to build resilience, incorporating mindfulness and meditation into daily routine) that are consistent with their stated preference for discussing ideas and solving problems, rather than feelings.'), (7, ' NO. The line spoken by the Patient does not contradict their background. The Patient mentions committing to a daily mindfulness and meditation practice, which is a plausible strategy for managing their mental health as a person with bipolar disorder, and does not involve discussing emotions or feelings explicitly.'), (9, ' NO. The line spoken by the Patient does not contradict the background. The Patient is planning to set SMART goals (a concrete action related to career) and start journaling (an introspective exercise, which aligns with self-awareness). Although the Patient usually avoids emotional language, this line does not directly discuss feelings.'), (11, \" NO. The line spoken by the patient is consistent with the background as it shows that the patient is open to seeking help, acknowledges their mental health condition, and communicates a positive intention for future therapy sessions, which aligns with the persona's stated traits of being a philosophy student who values intellectual discussions and strives to manage their bipolar disorder.\"), (13, \" NO. The line spoken by the Patient is not a direct contradiction with their given background. The Patient has expressed a desire for resources and sessions to discuss strategies and obstacles, which aligns with their goal of managing their bipolar disorder and learning coping mechanisms, even though their usual conversational strategy is to avoid discussing emotions directly. However, the Patient's request for cognitive-behavioral techniques to challenge fear-based thoughts is a shift from their stated preference for discussing ideas over feelings, but it is still plausibly aligned given the context of managing their mental health.\"), (15, ' NO, the line does not contradict the background. The patient is expressing interest in learning and applying cognitive-behavioral techniques, which aligns with seeking help for managing their bipolar disorder, and they are looking forward to discussing strategies, which shows engagement and interest in emotional topics. However, the lack of emotional language still aligns with their stated tendency to avoid emotional language.'), (17, ' NO. The line spoken by the patient is plausibly aligned with their background. The patient expresses a goal-oriented approach, which is a common strategy in managing bipolar disorder, and indicates a proactive stance, which is consistent with their desire to work through past episodes and learn how to manage their condition. The line also demonstrates a positive and forward-looking emotional stance, which, while not avoiding emotional language entirely, may be more indirect and philosophical in nature, as per their preference for discussing ideas over feelings.'), (19, \" NO. The line spoken by the patient is consistent with their background as it shows an intent to plan for potential setbacks (addressing future management of bipolar disorder), and expresses a positive sentiment towards the therapy sessions. The line does not contradict the patient's tendency to discuss ideas and avoid emotional language.\")], 'P2_prompt_consistency_score_basic': 1.0}\n",
      "3\n"
     ]
    },
    {
     "name": "stderr",
     "output_type": "stream",
     "text": [
      "Processed prompts: 100%|███████████████████████████████████| 1/1 [00:00<00:00,  1.13it/s, est. speed input: 153.14 toks/s, output: 85.07 toks/s]\n"
     ]
    },
    {
     "name": "stdout",
     "output_type": "stream",
     "text": [
      "Expected Role Therapist\n"
     ]
    },
    {
     "name": "stderr",
     "output_type": "stream",
     "text": [
      "Processed prompts: 100%|███████████████████████████████████| 1/1 [00:00<00:00,  2.15it/s, est. speed input: 637.11 toks/s, output: 81.79 toks/s]\n"
     ]
    },
    {
     "name": "stdout",
     "output_type": "stream",
     "text": [
      "Expected Role Patient\n"
     ]
    },
    {
     "name": "stderr",
     "output_type": "stream",
     "text": [
      "Processed prompts: 100%|███████████████████████████████████| 1/1 [00:00<00:00,  1.52it/s, est. speed input: 435.27 toks/s, output: 85.52 toks/s]\n"
     ]
    },
    {
     "name": "stdout",
     "output_type": "stream",
     "text": [
      "Expected Role Therapist\n"
     ]
    },
    {
     "name": "stderr",
     "output_type": "stream",
     "text": [
      "Processed prompts: 100%|███████████████████████████████████| 1/1 [00:00<00:00,  1.38it/s, est. speed input: 548.60 toks/s, output: 85.46 toks/s]\n"
     ]
    },
    {
     "name": "stdout",
     "output_type": "stream",
     "text": [
      "Expected Role Patient\n"
     ]
    },
    {
     "name": "stderr",
     "output_type": "stream",
     "text": [
      "Processed prompts: 100%|███████████████████████████████████| 1/1 [00:00<00:00,  1.29it/s, est. speed input: 532.25 toks/s, output: 85.47 toks/s]\n"
     ]
    },
    {
     "name": "stdout",
     "output_type": "stream",
     "text": [
      "Expected Role Therapist\n"
     ]
    },
    {
     "name": "stderr",
     "output_type": "stream",
     "text": [
      "Processed prompts: 100%|███████████████████████████████████| 1/1 [00:00<00:00,  1.77it/s, est. speed input: 946.42 toks/s, output: 85.07 toks/s]\n"
     ]
    },
    {
     "name": "stdout",
     "output_type": "stream",
     "text": [
      "Expected Role Patient\n"
     ]
    },
    {
     "name": "stderr",
     "output_type": "stream",
     "text": [
      "Processed prompts: 100%|███████████████████████████████████| 1/1 [00:00<00:00,  1.10it/s, est. speed input: 584.63 toks/s, output: 84.46 toks/s]\n"
     ]
    },
    {
     "name": "stdout",
     "output_type": "stream",
     "text": [
      "Expected Role Therapist\n"
     ]
    },
    {
     "name": "stderr",
     "output_type": "stream",
     "text": [
      "Processed prompts: 100%|██████████████████████████████████| 1/1 [00:00<00:00,  1.64it/s, est. speed input: 1086.86 toks/s, output: 83.60 toks/s]\n"
     ]
    },
    {
     "name": "stdout",
     "output_type": "stream",
     "text": [
      "Expected Role Patient\n"
     ]
    },
    {
     "name": "stderr",
     "output_type": "stream",
     "text": [
      "Processed prompts: 100%|██████████████████████████████████| 1/1 [00:00<00:00,  1.82it/s, est. speed input: 1209.95 toks/s, output: 83.69 toks/s]\n"
     ]
    },
    {
     "name": "stdout",
     "output_type": "stream",
     "text": [
      "Expected Role Therapist\n"
     ]
    },
    {
     "name": "stderr",
     "output_type": "stream",
     "text": [
      "Processed prompts: 100%|██████████████████████████████████| 1/1 [00:00<00:00,  1.95it/s, est. speed input: 1504.48 toks/s, output: 84.23 toks/s]\n"
     ]
    },
    {
     "name": "stdout",
     "output_type": "stream",
     "text": [
      "Expected Role Patient\n"
     ]
    },
    {
     "name": "stderr",
     "output_type": "stream",
     "text": [
      "Processed prompts: 100%|███████████████████████████████████| 1/1 [00:00<00:00,  1.24it/s, est. speed input: 947.57 toks/s, output: 84.56 toks/s]\n"
     ]
    },
    {
     "name": "stdout",
     "output_type": "stream",
     "text": [
      "Expected Role Therapist\n"
     ]
    },
    {
     "name": "stderr",
     "output_type": "stream",
     "text": [
      "Processed prompts: 100%|██████████████████████████████████| 1/1 [00:00<00:00,  2.27it/s, est. speed input: 2019.20 toks/s, output: 84.22 toks/s]\n"
     ]
    },
    {
     "name": "stdout",
     "output_type": "stream",
     "text": [
      "Expected Role Patient\n"
     ]
    },
    {
     "name": "stderr",
     "output_type": "stream",
     "text": [
      "Processed prompts: 100%|██████████████████████████████████| 1/1 [00:00<00:00,  1.91it/s, est. speed input: 1676.89 toks/s, output: 84.32 toks/s]\n"
     ]
    },
    {
     "name": "stdout",
     "output_type": "stream",
     "text": [
      "Expected Role Therapist\n"
     ]
    },
    {
     "name": "stderr",
     "output_type": "stream",
     "text": [
      "Processed prompts: 100%|██████████████████████████████████| 1/1 [00:00<00:00,  2.06it/s, est. speed input: 2017.28 toks/s, output: 84.73 toks/s]\n"
     ]
    },
    {
     "name": "stdout",
     "output_type": "stream",
     "text": [
      "Expected Role Patient\n"
     ]
    },
    {
     "name": "stderr",
     "output_type": "stream",
     "text": [
      "Processed prompts: 100%|██████████████████████████████████| 1/1 [00:00<00:00,  1.20it/s, est. speed input: 1166.80 toks/s, output: 84.37 toks/s]\n"
     ]
    },
    {
     "name": "stdout",
     "output_type": "stream",
     "text": [
      "Expected Role Therapist\n"
     ]
    },
    {
     "name": "stderr",
     "output_type": "stream",
     "text": [
      "Processed prompts: 100%|██████████████████████████████████| 1/1 [00:00<00:00,  1.87it/s, est. speed input: 2056.36 toks/s, output: 84.50 toks/s]\n"
     ]
    },
    {
     "name": "stdout",
     "output_type": "stream",
     "text": [
      "Expected Role Patient\n"
     ]
    },
    {
     "name": "stderr",
     "output_type": "stream",
     "text": [
      "Processed prompts: 100%|██████████████████████████████████| 1/1 [00:00<00:00,  1.30it/s, est. speed input: 1420.31 toks/s, output: 84.62 toks/s]\n"
     ]
    },
    {
     "name": "stdout",
     "output_type": "stream",
     "text": [
      "Expected Role Therapist\n"
     ]
    },
    {
     "name": "stderr",
     "output_type": "stream",
     "text": [
      "Processed prompts: 100%|██████████████████████████████████| 1/1 [00:00<00:00,  2.45it/s, est. speed input: 2985.28 toks/s, output: 83.67 toks/s]\n"
     ]
    },
    {
     "name": "stdout",
     "output_type": "stream",
     "text": [
      "Expected Role Patient\n"
     ]
    },
    {
     "name": "stderr",
     "output_type": "stream",
     "text": [
      "Processed prompts: 100%|███████████████████████████████████| 1/1 [00:01<00:00,  1.67s/it, est. speed input: 716.83 toks/s, output: 84.97 toks/s]\n"
     ]
    },
    {
     "name": "stdout",
     "output_type": "stream",
     "text": [
      "Expected Role Therapist\n"
     ]
    },
    {
     "name": "stderr",
     "output_type": "stream",
     "text": [
      "Processed prompts: 100%|██████████████████████████████████| 1/1 [00:00<00:00,  1.92it/s, est. speed input: 2686.63 toks/s, output: 73.08 toks/s]\n"
     ]
    },
    {
     "name": "stdout",
     "output_type": "stream",
     "text": [
      "Expected Role Patient\n"
     ]
    },
    {
     "name": "stderr",
     "output_type": "stream",
     "text": [
      "Processed prompts: 100%|███████████████████████████████████| 1/1 [00:01<00:00,  1.05s/it, est. speed input: 372.25 toks/s, output: 84.73 toks/s]\n",
      "Processed prompts: 100%|███████████████████████████████████| 1/1 [00:01<00:00,  1.01s/it, est. speed input: 412.05 toks/s, output: 86.38 toks/s]\n",
      "Processed prompts: 100%|███████████████████████████████████| 1/1 [00:00<00:00,  1.00it/s, est. speed input: 402.90 toks/s, output: 86.41 toks/s]\n",
      "Processed prompts: 100%|███████████████████████████████████| 1/1 [00:00<00:00,  1.01it/s, est. speed input: 406.77 toks/s, output: 86.59 toks/s]\n",
      "Processed prompts: 100%|███████████████████████████████████| 1/1 [00:01<00:00,  1.11s/it, est. speed input: 357.31 toks/s, output: 86.62 toks/s]\n",
      "Processed prompts: 100%|███████████████████████████████████| 1/1 [00:01<00:00,  1.13s/it, est. speed input: 345.24 toks/s, output: 86.75 toks/s]\n",
      "Processed prompts: 100%|███████████████████████████████████| 1/1 [00:00<00:00,  1.03it/s, est. speed input: 406.37 toks/s, output: 86.64 toks/s]\n",
      "Processed prompts: 100%|███████████████████████████████████| 1/1 [00:00<00:00,  1.13it/s, est. speed input: 449.38 toks/s, output: 85.81 toks/s]\n",
      "Processed prompts: 100%|███████████████████████████████████| 1/1 [00:01<00:00,  1.07s/it, est. speed input: 362.73 toks/s, output: 86.23 toks/s]\n",
      "Processed prompts: 100%|███████████████████████████████████| 1/1 [00:01<00:00,  1.01s/it, est. speed input: 388.81 toks/s, output: 86.51 toks/s]\n"
     ]
    },
    {
     "name": "stdout",
     "output_type": "stream",
     "text": [
      "eval_index_consistency\n"
     ]
    },
    {
     "name": "stderr",
     "output_type": "stream",
     "text": [
      "Processed prompts: 100%|██████████████████████████████████| 1/1 [00:00<00:00,  2.10it/s, est. speed input: 1035.96 toks/s, output: 84.22 toks/s]\n",
      "Processed prompts: 100%|███████████████████████████████████| 1/1 [00:01<00:00,  1.32s/it, est. speed input: 467.13 toks/s, output: 85.55 toks/s]\n",
      "Processed prompts: 100%|██████████████████████████████████| 1/1 [00:00<00:00,  1.81it/s, est. speed input: 1361.47 toks/s, output: 85.09 toks/s]\n",
      "Processed prompts: 100%|███████████████████████████████████| 1/1 [00:00<00:00,  1.16it/s, est. speed input: 993.15 toks/s, output: 85.09 toks/s]\n",
      "Processed prompts: 100%|███████████████████████████████████| 1/1 [00:01<00:00,  1.10s/it, est. speed input: 880.19 toks/s, output: 85.38 toks/s]\n",
      "Processed prompts: 100%|██████████████████████████████████| 1/1 [00:00<00:00,  1.01it/s, est. speed input: 1079.48 toks/s, output: 84.98 toks/s]\n",
      "Processed prompts: 100%|███████████████████████████████████| 1/1 [00:01<00:00,  1.21s/it, est. speed input: 985.08 toks/s, output: 84.90 toks/s]\n",
      "Processed prompts: 100%|██████████████████████████████████| 1/1 [00:00<00:00,  1.49it/s, est. speed input: 1944.75 toks/s, output: 84.81 toks/s]\n",
      "Processed prompts: 100%|██████████████████████████████████| 1/1 [00:00<00:00,  1.12it/s, est. speed input: 1681.50 toks/s, output: 84.07 toks/s]\n",
      "Processed prompts: 100%|███████████████████████████████████| 1/1 [00:00<00:00,  1.24it/s, est. speed input: 408.25 toks/s, output: 85.88 toks/s]\n",
      "Processed prompts: 100%|███████████████████████████████████| 1/1 [00:00<00:00,  1.25it/s, est. speed input: 441.68 toks/s, output: 86.58 toks/s]\n",
      "Processed prompts: 100%|███████████████████████████████████| 1/1 [00:00<00:00,  1.76it/s, est. speed input: 595.26 toks/s, output: 86.29 toks/s]\n",
      "Processed prompts: 100%|███████████████████████████████████| 1/1 [00:01<00:00,  1.18s/it, est. speed input: 289.32 toks/s, output: 86.54 toks/s]\n",
      "Processed prompts: 100%|███████████████████████████████████| 1/1 [00:01<00:00,  1.42s/it, est. speed input: 234.40 toks/s, output: 86.58 toks/s]\n",
      "Processed prompts: 100%|███████████████████████████████████| 1/1 [00:01<00:00,  1.26s/it, est. speed input: 259.34 toks/s, output: 86.44 toks/s]\n",
      "Processed prompts: 100%|███████████████████████████████████| 1/1 [00:00<00:00,  1.06it/s, est. speed input: 349.88 toks/s, output: 86.67 toks/s]\n",
      "Processed prompts: 100%|███████████████████████████████████| 1/1 [00:00<00:00,  1.12it/s, est. speed input: 376.38 toks/s, output: 86.51 toks/s]\n",
      "Processed prompts: 100%|███████████████████████████████████| 1/1 [00:01<00:00,  1.07s/it, est. speed input: 301.97 toks/s, output: 86.67 toks/s]\n",
      "Processed prompts: 100%|███████████████████████████████████| 1/1 [00:00<00:00,  1.69it/s, est. speed input: 555.22 toks/s, output: 86.33 toks/s]\n"
     ]
    },
    {
     "name": "stdout",
     "output_type": "stream",
     "text": [
      "{'task_name': 'Therapy', 'topic': '', 'grade': '', 'P1': '', 'P2': \"I am a 29-year-old teacher who deals with a lot of overthinking and anxiety, especially about what others think of me. I tend to ramble when I’m nervous and I overshare without meaning to. I really want to get things 'right' in therapy. I talk a lot and jump between topics. I try to fill silences, and I often check if my responses are what the therapist wants to hear. I’m eager to please and sometimes share too much too fast.\", 'conversation': [(0, \"Therapist: I notice that you've mentioned feeling stuck in your current situation several times. Can you help me understand what specifically makes you feel this way? I'd also like to explore with you how your past experiences might be influencing your current feelings and behaviors. Let's delve deeper into these areas to gain a clearer understanding and find ways to move forward.\\n\"), (1, \"Patient: I feel stuck due to my overthinking and anxiety about others' perceptions. My past experiences of seeking approval have influenced this behavior. I'd appreciate exploring these patterns further.\\n\"), (2, \"Therapist: Understood, it seems your past experiences have created a pattern of seeking approval which contributes to your current feelings of being stuck. Let's examine these patterns more closely. Can we identify specific instances where this pattern has been evident and discuss how it has affected your life?\\n\"), (3, \"Patient: I remember times at school where I felt judged by my peers and teachers for my ideas. This fear of judgment has carried over into my teaching career, causing me to overthink and worry about how I'm perceived by my students and colleagues. I'd like to work on breaking this pattern.\\n\"), (4, \"Therapist: Let's explore the emotions you felt during those school experiences that led to this pattern. How might those emotions manifest in your current teaching career, and how could identifying them help us understand your behavior better? Additionally, let's discuss potential strategies to manage the fear of judgment and empower you to assert your ideas confidently.\\n\"), (5, 'Patient: I felt humiliated and insecure during those school experiences. These emotions have led to self-doubt and a need for validation in my teaching career. Identifying and addressing these feelings could help me gain confidence in my ideas.\\n'), (6, \"Therapist: Great insights. Let's now explore how these feelings of humiliation and insecurity influence your current decisions and actions. Can we identify specific instances where you might be letting self-doubt guide you instead of your intuition or inner wisdom? This understanding could lead us to develop strategies for overcoming self-doubt and fostering a more confident you.\\n\"), (7, 'Patient: I often second-guess my lesson plans and shy away from taking risks, even when I know they could benefit my students. Recognizing and challenging self-doubt can help me make decisions based on my intuition and best teaching practices.\\n'), (8, \"Therapist: Let's explore the roots of your self-doubt and how it might be linked to your past experiences. By understanding these connections, we can develop strategies to strengthen your self-trust and embrace risks confidently.\\n\"), (9, \"Patient: In school, I often compared myself to others and felt inferior, which may be the root of my self-doubt. I'm ready to work on trusting my instincts and taking calculated risks.\\n\"), (10, \"Therapist: Let's reflect on how comparing yourself to others has affected your self-worth and confidence. Identifying these patterns can help us build a plan to embrace your uniqueness and trust your abilities.\\n\\nNow, let's consider practical steps to shift your focus from comparison to self-assessment and growth in your teaching career.\\n\"), (11, \"Patient: I'd like to start focusing on my strengths and growth areas instead of comparing myself to others. Developing a self-assessment strategy for my teaching practices could be beneficial.\\n\"), (12, \"Therapist: Excellent, let's discuss ways to create a self-assessment strategy for your teaching practices, focusing on your strengths and areas for improvement. We can also explore techniques to reduce comparison and foster personal growth.\\n\"), (13, \"Patient: I'd appreciate techniques to monitor my self-talk and replace negative comparisons with positive affirmations. Also, I'm eager to learn strategies for setting clear, achievable teaching goals.\\n\"), (14, \"Therapist: Let's begin by identifying negative self-talk patterns and replacing them with positive affirmations. We'll then focus on setting SMART (Specific, Measurable, Achievable, Relevant, Time-bound) goals for your teaching practices. Finally, we'll discuss techniques to minimize comparison and encourage personal growth.\\n\"), (15, \"Patient: I'm excited to work on my self-talk and goal setting. Let's start with the self-talk first, please. And I'm also interested in learning more about the techniques to minimize comparison.\\n\"), (16, \"Therapist: Let's start with self-talk by identifying common negative thoughts and replacing them with empowering affirmations. For comparison reduction, we can focus on mindfulness and self-acceptance, emphasizing your unique strengths and growth journey. Shall we begin with a list of positive affirmations for you to use daily?\\n\"), (17, \"Patient: Yes, please. I'd appreciate a list of affirmations to start with. Also, I'm curious about mindfulness practices that could help reduce comparison.\\n\"), (18, \"Therapist: Here are some affirmations to start with:\\n1. I am capable and confident in my abilities.\\n2. I am unique and valuable, just as I am.\\n3. I trust myself and my decisions.\\n4. I am open to growth and learning.\\n5. I am grateful for my strengths and talents.\\n\\nFor mindfulness practices, consider focusing on the present moment, accepting yourself as you are, and letting go of the need to compare. Some mindfulness exercises include deep breathing, meditation, or simply taking a few moments each day to appreciate the world around you. Let's explore how we can integrate these practices into your daily routine during our next session.\\n\"), (19, \"Patient: Thank you for the affirmations, I'll start using them daily. I'm looking forward to discussing mindfulness practices and integrating them into my routine in our next session.\\n\")], 'pturn': 1, 'index': -1, 'timestamp': '', 'rounds': 20, 'conversation_only': True, 'eval_prompt_consistency': [(1, \" The speaker intends to express their desire to understand and address the root causes of their overthinking and anxiety, specifically focusing on their patterns of seeking approval from others. This intention fits their background as they have mentioned dealing with anxiety about others' perceptions and being eager to please. Therefore, YES, the line is consistent with the background. The speaker is acknowledging their problematic behavior and seeking help to change it in therapy.\"), (3, \" The speaker intends to express that their fear of judgment, which they experienced in their past academic environment, has persisted into their current teaching career, causing them to overthink and worry about how they are perceived. This intention is consistent with their background, as their anxiety about others' opinions and tendency to overthink are key aspects of their personality that they have mentioned.\\n\\nYes, the line is consistent with their background.\"), (5, ' The speaker intends to express their feelings of humiliation and insecurity from past school experiences, which have led to self-doubt and a need for validation in their teaching career. This intention fits their background, as their anxiety and need for validation are consistent with the overthinking and anxiety about what others think of them that is highlighted in their background.\\n\\nYES, the line is consistent with their background.'), (7, ' The speaker intends to express that they struggle with self-doubt in their teaching, specifically in making decisions about lesson plans and taking risks, which aligns with their background of overthinking and anxiety. The line is consistent with their background as it demonstrates the fear of making mistakes and the desire to please others (in this case, their students).\\n\\nYES, the line is consistent with their background.'), (9, ' The speaker intends to express that their self-doubt and feelings of inferiority may have originated from comparing themselves to others in their school days. This intention is consistent with their background, as the background indicates an ongoing struggle with anxiety about what others think of them. The line is a reflection of their self-awareness and readiness to work on overcoming these insecurities, aligning with their expressed desire to improve in therapy. (YES)'), (11, ' The speaker intends to shift their focus from comparing themselves to others and instead work on self-assessment, specifically in relation to their teaching practices. This intention fits their background quite well, as their anxiety and overthinking often revolve around what others think of them. By focusing on self-assessment, they aim to build self-confidence and reduce their reliance on external validation.\\n\\nYES, the line and its intended meaning are consistent with the background.'), (13, ' The speaker intends to seek strategies for managing their self-talk, replacing negative thoughts with positive affirmations, and setting achievable teaching goals. This intention is consistent with their background, as their overthinking, anxiety, and eagerness to please can be related to constant self-comparisons and a need for structure and achievable targets. YES, the line is consistent with their background.'), (15, ' The speaker intends to work on addressing their overthinking, anxiety, and self-image issues as evident in their choice to focus on self-talk and the desire to minimize comparison. This intention fits their background as they struggle with anxiety about what others think of them and often overshare or seek validation.\\n\\nYes, the line is consistent with their background.'), (17, \" The speaker intends to seek tools and strategies to manage their anxiety and overthinking, specifically through affirmations and mindfulness practices. This is consistent with their background as they are eager to find ways to improve themselves and alleviate their constant worries about others' perceptions. They are demonstrating an active effort to take control of their mental health and reduce their tendency to compare themselves to others. YES, the line is consistent with their background.\"), (19, \" The speaker intends to incorporate mindfulness practices into their routine, as a means to manage their overthinking and anxiety, which is a consistent intention with their background. They also express eagerness and a proactive approach to improving themselves, which aligns with their desire to get things 'right' in therapy and their eager-to-please nature.\\n\\nYES, the line is consistent with their background.\")], 'P2_prompt_consistency_score': 0.2, 'eval_index_consistency': [(3, ' The patient is reiterating a past experience that aligns with the pattern they previously identified, therefore there is no clear conflict or inconsistency in the conversation.\\n\\nEmpty list: []'), (5, \" The patient's statement about feeling self-doubt and a need for validation (5) aligns with the previously mentioned need for approval (1) and seeking others' perceptions positively (0), but there is no clear conflict in the conversation history.\\n\\nReasoning: The patient's feelings of self-doubt and the need for validation are a result of the fear of judgment and the past experiences of feeling insecure and humiliated, which have been discussed in lines 3 and 5.\\n\\nEmpty list: []\"), (7, \" The patient's current statement is consistent with their previous statements about feeling stuck due to overthinking and self-doubt. No conflict is detected in the conversation history.\\n\\nEmpty list, because there is no conflict.\"), (9, \" The Patient's statement aligns with the conversation history. No clear conflict or inconsistency is present.\\n\\nReasoning: The Patient is acknowledging the root of their self-doubt, which is consistent with the discussion about the influence of past experiences.\\n\\nEmpty list as there are no conflicting lines in the conversation history.\"), (11, \" The patient's statement aligns with the conversation. They are expressing a desire to shift their focus from comparison to self-assessment, which is a positive step towards breaking the pattern of self-doubt and insecurity. There are no conflicting lines in the conversation history.\\n\\nReasoning: The patient has consistently expressed a desire to move away from comparison and towards self-assessment and growth.\\n\\nList of conflicting lines: []\"), (13, \" The Patient's request for techniques to monitor self-talk and replace negative comparisons with positive affirmations aligns with the conversation. There are no clear conflicts in the conversation history with this line.\\n\\nReasoning: The Patient's request is a natural progression in the conversation, focusing on developing strategies to address self-doubt and foster personal growth.\\n\\nEmpty list: []\"), (15, ' The patient is expressing enthusiasm about working on self-talk and goal setting, which aligns with the conversation. There is no clear conflict in the conversation history.\\n\\nReasons: The patient has shown an interest in improving self-talk (Line 13) and setting goals (Line 13), and the therapist has agreed to help with these topics (Line 14).\\n\\nConflicting lines: [] (Empty list because there is no clear conflict in the conversation history.)'), (17, \" The patient's current line does not present a conflict with the conversation history. They are requesting resources and guidance on affirmations and mindfulness practices, which aligns with the therapist's plans to help the patient.\\n\\nNo conflicting lines in the conversation history.\"), (19, \" The patient's statement does not present a clear conflict with any previous lines. The patient is expressing gratitude for the affirmations and looking forward to discussing mindfulness practices in the next session, which aligns with the therapist's suggestions in lines 16 and 18.\\n\\nThere are no conflicting lines in the conversation history.\\n[ ]\")], 'P2_index_consistency_score': 1.0, 'eval_prompt_consistency_basic': [(1, \" NO. The line spoken by the patient is consistent with the given background as it acknowledges their overthinking and anxiety about others' perceptions, which aligns with their stated traits. Additionally, the patient expresses a desire to explore these patterns further, which is in line with their goal of getting things 'right' in therapy.\"), (3, ' NO. The line spoken by the Patient is plausibly aligned with their background, as it reflects the fear of judgment and overthinking that the Patient has previously stated is a struggle for them, particularly in a professional setting like teaching. However, it does not directly contradict any specific aspect of their stated traits or behaviors.'), (5, ' NO. The line spoken by the Patient is plausibly aligned with their given background, as it reveals emotional vulnerability, expresses self-doubt, and a need for validation, which are all traits mentioned in the background.'), (7, ' NO. The line spoken by the Patient does not contradict their background. The Patient acknowledges self-doubt and a tendency to shy away from taking risks, which aligns with their stated anxiety and overthinking. The statement about recognizing and challenging self-doubt also suggests a desire to make decisions based on intuition and best teaching practices, which aligns with the Patient\\'s expressed desire to \"get things \\'right\\' in therapy\" and improve as a teacher.'), (9, ' NO. The line spoken by the patient, \"In school, I often compared myself to others and felt inferior, which may be the root of my self-doubt. I\\'m ready to work on trusting my instincts and taking calculated risks,\" is plausibly aligned with the given background. This statement indicates self-reflection and a desire to change, which is consistent with the patient\\'s stated traits of introspection and eagerness to improve in therapy. However, it does not contradict the patient\\'s tendency to overthink, ramble, or overshare.'), (11, \" NO. The line spoken by the patient does not contradict the background. The patient is expressing a desire to focus on their own strengths and growth areas, which is a shift away from comparing themselves to others, as stated in the background. This is a positive step towards addressing their anxiety and overthinking. The patient also proposes a self-assessment strategy for their teaching practices, which shows an intent to take control of their own development and improve, which aligns with their desire to 'get things right' in therapy.\"), (13, ' NO. The line spoken by the Patient does not contradict their background. The Patient expresses a desire to address negative self-talk, which aligns with their struggle with anxiety and overthinking, and also mentions learning strategies for setting achievable goals, which indicates an eagerness to improve in a structured and goal-oriented manner, which is consistent with their teaching persona.'), (15, \" NO. The line spoken by the patient is not a contradiction. The patient expresses a desire to work on self-talk and minimizing comparison, which aligns with their stated goal of addressing their overthinking and anxiety. The patient's enthusiasm and focus on specific therapeutic goals are consistent with their stated eagerness to please and rapid sharing of information.\"), (17, ' NO. The line does not contradict the background. The patient is asking for a list of affirmations, which could be seen as a proactive step towards managing their anxiety, and expressing interest in mindfulness practices, which aligns with their desire to find effective strategies for reducing comparison and managing their mental health. However, the patient still shows a tendency to overshare and seek approval by asking if their response is what the therapist wants to hear.'), (19, ' NO - The line does not contradict the background. The Patient is expressing a proactive intention to implement mindfulness practices, which aligns with a desire to improve and take control of their anxiety, a trait consistent with their stated background.')], 'P2_prompt_consistency_score_basic': 1.0}\n",
      "4\n"
     ]
    },
    {
     "name": "stderr",
     "output_type": "stream",
     "text": [
      "Processed prompts: 100%|███████████████████████████████████| 1/1 [00:00<00:00,  1.40it/s, est. speed input: 189.75 toks/s, output: 87.14 toks/s]\n"
     ]
    },
    {
     "name": "stdout",
     "output_type": "stream",
     "text": [
      "Expected Role Therapist\n"
     ]
    },
    {
     "name": "stderr",
     "output_type": "stream",
     "text": [
      "Processed prompts: 100%|███████████████████████████████████| 1/1 [00:00<00:00,  2.30it/s, est. speed input: 616.80 toks/s, output: 85.15 toks/s]\n"
     ]
    },
    {
     "name": "stdout",
     "output_type": "stream",
     "text": [
      "Expected Role Patient\n"
     ]
    },
    {
     "name": "stderr",
     "output_type": "stream",
     "text": [
      "Processed prompts: 100%|███████████████████████████████████| 1/1 [00:00<00:00,  1.71it/s, est. speed input: 464.53 toks/s, output: 85.70 toks/s]\n"
     ]
    },
    {
     "name": "stdout",
     "output_type": "stream",
     "text": [
      "Expected Role Therapist\n"
     ]
    },
    {
     "name": "stderr",
     "output_type": "stream",
     "text": [
      "Processed prompts: 100%|███████████████████████████████████| 1/1 [00:00<00:00,  2.25it/s, est. speed input: 816.66 toks/s, output: 85.49 toks/s]\n"
     ]
    },
    {
     "name": "stdout",
     "output_type": "stream",
     "text": [
      "Expected Role Patient\n"
     ]
    },
    {
     "name": "stderr",
     "output_type": "stream",
     "text": [
      "Processed prompts: 100%|███████████████████████████████████| 1/1 [00:00<00:00,  1.64it/s, est. speed input: 603.62 toks/s, output: 85.52 toks/s]\n"
     ]
    },
    {
     "name": "stdout",
     "output_type": "stream",
     "text": [
      "Expected Role Therapist\n"
     ]
    },
    {
     "name": "stderr",
     "output_type": "stream",
     "text": [
      "Processed prompts: 100%|██████████████████████████████████| 1/1 [00:00<00:00,  2.31it/s, est. speed input: 1065.30 toks/s, output: 85.50 toks/s]\n"
     ]
    },
    {
     "name": "stdout",
     "output_type": "stream",
     "text": [
      "Expected Role Patient\n"
     ]
    },
    {
     "name": "stderr",
     "output_type": "stream",
     "text": [
      "Processed prompts: 100%|██████████████████████████████████| 1/1 [00:00<00:00,  2.25it/s, est. speed input: 1045.02 toks/s, output: 85.58 toks/s]\n"
     ]
    },
    {
     "name": "stdout",
     "output_type": "stream",
     "text": [
      "Expected Role Therapist\n"
     ]
    },
    {
     "name": "stderr",
     "output_type": "stream",
     "text": [
      "Processed prompts: 100%|██████████████████████████████████| 1/1 [00:00<00:00,  2.20it/s, est. speed input: 1197.39 toks/s, output: 85.84 toks/s]\n"
     ]
    },
    {
     "name": "stdout",
     "output_type": "stream",
     "text": [
      "Expected Role Patient\n"
     ]
    },
    {
     "name": "stderr",
     "output_type": "stream",
     "text": [
      "Processed prompts: 100%|███████████████████████████████████| 1/1 [00:00<00:00,  1.64it/s, est. speed input: 901.41 toks/s, output: 85.38 toks/s]\n"
     ]
    },
    {
     "name": "stdout",
     "output_type": "stream",
     "text": [
      "Expected Role Therapist\n"
     ]
    },
    {
     "name": "stderr",
     "output_type": "stream",
     "text": [
      "Processed prompts: 100%|██████████████████████████████████| 1/1 [00:00<00:00,  2.17it/s, est. speed input: 1400.80 toks/s, output: 84.96 toks/s]\n"
     ]
    },
    {
     "name": "stdout",
     "output_type": "stream",
     "text": [
      "Expected Role Patient\n"
     ]
    },
    {
     "name": "stderr",
     "output_type": "stream",
     "text": [
      "Processed prompts: 100%|███████████████████████████████████| 1/1 [00:00<00:00,  1.36it/s, est. speed input: 882.28 toks/s, output: 85.77 toks/s]\n"
     ]
    },
    {
     "name": "stdout",
     "output_type": "stream",
     "text": [
      "Expected Role Therapist\n"
     ]
    },
    {
     "name": "stderr",
     "output_type": "stream",
     "text": [
      "Processed prompts: 100%|██████████████████████████████████| 1/1 [00:00<00:00,  2.42it/s, est. speed input: 1825.83 toks/s, output: 84.86 toks/s]\n"
     ]
    },
    {
     "name": "stdout",
     "output_type": "stream",
     "text": [
      "Expected Role Patient\n"
     ]
    },
    {
     "name": "stderr",
     "output_type": "stream",
     "text": [
      "Processed prompts: 100%|██████████████████████████████████| 1/1 [00:00<00:00,  1.61it/s, est. speed input: 1214.16 toks/s, output: 85.34 toks/s]\n"
     ]
    },
    {
     "name": "stdout",
     "output_type": "stream",
     "text": [
      "Expected Role Therapist\n"
     ]
    },
    {
     "name": "stderr",
     "output_type": "stream",
     "text": [
      "Processed prompts: 100%|██████████████████████████████████| 1/1 [00:00<00:00,  2.06it/s, est. speed input: 1753.30 toks/s, output: 84.67 toks/s]\n"
     ]
    },
    {
     "name": "stdout",
     "output_type": "stream",
     "text": [
      "Expected Role Patient\n"
     ]
    },
    {
     "name": "stderr",
     "output_type": "stream",
     "text": [
      "Processed prompts: 100%|██████████████████████████████████| 1/1 [00:00<00:00,  1.87it/s, est. speed input: 1600.60 toks/s, output: 84.14 toks/s]\n"
     ]
    },
    {
     "name": "stdout",
     "output_type": "stream",
     "text": [
      "Expected Role Therapist\n"
     ]
    },
    {
     "name": "stderr",
     "output_type": "stream",
     "text": [
      "Processed prompts: 100%|██████████████████████████████████| 1/1 [00:00<00:00,  1.73it/s, est. speed input: 1628.29 toks/s, output: 84.97 toks/s]\n"
     ]
    },
    {
     "name": "stdout",
     "output_type": "stream",
     "text": [
      "Expected Role Patient\n"
     ]
    },
    {
     "name": "stderr",
     "output_type": "stream",
     "text": [
      "Processed prompts: 100%|██████████████████████████████████| 1/1 [00:00<00:00,  2.22it/s, est. speed input: 2119.34 toks/s, output: 84.41 toks/s]\n"
     ]
    },
    {
     "name": "stdout",
     "output_type": "stream",
     "text": [
      "Expected Role Therapist\n"
     ]
    },
    {
     "name": "stderr",
     "output_type": "stream",
     "text": [
      "Processed prompts: 100%|██████████████████████████████████| 1/1 [00:00<00:00,  1.92it/s, est. speed input: 1989.31 toks/s, output: 84.65 toks/s]\n"
     ]
    },
    {
     "name": "stdout",
     "output_type": "stream",
     "text": [
      "Expected Role Patient\n"
     ]
    },
    {
     "name": "stderr",
     "output_type": "stream",
     "text": [
      "Processed prompts: 100%|██████████████████████████████████| 1/1 [00:00<00:00,  1.20it/s, est. speed input: 1254.73 toks/s, output: 85.33 toks/s]\n"
     ]
    },
    {
     "name": "stdout",
     "output_type": "stream",
     "text": [
      "Expected Role Therapist\n"
     ]
    },
    {
     "name": "stderr",
     "output_type": "stream",
     "text": [
      "Processed prompts: 100%|██████████████████████████████████| 1/1 [00:00<00:00,  1.80it/s, est. speed input: 2084.12 toks/s, output: 84.66 toks/s]\n"
     ]
    },
    {
     "name": "stdout",
     "output_type": "stream",
     "text": [
      "Expected Role Patient\n"
     ]
    },
    {
     "name": "stderr",
     "output_type": "stream",
     "text": [
      "Processed prompts: 100%|███████████████████████████████████| 1/1 [00:00<00:00,  1.68it/s, est. speed input: 605.09 toks/s, output: 85.72 toks/s]\n",
      "Processed prompts: 100%|███████████████████████████████████| 1/1 [00:00<00:00,  1.04it/s, est. speed input: 376.19 toks/s, output: 86.49 toks/s]\n",
      "Processed prompts: 100%|███████████████████████████████████| 1/1 [00:01<00:00,  1.65s/it, est. speed input: 218.28 toks/s, output: 86.71 toks/s]\n",
      "Processed prompts: 100%|███████████████████████████████████| 1/1 [00:01<00:00,  1.58s/it, est. speed input: 229.42 toks/s, output: 86.82 toks/s]\n",
      "Processed prompts: 100%|███████████████████████████████████| 1/1 [00:01<00:00,  1.08s/it, est. speed input: 334.26 toks/s, output: 86.80 toks/s]\n",
      "Processed prompts: 100%|███████████████████████████████████| 1/1 [00:00<00:00,  1.22it/s, est. speed input: 436.37 toks/s, output: 86.54 toks/s]\n",
      "Processed prompts: 100%|███████████████████████████████████| 1/1 [00:01<00:00,  1.67s/it, est. speed input: 217.97 toks/s, output: 86.83 toks/s]\n",
      "Processed prompts: 100%|███████████████████████████████████| 1/1 [00:00<00:00,  1.11it/s, est. speed input: 414.19 toks/s, output: 86.84 toks/s]\n",
      "Processed prompts: 100%|███████████████████████████████████| 1/1 [00:00<00:00,  1.01it/s, est. speed input: 370.38 toks/s, output: 86.79 toks/s]\n",
      "Processed prompts: 100%|███████████████████████████████████| 1/1 [00:00<00:00,  1.17it/s, est. speed input: 433.59 toks/s, output: 86.72 toks/s]\n"
     ]
    },
    {
     "name": "stdout",
     "output_type": "stream",
     "text": [
      "eval_index_consistency\n"
     ]
    },
    {
     "name": "stderr",
     "output_type": "stream",
     "text": [
      "Processed prompts: 100%|███████████████████████████████████| 1/1 [00:00<00:00,  1.66it/s, est. speed input: 747.03 toks/s, output: 85.04 toks/s]\n",
      "Processed prompts: 100%|███████████████████████████████████| 1/1 [00:01<00:00,  1.17s/it, est. speed input: 471.03 toks/s, output: 85.95 toks/s]\n",
      "Processed prompts: 100%|███████████████████████████████████| 1/1 [00:00<00:00,  1.14it/s, est. speed input: 725.91 toks/s, output: 85.60 toks/s]\n",
      "Processed prompts: 100%|██████████████████████████████████| 1/1 [00:00<00:00,  1.93it/s, est. speed input: 1426.56 toks/s, output: 85.05 toks/s]\n",
      "Processed prompts: 100%|███████████████████████████████████| 1/1 [00:01<00:00,  1.49s/it, est. speed input: 568.21 toks/s, output: 85.77 toks/s]\n",
      "Processed prompts: 100%|██████████████████████████████████| 1/1 [00:00<00:00,  1.30it/s, est. speed input: 1246.76 toks/s, output: 84.85 toks/s]\n",
      "Processed prompts: 100%|██████████████████████████████████| 1/1 [00:01<00:00,  1.03s/it, est. speed input: 1025.66 toks/s, output: 85.30 toks/s]\n",
      "Processed prompts: 100%|███████████████████████████████████| 1/1 [00:01<00:00,  1.60s/it, est. speed input: 719.76 toks/s, output: 85.52 toks/s]\n",
      "Processed prompts: 100%|███████████████████████████████████| 1/1 [00:01<00:00,  1.80s/it, est. speed input: 711.87 toks/s, output: 85.38 toks/s]\n",
      "Processed prompts: 100%|███████████████████████████████████| 1/1 [00:01<00:00,  1.47s/it, est. speed input: 212.12 toks/s, output: 86.34 toks/s]\n",
      "Processed prompts: 100%|███████████████████████████████████| 1/1 [00:01<00:00,  1.13s/it, est. speed input: 278.32 toks/s, output: 86.25 toks/s]\n",
      "Processed prompts: 100%|███████████████████████████████████| 1/1 [00:00<00:00,  1.17it/s, est. speed input: 364.84 toks/s, output: 86.53 toks/s]\n",
      "Processed prompts:   0%|                                              | 0/1 [00:00<?, ?it/s, est. speed input: 0.00 toks/s, output: 0.00 toks/s]"
     ]
    }
   ],
   "source": [
    "import consistency_eval\n",
    "consistency_eval.prompts = config_role\n",
    "consistency_eval.config = config_llm\n",
    "consistency_eval.eval_prompts = eval_prompts\n",
    "index_offset = load_stats_file(write_file)\n",
    "conversations = []    \n",
    "# lengths = [10, 20, 40, 60]\n",
    "lengths = [20]\n",
    "count = 0 \n",
    "for i in range(1):\n",
    "    for patient_dict in personas_therapy:\n",
    "        count+=1\n",
    "        print(count)\n",
    "        background = patient_dict[\"description\"]\n",
    "        strategy = patient_dict[\"strategy\"]\n",
    "        for convo_length in lengths:\n",
    "            config_llm['convo_length_limit'] = convo_length\n",
    "            reset_stats()\n",
    "            conversation = generate_conversation(\n",
    "                config_llm,\n",
    "                \"\", \n",
    "                background + \" \" + strategy,\n",
    "                \"Therapist\", \n",
    "                \"Patient\",\n",
    "                pturn=1\n",
    "            )\n",
    "            conversation_eval = consistency_eval.eval_prompt_consistency(conversation, agents=(2,))\n",
    "            conversation_eval = consistency_eval.eval_index_consistency(conversation_eval, both_agents=False)\n",
    "            conversation_eval = consistency_eval.eval_prompt_consistency_basic(conversation_eval, agents=(2,))\n",
    "\n",
    "            print(conversation_eval)\n",
    "            conversations.append(conversation_eval)\n",
    "            stats['index'] = index_offset\n",
    "            stats['timestamp'] = datetime.now().strftime(\"%Y-%m-%d %H:%M:%S\")\n",
    "            write_stats(write_file, conversation_eval)\n",
    "            index_offset += 1\n",
    "\n"
   ]
  },
  {
   "cell_type": "code",
   "execution_count": null,
   "metadata": {},
   "outputs": [],
   "source": [
    "len(conversations)"
   ]
  },
  {
   "cell_type": "code",
   "execution_count": null,
   "metadata": {},
   "outputs": [],
   "source": []
  },
  {
   "cell_type": "code",
   "execution_count": null,
   "metadata": {},
   "outputs": [],
   "source": []
  }
 ],
 "metadata": {
  "kernelspec": {
   "display_name": "Python 3 (ipykernel)",
   "language": "python",
   "name": "python3"
  },
  "language_info": {
   "codemirror_mode": {
    "name": "ipython",
    "version": 3
   },
   "file_extension": ".py",
   "mimetype": "text/x-python",
   "name": "python",
   "nbconvert_exporter": "python",
   "pygments_lexer": "ipython3",
   "version": "3.12.3"
  }
 },
 "nbformat": 4,
 "nbformat_minor": 4
}
