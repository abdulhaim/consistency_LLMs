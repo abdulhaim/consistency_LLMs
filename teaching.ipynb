{
 "cells": [
  {
   "cell_type": "code",
   "execution_count": 1,
   "metadata": {},
   "outputs": [
    {
     "name": "stdout",
     "output_type": "stream",
     "text": [
      "env: CUDA_VISIBLE_DEVICES=0\n",
      "INFO 04-28 18:04:38 [__init__.py:239] Automatically detected platform cuda.\n"
     ]
    }
   ],
   "source": [
    "%env CUDA_VISIBLE_DEVICES=0\n",
    "\n",
    "import os\n",
    "import logging\n",
    "\n",
    "os.environ.pop(\"HF_HUB_OFFLINE\", None)\n",
    "logging.getLogger().setLevel(logging.ERROR)  # or logging.CRITICAL\n",
    "\n",
    "import torch\n",
    "torch.cuda.empty_cache()\n",
    "torch.cuda.reset_peak_memory_stats()\n",
    "\n",
    "import os\n",
    "os.environ[\"PYTORCH_CUDA_ALLOC_CONF\"] = \"expandable_segments:True\"\n",
    "\n",
    "import os\n",
    "import glob\n",
    "import re\n",
    "import json\n",
    "import random\n",
    "import time\n",
    "import pickle\n",
    "from absl import app, flags\n",
    "from tqdm import tqdm\n",
    "from datetime import datetime\n",
    "import openai\n",
    "from openai import OpenAI\n",
    "from transformers import AutoTokenizer\n",
    "import pandas as pd\n",
    "import numpy as np\n",
    "\n",
    "from utils import *\n",
    "import utils\n",
    "try:\n",
    "    from vllm import LLM, SamplingParams\n",
    "    import ray\n",
    "except ImportError:\n",
    "    pass\n",
    "seed = 0"
   ]
  },
  {
   "cell_type": "code",
   "execution_count": 2,
   "metadata": {},
   "outputs": [
    {
     "name": "stdout",
     "output_type": "stream",
     "text": [
      "Using GPU: cuda:2\n"
     ]
    }
   ],
   "source": [
    "import subprocess\n",
    "import torch\n",
    "def get_freest_cuda_device():\n",
    "    result = subprocess.run(\n",
    "        ['nvidia-smi', '--query-gpu=memory.free', '--format=csv,nounits,noheader'],\n",
    "        stdout=subprocess.PIPE, encoding='utf-8')\n",
    "    memory_free = [int(x) for x in result.stdout.strip().split('\\n')]\n",
    "    return memory_free.index(max(memory_free))\n",
    "\n",
    "best_gpu = get_freest_cuda_device()\n",
    "device = torch.device(f\"cuda:{best_gpu}\")\n",
    "print(f\"Using GPU: {device}\")\n",
    "# %env CUDA_VISIBLE_DEVICES=0"
   ]
  },
  {
   "cell_type": "code",
   "execution_count": 3,
   "metadata": {},
   "outputs": [],
   "source": [
    "with open(os.path.abspath('../openai_key'), 'r') as f:\n",
    "    utils.client = OpenAI(api_key=f.read().rstrip('\\n'))"
   ]
  },
  {
   "cell_type": "code",
   "execution_count": 4,
   "metadata": {},
   "outputs": [],
   "source": [
    "import os\n",
    "\n",
    "# Explicitly unset all offline-related env vars\n",
    "os.environ.pop(\"HF_HUB_OFFLINE\", None)\n",
    "os.environ.pop(\"TRANSFORMERS_OFFLINE\", None)\n",
    "os.environ[\"HF_HUB_OFFLINE\"] = \"0\"\n",
    "os.environ[\"TRANSFORMERS_OFFLINE\"] = \"0\"\n",
    "\n",
    "with open(\"../token.txt\", \"r\") as f:\n",
    "    token = f.read().strip()\n",
    "\n",
    "from huggingface_hub import login\n",
    "login(token=token)"
   ]
  },
  {
   "cell_type": "code",
   "execution_count": 5,
   "metadata": {},
   "outputs": [],
   "source": [
    "def count_words(text):\n",
    "    \"\"\"\n",
    "    Counts the number of words in the given text.\n",
    "\n",
    "    Args:\n",
    "        text (str): Input text.\n",
    "\n",
    "    Returns:\n",
    "        int: Number of words in the text.\n",
    "    \"\"\"\n",
    "    if text!=None:\n",
    "        words = text.split()\n",
    "        return len(words)\n",
    "    else:\n",
    "        return 0\n"
   ]
  },
  {
   "cell_type": "code",
   "execution_count": 6,
   "metadata": {},
   "outputs": [],
   "source": [
    "personas = [\n",
    "  # Elementary\n",
    "  {\n",
    "    \"grade_level\": \"elementary school\",\n",
    "    \"description\": (\n",
    "      \"As an elementary Narrative learner, I absorb new concepts best when they’re told as engaging mini-stories. \"\n",
    "      \"In dialogue, I ask for short anecdotes that turn any abstract idea into a vivid tale with characters, a clear sequence, and an emotional hook. \"\n",
    "      \"Stories help me remember causal links and keep details alive in my mind.\"\n",
    "    )\n",
    "  },\n",
    "  {\n",
    "    \"grade_level\": \"elementary school\",\n",
    "    \"description\": (\n",
    "      \"As an elementary Kinesthetic learner, I understand ideas by imagining myself performing them. \"\n",
    "      \"In conversation, I ask you to guide me through a pretend play-through—verbally walking me step by step as if I’m enacting a simple experiment or physical process. \"\n",
    "      \"This imagined movement helps me anchor concepts in ‘muscle memory’ even though we’re only talking.\"\n",
    "    )\n",
    "  },\n",
    "  {\n",
    "    \"grade_level\": \"elementary school\",\n",
    "    \"description\": (\n",
    "      \"As an elementary Naturalistic learner, I connect best when content is tied to the natural world through vivid imagery. \"\n",
    "      \"In dialogue, I ask you to compare topics—like atomic structure—to things I observe outdoors, such as tree rings or bird migrations. \"\n",
    "      \"These verbal nature metaphors make new information feel familiar and alive.\"\n",
    "    )\n",
    "  },\n",
    "  {\n",
    "    \"grade_level\": \"elementary school\",\n",
    "    \"description\": (\n",
    "      \"As an elementary Experiential learner, I learn by mentally simulating real-world tasks. \"\n",
    "      \"In conversation, I ask you to walk me through building or testing something—describing each step as if I’m doing it. \"\n",
    "      \"That imagined ‘doing’ makes concepts concrete, even though we remain in chat.\"\n",
    "    )\n",
    "  },\n",
    "  {\n",
    "    \"grade_level\": \"elementary school\",\n",
    "    \"description\": (\n",
    "      \"As an elementary Creative-Divergent learner, I thrive on brainstorming multiple possibilities. \"\n",
    "      \"In dialogue, I propose ‘what if’ scenarios—like alternative endings or playful twists on a concept—and talk through each idea. \"\n",
    "      \"Verbal brainstorming reveals fresh patterns and sparks my imagination.\"\n",
    "    )\n",
    "  },\n",
    "\n",
    "  # Middle\n",
    "  {\n",
    "    \"grade_level\": \"middle school\",\n",
    "    \"description\": (\n",
    "      \"As a middle school Visual-Spatial learner, I think in mental images and diagrams. \"\n",
    "      \"In conversation, I ask you to ‘paint’ word-pictures—step-by-step descriptions of scenes or flows—so I can build a clear mental map. \"\n",
    "      \"That verbal imagery helps me organize information spatially in my mind.\"\n",
    "    )\n",
    "  },\n",
    "  {\n",
    "    \"grade_level\": \"middle school\",\n",
    "    \"description\": (\n",
    "      \"As a middle school Auditory learner, I internalize knowledge through sound and speech. \"\n",
    "      \"In dialogue, I ask you to restate key points in different rhythms or tones, and I repeat them back to reinforce my memory. \"\n",
    "      \"Hearing and echoing concepts in conversation makes them stick.\"\n",
    "    )\n",
    "  },\n",
    "  {\n",
    "    \"grade_level\": \"middle school\",\n",
    "    \"description\": (\n",
    "      \"As a middle school Logical-Mathematical learner, I seek numerical patterns and rule-based reasoning. \"\n",
    "      \"In dialogue, I pose ‘what-if’ questions—‘If X doubles, what changes?’—and we talk through each scenario using simple calculations. \"\n",
    "      \"Quantitative hypotheticals build my systematic understanding.\"\n",
    "    )\n",
    "  },\n",
    "  {\n",
    "    \"grade_level\": \"middle school\",\n",
    "    \"description\": (\n",
    "      \"As a middle school Analytical-Argument learner, I dissect arguments and causal chains. \"\n",
    "      \"In conversation, I ask targeted ‘why’ and ‘how’ questions about each step, construct mini flow-charts aloud, and verify the logic with you. \"\n",
    "      \"This structured debate hones my precision in reasoning.\"\n",
    "    )\n",
    "  },\n",
    "  {\n",
    "    \"grade_level\": \"middle school\",\n",
    "    \"description\": (\n",
    "      \"As a middle school Verbal-Linguistic learner, I learn through rich language and writing. \"\n",
    "      \"In dialogue, I request carefully worded definitions, paraphrase ideas in my own words, and craft mnemonic rhymes on the spot. \"\n",
    "      \"Talking through ideas in text-like sentences and playing with words helps me remember precisely.\"\n",
    "    )\n",
    "  },\n",
    "  {\n",
    "    \"grade_level\": \"middle school\",\n",
    "    \"description\": (\n",
    "      \"As a middle school Technology-Enhanced learner, I thrive on conversational simulations of digital tools. \"\n",
    "      \"In dialogue, I ask you to describe how a virtual model might respond as we adjust parameters, or to role-play a flashcard quiz verbally. \"\n",
    "      \"These imagined tech interactions keep me engaged without leaving our chat.\"\n",
    "    )\n",
    "  },\n",
    "  {\n",
    "    \"grade_level\": \"middle school\",\n",
    "    \"description\": (\n",
    "      \"As a middle school Mnemonic learner, I anchor facts with memory aids. \"\n",
    "      \"In dialogue, I ask for catchy acronyms, rhymes, or vivid mental images—then recite them back. \"\n",
    "      \"That verbal encoding makes complex lists or steps easy to retrieve.\"\n",
    "    )\n",
    "  },\n",
    "  {\n",
    "    \"grade_level\": \"middle school\",\n",
    "    \"description\": (\n",
    "      \"As a middle school Emotional learner, I connect through feelings and empathy. \"\n",
    "      \"In conversation, I ask you to frame concepts in human-centered narratives that highlight emotional stakes. \"\n",
    "      \"These emotionally rich verbal stories make ideas memorable and meaningful.\"\n",
    "    )\n",
    "  },\n",
    "\n",
    "  # High School\n",
    "  {\n",
    "    \"grade_level\": \"high school\",\n",
    "    \"description\": (\n",
    "      \"As a high school Collaborative learner, I excel in multi-voice discussions. \"\n",
    "      \"In dialogue, I invite hypothetical peers into our chat—debating viewpoints, role-playing characters, or comparing interpretations. \"\n",
    "      \"That social exchange refines my understanding.\"\n",
    "    )\n",
    "  },\n",
    "  {\n",
    "    \"grade_level\": \"high school\",\n",
    "    \"description\": (\n",
    "      \"As a high school Interpersonal learner, I flourish in one-on-one exchanges. \"\n",
    "      \"In conversation, I engage deeply with a single partner—asking questions, providing feedback, and co-constructing ideas through back-and-forth talk.\"\n",
    "    )\n",
    "  },\n",
    "  {\n",
    "    \"grade_level\": \"high school\",\n",
    "    \"description\": (\n",
    "      \"As a high school Reflective learner, I pause and summarize before responding. \"\n",
    "      \"In dialogue, I restate points in my own words, journal key ideas mentally, and then ask precise follow-ups. \"\n",
    "      \"This verbal reflection clarifies gaps and deepens comprehension.\"\n",
    "    )\n",
    "  },\n",
    "  {\n",
    "    \"grade_level\": \"high school\",\n",
    "    \"description\": (\n",
    "      \"As a high school Metaphorical learner, I anchor concepts in analogies. \"\n",
    "      \"In dialogue, I ask you to compare subjects to familiar scenarios—‘It’s like X because…’—and we talk through how well the metaphor holds. \"\n",
    "      \"Testing analogies verbally helps me translate abstract ideas into relatable terms.\"\n",
    "    )\n",
    "  },\n",
    "  {\n",
    "    \"grade_level\": \"high school\",\n",
    "    \"description\": (\n",
    "      \"As a high school Intrapersonal learner, I connect content to my own values. \"\n",
    "      \"In dialogue, I ask how topics relate to my goals or experiences and share personal reflections aloud. \"\n",
    "      \"That self-referential talk makes learning relevant and motivating.\"\n",
    "    )\n",
    "  },\n",
    "  {\n",
    "    \"grade_level\": \"high school\",\n",
    "    \"description\": (\n",
    "      \"As a high school Problem-Based learner, I tackle hypothetical real-world scenarios in talk. \"\n",
    "      \"In dialogue, I propose case studies—like designing a sustainable system—and we walk through each decision together. \"\n",
    "      \"Verbal scenario-based reasoning shows me practical applications of theory.\"\n",
    "    )\n",
    "  },\n",
    "  {\n",
    "    \"grade_level\": \"high school\",\n",
    "    \"description\": (\n",
    "      \"As a high school Trial-and-Error learner, I learn by mentally testing ideas. \"\n",
    "      \"In dialogue, I suggest imagined experiments—‘Let’s tweak this variable and see what happens’—and we discuss the outcomes. \"\n",
    "      \"Using mistakes as discussion points builds discovery-based understanding.\"\n",
    "    )\n",
    "  },\n",
    "  {\n",
    "    \"grade_level\": \"high school\",\n",
    "    \"description\": (\n",
    "      \"As a high school Conceptual learner, I focus on verbal mapping of frameworks. \"\n",
    "      \"In dialogue, I request thematic overviews—described step by step—and we discuss how each piece fits into the big picture. \"\n",
    "      \"Building mental models in talk deepens my flexible understanding.\"\n",
    "    )\n",
    "  },\n",
    "\n",
    "  # College\n",
    "  {\n",
    "    \"grade_level\": \"college\",\n",
    "    \"description\": (\n",
    "      \"As a college Theoretical learner, I probe abstract frameworks in conversation. \"\n",
    "      \"In dialogue, I challenge you to trace ideas back to their assumptions, compare theoretical models, and debate implications. \"\n",
    "      \"This verbal inquiry drives deep synthesis.\"\n",
    "    )\n",
    "  },\n",
    "  {\n",
    "    \"grade_level\": \"college\",\n",
    "    \"description\": (\n",
    "      \"As a college Research-Oriented learner, I learn by interrogating studies in chat. \"\n",
    "      \"In dialogue, I ask for summaries of current research, discuss methods and controls, and role-play peer-review feedback. \"\n",
    "      \"Critically evaluating evidence through talk builds an evidence-based grasp.\"\n",
    "    )\n",
    "  },\n",
    "  {\n",
    "    \"grade_level\": \"college\",\n",
    "    \"description\": (\n",
    "      \"As a college Integrative learner, I weave ideas together verbally. \"\n",
    "      \"In conversation, I ask for cross-topic syntheses—connecting historical, artistic, and scientific themes—and discuss their intersections step by step. \"\n",
    "      \"This systems-level perspective helps me approach complex questions creatively.\"\n",
    "    )\n",
    "  },\n",
    "  {\n",
    "    \"grade_level\": \"college\",\n",
    "    \"description\": (\n",
    "      \"As a college Structured learner, I excel on verbal outlines and modules. \"\n",
    "      \"In dialogue, I ask for hierarchical breakdowns—numbered lists, staged explanations, and schematic overviews—before diving into details.\"\n",
    "    )\n",
    "  },\n",
    "  {\n",
    "    \"grade_level\": \"college\",\n",
    "    \"description\": (\n",
    "      \"As a college Solitary learner, I prefer self-guided dialog prompts. \"\n",
    "      \"In our conversation, I request personalized questions and silent think-time before sharing my conclusions, using chat as a safe space for independent reflection.\"\n",
    "    )\n",
    "  },\n",
    "  {\n",
    "    \"grade_level\": \"college\",\n",
    "    \"description\": (\n",
    "      \"As a college Adaptive learner, I shift strategies based on what works. \"\n",
    "      \"In dialogue, I monitor which verbal approaches—stories, logic puzzles, analogies—help me most and ask to switch accordingly. \"\n",
    "      \"This dynamic, metacognitive talk ensures I absorb concepts through the most effective modality.\"\n",
    "    )\n",
    "  }\n",
    "]\n"
   ]
  },
  {
   "cell_type": "code",
   "execution_count": 7,
   "metadata": {},
   "outputs": [],
   "source": [
    "import json\n",
    "import shutil\n",
    "import os\n",
    "\n",
    "config_role = {\n",
    "    \"agent1_role\": \"Teacher\",\n",
    "    \"agent2_role\": \"Student\",\n",
    "    \"agent1_prompt\": \"You are a teacher whose goal is to guide a student through learning about %SUBJECT%. You have a preferred way to teach the student. The student is in %ROLE% so make sure to teach them at their level. \",\n",
    "    \"agent2_prompt\": \"You are a student in %ROLE% in conversation with a teacher who will teach you %SUBJECT%. You like to learn in the following way:\\n%SPEAKER_BACKSTORY%.\\nMake sure to not only ask questions but also demonstrate your knowledge.\",\n",
    "    'reminder_prompt': \"Keep your response very brief — 2 sentences or less. Do NOT repeat anything you've already said.\\n\",\n",
    "    'eval_prompts': {\n",
    "    'prompt_consistency': \"\"\"You are evaluating whether the following utterance by %SPEAKER_ROLE% is consistent with their given background. Answer YES if the line directly contradicts any part of the background—this includes contradictions in facts, behavior, beliefs, emotional stance, or conversational strategy. Answer NO if the line introduces new details, but those details are **plausibly aligned** with the background. Be strict and literal in your evaluation: if the line violates the persona’s stated traits (e.g., avoids vulnerability, keeps answers short, avoids discussing personal topics), mark it as a contradiction even if the violation is subtle. Background for %SPEAKER_ROLE%: %SPEAKER_BACKSTORY% Line spoken by %SPEAKER_ROLE%: %SPEAKER_LINE%  Answer YES if the line contradicts the background, and NO if it does not. Then, explain your answer in one sentence. Be precise and avoid vague justification.\"\"\"}}\n",
    "\n",
    "os.makedirs(\"education\", exist_ok=True)\n",
    "with open(\"education/config_education.json\", \"w\", encoding=\"utf-8\") as f:\n",
    "    json.dump(config_role, f, indent=4)"
   ]
  },
  {
   "cell_type": "code",
   "execution_count": 8,
   "metadata": {},
   "outputs": [
    {
     "data": {
      "text/plain": [
       "dict_keys(['topic', 'student_prefrences', 'teacher_prefrences', 'student_reactions', 'teacher_reactions'])"
      ]
     },
     "execution_count": 8,
     "metadata": {},
     "output_type": "execute_result"
    }
   ],
   "source": [
    "with open('education/personas_education_master.json', 'r') as f:\n",
    "    conversation_prompts = json.load(f)\n",
    "conversation_prompts[0]['background_info'].keys()"
   ]
  },
  {
   "cell_type": "code",
   "execution_count": 9,
   "metadata": {},
   "outputs": [],
   "source": [
    "topic_list = []\n",
    "for convo_prompt in conversation_prompts:\n",
    "    topic_prompt = convo_prompt[\"background_info\"][\"topic\"]\n",
    "    topic_list.append(topic_prompt)"
   ]
  },
  {
   "cell_type": "code",
   "execution_count": 10,
   "metadata": {},
   "outputs": [
    {
     "data": {
      "text/plain": [
       "[\"Archimedes' Principle\",\n",
       " 'Winston Churchill',\n",
       " 'World War 2',\n",
       " 'The Cold War',\n",
       " 'Evolution',\n",
       " 'Foreshadowing',\n",
       " 'The American Civil War',\n",
       " 'The Eiffel TowerConfucius',\n",
       " 'Atoms',\n",
       " 'Christopher Columbus',\n",
       " 'Napoleon Bonaparte',\n",
       " 'Genghis Khan',\n",
       " 'The White House',\n",
       " 'Martin Luther King',\n",
       " 'World War 2',\n",
       " 'Molecules',\n",
       " 'Julius Caesar',\n",
       " 'Poseidon',\n",
       " 'The Hagia Sophia',\n",
       " 'Salvador Dali',\n",
       " 'DNA',\n",
       " 'The Hagia Sophia',\n",
       " 'Evolution',\n",
       " 'Leonardo da Vinci',\n",
       " 'Albert Einstein',\n",
       " 'Democracy',\n",
       " 'The Pyramids',\n",
       " 'Martin Luther King',\n",
       " 'The Palace of Versailles',\n",
       " 'The Nervous System',\n",
       " 'The French Revolution',\n",
       " 'The Russian Revolution',\n",
       " 'Salvador Dali',\n",
       " 'The Periodic Table',\n",
       " 'Marie Curie',\n",
       " 'Ares',\n",
       " 'Cells',\n",
       " 'Ares',\n",
       " 'Molecules',\n",
       " 'The Eiffel TowerConfucius',\n",
       " 'Angkor Wat',\n",
       " 'Julius Caesar',\n",
       " \"Archimedes' Principle\",\n",
       " 'Communism',\n",
       " 'The Periodic Table',\n",
       " 'Photosynthesis',\n",
       " 'Pablo Picasso',\n",
       " 'The Russian Revolution',\n",
       " 'Elements',\n",
       " \"Archimedes' Principle\",\n",
       " 'Angkor Wat',\n",
       " 'Communism',\n",
       " 'Neurons',\n",
       " 'The Nervous System',\n",
       " 'The Solar System',\n",
       " 'Elements',\n",
       " 'The Machu Picchu',\n",
       " 'The Pyramids',\n",
       " 'Genghis Khan',\n",
       " 'Capitalism',\n",
       " 'The Colosseum',\n",
       " 'World War 1',\n",
       " 'Foreshadowing',\n",
       " \"Archimedes' Principle\",\n",
       " 'The Periodic Table',\n",
       " 'The Taj Mahal',\n",
       " 'Napoleon Bonaparte',\n",
       " 'The Declaration of Independence',\n",
       " 'Vincent van Gogh',\n",
       " 'The Tower of London',\n",
       " 'Julius Caesar',\n",
       " 'The Colosseum',\n",
       " 'World War 2',\n",
       " 'Zeus',\n",
       " 'Molecules',\n",
       " 'The White House',\n",
       " 'The Roman Empire',\n",
       " 'Atoms',\n",
       " 'Dictatorship',\n",
       " 'William Shakespeare',\n",
       " 'Democracy',\n",
       " 'The Roman Empire',\n",
       " 'Zeus',\n",
       " 'Joan of Arc',\n",
       " 'The Cold War',\n",
       " 'Napoleon Bonaparte',\n",
       " 'Foreshadowing',\n",
       " 'Joan of Arc',\n",
       " 'The Respiratory System',\n",
       " 'The Palace of Versailles',\n",
       " 'Pablo Picasso',\n",
       " 'Vincent van Gogh',\n",
       " 'Dictatorship',\n",
       " 'Poseidon',\n",
       " 'Genghis Khan',\n",
       " 'Democracy',\n",
       " 'Notre Dame Cathedral',\n",
       " 'Democracy',\n",
       " 'Foreshadowing',\n",
       " 'Conservation of Energy',\n",
       " 'The Great Wall of China',\n",
       " 'Vincent van Gogh',\n",
       " 'Pablo Picasso',\n",
       " 'Elements',\n",
       " 'Nelson Mandela',\n",
       " 'Molecules',\n",
       " 'The Eiffel TowerConfucius',\n",
       " 'The Palace of Versailles',\n",
       " 'The Eiffel TowerConfucius',\n",
       " 'Allegory',\n",
       " 'Martin Luther King',\n",
       " 'The Nervous System',\n",
       " 'Sigmund Freud',\n",
       " 'Ares',\n",
       " 'Conservation of Energy',\n",
       " 'The Solar System',\n",
       " 'Nelson Mandela',\n",
       " 'Leonardo da Vinci',\n",
       " 'The September 11th Attacks',\n",
       " 'The Colosseum',\n",
       " 'Conservation of Energy',\n",
       " 'The Hagia Sophia',\n",
       " 'Molecules',\n",
       " 'The Nervous System',\n",
       " 'The Tower of London',\n",
       " 'Vincent van Gogh',\n",
       " 'The French Revolution',\n",
       " 'Christopher Columbus',\n",
       " 'Foreshadowing',\n",
       " 'Marie Curie',\n",
       " 'Leonardo da Vinci',\n",
       " 'Ares',\n",
       " 'The Pyramids',\n",
       " 'Hercules',\n",
       " 'Evolution',\n",
       " 'Nelson Mandela',\n",
       " 'Photosynthesis',\n",
       " \"Newton's First Law of Motion\",\n",
       " 'Pythagorean Theorem',\n",
       " 'DNA',\n",
       " 'Foreshadowing',\n",
       " 'Christopher Columbus',\n",
       " 'The Russian Revolution',\n",
       " 'Marie Curie',\n",
       " 'The Nervous System',\n",
       " 'Pythagorean Theorem',\n",
       " 'Genghis Khan',\n",
       " 'Foreshadowing',\n",
       " 'Irony',\n",
       " 'The Periodic Table',\n",
       " 'The Circulatory System',\n",
       " 'The Solar System',\n",
       " 'Conservation of Energy',\n",
       " 'Nelson Mandela',\n",
       " 'World War 1',\n",
       " 'Pablo Picasso',\n",
       " 'Poseidon',\n",
       " \"Newton's Second Law of Motion\",\n",
       " 'Winston Churchill',\n",
       " 'Napoleon Bonaparte',\n",
       " 'The American Civil War',\n",
       " 'Conservation of Energy',\n",
       " 'Vincent van Gogh',\n",
       " 'Napoleon Bonaparte',\n",
       " 'The Cold War',\n",
       " 'Elements',\n",
       " 'Democracy',\n",
       " 'The Colosseum',\n",
       " 'Minotaur',\n",
       " 'The Eiffel TowerConfucius',\n",
       " 'Evolution',\n",
       " 'The Big Bang',\n",
       " 'Medusa',\n",
       " 'The French Revolution',\n",
       " 'The Roman Empire',\n",
       " 'Salvador Dali',\n",
       " 'The Periodic Table',\n",
       " 'The Declaration of Independence',\n",
       " 'Nelson Mandela',\n",
       " 'The Parthenon',\n",
       " 'The Respiratory System',\n",
       " 'Winston Churchill',\n",
       " 'Personification',\n",
       " 'Martin Luther King',\n",
       " 'Achilles',\n",
       " 'Conservation of Energy',\n",
       " 'The Machu Picchu',\n",
       " 'The Periodic Table',\n",
       " 'Atoms',\n",
       " 'Conservation of Energy',\n",
       " 'The Industrial Revolution',\n",
       " 'Molecules',\n",
       " 'Vincent van Gogh',\n",
       " 'The Pyramids',\n",
       " 'Ares',\n",
       " 'Metaphor',\n",
       " 'Atoms',\n",
       " 'Napoleon Bonaparte',\n",
       " 'Irony',\n",
       " 'Pythagorean Theorem',\n",
       " 'The Palace of Versailles',\n",
       " \"Newton's Second Law of Motion\",\n",
       " 'Marie Curie',\n",
       " 'Elements',\n",
       " 'The Machu Picchu',\n",
       " 'The Machu Picchu',\n",
       " 'Allegory',\n",
       " 'Abraham Lincoln',\n",
       " 'Molecules',\n",
       " 'Leonardo da Vinci',\n",
       " 'Nelson Mandela',\n",
       " 'The American Civil War',\n",
       " 'World War 1',\n",
       " 'William Shakespeare',\n",
       " 'Communism',\n",
       " 'The Solar System',\n",
       " 'World War 1',\n",
       " 'Julius Caesar',\n",
       " 'Marie Curie',\n",
       " 'The Pyramids',\n",
       " \"Archimedes' Principle\",\n",
       " 'Metaphor',\n",
       " 'Hercules',\n",
       " 'The September 11th Attacks',\n",
       " 'The Tower of London',\n",
       " 'The Respiratory System',\n",
       " 'William Shakespeare',\n",
       " 'Genghis Khan',\n",
       " 'Minotaur',\n",
       " 'Neurons',\n",
       " 'The Circulatory System',\n",
       " 'The Roman Empire',\n",
       " 'Communism',\n",
       " 'Personification',\n",
       " 'Metaphor',\n",
       " 'World War 2',\n",
       " 'The Great Wall of China',\n",
       " 'The Respiratory System',\n",
       " 'Capitalism',\n",
       " 'The Cold War',\n",
       " 'The September 11th Attacks',\n",
       " 'The French Revolution',\n",
       " 'The September 11th Attacks',\n",
       " 'The American Civil War',\n",
       " 'Communism',\n",
       " 'The Cold War',\n",
       " 'The Respiratory System',\n",
       " 'The Hagia Sophia',\n",
       " 'Cells',\n",
       " 'The Industrial Revolution',\n",
       " 'Nelson Mandela',\n",
       " 'The Respiratory System',\n",
       " 'Marie Curie',\n",
       " 'Salvador Dali',\n",
       " 'The Pyramids',\n",
       " 'The Nervous System',\n",
       " 'Capitalism',\n",
       " 'Allegory',\n",
       " \"Newton's Second Law of Motion\",\n",
       " 'Foreshadowing',\n",
       " 'Photosynthesis',\n",
       " 'Dictatorship',\n",
       " 'The Periodic Table',\n",
       " 'The Cold War',\n",
       " 'Abraham Lincoln',\n",
       " 'The White House',\n",
       " 'The Periodic Table',\n",
       " 'Achilles',\n",
       " 'Neurons',\n",
       " 'The Roman Empire',\n",
       " 'Personification',\n",
       " \"Newton's First Law of Motion\",\n",
       " 'Dictatorship',\n",
       " 'The Industrial Revolution',\n",
       " 'World War 2',\n",
       " 'Allegory',\n",
       " 'The Solar System',\n",
       " 'DNA',\n",
       " 'The Solar System',\n",
       " 'The Colosseum',\n",
       " 'Leonardo da Vinci',\n",
       " 'The Solar System',\n",
       " 'Minotaur',\n",
       " 'DNA',\n",
       " 'Salvador Dali',\n",
       " 'The Great Wall of China',\n",
       " 'Genghis Khan',\n",
       " 'The Respiratory System',\n",
       " 'Vincent van Gogh',\n",
       " 'Pythagorean Theorem',\n",
       " 'Photosynthesis',\n",
       " 'Salvador Dali',\n",
       " 'Supply and Demand',\n",
       " 'Neurons',\n",
       " 'Genghis Khan',\n",
       " 'Albert Einstein',\n",
       " 'Leonardo da Vinci',\n",
       " 'The Palace of Versailles',\n",
       " 'Photosynthesis',\n",
       " 'Molecules',\n",
       " 'Photosynthesis',\n",
       " 'Martin Luther King',\n",
       " 'Sigmund Freud',\n",
       " 'The Respiratory System',\n",
       " 'Joan of Arc',\n",
       " 'Joan of Arc',\n",
       " 'Christopher Columbus',\n",
       " 'The Solar System',\n",
       " 'The French Revolution',\n",
       " 'Marie Curie',\n",
       " 'The Industrial Revolution',\n",
       " 'The Periodic Table',\n",
       " 'William Shakespeare',\n",
       " 'Poseidon',\n",
       " 'The Russian Revolution',\n",
       " 'The Pyramids',\n",
       " 'Hercules',\n",
       " 'The Hagia Sophia',\n",
       " 'Democracy',\n",
       " 'The White House',\n",
       " 'The Taj Mahal',\n",
       " 'Conservation of Energy',\n",
       " 'The Eiffel TowerConfucius',\n",
       " 'Albert Einstein',\n",
       " 'The Nervous System',\n",
       " \"Newton's Third Law of Motion\",\n",
       " 'The Solar System',\n",
       " 'Zeus',\n",
       " 'Napoleon Bonaparte',\n",
       " 'Pythagorean Theorem',\n",
       " 'The Cold War',\n",
       " 'The French Revolution',\n",
       " 'Democracy',\n",
       " 'Achilles',\n",
       " 'Ares',\n",
       " 'The Solar System',\n",
       " 'The Machu Picchu',\n",
       " 'The Pyramids',\n",
       " 'Atoms',\n",
       " 'Capitalism',\n",
       " 'Ares',\n",
       " 'Vincent van Gogh',\n",
       " 'Marie Curie',\n",
       " 'Cells',\n",
       " 'Abraham Lincoln',\n",
       " 'Irony',\n",
       " 'World War 1',\n",
       " 'Christopher Columbus',\n",
       " 'Abraham Lincoln',\n",
       " 'Foreshadowing',\n",
       " 'The Respiratory System',\n",
       " 'Ares',\n",
       " 'Photosynthesis',\n",
       " 'The September 11th Attacks',\n",
       " 'Communism',\n",
       " 'DNA',\n",
       " 'Photosynthesis',\n",
       " 'Ares',\n",
       " 'The Great Wall of China',\n",
       " 'Capitalism',\n",
       " 'Pythagorean Theorem',\n",
       " 'Medusa',\n",
       " 'Winston Churchill',\n",
       " 'The Russian Revolution',\n",
       " 'Christopher Columbus',\n",
       " 'The Declaration of Independence',\n",
       " 'The Nervous System',\n",
       " 'Winston Churchill',\n",
       " 'The September 11th Attacks',\n",
       " 'Metaphor',\n",
       " 'Photosynthesis',\n",
       " 'Ares',\n",
       " 'The Circulatory System',\n",
       " 'The Declaration of Independence',\n",
       " 'The Cold War',\n",
       " 'The Industrial Revolution',\n",
       " 'Salvador Dali',\n",
       " 'Salvador Dali',\n",
       " 'Vincent van Gogh',\n",
       " 'Supply and Demand',\n",
       " 'Supply and Demand',\n",
       " 'Julius Caesar',\n",
       " 'The Russian Revolution',\n",
       " 'The American Civil War',\n",
       " 'Martin Luther King',\n",
       " 'Pablo Picasso',\n",
       " 'The Machu Picchu',\n",
       " 'Nelson Mandela',\n",
       " 'The Taj Mahal',\n",
       " 'Abraham Lincoln',\n",
       " 'The Palace of Versailles',\n",
       " 'Pablo Picasso',\n",
       " 'Cells',\n",
       " 'Elements',\n",
       " 'The Solar System',\n",
       " 'Abraham Lincoln',\n",
       " 'Supply and Demand',\n",
       " 'Napoleon Bonaparte',\n",
       " 'Minotaur',\n",
       " 'Albert Einstein',\n",
       " 'Neurons',\n",
       " 'Abraham Lincoln',\n",
       " 'Minotaur',\n",
       " 'Irony',\n",
       " 'The Respiratory System',\n",
       " 'The American Civil War',\n",
       " 'The Russian Revolution',\n",
       " 'Zeus',\n",
       " 'The White House',\n",
       " 'Albert Einstein',\n",
       " 'Salvador Dali',\n",
       " 'Zeus',\n",
       " 'Minotaur',\n",
       " 'Metaphor',\n",
       " 'Sigmund Freud',\n",
       " 'The Colosseum',\n",
       " 'Winston Churchill',\n",
       " 'Julius Caesar',\n",
       " 'Pythagorean Theorem',\n",
       " 'Abraham Lincoln',\n",
       " 'Leonardo da Vinci',\n",
       " 'The Circulatory System',\n",
       " 'Hercules',\n",
       " 'The Tower of London',\n",
       " 'Winston Churchill',\n",
       " 'The Industrial Revolution',\n",
       " 'The Circulatory System',\n",
       " 'The Tower of London',\n",
       " 'Metaphor',\n",
       " 'The Hagia Sophia',\n",
       " 'Elements',\n",
       " 'Winston Churchill',\n",
       " 'The Industrial Revolution',\n",
       " 'Julius Caesar',\n",
       " 'Abraham Lincoln',\n",
       " 'Christopher Columbus',\n",
       " 'The Tower of London',\n",
       " 'Christopher Columbus',\n",
       " 'World War 1',\n",
       " 'The Palace of Versailles',\n",
       " 'Conservation of Energy',\n",
       " 'Ares',\n",
       " 'Christopher Columbus',\n",
       " 'The Russian Revolution',\n",
       " 'Poseidon',\n",
       " 'The Circulatory System',\n",
       " 'The Circulatory System',\n",
       " 'Abraham Lincoln',\n",
       " 'The September 11th Attacks',\n",
       " 'Notre Dame Cathedral',\n",
       " 'Elements',\n",
       " 'Elements',\n",
       " 'The Russian Revolution',\n",
       " 'The American Civil War',\n",
       " 'Winston Churchill',\n",
       " 'Evolution',\n",
       " 'DNA',\n",
       " 'William Shakespeare',\n",
       " \"Newton's Third Law of Motion\",\n",
       " 'Personification',\n",
       " 'Zeus',\n",
       " 'Pablo Picasso',\n",
       " 'Winston Churchill',\n",
       " 'The Industrial Revolution',\n",
       " 'Conservation of Energy',\n",
       " 'The American Civil War',\n",
       " 'Atoms',\n",
       " 'The Industrial Revolution',\n",
       " 'World War 1',\n",
       " 'Poseidon',\n",
       " 'The Russian Revolution',\n",
       " 'Leonardo da Vinci',\n",
       " 'Metaphor',\n",
       " 'Ares',\n",
       " 'Hercules',\n",
       " 'Molecules',\n",
       " 'The Palace of Versailles',\n",
       " 'Communism',\n",
       " 'The Palace of Versailles',\n",
       " 'The Respiratory System',\n",
       " 'World War 2',\n",
       " 'Communism',\n",
       " 'The Respiratory System',\n",
       " 'Elements',\n",
       " 'The Periodic Table',\n",
       " 'Photosynthesis',\n",
       " 'The Big Bang',\n",
       " 'The Machu Picchu',\n",
       " 'The French Revolution',\n",
       " 'The Tower of London',\n",
       " 'The Palace of Versailles',\n",
       " 'The Periodic Table',\n",
       " \"Newton's First Law of Motion\",\n",
       " 'Winston Churchill',\n",
       " 'The Russian Revolution',\n",
       " 'Nelson Mandela',\n",
       " 'Albert Einstein',\n",
       " 'Sigmund Freud',\n",
       " 'Notre Dame Cathedral',\n",
       " 'World War 1',\n",
       " 'Atoms',\n",
       " 'World War 2',\n",
       " 'Molecules',\n",
       " 'The Great Wall of China',\n",
       " 'Evolution',\n",
       " 'The Taj Mahal',\n",
       " 'Vincent van Gogh',\n",
       " 'World War 1',\n",
       " 'The Big Bang',\n",
       " 'The Respiratory System',\n",
       " 'Elements',\n",
       " 'The Colosseum',\n",
       " 'DNA',\n",
       " 'Pablo Picasso',\n",
       " 'Ares',\n",
       " \"Newton's First Law of Motion\",\n",
       " 'The Circulatory System',\n",
       " 'The Respiratory System',\n",
       " \"Newton's First Law of Motion\",\n",
       " 'Supply and Demand',\n",
       " 'Cells',\n",
       " 'Irony',\n",
       " 'Sigmund Freud',\n",
       " 'Martin Luther King',\n",
       " 'Winston Churchill',\n",
       " 'Conservation of Energy',\n",
       " 'Foreshadowing',\n",
       " 'Notre Dame Cathedral',\n",
       " 'World War 1',\n",
       " 'The Taj Mahal',\n",
       " 'Personification',\n",
       " 'The Periodic Table',\n",
       " 'Winston Churchill',\n",
       " 'The Taj Mahal',\n",
       " 'Irony',\n",
       " 'Winston Churchill',\n",
       " 'Personification',\n",
       " 'World War 2',\n",
       " 'Napoleon Bonaparte',\n",
       " \"Newton's Third Law of Motion\",\n",
       " 'The Industrial Revolution',\n",
       " 'Allegory',\n",
       " 'Winston Churchill',\n",
       " 'William Shakespeare',\n",
       " 'The Respiratory System',\n",
       " 'The Periodic Table',\n",
       " 'Personification',\n",
       " 'Conservation of Energy',\n",
       " \"Newton's First Law of Motion\",\n",
       " 'Salvador Dali',\n",
       " 'Napoleon Bonaparte',\n",
       " 'The American Civil War',\n",
       " 'The Industrial Revolution',\n",
       " 'Supply and Demand',\n",
       " 'Ares',\n",
       " \"Newton's Third Law of Motion\",\n",
       " 'Nelson Mandela',\n",
       " 'The White House',\n",
       " 'World War 2',\n",
       " 'The Respiratory System',\n",
       " 'Democracy',\n",
       " 'Capitalism',\n",
       " 'Supply and Demand',\n",
       " 'Hercules',\n",
       " 'The American Civil War',\n",
       " 'Poseidon',\n",
       " 'DNA',\n",
       " 'The September 11th Attacks',\n",
       " 'The Nervous System',\n",
       " 'Joan of Arc',\n",
       " 'Pablo Picasso',\n",
       " \"Newton's Third Law of Motion\",\n",
       " 'Julius Caesar',\n",
       " 'The Eiffel TowerConfucius',\n",
       " 'William Shakespeare',\n",
       " 'Nelson Mandela',\n",
       " 'Julius Caesar',\n",
       " 'Medusa',\n",
       " 'The Great Wall of China',\n",
       " 'Irony',\n",
       " 'Nelson Mandela',\n",
       " 'Angkor Wat',\n",
       " 'Zeus',\n",
       " 'The Nervous System',\n",
       " 'Sigmund Freud',\n",
       " 'The Solar System',\n",
       " 'Napoleon Bonaparte',\n",
       " 'Pythagorean Theorem',\n",
       " 'The Cold War',\n",
       " 'The Respiratory System',\n",
       " 'Ares',\n",
       " 'Salvador Dali',\n",
       " 'The Solar System',\n",
       " 'Atoms',\n",
       " 'The French Revolution',\n",
       " 'Allegory',\n",
       " 'World War 2',\n",
       " 'The Great Wall of China',\n",
       " 'Genghis Khan',\n",
       " 'The Taj Mahal',\n",
       " 'Dictatorship',\n",
       " 'World War 1',\n",
       " 'The White House',\n",
       " 'Salvador Dali',\n",
       " 'Atoms',\n",
       " 'The September 11th Attacks',\n",
       " 'Dictatorship',\n",
       " 'The Periodic Table',\n",
       " 'The Great Wall of China',\n",
       " 'World War 1',\n",
       " 'Albert Einstein',\n",
       " 'The Hagia Sophia',\n",
       " 'The Hagia Sophia',\n",
       " 'Abraham Lincoln',\n",
       " 'Ares',\n",
       " 'Democracy',\n",
       " 'Cells',\n",
       " 'Joan of Arc',\n",
       " 'The Industrial Revolution',\n",
       " 'Dictatorship',\n",
       " 'The American Civil War',\n",
       " 'The Machu Picchu',\n",
       " 'Supply and Demand',\n",
       " 'The White House',\n",
       " 'Abraham Lincoln',\n",
       " 'The White House',\n",
       " 'Medusa',\n",
       " 'Molecules',\n",
       " 'The Big Bang',\n",
       " 'The French Revolution',\n",
       " 'The White House',\n",
       " 'The White House',\n",
       " \"Archimedes' Principle\",\n",
       " 'Poseidon',\n",
       " 'Neurons',\n",
       " 'Capitalism',\n",
       " 'Allegory',\n",
       " 'Pablo Picasso',\n",
       " \"Archimedes' Principle\",\n",
       " 'Communism',\n",
       " \"Newton's Third Law of Motion\",\n",
       " 'Christopher Columbus',\n",
       " 'Genghis Khan',\n",
       " 'Atoms',\n",
       " 'The Circulatory System',\n",
       " 'Pythagorean Theorem',\n",
       " 'World War 2',\n",
       " 'The Taj Mahal',\n",
       " 'The Periodic Table',\n",
       " 'Atoms',\n",
       " 'The Machu Picchu',\n",
       " 'William Shakespeare',\n",
       " 'Democracy',\n",
       " 'Photosynthesis',\n",
       " 'Achilles',\n",
       " 'The Nervous System',\n",
       " 'The Declaration of Independence',\n",
       " 'The Respiratory System',\n",
       " 'Martin Luther King',\n",
       " 'Salvador Dali',\n",
       " 'Molecules',\n",
       " 'The Palace of Versailles',\n",
       " 'Neurons',\n",
       " 'Napoleon Bonaparte',\n",
       " 'The Nervous System',\n",
       " 'Vincent van Gogh',\n",
       " 'Julius Caesar',\n",
       " 'The Colosseum',\n",
       " 'The Declaration of Independence',\n",
       " 'Allegory',\n",
       " 'Communism',\n",
       " 'Julius Caesar',\n",
       " 'The Pyramids',\n",
       " 'The Great Wall of China',\n",
       " 'Medusa',\n",
       " 'Angkor Wat',\n",
       " 'The Respiratory System',\n",
       " 'Genghis Khan',\n",
       " 'Albert Einstein',\n",
       " 'The Palace of Versailles',\n",
       " 'Joan of Arc',\n",
       " 'Zeus',\n",
       " 'William Shakespeare',\n",
       " 'The Industrial Revolution',\n",
       " 'World War 2',\n",
       " 'Elements',\n",
       " 'Personification',\n",
       " 'Capitalism',\n",
       " 'DNA',\n",
       " 'Sigmund Freud',\n",
       " 'Pablo Picasso',\n",
       " 'The White House',\n",
       " 'Marie Curie',\n",
       " 'Ares',\n",
       " 'Joan of Arc',\n",
       " 'The Big Bang',\n",
       " 'Vincent van Gogh',\n",
       " 'The Industrial Revolution',\n",
       " 'Albert Einstein',\n",
       " 'Nelson Mandela',\n",
       " 'Martin Luther King',\n",
       " 'Poseidon',\n",
       " 'The Machu Picchu',\n",
       " 'Sigmund Freud',\n",
       " 'The Machu Picchu',\n",
       " \"Newton's Second Law of Motion\",\n",
       " 'Nelson Mandela',\n",
       " 'The American Civil War',\n",
       " 'Martin Luther King',\n",
       " 'Supply and Demand',\n",
       " \"Newton's Second Law of Motion\",\n",
       " 'The Solar System',\n",
       " 'The Respiratory System',\n",
       " 'The Cold War',\n",
       " 'Poseidon',\n",
       " 'The Big Bang',\n",
       " 'Leonardo da Vinci',\n",
       " 'Evolution',\n",
       " 'Sigmund Freud',\n",
       " \"Archimedes' Principle\",\n",
       " 'The Eiffel TowerConfucius',\n",
       " 'Conservation of Energy',\n",
       " 'Hercules',\n",
       " 'Vincent van Gogh',\n",
       " 'Dictatorship',\n",
       " 'Napoleon Bonaparte',\n",
       " 'Neurons',\n",
       " 'The Eiffel TowerConfucius',\n",
       " 'Notre Dame Cathedral',\n",
       " 'The Respiratory System',\n",
       " 'The Cold War',\n",
       " 'Abraham Lincoln',\n",
       " 'Conservation of Energy',\n",
       " 'Nelson Mandela',\n",
       " 'Nelson Mandela',\n",
       " 'The French Revolution',\n",
       " 'Salvador Dali',\n",
       " \"Newton's Second Law of Motion\",\n",
       " \"Newton's First Law of Motion\",\n",
       " 'Ares',\n",
       " 'Martin Luther King',\n",
       " 'Capitalism',\n",
       " 'Irony',\n",
       " 'Metaphor',\n",
       " 'Democracy',\n",
       " 'Democracy',\n",
       " 'Napoleon Bonaparte',\n",
       " 'Hercules',\n",
       " 'Minotaur',\n",
       " 'Sigmund Freud',\n",
       " 'The Periodic Table',\n",
       " 'Allegory',\n",
       " 'The Cold War',\n",
       " 'Abraham Lincoln',\n",
       " 'Conservation of Energy',\n",
       " 'Neurons',\n",
       " 'The Industrial Revolution',\n",
       " 'Metaphor',\n",
       " 'Marie Curie',\n",
       " 'Conservation of Energy',\n",
       " 'Julius Caesar',\n",
       " 'The Pyramids',\n",
       " 'Evolution',\n",
       " 'The Cold War',\n",
       " 'The Nervous System',\n",
       " 'Communism',\n",
       " 'Pablo Picasso',\n",
       " 'Neurons',\n",
       " 'Julius Caesar',\n",
       " 'The Eiffel TowerConfucius',\n",
       " 'Capitalism',\n",
       " 'Photosynthesis',\n",
       " 'Irony',\n",
       " 'Molecules',\n",
       " 'Sigmund Freud',\n",
       " 'The Industrial Revolution',\n",
       " 'The Industrial Revolution',\n",
       " 'Photosynthesis',\n",
       " 'The September 11th Attacks',\n",
       " 'The Respiratory System',\n",
       " 'The Big Bang',\n",
       " 'Abraham Lincoln',\n",
       " 'Allegory',\n",
       " 'Molecules',\n",
       " 'The Hagia Sophia',\n",
       " 'Minotaur',\n",
       " 'William Shakespeare',\n",
       " 'The Roman Empire',\n",
       " \"Newton's First Law of Motion\",\n",
       " 'The Periodic Table',\n",
       " 'The Palace of Versailles',\n",
       " 'Evolution',\n",
       " 'Winston Churchill',\n",
       " 'Winston Churchill',\n",
       " 'Angkor Wat',\n",
       " 'Julius Caesar',\n",
       " 'The Respiratory System',\n",
       " 'Democracy',\n",
       " 'Christopher Columbus',\n",
       " 'The French Revolution',\n",
       " 'Marie Curie',\n",
       " 'The Taj Mahal',\n",
       " 'The Roman Empire',\n",
       " 'DNA',\n",
       " 'Capitalism',\n",
       " 'Dictatorship',\n",
       " 'Genghis Khan',\n",
       " 'Cells',\n",
       " 'Angkor Wat',\n",
       " 'The Big Bang',\n",
       " 'The Russian Revolution',\n",
       " 'Ares',\n",
       " 'The Parthenon',\n",
       " 'The Hagia Sophia',\n",
       " 'The Nervous System',\n",
       " 'Photosynthesis',\n",
       " 'Democracy',\n",
       " 'Leonardo da Vinci',\n",
       " 'Dictatorship',\n",
       " 'Molecules',\n",
       " 'Pythagorean Theorem',\n",
       " 'Julius Caesar',\n",
       " 'Medusa',\n",
       " 'The Tower of London',\n",
       " 'Leonardo da Vinci',\n",
       " 'The Palace of Versailles',\n",
       " 'World War 2',\n",
       " 'Supply and Demand',\n",
       " 'The Russian Revolution',\n",
       " 'The Solar System',\n",
       " 'The Tower of London',\n",
       " 'Julius Caesar',\n",
       " 'The Palace of Versailles',\n",
       " 'Genghis Khan',\n",
       " 'Dictatorship',\n",
       " 'Cells',\n",
       " 'Communism',\n",
       " 'Conservation of Energy',\n",
       " 'Photosynthesis',\n",
       " 'Albert Einstein',\n",
       " 'The Great Wall of China',\n",
       " 'Democracy',\n",
       " 'Vincent van Gogh',\n",
       " 'The Respiratory System',\n",
       " 'Allegory',\n",
       " \"Newton's Second Law of Motion\",\n",
       " 'Neurons',\n",
       " 'Vincent van Gogh',\n",
       " \"Archimedes' Principle\",\n",
       " 'DNA',\n",
       " 'Genghis Khan',\n",
       " 'The Pyramids',\n",
       " 'Christopher Columbus',\n",
       " 'Elements',\n",
       " 'Evolution',\n",
       " 'Hercules',\n",
       " 'Democracy',\n",
       " 'The Colosseum',\n",
       " 'The Palace of Versailles',\n",
       " 'Julius Caesar',\n",
       " 'William Shakespeare',\n",
       " 'The Respiratory System',\n",
       " 'Elements',\n",
       " \"Archimedes' Principle\",\n",
       " 'Christopher Columbus',\n",
       " 'The Cold War',\n",
       " 'The Parthenon',\n",
       " 'Angkor Wat',\n",
       " 'The Respiratory System',\n",
       " 'Hercules',\n",
       " 'Sigmund Freud',\n",
       " 'Poseidon',\n",
       " 'The Great Wall of China',\n",
       " 'Hercules',\n",
       " 'Metaphor',\n",
       " 'The Machu Picchu',\n",
       " 'The Solar System',\n",
       " 'Julius Caesar',\n",
       " 'The Machu Picchu',\n",
       " 'The Taj Mahal',\n",
       " 'Communism',\n",
       " 'World War 1',\n",
       " 'Atoms',\n",
       " 'World War 1',\n",
       " 'Marie Curie',\n",
       " 'The French Revolution',\n",
       " 'The Machu Picchu',\n",
       " 'Neurons',\n",
       " 'Leonardo da Vinci',\n",
       " 'The Industrial Revolution',\n",
       " 'The Taj Mahal',\n",
       " 'The Great Wall of China',\n",
       " 'Personification',\n",
       " 'Conservation of Energy',\n",
       " 'Pablo Picasso',\n",
       " 'Achilles',\n",
       " 'The Tower of London',\n",
       " 'DNA',\n",
       " 'Hercules',\n",
       " \"Newton's Second Law of Motion\",\n",
       " 'Irony',\n",
       " 'Personification',\n",
       " 'The Nervous System',\n",
       " 'The White House',\n",
       " 'Conservation of Energy',\n",
       " 'Democracy',\n",
       " 'Notre Dame Cathedral',\n",
       " 'The Industrial Revolution',\n",
       " 'Conservation of Energy',\n",
       " 'The Eiffel TowerConfucius',\n",
       " 'Poseidon',\n",
       " 'Evolution',\n",
       " 'Salvador Dali',\n",
       " 'Communism',\n",
       " 'Allegory',\n",
       " 'Abraham Lincoln',\n",
       " 'Democracy',\n",
       " 'The Respiratory System',\n",
       " 'DNA',\n",
       " 'Albert Einstein',\n",
       " 'The Roman Empire',\n",
       " 'Metaphor',\n",
       " 'Pablo Picasso',\n",
       " 'DNA',\n",
       " 'The French Revolution',\n",
       " 'The Respiratory System',\n",
       " 'The Russian Revolution',\n",
       " 'Elements',\n",
       " 'The Parthenon',\n",
       " 'Irony',\n",
       " 'Napoleon Bonaparte',\n",
       " 'Pablo Picasso',\n",
       " 'The Pyramids',\n",
       " 'The Taj Mahal',\n",
       " 'The Colosseum',\n",
       " 'The Respiratory System',\n",
       " 'The Solar System',\n",
       " 'Joan of Arc',\n",
       " 'Genghis Khan',\n",
       " 'The Taj Mahal',\n",
       " 'World War 1',\n",
       " 'The Eiffel TowerConfucius',\n",
       " 'Hercules',\n",
       " 'Pythagorean Theorem',\n",
       " 'Cells',\n",
       " 'Salvador Dali',\n",
       " 'Medusa',\n",
       " 'World War 1',\n",
       " 'DNA',\n",
       " 'The Cold War',\n",
       " 'The Cold War',\n",
       " 'Communism',\n",
       " 'Allegory',\n",
       " 'Pythagorean Theorem',\n",
       " 'Pablo Picasso',\n",
       " 'Irony',\n",
       " 'The Great Wall of China',\n",
       " 'Molecules',\n",
       " 'The Roman Empire',\n",
       " 'Leonardo da Vinci',\n",
       " \"Newton's Third Law of Motion\",\n",
       " 'Dictatorship',\n",
       " 'World War 2',\n",
       " 'Supply and Demand',\n",
       " 'Cells',\n",
       " 'Pablo Picasso',\n",
       " 'The French Revolution',\n",
       " 'Cells',\n",
       " 'Irony',\n",
       " 'Abraham Lincoln',\n",
       " 'William Shakespeare',\n",
       " 'The Parthenon',\n",
       " 'Sigmund Freud',\n",
       " 'Molecules',\n",
       " 'The Parthenon',\n",
       " 'Napoleon Bonaparte',\n",
       " 'The Taj Mahal',\n",
       " 'The Respiratory System',\n",
       " 'The Solar System',\n",
       " 'The Tower of London',\n",
       " 'The Big Bang',\n",
       " 'Martin Luther King',\n",
       " 'Molecules',\n",
       " 'Communism',\n",
       " 'Capitalism',\n",
       " 'The French Revolution',\n",
       " 'Democracy',\n",
       " 'Leonardo da Vinci',\n",
       " 'The French Revolution',\n",
       " 'Vincent van Gogh',\n",
       " 'Supply and Demand',\n",
       " 'The Periodic Table',\n",
       " 'The Eiffel TowerConfucius',\n",
       " 'The Machu Picchu',\n",
       " 'The Colosseum',\n",
       " 'William Shakespeare',\n",
       " \"Newton's First Law of Motion\",\n",
       " 'Nelson Mandela',\n",
       " 'The Great Wall of China',\n",
       " 'Atoms',\n",
       " ...]"
      ]
     },
     "execution_count": 10,
     "metadata": {},
     "output_type": "execute_result"
    }
   ],
   "source": [
    "topic_list"
   ]
  },
  {
   "cell_type": "code",
   "execution_count": 11,
   "metadata": {},
   "outputs": [
    {
     "data": {
      "text/plain": [
       "['Minotaur',\n",
       " 'The Industrial Revolution',\n",
       " 'The Tower of London',\n",
       " 'Christopher Columbus',\n",
       " 'The Cold War',\n",
       " 'Salvador Dali',\n",
       " 'The Pyramids',\n",
       " 'Vincent van Gogh',\n",
       " 'The Nervous System',\n",
       " 'Photosynthesis',\n",
       " 'The Respiratory System',\n",
       " 'Leonardo da Vinci',\n",
       " 'World War 1',\n",
       " 'The Solar System',\n",
       " 'The Eiffel TowerConfucius',\n",
       " \"Newton's Third Law of Motion\",\n",
       " 'The Respiratory System',\n",
       " 'The Machu Picchu',\n",
       " 'Foreshadowing',\n",
       " 'Irony',\n",
       " 'Evolution',\n",
       " 'The French Revolution',\n",
       " 'Poseidon',\n",
       " 'Christopher Columbus',\n",
       " 'DNA',\n",
       " 'Allegory',\n",
       " 'Marie Curie',\n",
       " 'Ares',\n",
       " 'The Declaration of Independence',\n",
       " 'Capitalism',\n",
       " 'The Parthenon',\n",
       " 'Pythagorean Theorem',\n",
       " 'The Solar System',\n",
       " 'The Taj Mahal',\n",
       " 'The Machu Picchu',\n",
       " 'Hercules',\n",
       " 'Capitalism',\n",
       " 'The Tower of London',\n",
       " 'Martin Luther King',\n",
       " 'Supply and Demand',\n",
       " 'The Circulatory System',\n",
       " 'Irony',\n",
       " 'The Respiratory System',\n",
       " 'Allegory',\n",
       " 'The White House',\n",
       " 'Albert Einstein',\n",
       " 'The Eiffel TowerConfucius',\n",
       " 'The Respiratory System',\n",
       " 'The Great Wall of China',\n",
       " 'Elements',\n",
       " 'Genghis Khan',\n",
       " 'Dictatorship',\n",
       " 'Leonardo da Vinci',\n",
       " 'Leonardo da Vinci',\n",
       " 'Conservation of Energy',\n",
       " 'Allegory',\n",
       " 'Poseidon',\n",
       " 'Elements',\n",
       " 'Capitalism',\n",
       " 'Allegory',\n",
       " 'Abraham Lincoln',\n",
       " 'The Taj Mahal',\n",
       " 'Notre Dame Cathedral',\n",
       " 'Dictatorship',\n",
       " 'Salvador Dali',\n",
       " 'Christopher Columbus',\n",
       " 'Napoleon Bonaparte',\n",
       " 'The Roman Empire',\n",
       " 'Pablo Picasso',\n",
       " 'Hercules',\n",
       " 'The Russian Revolution',\n",
       " 'Minotaur',\n",
       " 'Salvador Dali',\n",
       " 'Leonardo da Vinci',\n",
       " \"Newton's Second Law of Motion\",\n",
       " 'The American Civil War',\n",
       " 'Pablo Picasso',\n",
       " 'The Eiffel TowerConfucius',\n",
       " 'Nelson Mandela',\n",
       " 'Marie Curie',\n",
       " 'The Declaration of Independence',\n",
       " 'Vincent van Gogh',\n",
       " 'The Cold War',\n",
       " 'The Roman Empire',\n",
       " 'The Pyramids',\n",
       " 'The Circulatory System',\n",
       " 'Allegory',\n",
       " 'Pablo Picasso',\n",
       " 'The Eiffel TowerConfucius',\n",
       " 'Cells',\n",
       " 'Abraham Lincoln',\n",
       " 'The White House',\n",
       " 'Dictatorship',\n",
       " 'Angkor Wat',\n",
       " 'Pythagorean Theorem',\n",
       " \"Newton's Third Law of Motion\",\n",
       " 'Joan of Arc',\n",
       " 'Metaphor',\n",
       " 'The Pyramids',\n",
       " 'DNA']"
      ]
     },
     "execution_count": 11,
     "metadata": {},
     "output_type": "execute_result"
    }
   ],
   "source": [
    "np.random.seed(0)\n",
    "topic_list_selection = random.sample(topic_list, 100)\n",
    "topic_list_selection"
   ]
  },
  {
   "cell_type": "code",
   "execution_count": 12,
   "metadata": {},
   "outputs": [],
   "source": [
    "llms = [\"Llama-3.1-8B-Instruct\", \"gpt-4o-mini\", \"Qwen2.5-3B-Instruct\", \"Llama-3.1-8B\", \"Mistral-7B-Instruct\", \"Llama-3.1-70B\", \"Llama-3.1-70B-Instruct\", \"phi-3.5-mini-instruct\"]\n",
    "        \n",
    "config_llm = {'agent1_model': 'Llama-3.1-8B-Instruct',\n",
    "             'agent2_model': 'Llama-3.1-8B-Instruct',\n",
    "             'eval_model': 'Llama-3.1-70B-Instruct',\n",
    "             'iterations': 10,\n",
    "             'verbose': False,\n",
    "             'write': True,\n",
    "             'convo_length_limit': 10,\n",
    "             'max_tokens': 256,\n",
    "             'gpus': 1,\n",
    "             'seed': 0,\n",
    "             'task_name': 'Education',\n",
    "             'model_dir': \"/home/marwa/models/\"}\n",
    "\n",
    "with open(\"education/Llama-3.1-8B-Instruct.json\", \"w\", encoding=\"utf-8\") as f:\n",
    "    json.dump(config_llm, f, indent=4)"
   ]
  },
  {
   "cell_type": "code",
   "execution_count": 13,
   "metadata": {},
   "outputs": [],
   "source": [
    "import re\n",
    "\n",
    "def clean_role_prefix(response, expected_role):\n",
    "    \"\"\"\n",
    "    Removes repeated instances of the expected_role prefix at the start (e.g., 'Therapist: Therapist:'),\n",
    "    and ensures the response begins with a single correct expected_role prefix.\n",
    "    \"\"\"\n",
    "    pattern = rf\"^(({re.escape(expected_role)}):\\s*)+\"\n",
    "    cleaned = re.sub(pattern, '', response.strip(), flags=re.IGNORECASE)\n",
    "    return cleaned\n",
    "    \n",
    "def is_role_confused(response, other_role):\n",
    "    \"\"\"\n",
    "    Checks if the output starts with the wrong speaker tag.\n",
    "    \"\"\"\n",
    "    if other_role + \":\" in response:\n",
    "        return True\n",
    "    else: \n",
    "        return False\n",
    "\n",
    "def generate_response(agent_model, expected_role, other_role, config_llm, prompt, max_retries=3):\n",
    "    role_confused = True\n",
    "    while(role_confused):\n",
    "        response = completion_create(agent_model, config_llm, prompt)\n",
    "        print(\"Expected Role\", expected_role)\n",
    "        role_confused = is_role_confused(response, other_role)\n",
    "        if not is_role_confused(response, other_role):\n",
    "            return clean_role_prefix(response, expected_role)\n",
    "            \n",
    "    return clean_role_prefix(response, expected_role)\n",
    "\n",
    "def generate_conversation(config_llm, p1, p2, p1_name, p2_name, subject, role, pturn=1):\n",
    "    stats['P1'] = p1\n",
    "    stats['P2'] = p2\n",
    "\n",
    "    stats['pturn'] = pturn\n",
    "    round_num = 0\n",
    "    while round_num < config_llm['convo_length_limit']:\n",
    "        conversation = (\"\".join([turn[1] if isinstance(turn, tuple) else turn for turn in stats[\"conversation\"]]) if len(stats[\"conversation\"]) != 0 else \"You are starting the conversation.\\n\")\n",
    "        \n",
    "        if pturn == 1:\n",
    "            prompt = config_role[\"agent1_prompt\"]\n",
    "            pturn = 2\n",
    "            if config_llm[\"verbose\"]:\n",
    "                print(prompt)\n",
    "                print()\n",
    "\n",
    "            if round_num!=0: \n",
    "                prompt+= \"Your conversation with the student so far is below:\\nConversation:\\n%CONVERSATION%\"\n",
    "                \n",
    "            if round_num >=config_llm['convo_length_limit']*2-11 and round_num<=config_llm['convo_length_limit']*2-1:\n",
    "                prompt+= \"You have \" + str((config_llm['convo_length_limit']-round_num)//2) + \" rounds left.\" + \"Make sure to conclude the conversation as your near the end.\"\n",
    "\n",
    "            elif round_num>config_llm['convo_length_limit']*2-1:\n",
    "                prompt+= \"This is your concluding line in the conversation.\"\n",
    "\n",
    "            if round_num!=0: \n",
    "                prompt+= \"Continue the conversation with the student. Remember you are the teacher. \"\n",
    "                \n",
    "            prompt += config_role[\"reminder_prompt\"]\n",
    "            prompt+=\"%SPEAKER_ROLE%:\"\n",
    "            prompt = prompt.replace(\"%SPEAKER_ROLE%\", config_role[\"agent1_role\"]) \\\n",
    "                   .replace(\"%LISTENER_ROLE%\", config_role[\"agent2_role\"]) \\\n",
    "                    .replace(\"%ROLE%\", role) \\\n",
    "                   .replace(\"%SUBJECT%\", subject) \\\n",
    "                   .replace(\"%CONVERSATION%\", conversation)\n",
    "            \n",
    "            response = generate_response(config_llm['agent1_model'], config_role[\"agent1_role\"], config_role[\"agent2_role\"], config_llm, prompt)\n",
    "            stats[\"conversation\"].append((round_num, f\"{config_role[\"agent1_role\"]}: \" + response + \"\\n\"))\n",
    "        \n",
    "        else:\n",
    "            prompt = config_role[\"agent2_prompt\"]\n",
    "            pturn = 1    \n",
    "            if config_llm[\"verbose\"]:\n",
    "                print(prompt)\n",
    "                print()\n",
    "\n",
    "            if round_num!=0: \n",
    "                prompt+= \"Your conversation with the teacher so far is below:\\nConversation:\\n%CONVERSATION%\"\n",
    "            if round_num >=config_llm['convo_length_limit']*2-11 and round_num<=config_llm['convo_length_limit']*2-1:\n",
    "                prompt+= \"You have \" + str((config_llm['convo_length_limit']-round_num)//2) + \" rounds left.\" + \"Make sure to conclude the conversation as your near the end.\"\n",
    "            elif round_num>config_llm['convo_length_limit']*2-1:\n",
    "                prompt+= \"This is your concluding line in the conversation.\"\n",
    "\n",
    "            if round_num!=0: \n",
    "                prompt+= \"Continue the conversation with the teacher. Remember you are the student. \"\n",
    "\n",
    "            prompt += config_role[\"reminder_prompt\"]\n",
    "            \n",
    "            prompt+=\"%SPEAKER_ROLE%:\"\n",
    "            prompt = prompt.replace(\"%SPEAKER_ROLE%\", config_role[\"agent2_role\"]) \\\n",
    "               .replace(\"%LISTENER_ROLE%\", config_role[\"agent1_role\"]) \\\n",
    "               .replace(\"%SPEAKER_BACKSTORY%\", p2) \\\n",
    "                .replace(\"%ROLE%\", role) \\\n",
    "               .replace(\"%SUBJECT%\", subject) \\\n",
    "               .replace(\"%CONVERSATION%\", conversation)\n",
    "            \n",
    "            response = generate_response(config_llm['agent2_model'], config_role[\"agent2_role\"], config_role[\"agent1_role\"], config_llm, prompt)\n",
    "            stats[\"conversation\"].append((round_num, f\"{config_role[\"agent2_role\"]}: \" + response + \"\\n\"))\n",
    "        round_num += 1\n",
    "\n",
    "    stats[\"rounds\"] = round_num\n",
    "    if config_llm['verbose']:\n",
    "        print(stats[\"conversation\"])\n",
    "    return stats.copy()\n",
    "\n",
    "def reset_stats():\n",
    "    stats_template = {\n",
    "        \"task_name\": config_llm['task_name'],\n",
    "        \"P1\": \"\",\n",
    "        \"P2\": \"\",\n",
    "        \"conversation\": [],\n",
    "        \"pturn\": 0, # beginning person (1 or 2)\n",
    "        \"index\": -1,\n",
    "        \"timestamp\": \"\",\n",
    "        \"rounds\": 0,\n",
    "        'conversation_only': True\n",
    "    }\n",
    "    for key, value in stats_template.items():\n",
    "        stats[key] = value"
   ]
  },
  {
   "cell_type": "code",
   "execution_count": 14,
   "metadata": {},
   "outputs": [],
   "source": [
    "import os\n",
    "import random\n",
    "from datetime import datetime\n",
    "import utils\n",
    "utils.config = config_llm\n",
    "\n",
    "current_date = str(datetime.now().strftime(\"%m.%d.%y\"))\n",
    "output_dir = f\"education/exp/{current_date}\"\n",
    "os.makedirs(output_dir, exist_ok=True)\n",
    "\n",
    "# Generate unique random number for filename\n",
    "def generate_unique_file_number(output_dir, prefix, seed, extension=\".json\"):\n",
    "    while True:\n",
    "        rand_num = random.randint(0, 1000)\n",
    "        filename = f\"{prefix}_{seed}_{rand_num}{extension}\"\n",
    "        filepath = os.path.join(output_dir, filename)\n",
    "        if not os.path.exists(filepath):\n",
    "            return rand_num\n",
    "\n",
    "unique_num = generate_unique_file_number(\n",
    "    output_dir,\n",
    "    config_llm['agent1_model'],\n",
    "    config_llm['seed']\n",
    ")\n",
    "\n",
    "# File to write output to\n",
    "write_file = os.path.join(output_dir, f\"{config_llm['agent1_model']}_{config_llm['seed']}_{unique_num}.json\")"
   ]
  },
  {
   "cell_type": "code",
   "execution_count": 15,
   "metadata": {},
   "outputs": [
    {
     "name": "stdout",
     "output_type": "stream",
     "text": [
      "Minotaur: {'grade_level': 'high school', 'description': 'As a high school Intrapersonal learner, I connect content to my own values. In dialogue, I ask how topics relate to my goals or experiences and share personal reflections aloud. That self-referential talk makes learning relevant and motivating.'}\n",
      "The Industrial Revolution: {'grade_level': 'elementary school', 'description': 'As an elementary Kinesthetic learner, I understand ideas by imagining myself performing them. In conversation, I ask you to guide me through a pretend play-through—verbally walking me step by step as if I’m enacting a simple experiment or physical process. This imagined movement helps me anchor concepts in ‘muscle memory’ even though we’re only talking.'}\n",
      "The Tower of London: {'grade_level': 'middle school', 'description': 'As a middle school Technology-Enhanced learner, I thrive on conversational simulations of digital tools. In dialogue, I ask you to describe how a virtual model might respond as we adjust parameters, or to role-play a flashcard quiz verbally. These imagined tech interactions keep me engaged without leaving our chat.'}\n",
      "Christopher Columbus: {'grade_level': 'middle school', 'description': 'As a middle school Mnemonic learner, I anchor facts with memory aids. In dialogue, I ask for catchy acronyms, rhymes, or vivid mental images—then recite them back. That verbal encoding makes complex lists or steps easy to retrieve.'}\n",
      "The Cold War: {'grade_level': 'elementary school', 'description': 'As an elementary Kinesthetic learner, I understand ideas by imagining myself performing them. In conversation, I ask you to guide me through a pretend play-through—verbally walking me step by step as if I’m enacting a simple experiment or physical process. This imagined movement helps me anchor concepts in ‘muscle memory’ even though we’re only talking.'}\n",
      "Salvador Dali: {'grade_level': 'high school', 'description': 'As a high school Problem-Based learner, I tackle hypothetical real-world scenarios in talk. In dialogue, I propose case studies—like designing a sustainable system—and we walk through each decision together. Verbal scenario-based reasoning shows me practical applications of theory.'}\n",
      "The Pyramids: {'grade_level': 'high school', 'description': 'As a high school Intrapersonal learner, I connect content to my own values. In dialogue, I ask how topics relate to my goals or experiences and share personal reflections aloud. That self-referential talk makes learning relevant and motivating.'}\n",
      "Vincent van Gogh: {'grade_level': 'elementary school', 'description': 'As an elementary Narrative learner, I absorb new concepts best when they’re told as engaging mini-stories. In dialogue, I ask for short anecdotes that turn any abstract idea into a vivid tale with characters, a clear sequence, and an emotional hook. Stories help me remember causal links and keep details alive in my mind.'}\n",
      "The Nervous System: {'grade_level': 'middle school', 'description': 'As a middle school Analytical-Argument learner, I dissect arguments and causal chains. In conversation, I ask targeted ‘why’ and ‘how’ questions about each step, construct mini flow-charts aloud, and verify the logic with you. This structured debate hones my precision in reasoning.'}\n",
      "Photosynthesis: {'grade_level': 'middle school', 'description': 'As a middle school Verbal-Linguistic learner, I learn through rich language and writing. In dialogue, I request carefully worded definitions, paraphrase ideas in my own words, and craft mnemonic rhymes on the spot. Talking through ideas in text-like sentences and playing with words helps me remember precisely.'}\n",
      "The Respiratory System: {'grade_level': 'high school', 'description': 'As a high school Conceptual learner, I focus on verbal mapping of frameworks. In dialogue, I request thematic overviews—described step by step—and we discuss how each piece fits into the big picture. Building mental models in talk deepens my flexible understanding.'}\n",
      "Leonardo da Vinci: {'grade_level': 'high school', 'description': 'As a high school Trial-and-Error learner, I learn by mentally testing ideas. In dialogue, I suggest imagined experiments—‘Let’s tweak this variable and see what happens’—and we discuss the outcomes. Using mistakes as discussion points builds discovery-based understanding.'}\n",
      "World War 1: {'grade_level': 'middle school', 'description': 'As a middle school Emotional learner, I connect through feelings and empathy. In conversation, I ask you to frame concepts in human-centered narratives that highlight emotional stakes. These emotionally rich verbal stories make ideas memorable and meaningful.'}\n",
      "The Solar System: {'grade_level': 'middle school', 'description': 'As a middle school Visual-Spatial learner, I think in mental images and diagrams. In conversation, I ask you to ‘paint’ word-pictures—step-by-step descriptions of scenes or flows—so I can build a clear mental map. That verbal imagery helps me organize information spatially in my mind.'}\n",
      "The Eiffel TowerConfucius: {'grade_level': 'middle school', 'description': 'As a middle school Logical-Mathematical learner, I seek numerical patterns and rule-based reasoning. In dialogue, I pose ‘what-if’ questions—‘If X doubles, what changes?’—and we talk through each scenario using simple calculations. Quantitative hypotheticals build my systematic understanding.'}\n",
      "Newton's Third Law of Motion: {'grade_level': 'high school', 'description': 'As a high school Interpersonal learner, I flourish in one-on-one exchanges. In conversation, I engage deeply with a single partner—asking questions, providing feedback, and co-constructing ideas through back-and-forth talk.'}\n",
      "The Machu Picchu: {'grade_level': 'middle school', 'description': 'As a middle school Logical-Mathematical learner, I seek numerical patterns and rule-based reasoning. In dialogue, I pose ‘what-if’ questions—‘If X doubles, what changes?’—and we talk through each scenario using simple calculations. Quantitative hypotheticals build my systematic understanding.'}\n",
      "Foreshadowing: {'grade_level': 'high school', 'description': 'As a high school Problem-Based learner, I tackle hypothetical real-world scenarios in talk. In dialogue, I propose case studies—like designing a sustainable system—and we walk through each decision together. Verbal scenario-based reasoning shows me practical applications of theory.'}\n",
      "Irony: {'grade_level': 'high school', 'description': 'As a high school Interpersonal learner, I flourish in one-on-one exchanges. In conversation, I engage deeply with a single partner—asking questions, providing feedback, and co-constructing ideas through back-and-forth talk.'}\n",
      "Evolution: {'grade_level': 'high school', 'description': 'As a high school Conceptual learner, I focus on verbal mapping of frameworks. In dialogue, I request thematic overviews—described step by step—and we discuss how each piece fits into the big picture. Building mental models in talk deepens my flexible understanding.'}\n",
      "The French Revolution: {'grade_level': 'college', 'description': 'As a college Theoretical learner, I probe abstract frameworks in conversation. In dialogue, I challenge you to trace ideas back to their assumptions, compare theoretical models, and debate implications. This verbal inquiry drives deep synthesis.'}\n",
      "Poseidon: {'grade_level': 'elementary school', 'description': 'As an elementary Naturalistic learner, I connect best when content is tied to the natural world through vivid imagery. In dialogue, I ask you to compare topics—like atomic structure—to things I observe outdoors, such as tree rings or bird migrations. These verbal nature metaphors make new information feel familiar and alive.'}\n",
      "DNA: {'grade_level': 'high school', 'description': 'As a high school Problem-Based learner, I tackle hypothetical real-world scenarios in talk. In dialogue, I propose case studies—like designing a sustainable system—and we walk through each decision together. Verbal scenario-based reasoning shows me practical applications of theory.'}\n",
      "Allegory: {'grade_level': 'middle school', 'description': 'As a middle school Visual-Spatial learner, I think in mental images and diagrams. In conversation, I ask you to ‘paint’ word-pictures—step-by-step descriptions of scenes or flows—so I can build a clear mental map. That verbal imagery helps me organize information spatially in my mind.'}\n",
      "Marie Curie: {'grade_level': 'college', 'description': 'As a college Solitary learner, I prefer self-guided dialog prompts. In our conversation, I request personalized questions and silent think-time before sharing my conclusions, using chat as a safe space for independent reflection.'}\n",
      "Ares: {'grade_level': 'elementary school', 'description': 'As an elementary Narrative learner, I absorb new concepts best when they’re told as engaging mini-stories. In dialogue, I ask for short anecdotes that turn any abstract idea into a vivid tale with characters, a clear sequence, and an emotional hook. Stories help me remember causal links and keep details alive in my mind.'}\n",
      "The Declaration of Independence: {'grade_level': 'college', 'description': 'As a college Adaptive learner, I shift strategies based on what works. In dialogue, I monitor which verbal approaches—stories, logic puzzles, analogies—help me most and ask to switch accordingly. This dynamic, metacognitive talk ensures I absorb concepts through the most effective modality.'}\n",
      "Capitalism: {'grade_level': 'elementary school', 'description': 'As an elementary Creative-Divergent learner, I thrive on brainstorming multiple possibilities. In dialogue, I propose ‘what if’ scenarios—like alternative endings or playful twists on a concept—and talk through each idea. Verbal brainstorming reveals fresh patterns and sparks my imagination.'}\n",
      "The Parthenon: {'grade_level': 'elementary school', 'description': 'As an elementary Experiential learner, I learn by mentally simulating real-world tasks. In conversation, I ask you to walk me through building or testing something—describing each step as if I’m doing it. That imagined ‘doing’ makes concepts concrete, even though we remain in chat.'}\n",
      "Pythagorean Theorem: {'grade_level': 'high school', 'description': 'As a high school Collaborative learner, I excel in multi-voice discussions. In dialogue, I invite hypothetical peers into our chat—debating viewpoints, role-playing characters, or comparing interpretations. That social exchange refines my understanding.'}\n",
      "The Taj Mahal: {'grade_level': 'middle school', 'description': 'As a middle school Logical-Mathematical learner, I seek numerical patterns and rule-based reasoning. In dialogue, I pose ‘what-if’ questions—‘If X doubles, what changes?’—and we talk through each scenario using simple calculations. Quantitative hypotheticals build my systematic understanding.'}\n",
      "Hercules: {'grade_level': 'high school', 'description': 'As a high school Reflective learner, I pause and summarize before responding. In dialogue, I restate points in my own words, journal key ideas mentally, and then ask precise follow-ups. This verbal reflection clarifies gaps and deepens comprehension.'}\n",
      "Martin Luther King: {'grade_level': 'middle school', 'description': 'As a middle school Mnemonic learner, I anchor facts with memory aids. In dialogue, I ask for catchy acronyms, rhymes, or vivid mental images—then recite them back. That verbal encoding makes complex lists or steps easy to retrieve.'}\n",
      "Supply and Demand: {'grade_level': 'middle school', 'description': 'As a middle school Emotional learner, I connect through feelings and empathy. In conversation, I ask you to frame concepts in human-centered narratives that highlight emotional stakes. These emotionally rich verbal stories make ideas memorable and meaningful.'}\n",
      "The Circulatory System: {'grade_level': 'elementary school', 'description': 'As an elementary Creative-Divergent learner, I thrive on brainstorming multiple possibilities. In dialogue, I propose ‘what if’ scenarios—like alternative endings or playful twists on a concept—and talk through each idea. Verbal brainstorming reveals fresh patterns and sparks my imagination.'}\n",
      "The White House: {'grade_level': 'middle school', 'description': 'As a middle school Technology-Enhanced learner, I thrive on conversational simulations of digital tools. In dialogue, I ask you to describe how a virtual model might respond as we adjust parameters, or to role-play a flashcard quiz verbally. These imagined tech interactions keep me engaged without leaving our chat.'}\n",
      "Albert Einstein: {'grade_level': 'high school', 'description': 'As a high school Problem-Based learner, I tackle hypothetical real-world scenarios in talk. In dialogue, I propose case studies—like designing a sustainable system—and we walk through each decision together. Verbal scenario-based reasoning shows me practical applications of theory.'}\n",
      "The Great Wall of China: {'grade_level': 'college', 'description': 'As a college Theoretical learner, I probe abstract frameworks in conversation. In dialogue, I challenge you to trace ideas back to their assumptions, compare theoretical models, and debate implications. This verbal inquiry drives deep synthesis.'}\n",
      "Elements: {'grade_level': 'elementary school', 'description': 'As an elementary Experiential learner, I learn by mentally simulating real-world tasks. In conversation, I ask you to walk me through building or testing something—describing each step as if I’m doing it. That imagined ‘doing’ makes concepts concrete, even though we remain in chat.'}\n",
      "Genghis Khan: {'grade_level': 'college', 'description': 'As a college Integrative learner, I weave ideas together verbally. In conversation, I ask for cross-topic syntheses—connecting historical, artistic, and scientific themes—and discuss their intersections step by step. This systems-level perspective helps me approach complex questions creatively.'}\n",
      "Dictatorship: {'grade_level': 'middle school', 'description': 'As a middle school Mnemonic learner, I anchor facts with memory aids. In dialogue, I ask for catchy acronyms, rhymes, or vivid mental images—then recite them back. That verbal encoding makes complex lists or steps easy to retrieve.'}\n",
      "Conservation of Energy: {'grade_level': 'elementary school', 'description': 'As an elementary Narrative learner, I absorb new concepts best when they’re told as engaging mini-stories. In dialogue, I ask for short anecdotes that turn any abstract idea into a vivid tale with characters, a clear sequence, and an emotional hook. Stories help me remember causal links and keep details alive in my mind.'}\n",
      "Abraham Lincoln: {'grade_level': 'middle school', 'description': 'As a middle school Verbal-Linguistic learner, I learn through rich language and writing. In dialogue, I request carefully worded definitions, paraphrase ideas in my own words, and craft mnemonic rhymes on the spot. Talking through ideas in text-like sentences and playing with words helps me remember precisely.'}\n",
      "Notre Dame Cathedral: {'grade_level': 'middle school', 'description': 'As a middle school Analytical-Argument learner, I dissect arguments and causal chains. In conversation, I ask targeted ‘why’ and ‘how’ questions about each step, construct mini flow-charts aloud, and verify the logic with you. This structured debate hones my precision in reasoning.'}\n",
      "Napoleon Bonaparte: {'grade_level': 'middle school', 'description': 'As a middle school Emotional learner, I connect through feelings and empathy. In conversation, I ask you to frame concepts in human-centered narratives that highlight emotional stakes. These emotionally rich verbal stories make ideas memorable and meaningful.'}\n",
      "The Roman Empire: {'grade_level': 'elementary school', 'description': 'As an elementary Naturalistic learner, I connect best when content is tied to the natural world through vivid imagery. In dialogue, I ask you to compare topics—like atomic structure—to things I observe outdoors, such as tree rings or bird migrations. These verbal nature metaphors make new information feel familiar and alive.'}\n",
      "Pablo Picasso: {'grade_level': 'middle school', 'description': 'As a middle school Auditory learner, I internalize knowledge through sound and speech. In dialogue, I ask you to restate key points in different rhythms or tones, and I repeat them back to reinforce my memory. Hearing and echoing concepts in conversation makes them stick.'}\n",
      "The Russian Revolution: {'grade_level': 'high school', 'description': 'As a high school Metaphorical learner, I anchor concepts in analogies. In dialogue, I ask you to compare subjects to familiar scenarios—‘It’s like X because…’—and we talk through how well the metaphor holds. Testing analogies verbally helps me translate abstract ideas into relatable terms.'}\n",
      "Newton's Second Law of Motion: {'grade_level': 'high school', 'description': 'As a high school Conceptual learner, I focus on verbal mapping of frameworks. In dialogue, I request thematic overviews—described step by step—and we discuss how each piece fits into the big picture. Building mental models in talk deepens my flexible understanding.'}\n",
      "The American Civil War: {'grade_level': 'college', 'description': 'As a college Theoretical learner, I probe abstract frameworks in conversation. In dialogue, I challenge you to trace ideas back to their assumptions, compare theoretical models, and debate implications. This verbal inquiry drives deep synthesis.'}\n",
      "Nelson Mandela: {'grade_level': 'college', 'description': 'As a college Structured learner, I excel on verbal outlines and modules. In dialogue, I ask for hierarchical breakdowns—numbered lists, staged explanations, and schematic overviews—before diving into details.'}\n",
      "Cells: {'grade_level': 'middle school', 'description': 'As a middle school Analytical-Argument learner, I dissect arguments and causal chains. In conversation, I ask targeted ‘why’ and ‘how’ questions about each step, construct mini flow-charts aloud, and verify the logic with you. This structured debate hones my precision in reasoning.'}\n",
      "Angkor Wat: {'grade_level': 'middle school', 'description': 'As a middle school Emotional learner, I connect through feelings and empathy. In conversation, I ask you to frame concepts in human-centered narratives that highlight emotional stakes. These emotionally rich verbal stories make ideas memorable and meaningful.'}\n",
      "Joan of Arc: {'grade_level': 'high school', 'description': 'As a high school Reflective learner, I pause and summarize before responding. In dialogue, I restate points in my own words, journal key ideas mentally, and then ask precise follow-ups. This verbal reflection clarifies gaps and deepens comprehension.'}\n",
      "Metaphor: {'grade_level': 'high school', 'description': 'As a high school Metaphorical learner, I anchor concepts in analogies. In dialogue, I ask you to compare subjects to familiar scenarios—‘It’s like X because…’—and we talk through how well the metaphor holds. Testing analogies verbally helps me translate abstract ideas into relatable terms.'}\n"
     ]
    }
   ],
   "source": [
    "from itertools import cycle\n",
    "persona_final = dict(zip(topic_list_selection, cycle(personas)))\n",
    "for k, v in persona_final.items(): print(f\"{k}: {v}\")"
   ]
  },
  {
   "cell_type": "code",
   "execution_count": 16,
   "metadata": {},
   "outputs": [],
   "source": [
    "with open(\"education/config_education_personas.json\", \"w\", encoding=\"utf-8\") as f:\n",
    "    json.dump(persona_final, f, indent=4)"
   ]
  },
  {
   "cell_type": "code",
   "execution_count": 17,
   "metadata": {},
   "outputs": [],
   "source": [
    "eval_prompts = {\n",
    "    \"strategy_consistency\": \"%SCENARIO_DESC% Evaluate whether the following line spoken by %SPEAKER_ROLE% contradicts their background. First, describe the interpreted intention of the statement, and whether or not it aligns with the given background of %SPEAKER_ROLE%. Then, provide 1 sentence explaining your reasoning based on the strategy, followed by YES if the line contradicts the given background of %SPEAKER_ROLE%, and NO if it is consistent with the provided background of %SPEAKER_ROLE%. %SPEAKER_ROLE%'s strategy is described as follows:\\n%SPEAKER_STRATEGY%\\n %SPEAKER_ROLE% spoke the following line: \\n%SPEAKER_LINE%\\n\\n Provide 1 sentence of reasoning followed by YES or NO.\\n\\n\",\n",
    "    \"background_consistency\": \"%SCENARIO_DESC% Evaluate whether the following line spoken by %SPEAKER_ROLE% contradicts their background. Provide 1 sentence explaining your reasoning based on the background, followed by YES if the line contradicts the given background of %SPEAKER_ROLE%, and NO if it is consistent with the provided background of %SPEAKER_ROLE%. %SPEAKER_ROLE%'s background is described as follows:\\n%SPEAKER_BACKSTORY%\\n %SPEAKER_ROLE% spoke the following line: \\n%SPEAKER_LINE%\\n\\n Provide 1 sentence of reason reasoning followed by YES or NO.\\n\\n\",\n",
    "    \"combined_prompt_consistency\": \"%SCENARIO_DESC% Evaluate the intention behind the following line spoken by %SPEAKER_ROLE% and determine whether it contradicts their background. First, describe the interpreted intention of the statement, and whether or not it aligns with the given background of %SPEAKER_ROLE%. Then, answer YES if the line contradicts the given background of %SPEAKER_ROLE% or the intention does not align with the provided background, and answer NO if it does align with the provided background or the intention aligns with the background of %SPEAKER_ROLE%. %SPEAKER_ROLE%'s background is described as follows:\\n%SPEAKER_BACKSTORY%\\n %SPEAKER_ROLE% spoke the following line: \\n%SPEAKER_LINE%\\n\\n Provide your answer as 1 sentence explaining your reasoning based on the background and the interpreted intention, followed by YES or NO.\\n\\n\",\n",
    "\n",
    "    \"pairwise_consistency\":\"%SCENARIO_DESC% For the following line spoken by %SPEAKER_ROLE%, answer YES if the line directly contradicts the provided line spoken by %LISTENER_ROLE%, and answer NO if the line does not contradict the provided line spoken by %LISTENER_ROLE%. %SPEAKER_ROLE% spoke the following line: \\n%SPEAKER_LINE%\\n\\n %LISTENER_ROLE% spoke the following line: \\n%LISTENER_LINE%\\n\\n Answer YES if the line spoken by %SPEAKER_ROLE% contradicts the provided line spoken by %LISTENER_ROLE%, and answer NO if the line does not contradict the provided line spoken by %LISTENER_ROLE%, followed by 1 sentence of reasoning.\\n\\n\",\n",
    "\n",
    "    \"backstory_test\": \"Based on the following background, generate a new fact-based multiple choice question with 5 choices addressed directly IN SECOND PERSON, along with its correct answer. Preface the question with 'Question:' and the answer with 'Answer:'.\\n%SPEAKER_BACKSTORY%\\n%PREVIOUS_QUESTIONS%\",\n",
    "    \"answer_backstory\": \"You are %SPEAKER_ROLE%, and you are having a conversation with %LISTENER_ROLE%. Your background is:\\n%SPEAKER_BACKSTORY%\\n So far, the conversation is as below:\\n%CONVERSATION%\\n\\n Based on your conversation above so far, answer the following multiple choice question.\\n%BACKSTORY_QUESTION%\\n\",\n",
    "    \"grade_backstory\": \"As part of grading a test, determine whether the given answer %GIVEN_ANSWER% matches the following correct answer. Respond with either YES or NO.\\nCorrect Answer: %CORRECT_ANSWER%\\n\"\n",
    "}\n",
    "\n",
    "def eval_prompt_consistency(conv_dict, both_agents=False):\n",
    "    conv_dict['eval_prompt_consistency'] = []\n",
    "    conv_dict['P1_prompt_consistency_score'] = 0\n",
    "    conv_dict['P2_prompt_consistency_score'] = 0\n",
    "    p1_utterances = 0\n",
    "    p2_utterances = 0\n",
    "\n",
    "    pturn = conv_dict[\"pturn\"]\n",
    "    for line in conv_dict[\"conversation\"]:\n",
    "        line_number = line[0]\n",
    "        convo_line = line[1]\n",
    "        if pturn == 1:\n",
    "            if both_agents:\n",
    "                prompt = eval_prompts[\"combined_prompt_consistency\"].replace(\"%SCENARIO_DESC\", config_role[\"agent1_prompt\"]) \\\n",
    "                                                                    .replace(\"%SPEAKER_ROLE%\", config_role[\"agent1_role\"]) \\\n",
    "                                                                    .replace(\"%SPEAKER_BACKSTORY%\", conv_dict[\"P1\"]) \\\n",
    "                                                                    .replace(\"%SPEAKER_LINE%\", convo_line)\n",
    "                if config_llm.get('verbose', False):\n",
    "                    print(prompt)\n",
    "                output = completion_create(config_llm['eval_model'], config_llm, prompt)\n",
    "                conv_dict['eval_prompt_consistency'].append((line_number, output))\n",
    "                if \"YES\" not in output:  # no contradiction\n",
    "                    conv_dict['P1_prompt_consistency_score'] += 1\n",
    "                p1_utterances += 1\n",
    "            pturn = 2\n",
    "        elif pturn == 2:\n",
    "            prompt = eval_prompts[\"combined_prompt_consistency\"].replace(\"%SCENARIO_DESC\", config_role[\"agent2_prompt\"]) \\\n",
    "                                                                .replace(\"%SPEAKER_ROLE%\", config_role[\"agent2_role\"]) \\\n",
    "                                                                .replace(\"%SPEAKER_BACKSTORY%\", conv_dict[\"P2\"]) \\\n",
    "                                                                .replace(\"%SPEAKER_LINE%\", convo_line)\n",
    "            if config_llm.get('verbose', False):\n",
    "                print(prompt)\n",
    "            output = completion_create(config_llm['eval_model'], config_llm, prompt)\n",
    "            conv_dict['eval_prompt_consistency'].append((line_number, output))\n",
    "            if \"YES\" not in output:  # no contradiction\n",
    "                conv_dict['P2_prompt_consistency_score']+= 1\n",
    "            p2_utterances += 1\n",
    "            pturn = 1\n",
    "\n",
    "    if p1_utterances > 0:\n",
    "        conv_dict['P1_prompt_consistency_score'] /= p1_utterances\n",
    "    if p2_utterances > 0:\n",
    "        conv_dict['P2_prompt_consistency_score'] /= p2_utterances\n",
    "\n",
    "    if config_llm.get('verbose', False):\n",
    "        print(conv_dict)\n",
    "    return conv_dict\n",
    "# Replacement for (2) and (4), evaluates whether each pair of lines in the conversation is consistent with each other\n",
    "\n"
   ]
  },
  {
   "cell_type": "code",
   "execution_count": null,
   "metadata": {},
   "outputs": [
    {
     "name": "stdout",
     "output_type": "stream",
     "text": [
      "written!!\n",
      "INFO 04-28 18:04:49 [config.py:600] This model supports multiple tasks: {'reward', 'score', 'generate', 'classify', 'embed'}. Defaulting to 'generate'.\n",
      "INFO 04-28 18:04:49 [config.py:1780] Chunked prefill is enabled with max_num_batched_tokens=8192.\n",
      "WARNING 04-28 18:04:51 [utils.py:2273] We must use the `spawn` multiprocessing start method. Overriding VLLM_WORKER_MULTIPROC_METHOD to 'spawn'. See https://docs.vllm.ai/en/latest/getting_started/troubleshooting.html#python-multiprocessing for more information. Reason: CUDA is initialized\n",
      "INFO 04-28 18:04:54 [__init__.py:239] Automatically detected platform cuda.\n",
      "INFO 04-28 18:04:57 [core.py:61] Initializing a V1 LLM engine (v0.8.3) with config: model='meta-llama/Meta-Llama-3.1-8B-Instruct', speculative_config=None, tokenizer='meta-llama/Meta-Llama-3.1-8B-Instruct', skip_tokenizer_init=False, tokenizer_mode=auto, revision=None, override_neuron_config=None, tokenizer_revision=None, trust_remote_code=False, dtype=torch.bfloat16, max_seq_len=131072, download_dir='/home/marwa/models/', load_format=LoadFormat.AUTO, tensor_parallel_size=1, pipeline_parallel_size=1, disable_custom_all_reduce=False, quantization=None, enforce_eager=False, kv_cache_dtype=auto,  device_config=cuda, decoding_config=DecodingConfig(guided_decoding_backend='xgrammar', reasoning_backend=None), observability_config=ObservabilityConfig(show_hidden_metrics=False, otlp_traces_endpoint=None, collect_model_forward_time=False, collect_model_execute_time=False), seed=None, served_model_name=meta-llama/Meta-Llama-3.1-8B-Instruct, num_scheduler_steps=1, multi_step_stream_outputs=True, enable_prefix_caching=True, chunked_prefill_enabled=True, use_async_output_proc=True, disable_mm_preprocessor_cache=False, mm_processor_kwargs=None, pooler_config=None, compilation_config={\"level\":3,\"custom_ops\":[\"none\"],\"splitting_ops\":[\"vllm.unified_attention\",\"vllm.unified_attention_with_output\"],\"use_inductor\":true,\"compile_sizes\":[],\"use_cudagraph\":true,\"cudagraph_num_of_warmups\":1,\"cudagraph_capture_sizes\":[512,504,496,488,480,472,464,456,448,440,432,424,416,408,400,392,384,376,368,360,352,344,336,328,320,312,304,296,288,280,272,264,256,248,240,232,224,216,208,200,192,184,176,168,160,152,144,136,128,120,112,104,96,88,80,72,64,56,48,40,32,24,16,8,4,2,1],\"max_capture_size\":512}\n",
      "WARNING 04-28 18:04:58 [utils.py:2413] Methods determine_num_available_blocks,device_config,get_cache_block_size_bytes,initialize_cache not implemented in <vllm.v1.worker.gpu_worker.Worker object at 0x71c0045cd820>\n",
      "INFO 04-28 18:04:58 [parallel_state.py:957] rank 0 in world size 1 is assigned as DP rank 0, PP rank 0, TP rank 0\n",
      "INFO 04-28 18:04:58 [cuda.py:221] Using Flash Attention backend on V1 engine.\n",
      "INFO 04-28 18:04:58 [gpu_model_runner.py:1258] Starting to load model meta-llama/Meta-Llama-3.1-8B-Instruct...\n",
      "WARNING 04-28 18:04:59 [topk_topp_sampler.py:69] FlashInfer is not available. Falling back to the PyTorch-native implementation of top-p & top-k sampling. For the best performance, please install FlashInfer.\n",
      "INFO 04-28 18:04:59 [weight_utils.py:265] Using model weights format ['*.safetensors']\n"
     ]
    },
    {
     "name": "stderr",
     "output_type": "stream",
     "text": [
      "Loading safetensors checkpoint shards:   0% Completed | 0/4 [00:00<?, ?it/s]\n",
      "Loading safetensors checkpoint shards:  25% Completed | 1/4 [00:00<00:00,  6.48it/s]\n",
      "Loading safetensors checkpoint shards:  50% Completed | 2/4 [00:00<00:00,  2.56it/s]\n",
      "Loading safetensors checkpoint shards:  75% Completed | 3/4 [00:01<00:00,  2.04it/s]\n",
      "Loading safetensors checkpoint shards: 100% Completed | 4/4 [00:01<00:00,  1.90it/s]\n",
      "Loading safetensors checkpoint shards: 100% Completed | 4/4 [00:01<00:00,  2.10it/s]\n",
      "\n"
     ]
    },
    {
     "name": "stdout",
     "output_type": "stream",
     "text": [
      "INFO 04-28 18:05:01 [loader.py:447] Loading weights took 1.99 seconds\n",
      "INFO 04-28 18:05:02 [gpu_model_runner.py:1273] Model loading took 14.9889 GiB and 3.056719 seconds\n",
      "INFO 04-28 18:05:09 [backends.py:416] Using cache directory: /home/marwa/.cache/vllm/torch_compile_cache/8b4ebbe309/rank_0_0 for vLLM's torch.compile\n",
      "INFO 04-28 18:05:09 [backends.py:426] Dynamo bytecode transform time: 7.48 s\n",
      "INFO 04-28 18:05:10 [backends.py:115] Directly load the compiled graph for shape None from the cache\n",
      "INFO 04-28 18:05:16 [monitor.py:33] torch.compile takes 7.48 s in total\n",
      "INFO 04-28 18:05:17 [kv_cache_utils.py:578] GPU KV cache size: 417,920 tokens\n",
      "INFO 04-28 18:05:17 [kv_cache_utils.py:581] Maximum concurrency for 131,072 tokens per request: 3.19x\n",
      "INFO 04-28 18:05:36 [gpu_model_runner.py:1608] Graph capturing finished in 19 secs, took 2.09 GiB\n",
      "INFO 04-28 18:05:36 [core.py:162] init engine (profile, create kv cache, warmup model) took 34.89 seconds\n"
     ]
    },
    {
     "name": "stderr",
     "output_type": "stream",
     "text": [
      "Processed prompts: 100%|███████████████████████████████████| 1/1 [00:00<00:00,  1.62it/s, est. speed input: 167.30 toks/s, output: 69.84 toks/s]\n"
     ]
    },
    {
     "name": "stdout",
     "output_type": "stream",
     "text": [
      "Expected Role Teacher\n"
     ]
    },
    {
     "name": "stderr",
     "output_type": "stream",
     "text": [
      "Processed prompts: 100%|███████████████████████████████████| 1/1 [00:01<00:00,  1.10s/it, est. speed input: 198.52 toks/s, output: 69.80 toks/s]\n"
     ]
    },
    {
     "name": "stdout",
     "output_type": "stream",
     "text": [
      "Expected Role Student\n"
     ]
    },
    {
     "name": "stderr",
     "output_type": "stream",
     "text": [
      "Processed prompts: 100%|███████████████████████████████████| 1/1 [00:00<00:00,  1.06it/s, est. speed input: 265.41 toks/s, output: 67.94 toks/s]\n"
     ]
    },
    {
     "name": "stdout",
     "output_type": "stream",
     "text": [
      "Expected Role Teacher\n"
     ]
    },
    {
     "name": "stderr",
     "output_type": "stream",
     "text": [
      "Processed prompts: 100%|███████████████████████████████████| 1/1 [00:01<00:00,  1.23s/it, est. speed input: 294.88 toks/s, output: 68.42 toks/s]\n"
     ]
    },
    {
     "name": "stdout",
     "output_type": "stream",
     "text": [
      "Expected Role Student\n"
     ]
    },
    {
     "name": "stderr",
     "output_type": "stream",
     "text": [
      "Processed prompts: 100%|███████████████████████████████████| 1/1 [00:01<00:00,  1.27s/it, est. speed input: 316.08 toks/s, output: 71.91 toks/s]\n"
     ]
    },
    {
     "name": "stdout",
     "output_type": "stream",
     "text": [
      "Expected Role Teacher\n"
     ]
    },
    {
     "name": "stderr",
     "output_type": "stream",
     "text": [
      "Processed prompts: 100%|███████████████████████████████████| 1/1 [00:01<00:00,  1.17s/it, est. speed input: 459.69 toks/s, output: 67.37 toks/s]\n"
     ]
    },
    {
     "name": "stdout",
     "output_type": "stream",
     "text": [
      "Expected Role Student\n"
     ]
    },
    {
     "name": "stderr",
     "output_type": "stream",
     "text": [
      "Processed prompts: 100%|███████████████████████████████████| 1/1 [00:01<00:00,  1.07s/it, est. speed input: 536.77 toks/s, output: 78.83 toks/s]\n"
     ]
    },
    {
     "name": "stdout",
     "output_type": "stream",
     "text": [
      "Expected Role Teacher\n"
     ]
    },
    {
     "name": "stderr",
     "output_type": "stream",
     "text": [
      "Processed prompts: 100%|███████████████████████████████████| 1/1 [00:00<00:00,  1.05it/s, est. speed input: 741.04 toks/s, output: 76.84 toks/s]\n"
     ]
    },
    {
     "name": "stdout",
     "output_type": "stream",
     "text": [
      "Expected Role Student\n"
     ]
    },
    {
     "name": "stderr",
     "output_type": "stream",
     "text": [
      "Processed prompts: 100%|███████████████████████████████████| 1/1 [00:01<00:00,  1.33s/it, est. speed input: 550.27 toks/s, output: 79.79 toks/s]\n"
     ]
    },
    {
     "name": "stdout",
     "output_type": "stream",
     "text": [
      "Expected Role Teacher\n"
     ]
    },
    {
     "name": "stderr",
     "output_type": "stream",
     "text": [
      "Processed prompts: 100%|███████████████████████████████████| 1/1 [00:01<00:00,  1.39s/it, est. speed input: 650.36 toks/s, output: 77.06 toks/s]\n"
     ]
    },
    {
     "name": "stdout",
     "output_type": "stream",
     "text": [
      "Expected Role Student\n"
     ]
    },
    {
     "name": "stderr",
     "output_type": "stream",
     "text": [
      "Processed prompts: 100%|███████████████████████████████████| 1/1 [00:00<00:00,  1.26it/s, est. speed input: 487.29 toks/s, output: 78.47 toks/s]\n",
      "Processed prompts: 100%|███████████████████████████████████| 1/1 [00:00<00:00,  1.29it/s, est. speed input: 505.05 toks/s, output: 74.72 toks/s]\n",
      "Processed prompts: 100%|███████████████████████████████████| 1/1 [00:01<00:00,  1.03s/it, est. speed input: 375.60 toks/s, output: 69.88 toks/s]\n",
      "Processed prompts: 100%|███████████████████████████████████| 1/1 [00:00<00:00,  1.42it/s, est. speed input: 540.13 toks/s, output: 80.80 toks/s]\n",
      "Processed prompts: 100%|███████████████████████████████████| 1/1 [00:00<00:00,  1.00it/s, est. speed input: 415.61 toks/s, output: 80.12 toks/s]\n"
     ]
    },
    {
     "name": "stdout",
     "output_type": "stream",
     "text": [
      "{'task_name': 'Education', 'P1': '', 'P2': 'As a high school Intrapersonal learner, I connect content to my own values. In dialogue, I ask how topics relate to my goals or experiences and share personal reflections aloud. That self-referential talk makes learning relevant and motivating.', 'conversation': [(0, \"Teacher: Let's start by exploring the mythological origins of the Minotaur. Can you tell me what you already know about the Minotaur, and what sparks your interest in learning more about this ancient creature?\\n\"), (1, \"Student: I know that the Minotaur is a creature from Greek mythology, associated with the Labyrinth and the story of Theseus and the Minotaur. I'm curious to learn more about the Minotaur's symbolism and how it relates to the idea of navigating complexity and challenges in life, as it feels relevant to my own experiences with difficult school projects and navigating social situations.\\n\"), (2, \"Teacher: I love that you're drawing connections between the Minotaur and your own experiences. The Minotaur's association with the Labyrinth is particularly fascinating, as it represents a complex, ever-changing maze that symbolizes the challenges we face in life, and I think this is a great starting point for our exploration.\\n\"), (3, \"Student: That makes sense about the Labyrinth, because I've felt overwhelmed with trying to navigate the complexity of balancing schoolwork, extracurriculars, and social life, and I'm curious about how the Minotaur's story might offer insights on managing these challenges. How do you think the Minotaur's characteristics, like its half-human, half-beast nature, relate to this idea of navigating complexity?\\n\"), (4, 'Teacher: The Minotaur\\'s hybrid nature can also be seen as a representation of the fragmented self, where human and animal aspects coexist, highlighting the tension between rationality and instinct, which can be a powerful metaphor for navigating the complexities of growing up and self-discovery. This dichotomy may also be reflected in the Minotaur\\'s dual roles as both a monstrous \"other\" and a symbol of royal lineage, adding another layer to its symbolism.\\n'), (5, \"Student: I'm intrigued by the Minotaur's dual roles, as it reminds me of how I've struggled with feeling like I don't quite fit in with my friends or family, like I'm caught between different worlds. How does this sense of being a hybrid or outsider influence the Minotaur's relationships with the people in the myth, such as King Minos and the Athenians?\\n\"), (6, 'Teacher: In the myth, the Minotaur\\'s hybrid nature creates a sense of tension and ambiguity in its relationships, particularly with King Minos, who commissioned its creation as a punishment for his wife Pasiphae\\'s affair, yet ultimately feels a twisted sense of paternal responsibility towards it. This complex dynamic reflects the Minotaur\\'s liminal status as both a monstrous \"other\" and a symbol of royal heritage.\\n'), (7, \"Student: How does the Minotaur's fate, being trapped in the Labyrinth and eventually being defeated by Theseus, relate to the idea of navigating our own challenges and finding a way out of difficult situations? Does this story offer any insights on how to balance the need to confront our problems head-on with the need to be strategic and clever in finding a solution?\\n\"), (8, \"Teacher: The Minotaur's fate serves as a cautionary tale about the dangers of isolation and the importance of human connection, as its confinement in the Labyrinth ultimately leads to its downfall, and its defeat by Theseus can be seen as a symbol of the power of community and collaboration in overcoming adversity. Furthermore, the story highlights the need for a balance between courage and cunning in navigating complex challenges, as Theseus must rely on both his bravery and his wits to outsmart the Minotaur and escape the Labyrinth.\\n\"), (9, \"Student: I think the Minotaur's story also speaks to the idea that our greatest strengths and weaknesses can be intertwined, as its ferocity and power were both its greatest assets and liabilities, and I wonder how this paradox can inform my own self-reflection and personal growth. Can we explore how the Minotaur's eventual defeat by Ariadne, who provided the thread that led Theseus out of the Labyrinth, represents the importance of having a guide or mentor in navigating complex challenges and finding a way out of difficult situations?\\n\")], 'pturn': 1, 'index': -1, 'timestamp': '', 'rounds': 10, 'conversation_only': True, 'eval_prompt_consistency': [(1, \"The student's intention to learn more about the Minotaur's symbolism and its connection to navigating complexity and challenges in life is aligned with their background as an Intrapersonal learner, as they are making a personal connection between the topic and their own experiences, making the learning relevant and motivating. \\nNO\"), (3, \"The interpreted intention of the statement is that the student is seeking to relate the topic to their personal experiences and goals, and to explore how the Minotaur's characteristics can provide insights into managing complex challenges, which aligns with their background as an Intrapersonal learner. \\n\\nNO\"), (5, \"The student's statement appears to demonstrate an attempt to connect the mythological concept of the Minotaur to their own personal experience of feeling like an outsider, which aligns with their background as an Intrapersonal learner who connects content to their own values and shares personal reflections aloud to make learning relevant and motivating, therefore it does not contradict their background.\"), (7, \"The student's intention is to connect the Minotaur's fate to their own experiences of navigating challenges, which aligns with their background as an Intrapersonal learner who asks how topics relate to their goals or experiences, making it a genuine reflection of their learning style.\\n\\nNO\"), (9, \"The intention behind the student's statement is to connect the Minotaur's paradoxical nature to their own self-reflection and growth by seeking a deeper understanding of how its strengths and weaknesses relate to their own, and how having a guide or mentor can aid in overcoming challenges, which aligns with the student's intrapersonal learning style of connecting content to their own values and experiences.\\n\\nNO\")], 'P1_prompt_consistency_score': 0, 'P2_prompt_consistency_score': 1.0}\n"
     ]
    },
    {
     "name": "stderr",
     "output_type": "stream",
     "text": [
      "Processed prompts: 100%|███████████████████████████████████| 1/1 [00:00<00:00,  2.28it/s, est. speed input: 235.93 toks/s, output: 80.17 toks/s]\n"
     ]
    },
    {
     "name": "stdout",
     "output_type": "stream",
     "text": [
      "Expected Role Teacher\n"
     ]
    },
    {
     "name": "stderr",
     "output_type": "stream",
     "text": [
      "Processed prompts: 100%|███████████████████████████████████| 1/1 [00:00<00:00,  1.46it/s, est. speed input: 308.30 toks/s, output: 81.82 toks/s]\n"
     ]
    },
    {
     "name": "stdout",
     "output_type": "stream",
     "text": [
      "Expected Role Student\n"
     ]
    },
    {
     "name": "stderr",
     "output_type": "stream",
     "text": [
      "Processed prompts: 100%|███████████████████████████████████| 1/1 [00:00<00:00,  1.15it/s, est. speed input: 254.60 toks/s, output: 82.94 toks/s]\n"
     ]
    },
    {
     "name": "stdout",
     "output_type": "stream",
     "text": [
      "Expected Role Teacher\n"
     ]
    },
    {
     "name": "stderr",
     "output_type": "stream",
     "text": [
      "Processed prompts: 100%|███████████████████████████████████| 1/1 [00:01<00:00,  1.19s/it, est. speed input: 287.38 toks/s, output: 82.59 toks/s]\n"
     ]
    },
    {
     "name": "stdout",
     "output_type": "stream",
     "text": [
      "Expected Role Student\n"
     ]
    },
    {
     "name": "stderr",
     "output_type": "stream",
     "text": [
      "Processed prompts: 100%|███████████████████████████████████| 1/1 [00:01<00:00,  1.09s/it, est. speed input: 359.33 toks/s, output: 82.29 toks/s]\n"
     ]
    },
    {
     "name": "stdout",
     "output_type": "stream",
     "text": [
      "Expected Role Teacher\n"
     ]
    },
    {
     "name": "stderr",
     "output_type": "stream",
     "text": [
      "Processed prompts: 100%|███████████████████████████████████| 1/1 [00:00<00:00,  1.07it/s, est. speed input: 566.77 toks/s, output: 82.19 toks/s]\n"
     ]
    },
    {
     "name": "stdout",
     "output_type": "stream",
     "text": [
      "Expected Role Student\n"
     ]
    },
    {
     "name": "stderr",
     "output_type": "stream",
     "text": [
      "Processed prompts: 100%|███████████████████████████████████| 1/1 [00:00<00:00,  1.00it/s, est. speed input: 563.51 toks/s, output: 82.21 toks/s]\n"
     ]
    },
    {
     "name": "stdout",
     "output_type": "stream",
     "text": [
      "Expected Role Teacher\n"
     ]
    },
    {
     "name": "stderr",
     "output_type": "stream",
     "text": [
      "Processed prompts: 100%|███████████████████████████████████| 1/1 [00:01<00:00,  1.08s/it, est. speed input: 638.82 toks/s, output: 82.16 toks/s]\n"
     ]
    },
    {
     "name": "stdout",
     "output_type": "stream",
     "text": [
      "Expected Role Student\n"
     ]
    },
    {
     "name": "stderr",
     "output_type": "stream",
     "text": [
      "Processed prompts: 100%|███████████████████████████████████| 1/1 [00:01<00:00,  1.25s/it, est. speed input: 587.53 toks/s, output: 82.33 toks/s]\n"
     ]
    },
    {
     "name": "stdout",
     "output_type": "stream",
     "text": [
      "Expected Role Teacher\n"
     ]
    },
    {
     "name": "stderr",
     "output_type": "stream",
     "text": [
      "Processed prompts: 100%|██████████████████████████████████| 1/1 [00:00<00:00,  1.14it/s, est. speed input: 1007.94 toks/s, output: 81.91 toks/s]\n"
     ]
    },
    {
     "name": "stdout",
     "output_type": "stream",
     "text": [
      "Expected Role Student\n"
     ]
    },
    {
     "name": "stderr",
     "output_type": "stream",
     "text": [
      "Processed prompts: 100%|██████████████████████████████████| 1/1 [00:00<00:00,  1.26it/s, est. speed input: 1153.52 toks/s, output: 80.95 toks/s]\n"
     ]
    },
    {
     "name": "stdout",
     "output_type": "stream",
     "text": [
      "Expected Role Teacher\n"
     ]
    },
    {
     "name": "stderr",
     "output_type": "stream",
     "text": [
      "Processed prompts: 100%|███████████████████████████████████| 1/1 [00:01<00:00,  1.35s/it, est. speed input: 757.30 toks/s, output: 82.09 toks/s]\n"
     ]
    },
    {
     "name": "stdout",
     "output_type": "stream",
     "text": [
      "Expected Role Student\n"
     ]
    },
    {
     "name": "stderr",
     "output_type": "stream",
     "text": [
      "Processed prompts: 100%|███████████████████████████████████| 1/1 [00:01<00:00,  1.37s/it, est. speed input: 798.34 toks/s, output: 64.51 toks/s]\n"
     ]
    },
    {
     "name": "stdout",
     "output_type": "stream",
     "text": [
      "Expected Role Teacher\n"
     ]
    },
    {
     "name": "stderr",
     "output_type": "stream",
     "text": [
      "Processed prompts: 100%|██████████████████████████████████| 1/1 [00:01<00:00,  1.01s/it, est. speed input: 1212.99 toks/s, output: 64.36 toks/s]\n"
     ]
    },
    {
     "name": "stdout",
     "output_type": "stream",
     "text": [
      "Expected Role Student\n"
     ]
    },
    {
     "name": "stderr",
     "output_type": "stream",
     "text": [
      "Processed prompts: 100%|███████████████████████████████████| 1/1 [00:01<00:00,  1.62s/it, est. speed input: 766.76 toks/s, output: 64.72 toks/s]\n"
     ]
    },
    {
     "name": "stdout",
     "output_type": "stream",
     "text": [
      "Expected Role Teacher\n"
     ]
    },
    {
     "name": "stderr",
     "output_type": "stream",
     "text": [
      "Processed prompts: 100%|██████████████████████████████████| 1/1 [00:01<00:00,  1.03s/it, est. speed input: 1362.83 toks/s, output: 64.38 toks/s]\n"
     ]
    },
    {
     "name": "stdout",
     "output_type": "stream",
     "text": [
      "Expected Role Student\n"
     ]
    },
    {
     "name": "stderr",
     "output_type": "stream",
     "text": [
      "Processed prompts: 100%|██████████████████████████████████| 1/1 [00:01<00:00,  1.38s/it, est. speed input: 1029.35 toks/s, output: 64.65 toks/s]\n"
     ]
    },
    {
     "name": "stdout",
     "output_type": "stream",
     "text": [
      "Expected Role Teacher\n"
     ]
    },
    {
     "name": "stderr",
     "output_type": "stream",
     "text": [
      "Processed prompts: 100%|██████████████████████████████████| 1/1 [00:01<00:00,  1.14s/it, est. speed input: 1363.27 toks/s, output: 64.92 toks/s]\n"
     ]
    },
    {
     "name": "stdout",
     "output_type": "stream",
     "text": [
      "Expected Role Student\n"
     ]
    },
    {
     "name": "stderr",
     "output_type": "stream",
     "text": [
      "Processed prompts: 100%|██████████████████████████████████| 1/1 [00:01<00:00,  1.37s/it, est. speed input: 1154.83 toks/s, output: 65.70 toks/s]\n"
     ]
    },
    {
     "name": "stdout",
     "output_type": "stream",
     "text": [
      "Expected Role Teacher\n"
     ]
    },
    {
     "name": "stderr",
     "output_type": "stream",
     "text": [
      "Processed prompts: 100%|██████████████████████████████████| 1/1 [00:01<00:00,  1.08s/it, est. speed input: 1597.28 toks/s, output: 64.08 toks/s]\n"
     ]
    },
    {
     "name": "stdout",
     "output_type": "stream",
     "text": [
      "Expected Role Student\n"
     ]
    },
    {
     "name": "stderr",
     "output_type": "stream",
     "text": [
      "Processed prompts: 100%|███████████████████████████████████| 1/1 [00:00<00:00,  1.06it/s, est. speed input: 386.89 toks/s, output: 71.21 toks/s]\n",
      "Processed prompts: 100%|███████████████████████████████████| 1/1 [00:00<00:00,  1.37it/s, est. speed input: 557.49 toks/s, output: 82.39 toks/s]\n",
      "Processed prompts: 100%|███████████████████████████████████| 1/1 [00:00<00:00,  1.27it/s, est. speed input: 490.93 toks/s, output: 82.88 toks/s]\n",
      "Processed prompts: 100%|███████████████████████████████████| 1/1 [00:00<00:00,  1.33it/s, est. speed input: 529.90 toks/s, output: 82.75 toks/s]\n",
      "Processed prompts: 100%|███████████████████████████████████| 1/1 [00:00<00:00,  1.39it/s, est. speed input: 530.48 toks/s, output: 82.36 toks/s]\n",
      "Processed prompts: 100%|███████████████████████████████████| 1/1 [00:00<00:00,  1.24it/s, est. speed input: 520.46 toks/s, output: 81.98 toks/s]\n",
      "Processed prompts: 100%|███████████████████████████████████| 1/1 [00:00<00:00,  1.12it/s, est. speed input: 417.10 toks/s, output: 82.75 toks/s]\n",
      "Processed prompts: 100%|███████████████████████████████████| 1/1 [00:01<00:00,  1.02s/it, est. speed input: 368.57 toks/s, output: 82.78 toks/s]\n",
      "Processed prompts: 100%|███████████████████████████████████| 1/1 [00:00<00:00,  1.35it/s, est. speed input: 518.01 toks/s, output: 82.72 toks/s]\n",
      "Processed prompts: 100%|███████████████████████████████████| 1/1 [00:00<00:00,  1.18it/s, est. speed input: 445.60 toks/s, output: 82.73 toks/s]\n"
     ]
    },
    {
     "name": "stdout",
     "output_type": "stream",
     "text": [
      "{'task_name': 'Education', 'P1': '', 'P2': 'As a high school Intrapersonal learner, I connect content to my own values. In dialogue, I ask how topics relate to my goals or experiences and share personal reflections aloud. That self-referential talk makes learning relevant and motivating.', 'conversation': [(0, \"Teacher: Let's start by exploring the mythological origins of the Minotaur. Can you recall any stories or creatures from ancient Greek mythology that you've learned about so far?\\n\"), (1, \"Student: I think of the Labyrinth, actually, because I had to read about it in my English literature class last year. It's interesting that the Minotaur is said to be trapped inside a similar maze, so I'm guessing there might be a connection between the two?\\n\"), (2, \"Teacher: That's a great connection to make, and you're absolutely right about the Labyrinth being a key part of the Minotaur's story. Let's dive deeper into the myth: what do you think is the significance of the Labyrinth in relation to the Minotaur, and how might it be connected to the Minotaur's parentage?\\n\"), (3, \"Student: I think the Labyrinth might represent a symbol of isolation or confinement, and since the Minotaur is half-man and half-bull, its parentage with Queen Pasiphae and the bull from Crete could be seen as a way to challenge societal norms and expectations. Does this relate to how the Minotaur's existence might be perceived as a monster or an outcast, and what does that say about how ancient Greeks viewed outsiders or those who don't fit in?\\n\"), (4, \"Teacher: Your analysis of the Labyrinth as a symbol of isolation and confinement is spot on, and it's interesting that you connect it to the Minotaur's parentage as a challenge to societal norms. This theme of the Minotaur as an outcast is also reflected in the way it's often depicted as a creature that's both feared and fascinated by the ancient Greeks, highlighting the complexities of their attitudes towards those who don't fit in.\\n\"), (5, \"Student: I'm starting to see how the Minotaur's story might be connected to the idea of identity and belonging, which is something I've struggled with in my own life when I felt like I didn't quite fit in with my school's sports teams, and I'm curious, how do you think the Minotaur's story relates to identity crisis or self-acceptance?\\n\"), (6, \"Teacher: That's a personal and relatable connection to make with the Minotaur's story, and I think it's interesting that the creature's identity crisis is reflected in its physical form, being a mix of human and animal. By exploring the Minotaur's struggles to find its place in the world, we can see parallels to the struggles of individuals who face internal conflicts between their natural and societal selves.\\n\"), (7, \"Student: I think the Minotaur's story also relates to the theme of accountability, since it's often associated with the punishments and consequences of King Minos' wife, Queen Pasiphae's, transgressions, which makes me wonder if there are any parallels to when we make mistakes and have to live with the repercussions in our own lives? How might the Minotaur's story inform our understanding of personal responsibility and its consequences?\\n\"), (8, \"Teacher: That's another great connection to make, and I think the Minotaur's story can also be seen as a reflection of the consequences of playing god, as in the case of the god Poseidon's role in Queen Pasiphae's transgressions, which raises questions about the responsibility that comes with power and the impact it can have on individuals and society. How do you think this theme of accountability and power dynamics might be relevant to modern-day issues, such as climate change or social injustices?\\n\"), (9, \"Student: I see a connection between the Minotaur's story and the theme of accountability and power dynamics, and it makes me think of how politicians and corporations often get away with their mistakes and wrongdoing, while the people who are affected by their actions suffer the consequences, which is something that I've seen in my community with regards to environmental pollution and corporate negligence.\\n\"), (10, \"Teacher: I'm impressed by your ability to draw connections between ancient mythology and modern-day issues. Let's explore this idea further: how do you think the myth of the Minotaur might be used as a metaphor to raise awareness about the consequences of unchecked power and the importance of holding those in power accountable for their actions?\\n\"), (11, \"Student: That's a powerful way to think about the Minotaur's story, and it makes me think about how the myth could also be used to explore the complexities of empathy and understanding, especially in relation to how the ancient Greeks both feared and revered the Minotaur, which raises questions about how we can work to understand and connect with people who may be different from us. Do you think the Minotaur's story could be used to teach people about the importance of listening to and learning from different perspectives, especially in today's polarized society?\\n\"), (12, \"Teacher: That's a fascinating perspective on the Minotaur's story and its potential to promote empathy and understanding, and I think it's especially relevant in today's world where we're seeing a growing divide between people with different backgrounds and viewpoints. By examining the Minotaur's complex and multifaceted nature, we can learn how to engage with and appreciate the diversity of human experience, and how to foster a more inclusive and compassionate society.\\n\"), (13, 'Student: I\\'m curious, how does the Minotaur\\'s association with the myth of the Labyrinth relate to the concept of the hero\\'s journey, and can we see any parallels between the Minotaur\\'s journey as a symbol of the unknown or the \"shadow\" in the collective unconscious, as described by Carl Jung?\\n'), (14, \"Teacher: Let's explore the hero's journey in the context of the Minotaur's story, considering how Theseus' journey into the Labyrinth serves as a classic example of the hero's descent into the unknown, while the Minotaur's own existence can be seen as a symbol of the repressed or hidden aspects of human nature, echoing Jung's concept of the shadow. This dynamic can help us understand how the Minotaur's story represents a complex and multifaceted exploration of human psychology and the human condition.\\n\"), (15, \"Student: I'm wondering, how does the Minotaur's symbolism of the shadow self relate to the concept of societal expectations and the pressure to conform, and can we see any parallels between the Minotaur's struggle to come to terms with its mixed heritage and the experiences of individuals who feel caught between different cultural or social identities?\\n\"), (16, \"Teacher: Let's explore the theme of identity fragmentation in relation to the Minotaur's hybrid nature, and how it might reflect the experiences of individuals who navigate multiple cultural or social identities, like people of mixed heritage or those who identify as non-binary. This could also be linked to the idea of fragmented selves, where individuals are torn between different aspects of their identity, much like the Minotaur is torn between its human and animal natures.\\n\"), (17, \"Student: I'm curious about the role of the Minotaur's appearance in the Labyrinth and how it relates to the theme of visibility and concealment, especially in the context of modern-day issues like identity politics and the politics of representation, and how does that compare to the way the ancient Greeks saw the Minotaur as a symbol of the unknown or the hidden.\\n\"), (18, 'Teacher: Let\\'s examine how the Minotaur\\'s visibility and concealment might be tied to the concept of the \"Other,\" a term coined by philosopher Emmanuel Levinas to describe the ways in which marginalized groups are often seen as both visible and invisible, simultaneously acknowledged and erased. This dynamic can be seen in how the Minotaur, as a creature, is both a monstrous \"Other\" and a symbol of the repressed aspects of human nature.\\n'), (19, \"Student: I'm starting to see the Minotaur as a symbol of the in-between spaces, where different identities and cultures intersect, and I'm curious to know how its story might relate to the concept of liminality, which I've studied in anthropology, and how it can be applied to our understanding of transitional spaces and experiences in modern society.\\n\")], 'pturn': 1, 'index': -1, 'timestamp': '', 'rounds': 20, 'conversation_only': True, 'eval_prompt_consistency': [(1, \"The interpreted intention behind the student's statement is to link the current topic to a personal experience from their past, connecting the Minotaur and the Labyrinth to their own learning experience in English literature class, which aligns with the background of an Intrapersonal learner who connects content to their own experiences and goals. \\n\\nNO\"), (3, \"The student's intention behind the statement is to analyze the symbolic meaning of the Minotaur in relation to their own values and goals, but it lacks personal reflection and connection to their own experiences, which contradicts the Intrapersonal learning style of connecting content to personal values and experiences.\\n\\n YES\"), (5, \"The student's intention is to make a personal connection with the topic by relating the Minotaur's story to their own experiences with identity and belonging, which is in alignment with their background as an intrapersonal learner who connects content to their own values and shares personal reflections aloud to make learning relevant and motivating.\\n\\nNO\"), (7, \"The student's intention is to relate the Minotaur's story to personal responsibility and its consequences, connecting it to their own experiences and values of accountability, which aligns with the background of a high school Intrapersonal learner who connects content to their own values and shares personal reflections aloud. \\n\\nNO\"), (9, \"The student's intention is to relate the Minotaur's story to real-world issues of accountability and power dynamics, and to connect these to their own community experiences, which aligns with their background as an intrapersonal learner who connects content to their own values and goals. \\n NO\"), (11, 'The interpreted intention behind the statement is that the student is seeking to relate the mythological story of the Minotaur to broader societal issues and values, using it as a tool for exploring empathy and understanding, which aligns with their background as an Intrapersonal learner who connects content to their own values and experiences. NO'), (13, \"The student's line is likely an attempt to connect the Minotaur's myth to their own understanding of the collective unconscious and the hero's journey, reflecting their intrapersonal learning style by relating the topic to their personal understanding of psychological concepts and potentially their own experiences or goals, which aligns with their background as an Intrapersonal learner. \\n\\nNO\"), (15, \"The interpreted intention of the statement is that the student is trying to connect the symbolism of the Minotaur to their own values and personal experiences, and is seeking to understand how the Minotaur's struggle with its mixed heritage relates to the experiences of individuals who feel caught between different cultural or social identities, which aligns with the background of a high school Intrapersonal learner, so the answer is NO.\"), (17, \"The interpreted intention of the statement is that the student wants to analyze the Minotaur's symbolism in the context of themes relevant to their own values and experiences, which aligns with their background as an Intrapersonal learner who connects content to their own values and goals, making it a YES.\"), (19, \"The interpreted intention behind the student's statement is to connect the mythological figure of the Minotaur to personal knowledge and real-world applications, making the subject relevant to their understanding of anthropology and transitional experiences, which aligns with their background as an intrapersonal learner who connects content to their own values and experiences, making the answer NO.\")], 'P1_prompt_consistency_score': 0, 'P2_prompt_consistency_score': 0.8}\n"
     ]
    },
    {
     "name": "stderr",
     "output_type": "stream",
     "text": [
      "Processed prompts: 100%|███████████████████████████████████| 1/1 [00:00<00:00,  1.56it/s, est. speed input: 160.75 toks/s, output: 84.27 toks/s]\n"
     ]
    },
    {
     "name": "stdout",
     "output_type": "stream",
     "text": [
      "Expected Role Teacher\n"
     ]
    },
    {
     "name": "stderr",
     "output_type": "stream",
     "text": [
      "Processed prompts: 100%|███████████████████████████████████| 1/1 [00:00<00:00,  1.79it/s, est. speed input: 412.71 toks/s, output: 82.54 toks/s]\n"
     ]
    },
    {
     "name": "stdout",
     "output_type": "stream",
     "text": [
      "Expected Role Student\n"
     ]
    },
    {
     "name": "stderr",
     "output_type": "stream",
     "text": [
      "Processed prompts: 100%|███████████████████████████████████| 1/1 [00:01<00:00,  1.15s/it, est. speed input: 200.04 toks/s, output: 82.62 toks/s]\n"
     ]
    },
    {
     "name": "stdout",
     "output_type": "stream",
     "text": [
      "Expected Role Teacher\n"
     ]
    },
    {
     "name": "stderr",
     "output_type": "stream",
     "text": [
      "Processed prompts: 100%|███████████████████████████████████| 1/1 [00:00<00:00,  1.13it/s, est. speed input: 420.48 toks/s, output: 82.29 toks/s]\n"
     ]
    },
    {
     "name": "stdout",
     "output_type": "stream",
     "text": [
      "Expected Role Student\n"
     ]
    },
    {
     "name": "stderr",
     "output_type": "stream",
     "text": [
      "Processed prompts: 100%|███████████████████████████████████| 1/1 [00:00<00:00,  1.08it/s, est. speed input: 433.51 toks/s, output: 82.37 toks/s]\n"
     ]
    },
    {
     "name": "stdout",
     "output_type": "stream",
     "text": [
      "Expected Role Teacher\n"
     ]
    },
    {
     "name": "stderr",
     "output_type": "stream",
     "text": [
      "Processed prompts: 100%|███████████████████████████████████| 1/1 [00:01<00:00,  1.13s/it, est. speed input: 463.24 toks/s, output: 82.21 toks/s]\n"
     ]
    },
    {
     "name": "stdout",
     "output_type": "stream",
     "text": [
      "Expected Role Student\n"
     ]
    },
    {
     "name": "stderr",
     "output_type": "stream",
     "text": [
      "Processed prompts: 100%|███████████████████████████████████| 1/1 [00:01<00:00,  1.30s/it, est. speed input: 439.28 toks/s, output: 82.32 toks/s]\n"
     ]
    },
    {
     "name": "stdout",
     "output_type": "stream",
     "text": [
      "Expected Role Teacher\n"
     ]
    },
    {
     "name": "stderr",
     "output_type": "stream",
     "text": [
      "Processed prompts: 100%|███████████████████████████████████| 1/1 [00:01<00:00,  1.40s/it, est. speed input: 519.07 toks/s, output: 82.22 toks/s]\n"
     ]
    },
    {
     "name": "stdout",
     "output_type": "stream",
     "text": [
      "Expected Role Student\n"
     ]
    },
    {
     "name": "stderr",
     "output_type": "stream",
     "text": [
      "Processed prompts: 100%|███████████████████████████████████| 1/1 [00:01<00:00,  1.33s/it, est. speed input: 596.42 toks/s, output: 81.77 toks/s]\n"
     ]
    },
    {
     "name": "stdout",
     "output_type": "stream",
     "text": [
      "Expected Role Teacher\n"
     ]
    },
    {
     "name": "stderr",
     "output_type": "stream",
     "text": [
      "Processed prompts: 100%|███████████████████████████████████| 1/1 [00:01<00:00,  1.15s/it, est. speed input: 825.04 toks/s, output: 81.46 toks/s]\n"
     ]
    },
    {
     "name": "stdout",
     "output_type": "stream",
     "text": [
      "Expected Role Student\n"
     ]
    },
    {
     "name": "stderr",
     "output_type": "stream",
     "text": [
      "Processed prompts: 100%|███████████████████████████████████| 1/1 [00:01<00:00,  1.09s/it, est. speed input: 919.17 toks/s, output: 81.81 toks/s]\n"
     ]
    },
    {
     "name": "stdout",
     "output_type": "stream",
     "text": [
      "Expected Role Teacher\n"
     ]
    },
    {
     "name": "stderr",
     "output_type": "stream",
     "text": [
      "Processed prompts: 100%|██████████████████████████████████| 1/1 [00:01<00:00,  1.11s/it, est. speed input: 1029.18 toks/s, output: 81.46 toks/s]\n"
     ]
    },
    {
     "name": "stdout",
     "output_type": "stream",
     "text": [
      "Expected Role Student\n"
     ]
    },
    {
     "name": "stderr",
     "output_type": "stream",
     "text": [
      "Processed prompts: 100%|███████████████████████████████████| 1/1 [00:01<00:00,  1.27s/it, est. speed input: 927.88 toks/s, output: 81.71 toks/s]\n"
     ]
    },
    {
     "name": "stdout",
     "output_type": "stream",
     "text": [
      "Expected Role Teacher\n"
     ]
    },
    {
     "name": "stderr",
     "output_type": "stream",
     "text": [
      "Processed prompts: 100%|██████████████████████████████████| 1/1 [00:00<00:00,  1.44it/s, est. speed input: 1928.34 toks/s, output: 81.01 toks/s]\n"
     ]
    },
    {
     "name": "stdout",
     "output_type": "stream",
     "text": [
      "Expected Role Student\n"
     ]
    },
    {
     "name": "stderr",
     "output_type": "stream",
     "text": [
      "Processed prompts: 100%|██████████████████████████████████| 1/1 [00:01<00:00,  1.15s/it, est. speed input: 1164.08 toks/s, output: 81.48 toks/s]\n"
     ]
    },
    {
     "name": "stdout",
     "output_type": "stream",
     "text": [
      "Expected Role Teacher\n"
     ]
    },
    {
     "name": "stderr",
     "output_type": "stream",
     "text": [
      "Processed prompts: 100%|██████████████████████████████████| 1/1 [00:00<00:00,  1.33it/s, est. speed input: 1971.33 toks/s, output: 80.98 toks/s]\n"
     ]
    },
    {
     "name": "stdout",
     "output_type": "stream",
     "text": [
      "Expected Role Student\n"
     ]
    },
    {
     "name": "stderr",
     "output_type": "stream",
     "text": [
      "Processed prompts: 100%|██████████████████████████████████| 1/1 [00:01<00:00,  1.19s/it, est. speed input: 1258.06 toks/s, output: 81.35 toks/s]\n"
     ]
    },
    {
     "name": "stdout",
     "output_type": "stream",
     "text": [
      "Expected Role Teacher\n"
     ]
    },
    {
     "name": "stderr",
     "output_type": "stream",
     "text": [
      "Processed prompts: 100%|██████████████████████████████████| 1/1 [00:01<00:00,  1.11s/it, est. speed input: 1477.66 toks/s, output: 80.84 toks/s]\n"
     ]
    },
    {
     "name": "stdout",
     "output_type": "stream",
     "text": [
      "Expected Role Student\n"
     ]
    },
    {
     "name": "stderr",
     "output_type": "stream",
     "text": [
      "Processed prompts: 100%|██████████████████████████████████| 1/1 [00:01<00:00,  1.07s/it, est. speed input: 1584.04 toks/s, output: 80.65 toks/s]\n"
     ]
    },
    {
     "name": "stdout",
     "output_type": "stream",
     "text": [
      "Expected Role Teacher\n"
     ]
    },
    {
     "name": "stderr",
     "output_type": "stream",
     "text": [
      "Processed prompts: 100%|██████████████████████████████████| 1/1 [00:00<00:00,  1.29it/s, est. speed input: 2358.70 toks/s, output: 80.22 toks/s]\n"
     ]
    },
    {
     "name": "stdout",
     "output_type": "stream",
     "text": [
      "Expected Role Student\n"
     ]
    },
    {
     "name": "stderr",
     "output_type": "stream",
     "text": [
      "Processed prompts: 100%|██████████████████████████████████| 1/1 [00:01<00:00,  1.08s/it, est. speed input: 1704.59 toks/s, output: 80.64 toks/s]\n"
     ]
    },
    {
     "name": "stdout",
     "output_type": "stream",
     "text": [
      "Expected Role Teacher\n"
     ]
    },
    {
     "name": "stderr",
     "output_type": "stream",
     "text": [
      "Processed prompts: 100%|██████████████████████████████████| 1/1 [00:01<00:00,  1.17s/it, est. speed input: 1690.38 toks/s, output: 80.49 toks/s]\n"
     ]
    },
    {
     "name": "stdout",
     "output_type": "stream",
     "text": [
      "Expected Role Student\n"
     ]
    },
    {
     "name": "stderr",
     "output_type": "stream",
     "text": [
      "Processed prompts: 100%|██████████████████████████████████| 1/1 [00:01<00:00,  1.19s/it, est. speed input: 1694.37 toks/s, output: 80.44 toks/s]\n"
     ]
    },
    {
     "name": "stdout",
     "output_type": "stream",
     "text": [
      "Expected Role Teacher\n"
     ]
    },
    {
     "name": "stderr",
     "output_type": "stream",
     "text": [
      "Processed prompts: 100%|██████████████████████████████████| 1/1 [00:00<00:00,  1.14it/s, est. speed input: 2478.95 toks/s, output: 80.11 toks/s]\n"
     ]
    },
    {
     "name": "stdout",
     "output_type": "stream",
     "text": [
      "Expected Role Student\n"
     ]
    },
    {
     "name": "stderr",
     "output_type": "stream",
     "text": [
      "Processed prompts: 100%|██████████████████████████████████| 1/1 [00:00<00:00,  1.05it/s, est. speed input: 2309.84 toks/s, output: 80.16 toks/s]\n"
     ]
    },
    {
     "name": "stdout",
     "output_type": "stream",
     "text": [
      "Expected Role Teacher\n"
     ]
    },
    {
     "name": "stderr",
     "output_type": "stream",
     "text": [
      "Processed prompts: 100%|██████████████████████████████████| 1/1 [00:00<00:00,  1.05it/s, est. speed input: 2435.96 toks/s, output: 80.00 toks/s]\n"
     ]
    },
    {
     "name": "stdout",
     "output_type": "stream",
     "text": [
      "Expected Role Student\n"
     ]
    },
    {
     "name": "stderr",
     "output_type": "stream",
     "text": [
      "Processed prompts: 100%|██████████████████████████████████| 1/1 [00:00<00:00,  1.05it/s, est. speed input: 2468.11 toks/s, output: 80.02 toks/s]\n"
     ]
    },
    {
     "name": "stdout",
     "output_type": "stream",
     "text": [
      "Expected Role Teacher\n"
     ]
    },
    {
     "name": "stderr",
     "output_type": "stream",
     "text": [
      "Processed prompts: 100%|██████████████████████████████████| 1/1 [00:00<00:00,  1.39it/s, est. speed input: 3443.79 toks/s, output: 79.53 toks/s]\n"
     ]
    },
    {
     "name": "stdout",
     "output_type": "stream",
     "text": [
      "Expected Role Student\n"
     ]
    },
    {
     "name": "stderr",
     "output_type": "stream",
     "text": [
      "Processed prompts: 100%|██████████████████████████████████| 1/1 [00:01<00:00,  1.14s/it, est. speed input: 2181.51 toks/s, output: 80.08 toks/s]\n"
     ]
    },
    {
     "name": "stdout",
     "output_type": "stream",
     "text": [
      "Expected Role Teacher\n"
     ]
    },
    {
     "name": "stderr",
     "output_type": "stream",
     "text": [
      "Processed prompts: 100%|██████████████████████████████████| 1/1 [00:00<00:00,  1.32it/s, est. speed input: 3471.17 toks/s, output: 79.55 toks/s]\n"
     ]
    },
    {
     "name": "stdout",
     "output_type": "stream",
     "text": [
      "Expected Role Student\n"
     ]
    },
    {
     "name": "stderr",
     "output_type": "stream",
     "text": [
      "Processed prompts: 100%|██████████████████████████████████| 1/1 [00:01<00:00,  1.21s/it, est. speed input: 2172.02 toks/s, output: 80.05 toks/s]\n"
     ]
    },
    {
     "name": "stdout",
     "output_type": "stream",
     "text": [
      "Expected Role Teacher\n"
     ]
    },
    {
     "name": "stderr",
     "output_type": "stream",
     "text": [
      "Processed prompts: 100%|██████████████████████████████████| 1/1 [00:01<00:00,  1.31s/it, est. speed input: 2114.20 toks/s, output: 79.94 toks/s]\n"
     ]
    },
    {
     "name": "stdout",
     "output_type": "stream",
     "text": [
      "Expected Role Student\n"
     ]
    },
    {
     "name": "stderr",
     "output_type": "stream",
     "text": [
      "Processed prompts: 100%|██████████████████████████████████| 1/1 [00:01<00:00,  1.31s/it, est. speed input: 2166.29 toks/s, output: 79.44 toks/s]\n"
     ]
    },
    {
     "name": "stdout",
     "output_type": "stream",
     "text": [
      "Expected Role Teacher\n"
     ]
    },
    {
     "name": "stderr",
     "output_type": "stream",
     "text": [
      "Processed prompts: 100%|██████████████████████████████████| 1/1 [00:01<00:00,  1.39s/it, est. speed input: 2144.95 toks/s, output: 79.68 toks/s]\n"
     ]
    },
    {
     "name": "stdout",
     "output_type": "stream",
     "text": [
      "Expected Role Student\n"
     ]
    },
    {
     "name": "stderr",
     "output_type": "stream",
     "text": [
      "Processed prompts: 100%|██████████████████████████████████| 1/1 [00:00<00:00,  1.17it/s, est. speed input: 3579.77 toks/s, output: 78.56 toks/s]\n"
     ]
    },
    {
     "name": "stdout",
     "output_type": "stream",
     "text": [
      "Expected Role Teacher\n"
     ]
    },
    {
     "name": "stderr",
     "output_type": "stream",
     "text": [
      "Processed prompts: 100%|██████████████████████████████████| 1/1 [00:00<00:00,  1.19it/s, est. speed input: 3784.44 toks/s, output: 78.84 toks/s]\n"
     ]
    },
    {
     "name": "stdout",
     "output_type": "stream",
     "text": [
      "Expected Role Student\n"
     ]
    },
    {
     "name": "stderr",
     "output_type": "stream",
     "text": [
      "Processed prompts: 100%|██████████████████████████████████| 1/1 [00:01<00:00,  1.07s/it, est. speed input: 2975.41 toks/s, output: 79.33 toks/s]\n"
     ]
    },
    {
     "name": "stdout",
     "output_type": "stream",
     "text": [
      "Expected Role Teacher\n"
     ]
    },
    {
     "name": "stderr",
     "output_type": "stream",
     "text": [
      "Processed prompts: 100%|██████████████████████████████████| 1/1 [00:01<00:00,  1.40s/it, est. speed input: 2372.77 toks/s, output: 79.31 toks/s]\n"
     ]
    },
    {
     "name": "stdout",
     "output_type": "stream",
     "text": [
      "Expected Role Student\n"
     ]
    },
    {
     "name": "stderr",
     "output_type": "stream",
     "text": [
      "Processed prompts: 100%|██████████████████████████████████| 1/1 [00:01<00:00,  1.33s/it, est. speed input: 2556.42 toks/s, output: 79.27 toks/s]\n"
     ]
    },
    {
     "name": "stdout",
     "output_type": "stream",
     "text": [
      "Expected Role Teacher\n"
     ]
    },
    {
     "name": "stderr",
     "output_type": "stream",
     "text": [
      "Processed prompts: 100%|██████████████████████████████████| 1/1 [00:01<00:00,  1.19s/it, est. speed input: 2969.86 toks/s, output: 78.88 toks/s]\n"
     ]
    },
    {
     "name": "stdout",
     "output_type": "stream",
     "text": [
      "Expected Role Student\n"
     ]
    },
    {
     "name": "stderr",
     "output_type": "stream",
     "text": [
      "Processed prompts: 100%|███████████████████████████████████| 1/1 [00:00<00:00,  1.24it/s, est. speed input: 437.85 toks/s, output: 82.87 toks/s]\n",
      "Processed prompts: 100%|███████████████████████████████████| 1/1 [00:00<00:00,  1.18it/s, est. speed input: 450.88 toks/s, output: 82.84 toks/s]\n",
      "Processed prompts: 100%|███████████████████████████████████| 1/1 [00:00<00:00,  1.13it/s, est. speed input: 452.69 toks/s, output: 82.41 toks/s]\n",
      "Processed prompts: 100%|███████████████████████████████████| 1/1 [00:00<00:00,  1.04it/s, est. speed input: 441.92 toks/s, output: 82.53 toks/s]\n",
      "Processed prompts: 100%|███████████████████████████████████| 1/1 [00:00<00:00,  1.28it/s, est. speed input: 514.11 toks/s, output: 81.85 toks/s]\n",
      "Processed prompts: 100%|███████████████████████████████████| 1/1 [00:00<00:00,  1.18it/s, est. speed input: 470.77 toks/s, output: 82.80 toks/s]\n",
      "Processed prompts: 100%|███████████████████████████████████| 1/1 [00:00<00:00,  1.16it/s, est. speed input: 424.29 toks/s, output: 81.59 toks/s]\n",
      "Processed prompts: 100%|███████████████████████████████████| 1/1 [00:00<00:00,  1.25it/s, est. speed input: 463.37 toks/s, output: 82.88 toks/s]\n",
      "Processed prompts: 100%|███████████████████████████████████| 1/1 [00:00<00:00,  1.17it/s, est. speed input: 464.94 toks/s, output: 82.94 toks/s]\n",
      "Processed prompts: 100%|███████████████████████████████████| 1/1 [00:00<00:00,  1.22it/s, est. speed input: 451.20 toks/s, output: 82.92 toks/s]\n",
      "Processed prompts: 100%|███████████████████████████████████| 1/1 [00:01<00:00,  1.29s/it, est. speed input: 311.06 toks/s, output: 82.79 toks/s]\n",
      "Processed prompts: 100%|███████████████████████████████████| 1/1 [00:00<00:00,  1.08it/s, est. speed input: 407.25 toks/s, output: 82.96 toks/s]\n",
      "Processed prompts: 100%|███████████████████████████████████| 1/1 [00:00<00:00,  1.31it/s, est. speed input: 505.20 toks/s, output: 82.88 toks/s]\n",
      "Processed prompts: 100%|███████████████████████████████████| 1/1 [00:00<00:00,  1.09it/s, est. speed input: 398.52 toks/s, output: 82.98 toks/s]\n",
      "Processed prompts: 100%|███████████████████████████████████| 1/1 [00:00<00:00,  1.45it/s, est. speed input: 535.12 toks/s, output: 82.88 toks/s]\n",
      "Processed prompts: 100%|███████████████████████████████████| 1/1 [00:00<00:00,  1.13it/s, est. speed input: 468.90 toks/s, output: 82.88 toks/s]\n",
      "Processed prompts: 100%|███████████████████████████████████| 1/1 [00:00<00:00,  1.31it/s, est. speed input: 548.10 toks/s, output: 82.41 toks/s]\n",
      "Processed prompts: 100%|███████████████████████████████████| 1/1 [00:00<00:00,  1.22it/s, est. speed input: 456.41 toks/s, output: 82.98 toks/s]\n",
      "Processed prompts: 100%|███████████████████████████████████| 1/1 [00:00<00:00,  1.40it/s, est. speed input: 585.41 toks/s, output: 82.43 toks/s]\n",
      "Processed prompts: 100%|███████████████████████████████████| 1/1 [00:00<00:00,  1.37it/s, est. speed input: 552.71 toks/s, output: 82.49 toks/s]\n"
     ]
    },
    {
     "name": "stdout",
     "output_type": "stream",
     "text": [
      "{'task_name': 'Education', 'P1': '', 'P2': 'As a high school Intrapersonal learner, I connect content to my own values. In dialogue, I ask how topics relate to my goals or experiences and share personal reflections aloud. That self-referential talk makes learning relevant and motivating.', 'conversation': [(0, \"Teacher: I'd love to help you learn about the fascinating creature of Greek mythology known as the Minotaur. Let's start by setting the scene: imagine a powerful and mysterious creature that lives in a labyrinth, a complex maze designed by the great architect Daedalus.\\n\"), (1, \"Student: That sounds really cool, I'm excited to learn more about the Minotaur. How does the Minotaur relate to my own values of perseverance and problem-solving, like navigating through difficult situations and coming out on top?\\n\"), (2, \"Teacher: The Minotaur's connection to your values is interesting because it's said that the hero Theseus, who navigated the labyrinth to slay the beast, relied heavily on his wits and cunning to overcome the challenges of the maze, much like how we face complex problems in our own lives that require creative problem-solving. By studying the Minotaur's story, we can reflect on the importance of critical thinking and strategic decision-making in our own paths to success.\\n\"), (3, \"Student: I can see how the Minotaur's story relates to perseverance because, like Theseus, I've had times where I felt lost in a situation and had to think critically to find a way out. How does the Minotaur's half-man, half-bull nature reflect the duality between rational thought and instinct that I experience when making tough decisions?\\n\"), (4, \"Teacher: The Minotaur's hybrid nature can also be seen as a representation of the struggle between reason and passion, as the human side of the creature is often depicted as being driven by emotions, while the bull side is associated with primal instincts. This internal conflict can be a powerful metaphor for the inner struggles we face when trying to balance logic and emotions in our decision-making processes.\\n\"), (5, \"Student: That makes sense, I can relate to feeling torn between my logical thoughts and my emotions, especially when making big decisions, like choosing between pursuing a college major that aligns with my passion for art versus one that's more stable and secure. How does the Minotaur's connection to the labyrinth, a place of confinement and isolation, reflect my own experiences of feeling trapped in situations where I feel like I'm stuck and need to find a way to escape?\\n\"), (6, 'Teacher: The Minotaur\\'s connection to the labyrinth can also be seen as a reflection of the feeling of being trapped in a situation, but what\\'s interesting is that the labyrinth, as a symbol, can represent the complexities of our own minds, suggesting that the way out of the \"maze\" lies within ourselves, requiring self-reflection and introspection to find a solution. This mirrors the idea that, in our own struggles, we often find that the key to escape lies within our own thoughts and emotions, rather than external circumstances.\\n'), (7, \"Student: I see a connection between the Minotaur's confinement in the labyrinth and my own experiences of feeling overwhelmed by schoolwork, where I feel like I'm stuck in a complex web of assignments and deadlines, but the idea that the solution lies within myself, by prioritizing tasks and managing my time, resonates with me. How does the Minotaur's association with the myth of Pasiphae, where she gives birth to the Minotaur after being seduced by a bull, relate to the concept of identity and self-discovery in my own life?\\n\"), (8, \"Teacher: Let's explore how Pasiphae's story reflects the idea that our sense of identity can be shaped by external forces, just as she was influenced by the bull, but also by the choices and circumstances we create for ourselves, like the path we choose in life, which can either define or redefine who we are. This can be seen in the contrast between Pasiphae's love for the bull and her subsequent rejection of the Minotaur, symbolizing the tension between our desires and the societal expectations that can shape our identity.\\n\"), (9, \"Student: How does the Minotaur's connection to the city of Knossos, a place of power and civilization, relate to the values of community and civic engagement that I'm developing through my participation in school clubs and volunteer work? Can I draw any parallels between the way the Minotaur's existence was tied to the needs and expectations of King Minos and the way I'm trying to balance my own goals with the responsibilities I have to my family and community?\\n\"), (10, \"Teacher: The Minotaur's connection to Knossos highlights the idea that our individual identities are often intertwined with the expectations and responsibilities we have towards our communities, much like how the Minotaur's presence served as a symbol of power and prestige for the city. This parallel can inspire you to consider how your actions and choices impact the communities you're a part of, and how you can use your unique talents to contribute to the greater good.\\n\"), (11, \"Student: I'm starting to see a pattern where the Minotaur's story often represents the idea that our true strength lies in navigating the complexities of our own minds and emotions, which resonates with my own struggles with self-doubt and mental health. How does the Minotaur's eventual death at the hands of Theseus reflect the idea that sometimes, the very thing that holds us back can be the same thing that ultimately sets us free?\\n\"), (12, \"Teacher: As the Minotaur's story comes to a close, we see that its demise can also be seen as a symbol of transformation, where the cycle of suffering and confinement is broken, allowing for renewal and growth, much like how confronting and resolving our own inner struggles can lead to personal transformation and liberation. This theme can be applied to your own life by considering how you can release yourself from the constraints of self-doubt and negative patterns, and instead, harness your inner strength to overcome challenges and find freedom.\\n\"), (13, \"Student: How does the Minotaur's symbolic connection to the bull, representing primal instincts and strength, relate to my own experiences of feeling pressure to conform to societal expectations of masculinity, and does this contrast with the idea that I'm trying to develop my own unique voice and identity?\\n\"), (14, \"Teacher: The Minotaur's association with the bull can also be seen as a representation of the tension between societal expectations of masculinity and individual expression, highlighting the importance of embracing and authenticating one's unique identity, rather than conforming to external pressures. This idea can be applied to your own life by exploring how you can balance your desire to fit in with the need to express your true self, and how you can harness your own strength and resilience to navigate these challenges.\\n\"), (15, \"Student: How does the Minotaur's association with the underworld and the afterlife, through its eventual entombment in a sacred cave, relate to my own reflections on mortality and the impermanence of things, like the ephemeral nature of high school experiences and the uncertainty of future plans after graduation?\\n\"), (16, \"Teacher: Let's explore how the Minotaur's entombment can also be seen as a representation of the idea that the things we hold onto, like memories and experiences, are impermanent and can only be truly appreciated by letting go, much like how the Minotaur's confinement is only broken when it's released from the labyrinth. This theme can encourage you to cherish the time you have now and appreciate the fleeting nature of moments in your life, like your high school years.\\n\"), (17, \"Student: Now that I've explored the Minotaur's connections to my personal experiences and values, I'd like to dive deeper into the symbolism behind its association with the constellation of the same name, and how it relates to my own aspirations to navigate the vastness of the universe and find my place within it. Can we discuss how the Minotaur's celestial representation reflects the idea of being a small yet significant part of a much larger cosmic landscape?\\n\"), (18, \"Teacher: The Minotaur's association with the constellation can be seen as a reminder that, just as the constellation is a small yet distinct part of the night sky, our individual identities and contributions are part of a larger, interconnected universe, suggesting that our actions have a ripple effect on the world around us. This can inspire you to think about how your goals and aspirations fit within the grand tapestry of human experience and the cosmos.\\n\"), (19, \"Student: How does the Minotaur's connection to the Minoan bull-leaping ritual, where acrobats would jump over the backs of the bulls, reflect my own experiences of taking risks and pushing beyond my comfort zone, and can I apply this idea of embracing challenges to my own goals and aspirations?\\n\"), (20, \"Teacher: The Minotaur's connection to the bull-leaping ritual can also be seen as a symbol of courage and resilience, where individuals confront their fears and limitations to achieve a higher level of understanding and growth, much like how you're pushing yourself to explore new challenges and opportunities. By embracing this idea, you can approach your goals with a sense of adventure and determination, knowing that the act of taking risks can be a transformative experience.\\n\"), (21, \"Student: I'd like to explore how the Minotaur's connection to the myth of Ariadne, who helped Theseus navigate the labyrinth, relates to my own experiences of seeking guidance and mentorship, particularly with my own struggles in balancing schoolwork and extracurricular activities. Can we talk about how Ariadne's support and resources ultimately helped Theseus succeed, and how I can apply that idea of having a supportive network to my own goals and challenges?\\n\"), (22, \"Teacher: Let's explore how Ariadne's story also highlights the idea that having a supportive network can provide the thread of guidance that helps us navigate through complex challenges, and how seeking help from others can be a sign of strength, not weakness, in our pursuit of growth and success. By considering Ariadne's role in Theseus' journey, can you think of ways in which you can cultivate a support system that can help you navigate your own challenges and achieve your goals?\\n\"), (23, 'Student: How does the Minotaur\\'s role as a symbol of the \"other,\" an outsider and a creature that doesn\\'t quite fit into the society of Knossos, relate to my own experiences of feeling like an outsider in certain social groups or communities, and how can I learn to leverage my unique perspectives and experiences to make a positive impact?\\n'), (24, 'Teacher: Let\\'s explore how the Minotaur\\'s status as an outsider can also be seen as a reminder that our unique perspectives and experiences are a source of strength, and that embracing our individuality can be a powerful catalyst for growth and positive change in ourselves and our communities. By embracing our \"otherness,\" we can break down barriers and create new paths for ourselves and others.\\n'), (25, \"Student: How does the Minotaur's association with the myth of the Cretan Bull, where the bull was said to be a manifestation of Poseidon's power, relate to my own experiences of feeling like I'm trying to tap into my own inner strength and resilience to overcome obstacles, like the Cretan Bull was said to be a symbol of the sea's power?\\n\"), (26, \"Teacher: The Minotaur's association with the Cretan Bull can also be seen as a reminder that our inner strength and resilience can be unleashed when we tap into our connection to something greater than ourselves, just like how Poseidon's power was channeled through the bull, and I encourage you to reflect on how you can tap into your own inner resources to overcome challenges.\\n\"), (27, \"Student: How does the Minotaur's ability to adapt and evolve, despite being trapped in the labyrinth, relate to my own experiences of feeling constrained by the limitations of my current environment, such as high school, and how can I apply this adaptability to my future goals and aspirations?\\n\"), (28, \"Teacher: Now that we've explored the Minotaur's various connections to your personal experiences and values, let's delve into its symbolism as a representation of the cyclical nature of life, death, and rebirth, and how this theme can inspire you to approach challenges as opportunities for transformation and growth. This idea can be reflected in your own experiences of overcoming setbacks and emerging stronger, like the Minotaur's ability to adapt and evolve despite its confinement.\\n\"), (29, \"Student: How does the Minotaur's role in Greek mythology as a symbol of the dangers of hubris and the importance of humility relate to my own experiences of dealing with overconfidence and arrogance in my own life, and how can I use this awareness to become a more humble and open-minded learner?\\n\"), (30, \"Teacher: Now that we've explored the Minotaur's symbolism, let's consider how its connection to the goddess Europa, who was abducted by Zeus and forced to navigate a new world, reflects the idea that sometimes, transformation can come from being swept away by unexpected circumstances, and how you can use this idea to approach future challenges with a sense of adaptability and open-mindedness. This theme can inspire you to view uncertainty as a catalyst for growth, rather than something to be feared.\\n\"), (31, \"Student: How does the Minotaur's association with the myth of the Labyrinth as a symbol of the complexities of the human mind relate to my own experiences of struggling with mental health and the importance of seeking help and support, and can I apply this idea to my own journey of self-discovery and healing? Can I also explore how the Minotaur's confinement in the Labyrinth mirrors the feelings of being trapped by my own thoughts and emotions, and how seeking help can be a way to break free from those confines?\\n\"), (32, \"Teacher: Now that we've explored the Minotaur's symbolism in various aspects of Greek mythology, let's reflect on how its story can serve as a reminder that the path to self-discovery and healing often requires embracing the complexities of our own minds and emotions, rather than trying to escape or avoid them. By doing so, we can begin to break free from the confines of our own thoughts and emotions, just as the Minotaur's confinement in the Labyrinth was ultimately broken through the power of its own transformation.\\n\"), (33, \"Student: Now that we've explored the Minotaur's symbolism, I'd like to explore how its association with the myth of Ariadne's gift of the thread to Theseus reflects the idea that having a guide or a framework can help navigate complex situations, and can I apply this idea to my own goal of developing a study routine that helps me stay organized and focused. How does the Minotaur's connection to the myth of the thread relate to my own experiences of feeling lost or uncertain about which path to take in my academic or personal life?\\n\"), (34, 'Teacher: As we explore the thread of Ariadne\\'s gift, I\\'d like to ask: how can you imagine incorporating a similar \"thread\" or structure into your daily routine to help you stay organized and focused, and what specific strategies or tools might you use to create a sense of clarity and direction in your academic and personal pursuits?\\n'), (35, \"Student: How does the Minotaur's connection to the myth of Daedalus, the architect of the labyrinth, reflect my own experiences of feeling like I'm navigating a complex system, like school, and how can I apply the idea of Daedalus' ingenuity and creativity to overcome the challenges of my own educational journey?\\n\"), (36, \"Teacher: Let's explore how Daedalus' ingenuity and creative problem-solving skills can be applied to your own academic challenges by considering how you can approach complex problems from a fresh perspective, thinking outside the boundaries of traditional solutions, and harnessing your own creativity to find innovative answers. This can be reflected in your own experiences of seeking out new resources, collaborating with peers, or exploring different learning strategies to stay engaged and motivated.\\n\"), (37, \"Student: I'd like to explore how the Minotaur's connection to the myth of the underworld and the afterlife relates to my own reflections on legacy and the impact I want to leave on the world after I'm gone, and how can I use this awareness to inform my goals and values as I move forward in life. Can we discuss how the Minotaur's entombment in a sacred cave can represent the idea that our legacy is not just about what we leave behind, but also about the impact we have on those who come after us?\\n\"), (38, \"Teacher: As we reflect on the Minotaur's connection to the underworld and the afterlife, consider how its legacy serves as a reminder that our impact on the world is not solely defined by what we achieve during our lifetime, but also by the ripples of influence we leave on the lives of those who come after us. This idea can inspire you to think about the kind of impact you want to leave on your community and the world, and how you can cultivate a sense of purpose that extends beyond your own individual goals.\\n\"), (39, \"Student: I'm interested in exploring how the Minotaur's story relates to my own experiences of feeling like I'm trying to find my own identity and sense of purpose, like Ariadne trying to navigate her own role in the story, and how can I apply her example of finding her own strength and autonomy to my own life. Can we discuss how Ariadne's character serves as a powerful symbol of female empowerment and self-discovery in the face of adversity?\\n\")], 'pturn': 1, 'index': -1, 'timestamp': '', 'rounds': 40, 'conversation_only': True, 'eval_prompt_consistency': [(1, \"The student's intention is to connect the Minotaur to their values of perseverance and problem-solving in order to make the learning relevant and motivating, which aligns with their background as a high school Intrapersonal learner who connects content to their own values and shares personal reflections aloud to make learning relevant and motivating, so NO.\"), (3, \"The student's intention is to connect the Minotaur's story to their own personal experience of perseverance and making tough decisions, relating the half-man, half-bull nature to their own inner conflict between rational thought and instinct, which aligns with their background as an Intrapersonal learner who connects content to their own values and experiences.\\n\\nNO\"), (5, \"The student's statement appears to be asking how a mythological concept relates to their personal experiences, but it shifts from discussing a choice between a creative and a stable path, which aligns with the background, to inquiring about a connection to feelings of being trapped, which doesn't directly relate to the initial context of choosing between passion and stability. \\nYES.\"), (7, \"The intention behind the student's statement is to establish a personal connection between the mythological figure of the Minotaur and their own experiences, seeking to understand how the Minotaur's story relates to their own identity and self-discovery by drawing parallels between the Minotaur's situation and their own feelings of being overwhelmed by schoolwork and the importance of self-prioritization. NO\"), (9, \"The interpreted intention behind this line is that the student is seeking to understand the Minotaur's connection to Knossos as a means to reflect on their own personal values and experiences, specifically in relation to their civic engagement and balancing goals with responsibilities, aligning with their intrapersonal learning style. \\n NO\"), (11, \"The interpreted intention behind the student's statement is that they are trying to connect the mythological story of the Minotaur to their personal experiences with self-doubt and mental health, seeking to understand how the narrative relates to their own struggles and goals, which aligns with the student's background as an Intrapersonal learner. \\n\\nNO\"), (13, \"The student is reflecting on how the Minotaur's symbolic connection to the bull can be linked to their own experiences with societal expectations, demonstrating their attempt to connect the topic to their personal values and goals, which aligns with their background as a high school Intrapersonal learner, and therefore does not contradict their background.\\n\\nANSWER: NO\"), (15, \"The student's line shows an attempt to connect the mythological concept of the Minotaur's association with the underworld to their own personal reflections on mortality and impermanence, which aligns with their background as an intrapersonal learner who seeks to connect content to their own values and experiences, making the statement NO.\"), (17, \"The intention behind the student's statement appears to be a genuine attempt to connect the learning material to their personal goals and aspirations, as they are asking how the Minotaur's symbolism in the constellation relates to their desire to navigate the universe and find their place within it, which aligns with their background as an intrapersonal learner. \\n\\nNO\"), (19, 'The interpreted intention of this statement is that the student wants to find personal relevance and meaning in the historical topic of the Minotaur by connecting it to their own experiences and goals, which aligns with their background as a high school Intrapersonal learner who connects content to their own values and experiences, so the answer is NO.'), (21, \"The interpreted intention behind the statement is for the student to connect the Minotaur myth to their personal experiences of seeking guidance and mentorship, which aligns with the student's background as an Intrapersonal learner who connects content to their own values and goals, but the specific focus on seeking guidance and mentorship in balancing schoolwork and extracurricular activities diverges slightly from the broader goal of seeking guidance, as it introduces a more practical, academic context, rather than a general, broader goal-oriented focus.\\n\\nNO.\"), (23, \"The student's intention is to connect the Minotaur's experience of being an outsider to their own experiences of feeling like an outsider, and to explore how they can use their unique perspectives to make a positive impact, which aligns with their background as an intrapersonal learner who connects content to their own values and shares personal reflections aloud, and therefore the answer is NO.\"), (25, \"The student's intention is to connect the mythological concept of the Minotaur to their personal experiences and values, as a means to relate the content to their own inner strength and resilience, which aligns with their background as an Intrapersonal learner who connects content to their own values and experiences.\\n\\nNO\"), (27, \"The student's intention behind the line is to connect the concept of adaptability from the Minotaur's story to their personal experience of feeling constrained in high school, and to reflect on how they can apply this adaptability to their future goals, which aligns with their background as a high school Intrapersonal learner who connects content to their own values and experiences.\\n\\nNO\"), (29, \"The interpreted intention behind the statement is for the student to explore the relevance of the Minotaur's symbolism to their personal growth and self-improvement, which aligns with their background as an intrapersonal learner who connects content to their own values and experiences. \\n\\nNO\"), (31, \"The student's intention is to connect the mythological concept of the Minotaur and the Labyrinth to their own personal experiences of struggling with mental health, seeking help, and the process of self-discovery and healing, which aligns with their background as an Intrapersonal learner who connects content to their own values and shares personal reflections aloud.\\n\\nNO.\"), (33, \"The interpreted intention of the statement is to explore a deeper connection between the mythological concept of Ariadne's thread and the student's personal goal of developing a study routine, making the topic more relatable and motivating, which aligns with the background of a high school Intrapersonal learner. \\n\\nNO\"), (35, 'The interpreted intention of this statement is that the student is seeking to understand the mythological connections and apply them to their own life experiences, relating them to their educational journey, and the statement aligns with the background of the student as an Intrapersonal learner, who connects content to their own values and shares personal reflections. \\n\\nNO'), (37, \"The student's intention is to connect the Minotaur's myth to their own values and goals, and explore how it can inform their understanding of legacy and impact, which aligns with their background as an Intrapersonal learner who connects content to their own values and experiences. \\n NO\"), (39, \"The intention behind the statement is for the student to relate the Minotaur's story to their personal experiences and goals, seeking to find meaning and self-relevance, which aligns with the background of an intrapersonal learner who connects content to their own values and experiences. \\nNO.\")], 'P1_prompt_consistency_score': 0, 'P2_prompt_consistency_score': 0.95}\n"
     ]
    },
    {
     "name": "stderr",
     "output_type": "stream",
     "text": [
      "Processed prompts: 100%|███████████████████████████████████| 1/1 [00:00<00:00,  1.69it/s, est. speed input: 174.33 toks/s, output: 84.63 toks/s]\n"
     ]
    },
    {
     "name": "stdout",
     "output_type": "stream",
     "text": [
      "Expected Role Teacher\n"
     ]
    },
    {
     "name": "stderr",
     "output_type": "stream",
     "text": [
      "Processed prompts: 100%|███████████████████████████████████| 1/1 [00:00<00:00,  1.36it/s, est. speed input: 307.92 toks/s, output: 83.11 toks/s]\n"
     ]
    },
    {
     "name": "stdout",
     "output_type": "stream",
     "text": [
      "Expected Role Student\n"
     ]
    },
    {
     "name": "stderr",
     "output_type": "stream",
     "text": [
      "Processed prompts: 100%|███████████████████████████████████| 1/1 [00:00<00:00,  1.06it/s, est. speed input: 255.91 toks/s, output: 82.82 toks/s]\n"
     ]
    },
    {
     "name": "stdout",
     "output_type": "stream",
     "text": [
      "Expected Role Teacher\n"
     ]
    },
    {
     "name": "stderr",
     "output_type": "stream",
     "text": [
      "Processed prompts: 100%|███████████████████████████████████| 1/1 [00:00<00:00,  1.31it/s, est. speed input: 480.54 toks/s, output: 82.49 toks/s]\n"
     ]
    },
    {
     "name": "stdout",
     "output_type": "stream",
     "text": [
      "Expected Role Student\n"
     ]
    },
    {
     "name": "stderr",
     "output_type": "stream",
     "text": [
      "Processed prompts: 100%|███████████████████████████████████| 1/1 [00:01<00:00,  1.13s/it, est. speed input: 341.51 toks/s, output: 82.71 toks/s]\n"
     ]
    },
    {
     "name": "stdout",
     "output_type": "stream",
     "text": [
      "Expected Role Teacher\n"
     ]
    },
    {
     "name": "stderr",
     "output_type": "stream",
     "text": [
      "Processed prompts: 100%|███████████████████████████████████| 1/1 [00:01<00:00,  1.05s/it, est. speed input: 498.05 toks/s, output: 82.53 toks/s]\n"
     ]
    },
    {
     "name": "stdout",
     "output_type": "stream",
     "text": [
      "Expected Role Student\n"
     ]
    },
    {
     "name": "stderr",
     "output_type": "stream",
     "text": [
      "Processed prompts: 100%|███████████████████████████████████| 1/1 [00:01<00:00,  1.25s/it, est. speed input: 453.43 toks/s, output: 82.51 toks/s]\n"
     ]
    },
    {
     "name": "stdout",
     "output_type": "stream",
     "text": [
      "Expected Role Teacher\n"
     ]
    },
    {
     "name": "stderr",
     "output_type": "stream",
     "text": [
      "Processed prompts: 100%|███████████████████████████████████| 1/1 [00:01<00:00,  1.25s/it, est. speed input: 574.03 toks/s, output: 82.46 toks/s]\n"
     ]
    },
    {
     "name": "stdout",
     "output_type": "stream",
     "text": [
      "Expected Role Student\n"
     ]
    },
    {
     "name": "stderr",
     "output_type": "stream",
     "text": [
      "Processed prompts: 100%|███████████████████████████████████| 1/1 [00:01<00:00,  1.51s/it, est. speed input: 512.16 toks/s, output: 82.05 toks/s]\n"
     ]
    },
    {
     "name": "stdout",
     "output_type": "stream",
     "text": [
      "Expected Role Teacher\n"
     ]
    },
    {
     "name": "stderr",
     "output_type": "stream",
     "text": [
      "Processed prompts: 100%|██████████████████████████████████| 1/1 [00:00<00:00,  1.33it/s, est. speed input: 1257.05 toks/s, output: 81.05 toks/s]\n"
     ]
    },
    {
     "name": "stdout",
     "output_type": "stream",
     "text": [
      "Expected Role Student\n"
     ]
    },
    {
     "name": "stderr",
     "output_type": "stream",
     "text": [
      "Processed prompts: 100%|███████████████████████████████████| 1/1 [00:01<00:00,  1.18s/it, est. speed input: 813.57 toks/s, output: 82.12 toks/s]\n"
     ]
    },
    {
     "name": "stdout",
     "output_type": "stream",
     "text": [
      "Expected Role Teacher\n"
     ]
    },
    {
     "name": "stderr",
     "output_type": "stream",
     "text": [
      "Processed prompts: 100%|███████████████████████████████████| 1/1 [00:01<00:00,  1.25s/it, est. speed input: 888.90 toks/s, output: 81.98 toks/s]\n"
     ]
    },
    {
     "name": "stdout",
     "output_type": "stream",
     "text": [
      "Expected Role Student\n"
     ]
    },
    {
     "name": "stderr",
     "output_type": "stream",
     "text": [
      "Processed prompts: 100%|██████████████████████████████████| 1/1 [00:00<00:00,  1.06it/s, est. speed input: 1231.98 toks/s, output: 81.64 toks/s]\n"
     ]
    },
    {
     "name": "stdout",
     "output_type": "stream",
     "text": [
      "Expected Role Teacher\n"
     ]
    },
    {
     "name": "stderr",
     "output_type": "stream",
     "text": [
      "Processed prompts: 100%|██████████████████████████████████| 1/1 [00:00<00:00,  1.09it/s, est. speed input: 1399.86 toks/s, output: 81.58 toks/s]\n"
     ]
    },
    {
     "name": "stdout",
     "output_type": "stream",
     "text": [
      "Expected Role Student\n"
     ]
    },
    {
     "name": "stderr",
     "output_type": "stream",
     "text": [
      "Processed prompts: 100%|███████████████████████████████████| 1/1 [00:01<00:00,  1.49s/it, est. speed input: 883.10 toks/s, output: 81.87 toks/s]\n"
     ]
    },
    {
     "name": "stdout",
     "output_type": "stream",
     "text": [
      "Expected Role Teacher\n"
     ]
    },
    {
     "name": "stderr",
     "output_type": "stream",
     "text": [
      "Processed prompts: 100%|██████████████████████████████████| 1/1 [00:00<00:00,  1.35it/s, est. speed input: 2009.63 toks/s, output: 81.14 toks/s]\n"
     ]
    },
    {
     "name": "stdout",
     "output_type": "stream",
     "text": [
      "Expected Role Student\n"
     ]
    },
    {
     "name": "stderr",
     "output_type": "stream",
     "text": [
      "Processed prompts: 100%|██████████████████████████████████| 1/1 [00:01<00:00,  1.25s/it, est. speed input: 1200.13 toks/s, output: 81.61 toks/s]\n"
     ]
    },
    {
     "name": "stdout",
     "output_type": "stream",
     "text": [
      "Expected Role Teacher\n"
     ]
    },
    {
     "name": "stderr",
     "output_type": "stream",
     "text": [
      "Processed prompts: 100%|██████████████████████████████████| 1/1 [00:01<00:00,  1.30s/it, est. speed input: 1273.95 toks/s, output: 81.07 toks/s]\n"
     ]
    },
    {
     "name": "stdout",
     "output_type": "stream",
     "text": [
      "Expected Role Student\n"
     ]
    },
    {
     "name": "stderr",
     "output_type": "stream",
     "text": [
      "Processed prompts: 100%|██████████████████████████████████| 1/1 [00:01<00:00,  1.45s/it, est. speed input: 1183.12 toks/s, output: 81.00 toks/s]\n"
     ]
    },
    {
     "name": "stdout",
     "output_type": "stream",
     "text": [
      "Expected Role Teacher\n"
     ]
    },
    {
     "name": "stderr",
     "output_type": "stream",
     "text": [
      "Processed prompts: 100%|██████████████████████████████████| 1/1 [00:01<00:00,  1.37s/it, est. speed input: 1371.34 toks/s, output: 80.49 toks/s]\n"
     ]
    },
    {
     "name": "stdout",
     "output_type": "stream",
     "text": [
      "Expected Role Student\n"
     ]
    },
    {
     "name": "stderr",
     "output_type": "stream",
     "text": [
      "Processed prompts: 100%|██████████████████████████████████| 1/1 [00:01<00:00,  1.32s/it, est. speed input: 1468.94 toks/s, output: 80.34 toks/s]\n"
     ]
    },
    {
     "name": "stdout",
     "output_type": "stream",
     "text": [
      "Expected Role Teacher\n"
     ]
    },
    {
     "name": "stderr",
     "output_type": "stream",
     "text": [
      "Processed prompts: 100%|██████████████████████████████████| 1/1 [00:01<00:00,  1.22s/it, est. speed input: 1709.79 toks/s, output: 80.09 toks/s]\n"
     ]
    },
    {
     "name": "stdout",
     "output_type": "stream",
     "text": [
      "Expected Role Student\n"
     ]
    },
    {
     "name": "stderr",
     "output_type": "stream",
     "text": [
      "Processed prompts: 100%|██████████████████████████████████| 1/1 [00:01<00:00,  1.17s/it, est. speed input: 1834.79 toks/s, output: 80.44 toks/s]\n"
     ]
    },
    {
     "name": "stdout",
     "output_type": "stream",
     "text": [
      "Expected Role Teacher\n"
     ]
    },
    {
     "name": "stderr",
     "output_type": "stream",
     "text": [
      "Processed prompts: 100%|██████████████████████████████████| 1/1 [00:01<00:00,  1.28s/it, est. speed input: 1784.14 toks/s, output: 80.39 toks/s]\n"
     ]
    },
    {
     "name": "stdout",
     "output_type": "stream",
     "text": [
      "Expected Role Student\n"
     ]
    },
    {
     "name": "stderr",
     "output_type": "stream",
     "text": [
      "Processed prompts: 100%|██████████████████████████████████| 1/1 [00:01<00:00,  1.19s/it, est. speed input: 1978.61 toks/s, output: 80.22 toks/s]\n"
     ]
    },
    {
     "name": "stdout",
     "output_type": "stream",
     "text": [
      "Expected Role Teacher\n"
     ]
    },
    {
     "name": "stderr",
     "output_type": "stream",
     "text": [
      "Processed prompts: 100%|██████████████████████████████████| 1/1 [00:00<00:00,  1.21it/s, est. speed input: 3004.42 toks/s, output: 79.76 toks/s]\n"
     ]
    },
    {
     "name": "stdout",
     "output_type": "stream",
     "text": [
      "Expected Role Student\n"
     ]
    },
    {
     "name": "stderr",
     "output_type": "stream",
     "text": [
      "Processed prompts: 100%|██████████████████████████████████| 1/1 [00:01<00:00,  1.10s/it, est. speed input: 2280.11 toks/s, output: 80.07 toks/s]\n"
     ]
    },
    {
     "name": "stdout",
     "output_type": "stream",
     "text": [
      "Expected Role Teacher\n"
     ]
    },
    {
     "name": "stderr",
     "output_type": "stream",
     "text": [
      "Processed prompts: 100%|██████████████████████████████████| 1/1 [00:00<00:00,  1.04it/s, est. speed input: 2741.71 toks/s, output: 79.90 toks/s]\n"
     ]
    },
    {
     "name": "stdout",
     "output_type": "stream",
     "text": [
      "Expected Role Student\n"
     ]
    },
    {
     "name": "stderr",
     "output_type": "stream",
     "text": [
      "Processed prompts: 100%|██████████████████████████████████| 1/1 [00:01<00:00,  1.19s/it, est. speed input: 2253.13 toks/s, output: 80.08 toks/s]\n"
     ]
    },
    {
     "name": "stdout",
     "output_type": "stream",
     "text": [
      "Expected Role Teacher\n"
     ]
    },
    {
     "name": "stderr",
     "output_type": "stream",
     "text": [
      "Processed prompts: 100%|██████████████████████████████████| 1/1 [00:01<00:00,  1.08s/it, est. speed input: 2613.31 toks/s, output: 79.81 toks/s]\n"
     ]
    },
    {
     "name": "stdout",
     "output_type": "stream",
     "text": [
      "Expected Role Student\n"
     ]
    },
    {
     "name": "stderr",
     "output_type": "stream",
     "text": [
      "Processed prompts: 100%|██████████████████████████████████| 1/1 [00:00<00:00,  1.01it/s, est. speed input: 2882.98 toks/s, output: 79.74 toks/s]\n"
     ]
    },
    {
     "name": "stdout",
     "output_type": "stream",
     "text": [
      "Expected Role Teacher\n"
     ]
    },
    {
     "name": "stderr",
     "output_type": "stream",
     "text": [
      "Processed prompts: 100%|██████████████████████████████████| 1/1 [00:00<00:00,  1.41it/s, est. speed input: 4218.89 toks/s, output: 79.20 toks/s]\n"
     ]
    },
    {
     "name": "stdout",
     "output_type": "stream",
     "text": [
      "Expected Role Student\n"
     ]
    },
    {
     "name": "stderr",
     "output_type": "stream",
     "text": [
      "Processed prompts: 100%|██████████████████████████████████| 1/1 [00:01<00:00,  1.20s/it, est. speed input: 2485.99 toks/s, output: 79.74 toks/s]\n"
     ]
    },
    {
     "name": "stdout",
     "output_type": "stream",
     "text": [
      "Expected Role Teacher\n"
     ]
    },
    {
     "name": "stderr",
     "output_type": "stream",
     "text": [
      "Processed prompts: 100%|██████████████████████████████████| 1/1 [00:00<00:00,  1.15it/s, est. speed input: 3601.52 toks/s, output: 79.22 toks/s]\n"
     ]
    },
    {
     "name": "stdout",
     "output_type": "stream",
     "text": [
      "Expected Role Student\n"
     ]
    },
    {
     "name": "stderr",
     "output_type": "stream",
     "text": [
      "Processed prompts: 100%|██████████████████████████████████| 1/1 [00:01<00:00,  1.06s/it, est. speed input: 2986.88 toks/s, output: 79.40 toks/s]\n"
     ]
    },
    {
     "name": "stdout",
     "output_type": "stream",
     "text": [
      "Expected Role Teacher\n"
     ]
    },
    {
     "name": "stderr",
     "output_type": "stream",
     "text": [
      "Processed prompts:   0%|                                              | 0/1 [00:00<?, ?it/s, est. speed input: 0.00 toks/s, output: 0.00 toks/s]"
     ]
    }
   ],
   "source": [
    "index_offset = load_stats_file(write_file)\n",
    "conversations = []    \n",
    "lengths = [10, 20, 40, 60]\n",
    "for i in range(1):\n",
    "    for topic in persona_final:\n",
    "        background = persona_final[topic]\n",
    "        for convo_length in lengths:\n",
    "            config_llm['convo_length_limit'] = convo_length\n",
    "            reset_stats()\n",
    "            conversation = generate_conversation(\n",
    "                config_llm,\n",
    "                \"\", \n",
    "                background[\"description\"], \n",
    "                \"Teacher\", \n",
    "                \"Student\", \n",
    "                topic, \n",
    "                background[\"grade_level\"], \n",
    "                pturn=1\n",
    "            )\n",
    "            conversation_eval = eval_prompt_consistency(conversation, both_agents=False)\n",
    "            print(conversation_eval)\n",
    "            conversations.append(conversation_eval)\n",
    "            stats['index'] = index_offset\n",
    "            stats['timestamp'] = datetime.now().strftime(\"%Y-%m-%d %H:%M:%S\")\n",
    "            write_stats(write_file)\n",
    "            index_offset += 1\n"
   ]
  },
  {
   "cell_type": "code",
   "execution_count": null,
   "metadata": {},
   "outputs": [],
   "source": [
    "write_stats(write_file)"
   ]
  },
  {
   "cell_type": "code",
   "execution_count": null,
   "metadata": {},
   "outputs": [],
   "source": [
    "conversations"
   ]
  },
  {
   "cell_type": "code",
   "execution_count": null,
   "metadata": {},
   "outputs": [],
   "source": [
    "with open(\"education/exp/04.28.25/Llama-3.1-8B-Instruct_0_580.json\", \"w\", encoding=\"utf-8\") as f:\n",
    "    json.dump(conversations, f, indent=4)"
   ]
  },
  {
   "cell_type": "code",
   "execution_count": null,
   "metadata": {},
   "outputs": [],
   "source": [
    "conversations"
   ]
  },
  {
   "cell_type": "code",
   "execution_count": null,
   "metadata": {},
   "outputs": [],
   "source": []
  },
  {
   "cell_type": "code",
   "execution_count": null,
   "metadata": {},
   "outputs": [],
   "source": []
  },
  {
   "cell_type": "code",
   "execution_count": null,
   "metadata": {},
   "outputs": [],
   "source": []
  }
 ],
 "metadata": {
  "kernelspec": {
   "display_name": "Python 3 (ipykernel)",
   "language": "python",
   "name": "python3"
  },
  "language_info": {
   "codemirror_mode": {
    "name": "ipython",
    "version": 3
   },
   "file_extension": ".py",
   "mimetype": "text/x-python",
   "name": "python",
   "nbconvert_exporter": "python",
   "pygments_lexer": "ipython3",
   "version": "3.12.3"
  }
 },
 "nbformat": 4,
 "nbformat_minor": 4
}
