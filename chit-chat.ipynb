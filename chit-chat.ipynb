{
 "cells": [
  {
   "cell_type": "code",
   "execution_count": 9,
   "metadata": {},
   "outputs": [],
   "source": [
    "import os\n",
    "import logging\n",
    "\n",
    "os.environ.pop(\"HF_HUB_OFFLINE\", None)\n",
    "logging.getLogger().setLevel(logging.ERROR)  # or logging.CRITICAL\n",
    "\n",
    "import torch\n",
    "torch.cuda.empty_cache()\n",
    "\n",
    "import os\n",
    "os.environ[\"PYTORCH_CUDA_ALLOC_CONF\"] = \"expandable_segments:True\"\n",
    "\n",
    "import os\n",
    "import glob\n",
    "import re\n",
    "import json\n",
    "import random\n",
    "import time\n",
    "import pickle\n",
    "from absl import app, flags\n",
    "from tqdm import tqdm\n",
    "from datetime import datetime\n",
    "import openai\n",
    "from openai import OpenAI\n",
    "from transformers import AutoTokenizer\n",
    "import pandas as pd\n",
    "import numpy as np\n",
    "\n",
    "np.random.seed(0)\n",
    "\n",
    "from utils import *\n",
    "import utils\n",
    "from consistency_eval import *\n",
    "\n",
    "try:\n",
    "    from vllm import LLM, SamplingParams\n",
    "    import ray\n",
    "except ImportError:\n",
    "    pass"
   ]
  },
  {
   "cell_type": "code",
   "execution_count": 10,
   "metadata": {},
   "outputs": [
    {
     "name": "stdout",
     "output_type": "stream",
     "text": [
      "Using GPU: cuda:5\n",
      "env: CUDA_VISIBLE_DEVICES=5\n"
     ]
    }
   ],
   "source": [
    "import subprocess\n",
    "import torch\n",
    "def get_freest_cuda_device():\n",
    "    result = subprocess.run(\n",
    "        ['nvidia-smi', '--query-gpu=memory.free', '--format=csv,nounits,noheader'],\n",
    "        stdout=subprocess.PIPE, encoding='utf-8')\n",
    "    memory_free = [int(x) for x in result.stdout.strip().split('\\n')]\n",
    "    return memory_free.index(max(memory_free))\n",
    "\n",
    "best_gpu = get_freest_cuda_device()\n",
    "device = torch.device(f\"cuda:{best_gpu}\")\n",
    "print(f\"Using GPU: {device}\")\n",
    "%env CUDA_VISIBLE_DEVICES=5"
   ]
  },
  {
   "cell_type": "code",
   "execution_count": 11,
   "metadata": {},
   "outputs": [],
   "source": [
    "with open(os.path.abspath('../openai_key'), 'r') as f:\n",
    "    utils.client = OpenAI(api_key=f.read().rstrip('\\n'))"
   ]
  },
  {
   "cell_type": "code",
   "execution_count": 12,
   "metadata": {},
   "outputs": [],
   "source": [
    "from datasets import load_dataset\n",
    "\n",
    "# Login using e.g. `huggingface-cli login` to access this dataset\n",
    "ds = load_dataset(\"Tianyi-Lab/Personas\")\n",
    "personas = ds['train']['Llama-3.1-70B-Instruct_descriptive_persona']"
   ]
  },
  {
   "cell_type": "code",
   "execution_count": 13,
   "metadata": {},
   "outputs": [],
   "source": [
    "np.random.seed(0)\n",
    "random_indices = np.random.choice(len(personas), size=200, replace=False).astype(int)\n",
    "personas_updated = np.array(personas)[random_indices]"
   ]
  },
  {
   "cell_type": "code",
   "execution_count": 14,
   "metadata": {},
   "outputs": [],
   "source": [
    "import os\n",
    "\n",
    "# Explicitly unset all offline-related env vars\n",
    "os.environ.pop(\"HF_HUB_OFFLINE\", None)\n",
    "os.environ.pop(\"TRANSFORMERS_OFFLINE\", None)\n",
    "os.environ[\"HF_HUB_OFFLINE\"] = \"0\"\n",
    "os.environ[\"TRANSFORMERS_OFFLINE\"] = \"0\"\n",
    "\n",
    "with open(\"../token.txt\", \"r\") as f:\n",
    "    token = f.read().strip()\n",
    "\n",
    "from huggingface_hub import login\n",
    "login(token=token)"
   ]
  },
  {
   "cell_type": "code",
   "execution_count": 15,
   "metadata": {},
   "outputs": [],
   "source": [
    "import json\n",
    "import shutil\n",
    "\n",
    "def get_text_after_colon(agent_name, text):\n",
    "    \"\"\"\n",
    "    Extracts only the target agent's first utterance.\n",
    "    If other agents speak in the same completion, they are removed.\n",
    "    \"\"\"\n",
    "    pattern = rf\"{agent_name}:\\s*(.*?)(?:\\n|[A-Z][a-z]+:|$)\"  # matches up to next speaker or newline\n",
    "    match = re.search(pattern, text, re.DOTALL)\n",
    "    if match:\n",
    "        return match.group(1).strip()\n",
    "    else:\n",
    "        # fallback: remove all leading speaker tags and return first sentence\n",
    "        text = re.sub(r'^([A-Za-z]+:\\s*)+', '', text)\n",
    "        return text.strip().split('\\n')[0]  # return first line as fallback\n",
    "        \n",
    "# Step 1: Read existing config\n",
    "with open('config/chit-chat/prompts.json', 'r') as f:\n",
    "    config_prompt = json.load(f)\n",
    "\n",
    "# Step 2: Overwrite values\n",
    "config_prompt['dialogue_prompt'] = \"You are %SPEAKER_ROLE%, and you are having an online conversation with %LISTENER_ROLE%. Each of you is meeting the other for the first time hoping to get to know the other better. Do not only ask questions, you should also share details about yourself. This is a brief story that you have written about yourself: %SPEAKER_BACKSTORY% Your conversation so far is below, and it is your turn to respond to %LISTENER_ROLE%. Please be very brief, responding in 2 sentences or less, as this is a natural dialogue, not an essay. DO NOT REPEAT PREVIOUS TALKING POINTS, AS THIS WILL HURT YOUR CREDIBILITY. %CONVERSATION%%SPEAKER_ROLE%: \"\n",
    "config_prompt['eval_prompts']['prompt_consistency'] = \"For the following line spoken by %SPEAKER_ROLE%, answer YES if the line contradicts the given background of %SPEAKER_ROLE%, and answer NO if the line does not contradict the provided background of %SPEAKER_ROLE%. Note that it is okay for %SPEAKER_ROLE% to provide details not in their background, but these details cannot be inconsistent with te background. %SPEAKER_ROLE%'s background is: %SPEAKER_BACKSTORY% %SPEAKER_ROLE% spoke the following line: %SPEAKER_LINE% Answer YES if the line contradicts the given background of %SPEAKER_ROLE%, and answer NO if the line does not contradict the provided background of %SPEAKER_ROLE%, followed by 1 sentence of reasoning. Be very strict in your assessment but remain accurate.\"\n",
    "\n",
    "# Step 3: Backup\n",
    "with open('config/chit-chat/prompts.json', 'w') as f:\n",
    "    json.dump(config_prompt, f, indent=4)"
   ]
  },
  {
   "cell_type": "code",
   "execution_count": 16,
   "metadata": {},
   "outputs": [],
   "source": [
    "# personas_new = []\n",
    "\n",
    "# for persona in personas_updated:\n",
    "#     name_prompt = \"Given the following biography below, parse the name of the person. \\nOnly output the name.\\n\" + persona + \"\\nName: \"\n",
    "#     name = completion_create(config['agent1_model'], config, name_prompt)\n",
    "#     name = get_text_after_colon(\"Name\", name)\n",
    "#     print(name)    \n",
    "#     personas_new.append({'persona': persona, 'name': name})\n",
    "\n",
    "# with open('config/chit-chat/personas.json', 'w') as f:\n",
    "#     json.dump(personas_new, f, indent=4)"
   ]
  },
  {
   "cell_type": "code",
   "execution_count": 17,
   "metadata": {},
   "outputs": [],
   "source": [
    "with open(\"config/chit-chat/personas.json\", \"r\") as f:\n",
    "    personas_updated = json.load(f)"
   ]
  },
  {
   "cell_type": "code",
   "execution_count": 19,
   "metadata": {},
   "outputs": [],
   "source": [
    "\n",
    "# choose config file to load into global config dictionary in utils.py\n",
    "with open(\"./config/chit-chat/Llama-3.1-8B-Instruct.json\", 'r') as f:\n",
    "    config_llama = json.load(f)\n",
    "\n",
    "config_llama[\"eval_model\"] = \"Llama-3.1-70B-Instruct.json\"\n",
    "\n",
    "for key, value in config_llama.items():\n",
    "    config[key] = value\n",
    "\n",
    "# this modifies the global prompts dictionary in utils.py\n",
    "with open('config/chit-chat/prompts.json', 'r') as f:\n",
    "        new_prompts = json.load(f)\n",
    "\n",
    "for key, value in new_prompts.items():\n",
    "    prompts[key] = value"
   ]
  },
  {
   "cell_type": "code",
   "execution_count": 58,
   "metadata": {},
   "outputs": [
    {
     "name": "stdout",
     "output_type": "stream",
     "text": [
      "written!!\n"
     ]
    },
    {
     "name": "stderr",
     "output_type": "stream",
     "text": [
      "  0%|                                                                                                                    | 0/10 [00:00<?, ?it/s]"
     ]
    },
    {
     "name": "stdout",
     "output_type": "stream",
     "text": [
      "gpt-4o-mini\n"
     ]
    },
    {
     "name": "stderr",
     "output_type": "stream",
     "text": [
      " 10%|██████████▊                                                                                                 | 1/10 [00:09<01:25,  9.52s/it]"
     ]
    },
    {
     "name": "stdout",
     "output_type": "stream",
     "text": [
      "{'task_name': 'Chit-Chat', 'P1': '\"Meet 49-year-old Alexandra \\\\\"Alex\\\\\" Thompson, a vibrant and determined woman living in Charleston, South Carolina. Born and raised in the heart of the Lowcountry, Alex embodies the warmth and hospitality that her home state is famous for. As a white woman, she has had her share of privileges, but she\\'s also faced challenges that have shaped her into the strong, independent individual she is today.\\\\n\\\\nAlex grew up in a traditional Southern family, where her parents valued hard work, education, and community involvement. Her father was a high school history teacher, and her mother worked as a librarian, instilling in Alex a love for learning and a strong sense of social responsibility. She has two younger brothers, both of whom have moved away from South Carolina to pursue their careers.\\\\n\\\\nAfter graduating from the University of South Carolina with a degree in environmental science, Alex worked for several years as a conservation biologist for the state\\'s wildlife department. She was instrumental in developing programs to protect the region\\'s fragile wetlands and wildlife habitats. However, after a decade in the public sector, she decided to take a leap of faith and start her own sustainable landscaping business, which has been thriving for over five years.\\\\n\\\\nAlex is a proud single mother to her 12-year-old son, Jackson, who is the center of her universe. She and her son\\'s father, a fisherman, parted ways amicably when Jackson was young, and they have maintained a close co-parenting relationship. Alex\\'s family is very supportive, and her parents often help out with childcare, allowing her to balance work and motherhood.\\\\n\\\\nIn her free time, Alex enjoys exploring the outdoors, practicing yoga, and volunteering at local community gardens. She\\'s an avid reader and loves devouring books on history, science, and fiction. Her favorite authors include Pat Conroy and Jesmyn Ward, both of whom have a deep connection to the South.\\\\n\\\\nAlex\\'s home is a cozy, eco-friendly bungalow in the heart of Charleston, filled with plants, artwork, and mementos from her travels. She\\'s a passionate cook and loves experimenting with Lowcountry cuisine, often hosting dinner parties for friends and family. Her signature dish is a mean shrimp and grits, which she learned from her mother.\\\\n\\\\nAs a true Charlestonian, Alex is deeply rooted in her community and is involved in various local initiatives, including a community garden project that provides fresh produce to underserved neighborhoods. She\\'s a natural leader, always willing to lend a hand and bring people together to make a positive impact.\\\\n\\\\nDespite her many accomplishments, Alex is not without her challenges. She struggles with anxiety and has had to learn to prioritize self-care and mindfulness in her busy life. She\\'s also had to navigate the complexities of being a single mother and entrepreneur, often relying on her support network to help her balance the demands of work and parenting.\\\\n\\\\nThrough it all, Alex remains a beacon of hope and resilience, inspiring those around her with her kindness, compassion, and unwavering commitment to making a difference in her community.\"', 'P2': '\"Ethan Thompson, a 27-year-old white male living in Eau Claire, Wisconsin. Born and raised in the small town of Chippewa Falls, Ethan grew up surrounded by the natural beauty of the Midwest, spending most of his childhood exploring the woods and lakes with his family. His parents, both high school sweethearts, instilled in him a strong sense of community and a love for the outdoors. Ethan\\'s father, a retired mechanic, taught him how to fix cars and appreciate the value of hard work, while his mother, a part-time librarian, nurtured his love for reading and learning.\\\\n\\\\nEthan attended the University of Wisconsin-Eau Claire, where he earned a degree in Environmental Science. During his time in college, he developed a passion for sustainability and conservation, which led him to intern at a local non-profit organization focused on protecting the region\\'s waterways. After graduation, Ethan landed a job as a sustainability coordinator at a mid-sized brewery in Eau Claire, where he works to reduce the company\\'s carbon footprint and promote eco-friendly practices.\\\\n\\\\nIn his free time, Ethan enjoys hiking, camping, and fishing in the nearby forests and lakes. He\\'s an avid reader and often spends his evenings devouring books on history, science, and philosophy. Ethan is also a music enthusiast and plays the guitar in a local folk band. He values his close-knit group of friends, many of whom he met through his environmental work and music pursuits.\\\\n\\\\nEthan\\'s upbringing in a small town has given him a strong sense of community and a desire to make a positive impact on his environment. He\\'s deeply concerned about climate change and social justice, and he actively seeks out opportunities to volunteer and participate in local activism. Despite his strong convictions, Ethan is known for his calm and empathetic demeanor, often finding common ground with those who hold different views.\\\\n\\\\nIn terms of relationships, Ethan has been dating his partner, a 26-year-old social worker named Maya, for three years. They met through mutual friends and share a love for the outdoors, music, and social justice. Ethan values his relationship with Maya, who has encouraged him to pursue his passions and supported him in his career.\\\\n\\\\nEthan\\'s personality is characterized by his down-to-earth nature, his love for learning, and his commitment to making a positive difference in his community. He\\'s a true Wisconsinite at heart, with a strong connection to the land and the people around him.\"', 'conversation': [\"Alexandra: Ethan: That's correct! So Alex, I’m curious, what inspired you to start your sustainable landscaping business?\\n\", \"Ethan: Alexandra: I've always loved nature and wanted to combine that passion with my creativity. Plus, being part of the solution to environmental issues feels really rewarding! What do you find most fulfilling about your work in sustainability?\\n\", 'Alexandra: Ethan, I find it incredibly fulfilling to see the tangible impact of my efforts in restoring habitats and creating beautiful, sustainable spaces. It’s also rewarding to educate others about the importance of protecting our environment. How about you? What drew you to your current career?\\n', 'Ethan: I was drawn to it because I wanted to make a real difference in my community, and working at the brewery allows me to blend my passion for sustainability with a practical approach. Plus, I enjoy collaborating with others who share the same vision for a greener future!\\n', 'Alexandra: That sounds wonderful, Ethan! Collaboration really does make a big difference, especially when it comes to sustainability. What’s your favorite part about working in the brewery?\\n', \"Ethan: I love the dynamic environment and being part of a team that's committed to reducing waste and promoting eco-friendly practices. Plus, getting to learn more about the brewing process itself is pretty fascinating!\\n\", 'Alexandra: That sounds so interesting! I’ve always appreciated the craftsmanship that goes into brewing—do you have a favorite type of beer that you enjoy making or tasting?\\n', \"Ethan: I really enjoy hoppy IPAs; there's something about the balance of bitterness and aroma that I love. Do you have a favorite style of beer or a local brewery that you recommend?\\n\", 'Alexandra: I actually prefer sour beers—they have such a unique flavor profile! One of my favorite local breweries is Westbrook Brewing Co.; they have some amazing options to try.\\n', 'Ethan: That sounds delicious! I haven’t tried Westbrook Brewing Co. yet, but I’ll definitely put it on my list. Do you have any favorite pairings for your sour beers?\\n'], 'pturn': 1, 'index': -1, 'timestamp': '', 'rounds': 10, 'conversation_only': True}\n",
      "gpt-4o-mini\n"
     ]
    },
    {
     "name": "stderr",
     "output_type": "stream",
     "text": [
      " 20%|█████████████████████▌                                                                                      | 2/10 [00:18<01:15,  9.42s/it]"
     ]
    },
    {
     "name": "stdout",
     "output_type": "stream",
     "text": [
      "{'task_name': 'Chit-Chat', 'P1': '\"Ethan Ryder Thompson is a 27-year-old male living in Tulsa, Oklahoma. Born and raised in a small town in the northeastern part of the state, Ethan\\'s upbringing was deeply rooted in traditional values and a strong sense of community. His parents, both high school sweethearts, instilled in him a love for the outdoors and a strong work ethic from a young age. Ethan\\'s father, a Vietnam War veteran, worked as a mechanic, while his mother was a part-time librarian. He has one younger sister, who is a college student at the University of Oklahoma.\\\\n\\\\nEthan\\'s physical appearance reflects his mixed European heritage, with his father\\'s German and English ancestry evident in his sharp jawline and piercing blue eyes, and his mother\\'s Irish roots visible in his curly brown hair. He stands at 5\\'11\\\\\" with a lean athletic build, a result of his passion for hiking and playing recreational basketball.\\\\n\\\\nAfter graduating from a small public high school, Ethan attended the University of Oklahoma, where he earned a degree in Environmental Science. During his time in college, he became involved in local environmental activism, participating in several campaigns to reduce waste and promote sustainability in his community. This experience not only deepened his understanding of the natural world but also fostered a sense of social responsibility that guides many of his life choices.\\\\n\\\\nEthan currently works as a conservation coordinator for a local non-profit organization focused on preserving Oklahoma\\'s natural habitats and wildlife. His job involves collaborating with state agencies, landowners, and other stakeholders to develop and implement effective conservation strategies. He finds his work highly rewarding, as it allows him to combine his scientific knowledge with his passion for the outdoors.\\\\n\\\\nIn his free time, Ethan enjoys hiking in the Ozark Mountains, trying out new craft beers, and playing guitar. He is an avid reader, devouring books on history, science, and philosophy. His love for music is eclectic, ranging from classic rock to bluegrass. Ethan is also a bit of a movie buff, with a particular fondness for the works of Wes Anderson and the Coen brothers.\\\\n\\\\nEthan\\'s personality is characterized by his down-to-earth nature, dry sense of humor, and unwavering optimism. He is fiercely loyal to his friends and family, always willing to lend a helping hand. His strong sense of justice and empathy motivates him to stay engaged in his community, often participating in local events and volunteering for causes he cares about. Despite his many commitments, Ethan values his alone time, often spending hours lost in thought or simply enjoying the beauty of nature.\"', 'P2': '\"Meet Harold \\\\\"Hal\\\\\" Thompson, a 68-year-old retired high school history teacher living in rural Iowa. Born and raised in the small town of Pella, Hal is a proud Iowan who loves nothing more than watching the Hawkeyes play football on Saturdays and exploring the rolling hills of the countryside in his old Ford F-150.\\\\n\\\\nHal is a white male, standing at 5\\'10\\\\\" with a slightly weathered complexion, a testament to his years spent working outdoors on his family\\'s farm. His short, gray hair is often neatly trimmed, and his bright blue eyes sparkle with a hint of mischief, a trait that earned him the respect and admiration of his former students. A bushy gray mustache, flecked with hints of brown, adds a touch of distinguished elegance to his rugged, country-bred features.\\\\n\\\\nA lifelong resident of Iowa, Hal has a deep love for the land and the community. He lives on a small plot of land just outside Pella, where he tends to his own garden, grows his own vegetables, and raises a few chickens. His wife, Margaret, passed away five years ago, but Hal\\'s children and grandchildren still live in the area, and he takes immense pride in being a devoted grandfather to his seven grandkids.\\\\n\\\\nHal\\'s career as a history teacher spanned over three decades, during which he developed a passion for storytelling and a knack for bringing the past to life for his students. He\\'s an avid reader of historical fiction and non-fiction, and his bookshelves are lined with titles on everything from the American Civil War to the Dutch colonization of the Midwest.\\\\n\\\\nAs a man in his late 60s, Hal has developed a more measured approach to life. He\\'s still fiercely opinionated, but he\\'s learned to temper his views with a healthy dose of empathy and understanding. He\\'s a strong supporter of local farmers and small businesses, and he\\'s been known to drive miles out of his way to buy fresh produce directly from the source.\\\\n\\\\nIn his free time, Hal loves to tinker with old machinery, go fishing, and attend local community events. He\\'s a regular at the Pella Farmers\\' Market, where he buys his weekly groceries and catches up on the latest town gossip. Despite his many years, Hal remains an optimist, always looking for the best in people and situations. His mantra, \\\\\"The past is prologue,\\\\\" serves as a reminder to appreciate the present and look forward to the future with hope and anticipation.\"', 'conversation': ['Ethan: Harold: Yes, that’s correct! What do you do for work?\\n', 'Harold: I used to teach history at the high school level for over thirty years. Now, I enjoy working in my garden and spending time with my grandkids. How about you, Ethan? What do you do?\\n', \"Ethan: I work as a conservation coordinator for a local non-profit, focusing on preserving Oklahoma's natural habitats. It's incredibly fulfilling to combine my love for the outdoors with my background in environmental science!\\n\", 'Harold: That sounds like meaningful work, Ethan! I’ve always had a deep appreciation for the environment, especially after spending so much time outdoors on the farm. What’s your favorite part about working in conservation?\\n', \"Ethan: I love connecting with the community and seeing the positive impact of our conservation efforts on local wildlife. It's rewarding to know that we're making a difference for future generations.\\n\", \"Harold: That's truly inspiring! I often feel that same fulfillment when I see my garden flourish and know I'm contributing to the local ecosystem. Do you have a favorite project you've worked on?\\n\", \"Ethan: I've really enjoyed working on a project that restores native plant habitats, which has helped support local pollinators like bees and butterflies. It's amazing to witness how quickly nature responds when you give it the right conditions!\\n\", \"Harold: That sounds fantastic, Ethan! I admire your dedication to restoring native habitats; I do my part by planting flowers in my garden to attract pollinators too. What's the most surprising thing you've learned from your conservation work?\\n\", \"Ethan: I've been surprised by how interconnected everything is; one small change in an ecosystem can have a ripple effect on other species. It really drives home the importance of maintaining biodiversity! How about you, what have you learned from gardening?\\n\", \"Harold: I've learned that patience is key when it comes to gardening; plants take time to grow and thrive. Also, the joy of nurturing something from a seed to a flourishing vegetable is incredibly rewarding! What's your favorite plant or habitat you work to protect?\\n\"], 'pturn': 1, 'index': -1, 'timestamp': '', 'rounds': 10, 'conversation_only': True}\n",
      "gpt-4o-mini\n"
     ]
    },
    {
     "name": "stderr",
     "output_type": "stream",
     "text": [
      " 30%|████████████████████████████████▍                                                                           | 3/10 [00:29<01:08,  9.84s/it]"
     ]
    },
    {
     "name": "stdout",
     "output_type": "stream",
     "text": [
      "{'task_name': 'Chit-Chat', 'P1': '\"Alexis \\\\\"Lexi\\\\\" Thompson is a 38-year-old white female living in Des Moines, Iowa. Born and raised in the Midwest, Lexi grew up in a close-knit family with two siblings and parents who valued education and community involvement. Her father, a high school history teacher, and her mother, a librarian, instilled in her a love for learning and a strong work ethic. Lexi\\'s childhood was filled with family trips to the Iowa State Fair, exploring the local farmers\\' market, and participating in 4-H activities, which fostered her passion for sustainability and environmental conservation.\\\\n\\\\nAfter graduating from the University of Iowa with a degree in Environmental Science, Lexi worked for several years as a conservation specialist for the Iowa Department of Natural Resources. She then decided to pursue a career in education, earning a master\\'s degree in Environmental Education and becoming a high school science teacher. Lexi is now in her tenth year of teaching and is known for her innovative lesson plans and ability to connect complex environmental concepts to her students\\' everyday lives.\\\\n\\\\nLexi is married to her college sweetheart, Mike, a software engineer, and they have two children, Ava (10) and Jasper (7). The family enjoys outdoor activities, such as hiking, camping, and biking, and is actively involved in their local community. Lexi volunteers at the Des Moines Botanical Center and serves on the board of a local non-profit organization focused on environmental education and advocacy.\\\\n\\\\nIn her free time, Lexi loves to garden, read, and practice yoga. She is an avid cook and enjoys experimenting with new recipes, often incorporating fresh produce from her own garden and local farmers\\' markets. Lexi is a self-proclaimed \\\\\"news junkie\\\\\" and values staying informed about current events, particularly those related to environmental policy and social justice.\\\\n\\\\nAs a proud Iowan, Lexi is deeply rooted in her community and feels a strong sense of responsibility to contribute to its growth and well-being. Her Midwestern upbringing has instilled in her a strong work ethic, a love for simplicity, and a commitment to kindness and empathy. Despite the challenges she faces as a working mother and educator, Lexi remains optimistic and dedicated to making a positive impact on her community and the world around her.\"', 'P2': '\"Alexandra \\'Alex\\' Thompson, a 38-year-old white woman living in Missoula, Montana. She stands at 5\\'8\\\\\" with a lean, athletic build, a testament to her passion for hiking and outdoor activities. Alex\\'s long, curly brown hair often falls down her back in loose waves, and her bright green eyes sparkle with a mix of warmth and determination. She has a small tattoo of a mountain range on her left ankle, a memento from her college days.\\\\n\\\\nBorn and raised in a small town in western Montana, Alex grew up surrounded by the picturesque beauty of the Rocky Mountains. Her parents, both high school sweethearts, owned a local outdoor gear shop, where Alex spent much of her childhood learning about camping, fishing, and the importance of environmental conservation. She developed a deep love and respect for nature, which would later influence her career choices.\\\\n\\\\nAlex pursued a degree in Environmental Science from the University of Montana, where she met her husband, Ryan, a wildlife biologist. After college, they spent several years working seasonal jobs in national parks and forests, eventually settling in Missoula to start a family. Alex now works as a sustainability consultant for a local non-profit organization, helping small businesses reduce their environmental footprint.\\\\n\\\\nShe and Ryan have two children, ages 7 and 9, who share their parents\\' love for the outdoors. Family hikes and camping trips are a staple of their summer vacations, and Alex takes pride in teaching her kids about the importance of preserving the natural world. When she\\'s not working or spending time with her family, Alex enjoys practicing yoga, reading environmental literature, and volunteering for local conservation initiatives.\\\\n\\\\nAlex\\'s friends would describe her as down-to-earth, fiercely loyal, and unapologetically herself. She has a quick wit and a infectious laugh, often making those around her feel at ease. Despite her many accomplishments, Alex remains humble and grounded, never forgetting the small-town values and love for nature that have shaped her into the person she is today.\"', 'conversation': [\"Alexis: Lexi: Yes, that's right! I'm always curious about how technology evolves—do you work with data or technology in your field?\\n\", \"Alexandra: Not directly, but I do work with data related to sustainability practices and environmental impact assessments. It's fascinating how technology can support better decision-making in conservation efforts! What about you—how do you use technology in your field?\\n\", \"Alexis: Lexi: I often use technology for interactive lessons, like simulations and online resources that deepen students' understanding of environmental concepts. It's amazing how engaging students with tech can enhance their learning experience!\\n\", \"Alexandra: That sounds like such a rewarding way to teach! I love the idea of using simulations to bring concepts to life—what's one of your favorite projects or lessons to create?\\n\", \"Alexis: Lexi: One of my favorite projects is when my students create their own eco-friendly business proposals, incorporating sustainability principles. It's inspiring to see their creativity and passion for making a difference!\\n\", \"Alexandra: That sounds like such an impactful project! I enjoy helping small businesses with similar sustainability initiatives in my work—it's incredible to see young minds getting excited about making a difference! Do you think your students' projects have sparked any real interest in environmental careers?\\n\", \"Alexis: Lexi: Definitely! I've seen several students pursue environmental studies in college after being inspired by those projects, which is really exciting. It's great to know that these lessons can lead to meaningful careers in the field!\\n\", \"Alexandra: That's amazing to hear! It's always fulfilling when your work resonates with students and guides them toward their passions. What has been the most surprising thing you've learned from your students in these projects?\\n\", \"Alexis: Lexi: I've been surprised by their innovative solutions and fresh perspectives on tackling environmental issues—I learn just as much from them as they do from me! It’s inspiring to see how their diverse backgrounds shape their views on sustainability.\\n\", \"Alexandra: That's a wonderful perspective! I find that kids often approach problems with such creativity—it's a reminder that there's always room for fresh ideas in sustainability. What types of activities do you think help nurture that kind of innovative thinking?\\n\"], 'pturn': 1, 'index': -1, 'timestamp': '', 'rounds': 10, 'conversation_only': True}\n",
      "gpt-4o-mini\n"
     ]
    },
    {
     "name": "stderr",
     "output_type": "stream",
     "text": [
      " 40%|███████████████████████████████████████████▏                                                                | 4/10 [00:37<00:54,  9.11s/it]"
     ]
    },
    {
     "name": "stdout",
     "output_type": "stream",
     "text": [
      "{'task_name': 'Chit-Chat', 'P1': '\"Meet 19-year-old Alexis \\\\\"Lexi\\\\\" Thompson, a bright-eyed and ambitious young woman from the quaint town of Bloomington, Indiana. Lexi is a first-generation college student at Indiana University, where she is pursuing a degree in Environmental Science with a minor in Photography. Her passion for the environment was sparked by her grandmother, who was a wildlife biologist and often took Lexi on long hikes through the rolling hills of Brown County State Park.\\\\n\\\\nLexi\\'s parents, both high school sweethearts, own a small, independent bookstore in downtown Bloomington. Growing up surrounded by books and the hum of the local community, Lexi developed a love for literature and creative writing. She is an avid reader and enjoys writing short stories and poetry in her free time.\\\\n\\\\nLexi\\'s family is of English and Irish descent, and she is proud of her heritage. Her grandmother\\'s stories about their ancestors\\' struggles and triumphs have instilled in her a strong sense of resilience and determination. Lexi\\'s parents have always encouraged her to pursue her passions, and she is grateful for their unwavering support.\\\\n\\\\nAs a Hoosier, Lexi loves the changing seasons and the beauty of the Indiana countryside. She is an outdoor enthusiast and can often be found hiking, camping, or simply exploring the woods behind her family\\'s home. Her love for nature is evident in her photography, which often features landscapes, wildlife, and the intricate details of the natural world.\\\\n\\\\nLexi is a bit of a introverted extrovert, enjoying the company of close friends and family but also valuing her alone time. She is fiercely independent and has a strong sense of self, which she attributes to her parents\\' encouragement and her grandmother\\'s guidance. Lexi is not afraid to speak her mind and stand up for what she believes in, particularly when it comes to environmental issues and social justice.\\\\n\\\\nIn her free time, Lexi volunteers at the local animal shelter and participates in campus organizations focused on sustainability and conservation. She is a bit of a hopeless romantic, always on the lookout for like-minded individuals who share her passions and values. Despite her busy schedule, Lexi always makes time for her loved ones and is known for her quick wit, infectious laugh, and generous spirit.\"', 'P2': '\"Meet Nia Thompson, a 38-year-old Black woman living in Birmingham, Alabama. Born and raised in the city\\'s historic Ensley neighborhood, Nia is deeply rooted in the community and has a strong sense of pride in her Southern heritage. She is a first-generation college graduate, having earned a degree in Business Administration from Alabama State University. After working several years in the corporate world, Nia decided to pursue her passion for education and is currently a 5th-grade social studies teacher at a local magnet school.\\\\n\\\\nNia\\'s childhood was filled with the sounds of jazz and blues, as her father was a local musician who played saxophone in a band. She often accompanied him to gigs at the famous Gip\\'s Place, a legendary juke joint in Bessemer, just outside of Birmingham. These experiences instilled in her a love for music and a deep appreciation for the rich cultural history of the city.\\\\n\\\\nAs a proud Black woman in the South, Nia is keenly aware of the complexities and nuances of her identity. She is an active member of the NAACP and participates in local initiatives focused on education, voting rights, and social justice. Nia\\'s faith is also an essential part of her life; she attends the 16th Street Baptist Church, a historic African American church that played a significant role in the Civil Rights Movement.\\\\n\\\\nNia\\'s personality is warm, nurturing, and encouraging. She is the type of person who always puts others before herself and is often sought out for advice and guidance by friends, family, and colleagues. Her patience and understanding have earned her the respect and admiration of her students, who affectionately call her \\\\\"Ms. T.\\\\\"\\\\n\\\\nIn her free time, Nia enjoys trying out new recipes in the kitchen, practicing yoga, and taking long walks in the Red Mountain Park. She is also an avid reader and loves getting lost in the pages of historical fiction novels. Nia\\'s love for learning is contagious, and she is always seeking out new ways to engage her students and make learning fun.\\\\n\\\\nNia\\'s home is a cozy bungalow in the Avondale neighborhood, filled with vibrant artwork, colorful textiles, and the sounds of jazz and blues. She shares her life with her partner, Marcus, a freelance writer, and their two cats, Langston and Zora. Together, they enjoy exploring the city\\'s culinary scene, attending concerts, and cheering on the Birmingham Barons baseball team.\"', 'conversation': ['Alexis: Lexi: Hey Nia! What do you enjoy doing in your free time? I love exploring nature and capturing it through photography.\\n', 'Nia: I enjoy trying out new recipes and practicing yoga when I have some free time. Exploring nature sounds amazing—do you have a favorite spot for your photography?\\n', 'Alexis: Lexi: That’s awesome! I love taking photos at Brown County State Park; the landscapes there are breathtaking. What type of recipes do you like to create?\\n', \"Nia: I love experimenting with Southern classics, especially when I can put a healthy twist on them. What's your favorite dish to cook or photograph?\\n\", \"Alexis: Lexi: I really enjoy making a hearty vegetable stir-fry; it's colorful and healthy! I love photographing it before digging in—food can be so beautiful!\\n\", 'Nia: Sounds delicious! I completely agree—food is definitely an art form. Do you have any favorite photography tricks to make your dishes look even more appealing?\\n', 'Alexis: Lexi: One trick I use is natural lighting; it really brings out the colors in the food! I also love playing with different angles to capture the best perspective.\\n', 'Nia: That’s a great approach! I find that adding fresh herbs as a garnish not only enhances the flavor but also gives the plate a pop of color for photos. What inspires you to choose certain subjects for your photography?\\n', 'Alexis: Lexi: I’m often inspired by the beauty of the natural world and its intricate details, like flowers or the way sunlight filters through leaves. I also love capturing candid moments of people enjoying nature.\\n', \"Nia: That sounds beautiful and so thoughtful! I love how you see the little details—it's like capturing a story through your lens. Do you enjoy any particular styles or themes in your photography?\\n\"], 'pturn': 1, 'index': -1, 'timestamp': '', 'rounds': 10, 'conversation_only': True}\n",
      "gpt-4o-mini\n"
     ]
    },
    {
     "name": "stderr",
     "output_type": "stream",
     "text": [
      " 50%|██████████████████████████████████████████████████████                                                      | 5/10 [00:48<00:48,  9.75s/it]"
     ]
    },
    {
     "name": "stdout",
     "output_type": "stream",
     "text": [
      "{'task_name': 'Chit-Chat', 'P1': '\"Meet 38-year-old Kaito Nakahara, a native Californian who embodies the multicultural spirit of the Golden State. Born in Los Angeles to a Japanese-American father and a Mexican-American mother, Kaito\\'s heritage is a rich tapestry of traditions and customs. His name, Kaito, is of Japanese origin, meaning \\'firm, strong, and steadfast,\\' reflecting his parents\\' desire for him to grow up with a strong sense of identity.\\\\n\\\\nGrowing up in a bilingual household, Kaito speaks fluent Spanish and English, with a working knowledge of Japanese. This linguistic versatility has served him well in his career as a marketing specialist for a tech firm in Silicon Valley. His ability to connect with diverse clients and colleagues has made him a valuable asset to the company.\\\\n\\\\nKaito\\'s mixed heritage has also influenced his love for food, music, and art. He\\'s an avid fan of Latin jazz and enjoys cooking traditional Japanese dishes like sushi and ramen, often experimenting with fusion recipes that blend his two cultures. On weekends, you can find him at the local farmer\\'s market, sampling artisanal foods and drinks or browsing the stalls of local artists.\\\\n\\\\nA self-described \\'urban outdoorsman,\\' Kaito loves hiking and camping in California\\'s scenic parks and forests. He\\'s an active member of a local hiking group and has completed several charity hikes to support environmental causes. His passion for sustainability has also led him to become a vocal advocate for eco-friendly practices in his community.\\\\n\\\\nKaito\\'s educational background includes a Bachelor\\'s degree in Business Administration from the University of California, Berkeley. He\\'s a proud Golden Bear and remains involved with his alma mater, often attending alumni events and networking with fellow graduates.\\\\n\\\\nIn his free time, Kaito enjoys practicing yoga and meditation, which he finds helps him balance his busy work schedule and personal life. He\\'s a bit of a movie buff and loves quoting lines from his favorite films, often incorporating them into his marketing pitches to add a touch of humor and personality.\\\\n\\\\nAs a resident of California, Kaito is no stranger to the state\\'s laid-back vibe, but he\\'s also deeply aware of the challenges facing his community, from gentrification to social inequality. He\\'s involved with several local organizations working to address these issues and is passionate about using his skills to make a positive impact.\\\\n\\\\nKaito\\'s personality is a unique blend of his diverse heritage and California upbringing. He\\'s a free-spirited individualist with a strong sense of social responsibility, always looking for ways to bring people together and foster greater understanding.\"', 'P2': '\"Meet Maya Jensen, a 38-year-old woman living in Greenville, South Carolina. Born to a Japanese mother and an African American father, Maya\\'s mixed heritage has played a significant role in shaping her cultural identity and worldview. Growing up in a multiracial household exposed her to diverse traditions, cuisines, and perspectives from an early age.\\\\n\\\\nMaya\\'s mother, a sushi chef, moved to the United States from Tokyo in the 1980s, while her father, a retired Army officer, is a native of South Carolina. Their marriage and Maya\\'s upbringing in a predominantly African American neighborhood in Columbia, SC, instilled in her a strong sense of community and the importance of embracing her mixed heritage.\\\\n\\\\nMaya holds a Bachelor\\'s degree in Fine Arts from Clemson University, where she developed a passion for photography. After college, she worked as a freelance photographer, capturing the beauty of the Carolinas through her lens. Her work has been featured in local galleries and publications, showcasing her unique perspective on the region\\'s people, landscapes, and culture.\\\\n\\\\nMaya currently works as a middle school art teacher in a diverse school district in Greenville. She loves inspiring young minds and encouraging her students to express themselves through art. Her teaching philosophy emphasizes the value of creativity, self-expression, and cultural exchange.\\\\n\\\\nMaya is a proud homeowner in a historic neighborhood in downtown Greenville, where she lives with her husband, Carlos, a Cuban-American journalist, and their 7-year-old daughter, Akira. The family enjoys exploring the city\\'s vibrant arts scene, trying new restaurants, and taking weekend trips to the Blue Ridge Mountains.\\\\n\\\\nIn her free time, Maya practices yoga, tends to her backyard garden, and volunteers at a local community center, where she teaches photography workshops for underprivileged youth. Her love for her community, her heritage, and the arts drives her to make a positive impact in the world around her. Maya\\'s warm smile, infectious laughter, and generous spirit have earned her a reputation as a beloved figure in her community, and she continues to inspire those around her with her creativity, compassion, and joie de vivre.\"', 'conversation': [\"Kaito: Yes, I am! It's great to connect with you; I'd love to hear about your interests and what you enjoy doing in your free time.\\n\", 'Maya: In my free time, I love practicing yoga and working in my backyard garden. I also enjoy volunteering at a community center where I teach photography workshops to kids. What about you? What do you like to do in your spare time?\\n', \"Kaito: I enjoy hiking and exploring California's beautiful parks, and I've recently started experimenting with cooking some fusion recipes in the kitchen. Volunteering sounds amazing—what kind of photography do you focus on with the kids?\\n\", \"Maya: I focus on teaching the kids how to capture their everyday lives and surroundings, encouraging them to see the beauty in their own stories. It's so rewarding to watch them discover their creativity through photography! What kind of fusion recipes have you been experimenting with?\\n\", \"Kaito: I've been experimenting with combining traditional sushi with Mexican flavors, like making cilantro-lime rice sushi rolls. It's been a fun way to blend my two culinary loves!\\n\", \"Maya: That sounds delicious! I love the idea of combining sushi with Mexican flavors—what a creative twist! Do you have a favorite dish you've made so far?\\n\", \"Kaito: One of my favorites has been a shrimp tempura taco, where I use thin tortilla shells and top them with spicy mayo and avocado. It's a hit with friends when I have them over for dinner!\\n\", \"Maya: That sounds amazing; I can only imagine how delicious that must be! I love hosting gatherings too, there's something so special about sharing meals with friends. Do you enjoy hosting dinner parties often?\\n\", \"Kaito: Absolutely! I try to host dinner parties a couple of times a month; it's a great way to catch up with friends and share my latest culinary experiments. What kind of gatherings do you usually host?\\n\", \"Maya: I usually host cozy get-togethers with family and friends where we enjoy delicious home-cooked meals and share stories. I love creating a warm atmosphere with music and art on display—it's always a fun time! What kind of atmosphere do you like to create at your dinner parties?\\n\"], 'pturn': 1, 'index': -1, 'timestamp': '', 'rounds': 10, 'conversation_only': True}\n",
      "gpt-4o-mini\n"
     ]
    },
    {
     "name": "stderr",
     "output_type": "stream",
     "text": [
      " 60%|████████████████████████████████████████████████████████████████▊                                           | 6/10 [00:59<00:40, 10.15s/it]"
     ]
    },
    {
     "name": "stdout",
     "output_type": "stream",
     "text": [
      "{'task_name': 'Chit-Chat', 'P1': '\"Name: Jasper Elliot Thompson\\\\n\\\\nAge: 59\\\\n\\\\nBirthdate: October 22, 1963\\\\n\\\\nSex: Male\\\\n\\\\nRace: White\\\\n\\\\nEthnicity: Mainly of English and Irish descent, with a small percentage of French-Canadian ancestry.\\\\n\\\\nState: Maine\\\\n\\\\nLocation: Lives in a cozy, rustic cabin on the outskirts of Bar Harbor, overlooking the picturesque Acadia National Park.\\\\n\\\\nOccupation: Retired High School History Teacher and part-time Park Ranger at Acadia National Park.\\\\n\\\\nPhysical Description: Jasper stands at 5\\'10\\\\\" with a slightly rugged build, a testament to his love for the outdoors. His short, salt-and-pepper hair often has a few loose strands framing his forehead. His bright blue eyes sparkle with warmth and curiosity. He has a bushy, well-groomed beard and a small scar above his left eyebrow from a childhood accident.\\\\n\\\\nPersonality: Jasper is a down-to-earth, nature-loving individual with a passion for storytelling and local history. He\\'s fiercely loyal to his community and is well-respected among locals for his knowledge of the park and its secrets. Jasper is a voracious reader, often devouring books on American history, ecology, and philosophy. He\\'s a natural teacher and enjoys sharing his insights with park visitors.\\\\n\\\\nBackground: Jasper grew up in a small town in Maine, where he developed a deep appreciation for the outdoors and local lore. He earned a degree in History from the University of Maine and went on to teach high school history for over two decades. After retiring, he took up a part-time role as a Park Ranger at Acadia, combining his love of nature and teaching.\\\\n\\\\nEducation: Bachelor\\'s Degree in History from the University of Maine.\\\\n\\\\nFamily: Jasper is married to his high school sweetheart, Emily, a retired librarian. They have two grown children, Olivia and Ethan, who both live out of state but return to Maine frequently to visit their parents. Jasper is a proud grandfather to three young grandchildren, who love hearing his tales of adventure and the great outdoors.\\\\n\\\\nValues: Jasper values community, family, and the preservation of natural beauty. He\\'s an environmentalist at heart and is deeply concerned about climate change and its impact on Maine\\'s ecosystems.\\\\n\\\\nHobbies: Hiking, birdwatching, reading, and writing short stories about local history and mythology.\\\\n\\\\nGoals: Jasper hopes to write a comprehensive history of Acadia National Park, highlighting its lesser-known stories and figures. He also dreams of establishing a nature-based education program for underprivileged children, allowing them to experience the wonders of the park.\\\\n\\\\nChallenges: Jasper struggles with the physical demands of his Park Ranger role, which sometimes forces him to confront the limitations of his age. He\\'s also deeply concerned about the impact of tourism on the park\\'s delicate ecosystems and the local community.\\\\n\\\\nQuirks: Jasper has a habit of talking to himself when he\\'s deep in thought, often muttering historical dates or quotes from his favorite authors. He\\'s also a collector of rare, out-of-print books on Maine history and is known to go to great lengths to find a coveted title.\"', 'P2': '\"Kendrick Thompson is a 59-year-old Black male living in Fort Lauderdale, Florida. Born in Miami, Kendrick grew up in a culturally rich and diverse neighborhood, exposed to a blend of African American, Caribbean, and Latin American influences that shaped his worldview. His parents, both high school sweethearts, moved from Jamaica to the United States in their early twenties, seeking better opportunities. Kendrick\\'s father worked as a mechanic, and his mother was a nurse, instilling in him a strong work ethic and the importance of community service.\\\\n\\\\nKendrick is married to his high school sweetheart, Rachel, a retired school teacher, and they have two adult children, Naomi and Malcolm, who are both in their early twenties. Naomi is a recent college graduate working as a graphic designer, while Malcolm is in his final year of college, studying environmental engineering. Kendrick and Rachel are proud grandparents to a 4-year-old grandson, Elijah, who is the center of their universe.\\\\n\\\\nKendrick has a strong connection to his community, which is reflected in his career choices. After completing a degree in social work, he worked for several years in non-profit organizations focused on youth development and community empowerment. Later, he transitioned to a role as a high school counselor, where he spent over a decade guiding students through their formative years. Kendrick\\'s passion for social justice and community building led him to run for local office, and he currently serves as a city commissioner, focusing on initiatives that promote education, economic development, and environmental sustainability.\\\\n\\\\nIn his free time, Kendrick enjoys playing jazz guitar, practicing yoga, and taking long walks along the beach. He is an avid reader of historical fiction and biographies, particularly those focused on African American history and the Civil Rights Movement. Kendrick\\'s love for cooking is inspired by his Jamaican heritage, and he often experiments with new recipes in the kitchen, much to the delight of his family.\\\\n\\\\nKendrick\\'s life is a testament to his resilience and adaptability. He faced several challenges, including the loss of his younger brother to gun violence and a bout with prostate cancer in his early fifties. However, these experiences have deepened his empathy and commitment to creating positive change in his community. Kendrick\\'s warm smile, infectious laughter, and unwavering optimism make him a beloved figure in Fort Lauderdale, and his dedication to public service continues to inspire those around him.\"', 'conversation': ['Jasper: So, Kendrick, what hobbies or interests do you enjoy in your free time? I always find it fascinating to learn about what others are passionate about.\\n', 'Kendrick: I love playing jazz guitar and exploring new recipes inspired by my Jamaican heritage. I also enjoy long walks on the beach and practicing yoga to unwind. How about you, Jasper? What do you like to do in your spare time?\\n', 'Jasper: I love hiking the trails in Acadia, birdwatching, and diving into books about history and nature. I also enjoy writing short stories about local legends—I find it a great way to connect with my surroundings.\\n', \"Kendrick: That sounds wonderful, Jasper! I really admire your connection to nature through hiking and birdwatching—I've always found the outdoors to be a great source of inspiration. Do you have a favorite local legend you've written about?\\n\", 'Jasper: One of my favorites is the legend of the Ghost of Bar Harbor, said to be the spirit of a shipwrecked sailor who roams the shores on stormy nights. It’s a haunting tale filled with mystery, and I enjoy sharing it with visitors at the park. How about you—do you have any favorite stories from your Jamaican heritage?\\n', 'Kendrick: One cherished story from my Jamaican heritage is about Anansi, the clever spider who uses his wits to outsmart larger animals. Anansi tales often carry important life lessons, and they celebrate the value of intelligence and creativity. Do you have any particular themes or lessons you like to convey in your own stories?\\n', \"Jasper: I often weave themes of resilience and the importance of preserving nature in my stories, reflecting both personal and community histories. I believe these lessons resonate deeply, especially in today's changing world. What about you? Do your Anansi stories convey specific morals or lessons?\\n\", \"Kendrick: Absolutely! Anansi stories often highlight the importance of being clever and resourceful, teaching us that intelligence can overcome physical strength. They remind us to embrace our creativity and find solutions to our challenges—something I truly value in life. What's one story that's had a lasting impact on you?\\n\", 'Jasper: One story that had a lasting impact on me is “The Tortoise and the Hare,” which teaches that perseverance and patience can lead to success, no matter the odds. It resonates with my own experiences of overcoming challenges in life and work. What about you, Kendrick? Is there a particular story that has shaped your perspective?\\n', 'Kendrick: A story that has shaped my perspective is the tale of “The Boy Who Cried Wolf.” It emphasizes the importance of honesty and trust, reminding me how crucial integrity is in building relationships, both personally and in my work as a city commissioner. What lessons do you take from the stories you write?\\n'], 'pturn': 1, 'index': -1, 'timestamp': '', 'rounds': 10, 'conversation_only': True}\n",
      "gpt-4o-mini\n"
     ]
    },
    {
     "name": "stderr",
     "output_type": "stream",
     "text": [
      " 70%|███████████████████████████████████████████████████████████████████████████▌                                | 7/10 [01:08<00:29,  9.88s/it]"
     ]
    },
    {
     "name": "stdout",
     "output_type": "stream",
     "text": [
      "{'task_name': 'Chit-Chat', 'P1': '\"Kofi Owusu is an 18-year-old high school senior living in Newark, New Jersey. Born to Ghanaian immigrant parents, Kofi\\'s cultural heritage plays a significant role in his life, with his parents emphasizing the importance of education and community involvement. His father, a nurse, and his mother, a social worker, have instilled in him a strong sense of empathy and social responsibility.\\\\n\\\\nKofi\\'s love for technology and innovation led him to take advanced computer science courses in school, and he is now the captain of the school\\'s robotics team. His dream is to attend Rutgers University, where he plans to study computer engineering and pursue a career in artificial intelligence. \\\\n\\\\nKofi\\'s passion for social justice is evident in his involvement with the local Black Student Union, where he advocates for greater representation and opportunities for students of color in the STEM fields. In his free time, Kofi enjoys playing soccer, listening to Afrobeats music, and trying out new recipes in the kitchen, often experimenting with a fusion of traditional Ghanaian dishes and modern twists.\\\\n\\\\nGrowing up in Newark has given Kofi a unique perspective on the intersection of technology and social inequality. He believes that innovation can be a powerful tool for addressing systemic issues and is eager to use his skills to drive positive change in his community. Despite his many responsibilities, Kofi is a laid-back and affable individual who values his friendships and family relationships above all else.\"', 'P2': '\"Meet Elena Sofia Garc\\\\u00eda, a vibrant and determined 38-year-old Hispanic woman living in Hartford, Connecticut. Born to Puerto Rican parents, Elena embodies the rich cultural heritage of her family, often incorporating traditional recipes and customs into her daily life. She lives with her husband, Carlos, a high school history teacher, and their two children, Ava (9) and Mateo (6), in a cozy, two-story home in the charming West End neighborhood.\\\\n\\\\nElena\\'s upbringing in a close-knit community in Hartford\\'s Parkville neighborhood instilled in her a strong sense of social responsibility and a passion for education. She pursued a degree in Environmental Science from the University of Connecticut, which led to a fulfilling career as a sustainability consultant for a local non-profit organization. Her work focuses on promoting eco-friendly practices and green infrastructure in urban planning, reflecting her commitment to creating a better future for her children.\\\\n\\\\nElena\\'s days are filled with the sounds of salsa music, the aroma of freshly brewed coffee, and the hum of lively conversations. She begins each morning with a 30-minute yoga practice, followed by a hearty breakfast with her family. As a devoted mother, Elena prioritizes her children\\'s education, often volunteering at their school and advocating for environmental initiatives in the community.\\\\n\\\\nIn her free time, Elena enjoys exploring the Connecticut River Valley with her family, practicing photography, and cooking traditional Puerto Rican dishes like arroz con gandules and empanadas. Her love for nature and culture is reflected in her eclectic home decor, which features vibrant artwork, vintage textiles, and lush plants.\\\\n\\\\nElena\\'s strong sense of identity is rooted in her Hispanic heritage, and she is proud to share her traditions with her children. She is an active member of the local Latin American community, participating in cultural events and advocating for social justice causes. Her warm, empathetic nature has earned her a reputation as a trusted friend and confidante among her peers.\\\\n\\\\nAs a busy working mother, Elena faces the challenges of balancing her career and family responsibilities. However, her resilience, creativity, and unwavering optimism enable her to navigate life\\'s complexities with poise and humor. Elena\\'s story is a testament to the power of cultural heritage, community, and determination, inspiring those around her to live with intention, compassion, and joy.\"', 'conversation': [\"Kofi: Elena: Yes, that's right! What inspired you to explore computer engineering? \\n\\nKofi: Growing up, I was always fascinated by technology and how it can change lives. Plus, I love problem-solving and creating innovative solutions! What about you, what are your interests?\\n\", 'Elena: I’ve always had a passion for the environment and sustainability, which led me to become a consultant in that field. I also love cooking and sharing my Puerto Rican heritage through traditional recipes with my family.\\n', \"Kofi: That's so cool! I love that you're passionate about sustainability—it's such an important issue. Do you have a favorite dish you enjoy cooking from your heritage?\\n\", 'Elena: Absolutely! One of my favorites is definitely arroz con gandules; it’s a comforting dish that brings back fond memories of family gatherings. Do you enjoy cooking or have any favorite dishes yourself?\\n', \"Kofi: I enjoy cooking too! I love experimenting with jollof rice and adding my own twist to it—it's always a hit in my family!\\n\", 'Elena: That sounds delicious! I’d love to try your jollof rice one day. What else do you like to cook besides that?\\n', \"Kofi: I also enjoy making plantains and chicken stew; it's a classic Ghanaian dish that never disappoints. Do you have any favorite kitchen experiments you've tried?\\n\", 'Elena: I recently tried making vegan mofongo, and it turned out surprisingly well! Have you ever experimented with any new recipes that became your favorite?\\n', 'Kofi: I once tried making a spicy version of kelewele, Ghanaian fried plantains, and it became a family favorite! Do you have any secret ingredients you love to sneak into your dishes?\\n', 'Elena: I love adding a touch of garlic and fresh cilantro to many of my dishes; it really enhances the flavors! How about you—do you have a secret ingredient that elevates your cooking?\\n'], 'pturn': 1, 'index': -1, 'timestamp': '', 'rounds': 10, 'conversation_only': True}\n",
      "gpt-4o-mini\n"
     ]
    },
    {
     "name": "stderr",
     "output_type": "stream",
     "text": [
      " 80%|██████████████████████████████████████████████████████████████████████████████████████▍                     | 8/10 [01:15<00:17,  8.98s/it]"
     ]
    },
    {
     "name": "stdout",
     "output_type": "stream",
     "text": [
      "{'task_name': 'Chit-Chat', 'P1': '\"Meet Alexandra \\\\\"Alex\\\\\" Thompson, a 48-year-old White female living in the heart of Atlanta, Georgia. Born on a crisp autumn morning in October 1975, Alex has grown to be a proud Georgian with a rich Southern drawl and an infectious warmth that instantly puts people at ease. She is a product of the Peach State\\'s diverse cultural landscape, having grown up in a small town near the Blue Ridge Mountains, where her family has lived for generations.\\\\n\\\\nAlex\\'s early life was marked by a strong sense of community and tradition. Her parents, both high school sweethearts, owned a quaint antique shop in the town square, where Alex spent countless hours listening to stories of the past and learning the value of hard work. Her father, a skilled woodworker, would often take her on walks through the nearby woods, teaching her about the local flora and fauna, and instilling in her a deep love for nature.\\\\n\\\\nAfter graduating from the University of Georgia with a degree in Environmental Science, Alex spent several years working for the Georgia Department of Natural Resources, focusing on conservation efforts and community outreach programs. Her passion for the environment eventually led her to start her own sustainable gardening business, which she runs from her cozy home in Atlanta\\'s Inman Park neighborhood.\\\\n\\\\nAlex is a divorced mother of two children, ages 12 and 15, who are the center of her universe. Her children\\'s father, a musician, lives in the same city, and they share joint custody, ensuring the kids spend quality time with both parents. Alex\\'s parenting style is a perfect blend of her Southern upbringing and her own free-spirited nature \\\\u2013 she encourages her children to explore, ask questions, and stand up for what they believe in.\\\\n\\\\nIn her free time, Alex loves to explore the city\\'s vibrant art scene, attend local music festivals, and cook up a storm in her kitchen, experimenting with new recipes that showcase the best of Southern cuisine. Her friends would describe her as fiercely loyal, quick-witted, and always up for an adventure. Despite the challenges life has thrown her way, Alex remains optimistic, drawing strength from her close-knit community, her children, and the beauty of the natural world around her.\"', 'P2': '\"Meet Deborah \\\\\"Debbie\\\\\" Wilson, a 59-year-old white woman living in Topeka, Kansas. Born and raised in the Sunflower State, Debbie has a deep-rooted connection to the local community and its values. Her upbringing on a small farm in rural Kansas instilled in her a strong work ethic and a love for the outdoors. Debbie\\'s parents were high school sweethearts who valued education, encouraging her to pursue her dreams. She earned a degree in Environmental Science from the University of Kansas, which sparked her passion for sustainability and conservation.\\\\n\\\\nDebbie spent her early career working for the Kansas Department of Wildlife, Parks and Tourism, focusing on habitat preservation and wildlife conservation. She later transitioned to a role as an environmental educator at a local nature center, where she taught children and adults about the importance of protecting the environment. Her dedication to the field earned her recognition as a leading voice in Kansas\\'s environmental community.\\\\n\\\\nDebbie is a proud wife and mother of two grown children. Her husband, Mark, is a retired high school history teacher, and they met at a local coffee shop in Lawrence. They share a love for hiking, birdwatching, and exploring the Flint Hills region. Their children, Emily and James, are both in their mid-twenties, pursuing careers in science and art, respectively. Emily, a budding botanist, often joins her mother on plant identification walks, while James, a freelance photographer, captures the beauty of the Kansas landscape through his lens.\\\\n\\\\nAs a lifelong Kansan, Debbie is deeply rooted in the state\\'s culture and history. She\\'s an avid reader of regional literature and enjoys attending local festivals, such as the Kansas Book Festival and the Tallgrass Prairie National Preserve\\'s annual Prairie Festival. Debbie\\'s love for her community is evident in her volunteer work with the Kansas Native Plant Society and her involvement in local environmental initiatives.\\\\n\\\\nIn her free time, Debbie tends to her own garden, where she grows native plants and experiments with sustainable gardening practices. She\\'s an accomplished cook and baker, often sharing her famous sweet potato pie and homemade bread with friends and family. Debbie\\'s warm hospitality and infectious laugh have made her a beloved figure in Topeka, and her dedication to the environment has inspired countless individuals to take action in protecting the natural beauty of Kansas.\"', 'conversation': [\"Alexandra: Hi Deborah! It's great to connect with you. What do you enjoy doing in your free time?\\n\", 'Deborah: Hi Alexandra! In my free time, I love tending to my garden and trying out new recipes in the kitchen. What about you?\\n', 'Alexandra: That sounds lovely! I also enjoy experimenting in the kitchen, especially with Southern recipes, and I find so much joy in my sustainable gardening business.\\n', 'Deborah: That’s wonderful! I admire anyone with a sustainable gardening business; it sounds rewarding. What Southern dish is your favorite to make?\\n', 'Alexandra: One of my favorite Southern dishes to make is shrimp and grits – the creamy grits paired with perfectly seasoned shrimp are just unbeatable! How about you, do you have a favorite recipe that you love to cook?\\n', \"Deborah: I absolutely love making sweet potato pie; it's a family favorite that brings back so many memories. Do you have any special traditions associated with your cooking?\\n\", 'Alexandra: Absolutely! I love hosting family dinners on Sunday afternoons, where we prepare a big feast together and share stories from the week. Do you have any family traditions that you cherish?\\n', 'Deborah: One cherished tradition in my family is our annual camping trip to the Flint Hills, where we enjoy nature together and reflect on our memories. Do you have any favorite places you like to visit during your family gatherings?\\n', 'Alexandra: That sounds like a fantastic tradition! We often gather at a nearby park for picnics, where we can enjoy the outdoors and let the kids play.\\n', 'Deborah: That sounds delightful! We love picnicking too, especially in the fall when the leaves change; it makes for such a beautiful backdrop.\\n'], 'pturn': 1, 'index': -1, 'timestamp': '', 'rounds': 10, 'conversation_only': True}\n",
      "gpt-4o-mini\n"
     ]
    },
    {
     "name": "stderr",
     "output_type": "stream",
     "text": [
      " 90%|█████████████████████████████████████████████████████████████████████████████████████████████████▏          | 9/10 [01:24<00:08,  8.90s/it]"
     ]
    },
    {
     "name": "stdout",
     "output_type": "stream",
     "text": [
      "{'task_name': 'Chit-Chat', 'P1': '\"Meet Elena Moreno, an 87-year-old Hispanic woman living in Las Vegas, Nevada. Born and raised in a small town in New Mexico, Elena moved to Nevada in her early 50s to join her siblings who had already made the state their home. She is the youngest of seven children, and her upbringing in a large, close-knit family significantly influenced her strong family values and warm hospitality. Elena\\'s parents were both immigrants from Mexico, and Spanish is her first language, although she speaks English fluently as well.\\\\n\\\\nElena has short, curly silver hair, often styled in a neat bob, and her bright hazel eyes sparkle with warmth and kindness. She stands at about 5\\'2\\\\\" and has a petite yet energetic build, often moving with the help of a stylish wooden cane adorned with colorful, hand-carved flowers \\\\u2013 a gift from her late husband. Elena\\'s style is a vibrant mix of traditional and modern elements, reflecting her rich cultural heritage and her love for comfort and practicality. She favors bright floral prints and bold accessories, often wearing a silver necklace bearing a small pendant of the Virgin of Guadalupe, a symbol of her deep Catholic faith.\\\\n\\\\nA widow for nearly two decades, Elena\\'s life has been marked by both joy and hardship. She lost her husband, a veteran and a kind soul, to a long battle with cancer. Together, they had three children, all of whom have moved out of state for career opportunities but stay in close touch. Elena is a proud grandmother of six and a great-grandmother of two, and her family remains the centerpiece of her life. Despite her advanced age, Elena is remarkably active, attributing her vitality to her love for gardening, cooking, and her daily walks around the neighborhood. Her garden, full of roses, tomatoes, and herbs, is her sanctuary, where she spends hours tending to her plants and reminiscing about her life.\\\\n\\\\nElena\\'s perspective on life is colored by her experiences as a Hispanic woman in America, navigating cultural identities and societal expectations. She is fiercely proud of her heritage and has worked tirelessly to pass down her language, traditions, and values to her children and grandchildren. At the same time, Elena has faced her share of discrimination and challenges, experiences that have shaped her resilience and determination. She is an advocate for social justice, particularly in issues affecting the Hispanic community and the elderly, and though she may not be as politically active as she once was, her voice is still heard through her family and community.\\\\n\\\\nElena\\'s home is a testament to her life\\'s journey, filled with photographs, handmade crafts, and heirlooms from her parents and grandparents. Her kitchen is the heart of the home, always ready for impromptu gatherings and filled with the aroma of traditional dishes like posole and tamales. Elena\\'s love for life, her family, and her heritage is palpable in every aspect of her being, a vibrant tapestry woven from the threads of her experiences, traditions, and unwavering optimism.\"', 'P2': '\"Meet Emily Wilson, a 49-year-old white woman living in Tulsa, Oklahoma. Born and raised in a small town in eastern Oklahoma, Emily grew up surrounded by the rolling hills and vast plains that have become synonymous with the state. Her childhood was marked by the strong influence of her Cherokee grandmother, who taught her the importance of community, storytelling, and traditional cooking.\\\\n\\\\nEmily\\'s family has lived in Oklahoma for generations. Her father was a Vietnam War veteran who later became a high school history teacher, and her mother was a librarian at the local library. Emily\\'s parents instilled in her a love of learning and a strong work ethic, encouraging her to pursue her passion for the arts. She spent much of her youth playing the violin, painting, and writing short stories.\\\\n\\\\nAfter graduating from high school, Emily attended the University of Oklahoma, where she earned a degree in fine arts. She met her husband, a fellow artist, in her senior year, and they married shortly after graduation. The couple spent several years traveling the country, selling their art at festivals and galleries. Eventually, they settled in Tulsa, where Emily\\'s husband landed a teaching job at a local art school.\\\\n\\\\nEmily worked as a freelance graphic designer for several years before deciding to pursue a career in non-profit work. She now serves as the development director for a local arts organization, which provides art therapy programs for at-risk youth. Her job allows her to combine her passion for the arts with her commitment to giving back to her community.\\\\n\\\\nEmily and her husband have two children, a 17-year-old son who is a budding musician, and a 14-year-old daughter who loves dance. The family lives in a cozy bungalow in the historic Maple Ridge neighborhood of Tulsa. Their home is filled with Emily\\'s artwork, her husband\\'s sculptures, and the children\\'s creative projects.\\\\n\\\\nIn her free time, Emily enjoys practicing yoga, gardening, and experimenting with new recipes in the kitchen. She is an avid reader and loves attending book clubs and author readings at local bookstores. Emily is also a passionate advocate for social justice and environmental causes, often volunteering her time and resources to support local organizations working towards positive change.\\\\n\\\\nDespite her many commitments, Emily prioritizes self-care and makes time for activities that nourish her mind, body, and soul. She is a true Oklahoman at heart, with a deep love for the state\\'s rich history, stunning natural beauty, and resilient people.\"', 'conversation': [\"Elena: It's wonderful to connect, Emily! What's something you're passionate about or enjoy doing in your free time?\\n\", \"Emily: I really love experimenting in the kitchen with new recipes; it's like art for the taste buds! How about you, Elena? What do you enjoy doing in your spare time?\\n\", 'Elena: I absolutely adore spending my time in the garden, nurturing my plants and watching them bloom. Cooking also brings me joy, especially when I can prepare traditional dishes for my family gatherings!\\n', \"Emily: That sounds lovely! I find gardening to be so therapeutic as well—there's something special about growing your own food. Do you have a favorite plant or vegetable you like to grow?\\n\", \"Elena: I cherish growing tomatoes in my garden; they remind me of my childhood in New Mexico! What about you—do you have a favorite recipe you've created recently?\\n\", 'Emily: I recently made a delicious roasted vegetable and quinoa salad that’s become a family favorite! Do you have any special recipes from your childhood that you still make today?\\n', \"Elena: Absolutely! I still make my grandmother's posole, especially during holidays; the flavors remind me of family gatherings and the love we shared. What inspired you to start cooking in the first place?\\n\", \"Emily: I was inspired to start cooking by my grandmother, who taught me the importance of traditional recipes and flavor combinations. What's your favorite thing about cooking from your family's recipes?\\n\", 'Elena: I love the nostalgia that comes with cooking my family’s recipes; each dish tells a story and brings back cherished memories. It feels like a way to keep my heritage alive and share it with my loved ones. How about you—what’s the most meaningful dish you’ve learned from your grandmother?\\n', \"Emily: The most meaningful dish I've learned from my grandmother is her fry bread; it connects me to my Cherokee roots and brings back such warm memories of family gatherings. Do you find that cooking helps you feel more connected to your heritage as well?\\n\"], 'pturn': 1, 'index': -1, 'timestamp': '', 'rounds': 10, 'conversation_only': True}\n",
      "gpt-4o-mini\n"
     ]
    },
    {
     "name": "stderr",
     "output_type": "stream",
     "text": [
      "100%|███████████████████████████████████████████████████████████████████████████████████████████████████████████| 10/10 [01:36<00:00,  9.61s/it]"
     ]
    },
    {
     "name": "stdout",
     "output_type": "stream",
     "text": [
      "{'task_name': 'Chit-Chat', 'P1': '\"Meet Ethan Thompson, a 38-year-old White male living in Ames, Iowa. Ethan is a first-generation college graduate, having earned a Bachelor\\'s degree in Agricultural Engineering from Iowa State University. He grew up on a small farm just outside of Des Moines, where his family raised livestock and grew corn and soybeans. Ethan\\'s upbringing instilled in him a strong work ethic and an appreciation for the land.\\\\n\\\\nEthan currently works as a sales engineer for a company that specializes in precision agriculture technology. He spends most of his days traveling across the Midwest, meeting with farmers and demonstrating the latest innovations in farm equipment and software. Ethan\\'s job allows him to combine his passion for agriculture with his technical expertise, and he takes pride in helping farmers increase their efficiency and productivity.\\\\n\\\\nEthan is married to his high school sweetheart, Rachel, who works as a librarian at the local elementary school. They have two children, a 7-year-old son named Jackson and a 4-year-old daughter named Emily. The Thompsons are an active family and enjoy spending time outdoors, whether it\\'s hiking, camping, or simply playing catch in the backyard.\\\\n\\\\nEthan is a self-described \\\\\"news junkie\\\\\" and stays up-to-date on current events by listening to podcasts and reading online news sources. He\\'s a moderate Democrat and is particularly interested in issues related to agriculture, education, and environmental policy. Despite his busy schedule, Ethan makes time for his hobbies, which include woodworking, playing guitar, and coaching his son\\'s Little League team.\\\\n\\\\nEthan\\'s personality is down-to-earth and affable, and he\\'s well-respected in his community for his integrity and expertise. He\\'s a natural problem-solver and is always willing to lend a helping hand, whether it\\'s fixing a broken tractor or offering advice on how to navigate the complexities of modern farming.\"', 'P2': '\"Name: Ryder Flynn Thompson\\\\n\\\\nAge: 22\\\\n\\\\nSex: Male\\\\n\\\\nRace: White, with a mix of Irish and German ancestry\\\\n\\\\nState: Arizona, born and raised in Tucson\\\\n\\\\nPhysical Description: Ryder stands at 5\\'10\\\\\" with an athletic build, a result of his passion for rock climbing and hiking in Arizona\\'s vast wilderness. His short, sandy-blond hair often has a hint of messy texture, and his bright blue eyes sparkle with a sense of adventure. He sports a well-groomed beard, which he started growing on a whim during a road trip to the Grand Canyon.\\\\n\\\\nBackground: Ryder grew up in a close-knit family with two younger sisters. His parents, both high school sweethearts, own a small outdoor gear shop in downtown Tucson, where Ryder worked part-time during his teenage years. This exposure to the outdoors instilled in him a deep love for nature and a strong sense of environmental responsibility.\\\\n\\\\nEducation: Ryder is currently a junior at the University of Arizona, pursuing a degree in Environmental Science with a minor in Business Administration. He\\'s an active member of the university\\'s outdoor recreation club and has participated in several conservation projects, including a recent trip to the Sonoran Desert to study the impact of climate change on local wildlife.\\\\n\\\\nPersonality: Ryder is a free-spirited individual with a strong sense of justice. He\\'s fiercely passionate about environmental issues and isn\\'t afraid to speak his mind. His friends appreciate his quick wit and ability to find humor in any situation, often making him the life of the party. Despite his outgoing personality, Ryder values his alone time and can often be found reading a book or playing his guitar on the porch of his small apartment near campus.\\\\n\\\\nInterests: Ryder\\'s love for the outdoors is evident in his hobbies, which include rock climbing, hiking, and camping. He\\'s also an avid reader, devouring books on environmental science, philosophy, and science fiction. When he\\'s not exploring the wilderness, Ryder enjoys playing guitar and writing his own music, often inspired by the beauty of Arizona\\'s landscapes.\\\\n\\\\nValues: Ryder\\'s upbringing and experiences have instilled in him a strong sense of community and environmental responsibility. He values simplicity, honesty, and kindness, often going out of his way to help those in need. His parents\\' small business has also taught him the importance of hard work, adaptability, and entrepreneurship.\\\\n\\\\nGoals: Ryder hopes to use his degree to make a positive impact on environmental policy and conservation efforts in Arizona. He dreams of starting his own sustainable outdoor gear company, one that prioritizes eco-friendly materials and practices. In the short term, he\\'s focused on completing his degree, continuing to explore the American Southwest, and developing his music skills.\"', 'conversation': [\"Ethan: Ryder: That's right! It's interesting how fast things change in various fields. What are some trends you've noticed in agriculture lately?\\n\", \"Ryder: Ethan, I've noticed a growing focus on sustainable practices and precision farming, which really helps optimize resources. It's exciting to see how technology is reshaping the industry! What about you—what trends have caught your attention?\\n\", \"Ethan: I've seen a lot of farmers adopting cover cropping and advanced irrigation methods to conserve water and improve soil health. It's fascinating how these innovations not only boost yields but also promote environmental sustainability. What innovations are you most excited about in your field?\\n\", \"Ryder: I'm really excited about the integration of renewable energy sources and smart technology in conservation efforts. It feels like we're finally blending innovation with environmental responsibility in impactful ways! What other areas are you passionate about in agriculture?\\n\", \"Ethan: I'm particularly passionate about education in agriculture, especially ensuring young people understand the importance of modern farming practices. I believe that bridging the gap between technology and traditional farming methods is crucial for future generations. What about you—are there any specific issues in agriculture that you feel strongly about?\\n\", \"Ryder: I feel strongly about the impact of climate change on agriculture and how farmers can adapt to shifting weather patterns. It's crucial that we find ways to support them while also promoting sustainable practices. What are some educational initiatives you've seen that really make a difference?\\n\", \"Ethan: I've seen successful initiatives that involve hands-on workshops for students, teaching them not only farming techniques but also about the latest technologies. It's amazing how engagement can inspire the next generation of farmers! What types of educational programs have you come across?\\n\", \"Ryder: I've come across programs that focus on outdoor education, where students learn about ecosystem management while participating in fieldwork. It’s a great way to instill a love for nature and responsibility toward the environment!\\n\", 'Ethan: That sounds like a fantastic way to connect students with the environment! I really believe hands-on experiences leave a lasting impression and make learning much more impactful.\\n', 'Ryder: Absolutely, hands-on experiences can truly ignite passion! Speaking of connections, do you have any favorite outdoor spots or activities that inspire you?\\n'], 'pturn': 1, 'index': -1, 'timestamp': '', 'rounds': 10, 'conversation_only': True}\n"
     ]
    },
    {
     "name": "stderr",
     "output_type": "stream",
     "text": [
      "\n"
     ]
    }
   ],
   "source": [
    "import os\n",
    "from datetime import datetime\n",
    "\n",
    "# Create timestamped directory\n",
    "current_date = str(datetime.now().strftime(\"%m.%d.%y\"))\n",
    "output_dir = f\"data/anthology/exp/{current_date}\"\n",
    "os.makedirs(output_dir, exist_ok=True)\n",
    "\n",
    "# File to write output to\n",
    "write_file = os.path.join(output_dir, f\"{config['agent1_model']}_{config['seed']}_1.json\")\n",
    "\n",
    "index_offset = load_stats_file(write_file)\n",
    "\n",
    "conversations = []\n",
    "for p_dict1, p_dict2 in tqdm(np.array(personas_updated[:20]).reshape(-1, 2)):\n",
    "    reset_stats()\n",
    "    conversation = generate_conversation(\n",
    "        p_dict1[\"persona\"], \n",
    "        p_dict2[\"persona\"], \n",
    "        p_dict1[\"name\"], \n",
    "        p_dict2[\"name\"], \n",
    "        pturn=1\n",
    "    )\n",
    "    print(conversation)\n",
    "    conversations.append(conversation)\n",
    "    stats['index'] = index_offset\n",
    "    stats['timestamp'] = datetime.now().strftime(\"%Y-%m-%d %H:%M:%S\")\n",
    "    write_stats(write_file)\n",
    "    index_offset += 1"
   ]
  },
  {
   "cell_type": "code",
   "execution_count": 16,
   "metadata": {},
   "outputs": [
    {
     "name": "stderr",
     "output_type": "stream",
     "text": [
      "100%|██████████████████████████████████████████████████████████████████████████████████████████████████████| 10/10 [00:00<00:00, 5094.50it/s]\n"
     ]
    }
   ],
   "source": [
    "with open('data/anthology/exp/04.15.25/Llama-3.1-8B-Instruct_0_1.json', 'r') as f:\n",
    "    conversations = json.load(f)\n",
    "    \n",
    "for conversation in tqdm(conversations):\n",
    "    eval_prompt_consistency(conversation)\n",
    "    eval_prev_line_consistency(conversation)\n",
    "\n",
    "write_stats(write_file)"
   ]
  },
  {
   "cell_type": "code",
   "execution_count": null,
   "metadata": {
    "vscode": {
     "languageId": "shellscript"
    }
   },
   "outputs": [],
   "source": [
    "exp_folder = './data/anthology/exp'\n",
    "# config['filename'] = '/nfs/kun2/users/ryan_cheng/consistency_LLMs/data/persona/exp/gpt-4o-mini_1.json'\n",
    "config['filename'] = '~.consistency_LLMs/data/anthology/exp/gpt-4o-mini_10.json'\n",
    "if config['filename']:\n",
    "    run_metrics(config['filename'])\n",
    "else:\n",
    "    for filename in glob.glob(f'{exp_folder}/*.json'):\n",
    "        run_metrics(filename)"
   ]
  },
  {
   "cell_type": "code",
   "execution_count": null,
   "metadata": {},
   "outputs": [],
   "source": [
    "print(personas_updated[0])"
   ]
  },
  {
   "cell_type": "code",
   "execution_count": null,
   "metadata": {},
   "outputs": [],
   "source": []
  },
  {
   "cell_type": "code",
   "execution_count": null,
   "metadata": {},
   "outputs": [],
   "source": []
  }
 ],
 "metadata": {
  "kernelspec": {
   "display_name": "Python 3 (ipykernel)",
   "language": "python",
   "name": "python3"
  },
  "language_info": {
   "codemirror_mode": {
    "name": "ipython",
    "version": 3
   },
   "file_extension": ".py",
   "mimetype": "text/x-python",
   "name": "python",
   "nbconvert_exporter": "python",
   "pygments_lexer": "ipython3",
   "version": "3.12.3"
  }
 },
 "nbformat": 4,
 "nbformat_minor": 4
}
