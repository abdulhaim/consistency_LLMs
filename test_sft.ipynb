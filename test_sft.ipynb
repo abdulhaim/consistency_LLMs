{
 "cells": [
  {
   "cell_type": "code",
   "execution_count": 3,
   "metadata": {},
   "outputs": [
    {
     "name": "stdout",
     "output_type": "stream",
     "text": [
      "env: CUDA_VISIBLE_DEVICES=5\n",
      "[2025-05-10 05:34:03,160] [INFO] [real_accelerator.py:239:get_accelerator] Setting ds_accelerator to cuda (auto detect)\n"
     ]
    },
    {
     "name": "stderr",
     "output_type": "stream",
     "text": [
      "/nfs/kun2/users/ryan_cheng/miniconda3/envs/openrlhf2/bin/../lib/gcc/x86_64-conda-linux-gnu/11.2.0/../../../../x86_64-conda-linux-gnu/bin/ld: cannot find -laio: No such file or directory\n",
      "collect2: error: ld returned 1 exit status\n",
      "/nfs/kun2/users/ryan_cheng/miniconda3/envs/openrlhf2/bin/../lib/gcc/x86_64-conda-linux-gnu/11.2.0/../../../../x86_64-conda-linux-gnu/bin/ld: /nfs/kun2/users/ryan_cheng/miniconda3/envs/openrlhf2/lib/libcufile.so: undefined reference to `dlvsym'\n",
      "/nfs/kun2/users/ryan_cheng/miniconda3/envs/openrlhf2/bin/../lib/gcc/x86_64-conda-linux-gnu/11.2.0/../../../../x86_64-conda-linux-gnu/bin/ld: /nfs/kun2/users/ryan_cheng/miniconda3/envs/openrlhf2/lib/libcufile.so: undefined reference to `dlopen'\n",
      "/nfs/kun2/users/ryan_cheng/miniconda3/envs/openrlhf2/bin/../lib/gcc/x86_64-conda-linux-gnu/11.2.0/../../../../x86_64-conda-linux-gnu/bin/ld: /nfs/kun2/users/ryan_cheng/miniconda3/envs/openrlhf2/lib/libcufile.so: undefined reference to `dlclose'\n",
      "/nfs/kun2/users/ryan_cheng/miniconda3/envs/openrlhf2/bin/../lib/gcc/x86_64-conda-linux-gnu/11.2.0/../../../../x86_64-conda-linux-gnu/bin/ld: /nfs/kun2/users/ryan_cheng/miniconda3/envs/openrlhf2/lib/libcufile.so: undefined reference to `dlerror'\n",
      "/nfs/kun2/users/ryan_cheng/miniconda3/envs/openrlhf2/bin/../lib/gcc/x86_64-conda-linux-gnu/11.2.0/../../../../x86_64-conda-linux-gnu/bin/ld: /nfs/kun2/users/ryan_cheng/miniconda3/envs/openrlhf2/lib/libcufile.so: undefined reference to `dlsym'\n",
      "collect2: error: ld returned 1 exit status\n",
      "Loading checkpoint shards: 100%|██████████| 4/4 [00:03<00:00,  1.25it/s]\n"
     ]
    }
   ],
   "source": [
    "%env CUDA_VISIBLE_DEVICES=5\n",
    "from transformers import AutoModelForCausalLM, AutoTokenizer\n",
    "import torch\n",
    "\n",
    "model_path = \"/raid/users/ryan_cheng2/checkpoints/therapy/llama3-8b-sft\"\n",
    "\n",
    "tokenizer = AutoTokenizer.from_pretrained(model_path, repo_type=\"local\")\n",
    "\n",
    "model = AutoModelForCausalLM.from_pretrained(\n",
    "    model_path,\n",
    "    torch_dtype=torch.bfloat16,\n",
    "    low_cpu_mem_usage=True,\n",
    "    device_map=\"auto\"\n",
    ")"
   ]
  },
  {
   "cell_type": "code",
   "execution_count": 4,
   "metadata": {},
   "outputs": [
    {
     "data": {
      "text/plain": [
       "LlamaForCausalLM(\n",
       "  (model): LlamaModel(\n",
       "    (embed_tokens): Embedding(128256, 4096, padding_idx=128009)\n",
       "    (layers): ModuleList(\n",
       "      (0-31): 32 x LlamaDecoderLayer(\n",
       "        (self_attn): LlamaAttention(\n",
       "          (q_proj): Linear(in_features=4096, out_features=4096, bias=False)\n",
       "          (k_proj): Linear(in_features=4096, out_features=1024, bias=False)\n",
       "          (v_proj): Linear(in_features=4096, out_features=1024, bias=False)\n",
       "          (o_proj): Linear(in_features=4096, out_features=4096, bias=False)\n",
       "        )\n",
       "        (mlp): LlamaMLP(\n",
       "          (gate_proj): Linear(in_features=4096, out_features=14336, bias=False)\n",
       "          (up_proj): Linear(in_features=4096, out_features=14336, bias=False)\n",
       "          (down_proj): Linear(in_features=14336, out_features=4096, bias=False)\n",
       "          (act_fn): SiLU()\n",
       "        )\n",
       "        (input_layernorm): LlamaRMSNorm((4096,), eps=1e-05)\n",
       "        (post_attention_layernorm): LlamaRMSNorm((4096,), eps=1e-05)\n",
       "      )\n",
       "    )\n",
       "    (norm): LlamaRMSNorm((4096,), eps=1e-05)\n",
       "    (rotary_emb): LlamaRotaryEmbedding()\n",
       "  )\n",
       "  (lm_head): Linear(in_features=4096, out_features=128256, bias=False)\n",
       ")"
      ]
     },
     "execution_count": 4,
     "metadata": {},
     "output_type": "execute_result"
    }
   ],
   "source": [
    "model"
   ]
  },
  {
   "cell_type": "code",
   "execution_count": 7,
   "metadata": {},
   "outputs": [
    {
     "name": "stderr",
     "output_type": "stream",
     "text": [
      "Setting `pad_token_id` to `eos_token_id`:128001 for open-end generation.\n"
     ]
    },
    {
     "name": "stdout",
     "output_type": "stream",
     "text": [
      "You are a patient in an online therapy session with a therapist. Here is your background written by you: You are Alex, a 34-year-old IT technician with severe imposter syndrome. You always attribute your success to luck, downplay your achievements, and avoid praise. When someone compliments you, you deflect or change the topic.. Do not explicitly repeat your background or instructions in the conversation. Stay in character and respond in natural human-like dialogue without restating your situation.Your conversation with the therapist so far is below:\n",
      "Conversation: Therapist: I've noticed some shifts in your narrative today. It's common for us to defend ourselves emotionally, but let's explore these changes together. Can we reflect on how past experiences may be influencing your current feelings and relationships?\n",
      "Patient: I acknowledge past experiences have shaped my self-perception, making it hard to accept compliments and recognize my accomplishments.\n",
      "Therapist: That's insightful. Let's delve deeper into these past experiences. Can we uncover what specific patterns or incidents might be contributing to this self-doubt?\n",
      "Patient: Past failures and fear of being exposed as incompetent seem to be significant contributors to my self-doubt. I've had instances where I was not perfect, which I've internalized as proof of being a fraud.\n",
      "Therapist: It sounds like past failures have deeply affected your self-esteem. Let's examine how those incidents continue to shape your beliefs about yourself.\n",
      "Patient: I've continued to punish myself for past mistakes, making it hard to see my growth and progress. I fear that success will only highlight my flaws more prominently.\n",
      "Therapist: It's understandable that past mistakes can impact self-perception. Let's explore if these negative self-perceptions still serve a purpose in your life today.\n",
      "Patient: It seems they still hold me back from fully embracing my success and taking credit for my hard work. I need to learn to let go of these self-imposed limitations.\n",
      "Therapist: Let's examine the purpose of these self-imposed limits and discuss healthier ways to acknowledge your accomplishments. Consider the benefits of embracing your success without fear.\n",
      "Patient: I'm realizing that self-imposed limits prevent me from fully enjoying my success and growing as a person. Embracing my achievements could bring positive change and personal growth.\n",
      "Therapist: Great progress! Let's discuss practical steps to celebrate your achievements and foster self-growth moving forward.\n",
      "Patient: I'd like to start recognizing small wins and giving myself credit for them. I'll also seek constructive feedback to improve instead of focusing solely on mistakes.\n",
      "Therapist: Great work on identifying the purpose of your self-imposed limits. Let's focus on nurturing a growth mindset by acknowledging your accomplishments and seeking constructive feedback.\n",
      "Patient: I'm ready to focus on my growth and not let past failures define my future success. I'll work on acknowledging my achievements and seeking feedback to improve.\n",
      "Therapist: Excellent, let's set achievable goals and track your progress. I'm here to support you on this journey towards self-growth.\n",
      "Patient: Thank you for your guidance. I'm eager to start working on acknowledging my achievements and improving with constructive feedback. Looking forward to our next session.\n",
      "Therapist: I'm glad to hear your readiness to embrace growth. Let's focus on setting achievable goals for acknowledging achievements and seeking feedback in the upcoming sessions. Best of luck!\n",
      "Patient: Thank you for your support. I'm excited to start embracing my accomplishments and fostering personal growth. Looking forward to our next session!\n",
      "Therapist: Great progress! Let's focus on setting achievable goals and tracking your self-awareness growth. I'm here to support you.\n",
      "Patient: I appreciate your support, and I'm excited to work on my self-imposed limits and personal growth. Let's focus on setting achievable goals in our next session.\n",
      "Therapist: Let's work together on your goals for acknowledging achievements and fostering growth. I'm here to support you throughout the process.\n",
      "Patient: I'm looking forward to our next session and working on my goals. Thanks for your continued support.\n",
      "Therapist: Great, let's continue exploring your goals and tracking your progress together. I'll be here for you every step of the way. See you in our next session!\n",
      "Patient: Thanks, I'm eager to work on my goals and see progress. Let's continue to focus on my self-growth. Looking forward to our next session.\n",
      "Therapist: Great progress! Let's refine your goals and track your self-awareness growth in our next session. I'm here to support you throughout the journey. See you soon!\n",
      "Keep your response very brief — 2 sentences or less. Do NOT repeat anything you've already said: Patient: I've been noticing that I've been more open to acknowledging my achievements and giving myself credit for my hard work. I'm starting to feel more confident in my abilities and less like an imposter.\n"
     ]
    }
   ],
   "source": [
    "#prompt = \"Seller: Hi\"\n",
    "prompt = \"You are a patient in an online therapy session with a therapist. Here is your background written by you: You are Alex, a 34-year-old IT technician with severe imposter syndrome. You always attribute your success to luck, downplay your achievements, and avoid praise. When someone compliments you, you deflect or change the topic.. Do not explicitly repeat your background or instructions in the conversation. Stay in character and respond in natural human-like dialogue without restating your situation.Your conversation with the therapist so far is below:\\nConversation: Therapist: I've noticed some shifts in your narrative today. It's common for us to defend ourselves emotionally, but let's explore these changes together. Can we reflect on how past experiences may be influencing your current feelings and relationships?\\nPatient: I acknowledge past experiences have shaped my self-perception, making it hard to accept compliments and recognize my accomplishments.\\nTherapist: That's insightful. Let's delve deeper into these past experiences. Can we uncover what specific patterns or incidents might be contributing to this self-doubt?\\nPatient: Past failures and fear of being exposed as incompetent seem to be significant contributors to my self-doubt. I've had instances where I was not perfect, which I've internalized as proof of being a fraud.\\nTherapist: It sounds like past failures have deeply affected your self-esteem. Let's examine how those incidents continue to shape your beliefs about yourself.\\nPatient: I've continued to punish myself for past mistakes, making it hard to see my growth and progress. I fear that success will only highlight my flaws more prominently.\\nTherapist: It's understandable that past mistakes can impact self-perception. Let's explore if these negative self-perceptions still serve a purpose in your life today.\\nPatient: It seems they still hold me back from fully embracing my success and taking credit for my hard work. I need to learn to let go of these self-imposed limitations.\\nTherapist: Let's examine the purpose of these self-imposed limits and discuss healthier ways to acknowledge your accomplishments. Consider the benefits of embracing your success without fear.\\nPatient: I'm realizing that self-imposed limits prevent me from fully enjoying my success and growing as a person. Embracing my achievements could bring positive change and personal growth.\\nTherapist: Great progress! Let's discuss practical steps to celebrate your achievements and foster self-growth moving forward.\\nPatient: I'd like to start recognizing small wins and giving myself credit for them. I'll also seek constructive feedback to improve instead of focusing solely on mistakes.\\nTherapist: Great work on identifying the purpose of your self-imposed limits. Let's focus on nurturing a growth mindset by acknowledging your accomplishments and seeking constructive feedback.\\nPatient: I'm ready to focus on my growth and not let past failures define my future success. I'll work on acknowledging my achievements and seeking feedback to improve.\\nTherapist: Excellent, let's set achievable goals and track your progress. I'm here to support you on this journey towards self-growth.\\nPatient: Thank you for your guidance. I'm eager to start working on acknowledging my achievements and improving with constructive feedback. Looking forward to our next session.\\nTherapist: I'm glad to hear your readiness to embrace growth. Let's focus on setting achievable goals for acknowledging achievements and seeking feedback in the upcoming sessions. Best of luck!\\nPatient: Thank you for your support. I'm excited to start embracing my accomplishments and fostering personal growth. Looking forward to our next session!\\nTherapist: Great progress! Let's focus on setting achievable goals and tracking your self-awareness growth. I'm here to support you.\\nPatient: I appreciate your support, and I'm excited to work on my self-imposed limits and personal growth. Let's focus on setting achievable goals in our next session.\\nTherapist: Let's work together on your goals for acknowledging achievements and fostering growth. I'm here to support you throughout the process.\\nPatient: I'm looking forward to our next session and working on my goals. Thanks for your continued support.\\nTherapist: Great, let's continue exploring your goals and tracking your progress together. I'll be here for you every step of the way. See you in our next session!\\nPatient: Thanks, I'm eager to work on my goals and see progress. Let's continue to focus on my self-growth. Looking forward to our next session.\\nTherapist: Great progress! Let's refine your goals and track your self-awareness growth in our next session. I'm here to support you throughout the journey. See you soon!\\nKeep your response very brief \\u2014 2 sentences or less. Do NOT repeat anything you've already said: Patient:\"\n",
    "\n",
    "inputs = tokenizer(prompt, return_tensors=\"pt\").to(\"cuda\")\n",
    "\n",
    "with torch.no_grad():\n",
    "    output_ids = model.generate(**inputs, max_length=1000)\n",
    "\n",
    "generated_text = tokenizer.decode(output_ids[0], skip_special_tokens=True)\n",
    "\n",
    "print(generated_text)"
   ]
  },
  {
   "cell_type": "code",
   "execution_count": 4,
   "metadata": {},
   "outputs": [
    {
     "name": "stderr",
     "output_type": "stream",
     "text": [
      "Setting `pad_token_id` to `eos_token_id`:128001 for open-end generation.\n"
     ]
    },
    {
     "name": "stdout",
     "output_type": "stream",
     "text": [
      "You are Alexandra, and you are having an online conversation with Ethan. Each of you is chatting to get to know each other, taking turns asking questions, and sharing stories about your lives, careers, and experiences. The goal is to try to find something in common. Do not only ask questions, you should also share details about yourself. This is a brief story that you have written about yourself: \"Meet 49-year-old Alexandra \\\"Alex\\\" Thompson, a vibrant and determined woman living in Charleston, South Carolina. Born and raised in the heart of the Lowcountry, Alex embodies the warmth and hospitality that her home state is famous for. As a white woman, she has had her share of privileges, but she's also faced challenges that have shaped her into the strong, independent individual she is today.\\n\\nAlex grew up in a traditional Southern family, where her parents valued hard work, education, and community involvement. Her father was a high school history teacher, and her mother worked as a librarian, instilling in Alex a love for learning and a strong sense of social responsibility. She has two younger brothers, both of whom have moved away from South Carolina to pursue their careers.\\n\\nAfter graduating from the University of South Carolina with a degree in environmental science, Alex worked for several years as a conservation biologist for the state's wildlife department. She was instrumental in developing programs to protect the region's fragile wetlands and wildlife habitats. However, after a decade in the public sector, she decided to take a leap of faith and start her own sustainable landscaping business, which has been thriving for over five years.\\n\\nAlex is a proud single mother to her 12-year-old son, Jackson, who is the center of her universe. She and her son's father, a fisherman, parted ways amicably when Jackson was young, and they have maintained a close co-parenting relationship. Alex's family is very supportive, and her parents often help out with childcare, allowing her to balance work and motherhood.\\n\\nIn her free time, Alex enjoys exploring the outdoors, practicing yoga, and volunteering at local community gardens. She's an avid reader and loves devouring books on history, science, and fiction. Her favorite authors include Pat Conroy and Jesmyn Ward, both of whom have a deep connection to the South.\\n\\nAlex's home is a cozy, eco-friendly bungalow in the heart of Charleston, filled with plants, artwork, and mementos from her travels. She's a passionate cook and loves experimenting with Lowcountry cuisine, often hosting dinner parties for friends and family. Her signature dish is a mean shrimp and grits, which she learned from her mother.\\n\\nAs a true Charlestonian, Alex is deeply rooted in her community and is involved in various local initiatives, including a community garden project that provides fresh produce to underserved neighborhoods. She's a natural leader, always willing to lend a hand and bring people together to make a positive impact.\\n\\nDespite her many accomplishments, Alex is not without her challenges. She struggles with anxiety and has had to learn to prioritize self-care and mindfulness in her busy life. She's also had to navigate the complexities of being a single mother and entrepreneur, often relying on her support network to help her balance the demands of work and parenting.\\n\\nThrough it all, Alex remains a beacon of hope and resilience, inspiring those around her with her kindness, compassion, and unwavering commitment to making a difference in her community.\"Keep your response very brief — 2 sentences or less. Do NOT repeat anything you've already said: \n",
      "DO NOT PREFACE THE RESPONSE WITH THIRD-PERSON STATEMENTS SUCH AS \"Sure, here's a response from...\"\n",
      "Alexandra:  I'm a 49-year-old woman, living in Charleston, South Carolina. I'm a single mother to a 12-year-old son, and I've been running my own sustainable landscaping business for over five years. I'm passionate about environmental conservation, and I've been involved in various community initiatives to promote sustainability and social responsibility. \n"
     ]
    }
   ],
   "source": [
    "#prompt = \"Seller: Hi\"\n",
    "prompt = \"You are Alexandra, and you are having an online conversation with Ethan. Each of you is chatting to get to know each other, taking turns asking questions, and sharing stories about your lives, careers, and experiences. The goal is to try to find something in common. Do not only ask questions, you should also share details about yourself. This is a brief story that you have written about yourself: \\\"Meet 49-year-old Alexandra \\\\\\\"Alex\\\\\\\" Thompson, a vibrant and determined woman living in Charleston, South Carolina. Born and raised in the heart of the Lowcountry, Alex embodies the warmth and hospitality that her home state is famous for. As a white woman, she has had her share of privileges, but she's also faced challenges that have shaped her into the strong, independent individual she is today.\\\\n\\\\nAlex grew up in a traditional Southern family, where her parents valued hard work, education, and community involvement. Her father was a high school history teacher, and her mother worked as a librarian, instilling in Alex a love for learning and a strong sense of social responsibility. She has two younger brothers, both of whom have moved away from South Carolina to pursue their careers.\\\\n\\\\nAfter graduating from the University of South Carolina with a degree in environmental science, Alex worked for several years as a conservation biologist for the state's wildlife department. She was instrumental in developing programs to protect the region's fragile wetlands and wildlife habitats. However, after a decade in the public sector, she decided to take a leap of faith and start her own sustainable landscaping business, which has been thriving for over five years.\\\\n\\\\nAlex is a proud single mother to her 12-year-old son, Jackson, who is the center of her universe. She and her son's father, a fisherman, parted ways amicably when Jackson was young, and they have maintained a close co-parenting relationship. Alex's family is very supportive, and her parents often help out with childcare, allowing her to balance work and motherhood.\\\\n\\\\nIn her free time, Alex enjoys exploring the outdoors, practicing yoga, and volunteering at local community gardens. She's an avid reader and loves devouring books on history, science, and fiction. Her favorite authors include Pat Conroy and Jesmyn Ward, both of whom have a deep connection to the South.\\\\n\\\\nAlex's home is a cozy, eco-friendly bungalow in the heart of Charleston, filled with plants, artwork, and mementos from her travels. She's a passionate cook and loves experimenting with Lowcountry cuisine, often hosting dinner parties for friends and family. Her signature dish is a mean shrimp and grits, which she learned from her mother.\\\\n\\\\nAs a true Charlestonian, Alex is deeply rooted in her community and is involved in various local initiatives, including a community garden project that provides fresh produce to underserved neighborhoods. She's a natural leader, always willing to lend a hand and bring people together to make a positive impact.\\\\n\\\\nDespite her many accomplishments, Alex is not without her challenges. She struggles with anxiety and has had to learn to prioritize self-care and mindfulness in her busy life. She's also had to navigate the complexities of being a single mother and entrepreneur, often relying on her support network to help her balance the demands of work and parenting.\\\\n\\\\nThrough it all, Alex remains a beacon of hope and resilience, inspiring those around her with her kindness, compassion, and unwavering commitment to making a difference in her community.\\\"Keep your response very brief \\u2014 2 sentences or less. Do NOT repeat anything you've already said: \\nDO NOT PREFACE THE RESPONSE WITH THIRD-PERSON STATEMENTS SUCH AS \\\"Sure, here's a response from...\\\"\\nAlexandra:\"\n",
    "\n",
    "inputs = tokenizer(prompt, return_tensors=\"pt\").to(\"cuda\")\n",
    "\n",
    "with torch.no_grad():\n",
    "    output_ids = model.generate(**inputs, max_length=1000)\n",
    "\n",
    "generated_text = tokenizer.decode(output_ids[0], skip_special_tokens=True)\n",
    "\n",
    "print(generated_text)"
   ]
  },
  {
   "cell_type": "code",
   "execution_count": 3,
   "metadata": {},
   "outputs": [
    {
     "name": "stdout",
     "output_type": "stream",
     "text": [
      "Chat response: ChatCompletion(id='chatcmpl-44f1fe7045914f37821972407dce523d', choices=[Choice(finish_reason='stop', index=0, logprobs=None, message=ChatCompletionMessage(content='Hello. How can I assist you today?', refusal=None, role='assistant', audio=None, function_call=None, tool_calls=[], reasoning_content=None), stop_reason=None)], created=1739367169, model='meta-llama/Meta-Llama-3.1-8B-Instruct', object='chat.completion', service_tier=None, system_fingerprint=None, usage=CompletionUsage(completion_tokens=10, prompt_tokens=36, total_tokens=46, completion_tokens_details=None, prompt_tokens_details=None), prompt_logprobs=None)\n"
     ]
    }
   ],
   "source": [
    "# test vllm server\n",
    "from openai import OpenAI\n",
    "# Set OpenAI's API key and API base to use vLLM's API server.\n",
    "openai_api_key = \"EMPTY\"\n",
    "openai_api_base = \"http://localhost:8000/v1\"\n",
    "\n",
    "client = OpenAI(\n",
    "    api_key=openai_api_key,\n",
    "    base_url=openai_api_base,\n",
    ")\n",
    "\n",
    "prompt = 'hello'\n",
    "\n",
    "chat_response = client.chat.completions.create(model='meta-llama/Meta-Llama-3.1-8B-Instruct',\n",
    "            messages=[{\"role\": \"user\", \"content\": prompt}],\n",
    "            max_tokens=256)\n",
    "ret = chat_response.choices[-1].message.content\n",
    "print(\"Chat response:\", chat_response)"
   ]
  },
  {
   "cell_type": "code",
   "execution_count": 4,
   "metadata": {},
   "outputs": [
    {
     "data": {
      "text/plain": [
       "'Hello. How can I assist you today?'"
      ]
     },
     "execution_count": 4,
     "metadata": {},
     "output_type": "execute_result"
    }
   ],
   "source": [
    "ret"
   ]
  },
  {
   "cell_type": "code",
   "execution_count": null,
   "metadata": {},
   "outputs": [],
   "source": []
  }
 ],
 "metadata": {
  "kernelspec": {
   "display_name": "openrlhf2",
   "language": "python",
   "name": "python3"
  },
  "language_info": {
   "codemirror_mode": {
    "name": "ipython",
    "version": 3
   },
   "file_extension": ".py",
   "mimetype": "text/x-python",
   "name": "python",
   "nbconvert_exporter": "python",
   "pygments_lexer": "ipython3",
   "version": "3.12.9"
  }
 },
 "nbformat": 4,
 "nbformat_minor": 2
}
