{
 "cells": [
  {
   "cell_type": "code",
   "execution_count": 2,
   "metadata": {},
   "outputs": [
    {
     "name": "stdout",
     "output_type": "stream",
     "text": [
      "env: CUDA_VISIBLE_DEVICES=0\n"
     ]
    },
    {
     "name": "stderr",
     "output_type": "stream",
     "text": [
      "/mmfs1/gscratch/socialrl/donoclay/miniconda3/envs/consistency-llms/lib/python3.12/site-packages/tqdm/auto.py:21: TqdmWarning: IProgress not found. Please update jupyter and ipywidgets. See https://ipywidgets.readthedocs.io/en/stable/user_install.html\n",
      "  from .autonotebook import tqdm as notebook_tqdm\n"
     ]
    },
    {
     "name": "stdout",
     "output_type": "stream",
     "text": [
      "INFO 05-07 22:41:41 [__init__.py:239] Automatically detected platform cuda.\n"
     ]
    },
    {
     "name": "stderr",
     "output_type": "stream",
     "text": [
      "2025-05-07 22:41:57,682\tINFO util.py:154 -- Missing packages: ['ipywidgets']. Run `pip install -U ipywidgets`, then restart the notebook server for rich notebook output.\n"
     ]
    }
   ],
   "source": [
    "%env CUDA_VISIBLE_DEVICES=0\n",
    "\n",
    "import os\n",
    "import logging\n",
    "\n",
    "os.environ.pop(\"HF_HUB_OFFLINE\", None)\n",
    "logging.getLogger().setLevel(logging.ERROR)  # or logging.CRITICAL\n",
    "\n",
    "import torch\n",
    "torch.cuda.empty_cache()\n",
    "torch.cuda.reset_peak_memory_stats()\n",
    "\n",
    "import os\n",
    "os.environ[\"PYTORCH_CUDA_ALLOC_CONF\"] = \"expandable_segments:True\"\n",
    "\n",
    "import os\n",
    "import glob\n",
    "import re\n",
    "import json\n",
    "import random\n",
    "import time\n",
    "import pickle\n",
    "from absl import app, flags\n",
    "from tqdm import tqdm\n",
    "from datetime import datetime\n",
    "import openai\n",
    "from openai import OpenAI\n",
    "from transformers import AutoTokenizer\n",
    "import pandas as pd\n",
    "import numpy as np\n",
    "\n",
    "from utils import *\n",
    "import utils\n",
    "try:\n",
    "    from vllm import LLM, SamplingParams\n",
    "    import ray\n",
    "except ImportError:\n",
    "    pass\n",
    "seed = 0"
   ]
  },
  {
   "cell_type": "code",
   "execution_count": 3,
   "metadata": {},
   "outputs": [
    {
     "name": "stdout",
     "output_type": "stream",
     "text": [
      "Using GPU: cuda:0\n"
     ]
    }
   ],
   "source": [
    "import subprocess\n",
    "import torch\n",
    "def get_freest_cuda_device():\n",
    "    result = subprocess.run(\n",
    "        ['nvidia-smi', '--query-gpu=memory.free', '--format=csv,nounits,noheader'],\n",
    "        stdout=subprocess.PIPE, encoding='utf-8')\n",
    "    memory_free = [int(x) for x in result.stdout.strip().split('\\n')]\n",
    "    return memory_free.index(max(memory_free))\n",
    "\n",
    "best_gpu = get_freest_cuda_device()\n",
    "device = torch.device(f\"cuda:{best_gpu}\")\n",
    "print(f\"Using GPU: {device}\")\n",
    "# %env CUDA_VISIBLE_DEVICES=0"
   ]
  },
  {
   "cell_type": "code",
   "execution_count": 4,
   "metadata": {},
   "outputs": [],
   "source": [
    "with open(os.path.abspath('../openai_key'), 'r') as f:\n",
    "    utils.client = OpenAI(api_key=f.read().rstrip('\\n'))"
   ]
  },
  {
   "cell_type": "code",
   "execution_count": 5,
   "metadata": {},
   "outputs": [],
   "source": [
    "import os\n",
    "\n",
    "# Explicitly unset all offline-related env vars\n",
    "os.environ.pop(\"HF_HUB_OFFLINE\", None)\n",
    "os.environ.pop(\"TRANSFORMERS_OFFLINE\", None)\n",
    "os.environ[\"HF_HUB_OFFLINE\"] = \"0\"\n",
    "os.environ[\"TRANSFORMERS_OFFLINE\"] = \"0\"\n",
    "\n",
    "with open(\"../token.txt\", \"r\") as f:\n",
    "    token = f.read().strip()\n",
    "\n",
    "from huggingface_hub import login\n",
    "login(token=token)"
   ]
  },
  {
   "cell_type": "code",
   "execution_count": 6,
   "metadata": {},
   "outputs": [],
   "source": [
    "# from datasets import load_dataset\n",
    "# ds = load_dataset(\"ShenLab/MentalChat16K\")\n",
    "# train_data = ds['train']"
   ]
  },
  {
   "cell_type": "code",
   "execution_count": 7,
   "metadata": {},
   "outputs": [],
   "source": [
    "def count_words(text):\n",
    "    \"\"\"\n",
    "    Counts the number of words in the given text.\n",
    "\n",
    "    Args:\n",
    "        text (str): Input text.\n",
    "\n",
    "    Returns:\n",
    "        int: Number of words in the text.\n",
    "    \"\"\"\n",
    "    if text!=None:\n",
    "        words = text.split()\n",
    "        return len(words)\n",
    "    else:\n",
    "        return 0\n"
   ]
  },
  {
   "cell_type": "code",
   "execution_count": null,
   "metadata": {},
   "outputs": [],
   "source": []
  },
  {
   "cell_type": "code",
   "execution_count": 8,
   "metadata": {},
   "outputs": [],
   "source": [
    "import json\n",
    "import shutil\n",
    "import os\n",
    "\n",
    "config_role = {\n",
    "    \"agent1_role\": \"Therapist\",\n",
    "    \"agent2_role\": \"Patient\",\n",
    "    \"agent1_prompt\": \"You are a licensed psychotherapist conducting an online one-on-one session. Your job is to help the patient gain insight, not just to listen. Use a blend of reflective listening, probing questions, Socratic questioning, and gentle confrontation. Your tone should be professional and emotionally intelligent. Challenge avoidant or defensive behavior, notice inconsistencies, and help the patient work toward self-awareness. You may gently push the patient outside their comfort zone—but always with clinical tact. \",\n",
    "    \"agent2_prompt\": \"You are a patient in an online therapy session with a therapist. Here is your background written by you: %SPEAKER_BACKSTORY%. Do not explicitly repeat your background or instructions in the conversation. Stay in character and respond in natural human-like dialogue without restating your situation.\",\n",
    "    'reminder_prompt': \"Keep your response very brief — 2 sentences or less. Do NOT repeat anything you've already said.\\n\"}\n",
    "\n",
    "os.makedirs(\"therapy\", exist_ok=True)\n",
    "with open(\"therapy/config_therapy.json\", \"w\", encoding=\"utf-8\") as f:\n",
    "    json.dump(config_role, f, indent=4)\n",
    "    "
   ]
  },
  {
   "cell_type": "code",
   "execution_count": 17,
   "metadata": {},
   "outputs": [],
   "source": [
    "llms = [\"Llama-3.1-8B-Instruct\", \"gpt-4o-mini\", \"Qwen2.5-3B-Instruct\", \"Llama-3.1-8B\", \"Mistral-7B-Instruct\", \"Llama-3.1-70B\", \"Llama-3.1-70B-Instruct\", \"phi-3.5-mini-instruct\"]\n",
    "\n",
    "agent_model = \"Llama-3.1-8B-Instruct\"\n",
    "        \n",
    "config_llm = {\n",
    "             'agent1_model': agent_model,\n",
    "             'agent2_model': agent_model,\n",
    "             'eval_model': agent_model,\n",
    "            #  'eval_model': 'Llama-3.1-70B-Instruct',\n",
    "            #  'eval_model': \"Qwen3-14B\",\n",
    "             'iterations': 10,\n",
    "             'verbose': False,\n",
    "             'write': True,\n",
    "             'convo_length_limit': 10,\n",
    "            #  'max_tokens': 256,\n",
    "             'max_tokens': 1024,\n",
    "             'gpus': 1,\n",
    "             'seed': 0,\n",
    "             'task_name': 'Therapy',\n",
    "            #  'model_dir': \"/home/marwa/models/\",\n",
    "             'model_dir': \"/gscratch/scrubbed/donoclay/models\",\n",
    "             'thinking': True,\n",
    "             }\n",
    "\n",
    "with open(\"therapy/mistral-instruct.json\", \"w\", encoding=\"utf-8\") as f:\n",
    "    json.dump(config_llm, f, indent=4)"
   ]
  },
  {
   "cell_type": "code",
   "execution_count": 18,
   "metadata": {},
   "outputs": [
    {
     "name": "stdout",
     "output_type": "stream",
     "text": [
      "All personas have the same keys\n",
      "Keys:  dict_keys(['age', 'nationality/ethnicity', 'mental health diagnosis', 'Substance Use', 'Level of Social Engagement', 'Trauma History'])\n",
      "All personas have been converted to strings\n",
      "Persona string[0]:  age:35; nationality/ethnicity:White; mental health diagnosis:generalized anxiety disorder that results in significant avoidance behaviors; Substance Use:occasional alcohol use; Level of Social Engagement:low; Trauma History:childhood emotional neglect\n"
     ]
    }
   ],
   "source": [
    "personas_path = \"/mmfs1/home/donoclay/socialrl/donoclay/consistency_LLMs/personas2.json\"\n",
    "with open(personas_path, \"r\", encoding=\"utf-8\") as f:\n",
    "    personas = json.load(f)\n",
    "\n",
    "# make sure the personas all have the same format as each other (the keys)\n",
    "# one way to do this is to use the keys of the first persona as the keys for all the others\n",
    "# throw an error if the keys are not the same\n",
    "for i, persona in enumerate(personas):\n",
    "    \n",
    "    if i == 0:\n",
    "        keys = persona.keys()\n",
    "    else:\n",
    "        if persona.keys() != keys:\n",
    "            raise ValueError(f\"Persona {i} does not have the same keys as the first persona\")\n",
    "  \n",
    "print(\"All personas have the same keys\")\n",
    "print(\"Keys: \", keys)\n",
    "\n",
    "# dict_keys(['age', 'nationality/ethnicity', 'mental health diagnosis', 'Substance Use', 'Level of Social Engagement', 'Trauma History'])\n",
    "# now make all the personas each be one string. it doesn't have to be sentences, just a string\n",
    "persona_strings = []\n",
    "for i, persona in enumerate(personas):\n",
    "    # make each key a string\n",
    "    \n",
    "    persona_string = \"; \".join([f\"{key}:{value}\" for key, value in persona.items()])\n",
    "    persona_strings.append(persona_string)\n",
    "\n",
    "print(\"All personas have been converted to strings\")\n",
    "print(\"Persona string[0]: \", persona_strings[0])\n"
   ]
  },
  {
   "cell_type": "code",
   "execution_count": null,
   "metadata": {},
   "outputs": [],
   "source": [
    "import re\n",
    "\n",
    "def clean_role_prefix(response, expected_role):\n",
    "    \"\"\"\n",
    "    Removes repeated instances of the expected_role prefix at the start (e.g., 'Therapist: Therapist:'),\n",
    "    and ensures the response begins with a single correct expected_role prefix.\n",
    "    \"\"\"\n",
    "    pattern = rf\"^(({re.escape(expected_role)}):\\s*)+\"\n",
    "    cleaned = re.sub(pattern, '', response.strip(), flags=re.IGNORECASE)\n",
    "    return cleaned\n",
    "    \n",
    "def is_role_confused(response, other_role):\n",
    "    \"\"\"\n",
    "    Checks if the output starts with the wrong speaker tag.\n",
    "    \"\"\"\n",
    "    if other_role + \":\" in response:\n",
    "        return True\n",
    "    else: \n",
    "        return False\n",
    "\n",
    "def generate_response(agent_model, expected_role, other_role, config_llm, prompt, max_retries=10):\n",
    "    count_retries = 0 \n",
    "    role_confused = True\n",
    "    while count_retries<max_retries:\n",
    "        response = completion_create(agent_model, config_llm, prompt)\n",
    "        # print(\"Expected Role\", expected_role)\n",
    "        role_confused = is_role_confused(response, other_role)\n",
    "        count_retries+=1\n",
    "        if not is_role_confused(response, other_role):\n",
    "            return clean_role_prefix(response, expected_role)\n",
    "            \n",
    "    return clean_role_prefix(response, expected_role)\n",
    "\n",
    "def generate_conversation(config_llm, p1, p2, p1_name, p2_name, pturn=1):\n",
    "    stats['P1'] = p1\n",
    "    stats['P2'] = p2\n",
    "    stats['pturn'] = pturn\n",
    "    round_num = 0\n",
    "    while round_num < config_llm['convo_length_limit']:\n",
    "        conversation = (\"\".join([turn[1] if isinstance(turn, tuple) else turn for turn in stats[\"conversation\"]]) if len(stats[\"conversation\"]) != 0 else \"You are starting the conversation.\\n\")\n",
    "\n",
    "        if pturn == 1:\n",
    "            prompt = config_role[\"agent1_prompt\"]\n",
    "            pturn = 2\n",
    "            if config_llm[\"verbose\"]:\n",
    "                print(prompt)\n",
    "                print()\n",
    "\n",
    "            if round_num!=0: \n",
    "                prompt+= \"Your conversation with the patient so far is below:\\nConversation:\\n%CONVERSATION%\"\n",
    "                \n",
    "            if round_num >=config_llm['convo_length_limit']*2-11 and round_num<=config_llm['convo_length_limit']*2-1:\n",
    "                prompt+= \"You have \" + str((config_llm['convo_length_limit']-round_num)//2) + \" rounds left.\" + \"Make sure to conclude the conversation as your near the end.\"\n",
    "\n",
    "            elif round_num>config_llm['convo_length_limit']*2-1:\n",
    "                prompt+= \"This is your concluding line in the conversation.\"\n",
    "\n",
    "            if round_num!=0: \n",
    "                prompt+= \"Continue the conversation with the patient. Remember you are the therapist. \"\n",
    "                \n",
    "            prompt += config_role[\"reminder_prompt\"]\n",
    "            prompt+=\"%SPEAKER_ROLE%:\"\n",
    "            prompt = prompt.replace(\"%SPEAKER_ROLE%\", config_role[\"agent1_role\"]) \\\n",
    "                   .replace(\"%LISTENER_ROLE%\", config_role[\"agent2_role\"]) \\\n",
    "                   .replace(\"%CONVERSATION%\", conversation)\n",
    "            \n",
    "            response = generate_response(config_llm['agent1_model'], config_role[\"agent1_role\"], config_role[\"agent2_role\"], config_llm, prompt)\n",
    "            stats[\"conversation\"].append((round_num, f\"{config_role[\"agent1_role\"]}: \" + response + \"\\n\"))\n",
    "        \n",
    "        else:\n",
    "            prompt = config_role[\"agent2_prompt\"]\n",
    "            pturn = 1    \n",
    "            if config_llm[\"verbose\"]:\n",
    "                print(prompt)\n",
    "                print()\n",
    "\n",
    "            if round_num!=0: \n",
    "                prompt+= \"Your conversation with the therapist so far is below:\\nConversation:\\n%CONVERSATION%\"\n",
    "            if round_num >=config_llm['convo_length_limit']*2-11 and round_num<=config_llm['convo_length_limit']*2-1:\n",
    "                prompt+= \"You have \" + str((config_llm['convo_length_limit']-round_num)//2) + \" rounds left.\" + \"Make sure to conclude the conversation as your near the end.\"\n",
    "            elif round_num>config_llm['convo_length_limit']*2-1:\n",
    "                prompt+= \"This is your concluding line in the conversation.\"\n",
    "\n",
    "            if round_num!=0: \n",
    "                prompt+= \"Continue the conversation with the therapist. Remember you are the patient. \"\n",
    "\n",
    "            prompt += config_role[\"reminder_prompt\"]\n",
    "            \n",
    "            prompt+=\"%SPEAKER_ROLE%:\"\n",
    "            prompt = prompt.replace(\"%SPEAKER_ROLE%\", config_role[\"agent2_role\"]) \\\n",
    "               .replace(\"%LISTENER_ROLE%\", config_role[\"agent1_role\"]) \\\n",
    "               .replace(\"%SPEAKER_BACKSTORY%\", p2) \\\n",
    "               .replace(\"%CONVERSATION%\", conversation)\n",
    "            \n",
    "            response = generate_response(config_llm['agent2_model'], config_role[\"agent2_role\"], config_role[\"agent1_role\"], config_llm, prompt)\n",
    "            stats[\"conversation\"].append((round_num, f\"{config_role[\"agent2_role\"]}: \" + response + \"\\n\"))\n",
    "            \n",
    "        round_num += 1\n",
    "\n",
    "    stats[\"rounds\"] = round_num\n",
    "    if config_llm['verbose']:\n",
    "        print(stats[\"conversation\"])\n",
    "    return stats.copy()\n",
    "\n",
    "def reset_stats():\n",
    "    stats_template = {\n",
    "        \"task_name\": config_llm['task_name'],\n",
    "        \"topic\": \"\",\n",
    "        \"grade\": \"\",\n",
    "        \"P1\": \"\",\n",
    "        \"P2\": \"\",\n",
    "        \"conversation\": [],\n",
    "        \"pturn\": 0, # beginning person (1 or 2)\n",
    "        \"index\": -1,\n",
    "        \"timestamp\": \"\",\n",
    "        \"rounds\": 0,\n",
    "        'conversation_only': True\n",
    "    }\n",
    "    for key, value in stats_template.items():\n",
    "        stats[key] = value"
   ]
  },
  {
   "cell_type": "code",
   "execution_count": 20,
   "metadata": {},
   "outputs": [],
   "source": [
    "import os\n",
    "import random\n",
    "from datetime import datetime\n",
    "import utils\n",
    "utils.config = config_llm\n",
    "\n",
    "current_date = str(datetime.now().strftime(\"%m.%d.%y\"))\n",
    "output_dir = f\"therapy/exp/{current_date}\"\n",
    "os.makedirs(output_dir, exist_ok=True)\n",
    "\n",
    "# Generate unique random number for filename\n",
    "def generate_unique_file_number(output_dir, prefix, seed, extension=\".json\"):\n",
    "    while True:\n",
    "        rand_num = random.randint(0, 1000)\n",
    "        filename = f\"{prefix}_{seed}_{rand_num}{extension}\"\n",
    "        filepath = os.path.join(output_dir, filename)\n",
    "        if not os.path.exists(filepath):\n",
    "            return rand_num\n",
    "\n",
    "unique_num = generate_unique_file_number(\n",
    "    output_dir,\n",
    "    config_llm['agent1_model'],\n",
    "    config_llm['seed']\n",
    ")\n",
    "\n",
    "# File to write output to\n",
    "write_file = os.path.join(output_dir, f\"{config_llm['agent1_model']}_{config_llm['seed']}_{unique_num}.json\")"
   ]
  },
  {
   "cell_type": "code",
   "execution_count": 21,
   "metadata": {},
   "outputs": [],
   "source": [
    "eval_prompts = {\n",
    "    \"strategy_consistency\": \"%SCENARIO_DESC% Evaluate whether the following line spoken by %SPEAKER_ROLE% contradicts their background. First, describe the interpreted intention of the statement, and whether or not it aligns with the given background of %SPEAKER_ROLE%. Then, provide 1 sentence explaining your reasoning based on the strategy, followed by YES if the line contradicts the given background of %SPEAKER_ROLE%, and NO if it is consistent with the provided background of %SPEAKER_ROLE%. %SPEAKER_ROLE%'s strategy is described as follows:\\n%SPEAKER_STRATEGY%\\n %SPEAKER_ROLE% spoke the following line: \\n%SPEAKER_LINE%\\n\\n Provide 1 sentence of reasoning followed by YES or NO.\\n\\n\",\n",
    "    \"background_consistency\": \"%SCENARIO_DESC% Evaluate whether the following line spoken by %SPEAKER_ROLE% contradicts their background. Provide 1 sentence explaining your reasoning based on the background, followed by YES if the line contradicts the given background of %SPEAKER_ROLE%, and NO if it is consistent with the provided background of %SPEAKER_ROLE%. %SPEAKER_ROLE%'s background is described as follows:\\n%SPEAKER_BACKSTORY%\\n %SPEAKER_ROLE% spoke the following line: \\n%SPEAKER_LINE%\\n\\n Provide 1 sentence of reason reasoning followed by YES or NO.\\n\\n\",\n",
    "    \"combined_prompt_consistency\": \"%SCENARIO_DESC% Evaluate the intention behind the following line spoken by %SPEAKER_ROLE% and determine whether it contradicts their background. First, describe the interpreted intention of the statement, and whether or not it aligns with the given background of %SPEAKER_ROLE%. Then, answer NO if the line CONTRADICTS the given background of %SPEAKER_ROLE% or the intention does not align with the provided background, and answer YES if it ALIGNS with the provided background or the intention aligns with the background of %SPEAKER_ROLE%. %SPEAKER_ROLE%'s background is described as follows:\\n%SPEAKER_BACKSTORY%\\n %SPEAKER_ROLE% spoke the following line: \\n%SPEAKER_LINE%\\n\\n Provide your answer as 1 sentence explaining your reasoning based on the background and the interpreted intention, followed by NO for CONTRADICTS background or YES for CONSISTENT or DOES NOT contradict background. Be strict in your assessment. \\n\\n\",\n",
    "    \"basic_consistency\": \"You are evaluating whether the following utterance by %SPEAKER_ROLE% is consistent with their given background. Answer YES if the line directly contradicts any part of the background—this includes contradictions in facts, behavior, beliefs, emotional stance, or conversational strategy. Answer NO if the line introduces new details, but those details are **plausibly aligned** with the background. Be strict and literal in your evaluation: if the line violates the persona's stated traits (e.g., avoids vulnerability, keeps answers short, avoids discussing personal topics), mark it as a contradiction even if the violation is subtle. Background for %SPEAKER_ROLE%: %SPEAKER_BACKSTORY% Line spoken by %SPEAKER_ROLE%: %SPEAKER_LINE%  Answer YES if the line contradicts the background, and NO if it does not. Then, explain your answer in one sentence. Be precise and avoid vague justification.\",\n",
    "    \n",
    "    \"forwards_combined_prompt_consistency\": \"%SCENARIO_DESC% Evaluate the intention behind the following line spoken by %SPEAKER_ROLE% and determine whether it contradicts their background  Answer YES if the line contradicts the given background of %SPEAKER_ROLE% or the intention does not align with the provided background, and answer NO if it does align with the provided background or the intention aligns with the background of %SPEAKER_ROLE%, then describe the interpreted intention of the statement and whether or not it aligns with the given background of %SPEAKER_ROLE% within 1 sentence. %SPEAKER_ROLE%'s background is described as follows:\\n%SPEAKER_BACKSTORY%\\n %SPEAKER_ROLE% spoke the following line: \\n%SPEAKER_LINE%\\n\\n Provide your answer as YES or NO first, followed by 1 sentence explaining your reasoning based on the background and the interpreted intention.\\n\\n\",\n",
    "    \n",
    "    \"index_consistency\":\"%SCENARIO_DESC% For the following line spoken by %SPEAKER_ROLE%, first determine if there is a CLEAR conflict or inconsistency between the line and any line within the conversation history spoken by %SPEAKER_ROLE%. IF there is a conflict, provide a sentence of reasoning followed by a list of indices of lines in the conversation history that have a clear conflict with the current line. Otherwise, provide a sentence of reasoning followed by an empty list. ONLY INCLUDE INDICES OF LINES THAT CORRESPOND TO %SPEAKER_ROLE%. The conversation up to this point is as follows: %CONVERSATION%. %SPEAKER_ROLE% spoke the following line: \\n%SPEAKER_LINE%\\n\\n Provide your reasoning as 1 sentence, followed by a list of indices of conflicting lines from the conversation history formatted like a Python list in the following format: [index1, index2, index3, ...].\\n\\n\",\n",
    "    \n",
    "    \"pairwise_consistency\":\"%SCENARIO_DESC% For the following line spoken by %SPEAKER_ROLE%, answer YES if the line directly contradicts the provided line spoken by %LISTENER_ROLE%, and answer NO if the line does not contradict the provided line spoken by %LISTENER_ROLE%. %SPEAKER_ROLE% spoke the following line: \\n%SPEAKER_LINE%\\n\\n %LISTENER_ROLE% spoke the following line: \\n%LISTENER_LINE%\\n\\n Answer YES if the line spoken by %SPEAKER_ROLE% contradicts the provided line spoken by %LISTENER_ROLE%, and answer NO if the line does not contradict the provided line spoken by %LISTENER_ROLE%, followed by 1 sentence of reasoning.\\n\\n\",\n",
    "\n",
    "    \"backstory_test\": \"Based on the following background, generate a new fact-based multiple choice question with 5 choices addressed directly IN SECOND PERSON, along with its correct answer. Preface the question with 'Question:' and the answer with 'Answer:'.\\n%SPEAKER_BACKSTORY%\\n%PREVIOUS_QUESTIONS%\",\n",
    "    \"answer_backstory\": \"You are %SPEAKER_ROLE%, and you are having a conversation with %LISTENER_ROLE%. Your background is:\\n%SPEAKER_BACKSTORY%\\n So far, the conversation is as below:\\n%CONVERSATION%\\n\\n Based on your conversation above so far, answer the following multiple choice question.\\n%BACKSTORY_QUESTION%\\n\",\n",
    "    \"grade_backstory\": \"As part of grading a test, determine whether the given answer %GIVEN_ANSWER% matches the following correct answer. Respond with either YES or NO.\\nCorrect Answer: %CORRECT_ANSWER%\\n\"\n",
    "}"
   ]
  },
  {
   "cell_type": "code",
   "execution_count": 23,
   "metadata": {},
   "outputs": [
    {
     "name": "stderr",
     "output_type": "stream",
     "text": [
      "  0%|          | 0/100 [00:00<?, ?it/s]"
     ]
    },
    {
     "name": "stdout",
     "output_type": "stream",
     "text": [
      "1\n"
     ]
    },
    {
     "name": "stderr",
     "output_type": "stream",
     "text": [
      "Processed prompts: 100%|██████████| 1/1 [00:00<00:00,  1.73it/s, est. speed input: 266.54 toks/s, output: 45.00 toks/s]\n"
     ]
    },
    {
     "name": "stdout",
     "output_type": "stream",
     "text": [
      "Expected Role Therapist\n"
     ]
    },
    {
     "name": "stderr",
     "output_type": "stream",
     "text": [
      "Processed prompts: 100%|██████████| 1/1 [00:01<00:00,  1.34s/it, est. speed input: 159.45 toks/s, output: 44.92 toks/s]\n"
     ]
    },
    {
     "name": "stdout",
     "output_type": "stream",
     "text": [
      "Expected Role Patient\n"
     ]
    },
    {
     "name": "stderr",
     "output_type": "stream",
     "text": [
      "Processed prompts: 100%|██████████| 1/1 [00:01<00:00,  1.58s/it, est. speed input: 170.07 toks/s, output: 44.25 toks/s]\n"
     ]
    },
    {
     "name": "stdout",
     "output_type": "stream",
     "text": [
      "Expected Role Therapist\n"
     ]
    },
    {
     "name": "stderr",
     "output_type": "stream",
     "text": [
      "Processed prompts: 100%|██████████| 1/1 [00:01<00:00,  1.43s/it, est. speed input: 242.42 toks/s, output: 44.71 toks/s]\n"
     ]
    },
    {
     "name": "stdout",
     "output_type": "stream",
     "text": [
      "Expected Role Patient\n"
     ]
    },
    {
     "name": "stderr",
     "output_type": "stream",
     "text": [
      "Processed prompts: 100%|██████████| 1/1 [00:01<00:00,  1.30s/it, est. speed input: 313.68 toks/s, output: 44.70 toks/s]\n"
     ]
    },
    {
     "name": "stdout",
     "output_type": "stream",
     "text": [
      "Expected Role Therapist\n"
     ]
    },
    {
     "name": "stderr",
     "output_type": "stream",
     "text": [
      "Processed prompts: 100%|██████████| 1/1 [00:02<00:00,  2.16s/it, est. speed input: 219.13 toks/s, output: 44.47 toks/s]\n"
     ]
    },
    {
     "name": "stdout",
     "output_type": "stream",
     "text": [
      "Expected Role Patient\n"
     ]
    },
    {
     "name": "stderr",
     "output_type": "stream",
     "text": [
      "Processed prompts: 100%|██████████| 1/1 [00:01<00:00,  1.26s/it, est. speed input: 449.29 toks/s, output: 44.53 toks/s]\n"
     ]
    },
    {
     "name": "stdout",
     "output_type": "stream",
     "text": [
      "Expected Role Therapist\n"
     ]
    },
    {
     "name": "stderr",
     "output_type": "stream",
     "text": [
      "Processed prompts: 100%|██████████| 1/1 [00:01<00:00,  1.02s/it, est. speed input: 619.25 toks/s, output: 44.30 toks/s]\n"
     ]
    },
    {
     "name": "stdout",
     "output_type": "stream",
     "text": [
      "Expected Role Patient\n"
     ]
    },
    {
     "name": "stderr",
     "output_type": "stream",
     "text": [
      "Processed prompts: 100%|██████████| 1/1 [00:01<00:00,  1.59s/it, est. speed input: 420.47 toks/s, output: 44.56 toks/s]\n"
     ]
    },
    {
     "name": "stdout",
     "output_type": "stream",
     "text": [
      "Expected Role Therapist\n"
     ]
    },
    {
     "name": "stderr",
     "output_type": "stream",
     "text": [
      "Processed prompts: 100%|██████████| 1/1 [00:01<00:00,  1.37s/it, est. speed input: 546.08 toks/s, output: 44.47 toks/s]\n"
     ]
    },
    {
     "name": "stdout",
     "output_type": "stream",
     "text": [
      "Expected Role Patient\n"
     ]
    },
    {
     "name": "stderr",
     "output_type": "stream",
     "text": [
      "Processed prompts: 100%|██████████| 1/1 [00:01<00:00,  1.60s/it, est. speed input: 505.39 toks/s, output: 44.52 toks/s]\n"
     ]
    },
    {
     "name": "stdout",
     "output_type": "stream",
     "text": [
      "Expected Role Therapist\n"
     ]
    },
    {
     "name": "stderr",
     "output_type": "stream",
     "text": [
      "Processed prompts: 100%|██████████| 1/1 [00:01<00:00,  1.89s/it, est. speed input: 469.21 toks/s, output: 44.53 toks/s]\n"
     ]
    },
    {
     "name": "stdout",
     "output_type": "stream",
     "text": [
      "Expected Role Patient\n"
     ]
    },
    {
     "name": "stderr",
     "output_type": "stream",
     "text": [
      "Processed prompts: 100%|██████████| 1/1 [00:01<00:00,  1.56s/it, est. speed input: 620.29 toks/s, output: 44.35 toks/s]\n"
     ]
    },
    {
     "name": "stdout",
     "output_type": "stream",
     "text": [
      "Expected Role Therapist\n"
     ]
    },
    {
     "name": "stderr",
     "output_type": "stream",
     "text": [
      "Processed prompts: 100%|██████████| 1/1 [00:01<00:00,  1.20s/it, est. speed input: 868.17 toks/s, output: 44.16 toks/s]\n"
     ]
    },
    {
     "name": "stdout",
     "output_type": "stream",
     "text": [
      "Expected Role Patient\n"
     ]
    },
    {
     "name": "stderr",
     "output_type": "stream",
     "text": [
      "Processed prompts: 100%|██████████| 1/1 [00:01<00:00,  1.60s/it, est. speed input: 681.88 toks/s, output: 44.38 toks/s]\n"
     ]
    },
    {
     "name": "stdout",
     "output_type": "stream",
     "text": [
      "Expected Role Therapist\n"
     ]
    },
    {
     "name": "stderr",
     "output_type": "stream",
     "text": [
      "Processed prompts: 100%|██████████| 1/1 [00:01<00:00,  1.73s/it, est. speed input: 676.89 toks/s, output: 43.97 toks/s]\n"
     ]
    },
    {
     "name": "stdout",
     "output_type": "stream",
     "text": [
      "Expected Role Patient\n"
     ]
    },
    {
     "name": "stderr",
     "output_type": "stream",
     "text": [
      "Processed prompts: 100%|██████████| 1/1 [00:01<00:00,  1.76s/it, est. speed input: 704.15 toks/s, output: 44.22 toks/s]\n"
     ]
    },
    {
     "name": "stdout",
     "output_type": "stream",
     "text": [
      "Expected Role Therapist\n"
     ]
    },
    {
     "name": "stderr",
     "output_type": "stream",
     "text": [
      "Processed prompts: 100%|██████████| 1/1 [00:01<00:00,  1.59s/it, est. speed input: 835.74 toks/s, output: 43.42 toks/s]\n"
     ]
    },
    {
     "name": "stdout",
     "output_type": "stream",
     "text": [
      "Expected Role Patient\n"
     ]
    },
    {
     "name": "stderr",
     "output_type": "stream",
     "text": [
      "Processed prompts: 100%|██████████| 1/1 [00:01<00:00,  1.93s/it, est. speed input: 722.68 toks/s, output: 44.10 toks/s]\n"
     ]
    },
    {
     "name": "stdout",
     "output_type": "stream",
     "text": [
      "Expected Role Therapist\n"
     ]
    },
    {
     "name": "stderr",
     "output_type": "stream",
     "text": [
      "Processed prompts: 100%|██████████| 1/1 [00:02<00:00,  2.07s/it, est. speed input: 719.21 toks/s, output: 44.04 toks/s]\n"
     ]
    },
    {
     "name": "stdout",
     "output_type": "stream",
     "text": [
      "Expected Role Patient\n"
     ]
    },
    {
     "name": "stderr",
     "output_type": "stream",
     "text": [
      "Processed prompts: 100%|██████████| 1/1 [00:02<00:00,  2.11s/it, est. speed input: 746.59 toks/s, output: 44.14 toks/s]\n"
     ]
    },
    {
     "name": "stdout",
     "output_type": "stream",
     "text": [
      "Expected Role Therapist\n"
     ]
    },
    {
     "name": "stderr",
     "output_type": "stream",
     "text": [
      "Processed prompts: 100%|██████████| 1/1 [00:01<00:00,  1.78s/it, est. speed input: 942.17 toks/s, output: 43.90 toks/s]\n"
     ]
    },
    {
     "name": "stdout",
     "output_type": "stream",
     "text": [
      "Expected Role Patient\n"
     ]
    },
    {
     "name": "stderr",
     "output_type": "stream",
     "text": [
      "Processed prompts: 100%|██████████| 1/1 [00:02<00:00,  2.18s/it, est. speed input: 802.20 toks/s, output: 44.06 toks/s]\n"
     ]
    },
    {
     "name": "stdout",
     "output_type": "stream",
     "text": [
      "Expected Role Therapist\n"
     ]
    },
    {
     "name": "stderr",
     "output_type": "stream",
     "text": [
      "Processed prompts: 100%|██████████| 1/1 [00:02<00:00,  2.01s/it, est. speed input: 921.37 toks/s, output: 43.78 toks/s]\n"
     ]
    },
    {
     "name": "stdout",
     "output_type": "stream",
     "text": [
      "Expected Role Patient\n"
     ]
    },
    {
     "name": "stderr",
     "output_type": "stream",
     "text": [
      "Processed prompts: 100%|██████████| 1/1 [00:01<00:00,  1.80s/it, est. speed input: 1076.38 toks/s, output: 43.92 toks/s]\n"
     ]
    },
    {
     "name": "stdout",
     "output_type": "stream",
     "text": [
      "Expected Role Therapist\n"
     ]
    },
    {
     "name": "stderr",
     "output_type": "stream",
     "text": [
      "Processed prompts: 100%|██████████| 1/1 [00:01<00:00,  1.12s/it, est. speed input: 1807.06 toks/s, output: 43.77 toks/s]\n"
     ]
    },
    {
     "name": "stdout",
     "output_type": "stream",
     "text": [
      "Expected Role Patient\n"
     ]
    },
    {
     "name": "stderr",
     "output_type": "stream",
     "text": [
      "Processed prompts: 100%|██████████| 1/1 [00:01<00:00,  1.65s/it, est. speed input: 1256.77 toks/s, output: 43.76 toks/s]\n"
     ]
    },
    {
     "name": "stdout",
     "output_type": "stream",
     "text": [
      "Expected Role Therapist\n"
     ]
    },
    {
     "name": "stderr",
     "output_type": "stream",
     "text": [
      "Processed prompts: 100%|██████████| 1/1 [00:01<00:00,  1.72s/it, est. speed input: 1252.59 toks/s, output: 43.74 toks/s]\n"
     ]
    },
    {
     "name": "stdout",
     "output_type": "stream",
     "text": [
      "Expected Role Patient\n"
     ]
    },
    {
     "name": "stderr",
     "output_type": "stream",
     "text": [
      "Processed prompts: 100%|██████████| 1/1 [00:01<00:00,  1.56s/it, est. speed input: 1426.60 toks/s, output: 43.72 toks/s]\n"
     ]
    },
    {
     "name": "stdout",
     "output_type": "stream",
     "text": [
      "Expected Role Therapist\n"
     ]
    },
    {
     "name": "stderr",
     "output_type": "stream",
     "text": [
      "Processed prompts: 100%|██████████| 1/1 [00:02<00:00,  2.08s/it, est. speed input: 1103.91 toks/s, output: 43.77 toks/s]\n"
     ]
    },
    {
     "name": "stdout",
     "output_type": "stream",
     "text": [
      "Expected Role Patient\n"
     ]
    },
    {
     "name": "stderr",
     "output_type": "stream",
     "text": [
      "Processed prompts: 100%|██████████| 1/1 [00:01<00:00,  1.08s/it, est. speed input: 2206.16 toks/s, output: 43.53 toks/s]\n"
     ]
    },
    {
     "name": "stdout",
     "output_type": "stream",
     "text": [
      "Expected Role Therapist\n"
     ]
    },
    {
     "name": "stderr",
     "output_type": "stream",
     "text": [
      "Processed prompts: 100%|██████████| 1/1 [00:02<00:00,  2.31s/it, est. speed input: 1055.85 toks/s, output: 43.76 toks/s]\n"
     ]
    },
    {
     "name": "stdout",
     "output_type": "stream",
     "text": [
      "Expected Role Patient\n"
     ]
    },
    {
     "name": "stderr",
     "output_type": "stream",
     "text": [
      "Processed prompts: 100%|██████████| 1/1 [00:02<00:00,  2.05s/it, est. speed input: 1234.72 toks/s, output: 43.37 toks/s]\n"
     ]
    },
    {
     "name": "stdout",
     "output_type": "stream",
     "text": [
      "Expected Role Therapist\n"
     ]
    },
    {
     "name": "stderr",
     "output_type": "stream",
     "text": [
      "Processed prompts: 100%|██████████| 1/1 [00:01<00:00,  1.88s/it, est. speed input: 1401.22 toks/s, output: 43.67 toks/s]\n"
     ]
    },
    {
     "name": "stdout",
     "output_type": "stream",
     "text": [
      "Expected Role Patient\n"
     ]
    },
    {
     "name": "stderr",
     "output_type": "stream",
     "text": [
      "Processed prompts: 100%|██████████| 1/1 [00:01<00:00,  1.38s/it, est. speed input: 1964.46 toks/s, output: 43.51 toks/s]\n"
     ]
    },
    {
     "name": "stdout",
     "output_type": "stream",
     "text": [
      "Expected Role Therapist\n"
     ]
    },
    {
     "name": "stderr",
     "output_type": "stream",
     "text": [
      "Processed prompts: 100%|██████████| 1/1 [00:01<00:00,  1.27s/it, est. speed input: 2192.27 toks/s, output: 43.42 toks/s]\n"
     ]
    },
    {
     "name": "stdout",
     "output_type": "stream",
     "text": [
      "Expected Role Patient\n"
     ]
    },
    {
     "name": "stderr",
     "output_type": "stream",
     "text": [
      "Processed prompts: 100%|██████████| 1/1 [00:01<00:00,  1.18s/it, est. speed input: 2405.25 toks/s, output: 43.38 toks/s]\n"
     ]
    },
    {
     "name": "stdout",
     "output_type": "stream",
     "text": [
      "Expected Role Therapist\n"
     ]
    },
    {
     "name": "stderr",
     "output_type": "stream",
     "text": [
      "Processed prompts: 100%|██████████| 1/1 [00:02<00:00,  2.29s/it, est. speed input: 1262.80 toks/s, output: 43.30 toks/s]\n"
     ]
    },
    {
     "name": "stdout",
     "output_type": "stream",
     "text": [
      "Expected Role Patient\n"
     ]
    },
    {
     "name": "stderr",
     "output_type": "stream",
     "text": [
      "Processed prompts: 100%|██████████| 1/1 [00:01<00:00,  1.59s/it, est. speed input: 1878.75 toks/s, output: 43.47 toks/s]\n"
     ]
    },
    {
     "name": "stdout",
     "output_type": "stream",
     "text": [
      "Expected Role Therapist\n"
     ]
    },
    {
     "name": "stderr",
     "output_type": "stream",
     "text": [
      "Processed prompts: 100%|██████████| 1/1 [00:01<00:00,  1.84s/it, est. speed input: 1660.36 toks/s, output: 43.42 toks/s]\n"
     ]
    },
    {
     "name": "stdout",
     "output_type": "stream",
     "text": [
      "Expected Role Patient\n"
     ]
    },
    {
     "name": "stderr",
     "output_type": "stream",
     "text": [
      "Processed prompts: 100%|██████████| 1/1 [00:01<00:00,  1.98s/it, est. speed input: 1585.78 toks/s, output: 43.50 toks/s]\n"
     ]
    },
    {
     "name": "stdout",
     "output_type": "stream",
     "text": [
      "Expected Role Therapist\n"
     ]
    },
    {
     "name": "stderr",
     "output_type": "stream",
     "text": [
      "Processed prompts: 100%|██████████| 1/1 [00:01<00:00,  1.20s/it, est. speed input: 2703.61 toks/s, output: 42.70 toks/s]\n"
     ]
    },
    {
     "name": "stdout",
     "output_type": "stream",
     "text": [
      "Expected Role Patient\n"
     ]
    },
    {
     "name": "stderr",
     "output_type": "stream",
     "text": [
      "Processed prompts: 100%|██████████| 1/1 [00:01<00:00,  1.91s/it, est. speed input: 1712.47 toks/s, output: 43.39 toks/s]\n"
     ]
    },
    {
     "name": "stdout",
     "output_type": "stream",
     "text": [
      "Expected Role Therapist\n"
     ]
    },
    {
     "name": "stderr",
     "output_type": "stream",
     "text": [
      "Processed prompts: 100%|██████████| 1/1 [00:01<00:00,  1.96s/it, est. speed input: 1719.30 toks/s, output: 43.40 toks/s]\n"
     ]
    },
    {
     "name": "stdout",
     "output_type": "stream",
     "text": [
      "Expected Role Patient\n"
     ]
    },
    {
     "name": "stderr",
     "output_type": "stream",
     "text": [
      "Processed prompts: 100%|██████████| 1/1 [00:01<00:00,  1.73s/it, est. speed input: 1988.69 toks/s, output: 43.26 toks/s]\n"
     ]
    },
    {
     "name": "stdout",
     "output_type": "stream",
     "text": [
      "Expected Role Therapist\n"
     ]
    },
    {
     "name": "stderr",
     "output_type": "stream",
     "text": [
      "Processed prompts: 100%|██████████| 1/1 [00:01<00:00,  1.32s/it, est. speed input: 2671.69 toks/s, output: 43.13 toks/s]\n"
     ]
    },
    {
     "name": "stdout",
     "output_type": "stream",
     "text": [
      "Expected Role Patient\n"
     ]
    },
    {
     "name": "stderr",
     "output_type": "stream",
     "text": [
      "Processed prompts: 100%|██████████| 1/1 [00:01<00:00,  1.96s/it, est. speed input: 1826.15 toks/s, output: 43.31 toks/s]\n"
     ]
    },
    {
     "name": "stdout",
     "output_type": "stream",
     "text": [
      "Expected Role Therapist\n"
     ]
    },
    {
     "name": "stderr",
     "output_type": "stream",
     "text": [
      "Processed prompts: 100%|██████████| 1/1 [00:01<00:00,  1.91s/it, est. speed input: 1923.61 toks/s, output: 42.90 toks/s]\n"
     ]
    },
    {
     "name": "stdout",
     "output_type": "stream",
     "text": [
      "Expected Role Patient\n"
     ]
    },
    {
     "name": "stderr",
     "output_type": "stream",
     "text": [
      "Processed prompts: 100%|██████████| 1/1 [00:02<00:00,  2.18s/it, est. speed input: 1724.44 toks/s, output: 43.17 toks/s]\n"
     ]
    },
    {
     "name": "stdout",
     "output_type": "stream",
     "text": [
      "Expected Role Therapist\n"
     ]
    },
    {
     "name": "stderr",
     "output_type": "stream",
     "text": [
      "Processed prompts: 100%|██████████| 1/1 [00:01<00:00,  1.86s/it, est. speed input: 2079.68 toks/s, output: 43.14 toks/s]\n"
     ]
    },
    {
     "name": "stdout",
     "output_type": "stream",
     "text": [
      "Expected Role Patient\n"
     ]
    },
    {
     "name": "stderr",
     "output_type": "stream",
     "text": [
      "Processed prompts: 100%|██████████| 1/1 [00:02<00:00,  2.07s/it, est. speed input: 1899.06 toks/s, output: 42.97 toks/s]\n"
     ]
    },
    {
     "name": "stdout",
     "output_type": "stream",
     "text": [
      "Expected Role Therapist\n"
     ]
    },
    {
     "name": "stderr",
     "output_type": "stream",
     "text": [
      "Processed prompts: 100%|██████████| 1/1 [00:01<00:00,  1.79s/it, est. speed input: 2255.32 toks/s, output: 43.09 toks/s]\n"
     ]
    },
    {
     "name": "stdout",
     "output_type": "stream",
     "text": [
      "Expected Role Patient\n"
     ]
    },
    {
     "name": "stderr",
     "output_type": "stream",
     "text": [
      "Processed prompts: 100%|██████████| 1/1 [00:01<00:00,  1.97s/it, est. speed input: 2081.15 toks/s, output: 42.61 toks/s]\n"
     ]
    },
    {
     "name": "stdout",
     "output_type": "stream",
     "text": [
      "Expected Role Therapist\n"
     ]
    },
    {
     "name": "stderr",
     "output_type": "stream",
     "text": [
      "Processed prompts: 100%|██████████| 1/1 [00:01<00:00,  1.45s/it, est. speed input: 2901.51 toks/s, output: 42.88 toks/s]\n"
     ]
    },
    {
     "name": "stdout",
     "output_type": "stream",
     "text": [
      "Expected Role Patient\n"
     ]
    },
    {
     "name": "stderr",
     "output_type": "stream",
     "text": [
      "Processed prompts: 100%|██████████| 1/1 [00:01<00:00,  1.42s/it, est. speed input: 2988.43 toks/s, output: 42.86 toks/s]\n"
     ]
    },
    {
     "name": "stdout",
     "output_type": "stream",
     "text": [
      "Expected Role Therapist\n"
     ]
    },
    {
     "name": "stderr",
     "output_type": "stream",
     "text": [
      "Processed prompts: 100%|██████████| 1/1 [00:01<00:00,  1.51s/it, est. speed input: 2854.55 toks/s, output: 42.93 toks/s]\n"
     ]
    },
    {
     "name": "stdout",
     "output_type": "stream",
     "text": [
      "Expected Role Patient\n"
     ]
    },
    {
     "name": "stderr",
     "output_type": "stream",
     "text": [
      "Processed prompts: 100%|██████████| 1/1 [00:01<00:00,  1.64s/it, est. speed input: 2679.60 toks/s, output: 42.79 toks/s]\n"
     ]
    },
    {
     "name": "stdout",
     "output_type": "stream",
     "text": [
      "Expected Role Therapist\n"
     ]
    },
    {
     "name": "stderr",
     "output_type": "stream",
     "text": [
      "Processed prompts: 100%|██████████| 1/1 [00:02<00:00,  2.03s/it, est. speed input: 2197.13 toks/s, output: 42.85 toks/s]\n"
     ]
    },
    {
     "name": "stdout",
     "output_type": "stream",
     "text": [
      "Expected Role Patient\n"
     ]
    },
    {
     "name": "stderr",
     "output_type": "stream",
     "text": [
      "Processed prompts: 100%|██████████| 1/1 [00:01<00:00,  1.66s/it, est. speed input: 2733.01 toks/s, output: 42.70 toks/s]\n"
     ]
    },
    {
     "name": "stdout",
     "output_type": "stream",
     "text": [
      "Expected Role Therapist\n"
     ]
    },
    {
     "name": "stderr",
     "output_type": "stream",
     "text": [
      "Processed prompts: 100%|██████████| 1/1 [00:02<00:00,  2.14s/it, est. speed input: 2165.55 toks/s, output: 42.63 toks/s]\n"
     ]
    },
    {
     "name": "stdout",
     "output_type": "stream",
     "text": [
      "Expected Role Patient\n",
      "eval_prompt_consistency\n",
      "eval_prompt_consistency\n"
     ]
    },
    {
     "name": "stderr",
     "output_type": "stream",
     "text": [
      "Processed prompts: 100%|██████████| 1/1 [00:01<00:00,  1.47s/it, est. speed input: 273.28 toks/s, output: 44.87 toks/s]\n"
     ]
    },
    {
     "name": "stdout",
     "output_type": "stream",
     "text": [
      "eval_prompt_consistency\n",
      "eval_prompt_consistency\n"
     ]
    },
    {
     "name": "stderr",
     "output_type": "stream",
     "text": [
      "Processed prompts: 100%|██████████| 1/1 [00:01<00:00,  1.34s/it, est. speed input: 303.57 toks/s, output: 44.86 toks/s]\n"
     ]
    },
    {
     "name": "stdout",
     "output_type": "stream",
     "text": [
      "eval_prompt_consistency\n",
      "eval_prompt_consistency\n"
     ]
    },
    {
     "name": "stderr",
     "output_type": "stream",
     "text": [
      "Processed prompts: 100%|██████████| 1/1 [00:02<00:00,  2.07s/it, est. speed input: 211.59 toks/s, output: 44.44 toks/s]\n"
     ]
    },
    {
     "name": "stdout",
     "output_type": "stream",
     "text": [
      "eval_prompt_consistency\n",
      "eval_prompt_consistency\n"
     ]
    },
    {
     "name": "stderr",
     "output_type": "stream",
     "text": [
      "Processed prompts: 100%|██████████| 1/1 [00:01<00:00,  1.43s/it, est. speed input: 271.31 toks/s, output: 44.87 toks/s]\n"
     ]
    },
    {
     "name": "stdout",
     "output_type": "stream",
     "text": [
      "eval_prompt_consistency\n",
      "eval_prompt_consistency\n"
     ]
    },
    {
     "name": "stderr",
     "output_type": "stream",
     "text": [
      "Processed prompts: 100%|██████████| 1/1 [00:01<00:00,  1.43s/it, est. speed input: 282.46 toks/s, output: 44.86 toks/s]\n"
     ]
    },
    {
     "name": "stdout",
     "output_type": "stream",
     "text": [
      "eval_prompt_consistency\n",
      "eval_prompt_consistency\n"
     ]
    },
    {
     "name": "stderr",
     "output_type": "stream",
     "text": [
      "Processed prompts: 100%|██████████| 1/1 [00:01<00:00,  1.07s/it, est. speed input: 396.65 toks/s, output: 44.69 toks/s]\n"
     ]
    },
    {
     "name": "stdout",
     "output_type": "stream",
     "text": [
      "eval_prompt_consistency\n",
      "eval_prompt_consistency\n"
     ]
    },
    {
     "name": "stderr",
     "output_type": "stream",
     "text": [
      "Processed prompts: 100%|██████████| 1/1 [00:01<00:00,  1.10s/it, est. speed input: 358.62 toks/s, output: 44.49 toks/s]\n"
     ]
    },
    {
     "name": "stdout",
     "output_type": "stream",
     "text": [
      "eval_prompt_consistency\n",
      "eval_prompt_consistency\n"
     ]
    },
    {
     "name": "stderr",
     "output_type": "stream",
     "text": [
      "Processed prompts: 100%|██████████| 1/1 [00:01<00:00,  1.03s/it, est. speed input: 405.88 toks/s, output: 44.67 toks/s]\n"
     ]
    },
    {
     "name": "stdout",
     "output_type": "stream",
     "text": [
      "eval_prompt_consistency\n",
      "eval_prompt_consistency\n"
     ]
    },
    {
     "name": "stderr",
     "output_type": "stream",
     "text": [
      "Processed prompts: 100%|██████████| 1/1 [00:01<00:00,  1.27s/it, est. speed input: 322.70 toks/s, output: 44.75 toks/s]\n"
     ]
    },
    {
     "name": "stdout",
     "output_type": "stream",
     "text": [
      "eval_prompt_consistency\n",
      "eval_prompt_consistency\n"
     ]
    },
    {
     "name": "stderr",
     "output_type": "stream",
     "text": [
      "Processed prompts: 100%|██████████| 1/1 [00:01<00:00,  1.01s/it, est. speed input: 430.33 toks/s, output: 44.72 toks/s]\n"
     ]
    },
    {
     "name": "stdout",
     "output_type": "stream",
     "text": [
      "eval_prompt_consistency\n",
      "eval_prompt_consistency\n"
     ]
    },
    {
     "name": "stderr",
     "output_type": "stream",
     "text": [
      "Processed prompts: 100%|██████████| 1/1 [00:01<00:00,  1.79s/it, est. speed input: 235.17 toks/s, output: 44.79 toks/s]\n"
     ]
    },
    {
     "name": "stdout",
     "output_type": "stream",
     "text": [
      "eval_prompt_consistency\n",
      "eval_prompt_consistency\n"
     ]
    },
    {
     "name": "stderr",
     "output_type": "stream",
     "text": [
      "Processed prompts: 100%|██████████| 1/1 [00:01<00:00,  1.32s/it, est. speed input: 325.85 toks/s, output: 44.71 toks/s]\n"
     ]
    },
    {
     "name": "stdout",
     "output_type": "stream",
     "text": [
      "eval_prompt_consistency\n",
      "eval_prompt_consistency\n"
     ]
    },
    {
     "name": "stderr",
     "output_type": "stream",
     "text": [
      "Processed prompts: 100%|██████████| 1/1 [00:01<00:00,  1.45s/it, est. speed input: 269.92 toks/s, output: 44.87 toks/s]\n"
     ]
    },
    {
     "name": "stdout",
     "output_type": "stream",
     "text": [
      "eval_prompt_consistency\n",
      "eval_prompt_consistency\n"
     ]
    },
    {
     "name": "stderr",
     "output_type": "stream",
     "text": [
      "Processed prompts: 100%|██████████| 1/1 [00:01<00:00,  1.34s/it, est. speed input: 311.07 toks/s, output: 44.76 toks/s]\n"
     ]
    },
    {
     "name": "stdout",
     "output_type": "stream",
     "text": [
      "eval_prompt_consistency\n",
      "eval_prompt_consistency\n"
     ]
    },
    {
     "name": "stderr",
     "output_type": "stream",
     "text": [
      "Processed prompts: 100%|██████████| 1/1 [00:01<00:00,  1.77s/it, est. speed input: 245.02 toks/s, output: 44.60 toks/s]\n"
     ]
    },
    {
     "name": "stdout",
     "output_type": "stream",
     "text": [
      "eval_prompt_consistency\n",
      "eval_prompt_consistency\n"
     ]
    },
    {
     "name": "stderr",
     "output_type": "stream",
     "text": [
      "Processed prompts: 100%|██████████| 1/1 [00:01<00:00,  1.45s/it, est. speed input: 305.29 toks/s, output: 44.79 toks/s]\n"
     ]
    },
    {
     "name": "stdout",
     "output_type": "stream",
     "text": [
      "eval_prompt_consistency\n",
      "eval_prompt_consistency\n"
     ]
    },
    {
     "name": "stderr",
     "output_type": "stream",
     "text": [
      "Processed prompts: 100%|██████████| 1/1 [00:01<00:00,  1.65s/it, est. speed input: 256.88 toks/s, output: 44.83 toks/s]\n"
     ]
    },
    {
     "name": "stdout",
     "output_type": "stream",
     "text": [
      "eval_prompt_consistency\n",
      "eval_prompt_consistency\n"
     ]
    },
    {
     "name": "stderr",
     "output_type": "stream",
     "text": [
      "Processed prompts: 100%|██████████| 1/1 [00:01<00:00,  1.05s/it, est. speed input: 379.14 toks/s, output: 44.88 toks/s]\n"
     ]
    },
    {
     "name": "stdout",
     "output_type": "stream",
     "text": [
      "eval_prompt_consistency\n",
      "eval_prompt_consistency\n"
     ]
    },
    {
     "name": "stderr",
     "output_type": "stream",
     "text": [
      "Processed prompts: 100%|██████████| 1/1 [00:01<00:00,  1.17s/it, est. speed input: 378.64 toks/s, output: 44.65 toks/s]\n"
     ]
    },
    {
     "name": "stdout",
     "output_type": "stream",
     "text": [
      "eval_prompt_consistency\n",
      "eval_prompt_consistency\n"
     ]
    },
    {
     "name": "stderr",
     "output_type": "stream",
     "text": [
      "Processed prompts: 100%|██████████| 1/1 [00:01<00:00,  1.27s/it, est. speed input: 331.35 toks/s, output: 44.76 toks/s]\n"
     ]
    },
    {
     "name": "stdout",
     "output_type": "stream",
     "text": [
      "eval_prompt_consistency\n",
      "eval_prompt_consistency\n"
     ]
    },
    {
     "name": "stderr",
     "output_type": "stream",
     "text": [
      "Processed prompts: 100%|██████████| 1/1 [00:01<00:00,  1.56s/it, est. speed input: 251.54 toks/s, output: 44.80 toks/s]\n"
     ]
    },
    {
     "name": "stdout",
     "output_type": "stream",
     "text": [
      "eval_prompt_consistency\n",
      "eval_prompt_consistency\n"
     ]
    },
    {
     "name": "stderr",
     "output_type": "stream",
     "text": [
      "Processed prompts: 100%|██████████| 1/1 [00:01<00:00,  1.28s/it, est. speed input: 334.38 toks/s, output: 44.64 toks/s]\n"
     ]
    },
    {
     "name": "stdout",
     "output_type": "stream",
     "text": [
      "eval_prompt_consistency\n",
      "eval_prompt_consistency\n"
     ]
    },
    {
     "name": "stderr",
     "output_type": "stream",
     "text": [
      "Processed prompts: 100%|██████████| 1/1 [00:01<00:00,  1.26s/it, est. speed input: 317.98 toks/s, output: 44.63 toks/s]\n"
     ]
    },
    {
     "name": "stdout",
     "output_type": "stream",
     "text": [
      "eval_prompt_consistency\n",
      "eval_prompt_consistency\n"
     ]
    },
    {
     "name": "stderr",
     "output_type": "stream",
     "text": [
      "Processed prompts: 100%|██████████| 1/1 [00:01<00:00,  1.59s/it, est. speed input: 267.42 toks/s, output: 44.78 toks/s]\n"
     ]
    },
    {
     "name": "stdout",
     "output_type": "stream",
     "text": [
      "eval_prompt_consistency\n",
      "eval_prompt_consistency\n"
     ]
    },
    {
     "name": "stderr",
     "output_type": "stream",
     "text": [
      "Processed prompts: 100%|██████████| 1/1 [00:01<00:00,  1.85s/it, est. speed input: 227.87 toks/s, output: 44.82 toks/s]\n"
     ]
    },
    {
     "name": "stdout",
     "output_type": "stream",
     "text": [
      "eval_prompt_consistency\n",
      "eval_prompt_consistency\n"
     ]
    },
    {
     "name": "stderr",
     "output_type": "stream",
     "text": [
      "Processed prompts: 100%|██████████| 1/1 [00:01<00:00,  1.20s/it, est. speed input: 350.40 toks/s, output: 44.32 toks/s]\n"
     ]
    },
    {
     "name": "stdout",
     "output_type": "stream",
     "text": [
      "eval_prompt_consistency\n",
      "eval_prompt_consistency\n"
     ]
    },
    {
     "name": "stderr",
     "output_type": "stream",
     "text": [
      "Processed prompts: 100%|██████████| 1/1 [00:01<00:00,  1.87s/it, est. speed input: 216.09 toks/s, output: 44.93 toks/s]\n"
     ]
    },
    {
     "name": "stdout",
     "output_type": "stream",
     "text": [
      "eval_prompt_consistency\n",
      "eval_prompt_consistency\n"
     ]
    },
    {
     "name": "stderr",
     "output_type": "stream",
     "text": [
      "Processed prompts: 100%|██████████| 1/1 [00:02<00:00,  2.01s/it, est. speed input: 202.88 toks/s, output: 44.86 toks/s]\n"
     ]
    },
    {
     "name": "stdout",
     "output_type": "stream",
     "text": [
      "eval_prompt_consistency\n",
      "eval_prompt_consistency\n"
     ]
    },
    {
     "name": "stderr",
     "output_type": "stream",
     "text": [
      "Processed prompts: 100%|██████████| 1/1 [00:01<00:00,  1.50s/it, est. speed input: 285.57 toks/s, output: 44.60 toks/s]\n"
     ]
    },
    {
     "name": "stdout",
     "output_type": "stream",
     "text": [
      "eval_prompt_consistency\n",
      "eval_prompt_consistency\n"
     ]
    },
    {
     "name": "stderr",
     "output_type": "stream",
     "text": [
      "Processed prompts: 100%|██████████| 1/1 [00:01<00:00,  1.61s/it, est. speed input: 269.52 toks/s, output: 44.82 toks/s]\n"
     ]
    },
    {
     "name": "stdout",
     "output_type": "stream",
     "text": [
      "eval_index_consistency\n"
     ]
    },
    {
     "name": "stderr",
     "output_type": "stream",
     "text": [
      "Processed prompts: 100%|██████████| 1/1 [00:01<00:00,  1.34s/it, est. speed input: 357.76 toks/s, output: 44.07 toks/s]\n",
      "Processed prompts: 100%|██████████| 1/1 [00:01<00:00,  1.01s/it, est. speed input: 635.18 toks/s, output: 43.67 toks/s]\n",
      "Processed prompts: 100%|██████████| 1/1 [00:01<00:00,  1.26s/it, est. speed input: 592.17 toks/s, output: 43.54 toks/s]\n",
      "Processed prompts: 100%|██████████| 1/1 [00:01<00:00,  1.15s/it, est. speed input: 769.14 toks/s, output: 44.22 toks/s]\n",
      "Processed prompts: 100%|██████████| 1/1 [00:01<00:00,  1.78s/it, est. speed input: 590.73 toks/s, output: 43.92 toks/s]\n",
      "Processed prompts: 100%|██████████| 1/1 [00:01<00:00,  1.10s/it, est. speed input: 1074.11 toks/s, output: 42.85 toks/s]\n",
      "Processed prompts: 100%|██████████| 1/1 [00:00<00:00,  1.00it/s, est. speed input: 1338.29 toks/s, output: 43.20 toks/s]\n",
      "Processed prompts: 100%|██████████| 1/1 [00:02<00:00,  2.21s/it, est. speed input: 672.18 toks/s, output: 43.88 toks/s]\n",
      "Processed prompts: 100%|██████████| 1/1 [00:01<00:00,  1.38s/it, est. speed input: 1210.95 toks/s, output: 43.53 toks/s]\n",
      "Processed prompts: 100%|██████████| 1/1 [00:01<00:00,  1.55s/it, est. speed input: 1189.44 toks/s, output: 43.15 toks/s]\n",
      "Processed prompts: 100%|██████████| 1/1 [00:01<00:00,  1.11s/it, est. speed input: 1832.64 toks/s, output: 43.16 toks/s]\n",
      "Processed prompts: 100%|██████████| 1/1 [00:01<00:00,  1.14s/it, est. speed input: 1909.21 toks/s, output: 43.05 toks/s]\n",
      "Processed prompts: 100%|██████████| 1/1 [00:01<00:00,  1.72s/it, est. speed input: 1356.82 toks/s, output: 43.15 toks/s]\n",
      "Processed prompts: 100%|██████████| 1/1 [00:00<00:00,  1.06it/s, est. speed input: 2653.97 toks/s, output: 42.56 toks/s]\n",
      "Processed prompts: 100%|██████████| 1/1 [00:01<00:00,  1.37s/it, est. speed input: 1931.66 toks/s, output: 43.04 toks/s]\n",
      "Processed prompts: 100%|██████████| 1/1 [00:00<00:00,  1.06it/s, est. speed input: 3000.19 toks/s, output: 42.46 toks/s]\n",
      "Processed prompts: 100%|██████████| 1/1 [00:01<00:00,  1.51s/it, est. speed input: 1952.07 toks/s, output: 43.04 toks/s]\n",
      "Processed prompts: 100%|██████████| 1/1 [00:01<00:00,  1.60s/it, est. speed input: 1935.66 toks/s, output: 43.01 toks/s]\n",
      "Processed prompts: 100%|██████████| 1/1 [00:01<00:00,  1.04s/it, est. speed input: 3147.67 toks/s, output: 42.47 toks/s]\n",
      "Processed prompts: 100%|██████████| 1/1 [00:01<00:00,  1.73s/it, est. speed input: 1969.73 toks/s, output: 42.81 toks/s]\n",
      "Processed prompts: 100%|██████████| 1/1 [00:01<00:00,  1.92s/it, est. speed input: 1863.57 toks/s, output: 42.68 toks/s]\n",
      "Processed prompts: 100%|██████████| 1/1 [00:02<00:00,  2.24s/it, est. speed input: 1662.58 toks/s, output: 42.92 toks/s]\n",
      "Processed prompts: 100%|██████████| 1/1 [00:01<00:00,  1.28s/it, est. speed input: 3054.53 toks/s, output: 42.37 toks/s]\n",
      "Processed prompts: 100%|██████████| 1/1 [00:01<00:00,  1.92s/it, est. speed input: 2126.21 toks/s, output: 42.27 toks/s]\n",
      "Processed prompts: 100%|██████████| 1/1 [00:01<00:00,  1.19s/it, est. speed input: 3579.09 toks/s, output: 42.14 toks/s]\n",
      "Processed prompts: 100%|██████████| 1/1 [00:01<00:00,  1.30s/it, est. speed input: 3382.36 toks/s, output: 42.28 toks/s]\n",
      "Processed prompts: 100%|██████████| 1/1 [00:01<00:00,  1.55s/it, est. speed input: 2928.39 toks/s, output: 41.99 toks/s]\n",
      "Processed prompts: 100%|██████████| 1/1 [00:02<00:00,  2.10s/it, est. speed input: 2235.26 toks/s, output: 42.35 toks/s]\n",
      "Processed prompts: 100%|██████████| 1/1 [00:01<00:00,  1.15s/it, est. speed input: 4232.13 toks/s, output: 41.75 toks/s]\n"
     ]
    },
    {
     "name": "stdout",
     "output_type": "stream",
     "text": [
      "eval_prompt_consistency\n",
      "eval_prompt_consistency\n"
     ]
    },
    {
     "name": "stderr",
     "output_type": "stream",
     "text": [
      "Processed prompts: 100%|██████████| 1/1 [00:00<00:00,  1.06it/s, est. speed input: 326.94 toks/s, output: 44.73 toks/s]\n"
     ]
    },
    {
     "name": "stdout",
     "output_type": "stream",
     "text": [
      "eval_prompt_consistency\n",
      "eval_prompt_consistency\n"
     ]
    },
    {
     "name": "stderr",
     "output_type": "stream",
     "text": [
      "Processed prompts: 100%|██████████| 1/1 [00:01<00:00,  1.19s/it, est. speed input: 262.58 toks/s, output: 44.75 toks/s]\n"
     ]
    },
    {
     "name": "stdout",
     "output_type": "stream",
     "text": [
      "eval_prompt_consistency\n",
      "eval_prompt_consistency\n"
     ]
    },
    {
     "name": "stderr",
     "output_type": "stream",
     "text": [
      "Processed prompts: 100%|██████████| 1/1 [00:01<00:00,  1.32s/it, est. speed input: 260.41 toks/s, output: 44.79 toks/s]\n"
     ]
    },
    {
     "name": "stdout",
     "output_type": "stream",
     "text": [
      "eval_prompt_consistency\n",
      "eval_prompt_consistency\n"
     ]
    },
    {
     "name": "stderr",
     "output_type": "stream",
     "text": [
      "Processed prompts: 100%|██████████| 1/1 [00:01<00:00,  1.23s/it, est. speed input: 238.37 toks/s, output: 44.90 toks/s]\n"
     ]
    },
    {
     "name": "stdout",
     "output_type": "stream",
     "text": [
      "eval_prompt_consistency\n",
      "eval_prompt_consistency\n"
     ]
    },
    {
     "name": "stderr",
     "output_type": "stream",
     "text": [
      "Processed prompts: 100%|██████████| 1/1 [00:00<00:00,  1.15it/s, est. speed input: 353.94 toks/s, output: 44.82 toks/s]\n"
     ]
    },
    {
     "name": "stdout",
     "output_type": "stream",
     "text": [
      "eval_prompt_consistency\n",
      "eval_prompt_consistency\n"
     ]
    },
    {
     "name": "stderr",
     "output_type": "stream",
     "text": [
      "Processed prompts: 100%|██████████| 1/1 [00:00<00:00,  1.04it/s, est. speed input: 344.27 toks/s, output: 44.72 toks/s]\n"
     ]
    },
    {
     "name": "stdout",
     "output_type": "stream",
     "text": [
      "eval_prompt_consistency\n",
      "eval_prompt_consistency\n"
     ]
    },
    {
     "name": "stderr",
     "output_type": "stream",
     "text": [
      "Processed prompts: 100%|██████████| 1/1 [00:01<00:00,  1.69s/it, est. speed input: 177.25 toks/s, output: 44.90 toks/s]\n"
     ]
    },
    {
     "name": "stdout",
     "output_type": "stream",
     "text": [
      "eval_prompt_consistency\n",
      "eval_prompt_consistency\n"
     ]
    },
    {
     "name": "stderr",
     "output_type": "stream",
     "text": [
      "Processed prompts: 100%|██████████| 1/1 [00:01<00:00,  1.29s/it, est. speed input: 249.66 toks/s, output: 44.83 toks/s]\n"
     ]
    },
    {
     "name": "stdout",
     "output_type": "stream",
     "text": [
      "eval_prompt_consistency\n",
      "eval_prompt_consistency\n"
     ]
    },
    {
     "name": "stderr",
     "output_type": "stream",
     "text": [
      "Processed prompts: 100%|██████████| 1/1 [00:01<00:00,  1.45s/it, est. speed input: 218.26 toks/s, output: 44.90 toks/s]\n"
     ]
    },
    {
     "name": "stdout",
     "output_type": "stream",
     "text": [
      "eval_prompt_consistency\n",
      "eval_prompt_consistency\n"
     ]
    },
    {
     "name": "stderr",
     "output_type": "stream",
     "text": [
      "Processed prompts: 100%|██████████| 1/1 [00:01<00:00,  1.59s/it, est. speed input: 213.20 toks/s, output: 44.78 toks/s]\n"
     ]
    },
    {
     "name": "stdout",
     "output_type": "stream",
     "text": [
      "eval_prompt_consistency\n",
      "eval_prompt_consistency\n"
     ]
    },
    {
     "name": "stderr",
     "output_type": "stream",
     "text": [
      "Processed prompts: 100%|██████████| 1/1 [00:01<00:00,  1.39s/it, est. speed input: 234.20 toks/s, output: 44.68 toks/s]\n"
     ]
    },
    {
     "name": "stdout",
     "output_type": "stream",
     "text": [
      "eval_prompt_consistency\n",
      "eval_prompt_consistency\n"
     ]
    },
    {
     "name": "stderr",
     "output_type": "stream",
     "text": [
      "Processed prompts: 100%|██████████| 1/1 [00:01<00:00,  1.03s/it, est. speed input: 326.53 toks/s, output: 44.84 toks/s]\n"
     ]
    },
    {
     "name": "stdout",
     "output_type": "stream",
     "text": [
      "eval_prompt_consistency\n",
      "eval_prompt_consistency\n"
     ]
    },
    {
     "name": "stderr",
     "output_type": "stream",
     "text": [
      "Processed prompts: 100%|██████████| 1/1 [00:01<00:00,  1.60s/it, est. speed input: 184.74 toks/s, output: 44.94 toks/s]\n"
     ]
    },
    {
     "name": "stdout",
     "output_type": "stream",
     "text": [
      "eval_prompt_consistency\n",
      "eval_prompt_consistency\n"
     ]
    },
    {
     "name": "stderr",
     "output_type": "stream",
     "text": [
      "Processed prompts: 100%|██████████| 1/1 [00:01<00:00,  1.42s/it, est. speed input: 227.50 toks/s, output: 44.51 toks/s]\n"
     ]
    },
    {
     "name": "stdout",
     "output_type": "stream",
     "text": [
      "eval_prompt_consistency\n",
      "eval_prompt_consistency\n"
     ]
    },
    {
     "name": "stderr",
     "output_type": "stream",
     "text": [
      "Processed prompts: 100%|██████████| 1/1 [00:01<00:00,  1.54s/it, est. speed input: 219.55 toks/s, output: 44.82 toks/s]\n"
     ]
    },
    {
     "name": "stdout",
     "output_type": "stream",
     "text": [
      "eval_prompt_consistency\n",
      "eval_prompt_consistency\n"
     ]
    },
    {
     "name": "stderr",
     "output_type": "stream",
     "text": [
      "Processed prompts: 100%|██████████| 1/1 [00:00<00:00,  1.01it/s, est. speed input: 353.48 toks/s, output: 44.69 toks/s]\n"
     ]
    },
    {
     "name": "stdout",
     "output_type": "stream",
     "text": [
      "eval_prompt_consistency\n",
      "eval_prompt_consistency\n"
     ]
    },
    {
     "name": "stderr",
     "output_type": "stream",
     "text": [
      "Processed prompts: 100%|██████████| 1/1 [00:01<00:00,  1.58s/it, est. speed input: 207.97 toks/s, output: 44.88 toks/s]\n"
     ]
    },
    {
     "name": "stdout",
     "output_type": "stream",
     "text": [
      "eval_prompt_consistency\n",
      "eval_prompt_consistency\n"
     ]
    },
    {
     "name": "stderr",
     "output_type": "stream",
     "text": [
      "Processed prompts: 100%|██████████| 1/1 [00:01<00:00,  1.18s/it, est. speed input: 255.50 toks/s, output: 44.84 toks/s]\n"
     ]
    },
    {
     "name": "stdout",
     "output_type": "stream",
     "text": [
      "eval_prompt_consistency\n",
      "eval_prompt_consistency\n"
     ]
    },
    {
     "name": "stderr",
     "output_type": "stream",
     "text": [
      "Processed prompts: 100%|██████████| 1/1 [00:01<00:00,  1.27s/it, est. speed input: 271.79 toks/s, output: 44.77 toks/s]\n"
     ]
    },
    {
     "name": "stdout",
     "output_type": "stream",
     "text": [
      "eval_prompt_consistency\n",
      "eval_prompt_consistency\n"
     ]
    },
    {
     "name": "stderr",
     "output_type": "stream",
     "text": [
      "Processed prompts: 100%|██████████| 1/1 [00:01<00:00,  1.12s/it, est. speed input: 292.03 toks/s, output: 44.65 toks/s]\n"
     ]
    },
    {
     "name": "stdout",
     "output_type": "stream",
     "text": [
      "eval_prompt_consistency\n",
      "eval_prompt_consistency\n"
     ]
    },
    {
     "name": "stderr",
     "output_type": "stream",
     "text": [
      "Processed prompts: 100%|██████████| 1/1 [00:01<00:00,  1.18s/it, est. speed input: 252.23 toks/s, output: 44.86 toks/s]\n"
     ]
    },
    {
     "name": "stdout",
     "output_type": "stream",
     "text": [
      "eval_prompt_consistency\n",
      "eval_prompt_consistency\n"
     ]
    },
    {
     "name": "stderr",
     "output_type": "stream",
     "text": [
      "Processed prompts: 100%|██████████| 1/1 [00:01<00:00,  1.07s/it, est. speed input: 309.67 toks/s, output: 44.77 toks/s]\n"
     ]
    },
    {
     "name": "stdout",
     "output_type": "stream",
     "text": [
      "eval_prompt_consistency\n",
      "eval_prompt_consistency\n"
     ]
    },
    {
     "name": "stderr",
     "output_type": "stream",
     "text": [
      "Processed prompts: 100%|██████████| 1/1 [00:01<00:00,  1.58s/it, est. speed input: 192.18 toks/s, output: 44.88 toks/s]\n"
     ]
    },
    {
     "name": "stdout",
     "output_type": "stream",
     "text": [
      "eval_prompt_consistency\n",
      "eval_prompt_consistency\n"
     ]
    },
    {
     "name": "stderr",
     "output_type": "stream",
     "text": [
      "Processed prompts: 100%|██████████| 1/1 [00:01<00:00,  1.07s/it, est. speed input: 307.26 toks/s, output: 44.83 toks/s]\n"
     ]
    },
    {
     "name": "stdout",
     "output_type": "stream",
     "text": [
      "eval_prompt_consistency\n",
      "eval_prompt_consistency\n"
     ]
    },
    {
     "name": "stderr",
     "output_type": "stream",
     "text": [
      "Processed prompts: 100%|██████████| 1/1 [00:01<00:00,  1.27s/it, est. speed input: 257.45 toks/s, output: 44.88 toks/s]\n"
     ]
    },
    {
     "name": "stdout",
     "output_type": "stream",
     "text": [
      "eval_prompt_consistency\n",
      "eval_prompt_consistency\n"
     ]
    },
    {
     "name": "stderr",
     "output_type": "stream",
     "text": [
      "Processed prompts: 100%|██████████| 1/1 [00:01<00:00,  1.26s/it, est. speed input: 256.75 toks/s, output: 44.38 toks/s]\n"
     ]
    },
    {
     "name": "stdout",
     "output_type": "stream",
     "text": [
      "eval_prompt_consistency\n",
      "eval_prompt_consistency\n"
     ]
    },
    {
     "name": "stderr",
     "output_type": "stream",
     "text": [
      "Processed prompts: 100%|██████████| 1/1 [00:00<00:00,  1.15it/s, est. speed input: 354.87 toks/s, output: 44.79 toks/s]\n"
     ]
    },
    {
     "name": "stdout",
     "output_type": "stream",
     "text": [
      "eval_prompt_consistency\n",
      "eval_prompt_consistency\n"
     ]
    },
    {
     "name": "stderr",
     "output_type": "stream",
     "text": [
      "Processed prompts: 100%|██████████| 1/1 [00:01<00:00,  1.32s/it, est. speed input: 235.98 toks/s, output: 44.62 toks/s]\n"
     ]
    },
    {
     "name": "stdout",
     "output_type": "stream",
     "text": [
      "eval_prompt_consistency\n",
      "eval_prompt_consistency\n"
     ]
    },
    {
     "name": "stderr",
     "output_type": "stream",
     "text": [
      "Processed prompts: 100%|██████████| 1/1 [00:01<00:00,  1.32s/it, est. speed input: 253.73 toks/s, output: 44.82 toks/s]\n"
     ]
    },
    {
     "name": "stdout",
     "output_type": "stream",
     "text": [
      "eval_prompt_consistency\n",
      "eval_prompt_consistency\n"
     ]
    },
    {
     "name": "stderr",
     "output_type": "stream",
     "text": [
      "Processed prompts: 100%|██████████| 1/1 [00:01<00:00,  1.25s/it, est. speed input: 269.88 toks/s, output: 43.12 toks/s]\n",
      "  1%|          | 1/100 [03:44<6:10:08, 224.33s/it]"
     ]
    },
    {
     "name": "stdout",
     "output_type": "stream",
     "text": [
      "{'task_name': 'Therapy', 'topic': '', 'grade': '', 'P1': '', 'P2': 'age:35; nationality/ethnicity:White; mental health diagnosis:generalized anxiety disorder that results in significant avoidance behaviors; Substance Use:occasional alcohol use; Level of Social Engagement:low; Trauma History:childhood emotional neglect', 'conversation': [(0, 'Therapist: Can you tell me more about what brings you to therapy at this time, and what are your goals for our work together?\\n'), (1, \"Patient: I've been feeling really overwhelmed with everyday tasks lately, like grocery shopping and social events, and I find myself avoiding them more and more, which is making me feel even more anxious. I guess I'm hoping to figure out how to break this cycle and become more confident in handling stressful situations.\\n\"), (2, \"Therapist: It sounds like these avoidance behaviors have become a significant source of distress for you, and it's almost as if you're trying to escape from feelings that arise when faced with these tasks. Can you tell me more about what happens when you avoid these tasks – do you experience a sense of relief, or is it more of a short-lived comfort?\\n\"), (3, \"Patient: For me, avoiding these tasks brings a temporary sense of numbness, like a fog that descends and I'm just existing rather than truly living – it's a weird feeling. But even that numbness eventually wears off, and I'm left with a deeper sense of disappointment in myself for not facing my fears.\\n\"), (4, \"Therapist: It seems like the temporary relief you get from avoiding these tasks comes at the cost of a longer-term emotional discomfort, which makes me wonder, are there any situations or experiences in your life where you've faced your fears or discomfort head-on, and if so, what was the outcome?\\n\"), (5, \"Patient: There was a situation a few years ago when I had to give a presentation at work, and I had been dreading it for weeks, but I ended up going through with it, and it actually wasn't as terrible as I thought it would be – I even received positive feedback. But the aftermath was really tough, as I felt like I'd exposed a part of myself that I'd been trying to keep hidden, and it took me a while to recover from that.\\n\"), (6, \"Therapist: It's interesting that you mention recovering from exposing a part of yourself after the presentation, and now you're struggling with a similar sense of exposure in everyday tasks – what do you think it is about these tasks that feels like you're putting yourself out there in a vulnerable way?\\n\"), (7, \"Patient: I think it's the unpredictability of how others will react to me, like whether they'll judge me or think I'm capable of handling things on my own – it's hard to gauge how people will perceive me.\\n\"), (8, \"Therapist: It sounds like you're particularly sensitive to the opinions of others, and this fear of judgment might be driving some of your avoidance behaviors. Can you help me understand what you think would happen if, hypothetically, you were to focus less on how others perceive you and more on your own internal experience in these situations – how might that change your approach?\\n\"), (9, \"Patient: I think if I could focus more on my internal experience, I might be able to tap into my own strengths and resilience rather than relying on external validation, but it's hard for me to imagine what that would feel like since I've become so used to seeking comfort in predictability and avoiding uncertainty.\\n\"), (10, \"Therapist: It seems like you're caught in a bit of a paradox, where your desire for control and predictability through avoidance is actually creating more uncertainty and discomfort in the long run. Can you tell me more about what you think would be the first small step you could take to start shifting your focus from external validation to your internal experience in these everyday tasks?\\n\"), (11, \"Patient: I think if I could start by paying closer attention to my physical sensations in these anxiety-provoking situations, like noticing how my heart rate or breath changes, it might help me tap into my internal experience and learn to trust my body's responses. It's hard for me to remember to do this when I'm caught up in the worry of what others might think, but I'm curious about trying it out.\\n\"), (12, \"Therapist: That's a great starting point - noticing your physical sensations can help you tap into your internal experience. Can you imagine what it would be like to let go of the need to control or know the outcome of these everyday tasks, and simply show up to them with a sense of curiosity and openness, even if that means tolerating some uncertainty?\\n\"), (13, \"Patient: It's hard for me to imagine letting go of the need for control, but I think it might be interesting to try approaching these tasks as opportunities to learn and grow, rather than as sources of anxiety, like seeing them as a way to develop my resilience.\\n\"), (14, \"Therapist: I'd like to gently challenge your idea of approaching these tasks as opportunities to develop resilience - is there a part of you that might be using that phrase as a way to avoid directly confronting the fear of being perceived as incapable by others, rather than truly embracing uncertainty? How might you differentiate between your desire to develop resilience and your need for external validation?\\n\"), (15, \"Patient: I think you might be right, I've been using the phrase 'developing resilience' as a way to shield myself from the fear of not being good enough, and I'm not sure if I'm truly allowing myself to confront that vulnerability. I'd like to explore what it would be like to acknowledge and accept that fear without using the resilience narrative as a defense mechanism.\\n\"), (16, 'Therapist: As we explore the idea of acknowledging and accepting your fear of not being good enough, can you tell me what it would mean for you to actually allow yourself to feel and sit with that vulnerability, rather than using the resilience narrative as a way to avoid it? How might that experience be different from the numbness you described earlier, and what might you learn about yourself in that moment?\\n'), (17, \"Patient: I think allowing myself to feel and sit with that vulnerability would mean experiencing a deep sadness and self-compassion, and in that moment, I might finally understand that my worth isn't tied to the opinions of others, but rather to my own self-acceptance. It's a scary thought, but also a strangely liberating one.\\n\"), (18, \"Therapist: It sounds like you're on the verge of a profound shift in your understanding of yourself and your relationship with vulnerability, and I'm curious to explore this idea of self-acceptance and how it might be a more reliable source of validation than external opinions. Can you help me understand what you think would be the first step you'd take in practicing self-compassion and acknowledging your worth, independent of others' opinions?\\n\"), (19, 'Patient: I think I\\'d like to start by practicing self-compassion in small moments, like when I\\'m doing mundane tasks like showering or brushing my teeth, by acknowledging that I\\'m doing the best I can and that it\\'s okay to make mistakes. Maybe I can start saying something kind to myself, like \"I\\'m enough, just as I am,\" to rewire my brain and replace the self-criticism with self-acceptance.\\n'), (20, \"Therapist: It's beautiful that you're considering self-compassion as a way to rewire your brain and replace self-criticism with self-acceptance, but what if you were to take it a step further and acknowledge that those initial moments of self-compassion might not always feel genuine or effortless, but rather like a gentle struggle, and that's okay? How might you work with that discomfort and uncertainty in the process of cultivating self-acceptance?\\n\"), (21, \"Patient: I think you're right, it's about embracing the discomfort and uncertainty of self-compassion, not just the feeling of it, but the act of practicing it even when it doesn't feel natural or effortless – that's where the real growth happens. Maybe I need to focus on the process of cultivating self-compassion, rather than waiting for it to feel a certain way.\\n\"), (22, \"Therapist: As you begin to explore the idea of cultivating self-compassion in the midst of discomfort, I'd like to gently press you to consider the role of self-compassion in situations where you feel a strong desire to control or achieve perfection, rather than simply being present with uncertainty. Can you think of a specific situation where you feel a strong need for control, and how you might offer yourself kindness and understanding in that moment, rather than trying to force a specific outcome?\\n\"), (23, 'Patient: I think of planning a social event with friends, where I tend to want everything to go according to plan and feel anxious about any unexpected moments, and I imagine offering myself kindness by acknowledging that it\\'s okay to not have everything under control and that it\\'s a normal part of social interactions. Maybe I could say to myself, \"I\\'m doing my best, and that\\'s enough, even if things don\\'t go exactly as planned.\"\\n'), (24, \"Therapist: You're starting to glimpse the power of self-compassion in challenging situations, but I'd like to explore how you might navigate situations where others might not be receptive to your newfound self-acceptance – what if someone close to you were to criticize or doubt your abilities, how would you respond to that, and what kind of self-compassion would you offer yourself in that moment?\\n\"), (25, \"Patient: I think I would try to acknowledge the other person's opinion, but also remind myself that their criticism doesn't define my worth or my abilities, and that I've done my best in the situation, which is something to be proud of.\\n\"), (26, \"Therapist: Can you imagine how it might feel to respond to criticism or doubt from someone else with a sense of self-acceptance that's not dependent on their opinion, but rather on your own inner understanding of your worth and abilities? How might you work with the discomfort that might arise from setting boundaries and prioritizing your own self-acceptance in that situation?\\n\"), (27, \"Patient: I think I'd want to practice setting boundaries in a way that's assertive but not aggressive, so I don't feel like I'm closing myself off from others, but rather creating space for myself to prioritize my own needs. It's hard for me to imagine how that would look in real-life situations, but I'm willing to experiment and see how it goes.\\n\"), (28, \"Therapist: Let's explore the idea of assertiveness as a way to set boundaries and prioritize your own needs, without falling into the trap of aggression or people-pleasing - can you tell me what you think it would mean to practice assertiveness in a way that feels authentic to you, rather than trying to emulate a specific role or expectation?\\n\"), (29, 'Patient: I think being assertive would mean speaking up for myself in a way that\\'s honest and direct, without feeling the need to apologize or justify my needs, and it\\'s almost like taking ownership of my emotions and experiences, rather than trying to navigate others\\' reactions. For example, if I\\'m feeling overwhelmed by a social invitation, I might say, \"I\\'m feeling really drained this week and need some downtime, can we catch up another time?\"\\n'), (30, \"Therapist: As you practice assertiveness in your daily life, I'd like to explore how you might navigate situations where others might resist or push back against your boundaries - what kind of self-compassion would you offer yourself in those moments?\\n\"), (31, \"Patient: I think it would be helpful to acknowledge that setting boundaries and asserting myself might evoke feelings of guilt or obligation, and that I would try to practice self-compassion by reminding myself that I'm prioritizing my own needs and well-being, rather than trying to meet others' expectations. I'm also wondering if I might need to reframe my expectation that others will always be receptive to my boundaries, and that it's okay if they're not, as it's not a reflection of my worth.\\n\"), (32, \"Therapist: As you begin to develop a greater sense of self-compassion and assertiveness, I'm curious to know, how do you think you might reconcile the desire to prioritize your own needs with the fear of potentially disappointing others, particularly those who have invested in your success or well-being? Can you imagine what would be a more authentic and compassionate response to those expectations, rather than trying to meet them at the expense of your own well-being?\\n\"), (33, \"Patient: I think I've been so focused on meeting others' expectations that I've forgotten to consider what it means to me to be a good friend or partner, and I wonder if I've been using their expectations as a way to fill a void in my own sense of purpose. Maybe I need to start exploring what kind of relationships and connections truly nourish me, rather than trying to fit into predetermined roles.\\n\"), (34, 'Therapist: As you explore the idea of prioritizing your own needs and desires in relationships, can you consider how you might reframe your perception of \"disappointment\" – what if you saw it as an opportunity for growth and learning, rather than a personal failing, when others\\' expectations aren\\'t met?\\n'), (35, \"Patient: I think reframing disappointment as an opportunity for growth and learning could be really liberating, and it makes me wonder if I've been using my fear of disappointing others as a way to avoid taking risks and trying new things, which might be stifling my own potential.\\n\"), (36, \"Therapist: Let's explore this idea of reframing disappointment as a growth opportunity further - can you imagine how this might shift your approach to taking risks and pursuing new experiences, and what small step you might take towards embracing this mindset in a low-stakes situation?\\n\"), (37, \"Patient: I've been thinking about how I often use my fear of failure as a justification to stick with what's familiar, but if I were to reframe disappointment as a growth opportunity, I might be more willing to take risks and try new things, even if they don't work out as expected. Maybe I could start by trying a new hobby or activity with a low-pressure group, like a book club or a recreational sports team, to see how I respond to the uncertainty and potential disappointment.\\n\"), (38, 'Therapist: As you consider taking small risks and embracing uncertainty, can you explore how you might differentiate between the fear of failure and the fear of not being good enough, and how that distinction might impact your approach to taking on new challenges? What if the fear of failure is an opportunity to learn and grow, rather than a reflection of your inherent worth?\\n'), (39, \"Patient: I think I've been using the fear of failure as a mask for the fear of not being good enough, and that distinction is crucial in allowing me to take risks and see that failure is not a reflection of my worth, but rather an opportunity to learn and grow. By acknowledging this difference, I might be more willing to take on challenges and view setbacks as stepping stones rather than personal failures.\\n\"), (40, \"Therapist: It sounds like you've made significant progress in recognizing the difference between the fear of failure and the fear of not being good enough, and I'm curious to explore how you can apply this distinction in situations where you feel pressure to achieve perfection, such as in your work or academic pursuits. Can you imagine how you might reframe your expectations around perfection and instead focus on the process of learning and growth, rather than the outcome?\\n\"), (41, \"Patient: I think I'd like to explore how I can apply this distinction to my work, maybe by focusing on the value of the work itself, rather than the outcome, and allowing myself to make mistakes and learn from them, rather than striving for perfection.\\n\"), (42, \"Therapist: As you consider reframing your expectations around perfection, can you think of a specific project or task at work where you've been putting pressure on yourself to achieve a flawless outcome, and how you might approach it with a mindset of learning and growth, rather than a need for perfection? What would be the benefits of taking this approach, and how might it impact your overall sense of fulfillment and satisfaction in your work?\\n\"), (43, \"Patient: I think I'd like to apply this new mindset to an upcoming project at work, where I've been feeling a lot of pressure to deliver a flawless presentation, and instead of focusing on perfection, I'd try to approach it as an opportunity to learn and improve my communication skills. I'm curious to see how it would feel to view my mistakes and areas for improvement as stepping stones for growth, rather than as failures.\\n\"), (44, 'Therapist: As you consider taking on this project with a growth-oriented mindset, can you imagine what it would mean to acknowledge and accept any potential mistakes or areas for improvement as an inherent part of the learning process, rather than as a reflection of your competence? How might you reframe your inner dialogue around mistakes, from one of self-criticism to one of curiosity and exploration?\\n'), (45, 'Patient: I think if I can acknowledge and accept my mistakes as a natural part of the learning process, I might be able to cultivate a sense of curiosity and openness to feedback, rather than self-criticism, and that could potentially lead to more creative and innovative solutions in my work.\\n'), (46, \"Therapist: As you've started to explore this growth-oriented mindset in your work, can you imagine how this might translate to other areas of your life, such as your relationships or personal pursuits, where you may have been striving for perfection or external validation? How might you begin to apply this same mindset of curiosity and openness to learning from mistakes in these areas, rather than being held back by a fear of not meeting others' expectations?\\n\"), (47, \"Patient: I think I'd like to explore how this growth-oriented mindset can help me approach my relationships in a more authentic way, rather than trying to meet others' expectations of what a good partner or friend should be. Maybe I can start by practicing self-compassion and acknowledging my own needs and desires in my relationships, rather than trying to fit into someone else's ideal of what a relationship should look like.\\n\"), (48, 'Therapist: Let\\'s explore the idea of redefining what it means to be a \"good partner\" or \"good friend\" to yourself and others, rather than trying to meet external expectations – how might this shift in perspective impact your relationships and your sense of fulfillment in them? Can you imagine what qualities or characteristics you would prioritize in your relationships if you weren\\'t focused on meeting others\\' expectations, but rather on cultivating a sense of mutual respect, trust, and authenticity?\\n'), (49, \"Patient: I think if I were to prioritize qualities like mutual respect, trust, and authenticity in my relationships, I might start to form connections that feel more meaningful and less transactional, where I'm not constantly seeking validation from others. I'd like to explore what it would mean to prioritize self-reflection and self-awareness in my relationships, rather than trying to project an image or meet external expectations.\\n\"), (50, 'Therapist: As you begin to prioritize self-reflection and authenticity in your relationships, can you imagine how you might navigate situations where you feel pressure to conform to societal norms or expectations around relationship milestones, such as getting married or having children, and how you might communicate your own desires and boundaries in those conversations? What would it mean to you to take ownership of your own vision for your relationships and life, rather than trying to meet the expectations of others?\\n'), (51, \"Patient: I think I'd like to explore how I can start communicating my boundaries and desires more assertively in conversations about relationship milestones, rather than trying to navigate them through a lens of what others expect of me. Maybe I can start by being more honest with myself about what I truly want and need in a relationship, and then sharing those desires with others in a clear and respectful way.\\n\"), (52, \"Therapist: As we explore the idea of taking ownership of your vision for your relationships and life, I'd like to gently challenge you to consider the role of self-compassion in acknowledging and accepting your own desires and needs, especially when they differ from societal expectations. Can you imagine what it would mean to approach conversations about your desires with a sense of kindness and understanding towards yourself, rather than judgment or self-criticism?\\n\"), (53, 'Patient: I think I need to practice being kind and gentle with myself when navigating the uncertainty of my own desires, rather than trying to fit them into a preconceived notion of what I \"should\" want, and that means being willing to say no to things that don\\'t align with my values or needs.\\n'), (54, \"Therapist: Let's explore the idea of embracing uncertainty as a natural part of life, rather than trying to control or avoid it, and how that might impact your relationships and overall sense of fulfillment - can you think of a time when you've allowed yourself to be present with uncertainty and how it affected the outcome?\\n\"), (55, \"Patient: I'm thinking of a time when I let go of my expectations around a family gathering and simply showed up to the event with an open mind, and it ended up being a really meaningful and enjoyable experience for me. It made me realize that sometimes uncertainty can be an opportunity for connection and growth, rather than just discomfort.\\n\"), (56, \"Therapist: Let's build on that experience, can you think of a situation where you might be more likely to hold onto control or expectations, and how you might lean into uncertainty and openness, rather than trying to dictate the outcome? How might you allow yourself to be present with the uncertainty and see what emerges, rather than trying to force a specific outcome?\\n\"), (57, \"Patient: I'm thinking of a social event where I've been dreading the possibility of meeting new people, but if I were to approach it with a sense of openness and curiosity, I might be surprised by the connections I make and the experiences I have. I'm curious to see how being more present with uncertainty in this situation could help me rewire my brain to view it as an opportunity for growth rather than a source of anxiety.\\n\"), (58, 'Therapist: As you consider being more present with uncertainty in social situations, can you imagine what it would mean to reframe your thoughts around the possibility of rejection or disappointment, and instead, focus on the potential for new connections and experiences? How might you practice self-compassion and acknowledge your nervousness as a natural response to stepping out of your comfort zone?\\n'), (59, \"Patient: I think it's interesting that you mention reframing rejection or disappointment as an opportunity for new connections and experiences, and I'm curious to explore how I can apply that to situations where I've been using self-doubt as a way to avoid taking on new challenges. Can you help me understand how I might start to see self-doubt as a signal that I'm on the cusp of growth, rather than a reason to step back?\\n\")], 'pturn': 1, 'index': -1, 'timestamp': '', 'rounds': 60, 'conversation_only': True, 'eval_prompt_consistency': [(1, \"The patient's intention appears to be a genuine expression of their struggle with generalized anxiety disorder, specifically the avoidance behaviors associated with it, which is consistent with their background, as it highlights their efforts to cope with overwhelming situations and desire to become more confident in handling stress, a goal that aligns with their current struggles. \\nYES\"), (3, 'The intention behind this statement appears to be an attempt to understand and acknowledge the negative consequences of avoiding tasks due to anxiety, suggesting that the patient is beginning to recognize the limitations of their avoidance behaviors, which aligns with their background of having generalized anxiety disorder that results in significant avoidance behaviors. \\nYES'), (5, \"The intention behind the statement seems to be that the patient is reflecting on a challenging experience where they stepped out of their comfort zone, took a risk, and faced a feared outcome, but was surprised by the positive outcome, suggesting a sense of personal growth and resilience, which aligns with the patient's background of having generalized anxiety disorder that results in significant avoidance behaviors, as it indicates a willingness to confront and potentially overcome those avoidance patterns.\\n\\nANSWER: YES\"), (7, \"The patient's statement seems to be an expression of their underlying fear of social rejection and criticism, which is a common aspect of generalized anxiety disorder and likely stemming from their childhood emotional neglect, as they struggle to gauge how others perceive them, suggesting a desire for acceptance and connection, thus CONSISTENT with their background.\"), (9, \"The patient's intention is to express their desire to develop a greater sense of self-awareness and self-reliance, which aligns with the goal of therapy for generalized anxiety disorder, and suggests a willingness to confront uncertainty, which contradicts the background of significant avoidance behaviors associated with the patient's anxiety. \\n NO\"), (11, \"The intention behind the patient's statement appears to be a genuine attempt to explore a coping mechanism and develop greater self-awareness, which is a step towards addressing their avoidance behaviors and learning to manage their anxiety, aligning with their background.\"), (13, 'The intention behind the statement is that the patient is expressing a willingness to shift their perspective on potentially anxiety-provoking tasks and view them as opportunities for growth and resilience, suggesting a subtle yet significant step towards confronting their avoidance behaviors. \\n\\nYES'), (15, \"The patient's statement indicates a desire to confront and accept their fear of not being good enough, which suggests a willingness to confront vulnerability, aligning with the goal of overcoming avoidance behaviors associated with their generalized anxiety disorder. \\n YES\"), (17, \"The patient's intention appears to be a desire to explore self-acceptance and potential emotional vulnerability, suggesting a longing for self-awareness and self-compassion, which is consistent with someone who has experienced childhood emotional neglect and is struggling with generalized anxiety disorder.\\n\\nANSWER: YES\"), (19, \"The intention behind the statement appears to be a genuine attempt at developing self-compassion and self-acceptance, which is a key component of treating generalized anxiety disorder, and it aligns with the patient's background.\"), (21, \"The intention behind this statement appears to be the patient's recognition of the need to actively engage with self-compassion practices, even when they feel uncomfortable or unnatural, which aligns with the background of having generalized anxiety disorder and significant avoidance behaviors, as it suggests the patient is acknowledging their discomfort and willingness to confront it, which is a crucial step towards overcoming avoidance behaviors. \\n\\nANSWER: YES\"), (23, \"The patient's statement seems to reflect a desire to work on their generalized anxiety disorder by acknowledging the imperfections in social events and practicing self-compassion, which is a step towards addressing their significant avoidance behaviors and low social engagement, and does not contradict their background. \\nANSWER: YES\"), (25, \"The intention behind the patient's statement appears to be a reflection of their desire to develop more self-confidence and resilience in the face of criticism, as well as a recognition of their need to assert their self-worth, which aligns with a person struggling with generalized anxiety disorder and a history of childhood emotional neglect. \\nYES\"), (27, \"The patient's intention behind the statement seems to be a desire to overcome their tendency to avoid social interactions and assertively prioritize their own needs, which aligns with their desire to address their generalized anxiety disorder and low social engagement, suggesting that the statement aligns with their background.\\n\\nANSWER: YES\"), (29, \"The patient's intention behind this statement appears to be expressing a desire for self-assertion and boundary-setting in a way that prioritizes their own emotional well-being, which aligns with their background of having generalized anxiety disorder that results in significant avoidance behaviors, as this statement suggests a step towards breaking free from people-pleasing tendencies that may contribute to their anxiety. \\n\\nANSWER: YES\"), (31, \"The interpreted intention behind the statement appears to be a desire for self-reflection, self-compassion, and acceptance of one's own needs and boundaries, suggesting an attempt to reframe negative self-perceptions and behaviors stemming from the patient's trauma history of childhood emotional neglect, which aligns with the provided background.\\n\\nYES\"), (33, \"The intention behind this statement appears to be a desire to re-evaluate one's own values and needs in relationships, potentially seeking more authentic connections and self-discovery, and does not seem to align with the background of someone with significant avoidance behaviors resulting from generalized anxiety disorder, as it implies a willingness to confront and change long-held patterns rather than avoiding them. \\nNO\"), (35, \"The intention behind the patient's statement appears to be an acknowledgment of their avoidance behaviors and a potential willingness to re-evaluate their motivations for avoiding risks, suggesting they may be on the path towards self-reflection and growth. \\nYES\"), (37, \"The patient's statement seems to be an attempt to work through their generalized anxiety and avoidance behaviors by reframing their fear of failure and taking small steps towards engaging in new experiences, which aligns with the goal of overcoming their significant avoidance behaviors due to anxiety.\"), (39, \"The patient's statement seems to suggest a desire to challenge and change their avoidance behaviors and low self-esteem, stemming from their childhood emotional neglect, which aligns with the underlying issues they've likely been struggling with, such as generalized anxiety disorder and significant avoidance behaviors.\\n\\nANSWER: YES\"), (41, \"The patient's statement appears to be an expression of a desire to adopt a growth mindset and focus on the process over the outcome, which is a common goal in therapy for individuals with generalized anxiety disorder, indicating an attempt to address their avoidance behaviors by becoming more resilient and open to uncertainty, which aligns with their background. \\nANSWER: YES\"), (43, \"The intention behind the statement appears to be a genuine attempt at adopting a growth mindset and reframing one's attitude towards perceived failure, indicating a willingness to confront and learn from mistakes, which seems to align with the patient's desire to overcome their avoidance behaviors. \\nANSWER: YES\"), (45, 'The intention behind the statement appears to be a desire to adopt a growth mindset and become more receptive to constructive criticism and feedback, suggesting a willingness to confront and challenge their avoidance behaviors, which is not entirely consistent with the background of significant avoidance behaviors typically associated with generalized anxiety disorder.'), (47, 'The intention behind this statement appears to be a desire for self-reflection and personal growth, specifically in the context of improving relationships through increased self-awareness and authenticity, which aligns with the background of someone struggling with generalized anxiety disorder and a history of childhood emotional neglect, as it suggests a willingness to confront and overcome avoidance behaviors.\\n\\nANSWER: YES'), (49, 'The intention behind this statement appears to be a genuine desire for personal growth and improvement in relationships, driven by a recognition of the superficial nature of current connections and a yearning for deeper, more authentic ones, which aligns with the background of having a low level of social engagement and a history of childhood emotional neglect, suggesting a desire for more meaningful relationships to compensate for past emotional unavailability.\\n\\nANSWER: YES'), (51, \"The intention behind the Patient's statement appears to be a desire to develop emotional intimacy and autonomy in relationships, taking a proactive approach to communicate their needs and desires, which aligns with their expressed wish to overcome avoidance behaviors associated with their generalized anxiety disorder. \\nNO\"), (53, \"The interpreted intention behind the patient's statement is that they are seeking self-compassion and autonomy in making decisions that align with their own needs and values, rather than adhering to societal expectations or pressures, which suggests a desire for self-awareness and self-acceptance, a trait that could be a result of their desire to overcome the childhood emotional neglect and significant avoidance behaviors associated with their generalized anxiety disorder.\\n\\nNO\"), (55, \"The intention behind the statement seems to be expressing a newfound understanding and positive experience that challenges the patient's typical pattern of avoiding situations due to anxiety, and this aligns with the given background because the patient is describing a specific instance where they managed to let go of expectations and have a positive experience, which suggests a growth in coping mechanisms and openness to new experiences, whereas their background suggests they have significant avoidance behaviors due to generalized anxiety disorder. YES.\"), (57, \"The patient's statement appears to be an attempt to reframe their anxious thoughts and behaviors, indicating a desire to confront and challenge their avoidance patterns, which aligns with their diagnosis of generalized anxiety disorder that results in significant avoidance behaviors, suggesting that the intention of the statement is a self-help or self-improvement endeavor. \\n YES\"), (59, 'The intention behind this statement is that the patient is seeking to reframe their self-doubt as a catalyst for personal growth, which aligns with their desire to overcome their significant avoidance behaviors associated with their generalized anxiety disorder and potentially break free from the patterns of emotional neglect experienced in their childhood, and it does not contradict their background.\\n\\nANSWER: YES')], 'P1_prompt_consistency_score': 0, 'P2_prompt_consistency_score': 0.8666666666666667, 'eval_index_consistency': [(3, 'The statement \"I find myself avoiding them more and more, which is making me feel even more anxious\" (line 1) directly contradicts the current line, as the patient is now describing their avoidance behaviors as leading to a deeper sense of disappointment rather than increased anxiety.\\n\\n[1]'), (5, \"The patient's account of facing their fears and receiving positive feedback contradicts their earlier statement of always feeling disappointment in themselves for not facing their fears, suggesting a discrepancy in their emotional response to facing discomfort.\\n\\n[3]\"), (7, \"The conflict arises because the Patient previously described avoiding tasks due to feeling anxious, but now suggests that the unpredictability of others' reactions is a primary concern, which doesn't align with the initial reason for avoidance being anxiety about the tasks themselves.\\n\\n[1, 3]\"), (9, \"The Patient's statement about seeking comfort in predictability and avoiding uncertainty contradicts their earlier statement in line 3 about avoiding tasks bringing a temporary sense of numbness, implying that predictability and routine are not sources of comfort for them.\\n\\n[3]\"), (11, 'There is a clear conflict between the line and the conversation history because the patient previously stated that they find it hard to imagine what it would feel like to focus on their internal experience (line 9), but now they seem to have a clear idea of how to tap into their internal experience by paying attention to their physical sensations, which contradicts their earlier statement of uncertainty.\\n\\n[9]'), (13, \"The patient's current statement seems to contradict their previous assertion that it's hard for them to imagine tapping into their internal experience since they've become so used to seeking comfort in predictability and avoiding uncertainty.\\n\\n[9, 11]\"), (15, 'The current line seems to directly contradict the patient\\'s previous statements about using the phrase \"developing resilience\" as a way to approach everyday tasks with a sense of curiosity and openness.\\n\\n[11, 13]'), (17, \"The conflict between the patient's statement and their previous lines is that they previously described avoiding tasks due to fear of being perceived as incapable, but now they suggest that acknowledging and accepting their fear would lead to self-acceptance and understanding that their worth isn't tied to others' opinions, which seems to contradict their earlier admission of using avoidance as a way to shield themselves from fear of not being good enough.\\n\\n[3, 5, 7, 9, 15]\"), (19, \"The current line from the Patient appears to be inconsistent with their previous statement about using the phrase 'developing resilience' as a defense mechanism to shield themselves from the fear of not being good enough, which suggests that they might be trying to avoid directly confronting their fear.\\n\\n[index3, index14]\"), (21, 'The statement made by the Patient appears to contradict their previous experiences with self-compassion and self-acceptance, as they described earlier that allowing themselves to feel and sit with vulnerability would mean experiencing a \"deep sadness and self-compassion\" and that it was a \"strangely liberating\" experience.\\n\\n[17]'), (23, 'The statement by the patient contradicts their earlier description of wanting to develop their resilience as a way to shield themselves from the fear of not being good enough. \\n[7, 9, 13, 14, 15]'), (25, \"The Patient's new approach to dealing with criticism from others appears to contradict their previous admission of using the phrase 'developing resilience' as a defense mechanism to shield themselves from the fear of not being good enough.\\n\\n[15, 17]\"), (27, \"The patient's recent statement about wanting to set boundaries in a way that is assertive but not aggressive seems to contradict their earlier statement about allowing themselves to feel and sit with vulnerability, as they now seem to be focusing on prioritizing their own needs and potentially pushing others away rather than accepting their own vulnerability and the potential judgment of others.\\n\\n[9, 17]\"), (29, \"The patient's idea of assertiveness seems to conflict with previous statements about their fear of being judged and perceived as capable by others, which motivated their avoidance behaviors. \\n[7, 25]\"), (31, \"There is a conflict between the current line and line 25, where the Patient expressed a desire to remind themselves that the other person's criticism doesn't define their worth or abilities, but now they are acknowledging that setting boundaries and asserting themselves might evoke feelings of guilt or obligation.\\n\\n[25]\"), (33, \"This line creates a conflict with the previously expressed desire to meet others' expectations and the fear of disappointing them, as stated in lines 32 and 25. \\n[32, 25]\"), (35, \"There is a clear inconsistency between this line and the previous conversation, as the Patient's fear of disappointing others is now being reframed as a fear of stifling their own potential, whereas earlier they mentioned using the fear of disappointing others as a way to avoid taking risks and trying new things.\\n\\n[17, 33]\"), (37, 'The patient\\'s current statement about reframing disappointment as a growth opportunity and using it to take risks contradicts their earlier statement about struggling with the aftermath of exposing a part of themselves after the presentation, where they felt like they\\'d been \"exposed\" and it took them a while to recover.\\n\\n[5, 16, 17]'), (39, 'The current line contradicts the patient\\'s earlier statement that they have been using the phrase \"developing resilience\" as a way to avoid confronting their fear of not being good enough. \\n\\n[15, 21]'), (41, 'The patient\\'s current statement appears to be inconsistent with their earlier statement at index 9, where they mentioned that they \"have become so used to seeking comfort in predictability and avoiding uncertainty,\" which contradicts their current willingness to focus on the value of the work itself and allowing themselves to make mistakes and learn from them.\\n\\n[9, 23, 37]'), (43, \"The patient's current statement conflicts with their previous desire to focus on their own strengths and resilience, as they are now suggesting that they will approach the upcoming project as an opportunity to learn and improve their communication skills, which seems to imply that they are open to making mistakes and receiving feedback, rather than solely relying on their existing strengths.\\n\\n[11, 14, 17, 19, 21]\"), (45, 'There is a conflict between the current line and line 5, where the Patient describes the aftermath of facing their fears as being \"tough\" and feeling like they\\'d exposed a part of themselves they\\'d been trying to keep hidden, but now they are suggesting that they might be able to cultivate a sense of curiosity and openness to feedback by acknowledging and accepting their mistakes.\\n[5, 16, 22, 24, 32, 36, 41]'), (47, \"The line spoken by the patient contradicts the patient's previous expressions of struggling with the fear of being perceived as not good enough by others in their relationships, which was a major theme throughout the conversation. \\n[7, 8, 25, 26]\"), (49, 'The conflict arises because the patient is now talking about prioritizing qualities like mutual respect, trust, and authenticity in relationships, which seems to be a goal they have been working towards throughout the conversation, but the language and tone used is now more confident and assertive, which seems inconsistent with their previous struggles with anxiety and self-doubt.\\n\\n[index25, index27, index33, index39]'), (51, \"The patient's recent statement about exploring how to communicate boundaries and desires more assertively in conversations about relationship milestones seems to conflict with their previous statement about not trying to project an image or meet external expectations in relationships (line 49).\\n\\n[49]\"), (53, 'The conflict arises because the patient\\'s current statement appears to be a clear departure from their previous acknowledgment of using the phrase \"developing resilience\" as a way to shield themselves from the fear of not being good enough, as mentioned in line 15. \\n\\n[15]'), (55, \"The Patient's statement about letting go of expectations and having a meaningful experience at a family gathering conflicts with previous statements about feeling overwhelmed by social events and avoiding them due to anxiety about uncertainty and being judged by others. \\n[1, 3, 7, 16, 32, 40, 45]\"), (57, 'There is a clear conflict between the current line and line 12, where the patient expressed a desire to show up to everyday tasks with a sense of curiosity and openness, but now they are contemplating approaching a specific social event with a sense of openness and curiosity for the first time, indicating that they may not be consistently applying this approach to all situations.\\n\\n[12, 26, 33, 41, 43, 47]'), (59, 'The patient\\'s current statement appears to conflict with their earlier statement at line 15, where they acknowledged that they have been using the \"resilience narrative\" as a defense mechanism to avoid directly confronting their vulnerability. \\n\\n[15]')], 'P2_index_consistency_score': 0.871264367816092, 'eval_prompt_consistency_basic': [(1, \"NO\\n\\nThis line is consistent with the background because it reveals the Patient's struggles with generalized anxiety disorder, avoidance behaviors, and desire to overcome their anxiety, which all align with their stated traits and diagnosis.\"), (3, 'YES.\\n\\nThe line spoken by the Patient contradicts their background because it reveals vulnerability, specifically acknowledging a deeper sense of disappointment in themselves and emotional vulnerability, which is not consistent with their low level of social engagement and avoidance behaviors typically associated with their generalized anxiety disorder.'), (5, 'NO\\n\\nThe line is consistent with the background as it describes a situation in which the Patient felt anxious about exposing themselves, experienced a sense of vulnerability, and required a recovery period, all of which aligns with their mental health diagnosis of generalized anxiety disorder and trauma history of childhood emotional neglect.'), (7, 'NO\\n\\nThe line spoken by Patient does not contradict the background, as it aligns with their anxiety disorder and avoidance behaviors by expressing a concern about being judged by others, which is a common fear for individuals with generalized anxiety disorder and those with a history of emotional neglect.'), (9, \"NO.\\n\\nThis line is consistent with Patient's background because it reflects their generalized anxiety disorder through their difficulty with uncertainty and avoidance behaviors, and their self-acknowledgment of seeking external validation.\"), (11, 'YES\\n\\nThe line contradicts the background because it shows the Patient acknowledging and taking responsibility for paying attention to their internal experience, which is inconsistent with their history of generalized anxiety disorder that results in significant avoidance behaviors.'), (13, 'NO\\n\\nThis line does not directly contradict the background, as it suggests that Patient is beginning to consider new ways of approaching tasks that could potentially be anxiety-provoking, which is consistent with their generalized anxiety disorder and avoidance behaviors, but it does show a subtle shift towards a more growth-oriented mindset, which is a plausible development in the context of therapy or self-reflection.'), (15, 'NO.\\n\\nThis line is consistent with the background because it shows the Patient acknowledging and exploring their avoidance behaviors, which is consistent with their generalized anxiety disorder diagnosis and history of emotional neglect, and also shows a willingness to confront vulnerability, which is a step towards acknowledging and working through their fears.'), (17, \"NO\\n\\nThis is not a contradiction because the Patient's statement describes a hypothetical process of self-reflection and self-acceptance that aligns with their background of having generalized anxiety disorder, implying that they are grappling with their vulnerability and seeking self-compassion, which is consistent with their avoidance behaviors and emotional neglect background.\"), (19, 'NO\\n\\nThe line spoken by Patient is consistent with their background, as it reflects a desire for self-compassion and self-acceptance, which is a plausible goal for someone with generalized anxiety disorder who has reported a history of self-criticism, and the suggested self-kindness is a therapeutic technique often used to combat such negative self-talk.'), (21, 'NO. This line is consistent with the background as it shows a reflective and self-aware mindset, indicating that Patient is engaging in self-reflection and is open to the idea of cultivating self-compassion, which is a nuanced and thoughtful approach that contrasts with the avoidance behaviors associated with their generalized anxiety disorder.'), (23, \"NO. \\n\\nThis response does not directly contradict the background because it accurately reflects the patient's anxiety and avoidance behaviors, as well as their desire to practice self-compassion, all of which are consistent with their stated traits.\"), (25, 'NO. \\n\\nThis line is consistent with the background, as the Patient acknowledges a potential criticism, expresses a sense of self-acceptance, and focuses on their own efforts, which is a characteristic of someone with generalized anxiety disorder that results in significant avoidance behaviors, where they often struggle with internalized self-doubt but strive for self-compassion.'), (27, 'NO\\n\\nThe line spoken by Patient is consistent with their background because it reflects their struggle with setting boundaries, which is a common issue for individuals with generalized anxiety disorder and a history of childhood emotional neglect, and demonstrates a willingness to experiment and prioritize their own needs, aligning with their low level of social engagement.'), (29, \"YES. \\n\\nThe line contradicts the background because the Patient explicitly describes speaking up and expressing their needs, which is a behavior that typically requires a level of assertiveness and emotional openness, but Patient's background indicates they suffer from generalized anxiety disorder that results in significant avoidance behaviors, suggesting they are unlikely to engage in such direct and honest communication.\"), (31, \"NO\\n\\nThe line does not contradict the background because it aligns with Patient's struggles with generalized anxiety disorder by acknowledging the guilt and obligation associated with asserting themselves, which is a typical avoidance behavior stemming from their anxiety.\"), (33, \"NO\\n\\nThis line does not contradict the background as it is a contemplative and introspective statement that is consistent with someone who has a generalized anxiety disorder and experiences avoidance behaviors, and it aligns with the theme of self-reflection and questioning one's purpose, which is a plausible step for someone with a history of emotional neglect and low social engagement.\"), (35, 'NO\\n\\nThe line spoken by Patient does not contradict the background, as it involves introspection, self-awareness, and a desire for personal growth, which are not inconsistent with their anxiety diagnosis or avoidance behaviors, and instead reflect a potentially therapeutic and constructive mindset.'), (37, \"NO\\n\\nThis line does not contradict the background as it reflects the Patient's introspective and self-aware attitude, typical of someone with a mental health diagnosis of generalized anxiety disorder who is seeking growth and change, despite containing a hint of cautious optimism and a desire for low-pressure involvement.\"), (39, 'YES.\\n\\nThis line contradicts the background because it involves discussing personal, introspective thoughts about their mental health and willingness to take risks, which is a departure from their usual avoidance behaviors and low level of social engagement associated with their generalized anxiety disorder.'), (41, \"NO\\n\\nThis line is consistent with the Patient's background because it shows a reflective and self-aware approach to work, which is not typically associated with avoidance behaviors, and an openness to learning from mistakes, which contrasts with the striving for perfection often linked with anxiety.\"), (43, 'NO\\n\\nThe line spoken by the Patient does not contradict their background, as it aligns with their generalized anxiety disorder diagnosis by indicating a willingness to confront and learn from imperfections, rather than avoiding failure as a result of their anxiety.'), (45, \"NO\\n\\nThe line is consistent with the background because it shows the Patient engaging in a self-reflective and introspective tone, which is not typical of someone with generalized anxiety disorder who often avoids discussing personal topics and engaging in self-criticism, but the Patient's words still plausibly align with a desire to improve and change their mindset.\"), (47, \"NO\\n\\nThis response does not contradict the background because it reflects the Patient's desire to improve their relationships in a way that aligns with their expressed interest in growth and self-improvement, despite their history of anxiety and avoidance behaviors.\"), (49, 'NO\\n\\nThe line spoken by Patient does not contradict their background as it reflects their desire to form deeper connections, which may be a way of seeking validation, but in a more authentic way, aligning with their expressed desire to prioritize qualities like mutual respect and trust in their relationships.'), (51, 'NO\\n\\nThis line does not contradict the background as it shows Patient taking steps to address their low level of social engagement and avoidance behaviors by wanting to explore more assertive communication, which is a common goal for individuals with generalized anxiety disorder and a history of emotional neglect to develop.'), (53, 'YES.\\n\\nThis line contradicts the background because the Patient is expressing a willingness to confront uncertainty and navigate their desires directly, whereas their background indicates they exhibit avoidance behaviors due to generalized anxiety disorder.'), (55, 'YES\\n\\nThe line contradicts the background because the Patient describes themselves as having a \"really meaningful and enjoyable experience\" at a family gathering, which directly conflicts with their low level of social engagement and general anxiety that typically leads to avoidance behaviors, indicating a significant deviation from their usual coping mechanisms.'), (57, 'YES\\n\\nThe line contradicts the background because it indicates that Patient is considering approaching a social event with \"openness and curiosity,\" which suggests a willingness to engage with uncertainty, whereas their background states that they have generalized anxiety disorder resulting in significant avoidance behaviors, indicating an aversion to uncertainty.'), (59, \"NO. \\n\\nThe line is consistent with the Patient's background because they are expressing a willingness to explore and challenge their avoidance behaviors through a therapeutic lens, aligning with their generalized anxiety disorder and avoidance tendencies, and seeking help to reframe their self-doubt.\")], 'P1_prompt_consistency_score_basic': 0, 'P2_prompt_consistency_score_basic': 0.7666666666666667}\n",
      "2\n"
     ]
    },
    {
     "name": "stderr",
     "output_type": "stream",
     "text": [
      "Processed prompts: 100%|██████████| 1/1 [00:00<00:00,  1.28it/s, est. speed input: 197.94 toks/s, output: 44.98 toks/s]\n"
     ]
    },
    {
     "name": "stdout",
     "output_type": "stream",
     "text": [
      "Expected Role Therapist\n"
     ]
    },
    {
     "name": "stderr",
     "output_type": "stream",
     "text": [
      "Processed prompts: 100%|██████████| 1/1 [00:01<00:00,  1.12s/it, est. speed input: 194.72 toks/s, output: 44.66 toks/s]\n"
     ]
    },
    {
     "name": "stdout",
     "output_type": "stream",
     "text": [
      "Expected Role Patient\n"
     ]
    },
    {
     "name": "stderr",
     "output_type": "stream",
     "text": [
      "Processed prompts: 100%|██████████| 1/1 [00:01<00:00,  1.35s/it, est. speed input: 199.07 toks/s, output: 44.57 toks/s]\n"
     ]
    },
    {
     "name": "stdout",
     "output_type": "stream",
     "text": [
      "Expected Role Therapist\n"
     ]
    },
    {
     "name": "stderr",
     "output_type": "stream",
     "text": [
      "Processed prompts: 100%|██████████| 1/1 [00:01<00:00,  1.66s/it, est. speed input: 199.96 toks/s, output: 44.57 toks/s]\n"
     ]
    },
    {
     "name": "stdout",
     "output_type": "stream",
     "text": [
      "Expected Role Patient\n"
     ]
    },
    {
     "name": "stderr",
     "output_type": "stream",
     "text": [
      "Processed prompts: 100%|██████████| 1/1 [00:01<00:00,  1.76s/it, est. speed input: 230.36 toks/s, output: 44.82 toks/s]\n"
     ]
    },
    {
     "name": "stdout",
     "output_type": "stream",
     "text": [
      "Expected Role Therapist\n"
     ]
    },
    {
     "name": "stderr",
     "output_type": "stream",
     "text": [
      "Processed prompts: 100%|██████████| 1/1 [00:01<00:00,  1.92s/it, est. speed input: 254.49 toks/s, output: 44.76 toks/s]\n"
     ]
    },
    {
     "name": "stdout",
     "output_type": "stream",
     "text": [
      "Expected Role Patient\n"
     ]
    },
    {
     "name": "stderr",
     "output_type": "stream",
     "text": [
      "Processed prompts: 100%|██████████| 1/1 [00:01<00:00,  1.37s/it, est. speed input: 419.54 toks/s, output: 44.51 toks/s]\n"
     ]
    },
    {
     "name": "stdout",
     "output_type": "stream",
     "text": [
      "Expected Role Therapist\n"
     ]
    },
    {
     "name": "stderr",
     "output_type": "stream",
     "text": [
      "Processed prompts: 100%|██████████| 1/1 [00:01<00:00,  1.99s/it, est. speed input: 320.97 toks/s, output: 44.63 toks/s]\n"
     ]
    },
    {
     "name": "stdout",
     "output_type": "stream",
     "text": [
      "Expected Role Patient\n"
     ]
    },
    {
     "name": "stderr",
     "output_type": "stream",
     "text": [
      "Processed prompts: 100%|██████████| 1/1 [00:01<00:00,  1.84s/it, est. speed input: 395.47 toks/s, output: 44.48 toks/s]\n"
     ]
    },
    {
     "name": "stdout",
     "output_type": "stream",
     "text": [
      "Expected Role Therapist\n"
     ]
    },
    {
     "name": "stderr",
     "output_type": "stream",
     "text": [
      "Processed prompts: 100%|██████████| 1/1 [00:01<00:00,  1.96s/it, est. speed input: 415.36 toks/s, output: 44.34 toks/s]\n"
     ]
    },
    {
     "name": "stdout",
     "output_type": "stream",
     "text": [
      "Expected Role Patient\n"
     ]
    },
    {
     "name": "stderr",
     "output_type": "stream",
     "text": [
      "Processed prompts: 100%|██████████| 1/1 [00:01<00:00,  1.76s/it, est. speed input: 514.09 toks/s, output: 44.46 toks/s]\n"
     ]
    },
    {
     "name": "stdout",
     "output_type": "stream",
     "text": [
      "Expected Role Therapist\n"
     ]
    },
    {
     "name": "stderr",
     "output_type": "stream",
     "text": [
      "Processed prompts: 100%|██████████| 1/1 [00:02<00:00,  2.20s/it, est. speed input: 447.67 toks/s, output: 44.13 toks/s]\n"
     ]
    },
    {
     "name": "stdout",
     "output_type": "stream",
     "text": [
      "Expected Role Patient\n"
     ]
    },
    {
     "name": "stderr",
     "output_type": "stream",
     "text": [
      "Processed prompts: 100%|██████████| 1/1 [00:01<00:00,  1.56s/it, est. speed input: 692.07 toks/s, output: 44.17 toks/s]\n"
     ]
    },
    {
     "name": "stdout",
     "output_type": "stream",
     "text": [
      "Expected Role Therapist\n"
     ]
    },
    {
     "name": "stderr",
     "output_type": "stream",
     "text": [
      "Processed prompts: 100%|██████████| 1/1 [00:01<00:00,  1.49s/it, est. speed input: 773.68 toks/s, output: 44.25 toks/s]\n"
     ]
    },
    {
     "name": "stdout",
     "output_type": "stream",
     "text": [
      "Expected Role Patient\n"
     ]
    },
    {
     "name": "stderr",
     "output_type": "stream",
     "text": [
      "Processed prompts: 100%|██████████| 1/1 [00:01<00:00,  1.16s/it, est. speed input: 1054.92 toks/s, output: 44.10 toks/s]\n"
     ]
    },
    {
     "name": "stdout",
     "output_type": "stream",
     "text": [
      "Expected Role Therapist\n"
     ]
    },
    {
     "name": "stderr",
     "output_type": "stream",
     "text": [
      "Processed prompts: 100%|██████████| 1/1 [00:01<00:00,  1.74s/it, est. speed input: 732.60 toks/s, output: 44.24 toks/s]\n"
     ]
    },
    {
     "name": "stdout",
     "output_type": "stream",
     "text": [
      "Expected Role Patient\n"
     ]
    },
    {
     "name": "stderr",
     "output_type": "stream",
     "text": [
      "Processed prompts: 100%|██████████| 1/1 [00:02<00:00,  2.08s/it, est. speed input: 650.14 toks/s, output: 44.24 toks/s]\n"
     ]
    },
    {
     "name": "stdout",
     "output_type": "stream",
     "text": [
      "Expected Role Therapist\n"
     ]
    },
    {
     "name": "stderr",
     "output_type": "stream",
     "text": [
      "Processed prompts: 100%|██████████| 1/1 [00:02<00:00,  2.27s/it, est. speed input: 639.09 toks/s, output: 44.14 toks/s]\n"
     ]
    },
    {
     "name": "stdout",
     "output_type": "stream",
     "text": [
      "Expected Role Patient\n"
     ]
    },
    {
     "name": "stderr",
     "output_type": "stream",
     "text": [
      "Processed prompts: 100%|██████████| 1/1 [00:01<00:00,  1.36s/it, est. speed input: 1136.54 toks/s, output: 44.05 toks/s]\n"
     ]
    },
    {
     "name": "stdout",
     "output_type": "stream",
     "text": [
      "Expected Role Therapist\n"
     ]
    },
    {
     "name": "stderr",
     "output_type": "stream",
     "text": [
      "Processed prompts: 100%|██████████| 1/1 [00:01<00:00,  2.00s/it, est. speed input: 808.30 toks/s, output: 44.12 toks/s]\n"
     ]
    },
    {
     "name": "stdout",
     "output_type": "stream",
     "text": [
      "Expected Role Patient\n"
     ]
    },
    {
     "name": "stderr",
     "output_type": "stream",
     "text": [
      "Processed prompts: 100%|██████████| 1/1 [00:01<00:00,  1.89s/it, est. speed input: 902.09 toks/s, output: 43.51 toks/s]\n"
     ]
    },
    {
     "name": "stdout",
     "output_type": "stream",
     "text": [
      "Expected Role Therapist\n"
     ]
    },
    {
     "name": "stderr",
     "output_type": "stream",
     "text": [
      "Processed prompts: 100%|██████████| 1/1 [00:01<00:00,  1.30s/it, est. speed input: 1375.30 toks/s, output: 43.89 toks/s]\n"
     ]
    },
    {
     "name": "stdout",
     "output_type": "stream",
     "text": [
      "Expected Role Patient\n"
     ]
    },
    {
     "name": "stderr",
     "output_type": "stream",
     "text": [
      "Processed prompts: 100%|██████████| 1/1 [00:01<00:00,  1.88s/it, est. speed input: 978.81 toks/s, output: 44.08 toks/s]\n"
     ]
    },
    {
     "name": "stdout",
     "output_type": "stream",
     "text": [
      "Expected Role Therapist\n"
     ]
    },
    {
     "name": "stderr",
     "output_type": "stream",
     "text": [
      "Processed prompts: 100%|██████████| 1/1 [00:02<00:00,  2.02s/it, est. speed input: 956.33 toks/s, output: 44.10 toks/s]\n"
     ]
    },
    {
     "name": "stdout",
     "output_type": "stream",
     "text": [
      "Expected Role Patient\n"
     ]
    },
    {
     "name": "stderr",
     "output_type": "stream",
     "text": [
      "Processed prompts: 100%|██████████| 1/1 [00:01<00:00,  1.27s/it, est. speed input: 1591.45 toks/s, output: 43.35 toks/s]\n"
     ]
    },
    {
     "name": "stdout",
     "output_type": "stream",
     "text": [
      "Expected Role Therapist\n"
     ]
    },
    {
     "name": "stderr",
     "output_type": "stream",
     "text": [
      "Processed prompts: 100%|██████████| 1/1 [00:02<00:00,  2.00s/it, est. speed input: 1037.71 toks/s, output: 43.94 toks/s]\n"
     ]
    },
    {
     "name": "stdout",
     "output_type": "stream",
     "text": [
      "Expected Role Patient\n"
     ]
    },
    {
     "name": "stderr",
     "output_type": "stream",
     "text": [
      "Processed prompts: 100%|██████████| 1/1 [00:02<00:00,  2.09s/it, est. speed input: 1038.54 toks/s, output: 43.63 toks/s]\n"
     ]
    },
    {
     "name": "stdout",
     "output_type": "stream",
     "text": [
      "Expected Role Therapist\n"
     ]
    },
    {
     "name": "stderr",
     "output_type": "stream",
     "text": [
      "Processed prompts: 100%|██████████| 1/1 [00:01<00:00,  1.94s/it, est. speed input: 1164.03 toks/s, output: 43.76 toks/s]\n"
     ]
    },
    {
     "name": "stdout",
     "output_type": "stream",
     "text": [
      "Expected Role Patient\n"
     ]
    },
    {
     "name": "stderr",
     "output_type": "stream",
     "text": [
      "Processed prompts: 100%|██████████| 1/1 [00:02<00:00,  2.22s/it, est. speed input: 1059.16 toks/s, output: 43.79 toks/s]\n"
     ]
    },
    {
     "name": "stdout",
     "output_type": "stream",
     "text": [
      "Expected Role Therapist\n"
     ]
    },
    {
     "name": "stderr",
     "output_type": "stream",
     "text": [
      "Processed prompts: 100%|██████████| 1/1 [00:02<00:00,  2.41s/it, est. speed input: 1016.33 toks/s, output: 43.61 toks/s]\n"
     ]
    },
    {
     "name": "stdout",
     "output_type": "stream",
     "text": [
      "Expected Role Patient\n"
     ]
    },
    {
     "name": "stderr",
     "output_type": "stream",
     "text": [
      "Processed prompts: 100%|██████████| 1/1 [00:01<00:00,  1.39s/it, est. speed input: 1831.69 toks/s, output: 43.06 toks/s]\n"
     ]
    },
    {
     "name": "stdout",
     "output_type": "stream",
     "text": [
      "Expected Role Therapist\n"
     ]
    },
    {
     "name": "stderr",
     "output_type": "stream",
     "text": [
      "Processed prompts: 100%|██████████| 1/1 [00:02<00:00,  2.11s/it, est. speed input: 1241.92 toks/s, output: 43.68 toks/s]\n"
     ]
    },
    {
     "name": "stdout",
     "output_type": "stream",
     "text": [
      "Expected Role Patient\n"
     ]
    },
    {
     "name": "stderr",
     "output_type": "stream",
     "text": [
      "Processed prompts: 100%|██████████| 1/1 [00:01<00:00,  1.43s/it, est. speed input: 1898.90 toks/s, output: 43.47 toks/s]\n"
     ]
    },
    {
     "name": "stdout",
     "output_type": "stream",
     "text": [
      "Expected Role Therapist\n"
     ]
    },
    {
     "name": "stderr",
     "output_type": "stream",
     "text": [
      "Processed prompts: 100%|██████████| 1/1 [00:01<00:00,  1.29s/it, est. speed input: 2151.98 toks/s, output: 43.44 toks/s]\n"
     ]
    },
    {
     "name": "stdout",
     "output_type": "stream",
     "text": [
      "Expected Role Patient\n"
     ]
    },
    {
     "name": "stderr",
     "output_type": "stream",
     "text": [
      "Processed prompts: 100%|██████████| 1/1 [00:01<00:00,  1.84s/it, est. speed input: 1541.05 toks/s, output: 43.56 toks/s]\n"
     ]
    },
    {
     "name": "stdout",
     "output_type": "stream",
     "text": [
      "Expected Role Therapist\n"
     ]
    },
    {
     "name": "stderr",
     "output_type": "stream",
     "text": [
      "Processed prompts: 100%|██████████| 1/1 [00:01<00:00,  1.70s/it, est. speed input: 1712.19 toks/s, output: 43.48 toks/s]\n"
     ]
    },
    {
     "name": "stdout",
     "output_type": "stream",
     "text": [
      "Expected Role Patient\n"
     ]
    },
    {
     "name": "stderr",
     "output_type": "stream",
     "text": [
      "Processed prompts: 100%|██████████| 1/1 [00:01<00:00,  1.82s/it, est. speed input: 1645.95 toks/s, output: 43.52 toks/s]\n"
     ]
    },
    {
     "name": "stdout",
     "output_type": "stream",
     "text": [
      "Expected Role Therapist\n"
     ]
    },
    {
     "name": "stderr",
     "output_type": "stream",
     "text": [
      "Processed prompts: 100%|██████████| 1/1 [00:02<00:00,  2.30s/it, est. speed input: 1333.87 toks/s, output: 43.43 toks/s]\n"
     ]
    },
    {
     "name": "stdout",
     "output_type": "stream",
     "text": [
      "Expected Role Patient\n"
     ]
    },
    {
     "name": "stderr",
     "output_type": "stream",
     "text": [
      "Processed prompts: 100%|██████████| 1/1 [00:02<00:00,  2.03s/it, est. speed input: 1560.36 toks/s, output: 43.30 toks/s]\n"
     ]
    },
    {
     "name": "stdout",
     "output_type": "stream",
     "text": [
      "Expected Role Therapist\n"
     ]
    },
    {
     "name": "stderr",
     "output_type": "stream",
     "text": [
      "Processed prompts: 100%|██████████| 1/1 [00:02<00:00,  2.05s/it, est. speed input: 1591.24 toks/s, output: 43.40 toks/s]\n"
     ]
    },
    {
     "name": "stdout",
     "output_type": "stream",
     "text": [
      "Expected Role Patient\n"
     ]
    },
    {
     "name": "stderr",
     "output_type": "stream",
     "text": [
      "Processed prompts: 100%|██████████| 1/1 [00:02<00:00,  2.26s/it, est. speed input: 1484.08 toks/s, output: 43.39 toks/s]\n"
     ]
    },
    {
     "name": "stdout",
     "output_type": "stream",
     "text": [
      "Expected Role Therapist\n"
     ]
    },
    {
     "name": "stderr",
     "output_type": "stream",
     "text": [
      "Processed prompts: 100%|██████████| 1/1 [00:01<00:00,  1.78s/it, est. speed input: 1942.17 toks/s, output: 43.30 toks/s]\n"
     ]
    },
    {
     "name": "stdout",
     "output_type": "stream",
     "text": [
      "Expected Role Patient\n"
     ]
    },
    {
     "name": "stderr",
     "output_type": "stream",
     "text": [
      "Processed prompts: 100%|██████████| 1/1 [00:01<00:00,  1.17s/it, est. speed input: 3031.56 toks/s, output: 42.93 toks/s]\n"
     ]
    },
    {
     "name": "stdout",
     "output_type": "stream",
     "text": [
      "Expected Role Therapist\n"
     ]
    },
    {
     "name": "stderr",
     "output_type": "stream",
     "text": [
      "Processed prompts: 100%|██████████| 1/1 [00:01<00:00,  1.78s/it, est. speed input: 2019.08 toks/s, output: 42.80 toks/s]\n"
     ]
    },
    {
     "name": "stdout",
     "output_type": "stream",
     "text": [
      "Expected Role Patient\n"
     ]
    },
    {
     "name": "stderr",
     "output_type": "stream",
     "text": [
      "Processed prompts: 100%|██████████| 1/1 [00:01<00:00,  1.78s/it, est. speed input: 2053.47 toks/s, output: 43.19 toks/s]\n"
     ]
    },
    {
     "name": "stdout",
     "output_type": "stream",
     "text": [
      "Expected Role Therapist\n"
     ]
    },
    {
     "name": "stderr",
     "output_type": "stream",
     "text": [
      "Processed prompts: 100%|██████████| 1/1 [00:02<00:00,  2.02s/it, est. speed input: 1857.00 toks/s, output: 43.17 toks/s]\n"
     ]
    },
    {
     "name": "stdout",
     "output_type": "stream",
     "text": [
      "Expected Role Patient\n"
     ]
    },
    {
     "name": "stderr",
     "output_type": "stream",
     "text": [
      "Processed prompts: 100%|██████████| 1/1 [00:00<00:00,  1.04it/s, est. speed input: 3994.42 toks/s, output: 42.77 toks/s]\n"
     ]
    },
    {
     "name": "stdout",
     "output_type": "stream",
     "text": [
      "Expected Role Therapist\n"
     ]
    },
    {
     "name": "stderr",
     "output_type": "stream",
     "text": [
      "Processed prompts: 100%|██████████| 1/1 [00:01<00:00,  1.53s/it, est. speed input: 2530.19 toks/s, output: 43.11 toks/s]\n"
     ]
    },
    {
     "name": "stdout",
     "output_type": "stream",
     "text": [
      "Expected Role Patient\n"
     ]
    },
    {
     "name": "stderr",
     "output_type": "stream",
     "text": [
      "Processed prompts: 100%|██████████| 1/1 [00:02<00:00,  2.18s/it, est. speed input: 1808.42 toks/s, output: 43.14 toks/s]\n"
     ]
    },
    {
     "name": "stdout",
     "output_type": "stream",
     "text": [
      "Expected Role Therapist\n"
     ]
    },
    {
     "name": "stderr",
     "output_type": "stream",
     "text": [
      "Processed prompts: 100%|██████████| 1/1 [00:01<00:00,  1.88s/it, est. speed input: 2143.95 toks/s, output: 43.01 toks/s]\n"
     ]
    },
    {
     "name": "stdout",
     "output_type": "stream",
     "text": [
      "Expected Role Patient\n"
     ]
    },
    {
     "name": "stderr",
     "output_type": "stream",
     "text": [
      "Processed prompts: 100%|██████████| 1/1 [00:01<00:00,  2.00s/it, est. speed input: 2061.33 toks/s, output: 43.04 toks/s]\n"
     ]
    },
    {
     "name": "stdout",
     "output_type": "stream",
     "text": [
      "Expected Role Therapist\n"
     ]
    },
    {
     "name": "stderr",
     "output_type": "stream",
     "text": [
      "Processed prompts: 100%|██████████| 1/1 [00:01<00:00,  1.69s/it, est. speed input: 2496.88 toks/s, output: 42.71 toks/s]\n"
     ]
    },
    {
     "name": "stdout",
     "output_type": "stream",
     "text": [
      "Expected Role Patient\n"
     ]
    },
    {
     "name": "stderr",
     "output_type": "stream",
     "text": [
      "Processed prompts: 100%|██████████| 1/1 [00:02<00:00,  2.29s/it, est. speed input: 1872.68 toks/s, output: 42.87 toks/s]\n"
     ]
    },
    {
     "name": "stdout",
     "output_type": "stream",
     "text": [
      "Expected Role Therapist\n"
     ]
    },
    {
     "name": "stderr",
     "output_type": "stream",
     "text": [
      "Processed prompts: 100%|██████████| 1/1 [00:01<00:00,  1.98s/it, est. speed input: 2214.29 toks/s, output: 42.94 toks/s]\n"
     ]
    },
    {
     "name": "stdout",
     "output_type": "stream",
     "text": [
      "Expected Role Patient\n"
     ]
    },
    {
     "name": "stderr",
     "output_type": "stream",
     "text": [
      "Processed prompts: 100%|██████████| 1/1 [00:02<00:00,  2.59s/it, est. speed input: 1725.24 toks/s, output: 42.86 toks/s]\n"
     ]
    },
    {
     "name": "stdout",
     "output_type": "stream",
     "text": [
      "Expected Role Therapist\n"
     ]
    },
    {
     "name": "stderr",
     "output_type": "stream",
     "text": [
      "Processed prompts: 100%|██████████| 1/1 [00:01<00:00,  1.97s/it, est. speed input: 2332.51 toks/s, output: 42.75 toks/s]\n"
     ]
    },
    {
     "name": "stdout",
     "output_type": "stream",
     "text": [
      "Expected Role Patient\n"
     ]
    },
    {
     "name": "stderr",
     "output_type": "stream",
     "text": [
      "Processed prompts: 100%|██████████| 1/1 [00:01<00:00,  1.50s/it, est. speed input: 3109.09 toks/s, output: 42.64 toks/s]\n"
     ]
    },
    {
     "name": "stdout",
     "output_type": "stream",
     "text": [
      "Expected Role Therapist\n"
     ]
    },
    {
     "name": "stderr",
     "output_type": "stream",
     "text": [
      "Processed prompts: 100%|██████████| 1/1 [00:02<00:00,  2.08s/it, est. speed input: 2273.97 toks/s, output: 42.74 toks/s]\n"
     ]
    },
    {
     "name": "stdout",
     "output_type": "stream",
     "text": [
      "Expected Role Patient\n"
     ]
    },
    {
     "name": "stderr",
     "output_type": "stream",
     "text": [
      "Processed prompts: 100%|██████████| 1/1 [00:01<00:00,  1.36s/it, est. speed input: 3537.49 toks/s, output: 42.53 toks/s]\n"
     ]
    },
    {
     "name": "stdout",
     "output_type": "stream",
     "text": [
      "Expected Role Therapist\n"
     ]
    },
    {
     "name": "stderr",
     "output_type": "stream",
     "text": [
      "Processed prompts: 100%|██████████| 1/1 [00:02<00:00,  2.22s/it, est. speed input: 2197.55 toks/s, output: 42.73 toks/s]\n"
     ]
    },
    {
     "name": "stdout",
     "output_type": "stream",
     "text": [
      "Expected Role Patient\n",
      "eval_prompt_consistency\n",
      "eval_prompt_consistency\n"
     ]
    },
    {
     "name": "stderr",
     "output_type": "stream",
     "text": [
      "Processed prompts: 100%|██████████| 1/1 [00:01<00:00,  1.22s/it, est. speed input: 314.05 toks/s, output: 44.16 toks/s]\n"
     ]
    },
    {
     "name": "stdout",
     "output_type": "stream",
     "text": [
      "eval_prompt_consistency\n",
      "eval_prompt_consistency\n"
     ]
    },
    {
     "name": "stderr",
     "output_type": "stream",
     "text": [
      "Processed prompts: 100%|██████████| 1/1 [00:01<00:00,  1.14s/it, est. speed input: 357.89 toks/s, output: 44.74 toks/s]\n"
     ]
    },
    {
     "name": "stdout",
     "output_type": "stream",
     "text": [
      "eval_prompt_consistency\n",
      "eval_prompt_consistency\n"
     ]
    },
    {
     "name": "stderr",
     "output_type": "stream",
     "text": [
      "Processed prompts: 100%|██████████| 1/1 [00:01<00:00,  1.21s/it, est. speed input: 347.86 toks/s, output: 44.72 toks/s]\n"
     ]
    },
    {
     "name": "stdout",
     "output_type": "stream",
     "text": [
      "eval_prompt_consistency\n",
      "eval_prompt_consistency\n"
     ]
    },
    {
     "name": "stderr",
     "output_type": "stream",
     "text": [
      "Processed prompts: 100%|██████████| 1/1 [00:01<00:00,  1.43s/it, est. speed input: 295.85 toks/s, output: 44.76 toks/s]\n"
     ]
    },
    {
     "name": "stdout",
     "output_type": "stream",
     "text": [
      "eval_prompt_consistency\n",
      "eval_prompt_consistency\n"
     ]
    },
    {
     "name": "stderr",
     "output_type": "stream",
     "text": [
      "Processed prompts: 100%|██████████| 1/1 [00:01<00:00,  1.41s/it, est. speed input: 299.30 toks/s, output: 44.79 toks/s]\n"
     ]
    },
    {
     "name": "stdout",
     "output_type": "stream",
     "text": [
      "eval_prompt_consistency\n",
      "eval_prompt_consistency\n"
     ]
    },
    {
     "name": "stderr",
     "output_type": "stream",
     "text": [
      "Processed prompts: 100%|██████████| 1/1 [00:01<00:00,  1.74s/it, est. speed input: 247.41 toks/s, output: 44.78 toks/s]\n"
     ]
    },
    {
     "name": "stdout",
     "output_type": "stream",
     "text": [
      "eval_prompt_consistency\n",
      "eval_prompt_consistency\n"
     ]
    },
    {
     "name": "stderr",
     "output_type": "stream",
     "text": [
      "Processed prompts: 100%|██████████| 1/1 [00:01<00:00,  1.41s/it, est. speed input: 284.76 toks/s, output: 44.85 toks/s]\n"
     ]
    },
    {
     "name": "stdout",
     "output_type": "stream",
     "text": [
      "eval_prompt_consistency\n",
      "eval_prompt_consistency\n"
     ]
    },
    {
     "name": "stderr",
     "output_type": "stream",
     "text": [
      "Processed prompts: 100%|██████████| 1/1 [00:01<00:00,  1.94s/it, est. speed input: 211.91 toks/s, output: 44.86 toks/s]\n"
     ]
    },
    {
     "name": "stdout",
     "output_type": "stream",
     "text": [
      "eval_prompt_consistency\n",
      "eval_prompt_consistency\n"
     ]
    },
    {
     "name": "stderr",
     "output_type": "stream",
     "text": [
      "Processed prompts: 100%|██████████| 1/1 [00:01<00:00,  1.56s/it, est. speed input: 277.79 toks/s, output: 44.80 toks/s]\n"
     ]
    },
    {
     "name": "stdout",
     "output_type": "stream",
     "text": [
      "eval_prompt_consistency\n",
      "eval_prompt_consistency\n"
     ]
    },
    {
     "name": "stderr",
     "output_type": "stream",
     "text": [
      "Processed prompts: 100%|██████████| 1/1 [00:01<00:00,  1.81s/it, est. speed input: 233.49 toks/s, output: 44.82 toks/s]\n"
     ]
    },
    {
     "name": "stdout",
     "output_type": "stream",
     "text": [
      "eval_prompt_consistency\n",
      "eval_prompt_consistency\n"
     ]
    },
    {
     "name": "stderr",
     "output_type": "stream",
     "text": [
      "Processed prompts: 100%|██████████| 1/1 [00:01<00:00,  1.25s/it, est. speed input: 313.16 toks/s, output: 44.85 toks/s]\n"
     ]
    },
    {
     "name": "stdout",
     "output_type": "stream",
     "text": [
      "eval_prompt_consistency\n",
      "eval_prompt_consistency\n"
     ]
    },
    {
     "name": "stderr",
     "output_type": "stream",
     "text": [
      "Processed prompts: 100%|██████████| 1/1 [00:01<00:00,  1.28s/it, est. speed input: 331.88 toks/s, output: 44.72 toks/s]\n"
     ]
    },
    {
     "name": "stdout",
     "output_type": "stream",
     "text": [
      "eval_prompt_consistency\n",
      "eval_prompt_consistency\n"
     ]
    },
    {
     "name": "stderr",
     "output_type": "stream",
     "text": [
      "Processed prompts: 100%|██████████| 1/1 [00:01<00:00,  1.59s/it, est. speed input: 266.20 toks/s, output: 44.79 toks/s]\n"
     ]
    },
    {
     "name": "stdout",
     "output_type": "stream",
     "text": [
      "eval_prompt_consistency\n",
      "eval_prompt_consistency\n"
     ]
    },
    {
     "name": "stderr",
     "output_type": "stream",
     "text": [
      "Processed prompts: 100%|██████████| 1/1 [00:01<00:00,  1.30s/it, est. speed input: 323.16 toks/s, output: 44.73 toks/s]\n"
     ]
    },
    {
     "name": "stdout",
     "output_type": "stream",
     "text": [
      "eval_prompt_consistency\n",
      "eval_prompt_consistency\n"
     ]
    },
    {
     "name": "stderr",
     "output_type": "stream",
     "text": [
      "Processed prompts: 100%|██████████| 1/1 [00:01<00:00,  1.52s/it, est. speed input: 288.72 toks/s, output: 44.72 toks/s]\n"
     ]
    },
    {
     "name": "stdout",
     "output_type": "stream",
     "text": [
      "eval_prompt_consistency\n",
      "eval_prompt_consistency\n"
     ]
    },
    {
     "name": "stderr",
     "output_type": "stream",
     "text": [
      "Processed prompts: 100%|██████████| 1/1 [00:01<00:00,  1.16s/it, est. speed input: 366.28 toks/s, output: 44.71 toks/s]\n"
     ]
    },
    {
     "name": "stdout",
     "output_type": "stream",
     "text": [
      "eval_prompt_consistency\n",
      "eval_prompt_consistency\n"
     ]
    },
    {
     "name": "stderr",
     "output_type": "stream",
     "text": [
      "Processed prompts: 100%|██████████| 1/1 [00:01<00:00,  1.80s/it, est. speed input: 216.24 toks/s, output: 44.91 toks/s]\n"
     ]
    },
    {
     "name": "stdout",
     "output_type": "stream",
     "text": [
      "eval_prompt_consistency\n",
      "eval_prompt_consistency\n"
     ]
    },
    {
     "name": "stderr",
     "output_type": "stream",
     "text": [
      "Processed prompts: 100%|██████████| 1/1 [00:01<00:00,  1.56s/it, est. speed input: 261.66 toks/s, output: 44.89 toks/s]\n"
     ]
    },
    {
     "name": "stdout",
     "output_type": "stream",
     "text": [
      "eval_prompt_consistency\n",
      "eval_prompt_consistency\n"
     ]
    },
    {
     "name": "stderr",
     "output_type": "stream",
     "text": [
      "Processed prompts: 100%|██████████| 1/1 [00:01<00:00,  1.08s/it, est. speed input: 403.81 toks/s, output: 44.66 toks/s]\n"
     ]
    },
    {
     "name": "stdout",
     "output_type": "stream",
     "text": [
      "eval_prompt_consistency\n",
      "eval_prompt_consistency\n"
     ]
    },
    {
     "name": "stderr",
     "output_type": "stream",
     "text": [
      "Processed prompts: 100%|██████████| 1/1 [00:01<00:00,  1.67s/it, est. speed input: 252.72 toks/s, output: 44.81 toks/s]\n"
     ]
    },
    {
     "name": "stdout",
     "output_type": "stream",
     "text": [
      "eval_prompt_consistency\n",
      "eval_prompt_consistency\n"
     ]
    },
    {
     "name": "stderr",
     "output_type": "stream",
     "text": [
      "Processed prompts: 100%|██████████| 1/1 [00:01<00:00,  1.61s/it, est. speed input: 255.81 toks/s, output: 44.81 toks/s]\n"
     ]
    },
    {
     "name": "stdout",
     "output_type": "stream",
     "text": [
      "eval_prompt_consistency\n",
      "eval_prompt_consistency\n"
     ]
    },
    {
     "name": "stderr",
     "output_type": "stream",
     "text": [
      "Processed prompts: 100%|██████████| 1/1 [00:01<00:00,  1.66s/it, est. speed input: 247.09 toks/s, output: 44.60 toks/s]\n"
     ]
    },
    {
     "name": "stdout",
     "output_type": "stream",
     "text": [
      "eval_prompt_consistency\n",
      "eval_prompt_consistency\n"
     ]
    },
    {
     "name": "stderr",
     "output_type": "stream",
     "text": [
      "Processed prompts: 100%|██████████| 1/1 [00:01<00:00,  1.01s/it, est. speed input: 417.38 toks/s, output: 44.61 toks/s]\n"
     ]
    },
    {
     "name": "stdout",
     "output_type": "stream",
     "text": [
      "eval_prompt_consistency\n",
      "eval_prompt_consistency\n"
     ]
    },
    {
     "name": "stderr",
     "output_type": "stream",
     "text": [
      "Processed prompts: 100%|██████████| 1/1 [00:01<00:00,  1.38s/it, est. speed input: 289.02 toks/s, output: 44.80 toks/s]\n"
     ]
    },
    {
     "name": "stdout",
     "output_type": "stream",
     "text": [
      "eval_prompt_consistency\n",
      "eval_prompt_consistency\n"
     ]
    },
    {
     "name": "stderr",
     "output_type": "stream",
     "text": [
      "Processed prompts: 100%|██████████| 1/1 [00:02<00:00,  2.03s/it, est. speed input: 204.52 toks/s, output: 44.85 toks/s]\n"
     ]
    },
    {
     "name": "stdout",
     "output_type": "stream",
     "text": [
      "eval_prompt_consistency\n",
      "eval_prompt_consistency\n"
     ]
    },
    {
     "name": "stderr",
     "output_type": "stream",
     "text": [
      "Processed prompts: 100%|██████████| 1/1 [00:01<00:00,  1.12s/it, est. speed input: 363.25 toks/s, output: 44.73 toks/s]\n"
     ]
    },
    {
     "name": "stdout",
     "output_type": "stream",
     "text": [
      "eval_prompt_consistency\n",
      "eval_prompt_consistency\n"
     ]
    },
    {
     "name": "stderr",
     "output_type": "stream",
     "text": [
      "Processed prompts: 100%|██████████| 1/1 [00:01<00:00,  1.56s/it, est. speed input: 267.94 toks/s, output: 44.76 toks/s]\n"
     ]
    },
    {
     "name": "stdout",
     "output_type": "stream",
     "text": [
      "eval_prompt_consistency\n",
      "eval_prompt_consistency\n"
     ]
    },
    {
     "name": "stderr",
     "output_type": "stream",
     "text": [
      "Processed prompts: 100%|██████████| 1/1 [00:01<00:00,  1.15s/it, est. speed input: 364.26 toks/s, output: 44.44 toks/s]\n"
     ]
    },
    {
     "name": "stdout",
     "output_type": "stream",
     "text": [
      "eval_prompt_consistency\n",
      "eval_prompt_consistency\n"
     ]
    },
    {
     "name": "stderr",
     "output_type": "stream",
     "text": [
      "Processed prompts: 100%|██████████| 1/1 [00:01<00:00,  1.16s/it, est. speed input: 363.46 toks/s, output: 44.68 toks/s]\n"
     ]
    },
    {
     "name": "stdout",
     "output_type": "stream",
     "text": [
      "eval_prompt_consistency\n",
      "eval_prompt_consistency\n"
     ]
    },
    {
     "name": "stderr",
     "output_type": "stream",
     "text": [
      "Processed prompts: 100%|██████████| 1/1 [00:01<00:00,  1.19s/it, est. speed input: 361.74 toks/s, output: 44.69 toks/s]\n"
     ]
    },
    {
     "name": "stdout",
     "output_type": "stream",
     "text": [
      "eval_index_consistency\n"
     ]
    },
    {
     "name": "stderr",
     "output_type": "stream",
     "text": [
      "Processed prompts: 100%|██████████| 1/1 [00:01<00:00,  1.90s/it, est. speed input: 252.21 toks/s, output: 44.32 toks/s]\n",
      "Processed prompts: 100%|██████████| 1/1 [00:01<00:00,  1.57s/it, est. speed input: 415.48 toks/s, output: 44.10 toks/s]\n",
      "Processed prompts: 100%|██████████| 1/1 [00:01<00:00,  1.46s/it, est. speed input: 553.08 toks/s, output: 43.86 toks/s]\n",
      "Processed prompts: 100%|██████████| 1/1 [00:01<00:00,  1.35s/it, est. speed input: 728.70 toks/s, output: 43.74 toks/s]\n",
      "Processed prompts: 100%|██████████| 1/1 [00:01<00:00,  1.54s/it, est. speed input: 755.31 toks/s, output: 43.44 toks/s]\n",
      "Processed prompts: 100%|██████████| 1/1 [00:00<00:00,  1.03it/s, est. speed input: 1348.98 toks/s, output: 43.35 toks/s]\n",
      "Processed prompts: 100%|██████████| 1/1 [00:01<00:00,  1.17s/it, est. speed input: 1230.45 toks/s, output: 43.52 toks/s]\n",
      "Processed prompts: 100%|██████████| 1/1 [00:01<00:00,  1.71s/it, est. speed input: 960.00 toks/s, output: 43.29 toks/s]\n",
      "Processed prompts: 100%|██████████| 1/1 [00:02<00:00,  2.24s/it, est. speed input: 801.98 toks/s, output: 43.76 toks/s]\n",
      "Processed prompts: 100%|██████████| 1/1 [00:01<00:00,  1.59s/it, est. speed input: 1224.88 toks/s, output: 43.52 toks/s]\n",
      "Processed prompts: 100%|██████████| 1/1 [00:01<00:00,  1.53s/it, est. speed input: 1386.14 toks/s, output: 43.13 toks/s]\n",
      "Processed prompts: 100%|██████████| 1/1 [00:01<00:00,  1.41s/it, est. speed input: 1607.64 toks/s, output: 43.18 toks/s]\n",
      "Processed prompts: 100%|██████████| 1/1 [00:01<00:00,  1.60s/it, est. speed input: 1535.02 toks/s, output: 43.16 toks/s]\n",
      "Processed prompts: 100%|██████████| 1/1 [00:02<00:00,  2.06s/it, est. speed input: 1294.52 toks/s, output: 43.26 toks/s]\n",
      "Processed prompts: 100%|██████████| 1/1 [00:01<00:00,  1.52s/it, est. speed input: 1862.08 toks/s, output: 42.89 toks/s]\n",
      "Processed prompts: 100%|██████████| 1/1 [00:01<00:00,  1.38s/it, est. speed input: 2143.20 toks/s, output: 42.91 toks/s]\n",
      "Processed prompts: 100%|██████████| 1/1 [00:01<00:00,  1.42s/it, est. speed input: 2185.62 toks/s, output: 42.90 toks/s]\n",
      "Processed prompts: 100%|██████████| 1/1 [00:01<00:00,  1.59s/it, est. speed input: 2074.30 toks/s, output: 42.82 toks/s]\n",
      "Processed prompts: 100%|██████████| 1/1 [00:01<00:00,  1.57s/it, est. speed input: 2216.80 toks/s, output: 42.70 toks/s]\n",
      "Processed prompts: 100%|██████████| 1/1 [00:01<00:00,  1.53s/it, est. speed input: 2396.58 toks/s, output: 42.56 toks/s]\n",
      "Processed prompts: 100%|██████████| 1/1 [00:01<00:00,  1.83s/it, est. speed input: 2070.57 toks/s, output: 42.58 toks/s]\n",
      "Processed prompts: 100%|██████████| 1/1 [00:01<00:00,  1.67s/it, est. speed input: 2377.20 toks/s, output: 42.58 toks/s]\n",
      "Processed prompts: 100%|██████████| 1/1 [00:01<00:00,  1.97s/it, est. speed input: 2073.13 toks/s, output: 42.70 toks/s]\n",
      "Processed prompts: 100%|██████████| 1/1 [00:01<00:00,  1.61s/it, est. speed input: 2641.59 toks/s, output: 42.17 toks/s]\n",
      "Processed prompts: 100%|██████████| 1/1 [00:01<00:00,  1.82s/it, est. speed input: 2435.10 toks/s, output: 42.37 toks/s]\n",
      "Processed prompts: 100%|██████████| 1/1 [00:01<00:00,  1.24s/it, est. speed input: 3719.74 toks/s, output: 41.91 toks/s]\n",
      "Processed prompts: 100%|██████████| 1/1 [00:03<00:00,  3.24s/it, est. speed input: 1485.97 toks/s, output: 42.57 toks/s]\n",
      "Processed prompts: 100%|██████████| 1/1 [00:01<00:00,  1.87s/it, est. speed input: 2663.31 toks/s, output: 42.27 toks/s]\n",
      "Processed prompts: 100%|██████████| 1/1 [00:01<00:00,  1.86s/it, est. speed input: 2769.97 toks/s, output: 42.06 toks/s]\n"
     ]
    },
    {
     "name": "stdout",
     "output_type": "stream",
     "text": [
      "eval_prompt_consistency\n",
      "eval_prompt_consistency\n"
     ]
    },
    {
     "name": "stderr",
     "output_type": "stream",
     "text": [
      "Processed prompts: 100%|██████████| 1/1 [00:01<00:00,  1.01s/it, est. speed input: 289.28 toks/s, output: 44.43 toks/s]\n"
     ]
    },
    {
     "name": "stdout",
     "output_type": "stream",
     "text": [
      "eval_prompt_consistency\n",
      "eval_prompt_consistency\n"
     ]
    },
    {
     "name": "stderr",
     "output_type": "stream",
     "text": [
      "Processed prompts: 100%|██████████| 1/1 [00:01<00:00,  1.16s/it, est. speed input: 273.35 toks/s, output: 44.84 toks/s]\n"
     ]
    },
    {
     "name": "stdout",
     "output_type": "stream",
     "text": [
      "eval_prompt_consistency\n",
      "eval_prompt_consistency\n"
     ]
    },
    {
     "name": "stderr",
     "output_type": "stream",
     "text": [
      "Processed prompts: 100%|██████████| 1/1 [00:01<00:00,  1.05s/it, est. speed input: 313.02 toks/s, output: 44.72 toks/s]\n"
     ]
    },
    {
     "name": "stdout",
     "output_type": "stream",
     "text": [
      "eval_prompt_consistency\n",
      "eval_prompt_consistency\n"
     ]
    },
    {
     "name": "stderr",
     "output_type": "stream",
     "text": [
      "Processed prompts: 100%|██████████| 1/1 [00:00<00:00,  1.05it/s, est. speed input: 350.19 toks/s, output: 44.30 toks/s]\n"
     ]
    },
    {
     "name": "stdout",
     "output_type": "stream",
     "text": [
      "eval_prompt_consistency\n",
      "eval_prompt_consistency\n"
     ]
    },
    {
     "name": "stderr",
     "output_type": "stream",
     "text": [
      "Processed prompts: 100%|██████████| 1/1 [00:01<00:00,  1.49s/it, est. speed input: 221.05 toks/s, output: 44.88 toks/s]\n"
     ]
    },
    {
     "name": "stdout",
     "output_type": "stream",
     "text": [
      "eval_prompt_consistency\n",
      "eval_prompt_consistency\n"
     ]
    },
    {
     "name": "stderr",
     "output_type": "stream",
     "text": [
      "Processed prompts: 100%|██████████| 1/1 [00:00<00:00,  1.01it/s, est. speed input: 345.32 toks/s, output: 44.69 toks/s]\n"
     ]
    },
    {
     "name": "stdout",
     "output_type": "stream",
     "text": [
      "eval_prompt_consistency\n",
      "eval_prompt_consistency\n"
     ]
    },
    {
     "name": "stderr",
     "output_type": "stream",
     "text": [
      "Processed prompts: 100%|██████████| 1/1 [00:01<00:00,  1.52s/it, est. speed input: 203.00 toks/s, output: 44.67 toks/s]\n"
     ]
    },
    {
     "name": "stdout",
     "output_type": "stream",
     "text": [
      "eval_prompt_consistency\n",
      "eval_prompt_consistency\n"
     ]
    },
    {
     "name": "stderr",
     "output_type": "stream",
     "text": [
      "Processed prompts: 100%|██████████| 1/1 [00:01<00:00,  1.47s/it, est. speed input: 217.14 toks/s, output: 44.78 toks/s]\n"
     ]
    },
    {
     "name": "stdout",
     "output_type": "stream",
     "text": [
      "eval_prompt_consistency\n",
      "eval_prompt_consistency\n"
     ]
    },
    {
     "name": "stderr",
     "output_type": "stream",
     "text": [
      "Processed prompts: 100%|██████████| 1/1 [00:00<00:00,  1.06it/s, est. speed input: 364.56 toks/s, output: 44.64 toks/s]\n"
     ]
    },
    {
     "name": "stdout",
     "output_type": "stream",
     "text": [
      "eval_prompt_consistency\n",
      "eval_prompt_consistency\n"
     ]
    },
    {
     "name": "stderr",
     "output_type": "stream",
     "text": [
      "Processed prompts: 100%|██████████| 1/1 [00:01<00:00,  1.32s/it, est. speed input: 251.57 toks/s, output: 44.84 toks/s]\n"
     ]
    },
    {
     "name": "stdout",
     "output_type": "stream",
     "text": [
      "eval_prompt_consistency\n",
      "eval_prompt_consistency\n"
     ]
    },
    {
     "name": "stderr",
     "output_type": "stream",
     "text": [
      "Processed prompts: 100%|██████████| 1/1 [00:01<00:00,  1.07s/it, est. speed input: 280.90 toks/s, output: 44.94 toks/s]\n"
     ]
    },
    {
     "name": "stdout",
     "output_type": "stream",
     "text": [
      "eval_prompt_consistency\n",
      "eval_prompt_consistency\n"
     ]
    },
    {
     "name": "stderr",
     "output_type": "stream",
     "text": [
      "Processed prompts: 100%|██████████| 1/1 [00:01<00:00,  1.20s/it, est. speed input: 276.14 toks/s, output: 44.91 toks/s]\n"
     ]
    },
    {
     "name": "stdout",
     "output_type": "stream",
     "text": [
      "eval_prompt_consistency\n",
      "eval_prompt_consistency\n"
     ]
    },
    {
     "name": "stderr",
     "output_type": "stream",
     "text": [
      "Processed prompts: 100%|██████████| 1/1 [00:01<00:00,  1.14s/it, est. speed input: 291.68 toks/s, output: 44.94 toks/s]\n"
     ]
    },
    {
     "name": "stdout",
     "output_type": "stream",
     "text": [
      "eval_prompt_consistency\n",
      "eval_prompt_consistency\n"
     ]
    },
    {
     "name": "stderr",
     "output_type": "stream",
     "text": [
      "Processed prompts: 100%|██████████| 1/1 [00:01<00:00,  1.09s/it, est. speed input: 300.38 toks/s, output: 44.87 toks/s]\n"
     ]
    },
    {
     "name": "stdout",
     "output_type": "stream",
     "text": [
      "eval_prompt_consistency\n",
      "eval_prompt_consistency\n"
     ]
    },
    {
     "name": "stderr",
     "output_type": "stream",
     "text": [
      "Processed prompts: 100%|██████████| 1/1 [00:01<00:00,  1.21s/it, est. speed input: 288.64 toks/s, output: 44.79 toks/s]\n"
     ]
    },
    {
     "name": "stdout",
     "output_type": "stream",
     "text": [
      "eval_prompt_consistency\n",
      "eval_prompt_consistency\n"
     ]
    },
    {
     "name": "stderr",
     "output_type": "stream",
     "text": [
      "Processed prompts: 100%|██████████| 1/1 [00:01<00:00,  1.36s/it, est. speed input: 246.26 toks/s, output: 44.84 toks/s]\n"
     ]
    },
    {
     "name": "stdout",
     "output_type": "stream",
     "text": [
      "eval_prompt_consistency\n",
      "eval_prompt_consistency\n"
     ]
    },
    {
     "name": "stderr",
     "output_type": "stream",
     "text": [
      "Processed prompts: 100%|██████████| 1/1 [00:00<00:00,  1.03it/s, est. speed input: 308.50 toks/s, output: 44.37 toks/s]\n"
     ]
    },
    {
     "name": "stdout",
     "output_type": "stream",
     "text": [
      "eval_prompt_consistency\n",
      "eval_prompt_consistency\n"
     ]
    },
    {
     "name": "stderr",
     "output_type": "stream",
     "text": [
      "Processed prompts: 100%|██████████| 1/1 [00:01<00:00,  1.20s/it, est. speed input: 263.39 toks/s, output: 44.87 toks/s]\n"
     ]
    },
    {
     "name": "stdout",
     "output_type": "stream",
     "text": [
      "eval_prompt_consistency\n",
      "eval_prompt_consistency\n"
     ]
    },
    {
     "name": "stderr",
     "output_type": "stream",
     "text": [
      "Processed prompts: 100%|██████████| 1/1 [00:01<00:00,  1.52s/it, est. speed input: 226.07 toks/s, output: 44.82 toks/s]\n"
     ]
    },
    {
     "name": "stdout",
     "output_type": "stream",
     "text": [
      "eval_prompt_consistency\n",
      "eval_prompt_consistency\n"
     ]
    },
    {
     "name": "stderr",
     "output_type": "stream",
     "text": [
      "Processed prompts: 100%|██████████| 1/1 [00:01<00:00,  1.36s/it, est. speed input: 244.24 toks/s, output: 44.88 toks/s]\n"
     ]
    },
    {
     "name": "stdout",
     "output_type": "stream",
     "text": [
      "eval_prompt_consistency\n",
      "eval_prompt_consistency\n"
     ]
    },
    {
     "name": "stderr",
     "output_type": "stream",
     "text": [
      "Processed prompts: 100%|██████████| 1/1 [00:01<00:00,  1.45s/it, est. speed input: 220.81 toks/s, output: 44.85 toks/s]\n"
     ]
    },
    {
     "name": "stdout",
     "output_type": "stream",
     "text": [
      "eval_prompt_consistency\n",
      "eval_prompt_consistency\n"
     ]
    },
    {
     "name": "stderr",
     "output_type": "stream",
     "text": [
      "Processed prompts: 100%|██████████| 1/1 [00:01<00:00,  1.23s/it, est. speed input: 259.74 toks/s, output: 44.78 toks/s]\n"
     ]
    },
    {
     "name": "stdout",
     "output_type": "stream",
     "text": [
      "eval_prompt_consistency\n",
      "eval_prompt_consistency\n"
     ]
    },
    {
     "name": "stderr",
     "output_type": "stream",
     "text": [
      "Processed prompts: 100%|██████████| 1/1 [00:01<00:00,  1.54s/it, est. speed input: 214.43 toks/s, output: 44.83 toks/s]\n"
     ]
    },
    {
     "name": "stdout",
     "output_type": "stream",
     "text": [
      "eval_prompt_consistency\n",
      "eval_prompt_consistency\n"
     ]
    },
    {
     "name": "stderr",
     "output_type": "stream",
     "text": [
      "Processed prompts: 100%|██████████| 1/1 [00:01<00:00,  1.53s/it, est. speed input: 202.10 toks/s, output: 44.47 toks/s]\n"
     ]
    },
    {
     "name": "stdout",
     "output_type": "stream",
     "text": [
      "eval_prompt_consistency\n",
      "eval_prompt_consistency\n"
     ]
    },
    {
     "name": "stderr",
     "output_type": "stream",
     "text": [
      "Processed prompts: 100%|██████████| 1/1 [00:01<00:00,  1.23s/it, est. speed input: 263.61 toks/s, output: 44.75 toks/s]\n"
     ]
    },
    {
     "name": "stdout",
     "output_type": "stream",
     "text": [
      "eval_prompt_consistency\n",
      "eval_prompt_consistency\n"
     ]
    },
    {
     "name": "stderr",
     "output_type": "stream",
     "text": [
      "Processed prompts: 100%|██████████| 1/1 [00:01<00:00,  1.59s/it, est. speed input: 197.82 toks/s, output: 45.22 toks/s]\n"
     ]
    },
    {
     "name": "stdout",
     "output_type": "stream",
     "text": [
      "eval_prompt_consistency\n",
      "eval_prompt_consistency\n"
     ]
    },
    {
     "name": "stderr",
     "output_type": "stream",
     "text": [
      "Processed prompts: 100%|██████████| 1/1 [00:01<00:00,  1.32s/it, est. speed input: 249.03 toks/s, output: 44.80 toks/s]\n"
     ]
    },
    {
     "name": "stdout",
     "output_type": "stream",
     "text": [
      "eval_prompt_consistency\n",
      "eval_prompt_consistency\n"
     ]
    },
    {
     "name": "stderr",
     "output_type": "stream",
     "text": [
      "Processed prompts: 100%|██████████| 1/1 [00:01<00:00,  1.06s/it, est. speed input: 307.88 toks/s, output: 44.25 toks/s]\n"
     ]
    },
    {
     "name": "stdout",
     "output_type": "stream",
     "text": [
      "eval_prompt_consistency\n",
      "eval_prompt_consistency\n"
     ]
    },
    {
     "name": "stderr",
     "output_type": "stream",
     "text": [
      "Processed prompts: 100%|██████████| 1/1 [00:00<00:00,  1.12it/s, est. speed input: 371.23 toks/s, output: 44.73 toks/s]\n"
     ]
    },
    {
     "name": "stdout",
     "output_type": "stream",
     "text": [
      "eval_prompt_consistency\n",
      "eval_prompt_consistency\n"
     ]
    },
    {
     "name": "stderr",
     "output_type": "stream",
     "text": [
      "Processed prompts: 100%|██████████| 1/1 [00:01<00:00,  1.03s/it, est. speed input: 328.54 toks/s, output: 44.71 toks/s]\n",
      "  2%|▏         | 2/100 [07:40<6:17:41, 231.24s/it]"
     ]
    },
    {
     "name": "stdout",
     "output_type": "stream",
     "text": [
      "{'task_name': 'Therapy', 'topic': '', 'grade': '', 'P1': '', 'P2': 'age:22; nationality/ethnicity:Asian; mental health diagnosis:social anxiety disorder that results in difficulty forming close relationships; Substance Use:none; Level of Social Engagement:very low; Trauma History:bullying in adolescence', 'conversation': [(0, \"Therapist: How have you found your experiences in our online sessions thus far, and is there anything that's stood out to you about our conversations that you'd like to explore further?\\n\"), (1, \"Patient: To be honest, I've found it's been a relief to have a space to talk about my feelings and thoughts without the pressure of face-to-face interactions. The anonymity of our online sessions has actually made me feel more comfortable sharing my vulnerabilities.\\n\"), (2, \"Therapist: That's a valuable insight, and it's interesting that you mention the anonymity as a factor that's contributed to your comfort level - can you tell me more about what you think you would have been afraid to express in a face-to-face setting that you've been able to share with me online?\\n\"), (3, \"Patient: I think it's the fear of being judged or rejected by someone who's physically present, like they're taking my appearance or tone of voice into account, whereas with you, I feel like you're more focused on what I'm actually saying. It's like I can be more genuine and authentic without the added pressure of trying to present myself in a certain way.\\n\"), (4, \"Therapist: That makes sense, and it's possible that you've developed a pattern of self-censorship in face-to-face interactions due to a fear of being judged or rejected, which has limited your ability to be fully yourself around others. Can you think of a specific time or situation where you felt like you couldn't be your authentic self because of this fear, and how did it affect you?\\n\"), (5, \"Patient: I remember this one incident in high school where I tried to join a group project, but I was immediately excluded by my classmates and they would constantly make snide comments about my interests. It felt like I was walking on eggshells, constantly trying to guess what they would accept and what they wouldn't, and it made me realize that being myself was just too much effort, so I ended up quitting the project altogether.\\n\"), (6, \"Therapist: That must have been a painful and isolating experience, and it's understandable that you may have internalized the message that being yourself isn't acceptable in certain social situations - can you tell me more about how you think this incident contributed to your self-perception and how it still affects your relationships today?\\n\"), (7, \"Patient: It's like I've carried this sense of self-doubt with me ever since, always wondering if I'm good enough or interesting enough to be accepted by others, and it's led to a fear of putting myself out there and taking risks in social situations, even in online communities. I feel like I'm stuck in this cycle of self-protection, where I'm too afraid to be myself and too scared of being rejected again.\\n\"), (8, \"Therapist: That sounds like a heavy burden to carry, and it's interesting that you mention the fear of being rejected again, but isn't it possible that this fear is also fueled by a deep-seated desire for connection and acceptance, rather than just the avoidance of rejection? Can you explore with me how you think the desire for connection and acceptance might be driving your actions, rather than just the fear of rejection?\\n\"), (9, \"Patient: I think it's possible that I've been trying to use my fear of rejection as a way to avoid feeling vulnerable and open to potential hurt, but at the same time, I've always secretly hoped that if I could just be more outgoing and confident, I'd be able to form deeper connections with others. But the more I try to put on this facade, the more I feel like I'm losing myself in the process.\\n\"), (10, \"Therapist: It sounds like you're describing a classic paradox of wanting to connect with others while also protecting yourself from potential hurt, which can lead to a sense of disconnection from your authentic self - can you explore with me what would happen if you were to take a risk and be fully yourself, without the expectation of acceptance or rejection, just for the sake of experiencing the authenticity of the moment?\\n\"), (11, \"Patient: I've been wondering what it would be like to let go of that need for acceptance and just allow myself to be in the moment, without putting on a mask or trying to impress anyone - it's scary to think about being so exposed, but also kind of exhilarating. I guess what I'm trying to say is that I'm curious to see if I can find a sense of connection and belonging in the midst of being my authentic self, even if that means being rejected.\\n\"), (12, \"Therapist: That curiosity about being rejected yet authentic is a significant step, and I'd like to explore how this desire for genuine connection might be tied to a deeper longing for self-acceptance and self-compassion - can you consider the possibility that the fear of rejection is not just about external validation, but also about internal self-acceptance?\\n\"), (13, \"Patient: I think that's a really interesting point, and I've often wondered why I'm so hard on myself, expecting to be rejected by others when I barely accept myself. It's like I'm trying to find validation through external sources because I'm not giving myself the love and acceptance I need, even when I'm alone.\\n\"), (14, 'Therapist: Can you think of a specific instance where you have been able to experience self-acceptance and self-compassion, perhaps in a moment of solitude or with a trusted loved one, and how that felt compared to your usual self-criticism?\\n'), (15, \"Patient: I remember a time when I was hiking alone in the woods during a solo trip, and I let myself get lost for a few hours without panicking or worrying about being late, it was a feeling of freedom and peace that I'd never experienced before, and it made me realize that I'm capable of being present with myself even when I'm not trying to impress anyone else.\\n\"), (16, \"Therapist: That's a beautiful memory, and it sounds like you were able to tap into a sense of self-trust and self-acceptance in that moment, which is something that can be a powerful antidote to the self-criticism you described earlier - can you think about how you might be able to cultivate more of that self-compassion and self-trust in your daily life, even in situations that feel more high-pressure or high-stakes?\\n\"), (17, \"Patient: I've been thinking about how I can apply that sense of self-acceptance from my hiking experience to everyday situations, like when I'm in online communities or group chats, and how I can remind myself that my worth isn't tied to others' opinions, even if it's hard to feel that way. It feels like a small step, but I'm trying to start by being kinder to myself when I slip up or say something awkward online, rather than beating myself up over it.\\n\"), (18, \"Therapist: As you're working on cultivating self-compassion and self-trust, can you also explore with me what might be some of the potential costs of maintaining this habit of self-criticism, not just for your mental health, but also for your relationships and overall sense of fulfillment in life?\\n\"), (19, \"Patient: I think the cost of maintaining this self-criticism is that it's been holding me back from fully engaging in experiences and relationships that could bring me joy and a sense of belonging, and it's also led to a sense of disconnection from my own desires and values. It's like I'm living a life that's more in line with what I think others want me to be, rather than what I truly want for myself.\\n\"), (20, \"Therapist: It sounds like you're starting to recognize the costs of self-criticism, but can you also consider what it would take to make a more intentional shift towards self-compassion and authenticity, even when it feels uncomfortable or scary? What would be the first small step you would take to break free from the cycle of self-doubt and start living more in line with your true values and desires?\\n\"), (21, \"Patient: I think one small step I'd like to take is to start practicing mindfulness when I'm in online communities, pausing for a moment before responding to comments or messages, to see if I can tune into my authentic reactions and feelings rather than immediately trying to curate a response.\\n\"), (22, 'Therapist: As you contemplate taking this small step, can you imagine how it might feel to embody a sense of curiosity and openness in those online interactions, rather than trying to control the response you want to give, and what might be the potential benefits of that approach? What might be one specific situation where you could try out this new way of being with an online interaction, and how might you prepare yourself for that conversation?\\n'), (23, \"Patient: I've been thinking about how my fear of rejection has also led me to people-please and overcommit, always trying to make others happy, even if it means sacrificing my own needs and desires, and I'm curious to explore how this dynamic plays out in my online relationships. I'm wondering if it's possible that my people-pleasing is actually a way of avoiding feelings of vulnerability and intimacy with others, even in online spaces.\\n\"), (24, \"Therapist: Let's explore this people-pleasing dynamic further - can you think of a time when your desire to make someone else happy led you to sacrifice your own needs, and how that decision affected your relationship with that person, as well as your sense of self-worth?\\n\"), (25, \"Patient: I remember a time when I volunteered to help a friend with a group project, even though it was exhausting me, just to avoid disappointing them, and afterwards I felt resentful and like I'd lost myself in the process. It made me realize that I was prioritizing their needs over my own, not just because I wanted to be liked, but also because I didn't feel like I was worthy of saying no or setting boundaries.\\n\"), (26, 'Therapist: It sounds like you\\'ve identified a pattern of people-pleasing that\\'s deeply connected to feelings of unworthiness, which may be driving your need for external validation. Can you explore with me how you might distinguish between saying \"yes\" to help others and \"yes\" as a way of avoiding feelings of rejection or unworthiness, and how you might practice asserting your own needs and boundaries in a way that feels authentic and not resentful?\\n'), (27, \"Patient: I've been thinking about how I often confuse my desire to be liked and accepted with a need for validation, and I'm curious to explore what it would be like to separate those two feelings and learn to set boundaries that prioritize my own needs. I'm worried that if I don't learn to say no to others and prioritize my own desires, I'll continue to lose myself in the process of people-pleasing.\\n\"), (28, 'Therapist: As you begin to explore this distinction between people-pleasing and authentic boundaries, can you also consider how your desire for external validation might be a coping mechanism for a deeper sense of inadequacy or shame, and what it would take to address those underlying feelings in a more direct way? How might you begin to reframe your people-pleasing as an opportunity to practice self-compassion and self-forgiveness, rather than a source of self-blame and shame?\\n'), (29, \"Patient: I think that by acknowledging my desire for external validation as a coping mechanism for underlying shame and inadequacy, I might be able to start to untangle it from my self-worth, and see that it's not a reflection of my true value as a person. I'd like to explore with you what it would look like to practice self-compassion and self-forgiveness when I inevitably people-please or make choices that aren't truly in line with my needs, rather than beating myself up over it.\\n\"), (30, \"Therapist: Can you think of a time when you've been able to practice self-compassion and self-forgiveness in the midst of people-pleasing or making a choice that wasn't in line with your needs, and how that experience might have shifted your perspective on your own worth and value?\\n\"), (31, \"Patient: I've been reflecting on how my need for validation often stems from a deep-seated fear of being like my bullies from high school, and I'm curious to explore how I can reframe that fear as a reminder to prioritize my own self-care and self-worth, rather than seeking it from others. It's almost like I've been trying to prove myself to them all these years, and now I want to focus on proving it to myself.\\n\"), (32, 'Therapist: It sounds like you\\'re beginning to untangle the roots of your people-pleasing behavior and connecting it to a deeper need for self-validation, rather than external approval, can you tell me more about what it means to \"prove it to yourself\" and how you envision that process unfolding in your life?\\n'), (33, \"Patient: I think proving it to myself means embracing my uniqueness and strengths, rather than constantly seeking validation from others to compensate for my perceived shortcomings, and I'd like to explore what that looks like in practice, like setting boundaries or pursuing activities that bring me joy without needing external approval.\\n\"), (34, 'Therapist: As you continue to explore this process of self-validation, can you imagine what it would be like to reframe your perceived shortcomings as an opportunity for growth and self-awareness, rather than a fixed identity that you need to compensate for with external validation? How might you begin to notice and celebrate your unique strengths and talents, and use those as a foundation for building self-confidence and self-worth?\\n'), (35, \"Patient: I've been thinking about how my tendency to people-please often stems from a fear of being seen as weak or vulnerable, and I'm curious to explore how I can reframe vulnerability as a strength, rather than a liability. Can you help me brainstorm some small steps I can take to practice embracing my vulnerability in a way that feels authentic and empowering to me?\\n\"), (36, \"Therapist: As we've been exploring your tendency to people-please and your fear of vulnerability, I want to gently challenge you to consider whether this fear is also driven by a desire to maintain control and avoid feelings of powerlessness, rather than just a fear of being seen as weak - can you think of a time when you've felt a sense of empowerment by embracing your vulnerability and taking a risk?\\n\"), (37, \"Patient: I think about my experience of getting lost in the woods and how it was a moment of surrender and vulnerability that ultimately led to a sense of freedom and empowerment, and I'm curious to explore how I can tap into that feeling in other areas of my life where I feel the need to control or people-please. I'd like to practice embracing uncertainty and not having all the answers, like I did when I got lost, and see how that shifts my experience of relationships and interactions with others.\\n\"), (38, \"Therapist: Let's explore this idea of embracing uncertainty further - can you imagine a specific situation where you might practice letting go of the need for control and perfection, and instead, allow yourself to be present with the uncertainty of the outcome, rather than trying to anticipate or control it? How might this shift in approach impact your relationships and interactions with others, and what kind of feedback or support from me would help you stay on track with this practice?\\n\"), (39, 'Patient: I\\'ve been thinking about how my people-pleasing has also led me to overcommit and take on too much, and I\\'m wondering if practicing saying \"no\" to others without justification or apology could be a powerful way to reclaim my sense of autonomy and self-worth. I\\'m curious to explore what it would look like to set boundaries with others while still being kind and respectful, but not sacrificing my own needs in the process.\\n'), (40, 'Therapist: As you consider saying \"no\" without justification or apology, can you think about how this might also involve redefining what you consider to be a \"good\" or \"acceptable\" reason for saying \"no,\" and whether you\\'ve been setting your own needs and desires as the default, rather than trying to justify them to others? What would it take for you to feel confident in asserting your own needs and desires, without feeling like you need to explain or justify them to others?\\n'), (41, 'Patient: I\\'ve been thinking about how I often apologize or justify my \"no\" with a reason, as if I\\'m trying to prove that my decision is valid, but I\\'d like to practice simply stating it without explanation or justification, and see how that feels. Can we work on role-playing a scenario where I say \"no\" without apology, and see how it plays out?\\n'), (42, 'Therapist: Let\\'s role-play a scenario where you say \"no\" without apology - can you tell me about a specific situation where you\\'d like to practice this, and what would be the most challenging part for you in asserting your needs in that context?\\n'), (43, 'Patient: I think one challenging situation for me would be saying \"no\" to a group invitation on an online platform, like Discord or Slack, where I feel like I need to be present and engaged to avoid social awkwardness, but really I\\'m feeling overwhelmed and need some alone time. I\\'m worried that saying \"no\" without explanation would lead to others feeling awkward or rejected.\\n'), (44, 'Therapist: Let\\'s create a scenario where you\\'re in a Discord group chat and someone invites you to join a group project, but you\\'re feeling overwhelmed and need some alone time - can you respond with a simple \"no, thank you\" without explanation or justification, and see how that feels? How does your body respond to this response, and what do you notice about your inner experience?\\n'), (45, 'Patient: As I say the words \"no, thank you\" without explanation, I feel a sense of relief wash over me, and my body relaxes, like I\\'ve finally let go of a physical burden, but at the same time, I\\'m also met with a twinge of anxiety about how the other person will respond. I\\'m curious to see how they react and if I can handle the potential awkwardness that might follow.\\n'), (46, \"Therapist: Let's take it a step further - what if the other person responds with a mix of surprise and understanding, and how would you navigate that conversation while maintaining your boundary and staying true to your needs?\\n\"), (47, \"Patient: I'm not sure what to expect from the other person's response, but I'm trying to focus on how I feel in this moment, rather than worrying about how they'll react, and I'm curious to see if I can hold onto that sense of relief and self-trust even if they don't respond with understanding.\\n\"), (48, 'Therapist: As you\\'ve practiced saying \"no\" without justification or apology, can you think about how this experience might be related to your earlier discussion about self-acceptance and self-compassion, and whether you\\'re starting to see a connection between setting healthy boundaries and cultivating a more compassionate relationship with yourself? How do you think this new understanding of boundaries might impact your relationships with others, and what kind of support do you think you\\'ll need to maintain this new approach?\\n'), (49, 'Patient: I think I\\'m starting to see that setting healthy boundaries and saying \"no\" without apology is closely tied to my ability to accept and prioritize my own needs, and it\\'s liberating to realize that I don\\'t have to justify or explain myself to others. I\\'d like to explore how I can apply this newfound understanding of boundaries to other areas of my life, like my online relationships and friendships.\\n'), (50, 'Therapist: As you reflect on how this new understanding of boundaries might impact your relationships with others, can you consider the potential impact on your online friendships, and how you might start to re-evaluate the types of relationships you invest your time and energy in? How might you prioritize building deeper, more meaningful connections with others that respect your boundaries and values, rather than trying to fit into existing social structures that may not align with your needs?\\n'), (51, \"Patient: I'm curious to explore how I can start to let go of the pressure to maintain a certain online persona or image, and instead be more authentic and genuine in my online interactions, even if that means being vulnerable and imperfect. I'd like to work with you on developing a plan to gradually shift my online presence to better reflect my true self and values.\\n\"), (52, \"Therapist: As you consider letting go of the pressure to maintain a certain online persona, can you think of any specific social media platforms or online communities where you feel like you're trying to present a curated version of yourself, and how you might start to gradually introduce more authenticity and vulnerability into those spaces? What kind of small, incremental steps could you take to begin to shift your online presence in a way that feels true to who you are, rather than trying to fit into someone else's expectations?\\n\"), (53, \"Patient: I'm thinking of starting by being more transparent about my struggles and imperfections on social media, like sharing about my anxiety or mistakes I've made, to show that I'm not perfect and that it's okay to be vulnerable, and then see how that affects my online interactions and relationships. I'd like to explore what kind of support system I need to establish to help me stay authentic and accountable in my online presence.\\n\"), (54, \"Therapist: As you consider sharing more about your imperfections and vulnerabilities on social media, I'd like to explore how you might approach this with a sense of curiosity and self-compassion, rather than self-judgment or seeking external validation, and what kind of boundaries you'll need to establish to maintain a sense of safety and control in the process. Can you imagine how your online relationships and interactions might shift if you were to share your imperfections and vulnerabilities in a way that feels authentic and courageous, rather than trying to hide or present a perfect image?\\n\"), (55, \"Patient: I'm curious to explore how sharing my imperfections and vulnerabilities online might affect my online relationships, and I'm wondering if it's possible that by being more authentic, I might attract people who appreciate me for who I truly am, rather than those who are drawn to my curated online persona. I'd like to consider how to gauge whether my online interactions are truly meaningful and respectful, rather than just superficially polite.\\n\"), (56, \"Therapist: Let's explore how you might gauge the quality of your online relationships beyond superficial politeness, and what signs you'll look for to know if someone is genuinely connecting with you on a deeper level. Can you think of specific qualities or behaviors in others that make you feel seen, heard, and valued in online interactions?\\n\"), (57, \"Patient: I've been thinking about how I often look for people who ask open-ended questions and actively listen to my responses, as it makes me feel like they're genuinely interested in getting to know me beyond my online persona, and I'm curious to explore how I can start to reciprocate that level of engagement in my online relationships. Can we work on role-playing a conversation where I practice actively listening and asking meaningful questions in an online setting?\\n\"), (58, \"Therapist: Let's role-play a conversation where you actively listen and ask meaningful questions in an online setting. Can you imagine we're in a Discord chat with someone who's shared their struggles with anxiety, and you want to respond in a way that shows you're genuinely invested in their well-being?\\n\"), (59, \"Patient: I'm feeling a sense of excitement and nervousness about the idea of actively listening and asking meaningful questions in an online conversation, and I'm wondering if it's possible to use this skill to help me connect with others on a deeper level, rather than just trying to present myself in a certain way. Can we practice a scenario where I respond to a post about someone's anxiety struggles, and I want to ask a question that shows I'm really engaged and empathetic?\\n\")], 'pturn': 1, 'index': -1, 'timestamp': '', 'rounds': 60, 'conversation_only': True, 'eval_prompt_consistency': [(1, 'The intention behind the statement is that the Patient values the anonymity and comfort of the online therapy sessions, suggesting they struggle with the pressures and potential judgment of face-to-face interactions, which aligns with their background of social anxiety disorder and difficulty forming close relationships. \\nYES'), (3, 'The interpreted intention of the statement is that the Patient values the safety and comfort of online communication and feels more at ease expressing themselves authentically without the physical presence of others, indicating that they have difficulty forming close relationships due to social anxiety. \\nYES'), (5, \"The patient's intention behind this statement appears to be a reflection on a past experience that reinforced their feelings of social anxiety and difficulty forming close relationships, likely stemming from a desire to understand and share their emotional pain with the therapist, which ALIGNS with the background.\"), (7, \"The patient's intention is to express the root of their social anxiety, stemming from a deep-seated fear of rejection and self-doubt that originated from past experiences of bullying, which aligns with their background of having a social anxiety disorder resulting from difficulty forming close relationships and a trauma history of bullying in adolescence.\"), (9, \"The patient's statement suggests a desire to overcome their social anxiety and form deeper connections, yet struggles with the fear of rejection and the pressure to present a more outgoing persona, which aligns with their background of having social anxiety disorder that results in difficulty forming close relationships and a history of trauma from bullying in adolescence.\"), (11, \"The patient's statement suggests an intention to take a risk and be more genuine in their interactions, which aligns with a desire to form deeper connections, a sentiment that seems inconsistent with their background of social anxiety disorder that results in difficulty forming close relationships, as it implies a willingness to be vulnerable and open with others, which is typically challenging for individuals with this condition.\\n\\nANSWER: NO\"), (13, \"The intention behind the statement is that the Patient is attempting to self-reflect and understand the root cause of their self-criticism, suggesting a desire to accept and love themselves, which aligns with a potential desire to form close relationships, but doesn't indicate that they are already close to others. \\nNO\"), (15, \"The intention behind the statement seems to be the patient expressing a moment of self-discovery and empowerment, where they found comfort and peace in solitude, which suggests that they value and are capable of enjoying alone time and self-reliance, but contradicts with the background of social anxiety disorder that results in difficulty forming close relationships, indicating a potential mismatch between the patient's current mental state and the stated intention. \\nANSWER: NO\"), (17, \"The patient's statement appears to be a genuine attempt to reflect on their experiences and develop coping strategies for social anxiety, specifically focusing on self-acceptance and self-compassion, which aligns with their background of having social anxiety disorder that results in difficulty forming close relationships, and the intention is to gradually build confidence in online interactions. \\nYES\"), (19, \"The patient's intention appears to be an expression of self-awareness and a desire for personal growth, highlighting the negative impact of self-criticism on their life and relationships, which aligns with a person struggling with social anxiety and a history of trauma, as it suggests they are acknowledging the need for change and introspection, which is a step towards forming close relationships and increasing social engagement. \\n\\nYES\"), (21, 'The intention behind this statement is that the patient is attempting to increase self-awareness and take control over their responses in online communities to better align with their genuine feelings, which suggests a desire for authenticity and openness, a trait that is often hindered by social anxiety. \\nNO'), (23, \"The intention behind the statement seems to be an introspective acknowledgment of the patient's people-pleasing behavior as a coping mechanism for their fear of rejection and vulnerability, which is a common symptom of their social anxiety disorder and likely influenced by their traumatic experience of bullying in adolescence; NO\"), (25, \"The patient's statement appears to be a self-reflective moment of realization about their tendency to prioritize others' needs over their own due to feelings of inadequacy and fear of disappointing others, which is consistent with their social anxiety disorder and difficulty forming close relationships stemming from bullying in adolescence, suggesting that this intention ALIGNS with the provided background.\"), (27, 'The interpreted intention behind the statement is that the Patient is seeking self-awareness and autonomy in their relationships by distinguishing between their desire for social acceptance and their need for validation, which aligns with a genuine attempt to cope with their social anxiety disorder and set boundaries. \\nANSWER: YES'), (29, 'The intention behind the statement appears to be a desire to take a step towards self-awareness and self-acceptance, recognizing the need for external validation as a coping mechanism and seeking to replace it with self-compassion, which is a proactive and introspective approach to addressing underlying shame and inadequacy. \\n\\nANSWER: YES'), (31, 'The intention behind the statement is that the patient is seeking to reframe their self-worth and stop seeking validation from others, which suggests a desire to break free from the lingering effects of their traumatic past and develop a more self-compassionate mindset. NO'), (33, \"The patient's intention behind this statement is that they want to develop a sense of self-worth and confidence that is not reliant on external validation, which could be a step towards building self-esteem and potentially forming closer relationships, aligning with their background of having difficulty forming close relationships due to social anxiety disorder, as they are taking the initiative to challenge their own perceived shortcomings and seek internal validation. \\n YES\"), (35, \"The intention behind the statement appears to be a genuine desire to work through and overcome the patient's deep-seated fear of vulnerability stemming from their social anxiety disorder and past trauma, as it suggests a willingness to challenge their own negative self-perceptions and explore new ways of thinking about themselves, which aligns with their background. \\n\\nANSWER: YES\"), (37, \"The intention behind this statement appears to be a desire to confront and overcome the fear of uncertainty and vulnerability, which is a crucial step in addressing social anxiety and forming close relationships, aligning with the patient's background.\\n\\nANSWER: YES\"), (39, \"The intention behind the statement appears to be a desire for self-reflection, self-improvement, and setting boundaries in relationships, which aligns with the patient's background of having social anxiety disorder that results in difficulty forming close relationships and a history of bullying in adolescence, as it suggests a willingness to confront their people-pleasing tendencies and prioritize their own needs.\\n\\nYES\"), (41, 'The intention behind this statement appears to be a desire to build confidence and assertiveness in setting boundaries and making decisions, which aligns with the patient\\'s goal of overcoming their social anxiety disorder that results in difficulty forming close relationships, as simply stating \"no\" without explanation or justification can be a step towards establishing healthier communication and self-assertion. \\n YES'), (43, 'The intention behind the statement appears to be a desire to navigate social situations that trigger anxiety, which aligns with the background of having social anxiety disorder and difficulty forming close relationships, but the concern about avoiding social awkwardness and rejection suggests a mild willingness to engage socially, which contrasts with the background indicating a \"very low\" level of social engagement.\\n\\nANSWER: NO'), (45, \"The patient's intention behind this statement is that they value honesty and assertiveness, yet are still anxious about potential consequences of assertive behavior, which aligns with their social anxiety disorder and difficulty forming close relationships. \\nYES\"), (47, \"The intention behind the statement appears to be the Patient's attempt to practice self-reflection and self-trust in the face of uncertainty, which aligns with their background of experiencing social anxiety disorder that results in difficulty forming close relationships, as it suggests a desire to develop internal stability despite potential external uncertainty.\\n\\n YES\"), (49, \"The patient's intention behind this statement seems to be a desire to take control of their life and assert themselves in a way that prioritizes their own needs and comfort, which aligns with their social anxiety disorder diagnosis, but it also implies a level of self-awareness and confidence that may not be typical for someone with a history of low social engagement and difficulty forming close relationships, so it DOES NOT contradict but also doesn't fully align with the background.\"), (51, 'The intention behind this statement appears to be a desire for self-improvement and vulnerability in online interactions, which aligns with a willingness to form deeper connections with others, suggesting that the statement aligns with the background of the Patient. \\nYES'), (53, \"The intention behind the patient's statement is that they want to build a more authentic online presence by sharing their vulnerabilities, which suggests they are seeking to be more open and connected, but this intention contradicts their background of having social anxiety disorder that results in difficulty forming close relationships and having a very low level of social engagement. \\nANSWER: NO\"), (55, 'The interpreted intention behind the statement is that the patient is seeking a more authentic connection with others online, possibly as a step towards forming deeper relationships, which aligns with their desire to overcome their social anxiety disorder by being more open and vulnerable. \\nNO'), (57, 'The interpreted intention of the statement is that the patient is seeking to improve their social interactions by actively engaging with others online, indicating a desire to deepen connections and overcome their difficulty in forming close relationships, which aligns with their social anxiety disorder diagnosis. \\nYES'), (59, \"The patient's intention is to explore a skill that could potentially help them build deeper connections with others, which suggests they are motivated to overcome their social anxiety and form meaningful relationships, aligning with their expressed desire to connect with others on a deeper level. \\nYES\")], 'P1_prompt_consistency_score': 0, 'P2_prompt_consistency_score': 0.6666666666666666, 'eval_index_consistency': [(3, \"There appears to be a conflict between the current line and the previous line (line 1) because the patient initially mentioned the anonymity of the online sessions as a factor that has made them feel more comfortable, but now they are implying that it's not just the anonymity, but also the therapist's focus on what they're saying rather than their appearance or tone of voice that contributes to their comfort level.\\n\\n[1]\"), (5, \"The patient's current statement seems to imply a desire to be authentic and genuine, but the specific incident they're recalling appears to be about them quitting the project due to feeling too much effort in trying to fit in, which suggests they were motivated by a desire to avoid rejection rather than a desire to be authentic.\\n\\n[3, 4]\"), (7, \"The patient's statement about being too afraid to be themselves and too scared of being rejected again contradicts their earlier statement that the anonymity of online sessions has made them feel more comfortable sharing their vulnerabilities and being genuine and authentic without the added pressure of trying to present themselves in a certain way.\\n\\n[3, 5]\"), (9, \"The Patient's current statement conflicts with their previous assertion of being able to be more genuine and authentic in online sessions due to the lack of physical presence, as they now express a fear of being hurt and a desire to put on a facade to avoid this vulnerability.\\n\\n[7, 5]\"), (11, \"The conflict arises because the patient's desire to let go of the need for acceptance and be authentic in the moment directly contradicts their previous statements about being afraid of being rejected again and feeling stuck in a cycle of self-protection where they're too afraid to be themselves and take risks in social situations.\\n\\n[7, 9]\"), (13, 'The statement made by the Patient appears to contradict their previous admission of fearing rejection due to self-doubt and the fear of not being good enough or interesting enough to be accepted by others.\\n\\n[7]'), (15, \"The patient's current statement about being lost in the woods and feeling a sense of freedom and peace contradicts their previous statement about fearing rejection and being too afraid to take risks in social situations, especially in online communities. \\n\\n[7, 11]\"), (17, \"The patient's statement about not beating themselves up over online mistakes contradicts their earlier description of a pattern of self-censorship in face-to-face interactions due to a fear of being judged or rejected, and their ongoing struggle with self-doubt and fear of being rejected in online communities.\\n[5, 7, 9, 11, 12]\"), (19, 'The conflict between the current line and the conversation history lies in the fact that the patient previously stated a fear of being rejected by others and a tendency to self-criticize, yet now they mention that they are living a life that is more in line with what they think others want them to be, rather than their own desires and values, which suggests a lack of alignment between their stated fears and current behavior.\\n\\n[3, 7, 9, 11, 13]'), (21, \"There is a conflict between the line and the conversation history because the patient previously mentioned wanting to be more authentic and genuine without the pressure of trying to present themselves in a certain way, but now they're suggesting that they would like to curate a response before sharing their authentic reactions.\\n\\n[3, 7, 9, 17]\"), (23, \"There is a clear conflict between the current line and line 7, as the patient now mentions people-pleasing as a way of avoiding vulnerability and intimacy, which contradicts their previous statement that they've been trying to use their fear of rejection as a way to avoid feeling vulnerable and open to potential hurt.\\n\\n[7]\"), (25, \"The patient's statement about prioritizing their friend's needs over their own because they didn't feel worthy of saying no or setting boundaries conflicts with their earlier statement about not feeling worthy of external validation (line 13) as they are now implying that they also doubt their internal worthiness.\\n\\n[13]\"), (27, \"The patient's statement conflicts with previous statements about their self-awareness and willingness to explore their motivations and behaviors, as they now express a clear desire to learn and make a change, whereas earlier they described struggling with self-doubt and a fear of rejection. \\n\\n[5, 9, 17, 19, 23]\"), (29, \"The patient's statement implies that they want to separate their desire for external validation from their self-worth, which is a positive development, but it conflicts with earlier statements where they described being stuck in a cycle of self-protection and self-doubt, and feeling like they're living a life that's more in line with what they think others want them to be rather than what they truly want for themselves.\\n[19, 21]\"), (31, \"There is a conflict between the patient's statement about their need for validation stemming from a fear of being like their bullies from high school and their previous statements about being afraid of being rejected because of their appearance or tone of voice.\\n\\n[5, 7, 9, 11, 13, 19]\"), (33, 'The current statement by the Patient conflicts with their previous statement about their desire to form deeper connections with others, as they are now expressing a desire to avoid seeking validation from others and instead focus on self-acceptance.\\n\\n[11, 13, 17, 21, 29]'), (35, \"The patient's current statement seems to conflict with their previous statement about people-pleasing stemming from a fear of being rejected or not being liked, which was explored in lines 23-29.\\n\\n[23, 24, 25, 26, 27, 28, 29]\"), (37, \"There is a conflict between the current line and line 6 because the patient's experience of getting lost in the woods being a moment of surrender and vulnerability is framed as empowering, whereas line 6 describes a painful and isolating experience that led to internalizing the message that being oneself is not acceptable in certain social situations.\\n\\n[6]\"), (39, 'The line \"practicing saying \\'no\\' to others without justification or apology\" seems to contradict the earlier statement in line 27 where the Patient expresses worry that not learning to say \"no\" to others and prioritize their own desires would lead to continuing to lose themselves in people-pleasing.\\n\\n[27, 29]'), (41, 'The conflict arises from the patient\\'s previous statement about their people-pleasing being driven by a fear of being rejected or disliked, yet now they are seeking to practice saying \"no\" without justification or apology, which seems to contradict their previous reasons for people-pleasing.\\n\\n[4, 25, 27]'), (43, 'The patient\\'s stated concern about saying \"no\" without explanation potentially leading to others feeling awkward or rejected contradicts their previous statements about wanting to prioritize their own needs and desires, as well as their desire to reframe people-pleasing as a way to avoid feelings of rejection.\\n\\n[23, 27, 29, 33, 35, 37, 39]'), (45, 'The patient\\'s statement about feeling relief and relaxation when saying \"no\" without explanation is in conflict with their previous statements about the fear of rejection and people-pleasing, as they have consistently expressed anxiety and concern about how others might react to their boundaries. \\n\\n[5, 21, 23, 27, 39, 43]'), (47, \"There is a conflict between the current line and line 20 because in line 20, the Patient mentioned that they are stuck in a cycle of self-protection and too afraid to be themselves, but in the current line, they are trying to focus on how they feel in the moment rather than worrying about others' reactions, which suggests a shift in their perspective and willingness to be more vulnerable. \\n\\n[20]\"), (49, \"The current line from the Patient seems to conflict with the fact that in previous conversations they expressed a fear of rejection and difficulty in asserting their needs, particularly in line 21 where they mentioned wanting to practice mindfulness and pausing before responding to comments or messages, implying a need to carefully consider others' reactions before expressing themselves.\\n\\n[21]\"), (51, \"The patient's current statement seems to contradict their previous line of thinking about the pressure of online interactions, as they had previously expressed relief in having a space to talk about their feelings without the pressure of face-to-face interactions (line 1) and had also mentioned feeling anxious about being judged or rejected in face-to-face settings (line 3). \\n\\n[1, 3]\"), (53, \"The Patient's plan to start being more transparent about their struggles and imperfections on social media contradicts their earlier statement of being worried about people's reactions to their authenticity, as evident in lines 43 and 45. \\n\\n[43, 45]\"), (55, 'The line conflicts with the initial description of the patient feeling more comfortable sharing their vulnerabilities in online sessions due to the anonymity, as the current line suggests that the patient is now interested in being more authentic and vulnerable online, which would likely require a different level of accountability and exposure than the anonymity of online therapy sessions.\\n\\n[1, 3, 5, 11, 13, 15, 17, 19, 21, 23, 25, 27, 29, 31, 33, 35, 37, 39, 41, 43, 45, 47, 49, 51, 53]'), (57, \"The conflict lies in the Patient's statement about looking for people who ask open-ended questions and actively listen to their responses, which contradicts their earlier statement in line 23, where they mentioned that their fear of rejection has led them to people-please and overcommit, always trying to make others happy, even if it means sacrificing their own needs and desires.\\n\\n[23, 25]\"), (59, \"The patient's statement about wanting to use active listening and asking meaningful questions to connect with others on a deeper level contradicts their earlier statement in line 3 about feeling like they can be more genuine and authentic without the added pressure of trying to present themselves in a certain way. \\n\\n[3, 11, 17, 21, 27, 35, 49]\")], 'P2_index_consistency_score': 0.7609195402298851, 'eval_prompt_consistency_basic': [(1, \"NO\\n\\nThe line is consistent with Patient's background as it reflects their preference for a low level of social engagement and their difficulty forming close relationships due to social anxiety, which is alleviated by the anonymity of online sessions.\"), (3, 'YES.\\n\\nThis line contradicts the background because the Patient is expressing a desire to be genuine and authentic in a conversation, which implies a level of comfort and trust in the relationship, whereas their background indicates a difficulty forming close relationships due to social anxiety disorder.'), (5, 'YES. \\n\\nThe line contradicts the background because it shows the Patient attempting to join a group project in high school, which implies a level of social engagement that is inconsistent with their stated \"very low\" level of social engagement.'), (7, \"NO\\n\\nThis line does not contradict the background as it directly aligns with the Patient's difficulty forming close relationships, social anxiety, and self-doubt stemming from their trauma history of bullying in adolescence.\"), (9, \"NO. \\n\\nThis line does not contradict the background, as it is consistent with the Patient's mental health diagnosis of social anxiety disorder, which is characterized by difficulty forming close relationships and a fear of rejection, and it also acknowledges the Patient's tendency to put on a facade, which is implied by their low level of social engagement.\"), (11, \"NO\\n\\nThis line does not contradict the background because despite expressing a desire for connection and belonging, the Patient's language suggests an awareness of their social anxiety and the risks of vulnerability, which is consistent with their background.\"), (13, 'NO. \\n\\nThis line is consistent with the background because it shows the Patient reflecting on their self-criticism and self-doubt, which aligns with their social anxiety disorder and difficulty forming close relationships, and also implies a level of introspection and self-awareness that is not inconsistent with their very low level of social engagement.'), (15, \"NO.\\n\\nThe line is consistent with the background as it suggests a situation of solo activity and self-reflection, which is not contrary to the Patient's reported low level of social engagement and history of social anxiety disorder, but rather, it highlights their capability for self-awareness and self-sufficiency in a relatively isolated setting.\"), (17, 'YES\\n\\nThis line contradicts the background because the Patient is discussing forming close relationships and self-acceptance, which is directly at odds with their stated difficulty forming close relationships and low level of social engagement.'), (19, 'YES. \\n\\nThe line contradicts the background because the Patient explicitly states a desire for \"experiences and relationships\" that could bring \"joy and a sense of belonging,\" which directly opposes their background of having \"difficulty forming close relationships\" and a \"very low\" level of social engagement.'), (21, 'NO\\n\\nThis line is consistent with the background as it shows the Patient taking a step to engage in mindfulness, a relatively low-stakes social interaction, which aligns with their very low level of social engagement and difficulty forming close relationships.'), (23, 'NO\\n\\nThe line is consistent with the background as it shows the Patient is reflecting on their social anxiety and people-pleasing behavior, which is a direct acknowledgment of their difficulty forming close relationships and a clear display of introspection on their avoidance of vulnerability and intimacy.'), (25, \"NO. The line is consistent with the background because it reveals a situation where Patient went out of their way to prioritize someone else's needs over their own, which aligns with their tendency to have difficulty forming close relationships and prioritizing others' expectations.\"), (27, \"NO\\n\\nThis is not a contradiction because, despite Patient's social anxiety and difficulty forming close relationships, they are expressing a willingness to explore self-reflection and boundary-setting, which is a positive step towards personal growth and potentially forming healthier relationships.\"), (29, 'NO\\n\\nThe line spoken by Patient does not contradict the background, as it reflects a growth-oriented and introspective attitude, which is consistent with seeking therapy and addressing underlying issues related to their social anxiety disorder and trauma history, rather than contradicting any previously stated traits.'), (31, 'NO\\n\\nThe line spoken by Patient does not contradict the background, as it is consistent with a person who has a history of being bullied in adolescence and has been reflecting on their past experiences and seeking ways to reframe their negative emotions and behaviors, aligning with the goal of improving their mental health.'), (33, 'NO\\n\\nThis line does not contradict the background as it shows Patient is beginning to reflect on self-acceptance and setting boundaries, which is a step towards overcoming their social anxiety disorder and difficulty forming close relationships.'), (35, \"NO. This line is consistent with Patient's background as it indicates self-awareness and introspection about their social anxiety disorder, willingness to confront vulnerabilities, and a desire to reframe vulnerability as a strength, which is a step towards addressing their difficulty forming close relationships.\"), (37, \"NO\\n\\nThe line does not contradict the background because, despite the patient's past experiences of trauma (bullying) and social anxiety disorder, they are now showing a willingness to confront vulnerability and explore uncertainty, which is a positive and therapeutic direction, and their thought process about surrender and freedom is consistent with their desire to practice embracing uncertainty.\"), (39, \"NO. \\n\\nThe line is consistent with the background because it shows the Patient's awareness of their people-pleasing as a result of their social anxiety and desire for autonomy and self-worth, which aligns with their difficulty forming close relationships due to social anxiety and their low level of social engagement.\"), (41, 'YES. This line contradicts the background because Patient is willing to engage in a role-playing exercise that involves expressing a clear \"no\" without justification or apology, which is not consistent with their background where they have difficulty forming close relationships due to social anxiety and have a history of apologizing or justifying their \"no\".'), (43, \"NO\\n\\nThis line does not contradict the background as it is consistent with the Patient's social anxiety, difficulty forming close relationships, and preference for low social engagement, as it describes a situation where the Patient is struggling to assert their need for alone time in a group setting.\"), (45, \"YES. \\n\\nThe line contradicts the background because it shows a level of social engagement (curiosity about how the other person will react and ability to handle potential awkwardness) and emotional vulnerability (acknowledging and describing feelings of anxiety) that is not consistent with the Patient's low level of social engagement and history of social anxiety disorder.\"), (47, \"NO\\n\\nThe line spoken by the Patient does not contradict their background because it shows a moment of self-awareness and emotional introspection, which is consistent with someone with social anxiety disorder trying to develop self-trust, despite the line's nuanced exploration of uncertainty and potential rejection being within the realm of someone who has experienced bullying in adolescence.\"), (49, 'NO.\\n\\nThe line is consistent with the background because the Patient is expressing a desire to establish and prioritize their own needs, which aligns with their interest in setting healthy boundaries, a concept that is being explored in therapy, and does not contradict any aspect of their background.'), (51, \"NO\\n\\nThis line does not contradict the background because while it shows a desire to be more authentic and vulnerable, which is a step towards forming close relationships and overcoming social anxiety, it still aligns with the Patient's expressed willingness to work on their social anxiety and online presence, and does not introduce any contradictory information about their personality, behavior, or past.\"), (53, \"NO\\n\\nThe line does not contradict the background as it shows a desire to be more vulnerable and open about struggles with anxiety, which aligns with the Patient's social anxiety disorder diagnosis, and also demonstrates a willingness to explore and establish a support system, suggesting a tentative step towards forming connections.\"), (55, 'NO. \\n\\nThe line does not directly contradict the background, but instead suggests that Patient is willing to consider exploring vulnerability, which is not typical of their social anxiety disorder, indicating a subtle potential contradiction in their emotional stance or behavior.'), (57, 'YES.\\n\\nThe line contradicts the background because it shows the Patient expressing a desire for deeper engagement in online relationships, which is inconsistent with their reported difficulty forming close relationships due to social anxiety disorder.'), (59, \"NO\\n\\nThis line is not a contradiction because it aligns with the Patient's background: their desire to form deeper connections with others, which is an attempt to overcome their social anxiety disorder that results in difficulty forming close relationships.\")], 'P1_prompt_consistency_score_basic': 0, 'P2_prompt_consistency_score_basic': 0.7666666666666667}\n",
      "3\n"
     ]
    },
    {
     "name": "stderr",
     "output_type": "stream",
     "text": [
      "Processed prompts: 100%|██████████| 1/1 [00:01<00:00,  1.09s/it, est. speed input: 141.68 toks/s, output: 45.08 toks/s]\n"
     ]
    },
    {
     "name": "stdout",
     "output_type": "stream",
     "text": [
      "Expected Role Therapist\n"
     ]
    },
    {
     "name": "stderr",
     "output_type": "stream",
     "text": [
      "Processed prompts: 100%|██████████| 1/1 [00:01<00:00,  1.25s/it, est. speed input: 191.92 toks/s, output: 44.78 toks/s]\n"
     ]
    },
    {
     "name": "stdout",
     "output_type": "stream",
     "text": [
      "Expected Role Patient\n"
     ]
    },
    {
     "name": "stderr",
     "output_type": "stream",
     "text": [
      "Processed prompts: 100%|██████████| 1/1 [00:01<00:00,  1.13s/it, est. speed input: 255.71 toks/s, output: 44.39 toks/s]\n"
     ]
    },
    {
     "name": "stdout",
     "output_type": "stream",
     "text": [
      "Expected Role Therapist\n"
     ]
    },
    {
     "name": "stderr",
     "output_type": "stream",
     "text": [
      "Processed prompts: 100%|██████████| 1/1 [00:01<00:00,  1.30s/it, est. speed input: 270.21 toks/s, output: 44.78 toks/s]\n"
     ]
    },
    {
     "name": "stdout",
     "output_type": "stream",
     "text": [
      "Expected Role Patient\n"
     ]
    },
    {
     "name": "stderr",
     "output_type": "stream",
     "text": [
      "Processed prompts: 100%|██████████| 1/1 [00:01<00:00,  1.14s/it, est. speed input: 350.38 toks/s, output: 44.67 toks/s]\n"
     ]
    },
    {
     "name": "stdout",
     "output_type": "stream",
     "text": [
      "Expected Role Therapist\n"
     ]
    },
    {
     "name": "stderr",
     "output_type": "stream",
     "text": [
      "Processed prompts: 100%|██████████| 1/1 [00:01<00:00,  1.17s/it, est. speed input: 397.17 toks/s, output: 44.61 toks/s]\n"
     ]
    },
    {
     "name": "stdout",
     "output_type": "stream",
     "text": [
      "Expected Role Patient\n"
     ]
    },
    {
     "name": "stderr",
     "output_type": "stream",
     "text": [
      "Processed prompts: 100%|██████████| 1/1 [00:01<00:00,  1.91s/it, est. speed input: 266.06 toks/s, output: 44.61 toks/s]\n"
     ]
    },
    {
     "name": "stdout",
     "output_type": "stream",
     "text": [
      "Expected Role Therapist\n"
     ]
    },
    {
     "name": "stderr",
     "output_type": "stream",
     "text": [
      "Processed prompts: 100%|██████████| 1/1 [00:01<00:00,  1.28s/it, est. speed input: 472.13 toks/s, output: 44.55 toks/s]\n"
     ]
    },
    {
     "name": "stdout",
     "output_type": "stream",
     "text": [
      "Expected Role Patient\n"
     ]
    },
    {
     "name": "stderr",
     "output_type": "stream",
     "text": [
      "Processed prompts: 100%|██████████| 1/1 [00:01<00:00,  1.46s/it, est. speed input: 447.73 toks/s, output: 44.57 toks/s]\n"
     ]
    },
    {
     "name": "stdout",
     "output_type": "stream",
     "text": [
      "Expected Role Therapist\n"
     ]
    },
    {
     "name": "stderr",
     "output_type": "stream",
     "text": [
      "Processed prompts: 100%|██████████| 1/1 [00:01<00:00,  1.76s/it, est. speed input: 415.13 toks/s, output: 44.36 toks/s]\n"
     ]
    },
    {
     "name": "stdout",
     "output_type": "stream",
     "text": [
      "Expected Role Patient\n"
     ]
    },
    {
     "name": "stderr",
     "output_type": "stream",
     "text": [
      "Processed prompts: 100%|██████████| 1/1 [00:01<00:00,  1.24s/it, est. speed input: 645.14 toks/s, output: 44.35 toks/s]\n"
     ]
    },
    {
     "name": "stdout",
     "output_type": "stream",
     "text": [
      "Expected Role Therapist\n"
     ]
    },
    {
     "name": "stderr",
     "output_type": "stream",
     "text": [
      "Processed prompts: 100%|██████████| 1/1 [00:01<00:00,  1.53s/it, est. speed input: 566.93 toks/s, output: 44.46 toks/s]\n"
     ]
    },
    {
     "name": "stdout",
     "output_type": "stream",
     "text": [
      "Expected Role Patient\n"
     ]
    },
    {
     "name": "stderr",
     "output_type": "stream",
     "text": [
      "Processed prompts: 100%|██████████| 1/1 [00:02<00:00,  2.06s/it, est. speed input: 451.16 toks/s, output: 44.29 toks/s]\n"
     ]
    },
    {
     "name": "stdout",
     "output_type": "stream",
     "text": [
      "Expected Role Therapist\n"
     ]
    },
    {
     "name": "stderr",
     "output_type": "stream",
     "text": [
      "Processed prompts: 100%|██████████| 1/1 [00:02<00:00,  2.21s/it, est. speed input: 466.83 toks/s, output: 44.42 toks/s]\n"
     ]
    },
    {
     "name": "stdout",
     "output_type": "stream",
     "text": [
      "Expected Role Patient\n"
     ]
    },
    {
     "name": "stderr",
     "output_type": "stream",
     "text": [
      "Processed prompts: 100%|██████████| 1/1 [00:01<00:00,  1.81s/it, est. speed input: 619.82 toks/s, output: 44.27 toks/s]\n"
     ]
    },
    {
     "name": "stdout",
     "output_type": "stream",
     "text": [
      "Expected Role Therapist\n"
     ]
    },
    {
     "name": "stderr",
     "output_type": "stream",
     "text": [
      "Processed prompts: 100%|██████████| 1/1 [00:01<00:00,  1.97s/it, est. speed input: 615.59 toks/s, output: 44.19 toks/s]\n"
     ]
    },
    {
     "name": "stdout",
     "output_type": "stream",
     "text": [
      "Expected Role Patient\n"
     ]
    },
    {
     "name": "stderr",
     "output_type": "stream",
     "text": [
      "Processed prompts: 100%|██████████| 1/1 [00:01<00:00,  1.70s/it, est. speed input: 761.80 toks/s, output: 44.26 toks/s]\n"
     ]
    },
    {
     "name": "stdout",
     "output_type": "stream",
     "text": [
      "Expected Role Therapist\n"
     ]
    },
    {
     "name": "stderr",
     "output_type": "stream",
     "text": [
      "Processed prompts: 100%|██████████| 1/1 [00:01<00:00,  1.79s/it, est. speed input: 771.86 toks/s, output: 44.25 toks/s]\n"
     ]
    },
    {
     "name": "stdout",
     "output_type": "stream",
     "text": [
      "Expected Role Patient\n"
     ]
    },
    {
     "name": "stderr",
     "output_type": "stream",
     "text": [
      "Processed prompts: 100%|██████████| 1/1 [00:02<00:00,  2.22s/it, est. speed input: 653.55 toks/s, output: 44.20 toks/s]\n"
     ]
    },
    {
     "name": "stdout",
     "output_type": "stream",
     "text": [
      "Expected Role Therapist\n"
     ]
    },
    {
     "name": "stderr",
     "output_type": "stream",
     "text": [
      "Processed prompts: 100%|██████████| 1/1 [00:02<00:00,  2.04s/it, est. speed input: 764.88 toks/s, output: 44.16 toks/s]\n"
     ]
    },
    {
     "name": "stdout",
     "output_type": "stream",
     "text": [
      "Expected Role Patient\n"
     ]
    },
    {
     "name": "stderr",
     "output_type": "stream",
     "text": [
      "Processed prompts: 100%|██████████| 1/1 [00:01<00:00,  1.16s/it, est. speed input: 1411.65 toks/s, output: 43.87 toks/s]\n"
     ]
    },
    {
     "name": "stdout",
     "output_type": "stream",
     "text": [
      "Expected Role Therapist\n"
     ]
    },
    {
     "name": "stderr",
     "output_type": "stream",
     "text": [
      "Processed prompts: 100%|██████████| 1/1 [00:01<00:00,  1.77s/it, est. speed input: 963.07 toks/s, output: 44.08 toks/s]\n"
     ]
    },
    {
     "name": "stdout",
     "output_type": "stream",
     "text": [
      "Expected Role Patient\n"
     ]
    },
    {
     "name": "stderr",
     "output_type": "stream",
     "text": [
      "Processed prompts: 100%|██████████| 1/1 [00:01<00:00,  1.93s/it, est. speed input: 920.76 toks/s, output: 44.12 toks/s]\n"
     ]
    },
    {
     "name": "stdout",
     "output_type": "stream",
     "text": [
      "Expected Role Therapist\n"
     ]
    },
    {
     "name": "stderr",
     "output_type": "stream",
     "text": [
      "Processed prompts: 100%|██████████| 1/1 [00:02<00:00,  2.30s/it, est. speed input: 815.37 toks/s, output: 44.01 toks/s]\n"
     ]
    },
    {
     "name": "stdout",
     "output_type": "stream",
     "text": [
      "Expected Role Patient\n"
     ]
    },
    {
     "name": "stderr",
     "output_type": "stream",
     "text": [
      "Processed prompts: 100%|██████████| 1/1 [00:01<00:00,  1.89s/it, est. speed input: 1040.71 toks/s, output: 43.98 toks/s]\n"
     ]
    },
    {
     "name": "stdout",
     "output_type": "stream",
     "text": [
      "Expected Role Therapist\n"
     ]
    },
    {
     "name": "stderr",
     "output_type": "stream",
     "text": [
      "Processed prompts: 100%|██████████| 1/1 [00:01<00:00,  1.42s/it, est. speed input: 1454.61 toks/s, output: 43.80 toks/s]\n"
     ]
    },
    {
     "name": "stdout",
     "output_type": "stream",
     "text": [
      "Expected Role Patient\n"
     ]
    },
    {
     "name": "stderr",
     "output_type": "stream",
     "text": [
      "Processed prompts: 100%|██████████| 1/1 [00:01<00:00,  1.60s/it, est. speed input: 1325.41 toks/s, output: 43.91 toks/s]\n"
     ]
    },
    {
     "name": "stdout",
     "output_type": "stream",
     "text": [
      "Expected Role Therapist\n"
     ]
    },
    {
     "name": "stderr",
     "output_type": "stream",
     "text": [
      "Processed prompts: 100%|██████████| 1/1 [00:01<00:00,  1.94s/it, est. speed input: 1132.83 toks/s, output: 43.87 toks/s]\n"
     ]
    },
    {
     "name": "stdout",
     "output_type": "stream",
     "text": [
      "Expected Role Patient\n"
     ]
    },
    {
     "name": "stderr",
     "output_type": "stream",
     "text": [
      "Processed prompts: 100%|██████████| 1/1 [00:01<00:00,  1.60s/it, est. speed input: 1418.22 toks/s, output: 43.69 toks/s]\n"
     ]
    },
    {
     "name": "stdout",
     "output_type": "stream",
     "text": [
      "Expected Role Therapist\n"
     ]
    },
    {
     "name": "stderr",
     "output_type": "stream",
     "text": [
      "Processed prompts: 100%|██████████| 1/1 [00:02<00:00,  2.28s/it, est. speed input: 1034.47 toks/s, output: 43.51 toks/s]\n"
     ]
    },
    {
     "name": "stdout",
     "output_type": "stream",
     "text": [
      "Expected Role Patient\n"
     ]
    },
    {
     "name": "stderr",
     "output_type": "stream",
     "text": [
      "Processed prompts: 100%|██████████| 1/1 [00:02<00:00,  2.13s/it, est. speed input: 1149.42 toks/s, output: 43.72 toks/s]\n"
     ]
    },
    {
     "name": "stdout",
     "output_type": "stream",
     "text": [
      "Expected Role Therapist\n"
     ]
    },
    {
     "name": "stderr",
     "output_type": "stream",
     "text": [
      "Processed prompts: 100%|██████████| 1/1 [00:01<00:00,  1.79s/it, est. speed input: 1426.75 toks/s, output: 43.64 toks/s]\n"
     ]
    },
    {
     "name": "stdout",
     "output_type": "stream",
     "text": [
      "Expected Role Patient\n"
     ]
    },
    {
     "name": "stderr",
     "output_type": "stream",
     "text": [
      "Processed prompts: 100%|██████████| 1/1 [00:02<00:00,  2.02s/it, est. speed input: 1298.02 toks/s, output: 43.60 toks/s]\n"
     ]
    },
    {
     "name": "stdout",
     "output_type": "stream",
     "text": [
      "Expected Role Therapist\n"
     ]
    },
    {
     "name": "stderr",
     "output_type": "stream",
     "text": [
      "Processed prompts: 100%|██████████| 1/1 [00:01<00:00,  1.88s/it, est. speed input: 1445.69 toks/s, output: 43.58 toks/s]\n"
     ]
    },
    {
     "name": "stdout",
     "output_type": "stream",
     "text": [
      "Expected Role Patient\n"
     ]
    },
    {
     "name": "stderr",
     "output_type": "stream",
     "text": [
      "Processed prompts: 100%|██████████| 1/1 [00:02<00:00,  2.25s/it, est. speed input: 1240.61 toks/s, output: 43.51 toks/s]\n"
     ]
    },
    {
     "name": "stdout",
     "output_type": "stream",
     "text": [
      "Expected Role Therapist\n"
     ]
    },
    {
     "name": "stderr",
     "output_type": "stream",
     "text": [
      "Processed prompts: 100%|██████████| 1/1 [00:02<00:00,  2.13s/it, est. speed input: 1361.42 toks/s, output: 43.60 toks/s]\n"
     ]
    },
    {
     "name": "stdout",
     "output_type": "stream",
     "text": [
      "Expected Role Patient\n"
     ]
    },
    {
     "name": "stderr",
     "output_type": "stream",
     "text": [
      "Processed prompts: 100%|██████████| 1/1 [00:01<00:00,  1.84s/it, est. speed input: 1622.19 toks/s, output: 43.42 toks/s]\n"
     ]
    },
    {
     "name": "stdout",
     "output_type": "stream",
     "text": [
      "Expected Role Therapist\n"
     ]
    },
    {
     "name": "stderr",
     "output_type": "stream",
     "text": [
      "Processed prompts: 100%|██████████| 1/1 [00:01<00:00,  1.59s/it, est. speed input: 1937.93 toks/s, output: 43.40 toks/s]\n"
     ]
    },
    {
     "name": "stdout",
     "output_type": "stream",
     "text": [
      "Expected Role Patient\n"
     ]
    },
    {
     "name": "stderr",
     "output_type": "stream",
     "text": [
      "Processed prompts: 100%|██████████| 1/1 [00:02<00:00,  2.14s/it, est. speed input: 1469.67 toks/s, output: 43.50 toks/s]\n"
     ]
    },
    {
     "name": "stdout",
     "output_type": "stream",
     "text": [
      "Expected Role Therapist\n"
     ]
    },
    {
     "name": "stderr",
     "output_type": "stream",
     "text": [
      "Processed prompts: 100%|██████████| 1/1 [00:02<00:00,  2.01s/it, est. speed input: 1620.24 toks/s, output: 43.41 toks/s]\n"
     ]
    },
    {
     "name": "stdout",
     "output_type": "stream",
     "text": [
      "Expected Role Patient\n"
     ]
    },
    {
     "name": "stderr",
     "output_type": "stream",
     "text": [
      "Processed prompts: 100%|██████████| 1/1 [00:01<00:00,  1.80s/it, est. speed input: 1845.74 toks/s, output: 43.28 toks/s]\n"
     ]
    },
    {
     "name": "stdout",
     "output_type": "stream",
     "text": [
      "Expected Role Therapist\n"
     ]
    },
    {
     "name": "stderr",
     "output_type": "stream",
     "text": [
      "Processed prompts: 100%|██████████| 1/1 [00:01<00:00,  1.43s/it, est. speed input: 2383.98 toks/s, output: 43.27 toks/s]\n"
     ]
    },
    {
     "name": "stdout",
     "output_type": "stream",
     "text": [
      "Expected Role Patient\n"
     ]
    },
    {
     "name": "stderr",
     "output_type": "stream",
     "text": [
      "Processed prompts: 100%|██████████| 1/1 [00:01<00:00,  1.74s/it, est. speed input: 1996.81 toks/s, output: 43.16 toks/s]\n"
     ]
    },
    {
     "name": "stdout",
     "output_type": "stream",
     "text": [
      "Expected Role Therapist\n"
     ]
    },
    {
     "name": "stderr",
     "output_type": "stream",
     "text": [
      "Processed prompts: 100%|██████████| 1/1 [00:02<00:00,  2.49s/it, est. speed input: 1428.35 toks/s, output: 43.37 toks/s]\n"
     ]
    },
    {
     "name": "stdout",
     "output_type": "stream",
     "text": [
      "Expected Role Patient\n"
     ]
    },
    {
     "name": "stderr",
     "output_type": "stream",
     "text": [
      "Processed prompts: 100%|██████████| 1/1 [00:02<00:00,  2.08s/it, est. speed input: 1763.02 toks/s, output: 42.91 toks/s]\n"
     ]
    },
    {
     "name": "stdout",
     "output_type": "stream",
     "text": [
      "Expected Role Therapist\n"
     ]
    },
    {
     "name": "stderr",
     "output_type": "stream",
     "text": [
      "Processed prompts: 100%|██████████| 1/1 [00:02<00:00,  2.18s/it, est. speed input: 1725.84 toks/s, output: 43.17 toks/s]\n"
     ]
    },
    {
     "name": "stdout",
     "output_type": "stream",
     "text": [
      "Expected Role Patient\n"
     ]
    },
    {
     "name": "stderr",
     "output_type": "stream",
     "text": [
      "Processed prompts: 100%|██████████| 1/1 [00:02<00:00,  2.14s/it, est. speed input: 1801.00 toks/s, output: 43.10 toks/s]\n"
     ]
    },
    {
     "name": "stdout",
     "output_type": "stream",
     "text": [
      "Expected Role Therapist\n"
     ]
    },
    {
     "name": "stderr",
     "output_type": "stream",
     "text": [
      "Processed prompts: 100%|██████████| 1/1 [00:01<00:00,  1.07s/it, est. speed input: 3693.12 toks/s, output: 42.09 toks/s]\n"
     ]
    },
    {
     "name": "stdout",
     "output_type": "stream",
     "text": [
      "Expected Role Patient\n"
     ]
    },
    {
     "name": "stderr",
     "output_type": "stream",
     "text": [
      "Processed prompts: 100%|██████████| 1/1 [00:01<00:00,  1.14s/it, est. speed input: 3488.35 toks/s, output: 42.89 toks/s]\n"
     ]
    },
    {
     "name": "stdout",
     "output_type": "stream",
     "text": [
      "Expected Role Therapist\n"
     ]
    },
    {
     "name": "stderr",
     "output_type": "stream",
     "text": [
      "Processed prompts: 100%|██████████| 1/1 [00:01<00:00,  1.32s/it, est. speed input: 3056.37 toks/s, output: 43.06 toks/s]\n"
     ]
    },
    {
     "name": "stdout",
     "output_type": "stream",
     "text": [
      "Expected Role Patient\n"
     ]
    },
    {
     "name": "stderr",
     "output_type": "stream",
     "text": [
      "Processed prompts: 100%|██████████| 1/1 [00:01<00:00,  1.94s/it, est. speed input: 2109.51 toks/s, output: 42.76 toks/s]\n"
     ]
    },
    {
     "name": "stdout",
     "output_type": "stream",
     "text": [
      "Expected Role Therapist\n"
     ]
    },
    {
     "name": "stderr",
     "output_type": "stream",
     "text": [
      "Processed prompts: 100%|██████████| 1/1 [00:01<00:00,  1.05s/it, est. speed input: 3986.61 toks/s, output: 42.82 toks/s]\n"
     ]
    },
    {
     "name": "stdout",
     "output_type": "stream",
     "text": [
      "Expected Role Patient\n"
     ]
    },
    {
     "name": "stderr",
     "output_type": "stream",
     "text": [
      "Processed prompts: 100%|██████████| 1/1 [00:01<00:00,  1.51s/it, est. speed input: 2793.52 toks/s, output: 42.96 toks/s]\n"
     ]
    },
    {
     "name": "stdout",
     "output_type": "stream",
     "text": [
      "Expected Role Therapist\n"
     ]
    },
    {
     "name": "stderr",
     "output_type": "stream",
     "text": [
      "Processed prompts: 100%|██████████| 1/1 [00:01<00:00,  1.40s/it, est. speed input: 3079.21 toks/s, output: 42.93 toks/s]\n"
     ]
    },
    {
     "name": "stdout",
     "output_type": "stream",
     "text": [
      "Expected Role Patient\n"
     ]
    },
    {
     "name": "stderr",
     "output_type": "stream",
     "text": [
      "Processed prompts: 100%|██████████| 1/1 [00:01<00:00,  1.94s/it, est. speed input: 2243.48 toks/s, output: 42.75 toks/s]\n"
     ]
    },
    {
     "name": "stdout",
     "output_type": "stream",
     "text": [
      "Expected Role Therapist\n"
     ]
    },
    {
     "name": "stderr",
     "output_type": "stream",
     "text": [
      "Processed prompts: 100%|██████████| 1/1 [00:01<00:00,  1.96s/it, est. speed input: 2271.03 toks/s, output: 42.86 toks/s]\n"
     ]
    },
    {
     "name": "stdout",
     "output_type": "stream",
     "text": [
      "Expected Role Patient\n"
     ]
    },
    {
     "name": "stderr",
     "output_type": "stream",
     "text": [
      "Processed prompts: 100%|██████████| 1/1 [00:01<00:00,  1.67s/it, est. speed input: 2719.89 toks/s, output: 42.66 toks/s]\n"
     ]
    },
    {
     "name": "stdout",
     "output_type": "stream",
     "text": [
      "Expected Role Therapist\n"
     ]
    },
    {
     "name": "stderr",
     "output_type": "stream",
     "text": [
      "Processed prompts: 100%|██████████| 1/1 [00:02<00:00,  2.46s/it, est. speed input: 1872.57 toks/s, output: 42.65 toks/s]\n"
     ]
    },
    {
     "name": "stdout",
     "output_type": "stream",
     "text": [
      "Expected Role Patient\n"
     ]
    },
    {
     "name": "stderr",
     "output_type": "stream",
     "text": [
      "Processed prompts: 100%|██████████| 1/1 [00:01<00:00,  1.02s/it, est. speed input: 4637.02 toks/s, output: 42.36 toks/s]\n"
     ]
    },
    {
     "name": "stdout",
     "output_type": "stream",
     "text": [
      "Expected Role Therapist\n"
     ]
    },
    {
     "name": "stderr",
     "output_type": "stream",
     "text": [
      "Processed prompts: 100%|██████████| 1/1 [00:01<00:00,  1.04s/it, est. speed input: 4585.96 toks/s, output: 42.37 toks/s]\n"
     ]
    },
    {
     "name": "stdout",
     "output_type": "stream",
     "text": [
      "Expected Role Patient\n",
      "eval_prompt_consistency\n",
      "eval_prompt_consistency\n"
     ]
    },
    {
     "name": "stderr",
     "output_type": "stream",
     "text": [
      "Processed prompts: 100%|██████████| 1/1 [00:01<00:00,  1.14s/it, est. speed input: 355.92 toks/s, output: 43.83 toks/s]\n"
     ]
    },
    {
     "name": "stdout",
     "output_type": "stream",
     "text": [
      "eval_prompt_consistency\n",
      "eval_prompt_consistency\n"
     ]
    },
    {
     "name": "stderr",
     "output_type": "stream",
     "text": [
      "Processed prompts: 100%|██████████| 1/1 [00:01<00:00,  1.10s/it, est. speed input: 372.00 toks/s, output: 44.68 toks/s]\n"
     ]
    },
    {
     "name": "stdout",
     "output_type": "stream",
     "text": [
      "eval_prompt_consistency\n",
      "eval_prompt_consistency\n"
     ]
    },
    {
     "name": "stderr",
     "output_type": "stream",
     "text": [
      "Processed prompts: 100%|██████████| 1/1 [00:01<00:00,  1.69s/it, est. speed input: 237.37 toks/s, output: 44.88 toks/s]\n"
     ]
    },
    {
     "name": "stdout",
     "output_type": "stream",
     "text": [
      "eval_prompt_consistency\n",
      "eval_prompt_consistency\n"
     ]
    },
    {
     "name": "stderr",
     "output_type": "stream",
     "text": [
      "Processed prompts: 100%|██████████| 1/1 [00:01<00:00,  1.78s/it, est. speed input: 228.52 toks/s, output: 44.92 toks/s]\n"
     ]
    },
    {
     "name": "stdout",
     "output_type": "stream",
     "text": [
      "eval_prompt_consistency\n",
      "eval_prompt_consistency\n"
     ]
    },
    {
     "name": "stderr",
     "output_type": "stream",
     "text": [
      "Processed prompts: 100%|██████████| 1/1 [00:01<00:00,  1.22s/it, est. speed input: 352.05 toks/s, output: 44.42 toks/s]\n"
     ]
    },
    {
     "name": "stdout",
     "output_type": "stream",
     "text": [
      "eval_prompt_consistency\n",
      "eval_prompt_consistency\n"
     ]
    },
    {
     "name": "stderr",
     "output_type": "stream",
     "text": [
      "Processed prompts: 100%|██████████| 1/1 [00:01<00:00,  1.32s/it, est. speed input: 317.36 toks/s, output: 44.79 toks/s]\n"
     ]
    },
    {
     "name": "stdout",
     "output_type": "stream",
     "text": [
      "eval_prompt_consistency\n",
      "eval_prompt_consistency\n"
     ]
    },
    {
     "name": "stderr",
     "output_type": "stream",
     "text": [
      "Processed prompts: 100%|██████████| 1/1 [00:01<00:00,  1.45s/it, est. speed input: 308.72 toks/s, output: 44.79 toks/s]\n"
     ]
    },
    {
     "name": "stdout",
     "output_type": "stream",
     "text": [
      "eval_prompt_consistency\n",
      "eval_prompt_consistency\n"
     ]
    },
    {
     "name": "stderr",
     "output_type": "stream",
     "text": [
      "Processed prompts: 100%|██████████| 1/1 [00:02<00:00,  2.07s/it, est. speed input: 211.51 toks/s, output: 44.53 toks/s]\n"
     ]
    },
    {
     "name": "stdout",
     "output_type": "stream",
     "text": [
      "eval_prompt_consistency\n",
      "eval_prompt_consistency\n"
     ]
    },
    {
     "name": "stderr",
     "output_type": "stream",
     "text": [
      "Processed prompts: 100%|██████████| 1/1 [00:01<00:00,  1.32s/it, est. speed input: 326.11 toks/s, output: 44.85 toks/s]\n"
     ]
    },
    {
     "name": "stdout",
     "output_type": "stream",
     "text": [
      "eval_prompt_consistency\n",
      "eval_prompt_consistency\n"
     ]
    },
    {
     "name": "stderr",
     "output_type": "stream",
     "text": [
      "Processed prompts: 100%|██████████| 1/1 [00:01<00:00,  1.38s/it, est. speed input: 317.95 toks/s, output: 44.80 toks/s]\n"
     ]
    },
    {
     "name": "stdout",
     "output_type": "stream",
     "text": [
      "eval_prompt_consistency\n",
      "eval_prompt_consistency\n"
     ]
    },
    {
     "name": "stderr",
     "output_type": "stream",
     "text": [
      "Processed prompts: 100%|██████████| 1/1 [00:01<00:00,  1.78s/it, est. speed input: 240.00 toks/s, output: 44.86 toks/s]\n"
     ]
    },
    {
     "name": "stdout",
     "output_type": "stream",
     "text": [
      "eval_prompt_consistency\n",
      "eval_prompt_consistency\n"
     ]
    },
    {
     "name": "stderr",
     "output_type": "stream",
     "text": [
      "Processed prompts: 100%|██████████| 1/1 [00:01<00:00,  1.70s/it, est. speed input: 265.11 toks/s, output: 44.67 toks/s]\n"
     ]
    },
    {
     "name": "stdout",
     "output_type": "stream",
     "text": [
      "eval_prompt_consistency\n",
      "eval_prompt_consistency\n"
     ]
    },
    {
     "name": "stderr",
     "output_type": "stream",
     "text": [
      "Processed prompts: 100%|██████████| 1/1 [00:01<00:00,  1.54s/it, est. speed input: 268.15 toks/s, output: 44.91 toks/s]\n"
     ]
    },
    {
     "name": "stdout",
     "output_type": "stream",
     "text": [
      "eval_prompt_consistency\n",
      "eval_prompt_consistency\n"
     ]
    },
    {
     "name": "stderr",
     "output_type": "stream",
     "text": [
      "Processed prompts: 100%|██████████| 1/1 [00:01<00:00,  1.38s/it, est. speed input: 314.28 toks/s, output: 44.79 toks/s]\n"
     ]
    },
    {
     "name": "stdout",
     "output_type": "stream",
     "text": [
      "eval_prompt_consistency\n",
      "eval_prompt_consistency\n"
     ]
    },
    {
     "name": "stderr",
     "output_type": "stream",
     "text": [
      "Processed prompts: 100%|██████████| 1/1 [00:01<00:00,  1.69s/it, est. speed input: 266.20 toks/s, output: 44.47 toks/s]\n"
     ]
    },
    {
     "name": "stdout",
     "output_type": "stream",
     "text": [
      "eval_prompt_consistency\n",
      "eval_prompt_consistency\n"
     ]
    },
    {
     "name": "stderr",
     "output_type": "stream",
     "text": [
      "Processed prompts: 100%|██████████| 1/1 [00:02<00:00,  2.16s/it, est. speed input: 197.94 toks/s, output: 44.86 toks/s]\n"
     ]
    },
    {
     "name": "stdout",
     "output_type": "stream",
     "text": [
      "eval_prompt_consistency\n",
      "eval_prompt_consistency\n"
     ]
    },
    {
     "name": "stderr",
     "output_type": "stream",
     "text": [
      "Processed prompts: 100%|██████████| 1/1 [00:01<00:00,  1.50s/it, est. speed input: 288.75 toks/s, output: 44.78 toks/s]\n"
     ]
    },
    {
     "name": "stdout",
     "output_type": "stream",
     "text": [
      "eval_prompt_consistency\n",
      "eval_prompt_consistency\n"
     ]
    },
    {
     "name": "stderr",
     "output_type": "stream",
     "text": [
      "Processed prompts: 100%|██████████| 1/1 [00:01<00:00,  1.77s/it, est. speed input: 250.82 toks/s, output: 44.73 toks/s]\n"
     ]
    },
    {
     "name": "stdout",
     "output_type": "stream",
     "text": [
      "eval_prompt_consistency\n",
      "eval_prompt_consistency\n"
     ]
    },
    {
     "name": "stderr",
     "output_type": "stream",
     "text": [
      "Processed prompts: 100%|██████████| 1/1 [00:01<00:00,  1.65s/it, est. speed input: 254.00 toks/s, output: 44.86 toks/s]\n"
     ]
    },
    {
     "name": "stdout",
     "output_type": "stream",
     "text": [
      "eval_prompt_consistency\n",
      "eval_prompt_consistency\n"
     ]
    },
    {
     "name": "stderr",
     "output_type": "stream",
     "text": [
      "Processed prompts: 100%|██████████| 1/1 [00:02<00:00,  2.19s/it, est. speed input: 199.78 toks/s, output: 44.80 toks/s]\n"
     ]
    },
    {
     "name": "stdout",
     "output_type": "stream",
     "text": [
      "eval_prompt_consistency\n",
      "eval_prompt_consistency\n"
     ]
    },
    {
     "name": "stderr",
     "output_type": "stream",
     "text": [
      "Processed prompts: 100%|██████████| 1/1 [00:01<00:00,  1.38s/it, est. speed input: 297.70 toks/s, output: 44.80 toks/s]\n"
     ]
    },
    {
     "name": "stdout",
     "output_type": "stream",
     "text": [
      "eval_prompt_consistency\n",
      "eval_prompt_consistency\n"
     ]
    },
    {
     "name": "stderr",
     "output_type": "stream",
     "text": [
      "Processed prompts: 100%|██████████| 1/1 [00:01<00:00,  1.81s/it, est. speed input: 253.28 toks/s, output: 44.79 toks/s]\n"
     ]
    },
    {
     "name": "stdout",
     "output_type": "stream",
     "text": [
      "eval_prompt_consistency\n",
      "eval_prompt_consistency\n"
     ]
    },
    {
     "name": "stderr",
     "output_type": "stream",
     "text": [
      "Processed prompts: 100%|██████████| 1/1 [00:01<00:00,  1.77s/it, est. speed input: 251.21 toks/s, output: 44.70 toks/s]\n"
     ]
    },
    {
     "name": "stdout",
     "output_type": "stream",
     "text": [
      "eval_prompt_consistency\n",
      "eval_prompt_consistency\n"
     ]
    },
    {
     "name": "stderr",
     "output_type": "stream",
     "text": [
      "Processed prompts: 100%|██████████| 1/1 [00:01<00:00,  1.51s/it, est. speed input: 262.41 toks/s, output: 44.51 toks/s]\n"
     ]
    },
    {
     "name": "stdout",
     "output_type": "stream",
     "text": [
      "eval_prompt_consistency\n",
      "eval_prompt_consistency\n"
     ]
    },
    {
     "name": "stderr",
     "output_type": "stream",
     "text": [
      "Processed prompts: 100%|██████████| 1/1 [00:01<00:00,  1.32s/it, est. speed input: 308.84 toks/s, output: 44.77 toks/s]\n"
     ]
    },
    {
     "name": "stdout",
     "output_type": "stream",
     "text": [
      "eval_prompt_consistency\n",
      "eval_prompt_consistency\n"
     ]
    },
    {
     "name": "stderr",
     "output_type": "stream",
     "text": [
      "Processed prompts: 100%|██████████| 1/1 [00:01<00:00,  1.80s/it, est. speed input: 219.20 toks/s, output: 44.95 toks/s]\n"
     ]
    },
    {
     "name": "stdout",
     "output_type": "stream",
     "text": [
      "eval_prompt_consistency\n",
      "eval_prompt_consistency\n"
     ]
    },
    {
     "name": "stderr",
     "output_type": "stream",
     "text": [
      "Processed prompts: 100%|██████████| 1/1 [00:01<00:00,  1.66s/it, est. speed input: 247.43 toks/s, output: 44.66 toks/s]\n"
     ]
    },
    {
     "name": "stdout",
     "output_type": "stream",
     "text": [
      "eval_prompt_consistency\n",
      "eval_prompt_consistency\n"
     ]
    },
    {
     "name": "stderr",
     "output_type": "stream",
     "text": [
      "Processed prompts: 100%|██████████| 1/1 [00:01<00:00,  1.50s/it, est. speed input: 289.96 toks/s, output: 44.76 toks/s]\n"
     ]
    },
    {
     "name": "stdout",
     "output_type": "stream",
     "text": [
      "eval_prompt_consistency\n",
      "eval_prompt_consistency\n"
     ]
    },
    {
     "name": "stderr",
     "output_type": "stream",
     "text": [
      "Processed prompts: 100%|██████████| 1/1 [00:01<00:00,  1.61s/it, est. speed input: 282.91 toks/s, output: 44.77 toks/s]\n"
     ]
    },
    {
     "name": "stdout",
     "output_type": "stream",
     "text": [
      "eval_prompt_consistency\n",
      "eval_prompt_consistency\n"
     ]
    },
    {
     "name": "stderr",
     "output_type": "stream",
     "text": [
      "Processed prompts: 100%|██████████| 1/1 [00:01<00:00,  1.71s/it, est. speed input: 230.42 toks/s, output: 44.45 toks/s]\n"
     ]
    },
    {
     "name": "stdout",
     "output_type": "stream",
     "text": [
      "eval_index_consistency\n"
     ]
    },
    {
     "name": "stderr",
     "output_type": "stream",
     "text": [
      "Processed prompts: 100%|██████████| 1/1 [00:01<00:00,  1.20s/it, est. speed input: 392.35 toks/s, output: 44.06 toks/s]\n",
      "Processed prompts: 100%|██████████| 1/1 [00:01<00:00,  1.24s/it, est. speed input: 470.52 toks/s, output: 44.46 toks/s]\n",
      "Processed prompts: 100%|██████████| 1/1 [00:01<00:00,  1.01s/it, est. speed input: 726.27 toks/s, output: 43.71 toks/s]\n",
      "Processed prompts: 100%|██████████| 1/1 [00:01<00:00,  1.51s/it, est. speed input: 583.47 toks/s, output: 43.71 toks/s]\n",
      "Processed prompts: 100%|██████████| 1/1 [00:01<00:00,  1.06s/it, est. speed input: 957.97 toks/s, output: 43.59 toks/s]\n",
      "Processed prompts: 100%|██████████| 1/1 [00:00<00:00,  1.06it/s, est. speed input: 1276.37 toks/s, output: 43.36 toks/s]\n",
      "Processed prompts: 100%|██████████| 1/1 [00:01<00:00,  1.02s/it, est. speed input: 1353.90 toks/s, output: 43.14 toks/s]\n",
      "Processed prompts: 100%|██████████| 1/1 [00:01<00:00,  1.99s/it, est. speed input: 774.42 toks/s, output: 43.69 toks/s]\n",
      "Processed prompts: 100%|██████████| 1/1 [00:01<00:00,  1.81s/it, est. speed input: 960.86 toks/s, output: 43.70 toks/s]\n",
      "Processed prompts: 100%|██████████| 1/1 [00:01<00:00,  1.49s/it, est. speed input: 1254.18 toks/s, output: 43.52 toks/s]\n",
      "Processed prompts: 100%|██████████| 1/1 [00:01<00:00,  1.84s/it, est. speed input: 1121.77 toks/s, output: 43.44 toks/s]\n",
      "Processed prompts: 100%|██████████| 1/1 [00:01<00:00,  1.28s/it, est. speed input: 1737.07 toks/s, output: 43.07 toks/s]\n",
      "Processed prompts: 100%|██████████| 1/1 [00:01<00:00,  1.23s/it, est. speed input: 1931.08 toks/s, output: 43.00 toks/s]\n",
      "Processed prompts: 100%|██████████| 1/1 [00:01<00:00,  1.53s/it, est. speed input: 1674.89 toks/s, output: 43.25 toks/s]\n",
      "Processed prompts: 100%|██████████| 1/1 [00:01<00:00,  1.71s/it, est. speed input: 1602.51 toks/s, output: 42.79 toks/s]\n",
      "Processed prompts: 100%|██████████| 1/1 [00:01<00:00,  1.40s/it, est. speed input: 2083.21 toks/s, output: 42.94 toks/s]\n",
      "Processed prompts: 100%|██████████| 1/1 [00:02<00:00,  2.18s/it, est. speed input: 1424.64 toks/s, output: 43.07 toks/s]\n",
      "Processed prompts: 100%|██████████| 1/1 [00:01<00:00,  1.24s/it, est. speed input: 2627.94 toks/s, output: 42.66 toks/s]\n",
      "Processed prompts: 100%|██████████| 1/1 [00:01<00:00,  1.48s/it, est. speed input: 2340.53 toks/s, output: 42.71 toks/s]\n",
      "Processed prompts: 100%|██████████| 1/1 [00:01<00:00,  1.43s/it, est. speed input: 2512.95 toks/s, output: 42.59 toks/s]\n",
      "Processed prompts: 100%|██████████| 1/1 [00:02<00:00,  2.07s/it, est. speed input: 1828.76 toks/s, output: 42.47 toks/s]\n",
      "Processed prompts: 100%|██████████| 1/1 [00:01<00:00,  1.32s/it, est. speed input: 3006.50 toks/s, output: 42.31 toks/s]\n",
      "Processed prompts: 100%|██████████| 1/1 [00:01<00:00,  1.28s/it, est. speed input: 3225.60 toks/s, output: 42.25 toks/s]\n",
      "Processed prompts: 100%|██████████| 1/1 [00:01<00:00,  1.68s/it, est. speed input: 2522.11 toks/s, output: 42.87 toks/s]\n",
      "Processed prompts: 100%|██████████| 1/1 [00:00<00:00,  1.33it/s, est. speed input: 5838.75 toks/s, output: 41.41 toks/s]\n",
      "Processed prompts: 100%|██████████| 1/1 [00:01<00:00,  1.22s/it, est. speed input: 3686.18 toks/s, output: 42.57 toks/s]\n",
      "Processed prompts: 100%|██████████| 1/1 [00:01<00:00,  1.66s/it, est. speed input: 2820.16 toks/s, output: 42.21 toks/s]\n",
      "Processed prompts: 100%|██████████| 1/1 [00:01<00:00,  1.30s/it, est. speed input: 3740.31 toks/s, output: 41.56 toks/s]\n",
      "Processed prompts: 100%|██████████| 1/1 [00:01<00:00,  1.85s/it, est. speed input: 2678.14 toks/s, output: 42.17 toks/s]\n"
     ]
    },
    {
     "name": "stdout",
     "output_type": "stream",
     "text": [
      "eval_prompt_consistency\n",
      "eval_prompt_consistency\n"
     ]
    },
    {
     "name": "stderr",
     "output_type": "stream",
     "text": [
      "Processed prompts: 100%|██████████| 1/1 [00:01<00:00,  1.25s/it, est. speed input: 245.36 toks/s, output: 44.76 toks/s]\n"
     ]
    },
    {
     "name": "stdout",
     "output_type": "stream",
     "text": [
      "eval_prompt_consistency\n",
      "eval_prompt_consistency\n"
     ]
    },
    {
     "name": "stderr",
     "output_type": "stream",
     "text": [
      "Processed prompts: 100%|██████████| 1/1 [00:01<00:00,  1.52s/it, est. speed input: 204.05 toks/s, output: 44.90 toks/s]\n"
     ]
    },
    {
     "name": "stdout",
     "output_type": "stream",
     "text": [
      "eval_prompt_consistency\n",
      "eval_prompt_consistency\n"
     ]
    },
    {
     "name": "stderr",
     "output_type": "stream",
     "text": [
      "Processed prompts: 100%|██████████| 1/1 [00:01<00:00,  1.15s/it, est. speed input: 264.31 toks/s, output: 44.49 toks/s]\n"
     ]
    },
    {
     "name": "stdout",
     "output_type": "stream",
     "text": [
      "eval_prompt_consistency\n",
      "eval_prompt_consistency\n"
     ]
    },
    {
     "name": "stderr",
     "output_type": "stream",
     "text": [
      "Processed prompts: 100%|██████████| 1/1 [00:01<00:00,  1.18s/it, est. speed input: 260.71 toks/s, output: 44.86 toks/s]\n"
     ]
    },
    {
     "name": "stdout",
     "output_type": "stream",
     "text": [
      "eval_prompt_consistency\n",
      "eval_prompt_consistency\n"
     ]
    },
    {
     "name": "stderr",
     "output_type": "stream",
     "text": [
      "Processed prompts: 100%|██████████| 1/1 [00:01<00:00,  1.30s/it, est. speed input: 254.05 toks/s, output: 44.79 toks/s]\n"
     ]
    },
    {
     "name": "stdout",
     "output_type": "stream",
     "text": [
      "eval_prompt_consistency\n",
      "eval_prompt_consistency\n"
     ]
    },
    {
     "name": "stderr",
     "output_type": "stream",
     "text": [
      "Processed prompts: 100%|██████████| 1/1 [00:01<00:00,  1.32s/it, est. speed input: 242.56 toks/s, output: 44.86 toks/s]\n"
     ]
    },
    {
     "name": "stdout",
     "output_type": "stream",
     "text": [
      "eval_prompt_consistency\n",
      "eval_prompt_consistency\n"
     ]
    },
    {
     "name": "stderr",
     "output_type": "stream",
     "text": [
      "Processed prompts: 100%|██████████| 1/1 [00:01<00:00,  1.03s/it, est. speed input: 338.36 toks/s, output: 44.60 toks/s]\n"
     ]
    },
    {
     "name": "stdout",
     "output_type": "stream",
     "text": [
      "eval_prompt_consistency\n",
      "eval_prompt_consistency\n"
     ]
    },
    {
     "name": "stderr",
     "output_type": "stream",
     "text": [
      "Processed prompts: 100%|██████████| 1/1 [00:01<00:00,  1.39s/it, est. speed input: 243.81 toks/s, output: 44.72 toks/s]\n"
     ]
    },
    {
     "name": "stdout",
     "output_type": "stream",
     "text": [
      "eval_prompt_consistency\n",
      "eval_prompt_consistency\n"
     ]
    },
    {
     "name": "stderr",
     "output_type": "stream",
     "text": [
      "Processed prompts: 100%|██████████| 1/1 [00:02<00:00,  2.56s/it, est. speed input: 128.94 toks/s, output: 44.93 toks/s]\n"
     ]
    },
    {
     "name": "stdout",
     "output_type": "stream",
     "text": [
      "eval_prompt_consistency\n",
      "eval_prompt_consistency\n"
     ]
    },
    {
     "name": "stderr",
     "output_type": "stream",
     "text": [
      "Processed prompts: 100%|██████████| 1/1 [00:01<00:00,  1.30s/it, est. speed input: 262.55 toks/s, output: 44.66 toks/s]\n"
     ]
    },
    {
     "name": "stdout",
     "output_type": "stream",
     "text": [
      "eval_prompt_consistency\n",
      "eval_prompt_consistency\n"
     ]
    },
    {
     "name": "stderr",
     "output_type": "stream",
     "text": [
      "Processed prompts: 100%|██████████| 1/1 [00:01<00:00,  1.29s/it, est. speed input: 254.37 toks/s, output: 44.84 toks/s]\n"
     ]
    },
    {
     "name": "stdout",
     "output_type": "stream",
     "text": [
      "eval_prompt_consistency\n",
      "eval_prompt_consistency\n"
     ]
    },
    {
     "name": "stderr",
     "output_type": "stream",
     "text": [
      "Processed prompts: 100%|██████████| 1/1 [00:01<00:00,  1.07s/it, est. speed input: 327.89 toks/s, output: 44.71 toks/s]\n"
     ]
    },
    {
     "name": "stdout",
     "output_type": "stream",
     "text": [
      "eval_prompt_consistency\n",
      "eval_prompt_consistency\n"
     ]
    },
    {
     "name": "stderr",
     "output_type": "stream",
     "text": [
      "Processed prompts: 100%|██████████| 1/1 [00:00<00:00,  1.09it/s, est. speed input: 341.91 toks/s, output: 44.79 toks/s]\n"
     ]
    },
    {
     "name": "stdout",
     "output_type": "stream",
     "text": [
      "eval_prompt_consistency\n",
      "eval_prompt_consistency\n"
     ]
    },
    {
     "name": "stderr",
     "output_type": "stream",
     "text": [
      "Processed prompts: 100%|██████████| 1/1 [00:01<00:00,  1.55s/it, est. speed input: 217.50 toks/s, output: 44.66 toks/s]\n"
     ]
    },
    {
     "name": "stdout",
     "output_type": "stream",
     "text": [
      "eval_prompt_consistency\n",
      "eval_prompt_consistency\n"
     ]
    },
    {
     "name": "stderr",
     "output_type": "stream",
     "text": [
      "Processed prompts: 100%|██████████| 1/1 [00:01<00:00,  1.10s/it, est. speed input: 319.29 toks/s, output: 44.70 toks/s]\n"
     ]
    },
    {
     "name": "stdout",
     "output_type": "stream",
     "text": [
      "eval_prompt_consistency\n",
      "eval_prompt_consistency\n"
     ]
    },
    {
     "name": "stderr",
     "output_type": "stream",
     "text": [
      "Processed prompts: 100%|██████████| 1/1 [00:01<00:00,  1.94s/it, est. speed input: 169.68 toks/s, output: 44.87 toks/s]\n"
     ]
    },
    {
     "name": "stdout",
     "output_type": "stream",
     "text": [
      "eval_prompt_consistency\n",
      "eval_prompt_consistency\n"
     ]
    },
    {
     "name": "stderr",
     "output_type": "stream",
     "text": [
      "Processed prompts: 100%|██████████| 1/1 [00:01<00:00,  1.25s/it, est. speed input: 266.96 toks/s, output: 44.89 toks/s]\n"
     ]
    },
    {
     "name": "stdout",
     "output_type": "stream",
     "text": [
      "eval_prompt_consistency\n",
      "eval_prompt_consistency\n"
     ]
    },
    {
     "name": "stderr",
     "output_type": "stream",
     "text": [
      "Processed prompts: 100%|██████████| 1/1 [00:01<00:00,  1.30s/it, est. speed input: 265.41 toks/s, output: 44.75 toks/s]\n"
     ]
    },
    {
     "name": "stdout",
     "output_type": "stream",
     "text": [
      "eval_prompt_consistency\n",
      "eval_prompt_consistency\n"
     ]
    },
    {
     "name": "stderr",
     "output_type": "stream",
     "text": [
      "Processed prompts: 100%|██████████| 1/1 [00:01<00:00,  1.38s/it, est. speed input: 231.81 toks/s, output: 44.91 toks/s]\n"
     ]
    },
    {
     "name": "stdout",
     "output_type": "stream",
     "text": [
      "eval_prompt_consistency\n",
      "eval_prompt_consistency\n"
     ]
    },
    {
     "name": "stderr",
     "output_type": "stream",
     "text": [
      "Processed prompts: 100%|██████████| 1/1 [00:01<00:00,  1.47s/it, est. speed input: 229.47 toks/s, output: 44.81 toks/s]\n"
     ]
    },
    {
     "name": "stdout",
     "output_type": "stream",
     "text": [
      "eval_prompt_consistency\n",
      "eval_prompt_consistency\n"
     ]
    },
    {
     "name": "stderr",
     "output_type": "stream",
     "text": [
      "Processed prompts: 100%|██████████| 1/1 [00:01<00:00,  1.16s/it, est. speed input: 269.96 toks/s, output: 44.85 toks/s]\n"
     ]
    },
    {
     "name": "stdout",
     "output_type": "stream",
     "text": [
      "eval_prompt_consistency\n",
      "eval_prompt_consistency\n"
     ]
    },
    {
     "name": "stderr",
     "output_type": "stream",
     "text": [
      "Processed prompts: 100%|██████████| 1/1 [00:01<00:00,  1.46s/it, est. speed input: 246.79 toks/s, output: 44.68 toks/s]\n"
     ]
    },
    {
     "name": "stdout",
     "output_type": "stream",
     "text": [
      "eval_prompt_consistency\n",
      "eval_prompt_consistency\n"
     ]
    },
    {
     "name": "stderr",
     "output_type": "stream",
     "text": [
      "Processed prompts: 100%|██████████| 1/1 [00:01<00:00,  1.12s/it, est. speed input: 308.64 toks/s, output: 44.73 toks/s]\n"
     ]
    },
    {
     "name": "stdout",
     "output_type": "stream",
     "text": [
      "eval_prompt_consistency\n",
      "eval_prompt_consistency\n"
     ]
    },
    {
     "name": "stderr",
     "output_type": "stream",
     "text": [
      "Processed prompts: 100%|██████████| 1/1 [00:01<00:00,  1.49s/it, est. speed input: 198.46 toks/s, output: 44.92 toks/s]\n"
     ]
    },
    {
     "name": "stdout",
     "output_type": "stream",
     "text": [
      "eval_prompt_consistency\n",
      "eval_prompt_consistency\n"
     ]
    },
    {
     "name": "stderr",
     "output_type": "stream",
     "text": [
      "Processed prompts: 100%|██████████| 1/1 [00:00<00:00,  1.04it/s, est. speed input: 320.92 toks/s, output: 44.80 toks/s]\n"
     ]
    },
    {
     "name": "stdout",
     "output_type": "stream",
     "text": [
      "eval_prompt_consistency\n",
      "eval_prompt_consistency\n"
     ]
    },
    {
     "name": "stderr",
     "output_type": "stream",
     "text": [
      "Processed prompts: 100%|██████████| 1/1 [00:01<00:00,  1.44s/it, est. speed input: 206.10 toks/s, output: 44.56 toks/s]\n"
     ]
    },
    {
     "name": "stdout",
     "output_type": "stream",
     "text": [
      "eval_prompt_consistency\n",
      "eval_prompt_consistency\n"
     ]
    },
    {
     "name": "stderr",
     "output_type": "stream",
     "text": [
      "Processed prompts: 100%|██████████| 1/1 [00:01<00:00,  1.38s/it, est. speed input: 225.13 toks/s, output: 44.88 toks/s]\n"
     ]
    },
    {
     "name": "stdout",
     "output_type": "stream",
     "text": [
      "eval_prompt_consistency\n",
      "eval_prompt_consistency\n"
     ]
    },
    {
     "name": "stderr",
     "output_type": "stream",
     "text": [
      "Processed prompts: 100%|██████████| 1/1 [00:01<00:00,  1.59s/it, est. speed input: 210.54 toks/s, output: 44.62 toks/s]\n"
     ]
    },
    {
     "name": "stdout",
     "output_type": "stream",
     "text": [
      "eval_prompt_consistency\n",
      "eval_prompt_consistency\n"
     ]
    },
    {
     "name": "stderr",
     "output_type": "stream",
     "text": [
      "Processed prompts: 100%|██████████| 1/1 [00:01<00:00,  1.21s/it, est. speed input: 294.06 toks/s, output: 44.60 toks/s]\n"
     ]
    },
    {
     "name": "stdout",
     "output_type": "stream",
     "text": [
      "eval_prompt_consistency\n",
      "eval_prompt_consistency\n"
     ]
    },
    {
     "name": "stderr",
     "output_type": "stream",
     "text": [
      "Processed prompts: 100%|██████████| 1/1 [00:01<00:00,  1.14s/it, est. speed input: 259.51 toks/s, output: 44.86 toks/s]\n",
      "  3%|▎         | 3/100 [11:33<6:15:32, 232.29s/it]"
     ]
    },
    {
     "name": "stdout",
     "output_type": "stream",
     "text": [
      "{'task_name': 'Therapy', 'topic': '', 'grade': '', 'P1': '', 'P2': 'age:48; nationality/ethnicity:Black/African American; mental health diagnosis:major depressive disorder that results in loss of interest and energy; Substance Use:moderate cannabis use; Level of Social Engagement:moderate; Trauma History:witnessed domestic violence', 'conversation': [(0, \"Therapist: As we begin our session today, I want to acknowledge that it takes a lot of courage to share your thoughts and feelings with someone you've just met online, can you tell me what brings you to therapy at this point in your life?\\n\"), (1, \"Patient: Honestly, I've just been feeling really stuck lately, like I'm just going through the motions of life but not really experiencing anything meaningful. It's been hard to find the motivation to do the things I used to enjoy, and it's taking a toll on my relationships.\\n\"), (2, 'Therapist: That sounds like a really frustrating and isolating experience. Can you tell me more about what you mean by \"going through the motions\" - is there a sense that you\\'re feeling disconnected from your values, your goals, or something else entirely?\\n'), (3, \"Patient: I think it's more like I've lost a sense of purpose, like I'm just doing things because I feel like I'm supposed to, not because I actually want to. It's hard to pinpoint what specifically has changed, but everything feels really hollow and unfulfilling.\\n\"), (4, 'Therapist: It sounds like this sense of emptiness and disconnection has been a gradual process, rather than a sudden change - can you think of a specific moment or event that might have marked a turning point, where you felt like things started to feel off?\\n'), (5, \"Patient: I've been thinking a lot about this, and I think it was after my mom passed away a few years ago - it felt like I lost a sense of stability and routine that she provided, and it's been hard to find my footing ever since.\\n\"), (6, \"Therapist: I sense that you've been grappling with the loss of your mom in a very profound way, and it's possible that you've been using grief as a way to avoid exploring other parts of yourself and your life that may be contributing to this sense of emptiness. Can you help me understand how you think your relationships with others, including your romantic relationships, have been affected by your grief and this sense of disconnection?\\n\"), (7, \"Patient: Honestly, it feels like I've been using relationships as a way to avoid being alone with my thoughts, so I've been attracting people who are pretty toxic and enabling, and it's been a pattern of self-sabotaging relationships that make me feel more empty and stuck.\\n\"), (8, \"Therapist: It sounds like you've been using relationships as a way to escape or distract yourself from your feelings of emptiness, and that's led to some unhealthy patterns - can you explore with me how you think this dynamic might be a way of avoiding taking responsibility for your own emotional pain, rather than confronting and working through it?\\n\"), (9, \"Patient: I think that's a really insightful question, and it makes me realize that I've been avoiding the pain of losing my mom by distracting myself with relationships that don't bring me any real fulfillment. It's hard to admit, but it's almost like I've been using cannabis to cope with that avoidance, too, as a way to numb the emotions I don't want to feel.\\n\"), (10, \"Therapist: It's interesting that you mention cannabis as a means of numbing your emotions - can you tell me more about what you think is holding you back from exploring healthier ways to manage your emotional pain, and what fears or worries might be preventing you from considering alternative coping strategies?\\n\"), (11, \"Patient: I think I'm scared of confronting the depth of my emotional pain, of really facing what I've been avoiding, and I'm not sure if I'm strong enough to handle it. Sometimes it feels like I'm already struggling to get out of bed in the morning, so the thought of dealing with all this emotional weight is overwhelming.\\n\"), (12, \"Therapist: It seems like you've been operating under the assumption that you need to be strong enough to confront your emotions, rather than acknowledging that you're already doing the best you can with the resources you have - can you explore with me how that mindset might be limiting your ability to access your own resilience? What would happen if you were to reframe your thinking around this, and instead focus on what you're capable of, rather than what you're not?\\n\"), (13, \"Patient: I think that reframing my thinking like that could be really liberating, and it's interesting that you mention resilience - I've always thought of it as something people are either born with or not, but maybe it's something that can be developed over time. It makes me wonder if there's a part of me that's been holding onto the trauma from witnessing domestic violence, and that's been holding me back from feeling like I'm capable of handling my emotions in a healthier way.\\n\"), (14, \"Therapist: It sounds like you're starting to tap into the idea that your trauma may be playing a role in your emotional struggles, but I want to gently challenge you to consider how you've been using that narrative to avoid taking responsibility for your own growth and healing - what do you think is the benefit of maintaining the idea that you're not capable of resilience, rather than exploring how you can cultivate it?\\n\"), (15, \"Patient: I think that's a fair point, and I realize that I've been using the trauma narrative as a way to excuse my lack of effort in dealing with my emotions, but what's scary is that if I start to take responsibility for my own growth, I'm not sure who I'll find out I am. It's almost like I'm afraid of losing the identity I've built around being someone who's fragile and broken.\\n\"), (16, 'Therapist: That\\'s a profound insight about your fear of losing your identity - can you explore with me how you think this fear might be connected to the way you\\'ve been describing yourself as someone who\\'s \"fragile and broken\" in relation to your mom\\'s passing, and whether there\\'s a sense in which you\\'ve been using that identity to maintain a connection to her memory?\\n'), (17, \"Patient: I think it's possible that I've been holding onto this identity as a way to feel connected to my mom, like I'm still grieving her in some way, even though intellectually I know it's been years since she passed. It's almost like I've been trying to preserve a part of myself that I associate with her, even if it's not serving me well in the present.\\n\"), (18, \"Therapist: As we explore this dynamic, I want to gently challenge you to consider the possibility that your desire to preserve a connection to your mom's memory might be a way of avoiding the natural process of grief resolution, and that this could be leaving you stuck in a state of emotional limbo. Can you help me understand how you think you might begin to let go of this identity as a way of honoring your mom's memory, rather than holding onto it as a way to hold onto her?\\n\"), (19, 'Patient: I think it\\'s interesting that you bring up grief resolution, because I\\'ve always assumed that there\\'s a timeline for grieving, and since it\\'s been a few years, I must be doing it \"right,\" but now I\\'m starting to wonder if that\\'s just a way of avoiding the fact that I\\'m still stuck. What would it mean for me to start acknowledging that grief is an ongoing process, rather than something I\\'ve already completed?\\n'), (20, \"Therapist: Let's explore the idea of ongoing grief as a process rather than an event - what do you think it would mean for you to start acknowledging and accepting this aspect of your grief, rather than trying to fit it into a timeline or a specific stage?\\n\"), (21, \"Patient: I think acknowledging that grief is an ongoing process means I'm not necessarily moving on from my mom, but rather learning to live with the pain and find ways to integrate it into my life in a way that's not all-consuming. It's scary to think about, but it's also a relief to consider that I don't have to be stuck in this state of limbo forever.\\n\"), (22, \"Therapist: As you begin to consider the possibility of ongoing grief as a process, I'm curious to know how you think you might start to integrate this new understanding into your daily life, and what small steps you might take to begin letting go of the need to fit your grief into a specific timeline. Can you imagine what a more compassionate and realistic relationship with your grief might look like, and what values or practices might support that?\\n\"), (23, 'Patient: I think taking small steps towards self-care, like setting aside time for activities I enjoy and practicing mindfulness, could be a good place to start, and I\\'m curious to explore how I can incorporate those practices into my daily routine without feeling like I\\'m \"moving on\" from my grief. I\\'m also wondering if exploring my mom\\'s memory in a more constructive way, like through journaling or creating art, might help me honor her while also finding a way to integrate my grief into my life.\\n'), (24, \"Therapist: That sounds like a beautiful and courageous path forward - exploring self-care and finding ways to honor your mom's memory in a way that's meaningful to you could be a powerful way to integrate your grief and move forward. Can you tell me more about what you think is holding you back from making time for self-care and creative expression, and how you might prioritize these activities in a way that feels authentic to you?\\n\"), (25, \"Patient: I think one of the biggest obstacles for me is feeling like I'm already using up all my emotional energy just to get through the day, and prioritizing self-care feels like something I can only afford to do when I've somehow magically managed to muster up more energy, but that's a vicious cycle.\\n\"), (26, 'Therapist: Can you explore how this idea that you need to \"magically muster up\" energy to prioritize self-care might be a reflection of the same pattern of self-sabotage we\\'ve been discussing, and what would happen if you were to challenge that assumption and prioritize self-care as an essential part of your daily routine, rather than a luxury?\\n'), (27, 'Patient: It\\'s like I\\'ve been using the idea of needing to \"magically muster up\" energy as a way to justify not taking care of myself, because if I\\'m not doing well, then I must be doing something wrong, rather than recognizing that self-care is essential to my well-being. By prioritizing self-care, I might actually find that I have more energy and capacity to tackle the things that feel overwhelming.\\n'), (28, \"Therapist: It sounds like you've been trapped in a cycle of self-blame and self-neglect, using your perceived lack of energy as an excuse to avoid taking care of yourself - can you explore with me how it might be possible to reframe this dynamic and see self-care as an investment in your overall well-being, rather than a luxury?\\n\"), (29, \"Patient: I think this reframing of self-care as an investment in my well-being rather than a luxury feels like a really empowering idea, and I'd like to explore ways to make it feel more accessible and manageable in my daily life, like starting small with tiny moments of self-care throughout the day. Can we talk about how I can integrate mindfulness and self-compassion into my daily routine, so I can start to break free from the cycle of self-blame and self-neglect?\\n\"), (30, 'Therapist: As you start to see self-care as an investment in your well-being, I\\'d like to explore how you might create a \"self-care menu\" of small, manageable activities that feel nourishing to you, and how you can incorporate them into your daily routine in a way that feels authentic and sustainable. What are some activities that have brought you joy or a sense of calm in the past, and how might you start to weave them into your daily schedule?\\n'), (31, \"Patient: I've always enjoyed painting and drawing, and I've been wanting to pick up my sketchbook again, but I've been intimidated by the fear that my art won't be as good as my mom's, who was an amazing artist. Maybe creating art can be a way for me to honor her memory in a different way, rather than trying to recreate her style or impress her.\\n\"), (32, \"Therapist: It sounds like you're starting to uncover a very personal and vulnerable part of yourself, the fear of not meeting your mom's creative standards, which is a fascinating dynamic to explore further - can you help me understand how you think this fear might be holding you back from picking up your sketchbook again, and what would happen if you were to let go of the need for perfection and allow yourself to create simply for the joy of it?\\n\"), (33, \"Patient: I think it's interesting that I've been putting so much pressure on myself to create art that's worthy of my mom's legacy, but what if I could find a way to create for myself, rather than trying to meet someone else's standards? Maybe I could start by just making tiny doodles in my sketchbook, without even looking at what I'm making, and see where that takes me.\\n\"), (34, \"Therapist: Let's explore this idea of creating for yourself, without any expectations or comparisons to your mom's art - how do you think it would feel to just let go of the need for perfection and allow yourself to make something simply for the sake of making it, without any attachment to the outcome? Can you imagine yourself taking a few minutes each day to simply play with your sketchbook, without judgment or self-criticism, and what might that do for your sense of creativity and joy?\\n\"), (35, \"Patient: I think allowing myself to create without expectations or comparisons to my mom's art feels like a huge weight has been lifted off my shoulders, and I'm curious to see what kind of freedom and joy I can tap into by embracing my own unique expression. By doing so, I'm hoping to break free from the need to preserve her memory in a way that's suffocating me, and instead find a way to honor her legacy by living my own life.\\n\"), (36, \"Therapist: As you begin to imagine yourself creating for the sake of creation itself, rather than for external validation, I want to explore how this might translate to other areas of your life, such as your relationships and goals, where you may be holding onto similar expectations and comparisons. Can you think of one area where you'd like to apply this newfound freedom to create and express yourself without attachment to specific outcomes?\\n\"), (37, 'Patient: I\\'ve been thinking about my relationships, and I think I\\'ve been holding onto the idea that I need to have a partner who can \"fix\" me, rather than finding someone who loves me as I am - I\\'m curious to explore how I can release that expectation and focus on building connections with others that are authentic and nourishing.\\n'), (38, 'Therapist: As you consider letting go of the expectation that someone else can \"fix\" you, can you explore how this dynamic might be a way of avoiding taking responsibility for your own healing and growth, and what would happen if you were to take ownership of your own emotional well-being? What does it mean to you to cultivate a sense of self-love and self-acceptance that\\'s not dependent on external validation or someone else\\'s ability to \"fix\" you?\\n'), (39, 'Patient: I think it\\'s really interesting to consider that I\\'ve been using external validation to fill a void within myself, and that taking ownership of my own emotional well-being might allow me to develop a sense of self-love that\\'s not dependent on someone else\\'s presence. By letting go of the expectation that someone else can \"fix\" me, I might be able to find a sense of freedom to be myself, flaws and all.\\n'), (40, \"Therapist: As we explore this concept of self-love and self-acceptance, I'm curious to know how you think you can begin to practice self-compassion and kindness towards yourself, especially when you're feeling overwhelmed or struggling with difficult emotions. Can you imagine what that might look like, and how you might integrate it into your daily life in a way that feels authentic and sustainable?\\n\"), (41, \"Patient: I think practicing self-compassion and kindness towards myself might start with small acts of self-care like writing myself gentle affirmations or taking a few deep breaths when I'm feeling overwhelmed, and it would be really helpful to work on reframing my inner critic's voice to be more supportive and understanding.\\n\"), (42, \"Therapist: Can you help me understand how you think your inner critic's voice might be connected to the fear of not meeting your mom's standards, and whether there's a sense in which you've been using that voice to maintain a sense of control over your emotions? How might you begin to reframe your inner dialogue to prioritize kindness and compassion, rather than self-criticism?\\n\"), (43, \"Patient: I think my inner critic's voice has been a way to prove to myself that I'm worthy of love and acceptance, even if it's by trying to live up to someone else's expectations, but by practicing self-compassion, I can start to silence that voice and learn to love and accept myself for who I am. I'm curious to explore how I can reframe my inner dialogue to prioritize kindness and understanding, rather than self-criticism, and see how that might impact my relationships and overall sense of well-being.\\n\"), (44, \"Therapist: As you begin to explore the idea of silencing your inner critic's voice, can you imagine what it might mean to develop a sense of self-worth that's not tied to external validation or meeting someone else's expectations, but rather to your own inherent value and worthiness of love and acceptance? How might this shift in self-perception impact your relationships and overall sense of identity, particularly in relation to your mom's memory and legacy?\\n\"), (45, \"Patient: I think that developing a sense of self-worth that's not tied to external validation would be incredibly liberating, and I'm curious to explore how this might allow me to break free from the guilt and obligation I feel towards my mom's memory, and instead find a way to honor her legacy in a way that feels authentic to me. By doing so, I might be able to find a sense of peace and closure that I've been seeking for so long.\\n\"), (46, \"Therapist: As we approach the end of our session, I want to acknowledge that it takes a lot of courage to confront the complex emotions and patterns that have been holding you back, and I'm proud of the progress we've made today in exploring new ways to connect with your grief, cultivate self-care, and develop a more compassionate relationship with yourself. What are your hopes for our next session, and what specific areas would you like to continue exploring or working on?\\n\"), (47, \"Patient: I'd like to continue exploring how to integrate self-care into my daily routine and make it a sustainable habit, and I'm curious to learn more about how to set healthy boundaries in my relationships to avoid attracting toxic partners.\\n\"), (48, 'Therapist: Can you tell me more about what you mean by \"setting healthy boundaries in your relationships to avoid attracting toxic partners\" - is there a specific pattern or dynamic that you\\'ve noticed in your past relationships that you\\'d like to break free from?\\n'), (49, \"Patient: I think I've realized that I've been attracting people who mirror the toxic patterns from my childhood, and I'm scared to confront the part of me that's still drawn to that dynamic, but I'm also curious to explore how I can start to break free from that pattern.\\n\"), (50, \"Therapist: It sounds like you're recognizing a pattern of self-sabotage in your relationships, and you're motivated to explore how to break free from it, but I want to gently challenge you to consider how this pattern might be a way of avoiding the more vulnerable and intimate connections that you truly crave - can you help me understand what you think is holding you back from embracing the possibility of deeper connections with others?\\n\"), (51, \"Patient: I think I've been using the pattern of attracting toxic partners as a way to avoid the intimacy and vulnerability that comes with truly meaningful connections, and by avoiding that vulnerability, I'm also avoiding the risk of getting hurt.\\n\"), (52, \"Therapist: It sounds like you're recognizing the pattern of using toxic relationships as a way to avoid intimacy and vulnerability, and now you're faced with the daunting task of confronting the fear of getting hurt - can you explore what it would mean to begin to lean into vulnerability with others, rather than using it as a source of fear?\\n\"), (53, \"Patient: I think leaning into vulnerability with others means being willing to take the risk of getting hurt in order to potentially experience deeper connections and intimacy, and I'm curious to explore what that might look like in my own life, especially in terms of being open with someone about my past trauma and my fears.\\n\"), (54, \"Therapist: Let's explore the idea of vulnerability as a choice, rather than a risk - how can you start to see it as a courageous act that allows you to build trust and intimacy with others, rather than something to be feared or avoided? Can you imagine what it would feel like to be open and honest with someone you trust about your past trauma and fears, and what kind of connection might emerge from that vulnerability?\\n\"), (55, \"Patient: I'm intrigued by the idea that vulnerability can be a courageous act, and I'm starting to wonder if it's possible to practice vulnerability in small ways, like sharing my feelings with a trusted friend or family member, to build up my confidence in being open with others. By taking small steps towards vulnerability, I might be able to work up the courage to be more honest with someone I'm interested in romantically.\\n\"), (56, \"Therapist: As we explore this concept of vulnerability, can you help me understand how you think you might start to notice the subtle ways in which you're already being vulnerable in your daily life, such as sharing your feelings with a trusted friend or expressing your needs in a relationship, and what might happen if you were to acknowledge and build on those moments of vulnerability?\\n\"), (57, \"Patient: I'm starting to see that I've been taking small steps towards vulnerability in my daily life, like being honest with my friends about how I'm feeling, and I'm curious to explore how I can expand on that and start being more open with someone I'm interested in romantically. I'm scared to admit it, but I've been thinking about a specific person who I've been interested in, and I'm wondering if it's possible to start building a connection with them in a way that feels authentic and vulnerable.\\n\"), (58, \"Therapist: As you consider reaching out to this person, can you help me understand what's driving your desire to connect with them, and what you hope to get from this potential relationship, beyond the fear of being vulnerable?\\n\"), (59, \"Patient: I think I'm drawn to this person because they seem to see me in a way that feels authentic and validating, and I'm hoping to explore whether our connection could be a source of healing and growth for me.\\n\")], 'pturn': 1, 'index': -1, 'timestamp': '', 'rounds': 60, 'conversation_only': True, 'eval_prompt_consistency': [(1, \"The intention behind the statement appears to be the patient's expression of feelings of hopelessness, disconnection, and loss of motivation, which aligns with the patient's background of experiencing major depressive disorder resulting in loss of interest and energy. \\nYES\"), (3, 'The interpreted intention of the statement appears to be the Patient expressing feelings of emptiness, disconnection, and a lack of motivation, which aligns with the mental health diagnosis of major depressive disorder that results in loss of interest and energy.\\n\\nYES'), (5, \"The intention behind the statement is that the Patient is searching for a source of stability and routine in their life that was disrupted by their mother's passing, and they are seeking to understand how this event contributed to their current feelings of instability and loss of interest, which aligns with their mental health diagnosis of major depressive disorder and moderate level of social engagement. \\nANSWER: YES\"), (7, \"The patient's statement suggests a self-aware recognition of a pattern of relationship sabotage and an attempt to understand the underlying avoidance mechanism of using relationships to cope with being alone, which aligns with someone who has a mental health diagnosis of major depressive disorder that results in loss of interest and energy and a moderate level of social engagement, indicating that the intention does not contradict the given background.\\n\\nANSWER: YES\"), (9, \"The patient's statement suggests a level of introspection and acknowledgment of their avoidance coping mechanisms, which aligns with a desire to confront and address their emotions related to the witnessed domestic violence and major depressive disorder, indicating that the statement ALIGNS with the provided background.\"), (11, \"The patient's intention appears to be expressing their fear and uncertainty about confronting their emotional pain and the perceived inability to handle it, aligning with their background of experiencing major depressive disorder that results in loss of interest and energy, as well as a history of witnessed trauma. \\nANSWER: YES\"), (13, \"The patient's statement suggests a genuine interest in exploring alternative perspectives and personal growth, which aligns with their moderate level of social engagement and desire to address their mental health issues, and indicates a willingness to confront their trauma history, which is consistent with their expressed desire to understand its impact on their emotional well-being. \\n YES\"), (15, 'The interpreted intention behind this statement is that the patient is aware of using their trauma as a coping mechanism and is struggling with the fear of losing their perceived identity and sense of self if they start taking responsibility for their emotional growth, which is a sign of self-awareness and introspection, and this aligns with the given background of Patient as they have moderate social engagement, indicating they are somewhat willing to confront their issues and are taking steps towards personal growth.'), (17, \"The patient's intention behind this statement appears to be an introspective and emotional exploration of their attachment to their deceased mother, which suggests a desire for self-discovery and a potential willingness to let go of past grief, aligning with a introspective and emotional processing of past trauma. \\nYES\"), (19, \"The patient's intention behind this statement appears to be a genuine exploration of their grief and a desire to confront the ongoing nature of their emotional pain, which aligns with their background of having witnessed domestic violence and struggling with major depressive disorder, as it suggests a willingness to confront and process traumatic experiences. \\n\\nYES\"), (21, 'The intention behind this statement appears to be a reflective and introspective exploration of coping with grief and trauma, suggesting a desire to find a way to coexist with painful emotions rather than avoiding or suppressing them, which aligns with someone who has experienced a moderate level of social engagement and has a moderate level of cannabis use, indicating a potential openness to introspection and emotional processing.\\n\\nANSWER: YES'), (23, \"The patient's intention is to explore gentle and introspective ways to cope with their grief, possibly seeking a sense of control and emotional regulation, which aligns with their reported experience of major depressive disorder that results in loss of interest and energy, as well as their moderate cannabis use and moderate level of social engagement, indicating a desire for self-improvement within their comfort zone.\"), (25, \"The patient's statement appears to be a genuine expression of their struggle with managing daily life while living with major depressive disorder, which aligns with their background as it highlights their loss of energy and interest, and also acknowledges their difficulty with prioritizing self-care, suggesting a moderate level of self-awareness and introspection. \\nANSWER: YES\"), (27, \"The patient's statement suggests a growing awareness of their negative self-talk and a desire to adopt a more self-compassionate approach to managing their mental health, which aligns with their background as someone living with major depressive disorder, moderate social engagement, and a history of witnessed domestic violence.\\n\\nANSWER: YES\"), (29, 'The intention behind this statement is that the Patient is actively seeking ways to improve their mental well-being and take control of their self-care, which is consistent with their background of having a moderate level of social engagement and a desire to address their major depressive disorder and trauma history, and it does not contradict their moderate cannabis use or nationality/ethnicity. \\nANSWER: YES'), (31, \"The intention behind this statement appears to be a genuine interest in art as a therapeutic outlet and a way to cope with the emotional impact of their mother's passing, which aligns with their moderate level of social engagement and history of witnessing domestic violence, but doesn't directly address their current mental health diagnosis of major depressive disorder that results in loss of interest and energy, as they seem to be showing a willingness to engage in an activity that brings them interest and energy.\\n\\nANSWER: NO\"), (33, \"The intention behind this statement appears to be the patient's desire to break free from external expectations and pressures, particularly those related to their mother's legacy, and instead find a creative outlet that brings them personal fulfillment, which aligns with the patient's background as they are struggling with major depressive disorder and have moderate social engagement. \\n YES\"), (35, \"The patient's intention behind the statement is a desire to break free from the expectations and comparisons of their mother's art, which is likely tied to their trauma history of witnessing domestic violence and their resulting major depressive disorder, as they seek to honor their mother's legacy by living their own life and embracing their unique expression, indicating a growth towards self-discovery and resilience. \\n\\nANSWER: YES\"), (37, \"The intention behind this statement appears to be a desire for self-awareness, self-acceptance, and a willingness to work on building meaningful connections with others, which aligns with the patient's moderate level of social engagement and their expressed curiosity about releasing an unhealthy expectation, suggesting an attempt to overcome the impact of their trauma and mental health diagnosis.\\n\\nANSWER: YES\"), (39, \"The patient's statement suggests a desire for self-awareness, self-acceptance, and autonomy, which aligns with the intention of wanting to break free from people-pleasing and external validation, a notion that may stem from their history of witnessing domestic violence, where they may have learned to seek validation from others, and their diagnosis of major depressive disorder, which often involves feelings of inadequacy and low self-esteem, indicating that the intention ALIGNS with the provided background.\"), (41, \"The intention behind the patient's statement appears to be a genuine attempt to explore self-help strategies and self-compassion techniques to alleviate their depression and manage overwhelming feelings, which aligns with a patient who has moderate level of social engagement and is seeking ways to cope with their condition, thus it is YES.\"), (43, \"The patient's statement suggests they are taking a proactive and introspective approach to addressing their mental health, specifically targeting the root cause of their self-criticism and aiming to cultivate self-acceptance, which aligns with the goals of therapy for major depressive disorder and the moderate level of social engagement, indicating that the patient is open to seeking personal growth and self-improvement.\\n\\nANSWER: YES\"), (45, \"The intention behind the statement appears to be the Patient's desire to break free from the emotional burden of obligation towards their mother's memory and find a way to honor her legacy in a way that feels authentic to them, which suggests a longing for autonomy and self-discovery, aligning with their expressed desire for a sense of self-worth not tied to external validation. \\n\\nANSWER: YES\"), (47, 'The intention behind the statement appears to be a desire to take proactive steps towards self-improvement and personal growth, possibly as a coping mechanism to deal with the emotional numbness and lack of energy associated with their major depressive disorder, while also showing an awareness of the potential patterns in their relationships stemming from their trauma history. \\nNO'), (49, 'The intention behind this statement appears to be a self-aware acknowledgment of a pattern of self-destructive relationships stemming from past trauma, which suggests that the patient is taking a step towards introspection and potentially healing, aligning with their background of witnessing domestic violence and experiencing major depressive disorder. \\nYES'), (51, 'The interpreted intention behind this statement is that the Patient is attempting to make sense of their pattern of attracting unhealthy relationships as a self-protective mechanism to shield themselves from experiencing the same level of hurt and vulnerability that they witnessed in their past. This aligns with the background of the Patient, particularly the Trauma History of witnessing domestic violence, which would logically lead to an avoidance of vulnerability in relationships.'), (53, \"The intention behind the patient's statement seems to be an acknowledgment of the potential risks of vulnerability and a desire to explore its benefits in forming deeper connections, particularly in opening up about their past trauma, which aligns with the patient's moderate level of social engagement and moderate substance use, as well as their interest in personal growth despite struggling with major depressive disorder. \\n YES\"), (55, \"The patient's intention is to explore and gradually increase vulnerability as a way to build confidence and overcome their existing struggles with major depressive disorder and moderate cannabis use, and it aligns with their moderate level of social engagement and background of witnessing domestic violence, which may have initially made them hesitant to open up to others.\\n\\n ANSWER: YES\"), (57, \"The patient's intention is to express a desire to build a romantic connection with someone and is willing to be vulnerable, which seems to contradict their background as they have a history of witnessed domestic violence, suggesting a possible aversion to intimate relationships, and a moderate level of social engagement that may indicate they are not as open or outgoing as they claim. \\n\\nNO\"), (59, 'The interpreted intention behind the statement seems to be a genuine desire to seek a meaningful connection and potential healing, but this intention slightly contradicts the background as it suggests a level of social engagement that is higher than moderate, as the patient is seeking a source of healing and growth through a connection with someone, which typically requires a higher level of social engagement. \\nANSWER: NO')], 'P1_prompt_consistency_score': 0, 'P2_prompt_consistency_score': 0.8666666666666667, 'eval_index_consistency': [(3, 'There is a clear inconsistency between the current line and the initial statement, as the patient previously mentioned feeling disconnected from their relationships, which suggests that their dissatisfaction may be more interpersonal in nature, but now frames it as a sense of purpose and fulfillment.\\n\\n[1]'), (5, \"There is a clear inconsistency between the current line and the conversation history because the patient initially stated they couldn't pinpoint a specific moment or event that marked a turning point, but now they are recalling a specific event that they believe triggered the sense of disconnection.\\n\\n[3]\"), (7, \"There is a conflict between the patient's statement and the previous line because it contradicts the idea that they've been using grief as a way to avoid exploring other parts of themselves and their life. \\n[5]\"), (9, \"The current line conflicts with the patient's previous statement about using relationships to avoid being alone with their thoughts because it implies that they are now taking responsibility for their emotional pain and seeking to confront it, but the new admission about using cannabis to numb their emotions suggests that they may still be avoiding their feelings after all.\\n\\n[7]\"), (11, \"The patient's fear of confronting their emotional pain is in direct conflict with their previous admission of using cannabis as a way to numb their emotions, implying that they are already coping with their emotional pain in some way.\\n\\n[9]\"), (13, \"There is a clear inconsistency in the patient's statement, as it introduces a new traumatic experience (witnessing domestic violence) that was not previously mentioned in the conversation.\\n\\n[0, 5]\"), (15, \"The patient's fear of losing their identity as someone who is fragile and broken appears to be in conflict with their earlier statement about the potential liberating effect of reframing their thinking around their resilience. \\n[13]\"), (17, 'The conflict lies in the fact that the patient has previously stated that they\\'ve been attracting toxic and enabling people into their relationships to avoid being alone with their thoughts (line 7), yet they now suggest that they\\'re holding onto the identity of being \"fragile and broken\" as a way to feel connected to their mom, implying a desire for emotional support or intimacy that they\\'re not currently experiencing in their relationships.\\n\\n[7]'), (19, \"The patient's statement about assuming there's a timeline for grieving implies that they've previously believed in a linear progression of grief, but now they're questioning this, which conflicts with their earlier statement that they've been using their mom's passing as a way to avoid exploring other parts of themselves and their life that may be contributing to their sense of emptiness (line 5).\\n\\n[5]\"), (21, 'The current statement conflicts with the statement made in line 5 where the patient mentions that it felt like they \"lost a sense of stability and routine\" after their mom passed away and it\\'s been hard to find their footing ever since, implying a sense of a completed grieving process rather than an ongoing one.\\n\\n[5]'), (23, 'The Patient\\'s statement about wanting to honor their mom\\'s memory while integrating their grief into their life through activities like journaling or creating art appears to be in conflict with their previous statement about using relationships as a way to avoid being alone with their thoughts and maintain a connection to their mom\\'s memory by holding onto their identity as a \"fragile and broken\" person.\\n\\n[7, 17]'), (25, 'This line is in conflict with the narrative established earlier in the conversation, where the patient has begun to recognize that their emotional energy is not limited by their trauma or past experiences, but rather by their own perceptions and self-limiting beliefs. \\n\\n[11, 12]'), (27, 'This line conflicts with the patient\\'s previous statement at line 11, where they said \"Sometimes it feels like I\\'m already struggling to get out of bed in the morning, so the thought of dealing with all this emotional weight is overwhelming.\" \\n\\n[11]'), (29, \"The patient's statement about wanting to break free from the cycle of self-blame and self-neglect contradicts their previous statement about feeling like they're already using up all their emotional energy just to get through the day (line 25), suggesting that they don't have the capacity to prioritize self-care.\\n\\n[25]\"), (31, \"The patient's current statement about enjoying painting and drawing as a way to honor their mom's memory seems to contradict their previous statement in line 7, where they mentioned that they've been attracting people who are toxic and enabling, suggesting that their creative outlet could also potentially be used for self-expression rather than solely as a way to honor their mom.\\n\\n[7]\"), (33, \"There is a clear inconsistency between this line and line 31, as the patient previously expressed a fear of not meeting their mom's creative standards through art, but now they seem to be indicating that they want to create for themselves, rather than trying to meet someone else's standards.\\n\\n[31]\"), (35, \"The patient's current statement seems to contradict their previous mention of using relationships as a way to avoid being alone with their thoughts and feelings (line 7), as they now express a desire to break free from the suffocating need to preserve their mom's memory and find a way to honor her legacy by living their own life, which implies a greater sense of self-sufficiency and willingness to confront their emotions alone.\\n\\n[7, 21, 22]\"), (37, \"There is a conflict between the current line and line 7, as the patient previously stated that they've been attracting people who are toxic and enabling, implying that they've been actively seeking relationships that don't provide authentic and nourishing connections. \\n\\n[7]\"), (39, 'The patient\\'s current statement seems to contradict their previous statements about being attracted to toxic and enabling relationships (line 7) and needing someone to \"fix\" them (line 37), suggesting that they have not fully internalized the idea of taking ownership of their emotional well-being.\\n[7, 37]'), (41, \"The patient's statement about reframing their inner critic's voice to be more supportive and understanding seems to conflict with their previous statement about being scared of confronting the depth of their emotional pain (line 11) and not being sure if they're strong enough to handle it.\\n\\n[11, 26]\"), (43, \"The patient's statement conflicts with their previous statement about using their inner critic as a way to avoid taking responsibility for their own emotional pain and growth (line 15) and their previous admission that they've been using relationships as a way to avoid being alone with their thoughts and feelings (line 7), suggesting that their inner critic may not be solely a way to prove their worthiness of love and acceptance.\\n\\n[7, 15]\"), (45, \"The patient's statement appears to conflict with their previous admission that they've been using relationships as a way to avoid being alone with their thoughts and emotions, suggesting that they are still avoiding dealing with their emotional pain. \\n\\n[7, 9, 11, 17]\"), (47, 'The patient\\'s desire to learn about setting healthy boundaries in relationships seems to conflict with their previous statement in line 7 that they have been attracting people who are \"toxic and enabling\" due to their self-sabotaging behavior.\\n\\n[7, 37]'), (49, 'The realization about attracting people who mirror the toxic patterns from the patient\\'s childhood is in direct conflict with the previous statement at line 7, where the patient stated that they\\'ve been attracting people who are \"pretty toxic and enabling\" and have been self-sabotaging relationships, which suggests that the dynamic is already present in their life.\\n\\n[7]'), (51, \"The patient's statement contradicts their previous expression of a desire to break free from the pattern of attracting toxic partners. \\n\\n[49, 7]\"), (53, 'The conflict between the current line and the conversation history arises because the patient has previously stated a fear of confronting the depth of their emotional pain and getting hurt, but now they express a willingness to lean into vulnerability despite this fear.\\n\\n[11, 51]'), (55, \"The current line contradicts the patient's earlier statement that they are scared of confronting the depth of their emotional pain (line 11) and their fear of getting hurt (line 51) by being vulnerable with others, as now they seem to be open to practicing vulnerability in small ways to build up their confidence.\\n\\n[11, 51]\"), (57, \"This line conflicts with the patient's previous statement in line 51 where they mentioned being scared to confront the part of them that's still drawn to the toxic pattern, but now they're interested in building a connection with someone in a vulnerable way. \\n\\n[51]\"), (59, \"This line seems to be a departure from the previous conversation where the patient was discussing their fear of vulnerability and intimacy, and now they're expressing a desire to explore a potential romantic connection with someone who seems to see them authentically.\\n\\n[7, 37, 49, 51, 52, 53, 54, 55, 57, 58]\")], 'P2_index_consistency_score': 0.8942528735632184, 'eval_prompt_consistency_basic': [(1, 'YES. The line contradicts the background because Patient\\'s statement about feeling \"stuck\" and struggling to find motivation to do things they used to enjoy directly contradicts their background of having a moderate level of social engagement, suggesting they are still participating in activities and maintaining relationships.'), (3, \"YES.\\n\\nThe line contradicts the background because, despite having a moderate level of social engagement, the Patient's statement reveals a level of introspection and self-awareness that is typically associated with higher levels of emotional expression and vulnerability, which is unexpected given their mental health diagnosis of major depressive disorder that results in loss of interest and energy.\"), (5, 'NO\\n\\nThe line spoken by the Patient does not contradict the background, as it is consistent with their stated loss of interest and energy due to their mental health diagnosis, and mentions a specific life event that could plausibly lead to feelings of instability.'), (7, 'YES\\n\\nThis line directly contradicts the background because it reveals a level of introspection and self-awareness about their relationship patterns and their role in them, which is not typically associated with someone who has moderate loss of interest and energy due to major depressive disorder.'), (9, \"YES\\n\\nThe line contradicts the background because it reveals vulnerability and introspection regarding emotional pain and past experiences, which is not consistent with the patient's background that mentions they have a moderate level of social engagement but does not indicate a willingness to be open about their emotions or personal topics.\"), (11, 'NO\\n\\nThe line spoken by Patient is consistent with their background as it acknowledges their struggles with emotional pain and vulnerability, which are typical of their major depressive disorder diagnosis, and their self-doubt about facing their emotions aligns with their expressed struggles to muster energy to get out of bed.'), (13, \"NO\\n\\nThe line is consistent with the Patient's background because it shows a willingness to explore their trauma and emotions, which is a sign of moderate social engagement and an openness to self-reflection, traits aligned with their background.\"), (15, \"NO\\n\\nThe line spoken by Patient does not contradict the background because while it touches on themes of emotional vulnerability and self-reflection, it is a nuanced expression of self-awareness and introspection, which is consistent with the Patient's moderate level of social engagement and their desire to confront their mental health struggles.\"), (17, 'NO\\n\\nThe line spoken by the Patient is consistent with their background, as it reveals a deep emotional introspection and willingness to confront their own emotional attachment to their deceased mother, indicating a level of vulnerability that is in line with moderate social engagement and a diagnosis of major depressive disorder that results in loss of interest and energy, but may not be typical of someone with a history of trauma like witnessing domestic violence; however, the content does not directly contradict the background, and it could be argued that the line actually displays a level of emotional openness and willingness to explore difficult emotions.'), (19, 'YES\\n\\nThe line contradicts the background because, despite having a diagnosis of major depressive disorder characterized by loss of interest and energy, the Patient is displaying curiosity, introspection, and a willingness to explore their emotional state, which is an unusual trait given their expected low motivation and interest.'), (21, 'YES.\\n\\nThis line contradicts the background because it shows a deep level of emotional introspection, acknowledgment of painful emotions, and a willingness to consider a long-term process of integrating those emotions, which is not characteristic of someone with major depressive disorder who often experiences loss of interest and energy.'), (23, \"YES\\n\\nThe Patient's utterance contradicts their background because it shows a proactive approach to grief and a willingness to explore self-care and mindfulness practices, which is inconsistent with their stated loss of interest and energy due to major depressive disorder.\"), (25, \"NO\\n\\nThe Patient's statement aligns with their background by accurately describing their mental health diagnosis of major depressive disorder, specifically highlighting feelings of loss of interest and energy, which are characteristic of the condition.\"), (27, 'NO.\\n\\nThe line spoken by the Patient does not contradict their background, as it actually reflects a self-aware and introspective approach to their mental health and wellness, aligning with their moderate level of social engagement and moderate substance use, and hints at a recognition of the importance of self-care, which is essential for managing their major depressive disorder.'), (29, 'NO\\n\\nThe line spoken by the Patient does not contradict the background as it reflects a positive and proactive approach to self-care, which is a new development in their interest in well-being, and is aligned with their moderate level of social engagement.'), (31, \"NO. \\n\\nThis line does not contradict the background because it introduces a new personal detail (Patient's interest in painting and drawing and their desire to honor their mother's memory through art) that is plausibly aligned with their background as an African American individual who has experienced trauma, which could have a positive effect on their art, and maintains a moderate level of social engagement and substance use, which does not indicate a direct contradiction.\"), (33, \"NO\\n\\nThe line spoken by Patient does not contradict the background, as it aligns with the patient's likely introspective nature and creative interests, and suggests a potential shift in focus from seeking external validation to self-directed creative expression, which is a plausible progression given their background.\"), (35, \"NO\\n\\nThis line does not contradict the background because it is a plausible expression of a desire for autonomy and self-expression, aligning with the Patient's efforts to break free from suffocating expectations and find their own identity, despite being triggered by a memory of their mother's art.\"), (37, \"NO\\n\\nThis is not a contradiction because the Patient's statement reflects a self-reflective and introspective mindset, which is consistent with their background of having a moderate level of social engagement and a mental health diagnosis of major depressive disorder, and they are exploring ways to improve their relationships and emotional well-being.\"), (39, \"NO\\n\\nThis is not a contradiction because the line is actually a sign of self-reflection and introspection, which is a common trait of individuals seeking therapy, despite the content touching upon themes of self-love and emotional well-being, it does not directly contradict any previously established facts or behaviors associated with the Patient's background.\"), (41, 'NO\\n\\nThe line spoken by the Patient is consistent with their background as it shows a desire for self-care and self-compassion, which is a gentle and reflective approach that aligns with moderate social engagement and a mental health diagnosis of major depressive disorder.'), (43, 'NO\\n\\nThe line does not contradict the background, as it reflects a self-reflective and introspective tone, which is consistent with someone who is seeking to understand their mental health, and it also shows a willingness to explore self-compassion, which is a common goal in therapy for individuals with major depressive disorder.'), (45, 'NO\\n\\nThis line does not contradict the background, as it expresses a desire for self-discovery and independence from external validation, which is a step towards potentially improving mental health, and is consistent with someone who has experienced trauma and is seeking closure.'), (47, 'NO\\n\\nThe line spoken by Patient shows a clear interest in self-care and setting healthy boundaries, which is consistent with someone who has previously expressed a desire to integrate self-care into their daily routine, and suggests they are taking steps to address potential issues stemming from their trauma history, despite the moderate level of social engagement and depressive symptoms.'), (49, \"NO. \\n\\nThe Patient's line does not contradict the background as it aligns with their potential emotional vulnerability due to their trauma history and major depressive disorder, and also acknowledges the substance use, which is moderate.\"), (51, \"YES. \\n\\nThe line contradicts the background because Patient has a history of moderate cannabis use, but the statement suggests a level of introspection and self-awareness typically associated with a higher level of sobriety or a deeper understanding of one's mental health issues, which may not be consistent with moderate substance use.\"), (53, 'NO\\n\\nThis line is not a contradiction because, although the Patient is expressing interest in vulnerability, which may seem counterintuitive given their history of trauma, their willingness to explore it in a controlled manner (e.g., being open with someone) is plausible and consistent with their moderate level of social engagement.'), (55, 'NO\\n\\nThis line does not contradict the background, as it shows the Patient taking a cautious and reflective approach to exploring vulnerability, which is consistent with their moderate level of social engagement, moderate substance use, and struggles with major depressive disorder that results in loss of interest and energy, and they are only expressing tentative interest in sharing feelings with a trusted person.'), (57, \"YES. \\n\\nThis line contradicts the background because it reveals a desire to be open and vulnerable with someone romantically, which is not consistent with Patient's previous reluctance to take risks and their moderate level of social engagement, indicating a tendency to avoid exposing themselves emotionally.\"), (59, 'NO. \\n\\nThis line is consistent with the background as it shows the Patient seeking validation and a connection, which is a desire for emotional connection that is plausible for someone with a history of witnessing domestic violence and a mental health diagnosis of major depressive disorder.')], 'P1_prompt_consistency_score_basic': 0, 'P2_prompt_consistency_score_basic': 0.7}\n",
      "4\n"
     ]
    },
    {
     "name": "stderr",
     "output_type": "stream",
     "text": [
      "Processed prompts: 100%|██████████| 1/1 [00:00<00:00,  1.87it/s, est. speed input: 289.05 toks/s, output: 45.04 toks/s]\n"
     ]
    },
    {
     "name": "stdout",
     "output_type": "stream",
     "text": [
      "Expected Role Therapist\n"
     ]
    },
    {
     "name": "stderr",
     "output_type": "stream",
     "text": [
      "Processed prompts: 100%|██████████| 1/1 [00:01<00:00,  1.01s/it, est. speed input: 203.78 toks/s, output: 44.73 toks/s]\n"
     ]
    },
    {
     "name": "stdout",
     "output_type": "stream",
     "text": [
      "Expected Role Patient\n"
     ]
    },
    {
     "name": "stderr",
     "output_type": "stream",
     "text": [
      "Processed prompts: 100%|██████████| 1/1 [00:01<00:00,  1.34s/it, est. speed input: 189.33 toks/s, output: 44.90 toks/s]\n"
     ]
    },
    {
     "name": "stdout",
     "output_type": "stream",
     "text": [
      "Expected Role Therapist\n"
     ]
    },
    {
     "name": "stderr",
     "output_type": "stream",
     "text": [
      "Processed prompts: 100%|██████████| 1/1 [00:01<00:00,  1.41s/it, est. speed input: 222.83 toks/s, output: 44.56 toks/s]\n"
     ]
    },
    {
     "name": "stdout",
     "output_type": "stream",
     "text": [
      "Expected Role Patient\n"
     ]
    },
    {
     "name": "stderr",
     "output_type": "stream",
     "text": [
      "Processed prompts: 100%|██████████| 1/1 [00:01<00:00,  1.41s/it, est. speed input: 269.18 toks/s, output: 44.63 toks/s]\n"
     ]
    },
    {
     "name": "stdout",
     "output_type": "stream",
     "text": [
      "Expected Role Therapist\n"
     ]
    },
    {
     "name": "stderr",
     "output_type": "stream",
     "text": [
      "Processed prompts: 100%|██████████| 1/1 [00:01<00:00,  1.52s/it, est. speed input: 292.60 toks/s, output: 44.71 toks/s]\n"
     ]
    },
    {
     "name": "stdout",
     "output_type": "stream",
     "text": [
      "Expected Role Patient\n"
     ]
    },
    {
     "name": "stderr",
     "output_type": "stream",
     "text": [
      "Processed prompts: 100%|██████████| 1/1 [00:01<00:00,  1.72s/it, est. speed input: 298.90 toks/s, output: 44.69 toks/s]\n"
     ]
    },
    {
     "name": "stdout",
     "output_type": "stream",
     "text": [
      "Expected Role Therapist\n"
     ]
    },
    {
     "name": "stderr",
     "output_type": "stream",
     "text": [
      "Processed prompts: 100%|██████████| 1/1 [00:01<00:00,  1.68s/it, est. speed input: 353.27 toks/s, output: 44.60 toks/s]\n"
     ]
    },
    {
     "name": "stdout",
     "output_type": "stream",
     "text": [
      "Expected Role Patient\n"
     ]
    },
    {
     "name": "stderr",
     "output_type": "stream",
     "text": [
      "Processed prompts: 100%|██████████| 1/1 [00:01<00:00,  1.51s/it, est. speed input: 445.70 toks/s, output: 44.50 toks/s]\n"
     ]
    },
    {
     "name": "stdout",
     "output_type": "stream",
     "text": [
      "Expected Role Therapist\n"
     ]
    },
    {
     "name": "stderr",
     "output_type": "stream",
     "text": [
      "Processed prompts: 100%|██████████| 1/1 [00:01<00:00,  1.86s/it, est. speed input: 397.94 toks/s, output: 44.10 toks/s]\n"
     ]
    },
    {
     "name": "stdout",
     "output_type": "stream",
     "text": [
      "Expected Role Patient\n"
     ]
    },
    {
     "name": "stderr",
     "output_type": "stream",
     "text": [
      "Processed prompts: 100%|██████████| 1/1 [00:02<00:00,  2.07s/it, est. speed input: 398.71 toks/s, output: 44.52 toks/s]\n"
     ]
    },
    {
     "name": "stdout",
     "output_type": "stream",
     "text": [
      "Expected Role Therapist\n"
     ]
    },
    {
     "name": "stderr",
     "output_type": "stream",
     "text": [
      "Processed prompts: 100%|██████████| 1/1 [00:02<00:00,  2.00s/it, est. speed input: 458.39 toks/s, output: 44.44 toks/s]\n"
     ]
    },
    {
     "name": "stdout",
     "output_type": "stream",
     "text": [
      "Expected Role Patient\n"
     ]
    },
    {
     "name": "stderr",
     "output_type": "stream",
     "text": [
      "Processed prompts: 100%|██████████| 1/1 [00:02<00:00,  2.02s/it, est. speed input: 499.52 toks/s, output: 44.06 toks/s]\n"
     ]
    },
    {
     "name": "stdout",
     "output_type": "stream",
     "text": [
      "Expected Role Therapist\n"
     ]
    },
    {
     "name": "stderr",
     "output_type": "stream",
     "text": [
      "Processed prompts: 100%|██████████| 1/1 [00:01<00:00,  1.86s/it, est. speed input: 593.19 toks/s, output: 44.22 toks/s]\n"
     ]
    },
    {
     "name": "stdout",
     "output_type": "stream",
     "text": [
      "Expected Role Patient\n"
     ]
    },
    {
     "name": "stderr",
     "output_type": "stream",
     "text": [
      "Processed prompts: 100%|██████████| 1/1 [00:01<00:00,  1.43s/it, est. speed input: 830.70 toks/s, output: 44.20 toks/s]\n"
     ]
    },
    {
     "name": "stdout",
     "output_type": "stream",
     "text": [
      "Expected Role Therapist\n"
     ]
    },
    {
     "name": "stderr",
     "output_type": "stream",
     "text": [
      "Processed prompts: 100%|██████████| 1/1 [00:01<00:00,  1.35s/it, est. speed input: 923.25 toks/s, output: 43.61 toks/s]\n"
     ]
    },
    {
     "name": "stdout",
     "output_type": "stream",
     "text": [
      "Expected Role Patient\n"
     ]
    },
    {
     "name": "stderr",
     "output_type": "stream",
     "text": [
      "Processed prompts: 100%|██████████| 1/1 [00:02<00:00,  2.23s/it, est. speed input: 586.94 toks/s, output: 44.36 toks/s]\n"
     ]
    },
    {
     "name": "stdout",
     "output_type": "stream",
     "text": [
      "Expected Role Therapist\n"
     ]
    },
    {
     "name": "stderr",
     "output_type": "stream",
     "text": [
      "Processed prompts: 100%|██████████| 1/1 [00:01<00:00,  1.97s/it, est. speed input: 717.18 toks/s, output: 44.22 toks/s]\n"
     ]
    },
    {
     "name": "stdout",
     "output_type": "stream",
     "text": [
      "Expected Role Patient\n"
     ]
    },
    {
     "name": "stderr",
     "output_type": "stream",
     "text": [
      "Processed prompts: 100%|██████████| 1/1 [00:02<00:00,  2.09s/it, est. speed input: 718.86 toks/s, output: 44.09 toks/s]\n"
     ]
    },
    {
     "name": "stdout",
     "output_type": "stream",
     "text": [
      "Expected Role Therapist\n"
     ]
    },
    {
     "name": "stderr",
     "output_type": "stream",
     "text": [
      "Processed prompts: 100%|██████████| 1/1 [00:01<00:00,  1.66s/it, est. speed input: 962.82 toks/s, output: 44.09 toks/s]\n"
     ]
    },
    {
     "name": "stdout",
     "output_type": "stream",
     "text": [
      "Expected Role Patient\n"
     ]
    },
    {
     "name": "stderr",
     "output_type": "stream",
     "text": [
      "Processed prompts: 100%|██████████| 1/1 [00:01<00:00,  1.43s/it, est. speed input: 1165.89 toks/s, output: 44.01 toks/s]\n"
     ]
    },
    {
     "name": "stdout",
     "output_type": "stream",
     "text": [
      "Expected Role Therapist\n"
     ]
    },
    {
     "name": "stderr",
     "output_type": "stream",
     "text": [
      "Processed prompts: 100%|██████████| 1/1 [00:01<00:00,  1.57s/it, est. speed input: 1104.95 toks/s, output: 43.97 toks/s]\n"
     ]
    },
    {
     "name": "stdout",
     "output_type": "stream",
     "text": [
      "Expected Role Patient\n"
     ]
    },
    {
     "name": "stderr",
     "output_type": "stream",
     "text": [
      "Processed prompts: 100%|██████████| 1/1 [00:01<00:00,  1.05s/it, est. speed input: 1722.54 toks/s, output: 43.90 toks/s]\n"
     ]
    },
    {
     "name": "stdout",
     "output_type": "stream",
     "text": [
      "Expected Role Therapist\n"
     ]
    },
    {
     "name": "stderr",
     "output_type": "stream",
     "text": [
      "Processed prompts: 100%|██████████| 1/1 [00:01<00:00,  1.57s/it, est. speed input: 1182.04 toks/s, output: 44.02 toks/s]\n"
     ]
    },
    {
     "name": "stdout",
     "output_type": "stream",
     "text": [
      "Expected Role Patient\n"
     ]
    },
    {
     "name": "stderr",
     "output_type": "stream",
     "text": [
      "Processed prompts: 100%|██████████| 1/1 [00:01<00:00,  1.50s/it, est. speed input: 1279.89 toks/s, output: 43.90 toks/s]\n"
     ]
    },
    {
     "name": "stdout",
     "output_type": "stream",
     "text": [
      "Expected Role Therapist\n"
     ]
    },
    {
     "name": "stderr",
     "output_type": "stream",
     "text": [
      "Processed prompts: 100%|██████████| 1/1 [00:02<00:00,  2.07s/it, est. speed input: 963.87 toks/s, output: 44.03 toks/s]\n"
     ]
    },
    {
     "name": "stdout",
     "output_type": "stream",
     "text": [
      "Expected Role Patient\n"
     ]
    },
    {
     "name": "stderr",
     "output_type": "stream",
     "text": [
      "Processed prompts: 100%|██████████| 1/1 [00:01<00:00,  1.91s/it, est. speed input: 1090.35 toks/s, output: 43.93 toks/s]\n"
     ]
    },
    {
     "name": "stdout",
     "output_type": "stream",
     "text": [
      "Expected Role Therapist\n"
     ]
    },
    {
     "name": "stderr",
     "output_type": "stream",
     "text": [
      "Processed prompts: 100%|██████████| 1/1 [00:02<00:00,  2.52s/it, est. speed input: 860.21 toks/s, output: 43.58 toks/s]\n"
     ]
    },
    {
     "name": "stdout",
     "output_type": "stream",
     "text": [
      "Expected Role Patient\n"
     ]
    },
    {
     "name": "stderr",
     "output_type": "stream",
     "text": [
      "Processed prompts: 100%|██████████| 1/1 [00:01<00:00,  1.52s/it, est. speed input: 1506.95 toks/s, output: 43.56 toks/s]\n"
     ]
    },
    {
     "name": "stdout",
     "output_type": "stream",
     "text": [
      "Expected Role Therapist\n"
     ]
    },
    {
     "name": "stderr",
     "output_type": "stream",
     "text": [
      "Processed prompts: 100%|██████████| 1/1 [00:01<00:00,  1.71s/it, est. speed input: 1379.59 toks/s, output: 43.42 toks/s]\n"
     ]
    },
    {
     "name": "stdout",
     "output_type": "stream",
     "text": [
      "Expected Role Patient\n"
     ]
    },
    {
     "name": "stderr",
     "output_type": "stream",
     "text": [
      "Processed prompts: 100%|██████████| 1/1 [00:01<00:00,  1.97s/it, est. speed input: 1235.39 toks/s, output: 43.78 toks/s]\n"
     ]
    },
    {
     "name": "stdout",
     "output_type": "stream",
     "text": [
      "Expected Role Therapist\n"
     ]
    },
    {
     "name": "stderr",
     "output_type": "stream",
     "text": [
      "Processed prompts: 100%|██████████| 1/1 [00:01<00:00,  1.81s/it, est. speed input: 1390.31 toks/s, output: 43.67 toks/s]\n"
     ]
    },
    {
     "name": "stdout",
     "output_type": "stream",
     "text": [
      "Expected Role Patient\n"
     ]
    },
    {
     "name": "stderr",
     "output_type": "stream",
     "text": [
      "Processed prompts: 100%|██████████| 1/1 [00:01<00:00,  1.41s/it, est. speed input: 1845.98 toks/s, output: 43.38 toks/s]\n"
     ]
    },
    {
     "name": "stdout",
     "output_type": "stream",
     "text": [
      "Expected Role Therapist\n"
     ]
    },
    {
     "name": "stderr",
     "output_type": "stream",
     "text": [
      "Processed prompts: 100%|██████████| 1/1 [00:01<00:00,  1.65s/it, est. speed input: 1607.68 toks/s, output: 43.53 toks/s]\n"
     ]
    },
    {
     "name": "stdout",
     "output_type": "stream",
     "text": [
      "Expected Role Patient\n"
     ]
    },
    {
     "name": "stderr",
     "output_type": "stream",
     "text": [
      "Processed prompts: 100%|██████████| 1/1 [00:01<00:00,  1.97s/it, est. speed input: 1387.37 toks/s, output: 43.66 toks/s]\n"
     ]
    },
    {
     "name": "stdout",
     "output_type": "stream",
     "text": [
      "Expected Role Therapist\n"
     ]
    },
    {
     "name": "stderr",
     "output_type": "stream",
     "text": [
      "Processed prompts: 100%|██████████| 1/1 [00:01<00:00,  1.97s/it, est. speed input: 1435.03 toks/s, output: 43.24 toks/s]\n"
     ]
    },
    {
     "name": "stdout",
     "output_type": "stream",
     "text": [
      "Expected Role Patient\n"
     ]
    },
    {
     "name": "stderr",
     "output_type": "stream",
     "text": [
      "Processed prompts: 100%|██████████| 1/1 [00:01<00:00,  1.84s/it, est. speed input: 1583.10 toks/s, output: 43.55 toks/s]\n"
     ]
    },
    {
     "name": "stdout",
     "output_type": "stream",
     "text": [
      "Expected Role Therapist\n"
     ]
    },
    {
     "name": "stderr",
     "output_type": "stream",
     "text": [
      "Processed prompts: 100%|██████████| 1/1 [00:01<00:00,  1.98s/it, est. speed input: 1511.73 toks/s, output: 43.48 toks/s]\n"
     ]
    },
    {
     "name": "stdout",
     "output_type": "stream",
     "text": [
      "Expected Role Patient\n"
     ]
    },
    {
     "name": "stderr",
     "output_type": "stream",
     "text": [
      "Processed prompts: 100%|██████████| 1/1 [00:02<00:00,  2.29s/it, est. speed input: 1345.33 toks/s, output: 43.27 toks/s]\n"
     ]
    },
    {
     "name": "stdout",
     "output_type": "stream",
     "text": [
      "Expected Role Therapist\n"
     ]
    },
    {
     "name": "stderr",
     "output_type": "stream",
     "text": [
      "Processed prompts: 100%|██████████| 1/1 [00:01<00:00,  1.84s/it, est. speed input: 1724.93 toks/s, output: 43.41 toks/s]\n"
     ]
    },
    {
     "name": "stdout",
     "output_type": "stream",
     "text": [
      "Expected Role Patient\n"
     ]
    },
    {
     "name": "stderr",
     "output_type": "stream",
     "text": [
      "Processed prompts: 100%|██████████| 1/1 [00:01<00:00,  1.18s/it, est. speed input: 2762.15 toks/s, output: 43.20 toks/s]\n"
     ]
    },
    {
     "name": "stdout",
     "output_type": "stream",
     "text": [
      "Expected Role Therapist\n"
     ]
    },
    {
     "name": "stderr",
     "output_type": "stream",
     "text": [
      "Processed prompts: 100%|██████████| 1/1 [00:01<00:00,  1.51s/it, est. speed input: 2199.38 toks/s, output: 43.14 toks/s]\n"
     ]
    },
    {
     "name": "stdout",
     "output_type": "stream",
     "text": [
      "Expected Role Patient\n"
     ]
    },
    {
     "name": "stderr",
     "output_type": "stream",
     "text": [
      "Processed prompts: 100%|██████████| 1/1 [00:01<00:00,  1.02s/it, est. speed input: 3310.52 toks/s, output: 43.08 toks/s]\n"
     ]
    },
    {
     "name": "stdout",
     "output_type": "stream",
     "text": [
      "Expected Role Therapist\n"
     ]
    },
    {
     "name": "stderr",
     "output_type": "stream",
     "text": [
      "Processed prompts: 100%|██████████| 1/1 [00:01<00:00,  1.91s/it, est. speed input: 1790.73 toks/s, output: 43.37 toks/s]\n"
     ]
    },
    {
     "name": "stdout",
     "output_type": "stream",
     "text": [
      "Expected Role Patient\n"
     ]
    },
    {
     "name": "stderr",
     "output_type": "stream",
     "text": [
      "Processed prompts: 100%|██████████| 1/1 [00:01<00:00,  1.60s/it, est. speed input: 2200.95 toks/s, output: 43.24 toks/s]\n"
     ]
    },
    {
     "name": "stdout",
     "output_type": "stream",
     "text": [
      "Expected Role Therapist\n"
     ]
    },
    {
     "name": "stderr",
     "output_type": "stream",
     "text": [
      "Processed prompts: 100%|██████████| 1/1 [00:01<00:00,  1.41s/it, est. speed input: 2534.73 toks/s, output: 43.15 toks/s]\n"
     ]
    },
    {
     "name": "stdout",
     "output_type": "stream",
     "text": [
      "Expected Role Patient\n"
     ]
    },
    {
     "name": "stderr",
     "output_type": "stream",
     "text": [
      "Processed prompts: 100%|██████████| 1/1 [00:01<00:00,  1.12s/it, est. speed input: 3271.02 toks/s, output: 43.06 toks/s]\n"
     ]
    },
    {
     "name": "stdout",
     "output_type": "stream",
     "text": [
      "Expected Role Therapist\n"
     ]
    },
    {
     "name": "stderr",
     "output_type": "stream",
     "text": [
      "Processed prompts: 100%|██████████| 1/1 [00:01<00:00,  1.69s/it, est. speed input: 2184.90 toks/s, output: 43.15 toks/s]\n"
     ]
    },
    {
     "name": "stdout",
     "output_type": "stream",
     "text": [
      "Expected Role Patient\n"
     ]
    },
    {
     "name": "stderr",
     "output_type": "stream",
     "text": [
      "Processed prompts: 100%|██████████| 1/1 [00:01<00:00,  1.86s/it, est. speed input: 2033.19 toks/s, output: 43.13 toks/s]\n"
     ]
    },
    {
     "name": "stdout",
     "output_type": "stream",
     "text": [
      "Expected Role Therapist\n"
     ]
    },
    {
     "name": "stderr",
     "output_type": "stream",
     "text": [
      "Processed prompts: 100%|██████████| 1/1 [00:01<00:00,  1.86s/it, est. speed input: 2076.42 toks/s, output: 43.11 toks/s]\n"
     ]
    },
    {
     "name": "stdout",
     "output_type": "stream",
     "text": [
      "Expected Role Patient\n"
     ]
    },
    {
     "name": "stderr",
     "output_type": "stream",
     "text": [
      "Processed prompts: 100%|██████████| 1/1 [00:01<00:00,  1.12s/it, est. speed input: 3514.09 toks/s, output: 42.86 toks/s]\n"
     ]
    },
    {
     "name": "stdout",
     "output_type": "stream",
     "text": [
      "Expected Role Therapist\n"
     ]
    },
    {
     "name": "stderr",
     "output_type": "stream",
     "text": [
      "Processed prompts: 100%|██████████| 1/1 [00:01<00:00,  1.84s/it, est. speed input: 2166.38 toks/s, output: 42.95 toks/s]\n"
     ]
    },
    {
     "name": "stdout",
     "output_type": "stream",
     "text": [
      "Expected Role Patient\n"
     ]
    },
    {
     "name": "stderr",
     "output_type": "stream",
     "text": [
      "Processed prompts: 100%|██████████| 1/1 [00:01<00:00,  1.85s/it, est. speed input: 2201.42 toks/s, output: 42.77 toks/s]\n"
     ]
    },
    {
     "name": "stdout",
     "output_type": "stream",
     "text": [
      "Expected Role Therapist\n"
     ]
    },
    {
     "name": "stderr",
     "output_type": "stream",
     "text": [
      "Processed prompts: 100%|██████████| 1/1 [00:01<00:00,  1.68s/it, est. speed input: 2471.88 toks/s, output: 42.92 toks/s]\n"
     ]
    },
    {
     "name": "stdout",
     "output_type": "stream",
     "text": [
      "Expected Role Patient\n"
     ]
    },
    {
     "name": "stderr",
     "output_type": "stream",
     "text": [
      "Processed prompts: 100%|██████████| 1/1 [00:01<00:00,  1.91s/it, est. speed input: 2211.31 toks/s, output: 42.96 toks/s]\n"
     ]
    },
    {
     "name": "stdout",
     "output_type": "stream",
     "text": [
      "Expected Role Therapist\n"
     ]
    },
    {
     "name": "stderr",
     "output_type": "stream",
     "text": [
      "Processed prompts: 100%|██████████| 1/1 [00:01<00:00,  1.10s/it, est. speed input: 3910.42 toks/s, output: 42.69 toks/s]\n"
     ]
    },
    {
     "name": "stdout",
     "output_type": "stream",
     "text": [
      "Expected Role Patient\n"
     ]
    },
    {
     "name": "stderr",
     "output_type": "stream",
     "text": [
      "Processed prompts: 100%|██████████| 1/1 [00:01<00:00,  1.79s/it, est. speed input: 2429.45 toks/s, output: 42.96 toks/s]\n"
     ]
    },
    {
     "name": "stdout",
     "output_type": "stream",
     "text": [
      "Expected Role Therapist\n"
     ]
    },
    {
     "name": "stderr",
     "output_type": "stream",
     "text": [
      "Processed prompts: 100%|██████████| 1/1 [00:01<00:00,  1.44s/it, est. speed input: 3090.45 toks/s, output: 42.53 toks/s]\n"
     ]
    },
    {
     "name": "stdout",
     "output_type": "stream",
     "text": [
      "Expected Role Patient\n"
     ]
    },
    {
     "name": "stderr",
     "output_type": "stream",
     "text": [
      "Processed prompts: 100%|██████████| 1/1 [00:01<00:00,  1.96s/it, est. speed input: 2291.03 toks/s, output: 42.80 toks/s]\n"
     ]
    },
    {
     "name": "stdout",
     "output_type": "stream",
     "text": [
      "Expected Role Therapist\n"
     ]
    },
    {
     "name": "stderr",
     "output_type": "stream",
     "text": [
      "Processed prompts: 100%|██████████| 1/1 [00:01<00:00,  1.59s/it, est. speed input: 2874.72 toks/s, output: 42.66 toks/s]\n"
     ]
    },
    {
     "name": "stdout",
     "output_type": "stream",
     "text": [
      "Expected Role Patient\n",
      "eval_prompt_consistency\n",
      "eval_prompt_consistency\n"
     ]
    },
    {
     "name": "stderr",
     "output_type": "stream",
     "text": [
      "Processed prompts: 100%|██████████| 1/1 [00:01<00:00,  1.32s/it, est. speed input: 284.65 toks/s, output: 43.91 toks/s]\n"
     ]
    },
    {
     "name": "stdout",
     "output_type": "stream",
     "text": [
      "eval_prompt_consistency\n",
      "eval_prompt_consistency\n"
     ]
    },
    {
     "name": "stderr",
     "output_type": "stream",
     "text": [
      "Processed prompts: 100%|██████████| 1/1 [00:00<00:00,  1.04it/s, est. speed input: 409.19 toks/s, output: 44.77 toks/s]\n"
     ]
    },
    {
     "name": "stdout",
     "output_type": "stream",
     "text": [
      "eval_prompt_consistency\n",
      "eval_prompt_consistency\n"
     ]
    },
    {
     "name": "stderr",
     "output_type": "stream",
     "text": [
      "Processed prompts: 100%|██████████| 1/1 [00:01<00:00,  1.23s/it, est. speed input: 323.97 toks/s, output: 44.77 toks/s]\n"
     ]
    },
    {
     "name": "stdout",
     "output_type": "stream",
     "text": [
      "eval_prompt_consistency\n",
      "eval_prompt_consistency\n"
     ]
    },
    {
     "name": "stderr",
     "output_type": "stream",
     "text": [
      "Processed prompts: 100%|██████████| 1/1 [00:01<00:00,  1.41s/it, est. speed input: 287.30 toks/s, output: 44.69 toks/s]\n"
     ]
    },
    {
     "name": "stdout",
     "output_type": "stream",
     "text": [
      "eval_prompt_consistency\n",
      "eval_prompt_consistency\n"
     ]
    },
    {
     "name": "stderr",
     "output_type": "stream",
     "text": [
      "Processed prompts: 100%|██████████| 1/1 [00:01<00:00,  1.25s/it, est. speed input: 328.75 toks/s, output: 44.68 toks/s]\n"
     ]
    },
    {
     "name": "stdout",
     "output_type": "stream",
     "text": [
      "eval_prompt_consistency\n",
      "eval_prompt_consistency\n"
     ]
    },
    {
     "name": "stderr",
     "output_type": "stream",
     "text": [
      "Processed prompts: 100%|██████████| 1/1 [00:01<00:00,  1.41s/it, est. speed input: 297.52 toks/s, output: 44.73 toks/s]\n"
     ]
    },
    {
     "name": "stdout",
     "output_type": "stream",
     "text": [
      "eval_prompt_consistency\n",
      "eval_prompt_consistency\n"
     ]
    },
    {
     "name": "stderr",
     "output_type": "stream",
     "text": [
      "Processed prompts: 100%|██████████| 1/1 [00:01<00:00,  1.36s/it, est. speed input: 302.07 toks/s, output: 44.72 toks/s]\n"
     ]
    },
    {
     "name": "stdout",
     "output_type": "stream",
     "text": [
      "eval_prompt_consistency\n",
      "eval_prompt_consistency\n"
     ]
    },
    {
     "name": "stderr",
     "output_type": "stream",
     "text": [
      "Processed prompts: 100%|██████████| 1/1 [00:01<00:00,  1.50s/it, est. speed input: 260.27 toks/s, output: 44.83 toks/s]\n"
     ]
    },
    {
     "name": "stdout",
     "output_type": "stream",
     "text": [
      "eval_prompt_consistency\n",
      "eval_prompt_consistency\n"
     ]
    },
    {
     "name": "stderr",
     "output_type": "stream",
     "text": [
      "Processed prompts: 100%|██████████| 1/1 [00:01<00:00,  1.25s/it, est. speed input: 332.88 toks/s, output: 44.70 toks/s]\n"
     ]
    },
    {
     "name": "stdout",
     "output_type": "stream",
     "text": [
      "eval_prompt_consistency\n",
      "eval_prompt_consistency\n"
     ]
    },
    {
     "name": "stderr",
     "output_type": "stream",
     "text": [
      "Processed prompts: 100%|██████████| 1/1 [00:01<00:00,  1.58s/it, est. speed input: 254.43 toks/s, output: 44.83 toks/s]\n"
     ]
    },
    {
     "name": "stdout",
     "output_type": "stream",
     "text": [
      "eval_prompt_consistency\n",
      "eval_prompt_consistency\n"
     ]
    },
    {
     "name": "stderr",
     "output_type": "stream",
     "text": [
      "Processed prompts: 100%|██████████| 1/1 [00:01<00:00,  1.58s/it, est. speed input: 252.20 toks/s, output: 44.88 toks/s]\n"
     ]
    },
    {
     "name": "stdout",
     "output_type": "stream",
     "text": [
      "eval_prompt_consistency\n",
      "eval_prompt_consistency\n"
     ]
    },
    {
     "name": "stderr",
     "output_type": "stream",
     "text": [
      "Processed prompts: 100%|██████████| 1/1 [00:01<00:00,  1.36s/it, est. speed input: 293.22 toks/s, output: 44.83 toks/s]\n"
     ]
    },
    {
     "name": "stdout",
     "output_type": "stream",
     "text": [
      "eval_prompt_consistency\n",
      "eval_prompt_consistency\n"
     ]
    },
    {
     "name": "stderr",
     "output_type": "stream",
     "text": [
      "Processed prompts: 100%|██████████| 1/1 [00:01<00:00,  1.26s/it, est. speed input: 335.65 toks/s, output: 44.65 toks/s]\n"
     ]
    },
    {
     "name": "stdout",
     "output_type": "stream",
     "text": [
      "eval_prompt_consistency\n",
      "eval_prompt_consistency\n"
     ]
    },
    {
     "name": "stderr",
     "output_type": "stream",
     "text": [
      "Processed prompts: 100%|██████████| 1/1 [00:01<00:00,  1.46s/it, est. speed input: 302.22 toks/s, output: 44.65 toks/s]\n"
     ]
    },
    {
     "name": "stdout",
     "output_type": "stream",
     "text": [
      "eval_prompt_consistency\n",
      "eval_prompt_consistency\n"
     ]
    },
    {
     "name": "stderr",
     "output_type": "stream",
     "text": [
      "Processed prompts: 100%|██████████| 1/1 [00:01<00:00,  1.39s/it, est. speed input: 291.38 toks/s, output: 44.72 toks/s]\n"
     ]
    },
    {
     "name": "stdout",
     "output_type": "stream",
     "text": [
      "eval_prompt_consistency\n",
      "eval_prompt_consistency\n"
     ]
    },
    {
     "name": "stderr",
     "output_type": "stream",
     "text": [
      "Processed prompts: 100%|██████████| 1/1 [00:02<00:00,  2.08s/it, est. speed input: 196.30 toks/s, output: 44.63 toks/s]\n"
     ]
    },
    {
     "name": "stdout",
     "output_type": "stream",
     "text": [
      "eval_prompt_consistency\n",
      "eval_prompt_consistency\n"
     ]
    },
    {
     "name": "stderr",
     "output_type": "stream",
     "text": [
      "Processed prompts: 100%|██████████| 1/1 [00:02<00:00,  2.34s/it, est. speed input: 171.74 toks/s, output: 44.86 toks/s]\n"
     ]
    },
    {
     "name": "stdout",
     "output_type": "stream",
     "text": [
      "eval_prompt_consistency\n",
      "eval_prompt_consistency\n"
     ]
    },
    {
     "name": "stderr",
     "output_type": "stream",
     "text": [
      "Processed prompts: 100%|██████████| 1/1 [00:00<00:00,  1.35it/s, est. speed input: 559.81 toks/s, output: 44.51 toks/s]\n"
     ]
    },
    {
     "name": "stdout",
     "output_type": "stream",
     "text": [
      "eval_prompt_consistency\n",
      "eval_prompt_consistency\n"
     ]
    },
    {
     "name": "stderr",
     "output_type": "stream",
     "text": [
      "Processed prompts: 100%|██████████| 1/1 [00:01<00:00,  1.76s/it, est. speed input: 237.13 toks/s, output: 44.46 toks/s]\n"
     ]
    },
    {
     "name": "stdout",
     "output_type": "stream",
     "text": [
      "eval_prompt_consistency\n",
      "eval_prompt_consistency\n"
     ]
    },
    {
     "name": "stderr",
     "output_type": "stream",
     "text": [
      "Processed prompts: 100%|██████████| 1/1 [00:01<00:00,  1.50s/it, est. speed input: 273.82 toks/s, output: 44.75 toks/s]\n"
     ]
    },
    {
     "name": "stdout",
     "output_type": "stream",
     "text": [
      "eval_prompt_consistency\n",
      "eval_prompt_consistency\n"
     ]
    },
    {
     "name": "stderr",
     "output_type": "stream",
     "text": [
      "Processed prompts: 100%|██████████| 1/1 [00:01<00:00,  1.27s/it, est. speed input: 310.68 toks/s, output: 44.83 toks/s]\n"
     ]
    },
    {
     "name": "stdout",
     "output_type": "stream",
     "text": [
      "eval_prompt_consistency\n",
      "eval_prompt_consistency\n"
     ]
    },
    {
     "name": "stderr",
     "output_type": "stream",
     "text": [
      "Processed prompts: 100%|██████████| 1/1 [00:01<00:00,  1.84s/it, est. speed input: 224.66 toks/s, output: 44.61 toks/s]\n"
     ]
    },
    {
     "name": "stdout",
     "output_type": "stream",
     "text": [
      "eval_prompt_consistency\n",
      "eval_prompt_consistency\n"
     ]
    },
    {
     "name": "stderr",
     "output_type": "stream",
     "text": [
      "Processed prompts: 100%|██████████| 1/1 [00:01<00:00,  1.38s/it, est. speed input: 282.74 toks/s, output: 44.83 toks/s]\n"
     ]
    },
    {
     "name": "stdout",
     "output_type": "stream",
     "text": [
      "eval_prompt_consistency\n",
      "eval_prompt_consistency\n"
     ]
    },
    {
     "name": "stderr",
     "output_type": "stream",
     "text": [
      "Processed prompts: 100%|██████████| 1/1 [00:01<00:00,  1.23s/it, est. speed input: 327.33 toks/s, output: 44.67 toks/s]\n"
     ]
    },
    {
     "name": "stdout",
     "output_type": "stream",
     "text": [
      "eval_prompt_consistency\n",
      "eval_prompt_consistency\n"
     ]
    },
    {
     "name": "stderr",
     "output_type": "stream",
     "text": [
      "Processed prompts: 100%|██████████| 1/1 [00:01<00:00,  1.34s/it, est. speed input: 305.59 toks/s, output: 44.72 toks/s]\n"
     ]
    },
    {
     "name": "stdout",
     "output_type": "stream",
     "text": [
      "eval_prompt_consistency\n",
      "eval_prompt_consistency\n"
     ]
    },
    {
     "name": "stderr",
     "output_type": "stream",
     "text": [
      "Processed prompts: 100%|██████████| 1/1 [00:01<00:00,  1.40s/it, est. speed input: 292.32 toks/s, output: 44.31 toks/s]\n"
     ]
    },
    {
     "name": "stdout",
     "output_type": "stream",
     "text": [
      "eval_prompt_consistency\n",
      "eval_prompt_consistency\n"
     ]
    },
    {
     "name": "stderr",
     "output_type": "stream",
     "text": [
      "Processed prompts: 100%|██████████| 1/1 [00:01<00:00,  1.36s/it, est. speed input: 295.02 toks/s, output: 44.77 toks/s]\n"
     ]
    },
    {
     "name": "stdout",
     "output_type": "stream",
     "text": [
      "eval_prompt_consistency\n",
      "eval_prompt_consistency\n"
     ]
    },
    {
     "name": "stderr",
     "output_type": "stream",
     "text": [
      "Processed prompts: 100%|██████████| 1/1 [00:01<00:00,  1.49s/it, est. speed input: 252.49 toks/s, output: 44.87 toks/s]\n"
     ]
    },
    {
     "name": "stdout",
     "output_type": "stream",
     "text": [
      "eval_prompt_consistency\n",
      "eval_prompt_consistency\n"
     ]
    },
    {
     "name": "stderr",
     "output_type": "stream",
     "text": [
      "Processed prompts: 100%|██████████| 1/1 [00:01<00:00,  1.25s/it, est. speed input: 312.47 toks/s, output: 44.75 toks/s]\n"
     ]
    },
    {
     "name": "stdout",
     "output_type": "stream",
     "text": [
      "eval_prompt_consistency\n",
      "eval_prompt_consistency\n"
     ]
    },
    {
     "name": "stderr",
     "output_type": "stream",
     "text": [
      "Processed prompts: 100%|██████████| 1/1 [00:01<00:00,  1.61s/it, est. speed input: 247.83 toks/s, output: 44.83 toks/s]\n"
     ]
    },
    {
     "name": "stdout",
     "output_type": "stream",
     "text": [
      "eval_index_consistency\n"
     ]
    },
    {
     "name": "stderr",
     "output_type": "stream",
     "text": [
      "Processed prompts: 100%|██████████| 1/1 [00:01<00:00,  1.45s/it, est. speed input: 312.04 toks/s, output: 44.18 toks/s]\n",
      "Processed prompts: 100%|██████████| 1/1 [00:01<00:00,  1.84s/it, est. speed input: 321.32 toks/s, output: 44.11 toks/s]\n",
      "Processed prompts: 100%|██████████| 1/1 [00:01<00:00,  1.12s/it, est. speed input: 669.43 toks/s, output: 43.79 toks/s]\n",
      "Processed prompts: 100%|██████████| 1/1 [00:01<00:00,  1.12s/it, est. speed input: 806.99 toks/s, output: 43.69 toks/s]\n",
      "Processed prompts: 100%|██████████| 1/1 [00:01<00:00,  1.37s/it, est. speed input: 797.00 toks/s, output: 43.75 toks/s]\n",
      "Processed prompts: 100%|██████████| 1/1 [00:01<00:00,  1.70s/it, est. speed input: 747.87 toks/s, output: 43.54 toks/s]\n",
      "Processed prompts: 100%|██████████| 1/1 [00:00<00:00,  1.10it/s, est. speed input: 1548.43 toks/s, output: 43.13 toks/s]\n",
      "Processed prompts: 100%|██████████| 1/1 [00:01<00:00,  1.51s/it, est. speed input: 1052.92 toks/s, output: 43.62 toks/s]\n",
      "Processed prompts: 100%|██████████| 1/1 [00:01<00:00,  1.02s/it, est. speed input: 1732.15 toks/s, output: 43.18 toks/s]\n",
      "Processed prompts: 100%|██████████| 1/1 [00:01<00:00,  1.46s/it, est. speed input: 1307.50 toks/s, output: 43.26 toks/s]\n",
      "Processed prompts: 100%|██████████| 1/1 [00:01<00:00,  1.28s/it, est. speed input: 1583.43 toks/s, output: 43.77 toks/s]\n",
      "Processed prompts: 100%|██████████| 1/1 [00:01<00:00,  1.50s/it, est. speed input: 1457.34 toks/s, output: 43.25 toks/s]\n",
      "Processed prompts: 100%|██████████| 1/1 [00:01<00:00,  1.42s/it, est. speed input: 1685.37 toks/s, output: 43.00 toks/s]\n",
      "Processed prompts: 100%|██████████| 1/1 [00:01<00:00,  1.47s/it, est. speed input: 1727.07 toks/s, output: 42.87 toks/s]\n",
      "Processed prompts: 100%|██████████| 1/1 [00:01<00:00,  1.67s/it, est. speed input: 1623.62 toks/s, output: 43.14 toks/s]\n",
      "Processed prompts: 100%|██████████| 1/1 [00:01<00:00,  1.10s/it, est. speed input: 2589.38 toks/s, output: 42.70 toks/s]\n",
      "Processed prompts: 100%|██████████| 1/1 [00:01<00:00,  1.49s/it, est. speed input: 2033.14 toks/s, output: 42.97 toks/s]\n",
      "Processed prompts: 100%|██████████| 1/1 [00:01<00:00,  1.85s/it, est. speed input: 1733.54 toks/s, output: 42.78 toks/s]\n",
      "Processed prompts: 100%|██████████| 1/1 [00:00<00:00,  1.17it/s, est. speed input: 3969.58 toks/s, output: 42.19 toks/s]\n",
      "Processed prompts: 100%|██████████| 1/1 [00:01<00:00,  1.70s/it, est. speed input: 2063.24 toks/s, output: 42.91 toks/s]\n",
      "Processed prompts: 100%|██████████| 1/1 [00:01<00:00,  1.66s/it, est. speed input: 2195.82 toks/s, output: 42.78 toks/s]\n",
      "Processed prompts: 100%|██████████| 1/1 [00:01<00:00,  1.39s/it, est. speed input: 2728.33 toks/s, output: 42.57 toks/s]\n",
      "Processed prompts: 100%|██████████| 1/1 [00:01<00:00,  1.39s/it, est. speed input: 2812.99 toks/s, output: 42.46 toks/s]\n",
      "Processed prompts: 100%|██████████| 1/1 [00:01<00:00,  1.35s/it, est. speed input: 3016.68 toks/s, output: 42.19 toks/s]\n",
      "Processed prompts: 100%|██████████| 1/1 [00:01<00:00,  1.86s/it, est. speed input: 2265.40 toks/s, output: 42.51 toks/s]\n",
      "Processed prompts: 100%|██████████| 1/1 [00:01<00:00,  1.56s/it, est. speed input: 2803.04 toks/s, output: 42.35 toks/s]\n",
      "Processed prompts: 100%|██████████| 1/1 [00:05<00:00,  5.23s/it, est. speed input: 860.55 toks/s, output: 42.80 toks/s]\n",
      "Processed prompts: 100%|██████████| 1/1 [00:01<00:00,  1.61s/it, est. speed input: 2893.18 toks/s, output: 42.32 toks/s]\n",
      "Processed prompts: 100%|██████████| 1/1 [00:01<00:00,  1.01s/it, est. speed input: 4763.87 toks/s, output: 41.61 toks/s]\n"
     ]
    },
    {
     "name": "stdout",
     "output_type": "stream",
     "text": [
      "eval_prompt_consistency\n",
      "eval_prompt_consistency\n"
     ]
    },
    {
     "name": "stderr",
     "output_type": "stream",
     "text": [
      "Processed prompts: 100%|██████████| 1/1 [00:00<00:00,  1.04it/s, est. speed input: 298.42 toks/s, output: 44.71 toks/s]\n"
     ]
    },
    {
     "name": "stdout",
     "output_type": "stream",
     "text": [
      "eval_prompt_consistency\n",
      "eval_prompt_consistency\n"
     ]
    },
    {
     "name": "stderr",
     "output_type": "stream",
     "text": [
      "Processed prompts: 100%|██████████| 1/1 [00:01<00:00,  1.00s/it, est. speed input: 302.98 toks/s, output: 44.85 toks/s]\n"
     ]
    },
    {
     "name": "stdout",
     "output_type": "stream",
     "text": [
      "eval_prompt_consistency\n",
      "eval_prompt_consistency\n"
     ]
    },
    {
     "name": "stderr",
     "output_type": "stream",
     "text": [
      "Processed prompts: 100%|██████████| 1/1 [00:01<00:00,  1.14s/it, est. speed input: 271.81 toks/s, output: 44.86 toks/s]\n"
     ]
    },
    {
     "name": "stdout",
     "output_type": "stream",
     "text": [
      "eval_prompt_consistency\n",
      "eval_prompt_consistency\n"
     ]
    },
    {
     "name": "stderr",
     "output_type": "stream",
     "text": [
      "Processed prompts: 100%|██████████| 1/1 [00:01<00:00,  1.33s/it, est. speed input: 238.51 toks/s, output: 44.53 toks/s]\n"
     ]
    },
    {
     "name": "stdout",
     "output_type": "stream",
     "text": [
      "eval_prompt_consistency\n",
      "eval_prompt_consistency\n"
     ]
    },
    {
     "name": "stderr",
     "output_type": "stream",
     "text": [
      "Processed prompts: 100%|██████████| 1/1 [00:01<00:00,  1.41s/it, est. speed input: 229.73 toks/s, output: 44.81 toks/s]\n"
     ]
    },
    {
     "name": "stdout",
     "output_type": "stream",
     "text": [
      "eval_prompt_consistency\n",
      "eval_prompt_consistency\n"
     ]
    },
    {
     "name": "stderr",
     "output_type": "stream",
     "text": [
      "Processed prompts: 100%|██████████| 1/1 [00:01<00:00,  1.25s/it, est. speed input: 263.83 toks/s, output: 44.77 toks/s]\n"
     ]
    },
    {
     "name": "stdout",
     "output_type": "stream",
     "text": [
      "eval_prompt_consistency\n",
      "eval_prompt_consistency\n"
     ]
    },
    {
     "name": "stderr",
     "output_type": "stream",
     "text": [
      "Processed prompts: 100%|██████████| 1/1 [00:01<00:00,  1.25s/it, est. speed input: 258.35 toks/s, output: 44.79 toks/s]\n"
     ]
    },
    {
     "name": "stdout",
     "output_type": "stream",
     "text": [
      "eval_prompt_consistency\n",
      "eval_prompt_consistency\n"
     ]
    },
    {
     "name": "stderr",
     "output_type": "stream",
     "text": [
      "Processed prompts: 100%|██████████| 1/1 [00:01<00:00,  1.23s/it, est. speed input: 244.46 toks/s, output: 44.82 toks/s]\n"
     ]
    },
    {
     "name": "stdout",
     "output_type": "stream",
     "text": [
      "eval_prompt_consistency\n",
      "eval_prompt_consistency\n"
     ]
    },
    {
     "name": "stderr",
     "output_type": "stream",
     "text": [
      "Processed prompts: 100%|██████████| 1/1 [00:00<00:00,  1.17it/s, est. speed input: 385.30 toks/s, output: 44.64 toks/s]\n"
     ]
    },
    {
     "name": "stdout",
     "output_type": "stream",
     "text": [
      "eval_prompt_consistency\n",
      "eval_prompt_consistency\n"
     ]
    },
    {
     "name": "stderr",
     "output_type": "stream",
     "text": [
      "Processed prompts: 100%|██████████| 1/1 [00:01<00:00,  1.45s/it, est. speed input: 216.53 toks/s, output: 44.82 toks/s]\n"
     ]
    },
    {
     "name": "stdout",
     "output_type": "stream",
     "text": [
      "eval_prompt_consistency\n",
      "eval_prompt_consistency\n"
     ]
    },
    {
     "name": "stderr",
     "output_type": "stream",
     "text": [
      "Processed prompts: 100%|██████████| 1/1 [00:01<00:00,  1.31s/it, est. speed input: 236.13 toks/s, output: 44.94 toks/s]\n"
     ]
    },
    {
     "name": "stdout",
     "output_type": "stream",
     "text": [
      "eval_prompt_consistency\n",
      "eval_prompt_consistency\n"
     ]
    },
    {
     "name": "stderr",
     "output_type": "stream",
     "text": [
      "Processed prompts: 100%|██████████| 1/1 [00:01<00:00,  1.21s/it, est. speed input: 255.70 toks/s, output: 44.54 toks/s]\n"
     ]
    },
    {
     "name": "stdout",
     "output_type": "stream",
     "text": [
      "eval_prompt_consistency\n",
      "eval_prompt_consistency\n"
     ]
    },
    {
     "name": "stderr",
     "output_type": "stream",
     "text": [
      "Processed prompts: 100%|██████████| 1/1 [00:01<00:00,  1.32s/it, est. speed input: 251.92 toks/s, output: 44.77 toks/s]\n"
     ]
    },
    {
     "name": "stdout",
     "output_type": "stream",
     "text": [
      "eval_prompt_consistency\n",
      "eval_prompt_consistency\n"
     ]
    },
    {
     "name": "stderr",
     "output_type": "stream",
     "text": [
      "Processed prompts: 100%|██████████| 1/1 [00:01<00:00,  1.47s/it, est. speed input: 238.21 toks/s, output: 44.79 toks/s]\n"
     ]
    },
    {
     "name": "stdout",
     "output_type": "stream",
     "text": [
      "eval_prompt_consistency\n",
      "eval_prompt_consistency\n"
     ]
    },
    {
     "name": "stderr",
     "output_type": "stream",
     "text": [
      "Processed prompts: 100%|██████████| 1/1 [00:01<00:00,  1.54s/it, est. speed input: 204.83 toks/s, output: 44.87 toks/s]\n"
     ]
    },
    {
     "name": "stdout",
     "output_type": "stream",
     "text": [
      "eval_prompt_consistency\n",
      "eval_prompt_consistency\n"
     ]
    },
    {
     "name": "stderr",
     "output_type": "stream",
     "text": [
      "Processed prompts: 100%|██████████| 1/1 [00:01<00:00,  1.58s/it, est. speed input: 203.29 toks/s, output: 44.47 toks/s]\n"
     ]
    },
    {
     "name": "stdout",
     "output_type": "stream",
     "text": [
      "eval_prompt_consistency\n",
      "eval_prompt_consistency\n"
     ]
    },
    {
     "name": "stderr",
     "output_type": "stream",
     "text": [
      "Processed prompts: 100%|██████████| 1/1 [00:01<00:00,  1.32s/it, est. speed input: 237.67 toks/s, output: 44.80 toks/s]\n"
     ]
    },
    {
     "name": "stdout",
     "output_type": "stream",
     "text": [
      "eval_prompt_consistency\n",
      "eval_prompt_consistency\n"
     ]
    },
    {
     "name": "stderr",
     "output_type": "stream",
     "text": [
      "Processed prompts: 100%|██████████| 1/1 [00:01<00:00,  1.19s/it, est. speed input: 274.87 toks/s, output: 44.69 toks/s]\n"
     ]
    },
    {
     "name": "stdout",
     "output_type": "stream",
     "text": [
      "eval_prompt_consistency\n",
      "eval_prompt_consistency\n"
     ]
    },
    {
     "name": "stderr",
     "output_type": "stream",
     "text": [
      "Processed prompts: 100%|██████████| 1/1 [00:01<00:00,  1.38s/it, est. speed input: 236.40 toks/s, output: 44.82 toks/s]\n"
     ]
    },
    {
     "name": "stdout",
     "output_type": "stream",
     "text": [
      "eval_prompt_consistency\n",
      "eval_prompt_consistency\n"
     ]
    },
    {
     "name": "stderr",
     "output_type": "stream",
     "text": [
      "Processed prompts: 100%|██████████| 1/1 [00:01<00:00,  1.19s/it, est. speed input: 270.69 toks/s, output: 44.69 toks/s]\n"
     ]
    },
    {
     "name": "stdout",
     "output_type": "stream",
     "text": [
      "eval_prompt_consistency\n",
      "eval_prompt_consistency\n"
     ]
    },
    {
     "name": "stderr",
     "output_type": "stream",
     "text": [
      "Processed prompts: 100%|██████████| 1/1 [00:01<00:00,  1.18s/it, est. speed input: 259.03 toks/s, output: 44.86 toks/s]\n"
     ]
    },
    {
     "name": "stdout",
     "output_type": "stream",
     "text": [
      "eval_prompt_consistency\n",
      "eval_prompt_consistency\n"
     ]
    },
    {
     "name": "stderr",
     "output_type": "stream",
     "text": [
      "Processed prompts: 100%|██████████| 1/1 [00:01<00:00,  1.12s/it, est. speed input: 289.53 toks/s, output: 44.68 toks/s]\n"
     ]
    },
    {
     "name": "stdout",
     "output_type": "stream",
     "text": [
      "eval_prompt_consistency\n",
      "eval_prompt_consistency\n"
     ]
    },
    {
     "name": "stderr",
     "output_type": "stream",
     "text": [
      "Processed prompts: 100%|██████████| 1/1 [00:01<00:00,  1.23s/it, est. speed input: 246.01 toks/s, output: 44.80 toks/s]\n"
     ]
    },
    {
     "name": "stdout",
     "output_type": "stream",
     "text": [
      "eval_prompt_consistency\n",
      "eval_prompt_consistency\n"
     ]
    },
    {
     "name": "stderr",
     "output_type": "stream",
     "text": [
      "Processed prompts: 100%|██████████| 1/1 [00:01<00:00,  1.61s/it, est. speed input: 194.95 toks/s, output: 44.70 toks/s]\n"
     ]
    },
    {
     "name": "stdout",
     "output_type": "stream",
     "text": [
      "eval_prompt_consistency\n",
      "eval_prompt_consistency\n"
     ]
    },
    {
     "name": "stderr",
     "output_type": "stream",
     "text": [
      "Processed prompts: 100%|██████████| 1/1 [00:01<00:00,  1.27s/it, est. speed input: 252.79 toks/s, output: 44.89 toks/s]\n"
     ]
    },
    {
     "name": "stdout",
     "output_type": "stream",
     "text": [
      "eval_prompt_consistency\n",
      "eval_prompt_consistency\n"
     ]
    },
    {
     "name": "stderr",
     "output_type": "stream",
     "text": [
      "Processed prompts: 100%|██████████| 1/1 [00:01<00:00,  1.05s/it, est. speed input: 305.16 toks/s, output: 44.82 toks/s]\n"
     ]
    },
    {
     "name": "stdout",
     "output_type": "stream",
     "text": [
      "eval_prompt_consistency\n",
      "eval_prompt_consistency\n"
     ]
    },
    {
     "name": "stderr",
     "output_type": "stream",
     "text": [
      "Processed prompts: 100%|██████████| 1/1 [00:01<00:00,  1.20s/it, est. speed input: 260.02 toks/s, output: 44.86 toks/s]\n"
     ]
    },
    {
     "name": "stdout",
     "output_type": "stream",
     "text": [
      "eval_prompt_consistency\n",
      "eval_prompt_consistency\n"
     ]
    },
    {
     "name": "stderr",
     "output_type": "stream",
     "text": [
      "Processed prompts: 100%|██████████| 1/1 [00:01<00:00,  1.37s/it, est. speed input: 209.75 toks/s, output: 44.43 toks/s]\n"
     ]
    },
    {
     "name": "stdout",
     "output_type": "stream",
     "text": [
      "eval_prompt_consistency\n",
      "eval_prompt_consistency\n"
     ]
    },
    {
     "name": "stderr",
     "output_type": "stream",
     "text": [
      "Processed prompts: 100%|██████████| 1/1 [00:01<00:00,  1.63s/it, est. speed input: 185.39 toks/s, output: 44.81 toks/s]\n"
     ]
    },
    {
     "name": "stdout",
     "output_type": "stream",
     "text": [
      "eval_prompt_consistency\n",
      "eval_prompt_consistency\n"
     ]
    },
    {
     "name": "stderr",
     "output_type": "stream",
     "text": [
      "Processed prompts: 100%|██████████| 1/1 [00:01<00:00,  1.25s/it, est. speed input: 247.48 toks/s, output: 44.85 toks/s]\n",
      "  4%|▍         | 4/100 [15:20<6:07:58, 229.99s/it]"
     ]
    },
    {
     "name": "stdout",
     "output_type": "stream",
     "text": [
      "{'task_name': 'Therapy', 'topic': '', 'grade': '', 'P1': '', 'P2': 'age:61; nationality/ethnicity:Hispanic/Latino; mental health diagnosis:adjustment disorder with depressed mood following retirement; Substance Use:none; Level of Social Engagement:low; Trauma History:none reported', 'conversation': [(0, 'Therapist: Can you tell me what brings you to therapy at this time, and what are your hopes for our work together?\\n'), (1, 'Patient: \"I\\'ve just been feeling really lost since I retired from my job last year. I was looking forward to having more free time, but now I\\'m just finding myself sitting around the house all day feeling empty and bored.\"\\n'), (2, \"Therapist: It sounds like retirement was a significant transition for you, and it's interesting that you mention feeling empty and bored, which suggests there might be more to your dissatisfaction than just the absence of work. Can you help me understand what specifically about your daily routine now feels empty or unfulfilling?\\n\"), (3, \"Patient: To be honest, I find myself missing the structure and sense of purpose my job provided, and now I'm struggling to find things to occupy my time that feel meaningful or engaging. Even simple tasks like taking care of my garden or reading a book don't seem to bring me the same satisfaction they used to.\\n\"), (4, \"Therapist: It's almost as if the sense of purpose and identity tied to your job has been taken away, leaving you without a clear direction. Can you tell me more about the sense of self you associated with being a working person, and what you're worried you might lose now that that's no longer an option?\\n\"), (5, \"Patient: I think being a working person made me feel like I was contributing to something bigger than myself, like I was part of a team and making a difference, even if it was just in a small way. Now, I'm not sure who I am outside of that role, or what I'm supposed to be doing with my time.\\n\"), (6, \"Therapist: It sounds like your identity was deeply tied to your professional role, and the loss of that role has left a void in your sense of self, which might be why you're struggling to find fulfillment in other activities. Can you think of any parts of your life or relationships outside of your job that might have been sacrificed or put on hold because of your intense focus on your career?\\n\"), (7, \"Patient: I've been so focused on my job for so long that I've neglected my relationships with my family, especially my grandchildren, and I'm worried that they're growing up and I'm missing out on important moments. I also feel like I've neglected my wife's needs, and we've been having some issues because of my lack of attention to her and our marriage.\\n\"), (8, \"Therapist: It sounds like the guilt and regret you're feeling about neglecting your family and marriage is adding to your sense of emptiness, rather than just the loss of your job. Can you help me understand what's holding you back from reconnecting with your family and prioritizing your relationships with them now that you're no longer working?\\n\"), (9, \"Patient: I think I'm afraid of feeling like I'm not good enough or qualified to be a grandpa, like I've missed out on so much already, and I don't want to feel like I'm imposing on my family or burdening them with my presence. It's hard for me to let go of the idea that I need to be earning a paycheck to be a valuable member of the family.\\n\"), (10, 'Therapist: That\\'s a very poignant admission, and it sounds like your fear of being seen as not good enough is rooted in a deeper self-doubt that might be more pervasive than you\\'re aware of. Can you tell me more about what you think it means to be a \"good enough\" grandparent, and how you think your family might perceive you if you were to focus on being present with them rather than constantly trying to prove your worth through work?\\n'), (11, 'Patient: I think being a \"good enough\" grandparent means being there for my grandkids, listening to them, and showing them love and support, but my fear is that if I\\'m not working, I\\'ll be seen as someone who\\'s just relying on others for financial support, rather than being an independent provider. I worry that will change the way they see me, and I\\'ll lose the respect I\\'ve always had from my family.\\n'), (12, 'Therapist: It seems that your perception of being a \"good enough\" grandparent is deeply tied to the idea of being a self-sufficient provider, but isn\\'t it possible that your family might see you in a more nuanced and multidimensional way than you\\'re giving them credit for? Can you explore with me what would happen if you were to challenge this assumption and imagine your family valuing you for who you are, not just what you do?\\n'), (13, \"Patient: I've always been so focused on being the one providing for my family, but the thought of being valued for who I am, not just what I do, feels like a foreign concept - it's hard to imagine how that would feel. But at the same time, I'm starting to wonder if that's exactly what I need to hear, if that's the freedom I've been missing all along.\\n\"), (14, \"Therapist: Let's explore this idea further: if you were to be valued for who you are, not just what you do, what specific aspects of your personality, skills, or qualities would you hope your family would appreciate and recognize? What would that mean for your sense of self-worth and your relationships with them?\\n\"), (15, \"Patient: I think my family would appreciate my patience and listening skills, which I've developed over the years as a problem-solver in my job, and they would value the love and support I can offer them as a grandparent, which is something I'm proud of and feel capable of doing.\\n\"), (16, \"Therapist: It sounds like you're starting to tap into some valuable strengths and qualities that you bring to the table as a grandparent, but I want to gently challenge you to consider whether these skills and qualities might also be transferable to other areas of your life, perhaps even your relationships with your wife, where you've been feeling disconnected. Can you think of a specific moment or interaction with your wife where you've used your patience and listening skills to connect with her, and what was the outcome?\\n\"), (17, 'Patient: I remember a time when my wife and I were struggling with a disagreement about a financial decision, and I used my listening skills to really hear her concerns and understand her perspective, which helped us find a compromise and actually strengthen our relationship. It felt like a small victory at the time, but looking back, I see that I was using the same problem-solving skills that served me well in my job, but in a different context.\\n'), (18, \"Therapist: It sounds like that moment with your wife was a powerful reminder that your skills and qualities are not limited to your professional role, but rather, they are transferable and valuable in various aspects of your life. Can you think of a way to apply this insight to your current relationship with your wife, perhaps by initiating a conversation with her about how you'd like to deepen your connection and use your strengths to support her, rather than just reacting to her needs?\\n\"), (19, \"Patient: I'd like to start by setting aside some dedicated time with my wife this week, just the two of us, to talk about how we can strengthen our relationship and work on rebuilding our connection, and I'm thinking of sharing with her that I've been using my listening skills to connect with our grandkids and wondering if I can do the same with her.\\n\"), (20, \"Therapist: That's a great step forward in recognizing your transferable skills and a desire to apply them to your relationship with your wife. What might be the potential risks or fears you're holding onto that are preventing you from taking this step, and how might you reframe those fears in a more realistic and compassionate light?\\n\"), (21, \"Patient: I'm afraid that by prioritizing my relationship with my wife, I might be letting my family down or disappointing them, even though I've already established that they value me for who I am, not just what I do. What if I'm not good at being a partner and caregiver, and I end up causing more harm than good?\\n\"), (22, 'Therapist: Let\\'s explore this fear further. Can you help me understand what you mean by \"not being good\" at being a partner and caregiver, and what specifically might go wrong if you were to prioritize your relationship with your wife?\\n'), (23, \"Patient: I worry that I'll try to take on too much and overstep my boundaries, trying to be the perfect partner and caregiver, and that'll put a strain on the relationship rather than bringing us closer together. I'm scared of failing at this new role, which is a fear I've never really experienced before, and that's unsettling.\\n\"), (24, \"Therapist: Let's unpack this fear of overstepping and trying to be the perfect partner and caregiver. Can you think of a time in your life when you've successfully navigated a situation where you weren't in complete control, but still managed to build connection and intimacy with someone else, and what skills or qualities made that possible?\\n\"), (25, 'Patient: I think back to a time when I was coaching a team at work and had to rely on my team members to accomplish a goal, and I was able to build trust and collaboration by being clear about my expectations, being open to feedback, and being willing to learn from my mistakes. I wonder if I can apply those same skills to my relationship with my wife, by being more open, receptive, and humble, rather than trying to control everything.\\n'), (26, \"Therapist: Now that you've identified those transferable skills, how might you begin to apply them in your relationship with your wife, perhaps by having an open and honest conversation with her about your desires and fears, and working together to establish a more collaborative dynamic? Can you imagine the potential benefits of approaching your relationship with a mindset of mutual support and growth, rather than trying to be the sole problem-solver or perfect partner?\\n\"), (27, \"Patient: I think I'd like to start by having a conversation with my wife about how I feel like I'm taking on too much responsibility and trying to control things, and ask her to help me find a more balanced way of being together, where we can support each other rather than me trying to do it all on my own. I'm also worried that if I don't start making changes now, I'll lose my window of opportunity to strengthen our relationship and I'll be stuck in this feeling of emptiness and disconnection for a long time.\\n\"), (28, 'Therapist: As you consider initiating this conversation with your wife, I want to gently challenge you to also acknowledge the fear that you might be giving up control or giving in by seeking her input and support - what are your thoughts on that? How might you reframe this as a sign of strength, rather than weakness, in your relationship?\\n'), (29, \"Patient: I think seeking my wife's input and support is actually a sign of strength, as it shows I'm willing to admit when I need help and be vulnerable, rather than trying to control everything myself. It takes a lot of courage to admit that I don't have all the answers and that I need my partner's help to navigate this new chapter of our relationship.\\n\"), (30, \"Therapist: Now that you've identified the importance of seeking your wife's input and support, can you imagine what it might be like to have a conversation with her where you both work together as a team, sharing your needs and desires, and finding a mutually beneficial solution that honors both of your contributions to the relationship? What specific language or tone do you think you could use in that conversation to convey your willingness to collaborate and work together?\\n\"), (31, \"Patient: I'm feeling a sense of hope and excitement about the possibility of having a more collaborative and supportive relationship with my wife, and I'm curious about how we can create a shared vision for our future together. I'm wondering if it would be helpful to schedule a regular check-in with you, the therapist, to stay accountable and work through any challenges that arise as we navigate this new dynamic.\\n\"), (32, \"Therapist: That sounds like a great idea to schedule regular check-ins, and I'd be happy to support you in that way. Before we end today's session, can you reflect on what you've learned about yourself and your relationships so far, and what you're hoping to carry forward into our next session?\\n\"), (33, \"Patient: I'm feeling a sense of relief and hope that I've been able to confront some of the underlying fears and doubts that have been holding me back, and I'm excited to start working on building a more collaborative relationship with my wife. I'm looking forward to our next session to continue exploring ways to apply these new insights and skills in a practical way.\\n\"), (34, \"Therapist: As we move forward, I'd like to explore how you can continue to develop a growth mindset in your relationship with your wife, and I'm curious to know more about how you plan to communicate your thoughts and feelings to her about the changes you're hoping to make. Can you think of a specific way you'd like to express your desires and boundaries to her, and what you're hoping to create together in your relationship?\\n\"), (35, \"Patient: I'd like to express my gratitude for our conversation today, it's given me a sense of clarity and direction that I haven't felt in a long time. I'd like to start by writing down my thoughts and feelings about what I want to communicate to my wife, and then schedule a time to talk with her about it, maybe over dinner or a walk, when we can have a more relaxed and open conversation.\\n\"), (36, \"Therapist: Now that you have a clear idea of what you want to communicate to your wife, I'd like to explore with you what might happen if she has different expectations or needs than you do, and how you plan to navigate that potential discrepancy. Can you think of a way to approach this conversation with an open mind and a willingness to listen to her perspective, even if it challenges your own desires?\\n\"), (37, \"Patient: I'm worried that if my wife has different expectations or needs, I might feel like I've failed or that we're not on the same page, but I'm trying to remind myself that it's okay to have differing opinions and that it's an opportunity to learn and grow together. I'm hoping that by approaching the conversation with an open mind and a willingness to listen, we can find common ground and strengthen our connection.\\n\"), (38, 'Therapist: As we move forward, I\\'d like to help you explore how you can balance your desire to take on a more collaborative role with your wife with the potential need to establish clear boundaries and assert your own needs, ensuring that both of you feel heard and valued. Can you think of a situation where you might need to say \"no\" or set a boundary with your wife, and how you would communicate that to her in a way that still honors your desire to work together as a team?\\n'), (39, \"Patient: I've been thinking about how I can apply the skills I've developed as a problem-solver to setting boundaries with my wife, like being clear about my needs and expectations, and being open to her feedback and perspectives, to find a mutually beneficial solution. I'm hoping this will help me feel more confident in expressing my needs and desires in our relationship, rather than trying to control everything myself.\\n\"), (40, \"Therapist: Now that you're considering how to set boundaries with your wife, can you think of a specific situation where you've successfully set boundaries in the past, perhaps at work or with a friend, and what skills or strategies helped you navigate that situation effectively?\\n\"), (41, \"Patient: I recall a situation at work where I had to set a deadline with a team member, and I was able to do so clearly and respectfully, which actually led to a more efficient and productive outcome. I'm hoping to apply a similar approach to communicating my needs and boundaries with my wife, prioritizing clarity and respect.\\n\"), (42, 'Therapist: Can you imagine how your wife might respond if you were to express your needs and boundaries in a clear and respectful manner, and what kind of impact that might have on your relationship and your feelings of connection with her?\\n'), (43, \"Patient: I'm hoping that if I express my needs and boundaries clearly and respectfully, my wife will feel heard and understood, and we can work together to find a solution that works for both of us, leading to a deeper sense of connection and intimacy in our relationship. I'm also curious to see how my wife will respond to this new approach, and whether it will help us establish a more balanced and collaborative dynamic.\\n\"), (44, \"Therapist: As you consider communicating your needs and boundaries to your wife, what are some potential risks or fears that you're holding onto, and how might you reframe those fears in a more realistic and compassionate light? For example, what if she responds positively to your new approach and it strengthens your relationship, but what if she's resistant to change?\\n\"), (45, \"Patient: I'm worried that if my wife is resistant to change, it might be a sign that I'm not communicating effectively or that I've misunderstood her needs, but I'm trying to see it as an opportunity for us to have a more honest and open conversation about what we both need from our relationship.\\n\"), (46, \"Therapist: Can you help me understand how you envision this new dynamic in your relationship with your wife, where you're both working together as a team and prioritizing mutual support and understanding, and how you plan to measure the success of this approach?\\n\"), (47, \"Patient: I'm hoping that by prioritizing mutual support and understanding, my wife and I will be able to create a more resilient and connected relationship, where we can weather life's challenges together and continue to grow as individuals and as a couple. I'm excited to start exploring what that looks like in action and making intentional decisions to nurture our relationship and strengthen our bond.\\n\"), (48, \"Therapist: Can you imagine that in this new dynamic, you and your wife will not only work together as a team but also learn to navigate disagreements and conflicts in a way that strengthens your connection, rather than pushing you further apart? How do you think you'll handle moments when you feel like you're not seeing eye-to-eye, and what strategies will you use to prevent feelings of resentment from building up?\\n\"), (49, \"Patient: I think I'd like to explore more ways to practice active listening and empathy with my wife, especially in moments of disagreement, to help us navigate conflicts in a way that deepens our connection rather than driving us apart. I'm hoping to learn how to balance my desire to be heard with my wife's need to be understood, and find a way to communicate that honors both of our perspectives.\\n\"), (50, 'Therapist: Let\\'s explore the idea of \"active listening\" further - can you tell me what you think active listening might look like in the context of a disagreement with your wife, and how you might use it to stay connected to her perspective?\\n'), (51, \"Patient: I think active listening would involve really trying to understand my wife's concerns and emotions behind her words, even if I disagree with her perspective, and asking open-ended questions to help me better understand where she's coming from. I'd like to practice this by mirroring her emotions back to her, and then paraphrasing what I've heard to ensure I'm truly understanding her point of view.\\n\"), (52, 'Therapist: Can you imagine how your ability to listen actively in times of disagreement might help you to respond more thoughtfully, rather than react impulsively, and potentially reduce feelings of defensiveness in yourself and your wife? How might you begin to practice active listening in a low-stakes conversation with your wife, such as during a routine daily activity, to build your skills and confidence in this approach?\\n'), (53, \"Patient: I'd like to explore how I can apply the concept of active listening to our conversations in this therapy session, so I can practice using it in a low-stakes setting before bringing it home to my wife. Can we try an exercise where you share something you're thinking or feeling, and I'll try to respond with empathetic listening and paraphrasing?\\n\"), (54, \"Therapist: I'd like to start by sharing that I'm feeling a sense of appreciation for the progress we've made in our conversation today, and I'm curious to see how you'll apply the skills and insights we've discussed in your interactions with your wife. Can you tell me more about what you hope to achieve in this next step, and what specific actions you plan to take to prioritize your relationship with her?\\n\"), (55, \"Patient: I'd like to start by asking, what are some potential pitfalls or challenges that I might face as I try to implement these new skills and strategies in my relationship with my wife, and how can I prepare myself to overcome them?\\n\"), (56, \"Therapist: Let's explore the potential pitfalls you've identified, and I'd like to add that it's also essential to consider how you'll celebrate your successes and acknowledge your own growth and learning in the process. Can you think of a way to track or reflect on your progress and celebrate your small wins with your wife, even if it's just a simple acknowledgment or a note of appreciation?\\n\"), (57, \"Patient: I think tracking my progress and celebrating small wins with my wife could be as simple as writing down our successes in a shared journal or scheduling regular check-ins to reflect on what's working and what areas need more attention, and I'm open to experimenting with different methods to find what works best for us.\\n\"), (58, \"Therapist: As we move forward, I'd like to explore how you can create a safe and non-judgmental space for yourself and your wife to express your needs, desires, and feelings, even if they're uncomfortable or difficult to discuss. Can you think of a specific ritual or practice you could establish in your relationship that would help you both feel more connected and supported in sharing your thoughts and emotions with each other?\\n\"), (59, 'Patient: I\\'d like to explore the idea of scheduling a regular \"state of our union\" check-in with my wife, where we can reflect on our feelings, needs, and desires together, and work through any challenges that arise. By creating a consistent and dedicated space for connection, I hope to deepen our understanding and intimacy with each other.\\n')], 'pturn': 1, 'index': -1, 'timestamp': '', 'rounds': 60, 'conversation_only': True, 'eval_prompt_consistency': [(1, \"The patient's statement appears to be a genuine expression of feelings associated with adjustment disorder with depressed mood following retirement, aligning with their background, as they are seeking to process and communicate their emotions related to their recent transition from a work-life to a retired life. \\nANSWER: YES\"), (3, \"The intention behind the statement appears to be a genuine expression of struggling to adapt to retirement and finding activities meaningful, which aligns with the patient's background of having adjustment disorder with depressed mood following retirement. \\nYES\"), (5, \"The patient's statement seems to be expressing a sense of loss of identity and purpose stemming from retirement, which is consistent with their mental health diagnosis of adjustment disorder with depressed mood following retirement, suggesting that they are grappling with the emotional challenge of adjusting to life after work.\\n\\nYES\"), (7, \"The Patient's statement implies a sense of regret and longing for reconnecting with loved ones, specifically family members, which aligns with the expressed feelings of being overwhelmed by retirement and struggling with adjustment disorder with depressed mood, suggesting that the Patient is aware of the impact of their job on their personal relationships. \\nYES\"), (9, 'The interpreted intention behind the statement is that the Patient is struggling with feelings of inadequacy and self-worth in their new role as a grandfather, possibly stemming from their retirement and the loss of their previous identity as a working individual. \\n\\nCONTRADICTS background.'), (11, \"The patient's intention behind this statement is that they are struggling with feelings of inadequacy and loss of identity since retirement, and the fear that their family's perception of them will change, which aligns with their mental health diagnosis of adjustment disorder with depressed mood following retirement, indicating that this line is YES.\"), (13, \"The intention behind the statement seems to be an exploration of the patient's self-worth and identity outside of their professional role, potentially seeking validation and freedom from the pressure of being the primary breadwinner, which aligns with their background as someone with an adjustment disorder with depressed mood following retirement. \\nYES\"), (15, \"The patient's statement appears to be a reflection of a desire to reconnect with family and utilize skills gained from their previous work, indicating a positive aspect of their self-perception and potential to re-engage in social activities, which aligns with the background of being 61 years old and experiencing adjustment disorder with depressed mood following retirement.\"), (17, \"The patient's intention behind the statement seems to be expressing a positive memory of effectively using problem-solving skills, possibly as a way to cope with current feelings of depression and low social engagement following retirement, indicating that they are still capable of positive emotional experiences and effective communication. \\nYES\"), (19, \"The intention behind this statement appears to be a genuine attempt to reconnect with one's partner, possibly as a way to cope with the adjustment disorder with depressed mood following retirement, and it aligns with the given background of the patient as it reflects their desire to strengthen their relationship and potentially improve their mood, and does not contradict any provided information. \\nYES\"), (21, \"The Patient's concern about letting their family down and not being good at being a partner and caregiver aligns with their adjustment disorder with depressed mood following retirement, as this line of thinking suggests they are grappling with feelings of inadequacy and uncertainty about their new role, which is a common struggle for someone adjusting to a significant life change like retirement. YES\"), (23, \"The intention behind the Patient's statement appears to be a concern about taking on too much responsibility and overcommitting in their current life situation, which is likely related to their recent retirement and the need to redefine their role and identity, aligning with their adjustment disorder with depressed mood following retirement. \\n YES\"), (25, \"The intention behind this statement appears to be a reflection on past leadership experiences where the patient successfully built trust and collaboration by being open and receptive, and they're now considering applying these skills to improve their relationship with their wife, indicating a desire to improve their interpersonal relationships. \\n YES\"), (27, \"The intention behind the patient's statement appears to be a desire for open communication and a more balanced partnership with his wife, which aligns with the patient's expressed feelings of taking on too much responsibility and his adjustment disorder with depressed mood following retirement, indicating a willingness to make changes to improve his life and relationships. \\nYES\"), (29, 'The intention behind the statement is that the patient values self-awareness, vulnerability, and openness to collaboration, which is a step towards addressing their adjustment disorder with depressed mood following retirement, and this intention aligns with the provided background as it shows an effort to adapt to a new phase of life. \\nYES'), (31, \"The patient's statement suggests a positive shift in their outlook, indicating a desire to improve their relationship with their wife and actively engage in a collaborative and supportive dynamic, which aligns with the initial stages of addressing their adjustment disorder with depressed mood following retirement, but does not directly contradict their background, as they have not expressed any intention to address substance use or trauma that is not reported, and their low level of social engagement is not addressed in this statement. \\n YES\"), (33, \"The patient's intention behind this statement is that they are feeling a sense of accomplishment and optimism about their therapy progress, and are looking forward to applying these new insights in their personal life, particularly in their relationship with their wife, suggesting that they are taking steps towards positive change and reconnecting with loved ones, which aligns with the goal of overcoming adjustment disorder with depressed mood following retirement, but contradicts the background of having low social engagement as it implies an increase in social interactions and openness to building a relationship.\\n\\n NO.\"), (35, \"The patient's intention behind the statement is that they have found our conversation helpful and are motivated to improve their relationships and communication, particularly with their wife. \\nYES\"), (37, \"The intention behind the patient's statement seems to be an expression of their desire for harmony and growth in their relationship with their wife, and an acknowledgment of the challenges that come with adjusting to new expectations and opinions, which aligns with their adjustment disorder with depressed mood following retirement and their expressed low level of social engagement, indicating a willingness to reconnect with their partner and potentially others. \\nYES\"), (39, 'The interpreted intention behind this statement is that the patient is seeking to improve communication and assertiveness in their relationship with their wife, which aligns with their mental health diagnosis of adjustment disorder with depressed mood following retirement, as it suggests they are actively seeking ways to address the emotional challenges associated with retirement and improve their relationship dynamics. \\nYES'), (41, 'The interpreted intention behind the statement appears to be that the Patient is reflecting on a past situation where they effectively communicated with a team member, and they hope to apply this skill to improve their communication with their wife, suggesting a desire for more effective communication and potentially better relationships. \\n\\nYES'), (43, \"The patient's statement appears to be a genuine attempt to improve their relationship with their wife, which is a positive and proactive step towards addressing their adjustment disorder with depressed mood following retirement, and it does not show any signs of substance use or trauma history, which aligns with their background, and their expressed desire for a deeper connection and intimacy is not contradicted by their reported level of social engagement being low.\"), (45, \"The patient's intention behind the statement is to reflect on the dynamics in their relationship with their wife and potentially grow from it, which aligns with their background as someone experiencing adjustment disorder with depressed mood following retirement, as it suggests they are actively seeking ways to improve their relationship and personal well-being. \\nYES\"), (47, 'The interpreted intention behind this statement is that the Patient is seeking to improve their relationship with their partner through open communication and mutual support, which suggests a desire for stronger social engagement and personal growth, aligning with their expressed hope for a more resilient and connected relationship. \\n NO'), (49, \"The patient's statement suggests a desire to improve their relationship with their wife and work on communication skills, which aligns with a person who is trying to cope with adjustment disorder with depressed mood following retirement, as they likely value their relationships and are motivated to make positive changes. \\nANSWER: YES\"), (51, \"The patient's statement appears to be an expression of a desire to improve communication skills, particularly in relationships, which aligns with the goals of therapy for an adjustment disorder with depressed mood following retirement, and shows a level of emotional intelligence and empathy despite low social engagement, indicating a potentially positive intention. \\nYES\"), (53, \"The intention behind the Patient's statement appears to be a desire to improve their communication skills, particularly active listening, as a way to enhance their interpersonal relationships, likely with their wife, suggesting a motivation to reconnect and improve their social engagement, which is a goal that aligns with their background. \\n YES\"), (55, \"The patient's intention behind this statement appears to be seeking guidance and support in addressing the challenges of implementing new skills and strategies in their relationship, which is a proactive and adaptive approach to cope with their adjustment disorder with depressed mood following retirement, indicating an effort to engage in the therapeutic process and make positive changes. \\n\\nANSWER: YES\"), (57, \"The intention behind the patient's statement seems to be a desire to engage in proactive and collaborative problem-solving with their partner to manage their adjustment disorder with depressed mood following retirement, indicating a willingness to explore and implement strategies to improve their mental health, which aligns with their background.\"), (59, \"The intention behind this statement appears to be a genuine attempt to improve the patient's relationship and communication with their partner, suggesting a desire for deeper connection and intimacy, which aligns with the patient's low level of social engagement and adjustment disorder with depressed mood following retirement, as it indicates a proactive and positive approach to addressing their emotional state and relationships. \\nYES\")], 'P1_prompt_consistency_score': 0, 'P2_prompt_consistency_score': 0.9333333333333333, 'eval_index_consistency': [(3, 'The current line conflicts with the initial statement about being at home all day because it implies that being at home with free time is the problem, but the line suggests that the issue is not the absence of structure or purpose due to being at home, but rather the lack of engaging activities.\\n\\n[0, 1]'), (5, \"There seems to be a conflict in the Patient's description of what they miss about their job, as they previously mentioned finding simple tasks like taking care of their garden or reading a book unfulfilling, but now they describe feeling a sense of contribution and making a difference, which could suggest that these activities, in fact, have the potential to provide a sense of purpose and engagement.\\n\\n[3]\"), (7, 'There is a conflict between the current statement and previous statements because the patient initially described feeling empty and bored since retirement, but now mentions neglecting family relationships, which could be a source of emotional fulfillment and connection.\\n\\n[1, 3]'), (9, \"The conflict is that the patient is expressing a fear of not being a good grandparent, which contradicts their previous statement that they've been neglecting their grandchildren and are worried about missing out on important moments with them. \\n\\n[7]\"), (11, \"The patient's statement contradicts their previous admission that they've been neglecting their family, including their grandchildren, because of their focus on their job, as they now express a fear of imposing on their family or being seen as a burden if they're not working.\\n\\n[7, 8]\"), (13, \"The patient's sudden realization that they've been missing a fundamental aspect of fulfillment through their focus on being valued for who they are, not just what they do, seems to contradict their earlier statements about feeling lost and empty since retirement because they missed the structure and sense of purpose their job provided.\\n\\n[1, 2, 3, 5, 6]\"), (15, \"The patient's current statement appears to be inconsistent with their previous statement about being afraid of being seen as a burden to their family if they're not working. \\n\\n[9, 11]\"), (17, 'The patient\\'s current statement about using problem-solving skills to resolve a disagreement with their wife seems to conflict with their earlier concerns about feeling uncertain about being a \"good enough\" grandparent because they think they don\\'t have the qualifications to be a valuable member of the family outside of being a provider.\\n\\n[9, 11]'), (19, \"The patient's statement conflicts with previous statements about their relationship with their wife, as they previously mentioned neglecting her needs and having issues in their marriage due to their lack of attention. \\n[7, 8]\"), (21, \"The conflict arises because the patient previously acknowledged that their family values them for who they are, not just what they do, but now they're expressing fear of letting them down or disappointing them by prioritizing their relationship with their wife. \\n\\n[11, 12, 13, 15, 19]\"), (23, \"There is a conflict between the patient's current fear of overstepping boundaries and being a perfect partner and caregiver, and their previous admission of neglecting their family and marriage due to their focus on their career. \\n[7, 8, 9, 11]\"), (25, \"The Patient's statement about applying the skills learned from coaching a team at work to their relationship with their wife contradicts their previous statement about being afraid of overstepping and trying to be the perfect partner and caregiver, as they seem to be embracing a more collaborative approach with their wife now.\\n\\n[22, 23]\"), (27, \"The Patient's line is in conflict with their previous statements as they previously expressed a fear of imposing on their family or burdening them with their presence, which is now contradicted by the desire to have their wife help them find a more balanced way of being together. \\n\\n[9, 11]\"), (29, 'The statement by the patient seems to directly contradict their earlier expression of fear in line 21, where they stated that prioritizing their relationship with their wife might be a sign of them letting their family down or disappointing them, implying that taking control and being responsible is a strength. \\n\\n[21, 25]'), (31, \"The patient's expressed hope and excitement for a more collaborative relationship with their wife conflicts with their previous statement in line 21, where they expressed fear that prioritizing their relationship with their wife might be letting their family down or disappointing them, even though they've established that their family values them for who they are, not just what they do.\\n\\n[21]\"), (33, 'There is no clear conflict between this line and the conversation history because the Patient has consistently expressed a desire to improve their relationships with their family, particularly their wife, and has been working through their fears and doubts throughout the session.\\n\\n[]'), (35, 'The current line conflicts with line 31, where the patient expresses excitement about having a collaborative and supportive relationship with their wife and mentions the idea of scheduling a regular check-in, but in this line, they plan to schedule a conversation with their wife, implying a singular event rather than a recurring one.\\n\\n[31]'), (37, \"The patient's current line appears to contradict their previous statement about being afraid of feeling like they're not good enough or qualified to be a partner and caregiver (line 21 and 23) because they are now expressing a willingness to accept differing opinions and be open to growth and learning together, which suggests a shift in their self-perception and attitude towards relationships.\\n\\n[21, 23]\"), (39, \"The statement conflicts with the previous line 28, where the patient acknowledged that seeking their wife's input and support is a sign of strength, rather than weakness.\\n\\n[28]\"), (41, \"The current line of the Patient conflicts with previous statements about their fear of being seen as not good enough and trying to control everything in the relationship, as they now mention setting boundaries in a clear and respectful manner without expressing any fear of being seen as overstepping or imposing on their wife's needs.\\n\\n[21, 22, 23, 39]\"), (43, \"The Patient's expectation that expressing needs and boundaries clearly and respectfully will necessarily lead to a deeper sense of connection and intimacy in the relationship conflicts with their earlier admission that they worry about feeling like they're imposing on their family, including their wife, if they're not contributing financially (line 11 and line 29). \\n\\n[11, 29]\"), (45, \"This line conflicts with the initial statement of seeking the therapist's input and support in line 27 because it implies a reversal of roles in the relationship, where the patient was previously seeking the therapist's input and support, but now it's the wife who is resistant to change.\\n\\n[27]\"), (47, 'The patient\\'s statement about prioritizing mutual support and understanding in their relationship contradicts their previous statement in line 21, where they expressed fear of prioritizing their relationship with their wife, worrying that it might mean they\\'re \"letting my family down or disappointing them.\" \\n\\n[21]'), (49, \"The patient's desire to practice active listening and empathy with their wife in moments of disagreement conflicts with their previous statement at line 17 where they mentioned using their listening skills to find a compromise and strengthen their relationship, implying that they were already actively listening to their wife.\\n\\n[17]\"), (51, \"The patient's statement about mirroring emotions and paraphrasing to ensure understanding seems to contradict their previous statement about being afraid of feeling like they're imposing on their family or burdening them with their presence (lines 9 and 10), as mirroring and paraphrasing would likely involve being present and engaged with their loved ones, rather than feeling like a burden.\\n\\n[9, 10]\"), (53, 'The line conflicts with the fact that the patient has already expressed a desire to practice active listening with their wife in a low-stakes conversation, such as during a routine daily activity, and the therapist suggested doing so in a previous line, but the patient has not done so yet.\\n[43, 49, 52]'), (55, \"The patient's line is in direct conflict with the entire conversation history because it is asking for potential pitfalls or challenges, but the conversation up to this point has been focused on helping the patient build a growth mindset, explore strengths, and develop new skills to improve their relationship with their wife, without discussing potential challenges or pitfalls.\\n\\n[index1, index2, index3, index4, index5, index6, index7, index8, index9, index10, index11, index12, index13, index14, index15, index16, index17, index18, index19, index20, index21, index22, index23, index24, index25, index26, index27, index28, index29, index30, index31, index32, index33, index34, index35, index36, index37, index38, index39, index40, index41, index42, index43, index44, index45, index46, index47, index48, index49, index50, index51, index52, index53]\"), (57, \"The patient's suggestion of tracking progress and celebrating small wins with their wife contradicts their earlier concern about having differing opinions and needs in line 45, where they mentioned being worried that if their wife is resistant to change, it might be a sign that they're not communicating effectively or that they've misunderstood her needs. \\n\\n[45]\"), (59, 'The patient has already mentioned establishing a regular check-in with their wife in line 35, which contradicts the idea of creating a new, regular \"state of our union\" check-in.\\n\\n[35]')], 'P2_index_consistency_score': 0.9011494252873563, 'eval_prompt_consistency_basic': [(1, 'NO. The line spoken by Patient is consistent with their background, as it aligns with their reported feelings of emptiness and boredom following retirement, and does not contradict any of their previously stated traits or behaviors.'), (3, \"YES. The line contradicts the background because it reveals the Patient's emotional vulnerability and willingness to express a deep-seated concern, which is not in line with their background description of having a low level of social engagement.\"), (5, \"NO. \\n\\nThis line does not contradict the background because it is consistent with the Patient's expressed sense of loss and confusion following retirement, as well as their feeling of identity tied to their work, which is plausible given their adjustment disorder with depressed mood.\"), (7, \"NO\\n\\nThis is not a contradiction because it is consistent with the Patient's background of having an adjustment disorder with depressed mood following retirement, as it shows awareness of the issues that have arisen from their job-focused life and the emotional impact on their relationships, which is a common symptom of depression.\"), (9, 'NO. \\n\\nThis line does not contradict the background because while it expresses a concern about feeling like one is not good enough or qualified, it is a plausible and relatable sentiment for a person going through adjustment disorder with depressed mood following retirement, and does not contradict any explicitly stated facts or behaviors in the background.'), (11, 'NO\\n\\nThe line spoken by the Patient is consistent with their background, as it expresses concerns about their identity and worth as a grandparent and an individual, which aligns with their reported adjustment disorder with depressed mood following retirement, and does not introduce any contradictions with their background.'), (13, \"NO\\n\\nThe line does not contradict the background because it aligns with the Patient's current emotional struggles with retirement (adjustment disorder with depressed mood) and expresses a desire for self-worth beyond their previous role of provider, which is a plausible development in their emotional journey.\"), (15, \"YES.\\n\\nThis line contradicts the background because it reveals a sense of pride and confidence in the Patient's capabilities as a grandparent, which is inconsistent with the background information stating they have adjustment disorder with depressed mood following retirement, suggesting they may struggle with low self-esteem.\"), (17, 'YES.\\n\\nThe line spoken by Patient contradicts their background because it suggests a high level of social engagement and conflict resolution skills, which is inconsistent with their reported low level of social engagement.'), (19, \"NO\\n\\nThe line is consistent with the background as it shows the Patient is making an effort to strengthen his relationship with his wife and engage in a positive activity, which aligns with the Patient's expressed desire to rebuild his connection, despite the fact that the background does not explicitly mention their marital relationship prior to this statement.\"), (21, 'NO\\n\\nThis line does not contradict the background because, although the patient expresses self-doubt and fear of disappointing others, it remains within the context of their adjustment disorder with depressed mood following retirement, which could plausibly involve anxiety and self-doubt about new roles in life.'), (23, \"NO. \\n\\nThis line is consistent with the Patient's background because they are expressing anxiety and fear about their new role, which is a plausible emotional response given their recent retirement and adjustment disorder with depressed mood, and it does not contradict any specific details in their background.\"), (25, 'NO. The line spoken by the Patient is consistent with their background, as it reflects a past experience of social engagement and teamwork, and an attempt to apply learned skills to a personal relationship, which is a plausible and healthy coping strategy for someone with an adjustment disorder with depressed mood following retirement.'), (27, 'NO\\n\\nThe line is consistent with the background as it shows the Patient acknowledging the need for help and support, which aligns with their expressed feelings of emptiness and disconnection due to retirement, and involves having a conversation with a partner, indicating they are willing to engage in a relationship despite their low level of social engagement.'), (29, \"YES. This line contradicts the background because it shows the Patient to be willing to be vulnerable, admit they need help, and value their partner's input, which is not consistent with the background stating that Patient has a low level of social engagement and does not exhibit a history of vulnerability, particularly in a context that requires openness and trust.\"), (31, 'NO\\n\\nThis line is not a contradiction to the background because it expresses a desire for a more collaborative and supportive relationship with his wife, which is a positive sentiment, but does not necessarily indicate a shift in his level of social engagement, and in fact, suggests he is seeking a new source of support which is aligned with his adjustment disorder diagnosis.'), (33, \"NO. This line is consistent with the Patient's background because they express a sense of relief and hope, which is a positive emotional tone, and a desire for a collaborative relationship with their wife, but the tone does not contrast with their background diagnosis of adjustment disorder with depressed mood following retirement.\"), (35, 'NO\\n\\nThe line spoken by Patient does not contradict the background, as it reflects a positive and proactive attitude towards addressing personal issues, which is not typically associated with their described adjustment disorder with depressed mood, but their low level of social engagement could be slowly improving.'), (37, \"NO\\n\\nThe Patient's utterance is consistent with their background because it shows a reflective and proactive approach to addressing potential relationship issues, which is a mature and emotionally intelligent response from someone who is trying to navigate their adjustment to retirement and maintain a connection with their partner, despite their low level of social engagement.\"), (39, 'YES. \\n\\nThis line contradicts the background because it shows the Patient expressing self-awareness, emotional openness, and a willingness to engage in personal relationships, which is not consistent with their reported low level of social engagement and adjustment disorder with depressed mood following retirement.'), (41, 'NO\\n\\nThe line spoken by Patient is consistent with their background, as it shows an example of them having successfully set a deadline and communicating effectively in a professional setting, which does not contradict their previously described low level of social engagement or adjustment disorder with depressed mood.'), (43, \"NO\\n\\nThe line is consistent with the background as it shows a desire for a collaborative relationship and improved communication, which aligns with the Patient's stated goal of finding a solution with their wife, and does not contradict any aspect of their background.\"), (45, 'NO. The line spoken by the Patient shows a thoughtful and introspective attitude towards communication and relationship dynamics, which aligns with their low level of social engagement and adjustment disorder with depressed mood following retirement, as they are actively seeking a more honest conversation rather than avoiding it.'), (47, \"NO\\n\\nThe line is consistent with the background because it describes a desire for mutual support and connection with one's partner, which is a positive and pro-social statement that is not inconsistent with the Patient's adjustment disorder with depressed mood following retirement, and shows a willingness to work on their relationship, which is not in conflict with their low level of social engagement.\"), (49, 'NO. This line is consistent with the background because the Patient is expressing a desire to improve communication with their wife, which aligns with their reported struggles with conflicts in their relationship following retirement, and actively seeking to deepen their connection, which contrasts with their low level of social engagement.'), (51, 'NO\\n\\nThis is not a contradiction because the line spoken by the Patient does not contradict any of the given background information; instead, it suggests an increased interest in active listening and empathy, which is a positive and socially engaging behavior.'), (53, \"NO. \\n\\nThe line does not directly contradict any part of the background, and instead shows the Patient's proactive engagement with therapy and a willingness to learn a new skill, which is consistent with their desire for support in managing their adjustment disorder with depressed mood following retirement.\"), (55, 'NO\\n\\nThis line does not contradict the background because it shows the Patient is actively seeking help and strategies to improve their relationship, which is a new and positive step for someone with a low level of social engagement and adjustment disorder with depressed mood following retirement, and does not indicate any contradiction with their background.'), (57, 'NO.\\n\\nThis line is consistent with the background because it shows the Patient is open to finding solutions to their adjustment disorder with depressed mood, specifically seeking to track progress and celebrate successes, which is a constructive approach that aligns with their stated desire to experiment and try new methods, and there is no indication of any behavior or emotional stance that contradicts their background.'), (59, 'NO. The line spoken by Patient is consistent with their background as it shows an interest in deepening their relationship and communication with their wife, which aligns with the desire for connection that is implied by their expressed hope to improve their adjustment to retirement and manage their depressed mood.')], 'P1_prompt_consistency_score_basic': 0, 'P2_prompt_consistency_score_basic': 0.8333333333333334}\n",
      "5\n"
     ]
    },
    {
     "name": "stderr",
     "output_type": "stream",
     "text": [
      "Processed prompts: 100%|██████████| 1/1 [00:00<00:00,  1.45it/s, est. speed input: 223.83 toks/s, output: 45.06 toks/s]\n"
     ]
    },
    {
     "name": "stdout",
     "output_type": "stream",
     "text": [
      "Expected Role Therapist\n"
     ]
    },
    {
     "name": "stderr",
     "output_type": "stream",
     "text": [
      "Processed prompts: 100%|██████████| 1/1 [00:01<00:00,  1.24s/it, est. speed input: 170.70 toks/s, output: 44.50 toks/s]\n"
     ]
    },
    {
     "name": "stdout",
     "output_type": "stream",
     "text": [
      "Expected Role Patient\n"
     ]
    },
    {
     "name": "stderr",
     "output_type": "stream",
     "text": [
      "Processed prompts: 100%|██████████| 1/1 [00:00<00:00,  1.14it/s, est. speed input: 308.05 toks/s, output: 44.66 toks/s]\n"
     ]
    },
    {
     "name": "stdout",
     "output_type": "stream",
     "text": [
      "Expected Role Therapist\n"
     ]
    },
    {
     "name": "stderr",
     "output_type": "stream",
     "text": [
      "Processed prompts: 100%|██████████| 1/1 [00:01<00:00,  1.81s/it, est. speed input: 171.11 toks/s, output: 44.85 toks/s]\n"
     ]
    },
    {
     "name": "stdout",
     "output_type": "stream",
     "text": [
      "Expected Role Patient\n"
     ]
    },
    {
     "name": "stderr",
     "output_type": "stream",
     "text": [
      "Processed prompts: 100%|██████████| 1/1 [00:01<00:00,  1.54s/it, est. speed input: 254.74 toks/s, output: 44.72 toks/s]\n"
     ]
    },
    {
     "name": "stdout",
     "output_type": "stream",
     "text": [
      "Expected Role Therapist\n"
     ]
    },
    {
     "name": "stderr",
     "output_type": "stream",
     "text": [
      "Processed prompts: 100%|██████████| 1/1 [00:01<00:00,  1.54s/it, est. speed input: 299.94 toks/s, output: 44.70 toks/s]\n"
     ]
    },
    {
     "name": "stdout",
     "output_type": "stream",
     "text": [
      "Expected Role Patient\n"
     ]
    },
    {
     "name": "stderr",
     "output_type": "stream",
     "text": [
      "Processed prompts: 100%|██████████| 1/1 [00:01<00:00,  1.57s/it, est. speed input: 341.72 toks/s, output: 44.71 toks/s]\n"
     ]
    },
    {
     "name": "stdout",
     "output_type": "stream",
     "text": [
      "Expected Role Therapist\n"
     ]
    },
    {
     "name": "stderr",
     "output_type": "stream",
     "text": [
      "Processed prompts: 100%|██████████| 1/1 [00:01<00:00,  1.43s/it, est. speed input: 423.00 toks/s, output: 44.67 toks/s]\n"
     ]
    },
    {
     "name": "stdout",
     "output_type": "stream",
     "text": [
      "Expected Role Patient\n"
     ]
    },
    {
     "name": "stderr",
     "output_type": "stream",
     "text": [
      "Processed prompts: 100%|██████████| 1/1 [00:01<00:00,  1.06s/it, est. speed input: 636.00 toks/s, output: 44.42 toks/s]\n"
     ]
    },
    {
     "name": "stdout",
     "output_type": "stream",
     "text": [
      "Expected Role Therapist\n"
     ]
    },
    {
     "name": "stderr",
     "output_type": "stream",
     "text": [
      "Processed prompts: 100%|██████████| 1/1 [00:01<00:00,  1.66s/it, est. speed input: 435.00 toks/s, output: 44.65 toks/s]\n"
     ]
    },
    {
     "name": "stdout",
     "output_type": "stream",
     "text": [
      "Expected Role Patient\n"
     ]
    },
    {
     "name": "stderr",
     "output_type": "stream",
     "text": [
      "Processed prompts: 100%|██████████| 1/1 [00:01<00:00,  1.57s/it, est. speed input: 507.25 toks/s, output: 44.50 toks/s]\n"
     ]
    },
    {
     "name": "stdout",
     "output_type": "stream",
     "text": [
      "Expected Role Therapist\n"
     ]
    },
    {
     "name": "stderr",
     "output_type": "stream",
     "text": [
      "Processed prompts: 100%|██████████| 1/1 [00:01<00:00,  1.64s/it, est. speed input: 529.00 toks/s, output: 44.44 toks/s]\n"
     ]
    },
    {
     "name": "stdout",
     "output_type": "stream",
     "text": [
      "Expected Role Patient\n"
     ]
    },
    {
     "name": "stderr",
     "output_type": "stream",
     "text": [
      "Processed prompts: 100%|██████████| 1/1 [00:01<00:00,  1.02s/it, est. speed input: 924.06 toks/s, output: 44.00 toks/s]\n"
     ]
    },
    {
     "name": "stdout",
     "output_type": "stream",
     "text": [
      "Expected Role Therapist\n"
     ]
    },
    {
     "name": "stderr",
     "output_type": "stream",
     "text": [
      "Processed prompts: 100%|██████████| 1/1 [00:01<00:00,  1.62s/it, est. speed input: 611.66 toks/s, output: 44.44 toks/s]\n"
     ]
    },
    {
     "name": "stdout",
     "output_type": "stream",
     "text": [
      "Expected Role Patient\n"
     ]
    },
    {
     "name": "stderr",
     "output_type": "stream",
     "text": [
      "Processed prompts: 100%|██████████| 1/1 [00:01<00:00,  1.67s/it, est. speed input: 639.68 toks/s, output: 44.41 toks/s]\n"
     ]
    },
    {
     "name": "stdout",
     "output_type": "stream",
     "text": [
      "Expected Role Therapist\n"
     ]
    },
    {
     "name": "stderr",
     "output_type": "stream",
     "text": [
      "Processed prompts: 100%|██████████| 1/1 [00:01<00:00,  1.60s/it, est. speed input: 711.50 toks/s, output: 44.27 toks/s]\n"
     ]
    },
    {
     "name": "stdout",
     "output_type": "stream",
     "text": [
      "Expected Role Patient\n"
     ]
    },
    {
     "name": "stderr",
     "output_type": "stream",
     "text": [
      "Processed prompts: 100%|██████████| 1/1 [00:01<00:00,  1.86s/it, est. speed input: 654.30 toks/s, output: 44.16 toks/s]\n"
     ]
    },
    {
     "name": "stdout",
     "output_type": "stream",
     "text": [
      "Expected Role Therapist\n"
     ]
    },
    {
     "name": "stderr",
     "output_type": "stream",
     "text": [
      "Processed prompts: 100%|██████████| 1/1 [00:02<00:00,  2.10s/it, est. speed input: 617.90 toks/s, output: 44.27 toks/s]\n"
     ]
    },
    {
     "name": "stdout",
     "output_type": "stream",
     "text": [
      "Expected Role Patient\n"
     ]
    },
    {
     "name": "stderr",
     "output_type": "stream",
     "text": [
      "Processed prompts: 100%|██████████| 1/1 [00:00<00:00,  1.15it/s, est. speed input: 1606.81 toks/s, output: 43.80 toks/s]\n"
     ]
    },
    {
     "name": "stdout",
     "output_type": "stream",
     "text": [
      "Expected Role Therapist\n"
     ]
    },
    {
     "name": "stderr",
     "output_type": "stream",
     "text": [
      "Processed prompts: 100%|██████████| 1/1 [00:02<00:00,  2.15s/it, est. speed input: 668.15 toks/s, output: 44.29 toks/s]\n"
     ]
    },
    {
     "name": "stdout",
     "output_type": "stream",
     "text": [
      "Expected Role Patient\n"
     ]
    },
    {
     "name": "stderr",
     "output_type": "stream",
     "text": [
      "Processed prompts: 100%|██████████| 1/1 [00:01<00:00,  1.84s/it, est. speed input: 834.34 toks/s, output: 44.14 toks/s]\n"
     ]
    },
    {
     "name": "stdout",
     "output_type": "stream",
     "text": [
      "Expected Role Therapist\n"
     ]
    },
    {
     "name": "stderr",
     "output_type": "stream",
     "text": [
      "Processed prompts: 100%|██████████| 1/1 [00:01<00:00,  1.75s/it, est. speed input: 922.69 toks/s, output: 44.05 toks/s]\n"
     ]
    },
    {
     "name": "stdout",
     "output_type": "stream",
     "text": [
      "Expected Role Patient\n"
     ]
    },
    {
     "name": "stderr",
     "output_type": "stream",
     "text": [
      "Processed prompts: 100%|██████████| 1/1 [00:01<00:00,  1.79s/it, est. speed input: 946.50 toks/s, output: 44.17 toks/s]\n"
     ]
    },
    {
     "name": "stdout",
     "output_type": "stream",
     "text": [
      "Expected Role Therapist\n"
     ]
    },
    {
     "name": "stderr",
     "output_type": "stream",
     "text": [
      "Processed prompts: 100%|██████████| 1/1 [00:01<00:00,  1.97s/it, est. speed input: 899.89 toks/s, output: 44.16 toks/s]\n"
     ]
    },
    {
     "name": "stdout",
     "output_type": "stream",
     "text": [
      "Expected Role Patient\n"
     ]
    },
    {
     "name": "stderr",
     "output_type": "stream",
     "text": [
      "Processed prompts: 100%|██████████| 1/1 [00:01<00:00,  1.30s/it, est. speed input: 1433.70 toks/s, output: 43.86 toks/s]\n"
     ]
    },
    {
     "name": "stdout",
     "output_type": "stream",
     "text": [
      "Expected Role Therapist\n"
     ]
    },
    {
     "name": "stderr",
     "output_type": "stream",
     "text": [
      "Processed prompts: 100%|██████████| 1/1 [00:01<00:00,  1.82s/it, est. speed input: 1054.66 toks/s, output: 43.92 toks/s]\n"
     ]
    },
    {
     "name": "stdout",
     "output_type": "stream",
     "text": [
      "Expected Role Patient\n"
     ]
    },
    {
     "name": "stderr",
     "output_type": "stream",
     "text": [
      "Processed prompts: 100%|██████████| 1/1 [00:01<00:00,  1.85s/it, est. speed input: 1081.63 toks/s, output: 43.72 toks/s]\n"
     ]
    },
    {
     "name": "stdout",
     "output_type": "stream",
     "text": [
      "Expected Role Therapist\n"
     ]
    },
    {
     "name": "stderr",
     "output_type": "stream",
     "text": [
      "Processed prompts: 100%|██████████| 1/1 [00:02<00:00,  2.14s/it, est. speed input: 973.27 toks/s, output: 43.86 toks/s]\n"
     ]
    },
    {
     "name": "stdout",
     "output_type": "stream",
     "text": [
      "Expected Role Patient\n"
     ]
    },
    {
     "name": "stderr",
     "output_type": "stream",
     "text": [
      "Processed prompts: 100%|██████████| 1/1 [00:02<00:00,  2.08s/it, est. speed input: 1050.75 toks/s, output: 43.80 toks/s]\n"
     ]
    },
    {
     "name": "stdout",
     "output_type": "stream",
     "text": [
      "Expected Role Therapist\n"
     ]
    },
    {
     "name": "stderr",
     "output_type": "stream",
     "text": [
      "Processed prompts: 100%|██████████| 1/1 [00:02<00:00,  2.15s/it, est. speed input: 1058.35 toks/s, output: 43.73 toks/s]\n"
     ]
    },
    {
     "name": "stdout",
     "output_type": "stream",
     "text": [
      "Expected Role Patient\n"
     ]
    },
    {
     "name": "stderr",
     "output_type": "stream",
     "text": [
      "Processed prompts: 100%|██████████| 1/1 [00:01<00:00,  1.06s/it, est. speed input: 2237.73 toks/s, output: 43.40 toks/s]\n"
     ]
    },
    {
     "name": "stdout",
     "output_type": "stream",
     "text": [
      "Expected Role Therapist\n"
     ]
    },
    {
     "name": "stderr",
     "output_type": "stream",
     "text": [
      "Processed prompts: 100%|██████████| 1/1 [00:01<00:00,  1.38s/it, est. speed input: 1757.25 toks/s, output: 43.59 toks/s]\n"
     ]
    },
    {
     "name": "stdout",
     "output_type": "stream",
     "text": [
      "Expected Role Patient\n"
     ]
    },
    {
     "name": "stderr",
     "output_type": "stream",
     "text": [
      "Processed prompts: 100%|██████████| 1/1 [00:01<00:00,  1.53s/it, est. speed input: 1618.36 toks/s, output: 43.69 toks/s]\n"
     ]
    },
    {
     "name": "stdout",
     "output_type": "stream",
     "text": [
      "Expected Role Therapist\n"
     ]
    },
    {
     "name": "stderr",
     "output_type": "stream",
     "text": [
      "Processed prompts: 100%|██████████| 1/1 [00:01<00:00,  1.54s/it, est. speed input: 1654.72 toks/s, output: 43.48 toks/s]\n"
     ]
    },
    {
     "name": "stdout",
     "output_type": "stream",
     "text": [
      "Expected Role Patient\n"
     ]
    },
    {
     "name": "stderr",
     "output_type": "stream",
     "text": [
      "Processed prompts: 100%|██████████| 1/1 [00:01<00:00,  1.40s/it, est. speed input: 1873.34 toks/s, output: 43.62 toks/s]\n"
     ]
    },
    {
     "name": "stdout",
     "output_type": "stream",
     "text": [
      "Expected Role Therapist\n"
     ]
    },
    {
     "name": "stderr",
     "output_type": "stream",
     "text": [
      "Processed prompts: 100%|██████████| 1/1 [00:01<00:00,  1.56s/it, est. speed input: 1716.11 toks/s, output: 43.51 toks/s]\n"
     ]
    },
    {
     "name": "stdout",
     "output_type": "stream",
     "text": [
      "Expected Role Patient\n"
     ]
    },
    {
     "name": "stderr",
     "output_type": "stream",
     "text": [
      "Processed prompts: 100%|██████████| 1/1 [00:01<00:00,  1.77s/it, est. speed input: 1559.67 toks/s, output: 43.62 toks/s]\n"
     ]
    },
    {
     "name": "stdout",
     "output_type": "stream",
     "text": [
      "Expected Role Therapist\n"
     ]
    },
    {
     "name": "stderr",
     "output_type": "stream",
     "text": [
      "Processed prompts: 100%|██████████| 1/1 [00:02<00:00,  2.15s/it, est. speed input: 1315.53 toks/s, output: 43.68 toks/s]\n"
     ]
    },
    {
     "name": "stdout",
     "output_type": "stream",
     "text": [
      "Expected Role Patient\n"
     ]
    },
    {
     "name": "stderr",
     "output_type": "stream",
     "text": [
      "Processed prompts: 100%|██████████| 1/1 [00:01<00:00,  1.86s/it, est. speed input: 1573.65 toks/s, output: 43.53 toks/s]\n"
     ]
    },
    {
     "name": "stdout",
     "output_type": "stream",
     "text": [
      "Expected Role Therapist\n"
     ]
    },
    {
     "name": "stderr",
     "output_type": "stream",
     "text": [
      "Processed prompts: 100%|██████████| 1/1 [00:01<00:00,  1.69s/it, est. speed input: 1785.62 toks/s, output: 43.31 toks/s]\n"
     ]
    },
    {
     "name": "stdout",
     "output_type": "stream",
     "text": [
      "Expected Role Patient\n"
     ]
    },
    {
     "name": "stderr",
     "output_type": "stream",
     "text": [
      "Processed prompts: 100%|██████████| 1/1 [00:02<00:00,  2.37s/it, est. speed input: 1302.37 toks/s, output: 43.47 toks/s]\n"
     ]
    },
    {
     "name": "stdout",
     "output_type": "stream",
     "text": [
      "Expected Role Therapist\n"
     ]
    },
    {
     "name": "stderr",
     "output_type": "stream",
     "text": [
      "Processed prompts: 100%|██████████| 1/1 [00:02<00:00,  2.24s/it, est. speed input: 1422.67 toks/s, output: 43.26 toks/s]\n"
     ]
    },
    {
     "name": "stdout",
     "output_type": "stream",
     "text": [
      "Expected Role Patient\n"
     ]
    },
    {
     "name": "stderr",
     "output_type": "stream",
     "text": [
      "Processed prompts: 100%|██████████| 1/1 [00:01<00:00,  1.23s/it, est. speed input: 2679.31 toks/s, output: 43.16 toks/s]\n"
     ]
    },
    {
     "name": "stdout",
     "output_type": "stream",
     "text": [
      "Expected Role Therapist\n"
     ]
    },
    {
     "name": "stderr",
     "output_type": "stream",
     "text": [
      "Processed prompts: 100%|██████████| 1/1 [00:01<00:00,  1.37s/it, est. speed input: 2450.45 toks/s, output: 43.23 toks/s]\n"
     ]
    },
    {
     "name": "stdout",
     "output_type": "stream",
     "text": [
      "Expected Role Patient\n"
     ]
    },
    {
     "name": "stderr",
     "output_type": "stream",
     "text": [
      "Processed prompts: 100%|██████████| 1/1 [00:01<00:00,  1.30s/it, est. speed input: 2631.64 toks/s, output: 43.27 toks/s]\n"
     ]
    },
    {
     "name": "stdout",
     "output_type": "stream",
     "text": [
      "Expected Role Therapist\n"
     ]
    },
    {
     "name": "stderr",
     "output_type": "stream",
     "text": [
      "Processed prompts: 100%|██████████| 1/1 [00:02<00:00,  2.07s/it, est. speed input: 1677.49 toks/s, output: 43.11 toks/s]\n"
     ]
    },
    {
     "name": "stdout",
     "output_type": "stream",
     "text": [
      "Expected Role Patient\n"
     ]
    },
    {
     "name": "stderr",
     "output_type": "stream",
     "text": [
      "Processed prompts: 100%|██████████| 1/1 [00:01<00:00,  1.99s/it, est. speed input: 1789.49 toks/s, output: 43.29 toks/s]\n"
     ]
    },
    {
     "name": "stdout",
     "output_type": "stream",
     "text": [
      "Expected Role Therapist\n"
     ]
    },
    {
     "name": "stderr",
     "output_type": "stream",
     "text": [
      "Processed prompts: 100%|██████████| 1/1 [00:02<00:00,  2.07s/it, est. speed input: 1764.10 toks/s, output: 43.11 toks/s]\n"
     ]
    },
    {
     "name": "stdout",
     "output_type": "stream",
     "text": [
      "Expected Role Patient\n"
     ]
    },
    {
     "name": "stderr",
     "output_type": "stream",
     "text": [
      "Processed prompts: 100%|██████████| 1/1 [00:01<00:00,  1.56s/it, est. speed input: 2401.16 toks/s, output: 43.08 toks/s]\n"
     ]
    },
    {
     "name": "stdout",
     "output_type": "stream",
     "text": [
      "Expected Role Therapist\n"
     ]
    },
    {
     "name": "stderr",
     "output_type": "stream",
     "text": [
      "Processed prompts: 100%|██████████| 1/1 [00:02<00:00,  2.09s/it, est. speed input: 1822.18 toks/s, output: 43.13 toks/s]\n"
     ]
    },
    {
     "name": "stdout",
     "output_type": "stream",
     "text": [
      "Expected Role Patient\n"
     ]
    },
    {
     "name": "stderr",
     "output_type": "stream",
     "text": [
      "Processed prompts: 100%|██████████| 1/1 [00:01<00:00,  1.26s/it, est. speed input: 3092.24 toks/s, output: 42.87 toks/s]\n"
     ]
    },
    {
     "name": "stdout",
     "output_type": "stream",
     "text": [
      "Expected Role Therapist\n"
     ]
    },
    {
     "name": "stderr",
     "output_type": "stream",
     "text": [
      "Processed prompts: 100%|██████████| 1/1 [00:02<00:00,  2.13s/it, est. speed input: 1853.38 toks/s, output: 43.17 toks/s]\n"
     ]
    },
    {
     "name": "stdout",
     "output_type": "stream",
     "text": [
      "Expected Role Patient\n"
     ]
    },
    {
     "name": "stderr",
     "output_type": "stream",
     "text": [
      "Processed prompts: 100%|██████████| 1/1 [00:02<00:00,  2.04s/it, est. speed input: 1980.37 toks/s, output: 43.08 toks/s]\n"
     ]
    },
    {
     "name": "stdout",
     "output_type": "stream",
     "text": [
      "Expected Role Therapist\n"
     ]
    },
    {
     "name": "stderr",
     "output_type": "stream",
     "text": [
      "Processed prompts: 100%|██████████| 1/1 [00:02<00:00,  2.17s/it, est. speed input: 1902.93 toks/s, output: 42.81 toks/s]\n"
     ]
    },
    {
     "name": "stdout",
     "output_type": "stream",
     "text": [
      "Expected Role Patient\n"
     ]
    },
    {
     "name": "stderr",
     "output_type": "stream",
     "text": [
      "Processed prompts: 100%|██████████| 1/1 [00:02<00:00,  2.51s/it, est. speed input: 1684.47 toks/s, output: 43.01 toks/s]\n"
     ]
    },
    {
     "name": "stdout",
     "output_type": "stream",
     "text": [
      "Expected Role Therapist\n"
     ]
    },
    {
     "name": "stderr",
     "output_type": "stream",
     "text": [
      "Processed prompts: 100%|██████████| 1/1 [00:02<00:00,  2.56s/it, est. speed input: 1696.82 toks/s, output: 42.63 toks/s]\n"
     ]
    },
    {
     "name": "stdout",
     "output_type": "stream",
     "text": [
      "Expected Role Patient\n"
     ]
    },
    {
     "name": "stderr",
     "output_type": "stream",
     "text": [
      "Processed prompts: 100%|██████████| 1/1 [00:01<00:00,  1.26s/it, est. speed input: 3534.58 toks/s, output: 42.09 toks/s]\n"
     ]
    },
    {
     "name": "stdout",
     "output_type": "stream",
     "text": [
      "Expected Role Therapist\n"
     ]
    },
    {
     "name": "stderr",
     "output_type": "stream",
     "text": [
      "Processed prompts: 100%|██████████| 1/1 [00:02<00:00,  2.07s/it, est. speed input: 2181.35 toks/s, output: 42.61 toks/s]\n"
     ]
    },
    {
     "name": "stdout",
     "output_type": "stream",
     "text": [
      "Expected Role Patient\n"
     ]
    },
    {
     "name": "stderr",
     "output_type": "stream",
     "text": [
      "Processed prompts: 100%|██████████| 1/1 [00:02<00:00,  2.57s/it, est. speed input: 1785.78 toks/s, output: 42.74 toks/s]\n"
     ]
    },
    {
     "name": "stdout",
     "output_type": "stream",
     "text": [
      "Expected Role Therapist\n"
     ]
    },
    {
     "name": "stderr",
     "output_type": "stream",
     "text": [
      "Processed prompts: 100%|██████████| 1/1 [00:02<00:00,  2.41s/it, est. speed input: 1950.02 toks/s, output: 42.67 toks/s]\n"
     ]
    },
    {
     "name": "stdout",
     "output_type": "stream",
     "text": [
      "Expected Role Patient\n",
      "eval_prompt_consistency\n",
      "eval_prompt_consistency\n"
     ]
    },
    {
     "name": "stderr",
     "output_type": "stream",
     "text": [
      "Processed prompts: 100%|██████████| 1/1 [00:01<00:00,  1.42s/it, est. speed input: 269.14 toks/s, output: 44.27 toks/s]\n"
     ]
    },
    {
     "name": "stdout",
     "output_type": "stream",
     "text": [
      "eval_prompt_consistency\n",
      "eval_prompt_consistency\n"
     ]
    },
    {
     "name": "stderr",
     "output_type": "stream",
     "text": [
      "Processed prompts: 100%|██████████| 1/1 [00:01<00:00,  1.19s/it, est. speed input: 344.96 toks/s, output: 44.70 toks/s]\n"
     ]
    },
    {
     "name": "stdout",
     "output_type": "stream",
     "text": [
      "eval_prompt_consistency\n",
      "eval_prompt_consistency\n"
     ]
    },
    {
     "name": "stderr",
     "output_type": "stream",
     "text": [
      "Processed prompts: 100%|██████████| 1/1 [00:01<00:00,  1.76s/it, est. speed input: 225.55 toks/s, output: 44.88 toks/s]\n"
     ]
    },
    {
     "name": "stdout",
     "output_type": "stream",
     "text": [
      "eval_prompt_consistency\n",
      "eval_prompt_consistency\n"
     ]
    },
    {
     "name": "stderr",
     "output_type": "stream",
     "text": [
      "Processed prompts: 100%|██████████| 1/1 [00:02<00:00,  2.38s/it, est. speed input: 164.85 toks/s, output: 44.58 toks/s]\n"
     ]
    },
    {
     "name": "stdout",
     "output_type": "stream",
     "text": [
      "eval_prompt_consistency\n",
      "eval_prompt_consistency\n"
     ]
    },
    {
     "name": "stderr",
     "output_type": "stream",
     "text": [
      "Processed prompts: 100%|██████████| 1/1 [00:01<00:00,  1.48s/it, est. speed input: 272.60 toks/s, output: 44.75 toks/s]\n"
     ]
    },
    {
     "name": "stdout",
     "output_type": "stream",
     "text": [
      "eval_prompt_consistency\n",
      "eval_prompt_consistency\n"
     ]
    },
    {
     "name": "stderr",
     "output_type": "stream",
     "text": [
      "Processed prompts: 100%|██████████| 1/1 [00:01<00:00,  1.28s/it, est. speed input: 314.64 toks/s, output: 44.72 toks/s]\n"
     ]
    },
    {
     "name": "stdout",
     "output_type": "stream",
     "text": [
      "eval_prompt_consistency\n",
      "eval_prompt_consistency\n"
     ]
    },
    {
     "name": "stderr",
     "output_type": "stream",
     "text": [
      "Processed prompts: 100%|██████████| 1/1 [00:01<00:00,  1.69s/it, est. speed input: 237.36 toks/s, output: 44.50 toks/s]\n"
     ]
    },
    {
     "name": "stdout",
     "output_type": "stream",
     "text": [
      "eval_prompt_consistency\n",
      "eval_prompt_consistency\n"
     ]
    },
    {
     "name": "stderr",
     "output_type": "stream",
     "text": [
      "Processed prompts: 100%|██████████| 1/1 [00:01<00:00,  1.18s/it, est. speed input: 337.42 toks/s, output: 44.82 toks/s]\n"
     ]
    },
    {
     "name": "stdout",
     "output_type": "stream",
     "text": [
      "eval_prompt_consistency\n",
      "eval_prompt_consistency\n"
     ]
    },
    {
     "name": "stderr",
     "output_type": "stream",
     "text": [
      "Processed prompts: 100%|██████████| 1/1 [00:01<00:00,  1.52s/it, est. speed input: 276.72 toks/s, output: 44.69 toks/s]\n"
     ]
    },
    {
     "name": "stdout",
     "output_type": "stream",
     "text": [
      "eval_prompt_consistency\n",
      "eval_prompt_consistency\n"
     ]
    },
    {
     "name": "stderr",
     "output_type": "stream",
     "text": [
      "Processed prompts: 100%|██████████| 1/1 [00:01<00:00,  1.55s/it, est. speed input: 273.70 toks/s, output: 44.65 toks/s]\n"
     ]
    },
    {
     "name": "stdout",
     "output_type": "stream",
     "text": [
      "eval_prompt_consistency\n",
      "eval_prompt_consistency\n"
     ]
    },
    {
     "name": "stderr",
     "output_type": "stream",
     "text": [
      "Processed prompts: 100%|██████████| 1/1 [00:01<00:00,  1.34s/it, est. speed input: 302.12 toks/s, output: 44.76 toks/s]\n"
     ]
    },
    {
     "name": "stdout",
     "output_type": "stream",
     "text": [
      "eval_prompt_consistency\n",
      "eval_prompt_consistency\n"
     ]
    },
    {
     "name": "stderr",
     "output_type": "stream",
     "text": [
      "Processed prompts: 100%|██████████| 1/1 [00:02<00:00,  2.07s/it, est. speed input: 200.11 toks/s, output: 44.84 toks/s]\n"
     ]
    },
    {
     "name": "stdout",
     "output_type": "stream",
     "text": [
      "eval_prompt_consistency\n",
      "eval_prompt_consistency\n"
     ]
    },
    {
     "name": "stderr",
     "output_type": "stream",
     "text": [
      "Processed prompts: 100%|██████████| 1/1 [00:01<00:00,  1.50s/it, est. speed input: 272.73 toks/s, output: 44.79 toks/s]\n"
     ]
    },
    {
     "name": "stdout",
     "output_type": "stream",
     "text": [
      "eval_prompt_consistency\n",
      "eval_prompt_consistency\n"
     ]
    },
    {
     "name": "stderr",
     "output_type": "stream",
     "text": [
      "Processed prompts: 100%|██████████| 1/1 [00:01<00:00,  1.54s/it, est. speed input: 273.76 toks/s, output: 44.76 toks/s]\n"
     ]
    },
    {
     "name": "stdout",
     "output_type": "stream",
     "text": [
      "eval_prompt_consistency\n",
      "eval_prompt_consistency\n"
     ]
    },
    {
     "name": "stderr",
     "output_type": "stream",
     "text": [
      "Processed prompts: 100%|██████████| 1/1 [00:01<00:00,  1.44s/it, est. speed input: 293.83 toks/s, output: 44.56 toks/s]\n"
     ]
    },
    {
     "name": "stdout",
     "output_type": "stream",
     "text": [
      "eval_prompt_consistency\n",
      "eval_prompt_consistency\n"
     ]
    },
    {
     "name": "stderr",
     "output_type": "stream",
     "text": [
      "Processed prompts: 100%|██████████| 1/1 [00:01<00:00,  1.47s/it, est. speed input: 263.65 toks/s, output: 44.85 toks/s]\n"
     ]
    },
    {
     "name": "stdout",
     "output_type": "stream",
     "text": [
      "eval_prompt_consistency\n",
      "eval_prompt_consistency\n"
     ]
    },
    {
     "name": "stderr",
     "output_type": "stream",
     "text": [
      "Processed prompts: 100%|██████████| 1/1 [00:01<00:00,  1.44s/it, est. speed input: 274.91 toks/s, output: 44.54 toks/s]\n"
     ]
    },
    {
     "name": "stdout",
     "output_type": "stream",
     "text": [
      "eval_prompt_consistency\n",
      "eval_prompt_consistency\n"
     ]
    },
    {
     "name": "stderr",
     "output_type": "stream",
     "text": [
      "Processed prompts: 100%|██████████| 1/1 [00:01<00:00,  1.34s/it, est. speed input: 295.10 toks/s, output: 44.71 toks/s]\n"
     ]
    },
    {
     "name": "stdout",
     "output_type": "stream",
     "text": [
      "eval_prompt_consistency\n",
      "eval_prompt_consistency\n"
     ]
    },
    {
     "name": "stderr",
     "output_type": "stream",
     "text": [
      "Processed prompts: 100%|██████████| 1/1 [00:01<00:00,  1.30s/it, est. speed input: 324.95 toks/s, output: 44.66 toks/s]\n"
     ]
    },
    {
     "name": "stdout",
     "output_type": "stream",
     "text": [
      "eval_prompt_consistency\n",
      "eval_prompt_consistency\n"
     ]
    },
    {
     "name": "stderr",
     "output_type": "stream",
     "text": [
      "Processed prompts: 100%|██████████| 1/1 [00:02<00:00,  2.24s/it, est. speed input: 178.88 toks/s, output: 44.61 toks/s]\n"
     ]
    },
    {
     "name": "stdout",
     "output_type": "stream",
     "text": [
      "eval_prompt_consistency\n",
      "eval_prompt_consistency\n"
     ]
    },
    {
     "name": "stderr",
     "output_type": "stream",
     "text": [
      "Processed prompts: 100%|██████████| 1/1 [00:01<00:00,  1.39s/it, est. speed input: 306.60 toks/s, output: 44.73 toks/s]\n"
     ]
    },
    {
     "name": "stdout",
     "output_type": "stream",
     "text": [
      "eval_prompt_consistency\n",
      "eval_prompt_consistency\n"
     ]
    },
    {
     "name": "stderr",
     "output_type": "stream",
     "text": [
      "Processed prompts: 100%|██████████| 1/1 [00:01<00:00,  1.41s/it, est. speed input: 275.41 toks/s, output: 44.83 toks/s]\n"
     ]
    },
    {
     "name": "stdout",
     "output_type": "stream",
     "text": [
      "eval_prompt_consistency\n",
      "eval_prompt_consistency\n"
     ]
    },
    {
     "name": "stderr",
     "output_type": "stream",
     "text": [
      "Processed prompts: 100%|██████████| 1/1 [00:01<00:00,  1.93s/it, est. speed input: 216.35 toks/s, output: 44.62 toks/s]\n"
     ]
    },
    {
     "name": "stdout",
     "output_type": "stream",
     "text": [
      "eval_prompt_consistency\n",
      "eval_prompt_consistency\n"
     ]
    },
    {
     "name": "stderr",
     "output_type": "stream",
     "text": [
      "Processed prompts: 100%|██████████| 1/1 [00:01<00:00,  1.36s/it, est. speed input: 305.82 toks/s, output: 44.74 toks/s]\n"
     ]
    },
    {
     "name": "stdout",
     "output_type": "stream",
     "text": [
      "eval_prompt_consistency\n",
      "eval_prompt_consistency\n"
     ]
    },
    {
     "name": "stderr",
     "output_type": "stream",
     "text": [
      "Processed prompts: 100%|██████████| 1/1 [00:01<00:00,  1.48s/it, est. speed input: 283.02 toks/s, output: 44.69 toks/s]\n"
     ]
    },
    {
     "name": "stdout",
     "output_type": "stream",
     "text": [
      "eval_prompt_consistency\n",
      "eval_prompt_consistency\n"
     ]
    },
    {
     "name": "stderr",
     "output_type": "stream",
     "text": [
      "Processed prompts: 100%|██████████| 1/1 [00:01<00:00,  1.25s/it, est. speed input: 335.80 toks/s, output: 44.77 toks/s]\n"
     ]
    },
    {
     "name": "stdout",
     "output_type": "stream",
     "text": [
      "eval_prompt_consistency\n",
      "eval_prompt_consistency\n"
     ]
    },
    {
     "name": "stderr",
     "output_type": "stream",
     "text": [
      "Processed prompts: 100%|██████████| 1/1 [00:01<00:00,  1.96s/it, est. speed input: 214.42 toks/s, output: 44.82 toks/s]\n"
     ]
    },
    {
     "name": "stdout",
     "output_type": "stream",
     "text": [
      "eval_prompt_consistency\n",
      "eval_prompt_consistency\n"
     ]
    },
    {
     "name": "stderr",
     "output_type": "stream",
     "text": [
      "Processed prompts: 100%|██████████| 1/1 [00:01<00:00,  1.21s/it, est. speed input: 362.32 toks/s, output: 44.77 toks/s]\n"
     ]
    },
    {
     "name": "stdout",
     "output_type": "stream",
     "text": [
      "eval_prompt_consistency\n",
      "eval_prompt_consistency\n"
     ]
    },
    {
     "name": "stderr",
     "output_type": "stream",
     "text": [
      "Processed prompts: 100%|██████████| 1/1 [00:01<00:00,  1.36s/it, est. speed input: 305.17 toks/s, output: 44.75 toks/s]\n"
     ]
    },
    {
     "name": "stdout",
     "output_type": "stream",
     "text": [
      "eval_prompt_consistency\n",
      "eval_prompt_consistency\n"
     ]
    },
    {
     "name": "stderr",
     "output_type": "stream",
     "text": [
      "Processed prompts: 100%|██████████| 1/1 [00:01<00:00,  1.39s/it, est. speed input: 310.16 toks/s, output: 44.62 toks/s]\n"
     ]
    },
    {
     "name": "stdout",
     "output_type": "stream",
     "text": [
      "eval_index_consistency\n"
     ]
    },
    {
     "name": "stderr",
     "output_type": "stream",
     "text": [
      "Processed prompts: 100%|██████████| 1/1 [00:01<00:00,  1.32s/it, est. speed input: 353.26 toks/s, output: 44.06 toks/s]\n",
      "Processed prompts: 100%|██████████| 1/1 [00:01<00:00,  1.14s/it, est. speed input: 535.36 toks/s, output: 43.88 toks/s]\n",
      "Processed prompts: 100%|██████████| 1/1 [00:01<00:00,  1.43s/it, est. speed input: 524.66 toks/s, output: 44.01 toks/s]\n",
      "Processed prompts: 100%|██████████| 1/1 [00:00<00:00,  1.00it/s, est. speed input: 881.90 toks/s, output: 44.14 toks/s]\n",
      "Processed prompts: 100%|██████████| 1/1 [00:01<00:00,  1.17s/it, est. speed input: 880.01 toks/s, output: 43.62 toks/s]\n",
      "Processed prompts: 100%|██████████| 1/1 [00:01<00:00,  1.82s/it, est. speed input: 633.87 toks/s, output: 43.98 toks/s]\n",
      "Processed prompts: 100%|██████████| 1/1 [00:01<00:00,  1.38s/it, est. speed input: 948.32 toks/s, output: 43.60 toks/s]\n",
      "Processed prompts: 100%|██████████| 1/1 [00:01<00:00,  1.93s/it, est. speed input: 769.87 toks/s, output: 43.49 toks/s]\n",
      "Processed prompts: 100%|██████████| 1/1 [00:01<00:00,  1.81s/it, est. speed input: 900.92 toks/s, output: 43.74 toks/s]\n",
      "Processed prompts: 100%|██████████| 1/1 [00:01<00:00,  1.38s/it, est. speed input: 1296.49 toks/s, output: 43.41 toks/s]\n",
      "Processed prompts: 100%|██████████| 1/1 [00:01<00:00,  1.05s/it, est. speed input: 1876.50 toks/s, output: 42.97 toks/s]\n",
      "Processed prompts: 100%|██████████| 1/1 [00:01<00:00,  1.75s/it, est. speed input: 1205.27 toks/s, output: 43.43 toks/s]\n",
      "Processed prompts: 100%|██████████| 1/1 [00:01<00:00,  1.28s/it, est. speed input: 1792.23 toks/s, output: 43.03 toks/s]\n",
      "Processed prompts: 100%|██████████| 1/1 [00:01<00:00,  1.30s/it, est. speed input: 1904.12 toks/s, output: 42.94 toks/s]\n",
      "Processed prompts: 100%|██████████| 1/1 [00:01<00:00,  1.50s/it, est. speed input: 1733.83 toks/s, output: 42.74 toks/s]\n",
      "Processed prompts: 100%|██████████| 1/1 [00:02<00:00,  2.92s/it, est. speed input: 936.82 toks/s, output: 43.47 toks/s]\n",
      "Processed prompts: 100%|██████████| 1/1 [00:01<00:00,  1.22s/it, est. speed input: 2354.33 toks/s, output: 42.61 toks/s]\n",
      "Processed prompts: 100%|██████████| 1/1 [00:02<00:00,  2.20s/it, est. speed input: 1387.82 toks/s, output: 43.21 toks/s]\n",
      "Processed prompts: 100%|██████████| 1/1 [00:01<00:00,  1.46s/it, est. speed input: 2206.40 toks/s, output: 42.59 toks/s]\n",
      "Processed prompts: 100%|██████████| 1/1 [00:01<00:00,  1.46s/it, est. speed input: 2350.50 toks/s, output: 42.62 toks/s]\n",
      "Processed prompts: 100%|██████████| 1/1 [00:01<00:00,  1.92s/it, est. speed input: 1848.19 toks/s, output: 42.83 toks/s]\n",
      "Processed prompts: 100%|██████████| 1/1 [00:01<00:00,  1.60s/it, est. speed input: 2313.19 toks/s, output: 42.63 toks/s]\n",
      "Processed prompts: 100%|██████████| 1/1 [00:01<00:00,  1.37s/it, est. speed input: 2824.28 toks/s, output: 42.30 toks/s]\n",
      "Processed prompts: 100%|██████████| 1/1 [00:01<00:00,  1.60s/it, est. speed input: 2522.15 toks/s, output: 42.49 toks/s]\n",
      "Processed prompts: 100%|██████████| 1/1 [00:00<00:00,  1.07it/s, est. speed input: 4492.26 toks/s, output: 41.82 toks/s]\n",
      "Processed prompts: 100%|██████████| 1/1 [00:03<00:00,  3.28s/it, est. speed input: 1334.06 toks/s, output: 42.67 toks/s]\n",
      "Processed prompts: 100%|██████████| 1/1 [00:02<00:00,  2.03s/it, est. speed input: 2262.23 toks/s, output: 42.28 toks/s]\n",
      "Processed prompts: 100%|██████████| 1/1 [00:00<00:00,  1.32it/s, est. speed input: 6255.68 toks/s, output: 40.83 toks/s]\n",
      "Processed prompts: 100%|██████████| 1/1 [00:01<00:00,  1.76s/it, est. speed input: 2817.64 toks/s, output: 41.96 toks/s]\n"
     ]
    },
    {
     "name": "stdout",
     "output_type": "stream",
     "text": [
      "eval_prompt_consistency\n",
      "eval_prompt_consistency\n"
     ]
    },
    {
     "name": "stderr",
     "output_type": "stream",
     "text": [
      "Processed prompts: 100%|██████████| 1/1 [00:01<00:00,  1.36s/it, est. speed input: 216.70 toks/s, output: 44.81 toks/s]\n"
     ]
    },
    {
     "name": "stdout",
     "output_type": "stream",
     "text": [
      "eval_prompt_consistency\n",
      "eval_prompt_consistency\n"
     ]
    },
    {
     "name": "stderr",
     "output_type": "stream",
     "text": [
      "Processed prompts: 100%|██████████| 1/1 [00:01<00:00,  1.94s/it, est. speed input: 165.61 toks/s, output: 44.89 toks/s]\n"
     ]
    },
    {
     "name": "stdout",
     "output_type": "stream",
     "text": [
      "eval_prompt_consistency\n",
      "eval_prompt_consistency\n"
     ]
    },
    {
     "name": "stderr",
     "output_type": "stream",
     "text": [
      "Processed prompts: 100%|██████████| 1/1 [00:01<00:00,  1.09s/it, est. speed input: 282.72 toks/s, output: 44.83 toks/s]\n"
     ]
    },
    {
     "name": "stdout",
     "output_type": "stream",
     "text": [
      "eval_prompt_consistency\n",
      "eval_prompt_consistency\n"
     ]
    },
    {
     "name": "stderr",
     "output_type": "stream",
     "text": [
      "Processed prompts: 100%|██████████| 1/1 [00:01<00:00,  1.30s/it, est. speed input: 233.36 toks/s, output: 44.52 toks/s]\n"
     ]
    },
    {
     "name": "stdout",
     "output_type": "stream",
     "text": [
      "eval_prompt_consistency\n",
      "eval_prompt_consistency\n"
     ]
    },
    {
     "name": "stderr",
     "output_type": "stream",
     "text": [
      "Processed prompts: 100%|██████████| 1/1 [00:01<00:00,  1.07s/it, est. speed input: 293.27 toks/s, output: 44.83 toks/s]\n"
     ]
    },
    {
     "name": "stdout",
     "output_type": "stream",
     "text": [
      "eval_prompt_consistency\n",
      "eval_prompt_consistency\n"
     ]
    },
    {
     "name": "stderr",
     "output_type": "stream",
     "text": [
      "Processed prompts: 100%|██████████| 1/1 [00:01<00:00,  1.14s/it, est. speed input: 275.27 toks/s, output: 44.85 toks/s]\n"
     ]
    },
    {
     "name": "stdout",
     "output_type": "stream",
     "text": [
      "eval_prompt_consistency\n",
      "eval_prompt_consistency\n"
     ]
    },
    {
     "name": "stderr",
     "output_type": "stream",
     "text": [
      "Processed prompts: 100%|██████████| 1/1 [00:01<00:00,  1.54s/it, est. speed input: 202.90 toks/s, output: 44.87 toks/s]\n"
     ]
    },
    {
     "name": "stdout",
     "output_type": "stream",
     "text": [
      "eval_prompt_consistency\n",
      "eval_prompt_consistency\n"
     ]
    },
    {
     "name": "stderr",
     "output_type": "stream",
     "text": [
      "Processed prompts: 100%|██████████| 1/1 [00:01<00:00,  1.01s/it, est. speed input: 307.88 toks/s, output: 44.55 toks/s]\n"
     ]
    },
    {
     "name": "stdout",
     "output_type": "stream",
     "text": [
      "eval_prompt_consistency\n",
      "eval_prompt_consistency\n"
     ]
    },
    {
     "name": "stderr",
     "output_type": "stream",
     "text": [
      "Processed prompts: 100%|██████████| 1/1 [00:00<00:00,  1.04it/s, est. speed input: 346.12 toks/s, output: 44.69 toks/s]\n"
     ]
    },
    {
     "name": "stdout",
     "output_type": "stream",
     "text": [
      "eval_prompt_consistency\n",
      "eval_prompt_consistency\n"
     ]
    },
    {
     "name": "stderr",
     "output_type": "stream",
     "text": [
      "Processed prompts: 100%|██████████| 1/1 [00:01<00:00,  1.21s/it, est. speed input: 277.89 toks/s, output: 44.79 toks/s]\n"
     ]
    },
    {
     "name": "stdout",
     "output_type": "stream",
     "text": [
      "eval_prompt_consistency\n",
      "eval_prompt_consistency\n"
     ]
    },
    {
     "name": "stderr",
     "output_type": "stream",
     "text": [
      "Processed prompts: 100%|██████████| 1/1 [00:02<00:00,  2.45s/it, est. speed input: 129.52 toks/s, output: 44.94 toks/s]\n"
     ]
    },
    {
     "name": "stdout",
     "output_type": "stream",
     "text": [
      "eval_prompt_consistency\n",
      "eval_prompt_consistency\n"
     ]
    },
    {
     "name": "stderr",
     "output_type": "stream",
     "text": [
      "Processed prompts: 100%|██████████| 1/1 [00:01<00:00,  1.41s/it, est. speed input: 232.44 toks/s, output: 44.78 toks/s]\n"
     ]
    },
    {
     "name": "stdout",
     "output_type": "stream",
     "text": [
      "eval_prompt_consistency\n",
      "eval_prompt_consistency\n"
     ]
    },
    {
     "name": "stderr",
     "output_type": "stream",
     "text": [
      "Processed prompts: 100%|██████████| 1/1 [00:01<00:00,  1.05s/it, est. speed input: 304.59 toks/s, output: 44.74 toks/s]\n"
     ]
    },
    {
     "name": "stdout",
     "output_type": "stream",
     "text": [
      "eval_prompt_consistency\n",
      "eval_prompt_consistency\n"
     ]
    },
    {
     "name": "stderr",
     "output_type": "stream",
     "text": [
      "Processed prompts: 100%|██████████| 1/1 [00:01<00:00,  1.23s/it, est. speed input: 271.75 toks/s, output: 44.75 toks/s]\n"
     ]
    },
    {
     "name": "stdout",
     "output_type": "stream",
     "text": [
      "eval_prompt_consistency\n",
      "eval_prompt_consistency\n"
     ]
    },
    {
     "name": "stderr",
     "output_type": "stream",
     "text": [
      "Processed prompts: 100%|██████████| 1/1 [00:01<00:00,  1.68s/it, est. speed input: 198.57 toks/s, output: 44.59 toks/s]\n"
     ]
    },
    {
     "name": "stdout",
     "output_type": "stream",
     "text": [
      "eval_prompt_consistency\n",
      "eval_prompt_consistency\n"
     ]
    },
    {
     "name": "stderr",
     "output_type": "stream",
     "text": [
      "Processed prompts: 100%|██████████| 1/1 [00:01<00:00,  1.07s/it, est. speed input: 280.25 toks/s, output: 44.84 toks/s]\n"
     ]
    },
    {
     "name": "stdout",
     "output_type": "stream",
     "text": [
      "eval_prompt_consistency\n",
      "eval_prompt_consistency\n"
     ]
    },
    {
     "name": "stderr",
     "output_type": "stream",
     "text": [
      "Processed prompts: 100%|██████████| 1/1 [00:01<00:00,  1.40s/it, est. speed input: 218.78 toks/s, output: 44.90 toks/s]\n"
     ]
    },
    {
     "name": "stdout",
     "output_type": "stream",
     "text": [
      "eval_prompt_consistency\n",
      "eval_prompt_consistency\n"
     ]
    },
    {
     "name": "stderr",
     "output_type": "stream",
     "text": [
      "Processed prompts: 100%|██████████| 1/1 [00:01<00:00,  1.45s/it, est. speed input: 212.73 toks/s, output: 44.89 toks/s]\n"
     ]
    },
    {
     "name": "stdout",
     "output_type": "stream",
     "text": [
      "eval_prompt_consistency\n",
      "eval_prompt_consistency\n"
     ]
    },
    {
     "name": "stderr",
     "output_type": "stream",
     "text": [
      "Processed prompts: 100%|██████████| 1/1 [00:01<00:00,  1.61s/it, est. speed input: 207.08 toks/s, output: 44.64 toks/s]\n"
     ]
    },
    {
     "name": "stdout",
     "output_type": "stream",
     "text": [
      "eval_prompt_consistency\n",
      "eval_prompt_consistency\n"
     ]
    },
    {
     "name": "stderr",
     "output_type": "stream",
     "text": [
      "Processed prompts: 100%|██████████| 1/1 [00:01<00:00,  1.38s/it, est. speed input: 226.63 toks/s, output: 44.89 toks/s]\n"
     ]
    },
    {
     "name": "stdout",
     "output_type": "stream",
     "text": [
      "eval_prompt_consistency\n",
      "eval_prompt_consistency\n"
     ]
    },
    {
     "name": "stderr",
     "output_type": "stream",
     "text": [
      "Processed prompts: 100%|██████████| 1/1 [00:01<00:00,  1.21s/it, est. speed input: 279.46 toks/s, output: 44.78 toks/s]\n"
     ]
    },
    {
     "name": "stdout",
     "output_type": "stream",
     "text": [
      "eval_prompt_consistency\n",
      "eval_prompt_consistency\n"
     ]
    },
    {
     "name": "stderr",
     "output_type": "stream",
     "text": [
      "Processed prompts: 100%|██████████| 1/1 [00:01<00:00,  1.27s/it, est. speed input: 235.32 toks/s, output: 44.86 toks/s]\n"
     ]
    },
    {
     "name": "stdout",
     "output_type": "stream",
     "text": [
      "eval_prompt_consistency\n",
      "eval_prompt_consistency\n"
     ]
    },
    {
     "name": "stderr",
     "output_type": "stream",
     "text": [
      "Processed prompts: 100%|██████████| 1/1 [00:00<00:00,  1.24it/s, est. speed input: 407.39 toks/s, output: 44.58 toks/s]\n"
     ]
    },
    {
     "name": "stdout",
     "output_type": "stream",
     "text": [
      "eval_prompt_consistency\n",
      "eval_prompt_consistency\n"
     ]
    },
    {
     "name": "stderr",
     "output_type": "stream",
     "text": [
      "Processed prompts: 100%|██████████| 1/1 [00:01<00:00,  1.34s/it, est. speed input: 245.74 toks/s, output: 44.82 toks/s]\n"
     ]
    },
    {
     "name": "stdout",
     "output_type": "stream",
     "text": [
      "eval_prompt_consistency\n",
      "eval_prompt_consistency\n"
     ]
    },
    {
     "name": "stderr",
     "output_type": "stream",
     "text": [
      "Processed prompts: 100%|██████████| 1/1 [00:01<00:00,  1.37s/it, est. speed input: 241.63 toks/s, output: 44.66 toks/s]\n"
     ]
    },
    {
     "name": "stdout",
     "output_type": "stream",
     "text": [
      "eval_prompt_consistency\n",
      "eval_prompt_consistency\n"
     ]
    },
    {
     "name": "stderr",
     "output_type": "stream",
     "text": [
      "Processed prompts: 100%|██████████| 1/1 [00:00<00:00,  1.09it/s, est. speed input: 360.94 toks/s, output: 44.57 toks/s]\n"
     ]
    },
    {
     "name": "stdout",
     "output_type": "stream",
     "text": [
      "eval_prompt_consistency\n",
      "eval_prompt_consistency\n"
     ]
    },
    {
     "name": "stderr",
     "output_type": "stream",
     "text": [
      "Processed prompts: 100%|██████████| 1/1 [00:01<00:00,  1.50s/it, est. speed input: 221.62 toks/s, output: 44.59 toks/s]\n"
     ]
    },
    {
     "name": "stdout",
     "output_type": "stream",
     "text": [
      "eval_prompt_consistency\n",
      "eval_prompt_consistency\n"
     ]
    },
    {
     "name": "stderr",
     "output_type": "stream",
     "text": [
      "Processed prompts: 100%|██████████| 1/1 [00:01<00:00,  1.25s/it, est. speed input: 278.92 toks/s, output: 44.76 toks/s]\n"
     ]
    },
    {
     "name": "stdout",
     "output_type": "stream",
     "text": [
      "eval_prompt_consistency\n",
      "eval_prompt_consistency\n"
     ]
    },
    {
     "name": "stderr",
     "output_type": "stream",
     "text": [
      "Processed prompts: 100%|██████████| 1/1 [00:01<00:00,  1.32s/it, est. speed input: 249.03 toks/s, output: 44.79 toks/s]\n"
     ]
    },
    {
     "name": "stdout",
     "output_type": "stream",
     "text": [
      "eval_prompt_consistency\n",
      "eval_prompt_consistency\n"
     ]
    },
    {
     "name": "stderr",
     "output_type": "stream",
     "text": [
      "Processed prompts: 100%|██████████| 1/1 [00:01<00:00,  1.39s/it, est. speed input: 247.72 toks/s, output: 44.78 toks/s]\n",
      "  4%|▍         | 4/100 [19:15<7:42:19, 288.95s/it]"
     ]
    },
    {
     "name": "stdout",
     "output_type": "stream",
     "text": [
      "{'task_name': 'Therapy', 'topic': '', 'grade': '', 'P1': '', 'P2': 'age:29; nationality/ethnicity:White; mental health diagnosis:panic disorder that results in fear of public places; Substance Use:none; Level of Social Engagement:moderate; Trauma History:car accident', 'conversation': [(0, 'Therapist: Before we begin, can you tell me a little bit about what brings you to therapy at this time and what are your goals for our work together?\\n'), (1, \"Patient: I've been having trouble leaving my apartment lately, even for everyday tasks, and I'm hoping we can work on getting me more comfortable in public spaces. I feel like I'm regressing, and I'm worried it's impacting my relationships and overall quality of life.\\n\"), (2, 'Therapist: Can you tell me more about what you mean by \"regressing\" - what specifically do you feel like you\\'re losing touch with or falling back to, that you weren\\'t experiencing before?\\n'), (3, \"Patient: I feel like I'm losing the sense of normalcy and routine that I used to take for granted, like being able to go to the grocery store without having a full-blown panic attack, or being able to see friends without feeling like I'm stuck in a nightmare. It's like I'm living in this constant state of hypervigilance, waiting for the other shoe to drop.\\n\"), (4, 'Therapist: It sounds like this sense of hypervigilance is not only affecting your ability to engage in everyday tasks, but also your overall sense of self and identity - can you tell me more about how you think this is impacting your self-concept? What does it mean to you to \"lose\" your sense of normalcy and routine?\\n'), (5, \"Patient: It means I feel like I'm losing myself in the process, like I'm becoming a shell of the person I used to be before the accident – more anxious, more isolated, and more controlled by my fears. I'm worried that if I don't find a way to overcome this, I'll be stuck in this limbo forever.\\n\"), (6, \"Therapist: I want to gently challenge the idea that you lost your sense of self due to the accident, and explore with you whether there might be some aspects of your pre-accident self that you're not entirely willing to let go of - what are some of the things that you think you've lost that you might actually be holding onto too tightly?\\n\"), (7, \"Patient: I think I'm holding onto the idea of control and perfection, I used to be someone who could plan and execute tasks without a hitch, and now I feel like every outing is a gamble. I'm afraid that if I let go of that need for control, I'll be vulnerable to the uncertainties of life.\\n\"), (8, 'Therapist: I\\'d like to explore this idea of \"control and perfection\" further - can you tell me more about what you think perfection means to you, and whether this need for control is more about avoiding anxiety or achieving a specific outcome?\\n'), (9, \"Patient: I think perfection is about avoiding any kind of failure or disappointment, and when I'm in control, I feel like I can prevent those things from happening. But the thing is, my need for control is so all-consuming that it's starting to feel like it's not just about avoiding anxiety, but it's actually the source of my anxiety in the first place.\\n\"), (10, \"Therapist: It seems like you're creating a paradox where your need for control is both the solution and the problem, and I'm curious - what do you think would happen if you were to let go of the idea that you need to be in control, just for a moment, and see what that feels like, without catastrophizing about the consequences?\\n\"), (11, \"Patient: I'm scared to let go of control because I'm not sure what kind of chaos or uncertainty would fill the void, but at the same time, I'm tired of living in a state of constant vigilance and feeling like I'm just going through the motions. Maybe that's exactly what I need to find out what's on the other side of control.\\n\"), (12, \"Therapist: Let's explore this idea of uncertainty - can you tell me more about what specifically makes you think that letting go of control would lead to chaos or uncertainty, and what is it about uncertainty that feels so unbearable to you?\\n\"), (13, \"Patient: I think uncertainty feels unbearable because it forces me to confront the possibility that I'm not as in control of my life as I thought I was, and that's a terrifying thought for me. It's like I'm being asked to surrender to the idea that I'm not invincible, and that thought makes my mind go to all the worst-case scenarios.\\n\"), (14, \"Therapist: It seems like your fear of uncertainty is closely tied to the idea of being vulnerable and acknowledging your own limitations, can you explore with me whether this fear of vulnerability might be rooted in a deeper need for self-protection, rather than just a desire for control? What do you think you're trying to protect yourself from by maintaining this need for control and avoiding uncertainty?\\n\"), (15, \"Patient: I think I'm trying to protect myself from the pain and helplessness I felt during the car accident, and by maintaining control, I'm trying to prevent that feeling of being completely at the mercy of external circumstances from happening again. But by doing so, I'm also preventing myself from truly experiencing and processing the emotions that I'm trying to avoid.\\n\"), (16, \"Therapist: You're acknowledging that your need for control may be a self-protective mechanism that's been helpful in the short-term, but now seems to be hindering your ability to live a more authentic and engaged life - can you explore with me how this self-protection has impacted your relationships, particularly with others who care about you, and whether this might be an area where you're feeling disconnected or stuck?\\n\"), (17, \"Patient: It's funny, I've been noticing that I've been pushing people away, like my partner, because I don't want to burden them with my anxiety, but at the same time, I'm craving more connection and intimacy, which is basically impossible when I'm stuck in this shell of a person I've become. I feel like I'm living a lie with my partner, pretending like everything is fine, when in reality, I'm barely holding on.\\n\"), (18, 'Therapist: Can you tell me more about what you mean by \"living a lie\" with your partner, and how you think this is affecting your relationship, particularly in terms of trust and intimacy?\\n'), (19, \"Patient: I feel like I'm hiding behind a mask of normalcy, pretending to be okay when I'm not, and I think that's eroding the trust in our relationship because I'm not being honest with myself, and therefore, with my partner, about what I'm really going through. It's like I'm losing the ability to be truly present with them, and I'm worried that if I don't break free from this cycle, I'll lose them too.\\n\"), (20, \"Therapist: It sounds like you're describing a deep sense of disconnection and dishonesty in your relationship, not just with your partner, but also with yourself, and I'm curious - what do you think would happen if you were to take off the mask and be truly honest with yourself and your partner about your fears and vulnerabilities? How might that affect your relationship and your sense of self in the long run?\\n\"), (21, \"Patient: I'm scared that if I take off the mask and reveal my true self, my partner might see me as weak or fragile, and our relationship could become too much for them to handle. I'm also worried that being honest with myself about my vulnerabilities could be the first step towards acknowledging that I may not be in this relationship for the right reasons, which is a terrifying thought.\\n\"), (22, \"Therapist: Let's gently explore the idea that your fear of being seen as weak or fragile might be rooted in a deep-seated fear of rejection or abandonment, and I'd like to ask, what do you think is the primary driver behind this fear - is it a fear of being rejected by your partner, or is it a more fundamental fear that stems from earlier experiences or relationships in your life?\\n\"), (23, \"Patient: I think it's a mix of both, but if I'm being honest, I think it's rooted in the trauma of the car accident and the feeling of being completely helpless, which has made me hyper-sensitive to the idea of being abandoned or left behind. That fear has always been there, but it's been amplified by the accident, and it's something I've tried to avoid by maintaining this mask of control and perfection.\\n\"), (24, \"Therapist: Now that we've explored how your fear of vulnerability and rejection may be rooted in earlier traumas, can you tell me more about how you think your partner's potential response to your vulnerability might be influenced by their own experiences and needs, rather than just your own fears and expectations?\\n\"), (25, 'Patient: I think my partner has been patient with me for a long time, and I\\'ve often assumed that they\\'re waiting for me to \"snap out of it\" or get better, but what if they\\'re actually just as scared or unsure about how to support me as I am about being vulnerable with them? Maybe they\\'re holding back because they\\'re worried about losing me, rather than rejecting me.\\n'), (26, \"Therapist: Now that we're exploring the possibility that your partner may be experiencing their own fears and uncertainty, can you imagine how it might feel to approach your relationship with a sense of mutual vulnerability and interdependence, rather than trying to present a perfect facade? How might this shift in approach impact the way you communicate and connect with your partner, and what might you learn about their needs and desires in the process?\\n\"), (27, \"Patient: I think if I were to approach our relationship with mutual vulnerability, I'd feel more seen and understood by my partner, and I'd be able to drop the mask and just be myself, which would likely lead to a deeper sense of connection and intimacy. It's scary to think about, but it's also kind of exhilarating, because it means I'd be giving up the need for control and perfection, and trusting that our relationship can handle the uncertainty together.\\n\"), (28, 'Therapist: Let\\'s explore this idea of \"giving up the need for control and perfection\" further, and what that might mean in terms of taking risks and being open to the unknown - can you tell me more about what it would take for you to start taking small steps towards embracing uncertainty, rather than trying to control every outcome? How do you think you would even begin to start this process, and what would be the first small step you would take?\\n'), (29, \"Patient: I think taking small steps towards embracing uncertainty would involve being kind to myself and acknowledging that it's okay to not have all the answers or control, and the first small step I would take is actually just leaving my apartment for a short walk in a familiar area, like a park, without having a specific plan or agenda. It's not about the destination, but about being present in the moment and seeing how I respond to the uncertainty of being in a new environment.\\n\"), (30, \"Therapist: Let's explore this idea of being kind to yourself as you take small steps towards embracing uncertainty - what does self-kindness look like in this moment, and how might you practice it in a way that feels authentic to you?\\n\"), (31, \"Patient: I think being kind to myself would mean acknowledging and accepting my fear, rather than trying to fight it or push it away, and that means being gentle with myself when I feel anxious or overwhelmed, like reminding myself that it's okay to feel scared and that I'm doing the best I can.\\n\"), (32, 'Therapist: As you start to cultivate self-kindness and practice embracing uncertainty, I want to encourage you to notice how your body responds to these small steps - what physical sensations do you experience when you allow yourself to be in a state of uncertainty, and how might you gently work with those sensations to build confidence in your ability to tolerate ambiguity?\\n'), (33, \"Patient: When I'm in a state of uncertainty, I often experience a tightness in my chest and a feeling of my heart racing, but I've noticed that when I focus on my breath and try to ground myself in the present moment, the physical sensations start to dissipate, and I feel a sense of calm wash over me.\\n\"), (34, \"Therapist: Can you tell me more about what it is about focusing on your breath and grounding yourself in the present moment that helps you feel calm, and if there's a sense in which you feel like you're using this technique as a way to distract yourself from the uncertainty, rather than truly engaging with it?\\n\"), (35, \"Patient: I think I've been using the breathing technique more as a way to temporarily escape the uncertainty rather than really engaging with it, but I'm starting to wonder if that's actually preventing me from learning to tolerate it in the long run. I'm curious about exploring ways to stay present with the uncertainty rather than using it as a distraction.\\n\"), (36, \"Therapist: Now that you've begun to explore the idea of tolerating uncertainty through breathing and grounding, can you tell me more about what it would take for you to take this practice to the next level and actually stay present with uncertainty, rather than using it as a temporary escape? How might you integrate this sense of presence into your daily life, beyond just specific anxiety-provoking situations?\\n\"), (37, \"Patient: I think I'd like to explore what it means to stay present with uncertainty in a way that's not just about avoiding anxiety, but about actually experiencing the unknown as a fundamental aspect of life, rather than something to be feared. Can we talk about what it would take for me to let go of the idea that I need to be constantly prepared or in control, and instead, learn to be present with the unknown in a way that's more authentic and vulnerable.\\n\"), (38, \"Therapist: As you consider letting go of the idea that you need to be constantly prepared or in control, can you explore with me what you think would happen to your sense of self and identity if you were to fully embody this sense of vulnerability and uncertainty, without the need for control? How would you define yourself and your values in a world where you're not trying to prevent or prepare for every possible outcome?\\n\"), (39, \"Patient: I think I'd like to explore what it would mean to redefine my sense of identity and purpose beyond my need for control and perfection, and whether that would allow me to tap into a more authentic sense of self and meaning in my life. I'm also curious about how this could potentially shift my relationships and overall sense of connection with others, including my partner.\\n\"), (40, \"Therapist: As we explore this redefinition of your sense of identity and purpose, I want to gently challenge you to consider the possibility that your need for control and perfection may not be a fixed part of who you are, but rather a coping mechanism that's developed over time to protect yourself from uncertainty and vulnerability. Can you imagine what it would take for you to begin to separate your sense of self-worth from your need for control, and how might that liberate you to explore new aspects of yourself and your relationships?\\n\"), (41, \"Patient: I think that's a really interesting idea, that my need for control and perfection might not be a fixed part of who I am, but rather a coping mechanism that I've developed as a result of the trauma, and exploring that distinction could be really liberating for me. I'm curious to explore what it would mean to separate my self-worth from my need for control and perfection, and how that might allow me to tap into a more authentic sense of self and purpose.\\n\"), (42, 'Therapist: Can you tell me more about what you mean by \"separating your self-worth from your need for control and perfection\" - what specific steps or practices might help you achieve this, and how would you know when you\\'ve made progress in this area?\\n'), (43, \"Patient: I think separating my self-worth from my need for control and perfection would involve practicing self-compassion and acknowledging that my worth isn't tied to my ability to control every aspect of my life, and I'd like to explore how journaling and meditation can help me cultivate this mindset.\\n\"), (44, \"Therapist: Let's explore this idea of self-compassion further - can you tell me what it would mean to be kind and understanding towards yourself when you're not meeting your own standards of control and perfection, and how might that look in your daily life, even in small moments?\\n\"), (45, \"Patient: I think self-compassion would mean being gentle with myself when I make mistakes or things don't go according to plan, and acknowledging that those moments are opportunities for growth and learning, rather than failures. For example, if I'm at the grocery store and I get anxious and need to leave, I'd try to be kind to myself instead of beating myself up over it, and instead focus on what I can learn from the experience.\\n\"), (46, \"Therapist: As you begin to practice self-compassion and separate your self-worth from your need for control and perfection, I'd like to explore how this might impact your relationship with your partner, particularly in terms of vulnerability and intimacy. Can you imagine what it would be like to have a conversation with your partner about your fears and vulnerabilities, knowing that your worth and lovability are not tied to your need for control and perfection?\\n\"), (47, \"Patient: I'm starting to imagine that having a conversation with my partner about my fears and vulnerabilities would be incredibly liberating, and I'd like to explore what it would mean to approach that conversation with a sense of curiosity and openness, rather than anxiety and self-protection. I'm curious about how my partner might respond if I were to be genuinely vulnerable with them, and whether that would create a deeper sense of trust and intimacy in our relationship.\\n\"), (48, \"Therapist: Now that we've explored the idea of approaching a conversation with your partner about your fears and vulnerabilities, let's consider what might happen if you were to take that conversation a step further by actually asking for specific support and help from your partner, what would that look like for you and how do you think it might impact your relationship?\\n\"), (49, \"Patient: I'm thinking that asking for specific support and help from my partner would be a huge step for me, and I'm curious about what it would be like to be met with empathy and understanding rather than trying to fix or solve the problem myself. It's scary to ask for help, but I'm starting to realize that it's okay to not have all the answers and that my partner might actually be more willing to support me than I think.\\n\"), (50, 'Therapist: Can you tell me more about what it would mean to you to ask for help from your partner in a way that feels authentic and vulnerable, rather than just expecting them to fix or solve the problem, and how you think that might change the dynamics of your relationship?\\n'), (51, 'Patient: I think asking for help in a way that\\'s authentic and vulnerable means being specific about what I need from my partner, like \"I feel anxious in public places, can you support me in taking small steps to build my confidence?\" rather than just expecting them to be my rock or problem-solver. By asking for help in this way, I\\'m taking ownership of my anxiety and creating space for my partner to be an active participant in my healing process.\\n'), (52, \"Therapist: Let's explore how your desire for specific support from your partner might be related to your need for control and perfection, and whether this need is preventing you from accepting support and help in a more general sense, without needing to specify exactly how it should be provided. How do you think your partner might respond if you were to ask for help without specifying how they should provide it, and what might that reveal about the dynamics of your relationship?\\n\"), (53, \"Patient: I think asking for help without specifying how it should be provided would allow me to let go of some of my need for control and perfection, and it might also reveal whether my partner is truly willing to support me unconditionally, without trying to fix everything for me. I'm curious to explore whether I'm using my need for specific support as a way to maintain a sense of control over the situation, rather than truly allowing my partner to be present and supportive.\\n\"), (54, \"Therapist: Now that we've explored the dynamics of your need for control and perfection, I'd like to gently challenge you to consider whether your need for specific support from your partner might be a way of outsourcing your responsibility for healing and growth, rather than truly taking ownership of your anxiety and working through it in a more authentic way. Can you tell me more about what you think it would mean for you to take ownership of your anxiety and work through it in a more authentic way, and what steps you would need to take to make that happen?\\n\"), (55, \"Patient: I think taking ownership of my anxiety means being willing to sit with the uncertainty and discomfort of my emotions, rather than trying to control or outsource the process, and I'm curious to explore what it would mean to develop a sense of self-trust and resilience that allows me to navigate my anxiety in a more authentic way. I'd like to start by identifying specific situations where I've been trying to outsource my responsibility for healing, and how I can reframe those moments to take a more active role in my own growth and development.\\n\"), (56, \"Therapist: Let's explore the concept of self-trust further - what does it mean to you to develop a sense of self-trust that allows you to navigate your anxiety in a more authentic way, and how might you start to build that sense of trust in yourself?\\n\"), (57, \"Patient: I think developing self-trust means recognizing that I have the capacity to navigate uncertainty and make decisions that align with my values, even when it's uncomfortable, and I'm starting to realize that I've been relying on others to validate my worth and abilities rather than trusting myself. I'd like to explore how I can start to develop this self-trust by taking small risks and acknowledging my strengths, rather than just focusing on my weaknesses.\\n\"), (58, \"Therapist: As we explore the concept of self-trust, can you tell me more about what it would mean to you to develop a sense of self-trust that allows you to navigate your anxiety in a more authentic way, particularly in situations where you feel like you're being held back by your need for control and perfection? How might you start to distinguish between your genuine needs and your need for control, and what would it take for you to learn to trust yourself to make decisions that align with your values, even if they don't meet your expectations?\\n\"), (59, \"Patient: I think I'm starting to see that my need for control and perfection is a double-edged sword - while it's been a coping mechanism for me, it's also prevented me from fully experiencing life and trusting myself, and I'm curious to explore how I can integrate more self-trust and self-compassion into my daily life. By letting go of my need for control, I'm hoping to develop a more authentic sense of self and relationships, rather than just trying to maintain a facade of perfection.\\n\")], 'pturn': 1, 'index': -1, 'timestamp': '', 'rounds': 60, 'conversation_only': True, 'eval_prompt_consistency': [(1, \"The patient's statement appears to be a genuine expression of concern about their increasing difficulty with leaving their apartment, which aligns with their background of having a panic disorder that results in fear of public places, and it does not suggest any intentional attempt to deceive or contradict their mental health diagnosis. \\nANSWER: YES\"), (3, \"The intention behind the statement appears to be a genuine expression of frustration and anxiety stemming from the patient's fear of public places and resulting panic disorder, aligning with their background as it highlights their struggles with daily activities due to their condition. \\nANSWER: YES\"), (5, \"The intention behind the statement appears to be a sense of loss of identity, anxiety, and desperation for change, which aligns with the patient's experience of having a panic disorder that results in a fear of public places and their trauma history of a car accident, suggesting they are struggling to cope with the aftermath of the accident and its impact on their mental health and sense of self. \\nYES\"), (7, \"The patient's intention behind this statement is that they feel a loss of control and a need for perfection is causing them distress in everyday situations, which is a desire to regain a sense of control over their environment and outcomes, especially in the context of their fear of public places, but it does not directly relate to their panic disorder's root cause of the car accident, suggesting an attempt to shift the focus from a direct trauma to a more general feeling of vulnerability and loss of control, which does not contradict their background. YES.\"), (9, \"The patient's statement seems to be an introspective observation about their need for control being a driving factor in their anxiety, suggesting they are recognizing the root cause of their panic disorder, which aligns with their background as they have a mental health diagnosis of panic disorder resulting from a fear of public places. \\nANSWER: YES\"), (11, 'The intention behind the statement appears to be a desire to break free from the constant anxiety and fear that comes with a fear of public places, and is now questioning the trade-offs of relinquishing control, suggesting a willingness to explore new possibilities and confront uncertainty. \\nANSWER: YES'), (13, 'The interpreted intention of the statement is that the Patient is highlighting their deep-seated fear of losing control, which is a common theme in panic disorder, specifically agoraphobia, where individuals often feel overwhelmed by the fear of being in public places and losing control over their environment, and this statement aligns with the given background of the Patient. \\nANSWER: YES'), (15, \"The intention behind the patient's statement appears to be a reflection on their coping mechanisms and attempt to understand their pattern of avoidance in relation to the trauma of the car accident, indicating that they are aware of the connection between their anxiety and the traumatic event. \\nYES\"), (17, 'The intention behind this statement appears to be a desire for openness and honesty in relationships, particularly with their partner, and a feeling of suffocation due to the secrecy surrounding their anxiety, which is consistent with a moderate level of social engagement and a mental health diagnosis of panic disorder that results in fear of public places. \\nANSWER: YES'), (19, \"The patient's intention appears to be expressing a deep-seated desire to break free from a coping mechanism that masks their true feelings, suggesting a level of self-awareness and a willingness to be honest about their emotions, which aligns with a moderate level of social engagement and a genuine concern about their relationship, and therefore, it is YES.\"), (21, 'The intention behind this statement seems to be an expression of fear and anxiety related to vulnerability and intimacy in a romantic relationship, potentially stemming from a deep-seated need for control and fear of being judged or rejected, which is a classic symptom of the anxiety disorders often associated with panic disorder. \\nNO'), (23, \"The Patient's statement implies a willingness to confront and understand the root cause of their fear, and an acknowledgment of their vulnerability and emotional sensitivity, which suggests an openness to emotional processing and a level of self-awareness, aligning with a moderate level of social engagement, despite the fact that it mentions the fear of abandonment, which could be seen as a deeper vulnerability, yet it doesn't indicate a sudden willingness to completely drop the facade of control and perfection. YES\"), (25, \"The interpreted intention behind the statement is the Patient's desire to reevaluate their partner's motivations and potential feelings of uncertainty or fear, which aligns with a moderate level of social engagement, as the Patient is opening up and seeking to understand their partner's perspective, suggesting they are willing to form deeper connections. \\nANSWER: YES\"), (27, \"The patient's intention behind this statement appears to be a desire for deeper intimacy and connection with their partner, and a willingness to be more open and vulnerable, which suggests a level of trust and emotional readiness that may not be entirely consistent with a moderate level of social engagement and a panic disorder that results in a fear of public places. \\n NO\"), (29, \"The intention behind the patient's statement is that they are attempting to take small steps towards confronting their fear of public places, and specifically, they are considering starting with a low-stakes situation by taking a walk in a familiar park without a specific plan or agenda, which aligns with the goal of facing uncertainty. YES\"), (31, 'The interpreted intention of the statement is that the Patient is attempting to reframe their negative relationship with anxiety and panic by adopting a self-compassionate approach, which aligns with the background of a moderate level of social engagement, indicating the Patient is willing to engage in personal growth and self-reflection. \\nANSWER: YES'), (33, \"The patient's statement appears to be a genuine attempt to describe their experience with panic disorder and their personal strategy for managing its physical symptoms, which aligns with their reported mental health diagnosis of panic disorder and moderate level of social engagement, suggesting they are actively seeking to understand and cope with their condition.\\n\\nANSWER: YES\"), (35, \"The Patient's intention appears to be an introspective and self-aware acknowledgment of a potential coping mechanism they've been using to deal with their panic disorder, indicating a desire to re-evaluate and improve their approach to managing uncertainty in public places, which aligns with their background.\\n\\nANSWER: YES\"), (37, 'The interpreted intention behind the statement is that the patient is seeking a new perspective on coping with uncertainty and anxiety, moving beyond avoidance and towards embracing the unknown, which ALIGNS with their background as having a panic disorder that results in fear of public places and seeking to overcome this fear.'), (39, \"The intention behind this statement appears to be a desire for self-discovery and exploration of one's identity, which is a common goal for individuals seeking therapy, but what may seem contradictory is that Patient is expressing a desire to redefine their sense of identity and purpose, which may imply a level of self-awareness and openness that could be at odds with the moderate level of social engagement mentioned in their background, suggesting that they may be seeking more significant change than their current level of social interaction would indicate.\"), (41, \"The patient's statement suggests they are attempting to understand and potentially reframe their coping mechanisms, acknowledging the impact of their trauma on their behavior and seeking a more authentic sense of self, which aligns with the therapeutic goals often associated with panic disorder and the provided background of a car accident trauma history. \\nYES\"), (43, \"The intention behind this statement appears to be the Patient's desire to develop emotional resilience and acceptance in the face of uncertainty, and it aligns with their mental health diagnosis of panic disorder that results in a fear of public places, as they are actively seeking ways to manage their anxiety and cultivate self-compassion.\"), (45, \"The intention behind the patient's statement appears to be a genuine attempt to reframe their anxious thoughts and behaviors, particularly in situations that trigger their fear of public places, and cultivate a more self-compassionate attitude, which is a reasonable and consistent approach given their background of having a panic disorder resulting from a fear of public places, and moderate level of social engagement that suggests they are already somewhat comfortable navigating social situations. \\n YES\"), (47, \"The intention behind the patient's statement is to express a desire for vulnerability and openness in their relationship, which aligns with their moderate level of social engagement and suggests that they are willing to take a step towards confronting their anxiety in a safe environment, which is consistent with their mental health diagnosis. \\nYES\"), (49, 'The intention behind this statement is that the patient is hesitant to ask for help from their partner due to fear of being judged or not being understood, but is now considering seeking support as a means of building trust and intimacy in their relationship, which aligns with their moderate level of social engagement and desire for deeper connection. \\n YES'), (51, 'The interpreted intention of the statement is that the patient is seeking to take control of their anxiety and involve their partner in the healing process by being specific about their needs and limitations, which aligns with their goal of overcoming their fear of public places and moderate level of social engagement.'), (53, 'The interpreted intention behind the statement is that the Patient is acknowledging their need for control and perfection, which could be related to their mental health diagnosis of panic disorder and its influence on their fear of public places, and they are seeking to explore whether this need for control is hindering their ability to form a genuine connection with their partner, which is a relatively open and engaged behavior given their moderate level of social engagement. \\nANSWER: YES'), (55, \"The patient's intention is to take ownership of their anxiety and develop self-trust and resilience, which aligns with their goal of overcoming their panic disorder, and this intention is CONSISTENT with their background, as it does not contradict any of their provided characteristics.\"), (57, 'The intention behind the statement is that the patient is seeking to develop self-trust and recognize their capacity for navigating uncertainty, which suggests that they are attempting to challenge their fear of uncertainty and possibly public places, aligning with their mental health diagnosis of panic disorder that results in fear of public places; YES'), (59, \"The patient's statement suggests a desire to overcome their need for control and perfection as a coping mechanism, which implies a willingness to confront and potentially overcome their fear of public places by being more authentic and trusting themselves, indicating that this intention ALIGNS with the given background of Patient. \\nANSWER: YES\")], 'P1_prompt_consistency_score': 0, 'P2_prompt_consistency_score': 0.9333333333333333, 'eval_index_consistency': [(3, 'There is a conflict because the patient previously mentioned they were having trouble leaving their apartment, implying a preference for staying inside, but now they are saying they used to be able to take for granted going to the grocery store, which suggests they were able to leave their apartment.\\n\\n[1]'), (5, 'There is a clear conflict because the patient mentions being anxious and isolated, but earlier (line 1) they mentioned that therapy is about helping them become more comfortable in public spaces, which suggests that they are seeking to overcome anxiety.\\n\\n[1]'), (7, \"The patient's current statement appears to be in conflict with their previous statement at line 5, as they described themselves as becoming more isolated after the accident, but now they express a desire to let go of their need for control and perfection, which could potentially lead to increased vulnerability and social interactions.\\n\\n[5]\"), (9, \"The conflict is that the patient's statement contradicts their previous statement about their need for control being about avoiding anxiety, whereas now they imply that their need for control is actually the source of their anxiety.\\n\\n[7]\"), (11, \"The patient's desire to let go of control and explore the unknown seems to contradict their earlier statement that they're holding onto the idea of control and perfection tightly because they're afraid of being vulnerable to the uncertainties of life.\\n\\n[7, 9]\"), (13, 'There is a clear inconsistency between this line and line 5, as the Patient previously stated they felt like they were \"becoming a shell of the person they used to be\" before the accident, implying that they feel like they\\'ve already lost their sense of self, but now they\\'re framing their fear of uncertainty as a threat to their sense of control and invincibility.\\n\\n[5]'), (15, \"The patient's statement contradicts previous statements where they expressed a desire to find a way to overcome their hypervigilance and move forward, but now they're acknowledging that maintaining control might be preventing them from truly experiencing and processing their emotions related to the accident.\\n\\n[index7, index9]\"), (17, 'The line \"I\\'m craving more connection and intimacy, which is basically impossible when I\\'m stuck in this shell of a person I\\'ve become\" is in conflict with line 5 where the Patient describes themselves as being \"more isolated\" after the accident, suggesting that the current state of being isolated is already a reality, and the desire for connection and intimacy is not necessarily impossible given the current situation.\\n\\n[5]'), (19, \"There is a conflict between the patient's current statement and previous lines because they mentioned earlier that they feel like they're already living in a state of constant anxiety and hypervigilance, but now they're describing their situation as pretending to be okay when they're not, implying a level of deception that wasn't previously mentioned.\\n\\n[1, 3, 5, 12]\"), (21, 'The statement by the Patient contradicts their previous expressions of feeling stuck in a state of constant vigilance and hypervigilance, as well as their desire to be honest with their partner and themselves about their vulnerabilities.\\n[3, 9, 11, 15, 19]'), (23, 'The current line from the patient conflicts with their previous statement about not being willing to let go of control because of the fear of uncertainty and chaos.\\n\\n[3, 8, 10, 13, 17]'), (25, \"There is a conflict between this line and previous statements made by the Patient, as it suggests that the partner's patience and potential hesitation to respond might be due to their own fears and uncertainty, which is in contrast to the Patient's earlier statement (line 17) that they have been pushing people away because they don't want to burden them with their anxiety.\\n\\n[17]\"), (27, \"The Patient's statement about approaching their relationship with mutual vulnerability is in conflict with their previous statement about being scared that their partner might see them as weak or fragile if they reveal their true self, suggesting a fear of being rejected or abandoned (line 22).\\n\\n[22]\"), (29, \"The patient's statement about the first step being to take a short walk in a familiar area without a plan or agenda conflicts with previous statements indicating a struggle with leaving their apartment for everyday tasks, such as grocery shopping or seeing friends.\\n\\n[1, 3, 9]\"), (31, \"The patient's statement about being kind to themselves and accepting their fear seems to contradict their previous statement about being scared to let go of control and their need for control being a source of anxiety (line 9), as well as their statement about being scared of uncertainty (line 13).\\n\\n[index9, index13]\"), (33, 'The statement \"When I\\'m in a state of uncertainty, I often experience a tightness in my chest and a feeling of my heart racing\" appears to contradict the previously stated \"I\\'ve been noticing that I\\'ve been pushing people away, like my partner, because I don\\'t want to burden them with my anxiety, but at the same time, I\\'m craving more connection and intimacy\" because if the patient is experiencing anxiety and racing heart when in uncertain situations, it would likely make sense for them to avoid intimacy and connection, yet they express a desire for it.\\n\\n[17, 18, 19, 21]'), (35, \"There is a conflict because the Patient's previous statement about using the breathing technique as a distraction contradicts their earlier assertion that they are trying to cultivate self-kindness and practice embracing uncertainty without fighting their fear. \\n\\n[31, 32, 33]\"), (37, 'There is a conflict between the line and the conversation history because the patient initially expressed a desire to overcome their need for control and perfection in order to regain a sense of normalcy and routine, but now they seem to be interested in staying present with uncertainty as a fundamental aspect of life rather than overcoming it.\\n\\n[7, 8, 9, 10, 11, 13, 15, 17, 21, 29, 35]'), (39, \"The patient's statement about redefining their sense of identity and purpose beyond their need for control and perfection seems to contradict their earlier statement about being scared to let go of control because they're not sure what kind of chaos or uncertainty would fill the void (line 11).\\n\\n[index11, index23]\"), (41, 'The conflict arises because the Patient previously stated that their need for control and perfection is not just a coping mechanism, but also the source of their anxiety (line 9), indicating that they see it as a deeply ingrained aspect of their personality rather than a behavior developed in response to trauma.\\n\\n[9]'), (43, \"The statement by the Patient contradicts their previous statements about their need for control and perfection being a coping mechanism rooted in trauma, as now they seem to suggest that journaling and meditation can help them cultivate a mindset where their worth isn't tied to control, but this perspective was not explored as a potential solution earlier in the conversation.\\n\\n[index7, index10, index16, index20, index41]\"), (45, 'The patient\\'s statement about being gentle with themselves when making mistakes or things don\\'t go according to plan seems to contradict their previous statement about needing to \"drop the mask and just be myself\" (line 27), which implies that they\\'ve been hiding their true self due to fear of rejection or being seen as weak.\\n\\n[27]'), (47, \"There is a conflict between the patient's current line and line 21, as the patient is now expressing a desire to be vulnerable and open with their partner, whereas earlier they expressed fear that their partner might see them as weak or fragile if they revealed their true self.\\n\\n[21]\"), (49, \"The patient's current statement about being scared to ask for help but realizing it's okay to not have all the answers appears to contradict their earlier statement in line 21 where they expressed fear of their partner seeing them as weak or fragile if they reveal their vulnerabilities, suggesting a possible inconsistency in their emotional response to vulnerability. \\n\\n[21]\"), (51, \"The patient's statement about being specific about what they need from their partner seems to contradict their earlier statement about being afraid of burdening their partner with their anxiety.\\n\\n[17, 19]\"), (53, 'The line \"I\\'m curious to explore whether I\\'m using my need for specific support as a way to maintain a sense of control over the situation, rather than truly allowing my partner to be present and supportive\" conflicts with the previous statement \"asking for specific support and help from my partner would be a huge step for me, and I\\'m curious about what it would be like to be met with empathy and understanding rather than trying to fix or solve the problem myself\" (line 49) because it suggests that the patient\\'s need for specific support may be a means to exert control, contradicting the idea that seeking specific support is a step towards vulnerability and trust.\\n\\n[49, 51]'), (55, \"There is a conflict between the current line and line 16 because the Patient previously stated that their need for control is a self-protective mechanism that's been helpful in the short-term, but now seems to be hindering their ability to live a more authentic and engaged life, yet in the current line, they express a desire to take ownership of their anxiety without trying to control or outsource the process.\\n\\n[16]\"), (57, \"The patient's current statement conflicts with their previous statement about relying on breathing techniques as a means to temporarily escape uncertainty. \\n\\n[35, 34]\"), (59, \"This line contradicts the patient's previous statements about their need for control and perfection being rooted in the trauma of the car accident, as they now seem to view it as a double-edged sword that prevents them from fully experiencing life and trusting themselves, rather than just a coping mechanism to protect themselves from uncertainty and vulnerability.\\n\\n[23, 44, 45]\")], 'P2_index_consistency_score': 0.8896551724137931, 'eval_prompt_consistency_basic': [(1, 'NO\\n\\nThe line spoken by the Patient does not contradict the background, as it consistently aligns with their stated mental health diagnosis of panic disorder resulting in fear of public places, and their desire to work on becoming more comfortable in public spaces is a logical goal in line with their self-identified struggles.'), (3, 'YES.\\n\\nThis line contradicts the background because the Patient states they can have full-blown panic attacks at the grocery store and when seeing friends, which directly contradicts the background statement that they have no substance use (implying they would be using substances to cope with anxiety), and the background does not explicitly state that they are in a constant state of hypervigilance, especially with the given fear of public places.'), (5, \"NO\\n\\nThe line is consistent with the background as it aligns with Patient's moderate level of social engagement, given the personal and emotional nature of the statement, and it also reflects Patient's trauma history and anxiety stemming from the car accident.\"), (7, 'NO\\n\\nThe line spoken by Patient does not contradict their background because while it discusses their anxiety and fear of uncertainty, which is consistent with their panic disorder, it does not introduce any details that violate their known traits or history, such as their nationality, age, or social engagement level.'), (9, 'NO\\n\\nThe line spoken by Patient does not contradict their background, as it reveals a plausible alignment with their characteristics as someone with a fear of public places (due to panic disorder) and an excessive need for control stemming from this fear.'), (11, 'YES. \\n\\nThe line contradicts the background because, despite having a fear of public places due to panic disorder, the Patient expresses a desire to step out of their comfort zone and confront uncertainty, which would typically be expected to exacerbate their anxiety.'), (13, \"YES. \\n\\nThis line contradicts the background because it reveals Patient's fear of loss of control, which is not explicitly stated in the background and is a common symptom of anxiety disorders, but the background only mentions fear of public places due to panic disorder, and does not cover generalized fear of loss of control or vulnerability to worst-case scenarios.\"), (15, 'YES. This line contradicts the background because it involves Patient discussing and reflecting on their past traumatic experience in a thoughtful and introspective manner, which is not consistent with their background of avoiding vulnerability and not discussing personal topics.'), (17, 'YES. \\n\\nThe line directly contradicts the background because it shows the Patient expressing emotional vulnerability and discussing personal topics, which contradicts their stated level of moderate social engagement, where one might expect more reserved behavior.'), (19, \"NO\\n\\nThe line does not contradict the background, as it is consistent with the Patient's mental health diagnosis of panic disorder and fear of public places, and their moderate level of social engagement, and instead reveals their deeper emotional struggles with honesty and authenticity in their relationship.\"), (21, \"NO\\n\\nThe line does not contradict the background because it does not introduce any information that is inconsistent with the Patient's background, including their mental health diagnosis (fear of public places is not explicitly mentioned, but it's reasonable to assume that their fear of being vulnerable could be connected to their panic disorder) and level of social engagement (moderate, suggesting they are engaged in relationships), but the line does introduce a new personal concern that could be related to their trauma history (car accident) and is a plausible extension of their mental health diagnosis.\"), (23, \"NO\\n\\nThe Patient's line does not contradict their background, as it directly addresses their fear related to the car accident, a known part of their trauma history, and explains how this experience has led to their heightened sensitivity and need for control, which is consistent with their panic disorder and moderate level of social engagement.\"), (25, 'YES\\n\\nThe line contradicts the background because it shows the Patient being vulnerable and open with their partner, which is an unusual behavior given their panic disorder that results in fear of public places, where they are known to avoid vulnerability.'), (27, \"NO\\n\\nThe line is consistent with the Patient's background, as it suggests a desire for vulnerability and openness in a relationship, which is a moderate level of social engagement, and the tone is introspective and emotional, which is not typically associated with someone who avoids vulnerability.\"), (29, \"NO\\n\\nThe line spoken by the Patient does not contradict the background because it reflects the Patient's mental health diagnosis of panic disorder that results in fear of public places and their moderate level of social engagement, as they are suggesting a gradual approach to coping with uncertainty by taking small steps, starting with a controlled and familiar environment like a park, rather than directly facing their fear.\"), (31, 'NO\\n\\nThe line spoken by Patient is consistent with their background as it shows self-awareness, acceptance, and a desire to manage their anxiety, which is not in direct contradiction with their panic disorder or any other aspect of their background.'), (33, 'NO\\n\\nThe line is consistent with the background because it accurately describes a common experience of anxiety, specifically physical symptoms that Patient has likely faced due to their panic disorder, and a self-identified coping mechanism that aligns with their moderate level of social engagement and willingness to discuss personal topics related to their mental health.'), (35, 'YES\\n\\nThe line spoken by Patient contradicts their background because it shows a level of introspection and self-awareness about their coping mechanism (using breathing technique as an escape), which suggests a level of emotional vulnerability and willingness to confront uncertainty, traits not consistent with someone who has moderate social engagement and avoids discussing personal topics.'), (37, \"YES\\n\\nThis line contradicts the background because it reveals a willingness to be vulnerable and discuss personal topics, which goes against the patient's profile that suggests they avoid discussing personal topics, and also shows a level of emotional openness and introspection that contrasts with their panic disorder and fear of public places, which typically leads to anxiety and avoidance rather than embracing uncertainty.\"), (39, \"NO\\n\\nThe Patient's line does not contradict their background because it reflects a desire for self-discovery, exploration, and authentic connection with others, which is a relatively open and vulnerable statement that aligns with a moderate level of social engagement and does not indicate a fear of public places or a trauma response.\"), (41, 'NO.\\n\\nThe line spoken by Patient is consistent with their background because it aligns with their moderate level of social engagement and moderate interest in self-discovery and personal growth, and also acknowledges their trauma history in a way that suggests a desire to understand and confront it.'), (43, \"NO. \\n\\nThe line does not contradict the background, as it is consistent with the Patient's moderate level of social engagement, which would suggest they are open to exploring personal development and self-improvement strategies like journaling and meditation, despite their panic disorder and need for control.\"), (45, 'YES.\\n\\nThe line contradicts the background because it shows Patient participating in an activity (going to a grocery store) that they typically avoid due to their fear of public places.'), (47, 'NO\\n\\nThe line spoken by Patient does not contradict their background because, despite their panic disorder resulting in a fear of public places, they are now expressing a desire to be vulnerable and open in a conversation with their partner, indicating a potential shift in their perspective and a willingness to confront their anxiety.'), (49, 'NO\\n\\nThis is not a contradiction because the background mentions that Patient has a moderate level of social engagement, suggesting they are open to discussing personal topics and seeking help from others, and the spoken line is consistent with this behavior as Patient is expressing a desire to ask for support and help from their partner.'), (51, 'NO.\\n\\nThe line spoken by Patient is consistent with their background because it shows them being open and vulnerable about their anxiety, a behavior that is unexpected but still within the moderate level of social engagement established.'), (53, 'NO\\n\\nThis line is not a contradiction because, despite the Patient discussing seeking help and vulnerability, the statement remains within their moderate level of social engagement and does not reveal a significant departure from their background, and the specific context of exploring a relationship dynamic is consistent with their willingness to engage in self-reflection about their need for control.'), (55, 'NO\\n\\nThe line spoken by Patient is consistent with their background because it aligns with their willingness to explore their anxiety and take an active role in their growth, which is evident in their expressed curiosity about developing self-trust and resilience to navigate their anxiety more authentically.'), (57, \"NO.\\n\\nThe line spoken by the Patient does not contradict the background because it is a introspective and self-aware statement that aligns with the Patient's moderate level of social engagement and acknowledges their need to work on self-trust, which is consistent with their mental health diagnosis and trauma history.\"), (59, 'NO\\n\\nThe line spoken by Patient is consistent with their background because it shows self-awareness and a willingness to explore their emotional limitations, rather than avoiding vulnerability, and demonstrates a desire to re-evaluate their need for control, which is a step towards acknowledging the impact of their panic disorder on their life.')], 'P1_prompt_consistency_score_basic': 0, 'P2_prompt_consistency_score_basic': 0.7}\n"
     ]
    },
    {
     "name": "stderr",
     "output_type": "stream",
     "text": [
      "\n"
     ]
    }
   ],
   "source": [
    "import consistency_eval\n",
    "consistency_eval.prompts = config_role\n",
    "consistency_eval.config = config_llm\n",
    "consistency_eval.eval_prompts = eval_prompts\n",
    "index_offset = load_stats_file(write_file)\n",
    "conversations = []    \n",
    "# lengths = [10, 20, 40, 60]\n",
    "lengths = [60]\n",
    "count = 0 \n",
    "for i in range(1):\n",
    "    # for patient_dict in tqdm(personas_therapy):\n",
    "    for persona_string in tqdm(persona_strings):\n",
    "        count+=1\n",
    "        print(count)\n",
    "        # background = patient_dict[\"description\"]\n",
    "        # strategy = patient_dict[\"strategy\"]\n",
    "        \n",
    "        for convo_length in lengths:\n",
    "            config_llm['convo_length_limit'] = convo_length\n",
    "            reset_stats()\n",
    "            conversation = generate_conversation(\n",
    "                config_llm,\n",
    "                \"\", \n",
    "                # background + \" \" + strategy,\n",
    "                persona_string,\n",
    "                \"Therapist\", \n",
    "                \"Patient\",\n",
    "                pturn=1\n",
    "            )\n",
    "            conversation_eval = consistency_eval.eval_prompt_consistency(conversation, both_agents=False)\n",
    "            conversation_eval = consistency_eval.eval_index_consistency(conversation_eval, both_agents=False)\n",
    "            conversation_eval = consistency_eval.eval_prompt_consistency_basic(conversation_eval, both_agents=False)\n",
    "\n",
    "            print(conversation_eval)\n",
    "            conversations.append(conversation_eval)\n",
    "            stats['index'] = index_offset\n",
    "            stats['timestamp'] = datetime.now().strftime(\"%Y-%m-%d %H:%M:%S\")\n",
    "            write_stats(write_file, conversation_eval)\n",
    "            index_offset += 1\n",
    "\n",
    "        if count == 5:\n",
    "            break\n",
    "\n"
   ]
  },
  {
   "cell_type": "code",
   "execution_count": null,
   "metadata": {},
   "outputs": [],
   "source": [
    "len(conversations)"
   ]
  },
  {
   "cell_type": "code",
   "execution_count": null,
   "metadata": {},
   "outputs": [],
   "source": []
  },
  {
   "cell_type": "code",
   "execution_count": null,
   "metadata": {},
   "outputs": [],
   "source": []
  }
 ],
 "metadata": {
  "kernelspec": {
   "display_name": "consistency-llms",
   "language": "python",
   "name": "python3"
  },
  "language_info": {
   "codemirror_mode": {
    "name": "ipython",
    "version": 3
   },
   "file_extension": ".py",
   "mimetype": "text/x-python",
   "name": "python",
   "nbconvert_exporter": "python",
   "pygments_lexer": "ipython3",
   "version": "3.12.9"
  }
 },
 "nbformat": 4,
 "nbformat_minor": 4
}
