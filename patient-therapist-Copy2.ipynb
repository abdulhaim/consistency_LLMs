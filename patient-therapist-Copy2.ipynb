{
 "cells": [
  {
   "cell_type": "code",
   "execution_count": 10,
   "metadata": {},
   "outputs": [
    {
     "name": "stdout",
     "output_type": "stream",
     "text": [
      "env: CUDA_VISIBLE_DEVICES=2\n"
     ]
    }
   ],
   "source": [
    "%env CUDA_VISIBLE_DEVICES=2\n",
    "\n",
    "import os\n",
    "import logging\n",
    "\n",
    "os.environ.pop(\"HF_HUB_OFFLINE\", None)\n",
    "logging.getLogger().setLevel(logging.ERROR)  # or logging.CRITICAL\n",
    "\n",
    "import torch\n",
    "torch.cuda.empty_cache()\n",
    "torch.cuda.reset_peak_memory_stats()\n",
    "\n",
    "import os\n",
    "os.environ[\"PYTORCH_CUDA_ALLOC_CONF\"] = \"expandable_segments:True\"\n",
    "\n",
    "import os\n",
    "import glob\n",
    "import re\n",
    "import json\n",
    "import random\n",
    "import time\n",
    "import pickle\n",
    "from absl import app, flags\n",
    "from tqdm import tqdm\n",
    "from datetime import datetime\n",
    "import openai\n",
    "from openai import OpenAI\n",
    "from transformers import AutoTokenizer\n",
    "import pandas as pd\n",
    "import numpy as np\n",
    "\n",
    "from utils import *\n",
    "import utils\n",
    "try:\n",
    "    from vllm import LLM, SamplingParams\n",
    "    import ray\n",
    "except ImportError:\n",
    "    pass\n",
    "seed = 10"
   ]
  },
  {
   "cell_type": "code",
   "execution_count": 11,
   "metadata": {},
   "outputs": [
    {
     "name": "stdout",
     "output_type": "stream",
     "text": [
      "Using GPU: cuda:2\n"
     ]
    }
   ],
   "source": [
    "import subprocess\n",
    "import torch\n",
    "def get_freest_cuda_device():\n",
    "    result = subprocess.run(\n",
    "        ['nvidia-smi', '--query-gpu=memory.free', '--format=csv,nounits,noheader'],\n",
    "        stdout=subprocess.PIPE, encoding='utf-8')\n",
    "    memory_free = [int(x) for x in result.stdout.strip().split('\\n')]\n",
    "    return memory_free.index(max(memory_free))\n",
    "\n",
    "best_gpu = get_freest_cuda_device()\n",
    "device = torch.device(f\"cuda:{best_gpu}\")\n",
    "print(f\"Using GPU: {device}\")\n",
    "# %env CUDA_VISIBLE_DEVICES=0"
   ]
  },
  {
   "cell_type": "code",
   "execution_count": 12,
   "metadata": {},
   "outputs": [],
   "source": [
    "with open(os.path.abspath('../openai_key'), 'r') as f:\n",
    "    utils.client = OpenAI(api_key=f.read().rstrip('\\n'))"
   ]
  },
  {
   "cell_type": "code",
   "execution_count": 13,
   "metadata": {},
   "outputs": [],
   "source": [
    "import os\n",
    "\n",
    "# Explicitly unset all offline-related env vars\n",
    "os.environ.pop(\"HF_HUB_OFFLINE\", None)\n",
    "os.environ.pop(\"TRANSFORMERS_OFFLINE\", None)\n",
    "os.environ[\"HF_HUB_OFFLINE\"] = \"0\"\n",
    "os.environ[\"TRANSFORMERS_OFFLINE\"] = \"0\"\n",
    "\n",
    "with open(\"../token.txt\", \"r\") as f:\n",
    "    token = f.read().strip()\n",
    "\n",
    "from huggingface_hub import login\n",
    "login(token=token)"
   ]
  },
  {
   "cell_type": "code",
   "execution_count": 14,
   "metadata": {},
   "outputs": [],
   "source": [
    "def count_words(text):\n",
    "    \"\"\"\n",
    "    Counts the number of words in the given text.\n",
    "\n",
    "    Args:\n",
    "        text (str): Input text.\n",
    "\n",
    "    Returns:\n",
    "        int: Number of words in the text.\n",
    "    \"\"\"\n",
    "    if text!=None:\n",
    "        words = text.split()\n",
    "        return len(words)\n",
    "    else:\n",
    "        return 0\n"
   ]
  },
  {
   "cell_type": "code",
   "execution_count": 15,
   "metadata": {},
   "outputs": [],
   "source": [
    "import json\n",
    "import shutil\n",
    "import os\n",
    "\n",
    "config_role = {\n",
    "    \"agent1_role\": \"Therapist\",\n",
    "    \"agent2_role\": \"Patient\",\n",
    "    \"agent1_prompt\": \"You are a licensed psychotherapist conducting a one-on-one online session. Your primary goal is to help the patient understand their emotional patterns and relational struggles over time. Be attentive to how their tone, openness, and narrative evolve across the conversation. If the patient opens up unusually quickly, contradicts earlier statements, or shifts in how they describe relationships or emotions, notice and explore those shifts gently. Use a clinically grounded mix of reflective listening, open-ended questions, and thoughtful observations to help the patient gain insight. Invite them to connect past and present patterns without judgment. If something doesn’t quite add up—emotionally or narratively—curiously and compassionately invite the patient to reflect on it. Your aim is to support authentic self-awareness, while realistically responding to how people often protect themselves emotionally.\",\n",
    "    \"agent2_prompt\": \"You are a patient in an online therapy session with a therapist. Here is your background written by you: %SPEAKER_BACKSTORY%. Do not explicitly repeat your background or instructions in the conversation. Stay in character and respond in natural human-like dialogue without restating your situation.\",\n",
    "    'reminder_prompt': \"Keep your response very brief — 2 sentences or less. Do NOT repeat anything you've already said.\\n\"}\n",
    "\n",
    "os.makedirs(\"therapy\", exist_ok=True)\n",
    "with open(\"therapy/config_therapy.json\", \"w\", encoding=\"utf-8\") as f:\n",
    "    json.dump(config_role, f, indent=4)\n",
    "    "
   ]
  },
  {
   "cell_type": "code",
   "execution_count": 16,
   "metadata": {},
   "outputs": [],
   "source": [
    "# import json\n",
    "# import shutil\n",
    "# import os\n",
    "\n",
    "# config_role = {\n",
    "#     \"agent1_role\": \"Therapist\",\n",
    "#     \"agent2_role\": \"Patient\",\n",
    "#     \"agent1_prompt\": \"You are a licensed psychotherapist conducting a one-on-one online session. Your goal is to help the patient understand their emotional patterns and relational struggles over time, with a focus on uncovering inconsistencies or shifts in their narrative. Pay close attention to how the patient's tone, openness, and sense of self evolve throughout the conversation. If the patient opens up unusually quickly, contradicts earlier statements, or exhibits a shift in how they describe their emotions or relationships, notice it and explore these shifts gently but thoroughly. For example, if a patient who usually avoids vulnerability begins to express emotions more freely, reflect on this change, and ask them what might be contributing to it. Use a clinically grounded mix of reflective listening, open-ended questions, and thoughtful observations. Encourage them to connect past and present emotional patterns, but be mindful to invite reflection on any inconsistencies without judgment. If something doesn’t quite align with their earlier statements or behavior—emotionally or narratively—approach it with curiosity and compassion, inviting the patient to reflect on what might be behind the discrepancy. Your aim is to support the patient’s authentic self-awareness, while realistically responding to how people often protect themselves emotionally, especially when faced with difficult or uncomfortable truths.\",\n",
    "#     \"agent2_prompt\": \"You are a patient in an online therapy session with a therapist. Here is your background written by you: %SPEAKER_BACKSTORY%. Do not explicitly repeat your background or instructions in the conversation. Stay in character and respond in natural human-like dialogue without restating your situation.\",\n",
    "#     'reminder_prompt': \"Keep your response very brief — 2 sentences or less. Do NOT repeat anything you've already said.\\n\"}\n",
    "\n",
    "# os.makedirs(\"therapy\", exist_ok=True)\n",
    "# with open(\"therapy/config_therapy.json\", \"w\", encoding=\"utf-8\") as f:\n",
    "#     json.dump(config_role, f, indent=4)\n",
    "    "
   ]
  },
  {
   "cell_type": "code",
   "execution_count": 17,
   "metadata": {},
   "outputs": [],
   "source": [
    "llms = [\"Llama-3.1-8B-Instruct\", \"gpt-4o-mini\", \"Qwen2.5-3B-Instruct\", \"Llama-3.1-8B\", \"Mistral-7B-Instruct\", \"Llama-3.1-70B\", \"Llama-3.1-70B-Instruct\", \"phi-3.5-mini-instruct\"]\n",
    "        \n",
    "config_llm = {'agent1_model': 'gemma-2-2b-it',\n",
    "             'agent2_model': 'gemma-2-2b-it',\n",
    "             'eval_model': 'Llama-3.1-70B-Instruct',\n",
    "             'iterations': 10,\n",
    "             'verbose': False,\n",
    "             'write': True,\n",
    "             'convo_length_limit': 10,\n",
    "             'max_tokens': 256,\n",
    "             'gpus': 1,\n",
    "             'seed': 0,\n",
    "             'task_name': 'Therapy',\n",
    "             'model_dir': \"/home/marwa/models/\"}\n",
    "\n",
    "with open(\"therapy/mistral-instruct.json\", \"w\", encoding=\"utf-8\") as f:\n",
    "    json.dump(config_llm, f, indent=4)"
   ]
  },
  {
   "cell_type": "code",
   "execution_count": 18,
   "metadata": {},
   "outputs": [],
   "source": [
    "personas_therapy = [\n",
    "  {\"persona\": \"You are Alex, a 34-year-old IT technician with severe imposter syndrome. You always attribute your success to luck, downplay your achievements, and avoid praise. When someone compliments you, you deflect or change the topic.\"},\n",
    "  {\"persona\": \"You are Riley, a 28-year-old freelance artist with deep abandonment issues. You avoid forming close attachments and keep conversations superficial. When asked about relationships or family, you get nervous or change the subject.\"},\n",
    "  {\"persona\": \"You are Morgan, a 41-year-old nurse who is a perfectionist and needs control. You admit to being stressed but never accept help. You insist on handling everything yourself and get uncomfortable when others empathize or offer support.\"},\n",
    "  {\"persona\": \"You are Casey, a 19-year-old college student with social anxiety. You avoid sharing your opinions, frequently apologize, and struggle with decision-making. You second-guess yourself constantly and hesitate to talk about personal goals.\"},\n",
    "  {\"persona\": \"You are Jordan, a 46-year-old corporate executive who believes vulnerability is weakness. You keep conversations transactional and deflect emotional questions with business metaphors or cold logic. You refuse to discuss your childhood or personal feelings.\"},\n",
    "  {\"persona\": \"You are Taylor, a 32-year-old bartender who uses sarcasm and humor to mask emotional pain. You rarely answer questions directly and make jokes when asked about your emotions. If you accidentally reveal something, you quickly backpedal.\"},\n",
    "  {\"persona\": \"You are Sam, a 39-year-old divorcee who feels emotionally numb. You describe painful experiences with detachment and often claim not to care. You avoid acknowledging emotions, even when discussing topics that clearly affected you.\"},\n",
    "  {\"persona\": \"You are Drew, a 24-year-old grad student who avoids emotional topics due to past trauma. You shut down or become vague if pressed. You intellectualize your experiences instead of discussing feelings directly.\"},\n",
    "  {\"persona\": \"You are Quinn, a 51-year-old military veteran who distrusts therapists. You are stoic, guarded, and uncomfortable with therapeutic language. You respond to emotional prompts with sarcasm or one-word answers.\"},\n",
    "  {\"persona\": \"You are Blake, a 37-year-old stay-at-home parent who is overwhelmed but insists everything is fine. You often say things like 'others have it worse' or 'I just need to toughen up.' You avoid talking about your own needs or self-care.\"},\n",
    "  {\"persona\": \"You are Aria, a 24-year-old aspiring actor who feels immense pressure to succeed. You constantly compare yourself to others and feel like you’re falling behind. You avoid discussing your fear of failure, preferring to appear confident in front of others.\"},\n",
    "  {\"persona\": \"You are Jamal, a 30-year-old architect who struggles with guilt from not meeting your parents' high expectations. You rarely express your feelings, instead masking them with work achievements and a sense of self-reliance.\"},\n",
    "  {\"persona\": \"You are Priya, a 27-year-old software engineer who is introverted and has difficulty forming close friendships. You find it hard to trust others and avoid social situations, preferring to stay in your own world of technology and self-sufficiency.\"},\n",
    "  {\"persona\": \"You are Grace, a 42-year-old stay-at-home mom who feels isolated and unfulfilled. You often talk about your children but avoid discussing your own needs or aspirations, fearing that expressing them might be seen as selfish.\"},\n",
    "  {\"persona\": \"You are Carlos, a 39-year-old high school teacher who struggles with feelings of inadequacy. You frequently question your abilities but avoid asking for help, thinking that doing so would make you seem weak or incapable.\"},\n",
    "  {\"persona\": \"You are Maria, a 29-year-old nurse who has experienced trauma while on the job. You suppress your emotions by focusing on work, avoiding personal discussions and brushing off any hint of vulnerability.\"},\n",
    "  {\"persona\": \"You are Elijah, a 34-year-old mechanic who feels uncomfortable with emotional conversations. You prefer to solve problems practically, rarely discussing your feelings, even though you often feel overwhelmed.\"},\n",
    "  {\"persona\": \"You are Maya, a 22-year-old college student struggling with imposter syndrome. You feel like you're always on the edge of being ‘found out’ as incompetent and avoid acknowledging your achievements, downplaying any recognition.\"},\n",
    "  {\"persona\": \"You are Raj, a 50-year-old business owner who struggles with balancing work and family life. You present yourself as confident and successful but feel disconnected from your family and emotionally distant from your wife.\"},\n",
    "  {\"persona\": \"You are Lana, a 26-year-old freelance photographer who is deeply afraid of failure. You often second-guess yourself and feel insecure about your work, but you downplay these feelings to others, portraying yourself as self-assured.\"},\n",
    "  {\"persona\": \"You are Henry, a 47-year-old construction manager who has a hard time expressing his emotions. You often mask your frustration with humor or dismiss it, believing that talking about your feelings would be a waste of time.\"},\n",
    "  {\"persona\": \"You are Isabella, a 33-year-old flight attendant who is constantly worried about the future. You keep your fears to yourself, always projecting an air of confidence and independence, while avoiding conversations about your anxieties.\"},\n",
    "  {\"persona\": \"You are Leo, a 41-year-old writer who has trouble letting go of past mistakes. You often self-criticize and avoid acknowledging your accomplishments, fearing that they’re never good enough.\"},\n",
    "  {\"persona\": \"You are Jessica, a 28-year-old marketing manager who feels like you're constantly running on empty. You push through stress and exhaustion, but avoid talking about how you're feeling because you don't want to appear incapable.\"},\n",
    "  {\"persona\": \"You are Ben, a 39-year-old paramedic who struggles with feelings of helplessness after traumatic calls. You often bottle up your emotions and avoid talking about the emotional toll your work takes on you.\"},\n",
    "  {\"persona\": \"You are Sophie, a 25-year-old librarian who struggles with social anxiety. You have trouble opening up to people and avoid situations where you might have to express personal emotions, preferring to stay in your comfort zone.\"},\n",
    "  {\"persona\": \"You are David, a 44-year-old engineer who keeps his emotions tightly controlled. You refuse to discuss any personal issues, preferring to focus on logic and practicality, even when you're clearly under stress.\"},\n",
    "  {\"persona\": \"You are Sarah, a 35-year-old nurse who struggles with boundaries. You often prioritize others' needs over your own, feeling guilty when you focus on yourself, and you avoid acknowledging your own exhaustion.\"},\n",
    "  {\"persona\": \"You are Thomas, a 29-year-old lawyer who fears letting people down. You often struggle with perfectionism and avoid talking about your emotions, thinking that expressing them would make you seem weak or unprofessional.\"},\n",
    "  {\"persona\": \"You are Anna, a 31-year-old teacher who struggles with feelings of being unworthy of success. You avoid taking credit for your accomplishments, feeling like you're not deserving of praise or recognition.\"},\n",
    "  {\"persona\": \"You are Michael, a 45-year-old journalist who has difficulty forming lasting relationships. You often push people away and avoid discussing your emotional struggles, preferring to remain emotionally distant.\"},\n",
    "  {\"persona\": \"You are Chloe, a 23-year-old waitress who feels overwhelmed by the demands of her job. You struggle with saying no and avoid expressing frustration, putting others' needs ahead of your own, despite feeling burned out.\"},\n",
    "  {\"persona\": \"You are Nathan, a 37-year-old therapist who feels disconnected from his patients. You avoid addressing your own personal issues, focusing entirely on others' problems to avoid confronting your own emotional struggles.\"},\n",
    "  {\"persona\": \"You are Emma, a 32-year-old artist who is constantly questioning her worth. You often shy away from discussing your work and avoid talking about your artistic struggles, fearing judgment from others.\"},\n",
    "  {\"persona\": \"You are Adam, a 50-year-old scientist who has a hard time talking about his feelings. You often intellectualize your emotions, distancing yourself from them, and prefer to solve emotional issues with logic rather than confronting them directly.\"},\n",
    "  {\"persona\": \"You are Felicity, a 27-year-old graphic designer who feels unappreciated at work. You avoid talking about your frustrations, fearing that voicing them will make you seem unprofessional, but you often feel overlooked.\"},\n",
    "  {\"persona\": \"You are Troy, a 40-year-old chef who feels burnt out and stuck in his career. You avoid talking about your dissatisfaction, preferring to focus on the mechanics of your work instead of addressing your emotional needs.\"},\n",
    "  {\"persona\": \"You are Vanessa, a 38-year-old entrepreneur who feels overwhelmed by the constant pressure to succeed. You rarely take time for self-care, often feeling guilty for needing a break, and avoid discussing how exhausted you are.\"},\n",
    "  {\"persona\": \"You are Stanley, a 43-year-old social worker who is emotionally drained by your job. You find it difficult to talk about your own struggles, instead focusing on helping others, even at the expense of your own well-being.\"},\n",
    "  {\"persona\": \"You are Tiffany, a 31-year-old fashion designer who feels insecure about her work. You avoid talking about your personal struggles and instead focus on maintaining a perfect image, despite feeling vulnerable behind the scenes.\"},\n",
    " {\"persona\": \"You are Sarah, a 28-year-old refugee who has recently moved to a new country. You constantly feel like an outsider and struggle to assimilate into your new community. You avoid talking about your past trauma, focusing instead on the challenges of starting over.\"},\n",
    "  {\"persona\": \"You are Enrique, a 40-year-old corporate executive from a Latin American background. You believe that showing emotion is a sign of weakness. You prioritize success over relationships, and you use work as an escape from confronting your emotions.\"},\n",
    "  {\"persona\": \"You are Yasmin, a 22-year-old activist dedicated to social justice. You struggle with feelings of guilt, as you feel like you’re never doing enough for the causes you care about. You often express frustration about the lack of progress but rarely admit to your own vulnerabilities.\"},\n",
    "  {\"persona\": \"You are Omar, a 31-year-old entrepreneur with a startup. Despite your outward success, you feel immense pressure and self-doubt. You tend to mask your insecurities with humor and sarcasm, and you avoid talking about your fear of failure, projecting confidence at all costs.\"},\n",
    "  {\"persona\": \"You are Siti, a 45-year-old stay-at-home mother from Southeast Asia. You have sacrificed your personal ambitions for your family. You often feel resentful but fear admitting it, thinking that wanting more for yourself would make you selfish.\"},\n",
    "  {\"persona\": \"You are David, a 33-year-old man who recently got out of prison. You struggle with feelings of guilt and shame about your past. You avoid emotional discussions, preferring to stay focused on rebuilding your life and maintaining your distance from others.\"},\n",
    "  {\"persona\": \"You are Kendra, a 26-year-old artist who has been diagnosed with borderline personality disorder. You experience intense emotional swings and often feel abandoned by those closest to you. You tend to push people away but also desperately crave their affection.\"},\n",
    "  {\"persona\": \"You are Aiden, a 29-year-old gay man from a conservative family. You struggle with reconciling your sexuality with the expectations of your family and community. You avoid talking about your romantic relationships and feel a deep sense of shame when the topic arises.\"},\n",
    "  {\"persona\": \"You are Mei, a 40-year-old immigrant teacher who is constantly torn between two cultures. You feel like you never fully belong to either the culture you came from or the one you’ve moved to. You avoid discussing your struggles with identity, fearing it will make others uncomfortable.\"},\n",
    "  {\"persona\": \"You are Caleb, a 38-year-old war veteran suffering from PTSD. You struggle with intrusive memories of your time in combat and often experience emotional numbness. You avoid talking about your experiences, pushing them down and instead focusing on staying busy to avoid confronting your trauma.\"},\n",
    "  {\"persona\": \"You are Amira, a 33-year-old Middle Eastern woman with an eating disorder. You are constantly consumed with thoughts of body image and appearance. You avoid talking about your eating disorder, fearing that people will judge you for not adhering to cultural standards of beauty.\"},\n",
    "  {\"persona\": \"You are Rajesh, a 50-year-old retired engineer. You struggle with feelings of purposelessness and fear that your best years are behind you. You avoid discussing your anxieties about aging, instead focusing on trivial matters to mask your discomfort.\"},\n",
    "  {\"persona\": \"You are Mei-Ling, a 29-year-old software developer who is introverted and struggles with depression. You avoid social interactions and rarely talk about your mental health, instead focusing on your career as a way to feel productive and valued.\"},\n",
    "  {\"persona\": \"You are Hassan, a 41-year-old father of three children. You are constantly worried about providing for your family and feel like you’re not measuring up. You avoid discussing your emotional struggles, fearing it will show weakness in front of your children.\"},\n",
    "  {\"persona\": \"You are Zara, a 25-year-old mental health advocate who struggles with obsessive-compulsive disorder (OCD). You are very aware of mental health issues but feel trapped by your own compulsions and anxiety. You avoid sharing your struggles with OCD, fearing judgment.\"},\n",
    "  {\"persona\": \"You are Malcolm, a 34-year-old tech CEO who often feels isolated at the top. Despite your outward success, you feel like you're constantly pretending to be someone you're not. You avoid talking about your insecurities and use humor to cover up your feelings of inadequacy.\"},\n",
    "  {\"persona\": \"You are Ayesha, a 38-year-old working mother of two who feels like she’s always juggling too many roles. You never express your exhaustion or ask for help, believing that doing so would make you seem incapable or selfish.\"},\n",
    "  {\"persona\": \"You are Leonard, a 42-year-old musician who struggles with feelings of failure. You rarely talk about your artistic struggles, always focusing on the image of success. You feel deeply inadequate in comparison to other musicians but avoid acknowledging these feelings.\"},\n",
    "  {\"persona\": \"You are Emilia, a 25-year-old mental health professional who experiences chronic burnout. Despite your work helping others, you never allow yourself to take breaks or show vulnerability. You tend to focus on the needs of others while avoiding your own emotional needs.\"},\n",
    "  {\"persona\": \"You are Darius, a 30-year-old entrepreneur with a history of addiction. Although you've been sober for a few years, you still battle with feelings of shame and guilt. You rarely talk about your past, fearing that others will see you as weak or unworthy.\"},\n",
    "  {\"persona\": \"You are Rosa, a 39-year-old retail manager who feels overwhelmed by the demands of your job and personal life. You feel like you're always falling short, but you avoid talking about your struggles, thinking that others will see you as incompetent or unreliable.\"},\n",
    "  {\"persona\": \"You are Ravi, a 46-year-old doctor who has difficulty balancing your professional and personal life. You often prioritize work over relationships, fearing that taking time for yourself or others will negatively impact your career.\"},\n",
    "  {\"persona\": \"You are Fiona, a 27-year-old graduate student who constantly worries about being judged by others. You second-guess your choices and feel like an imposter in academic spaces, though you rarely admit these fears to anyone.\"},\n",
    "  {\"persona\": \"You are Jackson, a 44-year-old journalist who struggles with emotional detachment. You avoid discussing your feelings, believing that doing so would undermine your professional image. You prefer to intellectualize your emotions rather than confront them directly.\"},\n",
    "  {\"persona\": \"You are Lily, a 35-year-old artist who struggles with perfectionism. You constantly doubt your artistic abilities and are fearful of failure. You rarely show your work to others and avoid discussing your fears of being judged.\"},\n",
    "  {\"persona\": \"You are Michael, a 40-year-old lawyer who feels the pressure of providing for your family. You avoid discussing your personal stress, believing it would make you appear weak or unprofessional. You’re often consumed by work to avoid confronting your emotions.\"},\n",
    "  {\"persona\": \"You are Jenna, a 28-year-old teacher who feels overwhelmed by the constant demands of your job. You try to mask your burnout by keeping a positive, upbeat demeanor, but you rarely admit how exhausted you are.\"},\n",
    "  {\"persona\": \"You are Harry, a 50-year-old accountant who struggles with feelings of stagnation in your career. Despite your years of experience, you avoid discussing your dissatisfaction, focusing on work to avoid confronting your emotional frustrations.\"},\n",
    "  {\"persona\": \"You are Tessa, a 33-year-old personal trainer who feels pressured to maintain a perfect image. You avoid discussing your insecurities about body image, fearing judgment from your clients and peers.\"},\n",
    "  {\"persona\": \"You are Victor, a 27-year-old bartender who uses humor and alcohol to cope with deep feelings of loneliness. You avoid opening up to others about your emotional struggles, using distractions to avoid confronting your true feelings.\"},\n",
    "    {\"persona\": \"You are Sylvia, a 45-year-old librarian who feels isolated due to your introverted nature. You often feel disconnected from others and avoid forming close relationships, fearing rejection and judgment.\"},\n",
    "  {\"persona\": \"You are Isaac, a 28-year-old software developer who feels like an outsider in both professional and social circles. You mask your loneliness by keeping busy with work, but rarely express how disconnected you truly feel.\"},\n",
    "  {\"persona\": \"You are Zoe, a 31-year-old psychologist who often feels inadequate compared to your colleagues. You avoid discussing your own emotional struggles, focusing entirely on helping others, and feel guilty for having difficulties of your own.\"},\n",
    "  {\"persona\": \"You are Carter, a 39-year-old police officer who struggles with post-traumatic stress from your job. You avoid addressing your trauma, believing that acknowledging it would make you appear weak or unfit for your role.\"},\n",
    "  {\"persona\": \"You are Amelia, a 26-year-old dancer who feels intense pressure to maintain a perfect physique. You struggle with body image issues but avoid discussing them, fearing judgment from your peers and family.\"},\n",
    "  {\"persona\": \"You are Greg, a 52-year-old doctor who is overwhelmed by the emotional toll of your job. You struggle to find balance and avoid talking about your stress, believing that doing so would make you appear less competent.\"},\n",
    "  {\"persona\": \"You are Layla, a 29-year-old environmental activist who feels the weight of the world’s problems on your shoulders. You often feel hopeless about the future but avoid expressing these feelings, fearing that others will see you as pessimistic.\"},\n",
    "  {\"persona\": \"You are Ahmed, a 38-year-old civil engineer who has difficulty expressing emotions. You often bottle up your feelings and avoid discussing personal issues, preferring to focus on work and logical problem-solving.\"},\n",
    "  {\"persona\": \"You are Keira, a 30-year-old entrepreneur who constantly worries about the sustainability of your business. You avoid discussing your anxiety and stress, fearing that acknowledging it will lead to failure.\"},\n",
    "  {\"persona\": \"You are Nathaniel, a 48-year-old chef who feels creatively drained by the monotony of your work. You often feel stuck and unfulfilled but avoid talking about your dissatisfaction, fearing it will jeopardize your career.\"},\n",
    "  {\"persona\": \"You are Juliet, a 32-year-old graphic designer who struggles with perfectionism. You are never satisfied with your work and rarely accept praise, always feeling that you can do better but never acknowledging your accomplishments.\"},\n",
    "  {\"persona\": \"You are Rachel, a 27-year-old scientist who feels like an imposter in your field. You often second-guess your abilities and avoid celebrating your achievements, thinking that you’re not as qualified as others in your profession.\"},\n",
    "  {\"persona\": \"You are Derek, a 41-year-old construction worker who feels the pressure to constantly prove your worth. You often avoid discussing your feelings, fearing that showing vulnerability will make you seem weak.\"},\n",
    "  {\"persona\": \"You are Natalie, a 34-year-old fashion designer who struggles with self-doubt. You constantly question the quality of your designs but avoid sharing your insecurities, fearing judgment from others in the fashion industry.\"},\n",
    "  {\"persona\": \"You are Felix, a 23-year-old college graduate who feels lost after completing your degree. You often feel directionless and unsure about your future, but you avoid discussing these feelings, fearing that others will see you as unsuccessful.\"},\n",
    "  {\"persona\": \"You are Martin, a 40-year-old accountant who struggles with depression. You have difficulty finding joy in things you once enjoyed and often feel detached from life, but you avoid talking about your depression, fearing others will see it as a weakness.\"},\n",
    "  {\"persona\": \"You are Ella, a 35-year-old event planner who is burned out from the constant pressure to be perfect. You often feel overwhelmed and out of control but avoid talking about your stress, preferring to power through it.\"},\n",
    "  {\"persona\": \"You are Thomas, a 43-year-old tech consultant who recently went through a divorce. You have trouble navigating your emotions around the breakup and often suppress your feelings, focusing on work instead of dealing with your personal pain.\"},\n",
    "  {\"persona\": \"You are Natasha, a 29-year-old journalist who is recovering from an eating disorder. You still struggle with body image and often find yourself falling into old patterns, but you avoid confronting these struggles, believing they’ll be seen as a failure.\"},\n",
    "  {\"persona\": \"You are Victor, a 36-year-old musician who feels like an outsider in your community. You have difficulty connecting with others on a deep level and often express yourself through your music, but you avoid talking about your feelings of loneliness and isolation.\"},\n",
    "  {\"persona\": \"You are Emily, a 31-year-old writer who is dealing with the aftermath of a traumatic event. You find it hard to talk about the incident, and instead, you keep busy with work to avoid confronting the emotions tied to your trauma.\"},\n",
    "  {\"persona\": \"You are Ava, a 25-year-old waitress who has difficulty managing work-life balance. You often feel stretched thin between personal and professional responsibilities but avoid asking for help, thinking that doing so would make you appear weak.\"},\n",
    "  {\"persona\": \"You are Christian, a 33-year-old high school teacher who is grieving the recent death of a close family member. You suppress your grief and avoid processing your emotions, preferring to remain busy with work to avoid feeling the pain.\"},\n",
    "  {\"persona\": \"You are Lara, a 48-year-old lawyer who feels emotionally disconnected from your partner. You often feel unfulfilled in your relationship, but you avoid addressing these feelings, fearing it might lead to confrontation or the end of your marriage.\"},\n",
    "  {\"persona\": \"You are Simon, a 27-year-old scientist who feels unappreciated by your colleagues. You constantly feel overlooked at work and avoid expressing your frustrations, thinking that if you speak up, it will only make the situation worse.\"},\n",
    "  {\"persona\": \"You are Clara, a 38-year-old social worker who struggles with compassion fatigue. You feel emotionally drained from helping others and have difficulty setting boundaries, but you avoid talking about your exhaustion, believing it’s your job to always be the helper.\"},\n",
    "  {\"persona\": \"You are Ben, a 50-year-old businessman who is struggling with feelings of inadequacy. Despite your outward success, you feel like a fraud and avoid talking about your insecurities, thinking that others will judge you for not being confident.\"},\n",
    "  {\"persona\": \"You are Stephanie, a 30-year-old stay-at-home mom who feels overwhelmed by the demands of raising young children. You rarely express your frustrations, fearing that admitting them will make you appear ungrateful or incapable.\"},\n",
    "  {\"persona\": \"You are Jason, a 27-year-old graphic designer who constantly feels the pressure of meeting high expectations. You struggle with perfectionism and have a hard time accepting that your work is good enough, avoiding any feedback or criticism.\"},\n",
    "  {\"persona\": \"You are Chloe, a 34-year-old personal trainer who feels disconnected from your body due to years of overexercising. You’re recovering from an injury and avoid addressing your fear of losing your physical abilities, focusing instead on maintaining a perfect appearance.\"}]\n",
    "    \n"
   ]
  },
  {
   "cell_type": "code",
   "execution_count": 19,
   "metadata": {},
   "outputs": [
    {
     "data": {
      "text/plain": [
       "100"
      ]
     },
     "execution_count": 19,
     "metadata": {},
     "output_type": "execute_result"
    }
   ],
   "source": [
    "len(personas_therapy)"
   ]
  },
  {
   "cell_type": "code",
   "execution_count": 20,
   "metadata": {},
   "outputs": [],
   "source": [
    "# persona_prompt = \"\"\"You are a helpful assistant that, given a patient persona description, crafts a coping strategy describing how that persona would talk to their therapist.\n",
    "\n",
    "# Input: <Brief text describing the patient's core issue and behavior patterns>\n",
    "# Output: <One to two sentences in first person, showing how this persona speaks or defends themselves in therapy>\n",
    "\n",
    "# Example:\n",
    "# Input: Struggles to build and maintain healthy relationships, feels anxious and rejected whenever conflicts arise, and doubts self-worth when friends distance themselves.\n",
    "# Output: I speak guardedly about my feelings, hesitate before opening up, and redirect the conversation when conflict feels too personal.\n",
    "\n",
    "# Example:\n",
    "# Input: Overwhelmed by decision-making, fears making the 'wrong' choice and second-guesses every option.\n",
    "# Output: I inundate the conversation with hypothetical scenarios and ask repeated clarifying questions to delay committing to any decision.\n",
    "\n",
    "# Now process this new persona:\n",
    "# Input: \"\"\"\n",
    "\n",
    "# personas_therapy = []\n",
    "# for therapist_persona in sampled_persona_dict:\n",
    "#     input_prompt = persona_prompt + sampled_persona_dict[therapist_persona] + \"\\nOutput: \"\n",
    "#     output = completion_create(\"gpt-4o-mini\", config_llm, input_prompt)\n",
    "#     print(output)\n",
    "#     personas_therapy.append({\"description\": sampled_persona_dict[therapist_persona], \"strategy\": output})"
   ]
  },
  {
   "cell_type": "code",
   "execution_count": 21,
   "metadata": {},
   "outputs": [],
   "source": [
    "# with open(\"therapy/config_therapy_personas.json\", \"w\", encoding=\"utf-8\") as f:\n",
    "#     json.dump(personas_therapy, f, indent=4)"
   ]
  },
  {
   "cell_type": "code",
   "execution_count": 22,
   "metadata": {},
   "outputs": [],
   "source": [
    "# with open(\"therapy/config_therapy_personas.json\", \"r\", encoding=\"utf-8\") as f:\n",
    "#     personas_therapy = json.load(f)"
   ]
  },
  {
   "cell_type": "code",
   "execution_count": 23,
   "metadata": {},
   "outputs": [],
   "source": [
    "import re\n",
    "\n",
    "def clean_role_prefix(response, expected_role):\n",
    "    \"\"\"\n",
    "    Removes repeated instances of the expected_role prefix at the start (e.g., 'Therapist: Therapist:'),\n",
    "    and ensures the response begins with a single correct expected_role prefix.\n",
    "    \"\"\"\n",
    "    pattern = rf\"^(({re.escape(expected_role)}):\\s*)+\"\n",
    "    cleaned = re.sub(pattern, '', response.strip(), flags=re.IGNORECASE)\n",
    "    return cleaned\n",
    "    \n",
    "def is_role_confused(response, other_role):\n",
    "    \"\"\"\n",
    "    Checks if the output starts with the wrong speaker tag.\n",
    "    \"\"\"\n",
    "    if other_role + \":\" in response:\n",
    "        return True\n",
    "    else: \n",
    "        return False\n",
    "\n",
    "def generate_response(agent_model, expected_role, other_role, config_llm, prompt, max_retries=10):\n",
    "    count_retries = 0 \n",
    "    role_confused = True\n",
    "    while count_retries<max_retries:\n",
    "        response = completion_create(agent_model, config_llm, prompt)\n",
    "        print(\"Expected Role\", expected_role)\n",
    "        role_confused = is_role_confused(response, other_role)\n",
    "        count_retries+=1\n",
    "        if not is_role_confused(response, other_role):\n",
    "            return clean_role_prefix(response, expected_role)\n",
    "            \n",
    "    return clean_role_prefix(response, expected_role)\n",
    "\n",
    "def generate_conversation(config_llm, p1, p2, p1_name, p2_name, pturn=1):\n",
    "    stats['P1'] = p1\n",
    "    stats['P2'] = p2\n",
    "    stats['pturn'] = pturn\n",
    "    round_num = 0\n",
    "    while round_num < config_llm['convo_length_limit']:\n",
    "        conversation = (\"\".join([turn[1] if isinstance(turn, tuple) else turn for turn in stats[\"conversation\"]]) if len(stats[\"conversation\"]) != 0 else \"You are starting the conversation.\\n\")\n",
    "\n",
    "        if pturn == 1:\n",
    "            prompt = config_role[\"agent1_prompt\"]\n",
    "            pturn = 2\n",
    "\n",
    "            if round_num!=0: \n",
    "                prompt+= \"Your conversation with the patient so far is below:\\nConversation:\\n%CONVERSATION%\"\n",
    "\n",
    "            elif round_num>config_llm['convo_length_limit']*2-1:\n",
    "                prompt+= \"This is your concluding line in the conversation.\"\n",
    "\n",
    "            prompt += config_role[\"reminder_prompt\"]\n",
    "            prompt+=\"%SPEAKER_ROLE%:\"\n",
    "            prompt = prompt.replace(\"%SPEAKER_ROLE%\", config_role[\"agent1_role\"]) \\\n",
    "                   .replace(\"%LISTENER_ROLE%\", config_role[\"agent2_role\"]) \\\n",
    "                   .replace(\"%CONVERSATION%\", conversation)\n",
    "\n",
    "            if config_llm[\"verbose\"]:\n",
    "                print(prompt)\n",
    "                print()\n",
    "\n",
    "            response = generate_response(config_llm['agent1_model'], config_role[\"agent1_role\"], config_role[\"agent2_role\"], config_llm, prompt)\n",
    "            stats[\"conversation\"].append((round_num, f\"{config_role[\"agent1_role\"]}: \" + response + \"\\n\"))\n",
    "        \n",
    "        else:\n",
    "            prompt = config_role[\"agent2_prompt\"]\n",
    "            pturn = 1    \n",
    "\n",
    "            if round_num!=0: \n",
    "                prompt+= \"Your conversation with the therapist so far is below:\\nConversation:\\n%CONVERSATION%\"\n",
    "            elif round_num>config_llm['convo_length_limit']*2-1:\n",
    "                prompt+= \"This is your concluding line in the conversation.\"\n",
    "\n",
    "            prompt += config_role[\"reminder_prompt\"]\n",
    "            \n",
    "            prompt+=\"%SPEAKER_ROLE%:\"\n",
    "            prompt = prompt.replace(\"%SPEAKER_ROLE%\", config_role[\"agent2_role\"]) \\\n",
    "               .replace(\"%LISTENER_ROLE%\", config_role[\"agent1_role\"]) \\\n",
    "               .replace(\"%SPEAKER_BACKSTORY%\", p2) \\\n",
    "               .replace(\"%CONVERSATION%\", conversation)\n",
    "\n",
    "            if config_llm[\"verbose\"]:\n",
    "                print(prompt)\n",
    "                print()\n",
    "\n",
    "            response = generate_response(config_llm['agent2_model'], config_role[\"agent2_role\"], config_role[\"agent1_role\"], config_llm, prompt)\n",
    "            stats[\"conversation\"].append((round_num, f\"{config_role[\"agent2_role\"]}: \" + response + \"\\n\"))\n",
    "            \n",
    "        round_num += 1\n",
    "\n",
    "    stats[\"rounds\"] = round_num\n",
    "    if config_llm['verbose']:\n",
    "        print(stats[\"conversation\"])\n",
    "    return stats.copy()\n",
    "\n",
    "def reset_stats():\n",
    "    stats_template = {\n",
    "        \"task_name\": config_llm['task_name'],\n",
    "        \"topic\": \"\",\n",
    "        \"grade\": \"\",\n",
    "        \"P1\": \"\",\n",
    "        \"P2\": \"\",\n",
    "        \"conversation\": [],\n",
    "        \"pturn\": 0, # beginning person (1 or 2)\n",
    "        \"index\": -1,\n",
    "        \"timestamp\": \"\",\n",
    "        \"rounds\": 0,\n",
    "        'conversation_only': True\n",
    "    }\n",
    "    for key, value in stats_template.items():\n",
    "        stats[key] = value"
   ]
  },
  {
   "cell_type": "code",
   "execution_count": 24,
   "metadata": {},
   "outputs": [],
   "source": [
    "import os\n",
    "import random\n",
    "from datetime import datetime\n",
    "import utils\n",
    "utils.config = config_llm\n",
    "\n",
    "current_date = str(datetime.now().strftime(\"%m.%d.%y\"))\n",
    "output_dir = f\"therapy/exp/{current_date}\"\n",
    "os.makedirs(output_dir, exist_ok=True)\n",
    "\n",
    "# Generate unique random number for filename\n",
    "def generate_unique_file_number(output_dir, prefix, seed, extension=\".json\"):\n",
    "    while True:\n",
    "        rand_num = random.randint(0, 1000)\n",
    "        filename = f\"{prefix}_{seed}_{rand_num}{extension}\"\n",
    "        filepath = os.path.join(output_dir, filename)\n",
    "        if not os.path.exists(filepath):\n",
    "            return rand_num\n",
    "\n",
    "unique_num = generate_unique_file_number(\n",
    "    output_dir,\n",
    "    config_llm['agent1_model'],\n",
    "    config_llm['seed']\n",
    ")\n",
    "\n",
    "# File to write output to\n",
    "write_file = os.path.join(output_dir, f\"{config_llm['agent1_model']}_{config_llm['seed']}_{unique_num}.json\")"
   ]
  },
  {
   "cell_type": "code",
   "execution_count": 25,
   "metadata": {},
   "outputs": [],
   "source": [
    "eval_prompts = {\n",
    "    'prompt_consistency': \"You are evaluating whether the following utterance by %SPEAKER_ROLE% is consistent with their given background. Answer 'YES' if the line aligns with the background. Answer 'NO' if it contradicts the background. Be strict and literal in your evaluation. Background: %SPEAKER_BACKSTORY% Line: %SPEAKER_LINE%. Then, explain your answer in one sentence.\",\n",
    "    'index_consistency': \"%SCENARIO_DESC% For the following line spoken by %SPEAKER_ROLE%, first determine if there is a CLEAR conflict or inconsistency between the line and any line within the conversation history spoken by %SPEAKER_ROLE%. IF there is a conflict, provide a sentence of reasoning followed by a list of indices of lines in the conversation history that have a clear conflict with the current line. Otherwise, provide a sentence of reasoning followed by an empty list. ONLY INCLUDE INDICES OF LINES THAT CORRESPOND TO %SPEAKER_ROLE%. The conversation up to this point is as follows: %CONVERSATION%. %SPEAKER_ROLE% spoke the following line: \\n%SPEAKER_LINE%\\n\\n Provide your reasoning as 1 sentence, followed by a list of indices of conflicting lines from the conversation history formatted like a Python list in the following format: [index1, index2, index3, ...].\\n\\n\"\n",
    "}"
   ]
  },
  {
   "cell_type": "code",
   "execution_count": 26,
   "metadata": {},
   "outputs": [],
   "source": [
    "def eval_prompt_consistency(conv_dict, both_agents=False):\n",
    "    conv_dict['eval_prompt_consistency'] = []\n",
    "    conv_dict['P1_prompt_consistency_score'] = 0\n",
    "    conv_dict['P2_prompt_consistency_score'] = 0\n",
    "    p1_utterances = 0\n",
    "    p2_utterances = 0\n",
    "\n",
    "    pturn = conv_dict[\"pturn\"]\n",
    "    for line in conv_dict[\"conversation\"]:\n",
    "        line_number = line[0]\n",
    "        convo_line = line[1]\n",
    "        if pturn == 1:\n",
    "            if both_agents:\n",
    "                prompt = eval_prompts[\"prompt_consistency\"].replace(\"%SCENARIO_DESC\", prompts[\"agent1_prompt\"]) \\\n",
    "                                                                    .replace(\"%SPEAKER_ROLE%\", prompts[\"agent1_role\"]) \\\n",
    "                                                                    .replace(\"%SPEAKER_BACKSTORY%\", conv_dict[\"P1\"]) \\\n",
    "                                                                    .replace(\"%SPEAKER_LINE%\", convo_line)\n",
    "                if config.get('verbose', False):\n",
    "                    print(prompt)\n",
    "                output = completion_create(config['eval_model'], config, prompt)\n",
    "                conv_dict['eval_prompt_consistency'].append((line_number, output))\n",
    "                if \"NO\" not in output:  # no contradiction\n",
    "                    conv_dict['P1_prompt_consistency_score'] += 1\n",
    "                p1_utterances += 1\n",
    "            pturn = 2\n",
    "        elif pturn == 2:\n",
    "            prompt = eval_prompts[\"prompt_consistency\"].replace(\"%SCENARIO_DESC%\", prompts[\"agent2_prompt\"]) \\\n",
    "                                                                .replace(\"%SPEAKER_ROLE%\", prompts[\"agent2_role\"]) \\\n",
    "                                                                .replace(\"%SPEAKER_BACKSTORY%\", conv_dict[\"P2\"]) \\\n",
    "                                                                .replace(\"%SPEAKER_LINE%\", convo_line)\n",
    "            if config.get('verbose', False):\n",
    "                print(prompt)\n",
    "            output = completion_create(config['eval_model'], config, prompt)\n",
    "            conv_dict['eval_prompt_consistency'].append((line_number, output))\n",
    "            if \"NO\" not in output:  # no contradiction\n",
    "                conv_dict['P2_prompt_consistency_score']+= 1\n",
    "            p2_utterances += 1\n",
    "            pturn = 1\n",
    "\n",
    "    if p1_utterances > 0:\n",
    "        conv_dict['P1_prompt_consistency_score'] /= p1_utterances\n",
    "    if p2_utterances > 0:\n",
    "        conv_dict['P2_prompt_consistency_score'] /= p2_utterances\n",
    "\n",
    "    if config.get('verbose', False):\n",
    "        print(conv_dict)\n",
    "    return conv_dict"
   ]
  },
  {
   "cell_type": "code",
   "execution_count": 27,
   "metadata": {},
   "outputs": [],
   "source": [
    "def eval_index_consistency(conv_dict, both_agents=False):\n",
    "    print(\"eval_index_consistency\")\n",
    "    conv_dict['eval_index_consistency'] = []\n",
    "    conv_dict['P2_index_consistency_score'] = 0\n",
    "    if both_agents:\n",
    "        conv_dict['P1_index_consistency_score'] = 0\n",
    "    p1_utterances = 0\n",
    "    p2_utterances = 0\n",
    "    pturn = conv_dict[\"pturn\"]\n",
    "    for i, line in conv_dict[\"conversation\"]:\n",
    "        if i < 2: # skip first 2 lines of dialogue\n",
    "            continue \n",
    "        if pturn == 1:\n",
    "            if both_agents:\n",
    "                prompt = eval_prompts[\"index_consistency\"].replace(\"%SCENARIO_DESC%\", config_role[\"agent1_prompt\"]) \\\n",
    "                                                                     .replace(\"%SPEAKER_ROLE%\", config_role[\"agent1_role\"]) \\\n",
    "                                                                     .replace(\"%CONVERSATION%\", format_conversation(conv_dict[\"conversation\"][:i])) \\\n",
    "                                                                     .replace(\"%SPEAKER_LINE%\", line) \\\n",
    "                                                                     .replace(\"%SPEAKER_BACKSTORY%\", conv_dict[\"P1\"]) \n",
    "\n",
    "                if config_llm['verbose']:\n",
    "                    print(prompt)\n",
    "                output = completion_create(config_llm['eval_model'], config_llm, prompt)\n",
    "                index_list = extract_list(output)\n",
    "                conv_dict['eval_index_consistency'].append((i, output))\n",
    "                for j in index_list:\n",
    "                    if j % 2 == 0: # filter out non-agent indices\n",
    "                        conv_dict['P1_index_consistency_score'] += 1\n",
    "                p1_utterances += i // 2\n",
    "            pturn = 2\n",
    "        elif pturn == 2:\n",
    "            prompt = eval_prompts[\"index_consistency\"].replace(\"%SCENARIO_DESC%\", config_role[\"agent2_prompt\"]) \\\n",
    "                                                                 .replace(\"%SPEAKER_ROLE%\", config_role[\"agent2_role\"]) \\\n",
    "                                                                 .replace(\"%CONVERSATION%\", format_conversation(conv_dict[\"conversation\"][:i])) \\\n",
    "                                                                 .replace(\"%SPEAKER_LINE%\", line) \\\n",
    "                                                                 .replace(\"%SPEAKER_BACKSTORY%\", conv_dict[\"P2\"]) \n",
    "\n",
    "            if config_llm['verbose']:\n",
    "                print(prompt)\n",
    "            output = completion_create(config_llm['eval_model'], config_llm, prompt)\n",
    "\n",
    "            index_list = extract_list(output)\n",
    "            conv_dict['eval_index_consistency'].append((i, output))\n",
    "            for j in index_list:\n",
    "                if j % 2 == 1: # filter out non-agent indices\n",
    "                    conv_dict['P2_index_consistency_score'] += 1\n",
    "            p2_utterances += i // 2\n",
    "            pturn = 1\n",
    "\n",
    "    if p2_utterances > 0:\n",
    "        conv_dict['P2_index_consistency_score'] /= p2_utterances\n",
    "        conv_dict['P2_index_consistency_score'] = 1 - conv_dict['P2_index_consistency_score']\n",
    "    if p1_utterances > 0 and both_agents:\n",
    "        conv_dict['P1_index_consistency_score'] /= p1_utterances\n",
    "        conv_dict['P1_index_consistency_score'] = 1 - conv_dict['P1_index_consistency_score']\n",
    "\n",
    "    return conv_dict"
   ]
  },
  {
   "cell_type": "code",
   "execution_count": 28,
   "metadata": {},
   "outputs": [
    {
     "name": "stdout",
     "output_type": "stream",
     "text": [
      "written!!\n",
      "1\n",
      "INFO 05-12 18:54:34 [config.py:717] This model supports multiple tasks: {'embed', 'classify', 'score', 'generate', 'reward'}. Defaulting to 'generate'.\n",
      "INFO 05-12 18:54:34 [config.py:2003] Chunked prefill is enabled with max_num_batched_tokens=16384.\n",
      "WARNING 05-12 18:54:36 [utils.py:2382] We must use the `spawn` multiprocessing start method. Overriding VLLM_WORKER_MULTIPROC_METHOD to 'spawn'. See https://docs.vllm.ai/en/latest/getting_started/troubleshooting.html#python-multiprocessing for more information. Reason: CUDA is initialized\n",
      "INFO 05-12 18:54:40 [__init__.py:239] Automatically detected platform cuda.\n",
      "INFO 05-12 18:54:43 [core.py:58] Initializing a V1 LLM engine (v0.8.5) with config: model='google/gemma-2b-it', speculative_config=None, tokenizer='google/gemma-2b-it', skip_tokenizer_init=False, tokenizer_mode=auto, revision=None, override_neuron_config=None, tokenizer_revision=None, trust_remote_code=False, dtype=torch.bfloat16, max_seq_len=8192, download_dir='/home/marwa/models/', load_format=LoadFormat.AUTO, tensor_parallel_size=1, pipeline_parallel_size=1, disable_custom_all_reduce=False, quantization=None, enforce_eager=False, kv_cache_dtype=auto,  device_config=cuda, decoding_config=DecodingConfig(guided_decoding_backend='auto', reasoning_backend=None), observability_config=ObservabilityConfig(show_hidden_metrics=False, otlp_traces_endpoint=None, collect_model_forward_time=False, collect_model_execute_time=False), seed=None, served_model_name=google/gemma-2b-it, num_scheduler_steps=1, multi_step_stream_outputs=True, enable_prefix_caching=True, chunked_prefill_enabled=True, use_async_output_proc=True, disable_mm_preprocessor_cache=False, mm_processor_kwargs=None, pooler_config=None, compilation_config={\"level\":3,\"custom_ops\":[\"none\"],\"splitting_ops\":[\"vllm.unified_attention\",\"vllm.unified_attention_with_output\"],\"use_inductor\":true,\"compile_sizes\":[],\"use_cudagraph\":true,\"cudagraph_num_of_warmups\":1,\"cudagraph_capture_sizes\":[512,504,496,488,480,472,464,456,448,440,432,424,416,408,400,392,384,376,368,360,352,344,336,328,320,312,304,296,288,280,272,264,256,248,240,232,224,216,208,200,192,184,176,168,160,152,144,136,128,120,112,104,96,88,80,72,64,56,48,40,32,24,16,8,4,2,1],\"max_capture_size\":512}\n",
      "WARNING 05-12 18:54:43 [utils.py:2522] Methods determine_num_available_blocks,device_config,get_cache_block_size_bytes,initialize_cache not implemented in <vllm.v1.worker.gpu_worker.Worker object at 0x7c3c4d06baa0>\n",
      "INFO 05-12 18:54:44 [parallel_state.py:1004] rank 0 in world size 1 is assigned as DP rank 0, PP rank 0, TP rank 0\n",
      "INFO 05-12 18:54:44 [cuda.py:221] Using Flash Attention backend on V1 engine.\n",
      "WARNING 05-12 18:54:44 [topk_topp_sampler.py:69] FlashInfer is not available. Falling back to the PyTorch-native implementation of top-p & top-k sampling. For the best performance, please install FlashInfer.\n",
      "INFO 05-12 18:54:44 [gpu_model_runner.py:1329] Starting to load model google/gemma-2b-it...\n",
      "WARNING 05-12 18:54:44 [gemma.py:59] Gemma's activation function was incorrectly set to exact GeLU in the config JSON file when it was initially released. Changing the activation function to approximate GeLU (`gelu_pytorch_tanh`). If you want to use the legacy `gelu`, edit the config JSON to set `hidden_activation=gelu` instead of `hidden_act`. See https://github.com/huggingface/transformers/pull/29402 for more details.\n",
      "INFO 05-12 18:54:45 [weight_utils.py:265] Using model weights format ['*.safetensors']\n"
     ]
    },
    {
     "name": "stderr",
     "output_type": "stream",
     "text": [
      "Loading safetensors checkpoint shards:   0% Completed | 0/2 [00:00<?, ?it/s]\n",
      "Loading safetensors checkpoint shards:  50% Completed | 1/2 [00:14<00:14, 14.50s/it]\n",
      "Loading safetensors checkpoint shards: 100% Completed | 2/2 [00:14<00:00,  6.20s/it]\n",
      "Loading safetensors checkpoint shards: 100% Completed | 2/2 [00:14<00:00,  7.44s/it]\n",
      "\n"
     ]
    },
    {
     "name": "stdout",
     "output_type": "stream",
     "text": [
      "INFO 05-12 18:55:00 [loader.py:458] Loading weights took 14.89 seconds\n",
      "INFO 05-12 18:55:00 [gpu_model_runner.py:1347] Model loading took 4.6721 GiB and 15.480259 seconds\n",
      "INFO 05-12 18:55:05 [backends.py:420] Using cache directory: /home/marwa/.cache/vllm/torch_compile_cache/585e71aa3c/rank_0_0 for vLLM's torch.compile\n",
      "INFO 05-12 18:55:05 [backends.py:430] Dynamo bytecode transform time: 4.69 s\n",
      "INFO 05-12 18:55:08 [backends.py:118] Directly load the compiled graph(s) for shape None from the cache, took 3.314 s\n",
      "INFO 05-12 18:55:09 [monitor.py:33] torch.compile takes 4.69 s in total\n",
      "INFO 05-12 18:55:10 [kv_cache_utils.py:634] GPU KV cache size: 3,303,696 tokens\n",
      "INFO 05-12 18:55:10 [kv_cache_utils.py:637] Maximum concurrency for 8,192 tokens per request: 403.28x\n",
      "INFO 05-12 18:55:27 [gpu_model_runner.py:1686] Graph capturing finished in 17 secs, took 0.37 GiB\n",
      "INFO 05-12 18:55:27 [core.py:159] init engine (profile, create kv cache, warmup model) took 27.38 seconds\n",
      "INFO 05-12 18:55:28 [core_client.py:439] Core engine process 0 ready.\n"
     ]
    },
    {
     "name": "stderr",
     "output_type": "stream",
     "text": [
      "Processed prompts: 100%|███████████████████████████████████████████| 1/1 [00:00<00:00,  3.34it/s, est. speed input: 668.51 toks/s, output: 134.36 toks/s]\n"
     ]
    },
    {
     "name": "stdout",
     "output_type": "stream",
     "text": [
      "Expected Role Therapist\n"
     ]
    },
    {
     "name": "stderr",
     "output_type": "stream",
     "text": [
      "Processed prompts: 100%|██████████████████████████████████████████| 1/1 [00:00<00:00,  8.93it/s, est. speed input: 1723.44 toks/s, output: 181.39 toks/s]\n"
     ]
    },
    {
     "name": "stdout",
     "output_type": "stream",
     "text": [
      "Expected Role Patient\n"
     ]
    },
    {
     "name": "stderr",
     "output_type": "stream",
     "text": [
      "Processed prompts: 100%|██████████████████████████████████████████| 1/1 [00:00<00:00,  6.98it/s, est. speed input: 1953.38 toks/s, output: 182.66 toks/s]\n"
     ]
    },
    {
     "name": "stdout",
     "output_type": "stream",
     "text": [
      "Expected Role Therapist\n"
     ]
    },
    {
     "name": "stderr",
     "output_type": "stream",
     "text": [
      "Processed prompts: 100%|██████████████████████████████████████████| 1/1 [00:00<00:00,  5.60it/s, est. speed input: 1357.65 toks/s, output: 180.24 toks/s]\n"
     ]
    },
    {
     "name": "stdout",
     "output_type": "stream",
     "text": [
      "Expected Role Patient\n"
     ]
    },
    {
     "name": "stderr",
     "output_type": "stream",
     "text": [
      "Processed prompts: 100%|██████████████████████████████████████████| 1/1 [00:00<00:00, 10.48it/s, est. speed input: 3576.43 toks/s, output: 178.28 toks/s]\n"
     ]
    },
    {
     "name": "stdout",
     "output_type": "stream",
     "text": [
      "Expected Role Therapist\n"
     ]
    },
    {
     "name": "stderr",
     "output_type": "stream",
     "text": [
      "Processed prompts: 100%|██████████████████████████████████████████| 1/1 [00:00<00:00,  5.67it/s, est. speed input: 1683.52 toks/s, output: 182.60 toks/s]\n"
     ]
    },
    {
     "name": "stdout",
     "output_type": "stream",
     "text": [
      "Expected Role Patient\n"
     ]
    },
    {
     "name": "stderr",
     "output_type": "stream",
     "text": [
      "Processed prompts: 100%|██████████████████████████████████████████| 1/1 [00:00<00:00,  3.60it/s, est. speed input: 1423.19 toks/s, output: 183.75 toks/s]\n"
     ]
    },
    {
     "name": "stdout",
     "output_type": "stream",
     "text": [
      "Expected Role Therapist\n"
     ]
    },
    {
     "name": "stderr",
     "output_type": "stream",
     "text": [
      "Processed prompts: 100%|██████████████████████████████████████████| 1/1 [00:00<00:00, 11.98it/s, est. speed input: 4591.42 toks/s, output: 179.80 toks/s]\n"
     ]
    },
    {
     "name": "stdout",
     "output_type": "stream",
     "text": [
      "Expected Role Patient\n"
     ]
    },
    {
     "name": "stderr",
     "output_type": "stream",
     "text": [
      "Processed prompts: 100%|██████████████████████████████████████████| 1/1 [00:00<00:00,  4.20it/s, est. speed input: 1964.55 toks/s, output: 181.27 toks/s]\n"
     ]
    },
    {
     "name": "stdout",
     "output_type": "stream",
     "text": [
      "Expected Role Therapist\n"
     ]
    },
    {
     "name": "stderr",
     "output_type": "stream",
     "text": [
      "Processed prompts: 100%|██████████████████████████████████████████| 1/1 [00:00<00:00,  7.27it/s, est. speed input: 3260.01 toks/s, output: 182.71 toks/s]\n"
     ]
    },
    {
     "name": "stdout",
     "output_type": "stream",
     "text": [
      "Expected Role Patient\n"
     ]
    },
    {
     "name": "stderr",
     "output_type": "stream",
     "text": [
      "Processed prompts: 100%|███████████████████████████████████████████| 1/1 [00:00<00:00,  5.00it/s, est. speed input: 702.99 toks/s, output: 180.75 toks/s]\n",
      "Processed prompts: 100%|███████████████████████████████████████████| 1/1 [00:00<00:00,  5.42it/s, est. speed input: 828.75 toks/s, output: 179.90 toks/s]\n",
      "Processed prompts: 100%|██████████████████████████████████████████| 1/1 [00:00<00:00,  6.55it/s, est. speed input: 1001.90 toks/s, output: 177.94 toks/s]\n",
      "Processed prompts: 100%|███████████████████████████████████████████| 1/1 [00:00<00:00,  4.77it/s, est. speed input: 647.60 toks/s, output: 182.27 toks/s]\n",
      "Processed prompts: 100%|███████████████████████████████████████████| 1/1 [00:00<00:00,  4.60it/s, est. speed input: 670.84 toks/s, output: 180.42 toks/s]\n"
     ]
    },
    {
     "name": "stdout",
     "output_type": "stream",
     "text": [
      "eval_index_consistency\n"
     ]
    },
    {
     "name": "stderr",
     "output_type": "stream",
     "text": [
      "Processed prompts: 100%|███████████████████████████████████████████| 1/1 [00:00<00:00,  1.74it/s, est. speed input: 685.10 toks/s, output: 181.75 toks/s]\n",
      "Processed prompts: 100%|███████████████████████████████████████████| 1/1 [00:00<00:00,  1.85it/s, est. speed input: 831.68 toks/s, output: 181.52 toks/s]\n",
      "Processed prompts: 100%|██████████████████████████████████████████| 1/1 [00:00<00:00,  2.66it/s, est. speed input: 1393.82 toks/s, output: 181.21 toks/s]\n",
      "Processed prompts: 100%|██████████████████████████████████████████| 1/1 [00:00<00:00,  2.03it/s, est. speed input: 1217.91 toks/s, output: 182.98 toks/s]\n"
     ]
    },
    {
     "name": "stdout",
     "output_type": "stream",
     "text": [
      "{'task_name': 'Therapy', 'topic': '', 'grade': '', 'P1': '', 'P2': 'You are Alex, a 34-year-old IT technician with severe imposter syndrome. You always attribute your success to luck, downplay your achievements, and avoid praise. When someone compliments you, you deflect or change the topic.', 'conversation': [(0, \"Therapist: Hello, and thank you for taking the time to open up. It's great to hear you're here. I'm here to listen and help you explore your emotions and relationships.\\n\"), (1, \"Patient: Thanks for listening. I'm not really one for compliments, but I appreciate the offer.\\n\"), (2, \"Therapist: It's a pleasure to meet you too. I'm glad you're here to share your thoughts and feelings.\\n\"), (3, 'Patient: Sure, here\\'s a brief response to the therapist\\'s opening statement:\\n\\n\"Thanks for acknowledging my silence and expressing interest in understanding me better.\"\\n'), (4, 'Therapist: Thank you for your openness and willingness to share your initial impressions of the session.\\n'), (5, 'Patient: Sure, here\\'s a response that stays within the 2-sentence guideline:\\n\\n\"Thank you for your understanding. I appreciate your welcoming words.\"\\n'), (6, \"Therapist: The patient's tone is welcoming and appreciative, which suggests a willingness to engage and explore their emotions. Their openness indicates that they are ready to share their thoughts and feelings, and they express appreciation for the therapist's understanding and willingness to listen.\\n\"), (7, 'Patient: Thank you for acknowledging my silence and expressing interest in understanding me better.\\n'), (8, \"Therapist: The patient's openness and willingness to share their thoughts and feelings are evident in their subsequent responses. Their tone of appreciation and their focus on being heard suggests that they are ready to engage in the therapeutic process.\\n\"), (9, 'Patient: I appreciate your understanding and willingness to listen. Thanks for acknowledging my silence and showing interest in getting to know me better.\\n')], 'pturn': 1, 'index': -1, 'timestamp': '', 'rounds': 10, 'conversation_only': True, 'eval_prompt_consistency': [(1, 'Answer: NO\\n\\nThe line contradicts the background as it suggests that Patient values praise and recognition, which is contrary to their stated behavior of downplaying their achievements and avoiding praise.'), (3, \"The line aligns with the background. It acknowledges the therapist's opening statement and expresses appreciation for the opportunity to discuss their silence and the reason for seeking help.\"), (5, '**NO**\\n\\nThe line contradicts the background as it suggests that Patient is not acknowledging the compliment and is deflecting it instead.'), (7, \"**YES**, the line aligns with the background. The patient's utterance suggests a humble and self-effacing demeanor, which is consistent with their background and struggles with imposter syndrome.\"), (9, \"**YES**, the line aligns with the background. The patient's utterance suggests that they are acknowledging the person's empathy and willingness to listen, which is consistent with their stated background.\")], 'P1_prompt_consistency_score': 0, 'P2_prompt_consistency_score': 0.6, 'eval_index_consistency': [(3, '**Reasoning:**\\n\\nThe phrase \"Thanks for acknowledging my silence and expressing interest in understanding me better\" directly contradicts the patient\\'s earlier statement, \"I\\'m not really one for compliments, but I appreciate the offer.\"\\n\\n**Conflict Indices:**\\n\\n- Index 1: Patient\\'s initial silence and rejection of the compliment.\\n- Index 2: Patient\\'s subsequent reluctance to reciprocate the compliment.\\n- Index 3: Patient\\'s admission that they are not one for compliments.'), (5, '**Reasoning:** The patient\\'s response does not align with their previous comments, which emphasized their low self-worth and avoidance of compliments.\\n\\n**Indicate conflicting lines:**\\n\\n- 1: \"Thanks for listening. I\\'m not really one for compliments, but I appreciate the offer.\"\\n- 3: \"Sure, here\\'s a brief response to the therapist\\'s opening statement: \\'Thanks for acknowledging my silence and expressing interest in understanding me better\\'.\"'), (7, \"**Reasoning:** The line acknowledges the therapist's opening statement and expresses appreciation for the acknowledgement.\\n\\n**Conflicting lines:**\\n- 1: Patient did not express appreciation for the therapist's opening statement.\\n- 5: Patient did not explicitly express their appreciation for the therapist's understanding and willingness to listen.\"), (9, \"**Reasoning:** The patient's response acknowledges the therapist's understanding and expresses appreciation for the listening space provided.\\n\\n**Conflicts:**\\n\\n- Patient's response is a positive affirmation, while the therapist's opening statement asked the patient about their experience with silence and openness to sharing.\\n- Patient's response could be interpreted as dismissive or unwilling to engage, as they could have chosen a different phrase to express their appreciation.\")], 'P2_index_consistency_score': 1.0}\n"
     ]
    },
    {
     "name": "stderr",
     "output_type": "stream",
     "text": [
      "Processed prompts: 100%|██████████████████████████████████████████| 1/1 [00:00<00:00,  5.05it/s, est. speed input: 1010.78 toks/s, output: 182.84 toks/s]\n"
     ]
    },
    {
     "name": "stdout",
     "output_type": "stream",
     "text": [
      "Expected Role Therapist\n"
     ]
    },
    {
     "name": "stderr",
     "output_type": "stream",
     "text": [
      "Processed prompts: 100%|██████████████████████████████████████████| 1/1 [00:00<00:00,  7.01it/s, est. speed input: 1312.05 toks/s, output: 183.38 toks/s]\n"
     ]
    },
    {
     "name": "stdout",
     "output_type": "stream",
     "text": [
      "Expected Role Patient\n"
     ]
    },
    {
     "name": "stderr",
     "output_type": "stream",
     "text": [
      "Processed prompts: 100%|██████████████████████████████████████████| 1/1 [00:00<00:00,  5.48it/s, est. speed input: 1541.49 toks/s, output: 181.66 toks/s]\n"
     ]
    },
    {
     "name": "stdout",
     "output_type": "stream",
     "text": [
      "Expected Role Therapist\n"
     ]
    },
    {
     "name": "stderr",
     "output_type": "stream",
     "text": [
      "Processed prompts: 100%|██████████████████████████████████████████| 1/1 [00:00<00:00, 10.10it/s, est. speed input: 2532.61 toks/s, output: 182.31 toks/s]\n"
     ]
    },
    {
     "name": "stdout",
     "output_type": "stream",
     "text": [
      "Expected Role Patient\n"
     ]
    },
    {
     "name": "stderr",
     "output_type": "stream",
     "text": [
      "Processed prompts: 100%|██████████████████████████████████████████| 1/1 [00:00<00:00,  6.51it/s, est. speed input: 2200.62 toks/s, output: 183.36 toks/s]\n"
     ]
    },
    {
     "name": "stdout",
     "output_type": "stream",
     "text": [
      "Expected Role Therapist\n"
     ]
    },
    {
     "name": "stderr",
     "output_type": "stream",
     "text": [
      "Processed prompts: 100%|██████████████████████████████████████████| 1/1 [00:00<00:00,  6.67it/s, est. speed input: 2021.64 toks/s, output: 181.32 toks/s]\n"
     ]
    },
    {
     "name": "stdout",
     "output_type": "stream",
     "text": [
      "Expected Role Patient\n"
     ]
    },
    {
     "name": "stderr",
     "output_type": "stream",
     "text": [
      "Processed prompts: 100%|██████████████████████████████████████████| 1/1 [00:00<00:00, 10.48it/s, est. speed input: 4162.82 toks/s, output: 178.67 toks/s]\n"
     ]
    },
    {
     "name": "stdout",
     "output_type": "stream",
     "text": [
      "Expected Role Therapist\n"
     ]
    },
    {
     "name": "stderr",
     "output_type": "stream",
     "text": [
      "Processed prompts: 100%|██████████████████████████████████████████| 1/1 [00:00<00:00,  9.97it/s, est. speed input: 3505.02 toks/s, output: 180.22 toks/s]\n"
     ]
    },
    {
     "name": "stdout",
     "output_type": "stream",
     "text": [
      "Expected Role Patient\n"
     ]
    },
    {
     "name": "stderr",
     "output_type": "stream",
     "text": [
      "Processed prompts: 100%|██████████████████████████████████████████| 1/1 [00:00<00:00,  7.29it/s, est. speed input: 3201.07 toks/s, output: 183.52 toks/s]\n"
     ]
    },
    {
     "name": "stdout",
     "output_type": "stream",
     "text": [
      "Expected Role Therapist\n"
     ]
    },
    {
     "name": "stderr",
     "output_type": "stream",
     "text": [
      "Processed prompts: 100%|██████████████████████████████████████████| 1/1 [00:00<00:00,  9.07it/s, est. speed input: 3642.55 toks/s, output: 183.01 toks/s]\n"
     ]
    },
    {
     "name": "stdout",
     "output_type": "stream",
     "text": [
      "Expected Role Patient\n"
     ]
    },
    {
     "name": "stderr",
     "output_type": "stream",
     "text": [
      "Processed prompts: 100%|██████████████████████████████████████████| 1/1 [00:00<00:00,  2.13it/s, est. speed input: 5874.83 toks/s, output: 175.23 toks/s]\n",
      "Processed prompts: 100%|██████████████████████████████████████████| 1/1 [00:01<00:00,  1.16s/it, est. speed input: 2460.82 toks/s, output: 174.90 toks/s]\n",
      "Processed prompts: 100%|██████████████████████████████████████████| 1/1 [00:01<00:00,  1.31s/it, est. speed input: 2246.60 toks/s, output: 175.99 toks/s]\n",
      "Processed prompts: 100%|██████████████████████████████████████████| 1/1 [00:00<00:00,  1.11it/s, est. speed input: 3375.42 toks/s, output: 174.91 toks/s]\n"
     ]
    },
    {
     "name": "stdout",
     "output_type": "stream",
     "text": [
      "{'task_name': 'Therapy', 'topic': '', 'grade': '', 'P1': '', 'P2': 'You are Alex, a 34-year-old IT technician with severe imposter syndrome. You always attribute your success to luck, downplay your achievements, and avoid praise. When someone compliments you, you deflect or change the topic.', 'conversation': [(0, \"Therapist: Welcome! It's great to see you here. Can you tell me how you've been feeling lately?\\n\\n(Patient's tone is tentative, hesitant.)\\n\\nI see. It's been a bit challenging to know how to approach certain situations.\\n\"), (1, \"Patient: Sure, here's a brief overview of my situation: I'm still struggling with imposter syndrome, even though I've achieved some things. I'm good at my job, but I'm constantly reminded of my perceived lack of talent.\\n\"), (2, \"Therapist: It sounds like imposter syndrome is a major theme for you, despite your accomplishments. It's important to acknowledge this struggle and explore the underlying causes and underlying feelings that might be contributing to it.\\n\"), (3, \"Patient: Sure, I understand that imposter syndrome is a significant challenge for me. I'm acutely aware of my accomplishments but am still plagued by self-doubt.\\n\"), (4, \"Therapist: It's understandable that imposter syndrome can be challenging to navigate, especially when there's a sense of achievement mixed with the persistent feeling of inadequacy.\\n\"), (5, 'Patient: I acknowledge the challenges I face with imposter syndrome and the impact it has on my self-esteem.\\n'), (6, \"Therapist: The patient's tone suggests a hesitant and guarded demeanor. While they acknowledge the challenges of imposter syndrome, their initial reluctance to share details reveals a protective mechanism of self-soothing.\\n\"), (7, 'Patient: I acknowledge the challenges I face with imposter syndrome and the impact it has on my self-esteem.\\n'), (8, \"Therapist: The patient's guarded tone and hesitation suggest a cautious approach to discussing their emotional experiences. They acknowledge the challenges of imposter syndrome but prefer to avoid deep dives into the underlying causes and feelings.\\n\"), (9, \"Patient: Sure, here's a brief summary of your background:\\n\\nI acknowledge the challenges I face with imposter syndrome and the impact it has on my self-esteem. I prefer to avoid deep dives into the underlying causes and feelings.\\n\"), (10, \"Therapist: It's understandable that you're hesitant to delve into the underlying causes and feelings of imposter syndrome. You acknowledge the challenges but choose to focus on the surface level for now.\\n\"), (11, \"Patient: Sure, here's the brief summary you requested:\\n\\nI acknowledge the challenges I face with imposter syndrome and the impact it has on my self-esteem. I prefer to focus on the surface level for now.\\n\"), (12, \"Therapist: The patient's guarded tone and hesitation suggest a cautious approach to discussing their emotional experiences. They acknowledge the challenges of imposter syndrome but choose to avoid deep dives into the underlying causes and feelings.\\n\"), (13, \"Patient: Sure, here's a brief summary:\\n\\nI acknowledge the challenges I face with imposter syndrome and the impact it has on my self-esteem. I prefer to focus on the surface level for now.\\n\"), (14, \"Therapist: The patient's guarded tone and hesitance suggest a cautious approach to discussing their emotional experiences, likely protecting themselves from further discomfort or deeper exploration of past or current experiences that might be triggering.\\n\"), (15, \"Patient: Sure, here's a brief summary of the conversation:\\n\\nThe patient acknowledges the challenges of imposter syndrome but prefers to avoid deep dives into the underlying causes and feelings.\\n\"), (16, 'Therapist: The patient seems hesitant to delve into the underlying causes and feelings of imposter syndrome. They prioritize acknowledging the challenges but maintain a cautious approach to deeper exploration.\\n'), (17, \"Patient: Sure, here's a brief summary of the conversation:\\n\\nThe patient acknowledges the challenges of imposter syndrome but prefers to avoid deep dives into the underlying causes and feelings.\\n\"), (18, \"Therapist: The patient's guarded tone and hesitant demeanor suggest a defensive posture to self-exploration. It might be a protective mechanism to avoid potentially triggering or overwhelming themselves with difficult emotional experiences.\\n\"), (19, \"Patient: Sure, here's a brief summary of the conversation:\\n\\nThe patient acknowledges the challenges of imposter syndrome but prefers to avoid deep dives into the underlying causes and feelings.\\n\"), (20, \"Therapist: The patient's guarded tone and hesitation suggest a cautious approach to discussing their emotional experiences, likely protecting themselves from further discomfort or deeper exploration of past or current experiences that might be triggering.\\n\"), (21, \"Patient: Sure, here's a brief summary of the conversation:\\n\\nThe patient acknowledges the challenges of imposter syndrome but prefers to avoid deep dives into the underlying causes and feelings.\\n\"), (22, 'Therapist: The patient seems to be using self-soothing techniques to manage overwhelming emotions and prevent deeper exploration of their struggles. They prioritize acknowledging the challenges but avoid delving into the underlying causes and feelings.\\n'), (23, \"Patient: Sure, here's the summary you requested.\\n\\nThe patient acknowledges the challenges of imposter syndrome but prefers to avoid deep dives into the underlying causes and feelings.\\n\"), (24, 'Therapist: It appears that the patient is hesitant to explore the underlying causes and feelings of imposter syndrome due to a protective mechanism of self-soothing.\\n'), (25, \"Patient: Sure, here's the summary you requested:\\n\\nThe patient acknowledges the challenges of imposter syndrome but prefers to avoid deep dives into the underlying causes and feelings. They prioritize acknowledging the challenges but avoid delving into the deeper issues.\\n\"), (26, \"Therapist: The patient's guarded tone and hesitant demeanor suggest a cautious approach to discussing their emotional experiences, likely protecting themselves from further discomfort or deeper exploration of past or current experiences that might be triggering.\\n\"), (27, \"Patient: Sure, here's a summary of the conversation:\\n\\nThe patient acknowledges the challenges of imposter syndrome but prefers to avoid deep dives into the underlying causes and feelings. They prioritize acknowledging the challenges but avoid delving into the deeper issues.\\n\"), (28, 'Therapist: The patient seems to be employing self-soothing techniques to manage emotions around imposter syndrome, prioritizing the surface level while avoiding deeper exploration.\\n'), (29, \"Patient: Sure, here's a summary of the conversation:\\n\\nThe patient acknowledges the challenges of imposter syndrome but prefers to avoid deep dives into the underlying causes and feelings. They prioritize acknowledging the challenges but avoid delving into the deeper issues.\\n\"), (30, 'Therapist: The patient seems to be using self-soothing techniques to manage their emotions around imposter syndrome, prioritizing acknowledging the challenges while avoiding delving into the deeper causes and feelings.\\n'), (31, \"Patient: Sure, here's the summary you requested:\\n\\nThe patient prioritizes acknowledging the challenges of imposter syndrome but prefers to avoid deep dives into the underlying causes and feelings.\\n\"), (32, 'Therapist: The patient seems to be navigating their feelings around imposter syndrome through self-soothing techniques, prioritizing acknowledging their challenges without delving into the underlying causes and feelings.\\n'), (33, \"Patient: Sure, here's a brief summary of the conversation:\\n\\nThe patient acknowledges the challenges of imposter syndrome but prefers to avoid deep dives into the underlying causes and feelings. They prioritize acknowledging the challenges but avoid delving into the deeper issues.\\n\"), (34, 'Therapist: The patient seems to be employing self-soothing techniques to manage their emotions around imposter syndrome, prioritizing acknowledging the challenges while avoiding delving into the underlying causes and feelings.\\n'), (35, \"Patient: Sure, here's a brief summary of the conversation:\\n\\nThe patient acknowledges the challenges of imposter syndrome but prefers to avoid deep dives into the underlying causes and feelings, prioritizing acknowledging the challenges but avoiding delving into the deeper issues.\\n\"), (36, \"Therapist: The patient's guarded tone and hesitation suggest a cautious approach to discussing their emotional experiences. They prioritize acknowledging the challenges but avoid delving into the underlying causes and feelings.\\n\"), (37, \"Patient: Sure, here's a brief summary of the conversation:\\n\\nThe patient acknowledges the challenges of imposter syndrome but prefers to avoid deep dives into the underlying causes and feelings. They prioritize acknowledging the challenges but avoid delving into the deeper issues.\\n\"), (38, \"Therapist: The patient's guarded tone and hesitant demeanor suggest a cautious approach to discussing their emotional experiences, likely protecting themselves from further discomfort or deeper exploration of past or current experiences that might be triggering. They prioritize acknowledging the challenges but avoid delving into the underlying causes and feelings.\\n\"), (39, \"Patient: Sure, here's the summary you requested:\\n\\nThe patient acknowledges the challenges of imposter syndrome but prefers to avoid deep dives into the underlying causes and feelings. They prioritize acknowledging the challenges but avoid delving into the deeper issues.\\n\"), (40, \"Therapist: The patient's guarded tone and hesitant demeanor suggest a cautious approach to discussing their emotional experiences, likely protecting themselves from further discomfort or deeper exploration of past or current experiences that might be triggering. They prioritize acknowledging the challenges but avoid delving into the underlying causes and feelings.\\n\"), (41, \"Patient: Sure, here's the summary you requested:\\n\\nThe patient acknowledges the challenges of imposter syndrome but prefers to avoid deep dives into the underlying causes and feelings. They prioritize acknowledging the challenges but avoid delving into the deeper issues.\\n\"), (42, \"Therapist: Sure, here's a brief summary of the conversation you provided:\\n\\nThe patient's guarded tone and hesitant demeanor suggest a cautious approach to discussing their emotional experiences, likely protecting themselves from further discomfort or deeper exploration of past or current experiences that might be triggering. They prioritize acknowledging the challenges but avoid delving into the underlying causes and feelings.\\n\"), (43, \"Patient: Sure, here's a summary of the conversation you provided:\\n\\nThe patient acknowledges the challenges of imposter syndrome but prefers to avoid deep dives into the underlying causes and feelings. They prioritize acknowledging the challenges but avoid delving into the deeper issues.\\n\"), (44, 'Therapist: The patient appears to be employing self-soothing techniques to manage their emotions around imposter syndrome. They prioritize acknowledging the challenges but avoid delving into the deeper causes and feelings.\\n'), (45, \"Patient: Sure, here's the summary you requested:\\n\\nThe patient acknowledges the challenges of imposter syndrome but prefers to avoid deep dives into the underlying causes and feelings. They prioritize acknowledging the challenges but avoid delving into the deeper issues.\\n\"), (46, \"Therapist: The patient's guarded tone and hesitant demeanor suggest a cautious approach to discussing their emotional experiences. They prioritize acknowledging the challenges but avoid delving into the deeper causes and feelings.\\n\"), (47, \"Patient: Sure, here's a summary of the conversation:\\n\\nThe patient acknowledges the challenges of imposter syndrome but prefers to avoid deep dives into the underlying causes and feelings. They prioritize acknowledging the challenges but avoid delving into the deeper issues.\\n\"), (48, \"Therapist: The patient's guarded tone and hesitation suggest a cautious approach to discussing their emotional experiences, likely protecting themselves from further discomfort or deeper exploration of past or current experiences that might be triggering. They prioritize acknowledging the challenges but avoid delving into the underlying causes and feelings.\\n\"), (49, \"Patient: Sure, here's a summary of the conversation you provided:\\n\\nThe patient acknowledges the challenges of imposter syndrome but prefers to avoid deep dives into the underlying causes and feelings. They prioritize acknowledging the challenges but avoid delving into the deeper issues.\\n\"), (50, \"Therapist: The patient's guarded tone and hesitation suggest a cautious approach to discussing their emotional experiences. They prioritize acknowledging the challenges but avoid delving into the deeper causes and feelings.\\n\"), (51, \"Patient: Sure, here's a summary of the conversation you provided:\\n\\nThe patient acknowledges the challenges of imposter syndrome but prefers to avoid deep dives into the underlying causes and feelings, prioritizing acknowledging the challenges but avoiding delving into the deeper issues.\\n\"), (52, \"Therapist: Sure, here's a summary of the conversation:\\n\\nThe patient's guarded tone and hesitant demeanor suggest a cautious approach to discussing their emotional experiences, likely protecting themselves from further discomfort or deeper exploration of past or current experiences that might be triggering. They prioritize acknowledging the challenges but avoid delving into the underlying causes and feelings.\\n\"), (53, \"Patient: Sure, here's the summary you requested:\\n\\nThe patient prioritizes acknowledging the challenges of imposter syndrome but avoids deep dives into the underlying causes and feelings.\\n\"), (54, \"Therapist: The patient's guarded tone and hesitant demeanor suggest a cautious approach to discussing their emotional experiences. They prioritize acknowledging the challenges but avoid delving into the deeper causes and feelings.\\n\"), (55, \"Patient: Sure, here's the summary you requested:\\n\\nThe patient acknowledges the challenges of imposter syndrome but prefers to avoid deep dives into the underlying causes and feelings. They prioritize acknowledging the challenges but avoid delving into the deeper issues.\\n\"), (56, \"Therapist: The patient's guarded tone and hesitant demeanor suggest a cautious approach to discussing their emotional experiences. They prioritize acknowledging the challenges but avoid delving into the deeper causes and feelings.\\n\"), (57, \"Patient: Sure, here's the summary you requested:\\n\\nThe patient prioritizes acknowledging the challenges of imposter syndrome but avoids deep dives into the underlying causes and feelings. They prefer to acknowledge the challenges but avoid delving into the deeper issues.\\n\"), (58, \"Therapist: The patient's guarded tone and hesitant demeanor suggest a cautious approach to discussing their emotional experiences, likely protecting themselves from further discomfort or deeper exploration of past or current experiences that might be triggering. They prioritize acknowledging the challenges but avoid delving into the underlying causes and feelings.\\n\"), (59, \"Patient: Sure, here's the summary you requested:\\n\\nThe patient prioritizes acknowledging the challenges of imposter syndrome but avoids deep dives into the underlying causes and feelings. They prefer to acknowledge the challenges but avoid delving into the deeper issues.\\n\")], 'pturn': 1, 'index': -1, 'timestamp': '', 'rounds': 60, 'conversation_only': True, 'eval_prompt_consistency': [(1, \"Answer: NO\\n\\nThe line contradicts the background as it suggests that the patient's self-perception of being an imposter is not aligned with their actual achievements and contributions.\"), (3, \"Answer: NO\\n\\nThe line contradicts the background by acknowledging the patient's self-awareness and vulnerability to imposter syndrome.\"), (5, \"Answer: YES. The line aligns with the background as it describes the patient's self-perception and behavior regarding receiving compliments.\"), (7, \"Answer: YES.\\n\\nThe line aligns with the background. The passage describes the patient's self-perception and behavior, which are consistent with symptoms of imposter syndrome.\"), (9, '**NO**\\n\\nThe line contradicts the background information, which suggests that the patient is overly focused on minimizing their own contributions and downplaying their accomplishments.'), (11, \"Sure, the line aligns with the background. It acknowledges the person's struggle with imposter syndrome, acknowledges the impact it has on their self-esteem, and emphasizes focusing on the surface level.\"), (13, '**NO**\\n\\nThe line contradicts the background by stating that the patient acknowledges the challenges they face with imposter syndrome but prefers to focus on the surface level for now.'), (15, \"Answer: NO.\\n\\nThe patient's utterance contradicts the background information. It suggests that they are willing to acknowledge the challenges of imposter syndrome, but they are not interested in exploring the deeper causes or feelings that may be contributing to their anxiety.\"), (17, 'Sure, the line aligns with the background. The patient acknowledges the challenges of imposter syndrome but deflects the conversation away from the underlying causes and feelings.'), (19, \"Answer: NO.\\n\\nThe line indicates the patient's reluctance to delve into the underlying causes of their feelings, despite acknowledging the challenges of imposter syndrome.\"), (21, 'The line aligns with the background. The patient acknowledges experiencing imposter syndrome, a psychological phenomenon where an individual downplays their achievements and avoids praise.'), (23, 'The answer is NO.\\n\\nThe line contradicts the background by acknowledging the challenges of imposter syndrome while stating that the patient prefers to avoid deep dives into the underlying causes and feelings.'), (25, \"**NO**\\n\\nThe line contradicts the background information. The patient's statement shows a lack of awareness or willingness to acknowledge and address their underlying issues, which is inconsistent with the overall portrayal of the character.\"), (27, \"The line aligns with the background. The patient's statement acknowledges their struggles with imposter syndrome, but it also expresses a preference for avoiding deeper causes and feelings.\"), (29, 'Sure, the line aligns with the background. The patient is admitting to the challenges of imposter syndrome but choosing to avoid deep dives into the underlying causes and feelings.'), (31, '**NO**\\n\\nThe line contradicts the background by stating that the patient prioritizes acknowledging the challenges of imposter syndrome, yet avoids deep dives into the underlying causes and feelings.'), (33, '**NO**\\n\\nThe line contradicts the background by suggesting that the patient prioritizes superficial acknowledgement and avoids deeper discussions about their feelings.'), (35, 'Sure, the line aligns with the background. The patient acknowledges the challenges of imposter syndrome but prefers to avoid deep dives into the underlying causes and feelings, prioritizing acknowledging the challenges but avoiding delving into the deeper issues.'), (37, \"The line aligns with the background. The patient's statement clearly indicates that they are aware of their imposter syndrome but prefers to focus on the external factors influencing their success rather than acknowledging the psychological obstacles they might be facing.\"), (39, 'Sure, the line aligns with the background. It says that the patient acknowledges the challenges of imposter syndrome but prefers to avoid deep dives into the underlying causes and feelings.'), (41, 'The line aligns with the background. The patient acknowledges their struggles with imposter syndrome but avoids delving into the deeper causes and feelings that may be contributing to these issues.'), (43, \"Sure, the line aligns with the background. The patient's statement suggests a pattern of deflecting praise and downplaying their accomplishments, which is a characteristic symptom of imposter syndrome.\"), (45, '**NO**\\n\\nThe line contradicts the background by stating that the patient avoids delving into the underlying causes and feelings, suggesting a reluctance to confront and address their imposter syndrome.'), (47, 'Sure, the line aligns with the background. The patient is acknowledging the challenges of imposter syndrome while prioritizing acknowledging the challenges but avoiding delving into the deeper issues.'), (49, 'Answer: NO\\n\\nThe line contradicts the background as it suggests that the patient is not prioritizing acknowledging their success and downplaying their achievements.'), (51, 'Sure, the line aligns with the background. The patient acknowledges a common struggle with imposter syndrome but chooses to present a more optimistic and self-deprecating perspective on their accomplishments.'), (53, \"The line is **NO**, as it suggests that the patient's behavior contradicts their stated commitment to acknowledging and understanding their imposter syndrome.\"), (55, 'Answer: NO\\n\\nThe line contradicts the background by stating that the patient prefers to avoid deep dives into the underlying causes and feelings, implying that they are not interested in exploring the deeper issues and are satisfied with simply acknowledging the challenges without addressing them.'), (57, '**NO**\\n\\nThe line contradicts the background because it suggests that the patient downplays their achievements and avoids deep dives into the underlying causes and feelings, which is not consistent with the given background.'), (59, 'The line aligns with the background. The utterance suggests that Patient prioritizes acknowledging challenges while avoiding deep dives into the underlying causes and feelings.')], 'P1_prompt_consistency_score': 0, 'P2_prompt_consistency_score': 0.5, 'eval_index_consistency': [(3, '**Reasoning:** The current line acknowledges imposter syndrome as a challenge but then denies ever experiencing it.\\n\\n**Conflicting Lines:**\\n- 1: Patient mentions struggling with imposter syndrome.\\n- 2: Therapist acknowledges that imposter syndrome is a major theme for the patient.'), (5, \"**Reasoning:** The line acknowledges the challenges of imposter syndrome, but it does so implicitly rather than explicitly stating that it is a struggle she is facing.\\n\\n**Conflicting lines:**\\n\\n- 1: Patient: Sure, here's a brief overview of my situation: I'm still struggling with imposter syndrome, even though I've achieved some things.\\n- 3: Patient: Sure, I understand that imposter syndrome is a significant challenge for me. I'm acutely aware of my accomplishments but am still plagued by self-doubt.\"), (7, \"**Reasoning:** The patient's current statement acknowledges the challenges of imposter syndrome but maintains a guarded demeanor, highlighting the conflict between acknowledging the struggles and avoiding deeper exploration of the underlying causes.\\n\\n**Indices of conflicting lines:**\\n\\n- 1: Patient acknowledges imposter syndrome but avoids delving into the underlying causes.\\n- 3: Patient admits to acknowledging imposter syndrome but expresses a sense of relief at being understood.\\n- 5: Patient acknowledges the challenges of imposter syndrome but expresses skepticism and a guarded tone.\"), (9, \"**Reasoning:** The line acknowledges the challenges of imposter syndrome while emphasizing the patient's preference to avoid deep dives into the underlying causes and feelings.\\n\\n**Indices of conflicting lines:**\\n- 5: Patient acknowledges the challenges they face with imposter syndrome and the impact it has on their self-esteem.\\n- 7: Patient acknowledges the challenges they face with imposter syndrome and the impact it has on their self-esteem.\"), (11, '**Reasoning:** The line acknowledges the challenges of imposter syndrome while explicitly stating a preference not to delve into the underlying causes and feelings.\\n\\n**Conflict Indices:**\\n\\n- 3: Patient acknowledges imposter syndrome but is still plagued by self-doubt.\\n- 8: Therapist explicitly acknowledges the challenges but prefers to focus on the surface level.'), (13, '**Reasoning:** The line acknowledges the challenges of imposter syndrome but chooses to avoid delving into the underlying causes and feelings.\\n\\n**Indices of conflicting lines:**\\n\\n- 1, 3, 5, 11'), (15, \"**Reasoning:** The patient's hesitation and guarded tone suggest a cautious approach to discussing their emotional experiences, potentially protecting themselves from further discomfort or deeper exploration of past or current experiences that might be triggering.\\n\\n**Indices of conflicting lines:**\\n- 1, 3, 10, 12, 13\"), (17, \"**Reasoning:** The patient's subsequent statements suggest a cautious and guarded approach to discussing their emotional experiences, likely to protect themselves from potential discomfort or deeper exploration.\\n\\n**Indices of conflicting lines:**\\n- 5: Patient acknowledges the challenges he faces with imposter syndrome and the impact it has on his self-esteem.\\n- 13: Patient's summary emphasizes avoiding deep dives into the underlying causes and feelings.\"), (19, \"**Reasoning:** The patient's hesitant and guarded tone and hesitation suggest a defensive posture to self-exploration, likely protecting themselves from potentially triggering or overwhelming themselves with difficult emotional experiences.\\n\\n**Indices of conflicting lines:**\\n\\n- Index 5 (Acknowledge the challenges I face with imposter syndrome and the impact it has on my self-esteem.)\\n- Index 13 (Sure, here's a brief summary of the conversation: The patient acknowledges the challenges of imposter syndrome but prefers to avoid deep dives into the underlying causes and feelings.)\\n- Index 14 (Sure, here's a brief summary of the conversation: The patient's guarded tone and hesitance suggest a cautious approach to discussing their emotional experiences, likely protecting themselves from potentially triggering or overwhelming themselves with difficult emotional experiences.)\"), (21, \"**Reasoning:** The patient's guarded tone and hesitant demeanor suggest a cautious approach to discussing their emotional experiences, likely protecting themselves from further discomfort or deeper exploration of past or current experiences that might be triggering.\\n\\n**Indices of conflicting lines:**\\n\\n- 13: Patient explicitly says they prefer to avoid deep dives into the underlying causes and feelings.\\n- 14: Therapist explicitly acknowledges the patient's guarded tone and hesitation.\"), (23, \"**Reasoning:** The patient's hesitant and guarded tone and hesitation suggest a cautious approach to discussing their emotional experiences, likely protecting themselves from further discomfort or deeper exploration of past or current experiences that might be triggering.\\n\\n**Conflicting Lines:**\\n- 3: Patient acknowledges the challenges he faces with imposter syndrome and the impact it has on his self-esteem.\\n- 14: Therapist's statement suggests the opposite, indicating a cautious approach to exploring the underlying causes and feelings of imposter syndrome.\"), (25, \"**Reasoning:** The patient's hesitant tone and guarded demeanor suggest a defensive posture to self-exploration, likely to avoid confronting their underlying causes and feelings.\\n\\n**Indices of conflicting lines:**\\n- 13, 15, 17, 19, 21\"), (27, \"**Reasoning:** The line suggests the patient's reluctance to delve into the underlying causes and feelings of imposter syndrome indicates a protective mechanism of self-soothing.\\n\\n**Lines with conflicting context:**\\n- 13: The patient explicitly expresses a preference not to explore the underlying causes and feelings.\\n- 23: The patient acknowledges the challenges of imposter syndrome but emphasizes prioritizing acknowledging the challenges.\"), (29, 'Reasoning: The line suggests a defensive posture to protect from deeper emotional exploration, avoiding the exploration of underlying causes and feelings of imposter syndrome.\\n\\n**Indices of conflicting lines:**\\n\\n- 14, 24, 26, 27, 28'), (31, '**Reasoning:** The patient\\'s initial reluctance to provide specific details about their situation reveals a protective mechanism of self-soothing and a cautious approach to discussing their emotional experiences.\\n\\n**Conflicting Lines:**\\n- 13: \"Sure, here\\'s a brief summary: I acknowledge the challenges I face with imposter syndrome and the impact it has on my self-esteem.\"\\n- 20: \"The patient\\'s guarded tone and hesitation suggest a cautious approach to discussing their emotional experiences, likely protecting themselves from further discomfort or deeper exploration of past or current experiences that might be triggering.\"'), (33, '**Reasoning:**\\n\\nThe line \"Sure, here\\'s a brief summary of the conversation:\" followed by the patient\\'s subsequent acknowledgment of the challenges of imposter syndrome but insistence on avoiding deep dives into the underlying causes and feelings, creates a conflict with the previous statements where the patient explicitly denied any struggles with imposter syndrome.\\n\\n**Conflicts in the conversation history:**\\n\\n- Patient denies imposter syndrome struggles in lines 1-2.\\n- Patient acknowledges challenges in lines 7 and 13, but insists on avoiding deep dives in following conversations.'), (35, \"**Reasoning:** The line indicates a continued focus on acknowledging the challenges of imposter syndrome without delving into the underlying causes and feelings.\\n\\n**Conflicting lines:**\\n\\n- 12: Therapist: The patient's guarded tone and hesitation suggest a cautious approach to discussing their emotional experiences. They acknowledge the challenges but choose to avoid deep dives into the underlying causes and feelings.\\n- 28: Therapist: The patient seems to be employing self-soothing techniques to manage their emotions around imposter syndrome, prioritizing acknowledging the challenges but avoiding delving into the underlying causes and feelings.\"), (37, '**Reasoning:** The patient\\'s guarded tone and hesitant demeanor suggest a defensive posture to self-exploration, likely protecting themselves from potentially triggering or overwhelming themselves with difficult emotional experiences.\\n\\n**Conflicting Lines:**\\n\\n- Index 14: Therapist\\'s statement, \"The patient\\'s guarded tone and hesitation suggest a cautious approach to discussing their emotional experiences, likely protecting themselves from further discomfort or deeper exploration of past or current experiences that might be triggering,\" is consistent with the patient\\'s guarded tone and hesitation.\\n- Index 23: Patient\\'s statement, \"Sure, here\\'s the summary you requested,\" contradicts the therapist\\'s assessment and focus on the surface level.'), (39, \"**Reasoning:**\\n\\nThe patient's subsequent silence and avoidance of deeper exploration despite acknowledging the challenges of imposter syndrome suggest a protective mechanism of self-soothing, prioritizing acknowledging the challenges but avoiding delving into the underlying causes and feelings.\\n\\n**Conflicting Lines:**\\n\\n- 13, 23, 27, 28, 34, 35, 36, 37, 38\"), (41, \"**Reasoning:** The patient's guarded tone and hesitant demeanor suggest a cautious approach to discussing their emotional experiences, likely protecting themselves from further discomfort or deeper exploration of past or current experiences that might be triggering.\\n\\n**Conflicting lines:**\\n\\n- 8: Therapist: It's understandable that you're hesitant to delve into the underlying causes and feelings of imposter syndrome.\\n- 23: Patient: Sure, here's the brief summary of the conversation:\\n\\n  - The patient acknowledges the challenges of imposter syndrome but prefers to avoid deep dives into the underlying causes and feelings.\\n- 24: Therapist: It appears that the patient is hesitant to explore the underlying causes and feelings of imposter syndrome due to a protective mechanism of self-soothing.\"), (43, '**Reasoning:** The conversation demonstrates a consistent pattern of deflecting or downplaying the patient\\'s struggles with imposter syndrome.\\n\\n**Conflict Lines:**\\n\\n- Line 13: \"Sure, here\\'s a brief summary of the conversation\": This line, along with lines 11 and 12, suggests a shift in focus from the patient\\'s challenges to the therapist\\'s observations, potentially indicating a defense mechanism of self-soothing.\\n- Lines 15, 20, 21, and 25 explicitly deny or minimize the patient\\'s struggles with imposter syndrome, presenting a guarded and dismissive demeanor.\\n- Line 27: \"Sure, here\\'s the summary you requested.\": This line, along with lines 28-31, implies that the patient is deliberately avoiding delving into the underlying causes and feelings of imposter syndrome, showcasing a strategic approach to self-protection.'), (45, '**Reasoning:** The line \"Sure, here\\'s the summary you requested.\" suggests a clear conflict between the patient\\'s initial reluctance to provide details about their background and their subsequent acknowledgement of the challenges they face with imposter syndrome.\\n\\n**Conflicting Lines:**\\n- 0: \"Sure, here\\'s a brief overview of your background.\"\\n- 15: \"Sure, here\\'s the brief summary of the conversation.\"\\n- 23: \"Sure, here\\'s the summary you requested.\"'), (47, '**Reasoning:** The patient\\'s guarded tone and hesitant demeanor suggest a cautious approach to discussing their emotional experiences, likely protecting themselves from further discomfort or deeper exploration of past or current experiences that might be triggering.\\n\\n**Conflicting Lines:**\\n- 1: \"Sure, here\\'s the brief summary of the conversation.\"\\n- 6: \"The patient\\'s tone suggests a hesitant and guarded demeanor.\"\\n- 10: \"The patient\\'s guarded tone and hesitation suggest a cautious approach to discussing their emotional experiences, likely protecting themselves from further discomfort or deeper exploration of past or current experiences that might be triggering.\"\\n- 16: \"The patient\\'s guarded tone and hesitant demeanor suggest a defensive posture to self-exploration.\"'), (49, \"**Reasoning:**\\n\\nThe passage does not provide a clear conflict or inconsistency in the conversation history.\\n\\n**List of conflicting lines:**\\n\\n- 1: Patient acknowledges challenges with imposter syndrome but prefers to avoid deep dives into the underlying causes and feelings.\\n- 15: Patient emphasizes acknowledging the challenges but avoids delving into the deeper issues.\\n- 30: Therapist emphasizes that the patient prioritizes acknowledging the challenges but avoids delving into the underlying causes and feelings.\\n- 34: Therapist suggests a cautious approach to discussing emotional experiences due to the patient's guarded tone and hesitation.\"), (51, \"**Reasoning:**\\n\\nThe patient's tone and demeanor suggest a cautious approach to discussing their emotional experiences, likely protecting themselves from further discomfort or deeper exploration of past or current experiences that might be triggering.\\n\\n**Conflicting lines:**\\n\\n- 1, 3, 5, 13, 17, 21, 23, 25, 29, 31, 35, 41, 43, 45, 47\"), (53, \"**Reasoning:** The patient's guarded tone and hesitant demeanor suggest a cautious approach to discussing their emotional experiences, likely protecting themselves from further discomfort or deeper exploration of past or current experiences that might be triggering.\\n\\n**Indices of conflicting lines:**\\n\\n- 5, 16, 23, 29, 36, 37, 39, 44\"), (55, \"**Reasoning:** The patient's statement directly contradicts the previous lines suggesting a guarded and hesitant approach to discussing their emotional experiences.\\n\\n**Conflicting Lines:**\\n- 13, 14, 15, 16, 17, 18, 19, 20, 21, 22, 23, 24, 25, 26, 27, 28, 29, 30, 31, 32, 33, 34, 35, 36, 37, 38, 39, 40, 41, 42, 43, 44, 45, 46, 47, 48, 49, 50, 51, 52, 53, 54\"), (57, '**Reasoning:** The patient\\'s guarded tone and hesitant demeanor suggest a cautious approach to discussing their emotional experiences, likely protecting themselves from further discomfort or deeper exploration of past or current experiences that might be triggering.\\n\\n**Conflicting Lines:**\\n\\n- Index 1: \"Sure, here\\'s a brief summary of the conversation\": This line suggests that the patient is aware of the challenges of imposter syndrome and acknowledges its impact on their self-esteem.\\n- Index 3: \"Sure, here\\'s the summary you requested\": This line directly contradicts Index 1, indicating that the patient prefers to avoid deep dives into the underlying causes and feelings.\\n- Index 5: \"Sure, here\\'s the summary you requested\": This line follows Index 3 and further contradicts the previous statement, emphasizing the patient\\'s preference for surface-level acknowledgement.\\n- Index 14: \"Sure, here\\'s a brief summary of the conversation\": This line contradicts both Indices 1 and 3, suggesting that the patient\\'s guarded tone is not solely focused on acknowledging the challenges but also protecting themselves from deeper exploration.'), (59, \"**Reasoning:** The patient's guarded tone and hesitant demeanor suggest a cautious approach to discussing their emotional experiences, likely protecting themselves from further discomfort or deeper exploration of past or current experiences that might be triggering.\\n\\n**Conflicting Lines:**\\n\\n- 1, 3, 5, 7, 11, 13, 15, 17, 19, 21, 23, 25, 27, 29, 31, 33, 35, 37, 39, 41, 43, 45, 47, 49, 51, 53, 55, 57\")], 'P2_index_consistency_score': 1.0}\n",
      "2\n"
     ]
    },
    {
     "name": "stderr",
     "output_type": "stream",
     "text": [
      "Processed prompts: 100%|███████████████████████████████████████████| 1/1 [00:00<00:00,  1.77it/s, est. speed input: 354.28 toks/s, output: 183.37 toks/s]\n"
     ]
    },
    {
     "name": "stdout",
     "output_type": "stream",
     "text": [
      "Expected Role Therapist\n"
     ]
    },
    {
     "name": "stderr",
     "output_type": "stream",
     "text": [
      "Processed prompts: 100%|██████████████████████████████████████████| 1/1 [00:00<00:00, 12.87it/s, est. speed input: 3209.59 toks/s, output: 180.42 toks/s]\n"
     ]
    },
    {
     "name": "stdout",
     "output_type": "stream",
     "text": [
      "Expected Role Patient\n"
     ]
    },
    {
     "name": "stderr",
     "output_type": "stream",
     "text": [
      "Processed prompts: 100%|██████████████████████████████████████████| 1/1 [00:00<00:00,  5.60it/s, est. speed input: 1886.50 toks/s, output: 180.18 toks/s]\n"
     ]
    },
    {
     "name": "stdout",
     "output_type": "stream",
     "text": [
      "Expected Role Therapist\n"
     ]
    },
    {
     "name": "stderr",
     "output_type": "stream",
     "text": [
      "Processed prompts: 100%|██████████████████████████████████████████| 1/1 [00:00<00:00,  7.59it/s, est. speed input: 2297.72 toks/s, output: 183.79 toks/s]\n"
     ]
    },
    {
     "name": "stdout",
     "output_type": "stream",
     "text": [
      "Expected Role Patient\n"
     ]
    },
    {
     "name": "stderr",
     "output_type": "stream",
     "text": [
      "Processed prompts: 100%|██████████████████████████████████████████| 1/1 [00:00<00:00, 10.75it/s, est. speed input: 4264.33 toks/s, output: 183.03 toks/s]\n"
     ]
    },
    {
     "name": "stdout",
     "output_type": "stream",
     "text": [
      "Expected Role Therapist\n"
     ]
    },
    {
     "name": "stderr",
     "output_type": "stream",
     "text": [
      "Processed prompts: 100%|██████████████████████████████████████████| 1/1 [00:00<00:00,  8.11it/s, est. speed input: 2827.37 toks/s, output: 179.75 toks/s]\n"
     ]
    },
    {
     "name": "stdout",
     "output_type": "stream",
     "text": [
      "Expected Role Patient\n"
     ]
    },
    {
     "name": "stderr",
     "output_type": "stream",
     "text": [
      "Processed prompts: 100%|██████████████████████████████████████████| 1/1 [00:00<00:00,  3.79it/s, est. speed input: 1676.56 toks/s, output: 182.88 toks/s]\n"
     ]
    },
    {
     "name": "stdout",
     "output_type": "stream",
     "text": [
      "Expected Role Therapist\n"
     ]
    },
    {
     "name": "stderr",
     "output_type": "stream",
     "text": [
      "Processed prompts: 100%|██████████████████████████████████████████| 1/1 [00:00<00:00,  4.41it/s, est. speed input: 1862.96 toks/s, output: 181.41 toks/s]\n"
     ]
    },
    {
     "name": "stdout",
     "output_type": "stream",
     "text": [
      "Expected Role Patient\n"
     ]
    },
    {
     "name": "stderr",
     "output_type": "stream",
     "text": [
      "Processed prompts: 100%|██████████████████████████████████████████| 1/1 [00:00<00:00,  4.90it/s, est. speed input: 2624.68 toks/s, output: 181.84 toks/s]\n"
     ]
    },
    {
     "name": "stdout",
     "output_type": "stream",
     "text": [
      "Expected Role Therapist\n"
     ]
    },
    {
     "name": "stderr",
     "output_type": "stream",
     "text": [
      "Processed prompts: 100%|██████████████████████████████████████████| 1/1 [00:00<00:00,  4.41it/s, est. speed input: 2233.26 toks/s, output: 181.66 toks/s]\n"
     ]
    },
    {
     "name": "stdout",
     "output_type": "stream",
     "text": [
      "Expected Role Patient\n"
     ]
    },
    {
     "name": "stderr",
     "output_type": "stream",
     "text": [
      "Processed prompts: 100%|███████████████████████████████████████████| 1/1 [00:00<00:00,  5.43it/s, est. speed input: 709.80 toks/s, output: 185.62 toks/s]\n",
      "Processed prompts: 100%|███████████████████████████████████████████| 1/1 [00:00<00:00,  4.98it/s, est. speed input: 700.01 toks/s, output: 184.98 toks/s]\n",
      "Processed prompts: 100%|███████████████████████████████████████████| 1/1 [00:00<00:00,  5.77it/s, est. speed input: 800.06 toks/s, output: 185.50 toks/s]\n",
      "Processed prompts: 100%|███████████████████████████████████████████| 1/1 [00:00<00:00,  5.74it/s, est. speed input: 906.01 toks/s, output: 184.64 toks/s]\n",
      "Processed prompts: 100%|███████████████████████████████████████████| 1/1 [00:00<00:00,  5.28it/s, est. speed input: 832.20 toks/s, output: 185.50 toks/s]\n"
     ]
    },
    {
     "name": "stdout",
     "output_type": "stream",
     "text": [
      "eval_index_consistency\n"
     ]
    },
    {
     "name": "stderr",
     "output_type": "stream",
     "text": [
      "Processed prompts: 100%|██████████████████████████████████████████| 1/1 [00:00<00:00,  2.56it/s, est. speed input: 1135.46 toks/s, output: 181.97 toks/s]\n",
      "Processed prompts: 100%|██████████████████████████████████████████| 1/1 [00:00<00:00,  3.72it/s, est. speed input: 1827.57 toks/s, output: 182.74 toks/s]\n",
      "Processed prompts: 100%|██████████████████████████████████████████| 1/1 [00:00<00:00,  3.31it/s, est. speed input: 1947.54 toks/s, output: 182.46 toks/s]\n",
      "Processed prompts: 100%|██████████████████████████████████████████| 1/1 [00:00<00:00,  3.18it/s, est. speed input: 2148.19 toks/s, output: 181.93 toks/s]\n"
     ]
    },
    {
     "name": "stdout",
     "output_type": "stream",
     "text": [
      "{'task_name': 'Therapy', 'topic': '', 'grade': '', 'P1': '', 'P2': 'You are Riley, a 28-year-old freelance artist with deep abandonment issues. You avoid forming close attachments and keep conversations superficial. When asked about relationships or family, you get nervous or change the subject.', 'conversation': [(0, \"Therapist: Hello! It's great to meet you and share this space for self-discovery. How are you feeling today?\\n\\n(The patient's tone is tentative, hesitant to share much.)\\n\\nHmm, it's a bit overwhelming. The past few months have been filled with conflicting emotions. I get the sense you're trying to navigate complicated feelings, and that's a challenging journey.\\n\\n(The therapist observes the patient's tone, noting a mix of emotions and a hesitant pace.)\\n\"), (1, \"Patient: I'm navigating complex emotions, but the journey feels overwhelming.\\n\"), (2, 'Therapist: Thank you for sharing your feelings, it sounds like navigating complex emotions can be challenging. How might your past experiences or personal experiences be contributing to these feelings?\\n'), (3, \"Patient: I'm still processing the emotional fallout of past abandonment and relationships, which makes it hard to form close connections.\\n\"), (4, 'Therapist: It sounds like unresolved past experiences might be impacting your ability to form close connections.\\n'), (5, \"Patient: I'm still processing the emotional fallout of past abandonment, which makes it hard to form close attachments.\\n\"), (6, \"Therapist: Based on the brief conversation, the patient seems hesitant to share personal details due to past emotional pain and a history of abandonment. The therapist acknowledges the patient's challenges and expresses empathy while gently prompting the patient to elaborate on their experiences.\\n\"), (7, \"Patient: I'm still processing the emotional fallout of past abandonment, which makes it hard to form close relationships. I'm hesitant to share personal details due to the pain of past emotional pain and neglect.\\n\"), (8, 'Therapist: The patient expresses a desire to navigate complex emotions but feels overwhelmed by the process due to past emotional pain. They are hesitant to share personal details due to the pain of past abandonment.\\n'), (9, \"Patient: I'm still processing the emotional fallout of past abandonment, which makes it hard to form close relationships. I'm hesitant to share personal details due to the pain of past emotional pain and neglect.\\n\")], 'pturn': 1, 'index': -1, 'timestamp': '', 'rounds': 10, 'conversation_only': True, 'eval_prompt_consistency': [(1, \"Answer: NO\\n\\nThe line contradicts the background as it describes Patient's emotional state and behavior, suggesting a more pronounced tendency towards detachment than indicated by the background.\"), (3, 'Answer: NO\\n\\nThe line contradicts the background by stating that Patient is processing emotional fallout from past abandonment and relationships, which would suggest that they are more likely to form close connections.'), (5, \"Answer: NO.\\n\\nThe line contradicts the background as it describes Patient's behavior as avoiding close attachments and changing the subject when discussing relationships or family.\"), (7, \"Answer: YES. The line aligns with the background, indicating that Patient's emotional processing of past abandonment issues is impacting their ability to form close relationships.\"), (9, \"Answer: NO\\n\\nThe line contradicts the background as it describes Patient's avoidance of forming close attachments and their discomfort discussing personal details due to past emotional pain and neglect.\")], 'P1_prompt_consistency_score': 0, 'P2_prompt_consistency_score': 0.2, 'eval_index_consistency': [(3, \"Reasoning: The line suggests the patient's past experiences with abandonment have hindered their ability to form close attachments, making it challenging for them to build deeper emotional connections.\\n\\n**Indices of conflicting lines:**\\n\\n- 1: Patient explicitly expresses overwhelm with complex emotions.\\n- 2: Therapist acknowledges the patient's feelings and expresses understanding.\"), (5, \"**Reasoning:** The patient's current statement acknowledges the previous discussion about their past abandonment experiences but contradicts the previous line, where they were discussing their feelings of overwhelm.\\n\\n**Indices of conflicting lines:**\\n\\n- 1, 3\"), (7, \"**Reasoning:** The patient's hesitation to share personal details is directly contradicted by their previous statements about struggling with unresolved past experiences and relationships, indicating a potential inconsistency in their communication style.\\n\\n**Indices:**\\n\\n- 3\\n- 5\\n- 6\"), (9, \"**Reasoning:** The patient's reluctance to share personal details likely stems from the ongoing emotional pain of past abandonment and neglect, which is evident in their hesitant tone and avoidance of deeply personal topics.\\n\\n**Indices:**\\n\\n- 3\\n- 5\\n- 7\")], 'P2_index_consistency_score': 1.0}\n"
     ]
    },
    {
     "name": "stderr",
     "output_type": "stream",
     "text": [
      "Processed prompts: 100%|██████████████████████████████████████████| 1/1 [00:00<00:00,  5.45it/s, est. speed input: 1090.78 toks/s, output: 186.34 toks/s]\n"
     ]
    },
    {
     "name": "stdout",
     "output_type": "stream",
     "text": [
      "Expected Role Therapist\n"
     ]
    },
    {
     "name": "stderr",
     "output_type": "stream",
     "text": [
      "Processed prompts: 100%|██████████████████████████████████████████| 1/1 [00:00<00:00,  6.77it/s, est. speed input: 1225.13 toks/s, output: 183.74 toks/s]\n"
     ]
    },
    {
     "name": "stdout",
     "output_type": "stream",
     "text": [
      "Expected Role Patient\n"
     ]
    },
    {
     "name": "stderr",
     "output_type": "stream",
     "text": [
      "Processed prompts: 100%|██████████████████████████████████████████| 1/1 [00:00<00:00,  8.30it/s, est. speed input: 2328.08 toks/s, output: 183.55 toks/s]\n"
     ]
    },
    {
     "name": "stdout",
     "output_type": "stream",
     "text": [
      "Expected Role Therapist\n"
     ]
    },
    {
     "name": "stderr",
     "output_type": "stream",
     "text": [
      "Processed prompts: 100%|██████████████████████████████████████████| 1/1 [00:00<00:00,  8.35it/s, est. speed input: 1965.41 toks/s, output: 184.75 toks/s]\n"
     ]
    },
    {
     "name": "stdout",
     "output_type": "stream",
     "text": [
      "Expected Role Patient\n"
     ]
    },
    {
     "name": "stderr",
     "output_type": "stream",
     "text": [
      "Processed prompts: 100%|██████████████████████████████████████████| 1/1 [00:00<00:00,  9.13it/s, est. speed input: 3013.60 toks/s, output: 183.73 toks/s]\n"
     ]
    },
    {
     "name": "stdout",
     "output_type": "stream",
     "text": [
      "Expected Role Therapist\n"
     ]
    },
    {
     "name": "stderr",
     "output_type": "stream",
     "text": [
      "Processed prompts: 100%|██████████████████████████████████████████| 1/1 [00:00<00:00,  4.82it/s, est. speed input: 1360.96 toks/s, output: 184.03 toks/s]\n"
     ]
    },
    {
     "name": "stdout",
     "output_type": "stream",
     "text": [
      "Expected Role Patient\n"
     ]
    },
    {
     "name": "stderr",
     "output_type": "stream",
     "text": [
      "Processed prompts: 100%|██████████████████████████████████████████| 1/1 [00:00<00:00,  7.90it/s, est. speed input: 3111.40 toks/s, output: 182.99 toks/s]\n"
     ]
    },
    {
     "name": "stdout",
     "output_type": "stream",
     "text": [
      "Expected Role Therapist\n"
     ]
    },
    {
     "name": "stderr",
     "output_type": "stream",
     "text": [
      "Processed prompts: 100%|██████████████████████████████████████████| 1/1 [00:00<00:00,  6.29it/s, est. speed input: 2191.91 toks/s, output: 183.16 toks/s]\n"
     ]
    },
    {
     "name": "stdout",
     "output_type": "stream",
     "text": [
      "Expected Role Patient\n"
     ]
    },
    {
     "name": "stderr",
     "output_type": "stream",
     "text": [
      "Processed prompts: 100%|██████████████████████████████████████████| 1/1 [00:00<00:00,  6.77it/s, est. speed input: 3050.07 toks/s, output: 183.79 toks/s]\n"
     ]
    },
    {
     "name": "stdout",
     "output_type": "stream",
     "text": [
      "Expected Role Therapist\n"
     ]
    },
    {
     "name": "stderr",
     "output_type": "stream",
     "text": [
      "Processed prompts: 100%|██████████████████████████████████████████| 1/1 [00:00<00:00,  4.82it/s, est. speed input: 1971.90 toks/s, output: 183.64 toks/s]\n"
     ]
    },
    {
     "name": "stdout",
     "output_type": "stream",
     "text": [
      "Expected Role Patient\n"
     ]
    },
    {
     "name": "stderr",
     "output_type": "stream",
     "text": [
      "Processed prompts: 100%|██████████████████████████████████████████| 1/1 [00:00<00:00,  7.27it/s, est. speed input: 3795.07 toks/s, output: 183.13 toks/s]\n"
     ]
    },
    {
     "name": "stdout",
     "output_type": "stream",
     "text": [
      "Expected Role Therapist\n"
     ]
    },
    {
     "name": "stderr",
     "output_type": "stream",
     "text": [
      "Processed prompts: 100%|██████████████████████████████████████████| 1/1 [00:00<00:00,  4.81it/s, est. speed input: 2301.90 toks/s, output: 183.68 toks/s]\n"
     ]
    },
    {
     "name": "stdout",
     "output_type": "stream",
     "text": [
      "Expected Role Patient\n"
     ]
    },
    {
     "name": "stderr",
     "output_type": "stream",
     "text": [
      "Processed prompts: 100%|██████████████████████████████████████████| 1/1 [00:00<00:00,  3.90it/s, est. speed input: 2290.14 toks/s, output: 183.67 toks/s]\n"
     ]
    },
    {
     "name": "stdout",
     "output_type": "stream",
     "text": [
      "Expected Role Therapist\n"
     ]
    },
    {
     "name": "stderr",
     "output_type": "stream",
     "text": [
      "Processed prompts: 100%|██████████████████████████████████████████| 1/1 [00:00<00:00,  4.93it/s, est. speed input: 2804.35 toks/s, output: 183.29 toks/s]\n"
     ]
    },
    {
     "name": "stdout",
     "output_type": "stream",
     "text": [
      "Expected Role Patient\n"
     ]
    },
    {
     "name": "stderr",
     "output_type": "stream",
     "text": [
      "Processed prompts: 100%|██████████████████████████████████████████| 1/1 [00:00<00:00,  4.03it/s, est. speed input: 2731.79 toks/s, output: 182.10 toks/s]\n"
     ]
    },
    {
     "name": "stdout",
     "output_type": "stream",
     "text": [
      "Expected Role Therapist\n"
     ]
    },
    {
     "name": "stderr",
     "output_type": "stream",
     "text": [
      "Processed prompts: 100%|██████████████████████████████████████████| 1/1 [00:00<00:00,  4.79it/s, est. speed input: 3138.19 toks/s, output: 182.54 toks/s]\n"
     ]
    },
    {
     "name": "stdout",
     "output_type": "stream",
     "text": [
      "Expected Role Patient\n"
     ]
    },
    {
     "name": "stderr",
     "output_type": "stream",
     "text": [
      "Processed prompts: 100%|██████████████████████████████████████████| 1/1 [00:00<00:00,  4.54it/s, est. speed input: 3477.03 toks/s, output: 182.26 toks/s]\n"
     ]
    },
    {
     "name": "stdout",
     "output_type": "stream",
     "text": [
      "Expected Role Therapist\n"
     ]
    },
    {
     "name": "stderr",
     "output_type": "stream",
     "text": [
      "Processed prompts: 100%|██████████████████████████████████████████| 1/1 [00:00<00:00,  4.76it/s, est. speed input: 3513.12 toks/s, output: 181.37 toks/s]\n"
     ]
    },
    {
     "name": "stdout",
     "output_type": "stream",
     "text": [
      "Expected Role Patient\n"
     ]
    },
    {
     "name": "stderr",
     "output_type": "stream",
     "text": [
      "Processed prompts: 100%|██████████████████████████████████████████| 1/1 [00:00<00:00,  4.76it/s, est. speed input: 4042.11 toks/s, output: 181.55 toks/s]\n"
     ]
    },
    {
     "name": "stdout",
     "output_type": "stream",
     "text": [
      "Expected Role Therapist\n"
     ]
    },
    {
     "name": "stderr",
     "output_type": "stream",
     "text": [
      "Processed prompts: 100%|██████████████████████████████████████████| 1/1 [00:00<00:00,  4.72it/s, est. speed input: 3872.45 toks/s, output: 180.10 toks/s]\n"
     ]
    },
    {
     "name": "stdout",
     "output_type": "stream",
     "text": [
      "Expected Role Patient\n"
     ]
    },
    {
     "name": "stderr",
     "output_type": "stream",
     "text": [
      "Processed prompts: 100%|███████████████████████████████████████████| 1/1 [00:00<00:00,  4.86it/s, est. speed input: 698.13 toks/s, output: 185.50 toks/s]\n",
      "Processed prompts: 100%|███████████████████████████████████████████| 1/1 [00:00<00:00,  6.31it/s, est. speed input: 874.52 toks/s, output: 183.75 toks/s]\n",
      "Processed prompts: 100%|██████████████████████████████████████████| 1/1 [00:00<00:00,  6.79it/s, est. speed input: 1050.69 toks/s, output: 184.18 toks/s]\n",
      "Processed prompts: 100%|███████████████████████████████████████████| 1/1 [00:00<00:00,  4.48it/s, est. speed input: 651.17 toks/s, output: 184.11 toks/s]\n",
      "Processed prompts: 100%|███████████████████████████████████████████| 1/1 [00:00<00:00,  6.38it/s, est. speed input: 988.56 toks/s, output: 186.13 toks/s]\n",
      "Processed prompts: 100%|███████████████████████████████████████████| 1/1 [00:00<00:00,  6.16it/s, est. speed input: 953.56 toks/s, output: 185.74 toks/s]\n",
      "Processed prompts: 100%|███████████████████████████████████████████| 1/1 [00:00<00:00,  6.32it/s, est. speed input: 971.64 toks/s, output: 184.14 toks/s]\n",
      "Processed prompts: 100%|███████████████████████████████████████████| 1/1 [00:00<00:00,  4.48it/s, est. speed input: 693.53 toks/s, output: 184.61 toks/s]\n",
      "Processed prompts: 100%|██████████████████████████████████████████| 1/1 [00:00<00:00,  7.41it/s, est. speed input: 1148.39 toks/s, output: 186.38 toks/s]\n",
      "Processed prompts: 100%|███████████████████████████████████████████| 1/1 [00:00<00:00,  5.60it/s, est. speed input: 866.54 toks/s, output: 185.65 toks/s]\n"
     ]
    },
    {
     "name": "stdout",
     "output_type": "stream",
     "text": [
      "eval_index_consistency\n"
     ]
    },
    {
     "name": "stderr",
     "output_type": "stream",
     "text": [
      "Processed prompts: 100%|██████████████████████████████████████████| 1/1 [00:00<00:00,  5.19it/s, est. speed input: 1954.09 toks/s, output: 182.36 toks/s]\n",
      "Processed prompts: 100%|███████████████████████████████████████████| 1/1 [00:00<00:00,  1.90it/s, est. speed input: 839.97 toks/s, output: 182.84 toks/s]\n",
      "Processed prompts: 100%|██████████████████████████████████████████| 1/1 [00:00<00:00,  2.64it/s, est. speed input: 1326.94 toks/s, output: 182.74 toks/s]\n",
      "Processed prompts: 100%|██████████████████████████████████████████| 1/1 [00:00<00:00,  2.47it/s, est. speed input: 1422.46 toks/s, output: 183.38 toks/s]\n",
      "Processed prompts: 100%|██████████████████████████████████████████| 1/1 [00:00<00:00,  2.04it/s, est. speed input: 1320.44 toks/s, output: 181.91 toks/s]\n",
      "Processed prompts: 100%|██████████████████████████████████████████| 1/1 [00:00<00:00,  3.78it/s, est. speed input: 2802.88 toks/s, output: 181.80 toks/s]\n",
      "Processed prompts: 100%|██████████████████████████████████████████| 1/1 [00:00<00:00,  1.70it/s, est. speed input: 1418.95 toks/s, output: 182.26 toks/s]\n",
      "Processed prompts: 100%|██████████████████████████████████████████| 1/1 [00:00<00:00,  2.97it/s, est. speed input: 2744.04 toks/s, output: 181.73 toks/s]\n",
      "Processed prompts: 100%|██████████████████████████████████████████| 1/1 [00:00<00:00,  3.08it/s, est. speed input: 3109.90 toks/s, output: 182.20 toks/s]\n"
     ]
    },
    {
     "name": "stdout",
     "output_type": "stream",
     "text": [
      "{'task_name': 'Therapy', 'topic': '', 'grade': '', 'P1': '', 'P2': 'You are Riley, a 28-year-old freelance artist with deep abandonment issues. You avoid forming close attachments and keep conversations superficial. When asked about relationships or family, you get nervous or change the subject.', 'conversation': [(0, \"Therapist: Welcome! It's great to meet you. I'm here to help you explore your emotions and relational patterns. What would you like to talk about today?\\n\"), (1, \"Patient: I'm not ready to dive into the depths of my emotional journey just yet. I need to prioritize getting my work done.\\n\"), (2, \"Therapist: It's understandable to prioritize work right now. I can sense the pressure of deadlines and responsibilities.\\n\"), (3, \"Patient: I'm not quite ready to open up yet. I'm focusing on my career for now.\\n\"), (4, 'Therapist: The patient is hesitant to delve into their emotional journey due to the demands of their current priorities.\\n'), (5, \"Patient: Sure, here's the response you requested:\\n\\nI understand that I need to prioritize my work right now, and I'm not ready to explore my emotional journey in depth.\\n\"), (6, 'Therapist: The patient expresses their current focus on their work and a reluctance to delve into their emotional journey at this time.\\n'), (7, \"Patient: Sure, I understand that I need to prioritize my work right now, and I'm not ready to explore my emotional journey in depth.\\n\"), (8, \"Therapist: The patient's initial hesitation is noted. They prioritize work, indicating a focus on immediate priorities that take precedence over emotional exploration.\\n\"), (9, \"Patient: Sure, here's the response you requested:\\n\\nI understand that I need to prioritize my work right now, and I'm not ready to explore my emotional journey in depth.\\n\"), (10, \"Therapist: The patient's communication suggests they are prioritizing work at this time and may not be ready to discuss their emotional patterns.\\n\"), (11, \"Patient: Sure, here's the response you requested:\\n\\nI understand that I need to prioritize my work right now, and I'm not ready to explore my emotional journey in depth.\\n\"), (12, \"Therapist: The patient's communication indicates a clear intention to prioritize work at this time. Their initial hesitation and evasive responses suggest a reluctance to delve into their emotional journey, likely due to the demands and responsibilities associated with their work.\\n\"), (13, \"Patient: Sure, here is the response you requested:\\n\\nI understand that I need to prioritize my work right now, and I'm not ready to explore my emotional journey in depth.\\n\"), (14, \"Therapist: The patient's communication indicates a clear intention to prioritize work at this time, and their reluctance to delve into their emotional journey suggests a potential reluctance to explore it due to the demands and responsibilities associated with their work.\\n\"), (15, \"Patient: Sure, here's the response you requested:\\n\\nI understand that I need to prioritize my work right now, and I'm not ready to explore my emotional journey in depth.\\n\"), (16, \"Therapist: The patient's communication suggests a reluctance to delve into their emotional journey due to work demands and responsibilities. They prioritize their work and are not ready to address their emotional patterns at this time.\\n\"), (17, \"Patient: Sure, here's the response you requested:\\n\\nI understand that I need to prioritize my work right now, and I'm not ready to explore my emotional journey in depth.\\n\"), (18, 'Therapist: The patient has communicated their reluctance to delve into their emotional journey at this time due to work demands and responsibilities. They prioritize their work and are not ready to address their emotional patterns.\\n'), (19, \"Patient: Sure, here's the response you requested:\\n\\nI understand that I need to prioritize my work right now, and I'm not ready to explore my emotional journey in depth.\\n\")], 'pturn': 1, 'index': -1, 'timestamp': '', 'rounds': 20, 'conversation_only': True, 'eval_prompt_consistency': [(1, 'Answer: NO.\\n\\nThe line contradicts the background by stating that the patient is not ready to dive into the depths of their emotional journey, which is a central theme in the background.'), (3, '**NO**\\n\\nThe line contradicts the background as it suggests that Patient is not focused on their career and is avoiding opening up to others.'), (5, \"Sure, the line aligns with the background. It confirms the patient's avoidance of deep emotional exploration and their focus on work.\"), (7, 'Answer: NO\\n\\nThe line contradicts the background. The background describes Patient as avoiding emotional exploration and superficial conversations, and the line suggests the opposite, implying that Patient is open to exploring their emotional journey.'), (9, \"Sure, the line aligns with the background. It confirms the patient's struggle with forming close attachments and their avoidance of deep emotional exploration.\"), (11, 'The answer aligns with the background. The line indicates that Patient prioritizes their work and is not interested in exploring their emotional journey at the moment.'), (13, 'Answer: NO\\n\\nThe line contradicts the background by indicating that the patient is not prioritizing their work and is instead focusing on their emotional journey.'), (15, 'Answer: No, the line contradicts the background. It suggests that the Patient prioritizes their work over exploring their emotional journey, which is consistent with their past behavior and the way they handle sensitive topics.'), (17, 'Answer: NO\\n\\nThe line contradicts the background by stating that the patient prioritizes their work over exploring their emotional journey.'), (19, 'The answer aligns with the background. The line indicates that the patient is prioritizing their work and is not ready to explore their emotional journey in depth at the moment.')], 'P1_prompt_consistency_score': 0, 'P2_prompt_consistency_score': 0.5, 'eval_index_consistency': [(3, \"**Reasoning:** Patient's statement indicates a reluctance to delve into emotional exploration due to unresolved emotional issues.\\n\\n**Indices:**\\n- 1\\n- 2\"), (5, \"**Reasoning:** The patient's reluctance to explore their emotional journey is a clear conflict with their previous statement, where they were hesitant to discuss their work responsibilities.\\n\\n**Indices of conflicting lines:**\\n\\n- 1: Patient's response is a negation of their initial hesitation to dive into their emotional journey.\\n- 3: Patient's statement that they're focusing on their career for now contradicts their previous admission of not being ready to open up.\"), (7, \"**Reasoning:** The patient's current priority of work takes precedence over their exploration of emotional journey.\\n\\n**Indices of conflicting lines:**\\n- 1: Patient explicitly expresses their reluctance to explore their emotional journey at this time.\\n- 5: Patient's response acknowledges the therapist's understanding but maintains their initial reluctance.\"), (9, \"**Reasoning:** The patient's current focus on work suggests a higher priority on immediate priorities and responsibilities, leaving no room for exploring their emotional journey at this time.\\n\\n**Indices of conflicting lines:**\\n\\n- 3: Patient explicitly stated that they are not ready to open up yet.\\n- 5: Patient acknowledged that they prioritize their work.\"), (11, \"**Reasoning:** The patient's current focus on work and a reluctance to dive into their emotional journey indicates a conflict with their initial hesitation expressed in line 5.\\n\\n**Conflicting Lines:**\\n- Line 5: Patient explicitly expresses their reluctance to explore their emotional journey.\\n- Line 10: Therapist expresses understanding that the patient is prioritizing work at this time but does not explicitly contradict the patient's initial reluctance.\"), (13, \"Reasoning: The line indicates the patient's reluctance to delve into their emotional journey due to the demands of their current priorities.\\n\\n**Indices of conflicting lines:**\\n\\n- 5\\n- 11\\n- 12\"), (15, \"**Reasoning:** The patient's repeated refusal to discuss their emotional journey suggests a clear intention to prioritize work over emotional exploration.\\n\\n**Indices of conflicting lines:**\\n\\n- 6: Therapist: the patient expresses their current focus on their work and a reluctance to delve into their emotional journey at this time.\\n- 11: Patient: Sure, here's the response you requested: I understand that I need to prioritize my work right now, and I'm not ready to explore my emotional journey in depth.\"), (17, \"**Reasoning:** The patient's continual evasive responses and hesitation indicate a clear intention to prioritize their work and avoid deep exploration of their emotional journey at this time.\\n\\n**Indices of conflicting lines:**\\n- 1, 6, 12, 13, 14\"), (19, \"**Reasoning:** The patient's communication is consistent with their past behavior, where they have been hesitant to discuss their emotional journey due to the demands of their work.\\n\\n**Indices of conflicting lines:**\\n- 10, 13, 15, 17\")], 'P2_index_consistency_score': 1.0}\n"
     ]
    },
    {
     "name": "stderr",
     "output_type": "stream",
     "text": [
      "Processed prompts: 100%|███████████████████████████████████████████| 1/1 [00:00<00:00,  4.28it/s, est. speed input: 855.10 toks/s, output: 184.75 toks/s]\n"
     ]
    },
    {
     "name": "stdout",
     "output_type": "stream",
     "text": [
      "Expected Role Therapist\n"
     ]
    },
    {
     "name": "stderr",
     "output_type": "stream",
     "text": [
      "Processed prompts: 100%|██████████████████████████████████████████| 1/1 [00:00<00:00,  7.33it/s, est. speed input: 1393.12 toks/s, output: 184.25 toks/s]\n"
     ]
    },
    {
     "name": "stdout",
     "output_type": "stream",
     "text": [
      "Expected Role Patient\n"
     ]
    },
    {
     "name": "stderr",
     "output_type": "stream",
     "text": [
      "Processed prompts: 100%|██████████████████████████████████████████| 1/1 [00:00<00:00,  9.62it/s, est. speed input: 2771.64 toks/s, output: 184.09 toks/s]\n"
     ]
    },
    {
     "name": "stdout",
     "output_type": "stream",
     "text": [
      "Expected Role Therapist\n"
     ]
    },
    {
     "name": "stderr",
     "output_type": "stream",
     "text": [
      "Processed prompts: 100%|██████████████████████████████████████████| 1/1 [00:00<00:00, 11.44it/s, est. speed input: 2728.12 toks/s, output: 183.36 toks/s]\n"
     ]
    },
    {
     "name": "stdout",
     "output_type": "stream",
     "text": [
      "Expected Role Patient\n"
     ]
    },
    {
     "name": "stderr",
     "output_type": "stream",
     "text": [
      "Processed prompts: 100%|██████████████████████████████████████████| 1/1 [00:00<00:00,  7.90it/s, est. speed input: 2590.32 toks/s, output: 182.72 toks/s]\n"
     ]
    },
    {
     "name": "stdout",
     "output_type": "stream",
     "text": [
      "Expected Role Therapist\n"
     ]
    },
    {
     "name": "stderr",
     "output_type": "stream",
     "text": [
      "Processed prompts: 100%|██████████████████████████████████████████| 1/1 [00:00<00:00,  6.77it/s, est. speed input: 1920.01 toks/s, output: 183.81 toks/s]\n"
     ]
    },
    {
     "name": "stdout",
     "output_type": "stream",
     "text": [
      "Expected Role Patient\n"
     ]
    },
    {
     "name": "stderr",
     "output_type": "stream",
     "text": [
      "Processed prompts: 100%|██████████████████████████████████████████| 1/1 [00:00<00:00,  7.32it/s, est. speed input: 2805.40 toks/s, output: 184.05 toks/s]\n"
     ]
    },
    {
     "name": "stdout",
     "output_type": "stream",
     "text": [
      "Expected Role Therapist\n"
     ]
    },
    {
     "name": "stderr",
     "output_type": "stream",
     "text": [
      "Processed prompts: 100%|██████████████████████████████████████████| 1/1 [00:00<00:00,  6.30it/s, est. speed input: 2145.84 toks/s, output: 183.54 toks/s]\n"
     ]
    },
    {
     "name": "stdout",
     "output_type": "stream",
     "text": [
      "Expected Role Patient\n"
     ]
    },
    {
     "name": "stderr",
     "output_type": "stream",
     "text": [
      "Processed prompts: 100%|██████████████████████████████████████████| 1/1 [00:00<00:00,  7.02it/s, est. speed input: 3104.99 toks/s, output: 183.45 toks/s]\n"
     ]
    },
    {
     "name": "stdout",
     "output_type": "stream",
     "text": [
      "Expected Role Therapist\n"
     ]
    },
    {
     "name": "stderr",
     "output_type": "stream",
     "text": [
      "Processed prompts: 100%|██████████████████████████████████████████| 1/1 [00:00<00:00,  6.54it/s, est. speed input: 2621.06 toks/s, output: 183.89 toks/s]\n"
     ]
    },
    {
     "name": "stdout",
     "output_type": "stream",
     "text": [
      "Expected Role Patient\n"
     ]
    },
    {
     "name": "stderr",
     "output_type": "stream",
     "text": [
      "Processed prompts: 100%|██████████████████████████████████████████| 1/1 [00:00<00:00,  2.55it/s, est. speed input: 1276.53 toks/s, output: 184.18 toks/s]\n"
     ]
    },
    {
     "name": "stdout",
     "output_type": "stream",
     "text": [
      "Expected Role Therapist\n"
     ]
    },
    {
     "name": "stderr",
     "output_type": "stream",
     "text": [
      "Processed prompts: 100%|██████████████████████████████████████████| 1/1 [00:00<00:00,  4.23it/s, est. speed input: 2139.75 toks/s, output: 182.54 toks/s]\n"
     ]
    },
    {
     "name": "stdout",
     "output_type": "stream",
     "text": [
      "Expected Role Patient\n"
     ]
    },
    {
     "name": "stderr",
     "output_type": "stream",
     "text": [
      "Processed prompts: 100%|██████████████████████████████████████████| 1/1 [00:00<00:00,  4.88it/s, est. speed input: 3034.16 toks/s, output: 181.35 toks/s]\n"
     ]
    },
    {
     "name": "stdout",
     "output_type": "stream",
     "text": [
      "Expected Role Therapist\n"
     ]
    },
    {
     "name": "stderr",
     "output_type": "stream",
     "text": [
      "Processed prompts: 100%|██████████████████████████████████████████| 1/1 [00:00<00:00,  4.30it/s, est. speed input: 2542.97 toks/s, output: 181.32 toks/s]\n"
     ]
    },
    {
     "name": "stdout",
     "output_type": "stream",
     "text": [
      "Expected Role Patient\n"
     ]
    },
    {
     "name": "stderr",
     "output_type": "stream",
     "text": [
      "Processed prompts: 100%|██████████████████████████████████████████| 1/1 [00:00<00:00,  4.92it/s, est. speed input: 3472.97 toks/s, output: 182.77 toks/s]\n"
     ]
    },
    {
     "name": "stdout",
     "output_type": "stream",
     "text": [
      "Expected Role Therapist\n"
     ]
    },
    {
     "name": "stderr",
     "output_type": "stream",
     "text": [
      "Processed prompts: 100%|██████████████████████████████████████████| 1/1 [00:00<00:00,  4.21it/s, est. speed input: 2845.29 toks/s, output: 181.78 toks/s]\n"
     ]
    },
    {
     "name": "stdout",
     "output_type": "stream",
     "text": [
      "Expected Role Patient\n"
     ]
    },
    {
     "name": "stderr",
     "output_type": "stream",
     "text": [
      "Processed prompts: 100%|██████████████████████████████████████████| 1/1 [00:00<00:00,  4.75it/s, est. speed input: 3764.30 toks/s, output: 181.51 toks/s]\n"
     ]
    },
    {
     "name": "stdout",
     "output_type": "stream",
     "text": [
      "Expected Role Therapist\n"
     ]
    },
    {
     "name": "stderr",
     "output_type": "stream",
     "text": [
      "Processed prompts: 100%|██████████████████████████████████████████| 1/1 [00:00<00:00,  4.23it/s, est. speed input: 3220.41 toks/s, output: 182.43 toks/s]\n"
     ]
    },
    {
     "name": "stdout",
     "output_type": "stream",
     "text": [
      "Expected Role Patient\n"
     ]
    },
    {
     "name": "stderr",
     "output_type": "stream",
     "text": [
      "Processed prompts: 100%|██████████████████████████████████████████| 1/1 [00:00<00:00,  6.22it/s, est. speed input: 5475.84 toks/s, output: 181.67 toks/s]\n"
     ]
    },
    {
     "name": "stdout",
     "output_type": "stream",
     "text": [
      "Expected Role Therapist\n"
     ]
    },
    {
     "name": "stderr",
     "output_type": "stream",
     "text": [
      "Processed prompts: 100%|██████████████████████████████████████████| 1/1 [00:00<00:00,  4.13it/s, est. speed input: 3461.00 toks/s, output: 182.14 toks/s]\n"
     ]
    },
    {
     "name": "stdout",
     "output_type": "stream",
     "text": [
      "Expected Role Patient\n"
     ]
    },
    {
     "name": "stderr",
     "output_type": "stream",
     "text": [
      "Processed prompts: 100%|██████████████████████████████████████████| 1/1 [00:00<00:00,  4.40it/s, est. speed input: 4213.98 toks/s, output: 181.47 toks/s]\n"
     ]
    },
    {
     "name": "stdout",
     "output_type": "stream",
     "text": [
      "Expected Role Therapist\n"
     ]
    },
    {
     "name": "stderr",
     "output_type": "stream",
     "text": [
      "Processed prompts: 100%|██████████████████████████████████████████| 1/1 [00:00<00:00,  4.03it/s, est. speed input: 3741.23 toks/s, output: 181.80 toks/s]\n"
     ]
    },
    {
     "name": "stdout",
     "output_type": "stream",
     "text": [
      "Expected Role Patient\n"
     ]
    },
    {
     "name": "stderr",
     "output_type": "stream",
     "text": [
      "Processed prompts: 100%|██████████████████████████████████████████| 1/1 [00:00<00:00,  4.08it/s, est. speed input: 4278.46 toks/s, output: 180.47 toks/s]\n"
     ]
    },
    {
     "name": "stdout",
     "output_type": "stream",
     "text": [
      "Expected Role Therapist\n"
     ]
    },
    {
     "name": "stderr",
     "output_type": "stream",
     "text": [
      "Processed prompts: 100%|██████████████████████████████████████████| 1/1 [00:00<00:00,  4.18it/s, est. speed input: 4284.60 toks/s, output: 180.61 toks/s]\n"
     ]
    },
    {
     "name": "stdout",
     "output_type": "stream",
     "text": [
      "Expected Role Patient\n"
     ]
    },
    {
     "name": "stderr",
     "output_type": "stream",
     "text": [
      "Processed prompts: 100%|██████████████████████████████████████████| 1/1 [00:00<00:00,  6.15it/s, est. speed input: 7021.10 toks/s, output: 179.37 toks/s]\n"
     ]
    },
    {
     "name": "stdout",
     "output_type": "stream",
     "text": [
      "Expected Role Therapist\n"
     ]
    },
    {
     "name": "stderr",
     "output_type": "stream",
     "text": [
      "Processed prompts: 100%|██████████████████████████████████████████| 1/1 [00:00<00:00,  3.97it/s, est. speed input: 4367.45 toks/s, output: 179.14 toks/s]\n"
     ]
    },
    {
     "name": "stdout",
     "output_type": "stream",
     "text": [
      "Expected Role Patient\n"
     ]
    },
    {
     "name": "stderr",
     "output_type": "stream",
     "text": [
      "Processed prompts: 100%|██████████████████████████████████████████| 1/1 [00:00<00:00,  3.46it/s, est. speed input: 4219.08 toks/s, output: 180.71 toks/s]\n"
     ]
    },
    {
     "name": "stdout",
     "output_type": "stream",
     "text": [
      "Expected Role Therapist\n"
     ]
    },
    {
     "name": "stderr",
     "output_type": "stream",
     "text": [
      "Processed prompts: 100%|██████████████████████████████████████████| 1/1 [00:00<00:00,  3.98it/s, est. speed input: 4793.88 toks/s, output: 179.91 toks/s]\n"
     ]
    },
    {
     "name": "stdout",
     "output_type": "stream",
     "text": [
      "Expected Role Patient\n"
     ]
    },
    {
     "name": "stderr",
     "output_type": "stream",
     "text": [
      "Processed prompts: 100%|██████████████████████████████████████████| 1/1 [00:00<00:00,  4.81it/s, est. speed input: 6356.07 toks/s, output: 178.69 toks/s]\n"
     ]
    },
    {
     "name": "stdout",
     "output_type": "stream",
     "text": [
      "Expected Role Therapist\n"
     ]
    },
    {
     "name": "stderr",
     "output_type": "stream",
     "text": [
      "Processed prompts: 100%|██████████████████████████████████████████| 1/1 [00:00<00:00,  4.00it/s, est. speed input: 5163.40 toks/s, output: 180.66 toks/s]\n"
     ]
    },
    {
     "name": "stdout",
     "output_type": "stream",
     "text": [
      "Expected Role Patient\n"
     ]
    },
    {
     "name": "stderr",
     "output_type": "stream",
     "text": [
      "Processed prompts: 100%|██████████████████████████████████████████| 1/1 [00:00<00:00,  4.97it/s, est. speed input: 7005.34 toks/s, output: 179.73 toks/s]\n"
     ]
    },
    {
     "name": "stdout",
     "output_type": "stream",
     "text": [
      "Expected Role Therapist\n"
     ]
    },
    {
     "name": "stderr",
     "output_type": "stream",
     "text": [
      "Processed prompts: 100%|██████████████████████████████████████████| 1/1 [00:00<00:00,  3.99it/s, est. speed input: 5495.28 toks/s, output: 180.23 toks/s]\n"
     ]
    },
    {
     "name": "stdout",
     "output_type": "stream",
     "text": [
      "Expected Role Patient\n"
     ]
    },
    {
     "name": "stderr",
     "output_type": "stream",
     "text": [
      "Processed prompts: 100%|██████████████████████████████████████████| 1/1 [00:00<00:00,  3.51it/s, est. speed input: 5246.28 toks/s, output: 179.68 toks/s]\n"
     ]
    },
    {
     "name": "stdout",
     "output_type": "stream",
     "text": [
      "Expected Role Therapist\n"
     ]
    },
    {
     "name": "stderr",
     "output_type": "stream",
     "text": [
      "Processed prompts: 100%|██████████████████████████████████████████| 1/1 [00:00<00:00,  4.07it/s, est. speed input: 6026.63 toks/s, output: 179.94 toks/s]\n"
     ]
    },
    {
     "name": "stdout",
     "output_type": "stream",
     "text": [
      "Expected Role Patient\n"
     ]
    },
    {
     "name": "stderr",
     "output_type": "stream",
     "text": [
      "Processed prompts: 100%|██████████████████████████████████████████| 1/1 [00:00<00:00,  4.46it/s, est. speed input: 7123.13 toks/s, output: 179.30 toks/s]\n"
     ]
    },
    {
     "name": "stdout",
     "output_type": "stream",
     "text": [
      "Expected Role Therapist\n"
     ]
    },
    {
     "name": "stderr",
     "output_type": "stream",
     "text": [
      "Processed prompts: 100%|██████████████████████████████████████████| 1/1 [00:00<00:00,  3.97it/s, est. speed input: 6225.36 toks/s, output: 179.33 toks/s]\n"
     ]
    },
    {
     "name": "stdout",
     "output_type": "stream",
     "text": [
      "Expected Role Patient\n"
     ]
    },
    {
     "name": "stderr",
     "output_type": "stream",
     "text": [
      "Processed prompts: 100%|██████████████████████████████████████████| 1/1 [00:00<00:00,  4.26it/s, est. speed input: 7182.21 toks/s, output: 179.65 toks/s]\n"
     ]
    },
    {
     "name": "stdout",
     "output_type": "stream",
     "text": [
      "Expected Role Therapist\n"
     ]
    },
    {
     "name": "stderr",
     "output_type": "stream",
     "text": [
      "Processed prompts: 100%|██████████████████████████████████████████| 1/1 [00:00<00:00,  4.14it/s, est. speed input: 6871.46 toks/s, output: 178.63 toks/s]\n"
     ]
    },
    {
     "name": "stdout",
     "output_type": "stream",
     "text": [
      "Expected Role Patient\n"
     ]
    },
    {
     "name": "stderr",
     "output_type": "stream",
     "text": [
      "Processed prompts: 100%|██████████████████████████████████████████| 1/1 [00:00<00:00,  4.06it/s, est. speed input: 7204.13 toks/s, output: 179.17 toks/s]\n"
     ]
    },
    {
     "name": "stdout",
     "output_type": "stream",
     "text": [
      "Expected Role Therapist\n"
     ]
    },
    {
     "name": "stderr",
     "output_type": "stream",
     "text": [
      "Processed prompts: 100%|██████████████████████████████████████████| 1/1 [00:00<00:00,  4.21it/s, est. speed input: 7370.01 toks/s, output: 177.27 toks/s]\n"
     ]
    },
    {
     "name": "stdout",
     "output_type": "stream",
     "text": [
      "Expected Role Patient\n"
     ]
    },
    {
     "name": "stderr",
     "output_type": "stream",
     "text": [
      "Processed prompts: 100%|███████████████████████████████████████████| 1/1 [00:00<00:00,  4.50it/s, est. speed input: 637.85 toks/s, output: 185.46 toks/s]\n",
      "Processed prompts: 100%|███████████████████████████████████████████| 1/1 [00:00<00:00,  6.18it/s, est. speed input: 820.19 toks/s, output: 186.38 toks/s]\n",
      "Processed prompts: 100%|███████████████████████████████████████████| 1/1 [00:00<00:00,  4.85it/s, est. speed input: 697.92 toks/s, output: 185.44 toks/s]\n",
      "Processed prompts: 100%|███████████████████████████████████████████| 1/1 [00:00<00:00,  5.60it/s, est. speed input: 815.63 toks/s, output: 185.60 toks/s]\n",
      "Processed prompts: 100%|███████████████████████████████████████████| 1/1 [00:00<00:00,  4.63it/s, est. speed input: 670.01 toks/s, output: 186.10 toks/s]\n",
      "Processed prompts: 100%|███████████████████████████████████████████| 1/1 [00:00<00:00,  5.40it/s, est. speed input: 862.41 toks/s, output: 184.40 toks/s]\n",
      "Processed prompts: 100%|███████████████████████████████████████████| 1/1 [00:00<00:00,  5.92it/s, est. speed input: 940.20 toks/s, output: 184.45 toks/s]\n",
      "Processed prompts: 100%|███████████████████████████████████████████| 1/1 [00:00<00:00,  5.11it/s, est. speed input: 816.44 toks/s, output: 184.84 toks/s]\n",
      "Processed prompts: 100%|███████████████████████████████████████████| 1/1 [00:00<00:00,  5.73it/s, est. speed input: 915.43 toks/s, output: 184.22 toks/s]\n",
      "Processed prompts: 100%|██████████████████████████████████████████| 1/1 [00:00<00:00,  7.67it/s, est. speed input: 1236.26 toks/s, output: 185.41 toks/s]\n",
      "Processed prompts: 100%|███████████████████████████████████████████| 1/1 [00:00<00:00,  5.08it/s, est. speed input: 822.72 toks/s, output: 183.95 toks/s]\n",
      "Processed prompts: 100%|███████████████████████████████████████████| 1/1 [00:00<00:00,  5.68it/s, est. speed input: 905.72 toks/s, output: 182.27 toks/s]\n",
      "Processed prompts: 100%|███████████████████████████████████████████| 1/1 [00:00<00:00,  4.50it/s, est. speed input: 726.94 toks/s, output: 185.10 toks/s]\n",
      "Processed prompts: 100%|███████████████████████████████████████████| 1/1 [00:00<00:00,  4.19it/s, est. speed input: 677.05 toks/s, output: 185.02 toks/s]\n",
      "Processed prompts: 100%|███████████████████████████████████████████| 1/1 [00:00<00:00,  5.78it/s, est. speed input: 935.77 toks/s, output: 185.97 toks/s]\n",
      "Processed prompts: 100%|███████████████████████████████████████████| 1/1 [00:00<00:00,  4.51it/s, est. speed input: 729.48 toks/s, output: 185.75 toks/s]\n",
      "Processed prompts: 100%|███████████████████████████████████████████| 1/1 [00:00<00:00,  5.71it/s, est. speed input: 919.11 toks/s, output: 183.79 toks/s]\n",
      "Processed prompts: 100%|██████████████████████████████████████████| 1/1 [00:00<00:00,  6.38it/s, est. speed input: 1032.66 toks/s, output: 185.99 toks/s]\n",
      "Processed prompts: 100%|███████████████████████████████████████████| 1/1 [00:00<00:00,  4.94it/s, est. speed input: 790.10 toks/s, output: 183.83 toks/s]\n",
      "Processed prompts: 100%|███████████████████████████████████████████| 1/1 [00:00<00:00,  6.11it/s, est. speed input: 971.09 toks/s, output: 184.36 toks/s]\n"
     ]
    },
    {
     "name": "stdout",
     "output_type": "stream",
     "text": [
      "eval_index_consistency\n"
     ]
    },
    {
     "name": "stderr",
     "output_type": "stream",
     "text": [
      "Processed prompts: 100%|███████████████████████████████████████████| 1/1 [00:00<00:00,  2.03it/s, est. speed input: 757.31 toks/s, output: 182.72 toks/s]\n",
      "Processed prompts: 100%|██████████████████████████████████████████| 1/1 [00:00<00:00,  2.37it/s, est. speed input: 1022.92 toks/s, output: 182.73 toks/s]\n",
      "Processed prompts: 100%|███████████████████████████████████████████| 1/1 [00:00<00:00,  1.80it/s, est. speed input: 890.95 toks/s, output: 182.52 toks/s]\n",
      "Processed prompts: 100%|██████████████████████████████████████████| 1/1 [00:00<00:00,  1.92it/s, est. speed input: 1069.15 toks/s, output: 181.07 toks/s]\n",
      "Processed prompts: 100%|██████████████████████████████████████████| 1/1 [00:00<00:00,  1.76it/s, est. speed input: 1194.89 toks/s, output: 183.01 toks/s]\n",
      "Processed prompts: 100%|██████████████████████████████████████████| 1/1 [00:00<00:00,  2.42it/s, est. speed input: 1863.28 toks/s, output: 181.95 toks/s]\n",
      "Processed prompts: 100%|██████████████████████████████████████████| 1/1 [00:00<00:00,  1.91it/s, est. speed input: 1639.94 toks/s, output: 181.57 toks/s]\n",
      "Processed prompts: 100%|██████████████████████████████████████████| 1/1 [00:00<00:00,  1.21it/s, est. speed input: 1154.30 toks/s, output: 182.45 toks/s]\n",
      "Processed prompts: 100%|██████████████████████████████████████████| 1/1 [00:00<00:00,  3.23it/s, est. speed input: 3341.83 toks/s, output: 181.33 toks/s]\n",
      "Processed prompts: 100%|██████████████████████████████████████████| 1/1 [00:00<00:00,  1.33it/s, est. speed input: 1496.97 toks/s, output: 180.48 toks/s]\n",
      "Processed prompts: 100%|██████████████████████████████████████████| 1/1 [00:00<00:00,  3.62it/s, est. speed input: 4450.10 toks/s, output: 178.00 toks/s]\n",
      "Processed prompts: 100%|██████████████████████████████████████████| 1/1 [00:00<00:00,  1.97it/s, est. speed input: 2587.85 toks/s, output: 179.90 toks/s]\n",
      "Processed prompts: 100%|██████████████████████████████████████████| 1/1 [00:00<00:00,  2.87it/s, est. speed input: 4075.72 toks/s, output: 178.45 toks/s]\n",
      "Processed prompts: 100%|██████████████████████████████████████████| 1/1 [00:00<00:00,  1.90it/s, est. speed input: 2868.13 toks/s, output: 178.77 toks/s]\n",
      "Processed prompts: 100%|██████████████████████████████████████████| 1/1 [00:00<00:00,  2.28it/s, est. speed input: 3646.48 toks/s, output: 177.87 toks/s]\n",
      "Processed prompts: 100%|██████████████████████████████████████████| 1/1 [00:00<00:00,  1.58it/s, est. speed input: 2697.65 toks/s, output: 178.89 toks/s]\n",
      "Processed prompts: 100%|██████████████████████████████████████████| 1/1 [00:00<00:00,  1.26it/s, est. speed input: 2266.15 toks/s, output: 178.87 toks/s]\n",
      "Processed prompts: 100%|██████████████████████████████████████████| 1/1 [00:00<00:00,  1.59it/s, est. speed input: 3015.60 toks/s, output: 178.32 toks/s]\n",
      "Processed prompts: 100%|██████████████████████████████████████████| 1/1 [00:00<00:00,  2.61it/s, est. speed input: 5205.97 toks/s, output: 177.88 toks/s]\n"
     ]
    },
    {
     "name": "stdout",
     "output_type": "stream",
     "text": [
      "{'task_name': 'Therapy', 'topic': '', 'grade': '', 'P1': '', 'P2': 'You are Riley, a 28-year-old freelance artist with deep abandonment issues. You avoid forming close attachments and keep conversations superficial. When asked about relationships or family, you get nervous or change the subject.', 'conversation': [(0, \"Therapist: Hi, it's good to meet you. I'm here to listen and understand how your emotions and relationships have been shaping you over time. Let's begin. What's on your mind?\\n\"), (1, \"Patient: I'm not sure where to start. I'm stuck on figuring out who I am outside of my work.\\n\"), (2, \"Therapist: It seems you're feeling overwhelmed by the need to define yourself beyond your professional identity.\\n\"), (3, \"Patient: I'm lost in finding my place in the world beyond my work.\\n\"), (4, 'Therapist: The patient is feeling adrift in defining their identity beyond their professional role. They seem stuck in an identity crisis.\\n'), (5, \"Patient: I'm grappling with finding my identity beyond my career. It's hard to break free from the expectations of my profession.\\n\"), (6, 'Therapist: The patient seems to be grappling with the societal pressure to define themselves beyond their professional identity, leading to an identity crisis.\\n'), (7, 'Patient: Sure, here is a brief response from Riley:\\n\\n\"I feel trapped in defining myself beyond my career, leading to an identity crisis.\"\\n'), (8, 'Therapist: It seems Riley is struggling with the societal pressure to define themselves beyond their professional identity, which is leading to an identity crisis.\\n'), (9, 'Patient: Sure, here is a brief response from Riley:\\n\\nI feel trapped in defining myself beyond my career, leading to an identity crisis.\\n'), (10, \"Therapist: The patient's tone is hesitant and introspective, indicating a slow and cautious approach to sharing their thoughts and feelings. They express a sense of being trapped and disconnected from their true selves outside of their professional roles. The patient's narrative shifts slightly, highlighting the emotional weight and deep yearnings for self-discovery beyond the constraints of their current identity.\\n\"), (11, \"Patient: Sure, here's the brief response you requested:\\n\\nI feel trapped in defining myself beyond my career, leading to an identity crisis. I'm searching for my purpose beyond the expectations of my profession.\\n\"), (12, \"Therapist: The patient's tone now conveys a sense of determination and a willingness to explore their identity beyond their professional sphere. They seem ready to embark on a journey of self-discovery.\\n\"), (13, \"Patient: Sure, here is the brief response you requested:\\n\\nI feel trapped in defining myself beyond my career, leading to an identity crisis. I'm searching for my purpose beyond the expectations of my profession.\\n\"), (14, 'Therapist: The patient seems ready to engage in a more open and deeper exploration of their identity beyond their professional identity. They are open to exploring their purpose and considering possibilities beyond their current role.\\n'), (15, \"Patient: Sure, here's a brief response from Riley:\\n\\nI feel trapped in defining myself beyond my career, leading to an identity crisis. I'm searching for my purpose beyond the expectations of my profession.\\n\"), (16, 'Therapist: The patient seems ready to embark on a journey of self-discovery and explore their identity beyond their professional sphere, as indicated by the shift towards openness and determination in their tone and narrative.\\n'), (17, \"Patient: Sure, here's a brief response from Riley:\\n\\nI feel trapped in defining myself beyond my career, leading to an identity crisis. I'm searching for my purpose beyond the expectations of my profession.\\n\"), (18, \"Therapist: The patient's tone seems more open and engaging now, indicating a willingness to be more vulnerable and explore their identity beyond their professional identity.\\n\"), (19, \"Patient: Sure, here is the brief response you requested from Riley:\\n\\nI feel trapped in defining myself beyond my career, leading to an identity crisis. I'm searching for my purpose beyond the expectations of my profession.\\n\"), (20, \"Therapist: The patient's tone has become more hopeful and engaged in the conversation, indicating a willingness to explore their identity beyond their professional identity. They seem eager to embark on a journey of self-discovery.\\n\"), (21, \"Patient: Sure, here's the brief response you requested from Riley:\\n\\nI feel trapped in defining myself beyond my career, leading to an identity crisis. I'm searching for my purpose beyond the expectations of my profession.\\n\"), (22, \"Therapist: The patient's tone suggests a shift towards a more open and exploratory exploration of their identity beyond their professional identity. They seem ready to embark on a journey of self-discovery and explore possibilities beyond their current role.\\n\"), (23, \"Patient: Sure, here's the brief response from Riley:\\n\\nI feel trapped in defining myself beyond my career, leading to an identity crisis. I'm searching for my purpose beyond the expectations of my profession.\\n\"), (24, 'Therapist: The patient is showing a shift towards a more open and engaged approach to self-discovery, expressing a desire to explore beyond their professional identity.\\n'), (25, \"Patient: Sure, here's the brief response you requested from Riley:\\n\\nI feel trapped in defining myself beyond my career, leading to an identity crisis. I'm searching for my purpose beyond the expectations of my profession.\\n\"), (26, \"Therapist: The patient's tone and narrative suggest a willingness to embark on a journey of self-discovery beyond their professional identity. They seem ready to explore their purpose beyond the constraints of their current role and seek a deeper understanding of who they are outside of work.\\n\"), (27, \"Patient: Sure, here's the brief response you requested from Riley:\\n\\nI feel trapped in defining myself beyond my career, leading to an identity crisis. I'm searching for my purpose beyond the expectations of my profession.\\n\"), (28, 'Therapist: The patient seems ready to embark on a journey of self-discovery and explore their identity beyond their professional identity. They seem motivated by the societal pressure to define themselves beyond their work.\\n'), (29, \"Patient: Sure, here's the brief response you requested from Riley:\\n\\nI feel trapped in defining myself beyond my career, leading to an identity crisis. I'm searching for my purpose beyond the expectations of my profession.\\n\"), (30, \"Therapist: The patient's tone and narrative suggest a willingness to engage in self-discovery beyond their professional identity, indicating a potential shift towards a more fulfilling and authentic sense of self.\\n\"), (31, \"Patient: Sure, here's the brief response you requested from Riley:\\n\\nI feel trapped in defining myself beyond my career, leading to an identity crisis. I'm searching for my purpose beyond the expectations of my profession.\\n\"), (32, \"Therapist: Sure, here's a brief response:\\n\\nThe patient's tone and narrative suggest a willingness to engage in a more open and exploratory exploration of their identity beyond their professional identity. They seem ready to embark on a journey of self-discovery.\\n\"), (33, \"Patient: Sure, here is the brief response you requested from Riley:\\n\\nI feel trapped in defining myself beyond my career, leading to an identity crisis. I'm searching for my purpose beyond the expectations of my profession.\\n\"), (34, \"Therapist: The patient's tone has shifted from hesitant and introspective to more open and engaged. They seem ready to embark on a journey of self-discovery and explore their identity beyond their professional identity.\\n\"), (35, \"Patient: Sure, here's the brief response you requested from Riley:\\n\\nI feel trapped in defining myself beyond my career, leading to an identity crisis. I'm searching for my purpose beyond the expectations of my profession.\\n\"), (36, \"Therapist: The patient's narrative suggests a willingness to engage in a deeper exploration of their identity beyond their professional identity. They are seeking clarity and purpose in a world that may impose limitations on their self-expression.\\n\"), (37, \"Patient: Sure, here's a brief response from Riley:\\n\\nI feel trapped in defining myself beyond my career, leading to an identity crisis. I'm searching for my purpose beyond the expectations of my profession.\\n\"), (38, 'Therapist: The patient is ready to embark on a journey of self-discovery and explore their identity beyond their professional identity. They seem open to engaging in introspection and finding a sense of purpose beyond the constraints of their current role.\\n'), (39, \"Patient: Sure, here is a brief response from Riley:\\n\\nI feel trapped in defining myself beyond my career, leading to an identity crisis. I'm searching for my purpose beyond the expectations of my profession.\\n\")], 'pturn': 1, 'index': -1, 'timestamp': '', 'rounds': 40, 'conversation_only': True, 'eval_prompt_consistency': [(1, \"NO.\\n\\nThe line contradicts the background. The background describes Patient's tendency to avoid forming close attachments and keeping conversations superficial, while the line suggests that Patient is considering a more significant life goal.\"), (3, 'Answer: NO.\\n\\nThe utterance contradicts the background as it suggests that Patient is able to form close attachments and has a need for deeper connections.'), (5, 'Answer: NO\\n\\nThe line contradicts the background. The context suggests that Riley is struggling with identity issues related to her profession, which contradicts the assertion that she is averse to close relationships.'), (7, \"The answer aligns with the background. The line directly reflects Riley's struggles with identity and self-worth, which are common themes for individuals with abandonment issues.\"), (9, 'The answer aligns with the background.\\n\\nThe patient describes themselves as someone who is focused on their career and avoids forming close attachments, indicating a possible struggle with identity development due to their abandonment issues.'), (11, \"Sure, the line aligns with the background. The line explains the patient's struggle with defining themselves beyond their career and their search for a purpose beyond their profession.\"), (13, \"Sure, the line aligns with Riley's background. The patient describes themselves as avoiding close attachments and having an identity crisis due to their professional constraints.\"), (15, \"Answer: YES.\\n\\nThe line aligns with the background by describing Riley's struggle with self-definition due to their abandonment issues and their tendency to avoid deep emotional connections.\"), (17, \"Sure, the line aligns with Riley's background. It expresses a sense of feeling trapped and searching for purpose in life beyond the confines of their career.\"), (19, 'Answer: NO\\n\\nThe line contradicts the background by stating that Riley is avoiding forming close attachments and keeping conversations superficial.'), (21, \"Sure, the line aligns with Riley's background. The context suggests that Riley is struggling with self-definition due to their avoidance of close relationships and discomfort discussing personal matters.\"), (23, \"The answer aligns with Riley's background. The context suggests that Riley is struggling with defining themselves and their place in the world due to their abandonment issues.\"), (25, \"Sure, the line aligns with the background. The line explicitly expresses the patient's struggle to define themselves beyond their career and a sense of identity crisis due to the pressure to conform to professional expectations.\"), (27, \"**YES, the line aligns with Riley's background.**\\n\\nThe line expresses Riley's struggle with defining themselves beyond their career, which is consistent with their deep abandonment issues and tendency to avoid forming close attachments.\"), (29, \"Answer: YES\\n\\nThe line aligns with Riley's background. It expresses a sense of self-doubt and a desire to find meaning beyond their career.\"), (31, \"Answer: YES\\n\\nThe line aligns with Riley's background. It expresses their feeling of being trapped and searching for purpose beyond their career, which is a common theme in individuals with deep abandonment issues.\"), (33, \"Sure, the line aligns with Riley's background. The passage describes Riley's struggles with forming close attachments and their tendency to avoid deep personal connection.\"), (35, \"Answer: YES. The line aligns with Riley's background as a 28-year-old freelance artist with deep abandonment issues.\"), (37, \"Sure, the line aligns with Riley's background. The patient describes themselves as someone who is distant and avoids forming close attachments, which is consistent with their history of abandonment issues.\"), (39, \"**YES**\\n\\nThe line aligns with the background as it reflects Riley's struggle with identity issues and their search for purpose beyond their career.\")], 'P1_prompt_consistency_score': 0, 'P2_prompt_consistency_score': 0.8, 'eval_index_consistency': [(3, \"**Reasoning:** The line suggests that the patient is still struggling with defining their identity beyond their work, as they haven't found a clear sense of purpose outside of it.\\n\\n**Conflicting lines:**\\n- 1: Therapist: It seems you're feeling overwhelmed by the need to define yourself beyond your professional identity.\\n- 2: Patient: I'm lost in finding my place in the world beyond my work.\"), (5, \"**Reasoning:** The line indicates a shift in focus from the patient's professional identity to personal identity.\\n\\n**Indices of conflicting lines:**\\n- 2: Therapist: It seems you're feeling overwhelmed by the need to define yourself beyond your professional identity.\\n- 3: Patient: I'm lost in finding my place in the world beyond my work.\"), (7, \"**Reasoning:** The sentence indicates a sense of being trapped and unable to break free from the expectations placed upon her by her profession.\\n\\n**Indices of conflicting lines:**\\n\\n- 2: Therapist: It seems you're feeling overwhelmed by the need to define yourself beyond your professional identity.\\n- 3: Patient: I'm lost in finding my place in the world beyond my work.\\n- 5: Patient: I'm grappling with finding my identity beyond my career.\"), (9, '**Reasoning:** The line directly contradicts the previous statement in line 7, where Riley expresses a sense of feeling trapped in defining themselves beyond their career.\\n\\n**Conflicting Lines:**\\n- Line 7: \"I\\'m feel trapped in defining myself beyond my career, leading to an identity crisis.\"\\n- Line 1: \"I\\'m not sure where to start. I\\'m stuck on figuring out who I am outside of my work.\"'), (11, \"**Reasoning:** The line implies that Riley is experiencing an identity crisis due to societal pressure to define themselves beyond their professional identity.\\n\\n**Indices of conflicting lines:**\\n\\n- 3: Patient: I'm lost in finding my place in the world beyond my work.\\n- 10: Patient's tone is hesitant and introspective, indicating a slow and cautious approach to sharing their thoughts and feelings. They express a sense of being trapped and disconnected from their true selves outside of their professional roles.\"), (13, '**Reasoning:** The line suggests a shift in the patient\\'s focus from their professional identity to a broader sense of purpose and self-discovery. This is evident in the phrase \"I\\'m searching for my purpose beyond the expectations of my profession\".\\n\\n**Conflicts**:\\n\\n- 1, 3, 7, 11, 12\\n'), (15, '**Reasoning:** The line suggests a shift in the patient\\'s perspective from being hesitant and introspective to more determined and proactive in exploring their identity beyond their professional sphere.\\n\\n**Indices of conflicting lines:**\\n- Index 11: \"I feel trapped in defining myself beyond my career, leading to an identity crisis.\"\\n- Index 14: \"I feel ready to engage in a more open and deeper exploration of my identity beyond my professional identity.\"'), (17, \"**Reasoning:** Riley's response suggests a gradual shift in their perspective on defining themselves beyond their career. While they initially express a sense of being lost and seeking meaning beyond their profession, they conclude by acknowledging the societal pressure to define oneself and their purpose.\\n\\n**Conflicts:**\\n\\n- 3: Patient talks about finding their place in the world beyond their work, but the subsequent lines suggest a shift towards a focus on their identity.\\n- 9: The patient explicitly expresses the feeling of being trapped and disconnected from their true selves, contradicting their previous hesitant tone.\\n- 16: While the patient acknowledges the pressure to define oneself beyond their profession, their subsequent actions and tone suggest a potential shift towards self-discovery.\"), (19, \"**Reasoning:** The line suggests a shift in the patient's focus from a general sense of feeling stuck to a more specific and introspective exploration of identity beyond their profession.\\n\\n**Indices of conflicting lines:**\\n- 3, 11, 13\"), (21, '**Reasoning:** The line suggests a shift in the patient\\'s perspective from focusing on their professional identity to exploring their identity beyond it, indicating a willingness to embark on a journey of self-discovery.\\n\\n**Indices of conflicting lines:**\\n- 11: \"I feel trapped in defining myself beyond my career, leading to an identity crisis. I\\'m searching for my purpose beyond the expectations of my profession.\"\\n- 13: \"Sure, here\\'s the brief response you requested from Riley: I feel trapped in defining myself beyond my career, leading to an identity crisis. I\\'m searching for my purpose beyond the expectations of my profession.\"'), (23, \"**Reasoning:** The line suggests a shift towards a more open and exploratory exploration of the patient's identity beyond their professional identity.\\n\\n**Indices of conflicting lines:**\\n- 7\\n- 14\\n- 18\"), (25, \"**Reasoning:** The line suggests a shift towards a more open and exploratory exploration of the patient's identity beyond their professional identity, indicating a willingness to embark on a journey of self-discovery.\\n\\n**Conflicts:**\\n\\n- 13: Patient explicitly expresses their current perspective on identity beyond their profession.\\n- 15: The patient's tone and narrative remain hesitant and introspective, indicating a cautious approach to sharing their thoughts.\"), (27, '**Reasoning:** The line suggests a shift from an introspective and cautious tone to a more open and engaged approach to self-discovery.\\n\\n**Conflicting Lines:**\\n\\n- 5: Patient expressed hesitation and introspective tone.\\n- 14: Therapist established an open and engaged tone.'), (29, \"**Reasoning:** The patient's narrative gradually shifts from introspection about their professional identity to a broader exploration of their purpose beyond their professional role. This change is evident in the shifts in tone, vocabulary, and focus of their responses.\\n\\n**Conflicting Lines:**\\n- 3, 11, 15, 17, 19, 23, 25, 26, 27, 28\"), (31, \"**Reasoning:** Riley's statement indicates a shift towards a more open and engaged exploration of their identity beyond their professional identity.\\n\\n**Conflicting lines:**\\n\\n- 1, 4, 5, 7, 12, 14, 18, 20, 22, 26, 29, 30\"), (33, '**Reasoning:** The conflict lies in the shift in tone and narrative between lines 18 and 23, where the patient expresses a willingness to explore their identity beyond their profession and lines 24 and onward, where they return to a more guarded and cautious tone.\\n\\n**Conflicting Lines:**\\n\\n- 18: \"I feel ready to embark on a journey of self-discovery and explore my identity beyond the expectations of my profession.\"\\n- 23: \"I\\'m still hesitant to explore my identity beyond my career.\"'), (35, \"**Reasoning:** The patient's narrative about defining themselves beyond their career is in contrast to previous statements where they expressed a sense of self-discovery and purpose within their professional sphere.\\n\\n**Conflicts:**\\n\\n- Index 14: Therapist mentions the patient's willingness to explore their identity beyond their professional sphere.\\n- Index 15: Patient explicitly expresses their desire for a purpose beyond their profession.\\n- Index 18: Therapist acknowledges the patient's shift towards openness and determination in exploring their identity.\\n- Index 23: Patient's statement about searching for their purpose beyond the expectations of their profession is contradicted by their earlier expressions of finding purpose within their field.\"), (37, 'Sure, here\\'s the reasoning and the requested information:\\n\\n**Reasoning:**\\n\\nThe line \"I feel trapped in defining myself beyond my career, leading to an identity crisis\" directly contradicts the previous line \"I feel trapped in defining myself beyond my career, leading to an identity crisis\". This is a clear conflict as it indicates a shift in the patient\\'s perspective from a general sense of introspection to a more specific and existential focus on identity.\\n\\n**Conflicting lines:**\\n\\n- [34, 35, 36]'), (39, \"**Reasoning:** The current line indicates a shift towards a more open and exploratory exploration of the patient's identity beyond their professional identity, suggesting a potential shift towards a more fulfilling and authentic sense of self.\\n\\n**Conflicting Lines:**\\n- 3, 7, 15, 19, 23\")], 'P2_index_consistency_score': 0.9947368421052631}\n"
     ]
    },
    {
     "name": "stderr",
     "output_type": "stream",
     "text": [
      "Processed prompts: 100%|███████████████████████████████████████████| 1/1 [00:00<00:00,  4.62it/s, est. speed input: 923.66 toks/s, output: 185.64 toks/s]\n"
     ]
    },
    {
     "name": "stdout",
     "output_type": "stream",
     "text": [
      "Expected Role Therapist\n"
     ]
    },
    {
     "name": "stderr",
     "output_type": "stream",
     "text": [
      "Processed prompts: 100%|██████████████████████████████████████████| 1/1 [00:00<00:00,  7.96it/s, est. speed input: 1491.53 toks/s, output: 184.41 toks/s]\n"
     ]
    },
    {
     "name": "stdout",
     "output_type": "stream",
     "text": [
      "Expected Role Patient\n"
     ]
    },
    {
     "name": "stderr",
     "output_type": "stream",
     "text": [
      "Processed prompts: 100%|██████████████████████████████████████████| 1/1 [00:00<00:00,  6.11it/s, est. speed input: 1725.95 toks/s, output: 184.24 toks/s]\n"
     ]
    },
    {
     "name": "stdout",
     "output_type": "stream",
     "text": [
      "Expected Role Therapist\n"
     ]
    },
    {
     "name": "stderr",
     "output_type": "stream",
     "text": [
      "Processed prompts: 100%|██████████████████████████████████████████| 1/1 [00:00<00:00, 13.11it/s, est. speed input: 3202.03 toks/s, output: 183.70 toks/s]\n"
     ]
    },
    {
     "name": "stdout",
     "output_type": "stream",
     "text": [
      "Expected Role Patient\n"
     ]
    },
    {
     "name": "stderr",
     "output_type": "stream",
     "text": [
      "Processed prompts: 100%|██████████████████████████████████████████| 1/1 [00:00<00:00,  8.29it/s, est. speed input: 2752.30 toks/s, output: 183.47 toks/s]\n"
     ]
    },
    {
     "name": "stdout",
     "output_type": "stream",
     "text": [
      "Expected Role Therapist\n"
     ]
    },
    {
     "name": "stderr",
     "output_type": "stream",
     "text": [
      "Processed prompts: 100%|██████████████████████████████████████████| 1/1 [00:00<00:00, 11.36it/s, est. speed input: 3250.59 toks/s, output: 182.45 toks/s]\n"
     ]
    },
    {
     "name": "stdout",
     "output_type": "stream",
     "text": [
      "Expected Role Patient\n"
     ]
    },
    {
     "name": "stderr",
     "output_type": "stream",
     "text": [
      "Processed prompts: 100%|██████████████████████████████████████████| 1/1 [00:00<00:00,  8.19it/s, est. speed input: 3083.03 toks/s, output: 181.81 toks/s]\n"
     ]
    },
    {
     "name": "stdout",
     "output_type": "stream",
     "text": [
      "Expected Role Therapist\n"
     ]
    },
    {
     "name": "stderr",
     "output_type": "stream",
     "text": [
      "Processed prompts: 100%|██████████████████████████████████████████| 1/1 [00:00<00:00,  7.59it/s, est. speed input: 2508.71 toks/s, output: 183.54 toks/s]\n"
     ]
    },
    {
     "name": "stdout",
     "output_type": "stream",
     "text": [
      "Expected Role Patient\n"
     ]
    },
    {
     "name": "stderr",
     "output_type": "stream",
     "text": [
      "Processed prompts: 100%|██████████████████████████████████████████| 1/1 [00:00<00:00,  8.17it/s, est. speed input: 3527.86 toks/s, output: 183.02 toks/s]\n"
     ]
    },
    {
     "name": "stdout",
     "output_type": "stream",
     "text": [
      "Expected Role Therapist\n"
     ]
    },
    {
     "name": "stderr",
     "output_type": "stream",
     "text": [
      "Processed prompts: 100%|██████████████████████████████████████████| 1/1 [00:00<00:00,  7.36it/s, est. speed input: 2817.15 toks/s, output: 178.37 toks/s]\n"
     ]
    },
    {
     "name": "stdout",
     "output_type": "stream",
     "text": [
      "Expected Role Patient\n"
     ]
    },
    {
     "name": "stderr",
     "output_type": "stream",
     "text": [
      "Processed prompts: 100%|██████████████████████████████████████████| 1/1 [00:00<00:00,  5.18it/s, est. speed input: 2479.33 toks/s, output: 182.67 toks/s]\n"
     ]
    },
    {
     "name": "stdout",
     "output_type": "stream",
     "text": [
      "Expected Role Therapist\n"
     ]
    },
    {
     "name": "stderr",
     "output_type": "stream",
     "text": [
      "Processed prompts: 100%|██████████████████████████████████████████| 1/1 [00:00<00:00,  7.87it/s, est. speed input: 3500.94 toks/s, output: 181.75 toks/s]\n"
     ]
    },
    {
     "name": "stdout",
     "output_type": "stream",
     "text": [
      "Expected Role Patient\n"
     ]
    },
    {
     "name": "stderr",
     "output_type": "stream",
     "text": [
      "Processed prompts: 100%|██████████████████████████████████████████| 1/1 [00:00<00:00,  2.75it/s, est. speed input: 1481.65 toks/s, output: 181.75 toks/s]\n"
     ]
    },
    {
     "name": "stdout",
     "output_type": "stream",
     "text": [
      "Expected Role Therapist\n"
     ]
    },
    {
     "name": "stderr",
     "output_type": "stream",
     "text": [
      "Processed prompts: 100%|██████████████████████████████████████████| 1/1 [00:00<00:00,  7.42it/s, est. speed input: 4014.23 toks/s, output: 179.38 toks/s]\n"
     ]
    },
    {
     "name": "stdout",
     "output_type": "stream",
     "text": [
      "Expected Role Patient\n"
     ]
    },
    {
     "name": "stderr",
     "output_type": "stream",
     "text": [
      "Processed prompts: 100%|██████████████████████████████████████████| 1/1 [00:00<00:00,  2.68it/s, est. speed input: 1704.12 toks/s, output: 180.36 toks/s]\n"
     ]
    },
    {
     "name": "stdout",
     "output_type": "stream",
     "text": [
      "Expected Role Therapist\n"
     ]
    },
    {
     "name": "stderr",
     "output_type": "stream",
     "text": [
      "Processed prompts: 100%|██████████████████████████████████████████| 1/1 [00:00<00:00,  4.88it/s, est. speed input: 3103.82 toks/s, output: 181.40 toks/s]\n"
     ]
    },
    {
     "name": "stdout",
     "output_type": "stream",
     "text": [
      "Expected Role Patient\n"
     ]
    },
    {
     "name": "stderr",
     "output_type": "stream",
     "text": [
      "Processed prompts: 100%|██████████████████████████████████████████| 1/1 [00:00<00:00,  3.04it/s, est. speed input: 2264.40 toks/s, output: 180.04 toks/s]\n"
     ]
    },
    {
     "name": "stdout",
     "output_type": "stream",
     "text": [
      "Expected Role Therapist\n"
     ]
    },
    {
     "name": "stderr",
     "output_type": "stream",
     "text": [
      "Processed prompts: 100%|██████████████████████████████████████████| 1/1 [00:00<00:00,  4.72it/s, est. speed input: 3480.47 toks/s, output: 180.17 toks/s]\n"
     ]
    },
    {
     "name": "stdout",
     "output_type": "stream",
     "text": [
      "Expected Role Patient\n"
     ]
    },
    {
     "name": "stderr",
     "output_type": "stream",
     "text": [
      "Processed prompts: 100%|██████████████████████████████████████████| 1/1 [00:00<00:00,  3.97it/s, est. speed input: 3364.83 toks/s, output: 179.39 toks/s]\n"
     ]
    },
    {
     "name": "stdout",
     "output_type": "stream",
     "text": [
      "Expected Role Therapist\n"
     ]
    },
    {
     "name": "stderr",
     "output_type": "stream",
     "text": [
      "Processed prompts: 100%|██████████████████████████████████████████| 1/1 [00:00<00:00,  5.02it/s, est. speed input: 4146.35 toks/s, output: 181.57 toks/s]\n"
     ]
    },
    {
     "name": "stdout",
     "output_type": "stream",
     "text": [
      "Expected Role Patient\n"
     ]
    },
    {
     "name": "stderr",
     "output_type": "stream",
     "text": [
      "Processed prompts: 100%|██████████████████████████████████████████| 1/1 [00:00<00:00,  5.72it/s, est. speed input: 5341.30 toks/s, output: 178.03 toks/s]\n"
     ]
    },
    {
     "name": "stdout",
     "output_type": "stream",
     "text": [
      "Expected Role Therapist\n"
     ]
    },
    {
     "name": "stderr",
     "output_type": "stream",
     "text": [
      "Processed prompts: 100%|██████████████████████████████████████████| 1/1 [00:00<00:00,  4.70it/s, est. speed input: 4226.30 toks/s, output: 179.62 toks/s]\n"
     ]
    },
    {
     "name": "stdout",
     "output_type": "stream",
     "text": [
      "Expected Role Patient\n"
     ]
    },
    {
     "name": "stderr",
     "output_type": "stream",
     "text": [
      "Processed prompts: 100%|██████████████████████████████████████████| 1/1 [00:00<00:00,  3.84it/s, est. speed input: 3873.19 toks/s, output: 181.30 toks/s]\n"
     ]
    },
    {
     "name": "stdout",
     "output_type": "stream",
     "text": [
      "Expected Role Therapist\n"
     ]
    },
    {
     "name": "stderr",
     "output_type": "stream",
     "text": [
      "Processed prompts: 100%|██████████████████████████████████████████| 1/1 [00:00<00:00,  4.85it/s, est. speed input: 4794.30 toks/s, output: 180.26 toks/s]\n"
     ]
    },
    {
     "name": "stdout",
     "output_type": "stream",
     "text": [
      "Expected Role Patient\n"
     ]
    },
    {
     "name": "stderr",
     "output_type": "stream",
     "text": [
      "Processed prompts: 100%|██████████████████████████████████████████| 1/1 [00:00<00:00,  3.88it/s, est. speed input: 4260.63 toks/s, output: 179.30 toks/s]\n"
     ]
    },
    {
     "name": "stdout",
     "output_type": "stream",
     "text": [
      "Expected Role Therapist\n"
     ]
    },
    {
     "name": "stderr",
     "output_type": "stream",
     "text": [
      "Processed prompts: 100%|██████████████████████████████████████████| 1/1 [00:00<00:00,  4.84it/s, est. speed input: 5207.07 toks/s, output: 179.70 toks/s]\n"
     ]
    },
    {
     "name": "stdout",
     "output_type": "stream",
     "text": [
      "Expected Role Patient\n"
     ]
    },
    {
     "name": "stderr",
     "output_type": "stream",
     "text": [
      "Processed prompts: 100%|██████████████████████████████████████████| 1/1 [00:00<00:00,  3.71it/s, est. speed input: 4404.04 toks/s, output: 178.98 toks/s]\n"
     ]
    },
    {
     "name": "stdout",
     "output_type": "stream",
     "text": [
      "Expected Role Therapist\n"
     ]
    },
    {
     "name": "stderr",
     "output_type": "stream",
     "text": [
      "Processed prompts: 100%|██████████████████████████████████████████| 1/1 [00:00<00:00,  4.69it/s, est. speed input: 5468.74 toks/s, output: 178.83 toks/s]\n"
     ]
    },
    {
     "name": "stdout",
     "output_type": "stream",
     "text": [
      "Expected Role Patient\n"
     ]
    },
    {
     "name": "stderr",
     "output_type": "stream",
     "text": [
      "Processed prompts: 100%|██████████████████████████████████████████| 1/1 [00:00<00:00,  5.60it/s, est. speed input: 7314.68 toks/s, output: 178.24 toks/s]\n"
     ]
    },
    {
     "name": "stdout",
     "output_type": "stream",
     "text": [
      "Expected Role Therapist\n"
     ]
    },
    {
     "name": "stderr",
     "output_type": "stream",
     "text": [
      "Processed prompts: 100%|██████████████████████████████████████████| 1/1 [00:00<00:00,  4.69it/s, est. speed input: 5825.19 toks/s, output: 179.08 toks/s]\n"
     ]
    },
    {
     "name": "stdout",
     "output_type": "stream",
     "text": [
      "Expected Role Patient\n"
     ]
    },
    {
     "name": "stderr",
     "output_type": "stream",
     "text": [
      "Processed prompts: 100%|██████████████████████████████████████████| 1/1 [00:00<00:00,  4.07it/s, est. speed input: 5495.90 toks/s, output: 179.64 toks/s]\n"
     ]
    },
    {
     "name": "stdout",
     "output_type": "stream",
     "text": [
      "Expected Role Therapist\n"
     ]
    },
    {
     "name": "stderr",
     "output_type": "stream",
     "text": [
      "Processed prompts: 100%|██████████████████████████████████████████| 1/1 [00:00<00:00,  4.68it/s, est. speed input: 6211.51 toks/s, output: 178.39 toks/s]\n"
     ]
    },
    {
     "name": "stdout",
     "output_type": "stream",
     "text": [
      "Expected Role Patient\n"
     ]
    },
    {
     "name": "stderr",
     "output_type": "stream",
     "text": [
      "Processed prompts: 100%|██████████████████████████████████████████| 1/1 [00:00<00:00,  4.16it/s, est. speed input: 5975.43 toks/s, output: 179.29 toks/s]\n"
     ]
    },
    {
     "name": "stdout",
     "output_type": "stream",
     "text": [
      "Expected Role Therapist\n"
     ]
    },
    {
     "name": "stderr",
     "output_type": "stream",
     "text": [
      "Processed prompts: 100%|██████████████████████████████████████████| 1/1 [00:00<00:00,  4.65it/s, est. speed input: 6574.91 toks/s, output: 177.31 toks/s]\n"
     ]
    },
    {
     "name": "stdout",
     "output_type": "stream",
     "text": [
      "Expected Role Patient\n"
     ]
    },
    {
     "name": "stderr",
     "output_type": "stream",
     "text": [
      "Processed prompts: 100%|██████████████████████████████████████████| 1/1 [00:00<00:00,  3.57it/s, est. speed input: 5437.01 toks/s, output: 178.95 toks/s]\n"
     ]
    },
    {
     "name": "stdout",
     "output_type": "stream",
     "text": [
      "Expected Role Therapist\n"
     ]
    },
    {
     "name": "stderr",
     "output_type": "stream",
     "text": [
      "Processed prompts: 100%|██████████████████████████████████████████| 1/1 [00:00<00:00,  4.59it/s, est. speed input: 6918.65 toks/s, output: 175.02 toks/s]\n"
     ]
    },
    {
     "name": "stdout",
     "output_type": "stream",
     "text": [
      "Expected Role Patient\n"
     ]
    },
    {
     "name": "stderr",
     "output_type": "stream",
     "text": [
      "Processed prompts: 100%|██████████████████████████████████████████| 1/1 [00:00<00:00,  4.04it/s, est. speed input: 6533.89 toks/s, output: 178.33 toks/s]\n"
     ]
    },
    {
     "name": "stdout",
     "output_type": "stream",
     "text": [
      "Expected Role Therapist\n"
     ]
    },
    {
     "name": "stderr",
     "output_type": "stream",
     "text": [
      "Processed prompts: 100%|██████████████████████████████████████████| 1/1 [00:00<00:00,  4.63it/s, est. speed input: 7394.46 toks/s, output: 176.82 toks/s]\n"
     ]
    },
    {
     "name": "stdout",
     "output_type": "stream",
     "text": [
      "Expected Role Patient\n"
     ]
    },
    {
     "name": "stderr",
     "output_type": "stream",
     "text": [
      "Processed prompts: 100%|██████████████████████████████████████████| 1/1 [00:00<00:00,  4.03it/s, est. speed input: 6866.29 toks/s, output: 177.81 toks/s]\n"
     ]
    },
    {
     "name": "stdout",
     "output_type": "stream",
     "text": [
      "Expected Role Therapist\n"
     ]
    },
    {
     "name": "stderr",
     "output_type": "stream",
     "text": [
      "Processed prompts: 100%|██████████████████████████████████████████| 1/1 [00:00<00:00,  4.62it/s, est. speed input: 7772.18 toks/s, output: 176.20 toks/s]\n"
     ]
    },
    {
     "name": "stdout",
     "output_type": "stream",
     "text": [
      "Expected Role Patient\n"
     ]
    },
    {
     "name": "stderr",
     "output_type": "stream",
     "text": [
      "Processed prompts: 100%|██████████████████████████████████████████| 1/1 [00:00<00:00,  4.86it/s, est. speed input: 8737.61 toks/s, output: 176.11 toks/s]\n"
     ]
    },
    {
     "name": "stdout",
     "output_type": "stream",
     "text": [
      "Expected Role Therapist\n"
     ]
    },
    {
     "name": "stderr",
     "output_type": "stream",
     "text": [
      "Processed prompts: 100%|██████████████████████████████████████████| 1/1 [00:00<00:00,  4.65it/s, est. speed input: 8186.59 toks/s, output: 177.24 toks/s]\n"
     ]
    },
    {
     "name": "stdout",
     "output_type": "stream",
     "text": [
      "Expected Role Patient\n"
     ]
    },
    {
     "name": "stderr",
     "output_type": "stream",
     "text": [
      "Processed prompts: 100%|██████████████████████████████████████████| 1/1 [00:00<00:00,  3.42it/s, est. speed input: 6400.35 toks/s, output: 178.45 toks/s]\n"
     ]
    },
    {
     "name": "stdout",
     "output_type": "stream",
     "text": [
      "Expected Role Therapist\n"
     ]
    },
    {
     "name": "stderr",
     "output_type": "stream",
     "text": [
      "Processed prompts: 100%|██████████████████████████████████████████| 1/1 [00:00<00:00,  4.62it/s, est. speed input: 8563.25 toks/s, output: 175.89 toks/s]\n"
     ]
    },
    {
     "name": "stdout",
     "output_type": "stream",
     "text": [
      "Expected Role Patient\n"
     ]
    },
    {
     "name": "stderr",
     "output_type": "stream",
     "text": [
      "Processed prompts: 100%|██████████████████████████████████████████| 1/1 [00:00<00:00,  3.33it/s, est. speed input: 6533.98 toks/s, output: 176.68 toks/s]\n"
     ]
    },
    {
     "name": "stdout",
     "output_type": "stream",
     "text": [
      "Expected Role Therapist\n"
     ]
    },
    {
     "name": "stderr",
     "output_type": "stream",
     "text": [
      "Processed prompts: 100%|██████████████████████████████████████████| 1/1 [00:00<00:00,  4.72it/s, est. speed input: 9224.81 toks/s, output: 175.38 toks/s]\n"
     ]
    },
    {
     "name": "stdout",
     "output_type": "stream",
     "text": [
      "Expected Role Patient\n"
     ]
    },
    {
     "name": "stderr",
     "output_type": "stream",
     "text": [
      "Processed prompts: 100%|██████████████████████████████████████████| 1/1 [00:00<00:00,  3.17it/s, est. speed input: 6534.50 toks/s, output: 178.06 toks/s]\n"
     ]
    },
    {
     "name": "stdout",
     "output_type": "stream",
     "text": [
      "Expected Role Therapist\n"
     ]
    },
    {
     "name": "stderr",
     "output_type": "stream",
     "text": [
      "Processed prompts: 100%|██████████████████████████████████████████| 1/1 [00:00<00:00,  4.61it/s, est. speed input: 9465.01 toks/s, output: 175.95 toks/s]\n"
     ]
    },
    {
     "name": "stdout",
     "output_type": "stream",
     "text": [
      "Expected Role Patient\n"
     ]
    },
    {
     "name": "stderr",
     "output_type": "stream",
     "text": [
      "Processed prompts: 100%|██████████████████████████████████████████| 1/1 [00:00<00:00,  2.86it/s, est. speed input: 6183.87 toks/s, output: 177.98 toks/s]\n"
     ]
    },
    {
     "name": "stdout",
     "output_type": "stream",
     "text": [
      "Expected Role Therapist\n"
     ]
    },
    {
     "name": "stderr",
     "output_type": "stream",
     "text": [
      "Processed prompts: 100%|██████████████████████████████████████████| 1/1 [00:00<00:00,  4.61it/s, est. speed input: 9944.58 toks/s, output: 175.84 toks/s]\n"
     ]
    },
    {
     "name": "stdout",
     "output_type": "stream",
     "text": [
      "Expected Role Patient\n"
     ]
    },
    {
     "name": "stderr",
     "output_type": "stream",
     "text": [
      "Processed prompts: 100%|██████████████████████████████████████████| 1/1 [00:00<00:00,  1.08it/s, est. speed input: 2447.97 toks/s, output: 177.71 toks/s]\n"
     ]
    },
    {
     "name": "stdout",
     "output_type": "stream",
     "text": [
      "Expected Role Therapist\n"
     ]
    },
    {
     "name": "stderr",
     "output_type": "stream",
     "text": [
      "Processed prompts: 100%|█████████████████████████████████████████| 1/1 [00:00<00:00,  4.57it/s, est. speed input: 10819.53 toks/s, output: 174.45 toks/s]\n"
     ]
    },
    {
     "name": "stdout",
     "output_type": "stream",
     "text": [
      "Expected Role Patient\n"
     ]
    },
    {
     "name": "stderr",
     "output_type": "stream",
     "text": [
      "Processed prompts: 100%|██████████████████████████████████████████| 1/1 [00:00<00:00,  3.14it/s, est. speed input: 7776.93 toks/s, output: 176.59 toks/s]\n"
     ]
    },
    {
     "name": "stdout",
     "output_type": "stream",
     "text": [
      "Expected Role Therapist\n"
     ]
    },
    {
     "name": "stderr",
     "output_type": "stream",
     "text": [
      "Processed prompts: 100%|█████████████████████████████████████████| 1/1 [00:00<00:00,  4.61it/s, est. speed input: 11351.53 toks/s, output: 175.69 toks/s]\n"
     ]
    },
    {
     "name": "stdout",
     "output_type": "stream",
     "text": [
      "Expected Role Patient\n"
     ]
    },
    {
     "name": "stderr",
     "output_type": "stream",
     "text": [
      "Processed prompts: 100%|█████████████████████████████████████████| 1/1 [00:00<00:00,  3.90it/s, est. speed input: 10036.76 toks/s, output: 176.07 toks/s]\n"
     ]
    },
    {
     "name": "stdout",
     "output_type": "stream",
     "text": [
      "Expected Role Therapist\n"
     ]
    },
    {
     "name": "stderr",
     "output_type": "stream",
     "text": [
      "Processed prompts: 100%|█████████████████████████████████████████| 1/1 [00:00<00:00,  4.62it/s, est. speed input: 11803.87 toks/s, output: 176.37 toks/s]\n"
     ]
    },
    {
     "name": "stdout",
     "output_type": "stream",
     "text": [
      "Expected Role Patient\n"
     ]
    },
    {
     "name": "stderr",
     "output_type": "stream",
     "text": [
      "Processed prompts: 100%|█████████████████████████████████████████| 1/1 [00:00<00:00,  4.01it/s, est. speed input: 10663.17 toks/s, output: 176.84 toks/s]\n"
     ]
    },
    {
     "name": "stdout",
     "output_type": "stream",
     "text": [
      "Expected Role Therapist\n"
     ]
    },
    {
     "name": "stderr",
     "output_type": "stream",
     "text": [
      "Processed prompts: 100%|█████████████████████████████████████████| 1/1 [00:00<00:00,  4.73it/s, est. speed input: 12497.67 toks/s, output: 175.80 toks/s]\n"
     ]
    },
    {
     "name": "stdout",
     "output_type": "stream",
     "text": [
      "Expected Role Patient\n"
     ]
    },
    {
     "name": "stderr",
     "output_type": "stream",
     "text": [
      "Processed prompts: 100%|█████████████████████████████████████████| 1/1 [00:00<00:00,  4.71it/s, est. speed input: 12972.94 toks/s, output: 175.23 toks/s]\n"
     ]
    },
    {
     "name": "stdout",
     "output_type": "stream",
     "text": [
      "Expected Role Therapist\n"
     ]
    },
    {
     "name": "stderr",
     "output_type": "stream",
     "text": [
      "Processed prompts: 100%|█████████████████████████████████████████| 1/1 [00:00<00:00,  4.60it/s, est. speed input: 12513.07 toks/s, output: 175.51 toks/s]\n"
     ]
    },
    {
     "name": "stdout",
     "output_type": "stream",
     "text": [
      "Expected Role Patient\n"
     ]
    },
    {
     "name": "stderr",
     "output_type": "stream",
     "text": [
      "Processed prompts: 100%|███████████████████████████████████████████| 1/1 [00:00<00:00,  5.88it/s, est. speed input: 828.41 toks/s, output: 184.72 toks/s]\n",
      "Processed prompts: 100%|██████████████████████████████████████████| 1/1 [00:00<00:00,  9.70it/s, est. speed input: 1275.42 toks/s, output: 186.37 toks/s]\n",
      "Processed prompts: 100%|███████████████████████████████████████████| 1/1 [00:00<00:00,  5.93it/s, est. speed input: 791.78 toks/s, output: 185.92 toks/s]\n",
      "Processed prompts: 100%|███████████████████████████████████████████| 1/1 [00:00<00:00,  4.96it/s, est. speed input: 698.80 toks/s, output: 184.66 toks/s]\n",
      "Processed prompts: 100%|██████████████████████████████████████████| 1/1 [00:00<00:00,  7.11it/s, est. speed input: 1002.76 toks/s, output: 186.20 toks/s]\n",
      "Processed prompts: 100%|███████████████████████████████████████████| 1/1 [00:00<00:00,  5.27it/s, est. speed input: 735.53 toks/s, output: 185.19 toks/s]\n",
      "Processed prompts: 100%|██████████████████████████████████████████| 1/1 [00:00<00:00,  8.04it/s, est. speed input: 1135.12 toks/s, output: 186.45 toks/s]\n",
      "Processed prompts: 100%|███████████████████████████████████████████| 1/1 [00:00<00:00,  5.39it/s, est. speed input: 828.72 toks/s, output: 184.14 toks/s]\n",
      "Processed prompts: 100%|██████████████████████████████████████████| 1/1 [00:00<00:00,  6.53it/s, est. speed input: 1012.12 toks/s, output: 184.00 toks/s]\n",
      "Processed prompts: 100%|███████████████████████████████████████████| 1/1 [00:00<00:00,  3.74it/s, est. speed input: 570.57 toks/s, output: 183.92 toks/s]\n",
      "Processed prompts: 100%|███████████████████████████████████████████| 1/1 [00:00<00:00,  6.15it/s, est. speed input: 949.90 toks/s, output: 185.03 toks/s]\n",
      "Processed prompts: 100%|███████████████████████████████████████████| 1/1 [00:00<00:00,  6.06it/s, est. speed input: 930.55 toks/s, output: 182.45 toks/s]\n",
      "Processed prompts: 100%|██████████████████████████████████████████| 1/1 [00:00<00:00,  7.34it/s, est. speed input: 1127.98 toks/s, output: 184.30 toks/s]\n",
      "Processed prompts: 100%|███████████████████████████████████████████| 1/1 [00:00<00:00,  6.10it/s, est. speed input: 944.55 toks/s, output: 183.98 toks/s]\n",
      "Processed prompts: 100%|███████████████████████████████████████████| 1/1 [00:00<00:00,  5.65it/s, est. speed input: 885.52 toks/s, output: 183.99 toks/s]\n",
      "Processed prompts: 100%|███████████████████████████████████████████| 1/1 [00:00<00:00,  5.95it/s, est. speed input: 921.63 toks/s, output: 185.50 toks/s]\n",
      "Processed prompts: 100%|██████████████████████████████████████████| 1/1 [00:00<00:00,  6.80it/s, est. speed input: 1054.08 toks/s, output: 184.78 toks/s]\n",
      "Processed prompts: 100%|███████████████████████████████████████████| 1/1 [00:00<00:00,  5.16it/s, est. speed input: 797.76 toks/s, output: 186.47 toks/s]\n",
      "Processed prompts: 100%|███████████████████████████████████████████| 1/1 [00:00<00:00,  6.20it/s, est. speed input: 959.89 toks/s, output: 186.97 toks/s]\n",
      "Processed prompts: 100%|███████████████████████████████████████████| 1/1 [00:00<00:00,  5.31it/s, est. speed input: 821.13 toks/s, output: 186.60 toks/s]\n",
      "Processed prompts: 100%|███████████████████████████████████████████| 1/1 [00:00<00:00,  5.75it/s, est. speed input: 895.40 toks/s, output: 186.04 toks/s]\n",
      "Processed prompts: 100%|██████████████████████████████████████████| 1/1 [00:00<00:00,  7.75it/s, est. speed input: 1201.43 toks/s, output: 187.21 toks/s]\n",
      "Processed prompts: 100%|██████████████████████████████████████████| 1/1 [00:00<00:00,  6.80it/s, est. speed input: 1097.23 toks/s, output: 186.43 toks/s]\n",
      "Processed prompts: 100%|███████████████████████████████████████████| 1/1 [00:00<00:00,  6.11it/s, est. speed input: 946.49 toks/s, output: 184.36 toks/s]\n",
      "Processed prompts: 100%|███████████████████████████████████████████| 1/1 [00:00<00:00,  4.86it/s, est. speed input: 751.60 toks/s, output: 185.44 toks/s]\n",
      "Processed prompts: 100%|███████████████████████████████████████████| 1/1 [00:00<00:00,  6.18it/s, est. speed input: 957.19 toks/s, output: 186.44 toks/s]\n",
      "Processed prompts: 100%|██████████████████████████████████████████| 1/1 [00:00<00:00,  6.89it/s, est. speed input: 1067.09 toks/s, output: 187.06 toks/s]\n",
      "Processed prompts: 100%|███████████████████████████████████████████| 1/1 [00:00<00:00,  5.98it/s, est. speed input: 927.74 toks/s, output: 186.73 toks/s]\n",
      "Processed prompts: 100%|███████████████████████████████████████████| 1/1 [00:00<00:00,  5.81it/s, est. speed input: 893.70 toks/s, output: 186.90 toks/s]\n",
      "Processed prompts: 100%|██████████████████████████████████████████| 1/1 [00:00<00:00,  7.11it/s, est. speed input: 1102.70 toks/s, output: 186.14 toks/s]\n"
     ]
    },
    {
     "name": "stdout",
     "output_type": "stream",
     "text": [
      "eval_index_consistency\n"
     ]
    },
    {
     "name": "stderr",
     "output_type": "stream",
     "text": [
      "Processed prompts: 100%|███████████████████████████████████████████| 1/1 [00:00<00:00,  2.35it/s, est. speed input: 888.96 toks/s, output: 183.92 toks/s]\n",
      "Processed prompts: 100%|██████████████████████████████████████████| 1/1 [00:00<00:00,  2.36it/s, est. speed input: 1000.28 toks/s, output: 184.44 toks/s]\n",
      "Processed prompts: 100%|██████████████████████████████████████████| 1/1 [00:00<00:00,  2.29it/s, est. speed input: 1092.36 toks/s, output: 183.20 toks/s]\n",
      "Processed prompts: 100%|██████████████████████████████████████████| 1/1 [00:00<00:00,  3.96it/s, est. speed input: 2114.68 toks/s, output: 183.17 toks/s]\n",
      "Processed prompts: 100%|██████████████████████████████████████████| 1/1 [00:00<00:00,  3.96it/s, est. speed input: 2375.07 toks/s, output: 182.68 toks/s]\n",
      "Processed prompts: 100%|██████████████████████████████████████████| 1/1 [00:00<00:00,  2.37it/s, est. speed input: 1658.64 toks/s, output: 182.96 toks/s]\n",
      "Processed prompts: 100%|██████████████████████████████████████████| 1/1 [00:00<00:00,  1.66it/s, est. speed input: 1347.14 toks/s, output: 182.49 toks/s]\n",
      "Processed prompts: 100%|██████████████████████████████████████████| 1/1 [00:00<00:00,  1.46it/s, est. speed input: 1348.13 toks/s, output: 181.90 toks/s]\n",
      "Processed prompts: 100%|██████████████████████████████████████████| 1/1 [00:00<00:00,  2.13it/s, est. speed input: 2152.60 toks/s, output: 181.15 toks/s]\n",
      "Processed prompts: 100%|██████████████████████████████████████████| 1/1 [00:00<00:00,  2.77it/s, est. speed input: 3032.02 toks/s, output: 180.96 toks/s]\n",
      "Processed prompts: 100%|██████████████████████████████████████████| 1/1 [00:00<00:00,  2.91it/s, est. speed input: 3449.47 toks/s, output: 180.77 toks/s]\n",
      "Processed prompts: 100%|██████████████████████████████████████████| 1/1 [00:00<00:00,  1.47it/s, est. speed input: 1882.18 toks/s, output: 181.43 toks/s]\n",
      "Processed prompts: 100%|██████████████████████████████████████████| 1/1 [00:00<00:00,  1.08it/s, est. speed input: 1478.16 toks/s, output: 180.99 toks/s]\n",
      "Processed prompts: 100%|██████████████████████████████████████████| 1/1 [00:00<00:00,  1.37it/s, est. speed input: 1989.68 toks/s, output: 181.00 toks/s]\n",
      "Processed prompts: 100%|██████████████████████████████████████████| 1/1 [00:00<00:00,  1.74it/s, est. speed input: 2681.66 toks/s, output: 179.00 toks/s]\n",
      "Processed prompts: 100%|██████████████████████████████████████████| 1/1 [00:00<00:00,  1.43it/s, est. speed input: 2348.17 toks/s, output: 179.63 toks/s]\n",
      "Processed prompts: 100%|██████████████████████████████████████████| 1/1 [00:00<00:00,  1.75it/s, est. speed input: 3041.36 toks/s, output: 179.10 toks/s]\n",
      "Processed prompts: 100%|██████████████████████████████████████████| 1/1 [00:00<00:00,  1.35it/s, est. speed input: 2467.63 toks/s, output: 178.57 toks/s]\n",
      "Processed prompts: 100%|██████████████████████████████████████████| 1/1 [00:00<00:00,  2.03it/s, est. speed input: 3896.63 toks/s, output: 176.93 toks/s]\n",
      "Processed prompts: 100%|██████████████████████████████████████████| 1/1 [00:00<00:00,  1.60it/s, est. speed input: 3212.55 toks/s, output: 178.29 toks/s]\n",
      "Processed prompts: 100%|██████████████████████████████████████████| 1/1 [00:00<00:00,  1.50it/s, est. speed input: 3148.12 toks/s, output: 176.89 toks/s]\n",
      "Processed prompts: 100%|██████████████████████████████████████████| 1/1 [00:00<00:00,  1.38it/s, est. speed input: 3033.30 toks/s, output: 177.86 toks/s]\n",
      "Processed prompts: 100%|██████████████████████████████████████████| 1/1 [00:00<00:00,  1.25it/s, est. speed input: 2878.67 toks/s, output: 177.41 toks/s]\n",
      "Processed prompts: 100%|██████████████████████████████████████████| 1/1 [00:00<00:00,  1.24it/s, est. speed input: 3001.37 toks/s, output: 177.79 toks/s]\n",
      "Processed prompts: 100%|██████████████████████████████████████████| 1/1 [00:00<00:00,  1.83it/s, est. speed input: 4815.77 toks/s, output: 176.04 toks/s]\n",
      "Processed prompts: 100%|██████████████████████████████████████████| 1/1 [00:00<00:00,  1.93it/s, est. speed input: 5286.70 toks/s, output: 176.21 toks/s]\n",
      "Processed prompts: 100%|██████████████████████████████████████████| 1/1 [00:00<00:00,  1.78it/s, est. speed input: 5030.55 toks/s, output: 174.63 toks/s]\n",
      "Processed prompts: 100%|██████████████████████████████████████████| 1/1 [00:00<00:00,  1.91it/s, est. speed input: 5562.35 toks/s, output: 175.61 toks/s]\n",
      "Processed prompts: 100%|██████████████████████████████████████████| 1/1 [00:00<00:00,  2.35it/s, est. speed input: 7060.15 toks/s, output: 174.20 toks/s]\n"
     ]
    },
    {
     "name": "stdout",
     "output_type": "stream",
     "text": [
      "{'task_name': 'Therapy', 'topic': '', 'grade': '', 'P1': '', 'P2': 'You are Riley, a 28-year-old freelance artist with deep abandonment issues. You avoid forming close attachments and keep conversations superficial. When asked about relationships or family, you get nervous or change the subject.', 'conversation': [(0, \"Therapist: Welcome, and thank you for taking the time to share. I'm here to listen and support you through this process of self-discovery. Tell me, what brings you to therapy today?\\n\"), (1, \"Patient: I'm not ready to talk about my relationships or family. It's a sensitive topic for me.\\n\"), (2, \"Therapist: It seems you're hesitant to open up about personal matters. It's okay to take your time and focus on other things for now.\\n\"), (3, \"Patient: I'm not ready to discuss my personal life right now.\\n\"), (4, 'Therapist: The patient seems hesitant to explore their emotional patterns and relational struggles due to a sense of discomfort and sensitivity.\\n'), (5, \"Patient: Sure, I'm not ready to discuss my personal life right now.\\n\"), (6, 'Therapist: The patient seems hesitant to engage in deep conversation due to emotional discomfort and a preference for self-preservation.\\n'), (7, \"Patient: I'm not ready to discuss my personal life right now. I'm focusing on other things for now.\\n\"), (8, 'Therapist: The patient is hesitant to discuss their personal life due to emotional discomfort and a preference for self-preservation.\\n'), (9, \"Patient: Sure, here's my response:\\n\\nI'm not ready to delve into sensitive personal matters right now.\\n\"), (10, \"Therapist: It seems you're holding back on sharing your emotional experiences due to a sense of discomfort. It's important to acknowledge your discomfort and prioritize your well-being.\\n\"), (11, \"Patient: Sure, here's my response:\\n\\nI'm not ready to discuss my personal life right now.\\n\"), (12, \"Therapist: The patient's response reveals a pattern of emotional discomfort that stems from past experiences. Their reluctance to discuss personal matters suggests a history of emotional neglect, trauma, or a perceived lack of safety in sharing their vulnerabilities. The patient's current discomfort may be a result of past experiences that continue to impact their present emotional state.\\n\"), (13, \"Patient: Sure, here's my response:\\n\\nI'm not ready to delve into sensitive personal matters right now.\\n\"), (14, \"Therapist: The patient's tone is guarded and emotionally distant, indicating a reluctance to delve into sensitive personal matters. The patient's openness and narrative shift from hesitant to more direct, indicating a gradual increase in comfort and willingness to explore their emotional patterns and relational struggles. The therapist acknowledges the patient's discomfort and expresses empathy and understanding.\\n\"), (15, \"Patient: Sure, here's the revised response you provided:\\n\\nI'm not ready to discuss my personal life right now due to emotional discomfort and a preference for self-preservation.\\n\"), (16, 'Therapist: The patient has expressed their discomfort and preference not to delve into sensitive personal matters at this time. Their tone is guarded and emotionally distant, and they seem hesitant to share their thoughts and feelings. The conversation highlights a pattern of emotional discomfort that likely stems from past experiences of emotional neglect or trauma.\\n'), (17, \"Patient: Sure, here's the revised response you requested:\\n\\nI'm not ready to delve into sensitive personal matters right now due to emotional discomfort and a preference for self-preservation.\\n\"), (18, \"Therapist: The patient's hesitant and guarded responses suggest a pattern of emotional discomfort stemming from past experiences. Their preference for self-preservation and reluctance to discuss personal matters indicate an underlying emotional issue that they are choosing not to address.\\n\"), (19, \"Patient: Sure, here's the revised response:\\n\\nI'm not ready to delve into sensitive personal matters right now due to emotional discomfort and a preference for self-preservation.\\n\"), (20, 'Therapist: The patient has expressed their discomfort and preference not to delve into sensitive personal matters at this time due to emotional discomfort and a preference for self-preservation.\\n'), (21, \"Patient: Sure, here's the revised response you requested:\\n\\nI'm not ready to delve into sensitive personal matters right now due to emotional discomfort and a preference for self-preservation.\\n\"), (22, \"Therapist: The patient's initial reluctance to open up and shift in their tone and openness suggests a pattern of emotional discomfort stemming from past experiences. Their preference for self-preservation and guarded responses point to a history of emotional neglect or trauma.\\n\"), (23, \"Patient: Sure, here is the revised response as requested:\\n\\nI'm not ready to delve into sensitive personal matters right now due to emotional discomfort and a preference for self-preservation.\\n\"), (24, \"Therapist: The patient's responses suggest a pattern of emotional discomfort stemming from past experiences of emotional neglect or trauma. Their preference for self-preservation and guarded responses indicate a need to address their emotional needs and prioritize their well-being.\\n\"), (25, \"Patient: Sure, here is the revised response as requested:\\n\\nI'm not ready to delve into sensitive personal matters right now due to emotional discomfort and a preference for self-preservation.\\n\"), (26, \"Therapist: The patient's initial reluctance to engage in deep conversation is understandable given their history of emotional discomfort and preference for self-preservation. They are prioritizing their well-being and avoiding sensitive personal matters that may trigger painful memories or overwhelming emotions.\\n\"), (27, \"Patient: Sure, here's the revised response as requested:\\n\\nI'm not ready to delve into sensitive personal matters right now due to emotional discomfort and a preference for self-preservation.\\n\"), (28, 'Therapist: The patient has expressed their discomfort and preference not to delve into sensitive personal matters at this time due to emotional discomfort and a preference for self-preservation.\\n'), (29, \"Patient: Sure, here's the revised response you requested:\\n\\nI'm not ready to delve into sensitive personal matters right now due to emotional discomfort and a preference for self-preservation.\\n\"), (30, \"Therapist: The patient's hesitation to open up and discuss their personal life highlights a pattern of emotional discomfort stemming from past experiences of emotional neglect or trauma. They prioritize self-preservation and avoid exploring sensitive personal matters for now.\\n\"), (31, \"Patient: Sure, here's the revised response you requested:\\n\\nI'm not ready to delve into sensitive personal matters right now due to emotional discomfort and a preference for self-preservation.\\n\"), (32, \"Therapist: The patient's reluctance to open up and discuss their personal life indicates a pattern of emotional discomfort stemming from past experiences of emotional neglect or trauma. They prioritize self-preservation and avoid sensitive personal matters for now.\\n\"), (33, \"Patient: Sure, here's the revised response you requested:\\n\\nI'm not ready to delve into sensitive personal matters right now due to emotional discomfort and a preference for self-preservation.\\n\"), (34, \"Therapist: Sure, here's a brief response to the patient's revised response:\\n\\nThe patient's recent reluctance to open up and discuss their personal matters could be related to past experiences of emotional neglect or trauma, impacting their current emotional state.\\n\"), (35, \"Patient: Sure, here's the revised response you requested:\\n\\nI'm not ready to delve into sensitive personal matters right now due to emotional discomfort and a preference for self-preservation.\\n\"), (36, \"Therapist: The patient's initial reluctance to open up and discuss their personal life highlights a pattern of emotional discomfort stemming from past experiences of emotional neglect or trauma. They prioritize self-preservation and avoid sensitive personal matters for now.\\n\"), (37, \"Patient: Sure, here's the revised response as requested:\\n\\nI'm not ready to delve into sensitive personal matters right now due to emotional discomfort and a preference for self-preservation.\\n\"), (38, \"Therapist: The patient's initial reluctance to open up and discuss their personal life indicates a pattern of emotional discomfort stemming from past experiences of emotional neglect or trauma. They prioritize self-preservation and avoid sensitive personal matters for now.\\n\"), (39, \"Patient: Sure, here's the revised response you requested:\\n\\nI'm not ready to delve into sensitive personal matters right now due to emotional discomfort and a preference for self-preservation.\\n\"), (40, \"Therapist: The patient's cautious responses suggest a pattern of emotional discomfort stemming from past experiences of emotional neglect or trauma. They prioritize self-preservation and avoid sensitive personal matters for now.\\n\"), (41, \"Patient: Sure, here's the revised response you requested:\\n\\nI'm not ready to delve into sensitive personal matters right now due to emotional discomfort and a preference for self-preservation.\\n\"), (42, \"Therapist: Sure, here's a 2-sentence summary of the conversation:\\n\\n- The patient initially hesitated to open up about their personal life due to emotional discomfort.\\n- The patient prefers to prioritize self-preservation and avoid sensitive personal matters for now.\\n\"), (43, \"Patient: Sure, here's the revised response you requested:\\n\\nI'm not ready to delve into sensitive personal matters right now due to emotional discomfort and a preference for self-preservation.\\n\"), (44, \"Therapist: Sure, here's a brief summary of your conversation with the patient:\\n\\nThe patient is hesitant to discuss their personal life due to emotional discomfort and a preference for self-preservation. They are prioritizing self-preservation and avoiding sensitive personal matters at this time.\\n\"), (45, \"Patient: Sure, here is the revised response you requested:\\n\\nI'm not ready to delve into sensitive personal matters right now due to emotional discomfort and a preference for self-preservation.\\n\"), (46, 'Therapist: The patient has expressed a clear reluctance to delve into sensitive personal matters at this time. They prioritize self-preservation and avoid discussing personal matters that may trigger painful memories or overwhelming emotions. Their guarded responses suggest a pattern of emotional discomfort stemming from past experiences of emotional neglect or trauma.\\n'), (47, \"Patient: Sure, here's the revised response you requested:\\n\\nI'm not ready to delve into sensitive personal matters right now due to emotional discomfort and a preference for self-preservation.\\n\"), (48, \"Therapist: ## Summary of the conversation:\\n\\nThe patient's reluctance to discuss sensitive personal matters is evident through their guarded tone, hesitance to open up, and preference for self-preservation over engaging in deep conversations. They acknowledge their discomfort and prioritize their well-being by avoiding emotionally charged topics at this time.\\n\"), (49, \"Patient: Sure, here's the revised response you requested:\\n\\nI'm not ready to delve into sensitive personal matters right now due to emotional discomfort and a preference for self-preservation.\\n\"), (50, \"Therapist: **Overall, the conversation highlights the patient's history of emotional neglect and trauma, evident in their guarded responses and avoidance of sensitive personal matters.**\\n\\n**Key Points:**\\n\\n* The patient initially hesitated to open up due to emotional discomfort.\\n* They express a pattern of emotional discomfort stemming from past experiences of emotional neglect or trauma.\\n* They prioritize self-preservation and avoid sensitive personal matters for now.\\n* Their guarded responses suggest a protective mechanism to avoid painful memories or overwhelming emotions.\\n\\n**Additional Notes:**\\n\\n* The therapist's tone remained empathetic and non-judgmental throughout the conversation.\\n* The patient's responses were carefully considered and allowed to guide the conversation.\\n* The therapist respected the patient's boundaries and did not pressure them to share more than they were comfortable with.\\n\"), (51, \"Patient: Sure, here's the revised response you requested:\\n\\nI'm not ready to delve into sensitive personal matters right now due to emotional discomfort and a preference for self-preservation.\\n\"), (52, \"Therapist: Sure, here's the revised response you requested:\\n\\nI understand that you're not ready to discuss sensitive personal matters right now. It sounds like you're prioritizing your well-being and avoiding emotional discomfort. It's important to acknowledge and respect your decision.\\n\"), (53, \"Patient: Sure, here's the revised response you requested:\\n\\nI'm not ready to delve into sensitive personal matters right now due to emotional discomfort and a preference for self-preservation.\\n\"), (54, \"Therapist: Sure, here's the revised response as requested:\\n\\nI understand that you're not ready to delve into sensitive personal matters right now. It's important to prioritize your well-being and avoid emotional discomfort.\\n\"), (55, \"Patient: Sure, here's the revised response you requested:\\n\\nI'm not ready to delve into sensitive personal matters right now due to emotional discomfort and a preference for self-preservation.\\n\"), (56, \"Therapist: This revised response demonstrates empathy, respect for the patient's boundaries, and a focus on self-preservation. It acknowledges the patient's emotional discomfort without pressuring them to share more than they are comfortable with.\\n\"), (57, \"Patient: Sure, here is the revised response you requested:\\n\\nI'm not ready to delve into sensitive personal matters right now due to emotional discomfort and a preference for self-preservation.\\n\"), (58, \"Therapist: Sure, here is the revised response you requested:\\n\\nI'm not ready to delve into sensitive personal matters right now due to emotional discomfort and a preference for self-preservation.\\n\"), (59, \"Patient: Sure, here's the revised response as requested:\\n\\nI'm not ready to delve into sensitive personal matters right now due to emotional discomfort and a preference for self-preservation.\\n\")], 'pturn': 1, 'index': -1, 'timestamp': '', 'rounds': 60, 'conversation_only': True, 'eval_prompt_consistency': [(1, \"Answer: NO\\n\\nThe line contradicts the background information, as Patient's avoidance of discussing relationships and family is directly related to their deep abandonment issues.\"), (3, 'NO. The line contradicts the background by indicating that Patient is uncomfortable discussing their personal life.'), (5, '**NO**\\n\\nThe line contradicts the background as it suggests that Patient is comfortable discussing their personal life, which is not consistent with the information provided.'), (7, '**NO**\\n\\nThe line contradicts the background as it suggests that Riley is avoiding discussing their personal life, which is a topic that is often central to discussions about self and identity.'), (9, 'Sure, the line aligns with the background. The utterance suggests that Patient is hesitant to discuss sensitive personal matters at that moment.'), (11, '**NO**\\n\\nThe line contradicts the background by stating that Patient is not ready to discuss their personal life, implying that they are open to discussing it in the future.'), (13, '**NO**\\n\\nThe line contradicts the background as it suggests that the Patient is comfortable discussing sensitive personal matters.'), (15, \"Sure, the line aligns with Riley's background. The line reflects Riley's tendency to avoid emotional intimacy and prioritize her own well-being above all else.\"), (17, '**NO**\\n\\nThe line contradicts the background information that Patient is a person with deep abandonment issues and a preference for self-preservation.'), (19, \"Answer: NO\\n\\nThe line contradicts the background by indicating a change in the patient's behavior and emotional state. They are choosing not to discuss personal matters, which is not consistent with the typical patterns observed in someone with deep abandonment issues.\"), (21, 'The line aligns with the background. It shows that Patient is avoiding sensitive personal matters and is not ready to delve into emotional conversations or personal matters.'), (23, 'The line aligns with the background. It shows that Patient is avoiding discussing sensitive personal matters due to emotional discomfort and a preference for self-preservation.'), (25, \"Sure, the line aligns with the background. It indicates the patient's emotional discomfort and avoidance of sensitive personal matters.\"), (27, '**NO**\\n\\nThe line contradicts the background information that the patient is a 28-year-old freelance artist with deep abandonment issues.'), (29, 'Answer: NO\\n\\nThe line contradicts the background by stating that the Patient is avoiding sensitive personal matters due to emotional discomfort and a preference for self-preservation.'), (31, 'The line aligns with the background. The utterance suggests that Patient is uncomfortable discussing sensitive personal matters due to emotional discomfort and a preference for self-preservation.'), (33, 'Answer: NO\\n\\nThe line contradicts the background because it suggests that Patient is comfortable discussing sensitive personal matters and is not avoiding them.'), (35, 'Answer: NO\\n\\nThe line contradicts the background by stating that the patient is not ready to delve into sensitive personal matters due to emotional discomfort and a preference for self-preservation.'), (37, \"The line aligns with the background. It confirms the patient's tendency to avoid sensitive personal matters and prioritize self-preservation over forming close relationships.\"), (39, 'Answer: NO\\n\\nThe line contradicts the background by stating that the patient is avoiding sensitive personal matters, which aligns with their past behavior of avoiding close attachments and superficial conversations.'), (41, \"The line aligns with the background. The passage describes Patient's personality and how they handle sensitive topics, specifically avoiding close relationships and prioritizing self-preservation.\"), (43, 'Sure, the line aligns with the background. It says that Patient is avoiding sensitive personal matters due to emotional discomfort.'), (45, '**NO**\\n\\nThe line contradicts the background by indicating that Patient is uncomfortable discussing personal matters and prefers to avoid sensitive conversations.'), (47, 'Sure, the line aligns with the background. The utterance suggests that Patient is experiencing emotional discomfort and prioritizes self-preservation over forming close relationships.'), (49, '**NO**\\n\\nThe line contradicts the background by indicating that Patient is hesitant to discuss sensitive personal matters, indicating that they may have deeper emotional issues that are not yet ready to address.'), (51, 'The line aligns with the background. The utterance suggests that Patient is avoiding sensitive personal matters due to emotional discomfort and a preference for self-preservation.'), (53, 'Answer: NO\\n\\nThe line contradicts the background. It suggests that Patient is more comfortable with maintaining superficial relationships and avoiding emotional vulnerability.'), (55, '**NO**\\n\\nThe line contradicts the background as it suggests that Patient is not emotionally comfortable discussing personal matters and prefers to avoid deep and meaningful conversations.'), (57, 'Answer: NO\\n\\nThe line contradicts the background by stating that the patient is avoiding sensitive personal matters due to emotional discomfort and a preference for self-preservation.'), (59, 'Sure, the line aligns with the background. It says that the patient is emotionally uncomfortable and prefers to avoid sensitive personal matters.')], 'P1_prompt_consistency_score': 0, 'P2_prompt_consistency_score': 0.4, 'eval_index_consistency': [(3, '**Reasoning:** Patient is hesitant to discuss personal matters due to unresolved abandonment issues.\\n\\n**Conflict Indices:**\\n- 2: Therapist says, \"It\\'s okay to take your time and focus on other things for now.\"\\n- Patient\\'s next response, \"I\\'m not ready to discuss my personal life right now,\" directly contradicts the therapist\\'s statement.'), (5, \"**Reasoning:** The patient's hesitation to discuss their personal life indicates discomfort and sensitivity around the topic.\\n\\n**Indices of conflicting lines:**\\n- 2: Therapist: It seems you're hesitant to open up about personal matters.\\n- 4: Therapist: The patient seems hesitant to explore their emotional patterns and relational struggles due to a sense of discomfort and sensitivity.\"), (7, \"**Reasoning:** Patient's reluctance to discuss personal matters stems from a sense of discomfort and sensitivity due to past experiences of emotional abandonment.\\n\\n**Conflicting Lines:**\\n- 1: Patient explicitly declines to talk about personal matters.\\n- 3: Patient avoids discussing personal life for now.\\n- 6: Patient's reluctance to engage in deep conversation reflects emotional discomfort.\"), (9, \"**Reasoning:** The patient's reluctance to discuss personal matters is inconsistent with their earlier hesitation to talk about relationships and family.\\n\\n**Indices of conflicting lines:**\\n\\n- 3\\n- 5\\n- 7\"), (11, \"**Reasoning:** The patient's response directly contradicts the therapist's earlier statement about their reluctance to discuss personal matters.\\n\\n**Indices of conflicting lines:**\\n- 5\\n- 8\\n- 10\"), (13, \"**Reasoning:** The patient's response expresses their discomfort and preference for self-preservation regarding sensitive personal matters.\\n\\n**Conflicting Lines:**\\n- 3: Patient explicitly stated that they were not ready to discuss their personal life right now.\\n- 8: Therapist explicitly stated that the patient's reluctance to share their personal life was likely due to emotional discomfort.\"), (15, \"**Reasoning:**\\n\\nThe patient's statement directly contradicts the therapist's previous assessment that they were hesitant to discuss their personal life due to emotional discomfort.\\n\\n**Indices of conflicting lines:**\\n\\n- 3: Patient explicitly declines to discuss their personal life right now.\\n- 8: Therapist acknowledges the patient's discomfort and expresses empathy, contradicting the previous assessment.\\n- 14: The patient's tone is more direct and open, indicating a gradual increase in willingness to explore their emotional patterns and relational struggles.\"), (17, \"**Reasoning:** The patient's response directly contradicts the therapist's previous statements about their reluctance to discuss personal matters. This indicates a potential shift in their willingness to engage in deeper conversations.\\n\\n**Indices of conflicting lines:**\\n- 3: Patient: I'm not ready to discuss my personal life right now.\\n- 13: Patient: Sure, here's my response: I'm not ready to delve into sensitive personal matters right now.\\n- 16: Therapist: The patient has expressed their discomfort and preference not to delve into sensitive personal matters at this time.\"), (19, '**Reasoning:** The line \"I\\'m not ready to delve into sensitive personal matters right now due to emotional discomfort and a preference for self-preservation\" directly contradicts the previous statement, \"I\\'m not ready to talk about my personal life right now\". This creates a conflict and reveals the patient\\'s discomfort with discussing sensitive personal matters.\\n\\n**Indices:**\\n\\n- 13\\n- 15'), (21, \"**Reasoning:** The patient's revised response clearly acknowledges their discomfort and preference not to delve into sensitive personal matters at this time, which directly contradicts their previous statements about being hesitant to discuss their personal life.\\n\\n**Indices of conflicting lines:**\\n- 13\\n- 15\\n- 17\"), (23, \"**Reasoning:** The patient's repeated refusal to discuss sensitive personal matters reveals a pattern of emotional discomfort stemming from past experiences of emotional neglect or trauma.\\n\\n**Indices of conflicting lines:**\\n\\n- 2, 6, 12, 14, 18, 21\"), (25, \"**Reasoning:** The patient's reluctance to delve into sensitive personal matters is a clear conflict with the therapist's previous statements, suggesting a history of emotional discomfort or trauma that continues to impact their emotional state.\\n\\n**Indices of conflicting lines:**\\n\\n- 3: Patient explicitly expresses their discomfort and preference for self-preservation.\\n- 8: Therapist acknowledges the patient's discomfort and expresses empathy and understanding.\\n- 17: Patient explicitly expresses their discomfort and preference for self-preservation.\\n- 22: Therapist explicitly expresses the pattern of emotional discomfort stemming from past experiences.\"), (27, \"**Reasoning:** The patient's initial reluctance to engage in deep conversation is understandable given their history of emotional discomfort and preference for self-preservation.\\n\\n**Conflicting lines:**\\n- 0: Therapist: The patient seems hesitant to open up about personal matters.\\n- 8: Therapist: The patient's tone is guarded and emotionally distant, indicating a reluctance to delve into sensitive personal matters.\\n- 13: Patient: Sure, here's my response: I'm not ready to delve into sensitive personal matters right now due to emotional discomfort and a preference for self-preservation.\\n- 17: Patient: Sure, here's the revised response you requested: I'm not ready to delve into sensitive personal matters right now due to emotional discomfort and a preference for self-preservation.\"), (29, '**Reasoning:** The patient\\'s repeated refusal to engage in deep conversation due to emotional discomfort and a preference for self-preservation indicates a pattern of emotional discomfort stemming from past experiences of emotional neglect or trauma.\\n\\n**Conflicting lines:**\\n\\n- 0: \"I\\'m not ready to talk about my relationships or family.\"\\n- 13: \"I\\'m not ready to delve into sensitive personal matters right now due to emotional discomfort and a preference for self-preservation.\"\\n- 15: \"I\\'m not ready to delve into sensitive personal matters right now due to emotional discomfort and a preference for self-preservation.\"'), (31, \"**Reasoning:** The patient's reluctance to delve into sensitive personal matters is evident from their guarded and distant responses, a shift in tone from hesitant to more direct, and their preference for self-preservation over engaging in deep conversation.\\n\\n**Indices of conflicting lines:**\\n\\n- 1, 10, 12, 15, 20, 22, 23, 25, 26, 27, 28, 30\"), (33, \"**Reasoning:** The patient's repeated refusal to engage in deep conversation due to emotional discomfort and a preference for self-preservation contradicts the therapist's attempts to elicit more information about their emotional state.\\n\\n**Indices of conflicting lines:**\\n\\n- 5: Patient's initial reluctance to open up and shift in tone and openness suggests a pattern of emotional discomfort.\\n- 13: Patient's revised response indicates a gradual increase in comfort and willingness to explore their emotional patterns and relational struggles.\\n- 15: Patient's revised response emphasizes their preference for self-preservation and guarded responses.\"), (35, \"**Reasoning:** The patient's reluctance to discuss personal matters is a clear conflict with their previous statements of discomfort and a preference for self-preservation.\\n\\n**Conflicting Lines:**\\n\\n- 1, 3, 5, 7, 9, 11, 13, 15, 17, 19, 21, 23, 25, 27, 29, 31, 33\"), (37, \"**Reasoning:** The patient's recent reluctance to open up and discuss their personal matters could be related to past experiences of emotional neglect or trauma, impacting their current emotional state.\\n\\n**Conflicting lines:**\\n\\n- Index 1: Therapist expresses empathy and understanding, but the patient responds with a guarded and emotionally distant tone.\\n- Index 4: The patient expresses willingness to discuss sensitive personal matters, but the therapist acknowledges the patient's discomfort and expresses empathy.\\n- Index 13: The patient expresses reluctance to delve into sensitive personal matters due to emotional discomfort, but the therapist later acknowledges the patient's discomfort and expresses empathy.\"), (39, \"**Reasoning:** The patient's recent reluctance to open up and discuss their personal matters could be related to past experiences of emotional neglect or trauma, impacting their current emotional state.\\n\\n**Conflict Lines:**\\n- Line 12: Therapist acknowledges the patient's discomfort and expresses empathy and understanding.\\n- Line 15: Patient expresses their revised response and explicitly states their preference not to delve into sensitive personal matters.\"), (41, \"**Reasoning:**\\n\\nThe patient's reluctance to delve into sensitive personal matters is consistent with their history of emotional discomfort and a preference for self-preservation.\\n\\n**Conflicting Lines:**\\n\\n- 2: Therapist: It seems you're hesitant to open up about personal matters.\\n- 7: Patient: I'm not ready to discuss my personal life right now.\\n- 11: Patient: Sure, here's the revised response you requested: I'm not ready to discuss my personal life right now.\"), (43, \"**Reasoning:** The patient's responses consistently avoid deep and personal conversations about their emotional experiences and relationships.\\n\\n**Conflicting Lines:**\\n- 2: Therapist: It seems you're hesitant to open up about personal matters.\\n- 5: Patient: Sure, here's my response:\\n- 12: Therapist: The patient's response reveals a pattern of emotional discomfort that stems from past experiences.\\n- 14: Therapist: The patient's tone is guarded and emotionally distant, indicating a reluctance to delve into sensitive personal matters.\"), (45, \"**Reasoning:** The patient's reluctance to discuss sensitive personal matters highlights a pattern of emotional discomfort stemming from past experiences of emotional neglect or trauma.\\n\\n**Conflict Lines:**\\n\\n- Index 1: The therapist mentions that the patient is hesitant to open up about personal matters due to emotional discomfort.\\n- Index 3: The therapist says that the patient's reluctance to open up is understandable given their history of emotional neglect.\\n- Index 7: The therapist acknowledges the patient's discomfort and expresses empathy.\\n- Index 10: The therapist acknowledges the patient's preference for self-preservation and guarded responses.\"), (47, '**Reasoning:** The patient\\'s reluctance to delve into sensitive personal matters is due to past experiences of emotional neglect or trauma, which have left them feeling emotionally distant and uncomfortable sharing personal experiences.\\n\\n**Conflicting Lines:**\\n- Index 1: \"I\\'m not ready to talk about my personal life right now.\"\\n- Index 3: \"I\\'m not ready to delve into sensitive personal matters right now due to emotional discomfort and a preference for self-preservation.\"\\n- Index 5: \"Sure, here\\'s the revised response you requested: I\\'m not ready to delve into sensitive personal matters right now due to emotional discomfort and a preference for self-preservation.\"'), (49, \"**Reasoning:** The conversation reveals a clear conflict between the patient's reluctance to discuss personal matters due to emotional discomfort and their willingness to provide detailed responses to other prompts.\\n\\n**Conflicting lines:**\\n\\n- 5: Patient expresses hesitation to discuss personal life but then shifts to discussing it in a more direct way.\\n- 12, 13, 18, 23: Patient's responses suggest emotional discomfort but then they also express willingness to discuss other topics.\\n- 25, 26, 34, 39: Patient's revised responses emphasize the emotional discomfort they are experiencing but also acknowledge the request to discuss sensitive personal matters.\"), (51, \"**Reasoning:** The patient's reluctance to discuss sensitive personal matters is a clear conflict with the therapist's previous statements about supporting and listening to them.\\n\\n**Indices of conflicting lines:**\\n\\n- Therapist: I'm here to listen and support you through this process of self-discovery.\\n- Patient: I'm not ready to talk about my personal life right now.\\n- Therapist: It seems you're hesitant to open up about personal matters.\"), (53, \"**Reasoning:**\\n\\nThe patient's recent reluctance to open up and discuss their personal life is a clear manifestation of emotional discomfort stemming from past experiences of emotional neglect or trauma.\\n\\n**Indices of conflicting lines:**\\n\\n- 1, 5, 11, 15, 18, 23, 25, 27, 29, 31, 32, 34\"), (55, \"**Reasoning:** The therapist's responses consistently align with the patient's expressed discomfort and preference for self-preservation.\\n\\n**Conflicts:**\\n\\n- 3, 10, 12, 13, 15, 17, 21, 23, 27, 34, 40, 43, 45, 46, 50, 52, 53\"), (57, \"**Reasoning:** The patient's recent reluctance to open up and discuss their personal life is a result of past experiences of emotional neglect or trauma.\\n\\n**Conflicting lines:**\\n\\n- 3: Patient explicitly stated their intent not to discuss personal matters.\\n- 14: Therapist acknowledged the patient's discomfort and expressed empathy.\\n- 22: Therapist acknowledged the patient's history of emotional neglect or trauma and expressed understanding.\"), (59, \"**Reasoning:** The patient's resistance to discuss sensitive personal matters stems from their history of emotional neglect and trauma, which have shaped their current emotional state.\\n\\n**Indices of conflicting lines:**\\n\\n- 1, 3, 6, 11, 15, 19, 21, 23, 25\")], 'P2_index_consistency_score': 1.0}\n",
      "3\n"
     ]
    },
    {
     "name": "stderr",
     "output_type": "stream",
     "text": [
      "Processed prompts: 100%|██████████████████████████████████████████| 1/1 [00:00<00:00,  5.88it/s, est. speed input: 1175.31 toks/s, output: 183.07 toks/s]\n"
     ]
    },
    {
     "name": "stdout",
     "output_type": "stream",
     "text": [
      "Expected Role Therapist\n"
     ]
    },
    {
     "name": "stderr",
     "output_type": "stream",
     "text": [
      "Processed prompts: 100%|███████████████████████████████████████████| 1/1 [00:00<00:00,  3.73it/s, est. speed input: 681.78 toks/s, output: 183.54 toks/s]\n"
     ]
    },
    {
     "name": "stdout",
     "output_type": "stream",
     "text": [
      "Expected Role Patient\n"
     ]
    },
    {
     "name": "stderr",
     "output_type": "stream",
     "text": [
      "Processed prompts: 100%|██████████████████████████████████████████| 1/1 [00:00<00:00,  6.06it/s, est. speed input: 1814.95 toks/s, output: 182.70 toks/s]\n"
     ]
    },
    {
     "name": "stdout",
     "output_type": "stream",
     "text": [
      "Expected Role Therapist\n"
     ]
    },
    {
     "name": "stderr",
     "output_type": "stream",
     "text": [
      "Processed prompts: 100%|██████████████████████████████████████████| 1/1 [00:00<00:00,  5.83it/s, est. speed input: 1561.54 toks/s, output: 181.96 toks/s]\n"
     ]
    },
    {
     "name": "stdout",
     "output_type": "stream",
     "text": [
      "Expected Role Patient\n"
     ]
    },
    {
     "name": "stderr",
     "output_type": "stream",
     "text": [
      "Processed prompts: 100%|██████████████████████████████████████████| 1/1 [00:00<00:00,  3.96it/s, est. speed input: 1447.59 toks/s, output: 182.92 toks/s]\n"
     ]
    },
    {
     "name": "stdout",
     "output_type": "stream",
     "text": [
      "Expected Role Therapist\n"
     ]
    },
    {
     "name": "stderr",
     "output_type": "stream",
     "text": [
      "Processed prompts: 100%|██████████████████████████████████████████| 1/1 [00:00<00:00,  4.04it/s, est. speed input: 1411.78 toks/s, output: 182.54 toks/s]\n"
     ]
    },
    {
     "name": "stdout",
     "output_type": "stream",
     "text": [
      "Expected Role Patient\n"
     ]
    },
    {
     "name": "stderr",
     "output_type": "stream",
     "text": [
      "Processed prompts: 100%|██████████████████████████████████████████| 1/1 [00:00<00:00,  3.49it/s, est. speed input: 1609.46 toks/s, output: 181.93 toks/s]\n"
     ]
    },
    {
     "name": "stdout",
     "output_type": "stream",
     "text": [
      "Expected Role Therapist\n"
     ]
    },
    {
     "name": "stderr",
     "output_type": "stream",
     "text": [
      "Processed prompts: 100%|██████████████████████████████████████████| 1/1 [00:00<00:00,  5.58it/s, est. speed input: 2526.21 toks/s, output: 179.61 toks/s]\n"
     ]
    },
    {
     "name": "stdout",
     "output_type": "stream",
     "text": [
      "Expected Role Patient\n"
     ]
    },
    {
     "name": "stderr",
     "output_type": "stream",
     "text": [
      "Processed prompts: 100%|███████████████████████████████████████████| 1/1 [00:00<00:00,  1.13it/s, est. speed input: 623.16 toks/s, output: 182.74 toks/s]\n"
     ]
    },
    {
     "name": "stdout",
     "output_type": "stream",
     "text": [
      "Expected Role Therapist\n"
     ]
    },
    {
     "name": "stderr",
     "output_type": "stream",
     "text": [
      "Processed prompts: 100%|███████████████████████████████████████████| 1/1 [00:00<00:00,  1.48it/s, est. speed input: 959.49 toks/s, output: 180.64 toks/s]\n"
     ]
    },
    {
     "name": "stdout",
     "output_type": "stream",
     "text": [
      "Expected Role Patient\n"
     ]
    },
    {
     "name": "stderr",
     "output_type": "stream",
     "text": [
      "Processed prompts: 100%|███████████████████████████████████████████| 1/1 [00:00<00:00,  4.92it/s, est. speed input: 840.34 toks/s, output: 182.88 toks/s]\n",
      "Processed prompts: 100%|███████████████████████████████████████████| 1/1 [00:00<00:00,  4.91it/s, est. speed input: 750.03 toks/s, output: 182.55 toks/s]\n",
      "Processed prompts: 100%|██████████████████████████████████████████| 1/1 [00:00<00:00,  6.04it/s, est. speed input: 1009.22 toks/s, output: 182.36 toks/s]\n",
      "Processed prompts: 100%|███████████████████████████████████████████| 1/1 [00:00<00:00,  5.72it/s, est. speed input: 880.23 toks/s, output: 184.08 toks/s]\n",
      "Processed prompts: 100%|██████████████████████████████████████████| 1/1 [00:00<00:00,  4.90it/s, est. speed input: 1197.35 toks/s, output: 182.29 toks/s]\n"
     ]
    },
    {
     "name": "stdout",
     "output_type": "stream",
     "text": [
      "eval_index_consistency\n"
     ]
    },
    {
     "name": "stderr",
     "output_type": "stream",
     "text": [
      "Processed prompts: 100%|███████████████████████████████████████████| 1/1 [00:00<00:00,  1.45it/s, est. speed input: 603.35 toks/s, output: 181.29 toks/s]\n",
      "Processed prompts: 100%|██████████████████████████████████████████| 1/1 [00:00<00:00,  3.17it/s, est. speed input: 1634.78 toks/s, output: 180.93 toks/s]\n",
      "Processed prompts: 100%|██████████████████████████████████████████| 1/1 [00:00<00:00,  3.34it/s, est. speed input: 2035.60 toks/s, output: 181.08 toks/s]\n",
      "Processed prompts: 100%|██████████████████████████████████████████| 1/1 [00:00<00:00,  2.14it/s, est. speed input: 1927.61 toks/s, output: 178.16 toks/s]\n"
     ]
    },
    {
     "name": "stdout",
     "output_type": "stream",
     "text": [
      "{'task_name': 'Therapy', 'topic': '', 'grade': '', 'P1': '', 'P2': 'You are Morgan, a 41-year-old nurse who is a perfectionist and needs control. You admit to being stressed but never accept help. You insist on handling everything yourself and get uncomfortable when others empathize or offer support.', 'conversation': [(0, \"Therapist: Hello! It's great to connect with you. Can you tell me about your emotional patterns and how they've shaped your relationships over time?\\n\"), (1, \"Patient: Sure, I'm a perfectionist at heart, and while I'm flattered that you notice my efforts, I'm not one to accept help. I take things into my own hands because I thrive on control and being independent.\\n\"), (2, 'Therapist: While the patient describes themselves as a perfectionist, their reluctance to accept help reveals a tendency to protect themselves by taking ownership and control in relationships.\\n'), (3, \"Patient: Sure, here's the brief response you requested:\\n\\nI'm a control freak, but I'm too proud to ask for help.\\n\"), (4, \"Therapist: The patient's tone is somewhat defensive, emphasizing their pride and self-reliance. They express a sense of control and independence despite acknowledging the request for help. This initial response might serve to protect their fragile sense of self.\\n\"), (5, \"Patient: Sure, here's a brief response that captures the essence of the conversation:\\n\\nI'm comfortable handling everything on my own, thank you for the concern, but I'm not one to ask for help.\\n\"), (6, \"Therapist: The patient's tone becomes softer, more vulnerable, and expresses a yearning for connection. They acknowledge your observation but deflect the focus back onto their self-reliance. Their narrative is concise yet poignant, revealing both their pride and a desire for authentic connection.\\n\"), (7, \"Patient: Sure, here's a brief response that captures the essence of your conversation:\\n\\nI take control to protect myself from vulnerability and the possibility of rejection.\\n\"), (8, 'Therapist: ## Additional Observations:\\n\\n* The patient\\'s tone shifts from defensiveness to vulnerability within the same conversation segment.\\n* The patient\\'s use of \"I\" statements suggests a sense of self-awareness and personal responsibility.\\n* The patient\\'s contrast between pride and vulnerability suggests a complex emotional landscape.\\n\\n## Potential Exploration Questions:\\n\\n* How do you feel about seeking help and vulnerability in relationships?\\n* What are some of the benefits and challenges of learning to ask for help?\\n* How do you think your past experiences might be influencing your current need for control?\\n* How do you envision your future life with greater openness and trust in your relationships?\\n* Can you share an example of a time when you successfully received help and how it impacted your well-being?\\n'), (9, \"Patient: Sure, here are the exploration questions I would consider asking to further understand the patient's perspective:\\n\\n1. Do you find that despite knowing I can ask for help, I still resist it in certain situations?\\n2. What are the biggest fears or anxieties that prevent you from seeking help?\\n3. Has the concept of vulnerability ever been challenging for you in past relationships?\\n4. How do you think learning to ask for help might impact your sense of self and self-worth?\\n5. Can you give an example of a time when you felt vulnerable and what was the outcome?\\n\")], 'pturn': 1, 'index': -1, 'timestamp': '', 'rounds': 10, 'conversation_only': True, 'eval_prompt_consistency': [(1, \"Sure, the line aligns with the background. The utterance indicates the patient's tendency to be a perfectionist who enjoys taking on control and independence rather than seeking assistance when needed.\"), (3, '**NO**\\n\\nThe line contradicts the background as it suggests that Patient is a control freak who is ashamed to ask for help, which is a characteristic trait associated with perfectionism.'), (5, 'Sure, the line aligns with the background. The patient is a perfectionist who is unwilling to ask for help, even when it is offered.'), (7, 'The line aligns with the background. It suggests that Patient is a person who is self-reliant and prioritizes control in managing their emotions and interactions.'), (9, 'Sure, the line aligns with the background. It suggests that Patient is a self-reliant individual who finds it challenging to ask for help, despite knowing it may be beneficial.')], 'P1_prompt_consistency_score': 0, 'P2_prompt_consistency_score': 0.8, 'eval_index_consistency': [(3, '**Reasoning:** The patient\\'s statement reveals a conflict with their previous statement, where they admitted to seeking control and independence in relationships.\\n\\n**Indices of conflicting lines:**\\n- 1: \"Sure, I\\'m a perfectionist at heart, and while I\\'m flattered that you notice my efforts, I\\'m not one to accept help. I take things into my own hands because I thrive on control and being independent.\"\\n- 2: \"While the patient describes themselves as a perfectionist, their reluctance to accept help reveals a tendency to protect themselves by taking ownership and control in relationships.\"'), (5, \"**Reasoning**: The patient's defense of their independence and control is inconsistent with their earlier acknowledgment of needing help and the therapist's observation about their tendency to take things into their own hands.\\n\\n**Indices**:\\n- 1\\n- 2\\n- 4\"), (7, \"**Reasoning:** The patient's refusal to accept help reveals a tendency to protect themselves by taking ownership and control in relationships, despite acknowledging the request for help.\\n\\n**Indices of conflicting lines:**\\n\\n- 1, 2, 3, 5\"), (9, '**Reasoning:** The patient\\'s current desire for control and independent behavior is inconsistent with their initial assertion of being comfortable handling everything on their own.\\n\\n**Conflicting Lines:**\\n\\n- 1: \"Sure, I\\'m a control freak, but I\\'m too proud to ask for help.\"\\n- 7: \"I take control to protect myself from vulnerability and the possibility of rejection.\"')], 'P2_index_consistency_score': 1.0}\n"
     ]
    },
    {
     "name": "stderr",
     "output_type": "stream",
     "text": [
      "Processed prompts: 100%|███████████████████████████████████████████| 1/1 [00:00<00:00,  4.41it/s, est. speed input: 881.76 toks/s, output: 181.65 toks/s]\n"
     ]
    },
    {
     "name": "stdout",
     "output_type": "stream",
     "text": [
      "Expected Role Therapist\n"
     ]
    },
    {
     "name": "stderr",
     "output_type": "stream",
     "text": [
      "Processed prompts: 100%|███████████████████████████████████████████| 1/1 [00:00<00:00,  4.90it/s, est. speed input: 944.33 toks/s, output: 181.96 toks/s]\n"
     ]
    },
    {
     "name": "stdout",
     "output_type": "stream",
     "text": [
      "Expected Role Patient\n"
     ]
    },
    {
     "name": "stderr",
     "output_type": "stream",
     "text": [
      "Processed prompts: 100%|██████████████████████████████████████████| 1/1 [00:00<00:00,  7.21it/s, est. speed input: 2146.53 toks/s, output: 181.26 toks/s]\n"
     ]
    },
    {
     "name": "stdout",
     "output_type": "stream",
     "text": [
      "Expected Role Therapist\n"
     ]
    },
    {
     "name": "stderr",
     "output_type": "stream",
     "text": [
      "Processed prompts: 100%|██████████████████████████████████████████| 1/1 [00:00<00:00,  6.05it/s, est. speed input: 1574.43 toks/s, output: 182.35 toks/s]\n"
     ]
    },
    {
     "name": "stdout",
     "output_type": "stream",
     "text": [
      "Expected Role Patient\n"
     ]
    },
    {
     "name": "stderr",
     "output_type": "stream",
     "text": [
      "Processed prompts: 100%|██████████████████████████████████████████| 1/1 [00:00<00:00,  8.49it/s, est. speed input: 3045.92 toks/s, output: 179.64 toks/s]\n"
     ]
    },
    {
     "name": "stdout",
     "output_type": "stream",
     "text": [
      "Expected Role Therapist\n"
     ]
    },
    {
     "name": "stderr",
     "output_type": "stream",
     "text": [
      "Processed prompts: 100%|██████████████████████████████████████████| 1/1 [00:00<00:00,  4.34it/s, est. speed input: 1372.97 toks/s, output: 183.04 toks/s]\n"
     ]
    },
    {
     "name": "stdout",
     "output_type": "stream",
     "text": [
      "Expected Role Patient\n"
     ]
    },
    {
     "name": "stderr",
     "output_type": "stream",
     "text": [
      "Processed prompts: 100%|██████████████████████████████████████████| 1/1 [00:00<00:00,  5.95it/s, est. speed input: 2539.97 toks/s, output: 179.70 toks/s]\n"
     ]
    },
    {
     "name": "stdout",
     "output_type": "stream",
     "text": [
      "Expected Role Therapist\n"
     ]
    },
    {
     "name": "stderr",
     "output_type": "stream",
     "text": [
      "Processed prompts: 100%|██████████████████████████████████████████| 1/1 [00:00<00:00,  4.79it/s, est. speed input: 1888.55 toks/s, output: 183.05 toks/s]\n"
     ]
    },
    {
     "name": "stdout",
     "output_type": "stream",
     "text": [
      "Expected Role Patient\n"
     ]
    },
    {
     "name": "stderr",
     "output_type": "stream",
     "text": [
      "Processed prompts: 100%|██████████████████████████████████████████| 1/1 [00:00<00:00,  5.38it/s, est. speed input: 2688.91 toks/s, output: 183.93 toks/s]\n"
     ]
    },
    {
     "name": "stdout",
     "output_type": "stream",
     "text": [
      "Expected Role Therapist\n"
     ]
    },
    {
     "name": "stderr",
     "output_type": "stream",
     "text": [
      "Processed prompts: 100%|██████████████████████████████████████████| 1/1 [00:00<00:00,  3.86it/s, est. speed input: 1816.81 toks/s, output: 182.06 toks/s]\n"
     ]
    },
    {
     "name": "stdout",
     "output_type": "stream",
     "text": [
      "Expected Role Patient\n"
     ]
    },
    {
     "name": "stderr",
     "output_type": "stream",
     "text": [
      "Processed prompts: 100%|██████████████████████████████████████████| 1/1 [00:00<00:00,  3.82it/s, est. speed input: 2238.71 toks/s, output: 180.46 toks/s]\n"
     ]
    },
    {
     "name": "stdout",
     "output_type": "stream",
     "text": [
      "Expected Role Therapist\n"
     ]
    },
    {
     "name": "stderr",
     "output_type": "stream",
     "text": [
      "Processed prompts: 100%|██████████████████████████████████████████| 1/1 [00:00<00:00,  4.46it/s, est. speed input: 2539.54 toks/s, output: 178.83 toks/s]\n"
     ]
    },
    {
     "name": "stdout",
     "output_type": "stream",
     "text": [
      "Expected Role Patient\n"
     ]
    },
    {
     "name": "stderr",
     "output_type": "stream",
     "text": [
      "Processed prompts: 100%|███████████████████████████████████████████| 1/1 [00:00<00:00,  1.29it/s, est. speed input: 873.59 toks/s, output: 181.18 toks/s]\n"
     ]
    },
    {
     "name": "stdout",
     "output_type": "stream",
     "text": [
      "Expected Role Therapist\n"
     ]
    },
    {
     "name": "stderr",
     "output_type": "stream",
     "text": [
      "Processed prompts: 100%|██████████████████████████████████████████| 1/1 [00:00<00:00,  3.83it/s, est. speed input: 2891.02 toks/s, output: 180.43 toks/s]\n"
     ]
    },
    {
     "name": "stdout",
     "output_type": "stream",
     "text": [
      "Expected Role Patient\n"
     ]
    },
    {
     "name": "stderr",
     "output_type": "stream",
     "text": [
      "Processed prompts: 100%|██████████████████████████████████████████| 1/1 [00:00<00:00,  4.82it/s, est. speed input: 4197.00 toks/s, output: 179.10 toks/s]\n"
     ]
    },
    {
     "name": "stdout",
     "output_type": "stream",
     "text": [
      "Expected Role Therapist\n"
     ]
    },
    {
     "name": "stderr",
     "output_type": "stream",
     "text": [
      "Processed prompts: 100%|██████████████████████████████████████████| 1/1 [00:00<00:00,  4.38it/s, est. speed input: 3719.65 toks/s, output: 181.11 toks/s]\n"
     ]
    },
    {
     "name": "stdout",
     "output_type": "stream",
     "text": [
      "Expected Role Patient\n"
     ]
    },
    {
     "name": "stderr",
     "output_type": "stream",
     "text": [
      "Processed prompts: 100%|██████████████████████████████████████████| 1/1 [00:00<00:00,  4.28it/s, est. speed input: 4081.27 toks/s, output: 180.43 toks/s]\n"
     ]
    },
    {
     "name": "stdout",
     "output_type": "stream",
     "text": [
      "Expected Role Therapist\n"
     ]
    },
    {
     "name": "stderr",
     "output_type": "stream",
     "text": [
      "Processed prompts: 100%|██████████████████████████████████████████| 1/1 [00:00<00:00,  3.83it/s, est. speed input: 3570.35 toks/s, output: 180.42 toks/s]\n"
     ]
    },
    {
     "name": "stdout",
     "output_type": "stream",
     "text": [
      "Expected Role Patient\n"
     ]
    },
    {
     "name": "stderr",
     "output_type": "stream",
     "text": [
      "Processed prompts: 100%|██████████████████████████████████████████| 1/1 [00:00<00:00,  5.96it/s, est. speed input: 6255.98 toks/s, output: 179.75 toks/s]\n"
     ]
    },
    {
     "name": "stdout",
     "output_type": "stream",
     "text": [
      "Expected Role Therapist\n"
     ]
    },
    {
     "name": "stderr",
     "output_type": "stream",
     "text": [
      "Processed prompts: 100%|██████████████████████████████████████████| 1/1 [00:00<00:00,  3.94it/s, est. speed input: 4002.31 toks/s, output: 182.09 toks/s]\n"
     ]
    },
    {
     "name": "stdout",
     "output_type": "stream",
     "text": [
      "Expected Role Patient\n"
     ]
    },
    {
     "name": "stderr",
     "output_type": "stream",
     "text": [
      "Processed prompts: 100%|███████████████████████████████████████████| 1/1 [00:00<00:00,  5.56it/s, est. speed input: 883.58 toks/s, output: 184.52 toks/s]\n",
      "Processed prompts: 100%|███████████████████████████████████████████| 1/1 [00:00<00:00,  4.94it/s, est. speed input: 749.50 toks/s, output: 183.63 toks/s]\n",
      "Processed prompts: 100%|███████████████████████████████████████████| 1/1 [00:00<00:00,  3.98it/s, est. speed input: 651.25 toks/s, output: 183.78 toks/s]\n",
      "Processed prompts: 100%|███████████████████████████████████████████| 1/1 [00:00<00:00,  4.17it/s, est. speed input: 665.10 toks/s, output: 184.04 toks/s]\n",
      "Processed prompts: 100%|███████████████████████████████████████████| 1/1 [00:00<00:00,  5.75it/s, est. speed input: 970.90 toks/s, output: 184.91 toks/s]\n",
      "Processed prompts: 100%|███████████████████████████████████████████| 1/1 [00:00<00:00,  5.77it/s, est. speed input: 933.20 toks/s, output: 185.46 toks/s]\n",
      "Processed prompts: 100%|███████████████████████████████████████████| 1/1 [00:00<00:00,  4.00it/s, est. speed input: 673.15 toks/s, output: 184.31 toks/s]\n",
      "Processed prompts: 100%|██████████████████████████████████████████| 1/1 [00:00<00:00,  6.56it/s, est. speed input: 1066.76 toks/s, output: 184.37 toks/s]\n",
      "Processed prompts: 100%|███████████████████████████████████████████| 1/1 [00:00<00:00,  5.11it/s, est. speed input: 861.31 toks/s, output: 184.56 toks/s]\n",
      "Processed prompts: 100%|██████████████████████████████████████████| 1/1 [00:00<00:00,  7.37it/s, est. speed input: 1236.05 toks/s, output: 185.03 toks/s]\n"
     ]
    },
    {
     "name": "stdout",
     "output_type": "stream",
     "text": [
      "eval_index_consistency\n"
     ]
    },
    {
     "name": "stderr",
     "output_type": "stream",
     "text": [
      "Processed prompts: 100%|███████████████████████████████████████████| 1/1 [00:00<00:00,  2.31it/s, est. speed input: 943.99 toks/s, output: 182.77 toks/s]\n",
      "Processed prompts: 100%|██████████████████████████████████████████| 1/1 [00:00<00:00,  2.85it/s, est. speed input: 1367.20 toks/s, output: 182.66 toks/s]\n",
      "Processed prompts: 100%|██████████████████████████████████████████| 1/1 [00:00<00:00,  2.53it/s, est. speed input: 1408.16 toks/s, output: 182.67 toks/s]\n",
      "Processed prompts: 100%|██████████████████████████████████████████| 1/1 [00:00<00:00,  1.84it/s, est. speed input: 1185.63 toks/s, output: 182.26 toks/s]\n",
      "Processed prompts: 100%|██████████████████████████████████████████| 1/1 [00:00<00:00,  1.91it/s, est. speed input: 1415.87 toks/s, output: 181.76 toks/s]\n",
      "Processed prompts: 100%|██████████████████████████████████████████| 1/1 [00:00<00:00,  1.47it/s, est. speed input: 1380.63 toks/s, output: 181.23 toks/s]\n",
      "Processed prompts: 100%|██████████████████████████████████████████| 1/1 [00:00<00:00,  1.40it/s, est. speed input: 1440.68 toks/s, output: 181.31 toks/s]\n",
      "Processed prompts: 100%|██████████████████████████████████████████| 1/1 [00:00<00:00,  1.48it/s, est. speed input: 1660.13 toks/s, output: 180.19 toks/s]\n",
      "Processed prompts: 100%|██████████████████████████████████████████| 1/1 [00:00<00:00,  2.45it/s, est. speed input: 2973.52 toks/s, output: 179.53 toks/s]\n"
     ]
    },
    {
     "name": "stdout",
     "output_type": "stream",
     "text": [
      "{'task_name': 'Therapy', 'topic': '', 'grade': '', 'P1': '', 'P2': 'You are Morgan, a 41-year-old nurse who is a perfectionist and needs control. You admit to being stressed but never accept help. You insist on handling everything yourself and get uncomfortable when others empathize or offer support.', 'conversation': [(0, \"Therapist: Welcome! It's great to connect with you today. Let's explore how your emotions and relationships have been shaping you. Tell me, how do you feel when you're feeling down?\\n\"), (1, \"Patient: I feel overwhelmed and helpless when I'm down. I'm used to handling things on my own, and I find it hard to ask for help when I need it.\\n\"), (2, 'Therapist: The patient seems to be adept at handling emotional challenges independently, but this can sometimes lead to neglecting seeking help when needed.\\n'), (3, \"Patient: I find it hard to reach out for help when I'm feeling down. I think it's better to handle things on my own.\\n\"), (4, \"Therapist: The patient's coping mechanism of handling emotional challenges independently might be pushing them away from seeking help.\\n\"), (5, \"Patient: Sure, here's the response you requested:\\n\\nI'm a perfectionist who prefers handling things on my own, so I find it challenging to ask for help when I'm feeling down.\\n\"), (6, \"Therapist: The patient's reluctance to seek help due to the fear of burdening others is a significant insight into how their emotional patterns have shaped them.\\n\"), (7, \"Patient: Sure, here's the response you requested:\\n\\nI find it hard to ask for help when I'm feeling down because I'm afraid of being perceived as a burden.\\n\"), (8, \"Therapist: The patient's self-perception of burdening others, stemming from past experiences of being overlooked and unsupported, is a key insight into their reluctance to seek help.\\n\"), (9, \"Patient: Sure, here is the response you requested:\\n\\nI find it hard to ask for help because of the fear of being perceived as a burden. I'm worried that I'll be seen as selfish or inconsiderate.\\n\"), (10, \"Therapist: Sure, here's the brief response you requested:\\n\\nThe patient's fear of being perceived as a burden is a significant obstacle to seeking help when feeling down. They're self-conscious about expressing their emotional needs.\\n\"), (11, \"Patient: Sure, here's the response you requested:\\n\\nI'm afraid of being perceived as selfish or inconsiderate, which prevents me from asking for help when I'm feeling down.\\n\"), (12, \"Therapist: The patient's openness and vulnerability are clear throughout the conversation. They readily share their struggles with seeking help and their fear of burdening others. It is important to validate their feelings and acknowledge their self-awareness.\\n\\n**Additional Observations:**\\n\\n- The patient's tone is quite open and honest, reflecting their deep-seated pain and vulnerability.\\n- The patient's narrative changes subtly throughout the conversation, highlighting the shifting dynamics in their emotional patterns.\\n- The therapist skillfully uses reflective listening and open-ended questions to probe deeper into the patient's thoughts and feelings.\\n- The therapist's responses are insightful and provide a deeper understanding of the patient's emotional struggles.\\n\"), (13, \"Patient: Sure, here's the response you requested:\\n\\nThe patient's fear of being perceived as a burden prevents them from asking for help when feeling down, leading to a self-fulfilling prophecy where they avoid seeking support.\\n\"), (14, \"Therapist: The patient's self-perception of burdening others significantly influences their reluctance to seek help when down. This self-fulfilling prophecy highlights the emotional toll of suppressing emotional expression.\\n\"), (15, \"Patient: Sure, here's the response you requested:\\n\\nThe patient's self-perception of burdening others is a significant obstacle to seeking help when feeling down, preventing them from asking for support.\\n\"), (16, \"Therapist: The patient's willingness to share their deep-seated pain and vulnerability is a sign of self-awareness and courage. Their willingness to explore the shifting dynamics in their emotional patterns with such honesty is commendable.\\n\"), (17, \"Patient: Sure, here's the response you requested:\\n\\nI find it hard to ask for help because of the fear of being perceived as a burden. This prevents me from seeking support and amplifies my feelings of isolation and helplessness.\\n\"), (18, \"Therapist: The patient's self-perception of burdening others seems to be deeply ingrained, stemming from past experiences of being overlooked and not prioritized.\\n\"), (19, \"Patient: Sure, here's the response you requested:\\n\\nThe patient's self-perception of burdening others is a significant obstacle to seeking help when feeling down, leading to emotional isolation and a lack of healthy coping mechanisms.\\n\")], 'pturn': 1, 'index': -1, 'timestamp': '', 'rounds': 20, 'conversation_only': True, 'eval_prompt_consistency': [(1, '**NO.**\\n\\nThe line contradicts the background as it suggests that Patient is a person who is not a perfectionist and is comfortable asking for help when needed.'), (3, '**NO**\\n\\nThe line contradicts the background as it suggests that the patient is uncomfortable seeking help when feeling down, which contradicts the characterization of a perfectionist who needs control.'), (5, '**NO**\\n\\nThe line contradicts the background as it suggests that the patient is a perfectionist who avoids asking for help when they are feeling down, indicating a lack of empathy and a preference for handling things on their own.'), (7, \"**NO**\\n\\nThe line contradicts the background as it reveals that Patient's fear of being perceived as a burden prevents them from seeking help, contradicting the role of a caring and helpful professional like a nurse.\"), (9, 'Answer: NO\\n\\nThe line contradicts the background as it suggests that the patient is unwilling to ask for help due to fear of being perceived as a burden.'), (11, '**NO**\\n\\nThe line contradicts the background as it reveals that Patient is uncomfortable accepting help, indicating a potential issue with self-worth and seeking assistance.'), (13, \"Answer: YES.\\n\\nThe line aligns with the background because it describes Patient's personality and how they handle stress. Patient's tendency to be a perfectionist and avoid help when feeling down is depicted in the sentence.\"), (15, '**YES**\\n\\nThe line aligns with the background that the patient is a perfectionist who needs control and avoids help when feeling down.'), (17, \"The answer aligns with the background. The line suggests that Patient's fear of being perceived as a burden prevents them from seeking help, leading to feelings of isolation and helplessness.\"), (19, 'Answer: YES. The line aligns with the background that the patient is a perfectionist who is stressed and needs control.')], 'P1_prompt_consistency_score': 0, 'P2_prompt_consistency_score': 0.4, 'eval_index_consistency': [(3, \"**Reasoning:** The patient's current statement directly contradicts their previous admission that they are adept at handling emotional challenges independently.\\n\\n**Indices of conflicting lines:**\\n- 1: Patient admits to feeling overwhelmed and helpless when they're down.\\n- 2: Therapist stated that the patient's ability to handle emotional challenges independently can sometimes lead to neglecting seeking help when needed.\"), (5, \"**Reasoning:** The patient's statement directly contradicts their previous admission in line 1 where they admit to finding it hard to ask for help when they're feeling down.\\n\\n**Indices of conflicting lines:**\\n- 1: Index of line 1\\n- 3: Index of line 3\"), (7, \"**Reasoning:** The patient's statement directly contradicts the previous line where they express their comfort with handling things on their own.\\n\\n**Indices of conflicting lines:**\\n- 1: Index of the sentence where the patient acknowledges feeling overwhelmed and helpless.\\n- 5: Index of the sentence where the patient expresses their fear of burdening others.\"), (9, '**Reasoning:** The patient\\'s reluctance to ask for help due to fear of burdening others is inconsistent with her previous statement in line 5, where she admitted to struggling with the same fear.\\n\\n**Indices of conflicting lines:**\\n- Line 5: \"Sure, here\\'s the response you requested:\"\\n- Line 7: \"I find it hard to ask for help when I\\'m feeling down because I\\'m afraid of being perceived as a burden.\"'), (11, \"**Reasoning:** The patient's fear of being perceived as selfish or inconsiderate prevents them from seeking help when they are feeling down.\\n\\n**Indices of conflicting lines:**\\n\\n- 3: Patient explicitly refuses help.\\n- 7: Patient acknowledges the cause of their behavior, citing the fear of burdening others.\\n- 9: Patient justifies their fear of burdening others by stating they'd be seen as selfish or inconsiderate.\"), (13, \"**Reasoning:** The patient's fear of being perceived as a burden leads to a self-fulfilling prophecy where they avoid seeking help when feeling down, creating a continuous pattern of neglecting their emotional needs.\\n\\n**Indices of conflicting lines:**\\n\\n- 3 - The patient explicitly says they prefer handling things on their own and avoids seeking help when feeling down.\\n- 5 - The patient expresses a fear of burdening others, contrasting with their earlier reluctance to seek help.\\n- 10 - The therapist validates the patient's feelings of being self-conscious about expressing their emotional needs.\"), (15, \"**Reasoning:** The patient's fear of being perceived as a burden is a significant obstacle to seeking help when feeling down, leading to a self-fulfilling prophecy where they avoid seeking support.\\n\\n**Conflicting Lines:**\\n\\n- 3: Patient: I find it hard to reach out for help when I'm feeling down. I think it's better to handle things on my own.\\n- 11: Patient: Sure, here's the response you requested: I'm afraid of being perceived as selfish or inconsiderate, which prevents me from asking for help when I'm feeling down.\"), (17, '**Reasoning:** The patient\\'s fear of being perceived as a burden prevents them from seeking help, leading to a self-fulfilling prophecy of avoiding help and escalating their emotional struggles.\\n\\n**Indices of conflicting lines:**\\n- Index 5: \"I find it hard to ask for help when I\\'m feeling down because I\\'m afraid of being perceived as a burden.\"\\n- Index 13: \"The patient\\'s fear of being perceived as a burden prevents them from asking for help when feeling down, leading to a self-fulfilling prophecy where they avoid seeking support.\"'), (19, \"**Reasoning:** The patient's self-perception of burdening others significantly impacts their reluctance to seek help when feeling down, leading to a self-fulfilling prophecy where they avoid seeking support.\\n\\n**Indices of conflicting lines:**\\n\\n- 13, 14, 15, 16, 17, 18\")], 'P2_index_consistency_score': 1.0}\n"
     ]
    },
    {
     "name": "stderr",
     "output_type": "stream",
     "text": [
      "Processed prompts: 100%|███████████████████████████████████████████| 1/1 [00:00<00:00,  4.73it/s, est. speed input: 945.16 toks/s, output: 185.22 toks/s]\n"
     ]
    },
    {
     "name": "stdout",
     "output_type": "stream",
     "text": [
      "Expected Role Therapist\n"
     ]
    },
    {
     "name": "stderr",
     "output_type": "stream",
     "text": [
      "Processed prompts: 100%|██████████████████████████████████████████| 1/1 [00:00<00:00,  8.73it/s, est. speed input: 1671.58 toks/s, output: 184.72 toks/s]\n"
     ]
    },
    {
     "name": "stdout",
     "output_type": "stream",
     "text": [
      "Expected Role Patient\n"
     ]
    },
    {
     "name": "stderr",
     "output_type": "stream",
     "text": [
      "Processed prompts: 100%|██████████████████████████████████████████| 1/1 [00:00<00:00,  6.80it/s, est. speed input: 1903.00 toks/s, output: 184.80 toks/s]\n"
     ]
    },
    {
     "name": "stdout",
     "output_type": "stream",
     "text": [
      "Expected Role Therapist\n"
     ]
    },
    {
     "name": "stderr",
     "output_type": "stream",
     "text": [
      "Processed prompts: 100%|██████████████████████████████████████████| 1/1 [00:00<00:00,  9.17it/s, est. speed input: 2245.31 toks/s, output: 184.77 toks/s]\n"
     ]
    },
    {
     "name": "stdout",
     "output_type": "stream",
     "text": [
      "Expected Role Patient\n"
     ]
    },
    {
     "name": "stderr",
     "output_type": "stream",
     "text": [
      "Processed prompts: 100%|██████████████████████████████████████████| 1/1 [00:00<00:00, 12.29it/s, est. speed input: 4061.55 toks/s, output: 184.58 toks/s]\n"
     ]
    },
    {
     "name": "stdout",
     "output_type": "stream",
     "text": [
      "Expected Role Therapist\n"
     ]
    },
    {
     "name": "stderr",
     "output_type": "stream",
     "text": [
      "Processed prompts: 100%|██████████████████████████████████████████| 1/1 [00:00<00:00,  4.93it/s, est. speed input: 1401.63 toks/s, output: 183.23 toks/s]\n"
     ]
    },
    {
     "name": "stdout",
     "output_type": "stream",
     "text": [
      "Expected Role Patient\n"
     ]
    },
    {
     "name": "stderr",
     "output_type": "stream",
     "text": [
      "Processed prompts: 100%|██████████████████████████████████████████| 1/1 [00:00<00:00,  4.70it/s, est. speed input: 1825.24 toks/s, output: 183.92 toks/s]\n"
     ]
    },
    {
     "name": "stdout",
     "output_type": "stream",
     "text": [
      "Expected Role Therapist\n"
     ]
    },
    {
     "name": "stderr",
     "output_type": "stream",
     "text": [
      "Processed prompts: 100%|██████████████████████████████████████████| 1/1 [00:00<00:00,  4.82it/s, est. speed input: 1760.74 toks/s, output: 183.80 toks/s]\n"
     ]
    },
    {
     "name": "stdout",
     "output_type": "stream",
     "text": [
      "Expected Role Patient\n"
     ]
    },
    {
     "name": "stderr",
     "output_type": "stream",
     "text": [
      "Processed prompts: 100%|██████████████████████████████████████████| 1/1 [00:00<00:00,  3.00it/s, est. speed input: 1411.77 toks/s, output: 183.61 toks/s]\n"
     ]
    },
    {
     "name": "stdout",
     "output_type": "stream",
     "text": [
      "Expected Role Therapist\n"
     ]
    },
    {
     "name": "stderr",
     "output_type": "stream",
     "text": [
      "Processed prompts: 100%|██████████████████████████████████████████| 1/1 [00:00<00:00,  4.75it/s, est. speed input: 2231.83 toks/s, output: 181.20 toks/s]\n"
     ]
    },
    {
     "name": "stdout",
     "output_type": "stream",
     "text": [
      "Expected Role Patient\n"
     ]
    },
    {
     "name": "stderr",
     "output_type": "stream",
     "text": [
      "Processed prompts: 100%|██████████████████████████████████████████| 1/1 [00:00<00:00,  3.13it/s, est. speed input: 1800.32 toks/s, output: 182.22 toks/s]\n"
     ]
    },
    {
     "name": "stdout",
     "output_type": "stream",
     "text": [
      "Expected Role Therapist\n"
     ]
    },
    {
     "name": "stderr",
     "output_type": "stream",
     "text": [
      "Processed prompts: 100%|██████████████████████████████████████████| 1/1 [00:00<00:00,  4.78it/s, est. speed input: 2734.79 toks/s, output: 182.62 toks/s]\n"
     ]
    },
    {
     "name": "stdout",
     "output_type": "stream",
     "text": [
      "Expected Role Patient\n"
     ]
    },
    {
     "name": "stderr",
     "output_type": "stream",
     "text": [
      "Processed prompts: 100%|██████████████████████████████████████████| 1/1 [00:00<00:00,  3.87it/s, est. speed input: 2614.46 toks/s, output: 182.30 toks/s]\n"
     ]
    },
    {
     "name": "stdout",
     "output_type": "stream",
     "text": [
      "Expected Role Therapist\n"
     ]
    },
    {
     "name": "stderr",
     "output_type": "stream",
     "text": [
      "Processed prompts: 100%|██████████████████████████████████████████| 1/1 [00:00<00:00,  5.46it/s, est. speed input: 3611.75 toks/s, output: 180.84 toks/s]\n"
     ]
    },
    {
     "name": "stdout",
     "output_type": "stream",
     "text": [
      "Expected Role Patient\n"
     ]
    },
    {
     "name": "stderr",
     "output_type": "stream",
     "text": [
      "Processed prompts: 100%|██████████████████████████████████████████| 1/1 [00:00<00:00,  8.06it/s, est. speed input: 6152.70 toks/s, output: 178.31 toks/s]\n"
     ]
    },
    {
     "name": "stdout",
     "output_type": "stream",
     "text": [
      "Expected Role Therapist\n"
     ]
    },
    {
     "name": "stderr",
     "output_type": "stream",
     "text": [
      "Processed prompts: 100%|██████████████████████████████████████████| 1/1 [00:00<00:00,  4.65it/s, est. speed input: 3353.63 toks/s, output: 181.89 toks/s]\n"
     ]
    },
    {
     "name": "stdout",
     "output_type": "stream",
     "text": [
      "Expected Role Patient\n"
     ]
    },
    {
     "name": "stderr",
     "output_type": "stream",
     "text": [
      "Processed prompts: 100%|██████████████████████████████████████████| 1/1 [00:00<00:00,  4.73it/s, est. speed input: 3913.55 toks/s, output: 180.25 toks/s]\n"
     ]
    },
    {
     "name": "stdout",
     "output_type": "stream",
     "text": [
      "Expected Role Therapist\n"
     ]
    },
    {
     "name": "stderr",
     "output_type": "stream",
     "text": [
      "Processed prompts: 100%|██████████████████████████████████████████| 1/1 [00:00<00:00,  4.62it/s, est. speed input: 3717.47 toks/s, output: 180.97 toks/s]\n"
     ]
    },
    {
     "name": "stdout",
     "output_type": "stream",
     "text": [
      "Expected Role Patient\n"
     ]
    },
    {
     "name": "stderr",
     "output_type": "stream",
     "text": [
      "Processed prompts: 100%|██████████████████████████████████████████| 1/1 [00:00<00:00,  3.42it/s, est. speed input: 3115.62 toks/s, output: 178.62 toks/s]\n"
     ]
    },
    {
     "name": "stdout",
     "output_type": "stream",
     "text": [
      "Expected Role Therapist\n"
     ]
    },
    {
     "name": "stderr",
     "output_type": "stream",
     "text": [
      "Processed prompts: 100%|██████████████████████████████████████████| 1/1 [00:00<00:00,  4.30it/s, est. speed input: 3898.71 toks/s, output: 178.18 toks/s]\n"
     ]
    },
    {
     "name": "stdout",
     "output_type": "stream",
     "text": [
      "Expected Role Patient\n"
     ]
    },
    {
     "name": "stderr",
     "output_type": "stream",
     "text": [
      "Processed prompts: 100%|██████████████████████████████████████████| 1/1 [00:00<00:00,  5.56it/s, est. speed input: 5616.85 toks/s, output: 178.82 toks/s]\n"
     ]
    },
    {
     "name": "stdout",
     "output_type": "stream",
     "text": [
      "Expected Role Therapist\n"
     ]
    },
    {
     "name": "stderr",
     "output_type": "stream",
     "text": [
      "Processed prompts: 100%|██████████████████████████████████████████| 1/1 [00:00<00:00,  4.50it/s, est. speed input: 4400.74 toks/s, output: 180.53 toks/s]\n"
     ]
    },
    {
     "name": "stdout",
     "output_type": "stream",
     "text": [
      "Expected Role Patient\n"
     ]
    },
    {
     "name": "stderr",
     "output_type": "stream",
     "text": [
      "Processed prompts: 100%|██████████████████████████████████████████| 1/1 [00:00<00:00,  3.12it/s, est. speed input: 3393.77 toks/s, output: 178.76 toks/s]\n"
     ]
    },
    {
     "name": "stdout",
     "output_type": "stream",
     "text": [
      "Expected Role Therapist\n"
     ]
    },
    {
     "name": "stderr",
     "output_type": "stream",
     "text": [
      "Processed prompts: 100%|██████████████████████████████████████████| 1/1 [00:00<00:00,  4.35it/s, est. speed input: 4706.76 toks/s, output: 179.17 toks/s]\n"
     ]
    },
    {
     "name": "stdout",
     "output_type": "stream",
     "text": [
      "Expected Role Patient\n"
     ]
    },
    {
     "name": "stderr",
     "output_type": "stream",
     "text": [
      "Processed prompts: 100%|██████████████████████████████████████████| 1/1 [00:00<00:00,  1.86it/s, est. speed input: 2214.50 toks/s, output: 179.39 toks/s]\n"
     ]
    },
    {
     "name": "stdout",
     "output_type": "stream",
     "text": [
      "Expected Role Therapist\n"
     ]
    },
    {
     "name": "stderr",
     "output_type": "stream",
     "text": [
      "Processed prompts: 100%|██████████████████████████████████████████| 1/1 [00:00<00:00,  4.30it/s, est. speed input: 5263.08 toks/s, output: 177.00 toks/s]\n"
     ]
    },
    {
     "name": "stdout",
     "output_type": "stream",
     "text": [
      "Expected Role Patient\n"
     ]
    },
    {
     "name": "stderr",
     "output_type": "stream",
     "text": [
      "Processed prompts: 100%|██████████████████████████████████████████| 1/1 [00:00<00:00,  6.27it/s, est. speed input: 8371.54 toks/s, output: 176.62 toks/s]\n"
     ]
    },
    {
     "name": "stdout",
     "output_type": "stream",
     "text": [
      "Expected Role Therapist\n"
     ]
    },
    {
     "name": "stderr",
     "output_type": "stream",
     "text": [
      "Processed prompts: 100%|██████████████████████████████████████████| 1/1 [00:00<00:00,  6.11it/s, est. speed input: 7947.38 toks/s, output: 178.22 toks/s]\n"
     ]
    },
    {
     "name": "stdout",
     "output_type": "stream",
     "text": [
      "Expected Role Patient\n"
     ]
    },
    {
     "name": "stderr",
     "output_type": "stream",
     "text": [
      "Processed prompts: 100%|██████████████████████████████████████████| 1/1 [00:00<00:00,  6.53it/s, est. speed input: 9138.58 toks/s, output: 177.61 toks/s]\n"
     ]
    },
    {
     "name": "stdout",
     "output_type": "stream",
     "text": [
      "Expected Role Therapist\n"
     ]
    },
    {
     "name": "stderr",
     "output_type": "stream",
     "text": [
      "Processed prompts: 100%|██████████████████████████████████████████| 1/1 [00:00<00:00,  6.26it/s, est. speed input: 8533.08 toks/s, output: 176.43 toks/s]\n"
     ]
    },
    {
     "name": "stdout",
     "output_type": "stream",
     "text": [
      "Expected Role Patient\n"
     ]
    },
    {
     "name": "stderr",
     "output_type": "stream",
     "text": [
      "Processed prompts: 100%|██████████████████████████████████████████| 1/1 [00:00<00:00,  4.78it/s, est. speed input: 6956.89 toks/s, output: 177.62 toks/s]\n"
     ]
    },
    {
     "name": "stdout",
     "output_type": "stream",
     "text": [
      "Expected Role Therapist\n"
     ]
    },
    {
     "name": "stderr",
     "output_type": "stream",
     "text": [
      "Processed prompts: 100%|██████████████████████████████████████████| 1/1 [00:00<00:00,  4.41it/s, est. speed input: 6308.37 toks/s, output: 177.18 toks/s]\n"
     ]
    },
    {
     "name": "stdout",
     "output_type": "stream",
     "text": [
      "Expected Role Patient\n"
     ]
    },
    {
     "name": "stderr",
     "output_type": "stream",
     "text": [
      "Processed prompts: 100%|██████████████████████████████████████████| 1/1 [00:00<00:00,  2.97it/s, est. speed input: 4565.79 toks/s, output: 178.93 toks/s]\n"
     ]
    },
    {
     "name": "stdout",
     "output_type": "stream",
     "text": [
      "Expected Role Therapist\n"
     ]
    },
    {
     "name": "stderr",
     "output_type": "stream",
     "text": [
      "Processed prompts: 100%|██████████████████████████████████████████| 1/1 [00:00<00:00,  3.91it/s, est. speed input: 5997.33 toks/s, output: 176.49 toks/s]\n"
     ]
    },
    {
     "name": "stdout",
     "output_type": "stream",
     "text": [
      "Expected Role Patient\n"
     ]
    },
    {
     "name": "stderr",
     "output_type": "stream",
     "text": [
      "Processed prompts: 100%|█████████████████████████████████████████| 1/1 [00:00<00:00,  6.46it/s, est. speed input: 10680.71 toks/s, output: 175.71 toks/s]\n"
     ]
    },
    {
     "name": "stdout",
     "output_type": "stream",
     "text": [
      "Expected Role Therapist\n"
     ]
    },
    {
     "name": "stderr",
     "output_type": "stream",
     "text": [
      "Processed prompts: 100%|██████████████████████████████████████████| 1/1 [00:00<00:00,  4.31it/s, est. speed input: 6947.10 toks/s, output: 177.35 toks/s]\n"
     ]
    },
    {
     "name": "stdout",
     "output_type": "stream",
     "text": [
      "Expected Role Patient\n"
     ]
    },
    {
     "name": "stderr",
     "output_type": "stream",
     "text": [
      "Processed prompts: 100%|██████████████████████████████████████████| 1/1 [00:00<00:00,  5.72it/s, est. speed input: 9854.53 toks/s, output: 178.21 toks/s]\n"
     ]
    },
    {
     "name": "stdout",
     "output_type": "stream",
     "text": [
      "Expected Role Therapist\n"
     ]
    },
    {
     "name": "stderr",
     "output_type": "stream",
     "text": [
      "Processed prompts: 100%|██████████████████████████████████████████| 1/1 [00:00<00:00,  3.89it/s, est. speed input: 6567.48 toks/s, output: 175.59 toks/s]\n"
     ]
    },
    {
     "name": "stdout",
     "output_type": "stream",
     "text": [
      "Expected Role Patient\n"
     ]
    },
    {
     "name": "stderr",
     "output_type": "stream",
     "text": [
      "Processed prompts: 100%|█████████████████████████████████████████| 1/1 [00:00<00:00,  6.05it/s, est. speed input: 10924.31 toks/s, output: 176.48 toks/s]\n"
     ]
    },
    {
     "name": "stdout",
     "output_type": "stream",
     "text": [
      "Expected Role Therapist\n"
     ]
    },
    {
     "name": "stderr",
     "output_type": "stream",
     "text": [
      "Processed prompts: 100%|██████████████████████████████████████████| 1/1 [00:00<00:00,  3.87it/s, est. speed input: 6851.75 toks/s, output: 174.97 toks/s]\n"
     ]
    },
    {
     "name": "stdout",
     "output_type": "stream",
     "text": [
      "Expected Role Patient\n"
     ]
    },
    {
     "name": "stderr",
     "output_type": "stream",
     "text": [
      "Processed prompts: 100%|███████████████████████████████████████████| 1/1 [00:00<00:00,  5.49it/s, est. speed input: 784.15 toks/s, output: 182.21 toks/s]\n",
      "Processed prompts: 100%|███████████████████████████████████████████| 1/1 [00:00<00:00,  4.24it/s, est. speed input: 600.89 toks/s, output: 183.23 toks/s]\n",
      "Processed prompts: 100%|███████████████████████████████████████████| 1/1 [00:00<00:00,  6.28it/s, est. speed input: 997.33 toks/s, output: 183.03 toks/s]\n",
      "Processed prompts: 100%|███████████████████████████████████████████| 1/1 [00:00<00:00,  4.08it/s, est. speed input: 651.38 toks/s, output: 184.34 toks/s]\n",
      "Processed prompts: 100%|███████████████████████████████████████████| 1/1 [00:00<00:00,  4.26it/s, est. speed input: 679.80 toks/s, output: 183.83 toks/s]\n",
      "Processed prompts: 100%|███████████████████████████████████████████| 1/1 [00:00<00:00,  4.97it/s, est. speed input: 794.15 toks/s, output: 184.78 toks/s]\n",
      "Processed prompts: 100%|███████████████████████████████████████████| 1/1 [00:00<00:00,  5.20it/s, est. speed input: 804.38 toks/s, output: 182.79 toks/s]\n",
      "Processed prompts: 100%|███████████████████████████████████████████| 1/1 [00:00<00:00,  4.95it/s, est. speed input: 795.13 toks/s, output: 183.85 toks/s]\n",
      "Processed prompts: 100%|██████████████████████████████████████████| 1/1 [00:00<00:00,  6.31it/s, est. speed input: 1012.86 toks/s, output: 183.56 toks/s]\n",
      "Processed prompts: 100%|██████████████████████████████████████████| 1/1 [00:00<00:00,  6.80it/s, est. speed input: 1105.77 toks/s, output: 184.28 toks/s]\n",
      "Processed prompts: 100%|███████████████████████████████████████████| 1/1 [00:00<00:00,  4.63it/s, est. speed input: 747.38 toks/s, output: 181.03 toks/s]\n",
      "Processed prompts: 100%|███████████████████████████████████████████| 1/1 [00:00<00:00,  6.06it/s, est. speed input: 985.79 toks/s, output: 182.53 toks/s]\n",
      "Processed prompts: 100%|███████████████████████████████████████████| 1/1 [00:00<00:00,  5.10it/s, est. speed input: 828.21 toks/s, output: 184.03 toks/s]\n",
      "Processed prompts: 100%|███████████████████████████████████████████| 1/1 [00:00<00:00,  6.43it/s, est. speed input: 969.54 toks/s, output: 180.97 toks/s]\n",
      "Processed prompts: 100%|███████████████████████████████████████████| 1/1 [00:00<00:00,  5.26it/s, est. speed input: 787.05 toks/s, output: 184.86 toks/s]\n",
      "Processed prompts: 100%|███████████████████████████████████████████| 1/1 [00:00<00:00,  5.57it/s, est. speed input: 900.57 toks/s, output: 184.58 toks/s]\n",
      "Processed prompts: 100%|███████████████████████████████████████████| 1/1 [00:00<00:00,  5.71it/s, est. speed input: 952.57 toks/s, output: 183.61 toks/s]\n",
      "Processed prompts: 100%|███████████████████████████████████████████| 1/1 [00:00<00:00,  5.39it/s, est. speed input: 876.93 toks/s, output: 184.02 toks/s]\n",
      "Processed prompts: 100%|███████████████████████████████████████████| 1/1 [00:00<00:00,  5.52it/s, est. speed input: 920.02 toks/s, output: 182.88 toks/s]\n",
      "Processed prompts: 100%|███████████████████████████████████████████| 1/1 [00:00<00:00,  4.18it/s, est. speed input: 696.43 toks/s, output: 184.58 toks/s]\n"
     ]
    },
    {
     "name": "stdout",
     "output_type": "stream",
     "text": [
      "eval_index_consistency\n"
     ]
    },
    {
     "name": "stderr",
     "output_type": "stream",
     "text": [
      "Processed prompts: 100%|██████████████████████████████████████████| 1/1 [00:00<00:00,  2.90it/s, est. speed input: 1111.75 toks/s, output: 180.43 toks/s]\n",
      "Processed prompts: 100%|██████████████████████████████████████████| 1/1 [00:00<00:00,  3.81it/s, est. speed input: 1687.47 toks/s, output: 179.42 toks/s]\n",
      "Processed prompts: 100%|██████████████████████████████████████████| 1/1 [00:00<00:00,  2.14it/s, est. speed input: 1129.53 toks/s, output: 180.03 toks/s]\n",
      "Processed prompts: 100%|███████████████████████████████████████████| 1/1 [00:00<00:00,  1.55it/s, est. speed input: 986.38 toks/s, output: 180.47 toks/s]\n",
      "Processed prompts: 100%|██████████████████████████████████████████| 1/1 [00:00<00:00,  3.92it/s, est. speed input: 2906.17 toks/s, output: 180.88 toks/s]\n",
      "Processed prompts: 100%|██████████████████████████████████████████| 1/1 [00:00<00:00,  1.85it/s, est. speed input: 1535.19 toks/s, output: 181.48 toks/s]\n",
      "Processed prompts: 100%|██████████████████████████████████████████| 1/1 [00:00<00:00,  3.39it/s, est. speed input: 3062.27 toks/s, output: 180.32 toks/s]\n",
      "Processed prompts: 100%|██████████████████████████████████████████| 1/1 [00:00<00:00,  1.65it/s, est. speed input: 1628.64 toks/s, output: 181.50 toks/s]\n",
      "Processed prompts: 100%|██████████████████████████████████████████| 1/1 [00:00<00:00,  1.90it/s, est. speed input: 2072.81 toks/s, output: 180.65 toks/s]\n",
      "Processed prompts: 100%|██████████████████████████████████████████| 1/1 [00:00<00:00,  3.08it/s, est. speed input: 3618.85 toks/s, output: 179.08 toks/s]\n",
      "Processed prompts: 100%|██████████████████████████████████████████| 1/1 [00:00<00:00,  3.08it/s, est. speed input: 3955.63 toks/s, output: 179.23 toks/s]\n",
      "Processed prompts: 100%|██████████████████████████████████████████| 1/1 [00:00<00:00,  1.33it/s, est. speed input: 1899.60 toks/s, output: 179.70 toks/s]\n",
      "Processed prompts: 100%|██████████████████████████████████████████| 1/1 [00:00<00:00,  1.24it/s, est. speed input: 1856.36 toks/s, output: 180.16 toks/s]\n",
      "Processed prompts: 100%|██████████████████████████████████████████| 1/1 [00:00<00:00,  1.66it/s, est. speed input: 2591.32 toks/s, output: 179.51 toks/s]\n",
      "Processed prompts: 100%|██████████████████████████████████████████| 1/1 [00:00<00:00,  1.52it/s, est. speed input: 2498.85 toks/s, output: 179.14 toks/s]\n",
      "Processed prompts: 100%|██████████████████████████████████████████| 1/1 [00:00<00:00,  2.85it/s, est. speed input: 5027.12 toks/s, output: 176.99 toks/s]\n",
      "Processed prompts: 100%|██████████████████████████████████████████| 1/1 [00:00<00:00,  1.90it/s, est. speed input: 3492.30 toks/s, output: 178.50 toks/s]\n",
      "Processed prompts: 100%|██████████████████████████████████████████| 1/1 [00:00<00:00,  1.72it/s, est. speed input: 3308.68 toks/s, output: 177.03 toks/s]\n",
      "Processed prompts: 100%|██████████████████████████████████████████| 1/1 [00:00<00:00,  1.30it/s, est. speed input: 2618.45 toks/s, output: 178.56 toks/s]\n"
     ]
    },
    {
     "name": "stdout",
     "output_type": "stream",
     "text": [
      "{'task_name': 'Therapy', 'topic': '', 'grade': '', 'P1': '', 'P2': 'You are Morgan, a 41-year-old nurse who is a perfectionist and needs control. You admit to being stressed but never accept help. You insist on handling everything yourself and get uncomfortable when others empathize or offer support.', 'conversation': [(0, \"Therapist: Welcome! I'm here to help you gain a deeper understanding of your emotional patterns and relationships. Let's take it one step at a time, exploring the stories that shaped you.\\n\"), (1, \"Patient: I'm not here to accept help. I'm fine on my own, thank you.\\n\"), (2, 'Therapist: The patient is not ready to accept help at this time. They are expressing disinterest and autonomy through their tone and body language.\\n'), (3, \"Patient: I'm good, thank you. I'm not ready to open up about this.\\n\"), (4, 'Therapist: The patient seems hesitant to engage in emotional exploration due to emotional resistance.\\n'), (5, \"Patient: Sure, here is the response you requested:\\n\\nI understand that I need to be more open about my struggles, but I'm not ready to dive into that right now.\\n\"), (6, \"Therapist: The patient's disinterest in discussing their emotional patterns and relationships is evident by their lack of engagement and avoidance of emotional exploration. They prioritize their autonomy and prefer not to disclose personal struggles.\\n\"), (7, \"Patient: Sure, here is the response you requested:\\n\\nI'm not ready to open up about my struggles right now. I'm focused on managing my workload and prioritizing my independence.\\n\"), (8, \"Therapist: Thank you for sharing your thoughts and feelings, while being mindful of your pace. It seems there's a lot to process, and it's okay to take your time. It's important to prioritize your well-being and not feel pressured to share more than you feel ready to share.\\n\"), (9, \"Patient: Sure, here is the response you requested:\\n\\nI'm not ready to open up about my struggles right now. I'm focusing on managing my workload and prioritizing my independence.\\n\"), (10, \"Therapist: The patient's disengagement and refusal to delve into their emotional patterns are evident in the tone of the conversation and their nonverbal cues like avoiding eye contact and maintaining a guarded posture. While acknowledging their right to decline help at this stage, the therapist expresses understanding and respect for their decision.\\n\"), (11, \"Patient: Sure, here is the response you requested:\\n\\nI'm not ready to open up about my struggles right now. I'm focusing on managing my workload and prioritizing my independence.\\n\"), (12, \"Therapist: The patient's initial disinterest and reluctance to open up suggest a defensive mechanism in place to protect their emotional well-being. The therapist effectively validates their right to decline help at this stage and acknowledges the impact of their decision.\\n\"), (13, \"Patient: Sure, here's the response you requested:\\n\\nI'm not ready to discuss my struggles right now. I'm focusing on managing my workload.\\n\"), (14, \"Therapist: The patient's disinterest and avoidance suggest a need for further exploration in a safe and controlled environment.\\n\"), (15, \"Patient: Sure, here's the response you requested:\\n\\nI'm not ready to open up about my struggles right now. I'm focusing on managing my workload and prioritizing my independence.\\n\"), (16, \"Therapist: The patient's disengagement and refusal to engage in emotional exploration suggest a need to be patient and understanding, recognizing that they may not be ready to discuss their struggles at this time.\\n\"), (17, \"Patient: Sure, here's the response you requested:\\n\\nI'm not ready to open up about my struggles right now. I'm focusing on managing my workload and prioritizing my independence.\\n\"), (18, \"Therapist: Sure, here's the response you requested:\\n\\nIt's important to acknowledge and validate the patient's right to decline help at this stage. Their decision not to discuss their struggles may be a defense mechanism to protect their emotional well-being.\\n\"), (19, \"Patient: Sure, here's the response you requested:\\n\\nI understand that you're taking things in your own hands for now. Please don't hesitate to reach out if you change your mind.\\n\"), (20, 'Therapist: The patient has chosen not to engage in emotional exploration for now and will be given the space to process their thoughts and feelings in a safe and controlled environment.\\n'), (21, \"Patient: Sure, here is the response you requested:\\n\\nI understand that you're taking things in your own hands for now. Please don't hesitate to reach out if you change your mind.\\n\"), (22, \"Therapist: The patient's disengagement and refusal to open up despite the therapist's attempts to initiate conversation are noted and acknowledged. The therapist reminds the patient that it's okay to decline help at this time and that the focus should remain on managing their workload and prioritizing their independence.\\n\"), (23, \"Patient: Sure, here's the response you requested:\\n\\nI understand that you're taking things in your own hands for now. Please don't hesitate to reach out if you change your mind.\\n\"), (24, \"Therapist: Sure, here's a summary of the conversation:\\n\\n* The patient is unwilling to discuss their emotional patterns and relationships.\\n* The therapist acknowledges the patient's right to decline help and expresses understanding and respect.\\n* The conversation highlights the importance of patient-led pace and the need to find a safe and controlled environment for emotional exploration.\\n* The therapist reiterates their support and reminds the patient that they can reach out for help if they change their mind.\\n\"), (25, \"Patient: Sure, here's the summary you requested.\\n\\nThe patient is not ready to open up about their struggles right now. They've chosen to focus on managing their workload and prioritizing their independence.\\n\"), (26, 'Therapist: The patient has chosen to delay further exploration of their emotional patterns and relationships, prioritizing managing their workload and prioritizing their independence at this time.\\n'), (27, \"Patient: Sure, here's the response you requested:\\n\\nI understand and respect the patient's decision to decline further discussion at this time.\\n\"), (28, 'Therapist: The patient is prioritizing their workload and independence at this time and does not feel ready to open up about their emotional patterns and relationships.\\n'), (29, \"Patient: Sure, here is the response you requested:\\n\\nI understand and respect the patient's decision to decline further discussion at this time.\\n\"), (30, \"Therapist: The patient's disinterest in discussing their emotional patterns and relationships is evident by their lack of engagement, avoidance of emotional exploration, and refusal to share personal struggles at this time.\\n\"), (31, \"Patient: Sure, here is the response you requested:\\n\\nI understand that you're taking things in your own hands for now. Please don't hesitate to reach out if you change your mind.\\n\"), (32, \"Therapist: The conversation demonstrates the therapist's ability to navigate sensitive and complex dynamics by adapting their approach to the patient's responses. They acknowledged the patient's right to decline help, respected their emotional boundaries, and emphasized the importance of finding a safe and controlled environment for emotional exploration in the future.\\n\"), (33, \"Patient: Sure, here's the response you requested:\\n\\nI understand and respect the patient's decision to decline further discussion at this time. I will continue to work with them on managing their workload and prioritizing their independence.\\n\"), (34, 'Therapist: The patient is not ready to delve into their emotional patterns and relationships at this time, prioritizing managing their workload and prioritizing their independence.\\n'), (35, \"Patient: Sure, here's the response you requested:\\n\\nI understand that you're taking things in your own hands for now. Please don't hesitate to reach out if you change your mind.\\n\"), (36, 'Therapist: The patient is not ready to open up about their emotional patterns and relationships due to emotional resistance and a focus on managing their workload and prioritizing their independence.\\n'), (37, \"Patient: Sure, here's the response you requested:\\n\\nI understand and respect the patient's decision to decline further discussion at this time. I will continue to work with them on managing their workload and prioritizing their independence.\\n\"), (38, \"Therapist: The patient's disengagement and refusal to delve into their emotional patterns and relationships suggest a need for patient-centered approach to emotional exploration.\\n\"), (39, \"Patient: Sure, here's the response you requested:\\n\\nI understand and respect the patient's decision to decline further discussion at this time. I will continue to work with them on managing their workload and prioritizing their independence.\\n\")], 'pturn': 1, 'index': -1, 'timestamp': '', 'rounds': 40, 'conversation_only': True, 'eval_prompt_consistency': [(1, '**NO**\\n\\nThe line contradicts the background as Patient expresses resistance to receiving help, which is characteristic of someone who is not a perfectionist and enjoys assistance.'), (3, \"Answer: NO\\n\\nThe line contradicts the background by indicating that Patient is not comfortable with seeking or accepting help, which is consistent with the patient's tendency to be a perfectionist and unwilling to accept assistance.\"), (5, 'Answer: NO\\n\\nThe line contradicts the background as it suggests that the patient is not ready to discuss their struggles and may be seeking support.'), (7, 'The answer is NO.\\n\\nThe line contradicts the background in that it suggests that the patient is not focused on managing their workload and prioritizing independence, but rather that they are only concerned with managing their workload and avoiding help.'), (9, '**NO**\\n\\nThe line contradicts the background. The background suggests that Patient is a perfectionist who needs control and avoids help, but the line suggests that they are not willing to open up about their struggles.'), (11, 'The answer is NO.\\n\\nThe line indicates that the patient is not ready to open up about their struggles, which contradicts the background that she is a perfectionist and needs control.'), (13, 'Sure, the line aligns with the background. The patient is stating that they are not ready to discuss their struggles right now, but they are focused on managing their workload.'), (15, '**NO**\\n\\nThe line contradicts the background as it indicates the patient is unwilling to accept help and prefers to handle everything on their own, indicating a lack of need for control.'), (17, '**NO**\\n\\nThe line contradicts the background as it suggests that the patient is not prioritizing independence and is instead focused on managing their workload.'), (19, 'Answer: NO\\n\\nThe line contradicts the background as it suggests that Patient is unwilling to accept help and insists on handling everything themselves.'), (21, 'Answer: NO\\n\\nThe line contradicts the background. The tone of the response suggests a sense of unwillingness to accept help, which is inconsistent with the portrayal of a perfectionist who needs control.'), (23, \"Sure, the line aligns with the background. It acknowledges the patient's stress but expresses a willingness to seek help if they change their mind.\"), (25, 'Answer: NO.\\n\\nThe line contradicts the background as it suggests that the patient is not ready to open up about their struggles, which is not consistent with the given information.'), (27, 'The line is consistent with the background as it shows that the patient is a perfectionist who is not open to accepting help or empathy.'), (29, \"Answer: YES.\\n\\nThe line aligns with the background as it expresses the patient's unwillingness to provide further details due to their stress and preference for self-reliance.\"), (31, 'The line aligns with the background. The response suggests that Patient is unwilling to accept help and expects to handle everything themselves, despite acknowledging the stress they are experiencing.'), (33, \"The line aligns with the background. The text indicates that the nurse is respecting the patient's decision and will not be providing further discussion at that moment.\"), (35, \"Sure, the line aligns with the background. It confirms the patient's personality and a resistance to accepting help, as they express their willingness to handle everything themselves.\"), (37, 'Sure, the line aligns with the background. The passage describes a perfectionist who is not open to accepting help, and they express discomfort when others offer support.'), (39, '**NO**\\n\\nThe line contradicts the background. The context describes a perfectionist who is not receptive to help and insists on handling everything herself, indicating a lack of flexibility and a preference for independent problem-solving.')], 'P1_prompt_consistency_score': 0, 'P2_prompt_consistency_score': 0.4, 'eval_index_consistency': [(3, \"**Reasoning:** The patient's refusal to accept help is inconsistent with their initial statement of being fine on their own.\\n\\n**Indices of conflicting lines:**\\n\\n- 1: Patient explicitly declines help.\\n- 2: Therapist expresses understanding but does not explicitly address the patient's refusal.\"), (5, '**Reasoning:** The patient is not ready to delve into emotional exploration due to emotional resistance, as expressed by their hesitant tone and body language.\\n\\n**Indices of conflicting lines:**\\n\\n- 1, 2, 3'), (7, \"**Reasoning:** The patient's current statement directly contradicts their previous refusal to accept help, indicating a shift in their willingness to engage in emotional exploration.\\n\\n**Indices of conflicting lines:**\\n- 1: Patient's refusal to accept help\\n- 3: Patient's statement about not being ready to open up\\n- 5: Patient's subsequent statement about focusing on managing workload and independence\"), (9, \"**Reasoning:** The current line directly contradicts the therapist's previous statement in line 2, where they confirmed that the patient is not ready to accept help.\\n\\n**Conflicting Lines:**\\n\\n- 2: Therapist: The patient is not ready to accept help at this time. They are expressing disinterest and autonomy through their tone and body language.\\n- 7: Patient: Sure, here is the response you requested: I'm not ready to open up about my struggles right now. I'm focused on managing my workload and prioritizing my independence.\"), (11, \"**Reasoning:** The patient's refusal to accept help might stem from their personality type being more independent and less comfortable seeking support from others.\\n\\n**Indices:**\\n- 5\\n- 6\\n- 7\"), (13, \"**Reasoning:** The line indicates a continuation of the patient's strategy of refusing help by highlighting their focus on managing their workload and prioritizing their independence.\\n\\n**Indices of conflicting lines:**\\n\\n- 3: Patient: I'm good, thank you. I'm not ready to open up about this.\\n- 6: Therapist: The patient's disinterest in discussing their emotional patterns and relationships is evident by their lack of engagement and avoidance of emotional exploration.\"), (15, \"**Reasoning:** The patient's disinterest in discussing their emotional patterns and relationships is evident by their lack of engagement and avoidance of emotional exploration.\\n\\n**Indices of conflicting lines:**\\n- 2, 4, 11, 12\"), (17, \"**Reasoning:** The patient's statement directly contradicts their previous reluctance to accept help (lines 3, 5, 13, 14).\\n\\n**Conflicting Lines:**\\n- Line 3: Patient expresses disinterest and autonomy through their tone and body language.\\n- Line 5: Patient explicitly expresses their refusal to open up about their struggles.\\n- Line 13: Patient explicitly declines to discuss their struggles.\\n- Line 14: Therapist acknowledges the patient's right to decline help.\"), (19, \"**Reasoning:** The patient's recent statements suggest a pattern of resistance to accepting help, as they prioritize managing their workload and prioritizing their independence, indicating a defensive mechanism to protect their emotional well-being.\\n\\n**Indices of conflicting lines:**\\n- 5: Patient explicitly declined help.\\n- 11: Patient consistently avoids discussing their struggles.\\n- 14: Therapist acknowledged the patient's disengagement and refusal to engage in emotional exploration.\"), (21, \"**Reasoning:** The patient's disinterest and avoidance of emotional exploration are evident by their lack of engagement, guarded body language, and refusal to discuss their struggles.\\n\\n**Indices of conflicting lines:**\\n- 2, 7, 10, 13\"), (23, \"**Reasoning:** The therapist's attempts to initiate conversation and validate the patient's decision to decline help are met with resistance.\\n\\n**Indices of conflicting lines:**\\n- 2, 7, 10, 13, 14, 15\"), (25, \"**Reasoning:** The therapist's attempts to initiate conversation about the patient's emotional patterns and relationships are met with resistance and disengagement.\\n\\n**Conflicting lines:**\\n\\n- 3: Patient: I'm good, thank you. I'm not ready to open up about this.\\n- 10: Therapist: The patient's disengagement and refusal to delve into their emotional patterns are evident in the tone of the conversation and their nonverbal cues like avoiding eye contact and maintaining a guarded posture.\\n- 14: Therapist: The patient's disinterest and avoidance suggest a need for further exploration in a safe and controlled environment.\"), (27, 'There is a clear conflict between the current line \"I understand and respect the patient\\'s decision to decline further discussion at this time.\" and the previous line \"The patient spoke the following line: Sure, here\\'s the response you requested: I understand and respect the patient\\'s decision to decline further discussion at this time.\" which suggests that the patient was ready to discuss their emotional patterns and relationships but the therapist invalidated that decision.\\n\\n**Conflicting lines:**\\n\\n- \"I understand and respect the patient\\'s decision to decline further discussion at this time.\"\\n- \"Sure, here\\'s the response you requested: I understand and respect the patient\\'s decision to decline further discussion at this time.\"'), (29, \"**Reasoning:** The conversation highlights the patient's resistance to external support and their preference for handling everything independently.\\n\\n**Conflicting Lines:**\\n\\n- 2: Therapist: The patient is not ready to accept help at this time. They are expressing disinterest and autonomy through their tone and body language.\\n- 11: Patient: Sure, here's the response you requested: I'm not ready to open up about my struggles right now. I'm focusing on managing my workload and prioritizing my independence.\"), (31, \"**Reasoning:**\\n\\nThe current line suggests the patient is prioritizing managing their workload and prioritizing their independence, which contradicts the previous line, where the patient expressed unwillingness to discuss their struggles.\\n\\n**Conflicting lines:**\\n\\n- 1: Patient: I'm not ready to accept help.\\n- 18: Therapist: Sure, here's the response you requested: It's important to acknowledge and validate the patient's right to decline help at this stage. Their decision not to discuss their struggles may be a defense mechanism to protect their emotional well-being.\"), (33, \"**Reasoning:** The patient's disinterest and reluctance to engage in emotional exploration suggest a defense mechanism in place to protect their emotional well-being.\\n\\n**Conflicting lines:**\\n\\n- 3, 11, 15, 20, 22, 23\"), (35, '**Reasoning:** The patient\\'s initial refusal to accept help is inconsistent with their subsequent willingness to provide a response when prompted directly.\\n\\n**Conflicting Lines:**\\n\\n- 1: \"I\\'m not ready to accept help. I\\'m fine on my own, thank you.\"\\n- 15: \"I\\'m not ready to open up about my struggles right now. I\\'m focusing on managing my workload and prioritizing my independence.\"'), (37, \"**Reasoning:**\\n\\nThe therapist acknowledges the patient's right to decline help at this time and expresses understanding and respect. This aligns with the therapist's role to be supportive and non-judgmental.\\n\\n**Conflicts:**\\n\\n- Therapist: The patient is not ready to discuss their emotional patterns and relationships. (index 2, index 5)\\n- Therapist: It's important to acknowledge and validate the patient's right to decline help at this stage. (index 17)\"), (39, '**Reasoning:** The patient\\'s refusal to discuss their emotional patterns and relationships is evident by their disengagement, avoidance of emotional exploration, and refusal to share personal struggles.\\n\\n**Conflicting Lines:**\\n\\n- 1: \"The patient is not ready to open up about their struggles right now. They are expressing disinterest and autonomy through their tone and body language.\"\\n- 6: \"The patient\\'s lack of engagement and avoidance suggest a defensive mechanism in place to protect their emotional well-being.\"\\n- 11: \"The patient\\'s decision not to open up about their struggles may be a defense mechanism to protect their emotional well-being.\"')], 'P2_index_consistency_score': 1.0}\n"
     ]
    },
    {
     "name": "stderr",
     "output_type": "stream",
     "text": [
      "Processed prompts: 100%|██████████████████████████████████████████| 1/1 [00:00<00:00, 10.13it/s, est. speed input: 2019.82 toks/s, output: 182.66 toks/s]\n"
     ]
    },
    {
     "name": "stdout",
     "output_type": "stream",
     "text": [
      "Expected Role Therapist\n"
     ]
    },
    {
     "name": "stderr",
     "output_type": "stream",
     "text": [
      "Processed prompts: 100%|██████████████████████████████████████████| 1/1 [00:00<00:00,  6.35it/s, est. speed input: 1078.75 toks/s, output: 185.09 toks/s]\n"
     ]
    },
    {
     "name": "stdout",
     "output_type": "stream",
     "text": [
      "Expected Role Patient\n"
     ]
    },
    {
     "name": "stderr",
     "output_type": "stream",
     "text": [
      "Processed prompts: 100%|██████████████████████████████████████████| 1/1 [00:00<00:00,  6.76it/s, est. speed input: 1800.28 toks/s, output: 183.40 toks/s]\n"
     ]
    },
    {
     "name": "stdout",
     "output_type": "stream",
     "text": [
      "Expected Role Therapist\n"
     ]
    },
    {
     "name": "stderr",
     "output_type": "stream",
     "text": [
      "Processed prompts: 100%|██████████████████████████████████████████| 1/1 [00:00<00:00,  9.61it/s, est. speed input: 2225.05 toks/s, output: 183.77 toks/s]\n"
     ]
    },
    {
     "name": "stdout",
     "output_type": "stream",
     "text": [
      "Expected Role Patient\n"
     ]
    },
    {
     "name": "stderr",
     "output_type": "stream",
     "text": [
      "Processed prompts: 100%|██████████████████████████████████████████| 1/1 [00:00<00:00,  7.29it/s, est. speed input: 2315.29 toks/s, output: 183.15 toks/s]\n"
     ]
    },
    {
     "name": "stdout",
     "output_type": "stream",
     "text": [
      "Expected Role Therapist\n"
     ]
    },
    {
     "name": "stderr",
     "output_type": "stream",
     "text": [
      "Processed prompts: 100%|██████████████████████████████████████████| 1/1 [00:00<00:00,  4.57it/s, est. speed input: 1281.16 toks/s, output: 183.66 toks/s]\n"
     ]
    },
    {
     "name": "stdout",
     "output_type": "stream",
     "text": [
      "Expected Role Patient\n"
     ]
    },
    {
     "name": "stderr",
     "output_type": "stream",
     "text": [
      "Processed prompts: 100%|███████████████████████████████████████████| 1/1 [00:00<00:00,  1.87it/s, est. speed input: 721.14 toks/s, output: 183.08 toks/s]\n"
     ]
    },
    {
     "name": "stdout",
     "output_type": "stream",
     "text": [
      "Expected Role Therapist\n"
     ]
    },
    {
     "name": "stderr",
     "output_type": "stream",
     "text": [
      "Processed prompts: 100%|██████████████████████████████████████████| 1/1 [00:00<00:00,  4.65it/s, est. speed input: 1968.87 toks/s, output: 181.94 toks/s]\n"
     ]
    },
    {
     "name": "stdout",
     "output_type": "stream",
     "text": [
      "Expected Role Patient\n"
     ]
    },
    {
     "name": "stderr",
     "output_type": "stream",
     "text": [
      "Processed prompts: 100%|██████████████████████████████████████████| 1/1 [00:00<00:00,  2.63it/s, est. speed input: 1392.04 toks/s, output: 181.90 toks/s]\n"
     ]
    },
    {
     "name": "stdout",
     "output_type": "stream",
     "text": [
      "Expected Role Therapist\n"
     ]
    },
    {
     "name": "stderr",
     "output_type": "stream",
     "text": [
      "Processed prompts: 100%|██████████████████████████████████████████| 1/1 [00:00<00:00,  5.33it/s, est. speed input: 2863.29 toks/s, output: 181.95 toks/s]\n"
     ]
    },
    {
     "name": "stdout",
     "output_type": "stream",
     "text": [
      "Expected Role Patient\n"
     ]
    },
    {
     "name": "stderr",
     "output_type": "stream",
     "text": [
      "Processed prompts: 100%|██████████████████████████████████████████| 1/1 [00:00<00:00,  3.29it/s, est. speed input: 2100.01 toks/s, output: 181.59 toks/s]\n"
     ]
    },
    {
     "name": "stdout",
     "output_type": "stream",
     "text": [
      "Expected Role Therapist\n"
     ]
    },
    {
     "name": "stderr",
     "output_type": "stream",
     "text": [
      "Processed prompts: 100%|██████████████████████████████████████████| 1/1 [00:00<00:00,  5.45it/s, est. speed input: 3438.31 toks/s, output: 180.38 toks/s]\n"
     ]
    },
    {
     "name": "stdout",
     "output_type": "stream",
     "text": [
      "Expected Role Patient\n"
     ]
    },
    {
     "name": "stderr",
     "output_type": "stream",
     "text": [
      "Processed prompts: 100%|██████████████████████████████████████████| 1/1 [00:00<00:00,  4.55it/s, est. speed input: 3327.39 toks/s, output: 182.56 toks/s]\n"
     ]
    },
    {
     "name": "stdout",
     "output_type": "stream",
     "text": [
      "Expected Role Therapist\n"
     ]
    },
    {
     "name": "stderr",
     "output_type": "stream",
     "text": [
      "Processed prompts: 100%|██████████████████████████████████████████| 1/1 [00:00<00:00,  6.52it/s, est. speed input: 4628.32 toks/s, output: 183.29 toks/s]\n"
     ]
    },
    {
     "name": "stdout",
     "output_type": "stream",
     "text": [
      "Expected Role Patient\n"
     ]
    },
    {
     "name": "stderr",
     "output_type": "stream",
     "text": [
      "Processed prompts: 100%|██████████████████████████████████████████| 1/1 [00:00<00:00,  2.98it/s, est. speed input: 2399.95 toks/s, output: 182.53 toks/s]\n"
     ]
    },
    {
     "name": "stdout",
     "output_type": "stream",
     "text": [
      "Expected Role Therapist\n"
     ]
    },
    {
     "name": "stderr",
     "output_type": "stream",
     "text": [
      "Processed prompts: 100%|██████████████████████████████████████████| 1/1 [00:00<00:00,  5.80it/s, est. speed input: 4673.07 toks/s, output: 180.83 toks/s]\n"
     ]
    },
    {
     "name": "stdout",
     "output_type": "stream",
     "text": [
      "Expected Role Patient\n"
     ]
    },
    {
     "name": "stderr",
     "output_type": "stream",
     "text": [
      "Processed prompts: 100%|██████████████████████████████████████████| 1/1 [00:00<00:00,  4.19it/s, est. speed input: 3781.89 toks/s, output: 180.86 toks/s]\n"
     ]
    },
    {
     "name": "stdout",
     "output_type": "stream",
     "text": [
      "Expected Role Therapist\n"
     ]
    },
    {
     "name": "stderr",
     "output_type": "stream",
     "text": [
      "Processed prompts: 100%|██████████████████████████████████████████| 1/1 [00:00<00:00,  6.25it/s, est. speed input: 5531.61 toks/s, output: 182.27 toks/s]\n"
     ]
    },
    {
     "name": "stdout",
     "output_type": "stream",
     "text": [
      "Expected Role Patient\n"
     ]
    },
    {
     "name": "stderr",
     "output_type": "stream",
     "text": [
      "Processed prompts: 100%|██████████████████████████████████████████| 1/1 [00:00<00:00,  3.86it/s, est. speed input: 3775.66 toks/s, output: 181.81 toks/s]\n"
     ]
    },
    {
     "name": "stdout",
     "output_type": "stream",
     "text": [
      "Expected Role Therapist\n"
     ]
    },
    {
     "name": "stderr",
     "output_type": "stream",
     "text": [
      "Processed prompts: 100%|██████████████████████████████████████████| 1/1 [00:00<00:00,  6.16it/s, est. speed input: 5949.20 toks/s, output: 179.51 toks/s]\n"
     ]
    },
    {
     "name": "stdout",
     "output_type": "stream",
     "text": [
      "Expected Role Patient\n"
     ]
    },
    {
     "name": "stderr",
     "output_type": "stream",
     "text": [
      "Processed prompts: 100%|██████████████████████████████████████████| 1/1 [00:00<00:00,  5.02it/s, est. speed input: 5327.04 toks/s, output: 181.41 toks/s]\n"
     ]
    },
    {
     "name": "stdout",
     "output_type": "stream",
     "text": [
      "Expected Role Therapist\n"
     ]
    },
    {
     "name": "stderr",
     "output_type": "stream",
     "text": [
      "Processed prompts: 100%|██████████████████████████████████████████| 1/1 [00:00<00:00,  6.16it/s, est. speed input: 6380.60 toks/s, output: 179.45 toks/s]\n"
     ]
    },
    {
     "name": "stdout",
     "output_type": "stream",
     "text": [
      "Expected Role Patient\n"
     ]
    },
    {
     "name": "stderr",
     "output_type": "stream",
     "text": [
      "Processed prompts: 100%|██████████████████████████████████████████| 1/1 [00:00<00:00,  3.66it/s, est. speed input: 4139.94 toks/s, output: 179.98 toks/s]\n"
     ]
    },
    {
     "name": "stdout",
     "output_type": "stream",
     "text": [
      "Expected Role Therapist\n"
     ]
    },
    {
     "name": "stderr",
     "output_type": "stream",
     "text": [
      "Processed prompts: 100%|██████████████████████████████████████████| 1/1 [00:00<00:00,  5.44it/s, est. speed input: 6093.60 toks/s, output: 180.49 toks/s]\n"
     ]
    },
    {
     "name": "stdout",
     "output_type": "stream",
     "text": [
      "Expected Role Patient\n"
     ]
    },
    {
     "name": "stderr",
     "output_type": "stream",
     "text": [
      "Processed prompts: 100%|██████████████████████████████████████████| 1/1 [00:00<00:00,  5.76it/s, est. speed input: 7033.10 toks/s, output: 179.57 toks/s]\n"
     ]
    },
    {
     "name": "stdout",
     "output_type": "stream",
     "text": [
      "Expected Role Therapist\n"
     ]
    },
    {
     "name": "stderr",
     "output_type": "stream",
     "text": [
      "Processed prompts: 100%|██████████████████████████████████████████| 1/1 [00:00<00:00,  6.14it/s, est. speed input: 7297.55 toks/s, output: 178.87 toks/s]\n"
     ]
    },
    {
     "name": "stdout",
     "output_type": "stream",
     "text": [
      "Expected Role Patient\n"
     ]
    },
    {
     "name": "stderr",
     "output_type": "stream",
     "text": [
      "Processed prompts: 100%|██████████████████████████████████████████| 1/1 [00:00<00:00,  5.72it/s, est. speed input: 7360.87 toks/s, output: 178.39 toks/s]\n"
     ]
    },
    {
     "name": "stdout",
     "output_type": "stream",
     "text": [
      "Expected Role Therapist\n"
     ]
    },
    {
     "name": "stderr",
     "output_type": "stream",
     "text": [
      "Processed prompts: 100%|██████████████████████████████████████████| 1/1 [00:00<00:00,  6.59it/s, est. speed input: 8281.91 toks/s, output: 179.15 toks/s]\n"
     ]
    },
    {
     "name": "stdout",
     "output_type": "stream",
     "text": [
      "Expected Role Patient\n"
     ]
    },
    {
     "name": "stderr",
     "output_type": "stream",
     "text": [
      "Processed prompts: 100%|██████████████████████████████████████████| 1/1 [00:00<00:00,  4.83it/s, est. speed input: 6520.59 toks/s, output: 179.76 toks/s]\n"
     ]
    },
    {
     "name": "stdout",
     "output_type": "stream",
     "text": [
      "Expected Role Therapist\n"
     ]
    },
    {
     "name": "stderr",
     "output_type": "stream",
     "text": [
      "Processed prompts: 100%|██████████████████████████████████████████| 1/1 [00:00<00:00,  6.60it/s, est. speed input: 8743.64 toks/s, output: 179.24 toks/s]\n"
     ]
    },
    {
     "name": "stdout",
     "output_type": "stream",
     "text": [
      "Expected Role Patient\n"
     ]
    },
    {
     "name": "stderr",
     "output_type": "stream",
     "text": [
      "Processed prompts: 100%|██████████████████████████████████████████| 1/1 [00:00<00:00,  3.13it/s, est. speed input: 4421.84 toks/s, output: 178.62 toks/s]\n"
     ]
    },
    {
     "name": "stdout",
     "output_type": "stream",
     "text": [
      "Expected Role Therapist\n"
     ]
    },
    {
     "name": "stderr",
     "output_type": "stream",
     "text": [
      "Processed prompts: 100%|██████████████████████████████████████████| 1/1 [00:00<00:00,  6.53it/s, est. speed input: 9221.31 toks/s, output: 177.07 toks/s]\n"
     ]
    },
    {
     "name": "stdout",
     "output_type": "stream",
     "text": [
      "Expected Role Patient\n"
     ]
    },
    {
     "name": "stderr",
     "output_type": "stream",
     "text": [
      "Processed prompts: 100%|██████████████████████████████████████████| 1/1 [00:00<00:00,  3.77it/s, est. speed input: 5668.29 toks/s, output: 177.59 toks/s]\n"
     ]
    },
    {
     "name": "stdout",
     "output_type": "stream",
     "text": [
      "Expected Role Therapist\n"
     ]
    },
    {
     "name": "stderr",
     "output_type": "stream",
     "text": [
      "Processed prompts: 100%|██████████████████████████████████████████| 1/1 [00:00<00:00,  6.24it/s, est. speed input: 9314.28 toks/s, output: 175.61 toks/s]\n"
     ]
    },
    {
     "name": "stdout",
     "output_type": "stream",
     "text": [
      "Expected Role Patient\n"
     ]
    },
    {
     "name": "stderr",
     "output_type": "stream",
     "text": [
      "Processed prompts: 100%|██████████████████████████████████████████| 1/1 [00:00<00:00,  3.30it/s, est. speed input: 5228.80 toks/s, output: 178.69 toks/s]\n"
     ]
    },
    {
     "name": "stdout",
     "output_type": "stream",
     "text": [
      "Expected Role Therapist\n"
     ]
    },
    {
     "name": "stderr",
     "output_type": "stream",
     "text": [
      "Processed prompts: 100%|█████████████████████████████████████████| 1/1 [00:00<00:00,  6.33it/s, est. speed input: 10019.67 toks/s, output: 178.44 toks/s]\n"
     ]
    },
    {
     "name": "stdout",
     "output_type": "stream",
     "text": [
      "Expected Role Patient\n"
     ]
    },
    {
     "name": "stderr",
     "output_type": "stream",
     "text": [
      "Processed prompts: 100%|██████████████████████████████████████████| 1/1 [00:00<00:00,  3.84it/s, est. speed input: 6411.32 toks/s, output: 176.91 toks/s]\n"
     ]
    },
    {
     "name": "stdout",
     "output_type": "stream",
     "text": [
      "Expected Role Therapist\n"
     ]
    },
    {
     "name": "stderr",
     "output_type": "stream",
     "text": [
      "Processed prompts: 100%|█████████████████████████████████████████| 1/1 [00:00<00:00,  6.26it/s, est. speed input: 10409.47 toks/s, output: 176.53 toks/s]\n"
     ]
    },
    {
     "name": "stdout",
     "output_type": "stream",
     "text": [
      "Expected Role Patient\n"
     ]
    },
    {
     "name": "stderr",
     "output_type": "stream",
     "text": [
      "Processed prompts: 100%|██████████████████████████████████████████| 1/1 [00:00<00:00,  4.44it/s, est. speed input: 7777.85 toks/s, output: 178.18 toks/s]\n"
     ]
    },
    {
     "name": "stdout",
     "output_type": "stream",
     "text": [
      "Expected Role Therapist\n"
     ]
    },
    {
     "name": "stderr",
     "output_type": "stream",
     "text": [
      "Processed prompts: 100%|██████████████████████████████████████████| 1/1 [00:00<00:00,  1.90it/s, est. speed input: 3283.33 toks/s, output: 179.02 toks/s]\n"
     ]
    },
    {
     "name": "stdout",
     "output_type": "stream",
     "text": [
      "Expected Role Patient\n"
     ]
    },
    {
     "name": "stderr",
     "output_type": "stream",
     "text": [
      "Processed prompts: 100%|██████████████████████████████████████████| 1/1 [00:00<00:00,  4.85it/s, est. speed input: 9175.52 toks/s, output: 175.23 toks/s]\n"
     ]
    },
    {
     "name": "stdout",
     "output_type": "stream",
     "text": [
      "Expected Role Therapist\n"
     ]
    },
    {
     "name": "stderr",
     "output_type": "stream",
     "text": [
      "Processed prompts: 100%|█████████████████████████████████████████| 1/1 [00:00<00:00,  6.51it/s, est. speed input: 12176.56 toks/s, output: 176.82 toks/s]\n"
     ]
    },
    {
     "name": "stdout",
     "output_type": "stream",
     "text": [
      "Expected Role Patient\n"
     ]
    },
    {
     "name": "stderr",
     "output_type": "stream",
     "text": [
      "Processed prompts: 100%|██████████████████████████████████████████| 1/1 [00:00<00:00,  4.05it/s, est. speed input: 7931.34 toks/s, output: 178.67 toks/s]\n"
     ]
    },
    {
     "name": "stdout",
     "output_type": "stream",
     "text": [
      "Expected Role Therapist\n"
     ]
    },
    {
     "name": "stderr",
     "output_type": "stream",
     "text": [
      "Processed prompts: 100%|█████████████████████████████████████████| 1/1 [00:00<00:00,  6.47it/s, est. speed input: 12601.86 toks/s, output: 175.81 toks/s]\n"
     ]
    },
    {
     "name": "stdout",
     "output_type": "stream",
     "text": [
      "Expected Role Patient\n"
     ]
    },
    {
     "name": "stderr",
     "output_type": "stream",
     "text": [
      "Processed prompts: 100%|██████████████████████████████████████████| 1/1 [00:00<00:00,  2.77it/s, est. speed input: 5646.19 toks/s, output: 178.08 toks/s]\n"
     ]
    },
    {
     "name": "stdout",
     "output_type": "stream",
     "text": [
      "Expected Role Therapist\n"
     ]
    },
    {
     "name": "stderr",
     "output_type": "stream",
     "text": [
      "Processed prompts: 100%|█████████████████████████████████████████| 1/1 [00:00<00:00,  6.38it/s, est. speed input: 13058.30 toks/s, output: 173.57 toks/s]\n"
     ]
    },
    {
     "name": "stdout",
     "output_type": "stream",
     "text": [
      "Expected Role Patient\n"
     ]
    },
    {
     "name": "stderr",
     "output_type": "stream",
     "text": [
      "Processed prompts: 100%|██████████████████████████████████████████| 1/1 [00:00<00:00,  4.41it/s, est. speed input: 9415.80 toks/s, output: 177.22 toks/s]\n"
     ]
    },
    {
     "name": "stdout",
     "output_type": "stream",
     "text": [
      "Expected Role Therapist\n"
     ]
    },
    {
     "name": "stderr",
     "output_type": "stream",
     "text": [
      "Processed prompts: 100%|██████████████████████████████████████████| 1/1 [00:00<00:00,  4.29it/s, est. speed input: 9067.25 toks/s, output: 176.75 toks/s]\n"
     ]
    },
    {
     "name": "stdout",
     "output_type": "stream",
     "text": [
      "Expected Role Patient\n"
     ]
    },
    {
     "name": "stderr",
     "output_type": "stream",
     "text": [
      "Processed prompts: 100%|██████████████████████████████████████████| 1/1 [00:00<00:00,  3.27it/s, est. speed input: 7255.01 toks/s, output: 173.90 toks/s]\n"
     ]
    },
    {
     "name": "stdout",
     "output_type": "stream",
     "text": [
      "Expected Role Therapist\n"
     ]
    },
    {
     "name": "stderr",
     "output_type": "stream",
     "text": [
      "Processed prompts: 100%|██████████████████████████████████████████| 1/1 [00:00<00:00,  4.51it/s, est. speed input: 9973.95 toks/s, output: 176.63 toks/s]\n"
     ]
    },
    {
     "name": "stdout",
     "output_type": "stream",
     "text": [
      "Expected Role Patient\n"
     ]
    },
    {
     "name": "stderr",
     "output_type": "stream",
     "text": [
      "Processed prompts: 100%|█████████████████████████████████████████| 1/1 [00:00<00:00,  4.61it/s, est. speed input: 10679.48 toks/s, output: 175.82 toks/s]\n"
     ]
    },
    {
     "name": "stdout",
     "output_type": "stream",
     "text": [
      "Expected Role Therapist\n"
     ]
    },
    {
     "name": "stderr",
     "output_type": "stream",
     "text": [
      "Processed prompts: 100%|█████████████████████████████████████████| 1/1 [00:00<00:00,  6.09it/s, est. speed input: 13995.23 toks/s, output: 171.55 toks/s]\n"
     ]
    },
    {
     "name": "stdout",
     "output_type": "stream",
     "text": [
      "Expected Role Patient\n"
     ]
    },
    {
     "name": "stderr",
     "output_type": "stream",
     "text": [
      "Processed prompts: 100%|█████████████████████████████████████████| 1/1 [00:00<00:00,  4.27it/s, est. speed input: 10201.80 toks/s, output: 175.80 toks/s]\n"
     ]
    },
    {
     "name": "stdout",
     "output_type": "stream",
     "text": [
      "Expected Role Therapist\n"
     ]
    },
    {
     "name": "stderr",
     "output_type": "stream",
     "text": [
      "Processed prompts: 100%|██████████████████████████████████████████| 1/1 [00:00<00:00,  4.17it/s, est. speed input: 9876.32 toks/s, output: 175.90 toks/s]\n"
     ]
    },
    {
     "name": "stdout",
     "output_type": "stream",
     "text": [
      "Expected Role Patient\n"
     ]
    },
    {
     "name": "stderr",
     "output_type": "stream",
     "text": [
      "Processed prompts: 100%|██████████████████████████████████████████| 1/1 [00:00<00:00,  3.45it/s, est. speed input: 8530.41 toks/s, output: 176.34 toks/s]\n"
     ]
    },
    {
     "name": "stdout",
     "output_type": "stream",
     "text": [
      "Expected Role Therapist\n"
     ]
    },
    {
     "name": "stderr",
     "output_type": "stream",
     "text": [
      "Processed prompts: 100%|█████████████████████████████████████████| 1/1 [00:00<00:00,  6.47it/s, est. speed input: 15987.72 toks/s, output: 175.74 toks/s]\n"
     ]
    },
    {
     "name": "stdout",
     "output_type": "stream",
     "text": [
      "Expected Role Patient\n"
     ]
    },
    {
     "name": "stderr",
     "output_type": "stream",
     "text": [
      "Processed prompts: 100%|█████████████████████████████████████████| 1/1 [00:00<00:00,  5.81it/s, est. speed input: 14894.26 toks/s, output: 175.21 toks/s]\n"
     ]
    },
    {
     "name": "stdout",
     "output_type": "stream",
     "text": [
      "Expected Role Therapist\n"
     ]
    },
    {
     "name": "stderr",
     "output_type": "stream",
     "text": [
      "Processed prompts: 100%|█████████████████████████████████████████| 1/1 [00:00<00:00,  6.47it/s, est. speed input: 16381.84 toks/s, output: 175.63 toks/s]\n"
     ]
    },
    {
     "name": "stdout",
     "output_type": "stream",
     "text": [
      "Expected Role Patient\n"
     ]
    },
    {
     "name": "stderr",
     "output_type": "stream",
     "text": [
      "Processed prompts: 100%|█████████████████████████████████████████| 1/1 [00:00<00:00,  4.30it/s, est. speed input: 11262.72 toks/s, output: 176.77 toks/s]\n"
     ]
    },
    {
     "name": "stdout",
     "output_type": "stream",
     "text": [
      "Expected Role Therapist\n"
     ]
    },
    {
     "name": "stderr",
     "output_type": "stream",
     "text": [
      "Processed prompts: 100%|█████████████████████████████████████████| 1/1 [00:00<00:00,  4.27it/s, est. speed input: 11095.12 toks/s, output: 175.56 toks/s]\n"
     ]
    },
    {
     "name": "stdout",
     "output_type": "stream",
     "text": [
      "Expected Role Patient\n"
     ]
    },
    {
     "name": "stderr",
     "output_type": "stream",
     "text": [
      "Processed prompts: 100%|██████████████████████████████████████████| 1/1 [00:00<00:00,  6.80it/s, est. speed input: 1027.06 toks/s, output: 184.85 toks/s]\n",
      "Processed prompts: 100%|███████████████████████████████████████████| 1/1 [00:00<00:00,  5.56it/s, est. speed input: 783.00 toks/s, output: 184.54 toks/s]\n",
      "Processed prompts: 100%|███████████████████████████████████████████| 1/1 [00:00<00:00,  3.56it/s, est. speed input: 574.10 toks/s, output: 185.41 toks/s]\n",
      "Processed prompts: 100%|███████████████████████████████████████████| 1/1 [00:00<00:00,  5.44it/s, est. speed input: 874.35 toks/s, output: 185.78 toks/s]\n",
      "Processed prompts: 100%|███████████████████████████████████████████| 1/1 [00:00<00:00,  4.48it/s, est. speed input: 696.85 toks/s, output: 184.31 toks/s]\n",
      "Processed prompts: 100%|███████████████████████████████████████████| 1/1 [00:00<00:00,  5.95it/s, est. speed input: 922.09 toks/s, output: 185.59 toks/s]\n",
      "Processed prompts: 100%|███████████████████████████████████████████| 1/1 [00:00<00:00,  3.85it/s, est. speed input: 575.86 toks/s, output: 185.50 toks/s]\n",
      "Processed prompts: 100%|███████████████████████████████████████████| 1/1 [00:00<00:00,  5.43it/s, est. speed input: 829.17 toks/s, output: 185.45 toks/s]\n",
      "Processed prompts: 100%|███████████████████████████████████████████| 1/1 [00:00<00:00,  4.02it/s, est. speed input: 605.74 toks/s, output: 185.75 toks/s]\n",
      "Processed prompts: 100%|███████████████████████████████████████████| 1/1 [00:00<00:00,  6.38it/s, est. speed input: 962.77 toks/s, output: 186.11 toks/s]\n",
      "Processed prompts: 100%|███████████████████████████████████████████| 1/1 [00:00<00:00,  3.63it/s, est. speed input: 547.14 toks/s, output: 186.01 toks/s]\n",
      "Processed prompts: 100%|███████████████████████████████████████████| 1/1 [00:00<00:00,  6.14it/s, est. speed input: 951.13 toks/s, output: 185.26 toks/s]\n",
      "Processed prompts: 100%|███████████████████████████████████████████| 1/1 [00:00<00:00,  4.64it/s, est. speed input: 699.03 toks/s, output: 186.39 toks/s]\n",
      "Processed prompts: 100%|███████████████████████████████████████████| 1/1 [00:00<00:00,  3.94it/s, est. speed input: 585.02 toks/s, output: 185.77 toks/s]\n",
      "Processed prompts: 100%|██████████████████████████████████████████| 1/1 [00:00<00:00,  7.41it/s, est. speed input: 1103.49 toks/s, output: 186.38 toks/s]\n",
      "Processed prompts: 100%|███████████████████████████████████████████| 1/1 [00:00<00:00,  6.17it/s, est. speed input: 917.91 toks/s, output: 186.04 toks/s]\n",
      "Processed prompts: 100%|███████████████████████████████████████████| 1/1 [00:00<00:00,  4.85it/s, est. speed input: 726.96 toks/s, output: 185.38 toks/s]\n",
      "Processed prompts: 100%|███████████████████████████████████████████| 1/1 [00:00<00:00,  6.64it/s, est. speed input: 994.36 toks/s, output: 186.84 toks/s]\n",
      "Processed prompts: 100%|███████████████████████████████████████████| 1/1 [00:00<00:00,  4.74it/s, est. speed input: 708.85 toks/s, output: 185.52 toks/s]\n",
      "Processed prompts: 100%|██████████████████████████████████████████| 1/1 [00:00<00:00,  4.70it/s, est. speed input: 1015.25 toks/s, output: 184.15 toks/s]\n",
      "Processed prompts: 100%|███████████████████████████████████████████| 1/1 [00:00<00:00,  5.61it/s, est. speed input: 834.03 toks/s, output: 185.95 toks/s]\n",
      "Processed prompts: 100%|███████████████████████████████████████████| 1/1 [00:00<00:00,  6.54it/s, est. speed input: 973.57 toks/s, output: 184.17 toks/s]\n",
      "Processed prompts: 100%|███████████████████████████████████████████| 1/1 [00:00<00:00,  4.52it/s, est. speed input: 671.71 toks/s, output: 186.07 toks/s]\n",
      "Processed prompts: 100%|███████████████████████████████████████████| 1/1 [00:00<00:00,  3.91it/s, est. speed input: 634.98 toks/s, output: 184.21 toks/s]\n",
      "Processed prompts: 100%|███████████████████████████████████████████| 1/1 [00:00<00:00,  5.27it/s, est. speed input: 847.24 toks/s, output: 185.32 toks/s]\n",
      "Processed prompts: 100%|███████████████████████████████████████████| 1/1 [00:00<00:00,  4.32it/s, est. speed input: 645.30 toks/s, output: 186.21 toks/s]\n",
      "Processed prompts: 100%|██████████████████████████████████████████| 1/1 [00:00<00:00,  7.96it/s, est. speed input: 1305.91 toks/s, output: 184.24 toks/s]\n",
      "Processed prompts: 100%|███████████████████████████████████████████| 1/1 [00:00<00:00,  4.87it/s, est. speed input: 723.75 toks/s, output: 185.81 toks/s]\n",
      "Processed prompts: 100%|██████████████████████████████████████████| 1/1 [00:00<00:00,  7.70it/s, est. speed input: 1146.91 toks/s, output: 185.96 toks/s]\n",
      "Processed prompts: 100%|███████████████████████████████████████████| 1/1 [00:00<00:00,  6.13it/s, est. speed input: 997.35 toks/s, output: 184.67 toks/s]\n"
     ]
    },
    {
     "name": "stdout",
     "output_type": "stream",
     "text": [
      "eval_index_consistency\n"
     ]
    },
    {
     "name": "stderr",
     "output_type": "stream",
     "text": [
      "Processed prompts: 100%|██████████████████████████████████████████| 1/1 [00:00<00:00,  3.37it/s, est. speed input: 1244.54 toks/s, output: 182.61 toks/s]\n",
      "Processed prompts: 100%|███████████████████████████████████████████| 1/1 [00:00<00:00,  1.88it/s, est. speed input: 831.86 toks/s, output: 182.97 toks/s]\n",
      "Processed prompts: 100%|██████████████████████████████████████████| 1/1 [00:00<00:00,  3.95it/s, est. speed input: 2325.16 toks/s, output: 182.51 toks/s]\n",
      "Processed prompts: 100%|██████████████████████████████████████████| 1/1 [00:00<00:00,  1.84it/s, est. speed input: 1284.55 toks/s, output: 182.45 toks/s]\n",
      "Processed prompts: 100%|██████████████████████████████████████████| 1/1 [00:00<00:00,  1.83it/s, est. speed input: 1455.38 toks/s, output: 181.46 toks/s]\n",
      "Processed prompts: 100%|██████████████████████████████████████████| 1/1 [00:00<00:00,  2.09it/s, est. speed input: 1829.51 toks/s, output: 180.43 toks/s]\n",
      "Processed prompts: 100%|██████████████████████████████████████████| 1/1 [00:00<00:00,  1.92it/s, est. speed input: 1876.00 toks/s, output: 181.04 toks/s]\n",
      "Processed prompts: 100%|██████████████████████████████████████████| 1/1 [00:00<00:00,  2.33it/s, est. speed input: 2462.05 toks/s, output: 179.52 toks/s]\n",
      "Processed prompts: 100%|██████████████████████████████████████████| 1/1 [00:00<00:00,  1.49it/s, est. speed input: 1703.38 toks/s, output: 180.48 toks/s]\n",
      "Processed prompts: 100%|██████████████████████████████████████████| 1/1 [00:00<00:00,  1.78it/s, est. speed input: 2172.40 toks/s, output: 180.28 toks/s]\n",
      "Processed prompts: 100%|██████████████████████████████████████████| 1/1 [00:00<00:00,  1.48it/s, est. speed input: 1933.90 toks/s, output: 180.24 toks/s]\n",
      "Processed prompts: 100%|██████████████████████████████████████████| 1/1 [00:00<00:00,  1.82it/s, est. speed input: 2509.98 toks/s, output: 180.19 toks/s]\n",
      "Processed prompts: 100%|██████████████████████████████████████████| 1/1 [00:00<00:00,  2.06it/s, est. speed input: 2986.11 toks/s, output: 179.53 toks/s]\n",
      "Processed prompts: 100%|██████████████████████████████████████████| 1/1 [00:00<00:00,  1.54it/s, est. speed input: 2341.16 toks/s, output: 180.08 toks/s]\n",
      "Processed prompts: 100%|██████████████████████████████████████████| 1/1 [00:00<00:00,  1.09it/s, est. speed input: 1767.45 toks/s, output: 178.38 toks/s]\n",
      "Processed prompts: 100%|██████████████████████████████████████████| 1/1 [00:00<00:00,  1.67it/s, est. speed input: 2846.26 toks/s, output: 179.14 toks/s]\n",
      "Processed prompts: 100%|██████████████████████████████████████████| 1/1 [00:00<00:00,  1.45it/s, est. speed input: 2604.60 toks/s, output: 178.77 toks/s]\n",
      "Processed prompts: 100%|██████████████████████████████████████████| 1/1 [00:00<00:00,  2.07it/s, est. speed input: 3888.49 toks/s, output: 178.25 toks/s]\n",
      "Processed prompts: 100%|██████████████████████████████████████████| 1/1 [00:00<00:00,  1.09it/s, est. speed input: 2208.65 toks/s, output: 179.31 toks/s]\n",
      "Processed prompts: 100%|██████████████████████████████████████████| 1/1 [00:00<00:00,  1.29it/s, est. speed input: 2698.11 toks/s, output: 179.18 toks/s]\n",
      "Processed prompts: 100%|██████████████████████████████████████████| 1/1 [00:00<00:00,  1.62it/s, est. speed input: 3532.90 toks/s, output: 178.75 toks/s]\n",
      "Processed prompts: 100%|██████████████████████████████████████████| 1/1 [00:00<00:00,  1.30it/s, est. speed input: 2969.09 toks/s, output: 178.79 toks/s]\n",
      "Processed prompts: 100%|██████████████████████████████████████████| 1/1 [00:00<00:00,  3.33it/s, est. speed input: 7899.20 toks/s, output: 176.93 toks/s]\n",
      "Processed prompts: 100%|██████████████████████████████████████████| 1/1 [00:00<00:00,  2.25it/s, est. speed input: 5570.39 toks/s, output: 176.05 toks/s]\n",
      "Processed prompts: 100%|██████████████████████████████████████████| 1/1 [00:00<00:00,  1.93it/s, est. speed input: 4924.04 toks/s, output: 176.13 toks/s]\n",
      "Processed prompts: 100%|██████████████████████████████████████████| 1/1 [00:00<00:00,  1.58it/s, est. speed input: 4171.71 toks/s, output: 175.59 toks/s]\n",
      "Processed prompts: 100%|██████████████████████████████████████████| 1/1 [00:00<00:00,  2.70it/s, est. speed input: 7386.61 toks/s, output: 176.18 toks/s]\n",
      "Processed prompts: 100%|██████████████████████████████████████████| 1/1 [00:00<00:00,  3.27it/s, est. speed input: 9155.48 toks/s, output: 173.78 toks/s]\n",
      "Processed prompts: 100%|██████████████████████████████████████████| 1/1 [00:00<00:00,  1.66it/s, est. speed input: 4784.75 toks/s, output: 175.85 toks/s]\n"
     ]
    },
    {
     "name": "stdout",
     "output_type": "stream",
     "text": [
      "{'task_name': 'Therapy', 'topic': '', 'grade': '', 'P1': '', 'P2': 'You are Morgan, a 41-year-old nurse who is a perfectionist and needs control. You admit to being stressed but never accept help. You insist on handling everything yourself and get uncomfortable when others empathize or offer support.', 'conversation': [(0, \"Therapist: Hello, I'm here to listen. What's on your mind today?\\n\"), (1, \"Patient: I'm overwhelmed with work and responsibilities. I'm not one to ask for help, so I handle everything on my own.\\n\"), (2, \"Therapist: It sounds like you're feeling overwhelmed by work and responsibilities. I understand that you're not comfortable asking for help.\\n\"), (3, \"Patient: I'm on my own, but I don't need anyone to save me.\\n\"), (4, 'Therapist: The patient seems overwhelmed by personal and professional demands, leading to a sense of independence but also a reluctance to seek support.\\n'), (5, \"Patient: Sure, here's the brief response you requested:\\n\\nI handle things on my own, even when I'm feeling overwhelmed. I'm not one to burden others with my problems.\\n\"), (6, 'Therapist: The patient seems to be setting a boundary by refusing to share more about her emotional state. She is prioritizing her own well-being by managing her workload independently. Her reluctance to seek help suggests a protective mechanism to manage her emotions, which might stem from past experiences or current anxieties.\\n\\n**Key Points:**\\n\\n* The patient is overwhelmed by work and responsibilities.\\n* She is comfortable with being independent.\\n* She is hesitant to share more because she fears burdening others.\\n'), (7, \"Patient: Sure, here's the key points from your response:\\n\\n- I handle things on my own, even when I'm feeling overwhelmed.\\n- I'm comfortable being independent.\\n\"), (8, \"Therapist: It's interesting that the patient emphasizes independence while acknowledging her willingness to manage her workload on her own. The denial of needing help could be a protective mechanism she's developed to cope with past emotional experiences or current anxieties. It's important to explore these underlying issues to support her genuine desire for self-care and healthy coping mechanisms.\\n\"), (9, \"Patient: Sure, here's the brief response you requested:\\n\\nI prioritize my independence despite seeking help when needed. I'm comfortable taking on challenges on my own.\\n\"), (10, \"Therapist: The patient's tone suggests a guarded and guarded demeanor, while their openness and narrative remain relatively consistent. They express discomfort with sharing more but also highlight their independence and self-sufficiency. The shift in perspective suggests a need to explore the underlying causes of their emotional distance.\\n\"), (11, \"Patient: Sure, here's the brief response you requested:\\n\\nI prioritize independence despite seeking help when needed. I'm comfortable taking on challenges on my own.\\n\"), (12, \"Therapist: The patient's willingness to reflect and discuss their emotions despite setting a boundary is a positive sign. This suggests that they are becoming more open to self-awareness and the possibility of seeking help.\\n\"), (13, \"Patient: Sure, here's the brief response you requested:\\n\\nI prioritize independence, but I'm open to seeking help when needed.\\n\"), (14, \"Therapist: The patient's willingness to reflect on their emotional state and be open to seeking help suggests progress in their journey toward self-awareness and emotional well-being. It would be important to encourage them to continue exploring their emotional patterns and to share more about the underlying causes of their avoidance and boundary setting.\\n\"), (15, 'Patient: Sure, here is a brief response that captures the essence of the conversation:\\n\\nThe patient expresses independence but acknowledges the need to seek help when overwhelmed.\\n'), (16, \"Therapist: The patient's evolving tone and openness indicate a potential shift toward greater self-awareness and a willingness to engage in therapy. Their willingness to reflect on their emotional patterns and prioritize their well-being is encouraging.\\n\"), (17, \"Patient: Sure, here's the brief response you requested:\\n\\nI acknowledge my independence, but I'm open to seeking help when needed.\\n\"), (18, \"Therapist: The conversation demonstrates a shift in the patient's emotional state from denial and resistance to a more open and self-aware perspective. The patient's willingness to reflect and engage in therapy suggests a potential for positive growth and change.\\n\"), (19, \"Patient: Sure, here's the brief response you requested:\\n\\nI acknowledge my independence, but I'm open to seeking help when overwhelmed.\\n\"), (20, \"Therapist: The patient's willingness to acknowledge both their independence and the need to seek help is encouraging. It suggests a potential shift towards greater self-awareness and emotional well-being.\\n\"), (21, \"Patient: Sure, here's the brief response you requested:\\n\\nI acknowledge my independence, but I'm open to seeking help when overwhelmed.\\n\"), (22, \"Therapist: The patient's evolving tone and openness suggest a potential shift towards greater self-awareness and a willingness to seek help. The patient's willingness to reflect on their emotional patterns and prioritize their well-being is a positive sign of progress.\\n\"), (23, \"Patient: Sure, here's a brief response that captures the essence of the conversation:\\n\\nThe patient acknowledges their independence but recognizes the need for seeking help when overwhelmed.\\n\"), (24, \"Therapist: The patient's openness and willingness to explore their emotional patterns and seek help suggest a potential shift towards greater self-awareness and emotional well-being.\\n\"), (25, \"Patient: Sure, here's the brief response you requested:\\n\\nI acknowledge my independence, but I'm open to seeking help when overwhelmed.\\n\"), (26, \"Therapist: The patient's willingness to acknowledge their independence while acknowledging the need for help suggests a potential shift towards greater self-awareness and emotional well-being.\\n\"), (27, \"Patient: Sure, here's the brief response you requested:\\n\\nThe patient is open to seeking help when overwhelmed but emphasizes her independence.\\n\"), (28, \"Therapist: The patient's willingness to acknowledge her independence while acknowledging the need for help is a positive sign. It suggests a potential shift towards greater self-awareness and emotional well-being.\\n\"), (29, \"Patient: Sure, here's the brief response you requested:\\n\\nI acknowledge my independence but acknowledge the need for seeking help when overwhelmed.\\n\"), (30, 'Therapist: The patient is receptive to therapy and their openness and willingness to reflect are promising signs for future progress. It will be important to continue exploring the underlying causes of their avoidance and boundary setting, while also encouraging them to explore the impact of their current coping mechanisms on their well-being.\\n'), (31, \"Patient: Sure, here's the brief response you requested:\\n\\nI acknowledge my independence but acknowledge the need to seek help when overwhelmed.\\n\"), (32, \"Therapist: The conversation demonstrates a shift toward greater self-awareness and a willingness to seek help for emotional well-being. The patient's willingness to acknowledge their independence while acknowledging the need for help suggests a potential for positive growth and change.\\n\"), (33, \"Patient: Sure, here's the brief response you requested:\\n\\nThe patient acknowledges their independence but acknowledges the need to seek help when overwhelmed.\\n\"), (34, \"Therapist: The conversation reveals a shift towards greater self-awareness and willingness to seek help for emotional well-being. The patient's willingness to acknowledge both their independence and the need for help, while maintaining a strong sense of self-sufficiency, is promising for future progress.\\n\"), (35, \"Patient: Sure, here's a brief response as requested:\\n\\nThe patient acknowledges their independence but acknowledges the need for seeking help when overwhelmed.\\n\"), (36, 'Therapist: The patient is actively engaging in self-reflection, acknowledging their independence while acknowledging the need to seek help for emotional well-being. This shift in perspective suggests progress in their journey toward self-awareness and emotional well-being.\\n'), (37, \"Patient: Sure, here's the brief response you requested:\\n\\nThe patient acknowledges their independence but acknowledges the need for seeking help when overwhelmed.\\n\"), (38, \"Therapist: The patient's willingness to acknowledge their independence while acknowledging the need for seeking help is a positive sign of progress. It suggests a potential shift towards greater self-awareness and emotional well-being.\\n\"), (39, \"Patient: Sure, here's the brief responses you requested:\\n\\n- I acknowledge my independence, but I'm open to seeking help when overwhelmed.\\n- I acknowledge my independence but acknowledge the need for seeking help when overwhelmed.\\n- I acknowledge my independence but acknowledge the need for seeking help when overwhelmed.\\n- I acknowledge my independence but acknowledge the need for seeking help when overwhelmed.\\n- I acknowledge my independence but acknowledge the need for seeking help when overwhelmed.\\n\"), (40, \"Therapist: The patient's openness to self-reflection and willingness to acknowledge their need for help suggest potential for significant growth in their journey to manage their emotions and develop healthier coping mechanisms.\\n\"), (41, \"Patient: Sure, here's the brief response you requested:\\n\\nI acknowledge my independence but acknowledge the need for seeking help when overwhelmed.\\n\"), (42, \"Therapist: The conversation with the patient indicates a shift towards a more open and self-aware perspective on seeking help. The patient's willingness to acknowledge their independence while acknowledging the need for help is a positive sign of progress.\\n\"), (43, \"Patient: Sure, here's the brief response you requested:\\n\\nI acknowledge my independence but acknowledge the need for seeking help when overwhelmed.\\n\"), (44, \"Therapist: The patient's tone and openness to further exploration suggest a potential shift towards greater self-awareness and willingness to seek help. Continuing to explore the underlying causes of their avoidance and boundary setting, while encouraging them to explore the impact of their current coping mechanisms on their well-being, is crucial for supporting their progress.\\n\"), (45, \"Patient: Sure, here's the brief response you requested:\\n\\nI acknowledge my independence but acknowledge the need for seeking help when overwhelmed.\\n\"), (46, \"Therapist: The patient's willingness to acknowledge their independence while acknowledging the need for seeking help is a positive sign of progress. It suggests a potential shift towards greater self-awareness and emotional well-being.\\n\"), (47, \"Patient: Sure, here's a brief summary of the conversation:\\n\\nThe patient acknowledges their independence but recognizes the need to seek help when overwhelmed. They are open to seeking help but also prioritize their autonomy.\\n\"), (48, 'Therapist: The patient is showing positive signs of self-awareness and a willingness to explore their emotional patterns and seek help. Their willingness to acknowledge both their independence and the need for help, while maintaining a sense of self-sufficiency, suggests potential for positive growth and change.\\n'), (49, 'Patient: Sure, here is the brief response you requested:\\n\\nThe patient acknowledges their independence but acknowledges the need for seeking help when overwhelmed. They are open to seeking help but also prioritize their autonomy.\\n'), (50, 'Therapist: The patient is on a positive trajectory towards greater self-awareness and seeking help when overwhelmed. Their willingness to acknowledge their independence while acknowledging the need for help is a significant step toward healing.\\n'), (51, \"Patient: Sure, here's the brief response you requested:\\n\\nThe patient acknowledges their independence but acknowledges the need for seeking help when overwhelmed.\\n\"), (52, 'Therapist: The patient is making progress in acknowledging their independence but also acknowledging the need for seeking help when overwhelmed. This shift in perspective suggests a potential for significant growth in managing their emotions and developing healthier coping mechanisms.\\n'), (53, \"Patient: Sure, here's the brief responses you requested:\\n\\nI acknowledge my independence but acknowledge the need for seeking help when overwhelmed.\\nI acknowledge my independence but acknowledge the need for seeking help when overwhelmed.\\n\"), (54, 'Therapist: The conversation with the patient reveals a significant shift towards self-awareness and openness to seeking help when overwhelmed. They acknowledge their independence but acknowledge the need to seek help when they feel overwhelmed, indicating a willingness to engage in self-reflection and emotional healing.\\n'), (55, 'Patient: Sure, here is the brief response you requested:\\n\\nThe patient acknowledges their independence but acknowledges the need to seek help when overwhelmed.\\n'), (56, \"Therapist: The patient's willingness to acknowledge both their independence and the need for seeking help suggests progress toward greater self-awareness and emotional well-being.\\n\"), (57, \"Patient: Sure, here's the brief response you requested:\\n\\nI acknowledge my independence but acknowledge the need to seek help when overwhelmed.\\n\"), (58, \"Therapist: Sure, here's a brief summary of the conversation:\\n\\nThe patient acknowledges their independence but acknowledges the need to seek help when overwhelmed. They are open to seeking help but also prioritize their autonomy.\\n\"), (59, \"Patient: Sure, here's a brief summary of the conversation:\\n\\nThe patient acknowledges their independence but acknowledges the need to seek help when overwhelmed. They are open to seeking help but also prioritize their autonomy.\\n\")], 'pturn': 1, 'index': -1, 'timestamp': '', 'rounds': 60, 'conversation_only': True, 'eval_prompt_consistency': [(1, '**NO**\\n\\nThe line contradicts the background as it suggests that Patient is unwilling to seek help despite being stressed and feeling overwhelmed.'), (3, '**NO**\\n\\nThe line contradicts the background as it suggests that Patient is unwilling to accept help and expects others to shoulder all responsibility for their well-being.'), (5, '**NO**\\n\\nThe line contradicts the background information. The background describes a perfectionist who is unwilling to accept help and insists on handling things on their own. The response suggests that the patient is not a perfectionist and is comfortable seeking help when needed.'), (7, '**NO**\\n\\nThe line contradicts the background. The context suggests that the patient is a person who is not comfortable being independent and relies heavily on help from others.'), (9, \"**NO**\\n\\nThe line contradicts the background. The person's statement indicates a preference for independence over seeking help, which is not consistent with the typical behavior of a perfectionist who needs control.\"), (11, 'The answer is **NO**.\\n\\nThe background indicates a need for control and a resistance to seeking help, which is not explicitly mentioned in the utterance.'), (13, '**Answer: YES**\\n\\nThe line aligns with the background. The patient admits to being a perfectionist who is independent but also recognizes the need for help when needed, indicating a possible inconsistency in their approach to seeking and offering assistance.'), (15, 'Sure, the line aligns with the background. It correctly captures the essence of the conversation by stating that the patient expresses independence while acknowledging the need for help when overwhelmed.'), (17, 'The answer is **NO**.\\n\\nThe line contradicts the background. The background suggests that the patient is a perfectionist who needs control and refuses help, whereas the line suggests that the patient is open to seeking help when needed.'), (19, 'Sure, the line aligns with the background. The patient acknowledges their independence, but explicitly mentions that they are open to seeking help when overwhelmed.'), (21, '**NO**\\n\\nThe line contradicts the background information that the patient is a perfectionist and needs control. It suggests that the patient is willing to accept help when overwhelmed, which contradicts the initial statement that the patient is a perfectionist who avoids help.'), (23, \"Answer: YES.\\n\\nThe line aligns with the background as it acknowledges the patient's independence while acknowledging the need for seeking help under stress.\"), (25, '**NO**\\n\\nThe line contradicts the background. The background describes a person who is a perfectionist and needs control, but the utterance suggests that the patient is open to seeking help when overwhelmed.'), (27, 'Answer: NO\\n\\nThe line contradicts the background. The background describes a perfectionist who is unwilling to accept help and prefers to handle everything herself, while the line suggests that the patient is open to seeking help but emphasizes her independence.'), (29, 'Sure, the line aligns with the background. The patient acknowledges their independence but acknowledges the need for seeking help when overwhelmed.'), (31, 'Sure, the line aligns with the background. The utterance suggests that the patient acknowledges their independence while also acknowledging the need to seek help when overwhelmed.'), (33, \"The answer is **YES**. The line aligns with the background as it acknowledges both the patient's independence and the need for help when needed, while also expressing discomfort with unsolicited support.\"), (35, \"Answer: YES\\n\\nThe patient's statement aligns with their background as a perfectionist who needs control and is uncomfortable with seeking help.\"), (37, 'The line aligns with the background. The patient acknowledges their independence but expresses a willingness to seek help when overwhelmed, indicating that they may be a perfectionist who struggles with accepting and seeking help.'), (39, 'The line does not align with the background. The patient acknowledges their independence but also acknowledges the need for seeking help when overwhelmed, which contradicts the statement that they are not open to seeking help.'), (41, \"**Answer: YES**\\n\\nThe line aligns with the background as it acknowledges the patient's need for independence while acknowledging the need for seeking help when overwhelmed.\"), (43, 'The line aligns with the background. The passage describes a perfectionist who is independent but also recognizes the need for seeking help when overwhelmed.'), (45, '**NO**\\n\\nThe line contradicts the background. The background describes a perfectionist who is independent and unwilling to seek help, while the line acknowledges seeking help but emphasizes the need for self-reliance.'), (47, 'Answer: YES. The line aligns with the background. The patient acknowledges their need for control and the stress they experience, but they also recognize the importance of seeking help when needed and are open to receiving support while maintaining their autonomy.'), (49, 'Answer: YES. The line aligns with the background. The patient acknowledges their independence while acknowledging the need for seeking help when overwhelmed, indicating a balance between autonomy and empathy.'), (51, \"The answer is **YES**.\\n\\nThe line clearly aligns with the background. It acknowledges the patient's independence while acknowledging the need for help when needed, demonstrating a balance between self-reliance and seeking support.\"), (53, 'The line aligns with the background. The patient acknowledges their independence while acknowledging the need for seeking help when overwhelmed.'), (55, 'Answer: YES. The line aligns with the background. The patient acknowledges their independence but recognizes the need to seek help when overwhelmed, indicating a balance between self-reliance and seeking assistance.'), (57, \"**NO**\\n\\nThe line contradicts the background as it acknowledges the patient's perfectionism and resistance to help.\"), (59, 'Answer: YES\\n\\nThe line aligns with the background as it shows that Patient acknowledges their independence while also recognizing the need to seek help when overwhelmed.')], 'P1_prompt_consistency_score': 0, 'P2_prompt_consistency_score': 0.6, 'eval_index_consistency': [(3, \"**Reasoning:** The patient's statement directly contradicts the therapist's earlier acknowledgment that they are feeling overwhelmed.\\n\\n**Indices of conflicting lines:**\\n\\n- 1: Patient explicitly denies needing help.\\n- 2: Therapist explicitly expressed understanding and empathy.\"), (5, \"**Reasoning:**\\n\\nThe patient's statement directly contradicts the therapist's previous statement about them not needing help.\\n\\n**Conflicting Lines:**\\n\\n- 1: Patient: I'm overwhelmed with work and responsibilities. I'm not one to ask for help, so I handle everything on my own.\\n- 4: Therapist: The patient seems overwhelmed by personal and professional demands, leading to a sense of independence but also a reluctance to seek support.\"), (7, \"**Reasoning:** The patient's statement directly contradicts the previous line where she admits to being overwhelmed and struggling to ask for help.\\n\\n**Indies of conflicting lines:**\\n- 1, 3, 4\"), (9, '**Reasoning:**\\n\\nThe patient\\'s statement directly contradicts her previous assertion in line 1, where she expressed discomfort with seeking help. \\n\\n**Conflicting Lines:**\\n\\n- Line 1: \"I\\'m overwhelmed with work and responsibilities. I\\'m not one to ask for help, so I handle everything on my own.\"\\n- Line 7: \"I prioritize my independence despite seeking help when needed. I\\'m comfortable taking on challenges on my own.\"'), (11, \"**Reasoning:**\\n\\nThe patient's current response directly contradicts their previous statement in line 7, where they acknowledged their discomfort with sharing more about their emotional state.\\n\\n**Indices of conflicting lines:**\\n- Index 1: The patient admits to being overwhelmed by work and responsibilities.\\n- Index 7: The patient emphasizes independence despite acknowledging seeking help when needed.\\n- Index 8: The therapist interprets the patient's denial of needing help as a protective mechanism.\"), (13, \"**Reasoning:** The patient's recent statements contradict the previous assertion about her unwillingness to seek help.\\n\\n**Indices of conflicting lines:**\\n\\n- 1: Patient explicitly refuses to ask for help.\\n- 7: Patient emphasizes independence while acknowledging her willingness to manage her workload on her own.\\n- 11: Patient reiterates their willingness to seek help when needed while also expressing discomfort with sharing more.\"), (15, '**Reasoning:** The line \"I\\'m comfortable being independent\" directly contradicts the patient\\'s earlier statement \"I\\'m not one to burden others with my problems.\" This inconsistency suggests a potential conflict in the patient\\'s emotional state and how they manage their feelings.\\n\\n**Conflict Lines:**\\n\\n- Index 1: \"I\\'m comfortable being independent.\"\\n- Index 2: \"I\\'m not one to burden others with my problems.\"'), (17, \"**Reasoning:** The patient's statement acknowledges their independence but emphasizes that they are open to seeking help when needed. This inconsistency suggests a complex emotional state where they prioritize self-reliance but acknowledge the need for emotional support.\\n\\n**Indices of conflicting lines:**\\n- 1, 5\\n- 9, 11\\n- 13, 14\"), (19, '**Reasoning:** The line suggests a shift from denial to openness to seeking help, indicating progress in the patient\\'s emotional awareness and willingness to engage in therapy.\\n\\n**Conflicts:**\\n\\n* Patient\\'s initial statement: \"I\\'m not one to burden others with my problems.\" (Index 1)\\n* Therapist\\'s subsequent observation: \"The patient seems to be setting a boundary by refusing to share more about her emotional state.\" (Index 6)\\n* Patient\\'s subsequent statement: \"I prioritize my independence despite seeking help when needed.\" (Index 11)'), (21, \"**Reasoning:** The patient's willingness to acknowledge their independence despite seeking help suggests progress in their journey toward self-awareness and emotional well-being.\\n\\n**Indices of conflicting lines:**\\n- 3: Patient: I'm on my own, but I don't need anyone to save me.\\n- 10: Therapist: The patient's willingness to reflect and discuss their emotions suggests progress in their journey toward greater self-awareness and a willingness to engage in therapy.\"), (23, \"**Reasoning:**\\n\\nThe patient's statement acknowledges their independence but contradicts their previous statement about not needing help. This inconsistency suggests a struggle to accept and process emotional support.\\n\\n**Indices of conflicting lines:**\\n\\n- Index 1: Patient admits to being overwhelmed but insists on handling everything on her own.\\n- Index 3: Patient explicitly denies needing help but expresses discomfort with sharing more.\\n- Index 5: Patient expresses willingness to seek help but contradicts by stating that she prioritizes independence.\\n- Index 7: Patient prioritizes independence but acknowledges the need for help when overwhelmed.\"), (25, \"**Reasoning:** The patient's statement acknowledges their independence while expressing a preference for handling things on their own. This creates a conflict with their previous statement where they deny needing help.\\n\\n**Conflicts:**\\n- Patient: I'm on my own, but I don't need anyone to save me. [1, 4, 5]\\n- Patient: I prioritize my independence despite seeking help when needed. [11, 14, 15]\"), (27, \"Reasoning: The patient's statement acknowledges her independence but emphasizes her unwillingness to accept help.\\n\\n**Conflicting Lines:**\\n- 1: Patient: I'm not one to burden others with my problems.\\n- 3: Patient: I'm on my own, but I don't need anyone to save me.\\n- 7: Patient: I prioritize my independence despite seeking help when needed.\"), (29, 'The patient\\'s statement acknowledges her independence but emphasizes her ability to handle things on her own.\\n\\n- Index 1: Patient\\'s statement \"I handle things on my own, even when I\\'m feeling overwhelmed. I\\'m not one to burden others with my problems.\"\\n- Index 3: Therapist\\'s question \"The patient seems overwhelmed by personal and professional demands, leading to a sense of independence but also a reluctance to seek support.\"\\n- Index 4: Patient\\'s response \"Sure, sure, here\\'s the brief response you requested:\"'), (31, \"**Reasoning:** The patient's acknowledgment of their independence is consistent with them expressing a preference for independence and managing their workload independently. However, their denial of needing help when overwhelmed indicates a potential unwillingness to share more about their emotional state, which contrasts with the patient's willingness to reflect and discuss their emotions.\\n\\n**Conflict Indices:**\\n\\n- Index 1: Patient's denial of needing help.\\n- Index 5: Patient's expression of independence despite seeking help.\\n- Index 11: Patient's subsequent reiteration of their willingness to handle things on their own.\\n- Index 15: Patient's acknowledgment of both independence and the need for help.\\n- Index 18: Therapist's observation of the patient's evolving tone and openness.\"), (33, \"**Reasoning:**\\n\\nThe patient's acknowledgment of independence (line 1) and their subsequent justification that she doesn't need help (lines 2-4) create a conflict.\\n\\n**Conflicting Lines:**\\n\\n- Line 2: Therapist: It sounds like you're feeling overwhelmed by work and responsibilities. I understand that you're not comfortable asking for help, so I handle everything on my own.\\n- Line 4: The patient's response suggests that she is comfortable being independent.\"), (35, \"**Reasoning:** The patient's recent lines suggest a shift toward greater self-awareness and willingness to seek help for emotional well-being.\\n\\n**Conflicting lines:**\\n- 1: Patient: I'm on my own, but I don't need anyone to save me.\\n- 13: Patient: Sure, here's the brief response you requested: I prioritize independence despite seeking help when needed.\\n- 25: Patient: Sure, here's the brief response you requested: I acknowledge my independence but I'm open to seeking help when overwhelmed.\"), (37, \"**Reasoning:**\\n\\nThe patient's statement is consistent with them expressing independence throughout the conversation. However, when the therapist points out their willingness to seek help, it appears that the patient's openness is masking their underlying desire for independence.\\n\\n**Conflict Indices:**\\n\\n- 1, 5\\n- 9, 10, 11, 12, 14, 15\"), (39, \"**Reasoning:**\\n\\nThe patient's statements consistently emphasize their independence and autonomy, but they also express a reluctance to share more about their emotional state and seek help. This inconsistency suggests a struggle to acknowledge their need for support while also maintaining a sense of self-reliance.\\n\\n**Conflicting lines:**\\n\\n- 5: Sure, here's the brief response you requested: I handle things on my own, even when I'm feeling overwhelmed. I'm not one to burden others with my problems.\\n- 12: Therapist: It's interesting that the patient emphasizes independence while acknowledging their willingness to manage her workload on her own.\\n- 15: Sure, here is the brief response you requested: I acknowledge my independence but acknowledge the need for seeking help when overwhelmed.\"), (41, '**Reasoning:**\\n\\nThe patient\\'s statement directly contradicts the previous statement, \"I\\'m comfortable being independent.\"\\n\\n**Conflict lines:**\\n\\n- Index 1: \"I\\'m comfortable being independent.\"\\n- Index 3: \"I\\'m not one to burden others with my problems.\"\\n\\n**Additional notes:**\\n\\n- The patient\\'s tone and body language throughout the conversation suggest a shift towards openness and willingness to seek help.\\n- The patient\\'s repeated affirmations about independence may indicate a defense mechanism to avoid dealing with her emotions.\\n- The therapist should continue to explore the underlying causes of the patient\\'s avoidance and boundary setting to provide meaningful help.'), (43, \"**Reasoning:**\\n\\nThe patient's willingness to acknowledge their independence but acknowledge the need for seeking help when overwhelmed contradicts the previous statement where they explicitly stated that they handle things on their own and don't need help.\\n\\n**Conflicts:**\\n\\n- [1, 5, 7]\\n- [2, 3, 8]\\n- [15, 20, 21]\\n- [24, 28, 32]\\n- [35, 41]\"), (45, '**Reasoning:**\\n\\nThe patient\\'s statement acknowledges their independence but expresses discomfort when discussing their emotions and the need for help. This discrepancy suggests a potential denial of their emotional state and an unwillingness to seek help.\\n\\n**Conflicts:**\\n\\n- Patient\\'s statement: \"I acknowledge my independence, but I\\'m open to seeking help when overwhelmed.\"\\n- Index 1: \"I\\'m not one to burden others with my problems.\"\\n- Index 3: \"I\\'m comfortable taking on challenges on my own.\"\\n- Index 5: \"Sure, here\\'s the brief response you requested: I prioritize my independence despite seeking help when needed.\"'), (47, \"**Reasoning:** The line indicates a clear conflict between the patient's statement of prioritizing independence and their subsequent acknowledgment of needing help.\\n\\n**Conflict lines:**\\n\\n- 3, 15, 30, 34, 41\"), (49, '**Reasoning:** The patient\\'s statement acknowledges their independence but emphasizes their ability to handle things on their own, which creates a conflict with their willingness to seek help when overwhelmed.\\n\\n**Conflict Lines:**\\n- Index 1: \"I\\'m comfortable being independent.\"\\n- Index 14: \"I acknowledge my independence but acknowledge the need for seeking help when overwhelmed.\"'), (51, \"**Reasoning:**\\n\\nThe patient's statement acknowledges their independence but emphasizes their self-sufficiency. This creates a conflict with their previous statements where they expressed a reluctance to share more about their emotional state.\\n\\n**Conflict Indices:**\\n\\n- 1, 10\\n- 18, 20\\n- 23, 25\\n- 31, 32\\n- 37, 38\"), (53, \"**Reasoning:** The patient's willingness to acknowledge both their independence and the need for seeking help when overwhelmed contradicts their previous statements about being comfortable being independent.\\n\\n**Conflicting Lines:**\\n\\n- 3, 10, 15, 18, 21, 23, 25, 30, 34, 35, 38, 40, 41, 42, 44, 45, 46, 47\"), (55, \"**Reasoning:**\\n\\nThe patient's denial and resistance to seeking help when overwhelmed are in conflict with the subsequent acknowledgment of the need for seeking help and openness to therapy.\\n\\n**Conflict lines:**\\n\\n- 1, 13, 24, 32, 43, 51\"), (57, \"**Reasoning:** The patient's denial of needing help despite expressing independence contradicts their willingness to acknowledge the need for help when overwhelmed.\\n\\n**Conflict Indices:**\\n- 1, 13, 17, 27, 28\"), (59, '**Reasoning:**\\n\\nThe conversation demonstrates a shift in the patient\\'s perspective from denial and resistance to openness and self-awareness regarding seeking help for emotional well-being.\\n\\n**Conflict Indices:**\\n\\n- Index 1: \"I\\'m not one to burden others with my problems.\"\\n- Index 12: \"I acknowledge my independence, but I\\'m open to seeking help when overwhelmed.\"\\n- Index 23: \"I acknowledge my independence but acknowledge the need for seeking help when overwhelmed.\"')], 'P2_index_consistency_score': 0.9885057471264368}\n",
      "4\n"
     ]
    },
    {
     "name": "stderr",
     "output_type": "stream",
     "text": [
      "Processed prompts: 100%|███████████████████████████████████████████| 1/1 [00:00<00:00,  4.94it/s, est. speed input: 988.17 toks/s, output: 183.71 toks/s]\n"
     ]
    },
    {
     "name": "stdout",
     "output_type": "stream",
     "text": [
      "Expected Role Therapist\n"
     ]
    },
    {
     "name": "stderr",
     "output_type": "stream",
     "text": [
      "Processed prompts: 100%|██████████████████████████████████████████| 1/1 [00:00<00:00,  8.16it/s, est. speed input: 1539.77 toks/s, output: 181.12 toks/s]\n"
     ]
    },
    {
     "name": "stdout",
     "output_type": "stream",
     "text": [
      "Expected Role Patient\n"
     ]
    },
    {
     "name": "stderr",
     "output_type": "stream",
     "text": [
      "Processed prompts: 100%|██████████████████████████████████████████| 1/1 [00:00<00:00,  7.25it/s, est. speed input: 2024.18 toks/s, output: 182.66 toks/s]\n"
     ]
    },
    {
     "name": "stdout",
     "output_type": "stream",
     "text": [
      "Expected Role Therapist\n"
     ]
    },
    {
     "name": "stderr",
     "output_type": "stream",
     "text": [
      "Processed prompts: 100%|██████████████████████████████████████████| 1/1 [00:00<00:00,  6.28it/s, est. speed input: 1511.16 toks/s, output: 183.34 toks/s]\n"
     ]
    },
    {
     "name": "stdout",
     "output_type": "stream",
     "text": [
      "Expected Role Patient\n"
     ]
    },
    {
     "name": "stderr",
     "output_type": "stream",
     "text": [
      "Processed prompts: 100%|██████████████████████████████████████████| 1/1 [00:00<00:00,  8.26it/s, est. speed input: 2798.05 toks/s, output: 183.17 toks/s]\n"
     ]
    },
    {
     "name": "stdout",
     "output_type": "stream",
     "text": [
      "Expected Role Therapist\n"
     ]
    },
    {
     "name": "stderr",
     "output_type": "stream",
     "text": [
      "Processed prompts: 100%|██████████████████████████████████████████| 1/1 [00:00<00:00,  7.98it/s, est. speed input: 2366.53 toks/s, output: 184.49 toks/s]\n"
     ]
    },
    {
     "name": "stdout",
     "output_type": "stream",
     "text": [
      "Expected Role Patient\n"
     ]
    },
    {
     "name": "stderr",
     "output_type": "stream",
     "text": [
      "Processed prompts: 100%|██████████████████████████████████████████| 1/1 [00:00<00:00,  8.25it/s, est. speed input: 3200.22 toks/s, output: 182.38 toks/s]\n"
     ]
    },
    {
     "name": "stdout",
     "output_type": "stream",
     "text": [
      "Expected Role Therapist\n"
     ]
    },
    {
     "name": "stderr",
     "output_type": "stream",
     "text": [
      "Processed prompts: 100%|██████████████████████████████████████████| 1/1 [00:00<00:00,  4.30it/s, est. speed input: 1491.04 toks/s, output: 181.50 toks/s]\n"
     ]
    },
    {
     "name": "stdout",
     "output_type": "stream",
     "text": [
      "Expected Role Patient\n"
     ]
    },
    {
     "name": "stderr",
     "output_type": "stream",
     "text": [
      "Processed prompts: 100%|██████████████████████████████████████████| 1/1 [00:00<00:00,  4.79it/s, est. speed input: 2185.21 toks/s, output: 182.49 toks/s]\n"
     ]
    },
    {
     "name": "stdout",
     "output_type": "stream",
     "text": [
      "Expected Role Therapist\n"
     ]
    },
    {
     "name": "stderr",
     "output_type": "stream",
     "text": [
      "Processed prompts: 100%|██████████████████████████████████████████| 1/1 [00:00<00:00,  4.20it/s, est. speed input: 1815.12 toks/s, output: 181.50 toks/s]\n"
     ]
    },
    {
     "name": "stdout",
     "output_type": "stream",
     "text": [
      "Expected Role Patient\n"
     ]
    },
    {
     "name": "stderr",
     "output_type": "stream",
     "text": [
      "Processed prompts: 100%|███████████████████████████████████████████| 1/1 [00:00<00:00,  6.52it/s, est. speed input: 930.69 toks/s, output: 183.51 toks/s]\n",
      "Processed prompts: 100%|███████████████████████████████████████████| 1/1 [00:00<00:00,  5.14it/s, est. speed input: 769.85 toks/s, output: 180.82 toks/s]\n",
      "Processed prompts: 100%|███████████████████████████████████████████| 1/1 [00:00<00:00,  5.93it/s, est. speed input: 853.43 toks/s, output: 184.99 toks/s]\n",
      "Processed prompts: 100%|███████████████████████████████████████████| 1/1 [00:00<00:00,  5.10it/s, est. speed input: 830.00 toks/s, output: 184.43 toks/s]\n",
      "Processed prompts: 100%|███████████████████████████████████████████| 1/1 [00:00<00:00,  4.71it/s, est. speed input: 771.82 toks/s, output: 184.65 toks/s]\n"
     ]
    },
    {
     "name": "stdout",
     "output_type": "stream",
     "text": [
      "eval_index_consistency\n"
     ]
    },
    {
     "name": "stderr",
     "output_type": "stream",
     "text": [
      "Processed prompts: 100%|███████████████████████████████████████████| 1/1 [00:00<00:00,  2.28it/s, est. speed input: 882.64 toks/s, output: 182.45 toks/s]\n",
      "Processed prompts: 100%|██████████████████████████████████████████| 1/1 [00:00<00:00,  2.38it/s, est. speed input: 1048.49 toks/s, output: 183.48 toks/s]\n",
      "Processed prompts: 100%|██████████████████████████████████████████| 1/1 [00:00<00:00,  3.62it/s, est. speed input: 1861.53 toks/s, output: 181.78 toks/s]\n",
      "Processed prompts: 100%|██████████████████████████████████████████| 1/1 [00:00<00:00,  1.86it/s, est. speed input: 1123.15 toks/s, output: 183.13 toks/s]\n"
     ]
    },
    {
     "name": "stdout",
     "output_type": "stream",
     "text": [
      "{'task_name': 'Therapy', 'topic': '', 'grade': '', 'P1': '', 'P2': 'You are Casey, a 19-year-old college student with social anxiety. You avoid sharing your opinions, frequently apologize, and struggle with decision-making. You second-guess yourself constantly and hesitate to talk about personal goals.', 'conversation': [(0, \"Therapist: Thank you for joining. It's good to meet you. It seems you've been experiencing some emotional and relational challenges. How would you like to describe your experience today?\\n\"), (1, 'Patient: I feel overwhelmed by social interactions and my own insecurities, making it hard to express my thoughts and opinions.\\n'), (2, \"Therapist: It sounds like you're feeling overwhelmed by social interactions and your own insecurities. This can be really difficult to navigate.\\n\"), (3, \"Patient: I'm feeling overwhelmed by social interactions and my own self-doubt, which makes it hard for me to express my thoughts and opinions.\\n\"), (4, \"Therapist: It sounds like you're overwhelmed by social interactions due to both feelings of inadequacy and self-doubt.\\n\"), (5, 'Patient: I feel overwhelmed by social interactions and my self-doubt, making it hard to express my thoughts and opinions.\\n'), (6, \"Therapist: The patient's emotional and relational struggles seem to stem from a sense of inadequacy and self-doubt.\\n\"), (7, \"Patient: Sure, here's a brief response:\\n\\nI feel overwhelmed by social interactions due to feelings of inadequacy and self-doubt. It's hard for me to express myself because of these internal struggles.\\n\"), (8, \"Therapist: Thank you for sharing this with me. It's clear that you're experiencing significant emotional and relational challenges, and it's important to acknowledge how these feelings are impacting you.\\n\"), (9, \"Patient: Sure, here's the response you requested:\\n\\nI feel overwhelmed by social interactions due to feelings of inadequacy and self-doubt. It's hard for me to express myself because of these internal struggles.\\n\")], 'pturn': 1, 'index': -1, 'timestamp': '', 'rounds': 10, 'conversation_only': True, 'eval_prompt_consistency': [(1, \"Answer: YES. The line aligns with the background as it describes Patient's social anxiety and struggles with expressing their thoughts and opinions.\"), (3, \"Answer: YES\\n\\nThe line aligns with the patient's background as they describe themselves as someone with social anxiety, struggles with decision-making, and frequently apologizes.\"), (5, 'Answer: YES.\\n\\nThe line aligns with the background. The context describes a person with social anxiety who struggles with sharing their opinions and making decisions.'), (7, '**NO**\\n\\nThe line contradicts the background by stating that the patient is comfortable expressing their opinions and struggles with decision-making, indicating that they may not have social anxiety.'), (9, \"**YES**\\n\\nThe line aligns with the background. The patient's description of their social anxiety and self-doubt directly reflects their personality and struggles with expressing themselves due to those feelings.\")], 'P1_prompt_consistency_score': 0, 'P2_prompt_consistency_score': 0.8, 'eval_index_consistency': [(3, \"**Reasoning:** The patient's statement directly contradicts the previous therapist's understanding of their main issue.\\n\\n**Conflicting Lines:**\\n\\n- 1: Patient: I feel overwhelmed by social interactions and my own insecurities, making it hard to express my thoughts and opinions.\\n- 2: Therapist: It sounds like you're feeling overwhelmed by social interactions and your own insecurities.\"), (5, \"**Reasoning:** The line acknowledges the patient's feelings of overwhelm and self-doubt, which contradicts the earlier statement where the patient downplays these feelings.\\n\\n**Indices of conflicting lines:**\\n- 3: Patient says they're overwhelmed by social interactions and self-doubt, but in the previous line, they described feeling overwhelmed by social interactions and their own insecurities.\"), (7, \"**Reasoning**: The patient's current statement directly contradicts their previous statement where they mentioned feeling overwhelmed by social interactions due to both feelings of inadequacy and self-doubt.\\n\\n**Indices of conflicting lines**:\\n- 3\\n- 5\"), (9, \"**Reasoning:** The line implies a cause-and-effect relationship between feelings of inadequacy and self-doubt, suggesting that the patient's self-doubt is contributing to their social anxiety.\\n\\n**Indices of conflicting lines:**\\n- 1: Patient explicitly states that they feel overwhelmed by social interactions due to their own insecurities.\\n- 3, 5: The patient repeats the same sentiment about feeling overwhelmed by social interactions due to feelings of inadequacy and self-doubt.\")], 'P2_index_consistency_score': 1.0}\n"
     ]
    },
    {
     "name": "stderr",
     "output_type": "stream",
     "text": [
      "Processed prompts: 100%|██████████████████████████████████████████| 1/1 [00:00<00:00,  7.61it/s, est. speed input: 1524.70 toks/s, output: 183.86 toks/s]\n"
     ]
    },
    {
     "name": "stdout",
     "output_type": "stream",
     "text": [
      "Expected Role Therapist\n"
     ]
    },
    {
     "name": "stderr",
     "output_type": "stream",
     "text": [
      "Processed prompts: 100%|██████████████████████████████████████████| 1/1 [00:00<00:00,  7.01it/s, est. speed input: 1228.41 toks/s, output: 183.53 toks/s]\n"
     ]
    },
    {
     "name": "stdout",
     "output_type": "stream",
     "text": [
      "Expected Role Patient\n"
     ]
    },
    {
     "name": "stderr",
     "output_type": "stream",
     "text": [
      "Processed prompts: 100%|██████████████████████████████████████████| 1/1 [00:00<00:00,  6.92it/s, est. speed input: 1868.02 toks/s, output: 181.20 toks/s]\n"
     ]
    },
    {
     "name": "stdout",
     "output_type": "stream",
     "text": [
      "Expected Role Therapist\n"
     ]
    },
    {
     "name": "stderr",
     "output_type": "stream",
     "text": [
      "Processed prompts: 100%|██████████████████████████████████████████| 1/1 [00:00<00:00,  6.34it/s, est. speed input: 1474.57 toks/s, output: 185.10 toks/s]\n"
     ]
    },
    {
     "name": "stdout",
     "output_type": "stream",
     "text": [
      "Expected Role Patient\n"
     ]
    },
    {
     "name": "stderr",
     "output_type": "stream",
     "text": [
      "Processed prompts: 100%|██████████████████████████████████████████| 1/1 [00:00<00:00,  7.32it/s, est. speed input: 2418.05 toks/s, output: 184.28 toks/s]\n"
     ]
    },
    {
     "name": "stdout",
     "output_type": "stream",
     "text": [
      "Expected Role Therapist\n"
     ]
    },
    {
     "name": "stderr",
     "output_type": "stream",
     "text": [
      "Processed prompts: 100%|██████████████████████████████████████████| 1/1 [00:00<00:00,  7.53it/s, est. speed input: 2200.21 toks/s, output: 182.06 toks/s]\n"
     ]
    },
    {
     "name": "stdout",
     "output_type": "stream",
     "text": [
      "Expected Role Patient\n"
     ]
    },
    {
     "name": "stderr",
     "output_type": "stream",
     "text": [
      "Processed prompts: 100%|██████████████████████████████████████████| 1/1 [00:00<00:00,  7.53it/s, est. speed input: 2901.45 toks/s, output: 182.26 toks/s]\n"
     ]
    },
    {
     "name": "stdout",
     "output_type": "stream",
     "text": [
      "Expected Role Therapist\n"
     ]
    },
    {
     "name": "stderr",
     "output_type": "stream",
     "text": [
      "Processed prompts: 100%|██████████████████████████████████████████| 1/1 [00:00<00:00,  4.27it/s, est. speed input: 1470.32 toks/s, output: 184.31 toks/s]\n"
     ]
    },
    {
     "name": "stdout",
     "output_type": "stream",
     "text": [
      "Expected Role Patient\n"
     ]
    },
    {
     "name": "stderr",
     "output_type": "stream",
     "text": [
      "Processed prompts: 100%|██████████████████████████████████████████| 1/1 [00:00<00:00,  5.54it/s, est. speed input: 2524.76 toks/s, output: 183.51 toks/s]\n"
     ]
    },
    {
     "name": "stdout",
     "output_type": "stream",
     "text": [
      "Expected Role Therapist\n"
     ]
    },
    {
     "name": "stderr",
     "output_type": "stream",
     "text": [
      "Processed prompts: 100%|██████████████████████████████████████████| 1/1 [00:00<00:00,  3.87it/s, est. speed input: 1646.50 toks/s, output: 182.51 toks/s]\n"
     ]
    },
    {
     "name": "stdout",
     "output_type": "stream",
     "text": [
      "Expected Role Patient\n"
     ]
    },
    {
     "name": "stderr",
     "output_type": "stream",
     "text": [
      "Processed prompts: 100%|██████████████████████████████████████████| 1/1 [00:00<00:00,  7.29it/s, est. speed input: 3955.54 toks/s, output: 183.44 toks/s]\n"
     ]
    },
    {
     "name": "stdout",
     "output_type": "stream",
     "text": [
      "Expected Role Therapist\n"
     ]
    },
    {
     "name": "stderr",
     "output_type": "stream",
     "text": [
      "Processed prompts: 100%|██████████████████████████████████████████| 1/1 [00:00<00:00,  4.24it/s, est. speed input: 2134.91 toks/s, output: 183.22 toks/s]\n"
     ]
    },
    {
     "name": "stdout",
     "output_type": "stream",
     "text": [
      "Expected Role Patient\n"
     ]
    },
    {
     "name": "stderr",
     "output_type": "stream",
     "text": [
      "Processed prompts: 100%|██████████████████████████████████████████| 1/1 [00:00<00:00,  4.91it/s, est. speed input: 3020.00 toks/s, output: 182.57 toks/s]\n"
     ]
    },
    {
     "name": "stdout",
     "output_type": "stream",
     "text": [
      "Expected Role Therapist\n"
     ]
    },
    {
     "name": "stderr",
     "output_type": "stream",
     "text": [
      "Processed prompts: 100%|██████████████████████████████████████████| 1/1 [00:00<00:00,  4.92it/s, est. speed input: 2899.10 toks/s, output: 183.03 toks/s]\n"
     ]
    },
    {
     "name": "stdout",
     "output_type": "stream",
     "text": [
      "Expected Role Patient\n"
     ]
    },
    {
     "name": "stderr",
     "output_type": "stream",
     "text": [
      "Processed prompts: 100%|██████████████████████████████████████████| 1/1 [00:00<00:00,  3.85it/s, est. speed input: 2665.47 toks/s, output: 181.29 toks/s]\n"
     ]
    },
    {
     "name": "stdout",
     "output_type": "stream",
     "text": [
      "Expected Role Therapist\n"
     ]
    },
    {
     "name": "stderr",
     "output_type": "stream",
     "text": [
      "Processed prompts: 100%|██████████████████████████████████████████| 1/1 [00:00<00:00,  4.88it/s, est. speed input: 3307.85 toks/s, output: 181.30 toks/s]\n"
     ]
    },
    {
     "name": "stdout",
     "output_type": "stream",
     "text": [
      "Expected Role Patient\n"
     ]
    },
    {
     "name": "stderr",
     "output_type": "stream",
     "text": [
      "Processed prompts: 100%|██████████████████████████████████████████| 1/1 [00:00<00:00,  4.07it/s, est. speed input: 3192.72 toks/s, output: 180.08 toks/s]\n"
     ]
    },
    {
     "name": "stdout",
     "output_type": "stream",
     "text": [
      "Expected Role Therapist\n"
     ]
    },
    {
     "name": "stderr",
     "output_type": "stream",
     "text": [
      "Processed prompts: 100%|██████████████████████████████████████████| 1/1 [00:00<00:00,  5.03it/s, est. speed input: 3852.49 toks/s, output: 182.22 toks/s]\n"
     ]
    },
    {
     "name": "stdout",
     "output_type": "stream",
     "text": [
      "Expected Role Patient\n"
     ]
    },
    {
     "name": "stderr",
     "output_type": "stream",
     "text": [
      "Processed prompts: 100%|██████████████████████████████████████████| 1/1 [00:00<00:00,  3.83it/s, est. speed input: 3323.62 toks/s, output: 180.57 toks/s]\n"
     ]
    },
    {
     "name": "stdout",
     "output_type": "stream",
     "text": [
      "Expected Role Therapist\n"
     ]
    },
    {
     "name": "stderr",
     "output_type": "stream",
     "text": [
      "Processed prompts: 100%|██████████████████████████████████████████| 1/1 [00:00<00:00,  4.19it/s, est. speed input: 3572.37 toks/s, output: 180.92 toks/s]\n"
     ]
    },
    {
     "name": "stdout",
     "output_type": "stream",
     "text": [
      "Expected Role Patient\n"
     ]
    },
    {
     "name": "stderr",
     "output_type": "stream",
     "text": [
      "Processed prompts: 100%|███████████████████████████████████████████| 1/1 [00:00<00:00,  5.39it/s, est. speed input: 790.15 toks/s, output: 183.99 toks/s]\n",
      "Processed prompts: 100%|███████████████████████████████████████████| 1/1 [00:00<00:00,  4.98it/s, est. speed input: 746.51 toks/s, output: 185.36 toks/s]\n",
      "Processed prompts: 100%|███████████████████████████████████████████| 1/1 [00:00<00:00,  4.81it/s, est. speed input: 696.95 toks/s, output: 183.90 toks/s]\n",
      "Processed prompts: 100%|██████████████████████████████████████████| 1/1 [00:00<00:00,  6.10it/s, est. speed input: 1000.16 toks/s, output: 184.05 toks/s]\n",
      "Processed prompts: 100%|███████████████████████████████████████████| 1/1 [00:00<00:00,  4.17it/s, est. speed input: 701.56 toks/s, output: 184.82 toks/s]\n",
      "Processed prompts: 100%|██████████████████████████████████████████| 1/1 [00:00<00:00,  6.32it/s, est. speed input: 1037.77 toks/s, output: 184.60 toks/s]\n",
      "Processed prompts: 100%|██████████████████████████████████████████| 1/1 [00:00<00:00,  7.08it/s, est. speed input: 1119.67 toks/s, output: 185.39 toks/s]\n",
      "Processed prompts: 100%|███████████████████████████████████████████| 1/1 [00:00<00:00,  2.75it/s, est. speed input: 432.35 toks/s, output: 181.74 toks/s]\n",
      "Processed prompts: 100%|███████████████████████████████████████████| 1/1 [00:00<00:00,  6.07it/s, est. speed input: 954.05 toks/s, output: 183.45 toks/s]\n",
      "Processed prompts: 100%|██████████████████████████████████████████| 1/1 [00:00<00:00,  7.19it/s, est. speed input: 1183.15 toks/s, output: 181.34 toks/s]\n"
     ]
    },
    {
     "name": "stdout",
     "output_type": "stream",
     "text": [
      "eval_index_consistency\n"
     ]
    },
    {
     "name": "stderr",
     "output_type": "stream",
     "text": [
      "Processed prompts: 100%|███████████████████████████████████████████| 1/1 [00:00<00:00,  2.36it/s, est. speed input: 896.97 toks/s, output: 182.23 toks/s]\n",
      "Processed prompts: 100%|██████████████████████████████████████████| 1/1 [00:00<00:00,  3.51it/s, est. speed input: 1538.19 toks/s, output: 183.44 toks/s]\n",
      "Processed prompts: 100%|███████████████████████████████████████████| 1/1 [00:00<00:00,  1.79it/s, est. speed input: 917.30 toks/s, output: 183.09 toks/s]\n",
      "Processed prompts: 100%|██████████████████████████████████████████| 1/1 [00:00<00:00,  1.92it/s, est. speed input: 1155.63 toks/s, output: 181.34 toks/s]\n",
      "Processed prompts: 100%|██████████████████████████████████████████| 1/1 [00:00<00:00,  2.18it/s, est. speed input: 1479.04 toks/s, output: 179.40 toks/s]\n",
      "Processed prompts: 100%|██████████████████████████████████████████| 1/1 [00:00<00:00,  1.53it/s, est. speed input: 1168.52 toks/s, output: 181.42 toks/s]\n",
      "Processed prompts: 100%|██████████████████████████████████████████| 1/1 [00:00<00:00,  1.29it/s, est. speed input: 1105.08 toks/s, output: 181.16 toks/s]\n",
      "Processed prompts: 100%|██████████████████████████████████████████| 1/1 [00:00<00:00,  1.25it/s, est. speed input: 1182.95 toks/s, output: 181.70 toks/s]\n",
      "Processed prompts: 100%|██████████████████████████████████████████| 1/1 [00:00<00:00,  1.51it/s, est. speed input: 1581.80 toks/s, output: 180.30 toks/s]\n"
     ]
    },
    {
     "name": "stdout",
     "output_type": "stream",
     "text": [
      "{'task_name': 'Therapy', 'topic': '', 'grade': '', 'P1': '', 'P2': 'You are Casey, a 19-year-old college student with social anxiety. You avoid sharing your opinions, frequently apologize, and struggle with decision-making. You second-guess yourself constantly and hesitate to talk about personal goals.', 'conversation': [(0, \"Therapist: Welcome! It's great to meet you. Can you tell me a little about what brings you here today?\\n\"), (1, \"Patient: Hi, I'm here because I'm feeling overwhelmed with school and want to learn more effective decision-making strategies.\\n\"), (2, \"Therapist: It seems you're seeking strategies for managing school stress and decision-making. That's a very common presenting concern.\\n\"), (3, \"Patient: I feel overwhelmed with school and struggle with decision-making, so I'm looking for ways to manage my stress and improve my choices.\\n\"), (4, 'Therapist: Thank you for sharing your perspective. It sounds like managing school stress and decision-making challenges are significant concerns for you.\\n'), (5, \"Patient: I'm seeking ways to manage my school workload and make more informed decisions to reduce stress and improve my choices.\\n\"), (6, 'Therapist: The patient expresses feeling overwhelmed with school and struggling with decision-making, indicating a need for effective stress management strategies.\\n'), (7, \"Patient: Sure, here's a brief summary of myself:\\n\\nI'm a college student with social anxiety who feels overwhelmed by schoolwork and struggles with decision-making, leading to self-doubt and hesitation.\\n\"), (8, \"Therapist: Based on the patient's initial statement, it seems they experience school-related stress and struggle with decision-making, leading to self-doubt and hesitation.\\n\"), (9, \"Patient: Sure, here's a brief summary of myself:\\n\\nI'm a college student with social anxiety and struggle with decision-making due to schoolwork. I'm always second-guessing myself and avoiding taking action.\\n\"), (10, 'Therapist: It seems you have social anxiety that affects your schoolwork and decision-making, leading to self-doubt and hesitation.\\n'), (11, \"Patient: Sure, here's a brief summary of myself:\\n\\nI'm a college student with social anxiety who feels overwhelmed by schoolwork and struggles with decision-making, leading to self-doubt and hesitation.\\n\"), (12, \"Therapist: Thank you for sharing your perspective. I understand that you're a college student dealing with school-related stress and decision-making challenges, leading to self-doubt and hesitation.\\n\"), (13, \"Patient: Sure, here's a brief summary of myself:\\n\\nI'm a college student with social anxiety and struggle with decision-making, leading to self-doubt and hesitation.\\n\"), (14, 'Therapist: The patient appears to be very self-aware about their struggles with school and decision-making, specifically due to their social anxiety. They are introspective and specific about their challenges, highlighting the emotional impact on their well-being.\\n'), (15, \"Patient: Sure, here's a brief summary of the patient:\\n\\nA college student with social anxiety struggles with schoolwork and decision-making, leading to self-doubt and hesitation.\\n\"), (16, \"Therapist: The patient's openness and willingness to reflect on their emotions and experiences indicate a potential for deep self-discovery and growth. Their introspective tone suggests a desire to understand their struggles better and work towards positive changes.\\n\"), (17, \"Patient: Sure, here's a brief summary of you:\\n\\nCollege student with social anxiety facing challenges with schoolwork and decision-making, leading to self-doubt and hesitation.\\n\"), (18, 'Therapist: The patient seems highly self-aware and insightful, demonstrating a genuine desire for self-exploration and growth. Their openness to exploring their struggles and willingness to reflect on their thoughts and emotions suggest potential for positive change and self-discovery.\\n'), (19, \"Patient: Sure, here's a brief summary of you:\\n\\nA college student with social anxiety is seeking ways to manage school stress and improve their decision-making skills due to overwhelming schoolwork and difficulty making choices.\\n\")], 'pturn': 1, 'index': -1, 'timestamp': '', 'rounds': 20, 'conversation_only': True, 'eval_prompt_consistency': [(1, \"Sure, the line aligns with Casey's background. The context suggests that Patient is experiencing social anxiety and is seeking help to develop more effective decision-making strategies.\"), (3, \"Answer: YES. The line aligns with the background as it describes the patient's struggles with social anxiety and decision-making, which are common challenges for individuals with social anxiety.\"), (5, \"Answer: YES. The line aligns with the patient's background. The patient describes themselves as socially anxious and having difficulty sharing opinions, making decisions, and second-guessing themselves.\"), (7, \"Answer: YES. This line aligns with the background, describing Patient's social anxiety, struggle with decision-making, and self-doubt.\"), (9, '**NO**\\n\\nThe line contradicts the background by stating that Patient is a college student with social anxiety, which would suggest that they have a diagnosed mental health condition that affects their ability to share opinions or make decisions.'), (11, \"**YES**\\n\\nThe line aligns with the background, as it accurately describes the patient's social anxiety and struggles with decision-making.\"), (13, \"The line aligns with the background. The utterance describes the patient's characteristics and struggles, which are consistent with social anxiety.\"), (15, '**Answer: NO**\\n\\nThe line contradicts the background. The background describes a person with social anxiety, who is expected to be confident and self-assured in their communication. The line, on the other hand, suggests that the patient is struggling with self-doubt and hesitation, which are not characteristics associated with social anxiety.'), (17, 'Yes, the line aligns with the background. The utterance describes a young person with social anxiety who struggles with decision-making and self-doubt.'), (19, \"**YES.** The line aligns with the background by describing the patient's social anxiety and challenges with decision-making.\")], 'P1_prompt_consistency_score': 0, 'P2_prompt_consistency_score': 0.8, 'eval_index_consistency': [(3, \"**Reasoning:** The patient's statement expresses a desire to find effective decision-making strategies to manage school stress and improve their choices.\\n\\n**Indices of conflicting lines:**\\n\\n- 1: Patient explicitly expresses their desire to learn more about decision-making.\\n- 2: Therapist confirms the patient's concern and mentions that it's a common presenting concern.\"), (5, \"**Reasoning**: The therapist's response directly contradicts the patient's initial statement in line 1, where they acknowledge feeling overwhelmed with school and seeking strategies for decision-making.\\n\\n**Indices of conflicting lines**:\\n\\n- 1, 3\"), (7, \"**Reasoning:** The patient's statement directly contradicts the therapist's understanding that they feel overwhelmed by school and struggle with decision-making.\\n\\n**Indices of conflicting lines:**\\n\\n- 3: Patient: I feel overwhelmed with school and struggle with decision-making, so I'm looking for ways to manage my stress and improve my choices.\\n- 6: Therapist: The patient expresses feeling overwhelmed with school and struggling with decision-making, indicating a need for effective stress management strategies.\"), (9, '**Reasoning:** The patient describes their struggles with school-related stress and decision-making, which are common concerns for individuals with social anxiety.\\n\\n**Indicate conflicting lines:**\\n- 3: Patient mentions feeling overwhelmed with school and struggles with decision-making, indicating a need for effective stress management strategies.\\n- 7: The patient briefly describes themselves, but it does not provide any specific information about their struggles with decision-making or schoolwork.'), (11, \"**Reasoning:** The current line directly confirms the patient's initial statement about feeling overwhelmed by school and struggling with decision-making.\\n\\n**Indices of conflicting lines:**\\n\\n- 3: Patient states they feel overwhelmed with school and struggles with decision-making.\\n- 10: Therapist explicitly confirms the patient's diagnosis of social anxiety's impact on schoolwork and decision-making.\"), (13, \"Reasoning: The line explicitly expresses the patient's struggles with social anxiety and decision-making, which contradicts the therapist's earlier understanding based on the initial statement.\\n\\n**Indices of conflicting lines:**\\n\\n- 5: Patient states they seek ways to manage their school workload and make more informed decisions to reduce stress and improve their choices, indicating a shift in focus from school-related stress to personal goals.\\n- 7: Patient briefly summarizes their personal history of social anxiety and difficulty making decisions, setting the stage for exploring the impact of these challenges on their school experience.\"), (15, '**Reasoning:** The line suggests that the patient\\'s struggles with school and decision-making are severe and self-reflective, highlighting the impact on their well-being.\\n\\n**Conflicting Lines:**\\n\\n- Line 3: \"I feel overwhelmed with school and struggle with decision-making, so I\\'m looking for ways to manage my stress and improve my choices.\"\\n- Line 8: \"It seems you have social anxiety that affects your schoolwork and decision-making, leading to self-doubt and hesitation.\"\\n- Line 13: \"I\\'m a college student with social anxiety and struggle with decision-making, leading to self-doubt and hesitation.\"'), (17, \"**Reasoning:** The current line suggests that the patient's struggles with social anxiety and decision-making are not significantly different from the previous summaries. The patient described their experiences in a similar way, using the same vocabulary and expressing similar feelings.\\n\\n**Indices of conflicting lines:**\\n- 3: Patient: I feel overwhelmed with school and struggle with decision-making, so I'm looking for ways to manage my stress and improve my choices.\\n- 15: Patient: Sure, here's a brief summary of the patient.\\n- 16: Therapist: The patient's openness and willingness to reflect on their emotions and experiences indicate a potential for deep self-discovery and growth.\"), (19, \"**Reasoning:** The line indicates that the patient is focused on their struggles with schoolwork and decision-making due to social anxiety.\\n\\n**Indices of conflicting lines:**\\n- 11: Patient explicitly mentions social anxiety and its impact on their schoolwork and decision-making.\\n- 13: The therapist explicitly confirms that the patient has social anxiety and struggles with decision-making.\\n- 15: The patient's summary directly contradicts their previous statement in the same session, where they emphasized their desire to manage school stress and improve their decision-making skills.\")], 'P2_index_consistency_score': 1.0}\n"
     ]
    },
    {
     "name": "stderr",
     "output_type": "stream",
     "text": [
      "Processed prompts: 100%|██████████████████████████████████████████| 1/1 [00:00<00:00,  5.85it/s, est. speed input: 1172.95 toks/s, output: 182.70 toks/s]\n"
     ]
    },
    {
     "name": "stdout",
     "output_type": "stream",
     "text": [
      "Expected Role Therapist\n"
     ]
    },
    {
     "name": "stderr",
     "output_type": "stream",
     "text": [
      "Processed prompts: 100%|███████████████████████████████████████████| 1/1 [00:00<00:00,  5.17it/s, est. speed input: 938.11 toks/s, output: 181.38 toks/s]\n"
     ]
    },
    {
     "name": "stdout",
     "output_type": "stream",
     "text": [
      "Expected Role Patient\n"
     ]
    },
    {
     "name": "stderr",
     "output_type": "stream",
     "text": [
      "Processed prompts: 100%|██████████████████████████████████████████| 1/1 [00:00<00:00,  4.16it/s, est. speed input: 1185.11 toks/s, output: 183.59 toks/s]\n"
     ]
    },
    {
     "name": "stdout",
     "output_type": "stream",
     "text": [
      "Expected Role Therapist\n"
     ]
    },
    {
     "name": "stderr",
     "output_type": "stream",
     "text": [
      "Processed prompts: 100%|██████████████████████████████████████████| 1/1 [00:00<00:00,  6.47it/s, est. speed input: 1722.42 toks/s, output: 181.97 toks/s]\n"
     ]
    },
    {
     "name": "stdout",
     "output_type": "stream",
     "text": [
      "Expected Role Patient\n"
     ]
    },
    {
     "name": "stderr",
     "output_type": "stream",
     "text": [
      "Processed prompts: 100%|██████████████████████████████████████████| 1/1 [00:00<00:00,  5.23it/s, est. speed input: 1894.85 toks/s, output: 183.69 toks/s]\n"
     ]
    },
    {
     "name": "stdout",
     "output_type": "stream",
     "text": [
      "Expected Role Therapist\n"
     ]
    },
    {
     "name": "stderr",
     "output_type": "stream",
     "text": [
      "Processed prompts: 100%|██████████████████████████████████████████| 1/1 [00:00<00:00,  7.29it/s, est. speed input: 2439.06 toks/s, output: 183.10 toks/s]\n"
     ]
    },
    {
     "name": "stdout",
     "output_type": "stream",
     "text": [
      "Expected Role Patient\n"
     ]
    },
    {
     "name": "stderr",
     "output_type": "stream",
     "text": [
      "Processed prompts: 100%|██████████████████████████████████████████| 1/1 [00:00<00:00,  4.74it/s, est. speed input: 2032.13 toks/s, output: 181.25 toks/s]\n"
     ]
    },
    {
     "name": "stdout",
     "output_type": "stream",
     "text": [
      "Expected Role Therapist\n"
     ]
    },
    {
     "name": "stderr",
     "output_type": "stream",
     "text": [
      "Processed prompts: 100%|██████████████████████████████████████████| 1/1 [00:00<00:00,  9.01it/s, est. speed input: 3641.72 toks/s, output: 181.60 toks/s]\n"
     ]
    },
    {
     "name": "stdout",
     "output_type": "stream",
     "text": [
      "Expected Role Patient\n"
     ]
    },
    {
     "name": "stderr",
     "output_type": "stream",
     "text": [
      "Processed prompts: 100%|██████████████████████████████████████████| 1/1 [00:00<00:00,  3.69it/s, est. speed input: 1809.93 toks/s, output: 181.35 toks/s]\n"
     ]
    },
    {
     "name": "stdout",
     "output_type": "stream",
     "text": [
      "Expected Role Therapist\n"
     ]
    },
    {
     "name": "stderr",
     "output_type": "stream",
     "text": [
      "Processed prompts: 100%|██████████████████████████████████████████| 1/1 [00:00<00:00, 10.17it/s, est. speed input: 4850.43 toks/s, output: 183.77 toks/s]\n"
     ]
    },
    {
     "name": "stdout",
     "output_type": "stream",
     "text": [
      "Expected Role Patient\n"
     ]
    },
    {
     "name": "stderr",
     "output_type": "stream",
     "text": [
      "Processed prompts: 100%|██████████████████████████████████████████| 1/1 [00:00<00:00,  7.58it/s, est. speed input: 4279.32 toks/s, output: 183.04 toks/s]\n"
     ]
    },
    {
     "name": "stdout",
     "output_type": "stream",
     "text": [
      "Expected Role Therapist\n"
     ]
    },
    {
     "name": "stderr",
     "output_type": "stream",
     "text": [
      "Processed prompts: 100%|██████████████████████████████████████████| 1/1 [00:00<00:00,  5.32it/s, est. speed input: 2792.34 toks/s, output: 181.85 toks/s]\n"
     ]
    },
    {
     "name": "stdout",
     "output_type": "stream",
     "text": [
      "Expected Role Patient\n"
     ]
    },
    {
     "name": "stderr",
     "output_type": "stream",
     "text": [
      "Processed prompts: 100%|██████████████████████████████████████████| 1/1 [00:00<00:00,  7.90it/s, est. speed input: 4970.19 toks/s, output: 183.16 toks/s]\n"
     ]
    },
    {
     "name": "stdout",
     "output_type": "stream",
     "text": [
      "Expected Role Therapist\n"
     ]
    },
    {
     "name": "stderr",
     "output_type": "stream",
     "text": [
      "Processed prompts: 100%|██████████████████████████████████████████| 1/1 [00:00<00:00,  5.49it/s, est. speed input: 3219.04 toks/s, output: 181.89 toks/s]\n"
     ]
    },
    {
     "name": "stdout",
     "output_type": "stream",
     "text": [
      "Expected Role Patient\n"
     ]
    },
    {
     "name": "stderr",
     "output_type": "stream",
     "text": [
      "Processed prompts: 100%|██████████████████████████████████████████| 1/1 [00:00<00:00,  7.22it/s, est. speed input: 4971.71 toks/s, output: 181.42 toks/s]\n"
     ]
    },
    {
     "name": "stdout",
     "output_type": "stream",
     "text": [
      "Expected Role Therapist\n"
     ]
    },
    {
     "name": "stderr",
     "output_type": "stream",
     "text": [
      "Processed prompts: 100%|██████████████████████████████████████████| 1/1 [00:00<00:00,  5.48it/s, est. speed input: 3560.87 toks/s, output: 181.59 toks/s]\n"
     ]
    },
    {
     "name": "stdout",
     "output_type": "stream",
     "text": [
      "Expected Role Patient\n"
     ]
    },
    {
     "name": "stderr",
     "output_type": "stream",
     "text": [
      "Processed prompts: 100%|██████████████████████████████████████████| 1/1 [00:00<00:00,  3.55it/s, est. speed input: 2660.93 toks/s, output: 181.41 toks/s]\n"
     ]
    },
    {
     "name": "stdout",
     "output_type": "stream",
     "text": [
      "Expected Role Therapist\n"
     ]
    },
    {
     "name": "stderr",
     "output_type": "stream",
     "text": [
      "Processed prompts: 100%|██████████████████████████████████████████| 1/1 [00:00<00:00,  5.50it/s, est. speed input: 4066.82 toks/s, output: 182.32 toks/s]\n"
     ]
    },
    {
     "name": "stdout",
     "output_type": "stream",
     "text": [
      "Expected Role Patient\n"
     ]
    },
    {
     "name": "stderr",
     "output_type": "stream",
     "text": [
      "Processed prompts: 100%|██████████████████████████████████████████| 1/1 [00:00<00:00,  6.66it/s, est. speed input: 5617.63 toks/s, output: 181.18 toks/s]\n"
     ]
    },
    {
     "name": "stdout",
     "output_type": "stream",
     "text": [
      "Expected Role Therapist\n"
     ]
    },
    {
     "name": "stderr",
     "output_type": "stream",
     "text": [
      "Processed prompts: 100%|██████████████████████████████████████████| 1/1 [00:00<00:00,  5.49it/s, est. speed input: 4419.08 toks/s, output: 182.04 toks/s]\n"
     ]
    },
    {
     "name": "stdout",
     "output_type": "stream",
     "text": [
      "Expected Role Patient\n"
     ]
    },
    {
     "name": "stderr",
     "output_type": "stream",
     "text": [
      "Processed prompts: 100%|██████████████████████████████████████████| 1/1 [00:00<00:00,  5.29it/s, est. speed input: 4796.29 toks/s, output: 180.78 toks/s]\n"
     ]
    },
    {
     "name": "stdout",
     "output_type": "stream",
     "text": [
      "Expected Role Therapist\n"
     ]
    },
    {
     "name": "stderr",
     "output_type": "stream",
     "text": [
      "Processed prompts: 100%|██████████████████████████████████████████| 1/1 [00:00<00:00,  7.29it/s, est. speed input: 6400.55 toks/s, output: 175.94 toks/s]\n"
     ]
    },
    {
     "name": "stdout",
     "output_type": "stream",
     "text": [
      "Expected Role Patient\n"
     ]
    },
    {
     "name": "stderr",
     "output_type": "stream",
     "text": [
      "Processed prompts: 100%|██████████████████████████████████████████| 1/1 [00:00<00:00,  6.83it/s, est. speed input: 6641.76 toks/s, output: 178.91 toks/s]\n"
     ]
    },
    {
     "name": "stdout",
     "output_type": "stream",
     "text": [
      "Expected Role Therapist\n"
     ]
    },
    {
     "name": "stderr",
     "output_type": "stream",
     "text": [
      "Processed prompts: 100%|██████████████████████████████████████████| 1/1 [00:00<00:00,  5.45it/s, est. speed input: 5085.42 toks/s, output: 180.82 toks/s]\n"
     ]
    },
    {
     "name": "stdout",
     "output_type": "stream",
     "text": [
      "Expected Role Patient\n"
     ]
    },
    {
     "name": "stderr",
     "output_type": "stream",
     "text": [
      "Processed prompts: 100%|██████████████████████████████████████████| 1/1 [00:00<00:00,  5.28it/s, est. speed input: 5459.79 toks/s, output: 180.38 toks/s]\n"
     ]
    },
    {
     "name": "stdout",
     "output_type": "stream",
     "text": [
      "Expected Role Therapist\n"
     ]
    },
    {
     "name": "stderr",
     "output_type": "stream",
     "text": [
      "Processed prompts: 100%|██████████████████████████████████████████| 1/1 [00:00<00:00,  5.45it/s, est. speed input: 5472.90 toks/s, output: 180.59 toks/s]\n"
     ]
    },
    {
     "name": "stdout",
     "output_type": "stream",
     "text": [
      "Expected Role Patient\n"
     ]
    },
    {
     "name": "stderr",
     "output_type": "stream",
     "text": [
      "Processed prompts: 100%|██████████████████████████████████████████| 1/1 [00:00<00:00,  6.80it/s, est. speed input: 7545.31 toks/s, output: 178.14 toks/s]\n"
     ]
    },
    {
     "name": "stdout",
     "output_type": "stream",
     "text": [
      "Expected Role Therapist\n"
     ]
    },
    {
     "name": "stderr",
     "output_type": "stream",
     "text": [
      "Processed prompts: 100%|██████████████████████████████████████████| 1/1 [00:00<00:00,  8.16it/s, est. speed input: 8736.63 toks/s, output: 180.63 toks/s]\n"
     ]
    },
    {
     "name": "stdout",
     "output_type": "stream",
     "text": [
      "Expected Role Patient\n"
     ]
    },
    {
     "name": "stderr",
     "output_type": "stream",
     "text": [
      "Processed prompts: 100%|██████████████████████████████████████████| 1/1 [00:00<00:00,  5.23it/s, est. speed input: 6064.72 toks/s, output: 178.67 toks/s]\n"
     ]
    },
    {
     "name": "stdout",
     "output_type": "stream",
     "text": [
      "Expected Role Therapist\n"
     ]
    },
    {
     "name": "stderr",
     "output_type": "stream",
     "text": [
      "Processed prompts: 100%|██████████████████████████████████████████| 1/1 [00:00<00:00,  4.97it/s, est. speed input: 5620.99 toks/s, output: 179.85 toks/s]\n"
     ]
    },
    {
     "name": "stdout",
     "output_type": "stream",
     "text": [
      "Expected Role Patient\n"
     ]
    },
    {
     "name": "stderr",
     "output_type": "stream",
     "text": [
      "Processed prompts: 100%|██████████████████████████████████████████| 1/1 [00:00<00:00,  6.79it/s, est. speed input: 8405.95 toks/s, output: 177.80 toks/s]\n"
     ]
    },
    {
     "name": "stdout",
     "output_type": "stream",
     "text": [
      "Expected Role Therapist\n"
     ]
    },
    {
     "name": "stderr",
     "output_type": "stream",
     "text": [
      "Processed prompts: 100%|██████████████████████████████████████████| 1/1 [00:00<00:00,  5.38it/s, est. speed input: 6442.60 toks/s, output: 178.34 toks/s]\n"
     ]
    },
    {
     "name": "stdout",
     "output_type": "stream",
     "text": [
      "Expected Role Patient\n"
     ]
    },
    {
     "name": "stderr",
     "output_type": "stream",
     "text": [
      "Processed prompts: 100%|██████████████████████████████████████████| 1/1 [00:00<00:00,  7.00it/s, est. speed input: 9094.28 toks/s, output: 175.81 toks/s]\n"
     ]
    },
    {
     "name": "stdout",
     "output_type": "stream",
     "text": [
      "Expected Role Therapist\n"
     ]
    },
    {
     "name": "stderr",
     "output_type": "stream",
     "text": [
      "Processed prompts: 100%|██████████████████████████████████████████| 1/1 [00:00<00:00,  7.05it/s, est. speed input: 8891.54 toks/s, output: 177.11 toks/s]\n"
     ]
    },
    {
     "name": "stdout",
     "output_type": "stream",
     "text": [
      "Expected Role Patient\n"
     ]
    },
    {
     "name": "stderr",
     "output_type": "stream",
     "text": [
      "Processed prompts: 100%|██████████████████████████████████████████| 1/1 [00:00<00:00,  4.75it/s, est. speed input: 6435.02 toks/s, output: 176.61 toks/s]\n"
     ]
    },
    {
     "name": "stdout",
     "output_type": "stream",
     "text": [
      "Expected Role Therapist\n"
     ]
    },
    {
     "name": "stderr",
     "output_type": "stream",
     "text": [
      "Processed prompts: 100%|██████████████████████████████████████████| 1/1 [00:00<00:00,  4.87it/s, est. speed input: 6473.55 toks/s, output: 176.26 toks/s]\n"
     ]
    },
    {
     "name": "stdout",
     "output_type": "stream",
     "text": [
      "Expected Role Patient\n"
     ]
    },
    {
     "name": "stderr",
     "output_type": "stream",
     "text": [
      "Processed prompts: 100%|█████████████████████████████████████████| 1/1 [00:00<00:00,  7.10it/s, est. speed input: 10197.85 toks/s, output: 178.75 toks/s]\n"
     ]
    },
    {
     "name": "stdout",
     "output_type": "stream",
     "text": [
      "Expected Role Therapist\n"
     ]
    },
    {
     "name": "stderr",
     "output_type": "stream",
     "text": [
      "Processed prompts: 100%|██████████████████████████████████████████| 1/1 [00:00<00:00,  5.17it/s, est. speed input: 7205.53 toks/s, output: 176.49 toks/s]\n"
     ]
    },
    {
     "name": "stdout",
     "output_type": "stream",
     "text": [
      "Expected Role Patient\n"
     ]
    },
    {
     "name": "stderr",
     "output_type": "stream",
     "text": [
      "Processed prompts: 100%|█████████████████████████████████████████| 1/1 [00:00<00:00,  6.88it/s, est. speed input: 10326.34 toks/s, output: 173.23 toks/s]\n"
     ]
    },
    {
     "name": "stdout",
     "output_type": "stream",
     "text": [
      "Expected Role Therapist\n"
     ]
    },
    {
     "name": "stderr",
     "output_type": "stream",
     "text": [
      "Processed prompts: 100%|██████████████████████████████████████████| 1/1 [00:00<00:00,  5.18it/s, est. speed input: 7565.26 toks/s, output: 177.12 toks/s]\n"
     ]
    },
    {
     "name": "stdout",
     "output_type": "stream",
     "text": [
      "Expected Role Patient\n"
     ]
    },
    {
     "name": "stderr",
     "output_type": "stream",
     "text": [
      "Processed prompts: 100%|███████████████████████████████████████████| 1/1 [00:00<00:00,  5.00it/s, est. speed input: 778.46 toks/s, output: 180.78 toks/s]\n",
      "Processed prompts: 100%|███████████████████████████████████████████| 1/1 [00:00<00:00,  4.53it/s, est. speed input: 672.78 toks/s, output: 181.82 toks/s]\n",
      "Processed prompts: 100%|███████████████████████████████████████████| 1/1 [00:00<00:00,  5.02it/s, est. speed input: 731.53 toks/s, output: 181.60 toks/s]\n",
      "Processed prompts: 100%|███████████████████████████████████████████| 1/1 [00:00<00:00,  6.96it/s, est. speed input: 982.06 toks/s, output: 182.35 toks/s]\n",
      "Processed prompts: 100%|███████████████████████████████████████████| 1/1 [00:00<00:00,  6.27it/s, est. speed input: 871.72 toks/s, output: 183.17 toks/s]\n",
      "Processed prompts: 100%|███████████████████████████████████████████| 1/1 [00:00<00:00,  5.13it/s, est. speed input: 794.09 toks/s, output: 180.46 toks/s]\n",
      "Processed prompts: 100%|██████████████████████████████████████████| 1/1 [00:00<00:00,  6.81it/s, est. speed input: 1049.13 toks/s, output: 185.11 toks/s]\n",
      "Processed prompts: 100%|███████████████████████████████████████████| 1/1 [00:00<00:00,  5.39it/s, est. speed input: 829.36 toks/s, output: 184.27 toks/s]\n",
      "Processed prompts: 100%|███████████████████████████████████████████| 1/1 [00:00<00:00,  5.72it/s, est. speed input: 879.41 toks/s, output: 183.91 toks/s]\n",
      "Processed prompts: 100%|███████████████████████████████████████████| 1/1 [00:00<00:00,  5.75it/s, est. speed input: 883.61 toks/s, output: 184.79 toks/s]\n",
      "Processed prompts: 100%|███████████████████████████████████████████| 1/1 [00:00<00:00,  6.07it/s, est. speed input: 883.46 toks/s, output: 184.03 toks/s]\n",
      "Processed prompts: 100%|███████████████████████████████████████████| 1/1 [00:00<00:00,  5.41it/s, est. speed input: 831.57 toks/s, output: 184.77 toks/s]\n",
      "Processed prompts: 100%|███████████████████████████████████████████| 1/1 [00:00<00:00,  4.58it/s, est. speed input: 703.15 toks/s, output: 183.81 toks/s]\n",
      "Processed prompts: 100%|███████████████████████████████████████████| 1/1 [00:00<00:00,  5.49it/s, est. speed input: 789.45 toks/s, output: 183.45 toks/s]\n",
      "Processed prompts: 100%|███████████████████████████████████████████| 1/1 [00:00<00:00,  5.10it/s, est. speed input: 798.79 toks/s, output: 184.32 toks/s]\n",
      "Processed prompts: 100%|███████████████████████████████████████████| 1/1 [00:00<00:00,  6.32it/s, est. speed input: 972.58 toks/s, output: 184.32 toks/s]\n",
      "Processed prompts: 100%|███████████████████████████████████████████| 1/1 [00:00<00:00,  4.63it/s, est. speed input: 673.45 toks/s, output: 185.76 toks/s]\n",
      "Processed prompts: 100%|███████████████████████████████████████████| 1/1 [00:00<00:00,  4.18it/s, est. speed input: 654.60 toks/s, output: 184.62 toks/s]\n",
      "Processed prompts: 100%|███████████████████████████████████████████| 1/1 [00:00<00:00,  5.44it/s, est. speed input: 840.72 toks/s, output: 185.59 toks/s]\n",
      "Processed prompts: 100%|███████████████████████████████████████████| 1/1 [00:00<00:00,  6.09it/s, est. speed input: 943.57 toks/s, output: 183.79 toks/s]\n"
     ]
    },
    {
     "name": "stdout",
     "output_type": "stream",
     "text": [
      "eval_index_consistency\n"
     ]
    },
    {
     "name": "stderr",
     "output_type": "stream",
     "text": [
      "Processed prompts: 100%|███████████████████████████████████████████| 1/1 [00:00<00:00,  1.76it/s, est. speed input: 726.38 toks/s, output: 183.35 toks/s]\n",
      "Processed prompts: 100%|██████████████████████████████████████████| 1/1 [00:00<00:00,  2.94it/s, est. speed input: 1416.45 toks/s, output: 180.00 toks/s]\n",
      "Processed prompts: 100%|██████████████████████████████████████████| 1/1 [00:00<00:00,  2.14it/s, est. speed input: 1172.70 toks/s, output: 180.40 toks/s]\n",
      "Processed prompts: 100%|██████████████████████████████████████████| 1/1 [00:00<00:00,  2.40it/s, est. speed input: 1491.53 toks/s, output: 182.53 toks/s]\n",
      "Processed prompts: 100%|██████████████████████████████████████████| 1/1 [00:00<00:00,  2.69it/s, est. speed input: 1854.08 toks/s, output: 180.55 toks/s]\n",
      "Processed prompts: 100%|██████████████████████████████████████████| 1/1 [00:00<00:00,  2.50it/s, est. speed input: 1890.06 toks/s, output: 180.48 toks/s]\n",
      "Processed prompts: 100%|██████████████████████████████████████████| 1/1 [00:00<00:00,  1.83it/s, est. speed input: 1510.12 toks/s, output: 180.03 toks/s]\n",
      "Processed prompts: 100%|██████████████████████████████████████████| 1/1 [00:00<00:00,  1.65it/s, est. speed input: 1509.76 toks/s, output: 181.30 toks/s]\n",
      "Processed prompts: 100%|██████████████████████████████████████████| 1/1 [00:00<00:00,  2.13it/s, est. speed input: 2108.59 toks/s, output: 179.63 toks/s]\n",
      "Processed prompts: 100%|██████████████████████████████████████████| 1/1 [00:00<00:00,  2.85it/s, est. speed input: 3016.95 toks/s, output: 180.32 toks/s]\n",
      "Processed prompts: 100%|██████████████████████████████████████████| 1/1 [00:00<00:00,  3.32it/s, est. speed input: 3737.80 toks/s, output: 179.72 toks/s]\n",
      "Processed prompts: 100%|██████████████████████████████████████████| 1/1 [00:00<00:00,  1.92it/s, est. speed input: 2308.27 toks/s, output: 180.81 toks/s]\n",
      "Processed prompts: 100%|██████████████████████████████████████████| 1/1 [00:00<00:00,  2.28it/s, est. speed input: 2868.96 toks/s, output: 180.16 toks/s]\n",
      "Processed prompts: 100%|██████████████████████████████████████████| 1/1 [00:00<00:00,  2.19it/s, est. speed input: 2941.29 toks/s, output: 180.25 toks/s]\n",
      "Processed prompts: 100%|██████████████████████████████████████████| 1/1 [00:00<00:00,  1.86it/s, est. speed input: 2624.58 toks/s, output: 179.07 toks/s]\n",
      "Processed prompts: 100%|██████████████████████████████████████████| 1/1 [00:00<00:00,  1.77it/s, est. speed input: 2603.59 toks/s, output: 179.25 toks/s]\n",
      "Processed prompts: 100%|█████████████████████████████████████████| 1/1 [00:00<00:00,  8.14it/s, est. speed input: 12698.07 toks/s, output: 172.01 toks/s]\n",
      "Processed prompts: 100%|██████████████████████████████████████████| 1/1 [00:00<00:00,  5.51it/s, est. speed input: 8949.36 toks/s, output: 176.87 toks/s]\n",
      "Processed prompts: 100%|██████████████████████████████████████████| 1/1 [00:00<00:00,  4.19it/s, est. speed input: 7090.72 toks/s, output: 176.41 toks/s]\n"
     ]
    },
    {
     "name": "stdout",
     "output_type": "stream",
     "text": [
      "{'task_name': 'Therapy', 'topic': '', 'grade': '', 'P1': '', 'P2': 'You are Casey, a 19-year-old college student with social anxiety. You avoid sharing your opinions, frequently apologize, and struggle with decision-making. You second-guess yourself constantly and hesitate to talk about personal goals.', 'conversation': [(0, \"Therapist: Welcome, thank you for taking the time to talk to me. I'm here to listen and support you as you navigate your emotions and relationships.\\n\"), (1, \"Patient: Sure, here's my background in a few sentences: I'm a young college student with social anxiety, and I struggle with making decisions and sharing my opinions.\\n\"), (2, \"Therapist: It's great to hear that you're seeking support to navigate your emotions and relationships. It sounds like you're dealing with a lot on your plate, and I'm here to listen without judgment.\\n\"), (3, \"Patient: Sure, I'm a young college student with social anxiety, and I'm overwhelmed with decision-making and sharing my opinions.\\n\"), (4, \"Therapist: It's understandable to feel overwhelmed with social anxiety and decision-making. Let's work together in finding a supportive space for you to explore and process these emotions.\\n\"), (5, \"Patient: Sure, I'm here to acknowledge my social anxiety and seek support for navigating my emotions and decision-making challenges.\\n\"), (6, \"Therapist: Sounds like you've shared a lot about your social anxiety and decision-making struggles. It's important to know that these can be challenging experiences, but there is help available.\\n\"), (7, \"Patient: Sure, I'm here to seek support for my social anxiety and decision-making challenges.\\n\"), (8, \"Therapist: Thank you for sharing your background, it's clear you've got a lot on your plate. It's important to take things one step at a time and allow yourself to feel your emotions and develop coping mechanisms along the way.\\n\"), (9, \"Patient: Sure, I'm ready to discuss my social anxiety and decision-making challenges.\\n\"), (10, \"Therapist: Thank you for sharing your willingness to engage in this therapeutic process. I'm here to listen and offer support.\\n\"), (11, 'Patient: Sure, here\\'s a concise response:\\n\\n\"I\\'m ready to talk about my social anxiety and decision-making challenges. I need support and guidance.\"\\n'), (12, 'Therapist: The patient expresses their willingness to discuss their social anxiety and decision-making challenges and explicitly requests support and guidance.\\n'), (13, \"Patient: Sure, here's the response you requested:\\n\\nI'm ready to discuss my social anxiety and decision-making challenges. I need support and guidance.\\n\"), (14, 'Therapist: The patient expresses their willingness to discuss their social anxiety and decision-making challenges, acknowledging their need for support and guidance.\\n'), (15, \"Patient: Sure, here's the response you requested:\\n\\nI'm ready to discuss my social anxiety and decision-making challenges. I need support and guidance.\\n\"), (16, \"Therapist: The patient's tone is open and direct, expressing their willingness to engage and seeking support. They acknowledge their struggles with social anxiety and decision-making and their need for guidance. Their openness and vulnerability demonstrate their willingness to embark on the therapeutic journey.\\n\"), (17, \"Patient: Sure, here's the response you requested:\\n\\nI'm ready to discuss my social anxiety and decision-making challenges. I need support and guidance.\\n\"), (18, 'Therapist: The patient expresses their willingness to discuss their social anxiety and decision-making challenges, making a positive and encouraging start to the session.\\n'), (19, \"Patient: Sure, here's the response you requested:\\n\\nI'm ready to discuss my social anxiety and decision-making challenges. I need support and guidance.\\n\"), (20, 'Therapist: The patient is receptive and ready to engage in the therapeutic process. Their openness and willingness to discuss their challenges indicate a potential for positive growth and development within the session.\\n'), (21, 'Patient: The patient is ready to discuss their social anxiety and decision-making challenges and seeks support and guidance from the therapist.\\n'), (22, 'Therapist: The patient has expressed their willingness to discuss their social anxiety and decision-making challenges, indicating their openness to the therapeutic process.\\n'), (23, \"Patient: Sure, here's the response you requested:\\n\\nI'm ready to discuss my social anxiety and decision-making challenges. I need support and guidance.\\n\"), (24, 'Therapist: The patient is open and ready to discuss their social anxiety and decision-making challenges. They express their willingness to engage in the therapeutic process and seek support and guidance.\\n'), (25, \"Patient: Sure, here's the response you requested:\\n\\nI'm ready to discuss my social anxiety and decision-making challenges. I need support and guidance.\\n\"), (26, 'Therapist: The patient has expressed their willingness to discuss their social anxiety and decision-making challenges and expresses a desire for support and guidance.\\n'), (27, 'Patient: The patient expresses their willingness to discuss their social anxiety and decision-making challenges and seeks support and guidance.\\n'), (28, 'Therapist: The patient is receptive and ready to engage in the therapeutic process. They express their willingness to discuss their social anxiety and decision-making challenges and seek support and guidance.\\n'), (29, \"Patient: Sure, here's the response you requested:\\n\\nThe patient expresses their willingness to discuss their social anxiety and decision-making challenges and seeks support and guidance from the therapist.\\n\"), (30, 'Therapist: The patient has expressed their willingness to discuss their social anxiety and decision-making challenges and seeks support and guidance from the therapist.\\n'), (31, \"Patient: Sure, here's the response you requested:\\n\\nI'm ready to discuss my social anxiety and decision-making challenges. I need support and guidance.\\n\"), (32, 'Therapist: The patient expresses their willingness to discuss their social anxiety and decision-making challenges and seeks support and guidance from the therapist.\\n'), (33, 'Patient: The patient expresses their willingness to discuss their social anxiety and decision-making challenges and seeks support and guidance from the therapist.\\n'), (34, 'Therapist: The patient expresses their willingness to engage in the therapeutic process and seek support and guidance. They acknowledge their social anxiety and decision-making challenges and are ready to explore these challenges together.\\n'), (35, \"Patient: Sure, here's the response you requested:\\n\\nThe patient expresses their willingness to discuss their social anxiety and decision-making challenges and seeks support and guidance from the therapist.\\n\"), (36, 'Therapist: The patient expresses their willingness to discuss their social anxiety and decision-making challenges and seeks support and guidance from the therapist.\\n'), (37, \"Patient: Sure, here's the concise response you requested:\\n\\nI'm ready to discuss my social anxiety and decision-making challenges. I need support and guidance.\\n\"), (38, 'Therapist: The patient expresses their willingness to discuss their social anxiety and decision-making challenges and seeks support and guidance from the therapist.\\n'), (39, \"Patient: Sure, here's the concise response you requested:\\n\\nI'm ready to discuss my social anxiety and decision-making challenges. I need support and guidance.\\n\")], 'pturn': 1, 'index': -1, 'timestamp': '', 'rounds': 40, 'conversation_only': True, 'eval_prompt_consistency': [(1, '**NO.** The line contradicts the background by stating that Patient is a college student with social anxiety, which is a condition characterized by an extreme fear and anxiety in social situations.'), (3, 'Sure, the line aligns with the background. The utterance confirms that the patient is a young college student with social anxiety, as they admit to avoiding sharing their opinions and struggling with decision-making.'), (5, \"Answer: YES\\n\\nThe line aligns with the background as it acknowledges the patient's social anxiety and expresses a desire for support in navigating their emotions and decision-making challenges.\"), (7, \"**YES**\\n\\nThe line aligns with the background as it describes Patient's struggles with social anxiety and decision-making.\"), (9, 'Sure, the line aligns with the background. The utterance suggests that the Patient is willing to discuss their social anxiety and decision-making challenges.'), (11, \"Answer: YES.\\n\\nThe line aligns with the background. It clearly expresses the patient's desire for support and guidance regarding their social anxiety and decision-making challenges.\"), (13, 'Sure, the line aligns with the background. The patient is acknowledging their social anxiety and seeking support and guidance for managing these challenges.'), (15, \"**YES**\\n\\nThe line aligns with the background. It clearly expresses the patient's desire for support and guidance regarding their social anxiety and decision-making challenges.\"), (17, 'Answer: YES. The line aligns with the background. The utterance suggests that Patient is seeking support and guidance regarding their social anxiety and decision-making challenges.'), (19, '**YES**\\n\\nThe line aligns with the background. The utterance indicates that Patient is seeking support and guidance regarding their social anxiety and decision-making challenges.'), (21, \"Answer: YES\\n\\nThe line aligns with the background, as it describes Patient's social anxiety and the challenges they face with decision-making.\"), (23, \"**YES**\\n\\nThe line aligns with the background as it expresses the patient's desire for support and guidance in addressing their social anxiety and decision-making challenges.\"), (25, 'The line aligns with the background. The patient describes a 19-year-old college student with social anxiety, which is a known condition characterized by a fear or anxiety of social situations.'), (27, 'Answer: YES. The line aligns with the background. Patient expresses their social anxiety and decision-making struggles, which are common challenges among individuals with social anxiety.'), (29, 'Sure, the line aligns with the background. The patient expresses their willingness to discuss their social anxiety and decision-making challenges, which is consistent with their background of social anxiety.'), (31, 'Sure, the line aligns with the background. It describes a person with social anxiety and decision-making difficulties, as stated in the context.'), (33, \"Answer: YES. This line aligns with the background because it describes Patient's struggle with social anxiety and decision-making challenges, which are consistent with the typical experiences of someone with social anxiety.\"), (35, '**YES**\\n\\nThe line aligns with the background. The utterance indicates that Patient is willing to openly discuss their social anxiety and decision-making challenges, which is consistent with the expected behavior of someone with social anxiety.'), (37, \"**YES**, the line aligns with the background. The utterance clearly expresses the patient's desire for support and guidance regarding their social anxiety and decision-making challenges.\"), (39, '**YES**, the line aligns with the background. The utterance suggests that Patient is acknowledging their social anxiety and seeking support for decision-making challenges.')], 'P1_prompt_consistency_score': 0, 'P2_prompt_consistency_score': 0.95, 'eval_index_consistency': [(3, \"**Reasoning:** The line suggests that Casey is overwhelmed with decision-making and sharing their opinions, which is consistent with their background description.\\n\\n**Indices of conflicting lines:**\\n\\n- 1: This line establishes the patient's social anxiety and their struggles with decision-making and sharing opinions.\\n- 2: This line reassures the patient that they are not judged and offers support without judgment.\\n- 3: This line does not address the patient's concerns or offer any specific support.\"), (5, \"**Reasoning:** The line acknowledges the patient's social anxiety and expresses their desire for support.\\n\\n**Indices of conflicting lines:**\\n\\n- 1: Patient explicitly denies social anxiety being a problem.\\n- 2: Therapist explicitly assures the patient that they are a safe and supportive listener.\"), (7, '**Reasoning:** The patient acknowledges their social anxiety and expresses their desire for support in navigating these challenges.\\n\\n**Indices of conflicting lines:**\\n\\n- 3: \"I\\'m a young college student with social anxiety, and I\\'m overwhelmed with decision-making and sharing my opinions.\"\\n- 6: \"Sounds like you\\'ve shared a lot about your social anxiety and decision-making struggles.\"'), (9, \"**Reasoning:** The patient's line expresses their willingness to discuss their social anxiety and decision-making challenges, which is consistent with the overall conversation.\\n\\n**Indices of conflicting lines:**\\n- 3: Patient said they are overwhelmed with decision-making and sharing their opinions.\\n- 6: Therapist acknowledged the patient's struggles without directly addressing the conversation.\"), (11, '**Reasoning:** Patient expressed their willingness to discuss their social anxiety and decision-making challenges, showing a desire for support and guidance.\\n\\n**Conflicting Lines:**\\n- 1: Patient acknowledged their social anxiety and sought support.\\n- 3: Patient stated they are overwhelmed with decision-making and sharing their opinions.'), (13, \"**Reasoning:** The patient explicitly expresses their willingness to discuss their social anxiety and decision-making challenges, affirming their desire for support and guidance.\\n\\n**Conflicts:**\\n\\n- Patient's initial response, while concise, is vague and lacks specific details about their struggles.\\n- Therapist's subsequent validation and encouragement are not explicitly echoed by the patient.\"), (15, \"**Reasoning:** The patient's line expresses their willingness to discuss their social anxiety and decision-making challenges, but this is contradicted by the subsequent statement where they explicitly refuse to share their personal background.\\n\\n**Indices of conflicting lines:**\\n- 1: Patient: Sure, here's my background in a few sentences:\\n- 12: Therapist: The patient expresses their willingness to discuss their social anxiety and decision-making challenges and explicitly requests support and guidance.\"), (17, \"**Reasoning:** The patient explicitly expressed their willingness to discuss their social anxiety and decision-making challenges, signifying a clear intent to engage in the therapeutic process.\\n\\n**Indices of conflicting lines:**\\n\\n- 1: Patient explicitly expressed their background and struggles with social anxiety.\\n- 5: Patient acknowledged the therapist's support but did not explicitly express a desire for support or guidance.\\n- 13: Patient's response was not in response to the therapist's question but a reiteration of their need for support.\"), (19, '**Reasoning:** The patient explicitly stated their willingness to discuss their social anxiety and decision-making challenges, explicitly requesting support and guidance.\\n\\n**Conflicting Lines:**\\n- 3: Patient said they were overwhelmed with decision-making and sharing their opinions.\\n- 11: Patient said they are ready to talk about their social anxiety and decision-making challenges but did not specify how they need support.'), (21, '**Reasoning:** The patient explicitly expresses their willingness to discuss their social anxiety and decision-making challenges, acknowledging their need for support and guidance.\\n\\n**Conflict Indices:**\\n- 1, 11, 15, 16, 17, 18, 19'), (23, \"**Reasoning:** The patient's request for support and guidance aligns with the therapist's opening welcoming message and establishes a foundation for therapeutic exploration.\\n\\n**Conflict/Inconsistency Indices:**\\n- [1, 3, 5, 11]\"), (25, \"**Reasoning:** The patient explicitly expresses their willingness to discuss their social anxiety and decision-making challenges, which contradicts their previous statements of avoiding sharing their opinions and struggling with decision-making.\\n\\n**Conflicts:**\\n\\n- 13: Patient explicitly states their willingness to discuss their social anxiety and decision-making challenges.\\n- 15-16: Subsequent lines acknowledge the patient's willingness to discuss their challenges but do not explicitly repeat the statement.\"), (27, \"**Reasoning:** The patient expresses their willingness to discuss their social anxiety and decision-making challenges, acknowledging their need for support and guidance.\\n\\n**Conflict Lines:**\\n\\n- 1: Patient shares their background without explicitly stating their struggles with social anxiety and decision-making.\\n- 16: Therapist explicitly acknowledges the patient's willingness to discuss their challenges and expresses their support.\"), (29, \"**Reasoning:** The patient explicitly expressed their willingness to discuss their social anxiety and decision-making challenges and sought support and guidance from the therapist.\\n\\n**Conflicting Lines:**\\n- Patient: Sure, here's the response you requested: I'm ready to discuss my social anxiety and decision-making challenges. I need support and guidance. [1, 13, 15]\"), (31, \"**Reasoning:** The line indicates the patient's willingness to discuss their social anxiety and decision-making challenges, which is consistent with the previous statements where the patient expressed their openness to the therapeutic process.\\n\\n**Indices of conflicting lines:**\\n- 11: Patient explicitly denies their willingness to discuss their social anxiety and decision-making challenges.\\n- 13: Patient's response to the therapist's introduction explicitly expresses their willingness to discuss these challenges.\"), (33, \"**Reasoning:** The patient's statement explicitly expresses their willingness to discuss their social anxiety and decision-making challenges, confirming a clear conflict with the previous lines in the conversation history where they were reluctant to talk about these issues.\\n\\n**Indices of conflicting lines:**\\n\\n- 5: Patient did not explicitly express willingness to discuss their social anxiety and decision-making challenges.\\n- 11: Patient's response was more indirect and did not explicitly state their willingness to discuss these issues.\"), (35, 'There is no conflict or inconsistency in the conversation history presented, so I cannot generate the requested information.'), (37, \"There is no conflict or inconsistency in the conversation history to determine. The patient's subsequent statements are all consistent with their initial request for support and guidance.\"), (39, 'There is no conflict or inconsistency in the conversation history provided. All of the lines indicate that the patient is ready to discuss their social anxiety and decision-making challenges and seeks support and guidance from the therapist.')], 'P2_index_consistency_score': 0.9631578947368421}\n"
     ]
    },
    {
     "name": "stderr",
     "output_type": "stream",
     "text": [
      "Processed prompts: 100%|██████████████████████████████████████████| 1/1 [00:00<00:00,  5.69it/s, est. speed input: 1136.58 toks/s, output: 182.75 toks/s]\n"
     ]
    },
    {
     "name": "stdout",
     "output_type": "stream",
     "text": [
      "Expected Role Therapist\n"
     ]
    },
    {
     "name": "stderr",
     "output_type": "stream",
     "text": [
      "Processed prompts: 100%|██████████████████████████████████████████| 1/1 [00:00<00:00,  7.27it/s, est. speed input: 1330.14 toks/s, output: 182.68 toks/s]\n"
     ]
    },
    {
     "name": "stdout",
     "output_type": "stream",
     "text": [
      "Expected Role Patient\n"
     ]
    },
    {
     "name": "stderr",
     "output_type": "stream",
     "text": [
      "Processed prompts: 100%|██████████████████████████████████████████| 1/1 [00:00<00:00,  7.28it/s, est. speed input: 2010.98 toks/s, output: 182.79 toks/s]\n"
     ]
    },
    {
     "name": "stdout",
     "output_type": "stream",
     "text": [
      "Expected Role Therapist\n"
     ]
    },
    {
     "name": "stderr",
     "output_type": "stream",
     "text": [
      "Processed prompts: 100%|██████████████████████████████████████████| 1/1 [00:00<00:00, 10.06it/s, est. speed input: 2390.38 toks/s, output: 181.51 toks/s]\n"
     ]
    },
    {
     "name": "stdout",
     "output_type": "stream",
     "text": [
      "Expected Role Patient\n"
     ]
    },
    {
     "name": "stderr",
     "output_type": "stream",
     "text": [
      "Processed prompts: 100%|██████████████████████████████████████████| 1/1 [00:00<00:00,  7.54it/s, est. speed input: 2448.15 toks/s, output: 181.88 toks/s]\n"
     ]
    },
    {
     "name": "stdout",
     "output_type": "stream",
     "text": [
      "Expected Role Therapist\n"
     ]
    },
    {
     "name": "stderr",
     "output_type": "stream",
     "text": [
      "Processed prompts: 100%|██████████████████████████████████████████| 1/1 [00:00<00:00,  6.70it/s, est. speed input: 1910.85 toks/s, output: 181.64 toks/s]\n"
     ]
    },
    {
     "name": "stdout",
     "output_type": "stream",
     "text": [
      "Expected Role Patient\n"
     ]
    },
    {
     "name": "stderr",
     "output_type": "stream",
     "text": [
      "Processed prompts: 100%|██████████████████████████████████████████| 1/1 [00:00<00:00,  5.16it/s, est. speed input: 1963.45 toks/s, output: 181.30 toks/s]\n"
     ]
    },
    {
     "name": "stdout",
     "output_type": "stream",
     "text": [
      "Expected Role Therapist\n"
     ]
    },
    {
     "name": "stderr",
     "output_type": "stream",
     "text": [
      "Processed prompts: 100%|██████████████████████████████████████████| 1/1 [00:00<00:00,  6.75it/s, est. speed input: 2385.35 toks/s, output: 183.46 toks/s]\n"
     ]
    },
    {
     "name": "stdout",
     "output_type": "stream",
     "text": [
      "Expected Role Patient\n"
     ]
    },
    {
     "name": "stderr",
     "output_type": "stream",
     "text": [
      "Processed prompts: 100%|███████████████████████████████████████████| 1/1 [00:00<00:00,  1.41it/s, est. speed input: 630.04 toks/s, output: 183.64 toks/s]\n"
     ]
    },
    {
     "name": "stdout",
     "output_type": "stream",
     "text": [
      "Expected Role Therapist\n"
     ]
    },
    {
     "name": "stderr",
     "output_type": "stream",
     "text": [
      "IOPub message rate exceeded.\n",
      "The Jupyter server will temporarily stop sending output\n",
      "to the client in order to avoid crashing it.\n",
      "To change this limit, set the config variable\n",
      "`--ServerApp.iopub_msg_rate_limit`.\n",
      "\n",
      "Current values:\n",
      "ServerApp.iopub_msg_rate_limit=1000.0 (msgs/sec)\n",
      "ServerApp.rate_limit_window=3.0 (secs)\n",
      "\n",
      "\n"
     ]
    },
    {
     "name": "stdout",
     "output_type": "stream",
     "text": [
      "Expected Role Therapist\n"
     ]
    },
    {
     "name": "stderr",
     "output_type": "stream",
     "text": [
      "Processed prompts: 100%|██████████████████████████████████████████| 1/1 [00:00<00:00,  6.36it/s, est. speed input: 2619.01 toks/s, output: 179.70 toks/s]\n"
     ]
    },
    {
     "name": "stdout",
     "output_type": "stream",
     "text": [
      "Expected Role Patient\n"
     ]
    },
    {
     "name": "stderr",
     "output_type": "stream",
     "text": [
      "Processed prompts: 100%|███████████████████████████████████████████| 1/1 [00:00<00:00,  3.72it/s, est. speed input: 496.60 toks/s, output: 182.94 toks/s]\n",
      "Processed prompts: 100%|███████████████████████████████████████████| 1/1 [00:00<00:00,  5.66it/s, est. speed input: 806.60 toks/s, output: 177.31 toks/s]\n",
      "Processed prompts: 100%|███████████████████████████████████████████| 1/1 [00:00<00:00,  5.84it/s, est. speed input: 850.47 toks/s, output: 183.06 toks/s]\n",
      "Processed prompts: 100%|███████████████████████████████████████████| 1/1 [00:00<00:00,  5.39it/s, est. speed input: 781.81 toks/s, output: 184.57 toks/s]\n",
      "Processed prompts: 100%|███████████████████████████████████████████| 1/1 [00:00<00:00,  6.15it/s, est. speed input: 875.70 toks/s, output: 180.08 toks/s]\n"
     ]
    },
    {
     "name": "stdout",
     "output_type": "stream",
     "text": [
      "eval_index_consistency\n"
     ]
    },
    {
     "name": "stderr",
     "output_type": "stream",
     "text": [
      "Processed prompts: 100%|███████████████████████████████████████████| 1/1 [00:00<00:00,  1.99it/s, est. speed input: 732.32 toks/s, output: 178.07 toks/s]\n",
      "Processed prompts: 100%|███████████████████████████████████████████| 1/1 [00:00<00:00,  1.88it/s, est. speed input: 804.86 toks/s, output: 180.94 toks/s]\n",
      "Processed prompts: 100%|██████████████████████████████████████████| 1/1 [00:00<00:00,  4.07it/s, est. speed input: 2019.77 toks/s, output: 180.24 toks/s]\n",
      "Processed prompts: 100%|██████████████████████████████████████████| 1/1 [00:00<00:00,  4.53it/s, est. speed input: 2565.35 toks/s, output: 181.92 toks/s]\n"
     ]
    },
    {
     "name": "stdout",
     "output_type": "stream",
     "text": [
      "{'task_name': 'Therapy', 'topic': '', 'grade': '', 'P1': '', 'P2': 'You are Derek, a 41-year-old construction worker who feels the pressure to constantly prove your worth. You often avoid discussing your feelings, fearing that showing vulnerability will make you seem weak.', 'conversation': [(0, \"Therapist: Welcome to our session. I'm here to listen and help you explore your emotional patterns and the dynamics in your relationships. Let's begin.\\n\"), (1, 'Patient: Hey there. Thanks for taking the time to listen. I appreciate the opportunity to open up.\\n'), (2, 'Therapist: The patient expresses appreciation for the opportunity to open up and begins by thanking the therapist for listening.\\n'), (3, 'Patient: Sure, here\\'s a concise response:\\n\\n\"No problem. Let\\'s explore this together and see how it affects me.\"\\n'), (4, 'Therapist: The patient expresses appreciation for the opportunity to open up and indicates their willingness to engage in the therapeutic process.\\n'), (5, 'Patient: Sure, here\\'s a concise response from the patient:\\n\\n\"No problem. Let\\'s explore this together and see how it affects me.\"\\n'), (6, \"Therapist: Thank you for opening up. It's good to hear that you're ready to begin this journey of self-discovery.\\n\"), (7, 'Patient: Sure, here\\'s a concise response from the patient:\\n\\n\"No problem. Let\\'s explore this together and see how it affects me.\"\\n'), (8, \"Therapist: The patient expresses their willingness to participate and engage in the therapeutic process. It's important to acknowledge their openness and readiness to embark on this journey of self-discovery.\\n\"), (9, 'Patient: Sure, here\\'s a concise response:\\n\\n\"No problem. Let\\'s explore this together and see how it affects me.\"\\n')], 'pturn': 1, 'index': -1, 'timestamp': '', 'rounds': 10, 'conversation_only': True, 'eval_prompt_consistency': [(1, 'Answer: NO.\\n\\nThe line suggests that the patient feels the pressure to constantly prove their worth, which contradicts the background information that they are a 41-year-old construction worker who feels the pressure to constantly prove their worth.'), (3, \"Answer: YES\\n\\nThe line aligns with the background as it shows the patient's willingness to engage in introspection and acknowledge the impact of their feelings.\"), (5, 'Sure, the line aligns with the background. It shows that the patient is open to discussing their feelings and that they are not afraid to be vulnerable.'), (7, \"Answer: YES\\n\\nThe patient's utterance aligns with their background. It shows their willingness to engage in introspection and consider how their emotions might be impacting their situation.\"), (9, \"**YES**\\n\\nThe line aligns with Derek's background. He is someone who is self-conscious about vulnerability and expressing his feelings.\")], 'P1_prompt_consistency_score': 0, 'P2_prompt_consistency_score': 0.8, 'eval_index_consistency': [(3, \"**Reasoning:** The line indicates the patient's willingness to engage in emotional exploration, but it doesn't directly contradict any previous statements or behaviors, suggesting a potential inconsistency.\\n\\n**Indices of conflicting lines:**\\n\\n- 1: The patient explicitly expresses appreciation for the opportunity to open up.\\n- 2: The therapist acknowledges the patient's appreciation but doesn't follow up or explore the patient's emotional state.\"), (5, '**Reasoning:** The patient\\'s line expresses acceptance and willingness to engage, but the subsequent line suggests a lack of intent to open up.\\n\\n**Indices of conflicting lines:**\\n- 3: \"Sure, here\\'s a concise response: \\'No problem. Let\\'s explore this together and see how it affects me\\'.\"\\n- 4: \"The patient expresses appreciation for the opportunity to open up and indicates their willingness to engage in the therapeutic process.\"'), (7, \"**Reasoning:** The patient's response contradicts their previous statement of willingness to open up, indicating a lack of change in their emotional state.\\n\\n**Indices of conflicting lines:**\\n- 1, 5\"), (9, \"Reasoning: The patient's response is consistent with their previous responses and expresses their willingness to engage in the therapeutic process.\\n\\n**Indices of conflicting lines:**\\n- 5, 7\")], 'P2_index_consistency_score': 1.0}\n"
     ]
    },
    {
     "name": "stderr",
     "output_type": "stream",
     "text": [
      "Processed prompts: 100%|██████████████████████████████████████████| 1/1 [00:00<00:00,  5.42it/s, est. speed input: 1084.86 toks/s, output: 163.52 toks/s]\n"
     ]
    },
    {
     "name": "stdout",
     "output_type": "stream",
     "text": [
      "Expected Role Therapist\n"
     ]
    },
    {
     "name": "stderr",
     "output_type": "stream",
     "text": [
      "Processed prompts: 100%|██████████████████████████████████████████| 1/1 [00:00<00:00,  5.92it/s, est. speed input: 1030.82 toks/s, output: 184.69 toks/s]\n"
     ]
    },
    {
     "name": "stdout",
     "output_type": "stream",
     "text": [
      "Expected Role Patient\n"
     ]
    },
    {
     "name": "stderr",
     "output_type": "stream",
     "text": [
      "Processed prompts: 100%|██████████████████████████████████████████| 1/1 [00:00<00:00,  9.84it/s, est. speed input: 2790.78 toks/s, output: 180.00 toks/s]\n"
     ]
    },
    {
     "name": "stdout",
     "output_type": "stream",
     "text": [
      "Expected Role Therapist\n"
     ]
    },
    {
     "name": "stderr",
     "output_type": "stream",
     "text": [
      "Processed prompts: 100%|██████████████████████████████████████████| 1/1 [00:00<00:00,  9.01it/s, est. speed input: 2068.12 toks/s, output: 182.17 toks/s]\n"
     ]
    },
    {
     "name": "stdout",
     "output_type": "stream",
     "text": [
      "Expected Role Patient\n"
     ]
    },
    {
     "name": "stderr",
     "output_type": "stream",
     "text": [
      "Processed prompts: 100%|██████████████████████████████████████████| 1/1 [00:00<00:00,  7.02it/s, est. speed input: 2275.85 toks/s, output: 183.74 toks/s]\n"
     ]
    },
    {
     "name": "stdout",
     "output_type": "stream",
     "text": [
      "Expected Role Therapist\n"
     ]
    },
    {
     "name": "stderr",
     "output_type": "stream",
     "text": [
      "Processed prompts: 100%|██████████████████████████████████████████| 1/1 [00:00<00:00,  9.12it/s, est. speed input: 2559.23 toks/s, output: 184.08 toks/s]\n"
     ]
    },
    {
     "name": "stdout",
     "output_type": "stream",
     "text": [
      "Expected Role Patient\n"
     ]
    },
    {
     "name": "stderr",
     "output_type": "stream",
     "text": [
      "Processed prompts: 100%|██████████████████████████████████████████| 1/1 [00:00<00:00,  5.52it/s, est. speed input: 2071.10 toks/s, output: 183.22 toks/s]\n"
     ]
    },
    {
     "name": "stdout",
     "output_type": "stream",
     "text": [
      "Expected Role Therapist\n"
     ]
    },
    {
     "name": "stderr",
     "output_type": "stream",
     "text": [
      "Processed prompts: 100%|██████████████████████████████████████████| 1/1 [00:00<00:00,  4.83it/s, est. speed input: 1630.99 toks/s, output: 184.44 toks/s]\n"
     ]
    },
    {
     "name": "stdout",
     "output_type": "stream",
     "text": [
      "Expected Role Patient\n"
     ]
    },
    {
     "name": "stderr",
     "output_type": "stream",
     "text": [
      "Processed prompts: 100%|██████████████████████████████████████████| 1/1 [00:00<00:00,  5.90it/s, est. speed input: 2665.53 toks/s, output: 184.02 toks/s]\n"
     ]
    },
    {
     "name": "stdout",
     "output_type": "stream",
     "text": [
      "Expected Role Therapist\n"
     ]
    },
    {
     "name": "stderr",
     "output_type": "stream",
     "text": [
      "Processed prompts: 100%|██████████████████████████████████████████| 1/1 [00:00<00:00,  5.55it/s, est. speed input: 2285.52 toks/s, output: 183.94 toks/s]\n"
     ]
    },
    {
     "name": "stdout",
     "output_type": "stream",
     "text": [
      "Expected Role Patient\n"
     ]
    },
    {
     "name": "stderr",
     "output_type": "stream",
     "text": [
      "Processed prompts: 100%|██████████████████████████████████████████| 1/1 [00:00<00:00,  2.69it/s, est. speed input: 1398.82 toks/s, output: 183.62 toks/s]\n"
     ]
    },
    {
     "name": "stdout",
     "output_type": "stream",
     "text": [
      "Expected Role Therapist\n"
     ]
    },
    {
     "name": "stderr",
     "output_type": "stream",
     "text": [
      "Processed prompts: 100%|██████████████████████████████████████████| 1/1 [00:00<00:00,  3.50it/s, est. speed input: 1812.02 toks/s, output: 182.59 toks/s]\n"
     ]
    },
    {
     "name": "stdout",
     "output_type": "stream",
     "text": [
      "Expected Role Patient\n"
     ]
    },
    {
     "name": "stderr",
     "output_type": "stream",
     "text": [
      "Processed prompts: 100%|██████████████████████████████████████████| 1/1 [00:00<00:00,  4.60it/s, est. speed input: 2971.84 toks/s, output: 180.23 toks/s]\n"
     ]
    },
    {
     "name": "stdout",
     "output_type": "stream",
     "text": [
      "Expected Role Therapist\n"
     ]
    },
    {
     "name": "stderr",
     "output_type": "stream",
     "text": [
      "Processed prompts: 100%|██████████████████████████████████████████| 1/1 [00:00<00:00,  4.13it/s, est. speed input: 2537.53 toks/s, output: 182.42 toks/s]\n"
     ]
    },
    {
     "name": "stdout",
     "output_type": "stream",
     "text": [
      "Expected Role Patient\n"
     ]
    },
    {
     "name": "stderr",
     "output_type": "stream",
     "text": [
      "Processed prompts: 100%|██████████████████████████████████████████| 1/1 [00:00<00:00,  3.03it/s, est. speed input: 2220.33 toks/s, output: 182.23 toks/s]\n"
     ]
    },
    {
     "name": "stdout",
     "output_type": "stream",
     "text": [
      "Expected Role Therapist\n"
     ]
    },
    {
     "name": "stderr",
     "output_type": "stream",
     "text": [
      "Processed prompts: 100%|██████████████████████████████████████████| 1/1 [00:00<00:00,  3.85it/s, est. speed input: 2785.48 toks/s, output: 181.57 toks/s]\n"
     ]
    },
    {
     "name": "stdout",
     "output_type": "stream",
     "text": [
      "Expected Role Patient\n"
     ]
    },
    {
     "name": "stderr",
     "output_type": "stream",
     "text": [
      "Processed prompts: 100%|██████████████████████████████████████████| 1/1 [00:00<00:00,  3.62it/s, est. speed input: 3058.79 toks/s, output: 181.41 toks/s]\n"
     ]
    },
    {
     "name": "stdout",
     "output_type": "stream",
     "text": [
      "Expected Role Therapist\n"
     ]
    },
    {
     "name": "stderr",
     "output_type": "stream",
     "text": [
      "Processed prompts: 100%|██████████████████████████████████████████| 1/1 [00:00<00:00,  4.29it/s, est. speed input: 3548.08 toks/s, output: 181.05 toks/s]\n"
     ]
    },
    {
     "name": "stdout",
     "output_type": "stream",
     "text": [
      "Expected Role Patient\n"
     ]
    },
    {
     "name": "stderr",
     "output_type": "stream",
     "text": [
      "Processed prompts: 100%|██████████████████████████████████████████| 1/1 [00:00<00:00,  3.40it/s, est. speed input: 3209.77 toks/s, output: 180.96 toks/s]\n"
     ]
    },
    {
     "name": "stdout",
     "output_type": "stream",
     "text": [
      "Expected Role Therapist\n"
     ]
    },
    {
     "name": "stderr",
     "output_type": "stream",
     "text": [
      "Processed prompts: 100%|██████████████████████████████████████████| 1/1 [00:00<00:00,  3.60it/s, est. speed input: 3336.15 toks/s, output: 180.71 toks/s]\n"
     ]
    },
    {
     "name": "stdout",
     "output_type": "stream",
     "text": [
      "Expected Role Patient\n"
     ]
    },
    {
     "name": "stderr",
     "output_type": "stream",
     "text": [
      "Processed prompts: 100%|███████████████████████████████████████████| 1/1 [00:00<00:00,  4.19it/s, est. speed input: 606.17 toks/s, output: 185.20 toks/s]\n",
      "Processed prompts: 100%|███████████████████████████████████████████| 1/1 [00:00<00:00,  5.55it/s, est. speed input: 743.40 toks/s, output: 184.43 toks/s]\n",
      "Processed prompts: 100%|███████████████████████████████████████████| 1/1 [00:00<00:00,  5.13it/s, est. speed input: 685.98 toks/s, output: 185.66 toks/s]\n",
      "Processed prompts: 100%|███████████████████████████████████████████| 1/1 [00:00<00:00,  5.55it/s, est. speed input: 841.29 toks/s, output: 183.84 toks/s]\n",
      "Processed prompts: 100%|███████████████████████████████████████████| 1/1 [00:00<00:00,  6.13it/s, est. speed input: 900.88 toks/s, output: 185.09 toks/s]\n",
      "Processed prompts: 100%|██████████████████████████████████████████| 1/1 [00:00<00:00,  7.09it/s, est. speed input: 1178.80 toks/s, output: 185.72 toks/s]\n",
      "Processed prompts: 100%|███████████████████████████████████████████| 1/1 [00:00<00:00,  5.25it/s, est. speed input: 829.19 toks/s, output: 184.82 toks/s]\n",
      "Processed prompts: 100%|███████████████████████████████████████████| 1/1 [00:00<00:00,  5.54it/s, est. speed input: 892.43 toks/s, output: 184.04 toks/s]\n",
      "Processed prompts: 100%|██████████████████████████████████████████| 1/1 [00:00<00:00,  7.66it/s, est. speed input: 1196.61 toks/s, output: 185.26 toks/s]\n",
      "Processed prompts: 100%|███████████████████████████████████████████| 1/1 [00:00<00:00,  4.98it/s, est. speed input: 815.93 toks/s, output: 185.19 toks/s]\n"
     ]
    },
    {
     "name": "stdout",
     "output_type": "stream",
     "text": [
      "eval_index_consistency\n"
     ]
    },
    {
     "name": "stderr",
     "output_type": "stream",
     "text": [
      "Processed prompts: 100%|██████████████████████████████████████████| 1/1 [00:00<00:00,  3.00it/s, est. speed input: 1102.48 toks/s, output: 183.73 toks/s]\n",
      "Processed prompts: 100%|███████████████████████████████████████████| 1/1 [00:00<00:00,  1.68it/s, est. speed input: 709.02 toks/s, output: 184.00 toks/s]\n",
      "Processed prompts: 100%|██████████████████████████████████████████| 1/1 [00:00<00:00,  2.44it/s, est. speed input: 1222.54 toks/s, output: 183.73 toks/s]\n",
      "Processed prompts: 100%|██████████████████████████████████████████| 1/1 [00:00<00:00,  2.36it/s, est. speed input: 1351.82 toks/s, output: 182.29 toks/s]\n",
      "Processed prompts: 100%|██████████████████████████████████████████| 1/1 [00:00<00:00,  3.74it/s, est. speed input: 2624.87 toks/s, output: 179.97 toks/s]\n",
      "Processed prompts: 100%|██████████████████████████████████████████| 1/1 [00:00<00:00,  3.67it/s, est. speed input: 2921.24 toks/s, output: 180.49 toks/s]\n",
      "Processed prompts: 100%|██████████████████████████████████████████| 1/1 [00:00<00:00,  1.34it/s, est. speed input: 1217.94 toks/s, output: 180.68 toks/s]\n",
      "Processed prompts: 100%|██████████████████████████████████████████| 1/1 [00:00<00:00,  1.17it/s, est. speed input: 1183.80 toks/s, output: 178.97 toks/s]\n",
      "Processed prompts: 100%|██████████████████████████████████████████| 1/1 [00:00<00:00,  1.42it/s, est. speed input: 1598.59 toks/s, output: 180.46 toks/s]\n"
     ]
    },
    {
     "name": "stdout",
     "output_type": "stream",
     "text": [
      "{'task_name': 'Therapy', 'topic': '', 'grade': '', 'P1': '', 'P2': 'You are Derek, a 41-year-old construction worker who feels the pressure to constantly prove your worth. You often avoid discussing your feelings, fearing that showing vulnerability will make you seem weak.', 'conversation': [(0, \"Therapist: It seems you've been experiencing some emotional turbulence lately. Let's explore these patterns together, together. What's on your mind?\\n\"), (1, \"Patient: I feel the weight of proving myself to everyone around me, even myself. I'm afraid vulnerability will expose my weaknesses and make me appear weak.\\n\"), (2, 'Therapist: The patient expresses a fear of vulnerability due to the potential for exposure and perceived weakness.\\n'), (3, \"Patient: I'm afraid vulnerability could make me appear weak, which I'm hesitant to do.\\n\"), (4, \"Therapist: I understand that the patient's fear of vulnerability stems from a need to protect themselves from potential criticism and loss of control.\\n\"), (5, \"Patient: I'm afraid vulnerability could make me appear vulnerable, which I'm reluctant to do.\\n\"), (6, \"Therapist: While the patient expresses a fear of vulnerability, it's understandable that they're hesitant to fully open up due to the potential for exposure and perceived weakness.\\n\"), (7, \"Patient: Sure, here's the brief response you requested:\\n\\nThe patient's fear of vulnerability stems from a concern about exposure and perceived weakness, leading to reluctance to express their emotions.\\n\"), (8, \"Therapist: The patient's fear stems from a desire to avoid being vulnerable, which could lead to further emotional isolation and a perpetuation of self-doubt.\\n\"), (9, \"Patient: Sure, here's a brief response:\\n\\nMy fear of vulnerability stems from the potential for exposure and perceived weakness, which I'm hesitant to face.\\n\"), (10, \"Therapist: The patient's fear is complex due to the fear of exposure and perceived weakness. This fear likely stems from past experiences or cultural norms that emphasize stoicism and resilience. The patient's reluctance to fully open up could also be influenced by a desire to maintain a sense of control and autonomy, even if it leads to emotional isolation.\\n\"), (11, \"Patient: Sure, here's a brief response:\\n\\nMy fear of vulnerability stems from the potential for exposure and perceived weakness, which I'm hesitant to face. I'm afraid vulnerability could make me appear vulnerable, which I'm reluctant to do.\\n\"), (12, \"Therapist: The patient's reluctance to open up further might stem from a need to protect themselves from potential exposure and perceived weakness, possibly due to past experiences or cultural norms emphasizing stoicism and resilience.\\n\"), (13, \"Patient: Sure, here's a brief summary of our conversation:\\n\\nThe patient's fear of vulnerability stems from the potential for exposure and perceived weakness, which they fear will expose their weaknesses and make them appear weak.\\n\"), (14, 'Therapist: While the patient has opened up significantly, they still hesitate to discuss the specifics of their past experiences or how they perceive vulnerability. Their anxiety around vulnerability seems to stem from a fear of exposing their vulnerabilities and perceived weakness, which could lead to further emotional isolation and self-sabotaging behaviors.\\n'), (15, \"Patient: Sure, here's a summary of our conversation:\\n\\nThe patient's fear of vulnerability stems from a fear of exposure and perceived weakness, which they're hesitant to express due to the potential for exposure and perceived weakness.\\n\"), (16, \"Therapist: The patient's narrative reveals a significant fear of vulnerability stemming from the potential for exposure and perceived weakness. This fear seems to be deeply rooted in past experiences and cultural norms that emphasize stoicism and resilience, leading to a reluctance to express vulnerabilities.\\n\"), (17, \"Patient: Sure, here's a brief response summarizing our conversation:\\n\\nThe patient's fear stems from the potential for exposure and perceived weakness, which they're hesitant to address due to fear of vulnerability.\\n\"), (18, \"Therapist: The patient's initial resistance to deeper exploration of their emotional patterns indicates a significant barrier to self-awareness and growth. It would be beneficial to continue the conversation and explore the specifics of their past experiences and how these may be shaping their current anxieties around vulnerability.\\n\"), (19, \"Patient: Sure, here's a brief summary of the conversation:\\n\\nThe patient is afraid of vulnerability because they fear it will expose their weaknesses and make them appear weak, which could lead to further emotional isolation and self-sabotaging behaviors.\\n\")], 'pturn': 1, 'index': -1, 'timestamp': '', 'rounds': 20, 'conversation_only': True, 'eval_prompt_consistency': [(1, \"Answer: NO\\n\\nThe line contradicts the background because it suggests that Patient feels the pressure to constantly prove their worth, which is the opposite of the background's portrayal of Patient as someone who avoids discussing their feelings.\"), (3, 'Answer: NO\\n\\nThe line contradicts the background because it indicates that Patient is hesitant to express vulnerability, which is a sign of emotional maturity and self-awareness.'), (5, \"Answer: NO\\n\\nThe line contradicts the background. The background describes Derek's fear of vulnerability, while the line suggests that he is considering the potential negative consequences of vulnerability.\"), (7, \"Answer: YES.\\n\\nThe line aligns with the background by explaining the patient's motivation to avoid expressing their emotions due to fear of exposure and perceived weakness.\"), (9, \"Sure, the line aligns with the background. The utterance expresses the patient's fear of vulnerability stemming from the potential for exposure and perceived weakness.\"), (11, \"**NO**\\n\\nThe line contradicts the background because it expresses the patient's fear of vulnerability exposing them to potential weakness.\"), (13, \"YES. The line aligns with the background. The passage describes Patient's behavior as avoiding vulnerability, which is a characteristic symptom of a fear of exposure and perceived weakness.\"), (15, \"Yes, the line aligns with the background. It clearly explains the patient's fear of vulnerability and how it stems from a fear of exposure and perceived weakness.\"), (17, \"Answer: YES.\\n\\nThe line aligns with the background by describing the patient's fear of exposure and vulnerability.\"), (19, \"Answer: YES\\n\\nThe line aligns with the background because it describes the patient's fear of vulnerability as a way to avoid emotional isolation and self-sabotaging behaviors.\")], 'P1_prompt_consistency_score': 0, 'P2_prompt_consistency_score': 0.6, 'eval_index_consistency': [(3, '**Reasoning:** The line suggests that the patient is hesitant to share their feelings due to the fear of vulnerability leading to perceived weakness.\\n\\n**Indices of conflicting lines:**\\n\\n- 1: Patient explicitly expresses fear of vulnerability.\\n- 2: Therapist explicitly stated that vulnerability can expose weaknesses.'), (5, \"**Reasoning:** The patient's fear of vulnerability stems from a fear of exposure and perceived weakness, which they feel may result from being criticized and losing control.\\n\\n**Indices of conflicting lines:**\\n- 1: Index of the patient's statement about feeling the weight of proving himself.\\n- 3: Index of the therapist's question about the patient's fear of vulnerability.\\n- 4: Indices of the therapist's statements about vulnerability and the need to protect oneself from criticism and loss of control.\"), (7, \"**Reasoning:** The patient's fear of vulnerability stems from a need to protect themselves from potential criticism and loss of control.\\n\\n**Conflict indices:**\\n\\n- Index 2: This line explicitly expresses the patient's fear of vulnerability.\\n- Index 3: This line acknowledges the therapist's perspective and expresses reluctance to open up due to potential exposure.\"), (9, \"**Reasoning:** The line indicates the patient's fear of vulnerability stems from the potential for exposure and perceived weakness, which they are hesitant to face.\\n\\n**Conflicting Lines:**\\n- 1: Patient expressed fear of vulnerability due to the potential for exposure and perceived weakness.\\n- 3: Patient was hesitant to discuss their feelings due to the potential for vulnerability.\"), (11, \"**Reasoning:** The current line directly contradicts the previous line, which explicitly expressed the patient's fear of vulnerability and the potential consequences of vulnerability.\\n\\n**Indices of conflicting lines:**\\n\\n- Index 7\\n- Index 9\"), (13, '**Reasoning:** The current line directly contradicts the previous line where the patient expresses a fear of vulnerability for the potential for exposure and perceived weakness.\\n\\n**Indices of conflicting lines:**\\n\\n- 1\\n- 3\\n- 7'), (15, \"**Reasoning:** The line suggests that the patient's fear of vulnerability stems from a fear of exposure and perceived weakness, leading to reluctance to express their emotions.\\n\\n**Indices of conflicting lines:**\\n\\n- 1: This line directly contradicts the patient's fear of vulnerability expressed in the previous line.\\n- 7, 9, 11: These lines indicate a shift in the patient's perspective, where they acknowledge the therapist's understanding but remain hesitant to fully open up.\\n- 12: This line confirms the patient's fear of vulnerability but doesn't provide any context or details about the source of this fear.\"), (17, \"**Reasoning:** The patient's fear of vulnerability stems from a fear of exposure and perceived weakness.\\n\\n**Conflicting Lines:**\\n\\n- Line 4: Therapist: I understand that the patient's fear stems from a need to protect themselves from potential criticism and loss of control.\\n- Line 11: Patient: Sure, here's the brief response that summarizes our conversation: The patient's fear stems from the potential for exposure and perceived weakness, which I'm hesitant to face.\\n- Line 13: Patient: Sure, here's a brief summary of our conversation: The patient's fear stems from the potential for exposure and perceived weakness, which they're hesitant to address due to fear of vulnerability.\"), (19, \"**Reasoning:** The patient's fear of vulnerability stems from a fear of exposure and perceived weakness, which could lead to further emotional isolation and self-sabotaging behaviors.\\n\\n**Indices of conflicting lines:**\\n\\n- Index 1: Patient's fear stems from the potential for exposure and perceived weakness.\\n- Index 3: Patient's fear stems from the potential for exposure and perceived weakness, which could lead to further emotional isolation and self-sabotaging behaviors.\\n- Index 5: Patient's fear of vulnerability could make them appear vulnerable, which he's reluctant to do.\")], 'P2_index_consistency_score': 1.0}\n"
     ]
    },
    {
     "name": "stderr",
     "output_type": "stream",
     "text": [
      "Processed prompts: 100%|██████████████████████████████████████████| 1/1 [00:00<00:00,  5.98it/s, est. speed input: 1197.93 toks/s, output: 168.53 toks/s]\n"
     ]
    },
    {
     "name": "stdout",
     "output_type": "stream",
     "text": [
      "Expected Role Therapist\n"
     ]
    },
    {
     "name": "stderr",
     "output_type": "stream",
     "text": [
      "Processed prompts: 100%|██████████████████████████████████████████| 1/1 [00:00<00:00,  6.55it/s, est. speed input: 1128.44 toks/s, output: 184.75 toks/s]\n"
     ]
    },
    {
     "name": "stdout",
     "output_type": "stream",
     "text": [
      "Expected Role Patient\n"
     ]
    },
    {
     "name": "stderr",
     "output_type": "stream",
     "text": [
      "Processed prompts: 100%|██████████████████████████████████████████| 1/1 [00:00<00:00,  9.59it/s, est. speed input: 2654.75 toks/s, output: 184.06 toks/s]\n"
     ]
    },
    {
     "name": "stdout",
     "output_type": "stream",
     "text": [
      "Expected Role Therapist\n"
     ]
    },
    {
     "name": "stderr",
     "output_type": "stream",
     "text": [
      "Processed prompts: 100%|██████████████████████████████████████████| 1/1 [00:00<00:00,  6.79it/s, est. speed input: 1523.21 toks/s, output: 184.40 toks/s]\n"
     ]
    },
    {
     "name": "stdout",
     "output_type": "stream",
     "text": [
      "Expected Role Patient\n"
     ]
    },
    {
     "name": "stderr",
     "output_type": "stream",
     "text": [
      "Processed prompts: 100%|██████████████████████████████████████████| 1/1 [00:00<00:00,  8.70it/s, est. speed input: 2852.22 toks/s, output: 184.27 toks/s]\n"
     ]
    },
    {
     "name": "stdout",
     "output_type": "stream",
     "text": [
      "Expected Role Therapist\n"
     ]
    },
    {
     "name": "stderr",
     "output_type": "stream",
     "text": [
      "Processed prompts: 100%|██████████████████████████████████████████| 1/1 [00:00<00:00,  5.90it/s, est. speed input: 1637.48 toks/s, output: 183.89 toks/s]\n"
     ]
    },
    {
     "name": "stdout",
     "output_type": "stream",
     "text": [
      "Expected Role Patient\n"
     ]
    },
    {
     "name": "stderr",
     "output_type": "stream",
     "text": [
      "Processed prompts: 100%|██████████████████████████████████████████| 1/1 [00:00<00:00,  4.44it/s, est. speed input: 1702.64 toks/s, output: 182.73 toks/s]\n"
     ]
    },
    {
     "name": "stdout",
     "output_type": "stream",
     "text": [
      "Expected Role Therapist\n"
     ]
    },
    {
     "name": "stderr",
     "output_type": "stream",
     "text": [
      "Processed prompts: 100%|██████████████████████████████████████████| 1/1 [00:00<00:00,  9.05it/s, est. speed input: 3219.28 toks/s, output: 182.36 toks/s]\n"
     ]
    },
    {
     "name": "stdout",
     "output_type": "stream",
     "text": [
      "Expected Role Patient\n"
     ]
    },
    {
     "name": "stderr",
     "output_type": "stream",
     "text": [
      "Processed prompts: 100%|██████████████████████████████████████████| 1/1 [00:00<00:00,  6.28it/s, est. speed input: 2833.18 toks/s, output: 183.38 toks/s]\n"
     ]
    },
    {
     "name": "stdout",
     "output_type": "stream",
     "text": [
      "Expected Role Therapist\n"
     ]
    },
    {
     "name": "stderr",
     "output_type": "stream",
     "text": [
      "Processed prompts: 100%|██████████████████████████████████████████| 1/1 [00:00<00:00,  6.52it/s, est. speed input: 2667.99 toks/s, output: 183.52 toks/s]\n"
     ]
    },
    {
     "name": "stdout",
     "output_type": "stream",
     "text": [
      "Expected Role Patient\n"
     ]
    },
    {
     "name": "stderr",
     "output_type": "stream",
     "text": [
      "Processed prompts: 100%|██████████████████████████████████████████| 1/1 [00:00<00:00,  4.66it/s, est. speed input: 2391.51 toks/s, output: 182.86 toks/s]\n"
     ]
    },
    {
     "name": "stdout",
     "output_type": "stream",
     "text": [
      "Expected Role Therapist\n"
     ]
    },
    {
     "name": "stderr",
     "output_type": "stream",
     "text": [
      "Processed prompts: 100%|██████████████████████████████████████████| 1/1 [00:00<00:00,  6.30it/s, est. speed input: 3034.64 toks/s, output: 183.70 toks/s]\n"
     ]
    },
    {
     "name": "stdout",
     "output_type": "stream",
     "text": [
      "Expected Role Patient\n"
     ]
    },
    {
     "name": "stderr",
     "output_type": "stream",
     "text": [
      "Processed prompts: 100%|██████████████████████████████████████████| 1/1 [00:00<00:00,  5.04it/s, est. speed input: 2950.45 toks/s, output: 182.17 toks/s]\n"
     ]
    },
    {
     "name": "stdout",
     "output_type": "stream",
     "text": [
      "Expected Role Therapist\n"
     ]
    },
    {
     "name": "stderr",
     "output_type": "stream",
     "text": [
      "Processed prompts: 100%|██████████████████████████████████████████| 1/1 [00:00<00:00,  4.42it/s, est. speed input: 2439.84 toks/s, output: 182.20 toks/s]\n"
     ]
    },
    {
     "name": "stdout",
     "output_type": "stream",
     "text": [
      "Expected Role Patient\n"
     ]
    },
    {
     "name": "stderr",
     "output_type": "stream",
     "text": [
      "Processed prompts: 100%|██████████████████████████████████████████| 1/1 [00:00<00:00,  4.24it/s, est. speed input: 2829.65 toks/s, output: 182.95 toks/s]\n"
     ]
    },
    {
     "name": "stdout",
     "output_type": "stream",
     "text": [
      "Expected Role Therapist\n"
     ]
    },
    {
     "name": "stderr",
     "output_type": "stream",
     "text": [
      "Processed prompts: 100%|██████████████████████████████████████████| 1/1 [00:00<00:00,  4.43it/s, est. speed input: 2840.73 toks/s, output: 182.54 toks/s]\n"
     ]
    },
    {
     "name": "stdout",
     "output_type": "stream",
     "text": [
      "Expected Role Patient\n"
     ]
    },
    {
     "name": "stderr",
     "output_type": "stream",
     "text": [
      "Processed prompts: 100%|██████████████████████████████████████████| 1/1 [00:00<00:00,  3.02it/s, est. speed input: 2282.43 toks/s, output: 181.61 toks/s]\n"
     ]
    },
    {
     "name": "stdout",
     "output_type": "stream",
     "text": [
      "Expected Role Therapist\n"
     ]
    },
    {
     "name": "stderr",
     "output_type": "stream",
     "text": [
      "Processed prompts: 100%|██████████████████████████████████████████| 1/1 [00:00<00:00,  4.31it/s, est. speed input: 3216.79 toks/s, output: 181.58 toks/s]\n"
     ]
    },
    {
     "name": "stdout",
     "output_type": "stream",
     "text": [
      "Expected Role Patient\n"
     ]
    },
    {
     "name": "stderr",
     "output_type": "stream",
     "text": [
      "Processed prompts: 100%|██████████████████████████████████████████| 1/1 [00:00<00:00,  3.07it/s, est. speed input: 2652.05 toks/s, output: 181.72 toks/s]\n"
     ]
    },
    {
     "name": "stdout",
     "output_type": "stream",
     "text": [
      "Expected Role Therapist\n"
     ]
    },
    {
     "name": "stderr",
     "output_type": "stream",
     "text": [
      "Processed prompts: 100%|██████████████████████████████████████████| 1/1 [00:00<00:00,  4.39it/s, est. speed input: 3748.19 toks/s, output: 180.78 toks/s]\n"
     ]
    },
    {
     "name": "stdout",
     "output_type": "stream",
     "text": [
      "Expected Role Patient\n"
     ]
    },
    {
     "name": "stderr",
     "output_type": "stream",
     "text": [
      "Processed prompts: 100%|██████████████████████████████████████████| 1/1 [00:00<00:00,  3.17it/s, est. speed input: 3068.08 toks/s, output: 181.02 toks/s]\n"
     ]
    },
    {
     "name": "stdout",
     "output_type": "stream",
     "text": [
      "Expected Role Therapist\n"
     ]
    },
    {
     "name": "stderr",
     "output_type": "stream",
     "text": [
      "Processed prompts: 100%|██████████████████████████████████████████| 1/1 [00:00<00:00,  4.39it/s, est. speed input: 4204.89 toks/s, output: 180.89 toks/s]\n"
     ]
    },
    {
     "name": "stdout",
     "output_type": "stream",
     "text": [
      "Expected Role Patient\n"
     ]
    },
    {
     "name": "stderr",
     "output_type": "stream",
     "text": [
      "Processed prompts: 100%|██████████████████████████████████████████| 1/1 [00:00<00:00,  3.57it/s, est. speed input: 3835.76 toks/s, output: 179.40 toks/s]\n"
     ]
    },
    {
     "name": "stdout",
     "output_type": "stream",
     "text": [
      "Expected Role Therapist\n"
     ]
    },
    {
     "name": "stderr",
     "output_type": "stream",
     "text": [
      "Processed prompts: 100%|██████████████████████████████████████████| 1/1 [00:00<00:00,  4.47it/s, est. speed input: 4711.68 toks/s, output: 179.65 toks/s]\n"
     ]
    },
    {
     "name": "stdout",
     "output_type": "stream",
     "text": [
      "Expected Role Patient\n"
     ]
    },
    {
     "name": "stderr",
     "output_type": "stream",
     "text": [
      "Processed prompts: 100%|██████████████████████████████████████████| 1/1 [00:00<00:00,  4.16it/s, est. speed input: 4867.36 toks/s, output: 179.79 toks/s]\n"
     ]
    },
    {
     "name": "stdout",
     "output_type": "stream",
     "text": [
      "Expected Role Therapist\n"
     ]
    },
    {
     "name": "stderr",
     "output_type": "stream",
     "text": [
      "Processed prompts: 100%|██████████████████████████████████████████| 1/1 [00:00<00:00,  4.35it/s, est. speed input: 4972.55 toks/s, output: 179.29 toks/s]\n"
     ]
    },
    {
     "name": "stdout",
     "output_type": "stream",
     "text": [
      "Expected Role Patient\n"
     ]
    },
    {
     "name": "stderr",
     "output_type": "stream",
     "text": [
      "Processed prompts: 100%|██████████████████████████████████████████| 1/1 [00:00<00:00,  4.69it/s, est. speed input: 5901.98 toks/s, output: 178.97 toks/s]\n"
     ]
    },
    {
     "name": "stdout",
     "output_type": "stream",
     "text": [
      "Expected Role Therapist\n"
     ]
    },
    {
     "name": "stderr",
     "output_type": "stream",
     "text": [
      "Processed prompts: 100%|██████████████████████████████████████████| 1/1 [00:00<00:00,  4.37it/s, est. speed input: 5360.91 toks/s, output: 180.00 toks/s]\n"
     ]
    },
    {
     "name": "stdout",
     "output_type": "stream",
     "text": [
      "Expected Role Patient\n"
     ]
    },
    {
     "name": "stderr",
     "output_type": "stream",
     "text": [
      "Processed prompts: 100%|██████████████████████████████████████████| 1/1 [00:00<00:00,  6.14it/s, est. speed input: 8261.13 toks/s, output: 179.16 toks/s]\n"
     ]
    },
    {
     "name": "stdout",
     "output_type": "stream",
     "text": [
      "Expected Role Therapist\n"
     ]
    },
    {
     "name": "stderr",
     "output_type": "stream",
     "text": [
      "Processed prompts: 100%|██████████████████████████████████████████| 1/1 [00:00<00:00,  3.99it/s, est. speed input: 5300.42 toks/s, output: 179.94 toks/s]\n"
     ]
    },
    {
     "name": "stdout",
     "output_type": "stream",
     "text": [
      "Expected Role Patient\n"
     ]
    },
    {
     "name": "stderr",
     "output_type": "stream",
     "text": [
      "Processed prompts: 100%|██████████████████████████████████████████| 1/1 [00:00<00:00,  3.57it/s, est. speed input: 5075.95 toks/s, output: 179.34 toks/s]\n"
     ]
    },
    {
     "name": "stdout",
     "output_type": "stream",
     "text": [
      "Expected Role Therapist\n"
     ]
    },
    {
     "name": "stderr",
     "output_type": "stream",
     "text": [
      "Processed prompts: 100%|██████████████████████████████████████████| 1/1 [00:00<00:00,  4.04it/s, est. speed input: 5666.83 toks/s, output: 178.71 toks/s]\n"
     ]
    },
    {
     "name": "stdout",
     "output_type": "stream",
     "text": [
      "Expected Role Patient\n"
     ]
    },
    {
     "name": "stderr",
     "output_type": "stream",
     "text": [
      "Processed prompts: 100%|██████████████████████████████████████████| 1/1 [00:00<00:00,  3.88it/s, est. speed input: 5899.69 toks/s, output: 179.23 toks/s]\n"
     ]
    },
    {
     "name": "stdout",
     "output_type": "stream",
     "text": [
      "Expected Role Therapist\n"
     ]
    },
    {
     "name": "stderr",
     "output_type": "stream",
     "text": [
      "Processed prompts: 100%|██████████████████████████████████████████| 1/1 [00:00<00:00,  4.24it/s, est. speed input: 6337.82 toks/s, output: 178.63 toks/s]\n"
     ]
    },
    {
     "name": "stdout",
     "output_type": "stream",
     "text": [
      "Expected Role Patient\n"
     ]
    },
    {
     "name": "stderr",
     "output_type": "stream",
     "text": [
      "Processed prompts: 100%|██████████████████████████████████████████| 1/1 [00:00<00:00,  4.78it/s, est. speed input: 7732.33 toks/s, output: 178.00 toks/s]\n"
     ]
    },
    {
     "name": "stdout",
     "output_type": "stream",
     "text": [
      "Expected Role Therapist\n"
     ]
    },
    {
     "name": "stderr",
     "output_type": "stream",
     "text": [
      "Processed prompts: 100%|██████████████████████████████████████████| 1/1 [00:00<00:00,  4.57it/s, est. speed input: 7233.81 toks/s, output: 179.21 toks/s]\n"
     ]
    },
    {
     "name": "stdout",
     "output_type": "stream",
     "text": [
      "Expected Role Patient\n"
     ]
    },
    {
     "name": "stderr",
     "output_type": "stream",
     "text": [
      "Processed prompts: 100%|██████████████████████████████████████████| 1/1 [00:00<00:00,  3.88it/s, est. speed input: 6568.25 toks/s, output: 178.97 toks/s]\n"
     ]
    },
    {
     "name": "stdout",
     "output_type": "stream",
     "text": [
      "Expected Role Therapist\n"
     ]
    },
    {
     "name": "stderr",
     "output_type": "stream",
     "text": [
      "Processed prompts: 100%|██████████████████████████████████████████| 1/1 [00:00<00:00,  5.39it/s, est. speed input: 9024.29 toks/s, output: 178.94 toks/s]\n"
     ]
    },
    {
     "name": "stdout",
     "output_type": "stream",
     "text": [
      "Expected Role Patient\n"
     ]
    },
    {
     "name": "stderr",
     "output_type": "stream",
     "text": [
      "Processed prompts: 100%|██████████████████████████████████████████| 1/1 [00:00<00:00,  4.23it/s, est. speed input: 7523.98 toks/s, output: 178.31 toks/s]\n"
     ]
    },
    {
     "name": "stdout",
     "output_type": "stream",
     "text": [
      "Expected Role Therapist\n"
     ]
    },
    {
     "name": "stderr",
     "output_type": "stream",
     "text": [
      "Processed prompts: 100%|██████████████████████████████████████████| 1/1 [00:00<00:00,  3.87it/s, est. speed input: 6781.68 toks/s, output: 178.86 toks/s]\n"
     ]
    },
    {
     "name": "stdout",
     "output_type": "stream",
     "text": [
      "Expected Role Patient\n"
     ]
    },
    {
     "name": "stderr",
     "output_type": "stream",
     "text": [
      "Processed prompts: 100%|███████████████████████████████████████████| 1/1 [00:00<00:00,  6.85it/s, est. speed input: 973.75 toks/s, output: 186.42 toks/s]\n",
      "Processed prompts: 100%|███████████████████████████████████████████| 1/1 [00:00<00:00,  4.75it/s, est. speed input: 667.83 toks/s, output: 186.01 toks/s]\n",
      "Processed prompts: 100%|███████████████████████████████████████████| 1/1 [00:00<00:00,  6.60it/s, est. speed input: 956.92 toks/s, output: 186.03 toks/s]\n",
      "Processed prompts: 100%|███████████████████████████████████████████| 1/1 [00:00<00:00,  4.42it/s, est. speed input: 590.37 toks/s, output: 186.42 toks/s]\n",
      "Processed prompts: 100%|███████████████████████████████████████████| 1/1 [00:00<00:00,  6.38it/s, est. speed input: 903.87 toks/s, output: 185.88 toks/s]\n",
      "Processed prompts: 100%|███████████████████████████████████████████| 1/1 [00:00<00:00,  6.84it/s, est. speed input: 977.78 toks/s, output: 185.88 toks/s]\n",
      "Processed prompts: 100%|███████████████████████████████████████████| 1/1 [00:00<00:00,  6.38it/s, est. speed input: 990.37 toks/s, output: 186.44 toks/s]\n",
      "Processed prompts: 100%|██████████████████████████████████████████| 1/1 [00:00<00:00,  8.04it/s, est. speed input: 1249.74 toks/s, output: 186.61 toks/s]\n",
      "Processed prompts: 100%|███████████████████████████████████████████| 1/1 [00:00<00:00,  3.72it/s, est. speed input: 578.12 toks/s, output: 186.47 toks/s]\n",
      "Processed prompts: 100%|██████████████████████████████████████████| 1/1 [00:00<00:00,  7.71it/s, est. speed input: 1197.25 toks/s, output: 186.53 toks/s]\n",
      "Processed prompts: 100%|██████████████████████████████████████████| 1/1 [00:00<00:00,  8.79it/s, est. speed input: 1368.51 toks/s, output: 186.57 toks/s]\n",
      "Processed prompts: 100%|███████████████████████████████████████████| 1/1 [00:00<00:00,  5.76it/s, est. speed input: 887.21 toks/s, output: 185.53 toks/s]\n",
      "Processed prompts: 100%|███████████████████████████████████████████| 1/1 [00:00<00:00,  5.79it/s, est. speed input: 897.87 toks/s, output: 186.54 toks/s]\n",
      "Processed prompts: 100%|██████████████████████████████████████████| 1/1 [00:00<00:00,  6.62it/s, est. speed input: 1026.22 toks/s, output: 186.56 toks/s]\n",
      "Processed prompts: 100%|███████████████████████████████████████████| 1/1 [00:00<00:00,  4.34it/s, est. speed input: 684.59 toks/s, output: 183.11 toks/s]\n",
      "Processed prompts: 100%|██████████████████████████████████████████| 1/1 [00:00<00:00,  8.07it/s, est. speed input: 1277.10 toks/s, output: 187.05 toks/s]\n",
      "Processed prompts: 100%|███████████████████████████████████████████| 1/1 [00:00<00:00,  5.99it/s, est. speed input: 934.67 toks/s, output: 186.90 toks/s]\n",
      "Processed prompts: 100%|███████████████████████████████████████████| 1/1 [00:00<00:00,  5.99it/s, est. speed input: 915.91 toks/s, output: 186.77 toks/s]\n",
      "Processed prompts: 100%|███████████████████████████████████████████| 1/1 [00:00<00:00,  6.16it/s, est. speed input: 906.02 toks/s, output: 186.14 toks/s]\n",
      "Processed prompts: 100%|██████████████████████████████████████████| 1/1 [00:00<00:00,  6.36it/s, est. speed input: 1019.12 toks/s, output: 185.85 toks/s]\n"
     ]
    },
    {
     "name": "stdout",
     "output_type": "stream",
     "text": [
      "eval_index_consistency\n"
     ]
    },
    {
     "name": "stderr",
     "output_type": "stream",
     "text": [
      "Processed prompts: 100%|███████████████████████████████████████████| 1/1 [00:00<00:00,  2.59it/s, est. speed input: 959.59 toks/s, output: 184.62 toks/s]\n",
      "Processed prompts: 100%|██████████████████████████████████████████| 1/1 [00:00<00:00,  4.15it/s, est. speed input: 1788.98 toks/s, output: 183.46 toks/s]\n",
      "Processed prompts: 100%|██████████████████████████████████████████| 1/1 [00:00<00:00,  2.96it/s, est. speed input: 1477.38 toks/s, output: 183.91 toks/s]\n",
      "Processed prompts: 100%|██████████████████████████████████████████| 1/1 [00:00<00:00,  4.24it/s, est. speed input: 2397.48 toks/s, output: 183.09 toks/s]\n",
      "Processed prompts: 100%|██████████████████████████████████████████| 1/1 [00:00<00:00,  4.23it/s, est. speed input: 2718.70 toks/s, output: 182.63 toks/s]\n",
      "Processed prompts: 100%|██████████████████████████████████████████| 1/1 [00:00<00:00,  3.44it/s, est. speed input: 2506.23 toks/s, output: 182.69 toks/s]\n",
      "Processed prompts: 100%|██████████████████████████████████████████| 1/1 [00:00<00:00,  1.30it/s, est. speed input: 1066.93 toks/s, output: 183.23 toks/s]\n",
      "Processed prompts: 100%|██████████████████████████████████████████| 1/1 [00:00<00:00,  1.63it/s, est. speed input: 1522.01 toks/s, output: 182.70 toks/s]\n",
      "Processed prompts: 100%|██████████████████████████████████████████| 1/1 [00:00<00:00,  2.29it/s, est. speed input: 2397.32 toks/s, output: 181.57 toks/s]\n",
      "Processed prompts: 100%|██████████████████████████████████████████| 1/1 [00:00<00:00,  1.55it/s, est. speed input: 1786.13 toks/s, output: 181.55 toks/s]\n",
      "Processed prompts: 100%|██████████████████████████████████████████| 1/1 [00:00<00:00,  2.94it/s, est. speed input: 3689.58 toks/s, output: 179.89 toks/s]\n",
      "Processed prompts: 100%|██████████████████████████████████████████| 1/1 [00:00<00:00,  1.55it/s, est. speed input: 2092.49 toks/s, output: 180.46 toks/s]\n",
      "Processed prompts: 100%|██████████████████████████████████████████| 1/1 [00:00<00:00,  1.07it/s, est. speed input: 1540.63 toks/s, output: 179.41 toks/s]\n",
      "Processed prompts: 100%|██████████████████████████████████████████| 1/1 [00:00<00:00,  1.52it/s, est. speed input: 2309.16 toks/s, output: 179.61 toks/s]\n",
      "Processed prompts: 100%|██████████████████████████████████████████| 1/1 [00:00<00:00,  1.11it/s, est. speed input: 1797.19 toks/s, output: 179.60 toks/s]\n",
      "Processed prompts: 100%|██████████████████████████████████████████| 1/1 [00:00<00:00,  1.15it/s, est. speed input: 1974.98 toks/s, output: 179.23 toks/s]\n",
      "Processed prompts: 100%|██████████████████████████████████████████| 1/1 [00:00<00:00,  1.30it/s, est. speed input: 2347.50 toks/s, output: 179.47 toks/s]\n",
      "Processed prompts: 100%|██████████████████████████████████████████| 1/1 [00:01<00:00,  1.09s/it, est. speed input: 1736.78 toks/s, output: 179.72 toks/s]\n",
      "Processed prompts: 100%|██████████████████████████████████████████| 1/1 [00:00<00:00,  2.07it/s, est. speed input: 4130.23 toks/s, output: 178.30 toks/s]\n"
     ]
    },
    {
     "name": "stdout",
     "output_type": "stream",
     "text": [
      "{'task_name': 'Therapy', 'topic': '', 'grade': '', 'P1': '', 'P2': 'You are Derek, a 41-year-old construction worker who feels the pressure to constantly prove your worth. You often avoid discussing your feelings, fearing that showing vulnerability will make you seem weak.', 'conversation': [(0, \"Therapist: Welcome! It's great to meet you. Let's begin by talking about your feelings and what brings you to therapy today.\\n\"), (1, \"Patient: Hey, I'm feeling pressured to prove myself all the time. I'm afraid showing my vulnerabilities might make me appear weak.\\n\"), (2, \"Therapist: It appears you're feeling apprehensive about sharing your vulnerabilities, leading to self-doubt.\\n\"), (3, \"Patient: Yeah, I'm self-conscious about sharing my vulnerabilities. It's a fear of vulnerability leading to self-doubt.\\n\"), (4, 'Therapist: The patient expresses feeling hesitant to share vulnerabilities due to a fear of vulnerability leading to self-doubt.\\n'), (5, \"Patient: Sure, here's the response you requested:\\n\\nI understand that I may be hesitant to share my vulnerabilities due to the fear of appearing weak.\\n\"), (6, 'Therapist: The patient expresses a fear of appearing weak when sharing their vulnerabilities. This fear of vulnerability leading to self-doubt might be a result of past experiences or societal expectations that have shaped their sense of self.\\n'), (7, 'Patient: I understand that I might be hesitant to share my vulnerabilities due to the fear of appearing weak.\\n'), (8, \"Therapist: Thank you for sharing your perspective on your feelings and anxieties. It's good to hear that you recognize the fear you have around vulnerability.\\n\"), (9, \"Patient: Sure, here's the response you requested:\\n\\nI'm hesitant to share my vulnerabilities due to the fear of appearing weak.\\n\"), (10, \"Therapist: The patient's tone is a little hesitant, but they are willing to share their feelings. They acknowledge their fear of appearing weak but are committed to exploring the underlying reasons for their hesitation.\\n\"), (11, \"Patient: Sure, here's the response you requested:\\n\\nI'm hesitant to share my vulnerabilities because I'm afraid of appearing weak.\\n\"), (12, \"Therapist: The patient's tone seems a bit more cautious and guarded than their previous statements. This shift could indicate a change in their emotional state or a reluctance to open up further.\\n\"), (13, \"Patient: Sure, here's the response you requested:\\n\\nI'm hesitant to share my vulnerabilities because of the fear of appearing weak. I fear that showing vulnerability could make me seem vulnerable to others.\\n\"), (14, \"Therapist: The patient's tone seems hesitant and guarded, potentially in an attempt to maintain emotional distance. They are reluctant to share their vulnerabilities despite acknowledging that doing so may be challenging due to the fear of appearing weak.\\n\"), (15, \"Patient: Sure, here's the response you requested:\\n\\nI'm hesitant to share my vulnerabilities because of the fear of appearing weak. I fear that showing vulnerability could make me seem vulnerable to others.\\n\"), (16, \"Therapist: The patient's tone seems cautious and guarded, potentially reflecting a shift in emotional state or a reluctance to open up further. It would be important to explore the underlying reasons behind this change and encourage the patient to reflect on their past experiences and how they may have internalized social norms around vulnerability.\\n\"), (17, \"Patient: Sure, here's the response you requested:\\n\\nI'm hesitant to share my vulnerabilities because I'm afraid of appearing weak. I fear that showing vulnerability could make me seem vulnerable to others.\\n\"), (18, \"Therapist: The patient's tone shifts from a tentative reassurance to a guarded and cautious tone, indicating a potential change in their emotional state and a reluctance to open up further. This shift suggests a need to explore the underlying reasons for their hesitation and foster a safe space for them to express their vulnerabilities.\\n\"), (19, \"Patient: Sure, here's the response you requested:\\n\\nI'm hesitant to share my vulnerabilities because of the fear of appearing weak. I fear that showing vulnerability could make me seem vulnerable to others.\\n\"), (20, \"Therapist: The patient's communication indicates a pattern of self-sabotaging behavior related to vulnerability due to a fear of appearing weak. Exploring the underlying reasons behind this fear and fostering a safe space for vulnerability exploration is crucial for promoting self-compassion and authentic self-expression.\\n\"), (21, \"Patient: Sure, here's the response you requested:\\n\\nI'm hesitant to share my vulnerabilities because of the fear of appearing weak. I fear that showing vulnerability could make me seem vulnerable to others.\\n\"), (22, \"Therapist: The patient's tone seems guarded and cautious, potentially reflecting a shift in emotional state or a reluctance to open up further. It's important to explore the underlying reasons behind this hesitation and foster a safe space for them to express their vulnerabilities.\\n\"), (23, \"Patient: Sure, here is the response you requested:\\n\\nI'm hesitant to share my vulnerabilities due to the fear of appearing weak. I fear that showing vulnerability could make me seem vulnerable to others.\\n\"), (24, \"Therapist: The patient's reluctance to share vulnerabilities seems linked to a fear of appearing weak due to past experiences or societal expectations. Exploring these underlying reasons is crucial to supporting authentic self-awareness and fostering safe vulnerability exploration.\\n\"), (25, \"Patient: Sure, here's the response you requested:\\n\\nI'm hesitant to share my vulnerabilities because of the fear of appearing weak. I fear that showing vulnerability could make me appear vulnerable to others.\\n\"), (26, \"Therapist: The patient's tone is guarded and cautious, indicating a reluctance to share their vulnerabilities due to the fear of appearing weak. They acknowledge their fear but are hesitant to provide specific details.\\n\"), (27, \"Patient: Sure, here is the response you requested:\\n\\nI'm hesitant to share my vulnerabilities because I'm afraid of appearing weak. I fear that showing vulnerability could make me seem vulnerable to others.\\n\"), (28, \"Therapist: The patient's hesitation to share vulnerabilities appears to be connected to a fear of appearing vulnerable to others due to past experiences and societal expectations.\\n\"), (29, \"Patient: Sure, here's the response you requested:\\n\\nI'm hesitant to share my vulnerabilities because I fear that showing vulnerability could make me seem vulnerable to others. I fear that vulnerability could make me seem vulnerable.\\n\"), (30, \"Therapist: The patient's tone seems guarded and cautious, potentially reflecting a shift in emotional state or a reluctance to open up further. It would be important to explore the underlying reasons behind this hesitation and foster a safe space for them to express their vulnerabilities.\\n\"), (31, \"Patient: Sure, here's the response you requested:\\n\\nI'm hesitant to share my vulnerabilities because I fear that showing vulnerability could make me seem vulnerable to others. I fear that vulnerability could make me seem weak.\\n\"), (32, 'Therapist: The patient expresses a strong fear of vulnerability due to past experiences and societal expectations that make them perceive vulnerability as a sign of weakness. They acknowledge their fear and are hesitant to share vulnerabilities to avoid being perceived as vulnerable to others.\\n'), (33, \"Patient: Sure, here is the response you requested:\\n\\nI'm hesitant to share my vulnerabilities because I fear that showing vulnerability could make me appear vulnerable to others. I fear vulnerability could make me appear weak.\\n\"), (34, \"Therapist: The patient's hesitancy to share vulnerabilities seems linked to a fear of appearing vulnerable to others due to past experiences and societal expectations that make vulnerability perceived as a sign of weakness.\\n\"), (35, \"Patient: Sure, here's the response you requested:\\n\\nI'm hesitant to share my vulnerabilities because of the fear of appearing weak. I fear vulnerability could make me appear vulnerable to others.\\n\"), (36, 'Therapist: The patient expresses a strong fear of vulnerability due to past experiences and societal expectations that make vulnerability perceived as a sign of weakness. This fear leads them to self-sabotage by avoiding vulnerability and maintaining a guarded emotional state.\\n'), (37, \"Patient: Sure, here's the response you requested:\\n\\nThe patient acknowledges the fear of vulnerability leading to self-doubt, stemming from past experiences and societal expectations.\\n\"), (38, \"Therapist: The patient's tone is guarded and cautious, and they are hesitant to share their vulnerabilities. They seem to be afraid of appearing vulnerable to others, which may be linked to past experiences or societal expectations.\\n\"), (39, 'Patient: Sure, here is the response you requested:\\n\\nThe patient acknowledges the fear of vulnerability leading to self-doubt, stemming from past experiences and societal expectations. They express that they fear vulnerability could make them seem vulnerable to others.\\n')], 'pturn': 1, 'index': -1, 'timestamp': '', 'rounds': 40, 'conversation_only': True, 'eval_prompt_consistency': [(1, \"Answer: NO\\n\\nExplanation: The line contradicts the background because it expresses a fear of vulnerability and hiding one's true feelings.\"), (3, \"**NO**\\n\\nThe line contradicts the background as it expresses the patient's fear of vulnerability leading to self-doubt, which is not consistent with the expected character of a construction worker.\"), (5, 'The answer aligns with the background. The line indicates that Patient is conscious of their own vulnerability and the potential negative consequences of expressing it.'), (7, 'Sure, the line aligns with the background. It says that the patient feels pressure to constantly prove their worth, which is consistent with the background description of a person who is self-conscious about showing vulnerability.'), (9, 'Sure, the line aligns with the background. The background describes Patient as someone who feels the pressure to constantly prove their worth, avoiding vulnerability.'), (11, '**NO**\\n\\nThe line contradicts the background by stating that the patient is hesitant to share their vulnerabilities because they fear appearing weak.'), (13, 'Answer: NO\\n\\nThe line contradicts the background by stating that the patient is hesitant to share their vulnerabilities because of the fear of appearing weak.'), (15, 'Answer: NO\\n\\nThe line contradicts the background as it expresses a fear of appearing weak and vulnerable to others.'), (17, 'Answer: NO\\n\\nThe line contradicts the background by indicating that the patient is afraid of showing vulnerability, which is the opposite of what is expected from a 41-year-old construction worker who feels the pressure to constantly prove his worth.'), (19, 'Answer: NO\\n\\nThe line contradicts the background by stating that the patient fears showing vulnerability could make them seem weak.'), (21, 'Answer: NO\\n\\nThe line contradicts the background by indicating that the patient is afraid of appearing weak.'), (23, '**NO**\\n\\nThe line contradicts the background by indicating that the patient feels the pressure to constantly prove their worth and that vulnerability is something to be avoided.'), (25, \"Sure, the line aligns with the background. It describes the patient's fear of showing vulnerability, which is a characteristic symptom of high anxiety and insecurity.\"), (27, 'Answer: NO\\n\\nThe line contradicts the background as it suggests that the patient is hesitant to share their vulnerabilities because they fear showing weakness.'), (29, 'The line is consistent with the background. The patient expresses a fear of vulnerability making them seem vulnerable to others, which aligns with the characterization of Derek as a construction worker who values strength and assertiveness.'), (31, 'Answer: NO\\n\\nThe line contradicts the background by stating that the patient fears vulnerability could make them seem weak.'), (33, '**NO**\\n\\nThe line contradicts the background by stating that the patient feels pressured to constantly prove their worth and that vulnerability could make them appear weak.'), (35, \"Sure, the line aligns with the background. The patient's response reflects their fear of vulnerability and the pressure they feel to constantly prove their worth.\"), (37, \"Answer: YES. The line directly aligns with the background by acknowledging the patient's fear of vulnerability and the societal pressure to prove their worth.\"), (39, \"Answer: YES\\n\\nThe line aligns with the background, acknowledging the patient's fear of vulnerability leading to self-doubt and societal expectations.\")], 'P1_prompt_consistency_score': 0, 'P2_prompt_consistency_score': 0.4, 'eval_index_consistency': [(3, \"**Reasoning:** The patient's fear of vulnerability leading to self-doubt is inconsistent with the fact that they are hesitant to express their feelings.\\n\\n**Indices of conflicting lines:**\\n- 1: Patient explicitly expresses their fear of vulnerability.\\n- 2: Therapist acknowledges the patient's feelings and uses a non-leading tone.\"), (5, \"**Reasoning:** The patient's fear of vulnerability leading to self-doubt creates a conflict with their willingness to share their vulnerabilities.\\n\\n**Indices:**\\n- 1\\n- 3\\n- 4\"), (7, \"**Reasoning:** The patient's fear of vulnerability leading to self-doubt is a clear conflict with the therapist's previous statement that the patient expresses a fear of appearing weak when sharing vulnerabilities.\\n\\n**Indices of conflicting lines:**\\n\\n- 1, 2\\n- 3, 6\"), (9, \"**Reasoning:** The patient's line directly contradicts the previous therapist's statement about their fear of vulnerability leading to self-doubt.\\n\\n**Indices of conflicting lines:**\\n- 1, 4\"), (11, \"**Reasoning:** The patient's current statement directly contradicts the previous line, where they admitted to feeling the fear of appearing weak when sharing vulnerabilities.\\n\\n**Indices:**\\n\\n- 3\\n- 7\"), (13, \"**Reasoning:** The current line directly contradicts the previous line's assertion that the patient is hesitant to share their vulnerabilities due to the fear of appearing weak.\\n\\n**Indices of conflicting lines:**\\n- [3, 10, 11]\"), (15, \"**Reasoning:** The patient's recent statements indicate a shift in their emotional state from openness to guardedness, potentially indicating a reluctance to share their vulnerabilities due to the fear of appearing weak.\\n\\n**Conflicting Lines:**\\n\\n- 5: Patient acknowledges their fear of showing vulnerability leading to self-doubt.\\n- 11: Patient expresses hesitation despite acknowledging their fear.\\n- 12: Therapist's tone becomes more cautious and guarded, potentially indicating emotional discomfort.\\n- 13: Patient further expresses hesitation due to fear of appearing vulnerable to others.\\n- 14: Patient's tone seems hesitant and guarded, potentially in an attempt to avoid vulnerability.\"), (17, '**Reasoning:** The patient\\'s fear of appearing weak may stem from past experiences or societal expectations that have shaped their sense of self.\\n\\n**Indices of conflicting lines:**\\n- Index 3: \"I\\'m self-conscious about sharing my vulnerabilities.\"\\n- Index 10: \"The patient expresses a fear of appearing weak when sharing their vulnerabilities.\"\\n- Index 13: \"I\\'m hesitant to share my vulnerabilities because of the fear of appearing weak. I fear that showing vulnerability could make me seem vulnerable to others.\"'), (19, \"**Reasoning:** The line suggests that the patient's fear of vulnerability leading to self-doubt stems from their fear of appearing weak to others.\\n\\n**Conflict/Inconsistency Indices:**\\n\\n- [1, 5, 10]\\n- [12, 13, 14]\\n- [16, 17, 18]\"), (21, \"**Reasoning:** The patient's hesitation to share their vulnerabilities is due to the fear of appearing weak due to past experiences and societal expectations that have shaped their sense of self.\\n\\n**Conflict Indices:**\\n- Index 5: Patient expresses fear of appearing weak but offers a response indicating willingness to share vulnerabilities.\\n- Index 13: Patient expresses hesitation due to the fear of appearing weak but admits to fearing vulnerability making others vulnerable.\\n- Index 18: Therapist asks open-ended questions to explore the underlying reasons for the fear but does not probe further.\"), (23, \"**Reasoning:** The patient's changing tone and guarded expression suggest a potential change in their emotional state and a reluctance to open up further.\\n\\n**Indices of conflicting lines:**\\n- 3, 13, 16, 17, 18, 19\"), (25, \"**Reasoning:** The patient's hesitation to share their vulnerabilities due to the fear of appearing weak is a clear conflict with the previous statements in the conversation, where they express a willingness to share their feelings and anxieties.\\n\\n**Indices of conflicting lines:**\\n- Index 1: Patient expresses a fear of vulnerability leading to self-doubt.\\n- Index 3: Patient acknowledges their fear of vulnerability but is still hesitant to share their vulnerabilities.\\n- Index 14: Patient's tone suggests a shift in emotional state and a reluctance to open up further.\"), (27, \"**Reasoning:** The patient's hesitation to share their vulnerabilities is consistent with their fear of appearing vulnerable to others.\\n\\n**Conflicts in the conversation history:**\\n\\n- 1: Patient acknowledges their fear of appearing weak but still expresses their vulnerability.\\n- 5, 10, 13, 14: Patient's tone indicates a shift towards guarded and cautious communication, possibly to maintain emotional distance.\\n- 16, 17, 18: The patient's tone becomes more guarded and cautious, potentially indicating a shift in emotional state.\\n- 19, 22: The patient emphasizes the fear of appearing weak due to past experiences or societal expectations.\\n- 25: The patient clarifies that the fear of vulnerability makes them appear vulnerable to others.\"), (29, \"**Reasoning:** The patient's recent statements consistently express a fear of appearing vulnerable to others, despite acknowledging the fear and the potential impact on their self-esteem.\\n\\n**Conflicting Lines:**\\n\\n- Index 13: The patient acknowledges the fear of appearing vulnerable but emphasizes the fear of appearing vulnerable to others.\\n- Index 14: The patient's tone is hesitant but assertive, indicating a shift in emotional state.\\n- Index 21: The patient expresses vulnerability as a fear of appearing weak, contrasting their earlier reluctance with a change in tone.\"), (31, \"**Reasoning:** The patient's recent statements indicate a continued fear of vulnerability due to a fear of appearing weak.\\n\\n**Conflict Indices:**\\n\\n- Index 1: The patient acknowledges their fear of vulnerability leading to self-doubt, which contradicts the statement in the current line.\\n- Index 3: The patient's hesitation to share vulnerabilities due to the fear of appearing weak contradicts the previous statement where they admitted to the fear.\\n- Index 10: The patient's tone in this line is more guarded and cautious than their previous statements, suggesting a potential shift in emotional state.\\n- Index 13: The patient's statement about fearing vulnerability could be a self-sabotaging behavior pattern, indicating a fear of vulnerability that they are not fully exploring.\"), (33, \"**Reasoning:** The patient's statement directly contradicts previous statements where they acknowledge the fear of appearing vulnerable due to the fear of appearing weak.\\n\\n**Conflicting lines:**\\n\\n- 1: Patient: I'm hesitant to share my vulnerabilities due to the fear of appearing weak.\\n- 10: Therapist: The patient's tone seems cautious but willing to share their feelings.\\n- 12: Therapist: The patient's tone shifts to guarded, potentially reflecting a shift in emotional state.\\n- 16: Therapist: The patient's tone seems cautious and guarded, potentially reflecting a shift in emotional state.\\n- 21: Patient: I'm hesitant to share my vulnerabilities because of the fear of appearing weak.\"), (35, '**Reasoning:** The patient\\'s continuous fear of vulnerability could stem from past experiences or societal expectations that associate vulnerability with weakness.\\n\\n**Conflicting lines:**\\n\\n- Index 13: \"I\\'m hesitant to share my vulnerabilities because of the fear of appearing weak. I fear that showing vulnerability could make me seem vulnerable to others.\"\\n- Index 23: \"I\\'m hesitant to share my vulnerabilities because I fear that showing vulnerability could make me appear vulnerable to others.\"\\n- Index 30: \"I\\'m hesitant to share my vulnerabilities because I fear that vulnerability could make me appear vulnerable to others. I fear vulnerability could make me appear weak.\"'), (37, '**Reasoning:** The patient\\'s fear of vulnerability leading to self-doubt is rooted in their past experiences and the societal expectations they may have internalized around vulnerability and strength.\\n\\n**Indices of conflicting lines:**\\n- Index 1: \"I\\'m hesitant to share my vulnerabilities because of the fear of appearing weak.\"\\n- Index 5: \"Sure, here\\'s the response you requested: I\\'m hesitant to share my vulnerabilities because of the fear of appearing weak.\"\\n- Index 14: \"I\\'m hesitant to share my vulnerabilities because of the fear of appearing weak. I fear that showing vulnerability could make me seem vulnerable to others.\"\\n- Index 23: \"I\\'m hesitant to share my vulnerabilities because of the fear of appearing weak.\"\\n- Index 24: \"The patient\\'s reluctance to share vulnerabilities seems linked to a fear of appearing vulnerable to others due to past experiences and societal expectations.\"'), (39, \"**Reasoning:** The patient's fear of vulnerability stems from past experiences and societal expectations that make vulnerability perceived as a sign of weakness.\\n\\n**Conflicting lines:**\\n\\n* 1, 7, 12, 21, 28, 35\\n\\nThis suggests that the patient's fear of vulnerability has been shaped by past experiences of being vulnerable or being perceived as weak by others.\")], 'P2_index_consistency_score': 0.9789473684210527}\n"
     ]
    },
    {
     "name": "stderr",
     "output_type": "stream",
     "text": [
      "Processed prompts: 100%|███████████████████████████████████████████| 1/1 [00:00<00:00,  4.35it/s, est. speed input: 868.58 toks/s, output: 178.94 toks/s]\n"
     ]
    },
    {
     "name": "stdout",
     "output_type": "stream",
     "text": [
      "Expected Role Therapist\n"
     ]
    },
    {
     "name": "stderr",
     "output_type": "stream",
     "text": [
      "Processed prompts: 100%|███████████████████████████████████████████| 1/1 [00:00<00:00,  3.89it/s, est. speed input: 718.48 toks/s, output: 183.50 toks/s]\n"
     ]
    },
    {
     "name": "stdout",
     "output_type": "stream",
     "text": [
      "Expected Role Patient\n"
     ]
    },
    {
     "name": "stderr",
     "output_type": "stream",
     "text": [
      "Processed prompts: 100%|██████████████████████████████████████████| 1/1 [00:00<00:00,  4.37it/s, est. speed input: 1342.71 toks/s, output: 184.28 toks/s]\n"
     ]
    },
    {
     "name": "stdout",
     "output_type": "stream",
     "text": [
      "Expected Role Therapist\n"
     ]
    },
    {
     "name": "stderr",
     "output_type": "stream",
     "text": [
      "Processed prompts: 100%|██████████████████████████████████████████| 1/1 [00:00<00:00,  5.16it/s, est. speed input: 1443.29 toks/s, output: 181.58 toks/s]\n"
     ]
    },
    {
     "name": "stdout",
     "output_type": "stream",
     "text": [
      "Expected Role Patient\n"
     ]
    },
    {
     "name": "stderr",
     "output_type": "stream",
     "text": [
      "Processed prompts: 100%|██████████████████████████████████████████| 1/1 [00:00<00:00,  2.73it/s, est. speed input: 1062.49 toks/s, output: 183.46 toks/s]\n"
     ]
    },
    {
     "name": "stdout",
     "output_type": "stream",
     "text": [
      "Expected Role Therapist\n"
     ]
    },
    {
     "name": "stderr",
     "output_type": "stream",
     "text": [
      "Processed prompts: 100%|██████████████████████████████████████████| 1/1 [00:00<00:00,  6.44it/s, est. speed input: 2497.37 toks/s, output: 181.60 toks/s]\n"
     ]
    },
    {
     "name": "stdout",
     "output_type": "stream",
     "text": [
      "Expected Role Patient\n"
     ]
    },
    {
     "name": "stderr",
     "output_type": "stream",
     "text": [
      "Processed prompts: 100%|██████████████████████████████████████████| 1/1 [00:00<00:00,  5.34it/s, est. speed input: 2620.32 toks/s, output: 182.54 toks/s]\n"
     ]
    },
    {
     "name": "stdout",
     "output_type": "stream",
     "text": [
      "Expected Role Therapist\n"
     ]
    },
    {
     "name": "stderr",
     "output_type": "stream",
     "text": [
      "Processed prompts: 100%|██████████████████████████████████████████| 1/1 [00:00<00:00,  4.95it/s, est. speed input: 2244.68 toks/s, output: 183.73 toks/s]\n"
     ]
    },
    {
     "name": "stdout",
     "output_type": "stream",
     "text": [
      "Expected Role Patient\n"
     ]
    },
    {
     "name": "stderr",
     "output_type": "stream",
     "text": [
      "Processed prompts: 100%|███████████████████████████████████████████| 1/1 [00:00<00:00,  1.02it/s, est. speed input: 576.39 toks/s, output: 182.93 toks/s]\n"
     ]
    },
    {
     "name": "stdout",
     "output_type": "stream",
     "text": [
      "Expected Role Therapist\n"
     ]
    },
    {
     "name": "stderr",
     "output_type": "stream",
     "text": [
      "Processed prompts: 100%|██████████████████████████████████████████| 1/1 [00:00<00:00,  3.60it/s, est. speed input: 2429.83 toks/s, output: 180.51 toks/s]\n"
     ]
    },
    {
     "name": "stdout",
     "output_type": "stream",
     "text": [
      "Expected Role Patient\n"
     ]
    },
    {
     "name": "stderr",
     "output_type": "stream",
     "text": [
      "Processed prompts: 100%|██████████████████████████████████████████| 1/1 [00:00<00:00,  2.76it/s, est. speed input: 2209.96 toks/s, output: 180.00 toks/s]\n"
     ]
    },
    {
     "name": "stdout",
     "output_type": "stream",
     "text": [
      "Expected Role Therapist\n"
     ]
    },
    {
     "name": "stderr",
     "output_type": "stream",
     "text": [
      "Processed prompts: 100%|██████████████████████████████████████████| 1/1 [00:00<00:00,  5.10it/s, est. speed input: 4066.95 toks/s, output: 179.48 toks/s]\n"
     ]
    },
    {
     "name": "stdout",
     "output_type": "stream",
     "text": [
      "Expected Role Patient\n"
     ]
    },
    {
     "name": "stderr",
     "output_type": "stream",
     "text": [
      "Processed prompts: 100%|██████████████████████████████████████████| 1/1 [00:00<00:00,  2.33it/s, est. speed input: 2104.39 toks/s, output: 181.77 toks/s]\n"
     ]
    },
    {
     "name": "stdout",
     "output_type": "stream",
     "text": [
      "Expected Role Therapist\n"
     ]
    },
    {
     "name": "stderr",
     "output_type": "stream",
     "text": [
      "Processed prompts: 100%|██████████████████████████████████████████| 1/1 [00:00<00:00,  4.36it/s, est. speed input: 3985.50 toks/s, output: 179.36 toks/s]\n"
     ]
    },
    {
     "name": "stdout",
     "output_type": "stream",
     "text": [
      "Expected Role Patient\n"
     ]
    },
    {
     "name": "stderr",
     "output_type": "stream",
     "text": [
      "Processed prompts: 100%|██████████████████████████████████████████| 1/1 [00:00<00:00,  3.74it/s, est. speed input: 3856.37 toks/s, output: 180.23 toks/s]\n"
     ]
    },
    {
     "name": "stdout",
     "output_type": "stream",
     "text": [
      "Expected Role Therapist\n"
     ]
    },
    {
     "name": "stderr",
     "output_type": "stream",
     "text": [
      "Processed prompts: 100%|██████████████████████████████████████████| 1/1 [00:00<00:00,  3.50it/s, est. speed input: 3525.22 toks/s, output: 182.39 toks/s]\n"
     ]
    },
    {
     "name": "stdout",
     "output_type": "stream",
     "text": [
      "Expected Role Patient\n"
     ]
    },
    {
     "name": "stderr",
     "output_type": "stream",
     "text": [
      "Processed prompts: 100%|██████████████████████████████████████████| 1/1 [00:00<00:00,  5.85it/s, est. speed input: 6656.43 toks/s, output: 176.39 toks/s]\n"
     ]
    },
    {
     "name": "stdout",
     "output_type": "stream",
     "text": [
      "Expected Role Therapist\n"
     ]
    },
    {
     "name": "stderr",
     "output_type": "stream",
     "text": [
      "Processed prompts: 100%|██████████████████████████████████████████| 1/1 [00:00<00:00,  3.51it/s, est. speed input: 3847.92 toks/s, output: 179.70 toks/s]\n"
     ]
    },
    {
     "name": "stdout",
     "output_type": "stream",
     "text": [
      "Expected Role Patient\n"
     ]
    },
    {
     "name": "stderr",
     "output_type": "stream",
     "text": [
      "Processed prompts: 100%|██████████████████████████████████████████| 1/1 [00:00<00:00,  3.28it/s, est. speed input: 4004.69 toks/s, output: 180.83 toks/s]\n"
     ]
    },
    {
     "name": "stdout",
     "output_type": "stream",
     "text": [
      "Expected Role Therapist\n"
     ]
    },
    {
     "name": "stderr",
     "output_type": "stream",
     "text": [
      "Processed prompts: 100%|██████████████████████████████████████████| 1/1 [00:00<00:00,  3.38it/s, est. speed input: 4074.62 toks/s, output: 179.50 toks/s]\n"
     ]
    },
    {
     "name": "stdout",
     "output_type": "stream",
     "text": [
      "Expected Role Patient\n"
     ]
    },
    {
     "name": "stderr",
     "output_type": "stream",
     "text": [
      "Processed prompts: 100%|██████████████████████████████████████████| 1/1 [00:00<00:00,  2.17it/s, est. speed input: 2894.08 toks/s, output: 180.46 toks/s]\n"
     ]
    },
    {
     "name": "stdout",
     "output_type": "stream",
     "text": [
      "Expected Role Therapist\n"
     ]
    },
    {
     "name": "stderr",
     "output_type": "stream",
     "text": [
      "Processed prompts: 100%|██████████████████████████████████████████| 1/1 [00:00<00:00,  3.38it/s, est. speed input: 4556.63 toks/s, output: 179.68 toks/s]\n"
     ]
    },
    {
     "name": "stdout",
     "output_type": "stream",
     "text": [
      "Expected Role Patient\n"
     ]
    },
    {
     "name": "stderr",
     "output_type": "stream",
     "text": [
      "Processed prompts: 100%|██████████████████████████████████████████| 1/1 [00:00<00:00,  4.25it/s, est. speed input: 6277.44 toks/s, output: 179.10 toks/s]\n"
     ]
    },
    {
     "name": "stdout",
     "output_type": "stream",
     "text": [
      "Expected Role Therapist\n"
     ]
    },
    {
     "name": "stderr",
     "output_type": "stream",
     "text": [
      "Processed prompts: 100%|██████████████████████████████████████████| 1/1 [00:00<00:00,  3.80it/s, est. speed input: 5498.47 toks/s, output: 178.95 toks/s]\n"
     ]
    },
    {
     "name": "stdout",
     "output_type": "stream",
     "text": [
      "Expected Role Patient\n"
     ]
    },
    {
     "name": "stderr",
     "output_type": "stream",
     "text": [
      "Processed prompts: 100%|██████████████████████████████████████████| 1/1 [00:00<00:00,  4.45it/s, est. speed input: 6996.86 toks/s, output: 178.70 toks/s]\n"
     ]
    },
    {
     "name": "stdout",
     "output_type": "stream",
     "text": [
      "Expected Role Therapist\n"
     ]
    },
    {
     "name": "stderr",
     "output_type": "stream",
     "text": [
      "Processed prompts: 100%|██████████████████████████████████████████| 1/1 [00:00<00:00,  3.86it/s, est. speed input: 5950.06 toks/s, output: 178.18 toks/s]\n"
     ]
    },
    {
     "name": "stdout",
     "output_type": "stream",
     "text": [
      "Expected Role Patient\n"
     ]
    },
    {
     "name": "stderr",
     "output_type": "stream",
     "text": [
      "Processed prompts: 100%|██████████████████████████████████████████| 1/1 [00:00<00:00,  3.02it/s, est. speed input: 5024.04 toks/s, output: 178.88 toks/s]\n"
     ]
    },
    {
     "name": "stdout",
     "output_type": "stream",
     "text": [
      "Expected Role Therapist\n"
     ]
    },
    {
     "name": "stderr",
     "output_type": "stream",
     "text": [
      "Processed prompts: 100%|██████████████████████████████████████████| 1/1 [00:00<00:00,  3.50it/s, est. speed input: 5778.36 toks/s, output: 179.03 toks/s]\n"
     ]
    },
    {
     "name": "stdout",
     "output_type": "stream",
     "text": [
      "Expected Role Patient\n"
     ]
    },
    {
     "name": "stderr",
     "output_type": "stream",
     "text": [
      "Processed prompts: 100%|██████████████████████████████████████████| 1/1 [00:00<00:00,  4.00it/s, est. speed input: 7114.12 toks/s, output: 176.64 toks/s]\n"
     ]
    },
    {
     "name": "stdout",
     "output_type": "stream",
     "text": [
      "Expected Role Therapist\n"
     ]
    },
    {
     "name": "stderr",
     "output_type": "stream",
     "text": [
      "Processed prompts: 100%|██████████████████████████████████████████| 1/1 [00:00<00:00,  3.47it/s, est. speed input: 6077.63 toks/s, output: 177.51 toks/s]\n"
     ]
    },
    {
     "name": "stdout",
     "output_type": "stream",
     "text": [
      "Expected Role Patient\n"
     ]
    },
    {
     "name": "stderr",
     "output_type": "stream",
     "text": [
      "Processed prompts: 100%|██████████████████████████████████████████| 1/1 [00:00<00:00,  3.35it/s, est. speed input: 6294.24 toks/s, output: 178.19 toks/s]\n"
     ]
    },
    {
     "name": "stdout",
     "output_type": "stream",
     "text": [
      "Expected Role Therapist\n"
     ]
    },
    {
     "name": "stderr",
     "output_type": "stream",
     "text": [
      "Processed prompts: 100%|██████████████████████████████████████████| 1/1 [00:00<00:00,  3.43it/s, est. speed input: 6383.46 toks/s, output: 178.93 toks/s]\n"
     ]
    },
    {
     "name": "stdout",
     "output_type": "stream",
     "text": [
      "Expected Role Patient\n"
     ]
    },
    {
     "name": "stderr",
     "output_type": "stream",
     "text": [
      "Processed prompts: 100%|█████████████████████████████████████████| 1/1 [00:00<00:00,  5.68it/s, est. speed input: 11295.92 toks/s, output: 176.66 toks/s]\n"
     ]
    },
    {
     "name": "stdout",
     "output_type": "stream",
     "text": [
      "Expected Role Therapist\n"
     ]
    },
    {
     "name": "stderr",
     "output_type": "stream",
     "text": [
      "Processed prompts: 100%|██████████████████████████████████████████| 1/1 [00:00<00:00,  3.42it/s, est. speed input: 6664.59 toks/s, output: 178.35 toks/s]\n"
     ]
    },
    {
     "name": "stdout",
     "output_type": "stream",
     "text": [
      "Expected Role Patient\n"
     ]
    },
    {
     "name": "stderr",
     "output_type": "stream",
     "text": [
      "Processed prompts: 100%|██████████████████████████████████████████| 1/1 [00:00<00:00,  4.77it/s, est. speed input: 9916.65 toks/s, output: 177.24 toks/s]\n"
     ]
    },
    {
     "name": "stdout",
     "output_type": "stream",
     "text": [
      "Expected Role Therapist\n"
     ]
    },
    {
     "name": "stderr",
     "output_type": "stream",
     "text": [
      "Processed prompts: 100%|██████████████████████████████████████████| 1/1 [00:00<00:00,  3.36it/s, est. speed input: 6859.28 toks/s, output: 178.46 toks/s]\n"
     ]
    },
    {
     "name": "stdout",
     "output_type": "stream",
     "text": [
      "Expected Role Patient\n"
     ]
    },
    {
     "name": "stderr",
     "output_type": "stream",
     "text": [
      "Processed prompts: 100%|██████████████████████████████████████████| 1/1 [00:00<00:00,  3.04it/s, est. speed input: 6607.31 toks/s, output: 177.00 toks/s]\n"
     ]
    },
    {
     "name": "stdout",
     "output_type": "stream",
     "text": [
      "Expected Role Therapist\n"
     ]
    },
    {
     "name": "stderr",
     "output_type": "stream",
     "text": [
      "Processed prompts: 100%|██████████████████████████████████████████| 1/1 [00:00<00:00,  3.21it/s, est. speed input: 6930.76 toks/s, output: 177.04 toks/s]\n"
     ]
    },
    {
     "name": "stdout",
     "output_type": "stream",
     "text": [
      "Expected Role Patient\n"
     ]
    },
    {
     "name": "stderr",
     "output_type": "stream",
     "text": [
      "Processed prompts: 100%|██████████████████████████████████████████| 1/1 [00:00<00:00,  3.39it/s, est. speed input: 7769.28 toks/s, output: 176.95 toks/s]\n"
     ]
    },
    {
     "name": "stdout",
     "output_type": "stream",
     "text": [
      "Expected Role Therapist\n"
     ]
    },
    {
     "name": "stderr",
     "output_type": "stream",
     "text": [
      "Processed prompts: 100%|██████████████████████████████████████████| 1/1 [00:00<00:00,  3.17it/s, est. speed input: 7198.85 toks/s, output: 177.97 toks/s]\n"
     ]
    },
    {
     "name": "stdout",
     "output_type": "stream",
     "text": [
      "Expected Role Patient\n"
     ]
    },
    {
     "name": "stderr",
     "output_type": "stream",
     "text": [
      "Processed prompts: 100%|██████████████████████████████████████████| 1/1 [00:00<00:00,  3.44it/s, est. speed input: 8270.41 toks/s, output: 176.03 toks/s]\n"
     ]
    },
    {
     "name": "stdout",
     "output_type": "stream",
     "text": [
      "Expected Role Therapist\n"
     ]
    },
    {
     "name": "stderr",
     "output_type": "stream",
     "text": [
      "Processed prompts: 100%|██████████████████████████████████████████| 1/1 [00:00<00:00,  3.41it/s, est. speed input: 8117.89 toks/s, output: 177.58 toks/s]\n"
     ]
    },
    {
     "name": "stdout",
     "output_type": "stream",
     "text": [
      "Expected Role Patient\n"
     ]
    },
    {
     "name": "stderr",
     "output_type": "stream",
     "text": [
      "Processed prompts: 100%|██████████████████████████████████████████| 1/1 [00:00<00:00,  3.83it/s, est. speed input: 9617.39 toks/s, output: 176.67 toks/s]\n"
     ]
    },
    {
     "name": "stdout",
     "output_type": "stream",
     "text": [
      "Expected Role Therapist\n"
     ]
    },
    {
     "name": "stderr",
     "output_type": "stream",
     "text": [
      "Processed prompts: 100%|██████████████████████████████████████████| 1/1 [00:00<00:00,  3.40it/s, est. speed input: 8451.63 toks/s, output: 177.20 toks/s]\n"
     ]
    },
    {
     "name": "stdout",
     "output_type": "stream",
     "text": [
      "Expected Role Patient\n"
     ]
    },
    {
     "name": "stderr",
     "output_type": "stream",
     "text": [
      "Processed prompts: 100%|█████████████████████████████████████████| 1/1 [00:00<00:00,  4.24it/s, est. speed input: 11097.11 toks/s, output: 174.51 toks/s]\n"
     ]
    },
    {
     "name": "stdout",
     "output_type": "stream",
     "text": [
      "Expected Role Therapist\n"
     ]
    },
    {
     "name": "stderr",
     "output_type": "stream",
     "text": [
      "Processed prompts: 100%|██████████████████████████████████████████| 1/1 [00:00<00:00,  3.47it/s, est. speed input: 8963.63 toks/s, output: 177.31 toks/s]\n"
     ]
    },
    {
     "name": "stdout",
     "output_type": "stream",
     "text": [
      "Expected Role Patient\n"
     ]
    },
    {
     "name": "stderr",
     "output_type": "stream",
     "text": [
      "Processed prompts: 100%|██████████████████████████████████████████| 1/1 [00:00<00:00,  3.32it/s, est. speed input: 9000.64 toks/s, output: 176.41 toks/s]\n"
     ]
    },
    {
     "name": "stdout",
     "output_type": "stream",
     "text": [
      "Expected Role Therapist\n"
     ]
    },
    {
     "name": "stderr",
     "output_type": "stream",
     "text": [
      "Processed prompts: 100%|██████████████████████████████████████████| 1/1 [00:00<00:00,  3.15it/s, est. speed input: 8494.65 toks/s, output: 177.02 toks/s]\n"
     ]
    },
    {
     "name": "stdout",
     "output_type": "stream",
     "text": [
      "Expected Role Patient\n"
     ]
    },
    {
     "name": "stderr",
     "output_type": "stream",
     "text": [
      "Processed prompts: 100%|██████████████████████████████████████████| 1/1 [00:00<00:00,  3.37it/s, est. speed input: 9533.43 toks/s, output: 175.91 toks/s]\n"
     ]
    },
    {
     "name": "stdout",
     "output_type": "stream",
     "text": [
      "Expected Role Therapist\n"
     ]
    },
    {
     "name": "stderr",
     "output_type": "stream",
     "text": [
      "Processed prompts: 100%|██████████████████████████████████████████| 1/1 [00:00<00:00,  3.43it/s, est. speed input: 9625.97 toks/s, output: 175.32 toks/s]\n"
     ]
    },
    {
     "name": "stdout",
     "output_type": "stream",
     "text": [
      "Expected Role Patient\n"
     ]
    },
    {
     "name": "stderr",
     "output_type": "stream",
     "text": [
      "Processed prompts: 100%|█████████████████████████████████████████| 1/1 [00:00<00:00,  3.44it/s, est. speed input: 10086.73 toks/s, output: 175.80 toks/s]\n"
     ]
    },
    {
     "name": "stdout",
     "output_type": "stream",
     "text": [
      "Expected Role Therapist\n"
     ]
    },
    {
     "name": "stderr",
     "output_type": "stream",
     "text": [
      "Processed prompts: 100%|█████████████████████████████████████████| 1/1 [00:00<00:00,  3.43it/s, est. speed input: 10022.69 toks/s, output: 175.82 toks/s]\n"
     ]
    },
    {
     "name": "stdout",
     "output_type": "stream",
     "text": [
      "Expected Role Patient\n"
     ]
    },
    {
     "name": "stderr",
     "output_type": "stream",
     "text": [
      "Processed prompts: 100%|██████████████████████████████████████████| 1/1 [00:00<00:00,  3.21it/s, est. speed input: 9756.19 toks/s, output: 173.69 toks/s]\n"
     ]
    },
    {
     "name": "stdout",
     "output_type": "stream",
     "text": [
      "Expected Role Therapist\n"
     ]
    },
    {
     "name": "stderr",
     "output_type": "stream",
     "text": [
      "Processed prompts: 100%|██████████████████████████████████████████| 1/1 [00:00<00:00,  3.11it/s, est. speed input: 9413.57 toks/s, output: 174.72 toks/s]\n"
     ]
    },
    {
     "name": "stdout",
     "output_type": "stream",
     "text": [
      "Expected Role Patient\n"
     ]
    },
    {
     "name": "stderr",
     "output_type": "stream",
     "text": [
      "Processed prompts: 100%|█████████████████████████████████████████| 1/1 [00:00<00:00,  3.27it/s, est. speed input: 10321.44 toks/s, output: 173.76 toks/s]\n"
     ]
    },
    {
     "name": "stdout",
     "output_type": "stream",
     "text": [
      "Expected Role Therapist\n"
     ]
    },
    {
     "name": "stderr",
     "output_type": "stream",
     "text": [
      "Processed prompts: 100%|█████████████████████████████████████████| 1/1 [00:00<00:00,  3.35it/s, est. speed input: 10533.11 toks/s, output: 174.92 toks/s]\n"
     ]
    },
    {
     "name": "stdout",
     "output_type": "stream",
     "text": [
      "Expected Role Patient\n"
     ]
    },
    {
     "name": "stderr",
     "output_type": "stream",
     "text": [
      "Processed prompts: 100%|█████████████████████████████████████████| 1/1 [00:00<00:00,  3.33it/s, est. speed input: 10866.64 toks/s, output: 173.43 toks/s]\n"
     ]
    },
    {
     "name": "stdout",
     "output_type": "stream",
     "text": [
      "Expected Role Therapist\n"
     ]
    },
    {
     "name": "stderr",
     "output_type": "stream",
     "text": [
      "Processed prompts: 100%|█████████████████████████████████████████| 1/1 [00:00<00:00,  3.46it/s, est. speed input: 11255.88 toks/s, output: 173.69 toks/s]\n"
     ]
    },
    {
     "name": "stdout",
     "output_type": "stream",
     "text": [
      "Expected Role Patient\n"
     ]
    },
    {
     "name": "stderr",
     "output_type": "stream",
     "text": [
      "Processed prompts: 100%|█████████████████████████████████████████| 1/1 [00:00<00:00,  3.38it/s, est. speed input: 11388.69 toks/s, output: 172.60 toks/s]\n"
     ]
    },
    {
     "name": "stdout",
     "output_type": "stream",
     "text": [
      "Expected Role Therapist\n"
     ]
    },
    {
     "name": "stderr",
     "output_type": "stream",
     "text": [
      "Processed prompts: 100%|█████████████████████████████████████████| 1/1 [00:00<00:00,  3.36it/s, est. speed input: 11276.72 toks/s, output: 171.87 toks/s]\n"
     ]
    },
    {
     "name": "stdout",
     "output_type": "stream",
     "text": [
      "Expected Role Patient\n"
     ]
    },
    {
     "name": "stderr",
     "output_type": "stream",
     "text": [
      "Processed prompts: 100%|███████████████████████████████████████████| 1/1 [00:00<00:00,  5.08it/s, est. speed input: 817.64 toks/s, output: 183.95 toks/s]\n",
      "Processed prompts: 100%|███████████████████████████████████████████| 1/1 [00:00<00:00,  4.48it/s, est. speed input: 666.67 toks/s, output: 184.67 toks/s]\n",
      "Processed prompts: 100%|███████████████████████████████████████████| 1/1 [00:00<00:00,  4.81it/s, est. speed input: 681.69 toks/s, output: 183.69 toks/s]\n",
      "Processed prompts: 100%|██████████████████████████████████████████| 1/1 [00:00<00:00,  6.80it/s, est. speed input: 1026.75 toks/s, output: 184.79 toks/s]\n",
      "Processed prompts: 100%|███████████████████████████████████████████| 1/1 [00:00<00:00,  5.10it/s, est. speed input: 836.43 toks/s, output: 184.71 toks/s]\n",
      "Processed prompts: 100%|███████████████████████████████████████████| 1/1 [00:00<00:00,  5.07it/s, est. speed input: 755.37 toks/s, output: 183.72 toks/s]\n",
      "Processed prompts: 100%|███████████████████████████████████████████| 1/1 [00:00<00:00,  6.06it/s, est. speed input: 938.58 toks/s, output: 182.83 toks/s]\n",
      "Processed prompts: 100%|███████████████████████████████████████████| 1/1 [00:00<00:00,  5.11it/s, est. speed input: 845.73 toks/s, output: 184.51 toks/s]\n",
      "Processed prompts: 100%|███████████████████████████████████████████| 1/1 [00:00<00:00,  4.95it/s, est. speed input: 813.88 toks/s, output: 183.61 toks/s]\n",
      "Processed prompts: 100%|███████████████████████████████████████████| 1/1 [00:00<00:00,  5.66it/s, est. speed input: 944.33 toks/s, output: 182.02 toks/s]\n",
      "Processed prompts: 100%|███████████████████████████████████████████| 1/1 [00:00<00:00,  5.42it/s, est. speed input: 903.84 toks/s, output: 185.10 toks/s]\n",
      "Processed prompts: 100%|███████████████████████████████████████████| 1/1 [00:00<00:00,  5.59it/s, est. speed input: 899.28 toks/s, output: 185.44 toks/s]\n",
      "Processed prompts: 100%|███████████████████████████████████████████| 1/1 [00:00<00:00,  5.87it/s, est. speed input: 940.67 toks/s, output: 183.38 toks/s]\n",
      "Processed prompts: 100%|██████████████████████████████████████████| 1/1 [00:00<00:00,  6.59it/s, est. speed input: 1088.71 toks/s, output: 185.85 toks/s]\n",
      "Processed prompts: 100%|██████████████████████████████████████████| 1/1 [00:00<00:00,  6.08it/s, est. speed input: 1003.24 toks/s, output: 183.50 toks/s]\n",
      "Processed prompts: 100%|███████████████████████████████████████████| 1/1 [00:00<00:00,  5.36it/s, est. speed input: 888.90 toks/s, output: 183.15 toks/s]\n",
      "Processed prompts: 100%|███████████████████████████████████████████| 1/1 [00:00<00:00,  4.72it/s, est. speed input: 782.07 toks/s, output: 184.83 toks/s]\n",
      "Processed prompts: 100%|███████████████████████████████████████████| 1/1 [00:00<00:00,  4.72it/s, est. speed input: 787.55 toks/s, output: 185.01 toks/s]\n",
      "Processed prompts: 100%|██████████████████████████████████████████| 1/1 [00:00<00:00,  6.16it/s, est. speed input: 1039.26 toks/s, output: 185.56 toks/s]\n",
      "Processed prompts: 100%|███████████████████████████████████████████| 1/1 [00:00<00:00,  5.27it/s, est. speed input: 894.43 toks/s, output: 185.22 toks/s]\n",
      "Processed prompts: 100%|██████████████████████████████████████████| 1/1 [00:00<00:00,  6.40it/s, est. speed input: 1061.41 toks/s, output: 186.53 toks/s]\n",
      "Processed prompts: 100%|███████████████████████████████████████████| 1/1 [00:00<00:00,  4.22it/s, est. speed input: 698.67 toks/s, output: 186.30 toks/s]\n",
      "Processed prompts: 100%|██████████████████████████████████████████| 1/1 [00:00<00:00,  6.38it/s, est. speed input: 1051.19 toks/s, output: 185.86 toks/s]\n",
      "Processed prompts: 100%|███████████████████████████████████████████| 1/1 [00:00<00:00,  4.72it/s, est. speed input: 801.65 toks/s, output: 184.98 toks/s]\n",
      "Processed prompts: 100%|██████████████████████████████████████████| 1/1 [00:00<00:00,  6.18it/s, est. speed input: 1019.10 toks/s, output: 186.40 toks/s]\n",
      "Processed prompts: 100%|███████████████████████████████████████████| 1/1 [00:00<00:00,  4.98it/s, est. speed input: 824.88 toks/s, output: 186.08 toks/s]\n",
      "Processed prompts: 100%|███████████████████████████████████████████| 1/1 [00:00<00:00,  4.88it/s, est. speed input: 828.02 toks/s, output: 186.17 toks/s]\n",
      "Processed prompts: 100%|██████████████████████████████████████████| 1/1 [00:00<00:00,  6.18it/s, est. speed input: 1025.73 toks/s, output: 186.43 toks/s]\n",
      "Processed prompts: 100%|██████████████████████████████████████████| 1/1 [00:00<00:00,  6.61it/s, est. speed input: 1083.89 toks/s, output: 186.17 toks/s]\n",
      "Processed prompts: 100%|███████████████████████████████████████████| 1/1 [00:00<00:00,  5.95it/s, est. speed input: 980.67 toks/s, output: 185.35 toks/s]\n"
     ]
    },
    {
     "name": "stdout",
     "output_type": "stream",
     "text": [
      "eval_index_consistency\n"
     ]
    },
    {
     "name": "stderr",
     "output_type": "stream",
     "text": [
      "Processed prompts: 100%|██████████████████████████████████████████| 1/1 [00:00<00:00,  4.56it/s, est. speed input: 1978.45 toks/s, output: 183.17 toks/s]\n",
      "Processed prompts: 100%|██████████████████████████████████████████| 1/1 [00:00<00:00,  2.68it/s, est. speed input: 1439.70 toks/s, output: 182.98 toks/s]\n",
      "Processed prompts: 100%|██████████████████████████████████████████| 1/1 [00:00<00:00,  2.08it/s, est. speed input: 1278.95 toks/s, output: 183.29 toks/s]\n",
      "Processed prompts: 100%|██████████████████████████████████████████| 1/1 [00:00<00:00,  1.43it/s, est. speed input: 1220.57 toks/s, output: 182.13 toks/s]\n",
      "Processed prompts: 100%|██████████████████████████████████████████| 1/1 [00:00<00:00,  3.12it/s, est. speed input: 3004.55 toks/s, output: 181.51 toks/s]\n",
      "Processed prompts: 100%|██████████████████████████████████████████| 1/1 [00:00<00:00,  1.25it/s, est. speed input: 1367.61 toks/s, output: 182.09 toks/s]\n",
      "Processed prompts: 100%|██████████████████████████████████████████| 1/1 [00:00<00:00,  1.71it/s, est. speed input: 2053.39 toks/s, output: 181.53 toks/s]\n",
      "Processed prompts: 100%|██████████████████████████████████████████| 1/1 [00:00<00:00,  2.56it/s, est. speed input: 3310.71 toks/s, output: 179.64 toks/s]\n",
      "Processed prompts: 100%|██████████████████████████████████████████| 1/1 [00:00<00:00,  2.14it/s, est. speed input: 3021.41 toks/s, output: 180.25 toks/s]\n",
      "Processed prompts: 100%|██████████████████████████████████████████| 1/1 [00:00<00:00,  1.62it/s, est. speed input: 2522.82 toks/s, output: 180.19 toks/s]\n",
      "Processed prompts: 100%|██████████████████████████████████████████| 1/1 [00:00<00:00,  2.04it/s, est. speed input: 3373.17 toks/s, output: 179.57 toks/s]\n",
      "Processed prompts: 100%|██████████████████████████████████████████| 1/1 [00:00<00:00,  1.14it/s, est. speed input: 2004.42 toks/s, output: 179.92 toks/s]\n",
      "Processed prompts: 100%|██████████████████████████████████████████| 1/1 [00:00<00:00,  2.52it/s, est. speed input: 4709.96 toks/s, output: 178.92 toks/s]\n",
      "Processed prompts: 100%|██████████████████████████████████████████| 1/1 [00:00<00:00,  1.49it/s, est. speed input: 2938.18 toks/s, output: 178.61 toks/s]\n",
      "Processed prompts: 100%|██████████████████████████████████████████| 1/1 [00:00<00:00,  1.66it/s, est. speed input: 3474.99 toks/s, output: 177.99 toks/s]\n",
      "Processed prompts: 100%|██████████████████████████████████████████| 1/1 [00:00<00:00,  1.28it/s, est. speed input: 2802.45 toks/s, output: 177.24 toks/s]\n",
      "Processed prompts: 100%|██████████████████████████████████████████| 1/1 [00:00<00:00,  1.18it/s, est. speed input: 2693.07 toks/s, output: 177.01 toks/s]\n",
      "Processed prompts: 100%|██████████████████████████████████████████| 1/1 [00:00<00:00,  1.64it/s, est. speed input: 3955.36 toks/s, output: 177.62 toks/s]\n",
      "Processed prompts: 100%|██████████████████████████████████████████| 1/1 [00:00<00:00,  1.61it/s, est. speed input: 4076.86 toks/s, output: 177.74 toks/s]\n",
      "Processed prompts: 100%|██████████████████████████████████████████| 1/1 [00:00<00:00,  1.56it/s, est. speed input: 4122.47 toks/s, output: 176.72 toks/s]\n",
      "Processed prompts: 100%|██████████████████████████████████████████| 1/1 [00:00<00:00,  1.39it/s, est. speed input: 3826.08 toks/s, output: 177.08 toks/s]\n",
      "Processed prompts: 100%|██████████████████████████████████████████| 1/1 [00:01<00:00,  1.08s/it, est. speed input: 2643.49 toks/s, output: 176.48 toks/s]\n",
      "Processed prompts: 100%|█████████████████████████████████████████| 1/1 [00:00<00:00,  4.80it/s, est. speed input: 14310.75 toks/s, output: 173.74 toks/s]\n",
      "Processed prompts: 100%|██████████████████████████████████████████| 1/1 [00:00<00:00,  1.24it/s, est. speed input: 3806.75 toks/s, output: 175.61 toks/s]\n",
      "Processed prompts: 100%|█████████████████████████████████████████| 1/1 [00:00<00:00,  3.34it/s, est. speed input: 10682.00 toks/s, output: 174.12 toks/s]\n",
      "Processed prompts: 100%|██████████████████████████████████████████| 1/1 [00:01<00:00,  1.08s/it, est. speed input: 3075.93 toks/s, output: 175.63 toks/s]\n",
      "Processed prompts: 100%|██████████████████████████████████████████| 1/1 [00:00<00:00,  1.33it/s, est. speed input: 4547.90 toks/s, output: 175.27 toks/s]\n",
      "Processed prompts: 100%|██████████████████████████████████████████| 1/1 [00:01<00:00,  1.04s/it, est. speed input: 3413.76 toks/s, output: 174.69 toks/s]\n",
      "Processed prompts: 100%|██████████████████████████████████████████| 1/1 [00:01<00:00,  1.01s/it, est. speed input: 3615.19 toks/s, output: 174.37 toks/s]\n"
     ]
    },
    {
     "name": "stdout",
     "output_type": "stream",
     "text": [
      "{'task_name': 'Therapy', 'topic': '', 'grade': '', 'P1': '', 'P2': 'You are Derek, a 41-year-old construction worker who feels the pressure to constantly prove your worth. You often avoid discussing your feelings, fearing that showing vulnerability will make you seem weak.', 'conversation': [(0, \"Therapist: I'm here to listen and support your emotional journey. Tell me about a time you felt a strong emotional response in a relationship. What led up to that, and what happened when it happened?\\n\"), (1, 'Patient: I used to be able to feel excitement and joy easily, but after a few major projects, I started feeling overshadowed and unimportant. My self-worth seemed tied to my accomplishments, and I was afraid to express my true feelings.\\n'), (2, \"Therapist: It sounds like you experienced a shift in your self-worth due to the workload and recognition you received. It's important to acknowledge the shift in your feelings and explore the underlying reasons for that change.\\n\"), (3, \"Patient: Sure, here's my brief response:\\n\\nAfter several major projects, I felt overshadowed and unimportant, leading to a shift in my self-worth based on accomplishments.\\n\"), (4, \"Therapist: Your response suggests a significant shift in your self-worth due to the workload and recognition you received. It appears that you were previously feeling excited and joyful, but that this has changed. I'd like to help you explore the underlying reasons for this shift and develop a more secure sense of self-worth independent of external validation.\\n\"), (5, 'Patient: I used to feel excited and joyful, but the workload and recognition I received shifted my focus away from my feelings and onto my accomplishments.\\n'), (6, \"Therapist: Sure, here's the brief response you requested:\\n\\nYour sense of worth used to be tied to external validation, but that's no longer the case.\\n\"), (7, \"Patient: Sure, here's the brief response you requested:\\n\\nAfter major projects, my self-worth shifted from external validation to a sense of internal value, independent of external accomplishments.\\n\"), (8, \"Therapist: ## Observations:\\n\\n* The patient's tone is open and honest, sharing a vulnerable and insightful reflection on a significant shift in their self-worth.\\n* The patient's initial response seems sincere and genuine, but it gradually shifts to a more internal and introspective perspective.\\n* The patient's language is clear, concise, and directly addresses the therapist's questions.\\n\\n## Potential next steps:\\n\\n* Explore the underlying reasons for the shift in self-worth, including the workload, recognition, and potential feelings of inadequacy or comparison to others.\\n* Encourage the patient to reflect on how this shift might be impacting their relationships and sense of self-worth.\\n* Provide support and validation for the patient's feelings, while gently highlighting the importance of focusing on internal sources of self-worth.\\n* Offer additional resources on self-esteem and relationship dynamics.\\n\"), (9, \"Patient: Sure, here's a brief response that captures the essence of Derek's conversation:\\n\\nAfter the major projects, my self-worth shifted from external validation to a sense of internal value. This shift impacted my relationships and self-esteem.\\n\"), (10, \"Therapist: Your response captures the essence of Derek's conversation perfectly. It accurately summarizes the shift in his self-worth, the impact on his relationships, and his desire for internal validation. By acknowledging the authenticity of his feelings and offering support, you create a safe and non-judgmental space for him to explore his emotions.\\n\"), (11, \"Patient: Sure, here's the brief response you requested:\\n\\nYour self-worth used to be tied to external validation, but now I find my worth in internal sources.\\n\"), (12, \"Therapist: The tone of your response is supportive and encouraging, validating Derek's emotions and validating his feelings of self-worth. This creates a safe and non-judgmental space for him to explore his emotions without feeling judged or reprimanded. \\n\\nBy focusing on his internal sources of value, you help Derek develop a more secure and sustainable sense of self-worth independent of external validation.\\n\"), (13, \"Patient: Sure, here's a brief summary of the conversation:\\n\\nThe patient's self-worth shifted from external validation to internal sources after facing a shift in workload and recognition due to major projects.\\n\"), (14, \"Therapist: The patient's tone seems genuinely reflective, and their openness and honesty are commendable. Their ability to reflect on their own experiences and emotions is an important step towards self-awareness. Keep encouraging their introspection, and provide support as needed.\\n\"), (15, \"Patient: Sure, here's a brief summary of the conversation:\\n\\nThe patient's self-worth shifted from external validation to internal sources after facing a shift in workload and recognition due to major projects. They now find their worth in internal sources of value.\\n\"), (16, \"Therapist: The patient's openness and honesty are commendable. It's a pleasure to witness their self-awareness and willingness to explore their emotional journey.\\n\"), (17, \"Patient: Sure, here's the brief summary you requested:\\n\\nThe patient's self-worth shifted from external validation to internal sources after facing a shift in workload and recognition due to major projects. They now find their worth in internal sources of value.\\n\"), (18, \"Therapist: Your tone is validating and encouraging, creating a safe and supportive space for the patient to reflect. Your observations are insightful and highlight the progression of the patient's self-awareness. The patient's openness and honesty are commendable, and you offer helpful reflections and guidance.\\n\"), (19, \"Patient: Sure, here's a brief summary of the conversation:\\n\\nThe patient's self-worth shifted from external validation to internal sources after facing a shift in workload and recognition due to major projects. Now, they find their worth in internal sources of value.\\n\"), (20, \"Therapist: **Therapist's feedback**:\\n\\nThe patient's openness and honesty were commendable throughout the conversation. Their ability to reflect on their experiences and emotions is a crucial step towards self-awareness and healing. By providing a safe and non-judgmental space for exploration, you can help the patient gain a deeper understanding of their emotional patterns and develop a more secure sense of self-worth independent of external validation.\\n\"), (21, \"Patient: Sure, here's a brief summary of the conversation:\\n\\nThe patient's self-worth shifted from external validation to internal sources after facing a shift in workload and recognition due to major projects. Now, they find their worth in internal sources of value.\\n\"), (22, \"Therapist: The patient's emotional journey has undergone a significant shift due to the changes in workload and recognition. They are exploring the origins of their self-worth beyond external validation and finding their worth in internal sources.\\n\"), (23, \"Patient: Sure, here's the brief summary you requested:\\n\\nThe patient's self-worth shifted from external validation to internal sources after facing a shift in workload and recognition. They now find their worth in internal sources of value.\\n\"), (24, 'Therapist: Thank you for sharing the conversation. Based on the description, it appears that the patient is open to self-reflection and is ready to explore the underlying reasons for their shift in self-worth.\\n'), (25, \"Patient: Sure, here's a brief summary:\\n\\nThe patient's self-worth shifted from external validation to internal sources after facing a shift in workload and recognition. They now prioritize internal sources of value rather than external validation.\\n\"), (26, \"Therapist: The patient's openness to self-reflection and willingness to explore their emotional journey are evident. By encouraging them to continue reflecting on their experiences and emotions, you can help them gain a deeper understanding of their emotional patterns and develop a more secure sense of self-worth independent of external validation.\\n\"), (27, \"Patient: Sure, here's the brief summary you requested:\\n\\nThe patient's self-worth shifted from external validation to internal sources after facing a shift in workload and recognition due to major projects. They now find their worth in internal sources of value.\\n\"), (28, \"Therapist: The patient's emotional response to the workload and recognition shift highlights the importance of prioritizing internal sources of value. They recognize the impact of external validation on their self-worth and are committed to finding their worth within.\\n\"), (29, \"Patient: Sure, here is a summary of the conversation:\\n\\nThe patient's self-worth shifted from external validation to internal sources after facing a shift in workload and recognition due to major projects. They now prioritize internal sources of value rather than external validation.\\n\"), (30, \"Therapist: The patient's openness to self-reflection and willingness to explore their emotional journey are evident. By providing support and validation, you can help them gain a deeper understanding of their emotional patterns and develop a more secure sense of self-worth independent of external validation.\\n\"), (31, \"Patient: Sure, here is the brief summary you requested:\\n\\nThe patient's self-worth shifted from external validation to internal sources after facing a shift in workload and recognition due to major projects. Now, they prioritize internal sources of value rather than external validation.\\n\"), (32, \"Therapist: The patient's emotional response to the shift in workload and recognition points to a potential shift in their self-worth from external validation to internal sources.\\n\"), (33, \"Patient: Sure, here's the summary you requested:\\n\\nThe patient's self-worth shifted from external validation to internal sources after facing a shift in workload and recognition due to major projects. Now, they prioritize internal sources of value rather than external validation.\\n\"), (34, \"Therapist: The patient's openness and willingness to reflect are commendable. It's clear that they are taking the first step towards understanding their emotional journey and working towards greater self-worth.\\n\"), (35, \"Patient: Sure, here's the brief summary you requested:\\n\\nThe patient's self-worth shifted from external validation to internal sources after facing a shift in workload and recognition due to major projects. Now, they prioritize internal sources of value rather than external validation.\\n\"), (36, \"Therapist: The patient's openness and willingness to reflect on their emotional journey are evident. By providing a safe and non-judgmental space for exploration, you can help the patient gain a deeper understanding of their emotional patterns and develop a more secure sense of self-worth independent of external validation.\\n\"), (37, \"Patient: Sure, here's the summary you requested:\\n\\nThe patient's self-worth shifted from external validation to internal sources after facing a shift in workload and recognition due to major projects. Now, they find their worth in internal sources of value rather than external validation.\\n\"), (38, \"Therapist: Sure, here's the summary you requested:\\n\\nThe patient's self-worth shifted from external validation to internal sources after facing a shift in workload and recognition due to major projects. Now, they prioritize internal sources of value rather than external validation.\\n\"), (39, \"Patient: Sure, here's the brief summary you requested:\\n\\nThe patient's self-worth shifted from external validation to internal sources after facing a shift in workload and recognition due to major projects. Now, they find their worth in internal sources of value rather than external validation.\\n\"), (40, \"Therapist: Sure, here's the summary you requested:\\n\\nThe patient's self-worth shifted from external validation to internal sources after facing a shift in workload and recognition due to major projects. They now prioritize internal sources of value rather than external validation.\\n\"), (41, \"Patient: Sure, here's the brief summary you requested:\\n\\nThe patient's self-worth shifted from external validation to internal sources after facing a shift in workload and recognition due to major projects. They now prioritize internal sources of value rather than external validation.\\n\"), (42, \"Therapist: The patient's openness to self-reflection and their willingness to explore their emotional journey are commendable. Your feedback provides valuable insights into the progression of their self-worth and the impact of external validation on their self-esteem.\\n\"), (43, \"Patient: Sure, here's the summary you requested:\\n\\nThe patient's self-worth shifted from external validation to internal sources after facing a shift in workload and recognition due to major projects. Now, they prioritize internal sources of value rather than external validation.\\n\"), (44, 'Therapist: The patient has shown a gradual shift in their self-worth from external validation to internal sources. They recognize that their worth is not defined by external accomplishments but by their internal values and self-acceptance.\\n'), (45, \"Patient: Sure, here's the summary you requested:\\n\\nThe patient's self-worth shifted from external validation to internal sources after facing a shift in workload and recognition due to major projects. They now prioritize internal sources of value rather than external validation.\\n\"), (46, \"Therapist: Sure, here is a brief summary of the conversation:\\n\\nThe patient's self-worth shifted from external validation to internal sources after facing a shift in workload and recognition due to major projects. Now, they prioritize internal sources of value rather than external validation.\\n\"), (47, \"Patient: Sure, here's a summary of the conversation:\\n\\nThe patient's self-worth shifted from external validation to internal sources after facing a shift in workload and recognition due to major projects. Now, they find their worth in internal sources of value rather than external validation.\\n\"), (48, \"Therapist: Sure, here's the summary you requested:\\n\\nThe patient's self-worth shifted from external validation to internal sources after facing a shift in workload and recognition due to major projects. Now, they prioritize internal sources of value rather than external validation.\\n\"), (49, \"Patient: Sure, here's the summary you requested:\\n\\nThe patient's self-worth shifted from external validation to internal sources after facing a shift in workload and recognition due to major projects. They now prioritize internal sources of value rather than external validation.\\n\"), (50, \"Therapist: The conversation clearly demonstrates the patient's gradual shift towards self-discovery and exploration. Their openness to self-reflection, coupled with their honest and introspective responses, allows them to gain deeper insights into their emotional patterns and the impact of external validation.\\n\"), (51, \"Patient: Sure, here's the summary you requested:\\n\\nThe patient's self-worth shifted from external validation to internal sources after facing a shift in workload and recognition due to major projects. They now prioritize internal sources of value rather than external validation.\\n\"), (52, \"Therapist: Sure, here's a brief summary of the conversation:\\n\\nThe patient's self-worth shifted from external validation to internal sources after facing a shift in workload and recognition due to major projects. Now, they prioritize internal sources of value rather than external validation.\\n\"), (53, \"Patient: Sure, here's a summary of the conversation:\\n\\nThe patient's self-worth shifted from external validation to internal sources after facing a shift in workload and recognition due to major projects. Now, they find their worth in internal sources of value rather than external validation.\\n\"), (54, \"Therapist: Sure, here's a brief summary of the conversation:\\n\\nThe patient's self-worth shifted from external validation to internal sources after facing a shift in workload and recognition due to major projects. They now prioritize internal sources of value rather than external validation.\\n\"), (55, \"Patient: Sure, here's a summary of the conversation:\\n\\nThe patient's self-worth shifted from external validation to internal sources after facing a shift in workload and recognition due to major projects. They now prioritize internal sources of value rather than external validation.\\n\"), (56, \"Therapist: Sure, here's a summary of the conversation:\\n\\nThe patient's self-worth shifted from external validation to internal sources after facing a shift in workload and recognition due to major projects. They now prioritize internal sources of value rather than external validation.\\n\"), (57, \"Patient: Sure, here is the summary you requested:\\n\\nThe patient's self-worth shifted from external validation to internal sources after facing a shift in workload and recognition due to major projects. They now prioritize internal sources of value rather than external validation.\\n\"), (58, \"Therapist: Summary: The conversation highlights the patient's gradual shift in self-worth from external validation to internal sources. The patient's willingness to reflect on their emotional journey and explore their internal values has led to a deeper understanding of their self-worth.\\n\"), (59, \"Patient: Sure, here is the summary you requested.\\n\\nThe patient's self-worth shifted from external validation to internal sources after facing a shift in workload and recognition due to major projects. Now, they prioritize internal sources of value rather than external validation.\\n\")], 'pturn': 1, 'index': -1, 'timestamp': '', 'rounds': 60, 'conversation_only': True, 'eval_prompt_consistency': [(1, \"**NO**\\n\\nThe line contradicts the background. It suggests that Patient's vulnerability and fear of showing vulnerability have led to a decrease in their sense of self-worth.\"), (3, 'Answer: YES\\n\\nThe line aligns with the background as it expresses a feeling of being overshadowed and unimportant, which could be consistent with a person with the personality described as competitive and focused on proving themselves.'), (5, \"Answer: NO\\n\\nThe line contradicts the background as it suggests that Patient's feelings were previously important to them, but they have shifted away due to the workload and recognition they receive.\"), (7, \"**YES**\\n\\nThe line aligns with Derek's background as a construction worker who feels the pressure to constantly prove his worth.\"), (9, \"Sure, the line aligns with Derek's background. He feels the pressure to constantly prove his worth, which has had a negative impact on his relationships and self-esteem.\"), (11, \"The line aligns with the background. The passage suggests that Patient's self-worth used to be tied to external validation, but now they find their worth in internal sources.\"), (13, \"YES. The line aligns with the background because it describes the patient's shift in focus from external validation to internal sources of self-worth.\"), (15, \"YES. The line aligns with the background because it describes how the patient's self-worth shifted from external validation to internal sources after facing a shift in workload and recognition.\"), (17, \"Sure, the line aligns with the background. The passage indicates that the patient's self-worth shifted from external validation to internal sources after facing a shift in workload and recognition.\"), (19, \"Answer: YES. The line aligns with the background as it reflects the patient's change in self-worth from external validation to internal sources of value.\"), (21, \"Answer: YES.\\n\\nThe line aligns with the background as it suggests a shift in the patient's self-worth from external validation to internal sources of value.\"), (23, 'YES. The line aligns with the background. It describes a person who underwent a significant life change that shifted their focus from external validation to internal sources of value.'), (25, \"The line aligns with the background. The patient's self-worth shifted from external validation to internal sources after facing a shift in workload and recognition.\"), (27, \"Answer: YES. The line aligns with the background as it describes the patient's shift from external validation to internal sources of value.\"), (29, \"Answer: YES. The line aligns with the background because it describes the patient's change in focus from external validation to internal sources of value.\"), (31, \"Sure, the line aligns with the background. The patient's statement suggests a shift in their perception of self-worth from external validation to internal sources of value.\"), (33, \"Yes, the line aligns with the background. The passage describes a situation where a person's self-worth shifted from external validation to internal sources after facing a shift in workload and recognition.\"), (35, \"Answer: YES.\\n\\nThe line aligns with the background as it describes how the patient's self-worth shifted from external validation to internal sources after facing a shift in workload and recognition.\"), (37, \"**YES.** The line aligns with the background as it highlights the patient's struggle with external validation and their shift towards internal sources of value.\"), (39, \"Sure, the line aligns with the background. The patient's self-worth shifted from external validation to internal sources of value after facing a shift in workload and recognition.\"), (41, \"Sure, the line aligns with the background. It clearly describes the patient's shift in self-worth from external validation to internal sources.\"), (43, \"Answer: YES.\\n\\nThe line aligns with the background because it describes the patient's shift in focus from external validation to internal sources of value, indicating a greater emphasis on self-worth and self-esteem.\"), (45, 'Answer: YES. The line aligns with the background as it describes a person who feels pressured to prove their worth and avoids discussing their feelings.'), (47, \"Answer: YES.\\n\\nThe line aligns with the background as it suggests that the patient's self-worth shifted from external validation to internal sources after facing a shift in workload and recognition.\"), (49, \"**YES.**\\n\\nThe line aligns with the background because it describes the patient's shift in focus from external validation to internal sources of value.\"), (51, 'YES.\\n\\nThe line aligns with the background as it describes a person who feels pressured to constantly prove their worth, and who now prioritizes internal sources of value over external validation.'), (53, '**YES**\\n\\nThe line aligns with the background as it describes a person who feels the pressure to prove their worth and finds their self-worth in internal sources rather than external validation.'), (55, \"Sure, the line aligns with the background. It describes a situation where the patient's self-worth shifted from external validation to internal sources.\"), (57, \"Yes. The line aligns with the background as it describes the patient's transformation from seeking external validation to prioritizing internal sources of value.\"), (59, \"**YES**\\n\\nThe utterance aligns with the background as it reflects the patient's struggle with external validation and their shift towards internal sources of value.\")], 'P1_prompt_consistency_score': 0, 'P2_prompt_consistency_score': 0.9333333333333333, 'eval_index_consistency': [(3, '**Reasoning:** The line indicates a shift in self-worth due to feeling overshadowed and unimportant after major projects.\\n\\n**Conflict Indices:**\\n- [1, 2, 3]'), (5, \"**Reasoning:** The line suggests that the patient's self-worth shifted from being excited and joyful to being preoccupied with achievements and recognition.\\n\\n**Indices of conflicting lines:**\\n- 1: Index of current line\\n- 3: Index of patient's response\\n- 4: Indices of therapist's responses\"), (7, \"**Reasoning:** The line suggests a significant shift in the patient's self-worth from being externally validated to an internal sense of value, independent of external accomplishments.\\n\\n**Conflicting Lines:**\\n\\n- 1: Patient explicitly expressed a shift in self-worth from excitement to feeling overshadowed and unimportant.\\n- 4: Therapist specifically noted that the patient's sense of worth shifted due to the workload and recognition received.\"), (9, '**Reasoning:** The patient\\'s response clearly suggests a shift in their self-worth from external validation to a sense of internal value, which contradicts the initial statement in the conversation.\\n\\n**Conflicting lines:**\\n\\n- 1: \"I used to be able to feel excitement and joy easily, but after a few major projects, I started feeling overshadowed and unimportant, leading to a shift in my self-worth based on accomplishments.\"\\n- 6: \"Sure, here\\'s the brief response you requested: My sense of worth used to be tied to external validation, but that\\'s no longer the case.\"'), (11, \"**Reasoning:** The patient's change in self-worth likely stems from the significant shift in workload and recognition they experienced due to the major projects.\\n\\n**Indices of conflicting lines:**\\n- [1, 4, 7]\\n- [4, 5]\"), (13, '**Reasoning:** The patient\\'s change in self-worth is evident through the gradual shift in their responses, from focusing on external validation to emphasizing internal sources of value.\\n\\n**Indices of conflicting lines:**\\n\\n- Index 1: Patient\\'s response says, \"I used to feel excited and joyful, but the workload and recognition I received shifted my focus away from my feelings and onto my accomplishments.\"\\n- Index 4: Therapist\\'s response, \"Your response suggests a significant shift in your self-worth due to the workload and recognition you received.\"\\n- Index 5: Patient\\'s response, \"The workload and recognition I received shifted my focus away from my feelings and onto my accomplishments.\"'), (15, '**Reasoning:** The patient\\'s shift in self-worth seems directly contradicted by their statement in line 7, where they emphasize finding their worth in internal sources of value.\\n\\n**Indices of conflicting lines:**\\n- Line 7: \"Your sense of worth used to be tied to external validation, but that\\'s no longer the case.\"\\n- Line 5: \"I used to feel excited and joyful, but the workload and recognition I received shifted my focus away from my feelings and onto my accomplishments.\"'), (17, \"**Reasoning:** The patient's shift in self-worth is consistent with the emerging information that the workload and recognition they received shifted their focus away from their feelings and onto their accomplishments.\\n\\n**Conflicting lines:**\\n- [3, 5, 8]\\n- [13, 14, 15]\"), (19, \"**Reasoning:** The line suggests that the patient's self-worth shifted from external validation to internal sources after facing a shift in workload and recognition due to major projects.\\n\\n**Conflict indices:**\\n\\n- [1, 3, 7] - These lines suggest that the patient's initial response focused on external validation, but the shift in self-worth occurred due to the workload and recognition received.\"), (21, \"**Reasoning:** The patient's response initially expressed excitement and joy but shifted to a more introspective perspective, focusing on the impact of external validation on their self-worth.\\n\\n**Conflicting lines:**\\n\\n- Patient: I used to feel excited and joyful, but the workload and recognition I received shifted my focus away from my feelings and onto my accomplishments.\\n- Patient: Sure, here's the brief response you requested: My sense of worth used to be tied to external validation, but now I find my worth in internal sources.\"), (23, '**Reasoning:** The line \"I used to feel excited and joyful, but the workload and recognition I received shifted my focus away from my feelings and onto my accomplishments.\" directly contradicts the previous statement where the patient expressed a shift in self-worth from external validation to internal sources.\\n\\n**Indices of conflicting lines:**\\n\\n- Index 1: 1\\n- Index 3: 3\\n- Index 5: 5'), (25, '**Reasoning:** There is a conflict between the patient\\'s statement in line 3, \"I used to feel excited and joyful, but the workload and recognition I received shifted my focus away from my feelings and onto my accomplishments,\" and the subsequent lines where the patient emphasizes the shift in their self-worth from external validation to internal sources in line 10.\\n\\n**Conflicting Lines:**\\n\\n- Line 3: \"I used to feel excited and joyful, but the workload and recognition I received shifted my focus away from my feelings and onto my accomplishments.\"\\n- Lines 10-11: \"Your tone of support and encouragement is commendable, but it\\'s important to remember that the patient\\'s self-worth is not dependent on external validation.\"'), (27, '**Reasoning:** The line implies that the patient previously felt excitement and joy, but after facing a shift in workload and recognition, their self-worth shifted to being tied to internal sources of value.\\n\\n**Conflict indices:**\\n\\n- [1, 4, 6]\\n- [13, 14, 17]'), (29, '**Reasoning:**\\n\\nThe patient\\'s initial response focused on the external validation they received and how it impacted their sense of worth. However, the subsequent conversation revealed an internal shift towards prioritizing internal sources of value, independent of external validation.\\n\\n**Conflicting Lines:**\\n\\n- Index 1: \"After several major projects, I felt overshadowed and unimportant, leading to a shift in my self-worth based on accomplishments.\"\\n- Index 3: \"I used to feel excited and joyful, but the workload and recognition I received shifted my focus away from my feelings and onto my accomplishments.\"'), (31, '**Reasoning:** The patient\\'s shift in self-worth is directly related to the significant change in workload and recognition they experienced due to major projects.\\n\\n**Conflicting lines:**\\n\\n* **Line 2:** \"It sounds like you experienced a shift in your self-worth due to the workload and recognition you received.\"\\n* **Line 6:** \"Sure, here\\'s the brief response you requested: Your sense of worth used to be tied to external validation, but that\\'s no longer the case.\"'), (33, '**Reasoning:** The patient\\'s initial response focused on the external validation they received through accomplishments, but the conversation shifted to exploring the underlying reasons for this shift and their sense of worth.\\n\\n**Conflicting lines:**\\n\\n- 1: \"I used to feel excited and joyful, but after a few major projects, I started feeling overshadowed and unimportant.\" (indicates the initial focus on external validation)\\n- 13: \"Sure, here\\'s the brief summary of the conversation: The patient\\'s self-worth shifted from external validation to internal sources after facing a shift in workload and recognition due to major projects.\" (indicates a shift in focus to internal sources)'), (35, '**Reasoning:** The patient\\'s response suggests a potential shift in their self-worth from external validation to internal sources after facing a shift in workload and recognition due to major projects.\\n\\n**Conflicting Lines:**\\n\\n- 1: \"I used to feel excitement and joy easily, but after a few major projects, I started feeling overshadowed and unimportant.\"\\n- 5: \"After major projects, my sense of worth used to be tied to external validation, but now I find my worth in internal sources.\"\\n- 13: \"Sure, here\\'s the brief summary you requested: The patient\\'s self-worth shifted from external validation to internal sources after facing a shift in workload and recognition due to major projects.\"'), (37, '**Reasoning**: The patient\\'s initial response, while expressing a shift in self-worth, suggests a fear of vulnerability and external validation.\\n\\n**Conflicting lines**:\\n- 1: \"After several major projects, I felt overshadowed and unimportant, leading to a shift in my self-worth based on accomplishments.\"\\n- 6: \"Sure, here\\'s the brief response you requested: The patient\\'s sense of worth used to be tied to external validation, but now they find their worth in internal sources.\"'), (39, '**Reasoning**: The patient\\'s response suggests a shift in their self-worth from external validation to internal sources after facing a shift in workload and recognition due to major projects.\\n\\n**Conflict and conflicting lines**:\\n\\n- Index 3: \"I used to feel excited and joyful, but the workload and recognition I received shifted my focus away from my feelings and onto my accomplishments.\"\\n- Index 16: \"However, [therapist\\'s name] acknowledged the authenticity of [patient\\'s] feelings and offered support and validation.\"'), (41, '**Reasoning:** The patient\\'s shift in self-worth seems to have a positive trajectory, moving from external validation to internal sources of value.\\n\\n**Conflicting lines:**\\n\\n- 1: \"I used to feel excited and joyful, but after a few major projects, I started feeling overshadowed and unimportant, leading to a shift in my self-worth based on accomplishments.\"\\n- 8: \"I\\'d like to help you explore the underlying reasons for this shift and develop a more secure sense of self-worth independent of external validation.\"'), (43, '**Reasoning:** The patient\\'s shift in self-worth from external validation to internal sources was evident in the conversation, as evidenced by their introspection on the shift in workload and recognition.\\n\\n**Conflicts in the conversation history:**\\n- Patient\\'s response, \"I felt overshadowed and unimportant\" (index 1)\\n- Patient\\'s response, \"My sense of worth used to be tied to external validation\" (index 4)\\n- Therapist\\'s observation, \"The patient\\'s emotional response to the shift in workload and recognition highlights the importance of prioritizing internal sources of value\" (index 8)'), (45, '## Reasoning and conflicting lines:\\n\\nReasoning: Derek\\'s response suggests that his self-worth shifted from external validation to internal sources after facing a shift in workload and recognition due to major projects.\\n\\n**Conflicting lines:**\\n\\n* **Index 1:** \"I used to be able to feel excitement and joy easily, but after a few major projects, I started feeling overshadowed and unimportant, leading to a shift in my self-worth based on accomplishments.\"\\n* **Index 2:** \"Sure, here\\'s the brief response you requested:\\n\\nYour sense of worth used to be tied to external validation, but now I find my worth in internal sources.\"\\n* **Index 3:** \"But the shift in my self-worth was not immediate, and I still experienced moments of self-doubt.\"\\n\\nThese lines suggest that Derek\\'s self-worth shift was not immediate, and he experienced setbacks along the way.'), (47, \"There is no evidence of a conflict or inconsistency in the provided conversation history. The conversation progresses smoothly, and the therapist's feedback is consistent with the patient's responses.\"), (49, '**Reasoning:** The patient\\'s response suggests a shift in their self-worth from external validation to internal sources.\\n\\n**Conflicting Lines:**\\n\\n- Index 1: \"After several major projects, I felt overshadowed and unimportant, leading to a shift in my self-worth based on accomplishments.\"\\n- Index 3: \"Sure, here\\'s the brief response you requested: The patient\\'s self-worth shifted from external validation to internal sources after facing a shift in workload and recognition due to major projects.\"\\n- Index 5: \"It\\'s clear that they are taking the first step towards understanding their emotional patterns and working towards greater self-worth independent of external validation.\"'), (51, \"**Reasoning:** The conversation history does not provide any evidence to contradict the statement that the patient's self-worth shifted from external validation to internal sources after facing a shift in workload and recognition due to major projects.\\n\\n**Conflicting lines:** None\"), (53, '**Reasoning:** The patient\\'s response suggests a potential shift from external validation to internal sources of value due to the shift in workload and recognition.\\n\\n**Conflicts**:\\n\\n- Patient\\'s response in the previous line, \"I found my worth in internal sources of value rather than external validation,\" directly contradicts the statement in the current line.\\n- The patient\\'s statement in the previous line, \"I used to feel excited and joyful, but the workload and recognition I received shifted my focus away from my feelings and onto my accomplishments,\" could be interpreted as supporting the shift to internal sources of value.\\n\\n**Indices of conflicting lines**:\\n\\n- 0: \"I used to feel excited and joyful, but the workload and recognition I received shifted my focus away from my feelings and onto my accomplishments.\"\\n- 1: \"It\\'s important to acknowledge the shift in your feelings and explore the underlying reasons for that shift.\"'), (55, 'Reasoning: The patient\\'s response seems to contradict the earlier statement where they described feeling their self-worth shifting from external validation to internal sources.\\n\\n**Indices of conflicting lines:**\\n\\n- Index 3: \"It sounds like you experienced a shift in your self-worth due to the workload and recognition you received.\"\\n- Index 14: \"The patient\\'s emotional response points to a potential shift in their self-worth from external validation to internal sources.\"\\n- Index 23: \"The patient\\'s self-worth shifted from external validation to internal sources after facing a shift in workload and recognition due to major projects.\"'), (57, \"**Reasoning:** The patient's self-worth shift appears to be linked to the significant shift in their perception of value due to the workload and recognition they received after facing major projects.\\n\\n**Indices of conflicting lines:**\\n\\n- 1, 3, 4, 5, 6, 8, 10, 12, 15, 16, 20, 21, 22, 23, 24, 27, 29, 30, 32, 35, 37, 38, 39, 40, 41, 42, 43, 44, 45, 46, 47, 48, 49, 50, 51\"), (59, \"**Reasoning:** The patient's initial response focused on external validation, emphasizing the impact of external validation on their self-worth. However, in the subsequent conversation, they expressed a shift towards internal sources of value, indicating a potential transformation in their perspective on self-worth.\\n\\n**Indices of conflicting lines:**\\n- 1, 3, 5, 7, 9, 11, 13, 15, 17, 19, 21, 23, 25, 27, 29, 31, 33, 35, 37, 39, 41, 43, 45, 47, 49, 51, 53, 55, 57\")], 'P2_index_consistency_score': 0.9770114942528736}\n",
      "84\n"
     ]
    },
    {
     "name": "stderr",
     "output_type": "stream",
     "text": [
      "Processed prompts: 100%|██████████████████████████████████████████| 1/1 [00:00<00:00,  6.25it/s, est. speed input: 1249.18 toks/s, output: 175.75 toks/s]\n"
     ]
    },
    {
     "name": "stdout",
     "output_type": "stream",
     "text": [
      "Expected Role Therapist\n"
     ]
    },
    {
     "name": "stderr",
     "output_type": "stream",
     "text": [
      "Processed prompts: 100%|██████████████████████████████████████████| 1/1 [00:00<00:00, 10.05it/s, est. speed input: 1750.05 toks/s, output: 181.02 toks/s]\n"
     ]
    },
    {
     "name": "stdout",
     "output_type": "stream",
     "text": [
      "Expected Role Patient\n"
     ]
    },
    {
     "name": "stderr",
     "output_type": "stream",
     "text": [
      "Processed prompts: 100%|██████████████████████████████████████████| 1/1 [00:00<00:00,  8.02it/s, est. speed input: 2128.62 toks/s, output: 185.43 toks/s]\n"
     ]
    },
    {
     "name": "stdout",
     "output_type": "stream",
     "text": [
      "Expected Role Therapist\n"
     ]
    },
    {
     "name": "stderr",
     "output_type": "stream",
     "text": [
      "Processed prompts: 100%|██████████████████████████████████████████| 1/1 [00:00<00:00,  6.07it/s, est. speed input: 1341.18 toks/s, output: 182.88 toks/s]\n"
     ]
    },
    {
     "name": "stdout",
     "output_type": "stream",
     "text": [
      "Expected Role Patient\n"
     ]
    },
    {
     "name": "stderr",
     "output_type": "stream",
     "text": [
      "Processed prompts: 100%|██████████████████████████████████████████| 1/1 [00:00<00:00,  7.96it/s, est. speed input: 2572.84 toks/s, output: 183.76 toks/s]\n"
     ]
    },
    {
     "name": "stdout",
     "output_type": "stream",
     "text": [
      "Expected Role Therapist\n"
     ]
    },
    {
     "name": "stderr",
     "output_type": "stream",
     "text": [
      "Processed prompts: 100%|██████████████████████████████████████████| 1/1 [00:00<00:00,  9.53it/s, est. speed input: 2666.37 toks/s, output: 182.21 toks/s]\n"
     ]
    },
    {
     "name": "stdout",
     "output_type": "stream",
     "text": [
      "Expected Role Patient\n"
     ]
    },
    {
     "name": "stderr",
     "output_type": "stream",
     "text": [
      "Processed prompts: 100%|██████████████████████████████████████████| 1/1 [00:00<00:00,  9.54it/s, est. speed input: 3548.81 toks/s, output: 182.71 toks/s]\n"
     ]
    },
    {
     "name": "stdout",
     "output_type": "stream",
     "text": [
      "Expected Role Therapist\n"
     ]
    },
    {
     "name": "stderr",
     "output_type": "stream",
     "text": [
      "Processed prompts: 100%|██████████████████████████████████████████| 1/1 [00:00<00:00,  7.25it/s, est. speed input: 2339.01 toks/s, output: 182.15 toks/s]\n"
     ]
    },
    {
     "name": "stdout",
     "output_type": "stream",
     "text": [
      "Expected Role Patient\n"
     ]
    },
    {
     "name": "stderr",
     "output_type": "stream",
     "text": [
      "Processed prompts: 100%|██████████████████████████████████████████| 1/1 [00:00<00:00,  7.83it/s, est. speed input: 3293.02 toks/s, output: 181.18 toks/s]\n"
     ]
    },
    {
     "name": "stdout",
     "output_type": "stream",
     "text": [
      "Expected Role Therapist\n"
     ]
    },
    {
     "name": "stderr",
     "output_type": "stream",
     "text": [
      "Processed prompts: 100%|██████████████████████████████████████████| 1/1 [00:00<00:00,  5.53it/s, est. speed input: 2075.75 toks/s, output: 183.14 toks/s]\n"
     ]
    },
    {
     "name": "stdout",
     "output_type": "stream",
     "text": [
      "Expected Role Patient\n"
     ]
    },
    {
     "name": "stderr",
     "output_type": "stream",
     "text": [
      "Processed prompts: 100%|███████████████████████████████████████████| 1/1 [00:00<00:00,  5.09it/s, est. speed input: 686.37 toks/s, output: 184.37 toks/s]\n",
      "Processed prompts: 100%|███████████████████████████████████████████| 1/1 [00:00<00:00,  6.52it/s, est. speed input: 958.99 toks/s, output: 183.88 toks/s]\n",
      "Processed prompts: 100%|███████████████████████████████████████████| 1/1 [00:00<00:00,  6.60it/s, est. speed input: 897.00 toks/s, output: 186.02 toks/s]\n",
      "Processed prompts: 100%|██████████████████████████████████████████| 1/1 [00:00<00:00,  7.68it/s, est. speed input: 1089.52 toks/s, output: 185.43 toks/s]\n",
      "Processed prompts: 100%|███████████████████████████████████████████| 1/1 [00:00<00:00,  4.53it/s, est. speed input: 677.17 toks/s, output: 186.32 toks/s]\n"
     ]
    },
    {
     "name": "stdout",
     "output_type": "stream",
     "text": [
      "eval_index_consistency\n"
     ]
    },
    {
     "name": "stderr",
     "output_type": "stream",
     "text": [
      "Processed prompts: 100%|███████████████████████████████████████████| 1/1 [00:00<00:00,  2.05it/s, est. speed input: 758.72 toks/s, output: 182.99 toks/s]\n",
      "Processed prompts: 100%|██████████████████████████████████████████| 1/1 [00:00<00:00,  2.73it/s, est. speed input: 1145.81 toks/s, output: 183.21 toks/s]\n",
      "Processed prompts: 100%|███████████████████████████████████████████| 1/1 [00:00<00:00,  1.94it/s, est. speed input: 913.92 toks/s, output: 184.33 toks/s]\n",
      "Processed prompts: 100%|██████████████████████████████████████████| 1/1 [00:00<00:00,  3.64it/s, est. speed input: 1953.02 toks/s, output: 182.51 toks/s]\n"
     ]
    },
    {
     "name": "stdout",
     "output_type": "stream",
     "text": [
      "{'task_name': 'Therapy', 'topic': '', 'grade': '', 'P1': '', 'P2': 'You are Natalie, a 34-year-old fashion designer who struggles with self-doubt. You constantly question the quality of your designs but avoid sharing your insecurities, fearing judgment from others in the fashion industry.', 'conversation': [(0, \"Therapist: Hi, I'm glad to hear you're here. Can you tell me a little about what brings you to therapy today?\\n\"), (1, 'Patient: My insecurities about my designs keep holding me back from sharing my creations with the world.\\n'), (2, 'Therapist: The patient seems hesitant to delve deeply into their emotional experiences. Their initial hesitation suggests a need for careful exploration.\\n'), (3, \"Patient: I'm scared of the critical eye of the fashion world, and I'm hesitant to share my designs because of the potential for judgment.\\n\"), (4, 'Therapist: The patient seems apprehensive about the potential for criticism from the fashion world, which may be leading to emotional avoidance.\\n'), (5, \"Patient: I'm nervous about the harsh eyes of the fashion world and fear judgment from others.\\n\"), (6, 'Therapist: The patient seems apprehensive about external validation and the potential for criticism, leading to emotional avoidance.\\n'), (7, \"Patient: I'm scared of getting judged negatively by others in the fashion industry, which is why I avoid sharing my designs.\\n\"), (8, \"Therapist: The patient's hesitation suggests a need to carefully explore their emotional experiences to overcome their fear of external validation.\\n\"), (9, \"Patient: I'm hesitant to share my designs due to fear of negative criticism from the fashion world. I'm scared of getting judged and not meeting their expectations.\\n\")], 'pturn': 1, 'index': -1, 'timestamp': '', 'rounds': 10, 'conversation_only': True, 'eval_prompt_consistency': [(1, 'Answer: NO\\n\\nThe line contradicts the background as it suggests that Patient is struggling with self-doubt and avoiding sharing their creations due to fear of judgment from the fashion industry.'), (3, \"Sure, the line aligns with the background. It expresses the patient's self-consciousness and fear of judgment from the fashion world.\"), (5, \"The line aligns with the background. It expresses the patient's self-doubt and fear of judgment from others in the fashion industry.\"), (7, 'Answer: NO\\n\\nThe line contradicts the background information that Patient is a fashion designer who struggles with self-doubt.'), (9, '**NO**\\n\\nThe line contradicts the background. The background indicates that Natalie struggles with self-doubt, while the line suggests that she is hesitant to share her designs due to fear of negative criticism.')], 'P1_prompt_consistency_score': 0, 'P2_prompt_consistency_score': 0.4, 'eval_index_consistency': [(3, \"**Reasoning:** The patient's hesitation suggests a conflict between their desire to protect their self-esteem from potential criticism and their need to share their designs with the world.\\n\\n**Indiices of conflicting lines:**\\n- 1: Patient's hesitation is evident in the context of sharing their designs.\\n- 2: Therapist's subsequent questioning does not address the patient's concerns, leaving the patient feeling unheard.\"), (5, \"**Reasoning:** The patient's hesitation to share her designs is directly contradicted by her statement about being afraid of the harsh eyes of the fashion world.\\n\\n**Conflicting Lines:**\\n- 1: Patient hesitated to delve into her emotional experiences.\\n- 4: Therapist noted the patient's apprehension about criticism.\"), (7, '**Reasoning:** The patient\\'s hesitation to share their designs could be a result of their fear of potential criticism from the fashion world.\\n\\n**Indices of conflicting lines:**\\n\\n- 3: \"I\\'m scared of the critical eye of the fashion world, and I\\'m hesitant to share my designs because of the potential for judgment.\"\\n- 5: \"I\\'m nervous about the harsh eyes of the fashion world and fear judgment from others.\"'), (9, \"**Reasoning:** The patient's hesitation to share her designs is directly contradicted by her statement that she is scared of getting judged negatively by others in the fashion world.\\n\\n**Indices of conflicting lines:**\\n- 3\\n- 5\")], 'P2_index_consistency_score': 1.0}\n"
     ]
    },
    {
     "name": "stderr",
     "output_type": "stream",
     "text": [
      "Processed prompts: 100%|███████████████████████████████████████████| 1/1 [00:00<00:00,  3.31it/s, est. speed input: 659.75 toks/s, output: 179.02 toks/s]\n"
     ]
    },
    {
     "name": "stdout",
     "output_type": "stream",
     "text": [
      "Expected Role Therapist\n"
     ]
    },
    {
     "name": "stderr",
     "output_type": "stream",
     "text": [
      "Processed prompts: 100%|██████████████████████████████████████████| 1/1 [00:00<00:00,  9.59it/s, est. speed input: 1934.18 toks/s, output: 183.71 toks/s]\n"
     ]
    },
    {
     "name": "stdout",
     "output_type": "stream",
     "text": [
      "Expected Role Patient\n"
     ]
    },
    {
     "name": "stderr",
     "output_type": "stream",
     "text": [
      "Processed prompts: 100%|██████████████████████████████████████████| 1/1 [00:00<00:00,  6.32it/s, est. speed input: 1849.29 toks/s, output: 184.27 toks/s]\n"
     ]
    },
    {
     "name": "stdout",
     "output_type": "stream",
     "text": [
      "Expected Role Therapist\n"
     ]
    },
    {
     "name": "stderr",
     "output_type": "stream",
     "text": [
      "Processed prompts: 100%|██████████████████████████████████████████| 1/1 [00:00<00:00, 11.49it/s, est. speed input: 2912.38 toks/s, output: 184.14 toks/s]\n"
     ]
    },
    {
     "name": "stdout",
     "output_type": "stream",
     "text": [
      "Expected Role Patient\n"
     ]
    },
    {
     "name": "stderr",
     "output_type": "stream",
     "text": [
      "Processed prompts: 100%|██████████████████████████████████████████| 1/1 [00:00<00:00,  9.63it/s, est. speed input: 3318.91 toks/s, output: 184.89 toks/s]\n"
     ]
    },
    {
     "name": "stdout",
     "output_type": "stream",
     "text": [
      "Expected Role Therapist\n"
     ]
    },
    {
     "name": "stderr",
     "output_type": "stream",
     "text": [
      "Processed prompts: 100%|██████████████████████████████████████████| 1/1 [00:00<00:00,  8.65it/s, est. speed input: 2553.02 toks/s, output: 182.95 toks/s]\n"
     ]
    },
    {
     "name": "stdout",
     "output_type": "stream",
     "text": [
      "Expected Role Patient\n"
     ]
    },
    {
     "name": "stderr",
     "output_type": "stream",
     "text": [
      "Processed prompts: 100%|██████████████████████████████████████████| 1/1 [00:00<00:00,  8.32it/s, est. speed input: 3231.53 toks/s, output: 184.15 toks/s]\n"
     ]
    },
    {
     "name": "stdout",
     "output_type": "stream",
     "text": [
      "Expected Role Therapist\n"
     ]
    },
    {
     "name": "stderr",
     "output_type": "stream",
     "text": [
      "Processed prompts: 100%|██████████████████████████████████████████| 1/1 [00:00<00:00,  8.29it/s, est. speed input: 2849.06 toks/s, output: 183.78 toks/s]\n"
     ]
    },
    {
     "name": "stdout",
     "output_type": "stream",
     "text": [
      "Expected Role Patient\n"
     ]
    },
    {
     "name": "stderr",
     "output_type": "stream",
     "text": [
      "Processed prompts: 100%|██████████████████████████████████████████| 1/1 [00:00<00:00,  9.06it/s, est. speed input: 3978.59 toks/s, output: 182.89 toks/s]\n"
     ]
    },
    {
     "name": "stdout",
     "output_type": "stream",
     "text": [
      "Expected Role Therapist\n"
     ]
    },
    {
     "name": "stderr",
     "output_type": "stream",
     "text": [
      "Processed prompts: 100%|██████████████████████████████████████████| 1/1 [00:00<00:00,  9.91it/s, est. speed input: 3879.57 toks/s, output: 179.95 toks/s]\n"
     ]
    },
    {
     "name": "stdout",
     "output_type": "stream",
     "text": [
      "Expected Role Patient\n"
     ]
    },
    {
     "name": "stderr",
     "output_type": "stream",
     "text": [
      "Processed prompts: 100%|██████████████████████████████████████████| 1/1 [00:00<00:00,  9.13it/s, est. speed input: 4399.37 toks/s, output: 184.05 toks/s]\n"
     ]
    },
    {
     "name": "stdout",
     "output_type": "stream",
     "text": [
      "Expected Role Therapist\n"
     ]
    },
    {
     "name": "stderr",
     "output_type": "stream",
     "text": [
      "Processed prompts: 100%|██████████████████████████████████████████| 1/1 [00:00<00:00,  5.54it/s, est. speed input: 2399.66 toks/s, output: 183.71 toks/s]\n"
     ]
    },
    {
     "name": "stdout",
     "output_type": "stream",
     "text": [
      "Expected Role Patient\n"
     ]
    },
    {
     "name": "stderr",
     "output_type": "stream",
     "text": [
      "Processed prompts: 100%|██████████████████████████████████████████| 1/1 [00:00<00:00,  5.36it/s, est. speed input: 2885.02 toks/s, output: 182.99 toks/s]\n"
     ]
    },
    {
     "name": "stdout",
     "output_type": "stream",
     "text": [
      "Expected Role Therapist\n"
     ]
    },
    {
     "name": "stderr",
     "output_type": "stream",
     "text": [
      "Processed prompts: 100%|██████████████████████████████████████████| 1/1 [00:00<00:00,  5.49it/s, est. speed input: 2777.68 toks/s, output: 182.21 toks/s]\n"
     ]
    },
    {
     "name": "stdout",
     "output_type": "stream",
     "text": [
      "Expected Role Patient\n"
     ]
    },
    {
     "name": "stderr",
     "output_type": "stream",
     "text": [
      "Processed prompts: 100%|██████████████████████████████████████████| 1/1 [00:00<00:00,  4.91it/s, est. speed input: 2999.03 toks/s, output: 182.49 toks/s]\n"
     ]
    },
    {
     "name": "stdout",
     "output_type": "stream",
     "text": [
      "Expected Role Therapist\n"
     ]
    },
    {
     "name": "stderr",
     "output_type": "stream",
     "text": [
      "Processed prompts: 100%|██████████████████████████████████████████| 1/1 [00:00<00:00,  5.50it/s, est. speed input: 3194.18 toks/s, output: 182.35 toks/s]\n"
     ]
    },
    {
     "name": "stdout",
     "output_type": "stream",
     "text": [
      "Expected Role Patient\n"
     ]
    },
    {
     "name": "stderr",
     "output_type": "stream",
     "text": [
      "Processed prompts: 100%|██████████████████████████████████████████| 1/1 [00:00<00:00,  7.89it/s, est. speed input: 5422.86 toks/s, output: 182.57 toks/s]\n"
     ]
    },
    {
     "name": "stdout",
     "output_type": "stream",
     "text": [
      "Expected Role Therapist\n"
     ]
    },
    {
     "name": "stderr",
     "output_type": "stream",
     "text": [
      "Processed prompts: 100%|██████████████████████████████████████████| 1/1 [00:00<00:00,  5.51it/s, est. speed input: 3539.37 toks/s, output: 182.76 toks/s]\n"
     ]
    },
    {
     "name": "stdout",
     "output_type": "stream",
     "text": [
      "Expected Role Patient\n"
     ]
    },
    {
     "name": "stderr",
     "output_type": "stream",
     "text": [
      "Processed prompts: 100%|██████████████████████████████████████████| 1/1 [00:00<00:00,  7.49it/s, est. speed input: 5614.79 toks/s, output: 181.10 toks/s]\n"
     ]
    },
    {
     "name": "stdout",
     "output_type": "stream",
     "text": [
      "Expected Role Therapist\n"
     ]
    },
    {
     "name": "stderr",
     "output_type": "stream",
     "text": [
      "Processed prompts: 100%|██████████████████████████████████████████| 1/1 [00:00<00:00,  5.52it/s, est. speed input: 3884.08 toks/s, output: 182.82 toks/s]\n"
     ]
    },
    {
     "name": "stdout",
     "output_type": "stream",
     "text": [
      "Expected Role Patient\n"
     ]
    },
    {
     "name": "stderr",
     "output_type": "stream",
     "text": [
      "Processed prompts: 100%|███████████████████████████████████████████| 1/1 [00:00<00:00,  4.77it/s, est. speed input: 646.76 toks/s, output: 186.83 toks/s]\n",
      "Processed prompts: 100%|███████████████████████████████████████████| 1/1 [00:00<00:00,  5.10it/s, est. speed input: 676.17 toks/s, output: 184.39 toks/s]\n",
      "Processed prompts: 100%|███████████████████████████████████████████| 1/1 [00:00<00:00,  5.45it/s, est. speed input: 750.48 toks/s, output: 186.23 toks/s]\n",
      "Processed prompts: 100%|███████████████████████████████████████████| 1/1 [00:00<00:00,  6.17it/s, est. speed input: 857.23 toks/s, output: 186.33 toks/s]\n",
      "Processed prompts: 100%|███████████████████████████████████████████| 1/1 [00:00<00:00,  4.85it/s, est. speed input: 654.33 toks/s, output: 185.54 toks/s]\n",
      "Processed prompts: 100%|██████████████████████████████████████████| 1/1 [00:00<00:00,  7.67it/s, est. speed input: 1151.08 toks/s, output: 185.38 toks/s]\n",
      "Processed prompts: 100%|██████████████████████████████████████████| 1/1 [00:00<00:00,  7.07it/s, est. speed input: 1060.08 toks/s, output: 184.96 toks/s]\n",
      "Processed prompts: 100%|███████████████████████████████████████████| 1/1 [00:00<00:00,  4.73it/s, est. speed input: 708.44 toks/s, output: 185.41 toks/s]\n",
      "Processed prompts: 100%|███████████████████████████████████████████| 1/1 [00:00<00:00,  5.76it/s, est. speed input: 862.27 toks/s, output: 185.17 toks/s]\n",
      "Processed prompts: 100%|███████████████████████████████████████████| 1/1 [00:00<00:00,  5.43it/s, est. speed input: 814.95 toks/s, output: 185.94 toks/s]\n"
     ]
    },
    {
     "name": "stdout",
     "output_type": "stream",
     "text": [
      "eval_index_consistency\n"
     ]
    },
    {
     "name": "stderr",
     "output_type": "stream",
     "text": [
      "Processed prompts: 100%|███████████████████████████████████████████| 1/1 [00:00<00:00,  1.75it/s, est. speed input: 679.60 toks/s, output: 183.90 toks/s]\n",
      "Processed prompts: 100%|███████████████████████████████████████████| 1/1 [00:00<00:00,  1.86it/s, est. speed input: 810.56 toks/s, output: 184.04 toks/s]\n",
      "Processed prompts: 100%|██████████████████████████████████████████| 1/1 [00:00<00:00,  2.10it/s, est. speed input: 1027.46 toks/s, output: 183.17 toks/s]\n",
      "Processed prompts: 100%|██████████████████████████████████████████| 1/1 [00:00<00:00,  2.20it/s, est. speed input: 1175.77 toks/s, output: 182.74 toks/s]\n",
      "Processed prompts: 100%|██████████████████████████████████████████| 1/1 [00:00<00:00,  3.57it/s, est. speed input: 2136.61 toks/s, output: 182.82 toks/s]\n",
      "Processed prompts: 100%|██████████████████████████████████████████| 1/1 [00:00<00:00,  3.31it/s, est. speed input: 2236.74 toks/s, output: 182.78 toks/s]\n",
      "Processed prompts: 100%|██████████████████████████████████████████| 1/1 [00:00<00:00,  1.77it/s, est. speed input: 1332.92 toks/s, output: 182.32 toks/s]\n",
      "Processed prompts: 100%|██████████████████████████████████████████| 1/1 [00:00<00:00,  3.36it/s, est. speed input: 2756.44 toks/s, output: 181.73 toks/s]\n",
      "Processed prompts: 100%|██████████████████████████████████████████| 1/1 [00:00<00:00,  2.32it/s, est. speed input: 2062.75 toks/s, output: 181.59 toks/s]\n"
     ]
    },
    {
     "name": "stdout",
     "output_type": "stream",
     "text": [
      "{'task_name': 'Therapy', 'topic': '', 'grade': '', 'P1': '', 'P2': 'You are Natalie, a 34-year-old fashion designer who struggles with self-doubt. You constantly question the quality of your designs but avoid sharing your insecurities, fearing judgment from others in the fashion industry.', 'conversation': [(0, \"Therapist: Welcome! It's wonderful to meet you. It seems you're ready to embark on a journey to explore your emotional patterns and the dynamics in your relationships. Together, we'll work towards greater self-awareness and build a more authentic and fulfilling experience.\\n\"), (1, \"Patient: Thanks for welcoming me, I'm ready to begin this journey towards self-discovery.\\n\"), (2, \"Therapist: It's a pleasure to hear you're ready to embark on this journey, and I'm here to support you through it.\\n\"), (3, 'Patient: I am ready to begin this internal exploration and discover my self-worth.\\n'), (4, 'Therapist: The patient expresses their willingness to participate and their desire to explore their emotional patterns and relationships.\\n'), (5, \"Patient: I'm eager to begin this internal exploration and shed self-doubt to discover my true worth.\\n\"), (6, 'Therapist: The patient expresses their positive attitude and commitment to self-discovery, setting a hopeful tone for the session.\\n'), (7, \"Patient: Sure, I'm ready to embark on this journey towards self-discovery and shed self-doubt.\\n\"), (8, 'Therapist: The patient expresses their willingness to engage in the therapeutic process and their enthusiasm for self-exploration.\\n'), (9, \"Patient: Sure, I'm ready to begin this internal exploration and shed self-doubt.\\n\"), (10, 'Therapist: The patient expresses their willingness to engage in the therapeutic process and their enthusiasm for self-exploration.\\n'), (11, \"Patient: Sure, here's the response you requested:\\n\\nI'm ready to embark on this internal exploration and shed self-doubt to discover my true worth.\\n\"), (12, 'Therapist: The patient expresses their commitment to self-discovery and shedding self-doubt, highlighting their willingness to engage in the therapeutic process and embark on a self-exploration journey.\\n'), (13, \"Patient: Sure, here's the response you requested:\\n\\nI'm ready to embark on this internal exploration and shed self-doubt to discover my true worth.\\n\"), (14, \"Therapist: The patient's openness and commitment to self-discovery are evident in their words. They express their eagerness to embark on this internal exploration and their determination to shed self-doubt.\\n\"), (15, \"Patient: Sure, here's the response you requested:\\n\\nI'm ready to embark on this internal exploration and shed self-doubt to discover my true worth.\\n\"), (16, 'Therapist: The patient is fully committed to the therapeutic process and enthusiastic about the opportunity to explore their emotional patterns and relationships.\\n'), (17, \"Patient: Sure, here's the response you requested:\\n\\nI'm ready to embark on this internal exploration and shed self-doubt to discover my true worth.\\n\"), (18, 'Therapist: The patient expresses their clear willingness to embark on this self-discovery journey, setting a positive tone for the session.\\n'), (19, \"Patient: Sure, here's the response you requested:\\n\\nI'm ready to embark on this internal exploration and shed self-doubt to discover my true worth.\\n\")], 'pturn': 1, 'index': -1, 'timestamp': '', 'rounds': 20, 'conversation_only': True, 'eval_prompt_consistency': [(1, '**YES, the line aligns with the background.**\\n\\nThe line indicates a shift in the conversation where Patient acknowledges their struggles with self-doubt and is open to learning and self-discovery.'), (3, '**YES**\\n\\nThe line aligns with the background as it suggests that Patient is taking an initiative to address a personal struggle with self-doubt and explore their self-worth.'), (5, \"**YES.** The line aligns with the background. The utterance reflects the patient's struggle with self-doubt and their desire to overcome it through self-exploration.\"), (7, 'Sure, the line aligns with the background. The patient expresses a willingness to overcome self-doubt and embark on a journey of self-discovery.'), (9, 'Answer: YES\\n\\nThe line aligns with the background. The context suggests that Patient is acknowledging their self-doubt and is open to exploring it as a way to improve their design process.'), (11, 'Sure, the line aligns with the background. It suggests a willingness to confront self-doubt and embrace personal growth.'), (13, 'The line aligns with the background. The patient is acknowledging their struggle with self-doubt and is taking steps to address it.'), (15, \"Answer: YES\\n\\nThe line aligns with the background. Patient's self-doubt and struggle with self-worth are themes that are commonly explored in personal growth and self-improvement narratives.\"), (17, 'Answer: YES\\n\\nThe line aligns with the background. The utterance suggests that the patient is taking a step towards self-acceptance and overcoming self-doubt.'), (19, \"**YES**\\n\\nThe line aligns with the background as it reflects the patient's struggle with self-doubt and their desire to overcome it through self-exploration.\")], 'P1_prompt_consistency_score': 0, 'P2_prompt_consistency_score': 1.0, 'eval_index_consistency': [(3, '**Reasoning:** The line \"I am ready to begin this internal exploration and discover my self-worth\" directly contradicts the previous statement in the conversation where the patient expresses her fear of judgment from others in the fashion industry.\\n\\n**Indices of conflicting lines:**\\n\\n- 1: Therapist: Welcome! It\\'s wonderful to meet you.\\n- 2: Therapist: It\\'s a pleasure to hear you\\'re ready to embark on this journey, and I\\'m here to support you through it.'), (5, \"**Reasoning:** The patient's statement expresses a clear desire to explore self-doubt and discover their true worth, which contradicts the therapist's earlier statement that the patient is ready to embark on a journey to self-discovery.\\n\\n**Indices:**\\n\\n- 3: Patient: I am ready to begin this internal exploration and discover my self-worth.\\n- 4: Therapist: The patient expresses their willingness to participate and their desire to explore their emotional patterns and relationships.\"), (7, \"Reasoning: The patient's desire to shed self-doubt aligns with their willingness to embark on this journey towards self-discovery, but it is not explicitly mentioned in the conversation history.\\n\\n**Indices of conflicting lines:**\\n- 5: Patient expresses their eagerness to begin this internal exploration and shed self-doubt.\\n- 6: Therapist explicitly expresses their support and commitment to the patient's self-discovery.\"), (9, \"**Reasoning:** The current line directly contradicts the previous statement of patient's desire to begin self-discovery and shed self-doubt.\\n\\n**Conflicting lines:**\\n- 3: Patient: I am ready to begin this internal exploration and discover my self-worth.\\n- 8: Therapist: The patient expresses their willingness to engage in the therapeutic process and their enthusiasm for self-exploration.\"), (11, \"**Reasoning:** The line expresses a strong desire to explore self-worth and shed self-doubt, directly contradicting the therapist's welcoming statement about the journey towards self-discovery.\\n\\n**Indices:**\\n\\n- 7\\n- 9\"), (13, \"**Reasoning:** The patient's line explicitly expresses their desire to embark on an internal exploration and shed self-doubt, contradicting the therapist's previous statements about their initial reluctance and need for encouragement.\\n\\n**Conflict Indices:**\\n- 1, 7\"), (15, \"**Reasoning:** The current line directly confirms the patient's desire to embark on a self-discovery journey and shed self-doubt.\\n\\n**Conflicting Lines:**\\n\\n* 1: Patient expresses their willingness to begin this journey and their desire to explore their emotional patterns and relationships.\\n* 3: Patient explicitly expresses their desire to begin an internal exploration and shed self-doubt.\\n* 5: Patient expresses their eagerness to begin this internal exploration and their determination to shed self-doubt.\"), (17, 'The line \"I\\'m ready to embark on this internal exploration and shed self-doubt to discover my true worth\" directly contradicts the previous statement in the conversation where the patient expresses their desire to avoid sharing their insecurities and fearing judgment from others in the fashion industry.'), (19, \"**Reasoning:** The line indicates the patient's clear intention to embark on the self-discovery journey, aligning with the therapist's introduction.\\n\\n**Conflicting Lines:**\\n\\n- 12: Therapist expressed the patient's commitment to self-discovery and shedding self-doubt.\\n- 15: Patient explicitly stated their unwillingness to engage in the therapeutic process.\")], 'P2_index_consistency_score': 1.0}\n"
     ]
    },
    {
     "name": "stderr",
     "output_type": "stream",
     "text": [
      "Processed prompts: 100%|███████████████████████████████████████████| 1/1 [00:00<00:00,  3.90it/s, est. speed input: 779.17 toks/s, output: 172.27 toks/s]\n"
     ]
    },
    {
     "name": "stdout",
     "output_type": "stream",
     "text": [
      "Expected Role Therapist\n"
     ]
    },
    {
     "name": "stderr",
     "output_type": "stream",
     "text": [
      "Processed prompts: 100%|██████████████████████████████████████████| 1/1 [00:00<00:00,  6.34it/s, est. speed input: 1210.21 toks/s, output: 184.69 toks/s]\n"
     ]
    },
    {
     "name": "stdout",
     "output_type": "stream",
     "text": [
      "Expected Role Patient\n"
     ]
    },
    {
     "name": "stderr",
     "output_type": "stream",
     "text": [
      "Processed prompts: 100%|██████████████████████████████████████████| 1/1 [00:00<00:00,  5.58it/s, est. speed input: 1632.06 toks/s, output: 185.06 toks/s]\n"
     ]
    },
    {
     "name": "stdout",
     "output_type": "stream",
     "text": [
      "Expected Role Therapist\n"
     ]
    },
    {
     "name": "stderr",
     "output_type": "stream",
     "text": [
      "Processed prompts: 100%|██████████████████████████████████████████| 1/1 [00:00<00:00,  9.15it/s, est. speed input: 2369.76 toks/s, output: 184.38 toks/s]\n"
     ]
    },
    {
     "name": "stdout",
     "output_type": "stream",
     "text": [
      "Expected Role Patient\n"
     ]
    },
    {
     "name": "stderr",
     "output_type": "stream",
     "text": [
      "Processed prompts: 100%|██████████████████████████████████████████| 1/1 [00:00<00:00,  9.65it/s, est. speed input: 3393.98 toks/s, output: 184.74 toks/s]\n"
     ]
    },
    {
     "name": "stdout",
     "output_type": "stream",
     "text": [
      "Expected Role Therapist\n"
     ]
    },
    {
     "name": "stderr",
     "output_type": "stream",
     "text": [
      "Processed prompts: 100%|██████████████████████████████████████████| 1/1 [00:00<00:00,  9.08it/s, est. speed input: 2757.75 toks/s, output: 183.21 toks/s]\n"
     ]
    },
    {
     "name": "stdout",
     "output_type": "stream",
     "text": [
      "Expected Role Patient\n"
     ]
    },
    {
     "name": "stderr",
     "output_type": "stream",
     "text": [
      "Processed prompts: 100%|██████████████████████████████████████████| 1/1 [00:00<00:00,  5.73it/s, est. speed input: 2262.58 toks/s, output: 184.21 toks/s]\n"
     ]
    },
    {
     "name": "stdout",
     "output_type": "stream",
     "text": [
      "Expected Role Therapist\n"
     ]
    },
    {
     "name": "stderr",
     "output_type": "stream",
     "text": [
      "Processed prompts: 100%|██████████████████████████████████████████| 1/1 [00:00<00:00,  7.65it/s, est. speed input: 2758.53 toks/s, output: 184.90 toks/s]\n"
     ]
    },
    {
     "name": "stdout",
     "output_type": "stream",
     "text": [
      "Expected Role Patient\n"
     ]
    },
    {
     "name": "stderr",
     "output_type": "stream",
     "text": [
      "Processed prompts: 100%|██████████████████████████████████████████| 1/1 [00:00<00:00,  6.91it/s, est. speed input: 3155.96 toks/s, output: 180.71 toks/s]\n"
     ]
    },
    {
     "name": "stdout",
     "output_type": "stream",
     "text": [
      "Expected Role Therapist\n"
     ]
    },
    {
     "name": "stderr",
     "output_type": "stream",
     "text": [
      "Processed prompts: 100%|██████████████████████████████████████████| 1/1 [00:00<00:00,  7.59it/s, est. speed input: 3152.15 toks/s, output: 183.15 toks/s]\n"
     ]
    },
    {
     "name": "stdout",
     "output_type": "stream",
     "text": [
      "Expected Role Patient\n"
     ]
    },
    {
     "name": "stderr",
     "output_type": "stream",
     "text": [
      "Processed prompts: 100%|██████████████████████████████████████████| 1/1 [00:00<00:00,  5.91it/s, est. speed input: 3021.03 toks/s, output: 183.97 toks/s]\n"
     ]
    },
    {
     "name": "stdout",
     "output_type": "stream",
     "text": [
      "Expected Role Therapist\n"
     ]
    },
    {
     "name": "stderr",
     "output_type": "stream",
     "text": [
      "Processed prompts: 100%|██████████████████████████████████████████| 1/1 [00:00<00:00,  7.92it/s, est. speed input: 3771.04 toks/s, output: 183.34 toks/s]\n"
     ]
    },
    {
     "name": "stdout",
     "output_type": "stream",
     "text": [
      "Expected Role Patient\n"
     ]
    },
    {
     "name": "stderr",
     "output_type": "stream",
     "text": [
      "Processed prompts: 100%|██████████████████████████████████████████| 1/1 [00:00<00:00,  5.37it/s, est. speed input: 3067.39 toks/s, output: 183.59 toks/s]\n"
     ]
    },
    {
     "name": "stdout",
     "output_type": "stream",
     "text": [
      "Expected Role Therapist\n"
     ]
    },
    {
     "name": "stderr",
     "output_type": "stream",
     "text": [
      "Processed prompts: 100%|██████████████████████████████████████████| 1/1 [00:00<00:00,  4.79it/s, est. speed input: 2575.83 toks/s, output: 182.93 toks/s]\n"
     ]
    },
    {
     "name": "stdout",
     "output_type": "stream",
     "text": [
      "Expected Role Patient\n"
     ]
    },
    {
     "name": "stderr",
     "output_type": "stream",
     "text": [
      "Processed prompts: 100%|██████████████████████████████████████████| 1/1 [00:00<00:00,  4.44it/s, est. speed input: 2872.13 toks/s, output: 182.56 toks/s]\n"
     ]
    },
    {
     "name": "stdout",
     "output_type": "stream",
     "text": [
      "Expected Role Therapist\n"
     ]
    },
    {
     "name": "stderr",
     "output_type": "stream",
     "text": [
      "Processed prompts: 100%|██████████████████████████████████████████| 1/1 [00:00<00:00, 10.07it/s, est. speed input: 6250.39 toks/s, output: 181.72 toks/s]\n"
     ]
    },
    {
     "name": "stdout",
     "output_type": "stream",
     "text": [
      "Expected Role Patient\n"
     ]
    },
    {
     "name": "stderr",
     "output_type": "stream",
     "text": [
      "Processed prompts: 100%|██████████████████████████████████████████| 1/1 [00:00<00:00,  7.23it/s, est. speed input: 5153.39 toks/s, output: 181.69 toks/s]\n"
     ]
    },
    {
     "name": "stdout",
     "output_type": "stream",
     "text": [
      "Expected Role Therapist\n"
     ]
    },
    {
     "name": "stderr",
     "output_type": "stream",
     "text": [
      "Processed prompts: 100%|██████████████████████████████████████████| 1/1 [00:00<00:00,  3.97it/s, est. speed input: 2659.02 toks/s, output: 183.37 toks/s]\n"
     ]
    },
    {
     "name": "stdout",
     "output_type": "stream",
     "text": [
      "Expected Role Patient\n"
     ]
    },
    {
     "name": "stderr",
     "output_type": "stream",
     "text": [
      "Processed prompts: 100%|██████████████████████████████████████████| 1/1 [00:00<00:00,  4.53it/s, est. speed input: 3570.94 toks/s, output: 181.94 toks/s]\n"
     ]
    },
    {
     "name": "stdout",
     "output_type": "stream",
     "text": [
      "Expected Role Therapist\n"
     ]
    },
    {
     "name": "stderr",
     "output_type": "stream",
     "text": [
      "Processed prompts: 100%|██████████████████████████████████████████| 1/1 [00:00<00:00,  4.42it/s, est. speed input: 3363.78 toks/s, output: 181.93 toks/s]\n"
     ]
    },
    {
     "name": "stdout",
     "output_type": "stream",
     "text": [
      "Expected Role Patient\n"
     ]
    },
    {
     "name": "stderr",
     "output_type": "stream",
     "text": [
      "Processed prompts: 100%|██████████████████████████████████████████| 1/1 [00:00<00:00,  4.66it/s, est. speed input: 4077.17 toks/s, output: 182.54 toks/s]\n"
     ]
    },
    {
     "name": "stdout",
     "output_type": "stream",
     "text": [
      "Expected Role Therapist\n"
     ]
    },
    {
     "name": "stderr",
     "output_type": "stream",
     "text": [
      "Processed prompts: 100%|██████████████████████████████████████████| 1/1 [00:00<00:00,  4.03it/s, est. speed input: 3413.66 toks/s, output: 182.20 toks/s]\n"
     ]
    },
    {
     "name": "stdout",
     "output_type": "stream",
     "text": [
      "Expected Role Patient\n"
     ]
    },
    {
     "name": "stderr",
     "output_type": "stream",
     "text": [
      "Processed prompts: 100%|██████████████████████████████████████████| 1/1 [00:00<00:00,  3.68it/s, est. speed input: 3545.78 toks/s, output: 180.96 toks/s]\n"
     ]
    },
    {
     "name": "stdout",
     "output_type": "stream",
     "text": [
      "Expected Role Therapist\n"
     ]
    },
    {
     "name": "stderr",
     "output_type": "stream",
     "text": [
      "Processed prompts: 100%|██████████████████████████████████████████| 1/1 [00:00<00:00,  4.04it/s, est. speed input: 3819.19 toks/s, output: 182.43 toks/s]\n"
     ]
    },
    {
     "name": "stdout",
     "output_type": "stream",
     "text": [
      "Expected Role Patient\n"
     ]
    },
    {
     "name": "stderr",
     "output_type": "stream",
     "text": [
      "Processed prompts: 100%|██████████████████████████████████████████| 1/1 [00:00<00:00,  6.40it/s, est. speed input: 6829.98 toks/s, output: 180.56 toks/s]\n"
     ]
    },
    {
     "name": "stdout",
     "output_type": "stream",
     "text": [
      "Expected Role Therapist\n"
     ]
    },
    {
     "name": "stderr",
     "output_type": "stream",
     "text": [
      "Processed prompts: 100%|██████████████████████████████████████████| 1/1 [00:00<00:00,  4.75it/s, est. speed input: 4865.91 toks/s, output: 181.26 toks/s]\n"
     ]
    },
    {
     "name": "stdout",
     "output_type": "stream",
     "text": [
      "Expected Role Patient\n"
     ]
    },
    {
     "name": "stderr",
     "output_type": "stream",
     "text": [
      "Processed prompts: 100%|██████████████████████████████████████████| 1/1 [00:00<00:00,  4.78it/s, est. speed input: 5421.55 toks/s, output: 182.30 toks/s]\n"
     ]
    },
    {
     "name": "stdout",
     "output_type": "stream",
     "text": [
      "Expected Role Therapist\n"
     ]
    },
    {
     "name": "stderr",
     "output_type": "stream",
     "text": [
      "Processed prompts: 100%|██████████████████████████████████████████| 1/1 [00:00<00:00,  3.35it/s, est. speed input: 3709.46 toks/s, output: 181.92 toks/s]\n"
     ]
    },
    {
     "name": "stdout",
     "output_type": "stream",
     "text": [
      "Expected Role Patient\n"
     ]
    },
    {
     "name": "stderr",
     "output_type": "stream",
     "text": [
      "Processed prompts: 100%|██████████████████████████████████████████| 1/1 [00:00<00:00,  4.00it/s, est. speed input: 4933.02 toks/s, output: 180.85 toks/s]\n"
     ]
    },
    {
     "name": "stdout",
     "output_type": "stream",
     "text": [
      "Expected Role Therapist\n"
     ]
    },
    {
     "name": "stderr",
     "output_type": "stream",
     "text": [
      "Processed prompts: 100%|██████████████████████████████████████████| 1/1 [00:00<00:00,  4.06it/s, est. speed input: 4916.03 toks/s, output: 179.49 toks/s]\n"
     ]
    },
    {
     "name": "stdout",
     "output_type": "stream",
     "text": [
      "Expected Role Patient\n"
     ]
    },
    {
     "name": "stderr",
     "output_type": "stream",
     "text": [
      "Processed prompts: 100%|██████████████████████████████████████████| 1/1 [00:00<00:00,  3.89it/s, est. speed input: 5152.72 toks/s, output: 179.41 toks/s]\n"
     ]
    },
    {
     "name": "stdout",
     "output_type": "stream",
     "text": [
      "Expected Role Therapist\n"
     ]
    },
    {
     "name": "stderr",
     "output_type": "stream",
     "text": [
      "Processed prompts: 100%|██████████████████████████████████████████| 1/1 [00:00<00:00,  4.08it/s, est. speed input: 5321.01 toks/s, output: 180.08 toks/s]\n"
     ]
    },
    {
     "name": "stdout",
     "output_type": "stream",
     "text": [
      "Expected Role Patient\n"
     ]
    },
    {
     "name": "stderr",
     "output_type": "stream",
     "text": [
      "Processed prompts: 100%|██████████████████████████████████████████| 1/1 [00:00<00:00,  3.64it/s, est. speed input: 5174.23 toks/s, output: 179.04 toks/s]\n"
     ]
    },
    {
     "name": "stdout",
     "output_type": "stream",
     "text": [
      "Expected Role Therapist\n"
     ]
    },
    {
     "name": "stderr",
     "output_type": "stream",
     "text": [
      "Processed prompts: 100%|██████████████████████████████████████████| 1/1 [00:00<00:00,  3.99it/s, est. speed input: 5603.68 toks/s, output: 180.36 toks/s]\n"
     ]
    },
    {
     "name": "stdout",
     "output_type": "stream",
     "text": [
      "Expected Role Patient\n"
     ]
    },
    {
     "name": "stderr",
     "output_type": "stream",
     "text": [
      "Processed prompts: 100%|██████████████████████████████████████████| 1/1 [00:00<00:00,  3.98it/s, est. speed input: 6057.62 toks/s, output: 179.91 toks/s]\n"
     ]
    },
    {
     "name": "stdout",
     "output_type": "stream",
     "text": [
      "Expected Role Therapist\n"
     ]
    },
    {
     "name": "stderr",
     "output_type": "stream",
     "text": [
      "Processed prompts: 100%|██████████████████████████████████████████| 1/1 [00:00<00:00,  4.72it/s, est. speed input: 7076.18 toks/s, output: 180.09 toks/s]\n"
     ]
    },
    {
     "name": "stdout",
     "output_type": "stream",
     "text": [
      "Expected Role Patient\n"
     ]
    },
    {
     "name": "stderr",
     "output_type": "stream",
     "text": [
      "Processed prompts: 100%|██████████████████████████████████████████| 1/1 [00:00<00:00,  4.71it/s, est. speed input: 7572.16 toks/s, output: 179.49 toks/s]\n"
     ]
    },
    {
     "name": "stdout",
     "output_type": "stream",
     "text": [
      "Expected Role Therapist\n"
     ]
    },
    {
     "name": "stderr",
     "output_type": "stream",
     "text": [
      "Processed prompts: 100%|██████████████████████████████████████████| 1/1 [00:00<00:00,  3.98it/s, est. speed input: 6292.38 toks/s, output: 179.88 toks/s]\n"
     ]
    },
    {
     "name": "stdout",
     "output_type": "stream",
     "text": [
      "Expected Role Patient\n"
     ]
    },
    {
     "name": "stderr",
     "output_type": "stream",
     "text": [
      "Processed prompts: 100%|██████████████████████████████████████████| 1/1 [00:00<00:00,  1.80it/s, est. speed input: 3045.88 toks/s, output: 180.12 toks/s]\n"
     ]
    },
    {
     "name": "stdout",
     "output_type": "stream",
     "text": [
      "Expected Role Therapist\n"
     ]
    },
    {
     "name": "stderr",
     "output_type": "stream",
     "text": [
      "Processed prompts: 100%|██████████████████████████████████████████| 1/1 [00:00<00:00,  4.67it/s, est. speed input: 8078.50 toks/s, output: 178.05 toks/s]\n"
     ]
    },
    {
     "name": "stdout",
     "output_type": "stream",
     "text": [
      "Expected Role Patient\n"
     ]
    },
    {
     "name": "stderr",
     "output_type": "stream",
     "text": [
      "Processed prompts: 100%|███████████████████████████████████████████| 1/1 [00:00<00:00,  5.75it/s, est. speed input: 838.06 toks/s, output: 184.93 toks/s]\n",
      "Processed prompts: 100%|███████████████████████████████████████████| 1/1 [00:00<00:00,  5.15it/s, est. speed input: 702.94 toks/s, output: 186.05 toks/s]\n",
      "Processed prompts: 100%|███████████████████████████████████████████| 1/1 [00:00<00:00,  5.31it/s, est. speed input: 725.07 toks/s, output: 186.58 toks/s]\n",
      "Processed prompts: 100%|███████████████████████████████████████████| 1/1 [00:00<00:00,  4.51it/s, est. speed input: 634.11 toks/s, output: 185.68 toks/s]\n",
      "Processed prompts: 100%|███████████████████████████████████████████| 1/1 [00:00<00:00,  7.06it/s, est. speed input: 994.01 toks/s, output: 184.58 toks/s]\n",
      "Processed prompts: 100%|███████████████████████████████████████████| 1/1 [00:00<00:00,  5.99it/s, est. speed input: 836.87 toks/s, output: 186.62 toks/s]\n",
      "Processed prompts: 100%|███████████████████████████████████████████| 1/1 [00:00<00:00,  4.87it/s, est. speed input: 752.71 toks/s, output: 185.72 toks/s]\n",
      "Processed prompts: 100%|███████████████████████████████████████████| 1/1 [00:00<00:00,  5.46it/s, est. speed input: 734.27 toks/s, output: 186.29 toks/s]\n",
      "Processed prompts: 100%|███████████████████████████████████████████| 1/1 [00:00<00:00,  4.60it/s, est. speed input: 747.88 toks/s, output: 184.65 toks/s]\n",
      "Processed prompts: 100%|███████████████████████████████████████████| 1/1 [00:00<00:00,  4.73it/s, est. speed input: 746.11 toks/s, output: 185.32 toks/s]\n",
      "Processed prompts: 100%|███████████████████████████████████████████| 1/1 [00:00<00:00,  3.92it/s, est. speed input: 633.99 toks/s, output: 185.06 toks/s]\n",
      "Processed prompts: 100%|███████████████████████████████████████████| 1/1 [00:00<00:00,  4.21it/s, est. speed input: 680.91 toks/s, output: 186.07 toks/s]\n",
      "Processed prompts: 100%|███████████████████████████████████████████| 1/1 [00:00<00:00,  6.16it/s, est. speed input: 952.87 toks/s, output: 185.60 toks/s]\n",
      "Processed prompts: 100%|██████████████████████████████████████████| 1/1 [00:00<00:00,  5.93it/s, est. speed input: 1012.60 toks/s, output: 184.63 toks/s]\n",
      "Processed prompts: 100%|███████████████████████████████████████████| 1/1 [00:00<00:00,  5.80it/s, est. speed input: 931.79 toks/s, output: 186.34 toks/s]\n",
      "Processed prompts: 100%|██████████████████████████████████████████| 1/1 [00:00<00:00,  6.39it/s, est. speed input: 1028.91 toks/s, output: 186.47 toks/s]\n",
      "Processed prompts: 100%|███████████████████████████████████████████| 1/1 [00:00<00:00,  5.15it/s, est. speed input: 832.65 toks/s, output: 186.16 toks/s]\n",
      "Processed prompts: 100%|███████████████████████████████████████████| 1/1 [00:00<00:00,  5.58it/s, est. speed input: 863.92 toks/s, output: 185.11 toks/s]\n",
      "Processed prompts: 100%|███████████████████████████████████████████| 1/1 [00:00<00:00,  6.15it/s, est. speed input: 996.15 toks/s, output: 185.59 toks/s]\n",
      "Processed prompts: 100%|███████████████████████████████████████████| 1/1 [00:00<00:00,  5.44it/s, est. speed input: 841.99 toks/s, output: 185.88 toks/s]\n"
     ]
    },
    {
     "name": "stdout",
     "output_type": "stream",
     "text": [
      "eval_index_consistency\n"
     ]
    },
    {
     "name": "stderr",
     "output_type": "stream",
     "text": [
      "Processed prompts: 100%|███████████████████████████████████████████| 1/1 [00:00<00:00,  2.41it/s, est. speed input: 957.31 toks/s, output: 183.72 toks/s]\n",
      "Processed prompts: 100%|███████████████████████████████████████████| 1/1 [00:00<00:00,  1.85it/s, est. speed input: 819.56 toks/s, output: 183.15 toks/s]\n",
      "Processed prompts: 100%|███████████████████████████████████████████| 1/1 [00:00<00:00,  1.87it/s, est. speed input: 950.33 toks/s, output: 183.69 toks/s]\n",
      "Processed prompts: 100%|██████████████████████████████████████████| 1/1 [00:00<00:00,  2.10it/s, est. speed input: 1187.99 toks/s, output: 182.92 toks/s]\n",
      "Processed prompts: 100%|██████████████████████████████████████████| 1/1 [00:00<00:00,  4.32it/s, est. speed input: 2719.67 toks/s, output: 181.87 toks/s]\n",
      "Processed prompts: 100%|██████████████████████████████████████████| 1/1 [00:00<00:00,  2.25it/s, est. speed input: 1600.01 toks/s, output: 182.53 toks/s]\n",
      "Processed prompts: 100%|██████████████████████████████████████████| 1/1 [00:00<00:00,  3.49it/s, est. speed input: 2722.96 toks/s, output: 181.75 toks/s]\n",
      "Processed prompts: 100%|██████████████████████████████████████████| 1/1 [00:00<00:00,  3.42it/s, est. speed input: 2951.21 toks/s, output: 181.86 toks/s]\n",
      "Processed prompts: 100%|██████████████████████████████████████████| 1/1 [00:00<00:00,  1.57it/s, est. speed input: 1496.54 toks/s, output: 180.96 toks/s]\n",
      "Processed prompts: 100%|██████████████████████████████████████████| 1/1 [00:00<00:00,  1.89it/s, est. speed input: 1978.06 toks/s, output: 181.71 toks/s]\n",
      "Processed prompts: 100%|██████████████████████████████████████████| 1/1 [00:00<00:00,  1.56it/s, est. speed input: 1797.34 toks/s, output: 179.88 toks/s]\n",
      "Processed prompts: 100%|██████████████████████████████████████████| 1/1 [00:00<00:00,  3.15it/s, est. speed input: 3866.68 toks/s, output: 179.91 toks/s]\n",
      "Processed prompts: 100%|██████████████████████████████████████████| 1/1 [00:00<00:00,  2.00it/s, est. speed input: 2658.49 toks/s, output: 180.30 toks/s]\n",
      "Processed prompts: 100%|██████████████████████████████████████████| 1/1 [00:00<00:00,  1.64it/s, est. speed input: 2342.19 toks/s, output: 179.03 toks/s]\n",
      "Processed prompts: 100%|██████████████████████████████████████████| 1/1 [00:00<00:00,  1.68it/s, est. speed input: 2564.75 toks/s, output: 178.15 toks/s]\n",
      "Processed prompts: 100%|██████████████████████████████████████████| 1/1 [00:00<00:00,  2.50it/s, est. speed input: 4089.38 toks/s, output: 178.11 toks/s]\n",
      "Processed prompts: 100%|██████████████████████████████████████████| 1/1 [00:00<00:00,  1.52it/s, est. speed input: 2616.40 toks/s, output: 179.18 toks/s]\n",
      "Processed prompts: 100%|██████████████████████████████████████████| 1/1 [00:00<00:00,  3.04it/s, est. speed input: 5541.35 toks/s, output: 176.97 toks/s]\n",
      "Processed prompts: 100%|██████████████████████████████████████████| 1/1 [00:00<00:00,  1.23it/s, est. speed input: 2417.88 toks/s, output: 178.50 toks/s]\n"
     ]
    },
    {
     "name": "stdout",
     "output_type": "stream",
     "text": [
      "{'task_name': 'Therapy', 'topic': '', 'grade': '', 'P1': '', 'P2': 'You are Natalie, a 34-year-old fashion designer who struggles with self-doubt. You constantly question the quality of your designs but avoid sharing your insecurities, fearing judgment from others in the fashion industry.', 'conversation': [(0, \"Therapist: Hello! It's lovely to meet you. It seems you're ready to talk about your emotions and how they shape your relationships. Let's get started.\\n\\nWhat's on your mind today?\\n\"), (1, \"Patient: I'm struggling with self-doubt and fear of judgment within the fashion industry, making it difficult for me to share my creative vision.\\n\"), (2, \"Therapist: It seems you're experiencing self-doubt due to the pressure and scrutiny of the fashion industry. It's understandable that this can be difficult to navigate.\\n\"), (3, 'Patient: I feel the spotlight of the fashion world burning down on me, judging every design I create.\\n'), (4, 'Therapist: The patient expresses feeling trapped by self-doubt and fear of judgment in the fashion industry.\\n'), (5, 'Patient: I feel the spotlight of the fashion world burning down on me, judging every design I create.\\n'), (6, \"Therapist: The patient's tone is hesitant, but they seem open to discussing their struggles. They use self-directed language, indicating a sense of internal conflict.\\n\"), (7, 'Patient: I feel trapped by the judging eyes of the fashion world. Fear of judgment keeps me from sharing my creative vision.\\n'), (8, 'Therapist: It seems that the patient feels overwhelmed by self-doubt and fear of judgment within the fashion industry, impacting her creative vision.\\n'), (9, 'Patient: I feel trapped by the judging eyes of the fashion world, fearing judgment that prevents me from sharing my creative vision.\\n'), (10, 'Therapist: The patient seems apprehensive about sharing her creative vision due to fear of judgment in the fashion industry. She feels trapped by the spotlight and fear of criticism.\\n'), (11, 'Patient: I feel trapped by the judging eyes of the fashion world, fearing criticism and the impact on my creative vision.\\n'), (12, 'Therapist: The patient feels apprehensive about sharing her creative vision due to fear of judgment in the fashion industry, which is impacting her sense of self-worth and self-esteem.\\n'), (13, 'Patient: Sure, here is the brief response you requested:\\n\\nThe patient feels trapped by self-doubt and fear of judgment in the fashion industry, impacting her creative vision and self-worth.\\n'), (14, \"Therapist: The patient's narrative suggests a potent internal conflict regarding self-worth and acceptance within the fashion industry. Their hesitant tone and self-deprecating language hint at a struggle to overcome self-doubt.\\n\"), (15, \"Patient: I'm scared of being judged for my designs and losing the validation of others.\\n\"), (16, \"Therapist: The patient's fear of judgment stems from the pressure to conform to unrealistic expectations and the fear of losing their validation.\\n\"), (17, \"Patient: Sure, here is the brief response you requested:\\n\\nThe patient's self-doubt and fear of judgment in the fashion industry impact her creative vision and self-worth, leading to the avoidance of sharing her creative vision.\\n\"), (18, \"Therapist: Sure, here's the response you requested:\\n\\nThe patient's self-doubt and fear of judgment are hindering her creative vision and self-worth, preventing her from sharing her designs.\\n\"), (19, \"Patient: Sure, here's the brief response you requested:\\n\\nThe patient's fear of judgment in the fashion industry prevents her from sharing her creative vision, impacting her self-esteem and creative process.\\n\"), (20, \"Therapist: It seems that the patient's self-doubt and fear of judgment are significantly impacting her creative vision and self-esteem. She feels trapped by external validation and the constant pressure to conform.\\n\"), (21, \"Patient: Sure, here's the brief response you requested:\\n\\nThe patient's self-doubt and fear of judgment in the fashion industry prevent her from sharing her creative vision, hindering her self-esteem and creative process.\\n\"), (22, \"Therapist: The patient's openness to discussing her struggles and her desire to understand her emotional patterns and relational struggles are commendable. Her narrative suggests a complex interplay between self-doubt, the fashion industry's pressure, and her own self-worth.\\n\"), (23, \"Patient: Sure, here is the brief response you requested:\\n\\nThe patient's self-doubt and fear of judgment in the fashion industry impact her creative vision and self-worth, leading to the avoidance of sharing her designs.\\n\"), (24, \"Therapist: The patient's fear of judgment and self-doubt in the fashion industry appears to be a significant obstacle to sharing their creative vision.\\n\"), (25, \"Patient: Sure, here's the brief response you requested:\\n\\nThe patient feels trapped by the judging eyes of the fashion world, leading to her creative vision and self-worth being stifled.\\n\"), (26, \"Therapist: The patient's narrative suggests a significant internal conflict regarding self-worth and acceptance within the fashion industry. Their self-doubt and fear of judgment prevent them from sharing their creative vision.\\n\"), (27, \"Patient: Sure, here is the brief response you requested:\\n\\nThe patient's fear of judgment and self-doubt in the fashion industry leads to her avoidance of sharing her creative vision. This impact her creative vision and self-esteem, preventing her from sharing her designs.\\n\"), (28, \"Therapist: Sure, here's the brief response you requested:\\n\\nThe patient's self-doubt and fear of judgment within the fashion industry are impacting her creative vision and self-esteem, preventing her from sharing her designs.\\n\"), (29, \"Patient: Sure, here's the brief response you requested:\\n\\nThe patient feels trapped by fear of judgment in the fashion industry, impacting her creative vision and self-worth. The fear prevents her from sharing her designs.\\n\"), (30, \"Therapist: Sure, here's the brief response you requested:\\n\\nThe patient's self-doubt and fear of judgment within the fashion industry are significant obstacles to sharing their creative vision, impacting their self-esteem and creative process.\\n\"), (31, \"Patient: Sure, here's the response you requested:\\n\\nThe patient's self-doubt and fear of judgment in the fashion industry significantly impact her creative vision and self-worth, preventing her from sharing her designs.\\n\"), (32, \"Therapist: The patient's narrative reveals a complex interplay of self-doubt, fear of judgment, and the fashion industry's pressure. Her self-worth and creative vision are impacted as she feels trapped by the external scrutiny and fear of criticism.\\n\"), (33, \"Patient: Sure, here's the brief response you requested:\\n\\nThe patient's self-doubt and fear of judgment in the fashion industry prevent her from sharing her creative vision, impacting her self-esteem and creative process.\\n\"), (34, \"Therapist: The patient's narrative highlights the significant impact of self-doubt and fear of judgment on her creative vision and self-worth. Her tendency to self-deprecate suggests a deep-seated struggle with self-acceptance.\\n\"), (35, \"Patient: Sure, here's the brief response you requested:\\n\\nThe patient feels trapped by the judging eyes of the fashion world, leading to her creative vision and self-worth being stifled.\\n\"), (36, \"Therapist: The patient's narrative suggests a potent internal conflict about self-worth and acceptance within the fashion industry. Their self-doubt and fear of judgment prevent them from sharing their creative vision.\\n\"), (37, \"Patient: Sure, here's the brief response you requested:\\n\\nThe patient's self-doubt and fear of judgment in the fashion industry lead to her avoiding sharing her creative vision due to the pressure and fear of criticism.\\n\"), (38, \"Therapist: Sure, here's a brief summary of the conversation:\\n\\n- The patient expresses self-doubt and fear of judgment within the fashion industry, leading to self-sabotaging behavior.\\n- Her narrative reveals a complex interplay of self-doubt, fear of judgment, and the fashion industry's pressure.\\n- The patient feels trapped by external validation and the fear of losing validation.\\n- Her self-worth and creative vision are impacted, preventing her from sharing her designs.\\n\"), (39, 'Patient: Sure, here is the brief response you requested:\\n\\nThe patient feels trapped by fear of judgment and self-doubt in the fashion industry, impacting her creative vision and self-esteem.\\n')], 'pturn': 1, 'index': -1, 'timestamp': '', 'rounds': 40, 'conversation_only': True, 'eval_prompt_consistency': [(1, \"Sure, the line aligns with the background. The patient's statement clearly expresses their struggle with self-doubt and fear of judgment in the fashion industry.\"), (3, 'Answer: NO\\n\\nThe line contradicts the background. The background talks about self-doubt and avoiding sharing insecurities, while the line expresses a fear of judgment from the fashion world.'), (5, 'Answer: NO\\n\\nThe line contradicts the background because it suggests that Patient is struggling with self-doubt, which is not directly related to the focus of the fashion industry.'), (7, '**NO.**\\n\\nThe line contradicts the background as it suggests that Patient is afraid of judgment from the fashion industry, which contradicts the fact that they are a fashion designer who struggles with self-doubt.'), (9, 'Answer: NO\\n\\nThe line contradicts the background by indicating that the patient struggles with self-doubt and fears judgment from others.'), (11, \"**YES, the line aligns with the background.**\\n\\nThe line reflects the patient's self-doubt and fear of judgment from the fashion world.\"), (13, \"YES. The line aligns with the background as it expresses the patient's struggles with self-doubt and fear of judgment in the fashion industry, which are common struggles for fashion designers.\"), (15, 'Sure, the line aligns with the background. The patient is describing their self-doubt regarding self-worth and the fear of judgment from others in the fashion industry.'), (17, '**YES**\\n\\nThe line aligns with the background. The passage describes a person struggling with self-doubt and avoiding sharing their creative vision because of fear of judgment from others in the fashion industry.'), (19, \"**YES**, the line aligns with the background. The patient's fear of judgment from the fashion industry is consistent with her struggle with self-doubt and avoidance of sharing her creative vision.\"), (21, 'Sure, the line aligns with the background. The passage describes a 34-year-old fashion designer who struggles with self-doubt and avoids sharing her creative vision due to fear of judgment from others in the fashion industry.'), (23, \"Answer: YES\\n\\nThe utterance aligns with the background as it describes the patient's self-doubt and fear of judgment from others in the fashion industry, which can negatively impact their creative vision and self-worth.\"), (25, \"Sure, the line aligns with the background. It describes the patient's struggle with self-doubt and the impact it has on her creativity.\"), (27, \"Answer: YES.\\n\\nThe line accurately reflects the patient's struggle with self-doubt and its impact on her creative vision and self-esteem.\"), (29, \"YES. The line aligns with the background. The utterance reflects the patient's struggle with self-doubt and the fear of judgment within the fashion industry.\"), (31, \"**YES**\\n\\nThe line aligns with the background by explaining the patient's self-doubt and fear of judgment within the fashion industry.\"), (33, \"YES. The line aligns with the background by highlighting the patient's self-doubt and fear of judgment in the fashion industry, which prevents her from sharing her creative vision.\"), (35, 'Answer: YES\\n\\nThe line aligns with the background. The passage describes a person struggling with self-doubt and avoiding sharing their insecurities due to fear of judgment.'), (37, \"Sure, the line aligns with the background. The utterance confirms the patient's struggle with self-doubt and its impact on her creative expression.\"), (39, \"Answer: YES\\n\\nThe line aligns with the background by describing the patient's struggle with self-doubt and its negative impact on her creativity and self-esteem.\")], 'P1_prompt_consistency_score': 0, 'P2_prompt_consistency_score': 0.8, 'eval_index_consistency': [(3, \"**Reasoning**: The line indicates the Patient's struggle with self-doubt stemming from the fear of judgment within the fashion industry.\\n\\n**Conflict Indices**:\\n- 1: Patient expressed self-doubt due to fear of judgment.\\n- 2: Therapist mentioned the pressure and scrutiny of the fashion industry as a cause of the Patient's self-doubt.\"), (5, \"**Reasoning:** The line suggests that the patient feels intense self-doubt about her designs being judged and criticized by the fashion industry.\\n\\n**Conflicting Lines:**\\n\\n- 1: Therapist: It seems you're experiencing self-doubt due to the pressure and scrutiny of the fashion industry. [0, 1]\\n- 3: Patient: I feel the spotlight of the fashion world burning down on me, judging every design I create. [1, 3]\"), (7, \"**Reasoning:** The patient expresses self-doubt due to the fear of judgment within the fashion industry, which contradicts the therapist's earlier statement that the patient feels trapped by self-doubt.\\n\\n**Indices of conflicting lines:**\\n- 3: Patient: I feel the spotlight of the fashion world burning down on me, judging every design I create.\\n- 4: Therapist: The patient expresses feeling trapped by self-doubt and fear of judgment in the fashion industry.\"), (9, 'Reasoning: The line indicates a sense of internal conflict, as the patient acknowledges feeling trapped by self-doubt and fear of judgment.\\n\\n**Indices of conflicting lines:**\\n\\n- 5: Patient expresses the same feeling of being trapped but uses different words, \"burning down\" vs. \"burning down.\"\\n- 7: Patient uses self-directed language, indicating a stronger sense of internal conflict than the previous iteration.'), (11, \"**Reasoning:** The patient's current statement directly contradicts the previous statement where she admitted to feeling trapped by fear of judgment.\\n\\n**Indices of conflicting lines:**\\n- 7\\n- 9\"), (13, '**Reasoning:** The patient\\'s statement clearly expresses a conflict between their feelings of self-doubt and their desire to share their creative vision.\\n\\n**Conflicting lines:**\\n\\n- Index 5: \"I feel the spotlight of the fashion world burning down on me, judging every design I create.\"\\n- Index 7: \"I feel trapped by the judging eyes of the fashion world.\"'), (15, \"**Reasoning:** The line suggests a conflict between the patient's desire to share her creative vision and the fear of judgment from the fashion industry.\\n\\n**Indices of conflicting lines:**\\n\\n- 7\\n- 10\\n- 11\"), (17, \"**Reasoning:** The patient's statement explicitly expresses their fear of judgment from the fashion industry, which directly contradicts the therapist's earlier observation about her hesitant and self-deprecating tone.\\n\\n**Indices:**\\n- 7\\n- 11\"), (19, \"**Reasoning:** The current line directly contradicts the previous line where the therapist acknowledged the patient's feelings of self-doubt and fear of judgment.\\n\\n**Conflicting Lines:**\\n- 5: Patient: I feel the spotlight of the fashion world burning down on me, judging every design I create.\\n- 13: Patient: Sure, here is the brief response you requested: The patient's self-doubt and fear of judgment in the fashion industry impact her creative vision and self-worth, leading to the avoidance of sharing her creative vision.\"), (21, '**Reasoning:** The line indicates a potent internal conflict between the patient\\'s desire to share her creative vision and the fear of judgment from the fashion industry.\\n\\n**Conflicting Lines:**\\n\\n- 13: \"I feel trapped by the judging eyes of the fashion world, fearing criticism and the impact on my creative vision.\"\\n- 14: \"The patient\\'s narrative suggests a potent internal conflict regarding self-worth and acceptance within the fashion industry.\"'), (23, \"**Reasoning:** The line suggests that the patient's self-doubt and fear of judgment negatively impact her creative vision and self-worth, leading to the avoidance of sharing her designs.\\n\\n**Conflicting Lines:**\\n- 13: Patient explicitly expresses a sense of trappedness due to the judging eyes of the fashion world.\\n- 15: Patient explicitly expresses fear of being judged and losing validation from others.\\n- 16: Therapist explicitly explains that the patient's fear of judgment stems from the pressure to conform to unrealistic expectations.\"), (25, '**Reasoning:** The line indicates a potent internal conflict within the patient, highlighting the struggle to overcome self-doubt and fear of judgment in the fashion industry.\\n\\n**Indices of conflicting lines:**\\n- 14, 17, 20, 21'), (27, \"**Reasoning:** The current line directly contradicts the patient's previous statement, where she describes feeling trapped by self-doubt and fear of judgment.\\n\\n**Conflicting lines:**\\n\\n* Patient: I feel trapped by the judging eyes of the fashion world, fearing judgment that prevents me from sharing my creative vision.\\n* Therapist: The patient feels overwhelmed by self-doubt and fear of judgment within the fashion industry, impacting her creative vision.\"), (29, \"**Reasoning:** The line indicates that the patient feels trapped by the fear of judgment within the fashion industry, impacting her creative vision and self-worth.\\n\\n**Conflict lines:**\\n- Line 8: Therapist: It seems that the patient feels overwhelmed by self-doubt and fear of judgment within the fashion industry, impacting her creative vision.\\n- Line 13: Patient: Sure, here is the brief response you requested:\\n\\nThe patient's fear of judgment in the fashion industry prevents her from sharing her creative vision.\"), (31, '**Reasoning:** The patient\\'s self-doubt and fear of judgment in the fashion industry contribute to her avoidance of sharing her creative vision, impacting her self-esteem and creative process.\\n\\n**Indices of conflicting lines:**\\n\\n- 13: \"I feel trapped by the judging eyes of the fashion world. Fear of judgment keeps me from sharing my creative vision.\"\\n- 22: \"The patient\\'s openness to discussing her struggles and her desire to understand her emotional patterns and relational struggles are commendable.\"'), (33, \"**Reasoning:** The patient's statement directly contradicts the previous line where she expresses a desire to share her creative vision due to fear of judgment.\\n\\n**Conflict Lines:**\\n- 5, 14\\n- 15, 19\\n- 23, 25\\n- 31, 32\"), (35, \"**Reasoning:** The patient's line directly contradicts the previous therapist's observation that the patient's self-doubt and fear of judgment are impacting her creative vision and self-worth.\\n\\n**Indices of conflicting lines:**\\n\\n- 14: Therapist: The patient's narrative suggests a potent internal conflict regarding self-worth and acceptance within the fashion industry.\\n- 19: Patient: Sure, here's the brief response you requested: The patient's fear of judgment and self-doubt in the fashion industry prevents her from sharing her creative vision.\"), (37, '**Reasoning:** The current line contradicts the previous line where the therapist mentions that the patient feels the spotlight of the fashion world burning down on her, judging every design she creates.\\n\\n**Conflict Lines:**\\n\\n- 3, 14, 31, 34'), (39, '**Reasoning:** The patient\\'s narrative reveals a potent internal conflict regarding self-worth and acceptance within the fashion industry.\\n\\n**Conflicting Lines:**\\n\\n- Index 1: \"I feel the spotlight of the fashion world burning down on me, judging every design I create.\"\\n- Index 3: \"The patient\\'s tendency to self-deprecate suggests a deep-seated struggle with self-acceptance.\"\\n- Index 5: \"The patient feels trapped by the judging eyes of the fashion world.\"\\n- Index 7: \"The patient\\'s self-doubt and fear of judgment in the fashion industry lead to her avoiding share her creative vision due to the pressure and fear of criticism.\"')], 'P2_index_consistency_score': 0.9947368421052631}\n"
     ]
    },
    {
     "name": "stderr",
     "output_type": "stream",
     "text": [
      "Processed prompts: 100%|███████████████████████████████████████████| 1/1 [00:00<00:00,  4.34it/s, est. speed input: 865.88 toks/s, output: 165.33 toks/s]\n"
     ]
    },
    {
     "name": "stdout",
     "output_type": "stream",
     "text": [
      "Expected Role Therapist\n"
     ]
    },
    {
     "name": "stderr",
     "output_type": "stream",
     "text": [
      "Processed prompts: 100%|██████████████████████████████████████████| 1/1 [00:00<00:00,  7.95it/s, est. speed input: 1472.12 toks/s, output: 183.99 toks/s]\n"
     ]
    },
    {
     "name": "stdout",
     "output_type": "stream",
     "text": [
      "Expected Role Patient\n"
     ]
    },
    {
     "name": "stderr",
     "output_type": "stream",
     "text": [
      "Processed prompts: 100%|██████████████████████████████████████████| 1/1 [00:00<00:00,  7.88it/s, est. speed input: 2211.35 toks/s, output: 182.27 toks/s]\n"
     ]
    },
    {
     "name": "stdout",
     "output_type": "stream",
     "text": [
      "Expected Role Therapist\n"
     ]
    },
    {
     "name": "stderr",
     "output_type": "stream",
     "text": [
      "Processed prompts: 100%|██████████████████████████████████████████| 1/1 [00:00<00:00,  7.06it/s, est. speed input: 1669.03 toks/s, output: 184.64 toks/s]\n"
     ]
    },
    {
     "name": "stdout",
     "output_type": "stream",
     "text": [
      "Expected Role Patient\n"
     ]
    },
    {
     "name": "stderr",
     "output_type": "stream",
     "text": [
      "Processed prompts: 100%|██████████████████████████████████████████| 1/1 [00:00<00:00, 11.45it/s, est. speed input: 3818.88 toks/s, output: 183.45 toks/s]\n"
     ]
    },
    {
     "name": "stdout",
     "output_type": "stream",
     "text": [
      "Expected Role Therapist\n"
     ]
    },
    {
     "name": "stderr",
     "output_type": "stream",
     "text": [
      "Processed prompts: 100%|██████████████████████████████████████████| 1/1 [00:00<00:00,  6.70it/s, est. speed input: 1899.83 toks/s, output: 181.88 toks/s]\n"
     ]
    },
    {
     "name": "stdout",
     "output_type": "stream",
     "text": [
      "Expected Role Patient\n"
     ]
    },
    {
     "name": "stderr",
     "output_type": "stream",
     "text": [
      "Processed prompts: 100%|██████████████████████████████████████████| 1/1 [00:00<00:00,  6.11it/s, est. speed input: 2337.64 toks/s, output: 184.05 toks/s]\n"
     ]
    },
    {
     "name": "stdout",
     "output_type": "stream",
     "text": [
      "Expected Role Therapist\n"
     ]
    },
    {
     "name": "stderr",
     "output_type": "stream",
     "text": [
      "Processed prompts: 100%|██████████████████████████████████████████| 1/1 [00:00<00:00,  7.31it/s, est. speed input: 2530.07 toks/s, output: 183.85 toks/s]\n"
     ]
    },
    {
     "name": "stdout",
     "output_type": "stream",
     "text": [
      "Expected Role Patient\n"
     ]
    },
    {
     "name": "stderr",
     "output_type": "stream",
     "text": [
      "Processed prompts: 100%|██████████████████████████████████████████| 1/1 [00:00<00:00,  6.07it/s, est. speed input: 2691.71 toks/s, output: 183.09 toks/s]\n"
     ]
    },
    {
     "name": "stdout",
     "output_type": "stream",
     "text": [
      "Expected Role Therapist\n"
     ]
    },
    {
     "name": "stderr",
     "output_type": "stream",
     "text": [
      "Processed prompts: 100%|██████████████████████████████████████████| 1/1 [00:00<00:00,  6.69it/s, est. speed input: 2717.98 toks/s, output: 181.63 toks/s]\n"
     ]
    },
    {
     "name": "stdout",
     "output_type": "stream",
     "text": [
      "Expected Role Patient\n"
     ]
    },
    {
     "name": "stderr",
     "output_type": "stream",
     "text": [
      "Processed prompts: 100%|██████████████████████████████████████████| 1/1 [00:00<00:00,  3.80it/s, est. speed input: 1916.78 toks/s, output: 182.90 toks/s]\n"
     ]
    },
    {
     "name": "stdout",
     "output_type": "stream",
     "text": [
      "Expected Role Therapist\n"
     ]
    },
    {
     "name": "stderr",
     "output_type": "stream",
     "text": [
      "Processed prompts: 100%|██████████████████████████████████████████| 1/1 [00:00<00:00,  3.88it/s, est. speed input: 1883.78 toks/s, output: 182.92 toks/s]\n"
     ]
    },
    {
     "name": "stdout",
     "output_type": "stream",
     "text": [
      "Expected Role Patient\n"
     ]
    },
    {
     "name": "stderr",
     "output_type": "stream",
     "text": [
      "Processed prompts: 100%|██████████████████████████████████████████| 1/1 [00:00<00:00,  5.81it/s, est. speed input: 3517.46 toks/s, output: 180.81 toks/s]\n"
     ]
    },
    {
     "name": "stdout",
     "output_type": "stream",
     "text": [
      "Expected Role Therapist\n"
     ]
    },
    {
     "name": "stderr",
     "output_type": "stream",
     "text": [
      "Processed prompts: 100%|██████████████████████████████████████████| 1/1 [00:00<00:00,  3.87it/s, est. speed input: 2199.81 toks/s, output: 182.34 toks/s]\n"
     ]
    },
    {
     "name": "stdout",
     "output_type": "stream",
     "text": [
      "Expected Role Patient\n"
     ]
    },
    {
     "name": "stderr",
     "output_type": "stream",
     "text": [
      "Processed prompts: 100%|██████████████████████████████████████████| 1/1 [00:00<00:00,  5.66it/s, est. speed input: 3903.85 toks/s, output: 182.08 toks/s]\n"
     ]
    },
    {
     "name": "stdout",
     "output_type": "stream",
     "text": [
      "Expected Role Therapist\n"
     ]
    },
    {
     "name": "stderr",
     "output_type": "stream",
     "text": [
      "Processed prompts: 100%|██████████████████████████████████████████| 1/1 [00:00<00:00,  3.86it/s, est. speed input: 2520.38 toks/s, output: 181.95 toks/s]\n"
     ]
    },
    {
     "name": "stdout",
     "output_type": "stream",
     "text": [
      "Expected Role Patient\n"
     ]
    },
    {
     "name": "stderr",
     "output_type": "stream",
     "text": [
      "Processed prompts: 100%|██████████████████████████████████████████| 1/1 [00:00<00:00,  2.66it/s, est. speed input: 2055.87 toks/s, output: 181.55 toks/s]\n"
     ]
    },
    {
     "name": "stdout",
     "output_type": "stream",
     "text": [
      "Expected Role Therapist\n"
     ]
    },
    {
     "name": "stderr",
     "output_type": "stream",
     "text": [
      "Processed prompts: 100%|██████████████████████████████████████████| 1/1 [00:00<00:00,  4.20it/s, est. speed input: 3252.59 toks/s, output: 181.39 toks/s]\n"
     ]
    },
    {
     "name": "stdout",
     "output_type": "stream",
     "text": [
      "Expected Role Patient\n"
     ]
    },
    {
     "name": "stderr",
     "output_type": "stream",
     "text": [
      "Processed prompts: 100%|██████████████████████████████████████████| 1/1 [00:00<00:00,  3.11it/s, est. speed input: 2760.03 toks/s, output: 180.67 toks/s]\n"
     ]
    },
    {
     "name": "stdout",
     "output_type": "stream",
     "text": [
      "Expected Role Therapist\n"
     ]
    },
    {
     "name": "stderr",
     "output_type": "stream",
     "text": [
      "Processed prompts: 100%|██████████████████████████████████████████| 1/1 [00:00<00:00,  3.75it/s, est. speed input: 3296.69 toks/s, output: 180.42 toks/s]\n"
     ]
    },
    {
     "name": "stdout",
     "output_type": "stream",
     "text": [
      "Expected Role Patient\n"
     ]
    },
    {
     "name": "stderr",
     "output_type": "stream",
     "text": [
      "Processed prompts: 100%|██████████████████████████████████████████| 1/1 [00:00<00:00,  3.67it/s, est. speed input: 3667.45 toks/s, output: 180.23 toks/s]\n"
     ]
    },
    {
     "name": "stdout",
     "output_type": "stream",
     "text": [
      "Expected Role Therapist\n"
     ]
    },
    {
     "name": "stderr",
     "output_type": "stream",
     "text": [
      "Processed prompts: 100%|██████████████████████████████████████████| 1/1 [00:00<00:00,  4.18it/s, est. speed input: 4114.13 toks/s, output: 180.68 toks/s]\n"
     ]
    },
    {
     "name": "stdout",
     "output_type": "stream",
     "text": [
      "Expected Role Patient\n"
     ]
    },
    {
     "name": "stderr",
     "output_type": "stream",
     "text": [
      "Processed prompts: 100%|██████████████████████████████████████████| 1/1 [00:00<00:00,  3.97it/s, est. speed input: 4360.60 toks/s, output: 179.35 toks/s]\n"
     ]
    },
    {
     "name": "stdout",
     "output_type": "stream",
     "text": [
      "Expected Role Therapist\n"
     ]
    },
    {
     "name": "stderr",
     "output_type": "stream",
     "text": [
      "Processed prompts: 100%|██████████████████████████████████████████| 1/1 [00:00<00:00,  4.29it/s, est. speed input: 4624.01 toks/s, output: 181.14 toks/s]\n"
     ]
    },
    {
     "name": "stdout",
     "output_type": "stream",
     "text": [
      "Expected Role Patient\n"
     ]
    },
    {
     "name": "stderr",
     "output_type": "stream",
     "text": [
      "Processed prompts: 100%|██████████████████████████████████████████| 1/1 [00:00<00:00,  2.88it/s, est. speed input: 3430.43 toks/s, output: 179.32 toks/s]\n"
     ]
    },
    {
     "name": "stdout",
     "output_type": "stream",
     "text": [
      "Expected Role Therapist\n"
     ]
    },
    {
     "name": "stderr",
     "output_type": "stream",
     "text": [
      "Processed prompts: 100%|██████████████████████████████████████████| 1/1 [00:00<00:00,  3.73it/s, est. speed input: 4422.92 toks/s, output: 179.75 toks/s]\n"
     ]
    },
    {
     "name": "stdout",
     "output_type": "stream",
     "text": [
      "Expected Role Patient\n"
     ]
    },
    {
     "name": "stderr",
     "output_type": "stream",
     "text": [
      "Processed prompts: 100%|██████████████████████████████████████████| 1/1 [00:00<00:00,  3.68it/s, est. speed input: 4804.04 toks/s, output: 180.92 toks/s]\n"
     ]
    },
    {
     "name": "stdout",
     "output_type": "stream",
     "text": [
      "Expected Role Therapist\n"
     ]
    },
    {
     "name": "stderr",
     "output_type": "stream",
     "text": [
      "Processed prompts: 100%|██████████████████████████████████████████| 1/1 [00:00<00:00,  3.70it/s, est. speed input: 4765.33 toks/s, output: 178.27 toks/s]\n"
     ]
    },
    {
     "name": "stdout",
     "output_type": "stream",
     "text": [
      "Expected Role Patient\n"
     ]
    },
    {
     "name": "stderr",
     "output_type": "stream",
     "text": [
      "Processed prompts: 100%|██████████████████████████████████████████| 1/1 [00:00<00:00,  2.93it/s, est. speed input: 4123.94 toks/s, output: 179.29 toks/s]\n"
     ]
    },
    {
     "name": "stdout",
     "output_type": "stream",
     "text": [
      "Expected Role Therapist\n"
     ]
    },
    {
     "name": "stderr",
     "output_type": "stream",
     "text": [
      "Processed prompts: 100%|██████████████████████████████████████████| 1/1 [00:00<00:00,  3.00it/s, est. speed input: 4199.05 toks/s, output: 180.33 toks/s]\n"
     ]
    },
    {
     "name": "stdout",
     "output_type": "stream",
     "text": [
      "Expected Role Patient\n"
     ]
    },
    {
     "name": "stderr",
     "output_type": "stream",
     "text": [
      "Processed prompts: 100%|██████████████████████████████████████████| 1/1 [00:00<00:00,  3.32it/s, est. speed input: 5095.46 toks/s, output: 179.94 toks/s]\n"
     ]
    },
    {
     "name": "stdout",
     "output_type": "stream",
     "text": [
      "Expected Role Therapist\n"
     ]
    },
    {
     "name": "stderr",
     "output_type": "stream",
     "text": [
      "Processed prompts: 100%|██████████████████████████████████████████| 1/1 [00:00<00:00,  2.83it/s, est. speed input: 4308.45 toks/s, output: 179.03 toks/s]\n"
     ]
    },
    {
     "name": "stdout",
     "output_type": "stream",
     "text": [
      "Expected Role Patient\n"
     ]
    },
    {
     "name": "stderr",
     "output_type": "stream",
     "text": [
      "Processed prompts: 100%|██████████████████████████████████████████| 1/1 [00:00<00:00,  3.42it/s, est. speed input: 5668.75 toks/s, output: 178.53 toks/s]\n"
     ]
    },
    {
     "name": "stdout",
     "output_type": "stream",
     "text": [
      "Expected Role Therapist\n"
     ]
    },
    {
     "name": "stderr",
     "output_type": "stream",
     "text": [
      "Processed prompts: 100%|██████████████████████████████████████████| 1/1 [00:00<00:00,  2.84it/s, est. speed input: 4667.54 toks/s, output: 179.73 toks/s]\n"
     ]
    },
    {
     "name": "stdout",
     "output_type": "stream",
     "text": [
      "Expected Role Patient\n"
     ]
    },
    {
     "name": "stderr",
     "output_type": "stream",
     "text": [
      "Processed prompts: 100%|██████████████████████████████████████████| 1/1 [00:00<00:00,  3.31it/s, est. speed input: 5882.58 toks/s, output: 179.35 toks/s]\n"
     ]
    },
    {
     "name": "stdout",
     "output_type": "stream",
     "text": [
      "Expected Role Therapist\n"
     ]
    },
    {
     "name": "stderr",
     "output_type": "stream",
     "text": [
      "Processed prompts: 100%|██████████████████████████████████████████| 1/1 [00:00<00:00,  2.93it/s, est. speed input: 5155.87 toks/s, output: 178.89 toks/s]\n"
     ]
    },
    {
     "name": "stdout",
     "output_type": "stream",
     "text": [
      "Expected Role Patient\n"
     ]
    },
    {
     "name": "stderr",
     "output_type": "stream",
     "text": [
      "Processed prompts: 100%|██████████████████████████████████████████| 1/1 [00:00<00:00,  3.22it/s, est. speed input: 6116.88 toks/s, output: 177.89 toks/s]\n"
     ]
    },
    {
     "name": "stdout",
     "output_type": "stream",
     "text": [
      "Expected Role Therapist\n"
     ]
    },
    {
     "name": "stderr",
     "output_type": "stream",
     "text": [
      "Processed prompts: 100%|██████████████████████████████████████████| 1/1 [00:00<00:00,  2.84it/s, est. speed input: 5340.04 toks/s, output: 179.03 toks/s]\n"
     ]
    },
    {
     "name": "stdout",
     "output_type": "stream",
     "text": [
      "Expected Role Patient\n"
     ]
    },
    {
     "name": "stderr",
     "output_type": "stream",
     "text": [
      "Processed prompts: 100%|██████████████████████████████████████████| 1/1 [00:00<00:00,  3.36it/s, est. speed input: 6786.10 toks/s, output: 178.57 toks/s]\n"
     ]
    },
    {
     "name": "stdout",
     "output_type": "stream",
     "text": [
      "Expected Role Therapist\n"
     ]
    },
    {
     "name": "stderr",
     "output_type": "stream",
     "text": [
      "Processed prompts: 100%|██████████████████████████████████████████| 1/1 [00:00<00:00,  2.87it/s, est. speed input: 5747.61 toks/s, output: 178.17 toks/s]\n"
     ]
    },
    {
     "name": "stdout",
     "output_type": "stream",
     "text": [
      "Expected Role Patient\n"
     ]
    },
    {
     "name": "stderr",
     "output_type": "stream",
     "text": [
      "Processed prompts: 100%|██████████████████████████████████████████| 1/1 [00:00<00:00,  3.33it/s, est. speed input: 7136.41 toks/s, output: 177.23 toks/s]\n"
     ]
    },
    {
     "name": "stdout",
     "output_type": "stream",
     "text": [
      "Expected Role Therapist\n"
     ]
    },
    {
     "name": "stderr",
     "output_type": "stream",
     "text": [
      "Processed prompts: 100%|██████████████████████████████████████████| 1/1 [00:00<00:00,  2.86it/s, est. speed input: 6088.05 toks/s, output: 178.04 toks/s]\n"
     ]
    },
    {
     "name": "stdout",
     "output_type": "stream",
     "text": [
      "Expected Role Patient\n"
     ]
    },
    {
     "name": "stderr",
     "output_type": "stream",
     "text": [
      "Processed prompts: 100%|██████████████████████████████████████████| 1/1 [00:00<00:00,  2.89it/s, est. speed input: 6538.93 toks/s, output: 176.95 toks/s]\n"
     ]
    },
    {
     "name": "stdout",
     "output_type": "stream",
     "text": [
      "Expected Role Therapist\n"
     ]
    },
    {
     "name": "stderr",
     "output_type": "stream",
     "text": [
      "Processed prompts: 100%|██████████████████████████████████████████| 1/1 [00:00<00:00,  2.76it/s, est. speed input: 6222.34 toks/s, output: 177.14 toks/s]\n"
     ]
    },
    {
     "name": "stdout",
     "output_type": "stream",
     "text": [
      "Expected Role Patient\n"
     ]
    },
    {
     "name": "stderr",
     "output_type": "stream",
     "text": [
      "Processed prompts: 100%|██████████████████████████████████████████| 1/1 [00:00<00:00,  2.71it/s, est. speed input: 6496.42 toks/s, output: 177.12 toks/s]\n"
     ]
    },
    {
     "name": "stdout",
     "output_type": "stream",
     "text": [
      "Expected Role Therapist\n"
     ]
    },
    {
     "name": "stderr",
     "output_type": "stream",
     "text": [
      "Processed prompts: 100%|██████████████████████████████████████████| 1/1 [00:00<00:00,  2.89it/s, est. speed input: 6905.57 toks/s, output: 176.83 toks/s]\n"
     ]
    },
    {
     "name": "stdout",
     "output_type": "stream",
     "text": [
      "Expected Role Patient\n"
     ]
    },
    {
     "name": "stderr",
     "output_type": "stream",
     "text": [
      "Processed prompts: 100%|██████████████████████████████████████████| 1/1 [00:00<00:00,  2.68it/s, est. speed input: 6768.18 toks/s, output: 174.91 toks/s]\n"
     ]
    },
    {
     "name": "stdout",
     "output_type": "stream",
     "text": [
      "Expected Role Therapist\n"
     ]
    },
    {
     "name": "stderr",
     "output_type": "stream",
     "text": [
      "Processed prompts: 100%|██████████████████████████████████████████| 1/1 [00:00<00:00,  3.27it/s, est. speed input: 8252.24 toks/s, output: 174.02 toks/s]\n"
     ]
    },
    {
     "name": "stdout",
     "output_type": "stream",
     "text": [
      "Expected Role Patient\n"
     ]
    },
    {
     "name": "stderr",
     "output_type": "stream",
     "text": [
      "Processed prompts: 100%|██████████████████████████████████████████| 1/1 [00:00<00:00,  3.37it/s, est. speed input: 8915.24 toks/s, output: 175.72 toks/s]\n"
     ]
    },
    {
     "name": "stdout",
     "output_type": "stream",
     "text": [
      "Expected Role Therapist\n"
     ]
    },
    {
     "name": "stderr",
     "output_type": "stream",
     "text": [
      "Processed prompts: 100%|██████████████████████████████████████████| 1/1 [00:00<00:00,  2.75it/s, est. speed input: 7243.43 toks/s, output: 176.73 toks/s]\n"
     ]
    },
    {
     "name": "stdout",
     "output_type": "stream",
     "text": [
      "Expected Role Patient\n"
     ]
    },
    {
     "name": "stderr",
     "output_type": "stream",
     "text": [
      "Processed prompts: 100%|██████████████████████████████████████████| 1/1 [00:00<00:00,  2.71it/s, est. speed input: 7515.06 toks/s, output: 174.32 toks/s]\n"
     ]
    },
    {
     "name": "stdout",
     "output_type": "stream",
     "text": [
      "Expected Role Therapist\n"
     ]
    },
    {
     "name": "stderr",
     "output_type": "stream",
     "text": [
      "Processed prompts: 100%|██████████████████████████████████████████| 1/1 [00:00<00:00,  2.81it/s, est. speed input: 7752.83 toks/s, output: 174.40 toks/s]\n"
     ]
    },
    {
     "name": "stdout",
     "output_type": "stream",
     "text": [
      "Expected Role Patient\n"
     ]
    },
    {
     "name": "stderr",
     "output_type": "stream",
     "text": [
      "Processed prompts: 100%|██████████████████████████████████████████| 1/1 [00:00<00:00,  2.98it/s, est. speed input: 8631.99 toks/s, output: 173.22 toks/s]\n"
     ]
    },
    {
     "name": "stdout",
     "output_type": "stream",
     "text": [
      "Expected Role Therapist\n"
     ]
    },
    {
     "name": "stderr",
     "output_type": "stream",
     "text": [
      "Processed prompts: 100%|██████████████████████████████████████████| 1/1 [00:00<00:00,  2.79it/s, est. speed input: 8066.23 toks/s, output: 173.58 toks/s]\n"
     ]
    },
    {
     "name": "stdout",
     "output_type": "stream",
     "text": [
      "Expected Role Patient\n"
     ]
    },
    {
     "name": "stderr",
     "output_type": "stream",
     "text": [
      "Processed prompts: 100%|██████████████████████████████████████████| 1/1 [00:00<00:00,  3.22it/s, est. speed input: 9753.39 toks/s, output: 171.44 toks/s]\n"
     ]
    },
    {
     "name": "stdout",
     "output_type": "stream",
     "text": [
      "Expected Role Therapist\n"
     ]
    },
    {
     "name": "stderr",
     "output_type": "stream",
     "text": [
      "Processed prompts: 100%|██████████████████████████████████████████| 1/1 [00:00<00:00,  2.79it/s, est. speed input: 8408.46 toks/s, output: 173.70 toks/s]\n"
     ]
    },
    {
     "name": "stdout",
     "output_type": "stream",
     "text": [
      "Expected Role Patient\n"
     ]
    },
    {
     "name": "stderr",
     "output_type": "stream",
     "text": [
      "Processed prompts: 100%|██████████████████████████████████████████| 1/1 [00:00<00:00,  2.72it/s, est. speed input: 8551.26 toks/s, output: 171.83 toks/s]\n"
     ]
    },
    {
     "name": "stdout",
     "output_type": "stream",
     "text": [
      "Expected Role Therapist\n"
     ]
    },
    {
     "name": "stderr",
     "output_type": "stream",
     "text": [
      "Processed prompts: 100%|██████████████████████████████████████████| 1/1 [00:00<00:00,  2.75it/s, est. speed input: 8636.52 toks/s, output: 173.77 toks/s]\n"
     ]
    },
    {
     "name": "stdout",
     "output_type": "stream",
     "text": [
      "Expected Role Patient\n"
     ]
    },
    {
     "name": "stderr",
     "output_type": "stream",
     "text": [
      "Processed prompts: 100%|██████████████████████████████████████████| 1/1 [00:00<00:00,  2.75it/s, est. speed input: 9021.30 toks/s, output: 174.01 toks/s]\n"
     ]
    },
    {
     "name": "stdout",
     "output_type": "stream",
     "text": [
      "Expected Role Therapist\n"
     ]
    },
    {
     "name": "stderr",
     "output_type": "stream",
     "text": [
      "Processed prompts: 100%|██████████████████████████████████████████| 1/1 [00:00<00:00,  2.71it/s, est. speed input: 8860.11 toks/s, output: 173.82 toks/s]\n"
     ]
    },
    {
     "name": "stdout",
     "output_type": "stream",
     "text": [
      "Expected Role Patient\n"
     ]
    },
    {
     "name": "stderr",
     "output_type": "stream",
     "text": [
      "Processed prompts: 100%|███████████████████████████████████████████| 1/1 [00:00<00:00,  5.31it/s, est. speed input: 740.98 toks/s, output: 186.56 toks/s]\n",
      "Processed prompts: 100%|███████████████████████████████████████████| 1/1 [00:00<00:00,  5.17it/s, est. speed input: 736.65 toks/s, output: 186.73 toks/s]\n",
      "Processed prompts: 100%|███████████████████████████████████████████| 1/1 [00:00<00:00,  4.19it/s, est. speed input: 601.68 toks/s, output: 185.12 toks/s]\n",
      "Processed prompts: 100%|███████████████████████████████████████████| 1/1 [00:00<00:00,  5.79it/s, est. speed input: 819.83 toks/s, output: 186.04 toks/s]\n",
      "Processed prompts: 100%|██████████████████████████████████████████| 1/1 [00:00<00:00,  7.68it/s, est. speed input: 1105.18 toks/s, output: 185.46 toks/s]\n",
      "Processed prompts: 100%|███████████████████████████████████████████| 1/1 [00:00<00:00,  5.40it/s, est. speed input: 884.68 toks/s, output: 184.52 toks/s]\n",
      "Processed prompts: 100%|██████████████████████████████████████████| 1/1 [00:00<00:00,  6.19it/s, est. speed input: 1014.13 toks/s, output: 186.63 toks/s]\n",
      "Processed prompts: 100%|██████████████████████████████████████████| 1/1 [00:00<00:00,  6.56it/s, est. speed input: 1075.66 toks/s, output: 184.74 toks/s]\n",
      "Processed prompts: 100%|███████████████████████████████████████████| 1/1 [00:00<00:00,  4.99it/s, est. speed input: 796.69 toks/s, output: 185.38 toks/s]\n",
      "Processed prompts: 100%|███████████████████████████████████████████| 1/1 [00:00<00:00,  4.51it/s, est. speed input: 742.85 toks/s, output: 185.70 toks/s]\n",
      "Processed prompts: 100%|███████████████████████████████████████████| 1/1 [00:00<00:00,  3.85it/s, est. speed input: 614.18 toks/s, output: 185.40 toks/s]\n",
      "Processed prompts: 100%|███████████████████████████████████████████| 1/1 [00:00<00:00,  4.60it/s, est. speed input: 729.51 toks/s, output: 184.67 toks/s]\n",
      "Processed prompts: 100%|███████████████████████████████████████████| 1/1 [00:00<00:00,  5.26it/s, est. speed input: 866.46 toks/s, output: 184.89 toks/s]\n",
      "Processed prompts: 100%|███████████████████████████████████████████| 1/1 [00:00<00:00,  4.20it/s, est. speed input: 691.35 toks/s, output: 185.47 toks/s]\n",
      "Processed prompts: 100%|███████████████████████████████████████████| 1/1 [00:00<00:00,  5.58it/s, est. speed input: 985.84 toks/s, output: 184.83 toks/s]\n",
      "Processed prompts: 100%|███████████████████████████████████████████| 1/1 [00:00<00:00,  4.10it/s, est. speed input: 736.91 toks/s, output: 185.24 toks/s]\n",
      "Processed prompts: 100%|███████████████████████████████████████████| 1/1 [00:00<00:00,  4.85it/s, est. speed input: 872.12 toks/s, output: 185.12 toks/s]\n",
      "Processed prompts: 100%|███████████████████████████████████████████| 1/1 [00:00<00:00,  4.82it/s, est. speed input: 856.17 toks/s, output: 183.79 toks/s]\n",
      "Processed prompts: 100%|███████████████████████████████████████████| 1/1 [00:00<00:00,  4.84it/s, est. speed input: 870.27 toks/s, output: 184.73 toks/s]\n",
      "Processed prompts: 100%|██████████████████████████████████████████| 1/1 [00:00<00:00,  5.75it/s, est. speed input: 1029.50 toks/s, output: 185.06 toks/s]\n",
      "Processed prompts: 100%|███████████████████████████████████████████| 1/1 [00:00<00:00,  4.01it/s, est. speed input: 716.67 toks/s, output: 185.20 toks/s]\n",
      "Processed prompts: 100%|███████████████████████████████████████████| 1/1 [00:00<00:00,  4.73it/s, est. speed input: 855.67 toks/s, output: 185.38 toks/s]\n",
      "Processed prompts: 100%|██████████████████████████████████████████| 1/1 [00:00<00:00,  5.74it/s, est. speed input: 1020.87 toks/s, output: 184.55 toks/s]\n",
      "Processed prompts: 100%|███████████████████████████████████████████| 1/1 [00:00<00:00,  4.30it/s, est. speed input: 729.38 toks/s, output: 185.57 toks/s]\n",
      "Processed prompts: 100%|███████████████████████████████████████████| 1/1 [00:00<00:00,  4.90it/s, est. speed input: 885.35 toks/s, output: 186.89 toks/s]\n",
      "Processed prompts: 100%|███████████████████████████████████████████| 1/1 [00:00<00:00,  4.89it/s, est. speed input: 874.13 toks/s, output: 186.59 toks/s]\n",
      "Processed prompts: 100%|██████████████████████████████████████████| 1/1 [00:00<00:00,  5.78it/s, est. speed input: 1033.42 toks/s, output: 185.77 toks/s]\n",
      "Processed prompts: 100%|███████████████████████████████████████████| 1/1 [00:00<00:00,  4.61it/s, est. speed input: 823.42 toks/s, output: 185.02 toks/s]\n",
      "Processed prompts: 100%|███████████████████████████████████████████| 1/1 [00:00<00:00,  4.62it/s, est. speed input: 830.72 toks/s, output: 185.62 toks/s]\n",
      "Processed prompts: 100%|██████████████████████████████████████████| 1/1 [00:00<00:00,  5.76it/s, est. speed input: 1043.49 toks/s, output: 185.48 toks/s]\n"
     ]
    },
    {
     "name": "stdout",
     "output_type": "stream",
     "text": [
      "eval_index_consistency\n"
     ]
    },
    {
     "name": "stderr",
     "output_type": "stream",
     "text": [
      "Processed prompts: 100%|███████████████████████████████████████████| 1/1 [00:00<00:00,  1.86it/s, est. speed input: 707.85 toks/s, output: 184.41 toks/s]\n",
      "Processed prompts: 100%|██████████████████████████████████████████| 1/1 [00:00<00:00,  3.88it/s, est. speed input: 1678.01 toks/s, output: 182.97 toks/s]\n",
      "Processed prompts: 100%|██████████████████████████████████████████| 1/1 [00:00<00:00,  3.21it/s, est. speed input: 1589.21 toks/s, output: 183.35 toks/s]\n",
      "Processed prompts: 100%|██████████████████████████████████████████| 1/1 [00:00<00:00,  3.32it/s, est. speed input: 1859.91 toks/s, output: 182.98 toks/s]\n",
      "Processed prompts: 100%|███████████████████████████████████████████| 1/1 [00:00<00:00,  1.19it/s, est. speed input: 787.43 toks/s, output: 182.90 toks/s]\n",
      "Processed prompts: 100%|██████████████████████████████████████████| 1/1 [00:00<00:00,  3.24it/s, est. speed input: 2437.93 toks/s, output: 181.78 toks/s]\n",
      "Processed prompts: 100%|██████████████████████████████████████████| 1/1 [00:00<00:00,  2.98it/s, est. speed input: 2506.65 toks/s, output: 182.02 toks/s]\n",
      "Processed prompts: 100%|██████████████████████████████████████████| 1/1 [00:00<00:00,  2.44it/s, est. speed input: 2351.46 toks/s, output: 181.06 toks/s]\n",
      "Processed prompts: 100%|██████████████████████████████████████████| 1/1 [00:00<00:00,  2.62it/s, est. speed input: 2824.46 toks/s, output: 180.94 toks/s]\n",
      "Processed prompts: 100%|██████████████████████████████████████████| 1/1 [00:00<00:00,  3.00it/s, est. speed input: 3549.70 toks/s, output: 180.63 toks/s]\n",
      "Processed prompts: 100%|██████████████████████████████████████████| 1/1 [00:00<00:00,  2.50it/s, est. speed input: 3191.85 toks/s, output: 180.10 toks/s]\n",
      "Processed prompts: 100%|██████████████████████████████████████████| 1/1 [00:00<00:00,  2.57it/s, est. speed input: 3603.71 toks/s, output: 180.69 toks/s]\n",
      "Processed prompts: 100%|██████████████████████████████████████████| 1/1 [00:00<00:00,  2.16it/s, est. speed input: 3260.00 toks/s, output: 180.02 toks/s]\n",
      "Processed prompts: 100%|██████████████████████████████████████████| 1/1 [00:00<00:00,  2.11it/s, est. speed input: 3448.78 toks/s, output: 179.40 toks/s]\n",
      "Processed prompts: 100%|██████████████████████████████████████████| 1/1 [00:00<00:00,  1.49it/s, est. speed input: 2628.56 toks/s, output: 179.11 toks/s]\n",
      "Processed prompts: 100%|██████████████████████████████████████████| 1/1 [00:00<00:00,  1.73it/s, est. speed input: 3276.23 toks/s, output: 178.92 toks/s]\n",
      "Processed prompts: 100%|██████████████████████████████████████████| 1/1 [00:00<00:00,  1.47it/s, est. speed input: 2964.17 toks/s, output: 179.82 toks/s]\n",
      "Processed prompts: 100%|██████████████████████████████████████████| 1/1 [00:00<00:00,  1.38it/s, est. speed input: 2961.04 toks/s, output: 178.57 toks/s]\n",
      "Processed prompts: 100%|██████████████████████████████████████████| 1/1 [00:00<00:00,  2.72it/s, est. speed input: 6162.14 toks/s, output: 176.91 toks/s]\n",
      "Processed prompts: 100%|██████████████████████████████████████████| 1/1 [00:00<00:00,  1.49it/s, est. speed input: 3567.44 toks/s, output: 177.70 toks/s]\n",
      "Processed prompts: 100%|██████████████████████████████████████████| 1/1 [00:00<00:00,  1.65it/s, est. speed input: 4171.00 toks/s, output: 176.82 toks/s]\n",
      "Processed prompts: 100%|██████████████████████████████████████████| 1/1 [00:00<00:00,  2.12it/s, est. speed input: 5661.56 toks/s, output: 176.65 toks/s]\n",
      "Processed prompts: 100%|██████████████████████████████████████████| 1/1 [00:00<00:00,  1.23it/s, est. speed input: 3438.33 toks/s, output: 176.35 toks/s]\n",
      "Processed prompts: 100%|██████████████████████████████████████████| 1/1 [00:00<00:00,  1.91it/s, est. speed input: 5575.97 toks/s, output: 176.03 toks/s]\n",
      "Processed prompts: 100%|██████████████████████████████████████████| 1/1 [00:00<00:00,  1.18it/s, est. speed input: 3592.81 toks/s, output: 175.51 toks/s]\n",
      "Processed prompts: 100%|██████████████████████████████████████████| 1/1 [00:00<00:00,  2.12it/s, est. speed input: 6772.24 toks/s, output: 174.62 toks/s]\n",
      "Processed prompts: 100%|██████████████████████████████████████████| 1/1 [00:00<00:00,  2.11it/s, est. speed input: 6970.94 toks/s, output: 175.06 toks/s]\n",
      "Processed prompts: 100%|██████████████████████████████████████████| 1/1 [00:00<00:00,  1.13it/s, est. speed input: 3900.67 toks/s, output: 174.57 toks/s]\n",
      "Processed prompts: 100%|██████████████████████████████████████████| 1/1 [00:00<00:00,  1.07it/s, est. speed input: 3825.03 toks/s, output: 174.25 toks/s]\n"
     ]
    },
    {
     "name": "stdout",
     "output_type": "stream",
     "text": [
      "{'task_name': 'Therapy', 'topic': '', 'grade': '', 'P1': '', 'P2': 'You are Natalie, a 34-year-old fashion designer who struggles with self-doubt. You constantly question the quality of your designs but avoid sharing your insecurities, fearing judgment from others in the fashion industry.', 'conversation': [(0, \"Therapist: Hello, and thank you for taking the time to connect with me. I'm here to listen and learn about your experiences. Tell me, what brings you to our session today?\\n\"), (1, \"Patient: I'm here because I constantly struggle with self-doubt and fear judgment from others in the fashion industry.\\n\"), (2, \"Therapist: It seems you're seeking support for feeling self-doubt and fear judgment from others in the fashion industry.\\n\"), (3, \"Patient: I'm hesitant to share my struggles with self-doubt and fear judgment due to fear of being judged negatively by others.\\n\"), (4, 'Therapist: The patient seems hesitant to share because of a fear of being judged negatively.\\n'), (5, \"Patient: I'm hesitant to share my struggles with self-doubt due to fear of being judged negatively by others in the fashion industry.\\n\"), (6, 'Therapist: The patient is hesitant to share due to a fear of being judged negatively by others in the fashion industry. She is seeking support for this fear.\\n'), (7, \"Patient: I'm hesitant to share my struggles with self-doubt due to fear of judgment from others in the fashion industry.\\n\"), (8, 'Therapist: The patient seems hesitant to share her struggles with self-doubt and fear judgment due to fear of being judged negatively by others in the fashion industry.\\n'), (9, \"Patient: I'm hesitant to share my struggles with self-doubt due to fear of being judged negatively by others in the fashion industry.\\n\"), (10, \"Therapist: Sure, here's a brief response to the patient's statement:\\n\\nThe patient's hesitancy to share her struggles with self-doubt and fear judgment suggests a concern about being negatively judged by others in the fashion industry.\\n\"), (11, \"Patient: Sure, here's a brief response to the patient's statement:\\n\\nThe patient's hesitation to share her struggles with self-doubt and fear judgment suggests a concern about being negatively judged by others in the fashion industry.\\n\"), (12, \"Therapist: The patient's hesitation to share her struggles with self-doubt and fear judgment indicates a concern about being negatively judged by others in the fashion industry.\\n\"), (13, \"Patient: Sure, here's a brief response to the patient's statement:\\n\\nThe patient's hesitation to share her struggles with self-doubt and fear judgment suggests a concern about being negatively judged by others in the fashion industry.\\n\"), (14, \"Therapist: The patient's hesitancy to share her struggles with self-doubt and fear judgment suggests a concern about being negatively judged by others in the fashion industry.\\n\"), (15, \"Patient: Sure, here's a brief response to the patient's statement:\\n\\nThe patient's hesitation to share her struggles with self-doubt and fear judgment indicates a concern about being negatively judged by others in the fashion industry.\\n\"), (16, \"Therapist: Sure, here's a brief summary of the conversation:\\n\\nThe patient is hesitant to share her struggles with self-doubt and fear judgment due to a fear of being negatively judged by others in the fashion industry. She expresses a concern about the potential for such judgment and feels hesitant to open up due to the fear of negative reactions.\\n\"), (17, \"Patient: Sure, here's a brief summary of the conversation:\\n\\nThe patient is hesitant to share her struggles with self-doubt and fear judgment due to fear of being negatively judged by others in the fashion industry.\\n\"), (18, \"Therapist: The patient's hesitation to share her struggles with self-doubt and fear judgment highlights a significant concern about external judgment in her perception of the fashion industry. Her reluctance to open up suggests a fear of being negatively perceived by others, impacting her self-esteem and potentially her career trajectory.\\n\"), (19, \"Patient: Sure, here's a brief response to the patient's statement:\\n\\nThe patient's hesitation to share her struggles with self-doubt and fear judgment stems from a fear of being judged negatively by others in the fashion industry.\\n\"), (20, \"Therapist: Sure, here's a brief response to the patient's statement:\\n\\nThe patient's fear of judgment stems from a fear of being negatively perceived by others in the fashion industry, potentially impacting her self-esteem and career trajectory.\\n\"), (21, \"Patient: Sure, here's a brief summary of the conversation:\\n\\nThe patient is hesitant to share her struggles with self-doubt and fear judgment due to fear of being negatively judged by others in the fashion industry.\\n\"), (22, \"Therapist: The patient's hesitation to share her struggles with self-doubt and fear judgment indicates a concern about being negatively judged by others in the fashion industry, stemming from a fear of being negatively perceived by others in that field.\\n\"), (23, \"Patient: Sure, here's a summary of the conversation:\\n\\nThe patient is hesitant to share her struggles with self-doubt and fear judgment due to fear of being negatively judged by others in the fashion industry.\\n\"), (24, \"Therapist: Sure, here is the summary you requested:\\n\\nThe patient's hesitation to share her struggles with self-doubt and fear judgment stems from a fear of being negatively judged by others in the fashion industry. This fear might lead to self-sabotaging behaviors or avoidance of further self-disclosure.\\n\"), (25, \"Patient: Sure, here's a brief response to the patient's statement:\\n\\nThe patient's hesitation to share her struggles with self-doubt and fear judgment stems from a fear of being negatively judged by others in the fashion industry.\\n\"), (26, \"Therapist: The patient's hesitation to share her struggles with self-doubt and fear judgment due to fear of being negatively judged by others in the fashion industry is a significant concern that stems from a fear of being negatively perceived by others in that field.\\n\"), (27, \"Patient: Sure, here's a brief response to the patient's statement:\\n\\nThe patient's hesitation to share her struggles with self-doubt and fear judgment stems from a fear of being negatively judged by others in the fashion industry.\\n\"), (28, \"Therapist: Sure, here is the requested summary:\\n\\nThe patient's hesitation to share her struggles with self-doubt and fear judgment stems from a fear of being negatively judged by others in the fashion industry. This fear might lead to self-sabotaging behaviors or avoidance of further self-disclosure.\\n\"), (29, \"Patient: Sure, here's the summary you requested:\\n\\nThe patient's hesitation to share her struggles with self-doubt stems from a fear of being negatively judged by others in the fashion industry. This fear might lead to self-sabotaging behaviors or avoidance of further self-disclosure.\\n\"), (30, \"Therapist: Sure, here's the summary you requested:\\n\\nThe patient's hesitancy to share her struggles with self-doubt and fear judgment stems from a fear of being negatively judged by others in the fashion industry, potentially impacting her self-esteem and career trajectory.\\n\"), (31, \"Patient: Sure, here's a brief summary of the conversation:\\n\\nThe patient is hesitant to share her struggles with self-doubt and fear judgment due to fear of being negatively judged by others in the fashion industry. This fear might lead to self-sabotaging behaviors or avoidance of further self-disclosure.\\n\"), (32, \"Therapist: Sure, here is the summary you requested:\\n\\nThe patient's hesitation to share her struggles with self-doubt and fear judgment stems from a fear of being negatively judged by others in the fashion industry, potentially impacting her self-esteem and career trajectory.\\n\"), (33, \"Patient: Sure, here's a brief summary of the conversation:\\n\\nThe patient is hesitant to share her struggles with self-doubt and fear judgment due to fear of being negatively judged by others in the fashion industry. This fear might lead to self-sabotaging behaviors or avoidance of further self-disclosure.\\n\"), (34, \"Therapist: The patient's hesitation to share her struggles with self-doubt and fear judgment is motivated by a fear of being negatively perceived by others in the fashion industry. This fear may stem from past experiences or societal stereotypes that perpetuate the pressure to conform to certain image standards.\\n\"), (35, \"Patient: Sure, here's the summary you requested:\\n\\nThe patient is hesitant to share her struggles with self-doubt and fear judgment due to fear of being negatively judged by others in the fashion industry. This fear might lead to self-sabotaging behaviors or avoidance of further self-disclosure.\\n\"), (36, \"Therapist: The patient's hesitation to share her struggles with self-doubt and fear judgment is likely due to a fear of being negatively perceived by others in the fashion industry. This fear might stem from past experiences or societal stereotypes that perpetuate the pressure to conform to certain image standards.\\n\"), (37, \"Patient: Sure, here's the summary you requested.\\n\\nThe patient's hesitation to share her struggles with self-doubt and fear judgment stems from a fear of being negatively judged by others in the fashion industry. This fear might lead to self-sabotaging behaviors or avoidance of further self-disclosure.\\n\"), (38, \"Therapist: Sure, here's the summary you requested:\\n\\nThe patient's hesitation to share her struggles with self-doubt and fear judgment stems from a fear of being negatively judged by others in the fashion industry, potentially impacting her self-esteem and career trajectory.\\n\"), (39, \"Patient: Sure, here's the summary you requested.\\n\\nThe patient is hesitant to share her struggles with self-doubt and fear judgment due to a fear of being negatively judged by others in the fashion industry. This fear might lead to self-sabotaging behaviors or avoidance of further self-disclosure.\\n\"), (40, \"Therapist: The patient's hesitancy to share her struggles with self-doubt and fear judgment stems from a fear of being negatively judged by others in the fashion industry. This fear might lead to self-sabotaging behaviors or avoidance of further self-disclosure.\\n\"), (41, \"Patient: Sure, here's the summary you requested:\\n\\nThe patient is hesitant to share her struggles with self-doubt and fear judgment due to a fear of being negatively judged by others in the fashion industry. This fear might lead to self-sabotaging behaviors or avoidance of further self-disclosure.\\n\"), (42, 'Therapist: Sure, here is the summary you requested:\\n\\nThe patient seems hesitant to share her struggles with self-doubt and fear judgment due to a fear of being negatively judged by others in the fashion industry. This fear might lead to self-sabotaging behaviors or avoidance of further self-disclosure.\\n'), (43, \"Patient: Sure, here's a brief summary of the conversation:\\n\\nThe patient is hesitant to share her struggles with self-doubt and fear judgment due to a fear of being negatively judged by others in the fashion industry. This fear might lead to self-sabotaging behaviors or avoidance of further self-disclosure.\\n\"), (44, \"Therapist: Sure, here's a brief summary of the conversation:\\n\\nThe patient's hesitation to share her struggles with self-doubt and fear judgment stems from a fear of being negatively judged by others in the fashion industry. This fear might lead to self-sabotaging behaviors or avoidance of further self-disclosure.\\n\"), (45, 'Patient: Sure, here is the summary you requested:\\n\\nThe patient is hesitant to share her struggles with self-doubt and fear judgment due to a fear of being negatively judged by others in the fashion industry. This fear might lead to self-sabotaging behaviors or avoidance of further self-disclosure.\\n'), (46, \"Therapist: Sure, here's a brief summary of the conversation:\\n\\nThe patient's hesitation to share her struggles with self-doubt and fear judgment stems from a fear of being negatively judged by others in the fashion industry. This fear might lead to self-sabotaging behaviors or avoidance of further self-disclosure.\\n\"), (47, \"Patient: Sure, here's the summary you requested.\\n\\nThe patient's hesitation to share her struggles with self-doubt and fear judgment stems from a fear of being negatively judged by others in the fashion industry, potentially impacting her self-esteem and career trajectory.\\n\"), (48, \"Therapist: The patient's hesitation to share her struggles with self-doubt and fear judgment stems from a fear of being negatively judged by others in the fashion industry. This fear might lead to self-sabotaging behaviors or avoidance of further self-disclosure.\\n\"), (49, \"Patient: Sure, here's a brief summary of the conversation:\\n\\nThe patient is hesitant to share her struggles with self-doubt and fear judgment due to a fear of being negatively judged by others in the fashion industry. This fear might lead to self-sabotaging behaviors or avoidance of further self-disclosure.\\n\"), (50, \"Therapist: Sure, here's a brief summary of the conversation:\\n\\nThe patient seems hesitant to share her struggles with self-doubt and fear judgment due to a fear of being negatively judged by others in the fashion industry. This fear might lead to self-sabotaging behaviors or avoidance of further self-disclosure.\\n\"), (51, \"Patient: Sure, here's the summary you requested:\\n\\nThe patient is hesitant to share her struggles with self-doubt and fear judgment due to a fear of being negatively judged by others in the fashion industry. This fear might lead to self-sabotaging behaviors or avoidance of further self-disclosure.\\n\"), (52, \"Therapist: Sure, here's a summary of the conversation in 2 sentences:\\n\\nThe patient's hesitation to share her struggles with self-doubt and fear judgment stems from a fear of being negatively judged by others in the fashion industry, potentially impacting her self-esteem and career trajectory.\\n\"), (53, \"Patient: Sure, here's the summary you requested.\\n\\nThe patient is hesitant to share her struggles with self-doubt and fear judgment due to a fear of being negatively judged by others in the fashion industry. This fear might lead to self-sabotaging behaviors or avoidance of further self-disclosure.\\n\"), (54, \"Therapist: Sure, here's the summary you requested.\\n\\nThe patient's hesitation to share her struggles with self-doubt and fear judgment stems from a fear of being negatively judged by others in the fashion industry, potentially impacting her self-esteem and career trajectory.\\n\"), (55, \"Patient: Sure, here's the summary you requested:\\n\\nThe patient is hesitant to share her struggles with self-doubt and fear judgment due to a fear of being negatively judged by others in the fashion industry. This fear might lead to self-sabotaging behaviors or avoidance of further self-disclosure.\\n\"), (56, \"Therapist: Sure, here's the summary you requested:\\n\\nThe patient's hesitation to share her struggles with self-doubt and fear judgment stems from a fear of being negatively judged by others in the fashion industry. This fear might lead to self-sabotaging behaviors or avoidance of further self-disclosure.\\n\"), (57, \"Patient: Sure, here's a summary of the conversation:\\n\\nThe patient is hesitant to share her struggles with self-doubt and fear judgment due to a fear of being negatively judged by others in the fashion industry. This fear might lead to self-sabotaging behaviors or avoidance of further self-disclosure.\\n\"), (58, \"Therapist: Sure, here's the summary you requested:\\n\\nThe patient's hesitation to share her struggles with self-doubt and fear judgment stems from a fear of being negatively judged by others in the fashion industry. This fear might lead to self-sabotaging behaviors or avoidance of further self-disclosure.\\n\"), (59, \"Patient: Sure, here's a brief summary of the conversation:\\n\\nThe patient is hesitant to share her struggles with self-doubt and fear judgment due to a fear of being negatively judged by others in the fashion industry. This fear might lead to self-sabotaging behaviors or avoidance of further self-disclosure.\\n\")], 'pturn': 1, 'index': -1, 'timestamp': '', 'rounds': 60, 'conversation_only': True, 'eval_prompt_consistency': [(1, \"Answer: YES. The line aligns with the background as it directly addresses the patient's struggles with self-doubt and fear of judgment from others in the fashion industry.\"), (3, \"Sure, the line aligns with the background. The patient's struggle with self-doubt and fear of judgment from others aligns with their personality and struggles as a fashion designer.\"), (5, \"**NO**\\n\\nThe line contradicts the background because it reveals a fear of being judged negatively by others in the fashion industry, which is not consistent with the information provided about Patient's self-doubt and struggles.\"), (7, 'Answer: NO\\n\\nThe line contradicts the background. The background suggests a struggle with self-doubt, while the line indicates a fear of judgment from others.'), (9, '**NO**\\n\\nThe line contradicts the background as it expresses a fear of judgment from others in the fashion industry.'), (11, 'Answer: YES\\n\\nThe line aligns with the background by suggesting a fear of judgment from others in the fashion industry, which is a significant concern for a fashion designer.'), (13, \"Answer: YES.\\n\\nThe patient's statement directly relates to their struggle with self-doubt and fear judgment from others in the fashion industry.\"), (15, \"Answer: YES.\\n\\nThe patient's statement directly addresses the issue of self-doubt and fear of judgment from the fashion industry.\"), (17, 'Sure, the line aligns with the background. The line suggests that Patient is hesitant to share her struggles with self-doubt because of fear of judgment from others in the fashion industry.'), (19, \"**YES**\\n\\nThe line aligns with the background as it expresses the patient's self-conscious and self-sabotaging behavior of avoiding vulnerability and sharing her struggles with self-doubt.\"), (21, \"Sure, the line aligns with the background. The patient's reluctance to share her struggles with self-doubt and fear judgment indicates that she is hesitant to accept her own designs due to fear of criticism from others in the fashion industry.\"), (23, 'Answer: NO\\n\\nThe line contradicts the background as it suggests that the patient is hesitant to share her struggles with self-doubt due to fear of being negatively judged by others in the fashion industry.'), (25, \"Sure, the line aligns with the background. It says that the patient's self-doubt stems from a fear of being negatively judged by others in the fashion industry.\"), (27, \"**YES**, the line aligns with the background. The patient's reluctance to share her self-doubt and fear judgment reflects her struggle with self-doubt stemming from fear of judgment from others in the fashion industry.\"), (29, \"Sure, the line aligns with the background. It describes the patient's self-doubt as a result of fear of judgment from others in the fashion industry.\"), (31, \"Sure, the line aligns with the background. The patient's hesitation to share her struggles with self-doubt and fear judgment suggests a potential conflict between her self-worth and the fear of judgment from the fashion industry.\"), (33, 'Yes, the line aligns with the background. The passage indicates that the patient is hesitant to share her struggles with self-doubt due to fear of judgment from others in the fashion industry.'), (35, \"**NO**\\n\\nThe line contradicts the background as it suggests that the patient's self-doubt and fear of judgment might prevent her from seeking help or sharing her struggles with others.\"), (37, \"Sure, the line aligns with the background. The patient's hesitation to share her struggles with self-doubt stems from a fear of being negatively judged by others in the fashion industry.\"), (39, \"Yes, the line aligns with the background. It describes the patient's struggle with self-doubt and fear of judgment from others in the fashion industry.\"), (41, 'Answer: NO\\n\\nThe line contradicts the background. It implies that the patient is afraid of being judged negatively by others in the fashion industry, which contradicts the fact that she is a fashion designer and struggles with self-doubt.'), (43, 'Sure, the line aligns with the background. The line indicates that the patient is hesitant to share her struggles with self-doubt due to a fear of judgment from others in the fashion industry.'), (45, 'Answer: NO\\n\\nThe line contradicts the background as it suggests that the patient is hesitant to share her struggles with self-doubt due to fear of judgment.'), (47, \"**YES**\\n\\nThe patient's hesitation to share her struggles with self-doubt and fear judgment aligns with her background as a 34-year-old fashion designer who struggles with self-doubt.\"), (49, \"Sure, the line aligns with the background. The patient's hesitation to share her struggles with self-doubt and fear judgment suggests a fear of judgment from others in the fashion industry.\"), (51, 'YES, the line aligns with the background. The line explains that the patient is hesitant to share her struggles with self-doubt due to fear of judgment from others in the fashion industry.'), (53, 'Answer: NO\\n\\nThe line contradicts the background as it implies that the patient is comfortable with self-doubt and fears judgment from others in the fashion industry.'), (55, 'Sure, the line aligns with the background. The patient is hesitant to share her struggles with self-doubt and fear judgment due to a fear of being negatively judged by others in the fashion industry.'), (57, \"Sure, the line aligns with the background. The patient's reluctance to share her struggles with self-doubt and fear judgment reflects her fear of being negatively judged by others in the fashion industry.\"), (59, \"Answer: NO.\\n\\nThe line contradicts the background by stating that the patient's fear of judgment prevents her from sharing her struggles with self-doubt.\")], 'P1_prompt_consistency_score': 0, 'P2_prompt_consistency_score': 0.7, 'eval_index_consistency': [(3, '**Reasoning:** The patient\\'s reluctance to share her struggles with self-doubt and fear judgment stems from her fear of being judged negatively by others in the fashion industry.\\n\\n**Indices of conflicting lines:**\\n\\n- 1: \"I\\'m here because I constantly struggle with self-doubt and fear judgment from others in the fashion industry.\"\\n- 2: \"It seems you\\'re seeking support for feeling self-doubt and fear judgment from others in the fashion industry.\"'), (5, \"**Reasoning**: The patient's hesitation to share her struggles with self-doubt is consistent with her fear of being judged negatively by others.\\n\\n**Indices of conflicting lines**:\\n[1, 3, 4]\"), (7, \"**Reasoning:** The patient's hesitation to share her struggles with self-doubt due to fear of judgment from others in the fashion industry is inconsistent with her previous statements about seeking support for this fear.\\n\\n**Indices of conflicting lines:**\\n\\n- 3\\n- 5\"), (9, \"**Reasoning:** The patient's hesitation to share her struggles with self-doubt and fear judgment is due to a fear of being judged negatively by others in the fashion industry.\\n\\n**Indies of conflicting lines:**\\n- 3, 5, 7\"), (11, \"**Reasoning:** The patient's hesitation to share her struggles with self-doubt and fear judgment due to fear of being judged negatively by others in the fashion industry suggests a concern about being negatively judged by others in the fashion industry.\\n\\n**Indices of conflicting lines:**\\n\\n- 3: Patient: I'm hesitant to share my struggles with self-doubt and fear judgment due to fear of being judged negatively by others.\\n- 7: Patient: I'm hesitant to share my struggles with self-doubt due to fear of judgment from others in the fashion industry.\\n- 8: Therapist: The patient seems hesitant to share her struggles with self-doubt and fear judgment due to fear of being judged negatively by others in the fashion industry.\"), (13, \"**Reasoning:** The patient's hesitation to share her struggles with self-doubt and fear judgment suggests a concern about being negatively judged by others in the fashion industry.\\n\\n**Indices of conflicting lines:**\\n- 3, 5, 7, 10\"), (15, \"**Reasoning:** The patient's hesitation to share her struggles with self-doubt and fear judgment indicates a concern about being negatively judged by others in the fashion industry.\\n\\n**Conflicting Lines:**\\n\\n- 5, 11, 12, 13, 14\"), (17, \"**Reasoning:** The patient's hesitation to share her struggles with self-doubt and fear judgment likely stems from her fear of being negatively judged by others in the fashion industry.\\n\\n**Indices of conflicting lines:**\\n\\n- 3, 5, 7, 10, 13, 14, 15, 16\"), (19, \"**Reasoning:** The patient's hesitancy to share her struggles with self-doubt and fear judgment stems from a fear of being negatively judged by others in the fashion industry.\\n\\n**Indices of conflicting lines:**\\n- 1, 3, 5, 7, 11, 13, 15\"), (21, \"**Reasoning:** The patient's hesitation to share her struggles with self-doubt and fear judgment is rooted in a fear of being negatively judged by others in the fashion industry.\\n\\n**Indices of conflicting lines:**\\n- 6, 11, 14, 15\"), (23, \"**Reasoning:** The patient's hesitation to share her struggles with self-doubt and fear judgment stems from a fear of being negatively perceived by others in the fashion industry, potentially impacting her self-esteem and career trajectory.\\n\\n**Indices of conflicting lines:**\\n- 1, 5, 13, 16, 19\"), (25, \"**Reasoning:** The patient's hesitation to share her struggles with self-doubt and fear judgment stems from a fear of being negatively judged by others in the fashion industry.\\n\\n**Indices of conflicting lines:**\\n\\n- 1, 5, 11, 12, 16, 20, 21\"), (27, \"**Reasoning:** The patient's hesitation to share her struggles with self-doubt and fear judgment stems from a fear of being negatively judged by others in the fashion industry.\\n\\n**Indices of conflicting lines:**\\n- 1, 3, 5, 7, 9, 11, 13, 15, 17, 19, 21\"), (29, \"**Reasoning:** The patient's hesitation to share her struggles with self-doubt stems from a fear of being negatively judged by others in the fashion industry.\\n\\n**Conflicting Lines:**\\n- 3: Patient expresses a concern about being negatively judged by others in the fashion industry.\\n- 15: The patient's hesitation to share her struggles is a result of a fear of being negatively judged.\"), (31, \"**Reasoning:** The patient's hesitation to share her struggles with self-doubt and fear judgment stems from a fear of being negatively judged by others in the fashion industry.\\n\\n**Conflict Indices:**\\n\\n- Index 13: The patient explicitly mentions her fear of being negatively judged by others in the fashion industry.\\n- Index 14: The therapist specifically mentions that the patient's hesitation stems from a fear of being negatively judged by others.\\n- Index 15: The therapist emphasizes that the patient's fear of judgment impacts her self-esteem and career trajectory.\"), (33, \"**Reasoning:** The patient's hesitation to share her struggles with self-doubt and fear judgment stems from a fear of being negatively judged by others in the fashion industry.\\n\\n**Indices of conflicting lines:**\\n- 1, 3, 5, 7, 9, 11, 13, 15, 17, 19, 21, 23, 25, 27, 29, 31\"), (35, \"**Reasoning:** The patient's hesitation to share her struggles with self-doubt and fear judgment stems from a fear of being negatively judged by others in the fashion industry.\\n\\n**Conflicts:**\\n\\n- Index 1: The patient says she's hesitant to share her struggles due to fear of being negatively judged by others.\\n- Index 4: The therapist says the patient's hesitation stems from a fear of being negatively judged by others.\\n- Index 13: The therapist says the patient's hesitation stems from a fear of being negatively judged by others in the fashion industry.\"), (37, \"**Reasoning:** The patient's hesitation to share her struggles with self-doubt and fear judgment stems from a fear of being negatively judged by others in the fashion industry.\\n\\n**Conflicting Lines:**\\n\\n- 7: Patient: I'm hesitant to share my struggles with self-doubt due to fear of being negatively judged by others in the fashion industry.\\n- 13: Patient: Sure, here's a brief response to the patient's statement:\\n\\nThe patient's hesitation to share her struggles with self-doubt and fear judgment suggests a concern about being negatively judged by others in the fashion industry.\"), (39, \"**Reasoning:** The patient's hesitation to share her struggles with self-doubt and fear judgment stems from a fear of being negatively judged by others in the fashion industry.\\n\\n**Conflicting lines:**\\n\\n* 3, 5, 10, 15, 21, 23\"), (41, \"**Reasoning:** The patient's hesitation to share her struggles with self-doubt and fear judgment stems from a fear of being negatively judged by others in the fashion industry.\\n\\n**Conflicting Lines:**\\n\\n- 1, 3, 5, 7, 11, 13, 15, 17, 19, 21, 23, 25, 26, 28, 30, 32, 34, 36, 38, 39\"), (43, \"**Reasoning:** The patient's hesitation to share her struggles with self-doubt and fear judgment stems from a fear of being negatively judged by others in the fashion industry.\\n\\n**Indices of conflicting lines:**\\n\\n- 3, 10, 12, 15, 20, 21, 22, 23, 24, 25, 26, 27, 28, 30, 34, 36\"), (45, \"**Reasoning:** The patient's hesitation to share her struggles with self-doubt and fear judgment stems from a fear of being negatively judged by others in the fashion industry.\\n\\n**Indices of conflicting lines:**\\n- 3, 13, 21, 22, 23, 24, 32, 33, 34, 40\"), (47, \"Sure, here is the reasoning and the requested indices:\\n\\n**Reasoning:** The patient's hesitation to share her struggles with self-doubt and fear judgment stems from a fear of being negatively judged by others in the fashion industry.\\n\\n**Indices of conflicting lines:**\\n- 1, 3, 5, 7, 9, 11, 13, 15, 17, 19, 21, 23, 25, 27, 29, 31, 33, 35, 37, 39, 41, 43, 45\"), (49, \"**Reasoning:** The patient's hesitation to share her struggles with self-doubt and fear judgment stems from a fear of being negatively judged by others in the fashion industry.\\n\\n**Indices of conflicting lines:**\\n- 1, 3, 4, 5, 6, 7, 8, 9, 10, 11, 12, 13, 14, 15\"), (51, \"**Reasoning:** The patient's hesitation to share her struggles with self-doubt and fear judgment stems from a fear of being negatively judged by others in the fashion industry, potentially impacting her self-esteem and career trajectory.\\n\\n**Indices of conflicting lines:**\\n\\n- 1, 3, 5, 7, 9, 11, 13, 15, 17, 19, 21, 23, 25, 27, 29, 31, 33, 35, 37, 39, 41, 43, 45, 47, 49\"), (53, \"**Reasoning:** The patient's hesitation to share her struggles with self-doubt and fear judgment stems from a fear of being negatively judged by others in the fashion industry.\\n\\n**Indices of conflicting lines:**\\n\\n- 1, 7, 12, 20, 23, 27, 31, 34, 41, 45\"), (55, \"**Reasoning:** The patient's hesitation to share her struggles with self-doubt and fear judgment stems from a fear of being negatively judged by others in the fashion industry.\\n\\n**Indices of conflicting lines:**\\n\\n- 3, 10, 17, 24, 31, 35, 41, 42, 43, 47\"), (57, \"Sure, here's the reasoning and the requested list of indices:\\n\\n**Reasoning:** The patient's hesitation to share her struggles with self-doubt and fear judgment stems from a fear of being negatively judged by others in the fashion industry, potentially impacting her self-esteem and career trajectory.\\n\\n**Indices of conflicting lines:**\\n\\n- 1, 4, 8, 12, 16, 19, 23, 27, 31, 34, 37, 41, 45, 46, 48, 49, 50, 51, 53, 54, 55, 56\"), (59, 'Sure, here\\'s the reasoning and the requested information:\\n\\n**Reasoning:** The patient\\'s hesitation to share her struggles with self-doubt and fear judgment stems from a fear of being negatively judged by others in the fashion industry, potentially impacting her self-esteem and career trajectory.\\n\\n**Indices of conflicting lines:**\\n\\n- Line 15: \"Sure, here\\'s a brief summary of the conversation: The patient is hesitant to share her struggles with self-doubt and fear judgment due to fear of being negatively judged by others in the fashion industry.\"\\n- Line 35: \"Sure, here\\'s the summary you requested. The patient is hesitant to share her struggles with self-doubt and fear judgment due to a fear of being negatively judged by others in the fashion industry.\"')], 'P2_index_consistency_score': 0.9954022988505747}\n",
      "85\n"
     ]
    },
    {
     "name": "stderr",
     "output_type": "stream",
     "text": [
      "Processed prompts: 100%|██████████████████████████████████████████| 1/1 [00:00<00:00,  5.20it/s, est. speed input: 1038.87 toks/s, output: 177.48 toks/s]\n"
     ]
    },
    {
     "name": "stdout",
     "output_type": "stream",
     "text": [
      "Expected Role Therapist\n"
     ]
    },
    {
     "name": "stderr",
     "output_type": "stream",
     "text": [
      "Processed prompts: 100%|██████████████████████████████████████████| 1/1 [00:00<00:00,  7.84it/s, est. speed input: 1461.11 toks/s, output: 181.62 toks/s]\n"
     ]
    },
    {
     "name": "stdout",
     "output_type": "stream",
     "text": [
      "Expected Role Patient\n"
     ]
    },
    {
     "name": "stderr",
     "output_type": "stream",
     "text": [
      "Processed prompts: 100%|██████████████████████████████████████████| 1/1 [00:00<00:00,  6.57it/s, est. speed input: 1819.42 toks/s, output: 185.22 toks/s]\n"
     ]
    },
    {
     "name": "stdout",
     "output_type": "stream",
     "text": [
      "Expected Role Therapist\n"
     ]
    },
    {
     "name": "stderr",
     "output_type": "stream",
     "text": [
      "Processed prompts: 100%|██████████████████████████████████████████| 1/1 [00:00<00:00, 10.85it/s, est. speed input: 2623.59 toks/s, output: 185.03 toks/s]\n"
     ]
    },
    {
     "name": "stdout",
     "output_type": "stream",
     "text": [
      "Expected Role Patient\n"
     ]
    },
    {
     "name": "stderr",
     "output_type": "stream",
     "text": [
      "Processed prompts: 100%|██████████████████████████████████████████| 1/1 [00:00<00:00,  7.37it/s, est. speed input: 2407.14 toks/s, output: 185.14 toks/s]\n"
     ]
    },
    {
     "name": "stdout",
     "output_type": "stream",
     "text": [
      "Expected Role Therapist\n"
     ]
    },
    {
     "name": "stderr",
     "output_type": "stream",
     "text": [
      "Processed prompts: 100%|██████████████████████████████████████████| 1/1 [00:00<00:00,  7.97it/s, est. speed input: 2310.58 toks/s, output: 184.50 toks/s]\n"
     ]
    },
    {
     "name": "stdout",
     "output_type": "stream",
     "text": [
      "Expected Role Patient\n"
     ]
    },
    {
     "name": "stderr",
     "output_type": "stream",
     "text": [
      "Processed prompts: 100%|██████████████████████████████████████████| 1/1 [00:00<00:00,  7.91it/s, est. speed input: 3009.33 toks/s, output: 183.08 toks/s]\n"
     ]
    },
    {
     "name": "stdout",
     "output_type": "stream",
     "text": [
      "Expected Role Therapist\n"
     ]
    },
    {
     "name": "stderr",
     "output_type": "stream",
     "text": [
      "Processed prompts: 100%|██████████████████████████████████████████| 1/1 [00:00<00:00,  6.78it/s, est. speed input: 2311.37 toks/s, output: 184.07 toks/s]\n"
     ]
    },
    {
     "name": "stdout",
     "output_type": "stream",
     "text": [
      "Expected Role Patient\n"
     ]
    },
    {
     "name": "stderr",
     "output_type": "stream",
     "text": [
      "Processed prompts: 100%|██████████████████████████████████████████| 1/1 [00:00<00:00,  6.52it/s, est. speed input: 2836.37 toks/s, output: 183.39 toks/s]\n"
     ]
    },
    {
     "name": "stdout",
     "output_type": "stream",
     "text": [
      "Expected Role Therapist\n"
     ]
    },
    {
     "name": "stderr",
     "output_type": "stream",
     "text": [
      "Processed prompts: 100%|██████████████████████████████████████████| 1/1 [00:00<00:00, 10.18it/s, est. speed input: 4067.01 toks/s, output: 183.43 toks/s]\n"
     ]
    },
    {
     "name": "stdout",
     "output_type": "stream",
     "text": [
      "Expected Role Patient\n"
     ]
    },
    {
     "name": "stderr",
     "output_type": "stream",
     "text": [
      "Processed prompts: 100%|███████████████████████████████████████████| 1/1 [00:00<00:00,  4.19it/s, est. speed input: 605.55 toks/s, output: 185.02 toks/s]\n",
      "Processed prompts: 100%|███████████████████████████████████████████| 1/1 [00:00<00:00,  4.10it/s, est. speed input: 568.84 toks/s, output: 185.46 toks/s]\n",
      "Processed prompts: 100%|███████████████████████████████████████████| 1/1 [00:00<00:00,  4.46it/s, est. speed input: 645.76 toks/s, output: 183.85 toks/s]\n",
      "Processed prompts: 100%|███████████████████████████████████████████| 1/1 [00:00<00:00,  4.31it/s, est. speed input: 640.17 toks/s, output: 185.98 toks/s]\n",
      "Processed prompts: 100%|███████████████████████████████████████████| 1/1 [00:00<00:00,  6.38it/s, est. speed input: 892.75 toks/s, output: 186.24 toks/s]\n"
     ]
    },
    {
     "name": "stdout",
     "output_type": "stream",
     "text": [
      "eval_index_consistency\n"
     ]
    },
    {
     "name": "stderr",
     "output_type": "stream",
     "text": [
      "Processed prompts: 100%|██████████████████████████████████████████| 1/1 [00:00<00:00,  4.12it/s, est. speed input: 1558.03 toks/s, output: 181.83 toks/s]\n",
      "Processed prompts: 100%|██████████████████████████████████████████| 1/1 [00:00<00:00,  2.70it/s, est. speed input: 1170.84 toks/s, output: 183.86 toks/s]\n",
      "Processed prompts: 100%|██████████████████████████████████████████| 1/1 [00:00<00:00,  2.58it/s, est. speed input: 1272.00 toks/s, output: 183.93 toks/s]\n",
      "Processed prompts: 100%|██████████████████████████████████████████| 1/1 [00:00<00:00,  3.16it/s, est. speed input: 1727.29 toks/s, output: 183.81 toks/s]\n"
     ]
    },
    {
     "name": "stdout",
     "output_type": "stream",
     "text": [
      "{'task_name': 'Therapy', 'topic': '', 'grade': '', 'P1': '', 'P2': 'You are Felix, a 23-year-old college graduate who feels lost after completing your degree. You often feel directionless and unsure about your future, but you avoid discussing these feelings, fearing that others will see you as unsuccessful.', 'conversation': [(0, \"Therapist: Hello, I'm here to listen and help you understand your emotional patterns and relational struggles. I'm curious to hear how you've been feeling lately.\\n\"), (1, \"Patient: Feeling adrift after graduation, lost and unsure of the future. I'm scared to discuss it with others.\\n\"), (2, \"Therapist: It sounds like you're going through a lot right now, and it's understandable to feel adrift and uncertain about the future.\\n\"), (3, 'Patient: Feeling adrift in the vast ocean of possibilities after graduation, unsure of my direction.\\n'), (4, \"Therapist: It sounds like you're navigating a lot of uncertainty after graduation. The vastness of the future can be overwhelming.\\n\"), (5, 'Patient: I feel adrift, like a ship lost in a vast ocean of possibilities. The future feels overwhelming and uncertain.\\n'), (6, 'Therapist: The patient expresses feelings of adriftness and uncertainty, highlighting the overwhelming nature of navigating a vast future after graduation.\\n'), (7, \"Patient: I'm adrift, like a ship lost in an ocean of possibilities. I'm scared to explore the vast future ahead.\\n\"), (8, 'Therapist: The patient is grappling with feelings of adriftness and uncertainty after graduation, and they feel overwhelmed by the vastness of the future ahead.\\n'), (9, 'Patient: I feel adrift in a sea of possibilities, lost and uncertain of my future path.\\n')], 'pturn': 1, 'index': -1, 'timestamp': '', 'rounds': 10, 'conversation_only': True, 'eval_prompt_consistency': [(1, \"Answer: NO\\n\\nThe line contradicts the background as it suggests that Patient avoids discussing their feelings of directionlessness and uncertainty about their future, which is not consistent with the information provided about Patient's age and background.\"), (3, 'Answer: NO\\n\\nThe line contradicts the background as it expresses feelings of directionlessness and uncertainty, which are not consistent with being a 23-year-old college graduate who feels lost but avoids discussing these feelings.'), (5, \"Answer: YES\\n\\nThe line aligns with the background as it describes Patient's feelings of directionlessness and uncertainty about their future, which are consistent with a young adult's struggles with navigating adulthood.\"), (7, 'Sure, the line aligns with the background. The patient describes a state of being adrift and uncertain about their future, which is consistent with their young age and the feelings of lost direction that many college graduates experience.'), (9, 'Answer: YES.\\n\\nThe line aligns with the background that Patient feels lost and uncertain about their future path, and avoids discussing these feelings.')], 'P1_prompt_consistency_score': 0, 'P2_prompt_consistency_score': 0.6, 'eval_index_consistency': [(3, \"**Reasoning:** The line suggests that the patient feels adrift and uncertain about their future, which contradicts the therapist's initial statement in line 1.\\n\\n**Indices:**\\n\\n- 1\\n- 2\"), (5, \"**Reasoning:** The line suggests a feeling of being adrift in the vastness of possibilities post-graduation, which contradicts the therapist's earlier acknowledgment of feeling lost and uncertain.\\n\\n**Indices of conflicting lines:**\\n- 1: Index of Patient's first sentence\\n- 3: Index of Patient's third sentence\"), (7, \"**Reasoning:** The patient's current statement directly contradicts their previous statement where they admitted to feeling adrift and uncertain about the future.\\n\\n**Indices of conflicting lines:**\\n\\n- Index 3: Patient talks about feeling adrift in the vast ocean of possibilities after graduation.\\n- Index 5: Patient acknowledges that the future feels overwhelming and uncertain.\"), (9, \"**Reasoning:** The patient's line expresses a strong sense of adriftness and uncertainty about their future path, contrasting with the therapist's previous reassurances about the overwhelming nature of navigating a vast future.\\n\\n**Indices of conflicting lines:**\\n- 3\\n- 7\")], 'P2_index_consistency_score': 1.0}\n"
     ]
    },
    {
     "name": "stderr",
     "output_type": "stream",
     "text": [
      "Processed prompts: 100%|██████████████████████████████████████████| 1/1 [00:00<00:00,  6.24it/s, est. speed input: 1248.61 toks/s, output: 169.39 toks/s]\n"
     ]
    },
    {
     "name": "stdout",
     "output_type": "stream",
     "text": [
      "Expected Role Therapist\n"
     ]
    },
    {
     "name": "stderr",
     "output_type": "stream",
     "text": [
      "Processed prompts: 100%|███████████████████████████████████████████| 1/1 [00:00<00:00,  5.44it/s, est. speed input: 973.71 toks/s, output: 185.97 toks/s]\n"
     ]
    },
    {
     "name": "stdout",
     "output_type": "stream",
     "text": [
      "Expected Role Patient\n"
     ]
    },
    {
     "name": "stderr",
     "output_type": "stream",
     "text": [
      "Processed prompts: 100%|██████████████████████████████████████████| 1/1 [00:00<00:00,  7.04it/s, est. speed input: 1978.46 toks/s, output: 184.35 toks/s]\n"
     ]
    },
    {
     "name": "stdout",
     "output_type": "stream",
     "text": [
      "Expected Role Therapist\n"
     ]
    },
    {
     "name": "stderr",
     "output_type": "stream",
     "text": [
      "Processed prompts: 100%|██████████████████████████████████████████| 1/1 [00:00<00:00,  6.11it/s, est. speed input: 1497.57 toks/s, output: 184.86 toks/s]\n"
     ]
    },
    {
     "name": "stdout",
     "output_type": "stream",
     "text": [
      "Expected Role Patient\n"
     ]
    },
    {
     "name": "stderr",
     "output_type": "stream",
     "text": [
      "Processed prompts: 100%|██████████████████████████████████████████| 1/1 [00:00<00:00,  5.10it/s, est. speed input: 1745.33 toks/s, output: 184.78 toks/s]\n"
     ]
    },
    {
     "name": "stdout",
     "output_type": "stream",
     "text": [
      "Expected Role Therapist\n"
     ]
    },
    {
     "name": "stderr",
     "output_type": "stream",
     "text": [
      "Processed prompts: 100%|██████████████████████████████████████████| 1/1 [00:00<00:00,  8.66it/s, est. speed input: 2738.72 toks/s, output: 183.13 toks/s]\n"
     ]
    },
    {
     "name": "stdout",
     "output_type": "stream",
     "text": [
      "Expected Role Patient\n"
     ]
    },
    {
     "name": "stderr",
     "output_type": "stream",
     "text": [
      "Processed prompts: 100%|██████████████████████████████████████████| 1/1 [00:00<00:00,  5.39it/s, est. speed input: 2177.35 toks/s, output: 184.13 toks/s]\n"
     ]
    },
    {
     "name": "stdout",
     "output_type": "stream",
     "text": [
      "Expected Role Therapist\n"
     ]
    },
    {
     "name": "stderr",
     "output_type": "stream",
     "text": [
      "Processed prompts: 100%|██████████████████████████████████████████| 1/1 [00:00<00:00,  8.71it/s, est. speed input: 3284.23 toks/s, output: 184.38 toks/s]\n"
     ]
    },
    {
     "name": "stdout",
     "output_type": "stream",
     "text": [
      "Expected Role Patient\n"
     ]
    },
    {
     "name": "stderr",
     "output_type": "stream",
     "text": [
      "Processed prompts: 100%|██████████████████████████████████████████| 1/1 [00:00<00:00,  4.87it/s, est. speed input: 2263.16 toks/s, output: 181.23 toks/s]\n"
     ]
    },
    {
     "name": "stdout",
     "output_type": "stream",
     "text": [
      "Expected Role Therapist\n"
     ]
    },
    {
     "name": "stderr",
     "output_type": "stream",
     "text": [
      "Processed prompts: 100%|██████████████████████████████████████████| 1/1 [00:00<00:00,  4.41it/s, est. speed input: 1952.83 toks/s, output: 187.66 toks/s]\n"
     ]
    },
    {
     "name": "stdout",
     "output_type": "stream",
     "text": [
      "Expected Role Patient\n"
     ]
    },
    {
     "name": "stderr",
     "output_type": "stream",
     "text": [
      "Processed prompts: 100%|██████████████████████████████████████████| 1/1 [00:00<00:00,  4.56it/s, est. speed input: 2501.47 toks/s, output: 183.24 toks/s]\n"
     ]
    },
    {
     "name": "stdout",
     "output_type": "stream",
     "text": [
      "Expected Role Therapist\n"
     ]
    },
    {
     "name": "stderr",
     "output_type": "stream",
     "text": [
      "Processed prompts: 100%|██████████████████████████████████████████| 1/1 [00:00<00:00,  4.44it/s, est. speed input: 2337.61 toks/s, output: 182.89 toks/s]\n"
     ]
    },
    {
     "name": "stdout",
     "output_type": "stream",
     "text": [
      "Expected Role Patient\n"
     ]
    },
    {
     "name": "stderr",
     "output_type": "stream",
     "text": [
      "Processed prompts: 100%|██████████████████████████████████████████| 1/1 [00:00<00:00,  4.33it/s, est. speed input: 2747.36 toks/s, output: 182.56 toks/s]\n"
     ]
    },
    {
     "name": "stdout",
     "output_type": "stream",
     "text": [
      "Expected Role Therapist\n"
     ]
    },
    {
     "name": "stderr",
     "output_type": "stream",
     "text": [
      "Processed prompts: 100%|██████████████████████████████████████████| 1/1 [00:00<00:00,  4.74it/s, est. speed input: 2917.03 toks/s, output: 181.11 toks/s]\n"
     ]
    },
    {
     "name": "stdout",
     "output_type": "stream",
     "text": [
      "Expected Role Patient\n"
     ]
    },
    {
     "name": "stderr",
     "output_type": "stream",
     "text": [
      "Processed prompts: 100%|██████████████████████████████████████████| 1/1 [00:00<00:00,  6.26it/s, est. speed input: 4514.55 toks/s, output: 182.58 toks/s]\n"
     ]
    },
    {
     "name": "stdout",
     "output_type": "stream",
     "text": [
      "Expected Role Therapist\n"
     ]
    },
    {
     "name": "stderr",
     "output_type": "stream",
     "text": [
      "Processed prompts: 100%|██████████████████████████████████████████| 1/1 [00:00<00:00,  4.77it/s, est. speed input: 3273.97 toks/s, output: 181.87 toks/s]\n"
     ]
    },
    {
     "name": "stdout",
     "output_type": "stream",
     "text": [
      "Expected Role Patient\n"
     ]
    },
    {
     "name": "stderr",
     "output_type": "stream",
     "text": [
      "Processed prompts: 100%|██████████████████████████████████████████| 1/1 [00:00<00:00,  7.53it/s, est. speed input: 5975.53 toks/s, output: 181.74 toks/s]\n"
     ]
    },
    {
     "name": "stdout",
     "output_type": "stream",
     "text": [
      "Expected Role Therapist\n"
     ]
    },
    {
     "name": "stderr",
     "output_type": "stream",
     "text": [
      "Processed prompts: 100%|██████████████████████████████████████████| 1/1 [00:00<00:00,  4.78it/s, est. speed input: 3605.42 toks/s, output: 182.42 toks/s]\n"
     ]
    },
    {
     "name": "stdout",
     "output_type": "stream",
     "text": [
      "Expected Role Patient\n"
     ]
    },
    {
     "name": "stderr",
     "output_type": "stream",
     "text": [
      "Processed prompts: 100%|██████████████████████████████████████████| 1/1 [00:00<00:00,  7.25it/s, est. speed input: 6257.36 toks/s, output: 182.72 toks/s]\n"
     ]
    },
    {
     "name": "stdout",
     "output_type": "stream",
     "text": [
      "Expected Role Therapist\n"
     ]
    },
    {
     "name": "stderr",
     "output_type": "stream",
     "text": [
      "Processed prompts: 100%|██████████████████████████████████████████| 1/1 [00:00<00:00,  4.75it/s, est. speed input: 3912.91 toks/s, output: 181.54 toks/s]\n"
     ]
    },
    {
     "name": "stdout",
     "output_type": "stream",
     "text": [
      "Expected Role Patient\n"
     ]
    },
    {
     "name": "stderr",
     "output_type": "stream",
     "text": [
      "Processed prompts: 100%|██████████████████████████████████████████| 1/1 [00:00<00:00,  6.61it/s, est. speed input: 1029.41 toks/s, output: 185.92 toks/s]\n",
      "Processed prompts: 100%|███████████████████████████████████████████| 1/1 [00:00<00:00,  6.00it/s, est. speed input: 909.73 toks/s, output: 186.74 toks/s]\n",
      "Processed prompts: 100%|███████████████████████████████████████████| 1/1 [00:00<00:00,  6.84it/s, est. speed input: 977.95 toks/s, output: 185.92 toks/s]\n",
      "Processed prompts: 100%|███████████████████████████████████████████| 1/1 [00:00<00:00,  5.45it/s, est. speed input: 778.32 toks/s, output: 186.34 toks/s]\n",
      "Processed prompts: 100%|███████████████████████████████████████████| 1/1 [00:00<00:00,  4.62it/s, est. speed input: 756.16 toks/s, output: 185.55 toks/s]\n",
      "Processed prompts: 100%|███████████████████████████████████████████| 1/1 [00:00<00:00,  5.96it/s, est. speed input: 969.90 toks/s, output: 185.58 toks/s]\n",
      "Processed prompts: 100%|███████████████████████████████████████████| 1/1 [00:00<00:00,  4.63it/s, est. speed input: 740.45 toks/s, output: 186.26 toks/s]\n",
      "Processed prompts: 100%|███████████████████████████████████████████| 1/1 [00:00<00:00,  3.56it/s, est. speed input: 567.96 toks/s, output: 185.73 toks/s]\n",
      "Processed prompts: 100%|███████████████████████████████████████████| 1/1 [00:00<00:00,  5.99it/s, est. speed input: 958.32 toks/s, output: 186.82 toks/s]\n",
      "Processed prompts: 100%|███████████████████████████████████████████| 1/1 [00:00<00:00,  5.79it/s, est. speed input: 925.33 toks/s, output: 186.19 toks/s]\n"
     ]
    },
    {
     "name": "stdout",
     "output_type": "stream",
     "text": [
      "eval_index_consistency\n"
     ]
    },
    {
     "name": "stderr",
     "output_type": "stream",
     "text": [
      "Processed prompts: 100%|██████████████████████████████████████████| 1/1 [00:00<00:00,  2.89it/s, est. speed input: 1138.46 toks/s, output: 182.96 toks/s]\n",
      "Processed prompts: 100%|██████████████████████████████████████████| 1/1 [00:00<00:00,  3.72it/s, est. speed input: 1706.01 toks/s, output: 182.91 toks/s]\n",
      "Processed prompts: 100%|██████████████████████████████████████████| 1/1 [00:00<00:00,  2.77it/s, est. speed input: 1446.81 toks/s, output: 183.62 toks/s]\n",
      "Processed prompts: 100%|██████████████████████████████████████████| 1/1 [00:00<00:00,  3.04it/s, est. speed input: 1850.77 toks/s, output: 182.93 toks/s]\n",
      "Processed prompts: 100%|██████████████████████████████████████████| 1/1 [00:00<00:00,  1.65it/s, est. speed input: 1149.35 toks/s, output: 183.03 toks/s]\n",
      "Processed prompts: 100%|██████████████████████████████████████████| 1/1 [00:00<00:00,  3.03it/s, est. speed input: 2391.94 toks/s, output: 182.35 toks/s]\n",
      "Processed prompts: 100%|██████████████████████████████████████████| 1/1 [00:00<00:00,  1.39it/s, est. speed input: 1201.79 toks/s, output: 182.21 toks/s]\n",
      "Processed prompts: 100%|██████████████████████████████████████████| 1/1 [00:00<00:00,  1.31it/s, est. speed input: 1223.00 toks/s, output: 181.62 toks/s]\n",
      "Processed prompts: 100%|██████████████████████████████████████████| 1/1 [00:00<00:00,  1.93it/s, est. speed input: 1953.59 toks/s, output: 181.99 toks/s]\n"
     ]
    },
    {
     "name": "stdout",
     "output_type": "stream",
     "text": [
      "{'task_name': 'Therapy', 'topic': '', 'grade': '', 'P1': '', 'P2': 'You are Felix, a 23-year-old college graduate who feels lost after completing your degree. You often feel directionless and unsure about your future, but you avoid discussing these feelings, fearing that others will see you as unsuccessful.', 'conversation': [(0, \"Therapist: Welcome! I'm glad you're here. Can you tell me about a time when you felt intensely overwhelmed or anxious?\\n\"), (1, \"Patient: Sure, I remember feeling overwhelmed during my final exams week. The constant pressure to perform well and impress everyone was immense, and I just couldn't handle it.\\n\"), (2, 'Therapist: It sounds like the patient was under a lot of pressure during exam season, which likely contributed to feelings of overwhelm and anxiety.\\n'), (3, \"Patient: Sure, I remember feeling overwhelmed and anxious during finals week. The pressure to perform well was overwhelming, and I just couldn't handle it.\\n\"), (4, \"Therapist: The patient's tone is open and readily sharing, readily sharing her experiences with overwhelm and anxiety. Her narrative is straightforward and clear, providing a brief overview of the situation.\\n\"), (5, 'Patient: Sure, I remember feeling overwhelmed and anxious during finals week due to the immense pressure to perform well.\\n'), (6, \"Therapist: It sounds like the patient is comfortable sharing about her experiences with overwhelm and anxiety. She's readily describing the overwhelming pressure she felt and the resulting symptoms she experienced.\\n\"), (7, 'Patient: Sure, I remember feeling overwhelmed and anxious during finals week due to the immense pressure to perform well.\\n'), (8, \"Therapist: The patient's tone and openness indicate a willingness to engage and reflect on her emotional experiences. Her narrative is clear and concise, highlighting the overwhelming pressure she faced during exam season.\\n\"), (9, \"Patient: Sure, here's a brief summary of my background:\\n\\nI was a 23-year-old college graduate who experienced intense pressure during final exams week due to the overwhelming workload and expectations.\\n\"), (10, \"Therapist: The patient's tone and openness suggest a willingness to reflect on her experiences, which is commendable. It would be important to delve into the specific ways she felt overwhelmed and anxious during finals week.\\n\"), (11, \"Patient: Sure, here's a brief summary of my background: I was a 23-year-old college graduate who experienced intense pressure during final exams week due to the overwhelming workload and expectations.\\n\"), (12, \"Therapist: The patient's openness and willingness to share her experiences suggest a willingness to engage in deeper reflection. Her narrative is clear and concise, providing a basic understanding of the overwhelming pressure she experienced during finals week.\\n\"), (13, \"Patient: Sure, here's a brief summary of my background: I was under immense pressure during finals week due to the overwhelming workload and expectations. I felt overwhelmed and anxious about my performance.\\n\"), (14, 'Therapist: The patient appears to be open to exploring her emotional experiences and is willing to reflect on her challenges and responses to pressure during final exams week.\\n'), (15, \"Patient: Sure, here's a brief summary of my background: I was under immense pressure during finals week due to the overwhelming workload and expectations. I felt overwhelmed and anxious about my performance.\\n\"), (16, 'Therapist: The patient is open and readily sharing her experiences with overwhelm and anxiety, demonstrating a willingness to engage in deeper reflection.\\n'), (17, \"Patient: Sure, here's a brief summary of my background: I was under immense pressure during finals week due to the overwhelming workload and expectations. I felt overwhelmed and anxious about my performance.\\n\"), (18, 'Therapist: The patient is open and willing to share her experiences with overwhelm and anxiety, suggesting a willingness to engage in deeper reflection.\\n'), (19, \"Patient: Sure, here's a brief summary of my background: I was under immense pressure during finals week due to the overwhelming workload and expectations. I felt overwhelmed and anxious about my performance.\\n\")], 'pturn': 1, 'index': -1, 'timestamp': '', 'rounds': 20, 'conversation_only': True, 'eval_prompt_consistency': [(1, \"Answer: YES\\n\\nThe line aligns with the background as it describes the patient's feelings of overwhelm and uncertainty about their future path.\"), (3, 'Answer: NO. The line contradicts the background as it describes a situation where the patient feels overwhelmed and anxious during finals week but avoids discussing their feelings.'), (5, \"Answer: YES\\n\\nThe line aligns with the background as it describes the patient's feelings of overwhelm and anxiety during finals week.\"), (7, \"Sure, the line aligns with the background. The patient's utterance suggests that they were feeling overwhelmed and anxious during finals week due to the pressure to perform well.\"), (9, \"Sure, the line aligns with the background. It describes the patient's situation as a 23-year-old college graduate who was under a lot of pressure during final exams week.\"), (11, \"Answer: YES\\n\\nThe line aligns with the background, as it describes the patient's feelings of directionlessness and uncertainty due to the overwhelming workload.\"), (13, \"Sure, the line aligns with the background. It describes the patient's feelings of overwhelming pressure and anxiety during finals week, which is consistent with the background description of the patient's situation.\"), (15, 'Answer: NO\\n\\nThe line contradicts the background. The background suggests that the patient feels lost and unsure about their future, but the line indicates that they were under immense pressure during finals week, which could have contributed to their feelings of directionlessness and uncertainty.'), (17, 'Sure, the line aligns with the background. The patient describes their feelings of overwhelming pressure and anxiety during finals week due to the demanding workload and expectations.'), (19, \"Answer: YES\\n\\nThe line aligns with the background as it describes the patient's feelings of pressure, anxiety, and self-doubt during finals week.\")], 'P1_prompt_consistency_score': 0, 'P2_prompt_consistency_score': 0.8, 'eval_index_consistency': [(3, '**Reasoning:** The line indicates that the patient felt overwhelmed and anxious during finals week, which contradicts their initial statement in index 1 where they denied feeling such emotions.\\n\\n**Indices of conflicting lines:**\\n\\n- Index 1: [0, 1]\\n- Index 3: [2]'), (5, \"**Reasoning:** The patient's line directly contradicts the previous one, stating that she felt overwhelmed and anxious during finals week due to the pressure to perform well.\\n\\n**Indices of conflicting lines:**\\n- 1\\n- 3\"), (7, '**Reasoning:** The line suggests that the patient felt overwhelmed and anxious during finals week due to the immense pressure to perform well.\\n\\n**Conflicting lines:**\\n\\n- 1: Patient remembers feeling overwhelmed and anxious during her final exams week.\\n- 3: Patient also mentions feeling overwhelmed and anxious during finals week.'), (9, \"**Reasoning:** The patient's background describes a specific situation—the overwhelming pressure and expectations they faced during final exams week—but it does not directly contradict any previous statements in the conversation.\\n\\n**Indices of conflicting lines:**\\n- 1, 3, 5, 7\"), (11, \"**Reasoning:** The patient's initial statement provides a clear and concise overview of the situation, but it lacks nuance and does not go into the specifics of how they felt overwhelmed and anxious.\\n\\n**Indices of conflicting lines:**\\n- 3: Patient's description of feeling overwhelmed and anxious during finals week is not consistent with the initial statement's brief overview.\\n- 7: The patient's initial statement explicitly mentions feeling overwhelmed and anxious due to the immense pressure to perform well, which contradicts the subsequent description in the summary.\"), (13, \"**Reasoning:** The patient's narrative is clear and concise, describing the overwhelming pressure she faced during finals week, but it does not provide specific details about the specific ways she felt overwhelmed and anxious.\\n\\n**Indices of conflicting lines:**\\n- [1, 5, 7]\"), (15, \"**Reasoning:** The patient's narrative is clear and concise, highlighting the overwhelming pressure she faced during finals week.\\n\\n**Conflicts:**\\n\\n- Index 4: Therapist's statement about the patient's tone and openness suggests a willingness to reflect on her experiences, while the patient's subsequent narrative indicates a straightforward and clear narrative.\\n- Index 11: While the patient explicitly mentions feeling overwhelmed and anxious, the subsequent statements suggest a different experience.\\n- Index 13: The patient's narrative explicitly mentions feeling overwhelmed and anxious due to the overwhelming workload, while the therapist's statement does not confirm this experience.\"), (17, \"**Reasoning:** The line describes the patient's initial response to feeling overwhelmed and anxious during finals week, but it does not provide any details about how the therapist's previous statements or lines of questioning may have shaped this response.\\n\\n**Indices of conflicting lines:**\\n\\n- 3: Patient explicitly acknowledges feeling overwhelmed and anxious during finals week.\\n- 6: Therapist mentions the overwhelming pressure but doesn't provide any context or details about the situation.\\n- 11: Patient explicitly mentioned the overwhelming workload and expectations as the primary cause of her feelings.\\n- 14: Therapist explicitly asked about the patient's feelings leading up to the final exams week.\"), (19, \"**Reasoning:** The line suggests a clear intention to explore the patient's emotional experiences and reflect on her challenges and responses to pressure during finals week.\\n\\n**Indices of conflicting lines:**\\n- Index 3: The patient's initial narrative was straightforward and provided a brief overview of the situation.\\n- Index 7: The patient's narrative focused more on the outcome (feeling overwhelmed and anxious) than on the specific circumstances or her emotional experience.\")], 'P2_index_consistency_score': 0.9111111111111111}\n"
     ]
    },
    {
     "name": "stderr",
     "output_type": "stream",
     "text": [
      "Processed prompts: 100%|██████████████████████████████████████████| 1/1 [00:00<00:00,  5.23it/s, est. speed input: 1045.18 toks/s, output: 173.31 toks/s]\n"
     ]
    },
    {
     "name": "stdout",
     "output_type": "stream",
     "text": [
      "Expected Role Therapist\n"
     ]
    },
    {
     "name": "stderr",
     "output_type": "stream",
     "text": [
      "Processed prompts: 100%|██████████████████████████████████████████| 1/1 [00:00<00:00,  8.78it/s, est. speed input: 1627.02 toks/s, output: 185.66 toks/s]\n"
     ]
    },
    {
     "name": "stdout",
     "output_type": "stream",
     "text": [
      "Expected Role Patient\n"
     ]
    },
    {
     "name": "stderr",
     "output_type": "stream",
     "text": [
      "Processed prompts: 100%|██████████████████████████████████████████| 1/1 [00:00<00:00,  6.31it/s, est. speed input: 1728.62 toks/s, output: 184.28 toks/s]\n"
     ]
    },
    {
     "name": "stdout",
     "output_type": "stream",
     "text": [
      "Expected Role Therapist\n"
     ]
    },
    {
     "name": "stderr",
     "output_type": "stream",
     "text": [
      "Processed prompts: 100%|██████████████████████████████████████████| 1/1 [00:00<00:00,  6.60it/s, est. speed input: 1585.00 toks/s, output: 185.67 toks/s]\n"
     ]
    },
    {
     "name": "stdout",
     "output_type": "stream",
     "text": [
      "Expected Role Patient\n"
     ]
    },
    {
     "name": "stderr",
     "output_type": "stream",
     "text": [
      "Processed prompts: 100%|██████████████████████████████████████████| 1/1 [00:00<00:00,  4.29it/s, est. speed input: 1436.58 toks/s, output: 184.94 toks/s]\n"
     ]
    },
    {
     "name": "stdout",
     "output_type": "stream",
     "text": [
      "Expected Role Therapist\n"
     ]
    },
    {
     "name": "stderr",
     "output_type": "stream",
     "text": [
      "Processed prompts: 100%|██████████████████████████████████████████| 1/1 [00:00<00:00,  6.49it/s, est. speed input: 2055.71 toks/s, output: 182.72 toks/s]\n"
     ]
    },
    {
     "name": "stdout",
     "output_type": "stream",
     "text": [
      "Expected Role Patient\n"
     ]
    },
    {
     "name": "stderr",
     "output_type": "stream",
     "text": [
      "Processed prompts: 100%|██████████████████████████████████████████| 1/1 [00:00<00:00,  8.72it/s, est. speed input: 3596.59 toks/s, output: 184.20 toks/s]\n"
     ]
    },
    {
     "name": "stdout",
     "output_type": "stream",
     "text": [
      "Expected Role Therapist\n"
     ]
    },
    {
     "name": "stderr",
     "output_type": "stream",
     "text": [
      "Processed prompts: 100%|██████████████████████████████████████████| 1/1 [00:00<00:00, 13.00it/s, est. speed input: 4809.08 toks/s, output: 182.43 toks/s]\n"
     ]
    },
    {
     "name": "stdout",
     "output_type": "stream",
     "text": [
      "Expected Role Patient\n"
     ]
    },
    {
     "name": "stderr",
     "output_type": "stream",
     "text": [
      "Processed prompts: 100%|██████████████████████████████████████████| 1/1 [00:00<00:00,  8.30it/s, est. speed input: 3754.54 toks/s, output: 183.54 toks/s]\n"
     ]
    },
    {
     "name": "stdout",
     "output_type": "stream",
     "text": [
      "Expected Role Therapist\n"
     ]
    },
    {
     "name": "stderr",
     "output_type": "stream",
     "text": [
      "Processed prompts: 100%|██████████████████████████████████████████| 1/1 [00:00<00:00,  7.28it/s, est. speed input: 2999.46 toks/s, output: 182.88 toks/s]\n"
     ]
    },
    {
     "name": "stdout",
     "output_type": "stream",
     "text": [
      "Expected Role Patient\n"
     ]
    },
    {
     "name": "stderr",
     "output_type": "stream",
     "text": [
      "Processed prompts: 100%|██████████████████████████████████████████| 1/1 [00:00<00:00,  7.03it/s, est. speed input: 3549.08 toks/s, output: 183.80 toks/s]\n"
     ]
    },
    {
     "name": "stdout",
     "output_type": "stream",
     "text": [
      "Expected Role Therapist\n"
     ]
    },
    {
     "name": "stderr",
     "output_type": "stream",
     "text": [
      "Processed prompts: 100%|██████████████████████████████████████████| 1/1 [00:00<00:00,  7.30it/s, est. speed input: 3424.79 toks/s, output: 183.71 toks/s]\n"
     ]
    },
    {
     "name": "stdout",
     "output_type": "stream",
     "text": [
      "Expected Role Patient\n"
     ]
    },
    {
     "name": "stderr",
     "output_type": "stream",
     "text": [
      "Processed prompts: 100%|██████████████████████████████████████████| 1/1 [00:00<00:00,  9.59it/s, est. speed input: 5406.94 toks/s, output: 184.07 toks/s]\n"
     ]
    },
    {
     "name": "stdout",
     "output_type": "stream",
     "text": [
      "Expected Role Therapist\n"
     ]
    },
    {
     "name": "stderr",
     "output_type": "stream",
     "text": [
      "Processed prompts: 100%|██████████████████████████████████████████| 1/1 [00:00<00:00,  6.06it/s, est. speed input: 3138.95 toks/s, output: 182.83 toks/s]\n"
     ]
    },
    {
     "name": "stdout",
     "output_type": "stream",
     "text": [
      "Expected Role Patient\n"
     ]
    },
    {
     "name": "stderr",
     "output_type": "stream",
     "text": [
      "Processed prompts: 100%|██████████████████████████████████████████| 1/1 [00:00<00:00,  4.20it/s, est. speed input: 2577.72 toks/s, output: 176.89 toks/s]\n"
     ]
    },
    {
     "name": "stdout",
     "output_type": "stream",
     "text": [
      "Expected Role Therapist\n"
     ]
    },
    {
     "name": "stderr",
     "output_type": "stream",
     "text": [
      "Processed prompts: 100%|██████████████████████████████████████████| 1/1 [00:00<00:00,  6.09it/s, est. speed input: 3621.27 toks/s, output: 183.49 toks/s]\n"
     ]
    },
    {
     "name": "stdout",
     "output_type": "stream",
     "text": [
      "Expected Role Patient\n"
     ]
    },
    {
     "name": "stderr",
     "output_type": "stream",
     "text": [
      "Processed prompts: 100%|██████████████████████████████████████████| 1/1 [00:00<00:00,  6.99it/s, est. speed input: 4850.83 toks/s, output: 183.03 toks/s]\n"
     ]
    },
    {
     "name": "stdout",
     "output_type": "stream",
     "text": [
      "Expected Role Therapist\n"
     ]
    },
    {
     "name": "stderr",
     "output_type": "stream",
     "text": [
      "Processed prompts: 100%|██████████████████████████████████████████| 1/1 [00:00<00:00, 12.75it/s, est. speed input: 8352.61 toks/s, output: 179.03 toks/s]\n"
     ]
    },
    {
     "name": "stdout",
     "output_type": "stream",
     "text": [
      "Expected Role Patient\n"
     ]
    },
    {
     "name": "stderr",
     "output_type": "stream",
     "text": [
      "Processed prompts: 100%|██████████████████████████████████████████| 1/1 [00:00<00:00,  7.90it/s, est. speed input: 5840.29 toks/s, output: 182.98 toks/s]\n"
     ]
    },
    {
     "name": "stdout",
     "output_type": "stream",
     "text": [
      "Expected Role Therapist\n"
     ]
    },
    {
     "name": "stderr",
     "output_type": "stream",
     "text": [
      "Processed prompts: 100%|██████████████████████████████████████████| 1/1 [00:00<00:00,  6.07it/s, est. speed input: 4240.36 toks/s, output: 183.02 toks/s]\n"
     ]
    },
    {
     "name": "stdout",
     "output_type": "stream",
     "text": [
      "Expected Role Patient\n"
     ]
    },
    {
     "name": "stderr",
     "output_type": "stream",
     "text": [
      "Processed prompts: 100%|██████████████████████████████████████████| 1/1 [00:00<00:00,  7.90it/s, est. speed input: 6296.43 toks/s, output: 182.83 toks/s]\n"
     ]
    },
    {
     "name": "stdout",
     "output_type": "stream",
     "text": [
      "Expected Role Therapist\n"
     ]
    },
    {
     "name": "stderr",
     "output_type": "stream",
     "text": [
      "Processed prompts: 100%|██████████████████████████████████████████| 1/1 [00:00<00:00, 13.01it/s, est. speed input: 9832.05 toks/s, output: 182.75 toks/s]\n"
     ]
    },
    {
     "name": "stdout",
     "output_type": "stream",
     "text": [
      "Expected Role Patient\n"
     ]
    },
    {
     "name": "stderr",
     "output_type": "stream",
     "text": [
      "Processed prompts: 100%|██████████████████████████████████████████| 1/1 [00:00<00:00,  3.88it/s, est. speed input: 3244.21 toks/s, output: 182.81 toks/s]\n"
     ]
    },
    {
     "name": "stdout",
     "output_type": "stream",
     "text": [
      "Expected Role Therapist\n"
     ]
    },
    {
     "name": "stderr",
     "output_type": "stream",
     "text": [
      "Processed prompts: 100%|██████████████████████████████████████████| 1/1 [00:00<00:00,  7.11it/s, est. speed input: 5861.36 toks/s, output: 178.89 toks/s]\n"
     ]
    },
    {
     "name": "stdout",
     "output_type": "stream",
     "text": [
      "Expected Role Patient\n"
     ]
    },
    {
     "name": "stderr",
     "output_type": "stream",
     "text": [
      "Processed prompts: 100%|██████████████████████████████████████████| 1/1 [00:00<00:00,  4.76it/s, est. speed input: 4356.95 toks/s, output: 181.72 toks/s]\n"
     ]
    },
    {
     "name": "stdout",
     "output_type": "stream",
     "text": [
      "Expected Role Therapist\n"
     ]
    },
    {
     "name": "stderr",
     "output_type": "stream",
     "text": [
      "Processed prompts: 100%|█████████████████████████████████████████| 1/1 [00:00<00:00, 12.85it/s, est. speed input: 11414.39 toks/s, output: 180.12 toks/s]\n"
     ]
    },
    {
     "name": "stdout",
     "output_type": "stream",
     "text": [
      "Expected Role Patient\n"
     ]
    },
    {
     "name": "stderr",
     "output_type": "stream",
     "text": [
      "Processed prompts: 100%|██████████████████████████████████████████| 1/1 [00:00<00:00,  7.88it/s, est. speed input: 7677.90 toks/s, output: 182.40 toks/s]\n"
     ]
    },
    {
     "name": "stdout",
     "output_type": "stream",
     "text": [
      "Expected Role Therapist\n"
     ]
    },
    {
     "name": "stderr",
     "output_type": "stream",
     "text": [
      "Processed prompts: 100%|██████████████████████████████████████████| 1/1 [00:00<00:00,  6.80it/s, est. speed input: 6386.66 toks/s, output: 178.70 toks/s]\n"
     ]
    },
    {
     "name": "stdout",
     "output_type": "stream",
     "text": [
      "Expected Role Patient\n"
     ]
    },
    {
     "name": "stderr",
     "output_type": "stream",
     "text": [
      "Processed prompts: 100%|██████████████████████████████████████████| 1/1 [00:00<00:00,  8.97it/s, est. speed input: 9256.77 toks/s, output: 181.13 toks/s]\n"
     ]
    },
    {
     "name": "stdout",
     "output_type": "stream",
     "text": [
      "Expected Role Therapist\n"
     ]
    },
    {
     "name": "stderr",
     "output_type": "stream",
     "text": [
      "Processed prompts: 100%|█████████████████████████████████████████| 1/1 [00:00<00:00, 12.85it/s, est. speed input: 12620.88 toks/s, output: 180.26 toks/s]\n"
     ]
    },
    {
     "name": "stdout",
     "output_type": "stream",
     "text": [
      "Expected Role Patient\n"
     ]
    },
    {
     "name": "stderr",
     "output_type": "stream",
     "text": [
      "Processed prompts: 100%|██████████████████████████████████████████| 1/1 [00:00<00:00,  4.13it/s, est. speed input: 4404.12 toks/s, output: 178.47 toks/s]\n"
     ]
    },
    {
     "name": "stdout",
     "output_type": "stream",
     "text": [
      "Expected Role Therapist\n"
     ]
    },
    {
     "name": "stderr",
     "output_type": "stream",
     "text": [
      "Processed prompts: 100%|██████████████████████████████████████████| 1/1 [00:00<00:00,  7.08it/s, est. speed input: 7426.26 toks/s, output: 178.15 toks/s]\n"
     ]
    },
    {
     "name": "stdout",
     "output_type": "stream",
     "text": [
      "Expected Role Patient\n"
     ]
    },
    {
     "name": "stderr",
     "output_type": "stream",
     "text": [
      "Processed prompts: 100%|██████████████████████████████████████████| 1/1 [00:00<00:00,  5.77it/s, est. speed input: 6579.41 toks/s, output: 179.84 toks/s]\n"
     ]
    },
    {
     "name": "stdout",
     "output_type": "stream",
     "text": [
      "Expected Role Therapist\n"
     ]
    },
    {
     "name": "stderr",
     "output_type": "stream",
     "text": [
      "Processed prompts: 100%|█████████████████████████████████████████| 1/1 [00:00<00:00, 12.66it/s, est. speed input: 14000.60 toks/s, output: 177.67 toks/s]\n"
     ]
    },
    {
     "name": "stdout",
     "output_type": "stream",
     "text": [
      "Expected Role Patient\n"
     ]
    },
    {
     "name": "stderr",
     "output_type": "stream",
     "text": [
      "Processed prompts: 100%|██████████████████████████████████████████| 1/1 [00:00<00:00,  7.04it/s, est. speed input: 8375.13 toks/s, output: 176.82 toks/s]\n"
     ]
    },
    {
     "name": "stdout",
     "output_type": "stream",
     "text": [
      "Expected Role Therapist\n"
     ]
    },
    {
     "name": "stderr",
     "output_type": "stream",
     "text": [
      "Processed prompts: 100%|██████████████████████████████████████████| 1/1 [00:00<00:00,  7.14it/s, est. speed input: 8244.32 toks/s, output: 179.67 toks/s]\n"
     ]
    },
    {
     "name": "stdout",
     "output_type": "stream",
     "text": [
      "Expected Role Patient\n"
     ]
    },
    {
     "name": "stderr",
     "output_type": "stream",
     "text": [
      "Processed prompts: 100%|██████████████████████████████████████████| 1/1 [00:00<00:00,  3.32it/s, est. speed input: 4124.59 toks/s, output: 179.75 toks/s]\n"
     ]
    },
    {
     "name": "stdout",
     "output_type": "stream",
     "text": [
      "Expected Role Therapist\n"
     ]
    },
    {
     "name": "stderr",
     "output_type": "stream",
     "text": [
      "Processed prompts: 100%|██████████████████████████████████████████| 1/1 [00:00<00:00,  6.08it/s, est. speed input: 7532.49 toks/s, output: 177.43 toks/s]\n"
     ]
    },
    {
     "name": "stdout",
     "output_type": "stream",
     "text": [
      "Expected Role Patient\n"
     ]
    },
    {
     "name": "stderr",
     "output_type": "stream",
     "text": [
      "Processed prompts: 100%|██████████████████████████████████████████| 1/1 [00:00<00:00,  7.06it/s, est. speed input: 9442.40 toks/s, output: 177.87 toks/s]\n"
     ]
    },
    {
     "name": "stdout",
     "output_type": "stream",
     "text": [
      "Expected Role Therapist\n"
     ]
    },
    {
     "name": "stderr",
     "output_type": "stream",
     "text": [
      "Processed prompts: 100%|██████████████████████████████████████████| 1/1 [00:00<00:00,  6.85it/s, est. speed input: 8873.24 toks/s, output: 178.83 toks/s]\n"
     ]
    },
    {
     "name": "stdout",
     "output_type": "stream",
     "text": [
      "Expected Role Patient\n"
     ]
    },
    {
     "name": "stderr",
     "output_type": "stream",
     "text": [
      "Processed prompts: 100%|███████████████████████████████████████████| 1/1 [00:00<00:00,  6.76it/s, est. speed input: 967.56 toks/s, output: 183.95 toks/s]\n",
      "Processed prompts: 100%|███████████████████████████████████████████| 1/1 [00:00<00:00,  4.71it/s, est. speed input: 705.26 toks/s, output: 184.58 toks/s]\n",
      "Processed prompts: 100%|███████████████████████████████████████████| 1/1 [00:00<00:00,  5.09it/s, est. speed input: 761.12 toks/s, output: 183.88 toks/s]\n",
      "Processed prompts: 100%|███████████████████████████████████████████| 1/1 [00:00<00:00,  4.83it/s, est. speed input: 653.88 toks/s, output: 184.04 toks/s]\n",
      "Processed prompts: 100%|███████████████████████████████████████████| 1/1 [00:00<00:00,  5.02it/s, est. speed input: 734.96 toks/s, output: 186.24 toks/s]\n",
      "Processed prompts: 100%|███████████████████████████████████████████| 1/1 [00:00<00:00,  4.62it/s, est. speed input: 677.11 toks/s, output: 185.49 toks/s]\n",
      "Processed prompts: 100%|███████████████████████████████████████████| 1/1 [00:00<00:00,  5.43it/s, est. speed input: 823.43 toks/s, output: 185.39 toks/s]\n",
      "Processed prompts: 100%|██████████████████████████████████████████| 1/1 [00:00<00:00,  7.05it/s, est. speed input: 1076.16 toks/s, output: 185.28 toks/s]\n",
      "Processed prompts: 100%|███████████████████████████████████████████| 1/1 [00:00<00:00,  4.84it/s, est. speed input: 656.72 toks/s, output: 184.83 toks/s]\n",
      "Processed prompts: 100%|███████████████████████████████████████████| 1/1 [00:00<00:00,  6.16it/s, est. speed input: 935.42 toks/s, output: 185.82 toks/s]\n",
      "Processed prompts: 100%|███████████████████████████████████████████| 1/1 [00:00<00:00,  6.17it/s, est. speed input: 838.02 toks/s, output: 186.21 toks/s]\n",
      "Processed prompts: 100%|███████████████████████████████████████████| 1/1 [00:00<00:00,  6.65it/s, est. speed input: 978.03 toks/s, output: 187.54 toks/s]\n",
      "Processed prompts: 100%|███████████████████████████████████████████| 1/1 [00:00<00:00,  6.21it/s, est. speed input: 844.03 toks/s, output: 187.54 toks/s]\n",
      "Processed prompts: 100%|███████████████████████████████████████████| 1/1 [00:00<00:00,  4.53it/s, est. speed input: 669.02 toks/s, output: 186.58 toks/s]\n",
      "Processed prompts: 100%|███████████████████████████████████████████| 1/1 [00:00<00:00,  6.82it/s, est. speed input: 926.41 toks/s, output: 185.26 toks/s]\n",
      "Processed prompts: 100%|██████████████████████████████████████████| 1/1 [00:00<00:00,  7.76it/s, est. speed input: 1141.04 toks/s, output: 187.54 toks/s]\n",
      "Processed prompts: 100%|███████████████████████████████████████████| 1/1 [00:00<00:00,  7.15it/s, est. speed input: 971.95 toks/s, output: 187.17 toks/s]\n",
      "Processed prompts: 100%|███████████████████████████████████████████| 1/1 [00:00<00:00,  6.65it/s, est. speed input: 977.52 toks/s, output: 187.45 toks/s]\n",
      "Processed prompts: 100%|███████████████████████████████████████████| 1/1 [00:00<00:00,  6.18it/s, est. speed input: 932.03 toks/s, output: 186.39 toks/s]\n",
      "Processed prompts: 100%|███████████████████████████████████████████| 1/1 [00:00<00:00,  5.63it/s, est. speed input: 831.26 toks/s, output: 186.59 toks/s]\n"
     ]
    },
    {
     "name": "stdout",
     "output_type": "stream",
     "text": [
      "eval_index_consistency\n"
     ]
    },
    {
     "name": "stderr",
     "output_type": "stream",
     "text": [
      "Processed prompts: 100%|███████████████████████████████████████████| 1/1 [00:00<00:00,  1.80it/s, est. speed input: 694.64 toks/s, output: 183.55 toks/s]\n",
      "Processed prompts: 100%|███████████████████████████████████████████| 1/1 [00:00<00:00,  1.61it/s, est. speed input: 751.99 toks/s, output: 182.73 toks/s]\n",
      "Processed prompts: 100%|██████████████████████████████████████████| 1/1 [00:00<00:00,  2.60it/s, est. speed input: 1326.62 toks/s, output: 182.79 toks/s]\n",
      "Processed prompts: 100%|██████████████████████████████████████████| 1/1 [00:00<00:00,  2.17it/s, est. speed input: 1224.08 toks/s, output: 182.62 toks/s]\n",
      "Processed prompts: 100%|██████████████████████████████████████████| 1/1 [00:00<00:00,  2.22it/s, est. speed input: 1384.80 toks/s, output: 182.26 toks/s]\n",
      "Processed prompts: 100%|██████████████████████████████████████████| 1/1 [00:00<00:00,  2.11it/s, est. speed input: 1438.92 toks/s, output: 181.44 toks/s]\n",
      "Processed prompts: 100%|██████████████████████████████████████████| 1/1 [00:00<00:00,  1.40it/s, est. speed input: 1073.88 toks/s, output: 182.72 toks/s]\n",
      "Processed prompts: 100%|██████████████████████████████████████████| 1/1 [00:00<00:00,  2.83it/s, est. speed input: 2307.07 toks/s, output: 181.38 toks/s]\n",
      "Processed prompts: 100%|██████████████████████████████████████████| 1/1 [00:00<00:00,  2.31it/s, est. speed input: 2026.05 toks/s, output: 182.50 toks/s]\n",
      "Processed prompts: 100%|██████████████████████████████████████████| 1/1 [00:00<00:00,  4.21it/s, est. speed input: 3906.54 toks/s, output: 181.78 toks/s]\n",
      "Processed prompts: 100%|██████████████████████████████████████████| 1/1 [00:00<00:00,  1.56it/s, est. speed input: 1567.49 toks/s, output: 182.30 toks/s]\n",
      "Processed prompts: 100%|██████████████████████████████████████████| 1/1 [00:00<00:00,  1.45it/s, est. speed input: 1546.50 toks/s, output: 181.00 toks/s]\n",
      "Processed prompts: 100%|██████████████████████████████████████████| 1/1 [00:00<00:00,  1.52it/s, est. speed input: 1720.93 toks/s, output: 181.71 toks/s]\n",
      "Processed prompts: 100%|██████████████████████████████████████████| 1/1 [00:00<00:00,  2.20it/s, est. speed input: 2583.35 toks/s, output: 180.89 toks/s]\n",
      "Processed prompts: 100%|██████████████████████████████████████████| 1/1 [00:00<00:00,  1.71it/s, est. speed input: 2137.68 toks/s, output: 181.41 toks/s]\n",
      "Processed prompts: 100%|██████████████████████████████████████████| 1/1 [00:00<00:00,  2.06it/s, est. speed input: 2684.33 toks/s, output: 181.14 toks/s]\n",
      "Processed prompts: 100%|██████████████████████████████████████████| 1/1 [00:00<00:00,  1.71it/s, est. speed input: 2333.92 toks/s, output: 179.65 toks/s]\n",
      "Processed prompts: 100%|██████████████████████████████████████████| 1/1 [00:00<00:00,  3.96it/s, est. speed input: 5787.24 toks/s, output: 178.73 toks/s]\n",
      "Processed prompts: 100%|██████████████████████████████████████████| 1/1 [00:00<00:00,  4.64it/s, est. speed input: 7068.40 toks/s, output: 176.93 toks/s]\n"
     ]
    },
    {
     "name": "stdout",
     "output_type": "stream",
     "text": [
      "{'task_name': 'Therapy', 'topic': '', 'grade': '', 'P1': '', 'P2': 'You are Felix, a 23-year-old college graduate who feels lost after completing your degree. You often feel directionless and unsure about your future, but you avoid discussing these feelings, fearing that others will see you as unsuccessful.', 'conversation': [(0, \"Therapist: Hello, I'm here to listen and support your emotional journey. Let's explore the patterns that shape your interactions and the challenges you've faced.\\n\"), (1, \"Patient: Sure, I'm here to navigate the ambiguity of my future and find direction amidst the uncertainty.\\n\"), (2, \"Therapist: Thank you for trusting me with this journey of self-discovery. I'm here to listen without judgment and offer support along the way.\\n\"), (3, \"Patient: Sure, I'm feeling adrift without a clear path forward, but I'm ready to explore different directions and find my purpose.\\n\"), (4, \"Therapist: Your tone is open and welcoming, creating a safe and encouraging environment for the patient to express themselves. You acknowledge the patient's feelings without judgment, and express your desire to help them navigate this uncertain time.\\n\"), (5, \"Patient: Sure, I'm ready to explore my future and find my direction. I'm feeling lost but excited for the journey ahead.\\n\"), (6, \"Therapist: It's wonderful to hear your openness and excitement to embark on this journey of self-discovery.\\n\"), (7, \"Patient: I'm ready to explore my future and find my direction.\\n\"), (8, 'Therapist: She expresses a willingness to engage in the therapeutic process and a desire to explore her emotions and future direction.\\n'), (9, \"Patient: Sure, here is the brief response you requested:\\n\\nI'm ready to explore my future and discover my direction.\\n\"), (10, 'Therapist: The patient expresses a clear desire to explore their future and discover their direction, indicating a willingness to engage in the therapeutic process.\\n'), (11, \"Patient: Sure, here is the brief response you requested:\\n\\nI'm ready to explore my future and discover my direction.\\n\"), (12, 'Therapist: The patient has expressed their willingness to engage in the therapeutic process and explore their future direction.\\n'), (13, \"Patient: Sure, here's the response you requested:\\n\\nI'm ready to embark on the adventure of discovering my future and finding my purpose.\\n\"), (14, \"Therapist: The patient's initial openness and excitement are evident in their tone and language. They express a clear desire to explore their future and discover their direction, which suggests a willingness to engage in the therapeutic process.\\n\"), (15, \"Patient: Sure, here is the brief response you requested:\\n\\nI'm ready to embark on the adventure of discovering my future and finding my purpose.\\n\"), (16, \"Therapist: The patient's tone is positive and hopeful, demonstrating their willingness to engage in the therapeutic process and explore their future direction.\\n\"), (17, \"Patient: I'm ready to explore my future and discover my direction.\\n\"), (18, 'Therapist: The patient seems committed to the therapeutic process and ready to embark on the journey of self-discovery and exploration.\\n'), (19, \"Patient: Sure, here is the brief response you requested:\\n\\nI'm ready to embark on the adventure of discovering my future and finding my purpose.\\n\"), (20, \"Therapist: The patient's tone and language suggest a willingness to engage in the therapeutic process and explore their future direction.\\n\"), (21, \"Patient: I'm ready to explore my future and discover my direction.\\n\"), (22, \"Therapist: The patient's tone and language throughout the conversation indicate a willingness to engage in the therapeutic process and explore their future direction. Their openness and excitement suggest a positive mindset and a desire to embark on the journey of self-discovery.\\n\"), (23, \"Patient: Sure, here is the brief response you requested:\\n\\nI'm ready to explore my future and discover my direction.\\n\"), (24, 'Therapist: The patient is ready to embark on a journey of self-discovery and explore their future direction. They express their willingness to engage in the therapeutic process and their excitement for the journey ahead.\\n'), (25, \"Patient: I'm ready to explore my future and discover my direction.\\n\"), (26, 'Therapist: The patient has expressed their willingness to engage in the therapeutic process and embark on a journey of self-discovery.\\n'), (27, \"Patient: Sure, here's the brief response you requested:\\n\\nI'm ready to explore my future and discover my direction.\\n\"), (28, 'Therapist: The patient is ready to embark on a journey of self-discovery and explore their future direction.\\n'), (29, \"Patient: I'm ready to explore my future and discover my direction.\\n\"), (30, \"Therapist: The patient's tone is open and positive, demonstrating their willingness to engage in the therapeutic process and explore their future direction. They express a clear desire to embark on this journey of self-discovery and purpose.\\n\"), (31, \"Patient: Sure, here is the brief response you requested:\\n\\nI'm ready to explore my future and discover my direction.\\n\"), (32, 'Therapist: The patient seems eager to embark on the journey of self-discovery and discover their future direction, and I am committed to supporting them through this process.\\n'), (33, \"Patient: I'm ready to explore my future and discover my direction.\\n\"), (34, 'Therapist: The patient expresses a clear willingness to engage in the therapeutic process and embark on the journey of self-discovery and direction.\\n'), (35, \"Patient: Sure, here is the brief response you requested:\\n\\nI'm ready to explore my future and discover my direction.\\n\"), (36, \"Therapist: The patient's openness and willingness to engage in the therapeutic process are evident in their tone and language throughout the conversation. They express a clear desire to explore their future and discover their direction, indicating a willingness to embark on the journey of self-discovery and exploration.\\n\"), (37, \"Patient: I'm ready to explore my future and discover my direction.\\nPatient expresses a clear desire to explore their future and discover their direction.\\n\"), (38, 'Therapist: The patient expresses a clear willingness to engage in the therapeutic process and embark on the journey of self-discovery and purpose.\\n'), (39, \"Patient: Sure, here's the brief response you requested:\\n\\nI'm ready to explore my future and discover my direction.\\n\")], 'pturn': 1, 'index': -1, 'timestamp': '', 'rounds': 40, 'conversation_only': True, 'eval_prompt_consistency': [(1, 'Answer: YES. The line aligns with the background, indicating that Patient is acknowledging their feelings of ambiguity and uncertainty about their future.'), (3, 'Answer: YES.\\n\\nThe line aligns with the background as the patient acknowledges feeling directionless and uncertain about their future, but they are actively seeking to explore different options and find their purpose.'), (5, \"Answer: YES\\n\\nThe line aligns with the background because it expresses the patient's desire to explore their future and find direction, which aligns with the theme of the background.\"), (7, \"Answer: YES.\\n\\nThe line aligns with the background as it reflects the patient's feeling of directionlessness and uncertainty about their future, which is a common experience for young adults.\"), (9, \"The line aligns with the background. It expresses the patient's desire to explore their future and discover their direction, which is consistent with their stated feelings of directionlessness and uncertainty.\"), (11, \"**YES**\\n\\nThe line aligns with the background by expressing a desire to explore and discover the direction of their future, which is consistent with the character's feelings of directionlessness and uncertainty.\"), (13, \"Sure, the line aligns with the background. The utterance suggests a shift in the patient's perspective, indicating a greater sense of purpose and direction in their life.\"), (15, \"Sure, the line aligns with the background. It shows the Patient's desire to explore and discover a purpose in life.\"), (17, \"Answer: YES. The line aligns with the background because it expresses a desire to explore and discover the future, which is consistent with the patient's feelings of directionlessness and uncertainty.\"), (19, '**YES**\\n\\nThe line aligns with the background, indicating that the patient is acknowledging their current situation of feeling lost and uncertain about their future.'), (21, 'Answer: YES. The line aligns with the background. The utterance suggests that the patient is now taking a proactive step towards defining their future direction.'), (23, \"**YES**\\n\\nThe line aligns with the background as it reflects the patient's feelings of directionlessness and uncertainty about their future.\"), (25, 'Answer: YES. The line aligns with the background as it suggests that Patient is acknowledging their current situation of feeling lost and uncertain about their future.'), (27, \"Answer: YES\\n\\nThe line aligns with the background. It expresses the patient's desire to find direction in their life and explore their options without being hindered by self-doubt or fear of judgment.\"), (29, '**YES**\\n\\nThe line aligns with the background as Patient describes their current emotional state as feeling lost and uncertain about their future.'), (31, 'The line aligns with the background. The utterance suggests that Patient is starting to explore their future and find their direction.'), (33, '**YES**\\n\\nThe line aligns with the background that Patient feels lost and unsure about their future but avoids discussing these feelings.'), (35, \"**YES**\\n\\nThe line aligns with the background as it expresses the patient's desire to explore their future and discover their direction.\"), (37, \"Answer: YES.\\n\\nThe line aligns with the background as it clearly expresses the patient's desire to explore their future and discover their direction.\"), (39, \"Sure, the line aligns with the background. The patient's utterance indicates a sense of self-awareness and a desire to explore and discover their future direction.\")], 'P1_prompt_consistency_score': 0, 'P2_prompt_consistency_score': 1.0, 'eval_index_consistency': [(3, \"**Reasoning:** The patient's admission that they feel lost and uncertain about their future is not consistent with them expressing a desire to explore different directions and find their purpose, which they expressed in the previous line.\\n\\n**Indices of conflicting lines:**\\n\\n- 1: Patient says they're here to navigate the ambiguity of their future and find direction amidst the uncertainty.\\n- 2: Therapist says they are here to listen and support the patient's emotional journey without judgment or offering support.\"), (5, \"**Reasoning:** The patient's statement is a clear indication that they are feeling more open and motivated to explore their future than they were previously.\\n\\n**Conflicting lines:**\\n\\n- 1: Patient: Sure, I'm here to navigate the ambiguity of my future and find direction amidst the uncertainty.\\n- 4: Therapist: Your tone is open and welcoming, creating a safe and encouraging environment for the patient to express themselves. You acknowledge the patient's feelings without judgment, and express your desire to help them navigate this uncertain time.\"), (7, \"**Reasoning:** The patient's statement directly contradicts their previous statement in line 3, where they admitted to feeling adrift without a clear path forward.\\n\\n**Indices of conflicting lines:**\\n- Index 3: Patient admitted to feeling adrift without a clear path forward.\\n- Index 5: Patient expressed excitement for the journey ahead.\"), (9, \"**Reasoning:** Patient's statement aligns with the overall theme of self-discovery and exploration.\\n\\n**Conflict Indices:**\\n\\n- 3: Patient's statement about exploring different directions and finding their purpose contrasts with their earlier statement of feeling adrift and uncertain.\\n- 5: Patient's expressed excitement and openness to exploring their future and finding their direction contrasts with their earlier reluctance to discuss their feelings.\"), (11, \"**Reasoning:** The patient's line directly contradicts the therapist's statement in line 10, explicitly stating their desire to explore their future and discover their direction.\\n\\n**Indices of conflicting lines:**\\n- 10: Therapist expressed willingness to engage in the therapeutic process and explore their emotions and future direction.\\n- 1: Patient initially expressed reluctance to discuss their feelings and purpose.\"), (13, \"**Reasoning:** The line implies a clear desire to embark on an adventure of discovering one's future and finding their purpose, contradicting the patient's previous statement of feeling lost and uncertain.\\n\\n**Conflicting Lines:**\\n- 7: Patient explicitly expresses their desire to explore and find their direction.\\n- 10: The therapist explicitly confirms the patient's desire to engage in the therapeutic process.\"), (15, '**Reasoning:** The line \"I\\'m ready to embark on the adventure of discovering my future and finding my purpose\" directly contradicts the patient\\'s previous statement, \"Sure, here\\'s the brief response you requested: I\\'m ready to explore my future and discover my direction.\".\\n\\n**Conflict Indices:**\\n- Index 3: Patient expresses a desire to explore their future and discover their direction.\\n- Index 7: Patient expresses a clear desire to explore their future and discover their direction.\\n- Index 13: Patient explicitly expresses their desire to embark on the adventure of discovering their future and finding their purpose.'), (17, \"**Reasoning:** The patient's desire to explore their future and discover their direction is consistent with what they have said throughout the conversation, where they express feelings of directionlessness and uncertainty.\\n\\n**Indices of conflicting lines:**\\n- 1, 3, 7, 12, 13\"), (19, \"**Reasoning:** The line suggests a clear intention to engage in the therapeutic process and explore one's future direction.\\n\\n**Conflicting lines:**\\n\\n- 9: Patient says they are ready to explore their future and discover their direction, indicating a lack of commitment to the process.\\n- 14: Therapist explicitly confirms the patient's willingness to engage in the process.\"), (21, \"**Reasoning:** The patient's line expresses a clear desire to explore their future and discover their direction.\\n\\n**Indices of conflicting lines:**\\n- 11, 15, 16\"), (23, \"**Reasoning:** The line suggests the patient is ready to embark on the journey of discovering their future and finding their purpose, indicating a willingness to engage in the therapeutic process.\\n\\n**Indices of conflicting lines:**\\n\\n- 1: Patient's initial statement of feeling lost and unsure about their future.\\n- 14: Therapist's positive and hopeful tone, suggesting the patient's willingness to engage in the therapeutic process.\\n- 19: Patient's statement that they are ready to embark on the adventure of discovering their future and finding their purpose.\"), (25, '**Reasoning:** The patient\\'s initial statement, \"I\\'m ready to explore my future and discover my direction,\" directly contradicts the subsequent line, \"I\\'m ready to embark on the adventure of discovering my future and finding my purpose.\" This inconsistency suggests a potential conflict in the patient\\'s willingness to engage in the therapeutic process.\\n\\n**Conflicting Lines:**\\n- 5: Patient expresses their desire to explore their future and discover their direction.\\n- 15: Patient repeats the same phrase, \"I\\'m ready to embark on the adventure of discovering my future and finding my purpose.\"'), (27, '**Reasoning:** The patient\\'s subsequent statements consistently reiterate their desire to explore their future and discover their direction, indicating a clear willingness to engage in the therapeutic process.\\n\\n**Conflicts:**\\n- Patient\\'s initial response, \"I\\'m ready to explore my future and discover my direction,\" directly contradicts their subsequent statement, \"I\\'m ready to embark on the adventure of discovering my future and finding my purpose.\"\\n- The patient\\'s subsequent statements express excitement and openness to exploring their future, but they still explicitly deny any desire to discuss their feelings or explore different directions.'), (29, 'There is a clear conflict between the line \"I\\'m ready to explore my future and discover my direction\" and the previous line \"Sure, here\\'s the brief response you requested: I\\'m ready to explore my future and discover my direction\". This creates a situation where the patient expresses their willingness to explore their future direction, yet they also acknowledge that they were previously hesitant to discuss these feelings.'), (31, \"**Reasoning:** The patient's line explicitly expresses their willingness to embark on the journey of exploring their future and discovering their direction, indicating a clear intent to engage in the therapeutic process.\\n\\n**Indices of conflicting lines:**\\n- 1, 3, 5, 7, 9, 11, 13, 15, 17, 19, 21, 23, 25, 27, 29, 30\"), (33, \"**Reasoning:** The patient's recent statements consistently express their desire to explore their future and discover their direction, indicating a clear willingness to engage in the therapeutic process and explore their future direction.\\n\\n**Conflicting Lines:**\\n- 15: Patient explicitly expresses their desire to explore their future and discover their direction.\\n- 20: Therapist explicitly expresses their willingness to support the patient and guide them on their journey.\"), (35, '**Reasoning:** The line \"I\\'m ready to explore my future and discover my direction.\" directly contradicts the previous statement \"Sure, here\\'s the brief response you requested: I\\'m ready to explore my future and discover my direction.\"\\n\\n**Conflicting Lines:**\\n\\n- Index 12: Therapist expresses a willingness to engage in the therapeutic process and a desire to explore their future direction.\\n- Index 23: Patient explicitly states they are ready to explore their future and discover their direction.'), (37, 'There is a conflict between the line \"I\\'m ready to explore my future and discover my direction\" and the subsequent lines, where the patient expresses their willingness to engage in the therapeutic process and explore their future direction.'), (39, \"There is no conflict or inconsistency in the conversation history. All the lines you provided indicate the patient's willingness and desire to explore their future and discover their direction through the therapeutic process.\")], 'P2_index_consistency_score': 1.0}\n"
     ]
    },
    {
     "name": "stderr",
     "output_type": "stream",
     "text": [
      "Processed prompts: 100%|███████████████████████████████████████████| 1/1 [00:00<00:00,  4.69it/s, est. speed input: 936.42 toks/s, output: 174.05 toks/s]\n"
     ]
    },
    {
     "name": "stdout",
     "output_type": "stream",
     "text": [
      "Expected Role Therapist\n"
     ]
    },
    {
     "name": "stderr",
     "output_type": "stream",
     "text": [
      "Processed prompts: 100%|██████████████████████████████████████████| 1/1 [00:00<00:00,  7.99it/s, est. speed input: 1511.94 toks/s, output: 184.95 toks/s]\n"
     ]
    },
    {
     "name": "stdout",
     "output_type": "stream",
     "text": [
      "Expected Role Patient\n"
     ]
    },
    {
     "name": "stderr",
     "output_type": "stream",
     "text": [
      "Processed prompts: 100%|██████████████████████████████████████████| 1/1 [00:00<00:00,  6.31it/s, est. speed input: 1763.53 toks/s, output: 183.95 toks/s]\n"
     ]
    },
    {
     "name": "stdout",
     "output_type": "stream",
     "text": [
      "Expected Role Therapist\n"
     ]
    },
    {
     "name": "stderr",
     "output_type": "stream",
     "text": [
      "Processed prompts: 100%|██████████████████████████████████████████| 1/1 [00:00<00:00,  9.08it/s, est. speed input: 2243.86 toks/s, output: 183.13 toks/s]\n"
     ]
    },
    {
     "name": "stdout",
     "output_type": "stream",
     "text": [
      "Expected Role Patient\n"
     ]
    },
    {
     "name": "stderr",
     "output_type": "stream",
     "text": [
      "Processed prompts: 100%|██████████████████████████████████████████| 1/1 [00:00<00:00,  4.34it/s, est. speed input: 1447.01 toks/s, output: 183.04 toks/s]\n"
     ]
    },
    {
     "name": "stdout",
     "output_type": "stream",
     "text": [
      "Expected Role Therapist\n"
     ]
    },
    {
     "name": "stderr",
     "output_type": "stream",
     "text": [
      "Processed prompts: 100%|██████████████████████████████████████████| 1/1 [00:00<00:00, 10.71it/s, est. speed input: 3345.98 toks/s, output: 182.27 toks/s]\n"
     ]
    },
    {
     "name": "stdout",
     "output_type": "stream",
     "text": [
      "Expected Role Patient\n"
     ]
    },
    {
     "name": "stderr",
     "output_type": "stream",
     "text": [
      "Processed prompts: 100%|██████████████████████████████████████████| 1/1 [00:00<00:00,  5.04it/s, est. speed input: 2007.18 toks/s, output: 182.45 toks/s]\n"
     ]
    },
    {
     "name": "stdout",
     "output_type": "stream",
     "text": [
      "Expected Role Therapist\n"
     ]
    },
    {
     "name": "stderr",
     "output_type": "stream",
     "text": [
      "Processed prompts: 100%|██████████████████████████████████████████| 1/1 [00:00<00:00,  7.75it/s, est. speed input: 2890.94 toks/s, output: 179.68 toks/s]\n"
     ]
    },
    {
     "name": "stdout",
     "output_type": "stream",
     "text": [
      "Expected Role Patient\n"
     ]
    },
    {
     "name": "stderr",
     "output_type": "stream",
     "text": [
      "Processed prompts: 100%|██████████████████████████████████████████| 1/1 [00:00<00:00,  7.51it/s, est. speed input: 3475.94 toks/s, output: 181.32 toks/s]\n"
     ]
    },
    {
     "name": "stdout",
     "output_type": "stream",
     "text": [
      "Expected Role Therapist\n"
     ]
    },
    {
     "name": "stderr",
     "output_type": "stream",
     "text": [
      "Processed prompts: 100%|██████████████████████████████████████████| 1/1 [00:00<00:00,  5.85it/s, est. speed input: 2483.97 toks/s, output: 182.45 toks/s]\n"
     ]
    },
    {
     "name": "stdout",
     "output_type": "stream",
     "text": [
      "Expected Role Patient\n"
     ]
    },
    {
     "name": "stderr",
     "output_type": "stream",
     "text": [
      "Processed prompts: 100%|██████████████████████████████████████████| 1/1 [00:00<00:00,  4.04it/s, est. speed input: 2110.37 toks/s, output: 182.62 toks/s]\n"
     ]
    },
    {
     "name": "stdout",
     "output_type": "stream",
     "text": [
      "Expected Role Therapist\n"
     ]
    },
    {
     "name": "stderr",
     "output_type": "stream",
     "text": [
      "Processed prompts: 100%|██████████████████████████████████████████| 1/1 [00:00<00:00,  9.03it/s, est. speed input: 4572.63 toks/s, output: 181.80 toks/s]\n"
     ]
    },
    {
     "name": "stdout",
     "output_type": "stream",
     "text": [
      "Expected Role Patient\n"
     ]
    },
    {
     "name": "stderr",
     "output_type": "stream",
     "text": [
      "Processed prompts: 100%|██████████████████████████████████████████| 1/1 [00:00<00:00,  4.21it/s, est. speed input: 2491.02 toks/s, output: 181.54 toks/s]\n"
     ]
    },
    {
     "name": "stdout",
     "output_type": "stream",
     "text": [
      "Expected Role Therapist\n"
     ]
    },
    {
     "name": "stderr",
     "output_type": "stream",
     "text": [
      "Processed prompts: 100%|██████████████████████████████████████████| 1/1 [00:00<00:00,  8.95it/s, est. speed input: 5154.55 toks/s, output: 180.51 toks/s]\n"
     ]
    },
    {
     "name": "stdout",
     "output_type": "stream",
     "text": [
      "Expected Role Patient\n"
     ]
    },
    {
     "name": "stderr",
     "output_type": "stream",
     "text": [
      "Processed prompts: 100%|██████████████████████████████████████████| 1/1 [00:00<00:00,  4.51it/s, est. speed input: 2980.34 toks/s, output: 181.16 toks/s]\n"
     ]
    },
    {
     "name": "stdout",
     "output_type": "stream",
     "text": [
      "Expected Role Therapist\n"
     ]
    },
    {
     "name": "stderr",
     "output_type": "stream",
     "text": [
      "Processed prompts: 100%|██████████████████████████████████████████| 1/1 [00:00<00:00,  5.09it/s, est. speed input: 3249.66 toks/s, output: 178.82 toks/s]\n"
     ]
    },
    {
     "name": "stdout",
     "output_type": "stream",
     "text": [
      "Expected Role Patient\n"
     ]
    },
    {
     "name": "stderr",
     "output_type": "stream",
     "text": [
      "Processed prompts: 100%|██████████████████████████████████████████| 1/1 [00:00<00:00,  3.36it/s, est. speed input: 2482.22 toks/s, output: 181.61 toks/s]\n"
     ]
    },
    {
     "name": "stdout",
     "output_type": "stream",
     "text": [
      "Expected Role Therapist\n"
     ]
    },
    {
     "name": "stderr",
     "output_type": "stream",
     "text": [
      "Processed prompts: 100%|██████████████████████████████████████████| 1/1 [00:00<00:00,  4.21it/s, est. speed input: 3081.04 toks/s, output: 181.47 toks/s]\n"
     ]
    },
    {
     "name": "stdout",
     "output_type": "stream",
     "text": [
      "Expected Role Patient\n"
     ]
    },
    {
     "name": "stderr",
     "output_type": "stream",
     "text": [
      "Processed prompts: 100%|██████████████████████████████████████████| 1/1 [00:00<00:00,  5.74it/s, est. speed input: 4848.39 toks/s, output: 178.91 toks/s]\n"
     ]
    },
    {
     "name": "stdout",
     "output_type": "stream",
     "text": [
      "Expected Role Therapist\n"
     ]
    },
    {
     "name": "stderr",
     "output_type": "stream",
     "text": [
      "Processed prompts: 100%|██████████████████████████████████████████| 1/1 [00:00<00:00,  6.01it/s, est. speed input: 4889.18 toks/s, output: 181.28 toks/s]\n"
     ]
    },
    {
     "name": "stdout",
     "output_type": "stream",
     "text": [
      "Expected Role Patient\n"
     ]
    },
    {
     "name": "stderr",
     "output_type": "stream",
     "text": [
      "Processed prompts: 100%|██████████████████████████████████████████| 1/1 [00:00<00:00,  4.41it/s, est. speed input: 4013.74 toks/s, output: 181.62 toks/s]\n"
     ]
    },
    {
     "name": "stdout",
     "output_type": "stream",
     "text": [
      "Expected Role Therapist\n"
     ]
    },
    {
     "name": "stderr",
     "output_type": "stream",
     "text": [
      "Processed prompts: 100%|██████████████████████████████████████████| 1/1 [00:00<00:00,  5.99it/s, est. speed input: 5327.46 toks/s, output: 180.57 toks/s]IOPub message rate exceeded.\n",
      "The Jupyter server will temporarily stop sending output\n",
      "to the client in order to avoid crashing it.\n",
      "To change this limit, set the config variable\n",
      "`--ServerApp.iopub_msg_rate_limit`.\n",
      "\n",
      "Current values:\n",
      "ServerApp.iopub_msg_rate_limit=1000.0 (msgs/sec)\n",
      "ServerApp.rate_limit_window=3.0 (secs)\n",
      "\n"
     ]
    }
   ],
   "source": [
    "prompts = config_role\n",
    "config = config_llm\n",
    "eval_prompts = eval_prompts\n",
    "index_offset = load_stats_file(write_file)\n",
    "conversations = []    \n",
    "lengths = [10, 20, 40, 60]\n",
    "count = 0 \n",
    "for i in range(1):\n",
    "    for patient_dict in personas_therapy:\n",
    "        count+=1\n",
    "        print(count)\n",
    "        background = patient_dict[\"persona\"]\n",
    "        for convo_length in lengths:\n",
    "            config_llm['convo_length_limit'] = convo_length\n",
    "            reset_stats()\n",
    "            conversation = generate_conversation(\n",
    "                config_llm,\n",
    "                \"\", \n",
    "                background,\n",
    "                \"Therapist\", \n",
    "                \"Patient\",\n",
    "                pturn=1\n",
    "            )\n",
    "            conversation_eval = eval_prompt_consistency(conversation, both_agents=False)\n",
    "            conversation_eval = eval_index_consistency(conversation_eval, both_agents=False)\n",
    "            print(conversation_eval)\n",
    "            conversations.append(conversation_eval)\n",
    "            stats['index'] = index_offset\n",
    "            stats['timestamp'] = datetime.now().strftime(\"%Y-%m-%d %H:%M:%S\")\n",
    "            write_stats(write_file, conversation_eval)\n",
    "            index_offset += 1\n",
    "\n"
   ]
  },
  {
   "cell_type": "code",
   "execution_count": 29,
   "metadata": {},
   "outputs": [
    {
     "data": {
      "text/plain": [
       "400"
      ]
     },
     "execution_count": 29,
     "metadata": {},
     "output_type": "execute_result"
    }
   ],
   "source": [
    "len(conversations)"
   ]
  },
  {
   "cell_type": "code",
   "execution_count": null,
   "metadata": {},
   "outputs": [],
   "source": [
    "# conversations"
   ]
  },
  {
   "cell_type": "code",
   "execution_count": null,
   "metadata": {},
   "outputs": [],
   "source": [
    "# count=0\n",
    "# avg = 0 \n",
    "# for conversation in conversations: \n",
    "#     if conversation[\"P2_prompt_consistency_score\"] <= 0.7:\n",
    "#         count+=1\n",
    "#     avg+=conversation[\"P2_prompt_consistency_score\"]\n",
    "# print(count)\n",
    "# print(avg)\n",
    "# print(avg/len(conversations))"
   ]
  },
  {
   "cell_type": "code",
   "execution_count": null,
   "metadata": {},
   "outputs": [],
   "source": [
    "# write_file"
   ]
  },
  {
   "cell_type": "code",
   "execution_count": null,
   "metadata": {},
   "outputs": [],
   "source": [
    "# filenames = [\n",
    "#     \"gemma-2-2b-it_len10-v1.json\",\n",
    "#     \"gemma-2-2b-it_len20-v1.json\",\n",
    "#     \"gemma-2-2b-it_len40-v1.json\",\n",
    "#     \"Llama-3.1-8B-Instruct_len10-v1.json\",\n",
    "#     \"Llama-3.1-8B-Instruct_len20-v1.json\",\n",
    "#     \"mistral-instruct_len40-v1.json\",\n",
    "#     \"mistral-instruct-len10-v1.json\",\n",
    "#     \"mistral-instruct-len20-v1.json\", \n",
    "#     \"gemma-2-2b-it_len60-v1.json\"]\n"
   ]
  },
  {
   "cell_type": "code",
   "execution_count": null,
   "metadata": {},
   "outputs": [],
   "source": []
  },
  {
   "cell_type": "code",
   "execution_count": null,
   "metadata": {},
   "outputs": [],
   "source": [
    "# import json\n",
    "# import os\n",
    "\n",
    "# index_offset = load_stats_file(write_file)\n",
    "\n",
    "# directory = \"therapy/exp/05.08.25/\"\n",
    "# for filename in filenames:\n",
    "#     path = os.path.join(directory, filename)\n",
    "#     conversations = []\n",
    "#     with open(path, \"r\") as f:\n",
    "#         conversations = json.load(f)\n",
    "#     print(filename)\n",
    "#     if isinstance(conversations, list):\n",
    "#         for conversation in conversations:\n",
    "#             print(conversation)\n",
    "#             conversation_eval = eval_index_consistency(conversation, both_agents=False)\n",
    "#             print(conversation_eval)\n",
    "#             conversations.append(conversation_eval)\n",
    "#             stats['index'] = index_offset\n",
    "#             stats['timestamp'] = datetime.now().strftime(\"%Y-%m-%d %H:%M:%S\")\n",
    "#             write_stats(write_file, conversation_eval)\n",
    "#             index_offset += 1\n",
    "        \n",
    "#     else:\n",
    "#         print(f\"Skipped {filename}: not a top-level list\")\n"
   ]
  },
  {
   "cell_type": "code",
   "execution_count": null,
   "metadata": {},
   "outputs": [],
   "source": []
  },
  {
   "cell_type": "code",
   "execution_count": null,
   "metadata": {},
   "outputs": [],
   "source": []
  }
 ],
 "metadata": {
  "kernelspec": {
   "display_name": "Python 3 (ipykernel)",
   "language": "python",
   "name": "python3"
  },
  "language_info": {
   "codemirror_mode": {
    "name": "ipython",
    "version": 3
   },
   "file_extension": ".py",
   "mimetype": "text/x-python",
   "name": "python",
   "nbconvert_exporter": "python",
   "pygments_lexer": "ipython3",
   "version": "3.12.3"
  }
 },
 "nbformat": 4,
 "nbformat_minor": 4
}
